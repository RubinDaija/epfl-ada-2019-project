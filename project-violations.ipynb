{
  "nbformat": 4,
  "nbformat_minor": 0,
  "metadata": {
    "kernelspec": {
      "name": "python3",
      "display_name": "Python 3"
    },
    "colab": {
      "name": "project.ipynb",
      "provenance": [],
      "include_colab_link": true
    },
    "accelerator": "GPU"
  },
  "cells": [
    {
      "cell_type": "markdown",
      "metadata": {
        "id": "view-in-github",
        "colab_type": "text"
      },
      "source": [
        "<a href=\"https://colab.research.google.com/github/RubinDaija/epfl-ada-2019-project/blob/master/project-violations.ipynb\" target=\"_parent\"><img src=\"https://colab.research.google.com/assets/colab-badge.svg\" alt=\"Open In Colab\"/></a>"
      ]
    },
    {
      "cell_type": "markdown",
      "metadata": {
        "id": "-Tvl9ABtLcXB",
        "colab_type": "text"
      },
      "source": [
        "# **Necessary Imports**"
      ]
    },
    {
      "cell_type": "code",
      "metadata": {
        "id": "y8CsC8G1r9hy",
        "colab_type": "code",
        "colab": {}
      },
      "source": [
        "%matplotlib inline\n",
        "import pandas as pd\n",
        "import numpy as np\n",
        "import re\n",
        "from matplotlib.ticker import MaxNLocator\n",
        "import matplotlib.pyplot as plt\n",
        "from scipy import stats\n",
        "from folium.plugins import MarkerCluster\n",
        "import warnings\n",
        "import folium\n",
        "import zipfile"
      ],
      "execution_count": 0,
      "outputs": []
    },
    {
      "cell_type": "code",
      "metadata": {
        "id": "cG_XvNn-r9h3",
        "colab_type": "code",
        "outputId": "ade0f972-e891-40d0-9b46-283d7fb67345",
        "colab": {
          "base_uri": "https://localhost:8080/",
          "height": 55
        }
      },
      "source": [
        "# ---------- Only to be run the first time the data set is uploaded ---------- #\n",
        "# Reads from compressed folder, drops the irrelevant columns, and outputs the new data to a new file called food_inspections.csv\n",
        "\n",
        "'''\n",
        "zf = zipfile.ZipFile('chicago-food-inspections.zip')\n",
        "dblp = pd.read_csv(zf.open('chicago-food-inspections/food-inspections.csv'))\n",
        "dblp = dblp.drop(['AKA Name', 'Address','City','State','Location','Historical Wards 2003-2015','Zip Codes','Community Areas','Census Tracts','Wards'], axis=1)\n",
        "dblp.to_csv(r'food_inspections.csv')\n",
        "'''"
      ],
      "execution_count": 333,
      "outputs": [
        {
          "output_type": "execute_result",
          "data": {
            "text/plain": [
              "\"\\nzf = zipfile.ZipFile('chicago-food-inspections.zip')\\ndblp = pd.read_csv(zf.open('chicago-food-inspections/food-inspections.csv'))\\ndblp = dblp.drop(['AKA Name', 'Address','City','State','Location','Historical Wards 2003-2015','Zip Codes','Community Areas','Census Tracts','Wards'], axis=1)\\ndblp.to_csv(r'food_inspections.csv')\\n\""
            ]
          },
          "metadata": {
            "tags": []
          },
          "execution_count": 333
        }
      ]
    },
    {
      "cell_type": "code",
      "metadata": {
        "id": "W-StO1Nyr9h5",
        "colab_type": "code",
        "outputId": "859d73e3-53c9-4c48-ece1-5ee5f4d73006",
        "colab": {
          "base_uri": "https://localhost:8080/",
          "height": 35
        }
      },
      "source": [
        "#-- Uncomment this if using Jupyter Lab / Comment this if using Google Colab --#\n",
        "'''\n",
        "zf = zipfile.ZipFile('chicago_dropped.zip')\n",
        "df = pd.read_csv(zf.open('chicago_dropped/food_inspections.csv'))\n",
        "'''"
      ],
      "execution_count": 334,
      "outputs": [
        {
          "output_type": "execute_result",
          "data": {
            "text/plain": [
              "\"\\nzf = zipfile.ZipFile('chicago_dropped.zip')\\ndf = pd.read_csv(zf.open('chicago_dropped/food_inspections.csv'))\\n\""
            ]
          },
          "metadata": {
            "tags": []
          },
          "execution_count": 334
        }
      ]
    },
    {
      "cell_type": "code",
      "metadata": {
        "id": "8yt1F6q7r-9A",
        "colab_type": "code",
        "colab": {}
      },
      "source": [
        "#-- Uncomment this if using Google Colab / Comment this if using Jupyter Lab --# \n",
        "# Code to read csv file into Colaboratory:\n",
        "!pip install -U -q PyDrive\n",
        "from pydrive.auth import GoogleAuth\n",
        "from pydrive.drive import GoogleDrive\n",
        "from google.colab import auth\n",
        "from oauth2client.client import GoogleCredentials\n",
        "# Authenticate and create the PyDrive client.\n",
        "auth.authenticate_user()\n",
        "gauth = GoogleAuth()\n",
        "gauth.credentials = GoogleCredentials.get_application_default()\n",
        "drive = GoogleDrive(gauth)"
      ],
      "execution_count": 0,
      "outputs": []
    },
    {
      "cell_type": "code",
      "metadata": {
        "id": "jHy9hpAStUMi",
        "colab_type": "code",
        "outputId": "802d3025-4310-48a6-ee67-151ecc4b6563",
        "colab": {
          "base_uri": "https://localhost:8080/",
          "height": 35
        }
      },
      "source": [
        "#-- Uncomment this if using Google Colab / Comment this if using Jupyter Lab --# \n",
        "link = 'https://drive.google.com/open?id=1CZBOo69ZtuFxCvLzz9B8Cs0tXpuVj0ko' # The shareable link\n",
        "fluff, id = link.split('=')\n",
        "print (id) # Verify that you have everything after '='\n",
        "\n",
        "downloaded = drive.CreateFile({'id':id}) \n",
        "downloaded.GetContentFile('food_inspections.csv')  \n",
        "df = pd.read_csv('food_inspections.csv')\n",
        "\n",
        "# Dataset is now stored in a Pandas Dataframe"
      ],
      "execution_count": 336,
      "outputs": [
        {
          "output_type": "stream",
          "text": [
            "1CZBOo69ZtuFxCvLzz9B8Cs0tXpuVj0ko\n"
          ],
          "name": "stdout"
        }
      ]
    },
    {
      "cell_type": "markdown",
      "metadata": {
        "id": "gqj0Hrh3Loi1",
        "colab_type": "text"
      },
      "source": [
        "# **Preprocessing**"
      ]
    },
    {
      "cell_type": "markdown",
      "metadata": {
        "id": "SEdfP33jr9iD",
        "colab_type": "text"
      },
      "source": [
        "We realized that we will use Facility Type in most of our analysis, so we decided to drop the rows that are missing Facility Type, i.e. NaN valued rows:\n"
      ]
    },
    {
      "cell_type": "code",
      "metadata": {
        "id": "wPYufzBer9iA",
        "colab_type": "code",
        "outputId": "a0a3779f-de8b-408f-b78c-906281733e4c",
        "colab": {
          "base_uri": "https://localhost:8080/",
          "height": 52
        }
      },
      "source": [
        "# Cleaning the data set: removing NaN valued rows in Facility Type\n",
        "print(\"Number of rows before removing NaNs: \" + str(df['Facility Type'].size))\n",
        "df.dropna(subset=['Facility Type'], inplace=True)\n",
        "print(\"Number of rows after removing NaNs: \" + str(df['Facility Type'].size))\n",
        "df.reset_index(drop=True, inplace=True)"
      ],
      "execution_count": 337,
      "outputs": [
        {
          "output_type": "stream",
          "text": [
            "Number of rows before removing NaNs: 192914\n",
            "Number of rows after removing NaNs: 192914\n"
          ],
          "name": "stdout"
        }
      ]
    },
    {
      "cell_type": "markdown",
      "metadata": {
        "id": "drw-tZwuLzE4",
        "colab_type": "text"
      },
      "source": [
        "We decided to remove the rows that have \"Not Ready\" as their Results value, since this value cannot be categorized as fail/pass:"
      ]
    },
    {
      "cell_type": "code",
      "metadata": {
        "id": "5gij1L5pr9iE",
        "colab_type": "code",
        "outputId": "cdcc719d-d2bc-4b2e-a701-3121b4d9ad56",
        "colab": {
          "base_uri": "https://localhost:8080/",
          "height": 52
        }
      },
      "source": [
        "# Cleaning the data set: removing the rows with \"Not Ready\" as their Results value\n",
        "print(\"Number of rows before removing Not Ready values: \" + str(df.size))\n",
        "df = df[~df.Results.str.contains(\"Not Ready\")]\n",
        "print(\"Number of rows after removing Not Ready values: \" + str(df.size))"
      ],
      "execution_count": 338,
      "outputs": [
        {
          "output_type": "stream",
          "text": [
            "Number of rows before removing Not Ready values: 4244108\n",
            "Number of rows after removing Not Ready values: 4203364\n"
          ],
          "name": "stdout"
        }
      ]
    },
    {
      "cell_type": "code",
      "metadata": {
        "id": "lmtxzbbTr9iH",
        "colab_type": "code",
        "outputId": "b30d1fe2-f482-40dd-b933-4362f1b0d6a8",
        "colab": {
          "base_uri": "https://localhost:8080/",
          "height": 612
        }
      },
      "source": [
        "# Data set after the preprocessing operations above\n",
        "df.reset_index().head()"
      ],
      "execution_count": 339,
      "outputs": [
        {
          "output_type": "execute_result",
          "data": {
            "text/html": [
              "<div>\n",
              "<style scoped>\n",
              "    .dataframe tbody tr th:only-of-type {\n",
              "        vertical-align: middle;\n",
              "    }\n",
              "\n",
              "    .dataframe tbody tr th {\n",
              "        vertical-align: top;\n",
              "    }\n",
              "\n",
              "    .dataframe thead th {\n",
              "        text-align: right;\n",
              "    }\n",
              "</style>\n",
              "<table border=\"1\" class=\"dataframe\">\n",
              "  <thead>\n",
              "    <tr style=\"text-align: right;\">\n",
              "      <th></th>\n",
              "      <th>index</th>\n",
              "      <th>Inspection ID</th>\n",
              "      <th>DBA Name</th>\n",
              "      <th>AKA Name</th>\n",
              "      <th>License #</th>\n",
              "      <th>Facility Type</th>\n",
              "      <th>Risk</th>\n",
              "      <th>Address</th>\n",
              "      <th>City</th>\n",
              "      <th>State</th>\n",
              "      <th>Zip</th>\n",
              "      <th>Inspection Date</th>\n",
              "      <th>Inspection Type</th>\n",
              "      <th>Results</th>\n",
              "      <th>Violations</th>\n",
              "      <th>Latitude</th>\n",
              "      <th>Longitude</th>\n",
              "      <th>Location</th>\n",
              "      <th>Historical Wards 2003-2015</th>\n",
              "      <th>Zip Codes</th>\n",
              "      <th>Community Areas</th>\n",
              "      <th>Census Tracts</th>\n",
              "      <th>Wards</th>\n",
              "    </tr>\n",
              "  </thead>\n",
              "  <tbody>\n",
              "    <tr>\n",
              "      <th>0</th>\n",
              "      <td>0</td>\n",
              "      <td>2352683</td>\n",
              "      <td>CHIPOTLE MEXICAN GRILL</td>\n",
              "      <td>CHIPOTLE MEXICAN GRILL</td>\n",
              "      <td>2670642.0</td>\n",
              "      <td>RESTAURANT</td>\n",
              "      <td>Risk 1 (High)</td>\n",
              "      <td>1025 W ADDISON ST</td>\n",
              "      <td>CHICAGO</td>\n",
              "      <td>IL</td>\n",
              "      <td>60613.0</td>\n",
              "      <td>2019-12-04T00:00:00.000</td>\n",
              "      <td>LICENSE</td>\n",
              "      <td>Pass w/ Conditions</td>\n",
              "      <td>3. MANAGEMENT, FOOD EMPLOYEE AND CONDITIONAL E...</td>\n",
              "      <td>41.947118</td>\n",
              "      <td>-87.655381</td>\n",
              "      <td>{'latitude': '-87.6553811622124', 'longitude':...</td>\n",
              "      <td>NaN</td>\n",
              "      <td>NaN</td>\n",
              "      <td>NaN</td>\n",
              "      <td>NaN</td>\n",
              "      <td>NaN</td>\n",
              "    </tr>\n",
              "    <tr>\n",
              "      <th>1</th>\n",
              "      <td>1</td>\n",
              "      <td>2352734</td>\n",
              "      <td>CHILIS T-I</td>\n",
              "      <td>CHILI'S (T1-B14)</td>\n",
              "      <td>34169.0</td>\n",
              "      <td>RESTAURANT</td>\n",
              "      <td>Risk 1 (High)</td>\n",
              "      <td>11601 W TOUHY AVE</td>\n",
              "      <td>CHICAGO</td>\n",
              "      <td>IL</td>\n",
              "      <td>60666.0</td>\n",
              "      <td>2019-12-04T00:00:00.000</td>\n",
              "      <td>CANVASS</td>\n",
              "      <td>Pass</td>\n",
              "      <td>10. ADEQUATE HANDWASHING SINKS PROPERLY SUPPLI...</td>\n",
              "      <td>42.008536</td>\n",
              "      <td>-87.914428</td>\n",
              "      <td>{'latitude': '-87.91442843927047', 'longitude'...</td>\n",
              "      <td>NaN</td>\n",
              "      <td>NaN</td>\n",
              "      <td>NaN</td>\n",
              "      <td>NaN</td>\n",
              "      <td>NaN</td>\n",
              "    </tr>\n",
              "    <tr>\n",
              "      <th>2</th>\n",
              "      <td>2</td>\n",
              "      <td>2352701</td>\n",
              "      <td>TAQUERIA BLUE LINE</td>\n",
              "      <td>NaN</td>\n",
              "      <td>2703436.0</td>\n",
              "      <td>RESTAURANT</td>\n",
              "      <td>Risk 1 (High)</td>\n",
              "      <td>3401 W BELMONT AVE</td>\n",
              "      <td>CHICAGO</td>\n",
              "      <td>IL</td>\n",
              "      <td>60618.0</td>\n",
              "      <td>2019-12-04T00:00:00.000</td>\n",
              "      <td>LICENSE</td>\n",
              "      <td>Pass w/ Conditions</td>\n",
              "      <td>3. MANAGEMENT, FOOD EMPLOYEE AND CONDITIONAL E...</td>\n",
              "      <td>41.939168</td>\n",
              "      <td>-87.712546</td>\n",
              "      <td>{'latitude': '-87.71254599117191', 'longitude'...</td>\n",
              "      <td>NaN</td>\n",
              "      <td>NaN</td>\n",
              "      <td>NaN</td>\n",
              "      <td>NaN</td>\n",
              "      <td>NaN</td>\n",
              "    </tr>\n",
              "    <tr>\n",
              "      <th>3</th>\n",
              "      <td>3</td>\n",
              "      <td>2352727</td>\n",
              "      <td>PORTAGE PARK DAY NURSERY</td>\n",
              "      <td>MOSAIC EARLY CHILDHOOD ACADEMY</td>\n",
              "      <td>2215815.0</td>\n",
              "      <td>DAYCARE</td>\n",
              "      <td>Risk 1 (High)</td>\n",
              "      <td>5332-5334 W ADDISON ST</td>\n",
              "      <td>CHICAGO</td>\n",
              "      <td>IL</td>\n",
              "      <td>60641.0</td>\n",
              "      <td>2019-12-04T00:00:00.000</td>\n",
              "      <td>CANVASS</td>\n",
              "      <td>Pass</td>\n",
              "      <td>NaN</td>\n",
              "      <td>41.946065</td>\n",
              "      <td>-87.760722</td>\n",
              "      <td>{'latitude': '-87.76072227616888', 'longitude'...</td>\n",
              "      <td>NaN</td>\n",
              "      <td>NaN</td>\n",
              "      <td>NaN</td>\n",
              "      <td>NaN</td>\n",
              "      <td>NaN</td>\n",
              "    </tr>\n",
              "    <tr>\n",
              "      <th>4</th>\n",
              "      <td>4</td>\n",
              "      <td>2352738</td>\n",
              "      <td>AMARIT RESTAURANT</td>\n",
              "      <td>AMARIT RESTAURANT</td>\n",
              "      <td>1801618.0</td>\n",
              "      <td>RESTAURANT</td>\n",
              "      <td>Risk 1 (High)</td>\n",
              "      <td>600 S DEARBORN ST</td>\n",
              "      <td>CHICAGO</td>\n",
              "      <td>IL</td>\n",
              "      <td>60605.0</td>\n",
              "      <td>2019-12-04T00:00:00.000</td>\n",
              "      <td>CANVASS</td>\n",
              "      <td>Pass</td>\n",
              "      <td>NaN</td>\n",
              "      <td>41.874481</td>\n",
              "      <td>-87.629357</td>\n",
              "      <td>{'latitude': '-87.62935653990546', 'longitude'...</td>\n",
              "      <td>NaN</td>\n",
              "      <td>NaN</td>\n",
              "      <td>NaN</td>\n",
              "      <td>NaN</td>\n",
              "      <td>NaN</td>\n",
              "    </tr>\n",
              "  </tbody>\n",
              "</table>\n",
              "</div>"
            ],
            "text/plain": [
              "   index  Inspection ID  ... Census Tracts Wards\n",
              "0      0        2352683  ...           NaN   NaN\n",
              "1      1        2352734  ...           NaN   NaN\n",
              "2      2        2352701  ...           NaN   NaN\n",
              "3      3        2352727  ...           NaN   NaN\n",
              "4      4        2352738  ...           NaN   NaN\n",
              "\n",
              "[5 rows x 23 columns]"
            ]
          },
          "metadata": {
            "tags": []
          },
          "execution_count": 339
        }
      ]
    },
    {
      "cell_type": "markdown",
      "metadata": {
        "id": "9kXYokaeMLcJ",
        "colab_type": "text"
      },
      "source": [
        "We removed the rows that have any value of Risk other than 1-3 and converted Risk values to only a numeric value:"
      ]
    },
    {
      "cell_type": "code",
      "metadata": {
        "id": "HqZ9JipUr9iL",
        "colab_type": "code",
        "outputId": "b41698f4-0fde-4abb-a374-a94194e327a7",
        "colab": {
          "base_uri": "https://localhost:8080/",
          "height": 612
        }
      },
      "source": [
        "# Cleaning the data set: removing rows with Risk value other than 1-3\n",
        "df = df[df.Risk.str.contains(\"[1-3]\",na=False)]\n",
        "# Converting Risk value to numeric\n",
        "df['Risk'] = df.Risk.apply(lambda x: int(x.strip('Risk')[1]))\n",
        "df.head()"
      ],
      "execution_count": 340,
      "outputs": [
        {
          "output_type": "execute_result",
          "data": {
            "text/html": [
              "<div>\n",
              "<style scoped>\n",
              "    .dataframe tbody tr th:only-of-type {\n",
              "        vertical-align: middle;\n",
              "    }\n",
              "\n",
              "    .dataframe tbody tr th {\n",
              "        vertical-align: top;\n",
              "    }\n",
              "\n",
              "    .dataframe thead th {\n",
              "        text-align: right;\n",
              "    }\n",
              "</style>\n",
              "<table border=\"1\" class=\"dataframe\">\n",
              "  <thead>\n",
              "    <tr style=\"text-align: right;\">\n",
              "      <th></th>\n",
              "      <th>Inspection ID</th>\n",
              "      <th>DBA Name</th>\n",
              "      <th>AKA Name</th>\n",
              "      <th>License #</th>\n",
              "      <th>Facility Type</th>\n",
              "      <th>Risk</th>\n",
              "      <th>Address</th>\n",
              "      <th>City</th>\n",
              "      <th>State</th>\n",
              "      <th>Zip</th>\n",
              "      <th>Inspection Date</th>\n",
              "      <th>Inspection Type</th>\n",
              "      <th>Results</th>\n",
              "      <th>Violations</th>\n",
              "      <th>Latitude</th>\n",
              "      <th>Longitude</th>\n",
              "      <th>Location</th>\n",
              "      <th>Historical Wards 2003-2015</th>\n",
              "      <th>Zip Codes</th>\n",
              "      <th>Community Areas</th>\n",
              "      <th>Census Tracts</th>\n",
              "      <th>Wards</th>\n",
              "    </tr>\n",
              "  </thead>\n",
              "  <tbody>\n",
              "    <tr>\n",
              "      <th>0</th>\n",
              "      <td>2352683</td>\n",
              "      <td>CHIPOTLE MEXICAN GRILL</td>\n",
              "      <td>CHIPOTLE MEXICAN GRILL</td>\n",
              "      <td>2670642.0</td>\n",
              "      <td>RESTAURANT</td>\n",
              "      <td>1</td>\n",
              "      <td>1025 W ADDISON ST</td>\n",
              "      <td>CHICAGO</td>\n",
              "      <td>IL</td>\n",
              "      <td>60613.0</td>\n",
              "      <td>2019-12-04T00:00:00.000</td>\n",
              "      <td>LICENSE</td>\n",
              "      <td>Pass w/ Conditions</td>\n",
              "      <td>3. MANAGEMENT, FOOD EMPLOYEE AND CONDITIONAL E...</td>\n",
              "      <td>41.947118</td>\n",
              "      <td>-87.655381</td>\n",
              "      <td>{'latitude': '-87.6553811622124', 'longitude':...</td>\n",
              "      <td>NaN</td>\n",
              "      <td>NaN</td>\n",
              "      <td>NaN</td>\n",
              "      <td>NaN</td>\n",
              "      <td>NaN</td>\n",
              "    </tr>\n",
              "    <tr>\n",
              "      <th>1</th>\n",
              "      <td>2352734</td>\n",
              "      <td>CHILIS T-I</td>\n",
              "      <td>CHILI'S (T1-B14)</td>\n",
              "      <td>34169.0</td>\n",
              "      <td>RESTAURANT</td>\n",
              "      <td>1</td>\n",
              "      <td>11601 W TOUHY AVE</td>\n",
              "      <td>CHICAGO</td>\n",
              "      <td>IL</td>\n",
              "      <td>60666.0</td>\n",
              "      <td>2019-12-04T00:00:00.000</td>\n",
              "      <td>CANVASS</td>\n",
              "      <td>Pass</td>\n",
              "      <td>10. ADEQUATE HANDWASHING SINKS PROPERLY SUPPLI...</td>\n",
              "      <td>42.008536</td>\n",
              "      <td>-87.914428</td>\n",
              "      <td>{'latitude': '-87.91442843927047', 'longitude'...</td>\n",
              "      <td>NaN</td>\n",
              "      <td>NaN</td>\n",
              "      <td>NaN</td>\n",
              "      <td>NaN</td>\n",
              "      <td>NaN</td>\n",
              "    </tr>\n",
              "    <tr>\n",
              "      <th>2</th>\n",
              "      <td>2352701</td>\n",
              "      <td>TAQUERIA BLUE LINE</td>\n",
              "      <td>NaN</td>\n",
              "      <td>2703436.0</td>\n",
              "      <td>RESTAURANT</td>\n",
              "      <td>1</td>\n",
              "      <td>3401 W BELMONT AVE</td>\n",
              "      <td>CHICAGO</td>\n",
              "      <td>IL</td>\n",
              "      <td>60618.0</td>\n",
              "      <td>2019-12-04T00:00:00.000</td>\n",
              "      <td>LICENSE</td>\n",
              "      <td>Pass w/ Conditions</td>\n",
              "      <td>3. MANAGEMENT, FOOD EMPLOYEE AND CONDITIONAL E...</td>\n",
              "      <td>41.939168</td>\n",
              "      <td>-87.712546</td>\n",
              "      <td>{'latitude': '-87.71254599117191', 'longitude'...</td>\n",
              "      <td>NaN</td>\n",
              "      <td>NaN</td>\n",
              "      <td>NaN</td>\n",
              "      <td>NaN</td>\n",
              "      <td>NaN</td>\n",
              "    </tr>\n",
              "    <tr>\n",
              "      <th>3</th>\n",
              "      <td>2352727</td>\n",
              "      <td>PORTAGE PARK DAY NURSERY</td>\n",
              "      <td>MOSAIC EARLY CHILDHOOD ACADEMY</td>\n",
              "      <td>2215815.0</td>\n",
              "      <td>DAYCARE</td>\n",
              "      <td>1</td>\n",
              "      <td>5332-5334 W ADDISON ST</td>\n",
              "      <td>CHICAGO</td>\n",
              "      <td>IL</td>\n",
              "      <td>60641.0</td>\n",
              "      <td>2019-12-04T00:00:00.000</td>\n",
              "      <td>CANVASS</td>\n",
              "      <td>Pass</td>\n",
              "      <td>NaN</td>\n",
              "      <td>41.946065</td>\n",
              "      <td>-87.760722</td>\n",
              "      <td>{'latitude': '-87.76072227616888', 'longitude'...</td>\n",
              "      <td>NaN</td>\n",
              "      <td>NaN</td>\n",
              "      <td>NaN</td>\n",
              "      <td>NaN</td>\n",
              "      <td>NaN</td>\n",
              "    </tr>\n",
              "    <tr>\n",
              "      <th>4</th>\n",
              "      <td>2352738</td>\n",
              "      <td>AMARIT RESTAURANT</td>\n",
              "      <td>AMARIT RESTAURANT</td>\n",
              "      <td>1801618.0</td>\n",
              "      <td>RESTAURANT</td>\n",
              "      <td>1</td>\n",
              "      <td>600 S DEARBORN ST</td>\n",
              "      <td>CHICAGO</td>\n",
              "      <td>IL</td>\n",
              "      <td>60605.0</td>\n",
              "      <td>2019-12-04T00:00:00.000</td>\n",
              "      <td>CANVASS</td>\n",
              "      <td>Pass</td>\n",
              "      <td>NaN</td>\n",
              "      <td>41.874481</td>\n",
              "      <td>-87.629357</td>\n",
              "      <td>{'latitude': '-87.62935653990546', 'longitude'...</td>\n",
              "      <td>NaN</td>\n",
              "      <td>NaN</td>\n",
              "      <td>NaN</td>\n",
              "      <td>NaN</td>\n",
              "      <td>NaN</td>\n",
              "    </tr>\n",
              "  </tbody>\n",
              "</table>\n",
              "</div>"
            ],
            "text/plain": [
              "   Inspection ID                  DBA Name  ... Census Tracts  Wards\n",
              "0        2352683    CHIPOTLE MEXICAN GRILL  ...           NaN    NaN\n",
              "1        2352734                CHILIS T-I  ...           NaN    NaN\n",
              "2        2352701        TAQUERIA BLUE LINE  ...           NaN    NaN\n",
              "3        2352727  PORTAGE PARK DAY NURSERY  ...           NaN    NaN\n",
              "4        2352738         AMARIT RESTAURANT  ...           NaN    NaN\n",
              "\n",
              "[5 rows x 22 columns]"
            ]
          },
          "metadata": {
            "tags": []
          },
          "execution_count": 340
        }
      ]
    },
    {
      "cell_type": "markdown",
      "metadata": {
        "id": "rwciHwtmNDoj",
        "colab_type": "text"
      },
      "source": [
        "We removed the parantheses in Facility Type entries, as some entries can be unified into the same category this way, such as (restaurant) and restaurant:"
      ]
    },
    {
      "cell_type": "code",
      "metadata": {
        "id": "jJ9IpYFqr9iN",
        "colab_type": "code",
        "colab": {}
      },
      "source": [
        "# More preprocessing: removing the parantheses in Facility Type entries\n",
        "df['Facility Type'] = df['Facility Type'].str.lower()\n",
        "df['Facility Type'] = df['Facility Type'].str.replace('[()]', '')"
      ],
      "execution_count": 0,
      "outputs": []
    },
    {
      "cell_type": "code",
      "metadata": {
        "id": "RhfP-SNZr9iP",
        "colab_type": "code",
        "outputId": "a941f84f-754f-420c-a03b-56ae1efe660d",
        "colab": {
          "base_uri": "https://localhost:8080/",
          "height": 55
        }
      },
      "source": [
        "# TODO : Grocery Store and Restaurant are going to be unified\n",
        "'''\n",
        "dp = df[df['Facility Type'].str.contains(\"grocery\") & df['Facility Type'].str.contains(\"restaurant\")]\n",
        "dp.loc[:,'Facility Type'] = 'grocery and restaurant'\n",
        "df = df[~df['Facility Type'].str.contains(\"grocery\") & df['Facility Type'].str.contains(\"restaurant\")]\n",
        "'''\n",
        "#df = df.append(dp,ignore_index=False)\n"
      ],
      "execution_count": 342,
      "outputs": [
        {
          "output_type": "execute_result",
          "data": {
            "text/plain": [
              "'\\ndp = df[df[\\'Facility Type\\'].str.contains(\"grocery\") & df[\\'Facility Type\\'].str.contains(\"restaurant\")]\\ndp.loc[:,\\'Facility Type\\'] = \\'grocery and restaurant\\'\\ndf = df[~df[\\'Facility Type\\'].str.contains(\"grocery\") & df[\\'Facility Type\\'].str.contains(\"restaurant\")]\\n'"
            ]
          },
          "metadata": {
            "tags": []
          },
          "execution_count": 342
        }
      ]
    },
    {
      "cell_type": "markdown",
      "metadata": {
        "id": "N_D_0xcgOQgx",
        "colab_type": "text"
      },
      "source": [
        "# **Data Analysis**"
      ]
    },
    {
      "cell_type": "markdown",
      "metadata": {
        "id": "p8evugJae-ZT",
        "colab_type": "text"
      },
      "source": [
        "### **Number of Unique Facilities**"
      ]
    },
    {
      "cell_type": "code",
      "metadata": {
        "id": "beW4DumFfDkS",
        "colab_type": "code",
        "outputId": "7dc71d5a-8c87-43c1-ef42-65a329f7f645",
        "colab": {
          "base_uri": "https://localhost:8080/",
          "height": 0
        }
      },
      "source": [
        "df_unique = df.groupby(['Latitude','Longitude','DBA Name']).count()\n",
        "print(\"Number of unique facilities: \" + str(df_unique.shape[0]))"
      ],
      "execution_count": 343,
      "outputs": [
        {
          "output_type": "stream",
          "text": [
            "Number of unique facilities: 27025\n"
          ],
          "name": "stdout"
        }
      ]
    },
    {
      "cell_type": "markdown",
      "metadata": {
        "id": "Z8_DWQ9xr9iW",
        "colab_type": "text"
      },
      "source": [
        "### **Facility Type vs. Average Risk**\n"
      ]
    },
    {
      "cell_type": "markdown",
      "metadata": {
        "id": "2NYPWCi6PEV0",
        "colab_type": "text"
      },
      "source": [
        "We analyzed the relationship between the type of facility and the average risk of that facility over all inspections:"
      ]
    },
    {
      "cell_type": "code",
      "metadata": {
        "id": "rj-CxjLpr9iR",
        "colab_type": "code",
        "colab": {}
      },
      "source": [
        "# Aggregate data over Facility Type\n",
        "grouped_fac = df.groupby('Facility Type')"
      ],
      "execution_count": 0,
      "outputs": []
    },
    {
      "cell_type": "code",
      "metadata": {
        "id": "9EsVpnqxr9iT",
        "colab_type": "code",
        "outputId": "c985339e-cd0b-4c92-b69b-1f05a7500a22",
        "colab": {
          "base_uri": "https://localhost:8080/",
          "height": 0
        }
      },
      "source": [
        "# Compute average risk of each type of facility\n",
        "grouped_fac_risk_mean = pd.DataFrame(grouped_fac['Risk'].mean()).reset_index()\n",
        "grouped_fac_risk_mean.head()"
      ],
      "execution_count": 345,
      "outputs": [
        {
          "output_type": "execute_result",
          "data": {
            "text/html": [
              "<div>\n",
              "<style scoped>\n",
              "    .dataframe tbody tr th:only-of-type {\n",
              "        vertical-align: middle;\n",
              "    }\n",
              "\n",
              "    .dataframe tbody tr th {\n",
              "        vertical-align: top;\n",
              "    }\n",
              "\n",
              "    .dataframe thead th {\n",
              "        text-align: right;\n",
              "    }\n",
              "</style>\n",
              "<table border=\"1\" class=\"dataframe\">\n",
              "  <thead>\n",
              "    <tr style=\"text-align: right;\">\n",
              "      <th></th>\n",
              "      <th>Facility Type</th>\n",
              "      <th>Risk</th>\n",
              "    </tr>\n",
              "  </thead>\n",
              "  <tbody>\n",
              "    <tr>\n",
              "      <th>0</th>\n",
              "      <td>adult family care center</td>\n",
              "      <td>1.000000</td>\n",
              "    </tr>\n",
              "    <tr>\n",
              "      <th>1</th>\n",
              "      <td>airport lounge</td>\n",
              "      <td>1.500000</td>\n",
              "    </tr>\n",
              "    <tr>\n",
              "      <th>2</th>\n",
              "      <td>art gallery</td>\n",
              "      <td>3.000000</td>\n",
              "    </tr>\n",
              "    <tr>\n",
              "      <th>3</th>\n",
              "      <td>assisted living/nursing home</td>\n",
              "      <td>1.000000</td>\n",
              "    </tr>\n",
              "    <tr>\n",
              "      <th>4</th>\n",
              "      <td>bakery</td>\n",
              "      <td>1.626168</td>\n",
              "    </tr>\n",
              "  </tbody>\n",
              "</table>\n",
              "</div>"
            ],
            "text/plain": [
              "                  Facility Type      Risk\n",
              "0      adult family care center  1.000000\n",
              "1                airport lounge  1.500000\n",
              "2                   art gallery  3.000000\n",
              "3  assisted living/nursing home  1.000000\n",
              "4                        bakery  1.626168"
            ]
          },
          "metadata": {
            "tags": []
          },
          "execution_count": 345
        }
      ]
    },
    {
      "cell_type": "code",
      "metadata": {
        "id": "dCJRNes4PwB1",
        "colab_type": "code",
        "colab": {}
      },
      "source": [
        "# TODO: unify the entries with 1023 as one type of facility"
      ],
      "execution_count": 0,
      "outputs": []
    },
    {
      "cell_type": "code",
      "metadata": {
        "scrolled": true,
        "id": "UTR_QVrtr9iX",
        "colab_type": "code",
        "outputId": "1b49feb1-ecad-4014-87ba-ffc9199160c0",
        "colab": {
          "base_uri": "https://localhost:8080/",
          "height": 0
        }
      },
      "source": [
        "# Compute number of facilities in each type of facility\n",
        "fac_dist = pd.DataFrame(grouped_fac.count()['Risk']).rename(columns={'Risk':'Counts'}).sort_values(by='Counts',ascending=False).reset_index()\n",
        "print(\"Number of different types of facilities :\" + str(fac_dist.size))\n",
        "fac_dist.head(100)"
      ],
      "execution_count": 347,
      "outputs": [
        {
          "output_type": "stream",
          "text": [
            "Number of different types of facilities :238\n"
          ],
          "name": "stdout"
        },
        {
          "output_type": "execute_result",
          "data": {
            "text/html": [
              "<div>\n",
              "<style scoped>\n",
              "    .dataframe tbody tr th:only-of-type {\n",
              "        vertical-align: middle;\n",
              "    }\n",
              "\n",
              "    .dataframe tbody tr th {\n",
              "        vertical-align: top;\n",
              "    }\n",
              "\n",
              "    .dataframe thead th {\n",
              "        text-align: right;\n",
              "    }\n",
              "</style>\n",
              "<table border=\"1\" class=\"dataframe\">\n",
              "  <thead>\n",
              "    <tr style=\"text-align: right;\">\n",
              "      <th></th>\n",
              "      <th>Facility Type</th>\n",
              "      <th>Counts</th>\n",
              "    </tr>\n",
              "  </thead>\n",
              "  <tbody>\n",
              "    <tr>\n",
              "      <th>0</th>\n",
              "      <td>restaurant</td>\n",
              "      <td>130782</td>\n",
              "    </tr>\n",
              "    <tr>\n",
              "      <th>1</th>\n",
              "      <td>retail store</td>\n",
              "      <td>25367</td>\n",
              "    </tr>\n",
              "    <tr>\n",
              "      <th>2</th>\n",
              "      <td>school</td>\n",
              "      <td>12308</td>\n",
              "    </tr>\n",
              "    <tr>\n",
              "      <th>3</th>\n",
              "      <td>daycare</td>\n",
              "      <td>9503</td>\n",
              "    </tr>\n",
              "    <tr>\n",
              "      <th>4</th>\n",
              "      <td>bakery</td>\n",
              "      <td>2889</td>\n",
              "    </tr>\n",
              "    <tr>\n",
              "      <th>...</th>\n",
              "      <td>...</td>\n",
              "      <td>...</td>\n",
              "    </tr>\n",
              "    <tr>\n",
              "      <th>95</th>\n",
              "      <td>lounge</td>\n",
              "      <td>2</td>\n",
              "    </tr>\n",
              "    <tr>\n",
              "      <th>96</th>\n",
              "      <td>blockbuster video</td>\n",
              "      <td>2</td>\n",
              "    </tr>\n",
              "    <tr>\n",
              "      <th>97</th>\n",
              "      <td>boys and girls club</td>\n",
              "      <td>2</td>\n",
              "    </tr>\n",
              "    <tr>\n",
              "      <th>98</th>\n",
              "      <td>childern activity facility</td>\n",
              "      <td>2</td>\n",
              "    </tr>\n",
              "    <tr>\n",
              "      <th>99</th>\n",
              "      <td>event venu</td>\n",
              "      <td>2</td>\n",
              "    </tr>\n",
              "  </tbody>\n",
              "</table>\n",
              "<p>100 rows × 2 columns</p>\n",
              "</div>"
            ],
            "text/plain": [
              "                 Facility Type  Counts\n",
              "0                   restaurant  130782\n",
              "1                 retail store   25367\n",
              "2                       school   12308\n",
              "3                      daycare    9503\n",
              "4                       bakery    2889\n",
              "..                         ...     ...\n",
              "95                      lounge       2\n",
              "96           blockbuster video       2\n",
              "97         boys and girls club       2\n",
              "98  childern activity facility       2\n",
              "99                  event venu       2\n",
              "\n",
              "[100 rows x 2 columns]"
            ]
          },
          "metadata": {
            "tags": []
          },
          "execution_count": 347
        }
      ]
    },
    {
      "cell_type": "markdown",
      "metadata": {
        "id": "ZBPvbW_CYMPj",
        "colab_type": "text"
      },
      "source": [
        "When we plotted the number of facilities in each type of facility vs. their average risk score, we observed no correlation between the two. We observed that the facility type with the highest number of facilities (i.e. restaurant) has a very high average risk score:"
      ]
    },
    {
      "cell_type": "markdown",
      "metadata": {
        "id": "eVZEtg_iXrnc",
        "colab_type": "text"
      },
      "source": [
        "### **Facility Type Distribution**"
      ]
    },
    {
      "cell_type": "markdown",
      "metadata": {
        "id": "7-3nrh5PXIbv",
        "colab_type": "text"
      },
      "source": [
        "From the bar plot below, we can clearly observe the skewed distribution in Facility Type. Most of our data consists of restaurant, grocery store, and school types of facilities:"
      ]
    },
    {
      "cell_type": "code",
      "metadata": {
        "id": "TDqfH9CZS9Ws",
        "colab_type": "code",
        "outputId": "36a87bec-a925-49be-c8c1-7be4619f607c",
        "colab": {
          "base_uri": "https://localhost:8080/",
          "height": 0
        }
      },
      "source": [
        "plt.barh(fac_dist.head(15)['Facility Type'],fac_dist.head(15)['Counts'])"
      ],
      "execution_count": 348,
      "outputs": [
        {
          "output_type": "execute_result",
          "data": {
            "text/plain": [
              "<BarContainer object of 15 artists>"
            ]
          },
          "metadata": {
            "tags": []
          },
          "execution_count": 348
        },
        {
          "output_type": "display_data",
          "data": {
            "image/png": "[encoded data removed]",
            "text/plain": [
              "<Figure size 432x288 with 1 Axes>"
            ]
          },
          "metadata": {
            "tags": []
          }
        }
      ]
    },
    {
      "cell_type": "markdown",
      "metadata": {
        "id": "CKLyGPdMYipy",
        "colab_type": "text"
      },
      "source": [
        "### **Number of Facilities in a Type vs. Average Risk Score**"
      ]
    },
    {
      "cell_type": "code",
      "metadata": {
        "id": "byAJr65ir9iZ",
        "colab_type": "code",
        "outputId": "38404848-11a8-40e4-d5e6-56dfb77f83ad",
        "colab": {
          "base_uri": "https://localhost:8080/",
          "height": 0
        }
      },
      "source": [
        "# Perform inner merge on number of facilities and their risk scores \n",
        "merged_inner = pd.merge(left=fac_dist,right=grouped_fac_risk_mean,left_on='Facility Type',right_on='Facility Type')\n",
        "# Scatter plot: number of facilities in each type (i.e. facility type) vs. average risk score\n",
        "merged_inner.plot.scatter(x='Counts', y='Risk')"
      ],
      "execution_count": 349,
      "outputs": [
        {
          "output_type": "execute_result",
          "data": {
            "text/plain": [
              "<matplotlib.axes._subplots.AxesSubplot at 0x7feecc1d58d0>"
            ]
          },
          "metadata": {
            "tags": []
          },
          "execution_count": 349
        },
        {
          "output_type": "display_data",
          "data": {
            "image/png": "[encoded data removed]",
            "text/plain": [
              "<Figure size 432x288 with 1 Axes>"
            ]
          },
          "metadata": {
            "tags": []
          }
        }
      ]
    },
    {
      "cell_type": "markdown",
      "metadata": {
        "id": "8-RqdwUPr9id",
        "colab_type": "text"
      },
      "source": [
        "We realized that the dataset is unbalanced in terms of number of Facility Types, where there are some Facility Types with very few instances. The types of facilities with very few instances would provide us with little to no information. Hence, we decided to analyze the 50 most frequent type of facilities and drop the others:"
      ]
    },
    {
      "cell_type": "code",
      "metadata": {
        "id": "8OU47lhMr9ie",
        "colab_type": "code",
        "outputId": "cf08fdd5-1a81-4067-c671-241c4e55c137",
        "colab": {
          "base_uri": "https://localhost:8080/",
          "height": 0
        }
      },
      "source": [
        "print(\"Number of entries before removing facility types with few instances: \" + str(df.size))\n",
        "df = df[df['Facility Type'].isin(list(fac_dist['Facility Type'])[:50])]\n",
        "print(\"Number of entries after removing facility types with few instances: \" + str(df.size))"
      ],
      "execution_count": 350,
      "outputs": [
        {
          "output_type": "stream",
          "text": [
            "Number of entries before removing facility types with few instances: 4202484\n",
            "Number of entries after removing facility types with few instances: 4197446\n"
          ],
          "name": "stdout"
        }
      ]
    },
    {
      "cell_type": "markdown",
      "metadata": {
        "id": "DZzu7EOQr9ig",
        "colab_type": "text"
      },
      "source": [
        "As we can see from the code above, there are around 20 thousand facilities that dont have as much inspections as the others. As a result, data set is more balanced now"
      ]
    },
    {
      "cell_type": "markdown",
      "metadata": {
        "id": "rvahQqzeYxPm",
        "colab_type": "text"
      },
      "source": [
        "### **Out of Business Facilities on Map**"
      ]
    },
    {
      "cell_type": "code",
      "metadata": {
        "id": "E80y45xOr9ih",
        "colab_type": "code",
        "outputId": "faeca0de-1aa0-4018-8d87-d6829a3672b2",
        "colab": {
          "base_uri": "https://localhost:8080/",
          "height": 0
        }
      },
      "source": [
        "# Out of business facilities\n",
        "df_oob = df[df.Results.str.contains(\"Out of Business\",na=False)]\n",
        "df_oob\n",
        "# Grouped by the facilities\n",
        "df_oob_unique = df_oob.groupby(['Latitude','Longitude','DBA Name', 'License #']).count()\n",
        "df_oob_unique.shape"
      ],
      "execution_count": 351,
      "outputs": [
        {
          "output_type": "execute_result",
          "data": {
            "text/plain": [
              "(13287, 18)"
            ]
          },
          "metadata": {
            "tags": []
          },
          "execution_count": 351
        }
      ]
    },
    {
      "cell_type": "markdown",
      "metadata": {
        "id": "-nJM5570tGrV",
        "colab_type": "text"
      },
      "source": [
        "We mapped the facilities that have gone out of business to identify any possible pattern:"
      ]
    },
    {
      "cell_type": "code",
      "metadata": {
        "id": "48p6tnK6r9ik",
        "colab_type": "code",
        "outputId": "a705ef9c-d438-4d0c-c79b-f85c9e9e4e32",
        "colab": {
          "base_uri": "https://localhost:8080/",
          "height": 0
        }
      },
      "source": [
        "'''\n",
        "# Map the facilities that have gone out of business \n",
        "map_oob = folium.Map(\n",
        "    location=[41.8781, -87.6298],\n",
        "    zoom_start=9\n",
        ")\n",
        "\n",
        "# We take 5000 samples to view on the map\n",
        "# TODO: take randomized samples / visualize the whole data\n",
        "marker_cluster = MarkerCluster().add_to(map_oob)\n",
        "ranges = 0\n",
        "for i in df_oob_unique.index:\n",
        "    if ranges == 5000:\n",
        "        break\n",
        "    folium.Marker([(i[0]), (i[1])]).add_to(marker_cluster)        \n",
        "    ranges = ranges + 1\n",
        "\n",
        "map_oob\n",
        "'''"
      ],
      "execution_count": 352,
      "outputs": [
        {
          "output_type": "execute_result",
          "data": {
            "text/plain": [
              "'\\n# Map the facilities that have gone out of business \\nmap_oob = folium.Map(\\n    location=[41.8781, -87.6298],\\n    zoom_start=9\\n)\\n\\n# We take 5000 samples to view on the map\\n# TODO: take randomized samples / visualize the whole data\\nmarker_cluster = MarkerCluster().add_to(map_oob)\\nranges = 0\\nfor i in df_oob_unique.index:\\n    if ranges == 5000:\\n        break\\n    folium.Marker([(i[0]), (i[1])]).add_to(marker_cluster)        \\n    ranges = ranges + 1\\n\\nmap_oob\\n'"
            ]
          },
          "metadata": {
            "tags": []
          },
          "execution_count": 352
        }
      ]
    },
    {
      "cell_type": "markdown",
      "metadata": {
        "id": "70YWgfyOY98g",
        "colab_type": "text"
      },
      "source": [
        "### **Average Risk of Facilities on Map**"
      ]
    },
    {
      "cell_type": "code",
      "metadata": {
        "id": "5oPntwPCr9ir",
        "colab_type": "code",
        "colab": {}
      },
      "source": [
        "# Calculate risk mean of each facility\n",
        "df_avg_risk_score = df.groupby(['Latitude','Longitude','DBA Name'])['Risk'].mean()"
      ],
      "execution_count": 0,
      "outputs": []
    },
    {
      "cell_type": "markdown",
      "metadata": {
        "id": "_J6Ty7thtdFo",
        "colab_type": "text"
      },
      "source": [
        "We mapped the average risk score of facilities to identify any possible pattern:"
      ]
    },
    {
      "cell_type": "code",
      "metadata": {
        "id": "xm69-CXir9iw",
        "colab_type": "code",
        "outputId": "134002a6-6a02-426e-bfcc-a71236433e39",
        "colab": {
          "base_uri": "https://localhost:8080/",
          "height": 0
        }
      },
      "source": [
        "# Map the average risk score of facilities, where red indicates high risk, orange indicates medium risk, and green indicates low risk\n",
        "'''\n",
        "map_risk = folium.Map(\n",
        "    location=[41.8781, -87.6298],\n",
        "    zoom_start=9\n",
        ")\n",
        "\n",
        "# We take 2000 samples to view on the map\n",
        "# TODO: take randomized samples / visualize the whole data\n",
        "ranges = 0\n",
        "for i in df_avg_risk_score.index:\n",
        "    if ranges == 2000:\n",
        "        break\n",
        "    if(round(df_avg_risk_score[i]) == 1):\n",
        "        folium.Marker([(i[0]), (i[1])],icon=folium.Icon(color='red')).add_to(map_risk)\n",
        "    elif(round(df_avg_risk_score[i]) == 2):\n",
        "        folium.Marker([(i[0]), (i[1])],icon=folium.Icon(color='orange')).add_to(map_risk)\n",
        "    elif(round(df_avg_risk_score[i]) == 3):\n",
        "        folium.Marker([(i[0]), (i[1])],icon=folium.Icon(color='green')).add_to(map_risk)       \n",
        "    ranges = ranges + 1\n",
        "\n",
        "map_risk\n",
        "'''"
      ],
      "execution_count": 354,
      "outputs": [
        {
          "output_type": "execute_result",
          "data": {
            "text/plain": [
              "\"\\nmap_risk = folium.Map(\\n    location=[41.8781, -87.6298],\\n    zoom_start=9\\n)\\n\\n# We take 2000 samples to view on the map\\n# TODO: take randomized samples / visualize the whole data\\nranges = 0\\nfor i in df_avg_risk_score.index:\\n    if ranges == 2000:\\n        break\\n    if(round(df_avg_risk_score[i]) == 1):\\n        folium.Marker([(i[0]), (i[1])],icon=folium.Icon(color='red')).add_to(map_risk)\\n    elif(round(df_avg_risk_score[i]) == 2):\\n        folium.Marker([(i[0]), (i[1])],icon=folium.Icon(color='orange')).add_to(map_risk)\\n    elif(round(df_avg_risk_score[i]) == 3):\\n        folium.Marker([(i[0]), (i[1])],icon=folium.Icon(color='green')).add_to(map_risk)       \\n    ranges = ranges + 1\\n\\nmap_risk\\n\""
            ]
          },
          "metadata": {
            "tags": []
          },
          "execution_count": 354
        }
      ]
    },
    {
      "cell_type": "markdown",
      "metadata": {
        "id": "gedBg9DbwYnV",
        "colab_type": "text"
      },
      "source": [
        "We plotted the number of inspections vs. the average risk score of each facility to identify any possible correlation between the two. We observed the there is a negative correlation between the number of inspections and the average risk of the facility:"
      ]
    },
    {
      "cell_type": "code",
      "metadata": {
        "id": "SliEvDVHr9iz",
        "colab_type": "code",
        "outputId": "0651b899-5546-4fb2-dfca-cc12814c8d3a",
        "colab": {
          "base_uri": "https://localhost:8080/",
          "height": 0
        }
      },
      "source": [
        "# Scatter plot on the number of inspections vs. the average risk score\n",
        "df_unique = pd.DataFrame(df.groupby(['Latitude','Longitude','DBA Name']).count()['Risk']).rename(columns={'Risk':'Counts'})\n",
        "merged = pd.merge(left=df_avg_risk_score.reset_index(),right=df_unique.reset_index(),left_on=['Latitude','Longitude','DBA Name'],right_on=['Latitude','Longitude','DBA Name'])\n",
        "merged.plot.scatter(x='Risk', y='Counts')"
      ],
      "execution_count": 355,
      "outputs": [
        {
          "output_type": "execute_result",
          "data": {
            "text/plain": [
              "<matplotlib.axes._subplots.AxesSubplot at 0x7feec43ad978>"
            ]
          },
          "metadata": {
            "tags": []
          },
          "execution_count": 355
        },
        {
          "output_type": "display_data",
          "data": {
            "image/png": "[encoded data removed]",
            "text/plain": [
              "<Figure size 432x288 with 1 Axes>"
            ]
          },
          "metadata": {
            "tags": []
          }
        }
      ]
    },
    {
      "cell_type": "markdown",
      "metadata": {
        "id": "WYaFos2Ir9i4",
        "colab_type": "text"
      },
      "source": [
        "We observed that the number of risk 3 facilities are lower than the others. Hence, we decided to plot average risk scores vs number of facilities."
      ]
    },
    {
      "cell_type": "markdown",
      "metadata": {
        "id": "jRnO5vZlnNtd",
        "colab_type": "text"
      },
      "source": [
        "### **Correlation between Number of Inspections and Average Level of Risk**"
      ]
    },
    {
      "cell_type": "markdown",
      "metadata": {
        "id": "VT4v4wC_yRha",
        "colab_type": "text"
      },
      "source": [
        "We observed a moderate positive correlation between the number of inspections and average level of risk of the facility (since Risk 1 means high risk and Risk 3 means low risk):"
      ]
    },
    {
      "cell_type": "code",
      "metadata": {
        "id": "DTX2ONt9w7V8",
        "colab_type": "code",
        "outputId": "4ac02fe2-471d-4635-f217-f6df00775a33",
        "colab": {
          "base_uri": "https://localhost:8080/",
          "height": 0
        }
      },
      "source": [
        "merged[['Risk', 'Counts']].corr(method='pearson')"
      ],
      "execution_count": 356,
      "outputs": [
        {
          "output_type": "execute_result",
          "data": {
            "text/html": [
              "<div>\n",
              "<style scoped>\n",
              "    .dataframe tbody tr th:only-of-type {\n",
              "        vertical-align: middle;\n",
              "    }\n",
              "\n",
              "    .dataframe tbody tr th {\n",
              "        vertical-align: top;\n",
              "    }\n",
              "\n",
              "    .dataframe thead th {\n",
              "        text-align: right;\n",
              "    }\n",
              "</style>\n",
              "<table border=\"1\" class=\"dataframe\">\n",
              "  <thead>\n",
              "    <tr style=\"text-align: right;\">\n",
              "      <th></th>\n",
              "      <th>Risk</th>\n",
              "      <th>Counts</th>\n",
              "    </tr>\n",
              "  </thead>\n",
              "  <tbody>\n",
              "    <tr>\n",
              "      <th>Risk</th>\n",
              "      <td>1.000000</td>\n",
              "      <td>-0.366184</td>\n",
              "    </tr>\n",
              "    <tr>\n",
              "      <th>Counts</th>\n",
              "      <td>-0.366184</td>\n",
              "      <td>1.000000</td>\n",
              "    </tr>\n",
              "  </tbody>\n",
              "</table>\n",
              "</div>"
            ],
            "text/plain": [
              "            Risk    Counts\n",
              "Risk    1.000000 -0.366184\n",
              "Counts -0.366184  1.000000"
            ]
          },
          "metadata": {
            "tags": []
          },
          "execution_count": 356
        }
      ]
    },
    {
      "cell_type": "markdown",
      "metadata": {
        "id": "TcYiy6JonijB",
        "colab_type": "text"
      },
      "source": [
        "### **Distribution of Risk Scores of Facilities**"
      ]
    },
    {
      "cell_type": "markdown",
      "metadata": {
        "id": "QHzvzFwLn1ot",
        "colab_type": "text"
      },
      "source": [
        "We visualized the distribution of average level of risk scores of each facility using the bar plot below:"
      ]
    },
    {
      "cell_type": "code",
      "metadata": {
        "id": "1aMedXkjr9i4",
        "colab_type": "code",
        "outputId": "dce3cb4b-bc50-4dae-df91-7b3d087923a4",
        "colab": {
          "base_uri": "https://localhost:8080/",
          "height": 0
        }
      },
      "source": [
        "# Grouped by risk scores and number of facilities\n",
        "df_avg_risk_score1 = pd.DataFrame(df_avg_risk_score).apply(lambda x: round(x)).reset_index()\n",
        "df_avg_risk_score1 = pd.DataFrame(df_avg_risk_score1.groupby('Risk').count()['Latitude']).rename(columns={'Latitude':'Counts'})\n",
        "df_avg_risk_score1"
      ],
      "execution_count": 357,
      "outputs": [
        {
          "output_type": "execute_result",
          "data": {
            "text/html": [
              "<div>\n",
              "<style scoped>\n",
              "    .dataframe tbody tr th:only-of-type {\n",
              "        vertical-align: middle;\n",
              "    }\n",
              "\n",
              "    .dataframe tbody tr th {\n",
              "        vertical-align: top;\n",
              "    }\n",
              "\n",
              "    .dataframe thead th {\n",
              "        text-align: right;\n",
              "    }\n",
              "</style>\n",
              "<table border=\"1\" class=\"dataframe\">\n",
              "  <thead>\n",
              "    <tr style=\"text-align: right;\">\n",
              "      <th></th>\n",
              "      <th>Counts</th>\n",
              "    </tr>\n",
              "    <tr>\n",
              "      <th>Risk</th>\n",
              "      <th></th>\n",
              "    </tr>\n",
              "  </thead>\n",
              "  <tbody>\n",
              "    <tr>\n",
              "      <th>1.0</th>\n",
              "      <td>15573</td>\n",
              "    </tr>\n",
              "    <tr>\n",
              "      <th>2.0</th>\n",
              "      <td>6696</td>\n",
              "    </tr>\n",
              "    <tr>\n",
              "      <th>3.0</th>\n",
              "      <td>4679</td>\n",
              "    </tr>\n",
              "  </tbody>\n",
              "</table>\n",
              "</div>"
            ],
            "text/plain": [
              "      Counts\n",
              "Risk        \n",
              "1.0    15573\n",
              "2.0     6696\n",
              "3.0     4679"
            ]
          },
          "metadata": {
            "tags": []
          },
          "execution_count": 357
        }
      ]
    },
    {
      "cell_type": "code",
      "metadata": {
        "id": "H-8wb6jkr9i6",
        "colab_type": "code",
        "outputId": "e374a3a8-eeb8-42d7-dc35-8ac4d08bd100",
        "colab": {
          "base_uri": "https://localhost:8080/",
          "height": 0
        }
      },
      "source": [
        "plt.bar(df_avg_risk_score1.index,df_avg_risk_score1['Counts'])"
      ],
      "execution_count": 358,
      "outputs": [
        {
          "output_type": "execute_result",
          "data": {
            "text/plain": [
              "<BarContainer object of 3 artists>"
            ]
          },
          "metadata": {
            "tags": []
          },
          "execution_count": 358
        },
        {
          "output_type": "display_data",
          "data": {
            "image/png": "[encoded data removed]",
            "text/plain": [
              "<Figure size 432x288 with 1 Axes>"
            ]
          },
          "metadata": {
            "tags": []
          }
        }
      ]
    },
    {
      "cell_type": "markdown",
      "metadata": {
        "id": "Fi_AiSyn5Qkm",
        "colab_type": "text"
      },
      "source": [
        "### **Different Branches vs. Risk Score**"
      ]
    },
    {
      "cell_type": "markdown",
      "metadata": {
        "id": "I2FKMuipNzKH",
        "colab_type": "text"
      },
      "source": [
        "For the next milestone, we want to analyze the average risk score of a facility between its different branches."
      ]
    },
    {
      "cell_type": "code",
      "metadata": {
        "id": "s4zsIpOw5jtD",
        "colab_type": "code",
        "colab": {}
      },
      "source": [
        "# Identify the facility with the highest number of branches\n",
        "#grouped_name = df.groupby('DBA Name').count()\n",
        "grouped_unique_name = pd.DataFrame(df.groupby('DBA Name').count().rename(columns={'Risk':'Counts'})['Counts']).sort_values(by='Counts',ascending=False).reset_index()\n",
        "grouped_unique_facility = pd.DataFrame(df.groupby(['Latitude','Longitude','DBA Name']).count().rename(columns={'Risk':'Counts'})['Counts']).sort_values(by='Counts',ascending=False).reset_index()"
      ],
      "execution_count": 0,
      "outputs": []
    },
    {
      "cell_type": "markdown",
      "metadata": {
        "id": "NGrrO4kM9WXs",
        "colab_type": "text"
      },
      "source": [
        "We will be investigating the facility (chain) with the highest number of branches to see if there is any difference in the risk scores of its branches. "
      ]
    },
    {
      "cell_type": "code",
      "metadata": {
        "id": "FQg4wd2s5YDQ",
        "colab_type": "code",
        "outputId": "67094039-8f28-4ddd-e2ac-86fc4c86b168",
        "colab": {
          "base_uri": "https://localhost:8080/",
          "height": 0
        }
      },
      "source": [
        "# The facilities with the highest number of inspections (chain)\n",
        "grouped_unique_name.head()"
      ],
      "execution_count": 360,
      "outputs": [
        {
          "output_type": "execute_result",
          "data": {
            "text/html": [
              "<div>\n",
              "<style scoped>\n",
              "    .dataframe tbody tr th:only-of-type {\n",
              "        vertical-align: middle;\n",
              "    }\n",
              "\n",
              "    .dataframe tbody tr th {\n",
              "        vertical-align: top;\n",
              "    }\n",
              "\n",
              "    .dataframe thead th {\n",
              "        text-align: right;\n",
              "    }\n",
              "</style>\n",
              "<table border=\"1\" class=\"dataframe\">\n",
              "  <thead>\n",
              "    <tr style=\"text-align: right;\">\n",
              "      <th></th>\n",
              "      <th>DBA Name</th>\n",
              "      <th>Counts</th>\n",
              "    </tr>\n",
              "  </thead>\n",
              "  <tbody>\n",
              "    <tr>\n",
              "      <th>0</th>\n",
              "      <td>SUBWAY</td>\n",
              "      <td>4078</td>\n",
              "    </tr>\n",
              "    <tr>\n",
              "      <th>1</th>\n",
              "      <td>DUNKIN DONUTS</td>\n",
              "      <td>2259</td>\n",
              "    </tr>\n",
              "    <tr>\n",
              "      <th>2</th>\n",
              "      <td>MCDONALDS</td>\n",
              "      <td>2199</td>\n",
              "    </tr>\n",
              "    <tr>\n",
              "      <th>3</th>\n",
              "      <td>7-ELEVEN</td>\n",
              "      <td>1402</td>\n",
              "    </tr>\n",
              "    <tr>\n",
              "      <th>4</th>\n",
              "      <td>STARBUCKS</td>\n",
              "      <td>1368</td>\n",
              "    </tr>\n",
              "  </tbody>\n",
              "</table>\n",
              "</div>"
            ],
            "text/plain": [
              "        DBA Name  Counts\n",
              "0         SUBWAY    4078\n",
              "1  DUNKIN DONUTS    2259\n",
              "2      MCDONALDS    2199\n",
              "3       7-ELEVEN    1402\n",
              "4      STARBUCKS    1368"
            ]
          },
          "metadata": {
            "tags": []
          },
          "execution_count": 360
        }
      ]
    },
    {
      "cell_type": "code",
      "metadata": {
        "id": "ahCqevsq6G-T",
        "colab_type": "code",
        "outputId": "59e9657e-5128-4fbe-aefb-893386b05f34",
        "colab": {
          "base_uri": "https://localhost:8080/",
          "height": 0
        }
      },
      "source": [
        "# The facilities with the highest number of inspections (unique)\n",
        "grouped_unique_facility.head()"
      ],
      "execution_count": 361,
      "outputs": [
        {
          "output_type": "execute_result",
          "data": {
            "text/html": [
              "<div>\n",
              "<style scoped>\n",
              "    .dataframe tbody tr th:only-of-type {\n",
              "        vertical-align: middle;\n",
              "    }\n",
              "\n",
              "    .dataframe tbody tr th {\n",
              "        vertical-align: top;\n",
              "    }\n",
              "\n",
              "    .dataframe thead th {\n",
              "        text-align: right;\n",
              "    }\n",
              "</style>\n",
              "<table border=\"1\" class=\"dataframe\">\n",
              "  <thead>\n",
              "    <tr style=\"text-align: right;\">\n",
              "      <th></th>\n",
              "      <th>Latitude</th>\n",
              "      <th>Longitude</th>\n",
              "      <th>DBA Name</th>\n",
              "      <th>Counts</th>\n",
              "    </tr>\n",
              "  </thead>\n",
              "  <tbody>\n",
              "    <tr>\n",
              "      <th>0</th>\n",
              "      <td>41.862628</td>\n",
              "      <td>-87.615031</td>\n",
              "      <td>SPORT SERVICE SOLDIER FIELD</td>\n",
              "      <td>197</td>\n",
              "    </tr>\n",
              "    <tr>\n",
              "      <th>1</th>\n",
              "      <td>41.830784</td>\n",
              "      <td>-87.635296</td>\n",
              "      <td>ILLINOIS SPORTSERVICE</td>\n",
              "      <td>173</td>\n",
              "    </tr>\n",
              "    <tr>\n",
              "      <th>2</th>\n",
              "      <td>42.008536</td>\n",
              "      <td>-87.914428</td>\n",
              "      <td>STARBUCKS</td>\n",
              "      <td>157</td>\n",
              "    </tr>\n",
              "    <tr>\n",
              "      <th>3</th>\n",
              "      <td>41.947317</td>\n",
              "      <td>-87.656418</td>\n",
              "      <td>LEVY RESTAURANTS</td>\n",
              "      <td>147</td>\n",
              "    </tr>\n",
              "    <tr>\n",
              "      <th>4</th>\n",
              "      <td>42.008536</td>\n",
              "      <td>-87.914428</td>\n",
              "      <td>MCDONALDS</td>\n",
              "      <td>143</td>\n",
              "    </tr>\n",
              "  </tbody>\n",
              "</table>\n",
              "</div>"
            ],
            "text/plain": [
              "    Latitude  Longitude                     DBA Name  Counts\n",
              "0  41.862628 -87.615031  SPORT SERVICE SOLDIER FIELD     197\n",
              "1  41.830784 -87.635296        ILLINOIS SPORTSERVICE     173\n",
              "2  42.008536 -87.914428                    STARBUCKS     157\n",
              "3  41.947317 -87.656418             LEVY RESTAURANTS     147\n",
              "4  42.008536 -87.914428                    MCDONALDS     143"
            ]
          },
          "metadata": {
            "tags": []
          },
          "execution_count": 361
        }
      ]
    },
    {
      "cell_type": "markdown",
      "metadata": {
        "id": "_n637CHg_9jG",
        "colab_type": "text"
      },
      "source": [
        "### **Type of Facility vs. Percentage of Going Out of Business**"
      ]
    },
    {
      "cell_type": "code",
      "metadata": {
        "id": "hU9hCSduAtKO",
        "colab_type": "code",
        "outputId": "f06d6d06-2bff-4748-8555-7bb4bb1ae7ce",
        "colab": {
          "base_uri": "https://localhost:8080/",
          "height": 0
        }
      },
      "source": [
        "# Data grouped by the facility type\n",
        "fac_dist.head()"
      ],
      "execution_count": 362,
      "outputs": [
        {
          "output_type": "execute_result",
          "data": {
            "text/html": [
              "<div>\n",
              "<style scoped>\n",
              "    .dataframe tbody tr th:only-of-type {\n",
              "        vertical-align: middle;\n",
              "    }\n",
              "\n",
              "    .dataframe tbody tr th {\n",
              "        vertical-align: top;\n",
              "    }\n",
              "\n",
              "    .dataframe thead th {\n",
              "        text-align: right;\n",
              "    }\n",
              "</style>\n",
              "<table border=\"1\" class=\"dataframe\">\n",
              "  <thead>\n",
              "    <tr style=\"text-align: right;\">\n",
              "      <th></th>\n",
              "      <th>Facility Type</th>\n",
              "      <th>Counts</th>\n",
              "    </tr>\n",
              "  </thead>\n",
              "  <tbody>\n",
              "    <tr>\n",
              "      <th>0</th>\n",
              "      <td>restaurant</td>\n",
              "      <td>130782</td>\n",
              "    </tr>\n",
              "    <tr>\n",
              "      <th>1</th>\n",
              "      <td>retail store</td>\n",
              "      <td>25367</td>\n",
              "    </tr>\n",
              "    <tr>\n",
              "      <th>2</th>\n",
              "      <td>school</td>\n",
              "      <td>12308</td>\n",
              "    </tr>\n",
              "    <tr>\n",
              "      <th>3</th>\n",
              "      <td>daycare</td>\n",
              "      <td>9503</td>\n",
              "    </tr>\n",
              "    <tr>\n",
              "      <th>4</th>\n",
              "      <td>bakery</td>\n",
              "      <td>2889</td>\n",
              "    </tr>\n",
              "  </tbody>\n",
              "</table>\n",
              "</div>"
            ],
            "text/plain": [
              "  Facility Type  Counts\n",
              "0    restaurant  130782\n",
              "1  retail store   25367\n",
              "2        school   12308\n",
              "3       daycare    9503\n",
              "4        bakery    2889"
            ]
          },
          "metadata": {
            "tags": []
          },
          "execution_count": 362
        }
      ]
    },
    {
      "cell_type": "code",
      "metadata": {
        "id": "-sqDIFO0A4IU",
        "colab_type": "code",
        "colab": {}
      },
      "source": [
        "# Group out of business facilities on facility type\n",
        "df_oob_fac = pd.DataFrame(df_oob.groupby('Facility Type').count().rename(columns={'Risk':'Counts'})['Counts'])\n",
        "merged_fac_oob = pd.merge(left=df_oob_fac.reset_index(), right=fac_dist.reset_index(),left_on=['Facility Type'],right_on=['Facility Type'])"
      ],
      "execution_count": 0,
      "outputs": []
    },
    {
      "cell_type": "code",
      "metadata": {
        "id": "A87w-TYQAvyu",
        "colab_type": "code",
        "outputId": "03a346b5-d2b7-4b68-8205-11ac7ce29fbe",
        "colab": {
          "base_uri": "https://localhost:8080/",
          "height": 0
        }
      },
      "source": [
        "merged_fac_oob.head()"
      ],
      "execution_count": 364,
      "outputs": [
        {
          "output_type": "execute_result",
          "data": {
            "text/html": [
              "<div>\n",
              "<style scoped>\n",
              "    .dataframe tbody tr th:only-of-type {\n",
              "        vertical-align: middle;\n",
              "    }\n",
              "\n",
              "    .dataframe tbody tr th {\n",
              "        vertical-align: top;\n",
              "    }\n",
              "\n",
              "    .dataframe thead th {\n",
              "        text-align: right;\n",
              "    }\n",
              "</style>\n",
              "<table border=\"1\" class=\"dataframe\">\n",
              "  <thead>\n",
              "    <tr style=\"text-align: right;\">\n",
              "      <th></th>\n",
              "      <th>Facility Type</th>\n",
              "      <th>Counts_x</th>\n",
              "      <th>index</th>\n",
              "      <th>Counts_y</th>\n",
              "    </tr>\n",
              "  </thead>\n",
              "  <tbody>\n",
              "    <tr>\n",
              "      <th>0</th>\n",
              "      <td>assisted living/nursing home</td>\n",
              "      <td>4</td>\n",
              "      <td>21</td>\n",
              "      <td>93</td>\n",
              "    </tr>\n",
              "    <tr>\n",
              "      <th>1</th>\n",
              "      <td>bakery</td>\n",
              "      <td>249</td>\n",
              "      <td>4</td>\n",
              "      <td>2889</td>\n",
              "    </tr>\n",
              "    <tr>\n",
              "      <th>2</th>\n",
              "      <td>banquet</td>\n",
              "      <td>19</td>\n",
              "      <td>13</td>\n",
              "      <td>336</td>\n",
              "    </tr>\n",
              "    <tr>\n",
              "      <th>3</th>\n",
              "      <td>bar</td>\n",
              "      <td>6</td>\n",
              "      <td>24</td>\n",
              "      <td>80</td>\n",
              "    </tr>\n",
              "    <tr>\n",
              "      <th>4</th>\n",
              "      <td>butcher</td>\n",
              "      <td>5</td>\n",
              "      <td>33</td>\n",
              "      <td>34</td>\n",
              "    </tr>\n",
              "  </tbody>\n",
              "</table>\n",
              "</div>"
            ],
            "text/plain": [
              "                  Facility Type  Counts_x  index  Counts_y\n",
              "0  assisted living/nursing home         4     21        93\n",
              "1                        bakery       249      4      2889\n",
              "2                       banquet        19     13       336\n",
              "3                           bar         6     24        80\n",
              "4                       butcher         5     33        34"
            ]
          },
          "metadata": {
            "tags": []
          },
          "execution_count": 364
        }
      ]
    },
    {
      "cell_type": "code",
      "metadata": {
        "id": "le_INawoDHVL",
        "colab_type": "code",
        "colab": {}
      },
      "source": [
        "merged_fac_oob['Oob Ratio'] = merged_fac_oob['Counts_x'].divide(merged_fac_oob['Counts_y'], fill_value=1)"
      ],
      "execution_count": 0,
      "outputs": []
    },
    {
      "cell_type": "code",
      "metadata": {
        "id": "qlwbJvSnDrT1",
        "colab_type": "code",
        "outputId": "45fd57f2-ae7a-4dc3-ea3f-5119eb5f2392",
        "colab": {
          "base_uri": "https://localhost:8080/",
          "height": 0
        }
      },
      "source": [
        "merged_fac_oob.sort_values(by='Oob Ratio', ascending=False).drop(columns='index').head()"
      ],
      "execution_count": 366,
      "outputs": [
        {
          "output_type": "execute_result",
          "data": {
            "text/html": [
              "<div>\n",
              "<style scoped>\n",
              "    .dataframe tbody tr th:only-of-type {\n",
              "        vertical-align: middle;\n",
              "    }\n",
              "\n",
              "    .dataframe tbody tr th {\n",
              "        vertical-align: top;\n",
              "    }\n",
              "\n",
              "    .dataframe thead th {\n",
              "        text-align: right;\n",
              "    }\n",
              "</style>\n",
              "<table border=\"1\" class=\"dataframe\">\n",
              "  <thead>\n",
              "    <tr style=\"text-align: right;\">\n",
              "      <th></th>\n",
              "      <th>Facility Type</th>\n",
              "      <th>Counts_x</th>\n",
              "      <th>Counts_y</th>\n",
              "      <th>Oob Ratio</th>\n",
              "    </tr>\n",
              "  </thead>\n",
              "  <tbody>\n",
              "    <tr>\n",
              "      <th>30</th>\n",
              "      <td>pantry</td>\n",
              "      <td>5</td>\n",
              "      <td>9</td>\n",
              "      <td>0.555556</td>\n",
              "    </tr>\n",
              "    <tr>\n",
              "      <th>14</th>\n",
              "      <td>distribution</td>\n",
              "      <td>3</td>\n",
              "      <td>10</td>\n",
              "      <td>0.300000</td>\n",
              "    </tr>\n",
              "    <tr>\n",
              "      <th>41</th>\n",
              "      <td>warehouse</td>\n",
              "      <td>2</td>\n",
              "      <td>13</td>\n",
              "      <td>0.153846</td>\n",
              "    </tr>\n",
              "    <tr>\n",
              "      <th>4</th>\n",
              "      <td>butcher</td>\n",
              "      <td>5</td>\n",
              "      <td>34</td>\n",
              "      <td>0.147059</td>\n",
              "    </tr>\n",
              "    <tr>\n",
              "      <th>18</th>\n",
              "      <td>herbal</td>\n",
              "      <td>6</td>\n",
              "      <td>46</td>\n",
              "      <td>0.130435</td>\n",
              "    </tr>\n",
              "  </tbody>\n",
              "</table>\n",
              "</div>"
            ],
            "text/plain": [
              "   Facility Type  Counts_x  Counts_y  Oob Ratio\n",
              "30        pantry         5         9   0.555556\n",
              "14  distribution         3        10   0.300000\n",
              "41     warehouse         2        13   0.153846\n",
              "4        butcher         5        34   0.147059\n",
              "18        herbal         6        46   0.130435"
            ]
          },
          "metadata": {
            "tags": []
          },
          "execution_count": 366
        }
      ]
    },
    {
      "cell_type": "code",
      "metadata": {
        "id": "VRWfp0XxFLV1",
        "colab_type": "code",
        "outputId": "ac38989f-c650-4a5f-dd0c-3363779af30c",
        "colab": {
          "base_uri": "https://localhost:8080/",
          "height": 0
        }
      },
      "source": [
        "merged_fac_oob[['Oob Ratio', 'Counts_y']].corr(method='pearson')"
      ],
      "execution_count": 367,
      "outputs": [
        {
          "output_type": "execute_result",
          "data": {
            "text/html": [
              "<div>\n",
              "<style scoped>\n",
              "    .dataframe tbody tr th:only-of-type {\n",
              "        vertical-align: middle;\n",
              "    }\n",
              "\n",
              "    .dataframe tbody tr th {\n",
              "        vertical-align: top;\n",
              "    }\n",
              "\n",
              "    .dataframe thead th {\n",
              "        text-align: right;\n",
              "    }\n",
              "</style>\n",
              "<table border=\"1\" class=\"dataframe\">\n",
              "  <thead>\n",
              "    <tr style=\"text-align: right;\">\n",
              "      <th></th>\n",
              "      <th>Oob Ratio</th>\n",
              "      <th>Counts_y</th>\n",
              "    </tr>\n",
              "  </thead>\n",
              "  <tbody>\n",
              "    <tr>\n",
              "      <th>Oob Ratio</th>\n",
              "      <td>1.000000</td>\n",
              "      <td>-0.043633</td>\n",
              "    </tr>\n",
              "    <tr>\n",
              "      <th>Counts_y</th>\n",
              "      <td>-0.043633</td>\n",
              "      <td>1.000000</td>\n",
              "    </tr>\n",
              "  </tbody>\n",
              "</table>\n",
              "</div>"
            ],
            "text/plain": [
              "           Oob Ratio  Counts_y\n",
              "Oob Ratio   1.000000 -0.043633\n",
              "Counts_y   -0.043633  1.000000"
            ]
          },
          "metadata": {
            "tags": []
          },
          "execution_count": 367
        }
      ]
    },
    {
      "cell_type": "markdown",
      "metadata": {
        "id": "DTiyvgeeHIX5",
        "colab_type": "text"
      },
      "source": [
        "We wanted to identify a possible correlation between the type of facility and the percentage of going out of business. However, when we calculated the pearson's correlation factor, we observed no correlation."
      ]
    },
    {
      "cell_type": "markdown",
      "metadata": {
        "id": "PZh_kj61J8BC",
        "colab_type": "text"
      },
      "source": [
        "### **Percentage of Going Out of Business vs. Average Risk Score**"
      ]
    },
    {
      "cell_type": "code",
      "metadata": {
        "id": "3QgEx1ESKmkZ",
        "colab_type": "code",
        "colab": {}
      },
      "source": [
        "# Merge the out of business facility types with their average risk scores\n",
        "fac_oob_risk = pd.merge(left=merged_fac_oob.reset_index(), right=grouped_fac_risk_mean.reset_index(),left_on=['Facility Type'],right_on=['Facility Type'])"
      ],
      "execution_count": 0,
      "outputs": []
    },
    {
      "cell_type": "code",
      "metadata": {
        "id": "wfajDTtELI6m",
        "colab_type": "code",
        "outputId": "d01f8d41-edb9-4ec2-e3f5-f29258396aa4",
        "colab": {
          "base_uri": "https://localhost:8080/",
          "height": 0
        }
      },
      "source": [
        "fac_oob_risk.drop(columns=['index_x', 'index_y']).rename(columns={'Counts_x':'Oob Count', 'Counts_y':'Total Count'}).head()"
      ],
      "execution_count": 369,
      "outputs": [
        {
          "output_type": "execute_result",
          "data": {
            "text/html": [
              "<div>\n",
              "<style scoped>\n",
              "    .dataframe tbody tr th:only-of-type {\n",
              "        vertical-align: middle;\n",
              "    }\n",
              "\n",
              "    .dataframe tbody tr th {\n",
              "        vertical-align: top;\n",
              "    }\n",
              "\n",
              "    .dataframe thead th {\n",
              "        text-align: right;\n",
              "    }\n",
              "</style>\n",
              "<table border=\"1\" class=\"dataframe\">\n",
              "  <thead>\n",
              "    <tr style=\"text-align: right;\">\n",
              "      <th></th>\n",
              "      <th>level_0</th>\n",
              "      <th>Facility Type</th>\n",
              "      <th>Oob Count</th>\n",
              "      <th>Total Count</th>\n",
              "      <th>Oob Ratio</th>\n",
              "      <th>Risk</th>\n",
              "    </tr>\n",
              "  </thead>\n",
              "  <tbody>\n",
              "    <tr>\n",
              "      <th>0</th>\n",
              "      <td>0</td>\n",
              "      <td>assisted living/nursing home</td>\n",
              "      <td>4</td>\n",
              "      <td>93</td>\n",
              "      <td>0.043011</td>\n",
              "      <td>1.000000</td>\n",
              "    </tr>\n",
              "    <tr>\n",
              "      <th>1</th>\n",
              "      <td>1</td>\n",
              "      <td>bakery</td>\n",
              "      <td>249</td>\n",
              "      <td>2889</td>\n",
              "      <td>0.086189</td>\n",
              "      <td>1.626168</td>\n",
              "    </tr>\n",
              "    <tr>\n",
              "      <th>2</th>\n",
              "      <td>2</td>\n",
              "      <td>banquet</td>\n",
              "      <td>19</td>\n",
              "      <td>336</td>\n",
              "      <td>0.056548</td>\n",
              "      <td>1.119048</td>\n",
              "    </tr>\n",
              "    <tr>\n",
              "      <th>3</th>\n",
              "      <td>3</td>\n",
              "      <td>bar</td>\n",
              "      <td>6</td>\n",
              "      <td>80</td>\n",
              "      <td>0.075000</td>\n",
              "      <td>2.125000</td>\n",
              "    </tr>\n",
              "    <tr>\n",
              "      <th>4</th>\n",
              "      <td>4</td>\n",
              "      <td>butcher</td>\n",
              "      <td>5</td>\n",
              "      <td>34</td>\n",
              "      <td>0.147059</td>\n",
              "      <td>2.029412</td>\n",
              "    </tr>\n",
              "  </tbody>\n",
              "</table>\n",
              "</div>"
            ],
            "text/plain": [
              "   level_0                 Facility Type  ...  Oob Ratio      Risk\n",
              "0        0  assisted living/nursing home  ...   0.043011  1.000000\n",
              "1        1                        bakery  ...   0.086189  1.626168\n",
              "2        2                       banquet  ...   0.056548  1.119048\n",
              "3        3                           bar  ...   0.075000  2.125000\n",
              "4        4                       butcher  ...   0.147059  2.029412\n",
              "\n",
              "[5 rows x 6 columns]"
            ]
          },
          "metadata": {
            "tags": []
          },
          "execution_count": 369
        }
      ]
    },
    {
      "cell_type": "code",
      "metadata": {
        "id": "d1Bbc2-iLKKi",
        "colab_type": "code",
        "outputId": "a20cf945-13a7-41db-9555-0165f4596cd4",
        "colab": {
          "base_uri": "https://localhost:8080/",
          "height": 0
        }
      },
      "source": [
        "fac_oob_risk[['Oob Ratio', 'Risk']].corr(method='pearson')"
      ],
      "execution_count": 370,
      "outputs": [
        {
          "output_type": "execute_result",
          "data": {
            "text/html": [
              "<div>\n",
              "<style scoped>\n",
              "    .dataframe tbody tr th:only-of-type {\n",
              "        vertical-align: middle;\n",
              "    }\n",
              "\n",
              "    .dataframe tbody tr th {\n",
              "        vertical-align: top;\n",
              "    }\n",
              "\n",
              "    .dataframe thead th {\n",
              "        text-align: right;\n",
              "    }\n",
              "</style>\n",
              "<table border=\"1\" class=\"dataframe\">\n",
              "  <thead>\n",
              "    <tr style=\"text-align: right;\">\n",
              "      <th></th>\n",
              "      <th>Oob Ratio</th>\n",
              "      <th>Risk</th>\n",
              "    </tr>\n",
              "  </thead>\n",
              "  <tbody>\n",
              "    <tr>\n",
              "      <th>Oob Ratio</th>\n",
              "      <td>1.000000</td>\n",
              "      <td>0.206022</td>\n",
              "    </tr>\n",
              "    <tr>\n",
              "      <th>Risk</th>\n",
              "      <td>0.206022</td>\n",
              "      <td>1.000000</td>\n",
              "    </tr>\n",
              "  </tbody>\n",
              "</table>\n",
              "</div>"
            ],
            "text/plain": [
              "           Oob Ratio      Risk\n",
              "Oob Ratio   1.000000  0.206022\n",
              "Risk        0.206022  1.000000"
            ]
          },
          "metadata": {
            "tags": []
          },
          "execution_count": 370
        }
      ]
    },
    {
      "cell_type": "markdown",
      "metadata": {
        "id": "c74wraFTNRcp",
        "colab_type": "text"
      },
      "source": [
        "We wanted to identify a possible correlation between the out of business ratio and the risk of the type of facility. However, when we calculated the pearson's correlation factor, we observed no correlation.\n",
        "\n"
      ]
    },
    {
      "cell_type": "markdown",
      "metadata": {
        "id": "PixL067182Vq",
        "colab_type": "text"
      },
      "source": [
        "### **Violation Type Analysis**"
      ]
    },
    {
      "cell_type": "markdown",
      "metadata": {
        "id": "WRjDeP-k4NAn",
        "colab_type": "text"
      },
      "source": [
        "### **Violations analysis - facilities that have gone out of business**"
      ]
    },
    {
      "cell_type": "code",
      "metadata": {
        "id": "8WiNcwRD9xyd",
        "colab_type": "code",
        "outputId": "108ff2e6-c146-4fd8-fbfd-97bb38f2713f",
        "colab": {
          "base_uri": "https://localhost:8080/",
          "height": 917
        }
      },
      "source": [
        "df_oob_unique.reset_index(inplace=True)\n",
        "merged_oob = pd.merge(left=df_oob_unique[['Latitude', 'Longitude', 'DBA Name', 'License #']], right=df, on=['Latitude', 'Longitude', 'DBA Name', 'License #'])\n",
        "merged_oob.head(10)"
      ],
      "execution_count": 371,
      "outputs": [
        {
          "output_type": "execute_result",
          "data": {
            "text/html": [
              "<div>\n",
              "<style scoped>\n",
              "    .dataframe tbody tr th:only-of-type {\n",
              "        vertical-align: middle;\n",
              "    }\n",
              "\n",
              "    .dataframe tbody tr th {\n",
              "        vertical-align: top;\n",
              "    }\n",
              "\n",
              "    .dataframe thead th {\n",
              "        text-align: right;\n",
              "    }\n",
              "</style>\n",
              "<table border=\"1\" class=\"dataframe\">\n",
              "  <thead>\n",
              "    <tr style=\"text-align: right;\">\n",
              "      <th></th>\n",
              "      <th>Latitude</th>\n",
              "      <th>Longitude</th>\n",
              "      <th>DBA Name</th>\n",
              "      <th>License #</th>\n",
              "      <th>Inspection ID</th>\n",
              "      <th>AKA Name</th>\n",
              "      <th>Facility Type</th>\n",
              "      <th>Risk</th>\n",
              "      <th>Address</th>\n",
              "      <th>City</th>\n",
              "      <th>State</th>\n",
              "      <th>Zip</th>\n",
              "      <th>Inspection Date</th>\n",
              "      <th>Inspection Type</th>\n",
              "      <th>Results</th>\n",
              "      <th>Violations</th>\n",
              "      <th>Location</th>\n",
              "      <th>Historical Wards 2003-2015</th>\n",
              "      <th>Zip Codes</th>\n",
              "      <th>Community Areas</th>\n",
              "      <th>Census Tracts</th>\n",
              "      <th>Wards</th>\n",
              "    </tr>\n",
              "  </thead>\n",
              "  <tbody>\n",
              "    <tr>\n",
              "      <th>0</th>\n",
              "      <td>41.644670</td>\n",
              "      <td>-87.540095</td>\n",
              "      <td>BURGER KING</td>\n",
              "      <td>1473518.0</td>\n",
              "      <td>1527281</td>\n",
              "      <td>BURGER KING #7268</td>\n",
              "      <td>restaurant</td>\n",
              "      <td>2</td>\n",
              "      <td>13770 S AVENUE O</td>\n",
              "      <td>CHICAGO</td>\n",
              "      <td>IL</td>\n",
              "      <td>60633.0</td>\n",
              "      <td>2015-02-23T00:00:00.000</td>\n",
              "      <td>CANVASS</td>\n",
              "      <td>Out of Business</td>\n",
              "      <td>NaN</td>\n",
              "      <td>{'latitude': '-87.5400946053766', 'longitude':...</td>\n",
              "      <td>NaN</td>\n",
              "      <td>NaN</td>\n",
              "      <td>NaN</td>\n",
              "      <td>NaN</td>\n",
              "      <td>NaN</td>\n",
              "    </tr>\n",
              "    <tr>\n",
              "      <th>1</th>\n",
              "      <td>41.644670</td>\n",
              "      <td>-87.540095</td>\n",
              "      <td>BURGER KING</td>\n",
              "      <td>1473518.0</td>\n",
              "      <td>1494060</td>\n",
              "      <td>BURGER KING #7268</td>\n",
              "      <td>restaurant</td>\n",
              "      <td>2</td>\n",
              "      <td>13770 S AVENUE O</td>\n",
              "      <td>CHICAGO</td>\n",
              "      <td>IL</td>\n",
              "      <td>60633.0</td>\n",
              "      <td>2014-08-26T00:00:00.000</td>\n",
              "      <td>CANVASS</td>\n",
              "      <td>Pass</td>\n",
              "      <td>NaN</td>\n",
              "      <td>{'latitude': '-87.5400946053766', 'longitude':...</td>\n",
              "      <td>NaN</td>\n",
              "      <td>NaN</td>\n",
              "      <td>NaN</td>\n",
              "      <td>NaN</td>\n",
              "      <td>NaN</td>\n",
              "    </tr>\n",
              "    <tr>\n",
              "      <th>2</th>\n",
              "      <td>41.644670</td>\n",
              "      <td>-87.540095</td>\n",
              "      <td>BURGER KING</td>\n",
              "      <td>1473518.0</td>\n",
              "      <td>1493718</td>\n",
              "      <td>BURGER KING #7268</td>\n",
              "      <td>restaurant</td>\n",
              "      <td>2</td>\n",
              "      <td>13770 S AVENUE O</td>\n",
              "      <td>CHICAGO</td>\n",
              "      <td>IL</td>\n",
              "      <td>60633.0</td>\n",
              "      <td>2014-08-18T00:00:00.000</td>\n",
              "      <td>CANVASS</td>\n",
              "      <td>Fail</td>\n",
              "      <td>12. HAND WASHING FACILITIES: WITH SOAP AND SAN...</td>\n",
              "      <td>{'latitude': '-87.5400946053766', 'longitude':...</td>\n",
              "      <td>NaN</td>\n",
              "      <td>NaN</td>\n",
              "      <td>NaN</td>\n",
              "      <td>NaN</td>\n",
              "      <td>NaN</td>\n",
              "    </tr>\n",
              "    <tr>\n",
              "      <th>3</th>\n",
              "      <td>41.644670</td>\n",
              "      <td>-87.540095</td>\n",
              "      <td>BURGER KING</td>\n",
              "      <td>1473518.0</td>\n",
              "      <td>1300984</td>\n",
              "      <td>BURGER KING #7268</td>\n",
              "      <td>restaurant</td>\n",
              "      <td>2</td>\n",
              "      <td>13770 S AVENUE O</td>\n",
              "      <td>CHICAGO</td>\n",
              "      <td>IL</td>\n",
              "      <td>60633.0</td>\n",
              "      <td>2012-12-19T00:00:00.000</td>\n",
              "      <td>CANVASS</td>\n",
              "      <td>Pass w/ Conditions</td>\n",
              "      <td>21. * CERTIFIED FOOD MANAGER ON SITE WHEN POTE...</td>\n",
              "      <td>{'latitude': '-87.5400946053766', 'longitude':...</td>\n",
              "      <td>NaN</td>\n",
              "      <td>NaN</td>\n",
              "      <td>NaN</td>\n",
              "      <td>NaN</td>\n",
              "      <td>NaN</td>\n",
              "    </tr>\n",
              "    <tr>\n",
              "      <th>4</th>\n",
              "      <td>41.644670</td>\n",
              "      <td>-87.540095</td>\n",
              "      <td>BURGER KING</td>\n",
              "      <td>1473518.0</td>\n",
              "      <td>537818</td>\n",
              "      <td>BURGER KING #7268</td>\n",
              "      <td>restaurant</td>\n",
              "      <td>2</td>\n",
              "      <td>13770 S AVENUE O</td>\n",
              "      <td>CHICAGO</td>\n",
              "      <td>IL</td>\n",
              "      <td>60633.0</td>\n",
              "      <td>2012-01-10T00:00:00.000</td>\n",
              "      <td>COMPLAINT</td>\n",
              "      <td>Pass w/ Conditions</td>\n",
              "      <td>8. SANITIZING RINSE FOR EQUIPMENT AND UTENSILS...</td>\n",
              "      <td>{'latitude': '-87.5400946053766', 'longitude':...</td>\n",
              "      <td>NaN</td>\n",
              "      <td>NaN</td>\n",
              "      <td>NaN</td>\n",
              "      <td>NaN</td>\n",
              "      <td>NaN</td>\n",
              "    </tr>\n",
              "    <tr>\n",
              "      <th>5</th>\n",
              "      <td>41.644670</td>\n",
              "      <td>-87.540095</td>\n",
              "      <td>BURGER KING</td>\n",
              "      <td>1473518.0</td>\n",
              "      <td>537384</td>\n",
              "      <td>BURGER KING #7268</td>\n",
              "      <td>restaurant</td>\n",
              "      <td>2</td>\n",
              "      <td>13770 S AVENUE O</td>\n",
              "      <td>CHICAGO</td>\n",
              "      <td>IL</td>\n",
              "      <td>60633.0</td>\n",
              "      <td>2011-05-26T00:00:00.000</td>\n",
              "      <td>COMPLAINT</td>\n",
              "      <td>Pass</td>\n",
              "      <td>33. FOOD AND NON-FOOD CONTACT EQUIPMENT UTENSI...</td>\n",
              "      <td>{'latitude': '-87.5400946053766', 'longitude':...</td>\n",
              "      <td>NaN</td>\n",
              "      <td>NaN</td>\n",
              "      <td>NaN</td>\n",
              "      <td>NaN</td>\n",
              "      <td>NaN</td>\n",
              "    </tr>\n",
              "    <tr>\n",
              "      <th>6</th>\n",
              "      <td>41.644670</td>\n",
              "      <td>-87.540095</td>\n",
              "      <td>BURGER KING</td>\n",
              "      <td>1473518.0</td>\n",
              "      <td>419402</td>\n",
              "      <td>BURGER KING #7268</td>\n",
              "      <td>restaurant</td>\n",
              "      <td>2</td>\n",
              "      <td>13770 S AVENUE O</td>\n",
              "      <td>CHICAGO</td>\n",
              "      <td>IL</td>\n",
              "      <td>60633.0</td>\n",
              "      <td>2010-10-12T00:00:00.000</td>\n",
              "      <td>COMPLAINT</td>\n",
              "      <td>Pass w/ Conditions</td>\n",
              "      <td>3. POTENTIALLY HAZARDOUS FOOD MEETS TEMPERATUR...</td>\n",
              "      <td>{'latitude': '-87.5400946053766', 'longitude':...</td>\n",
              "      <td>NaN</td>\n",
              "      <td>NaN</td>\n",
              "      <td>NaN</td>\n",
              "      <td>NaN</td>\n",
              "      <td>NaN</td>\n",
              "    </tr>\n",
              "    <tr>\n",
              "      <th>7</th>\n",
              "      <td>41.645667</td>\n",
              "      <td>-87.542510</td>\n",
              "      <td>SOUTH SHORE CONCESSIONS</td>\n",
              "      <td>39413.0</td>\n",
              "      <td>1154790</td>\n",
              "      <td>SOUTH SHORE CONCESSIONS</td>\n",
              "      <td>restaurant</td>\n",
              "      <td>2</td>\n",
              "      <td>13730 S BRAINARD AVE</td>\n",
              "      <td>CHICAGO</td>\n",
              "      <td>IL</td>\n",
              "      <td>60633.0</td>\n",
              "      <td>2013-01-08T00:00:00.000</td>\n",
              "      <td>CANVASS</td>\n",
              "      <td>Out of Business</td>\n",
              "      <td>NaN</td>\n",
              "      <td>{'latitude': '-87.54250981313147', 'longitude'...</td>\n",
              "      <td>NaN</td>\n",
              "      <td>NaN</td>\n",
              "      <td>NaN</td>\n",
              "      <td>NaN</td>\n",
              "      <td>NaN</td>\n",
              "    </tr>\n",
              "    <tr>\n",
              "      <th>8</th>\n",
              "      <td>41.645667</td>\n",
              "      <td>-87.542510</td>\n",
              "      <td>SOUTH SHORE CONCESSIONS</td>\n",
              "      <td>39413.0</td>\n",
              "      <td>1154699</td>\n",
              "      <td>SOUTH SHORE CONCESSIONS</td>\n",
              "      <td>restaurant</td>\n",
              "      <td>2</td>\n",
              "      <td>13730 S BRAINARD AVE</td>\n",
              "      <td>CHICAGO</td>\n",
              "      <td>IL</td>\n",
              "      <td>60633.0</td>\n",
              "      <td>2012-11-16T00:00:00.000</td>\n",
              "      <td>CANVASS</td>\n",
              "      <td>No Entry</td>\n",
              "      <td>NaN</td>\n",
              "      <td>{'latitude': '-87.54250981313147', 'longitude'...</td>\n",
              "      <td>NaN</td>\n",
              "      <td>NaN</td>\n",
              "      <td>NaN</td>\n",
              "      <td>NaN</td>\n",
              "      <td>NaN</td>\n",
              "    </tr>\n",
              "    <tr>\n",
              "      <th>9</th>\n",
              "      <td>41.646371</td>\n",
              "      <td>-87.560342</td>\n",
              "      <td>WINJAMMER MARINA</td>\n",
              "      <td>79113.0</td>\n",
              "      <td>1953633</td>\n",
              "      <td>WINJAMMER MARINA</td>\n",
              "      <td>restaurant</td>\n",
              "      <td>2</td>\n",
              "      <td>13701 S HOXIE AVE</td>\n",
              "      <td>CHICAGO</td>\n",
              "      <td>IL</td>\n",
              "      <td>60633.0</td>\n",
              "      <td>2016-09-01T00:00:00.000</td>\n",
              "      <td>CANVASS</td>\n",
              "      <td>Out of Business</td>\n",
              "      <td>NaN</td>\n",
              "      <td>{'latitude': '-87.56034196262158', 'longitude'...</td>\n",
              "      <td>NaN</td>\n",
              "      <td>NaN</td>\n",
              "      <td>NaN</td>\n",
              "      <td>NaN</td>\n",
              "      <td>NaN</td>\n",
              "    </tr>\n",
              "  </tbody>\n",
              "</table>\n",
              "</div>"
            ],
            "text/plain": [
              "    Latitude  Longitude  ... Census Tracts  Wards\n",
              "0  41.644670 -87.540095  ...           NaN    NaN\n",
              "1  41.644670 -87.540095  ...           NaN    NaN\n",
              "2  41.644670 -87.540095  ...           NaN    NaN\n",
              "3  41.644670 -87.540095  ...           NaN    NaN\n",
              "4  41.644670 -87.540095  ...           NaN    NaN\n",
              "5  41.644670 -87.540095  ...           NaN    NaN\n",
              "6  41.644670 -87.540095  ...           NaN    NaN\n",
              "7  41.645667 -87.542510  ...           NaN    NaN\n",
              "8  41.645667 -87.542510  ...           NaN    NaN\n",
              "9  41.646371 -87.560342  ...           NaN    NaN\n",
              "\n",
              "[10 rows x 22 columns]"
            ]
          },
          "metadata": {
            "tags": []
          },
          "execution_count": 371
        }
      ]
    },
    {
      "cell_type": "code",
      "metadata": {
        "id": "dw11IqbDDp23",
        "colab_type": "code",
        "outputId": "2f8d9fa6-69c0-4ef2-9159-0735f540839d",
        "colab": {
          "base_uri": "https://localhost:8080/",
          "height": 917
        }
      },
      "source": [
        "# Out of business facilities that have more than 1 inspection\n",
        "dup_oob = merged_oob.groupby(['Latitude', 'Longitude', 'DBA Name', 'License #']).filter(lambda x : len(x) > 1)\n",
        "dup_oob.head(10)"
      ],
      "execution_count": 372,
      "outputs": [
        {
          "output_type": "execute_result",
          "data": {
            "text/html": [
              "<div>\n",
              "<style scoped>\n",
              "    .dataframe tbody tr th:only-of-type {\n",
              "        vertical-align: middle;\n",
              "    }\n",
              "\n",
              "    .dataframe tbody tr th {\n",
              "        vertical-align: top;\n",
              "    }\n",
              "\n",
              "    .dataframe thead th {\n",
              "        text-align: right;\n",
              "    }\n",
              "</style>\n",
              "<table border=\"1\" class=\"dataframe\">\n",
              "  <thead>\n",
              "    <tr style=\"text-align: right;\">\n",
              "      <th></th>\n",
              "      <th>Latitude</th>\n",
              "      <th>Longitude</th>\n",
              "      <th>DBA Name</th>\n",
              "      <th>License #</th>\n",
              "      <th>Inspection ID</th>\n",
              "      <th>AKA Name</th>\n",
              "      <th>Facility Type</th>\n",
              "      <th>Risk</th>\n",
              "      <th>Address</th>\n",
              "      <th>City</th>\n",
              "      <th>State</th>\n",
              "      <th>Zip</th>\n",
              "      <th>Inspection Date</th>\n",
              "      <th>Inspection Type</th>\n",
              "      <th>Results</th>\n",
              "      <th>Violations</th>\n",
              "      <th>Location</th>\n",
              "      <th>Historical Wards 2003-2015</th>\n",
              "      <th>Zip Codes</th>\n",
              "      <th>Community Areas</th>\n",
              "      <th>Census Tracts</th>\n",
              "      <th>Wards</th>\n",
              "    </tr>\n",
              "  </thead>\n",
              "  <tbody>\n",
              "    <tr>\n",
              "      <th>0</th>\n",
              "      <td>41.644670</td>\n",
              "      <td>-87.540095</td>\n",
              "      <td>BURGER KING</td>\n",
              "      <td>1473518.0</td>\n",
              "      <td>1527281</td>\n",
              "      <td>BURGER KING #7268</td>\n",
              "      <td>restaurant</td>\n",
              "      <td>2</td>\n",
              "      <td>13770 S AVENUE O</td>\n",
              "      <td>CHICAGO</td>\n",
              "      <td>IL</td>\n",
              "      <td>60633.0</td>\n",
              "      <td>2015-02-23T00:00:00.000</td>\n",
              "      <td>CANVASS</td>\n",
              "      <td>Out of Business</td>\n",
              "      <td>NaN</td>\n",
              "      <td>{'latitude': '-87.5400946053766', 'longitude':...</td>\n",
              "      <td>NaN</td>\n",
              "      <td>NaN</td>\n",
              "      <td>NaN</td>\n",
              "      <td>NaN</td>\n",
              "      <td>NaN</td>\n",
              "    </tr>\n",
              "    <tr>\n",
              "      <th>1</th>\n",
              "      <td>41.644670</td>\n",
              "      <td>-87.540095</td>\n",
              "      <td>BURGER KING</td>\n",
              "      <td>1473518.0</td>\n",
              "      <td>1494060</td>\n",
              "      <td>BURGER KING #7268</td>\n",
              "      <td>restaurant</td>\n",
              "      <td>2</td>\n",
              "      <td>13770 S AVENUE O</td>\n",
              "      <td>CHICAGO</td>\n",
              "      <td>IL</td>\n",
              "      <td>60633.0</td>\n",
              "      <td>2014-08-26T00:00:00.000</td>\n",
              "      <td>CANVASS</td>\n",
              "      <td>Pass</td>\n",
              "      <td>NaN</td>\n",
              "      <td>{'latitude': '-87.5400946053766', 'longitude':...</td>\n",
              "      <td>NaN</td>\n",
              "      <td>NaN</td>\n",
              "      <td>NaN</td>\n",
              "      <td>NaN</td>\n",
              "      <td>NaN</td>\n",
              "    </tr>\n",
              "    <tr>\n",
              "      <th>2</th>\n",
              "      <td>41.644670</td>\n",
              "      <td>-87.540095</td>\n",
              "      <td>BURGER KING</td>\n",
              "      <td>1473518.0</td>\n",
              "      <td>1493718</td>\n",
              "      <td>BURGER KING #7268</td>\n",
              "      <td>restaurant</td>\n",
              "      <td>2</td>\n",
              "      <td>13770 S AVENUE O</td>\n",
              "      <td>CHICAGO</td>\n",
              "      <td>IL</td>\n",
              "      <td>60633.0</td>\n",
              "      <td>2014-08-18T00:00:00.000</td>\n",
              "      <td>CANVASS</td>\n",
              "      <td>Fail</td>\n",
              "      <td>12. HAND WASHING FACILITIES: WITH SOAP AND SAN...</td>\n",
              "      <td>{'latitude': '-87.5400946053766', 'longitude':...</td>\n",
              "      <td>NaN</td>\n",
              "      <td>NaN</td>\n",
              "      <td>NaN</td>\n",
              "      <td>NaN</td>\n",
              "      <td>NaN</td>\n",
              "    </tr>\n",
              "    <tr>\n",
              "      <th>3</th>\n",
              "      <td>41.644670</td>\n",
              "      <td>-87.540095</td>\n",
              "      <td>BURGER KING</td>\n",
              "      <td>1473518.0</td>\n",
              "      <td>1300984</td>\n",
              "      <td>BURGER KING #7268</td>\n",
              "      <td>restaurant</td>\n",
              "      <td>2</td>\n",
              "      <td>13770 S AVENUE O</td>\n",
              "      <td>CHICAGO</td>\n",
              "      <td>IL</td>\n",
              "      <td>60633.0</td>\n",
              "      <td>2012-12-19T00:00:00.000</td>\n",
              "      <td>CANVASS</td>\n",
              "      <td>Pass w/ Conditions</td>\n",
              "      <td>21. * CERTIFIED FOOD MANAGER ON SITE WHEN POTE...</td>\n",
              "      <td>{'latitude': '-87.5400946053766', 'longitude':...</td>\n",
              "      <td>NaN</td>\n",
              "      <td>NaN</td>\n",
              "      <td>NaN</td>\n",
              "      <td>NaN</td>\n",
              "      <td>NaN</td>\n",
              "    </tr>\n",
              "    <tr>\n",
              "      <th>4</th>\n",
              "      <td>41.644670</td>\n",
              "      <td>-87.540095</td>\n",
              "      <td>BURGER KING</td>\n",
              "      <td>1473518.0</td>\n",
              "      <td>537818</td>\n",
              "      <td>BURGER KING #7268</td>\n",
              "      <td>restaurant</td>\n",
              "      <td>2</td>\n",
              "      <td>13770 S AVENUE O</td>\n",
              "      <td>CHICAGO</td>\n",
              "      <td>IL</td>\n",
              "      <td>60633.0</td>\n",
              "      <td>2012-01-10T00:00:00.000</td>\n",
              "      <td>COMPLAINT</td>\n",
              "      <td>Pass w/ Conditions</td>\n",
              "      <td>8. SANITIZING RINSE FOR EQUIPMENT AND UTENSILS...</td>\n",
              "      <td>{'latitude': '-87.5400946053766', 'longitude':...</td>\n",
              "      <td>NaN</td>\n",
              "      <td>NaN</td>\n",
              "      <td>NaN</td>\n",
              "      <td>NaN</td>\n",
              "      <td>NaN</td>\n",
              "    </tr>\n",
              "    <tr>\n",
              "      <th>5</th>\n",
              "      <td>41.644670</td>\n",
              "      <td>-87.540095</td>\n",
              "      <td>BURGER KING</td>\n",
              "      <td>1473518.0</td>\n",
              "      <td>537384</td>\n",
              "      <td>BURGER KING #7268</td>\n",
              "      <td>restaurant</td>\n",
              "      <td>2</td>\n",
              "      <td>13770 S AVENUE O</td>\n",
              "      <td>CHICAGO</td>\n",
              "      <td>IL</td>\n",
              "      <td>60633.0</td>\n",
              "      <td>2011-05-26T00:00:00.000</td>\n",
              "      <td>COMPLAINT</td>\n",
              "      <td>Pass</td>\n",
              "      <td>33. FOOD AND NON-FOOD CONTACT EQUIPMENT UTENSI...</td>\n",
              "      <td>{'latitude': '-87.5400946053766', 'longitude':...</td>\n",
              "      <td>NaN</td>\n",
              "      <td>NaN</td>\n",
              "      <td>NaN</td>\n",
              "      <td>NaN</td>\n",
              "      <td>NaN</td>\n",
              "    </tr>\n",
              "    <tr>\n",
              "      <th>6</th>\n",
              "      <td>41.644670</td>\n",
              "      <td>-87.540095</td>\n",
              "      <td>BURGER KING</td>\n",
              "      <td>1473518.0</td>\n",
              "      <td>419402</td>\n",
              "      <td>BURGER KING #7268</td>\n",
              "      <td>restaurant</td>\n",
              "      <td>2</td>\n",
              "      <td>13770 S AVENUE O</td>\n",
              "      <td>CHICAGO</td>\n",
              "      <td>IL</td>\n",
              "      <td>60633.0</td>\n",
              "      <td>2010-10-12T00:00:00.000</td>\n",
              "      <td>COMPLAINT</td>\n",
              "      <td>Pass w/ Conditions</td>\n",
              "      <td>3. POTENTIALLY HAZARDOUS FOOD MEETS TEMPERATUR...</td>\n",
              "      <td>{'latitude': '-87.5400946053766', 'longitude':...</td>\n",
              "      <td>NaN</td>\n",
              "      <td>NaN</td>\n",
              "      <td>NaN</td>\n",
              "      <td>NaN</td>\n",
              "      <td>NaN</td>\n",
              "    </tr>\n",
              "    <tr>\n",
              "      <th>7</th>\n",
              "      <td>41.645667</td>\n",
              "      <td>-87.542510</td>\n",
              "      <td>SOUTH SHORE CONCESSIONS</td>\n",
              "      <td>39413.0</td>\n",
              "      <td>1154790</td>\n",
              "      <td>SOUTH SHORE CONCESSIONS</td>\n",
              "      <td>restaurant</td>\n",
              "      <td>2</td>\n",
              "      <td>13730 S BRAINARD AVE</td>\n",
              "      <td>CHICAGO</td>\n",
              "      <td>IL</td>\n",
              "      <td>60633.0</td>\n",
              "      <td>2013-01-08T00:00:00.000</td>\n",
              "      <td>CANVASS</td>\n",
              "      <td>Out of Business</td>\n",
              "      <td>NaN</td>\n",
              "      <td>{'latitude': '-87.54250981313147', 'longitude'...</td>\n",
              "      <td>NaN</td>\n",
              "      <td>NaN</td>\n",
              "      <td>NaN</td>\n",
              "      <td>NaN</td>\n",
              "      <td>NaN</td>\n",
              "    </tr>\n",
              "    <tr>\n",
              "      <th>8</th>\n",
              "      <td>41.645667</td>\n",
              "      <td>-87.542510</td>\n",
              "      <td>SOUTH SHORE CONCESSIONS</td>\n",
              "      <td>39413.0</td>\n",
              "      <td>1154699</td>\n",
              "      <td>SOUTH SHORE CONCESSIONS</td>\n",
              "      <td>restaurant</td>\n",
              "      <td>2</td>\n",
              "      <td>13730 S BRAINARD AVE</td>\n",
              "      <td>CHICAGO</td>\n",
              "      <td>IL</td>\n",
              "      <td>60633.0</td>\n",
              "      <td>2012-11-16T00:00:00.000</td>\n",
              "      <td>CANVASS</td>\n",
              "      <td>No Entry</td>\n",
              "      <td>NaN</td>\n",
              "      <td>{'latitude': '-87.54250981313147', 'longitude'...</td>\n",
              "      <td>NaN</td>\n",
              "      <td>NaN</td>\n",
              "      <td>NaN</td>\n",
              "      <td>NaN</td>\n",
              "      <td>NaN</td>\n",
              "    </tr>\n",
              "    <tr>\n",
              "      <th>9</th>\n",
              "      <td>41.646371</td>\n",
              "      <td>-87.560342</td>\n",
              "      <td>WINJAMMER MARINA</td>\n",
              "      <td>79113.0</td>\n",
              "      <td>1953633</td>\n",
              "      <td>WINJAMMER MARINA</td>\n",
              "      <td>restaurant</td>\n",
              "      <td>2</td>\n",
              "      <td>13701 S HOXIE AVE</td>\n",
              "      <td>CHICAGO</td>\n",
              "      <td>IL</td>\n",
              "      <td>60633.0</td>\n",
              "      <td>2016-09-01T00:00:00.000</td>\n",
              "      <td>CANVASS</td>\n",
              "      <td>Out of Business</td>\n",
              "      <td>NaN</td>\n",
              "      <td>{'latitude': '-87.56034196262158', 'longitude'...</td>\n",
              "      <td>NaN</td>\n",
              "      <td>NaN</td>\n",
              "      <td>NaN</td>\n",
              "      <td>NaN</td>\n",
              "      <td>NaN</td>\n",
              "    </tr>\n",
              "  </tbody>\n",
              "</table>\n",
              "</div>"
            ],
            "text/plain": [
              "    Latitude  Longitude  ... Census Tracts  Wards\n",
              "0  41.644670 -87.540095  ...           NaN    NaN\n",
              "1  41.644670 -87.540095  ...           NaN    NaN\n",
              "2  41.644670 -87.540095  ...           NaN    NaN\n",
              "3  41.644670 -87.540095  ...           NaN    NaN\n",
              "4  41.644670 -87.540095  ...           NaN    NaN\n",
              "5  41.644670 -87.540095  ...           NaN    NaN\n",
              "6  41.644670 -87.540095  ...           NaN    NaN\n",
              "7  41.645667 -87.542510  ...           NaN    NaN\n",
              "8  41.645667 -87.542510  ...           NaN    NaN\n",
              "9  41.646371 -87.560342  ...           NaN    NaN\n",
              "\n",
              "[10 rows x 22 columns]"
            ]
          },
          "metadata": {
            "tags": []
          },
          "execution_count": 372
        }
      ]
    },
    {
      "cell_type": "code",
      "metadata": {
        "id": "6yhaSo6bGAaI",
        "colab_type": "code",
        "outputId": "5c8211f2-63ac-4edd-a00b-685160371c43",
        "colab": {
          "base_uri": "https://localhost:8080/",
          "height": 1000
        }
      },
      "source": [
        "dup_oob.dropna(subset=['Violations'], inplace=True) # the inspections that have violations (out of business facilities)\n",
        "dup_oob.head(10)"
      ],
      "execution_count": 373,
      "outputs": [
        {
          "output_type": "stream",
          "text": [
            "/usr/local/lib/python3.6/dist-packages/ipykernel_launcher.py:1: SettingWithCopyWarning: \n",
            "A value is trying to be set on a copy of a slice from a DataFrame\n",
            "\n",
            "See the caveats in the documentation: http://pandas.pydata.org/pandas-docs/stable/user_guide/indexing.html#returning-a-view-versus-a-copy\n",
            "  \"\"\"Entry point for launching an IPython kernel.\n"
          ],
          "name": "stderr"
        },
        {
          "output_type": "execute_result",
          "data": {
            "text/html": [
              "<div>\n",
              "<style scoped>\n",
              "    .dataframe tbody tr th:only-of-type {\n",
              "        vertical-align: middle;\n",
              "    }\n",
              "\n",
              "    .dataframe tbody tr th {\n",
              "        vertical-align: top;\n",
              "    }\n",
              "\n",
              "    .dataframe thead th {\n",
              "        text-align: right;\n",
              "    }\n",
              "</style>\n",
              "<table border=\"1\" class=\"dataframe\">\n",
              "  <thead>\n",
              "    <tr style=\"text-align: right;\">\n",
              "      <th></th>\n",
              "      <th>Latitude</th>\n",
              "      <th>Longitude</th>\n",
              "      <th>DBA Name</th>\n",
              "      <th>License #</th>\n",
              "      <th>Inspection ID</th>\n",
              "      <th>AKA Name</th>\n",
              "      <th>Facility Type</th>\n",
              "      <th>Risk</th>\n",
              "      <th>Address</th>\n",
              "      <th>City</th>\n",
              "      <th>State</th>\n",
              "      <th>Zip</th>\n",
              "      <th>Inspection Date</th>\n",
              "      <th>Inspection Type</th>\n",
              "      <th>Results</th>\n",
              "      <th>Violations</th>\n",
              "      <th>Location</th>\n",
              "      <th>Historical Wards 2003-2015</th>\n",
              "      <th>Zip Codes</th>\n",
              "      <th>Community Areas</th>\n",
              "      <th>Census Tracts</th>\n",
              "      <th>Wards</th>\n",
              "    </tr>\n",
              "  </thead>\n",
              "  <tbody>\n",
              "    <tr>\n",
              "      <th>2</th>\n",
              "      <td>41.644670</td>\n",
              "      <td>-87.540095</td>\n",
              "      <td>BURGER KING</td>\n",
              "      <td>1473518.0</td>\n",
              "      <td>1493718</td>\n",
              "      <td>BURGER KING #7268</td>\n",
              "      <td>restaurant</td>\n",
              "      <td>2</td>\n",
              "      <td>13770 S AVENUE O</td>\n",
              "      <td>CHICAGO</td>\n",
              "      <td>IL</td>\n",
              "      <td>60633.0</td>\n",
              "      <td>2014-08-18T00:00:00.000</td>\n",
              "      <td>CANVASS</td>\n",
              "      <td>Fail</td>\n",
              "      <td>12. HAND WASHING FACILITIES: WITH SOAP AND SAN...</td>\n",
              "      <td>{'latitude': '-87.5400946053766', 'longitude':...</td>\n",
              "      <td>NaN</td>\n",
              "      <td>NaN</td>\n",
              "      <td>NaN</td>\n",
              "      <td>NaN</td>\n",
              "      <td>NaN</td>\n",
              "    </tr>\n",
              "    <tr>\n",
              "      <th>3</th>\n",
              "      <td>41.644670</td>\n",
              "      <td>-87.540095</td>\n",
              "      <td>BURGER KING</td>\n",
              "      <td>1473518.0</td>\n",
              "      <td>1300984</td>\n",
              "      <td>BURGER KING #7268</td>\n",
              "      <td>restaurant</td>\n",
              "      <td>2</td>\n",
              "      <td>13770 S AVENUE O</td>\n",
              "      <td>CHICAGO</td>\n",
              "      <td>IL</td>\n",
              "      <td>60633.0</td>\n",
              "      <td>2012-12-19T00:00:00.000</td>\n",
              "      <td>CANVASS</td>\n",
              "      <td>Pass w/ Conditions</td>\n",
              "      <td>21. * CERTIFIED FOOD MANAGER ON SITE WHEN POTE...</td>\n",
              "      <td>{'latitude': '-87.5400946053766', 'longitude':...</td>\n",
              "      <td>NaN</td>\n",
              "      <td>NaN</td>\n",
              "      <td>NaN</td>\n",
              "      <td>NaN</td>\n",
              "      <td>NaN</td>\n",
              "    </tr>\n",
              "    <tr>\n",
              "      <th>4</th>\n",
              "      <td>41.644670</td>\n",
              "      <td>-87.540095</td>\n",
              "      <td>BURGER KING</td>\n",
              "      <td>1473518.0</td>\n",
              "      <td>537818</td>\n",
              "      <td>BURGER KING #7268</td>\n",
              "      <td>restaurant</td>\n",
              "      <td>2</td>\n",
              "      <td>13770 S AVENUE O</td>\n",
              "      <td>CHICAGO</td>\n",
              "      <td>IL</td>\n",
              "      <td>60633.0</td>\n",
              "      <td>2012-01-10T00:00:00.000</td>\n",
              "      <td>COMPLAINT</td>\n",
              "      <td>Pass w/ Conditions</td>\n",
              "      <td>8. SANITIZING RINSE FOR EQUIPMENT AND UTENSILS...</td>\n",
              "      <td>{'latitude': '-87.5400946053766', 'longitude':...</td>\n",
              "      <td>NaN</td>\n",
              "      <td>NaN</td>\n",
              "      <td>NaN</td>\n",
              "      <td>NaN</td>\n",
              "      <td>NaN</td>\n",
              "    </tr>\n",
              "    <tr>\n",
              "      <th>5</th>\n",
              "      <td>41.644670</td>\n",
              "      <td>-87.540095</td>\n",
              "      <td>BURGER KING</td>\n",
              "      <td>1473518.0</td>\n",
              "      <td>537384</td>\n",
              "      <td>BURGER KING #7268</td>\n",
              "      <td>restaurant</td>\n",
              "      <td>2</td>\n",
              "      <td>13770 S AVENUE O</td>\n",
              "      <td>CHICAGO</td>\n",
              "      <td>IL</td>\n",
              "      <td>60633.0</td>\n",
              "      <td>2011-05-26T00:00:00.000</td>\n",
              "      <td>COMPLAINT</td>\n",
              "      <td>Pass</td>\n",
              "      <td>33. FOOD AND NON-FOOD CONTACT EQUIPMENT UTENSI...</td>\n",
              "      <td>{'latitude': '-87.5400946053766', 'longitude':...</td>\n",
              "      <td>NaN</td>\n",
              "      <td>NaN</td>\n",
              "      <td>NaN</td>\n",
              "      <td>NaN</td>\n",
              "      <td>NaN</td>\n",
              "    </tr>\n",
              "    <tr>\n",
              "      <th>6</th>\n",
              "      <td>41.644670</td>\n",
              "      <td>-87.540095</td>\n",
              "      <td>BURGER KING</td>\n",
              "      <td>1473518.0</td>\n",
              "      <td>419402</td>\n",
              "      <td>BURGER KING #7268</td>\n",
              "      <td>restaurant</td>\n",
              "      <td>2</td>\n",
              "      <td>13770 S AVENUE O</td>\n",
              "      <td>CHICAGO</td>\n",
              "      <td>IL</td>\n",
              "      <td>60633.0</td>\n",
              "      <td>2010-10-12T00:00:00.000</td>\n",
              "      <td>COMPLAINT</td>\n",
              "      <td>Pass w/ Conditions</td>\n",
              "      <td>3. POTENTIALLY HAZARDOUS FOOD MEETS TEMPERATUR...</td>\n",
              "      <td>{'latitude': '-87.5400946053766', 'longitude':...</td>\n",
              "      <td>NaN</td>\n",
              "      <td>NaN</td>\n",
              "      <td>NaN</td>\n",
              "      <td>NaN</td>\n",
              "      <td>NaN</td>\n",
              "    </tr>\n",
              "    <tr>\n",
              "      <th>10</th>\n",
              "      <td>41.646371</td>\n",
              "      <td>-87.560342</td>\n",
              "      <td>WINJAMMER MARINA</td>\n",
              "      <td>79113.0</td>\n",
              "      <td>1395212</td>\n",
              "      <td>WINJAMMER MARINA</td>\n",
              "      <td>restaurant</td>\n",
              "      <td>2</td>\n",
              "      <td>13701 S HOXIE AVE</td>\n",
              "      <td>CHICAGO</td>\n",
              "      <td>IL</td>\n",
              "      <td>60633.0</td>\n",
              "      <td>2013-12-30T00:00:00.000</td>\n",
              "      <td>CANVASS</td>\n",
              "      <td>Pass</td>\n",
              "      <td>33. FOOD AND NON-FOOD CONTACT EQUIPMENT UTENSI...</td>\n",
              "      <td>{'latitude': '-87.56034196262158', 'longitude'...</td>\n",
              "      <td>NaN</td>\n",
              "      <td>NaN</td>\n",
              "      <td>NaN</td>\n",
              "      <td>NaN</td>\n",
              "      <td>NaN</td>\n",
              "    </tr>\n",
              "    <tr>\n",
              "      <th>11</th>\n",
              "      <td>41.646371</td>\n",
              "      <td>-87.560342</td>\n",
              "      <td>WINJAMMER MARINA</td>\n",
              "      <td>79113.0</td>\n",
              "      <td>1376043</td>\n",
              "      <td>WINJAMMER MARINA</td>\n",
              "      <td>restaurant</td>\n",
              "      <td>2</td>\n",
              "      <td>13701 S HOXIE AVE</td>\n",
              "      <td>CHICAGO</td>\n",
              "      <td>IL</td>\n",
              "      <td>60633.0</td>\n",
              "      <td>2013-12-13T00:00:00.000</td>\n",
              "      <td>CANVASS</td>\n",
              "      <td>Fail</td>\n",
              "      <td>18. NO EVIDENCE OF RODENT OR INSECT OUTER OPEN...</td>\n",
              "      <td>{'latitude': '-87.56034196262158', 'longitude'...</td>\n",
              "      <td>NaN</td>\n",
              "      <td>NaN</td>\n",
              "      <td>NaN</td>\n",
              "      <td>NaN</td>\n",
              "      <td>NaN</td>\n",
              "    </tr>\n",
              "    <tr>\n",
              "      <th>12</th>\n",
              "      <td>41.646371</td>\n",
              "      <td>-87.560342</td>\n",
              "      <td>WINJAMMER MARINA</td>\n",
              "      <td>79113.0</td>\n",
              "      <td>1154722</td>\n",
              "      <td>WINJAMMER MARINA</td>\n",
              "      <td>restaurant</td>\n",
              "      <td>2</td>\n",
              "      <td>13701 S HOXIE AVE</td>\n",
              "      <td>CHICAGO</td>\n",
              "      <td>IL</td>\n",
              "      <td>60633.0</td>\n",
              "      <td>2012-11-29T00:00:00.000</td>\n",
              "      <td>CANVASS</td>\n",
              "      <td>Pass</td>\n",
              "      <td>36. LIGHTING: REQUIRED MINIMUM FOOT-CANDLES OF...</td>\n",
              "      <td>{'latitude': '-87.56034196262158', 'longitude'...</td>\n",
              "      <td>NaN</td>\n",
              "      <td>NaN</td>\n",
              "      <td>NaN</td>\n",
              "      <td>NaN</td>\n",
              "      <td>NaN</td>\n",
              "    </tr>\n",
              "    <tr>\n",
              "      <th>13</th>\n",
              "      <td>41.646371</td>\n",
              "      <td>-87.560342</td>\n",
              "      <td>WINJAMMER MARINA</td>\n",
              "      <td>79113.0</td>\n",
              "      <td>1154702</td>\n",
              "      <td>WINJAMMER MARINA</td>\n",
              "      <td>restaurant</td>\n",
              "      <td>2</td>\n",
              "      <td>13701 S HOXIE AVE</td>\n",
              "      <td>CHICAGO</td>\n",
              "      <td>IL</td>\n",
              "      <td>60633.0</td>\n",
              "      <td>2012-11-16T00:00:00.000</td>\n",
              "      <td>CANVASS</td>\n",
              "      <td>Fail</td>\n",
              "      <td>18. NO EVIDENCE OF RODENT OR INSECT OUTER OPEN...</td>\n",
              "      <td>{'latitude': '-87.56034196262158', 'longitude'...</td>\n",
              "      <td>NaN</td>\n",
              "      <td>NaN</td>\n",
              "      <td>NaN</td>\n",
              "      <td>NaN</td>\n",
              "      <td>NaN</td>\n",
              "    </tr>\n",
              "    <tr>\n",
              "      <th>15</th>\n",
              "      <td>41.646371</td>\n",
              "      <td>-87.560342</td>\n",
              "      <td>WINJAMMER MARINA</td>\n",
              "      <td>79113.0</td>\n",
              "      <td>284241</td>\n",
              "      <td>WINJAMMER MARINA</td>\n",
              "      <td>restaurant</td>\n",
              "      <td>2</td>\n",
              "      <td>13701 S HOXIE AVE</td>\n",
              "      <td>CHICAGO</td>\n",
              "      <td>IL</td>\n",
              "      <td>60633.0</td>\n",
              "      <td>2010-08-11T00:00:00.000</td>\n",
              "      <td>COMPLAINT</td>\n",
              "      <td>Pass</td>\n",
              "      <td>32. FOOD AND NON-FOOD CONTACT SURFACES PROPERL...</td>\n",
              "      <td>{'latitude': '-87.56034196262158', 'longitude'...</td>\n",
              "      <td>NaN</td>\n",
              "      <td>NaN</td>\n",
              "      <td>NaN</td>\n",
              "      <td>NaN</td>\n",
              "      <td>NaN</td>\n",
              "    </tr>\n",
              "  </tbody>\n",
              "</table>\n",
              "</div>"
            ],
            "text/plain": [
              "     Latitude  Longitude  ... Census Tracts  Wards\n",
              "2   41.644670 -87.540095  ...           NaN    NaN\n",
              "3   41.644670 -87.540095  ...           NaN    NaN\n",
              "4   41.644670 -87.540095  ...           NaN    NaN\n",
              "5   41.644670 -87.540095  ...           NaN    NaN\n",
              "6   41.644670 -87.540095  ...           NaN    NaN\n",
              "10  41.646371 -87.560342  ...           NaN    NaN\n",
              "11  41.646371 -87.560342  ...           NaN    NaN\n",
              "12  41.646371 -87.560342  ...           NaN    NaN\n",
              "13  41.646371 -87.560342  ...           NaN    NaN\n",
              "15  41.646371 -87.560342  ...           NaN    NaN\n",
              "\n",
              "[10 rows x 22 columns]"
            ]
          },
          "metadata": {
            "tags": []
          },
          "execution_count": 373
        }
      ]
    },
    {
      "cell_type": "code",
      "metadata": {
        "id": "YlUwb7Z2MIZx",
        "colab_type": "code",
        "outputId": "4397b046-c6b9-4a5d-969a-08a95e15b2bd",
        "colab": {
          "base_uri": "https://localhost:8080/",
          "height": 230
        }
      },
      "source": [
        "violations_oob = dup_oob['Violations'].apply(lambda x: re.findall(r'^[0-9]+[.] | [|] [0-9]+[.] ', x))\n",
        "violations_oob = pd.DataFrame(violations_oob)\n",
        "violation_nums_oob = violations_oob['Violations'].apply(lambda x: [int(sub.replace('|','').split('.')[0]) for sub in x])\n",
        "violation_nums_oob"
      ],
      "execution_count": 374,
      "outputs": [
        {
          "output_type": "execute_result",
          "data": {
            "text/plain": [
              "2                [12, 21, 28, 29, 33, 38]\n",
              "3        [21, 33, 34, 35, 38, 40, 41, 42]\n",
              "4             [8, 21, 33, 34, 35, 36, 38]\n",
              "5                    [33, 34, 35, 36, 38]\n",
              "6                     [3, 12, 21, 33, 34]\n",
              "                       ...               \n",
              "69325                        [32, 33, 34]\n",
              "69326                                [41]\n",
              "69327                        [18, 28, 41]\n",
              "69328                            [21, 33]\n",
              "69329                        [18, 21, 33]\n",
              "Name: Violations, Length: 44970, dtype: object"
            ]
          },
          "metadata": {
            "tags": []
          },
          "execution_count": 374
        }
      ]
    },
    {
      "cell_type": "code",
      "metadata": {
        "id": "BX8lLCYvYf6h",
        "colab_type": "code",
        "outputId": "f943c050-5f79-472f-a3d7-5138f192baf9",
        "colab": {
          "base_uri": "https://localhost:8080/",
          "height": 352
        }
      },
      "source": [
        "violation_nums_oob = pd.DataFrame(violation_nums_oob)\n",
        "violation_nums_oob.reset_index(inplace=True)\n",
        "violation_nums_oob.drop(columns='index', inplace=True)\n",
        "violation_nums_oob.head(10)"
      ],
      "execution_count": 375,
      "outputs": [
        {
          "output_type": "execute_result",
          "data": {
            "text/html": [
              "<div>\n",
              "<style scoped>\n",
              "    .dataframe tbody tr th:only-of-type {\n",
              "        vertical-align: middle;\n",
              "    }\n",
              "\n",
              "    .dataframe tbody tr th {\n",
              "        vertical-align: top;\n",
              "    }\n",
              "\n",
              "    .dataframe thead th {\n",
              "        text-align: right;\n",
              "    }\n",
              "</style>\n",
              "<table border=\"1\" class=\"dataframe\">\n",
              "  <thead>\n",
              "    <tr style=\"text-align: right;\">\n",
              "      <th></th>\n",
              "      <th>Violations</th>\n",
              "    </tr>\n",
              "  </thead>\n",
              "  <tbody>\n",
              "    <tr>\n",
              "      <th>0</th>\n",
              "      <td>[12, 21, 28, 29, 33, 38]</td>\n",
              "    </tr>\n",
              "    <tr>\n",
              "      <th>1</th>\n",
              "      <td>[21, 33, 34, 35, 38, 40, 41, 42]</td>\n",
              "    </tr>\n",
              "    <tr>\n",
              "      <th>2</th>\n",
              "      <td>[8, 21, 33, 34, 35, 36, 38]</td>\n",
              "    </tr>\n",
              "    <tr>\n",
              "      <th>3</th>\n",
              "      <td>[33, 34, 35, 36, 38]</td>\n",
              "    </tr>\n",
              "    <tr>\n",
              "      <th>4</th>\n",
              "      <td>[3, 12, 21, 33, 34]</td>\n",
              "    </tr>\n",
              "    <tr>\n",
              "      <th>5</th>\n",
              "      <td>[33, 34, 35]</td>\n",
              "    </tr>\n",
              "    <tr>\n",
              "      <th>6</th>\n",
              "      <td>[18, 33, 34, 35, 38, 70]</td>\n",
              "    </tr>\n",
              "    <tr>\n",
              "      <th>7</th>\n",
              "      <td>[36, 38, 42]</td>\n",
              "    </tr>\n",
              "    <tr>\n",
              "      <th>8</th>\n",
              "      <td>[18, 21, 33, 34, 36, 38, 40, 41, 42]</td>\n",
              "    </tr>\n",
              "    <tr>\n",
              "      <th>9</th>\n",
              "      <td>[32, 34]</td>\n",
              "    </tr>\n",
              "  </tbody>\n",
              "</table>\n",
              "</div>"
            ],
            "text/plain": [
              "                             Violations\n",
              "0              [12, 21, 28, 29, 33, 38]\n",
              "1      [21, 33, 34, 35, 38, 40, 41, 42]\n",
              "2           [8, 21, 33, 34, 35, 36, 38]\n",
              "3                  [33, 34, 35, 36, 38]\n",
              "4                   [3, 12, 21, 33, 34]\n",
              "5                          [33, 34, 35]\n",
              "6              [18, 33, 34, 35, 38, 70]\n",
              "7                          [36, 38, 42]\n",
              "8  [18, 21, 33, 34, 36, 38, 40, 41, 42]\n",
              "9                              [32, 34]"
            ]
          },
          "metadata": {
            "tags": []
          },
          "execution_count": 375
        }
      ]
    },
    {
      "cell_type": "code",
      "metadata": {
        "id": "mLcVYIYMZuK1",
        "colab_type": "code",
        "colab": {}
      },
      "source": [
        "vio_freq_oob = {}\n",
        "for i in violation_nums_oob['Violations']:\n",
        "  for j in i:\n",
        "    vio_freq_oob[str(j)] = 1 if str(j) not in vio_freq_oob else vio_freq_oob[str(j)]+1"
      ],
      "execution_count": 0,
      "outputs": []
    },
    {
      "cell_type": "code",
      "metadata": {
        "id": "JISkCx_ubeAB",
        "colab_type": "code",
        "outputId": "c576f00e-efc8-48dc-f6a7-719d6299649a",
        "colab": {
          "base_uri": "https://localhost:8080/",
          "height": 295
        }
      },
      "source": [
        "plt.figure(figsize=(17,4))\n",
        "plt.bar(list(vio_freq_oob.keys()), vio_freq_oob.values())\n",
        "plt.title('Violation Types vs. Their Frequencies in Out of Business Facilities')\n",
        "plt.xlabel('Violation Types')\n",
        "plt.ylabel('Frequency')\n",
        "plt.show()"
      ],
      "execution_count": 377,
      "outputs": [
        {
          "output_type": "display_data",
          "data": {
            "image/png": "[encoded data removed]",
            "text/plain": [
              "<Figure size 1224x288 with 1 Axes>"
            ]
          },
          "metadata": {
            "tags": []
          }
        }
      ]
    },
    {
      "cell_type": "markdown",
      "metadata": {
        "id": "f5NepMPsc2Sx",
        "colab_type": "text"
      },
      "source": [
        "From the figure above, we can see that certain violation types outnumber the others. So, we decided to sort the violation types in terms of their frequencies and display them in the graph below."
      ]
    },
    {
      "cell_type": "code",
      "metadata": {
        "id": "iG5RGczLkTgP",
        "colab_type": "code",
        "colab": {}
      },
      "source": [
        "sorted_vio_freq_oob = {}\n",
        "\n",
        "for key in sorted(vio_freq_oob, key=vio_freq_oob.__getitem__, reverse=True):\n",
        "  sorted_vio_freq_oob[key] = vio_freq_oob[key]"
      ],
      "execution_count": 0,
      "outputs": []
    },
    {
      "cell_type": "code",
      "metadata": {
        "id": "eCE3Zu7lkQ8w",
        "colab_type": "code",
        "outputId": "c3d97c6f-5d0b-4e19-f806-2891bbf9d16d",
        "colab": {
          "base_uri": "https://localhost:8080/",
          "height": 295
        }
      },
      "source": [
        "plt.figure(figsize=(17,4))\n",
        "plt.bar(list(sorted_vio_freq_oob.keys()), sorted_vio_freq_oob.values())\n",
        "plt.title('Violation Types vs. Their Frequencies in Out of Business Facilities')\n",
        "plt.xlabel('Violation Types')\n",
        "plt.ylabel('Frequency')\n",
        "plt.show()"
      ],
      "execution_count": 379,
      "outputs": [
        {
          "output_type": "display_data",
          "data": {
            "image/png": "[encoded data removed]",
            "text/plain": [
              "<Figure size 1224x288 with 1 Axes>"
            ]
          },
          "metadata": {
            "tags": []
          }
        }
      ]
    },
    {
      "cell_type": "code",
      "metadata": {
        "id": "_hvSFyDEkmc8",
        "colab_type": "code",
        "outputId": "56f2eee8-2249-4e9a-8326-077684659236",
        "colab": {
          "base_uri": "https://localhost:8080/",
          "height": 284
        }
      },
      "source": [
        "most_freq_vio_oob = [key for key, value in list(sorted_vio_freq_oob.items())[0:15]]\n",
        "most_freq_vio_oob # top 10 most frequent violation types among facilities that went out of business"
      ],
      "execution_count": 380,
      "outputs": [
        {
          "output_type": "execute_result",
          "data": {
            "text/plain": [
              "['34',\n",
              " '33',\n",
              " '35',\n",
              " '32',\n",
              " '38',\n",
              " '41',\n",
              " '36',\n",
              " '18',\n",
              " '30',\n",
              " '40',\n",
              " '21',\n",
              " '3',\n",
              " '31',\n",
              " '37',\n",
              " '43']"
            ]
          },
          "metadata": {
            "tags": []
          },
          "execution_count": 380
        }
      ]
    },
    {
      "cell_type": "code",
      "metadata": {
        "id": "MbsGSDm7czg-",
        "colab_type": "code",
        "colab": {}
      },
      "source": [
        "# Inspections of facilities that didn't go out of business\n",
        " set_diff_oob = pd.concat([df, merged_oob, merged_oob], sort=True).drop_duplicates(keep=False, subset=['Latitude', 'Longitude', 'DBA Name', 'License #', 'Inspection Date'])"
      ],
      "execution_count": 0,
      "outputs": []
    },
    {
      "cell_type": "code",
      "metadata": {
        "id": "oEPL3X9Fpzb_",
        "colab_type": "code",
        "outputId": "8d754623-7d25-43ed-f8dc-8c373fc091ed",
        "colab": {
          "base_uri": "https://localhost:8080/",
          "height": 1000
        }
      },
      "source": [
        "set_diff_oob.dropna(subset=['Violations'], inplace=True) # the inspections that have violations (out of business facilities)\n",
        "set_diff_oob.head(10)"
      ],
      "execution_count": 382,
      "outputs": [
        {
          "output_type": "execute_result",
          "data": {
            "text/html": [
              "<div>\n",
              "<style scoped>\n",
              "    .dataframe tbody tr th:only-of-type {\n",
              "        vertical-align: middle;\n",
              "    }\n",
              "\n",
              "    .dataframe tbody tr th {\n",
              "        vertical-align: top;\n",
              "    }\n",
              "\n",
              "    .dataframe thead th {\n",
              "        text-align: right;\n",
              "    }\n",
              "</style>\n",
              "<table border=\"1\" class=\"dataframe\">\n",
              "  <thead>\n",
              "    <tr style=\"text-align: right;\">\n",
              "      <th></th>\n",
              "      <th>AKA Name</th>\n",
              "      <th>Address</th>\n",
              "      <th>Census Tracts</th>\n",
              "      <th>City</th>\n",
              "      <th>Community Areas</th>\n",
              "      <th>DBA Name</th>\n",
              "      <th>Facility Type</th>\n",
              "      <th>Historical Wards 2003-2015</th>\n",
              "      <th>Inspection Date</th>\n",
              "      <th>Inspection ID</th>\n",
              "      <th>Inspection Type</th>\n",
              "      <th>Latitude</th>\n",
              "      <th>License #</th>\n",
              "      <th>Location</th>\n",
              "      <th>Longitude</th>\n",
              "      <th>Results</th>\n",
              "      <th>Risk</th>\n",
              "      <th>State</th>\n",
              "      <th>Violations</th>\n",
              "      <th>Wards</th>\n",
              "      <th>Zip</th>\n",
              "      <th>Zip Codes</th>\n",
              "    </tr>\n",
              "  </thead>\n",
              "  <tbody>\n",
              "    <tr>\n",
              "      <th>0</th>\n",
              "      <td>CHIPOTLE MEXICAN GRILL</td>\n",
              "      <td>1025 W ADDISON ST</td>\n",
              "      <td>NaN</td>\n",
              "      <td>CHICAGO</td>\n",
              "      <td>NaN</td>\n",
              "      <td>CHIPOTLE MEXICAN GRILL</td>\n",
              "      <td>restaurant</td>\n",
              "      <td>NaN</td>\n",
              "      <td>2019-12-04T00:00:00.000</td>\n",
              "      <td>2352683</td>\n",
              "      <td>LICENSE</td>\n",
              "      <td>41.947118</td>\n",
              "      <td>2670642.0</td>\n",
              "      <td>{'latitude': '-87.6553811622124', 'longitude':...</td>\n",
              "      <td>-87.655381</td>\n",
              "      <td>Pass w/ Conditions</td>\n",
              "      <td>1</td>\n",
              "      <td>IL</td>\n",
              "      <td>3. MANAGEMENT, FOOD EMPLOYEE AND CONDITIONAL E...</td>\n",
              "      <td>NaN</td>\n",
              "      <td>60613.0</td>\n",
              "      <td>NaN</td>\n",
              "    </tr>\n",
              "    <tr>\n",
              "      <th>1</th>\n",
              "      <td>CHILI'S (T1-B14)</td>\n",
              "      <td>11601 W TOUHY AVE</td>\n",
              "      <td>NaN</td>\n",
              "      <td>CHICAGO</td>\n",
              "      <td>NaN</td>\n",
              "      <td>CHILIS T-I</td>\n",
              "      <td>restaurant</td>\n",
              "      <td>NaN</td>\n",
              "      <td>2019-12-04T00:00:00.000</td>\n",
              "      <td>2352734</td>\n",
              "      <td>CANVASS</td>\n",
              "      <td>42.008536</td>\n",
              "      <td>34169.0</td>\n",
              "      <td>{'latitude': '-87.91442843927047', 'longitude'...</td>\n",
              "      <td>-87.914428</td>\n",
              "      <td>Pass</td>\n",
              "      <td>1</td>\n",
              "      <td>IL</td>\n",
              "      <td>10. ADEQUATE HANDWASHING SINKS PROPERLY SUPPLI...</td>\n",
              "      <td>NaN</td>\n",
              "      <td>60666.0</td>\n",
              "      <td>NaN</td>\n",
              "    </tr>\n",
              "    <tr>\n",
              "      <th>2</th>\n",
              "      <td>NaN</td>\n",
              "      <td>3401 W BELMONT AVE</td>\n",
              "      <td>NaN</td>\n",
              "      <td>CHICAGO</td>\n",
              "      <td>NaN</td>\n",
              "      <td>TAQUERIA BLUE LINE</td>\n",
              "      <td>restaurant</td>\n",
              "      <td>NaN</td>\n",
              "      <td>2019-12-04T00:00:00.000</td>\n",
              "      <td>2352701</td>\n",
              "      <td>LICENSE</td>\n",
              "      <td>41.939168</td>\n",
              "      <td>2703436.0</td>\n",
              "      <td>{'latitude': '-87.71254599117191', 'longitude'...</td>\n",
              "      <td>-87.712546</td>\n",
              "      <td>Pass w/ Conditions</td>\n",
              "      <td>1</td>\n",
              "      <td>IL</td>\n",
              "      <td>3. MANAGEMENT, FOOD EMPLOYEE AND CONDITIONAL E...</td>\n",
              "      <td>NaN</td>\n",
              "      <td>60618.0</td>\n",
              "      <td>NaN</td>\n",
              "    </tr>\n",
              "    <tr>\n",
              "      <th>6</th>\n",
              "      <td>NAIBOA LATIN STORE</td>\n",
              "      <td>3349 N CLARK ST</td>\n",
              "      <td>NaN</td>\n",
              "      <td>CHICAGO</td>\n",
              "      <td>NaN</td>\n",
              "      <td>NAIBOA LATIN STORE</td>\n",
              "      <td>retail store</td>\n",
              "      <td>NaN</td>\n",
              "      <td>2019-12-04T00:00:00.000</td>\n",
              "      <td>2352702</td>\n",
              "      <td>LICENSE</td>\n",
              "      <td>41.943032</td>\n",
              "      <td>2698776.0</td>\n",
              "      <td>{'latitude': '-87.65299525711882', 'longitude'...</td>\n",
              "      <td>-87.652995</td>\n",
              "      <td>Pass w/ Conditions</td>\n",
              "      <td>3</td>\n",
              "      <td>IL</td>\n",
              "      <td>5. PROCEDURES FOR RESPONDING TO VOMITING AND D...</td>\n",
              "      <td>NaN</td>\n",
              "      <td>60657.0</td>\n",
              "      <td>NaN</td>\n",
              "    </tr>\n",
              "    <tr>\n",
              "      <th>7</th>\n",
              "      <td>JAMIESON PUBLIC SCHOOL</td>\n",
              "      <td>5650 N MOZART</td>\n",
              "      <td>NaN</td>\n",
              "      <td>CHICAGO</td>\n",
              "      <td>NaN</td>\n",
              "      <td>JAMIESON</td>\n",
              "      <td>school</td>\n",
              "      <td>NaN</td>\n",
              "      <td>2019-12-04T00:00:00.000</td>\n",
              "      <td>2352718</td>\n",
              "      <td>CANVASS</td>\n",
              "      <td>41.984614</td>\n",
              "      <td>23931.0</td>\n",
              "      <td>{'latitude': '-87.70056525028134', 'longitude'...</td>\n",
              "      <td>-87.700565</td>\n",
              "      <td>Pass</td>\n",
              "      <td>1</td>\n",
              "      <td>IL</td>\n",
              "      <td>49. NON-FOOD/FOOD CONTACT SURFACES CLEAN - Com...</td>\n",
              "      <td>NaN</td>\n",
              "      <td>60659.0</td>\n",
              "      <td>NaN</td>\n",
              "    </tr>\n",
              "    <tr>\n",
              "      <th>9</th>\n",
              "      <td>BLUE LINE</td>\n",
              "      <td>1548 N DAMEN AVE</td>\n",
              "      <td>NaN</td>\n",
              "      <td>CHICAGO</td>\n",
              "      <td>NaN</td>\n",
              "      <td>BLUE LINE</td>\n",
              "      <td>restaurant</td>\n",
              "      <td>NaN</td>\n",
              "      <td>2019-12-03T00:00:00.000</td>\n",
              "      <td>2352629</td>\n",
              "      <td>CANVASS</td>\n",
              "      <td>41.909616</td>\n",
              "      <td>1170410.0</td>\n",
              "      <td>{'latitude': '-87.6775884711046', 'longitude':...</td>\n",
              "      <td>-87.677588</td>\n",
              "      <td>Pass w/ Conditions</td>\n",
              "      <td>1</td>\n",
              "      <td>IL</td>\n",
              "      <td>25. CONSUMER ADVISORY PROVIDED FOR RAW/UNDERCO...</td>\n",
              "      <td>NaN</td>\n",
              "      <td>60622.0</td>\n",
              "      <td>NaN</td>\n",
              "    </tr>\n",
              "    <tr>\n",
              "      <th>13</th>\n",
              "      <td>BRIGADOON</td>\n",
              "      <td>5748 W LAWRENCE AVE</td>\n",
              "      <td>NaN</td>\n",
              "      <td>CHICAGO</td>\n",
              "      <td>NaN</td>\n",
              "      <td>BRIGADOON</td>\n",
              "      <td>tavern</td>\n",
              "      <td>NaN</td>\n",
              "      <td>2019-12-03T00:00:00.000</td>\n",
              "      <td>2352677</td>\n",
              "      <td>COMPLAINT</td>\n",
              "      <td>41.967838</td>\n",
              "      <td>12144.0</td>\n",
              "      <td>{'latitude': '-87.7716235051089', 'longitude':...</td>\n",
              "      <td>-87.771624</td>\n",
              "      <td>Pass w/ Conditions</td>\n",
              "      <td>3</td>\n",
              "      <td>IL</td>\n",
              "      <td>3. MANAGEMENT, FOOD EMPLOYEE AND CONDITIONAL E...</td>\n",
              "      <td>NaN</td>\n",
              "      <td>60630.0</td>\n",
              "      <td>NaN</td>\n",
              "    </tr>\n",
              "    <tr>\n",
              "      <th>14</th>\n",
              "      <td>HARRY CARAY'S SHORTSTOP</td>\n",
              "      <td>5700 S CICERO AVE</td>\n",
              "      <td>NaN</td>\n",
              "      <td>CHICAGO</td>\n",
              "      <td>NaN</td>\n",
              "      <td>HARRY CARAYS SHORTSTOP</td>\n",
              "      <td>restaurant</td>\n",
              "      <td>NaN</td>\n",
              "      <td>2019-12-03T00:00:00.000</td>\n",
              "      <td>2352653</td>\n",
              "      <td>CANVASS</td>\n",
              "      <td>41.789329</td>\n",
              "      <td>2689813.0</td>\n",
              "      <td>{'latitude': '-87.74164564419637', 'longitude'...</td>\n",
              "      <td>-87.741646</td>\n",
              "      <td>Pass</td>\n",
              "      <td>1</td>\n",
              "      <td>IL</td>\n",
              "      <td>45. SINGLE-USE/SINGLE-SERVICE ARTICLES: PROPER...</td>\n",
              "      <td>NaN</td>\n",
              "      <td>60638.0</td>\n",
              "      <td>NaN</td>\n",
              "    </tr>\n",
              "    <tr>\n",
              "      <th>17</th>\n",
              "      <td>SUBWAY</td>\n",
              "      <td>615 W LAKE ST</td>\n",
              "      <td>NaN</td>\n",
              "      <td>CHICAGO</td>\n",
              "      <td>NaN</td>\n",
              "      <td>SUBWAY</td>\n",
              "      <td>restaurant</td>\n",
              "      <td>NaN</td>\n",
              "      <td>2019-12-03T00:00:00.000</td>\n",
              "      <td>2352617</td>\n",
              "      <td>LICENSE</td>\n",
              "      <td>41.885594</td>\n",
              "      <td>2703766.0</td>\n",
              "      <td>{'latitude': '-87.64346245829006', 'longitude'...</td>\n",
              "      <td>-87.643462</td>\n",
              "      <td>Pass w/ Conditions</td>\n",
              "      <td>1</td>\n",
              "      <td>IL</td>\n",
              "      <td>3. MANAGEMENT, FOOD EMPLOYEE AND CONDITIONAL E...</td>\n",
              "      <td>NaN</td>\n",
              "      <td>60661.0</td>\n",
              "      <td>NaN</td>\n",
              "    </tr>\n",
              "    <tr>\n",
              "      <th>19</th>\n",
              "      <td>AMARIT RESTAURANT</td>\n",
              "      <td>600 S DEARBORN ST</td>\n",
              "      <td>NaN</td>\n",
              "      <td>CHICAGO</td>\n",
              "      <td>NaN</td>\n",
              "      <td>AMARIT RESTAURANT</td>\n",
              "      <td>restaurant</td>\n",
              "      <td>NaN</td>\n",
              "      <td>2019-12-03T00:00:00.000</td>\n",
              "      <td>2352649</td>\n",
              "      <td>CANVASS</td>\n",
              "      <td>41.874481</td>\n",
              "      <td>1801618.0</td>\n",
              "      <td>{'latitude': '-87.62935653990546', 'longitude'...</td>\n",
              "      <td>-87.629357</td>\n",
              "      <td>Fail</td>\n",
              "      <td>1</td>\n",
              "      <td>IL</td>\n",
              "      <td>10. ADEQUATE HANDWASHING SINKS PROPERLY SUPPLI...</td>\n",
              "      <td>NaN</td>\n",
              "      <td>60605.0</td>\n",
              "      <td>NaN</td>\n",
              "    </tr>\n",
              "  </tbody>\n",
              "</table>\n",
              "</div>"
            ],
            "text/plain": [
              "                   AKA Name               Address  ...      Zip Zip Codes\n",
              "0    CHIPOTLE MEXICAN GRILL    1025 W ADDISON ST   ...  60613.0       NaN\n",
              "1          CHILI'S (T1-B14)    11601 W TOUHY AVE   ...  60666.0       NaN\n",
              "2                       NaN   3401 W BELMONT AVE   ...  60618.0       NaN\n",
              "6        NAIBOA LATIN STORE      3349 N CLARK ST   ...  60657.0       NaN\n",
              "7    JAMIESON PUBLIC SCHOOL        5650 N MOZART   ...  60659.0       NaN\n",
              "9                 BLUE LINE     1548 N DAMEN AVE   ...  60622.0       NaN\n",
              "13                BRIGADOON  5748 W LAWRENCE AVE   ...  60630.0       NaN\n",
              "14  HARRY CARAY'S SHORTSTOP    5700 S CICERO AVE   ...  60638.0       NaN\n",
              "17                   SUBWAY        615 W LAKE ST   ...  60661.0       NaN\n",
              "19        AMARIT RESTAURANT    600 S DEARBORN ST   ...  60605.0       NaN\n",
              "\n",
              "[10 rows x 22 columns]"
            ]
          },
          "metadata": {
            "tags": []
          },
          "execution_count": 382
        }
      ]
    },
    {
      "cell_type": "markdown",
      "metadata": {
        "id": "fCjsqIlWdSY7",
        "colab_type": "text"
      },
      "source": [
        "### **Violations analysis - facilities that have not gone out of business**"
      ]
    },
    {
      "cell_type": "code",
      "metadata": {
        "id": "c17Vg__XqE5U",
        "colab_type": "code",
        "outputId": "0e2f2500-bcc4-4afe-b839-72912686b707",
        "colab": {
          "base_uri": "https://localhost:8080/",
          "height": 230
        }
      },
      "source": [
        "violations_not_oob = set_diff_oob['Violations'].apply(lambda x: re.findall(r'^[0-9]+[.] | [|] [0-9]+[.] ', x))\n",
        "violations_not_oob = pd.DataFrame(violations_not_oob)\n",
        "violation_nums_not_oob = violations_not_oob['Violations'].apply(lambda x: [int(sub.replace('|','').split('.')[0]) for sub in x])\n",
        "violation_nums_not_oob"
      ],
      "execution_count": 383,
      "outputs": [
        {
          "output_type": "execute_result",
          "data": {
            "text/plain": [
              "0                                                  [3]\n",
              "1                                 [10, 47, 49, 55, 55]\n",
              "2                               [3, 5, 16, 51, 53, 58]\n",
              "6                                      [5, 36, 51, 53]\n",
              "7                                         [49, 55, 56]\n",
              "                              ...                     \n",
              "192903                            [32, 33, 35, 38, 40]\n",
              "192904                            [33, 34, 35, 38, 41]\n",
              "192905                             [9, 32, 33, 35, 36]\n",
              "192910    [18, 19, 32, 33, 34, 35, 36, 37, 38, 39, 41]\n",
              "192913                            [18, 32, 34, 35, 36]\n",
              "Name: Violations, Length: 98557, dtype: object"
            ]
          },
          "metadata": {
            "tags": []
          },
          "execution_count": 383
        }
      ]
    },
    {
      "cell_type": "code",
      "metadata": {
        "id": "8pJUR7fdxOjZ",
        "colab_type": "code",
        "outputId": "d57d830d-0760-4328-8e68-59c6c75a2df2",
        "colab": {
          "base_uri": "https://localhost:8080/",
          "height": 352
        }
      },
      "source": [
        "violation_nums_not_oob = pd.DataFrame(violation_nums_not_oob)\n",
        "violation_nums_not_oob.reset_index(inplace=True)\n",
        "violation_nums_not_oob.drop(columns='index', inplace=True)\n",
        "violation_nums_not_oob.head(10)"
      ],
      "execution_count": 384,
      "outputs": [
        {
          "output_type": "execute_result",
          "data": {
            "text/html": [
              "<div>\n",
              "<style scoped>\n",
              "    .dataframe tbody tr th:only-of-type {\n",
              "        vertical-align: middle;\n",
              "    }\n",
              "\n",
              "    .dataframe tbody tr th {\n",
              "        vertical-align: top;\n",
              "    }\n",
              "\n",
              "    .dataframe thead th {\n",
              "        text-align: right;\n",
              "    }\n",
              "</style>\n",
              "<table border=\"1\" class=\"dataframe\">\n",
              "  <thead>\n",
              "    <tr style=\"text-align: right;\">\n",
              "      <th></th>\n",
              "      <th>Violations</th>\n",
              "    </tr>\n",
              "  </thead>\n",
              "  <tbody>\n",
              "    <tr>\n",
              "      <th>0</th>\n",
              "      <td>[3]</td>\n",
              "    </tr>\n",
              "    <tr>\n",
              "      <th>1</th>\n",
              "      <td>[10, 47, 49, 55, 55]</td>\n",
              "    </tr>\n",
              "    <tr>\n",
              "      <th>2</th>\n",
              "      <td>[3, 5, 16, 51, 53, 58]</td>\n",
              "    </tr>\n",
              "    <tr>\n",
              "      <th>3</th>\n",
              "      <td>[5, 36, 51, 53]</td>\n",
              "    </tr>\n",
              "    <tr>\n",
              "      <th>4</th>\n",
              "      <td>[49, 55, 56]</td>\n",
              "    </tr>\n",
              "    <tr>\n",
              "      <th>5</th>\n",
              "      <td>[25]</td>\n",
              "    </tr>\n",
              "    <tr>\n",
              "      <th>6</th>\n",
              "      <td>[3, 5, 10, 49, 51, 53, 55, 55]</td>\n",
              "    </tr>\n",
              "    <tr>\n",
              "      <th>7</th>\n",
              "      <td>[45, 55]</td>\n",
              "    </tr>\n",
              "    <tr>\n",
              "      <th>8</th>\n",
              "      <td>[3, 5, 57]</td>\n",
              "    </tr>\n",
              "    <tr>\n",
              "      <th>9</th>\n",
              "      <td>[10, 10, 10, 23, 25, 39, 50, 52, 55, 55, 56]</td>\n",
              "    </tr>\n",
              "  </tbody>\n",
              "</table>\n",
              "</div>"
            ],
            "text/plain": [
              "                                     Violations\n",
              "0                                           [3]\n",
              "1                          [10, 47, 49, 55, 55]\n",
              "2                        [3, 5, 16, 51, 53, 58]\n",
              "3                               [5, 36, 51, 53]\n",
              "4                                  [49, 55, 56]\n",
              "5                                          [25]\n",
              "6                [3, 5, 10, 49, 51, 53, 55, 55]\n",
              "7                                      [45, 55]\n",
              "8                                    [3, 5, 57]\n",
              "9  [10, 10, 10, 23, 25, 39, 50, 52, 55, 55, 56]"
            ]
          },
          "metadata": {
            "tags": []
          },
          "execution_count": 384
        }
      ]
    },
    {
      "cell_type": "code",
      "metadata": {
        "id": "skm89c9LxbHD",
        "colab_type": "code",
        "colab": {}
      },
      "source": [
        "vio_freq_not_oob = {}\n",
        "for i in violation_nums_not_oob['Violations']:\n",
        "  for j in i:\n",
        "    vio_freq_not_oob[str(j)] = 1 if str(j) not in vio_freq_not_oob else vio_freq_not_oob[str(j)]+1"
      ],
      "execution_count": 0,
      "outputs": []
    },
    {
      "cell_type": "code",
      "metadata": {
        "id": "kfQyr41NzuMJ",
        "colab_type": "code",
        "outputId": "99bebeba-0001-47cf-e099-65ac464d64c2",
        "colab": {
          "base_uri": "https://localhost:8080/",
          "height": 295
        }
      },
      "source": [
        "plt.figure(figsize=(17,4))\n",
        "plt.bar(list(vio_freq_not_oob.keys()), vio_freq_not_oob.values())\n",
        "plt.title('Violation Types vs. Their Frequencies in Out of Business Facilities')\n",
        "plt.xlabel('Violation Types')\n",
        "plt.ylabel('Frequency')\n",
        "plt.show()"
      ],
      "execution_count": 386,
      "outputs": [
        {
          "output_type": "display_data",
          "data": {
            "image/png": "[encoded data removed]",
            "text/plain": [
              "<Figure size 1224x288 with 1 Axes>"
            ]
          },
          "metadata": {
            "tags": []
          }
        }
      ]
    },
    {
      "cell_type": "code",
      "metadata": {
        "id": "UeJ6lWmlzuuM",
        "colab_type": "code",
        "colab": {}
      },
      "source": [
        "sorted_vio_freq_not_oob = {}\n",
        "\n",
        "for key in sorted(vio_freq_not_oob, key=vio_freq_not_oob.__getitem__, reverse=True):\n",
        "  sorted_vio_freq_not_oob[key] = vio_freq_not_oob[key]"
      ],
      "execution_count": 0,
      "outputs": []
    },
    {
      "cell_type": "code",
      "metadata": {
        "id": "VQo1P1buxm2r",
        "colab_type": "code",
        "outputId": "d7993bae-9e12-4be3-8220-1df986d5baf0",
        "colab": {
          "base_uri": "https://localhost:8080/",
          "height": 295
        }
      },
      "source": [
        "plt.figure(figsize=(17,4))\n",
        "plt.bar(list(sorted_vio_freq_not_oob.keys()), sorted_vio_freq_not_oob.values())\n",
        "plt.title('Violation Types vs. Their Frequencies in Facilities that have not Gone Out of Business')\n",
        "plt.xlabel('Violation Types')\n",
        "plt.ylabel('Frequency')\n",
        "plt.show()"
      ],
      "execution_count": 388,
      "outputs": [
        {
          "output_type": "display_data",
          "data": {
            "image/png": "[encoded data removed]",
            "text/plain": [
              "<Figure size 1224x288 with 1 Axes>"
            ]
          },
          "metadata": {
            "tags": []
          }
        }
      ]
    },
    {
      "cell_type": "code",
      "metadata": {
        "id": "DGwn_xr2yHRD",
        "colab_type": "code",
        "outputId": "82c94550-64b5-4349-a231-c01563d7b959",
        "colab": {
          "base_uri": "https://localhost:8080/",
          "height": 284
        }
      },
      "source": [
        "most_freq_vio_not_oob = [key for key, value in list(sorted_vio_freq_not_oob.items())[0:15]]\n",
        "most_freq_vio_not_oob # top 10 most frequent violation types among facilities that went out of business"
      ],
      "execution_count": 389,
      "outputs": [
        {
          "output_type": "execute_result",
          "data": {
            "text/plain": [
              "['34',\n",
              " '35',\n",
              " '33',\n",
              " '38',\n",
              " '32',\n",
              " '41',\n",
              " '36',\n",
              " '55',\n",
              " '3',\n",
              " '5',\n",
              " '18',\n",
              " '30',\n",
              " '40',\n",
              " '37',\n",
              " '47']"
            ]
          },
          "metadata": {
            "tags": []
          },
          "execution_count": 389
        }
      ]
    },
    {
      "cell_type": "code",
      "metadata": {
        "id": "RWCSBy3hyNj9",
        "colab_type": "code",
        "colab": {}
      },
      "source": [
        "# Inspections of facilities that didn't go out of business\n",
        " set_diff_not_oob = pd.concat([df, set_diff_oob, set_diff_oob], sort=True).drop_duplicates(keep=False, subset=['Latitude', 'Longitude', 'DBA Name', 'License #', 'Inspection Date'])"
      ],
      "execution_count": 0,
      "outputs": []
    },
    {
      "cell_type": "code",
      "metadata": {
        "id": "sUTUHZBUyZLe",
        "colab_type": "code",
        "outputId": "a53a9d30-d424-4501-d0d3-b9131e8198bf",
        "colab": {
          "base_uri": "https://localhost:8080/",
          "height": 1000
        }
      },
      "source": [
        "set_diff_not_oob.dropna(subset=['Violations'], inplace=True) # the inspections that have violations (out of business facilities)\n",
        "set_diff_not_oob.head(10)"
      ],
      "execution_count": 391,
      "outputs": [
        {
          "output_type": "execute_result",
          "data": {
            "text/html": [
              "<div>\n",
              "<style scoped>\n",
              "    .dataframe tbody tr th:only-of-type {\n",
              "        vertical-align: middle;\n",
              "    }\n",
              "\n",
              "    .dataframe tbody tr th {\n",
              "        vertical-align: top;\n",
              "    }\n",
              "\n",
              "    .dataframe thead th {\n",
              "        text-align: right;\n",
              "    }\n",
              "</style>\n",
              "<table border=\"1\" class=\"dataframe\">\n",
              "  <thead>\n",
              "    <tr style=\"text-align: right;\">\n",
              "      <th></th>\n",
              "      <th>AKA Name</th>\n",
              "      <th>Address</th>\n",
              "      <th>Census Tracts</th>\n",
              "      <th>City</th>\n",
              "      <th>Community Areas</th>\n",
              "      <th>DBA Name</th>\n",
              "      <th>Facility Type</th>\n",
              "      <th>Historical Wards 2003-2015</th>\n",
              "      <th>Inspection Date</th>\n",
              "      <th>Inspection ID</th>\n",
              "      <th>Inspection Type</th>\n",
              "      <th>Latitude</th>\n",
              "      <th>License #</th>\n",
              "      <th>Location</th>\n",
              "      <th>Longitude</th>\n",
              "      <th>Results</th>\n",
              "      <th>Risk</th>\n",
              "      <th>State</th>\n",
              "      <th>Violations</th>\n",
              "      <th>Wards</th>\n",
              "      <th>Zip</th>\n",
              "      <th>Zip Codes</th>\n",
              "    </tr>\n",
              "  </thead>\n",
              "  <tbody>\n",
              "    <tr>\n",
              "      <th>97</th>\n",
              "      <td>RIVER VALLEY FARMER'S TABLE</td>\n",
              "      <td>1816-1820 W WILSON AVE</td>\n",
              "      <td>NaN</td>\n",
              "      <td>CHICAGO</td>\n",
              "      <td>NaN</td>\n",
              "      <td>CITY PROVISIONS CATERING AND E</td>\n",
              "      <td>restaurant</td>\n",
              "      <td>NaN</td>\n",
              "      <td>2019-11-27T00:00:00.000</td>\n",
              "      <td>2352427</td>\n",
              "      <td>CANVASS</td>\n",
              "      <td>41.965259</td>\n",
              "      <td>1999098.0</td>\n",
              "      <td>{'latitude': '-87.67537270043624', 'longitude'...</td>\n",
              "      <td>-87.675373</td>\n",
              "      <td>Pass w/ Conditions</td>\n",
              "      <td>1</td>\n",
              "      <td>IL</td>\n",
              "      <td>5. PROCEDURES FOR RESPONDING TO VOMITING AND D...</td>\n",
              "      <td>NaN</td>\n",
              "      <td>60640.0</td>\n",
              "      <td>NaN</td>\n",
              "    </tr>\n",
              "    <tr>\n",
              "      <th>125</th>\n",
              "      <td>CREATIVE SCHOLARS PRESCHOOL</td>\n",
              "      <td>1731-1735 N ELSTON AVE</td>\n",
              "      <td>NaN</td>\n",
              "      <td>CHICAGO</td>\n",
              "      <td>NaN</td>\n",
              "      <td>CREATIVE SCHOLARS PRESCHOOL</td>\n",
              "      <td>daycare</td>\n",
              "      <td>NaN</td>\n",
              "      <td>2019-11-26T00:00:00.000</td>\n",
              "      <td>2352331</td>\n",
              "      <td>LICENSE</td>\n",
              "      <td>41.913925</td>\n",
              "      <td>2216013.0</td>\n",
              "      <td>{'latitude': '-87.66436839626788', 'longitude'...</td>\n",
              "      <td>-87.664368</td>\n",
              "      <td>Pass</td>\n",
              "      <td>1</td>\n",
              "      <td>IL</td>\n",
              "      <td>53. TOILET FACILITIES: PROPERLY CONSTRUCTED, S...</td>\n",
              "      <td>NaN</td>\n",
              "      <td>60642.0</td>\n",
              "      <td>NaN</td>\n",
              "    </tr>\n",
              "    <tr>\n",
              "      <th>143</th>\n",
              "      <td>JAIYEN RESTAURANT</td>\n",
              "      <td>3734-36 N BROADWAY</td>\n",
              "      <td>NaN</td>\n",
              "      <td>CHICAGO</td>\n",
              "      <td>NaN</td>\n",
              "      <td>JAI YEN</td>\n",
              "      <td>restaurant</td>\n",
              "      <td>NaN</td>\n",
              "      <td>2019-11-26T00:00:00.000</td>\n",
              "      <td>2352369</td>\n",
              "      <td>CANVASS</td>\n",
              "      <td>41.950232</td>\n",
              "      <td>1678980.0</td>\n",
              "      <td>{'latitude': '-87.64918094440476', 'longitude'...</td>\n",
              "      <td>-87.649181</td>\n",
              "      <td>Pass w/ Conditions</td>\n",
              "      <td>1</td>\n",
              "      <td>IL</td>\n",
              "      <td>3. MANAGEMENT, FOOD EMPLOYEE AND CONDITIONAL E...</td>\n",
              "      <td>NaN</td>\n",
              "      <td>60613.0</td>\n",
              "      <td>NaN</td>\n",
              "    </tr>\n",
              "    <tr>\n",
              "      <th>215</th>\n",
              "      <td>CLUB SALUD Y FELICIDAD</td>\n",
              "      <td>5450 S KEDZIE AVE</td>\n",
              "      <td>NaN</td>\n",
              "      <td>CHICAGO</td>\n",
              "      <td>NaN</td>\n",
              "      <td>CLUB SALUD Y FELICIDAD</td>\n",
              "      <td>herbal</td>\n",
              "      <td>NaN</td>\n",
              "      <td>2019-11-22T00:00:00.000</td>\n",
              "      <td>2346138</td>\n",
              "      <td>CANVASS</td>\n",
              "      <td>41.793792</td>\n",
              "      <td>2308074.0</td>\n",
              "      <td>{'latitude': '-87.70371060458972', 'longitude'...</td>\n",
              "      <td>-87.703711</td>\n",
              "      <td>Fail</td>\n",
              "      <td>2</td>\n",
              "      <td>IL</td>\n",
              "      <td>1. PERSON IN CHARGE PRESENT, DEMONSTRATES KNOW...</td>\n",
              "      <td>NaN</td>\n",
              "      <td>60632.0</td>\n",
              "      <td>NaN</td>\n",
              "    </tr>\n",
              "    <tr>\n",
              "      <th>420</th>\n",
              "      <td>JAIYEN RESTAURANT</td>\n",
              "      <td>3734-36 N BROADWAY</td>\n",
              "      <td>NaN</td>\n",
              "      <td>CHICAGO</td>\n",
              "      <td>NaN</td>\n",
              "      <td>JAI YEN</td>\n",
              "      <td>restaurant</td>\n",
              "      <td>NaN</td>\n",
              "      <td>2019-11-18T00:00:00.000</td>\n",
              "      <td>2345848</td>\n",
              "      <td>CANVASS</td>\n",
              "      <td>41.950232</td>\n",
              "      <td>1678980.0</td>\n",
              "      <td>{'latitude': '-87.64918094440476', 'longitude'...</td>\n",
              "      <td>-87.649181</td>\n",
              "      <td>Fail</td>\n",
              "      <td>1</td>\n",
              "      <td>IL</td>\n",
              "      <td>3. MANAGEMENT, FOOD EMPLOYEE AND CONDITIONAL E...</td>\n",
              "      <td>NaN</td>\n",
              "      <td>60613.0</td>\n",
              "      <td>NaN</td>\n",
              "    </tr>\n",
              "    <tr>\n",
              "      <th>494</th>\n",
              "      <td>RIVER VALLEY FARMER'S TABLE</td>\n",
              "      <td>1816-1820 W WILSON AVE</td>\n",
              "      <td>NaN</td>\n",
              "      <td>CHICAGO</td>\n",
              "      <td>NaN</td>\n",
              "      <td>CITY PROVISIONS CATERING AND E</td>\n",
              "      <td>restaurant</td>\n",
              "      <td>NaN</td>\n",
              "      <td>2019-11-15T00:00:00.000</td>\n",
              "      <td>2345742</td>\n",
              "      <td>CANVASS</td>\n",
              "      <td>41.965259</td>\n",
              "      <td>1999098.0</td>\n",
              "      <td>{'latitude': '-87.67537270043624', 'longitude'...</td>\n",
              "      <td>-87.675373</td>\n",
              "      <td>Fail</td>\n",
              "      <td>1</td>\n",
              "      <td>IL</td>\n",
              "      <td>5. PROCEDURES FOR RESPONDING TO VOMITING AND D...</td>\n",
              "      <td>NaN</td>\n",
              "      <td>60640.0</td>\n",
              "      <td>NaN</td>\n",
              "    </tr>\n",
              "    <tr>\n",
              "      <th>632</th>\n",
              "      <td>Edible Arrangements #761</td>\n",
              "      <td>3722 N SOUTHPORT AVE</td>\n",
              "      <td>NaN</td>\n",
              "      <td>CHICAGO</td>\n",
              "      <td>NaN</td>\n",
              "      <td>EDIBLE ARRANGEMENTS #761</td>\n",
              "      <td>restaurant</td>\n",
              "      <td>NaN</td>\n",
              "      <td>2019-11-13T00:00:00.000</td>\n",
              "      <td>2345489</td>\n",
              "      <td>CANVASS</td>\n",
              "      <td>41.949600</td>\n",
              "      <td>1884093.0</td>\n",
              "      <td>{'latitude': '-87.66423354384034', 'longitude'...</td>\n",
              "      <td>-87.664234</td>\n",
              "      <td>Pass w/ Conditions</td>\n",
              "      <td>2</td>\n",
              "      <td>IL</td>\n",
              "      <td>3. MANAGEMENT, FOOD EMPLOYEE AND CONDITIONAL E...</td>\n",
              "      <td>NaN</td>\n",
              "      <td>60613.0</td>\n",
              "      <td>NaN</td>\n",
              "    </tr>\n",
              "    <tr>\n",
              "      <th>647</th>\n",
              "      <td>PEET'S COFFEE &amp; TEA</td>\n",
              "      <td>3025 N CLARK ST</td>\n",
              "      <td>NaN</td>\n",
              "      <td>CHICAGO</td>\n",
              "      <td>NaN</td>\n",
              "      <td>PEETS COFFEE &amp; TEA</td>\n",
              "      <td>restaurant</td>\n",
              "      <td>NaN</td>\n",
              "      <td>2019-11-13T00:00:00.000</td>\n",
              "      <td>2345478</td>\n",
              "      <td>CANVASS</td>\n",
              "      <td>41.937140</td>\n",
              "      <td>2341234.0</td>\n",
              "      <td>{'latitude': '-87.64822754792601', 'longitude'...</td>\n",
              "      <td>-87.648228</td>\n",
              "      <td>Pass</td>\n",
              "      <td>2</td>\n",
              "      <td>IL</td>\n",
              "      <td>51. PLUMBING INSTALLED; PROPER BACKFLOW DEVICE...</td>\n",
              "      <td>NaN</td>\n",
              "      <td>60657.0</td>\n",
              "      <td>NaN</td>\n",
              "    </tr>\n",
              "    <tr>\n",
              "      <th>718</th>\n",
              "      <td>SUBWAY</td>\n",
              "      <td>2620 N NARRAGANSETT AVE</td>\n",
              "      <td>NaN</td>\n",
              "      <td>CHICAGO</td>\n",
              "      <td>NaN</td>\n",
              "      <td>SUBWAY</td>\n",
              "      <td>restaurant</td>\n",
              "      <td>NaN</td>\n",
              "      <td>2019-11-08T00:00:00.000</td>\n",
              "      <td>2345318</td>\n",
              "      <td>CANVASS</td>\n",
              "      <td>41.927995</td>\n",
              "      <td>2529116.0</td>\n",
              "      <td>{'latitude': '-87.78575236468352', 'longitude'...</td>\n",
              "      <td>-87.785752</td>\n",
              "      <td>Pass w/ Conditions</td>\n",
              "      <td>1</td>\n",
              "      <td>IL</td>\n",
              "      <td>3. MANAGEMENT, FOOD EMPLOYEE AND CONDITIONAL E...</td>\n",
              "      <td>NaN</td>\n",
              "      <td>60639.0</td>\n",
              "      <td>NaN</td>\n",
              "    </tr>\n",
              "    <tr>\n",
              "      <th>754</th>\n",
              "      <td>Edible Arrangements #761</td>\n",
              "      <td>3722 N SOUTHPORT AVE</td>\n",
              "      <td>NaN</td>\n",
              "      <td>CHICAGO</td>\n",
              "      <td>NaN</td>\n",
              "      <td>EDIBLE ARRANGEMENTS #761</td>\n",
              "      <td>restaurant</td>\n",
              "      <td>NaN</td>\n",
              "      <td>2019-11-08T00:00:00.000</td>\n",
              "      <td>2345407</td>\n",
              "      <td>CANVASS</td>\n",
              "      <td>41.949600</td>\n",
              "      <td>1884093.0</td>\n",
              "      <td>{'latitude': '-87.66423354384034', 'longitude'...</td>\n",
              "      <td>-87.664234</td>\n",
              "      <td>No Entry</td>\n",
              "      <td>2</td>\n",
              "      <td>IL</td>\n",
              "      <td>1. PERSON IN CHARGE PRESENT, DEMONSTRATES KNOW...</td>\n",
              "      <td>NaN</td>\n",
              "      <td>60613.0</td>\n",
              "      <td>NaN</td>\n",
              "    </tr>\n",
              "  </tbody>\n",
              "</table>\n",
              "</div>"
            ],
            "text/plain": [
              "                        AKA Name                   Address  ...      Zip Zip Codes\n",
              "97   RIVER VALLEY FARMER'S TABLE   1816-1820 W WILSON AVE   ...  60640.0       NaN\n",
              "125  CREATIVE SCHOLARS PRESCHOOL   1731-1735 N ELSTON AVE   ...  60642.0       NaN\n",
              "143            JAIYEN RESTAURANT       3734-36 N BROADWAY   ...  60613.0       NaN\n",
              "215       CLUB SALUD Y FELICIDAD        5450 S KEDZIE AVE   ...  60632.0       NaN\n",
              "420            JAIYEN RESTAURANT       3734-36 N BROADWAY   ...  60613.0       NaN\n",
              "494  RIVER VALLEY FARMER'S TABLE   1816-1820 W WILSON AVE   ...  60640.0       NaN\n",
              "632     Edible Arrangements #761     3722 N SOUTHPORT AVE   ...  60613.0       NaN\n",
              "647          PEET'S COFFEE & TEA          3025 N CLARK ST   ...  60657.0       NaN\n",
              "718                       SUBWAY  2620 N NARRAGANSETT AVE   ...  60639.0       NaN\n",
              "754     Edible Arrangements #761     3722 N SOUTHPORT AVE   ...  60613.0       NaN\n",
              "\n",
              "[10 rows x 22 columns]"
            ]
          },
          "metadata": {
            "tags": []
          },
          "execution_count": 391
        }
      ]
    },
    {
      "cell_type": "markdown",
      "metadata": {
        "id": "A85HB-qx1Lg4",
        "colab_type": "text"
      },
      "source": [
        "Our aim was to detect any violation type that could result into the facilities going out of business. From our data analysis, we found that most violation types are common between those that went out of business and those that have not. Only Violation Types 21, 31, and 43 are more prevalent in facilities that have gone out of business, but are not so prevalent in those that have not gone out of business."
      ]
    },
    {
      "cell_type": "markdown",
      "metadata": {
        "id": "kCcCYtxFXmlu",
        "colab_type": "text"
      },
      "source": [
        "### **Average number of total violations facilities commit before going out of business**  "
      ]
    },
    {
      "cell_type": "markdown",
      "metadata": {
        "id": "VUSui_GqgDLt",
        "colab_type": "text"
      },
      "source": [
        "### **Distribution of number of violations committed in each inspection (in facilities that went out of business)**"
      ]
    },
    {
      "cell_type": "code",
      "metadata": {
        "id": "acuT4Yk6eHFi",
        "colab_type": "code",
        "colab": {}
      },
      "source": [
        "num_vio_oob = []\n",
        "for i in violation_nums_oob['Violations']:\n",
        "  num_vio_oob.append(len(i))"
      ],
      "execution_count": 0,
      "outputs": []
    },
    {
      "cell_type": "code",
      "metadata": {
        "id": "cbqgYw6meZ8d",
        "colab_type": "code",
        "outputId": "65da2efd-ccf8-4f52-fd07-dc3312257518",
        "colab": {
          "base_uri": "https://localhost:8080/",
          "height": 295
        }
      },
      "source": [
        "plt.hist(num_vio_oob, bins=15)\n",
        "plt.title('Distribution of number of violations committed in each inspection (in oob facilities)')\n",
        "plt.xlabel('Number of violations committed in an inspection')\n",
        "plt.ylabel('Inspection counts')\n",
        "plt.show()"
      ],
      "execution_count": 393,
      "outputs": [
        {
          "output_type": "display_data",
          "data": {
            "image/png": "[encoded data removed]",
            "text/plain": [
              "<Figure size 432x288 with 1 Axes>"
            ]
          },
          "metadata": {
            "tags": []
          }
        }
      ]
    },
    {
      "cell_type": "markdown",
      "metadata": {
        "id": "GwHA1jI1dn_F",
        "colab_type": "text"
      },
      "source": [
        "### **Average number of violations committed in each inspection (in facilities that went out of business)**"
      ]
    },
    {
      "cell_type": "code",
      "metadata": {
        "id": "cWO95lsMgrDG",
        "colab_type": "code",
        "outputId": "a44459a5-2e79-4ba2-9568-7dd69ee73681",
        "colab": {
          "base_uri": "https://localhost:8080/",
          "height": 35
        }
      },
      "source": [
        "np.mean(num_vio_oob)"
      ],
      "execution_count": 394,
      "outputs": [
        {
          "output_type": "execute_result",
          "data": {
            "text/plain": [
              "4.503068712474984"
            ]
          },
          "metadata": {
            "tags": []
          },
          "execution_count": 394
        }
      ]
    },
    {
      "cell_type": "markdown",
      "metadata": {
        "id": "J5TRf7RQgIF_",
        "colab_type": "text"
      },
      "source": [
        "### **Distribution of number of violations committed in each inspection (in facilities that did NOT go out of business)**"
      ]
    },
    {
      "cell_type": "code",
      "metadata": {
        "id": "0ZW2Yw_ygLH0",
        "colab_type": "code",
        "colab": {}
      },
      "source": [
        "num_vio_not_oob = []\n",
        "for i in violation_nums_not_oob['Violations']:\n",
        "  num_vio_not_oob.append(len(i))"
      ],
      "execution_count": 0,
      "outputs": []
    },
    {
      "cell_type": "code",
      "metadata": {
        "id": "th11K_GdgbEz",
        "colab_type": "code",
        "outputId": "b917418e-8d33-4436-af6b-66161501bdb0",
        "colab": {
          "base_uri": "https://localhost:8080/",
          "height": 295
        }
      },
      "source": [
        "plt.hist(num_vio_not_oob, bins=15)\n",
        "plt.title('Distribution of number of violations committed in each inspection (in NOT oob facilities)')\n",
        "plt.xlabel('Number of violations in committed in an inspection')\n",
        "plt.ylabel('Inspection counts')\n",
        "plt.show()"
      ],
      "execution_count": 396,
      "outputs": [
        {
          "output_type": "display_data",
          "data": {
            "image/png": "[encoded data removed]",
            "text/plain": [
              "<Figure size 432x288 with 1 Axes>"
            ]
          },
          "metadata": {
            "tags": []
          }
        }
      ]
    },
    {
      "cell_type": "markdown",
      "metadata": {
        "id": "ztePsf8khEyr",
        "colab_type": "text"
      },
      "source": [
        "### **Average number of violations committed in each inspection (in facilities that did NOT go out of business)**"
      ]
    },
    {
      "cell_type": "code",
      "metadata": {
        "id": "hn4hEM26hJEy",
        "colab_type": "code",
        "outputId": "c688673e-71d7-40a9-e26e-0abd3523f51a",
        "colab": {
          "base_uri": "https://localhost:8080/",
          "height": 35
        }
      },
      "source": [
        "np.mean(num_vio_not_oob)"
      ],
      "execution_count": 397,
      "outputs": [
        {
          "output_type": "execute_result",
          "data": {
            "text/plain": [
              "4.372160272735575"
            ]
          },
          "metadata": {
            "tags": []
          },
          "execution_count": 397
        }
      ]
    },
    {
      "cell_type": "markdown",
      "metadata": {
        "id": "kmhCqOVkZ8sm",
        "colab_type": "text"
      },
      "source": [
        "### **Distribution of total number of violations facilities commit before going out of business**"
      ]
    },
    {
      "cell_type": "code",
      "metadata": {
        "id": "pxPRncZyhe9-",
        "colab_type": "code",
        "colab": {}
      },
      "source": [
        "oob_grouped_by_fac = merged_oob.groupby(['Latitude', 'Longitude', 'DBA Name', 'License #'])\n",
        "# TODO"
      ],
      "execution_count": 0,
      "outputs": []
    },
    {
      "cell_type": "markdown",
      "metadata": {
        "id": "8x9xjsqAX1i3",
        "colab_type": "text"
      },
      "source": [
        "### **Average number of each violation type facilities commit before going out of business**"
      ]
    },
    {
      "cell_type": "code",
      "metadata": {
        "id": "anRDEQhI0tqq",
        "colab_type": "code",
        "colab": {}
      },
      "source": [
        ""
      ],
      "execution_count": 0,
      "outputs": []
    },
    {
      "cell_type": "markdown",
      "metadata": {
        "id": "q7w5eXyBYCVA",
        "colab_type": "text"
      },
      "source": [
        "### **Average number of violations facilities commit at each inspection before going out of business**"
      ]
    },
    {
      "cell_type": "markdown",
      "metadata": {
        "id": "r-8ws1dB20ia",
        "colab_type": "text"
      },
      "source": [
        "### **Average number of violations of each facility type (OOB)**\n"
      ]
    },
    {
      "cell_type": "code",
      "metadata": {
        "id": "S1e0lFlDIScM",
        "colab_type": "code",
        "colab": {
          "base_uri": "https://localhost:8080/",
          "height": 230
        },
        "outputId": "659ff1ea-479f-46bd-d822-811ca283b6c8"
      },
      "source": [
        "dup_oob['Violations'].update(violation_nums_oob['Violations'])\n",
        "dup_oob['Number of Violations'] = dup_oob.Violations.apply(lambda x: len(x))\n",
        "dup_oob['Number of Violations'].median()"
      ],
      "execution_count": 420,
      "outputs": [
        {
          "output_type": "stream",
          "text": [
            "/usr/local/lib/python3.6/dist-packages/IPython/core/interactiveshell.py:2882: SettingWithCopyWarning: \n",
            "A value is trying to be set on a copy of a slice from a DataFrame\n",
            "\n",
            "See the caveats in the documentation: http://pandas.pydata.org/pandas-docs/stable/user_guide/indexing.html#returning-a-view-versus-a-copy\n",
            "  exec(code_obj, self.user_global_ns, self.user_ns)\n",
            "/usr/local/lib/python3.6/dist-packages/ipykernel_launcher.py:2: SettingWithCopyWarning: \n",
            "A value is trying to be set on a copy of a slice from a DataFrame.\n",
            "Try using .loc[row_indexer,col_indexer] = value instead\n",
            "\n",
            "See the caveats in the documentation: http://pandas.pydata.org/pandas-docs/stable/user_guide/indexing.html#returning-a-view-versus-a-copy\n",
            "  \n"
          ],
          "name": "stderr"
        },
        {
          "output_type": "execute_result",
          "data": {
            "text/plain": [
              "6.0"
            ]
          },
          "metadata": {
            "tags": []
          },
          "execution_count": 420
        }
      ]
    },
    {
      "cell_type": "markdown",
      "metadata": {
        "colab_type": "text",
        "id": "Mszu9K9MHDk1"
      },
      "source": [
        "### **Average number of violations of each facility type (not OOB)**\n"
      ]
    },
    {
      "cell_type": "code",
      "metadata": {
        "id": "wjRmnKKuJtwo",
        "colab_type": "code",
        "colab": {
          "base_uri": "https://localhost:8080/",
          "height": 203
        },
        "outputId": "ee521dc0-be70-4c0e-89e3-71dbc684ef26"
      },
      "source": [
        "'''\n",
        "dup_not_oob['Violations'].update(violation_nums_not_oob['Violations'])\n",
        "dup_not_oob['Number of Violations'] = dup_not_oob.Violations.apply(lambda x: len(x))\n",
        "dup_not_oob['Number of Violations'].median()\n",
        "'''"
      ],
      "execution_count": 416,
      "outputs": [
        {
          "output_type": "error",
          "ename": "NameError",
          "evalue": "ignored",
          "traceback": [
            "\u001b[0;31m---------------------------------------------------------------------------\u001b[0m",
            "\u001b[0;31mNameError\u001b[0m                                 Traceback (most recent call last)",
            "\u001b[0;32m<ipython-input-416-fe353f923557>\u001b[0m in \u001b[0;36m<module>\u001b[0;34m()\u001b[0m\n\u001b[0;32m----> 1\u001b[0;31m \u001b[0mdup_not_oob\u001b[0m\u001b[0;34m[\u001b[0m\u001b[0;34m'Violations'\u001b[0m\u001b[0;34m]\u001b[0m\u001b[0;34m.\u001b[0m\u001b[0mupdate\u001b[0m\u001b[0;34m(\u001b[0m\u001b[0mviolation_nums_not_oob\u001b[0m\u001b[0;34m[\u001b[0m\u001b[0;34m'Violations'\u001b[0m\u001b[0;34m]\u001b[0m\u001b[0;34m)\u001b[0m\u001b[0;34m\u001b[0m\u001b[0;34m\u001b[0m\u001b[0m\n\u001b[0m\u001b[1;32m      2\u001b[0m \u001b[0mdup_not_oob\u001b[0m\u001b[0;34m[\u001b[0m\u001b[0;34m'Number of Violations'\u001b[0m\u001b[0;34m]\u001b[0m \u001b[0;34m=\u001b[0m \u001b[0mdup_not_oob\u001b[0m\u001b[0;34m.\u001b[0m\u001b[0mViolations\u001b[0m\u001b[0;34m.\u001b[0m\u001b[0mapply\u001b[0m\u001b[0;34m(\u001b[0m\u001b[0;32mlambda\u001b[0m \u001b[0mx\u001b[0m\u001b[0;34m:\u001b[0m \u001b[0mlen\u001b[0m\u001b[0;34m(\u001b[0m\u001b[0mx\u001b[0m\u001b[0;34m)\u001b[0m\u001b[0;34m)\u001b[0m\u001b[0;34m\u001b[0m\u001b[0;34m\u001b[0m\u001b[0m\n\u001b[1;32m      3\u001b[0m \u001b[0mdup_not_oob\u001b[0m\u001b[0;34m[\u001b[0m\u001b[0;34m'Number of Violations'\u001b[0m\u001b[0;34m]\u001b[0m\u001b[0;34m.\u001b[0m\u001b[0mmedian\u001b[0m\u001b[0;34m(\u001b[0m\u001b[0;34m)\u001b[0m\u001b[0;34m\u001b[0m\u001b[0;34m\u001b[0m\u001b[0m\n",
            "\u001b[0;31mNameError\u001b[0m: name 'dup_not_oob' is not defined"
          ]
        }
      ]
    },
    {
      "cell_type": "markdown",
      "metadata": {
        "id": "yUp4yFCridfP",
        "colab_type": "text"
      },
      "source": [
        "### **Average risk of oob facilities vs. Average risk of NOT oob facilities**"
      ]
    },
    {
      "cell_type": "code",
      "metadata": {
        "id": "7DQyhN35OTq4",
        "colab_type": "code",
        "outputId": "9d036281-cf0d-45a7-bb58-afbd64a1c692",
        "colab": {
          "base_uri": "https://localhost:8080/",
          "height": 35
        }
      },
      "source": [
        "merged_oob['Risk'].mean()"
      ],
      "execution_count": 405,
      "outputs": [
        {
          "output_type": "execute_result",
          "data": {
            "text/plain": [
              "1.360233665080052"
            ]
          },
          "metadata": {
            "tags": []
          },
          "execution_count": 405
        }
      ]
    },
    {
      "cell_type": "code",
      "metadata": {
        "id": "VJbtVESdO2ta",
        "colab_type": "code",
        "outputId": "1485d455-72aa-48ea-aafc-742098ead314",
        "colab": {
          "base_uri": "https://localhost:8080/",
          "height": 35
        }
      },
      "source": [
        "set_diff_oob['Risk'].mean()"
      ],
      "execution_count": 406,
      "outputs": [
        {
          "output_type": "execute_result",
          "data": {
            "text/plain": [
              "1.2986596588776038"
            ]
          },
          "metadata": {
            "tags": []
          },
          "execution_count": 406
        }
      ]
    },
    {
      "cell_type": "code",
      "metadata": {
        "id": "rLHrymqvPiOL",
        "colab_type": "code",
        "outputId": "5dce1a51-f810-48ab-aef1-54edae9dbd84",
        "colab": {
          "base_uri": "https://localhost:8080/",
          "height": 35
        }
      },
      "source": [
        "set_diff_not_oob['Risk'].mean()"
      ],
      "execution_count": 407,
      "outputs": [
        {
          "output_type": "execute_result",
          "data": {
            "text/plain": [
              "1.2916084861042296"
            ]
          },
          "metadata": {
            "tags": []
          },
          "execution_count": 407
        }
      ]
    },
    {
      "cell_type": "markdown",
      "metadata": {
        "id": "Vy1TK-w_GHKm",
        "colab_type": "text"
      },
      "source": [
        "### **Does the frequency of inspections increase once you fail?**\n",
        "\n",
        "\n"
      ]
    },
    {
      "cell_type": "markdown",
      "metadata": {
        "id": "nQr5lMSLoZSK",
        "colab_type": "text"
      },
      "source": [
        "## **Our plan for the future:**\n",
        "\n"
      ]
    },
    {
      "cell_type": "markdown",
      "metadata": {
        "id": "YYzLurHcsoX8",
        "colab_type": "text"
      },
      "source": [
        "- Analyze neighborhoods, taking a deep look into the locations of the facilities, and plotting the neighborhoods on the map (adding the region names on the map)\n",
        "- Look for hidden reasons why facilities go out of business, taking NLP approaches to process and find out the most frequent violation types\n",
        "- The trends (risk, violation types, pass/fail results, etc.) facilities follow until they go out of business\n",
        "- Look for the #1 violation type of the neighborhood\n",
        "- Prepare poster presentation"
      ]
    }
  ]
}