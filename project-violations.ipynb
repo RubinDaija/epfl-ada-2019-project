{
  "nbformat": 4,
  "nbformat_minor": 0,
  "metadata": {
    "kernelspec": {
      "name": "python3",
      "display_name": "Python 3"
    },
    "colab": {
      "name": "project.ipynb",
      "provenance": [],
      "include_colab_link": true
    },
    "accelerator": "GPU"
  },
  "cells": [
    {
      "cell_type": "markdown",
      "metadata": {
        "id": "view-in-github",
        "colab_type": "text"
      },
      "source": [
        "<a href=\"https://colab.research.google.com/github/RubinDaija/epfl-ada-2019-project/blob/master/project-violations.ipynb\" target=\"_parent\"><img src=\"https://colab.research.google.com/assets/colab-badge.svg\" alt=\"Open In Colab\"/></a>"
      ]
    },
    {
      "cell_type": "markdown",
      "metadata": {
        "id": "-Tvl9ABtLcXB",
        "colab_type": "text"
      },
      "source": [
        "# **Necessary Imports**"
      ]
    },
    {
      "cell_type": "code",
      "metadata": {
        "id": "y8CsC8G1r9hy",
        "colab_type": "code",
        "colab": {}
      },
      "source": [
        "%matplotlib inline\n",
        "import pandas as pd\n",
        "import numpy as np\n",
        "import re\n",
        "from matplotlib.ticker import MaxNLocator\n",
        "import matplotlib.pyplot as plt\n",
        "from scipy import stats\n",
        "from folium.plugins import MarkerCluster\n",
        "import warnings\n",
        "import folium\n",
        "import zipfile"
      ],
      "execution_count": 0,
      "outputs": []
    },
    {
      "cell_type": "code",
      "metadata": {
        "id": "cG_XvNn-r9h3",
        "colab_type": "code",
        "outputId": "e354a450-66b2-4363-e504-a900d932b14e",
        "colab": {
          "base_uri": "https://localhost:8080/",
          "height": 55
        }
      },
      "source": [
        "# ---------- Only to be run the first time the data set is uploaded ---------- #\n",
        "# Reads from compressed folder, drops the irrelevant columns, and outputs the new data to a new file called food_inspections.csv\n",
        "\n",
        "'''\n",
        "zf = zipfile.ZipFile('chicago-food-inspections.zip')\n",
        "dblp = pd.read_csv(zf.open('chicago-food-inspections/food-inspections.csv'))\n",
        "dblp = dblp.drop(['AKA Name', 'Address','City','State','Location','Historical Wards 2003-2015','Zip Codes','Community Areas','Census Tracts','Wards'], axis=1)\n",
        "dblp.to_csv(r'food_inspections.csv')\n",
        "'''"
      ],
      "execution_count": 2,
      "outputs": [
        {
          "output_type": "execute_result",
          "data": {
            "text/plain": [
              "\"\\nzf = zipfile.ZipFile('chicago-food-inspections.zip')\\ndblp = pd.read_csv(zf.open('chicago-food-inspections/food-inspections.csv'))\\ndblp = dblp.drop(['AKA Name', 'Address','City','State','Location','Historical Wards 2003-2015','Zip Codes','Community Areas','Census Tracts','Wards'], axis=1)\\ndblp.to_csv(r'food_inspections.csv')\\n\""
            ]
          },
          "metadata": {
            "tags": []
          },
          "execution_count": 2
        }
      ]
    },
    {
      "cell_type": "code",
      "metadata": {
        "id": "W-StO1Nyr9h5",
        "colab_type": "code",
        "outputId": "d9e672b3-e601-4b33-e6b0-f2fb70a87567",
        "colab": {
          "base_uri": "https://localhost:8080/",
          "height": 35
        }
      },
      "source": [
        "#-- Uncomment this if using Jupyter Lab / Comment this if using Google Colab --#\n",
        "'''\n",
        "zf = zipfile.ZipFile('chicago_dropped.zip')\n",
        "df = pd.read_csv(zf.open('chicago_dropped/food_inspections.csv'))\n",
        "'''"
      ],
      "execution_count": 3,
      "outputs": [
        {
          "output_type": "execute_result",
          "data": {
            "text/plain": [
              "\"\\nzf = zipfile.ZipFile('chicago_dropped.zip')\\ndf = pd.read_csv(zf.open('chicago_dropped/food_inspections.csv'))\\n\""
            ]
          },
          "metadata": {
            "tags": []
          },
          "execution_count": 3
        }
      ]
    },
    {
      "cell_type": "code",
      "metadata": {
        "id": "8yt1F6q7r-9A",
        "colab_type": "code",
        "colab": {}
      },
      "source": [
        "#-- Uncomment this if using Google Colab / Comment this if using Jupyter Lab --# \n",
        "# Code to read csv file into Colaboratory:\n",
        "!pip install -U -q PyDrive\n",
        "from pydrive.auth import GoogleAuth\n",
        "from pydrive.drive import GoogleDrive\n",
        "from google.colab import auth\n",
        "from oauth2client.client import GoogleCredentials\n",
        "# Authenticate and create the PyDrive client.\n",
        "auth.authenticate_user()\n",
        "gauth = GoogleAuth()\n",
        "gauth.credentials = GoogleCredentials.get_application_default()\n",
        "drive = GoogleDrive(gauth)"
      ],
      "execution_count": 0,
      "outputs": []
    },
    {
      "cell_type": "code",
      "metadata": {
        "id": "jHy9hpAStUMi",
        "colab_type": "code",
        "outputId": "fe3b2093-88de-42f7-a95b-7335321c6641",
        "colab": {
          "base_uri": "https://localhost:8080/",
          "height": 35
        }
      },
      "source": [
        "#-- Uncomment this if using Google Colab / Comment this if using Jupyter Lab --# \n",
        "link = 'https://drive.google.com/open?id=1TtnQzq_WhnRj7KweW4upOzrC7C3gFpRE' # The shareable link\n",
        "fluff, id = link.split('=')\n",
        "print (id) # Verify that you have everything after '='\n",
        "\n",
        "downloaded = drive.CreateFile({'id':id}) \n",
        "downloaded.GetContentFile('food_inspections.csv')  \n",
        "df = pd.read_csv('food_inspections.csv')\n",
        "\n",
        "# Dataset is now stored in a Pandas Dataframe"
      ],
      "execution_count": 5,
      "outputs": [
        {
          "output_type": "stream",
          "text": [
            "1TtnQzq_WhnRj7KweW4upOzrC7C3gFpRE\n"
          ],
          "name": "stdout"
        }
      ]
    },
    {
      "cell_type": "markdown",
      "metadata": {
        "id": "gqj0Hrh3Loi1",
        "colab_type": "text"
      },
      "source": [
        "# **Preprocessing**"
      ]
    },
    {
      "cell_type": "markdown",
      "metadata": {
        "id": "SEdfP33jr9iD",
        "colab_type": "text"
      },
      "source": [
        "We realized that we will use Facility Type in most of our analysis, so we decided to drop the rows that are missing Facility Type, i.e. NaN valued rows:\n"
      ]
    },
    {
      "cell_type": "code",
      "metadata": {
        "id": "wPYufzBer9iA",
        "colab_type": "code",
        "outputId": "ad9af264-f315-4046-9411-0f5c36542e6f",
        "colab": {
          "base_uri": "https://localhost:8080/",
          "height": 52
        }
      },
      "source": [
        "# Cleaning the data set: removing NaN valued rows in Facility Type\n",
        "print(\"Number of rows before removing NaNs: \" + str(df['Facility Type'].size))\n",
        "df.dropna(subset=['Facility Type'], inplace=True)\n",
        "print(\"Number of rows after removing NaNs: \" + str(df['Facility Type'].size))\n",
        "df.reset_index(drop=True, inplace=True)"
      ],
      "execution_count": 6,
      "outputs": [
        {
          "output_type": "stream",
          "text": [
            "Number of rows before removing NaNs: 196030\n",
            "Number of rows after removing NaNs: 191258\n"
          ],
          "name": "stdout"
        }
      ]
    },
    {
      "cell_type": "markdown",
      "metadata": {
        "id": "drw-tZwuLzE4",
        "colab_type": "text"
      },
      "source": [
        "We decided to remove the rows that have \"Not Ready\" as their Results value, since this value cannot be categorized as fail/pass:"
      ]
    },
    {
      "cell_type": "code",
      "metadata": {
        "id": "5gij1L5pr9iE",
        "colab_type": "code",
        "outputId": "6d33e9ab-1ab1-4c42-ef50-783c1cefc135",
        "colab": {
          "base_uri": "https://localhost:8080/",
          "height": 52
        }
      },
      "source": [
        "# Cleaning the data set: removing the rows with \"Not Ready\" as their Results value\n",
        "print(\"Number of rows before removing Not Ready values: \" + str(df.size))\n",
        "df = df[~df.Results.str.contains(\"Not Ready\")]\n",
        "print(\"Number of rows after removing Not Ready values: \" + str(df.size))"
      ],
      "execution_count": 7,
      "outputs": [
        {
          "output_type": "stream",
          "text": [
            "Number of rows before removing Not Ready values: 2486354\n",
            "Number of rows after removing Not Ready values: 2463097\n"
          ],
          "name": "stdout"
        }
      ]
    },
    {
      "cell_type": "code",
      "metadata": {
        "id": "lmtxzbbTr9iH",
        "colab_type": "code",
        "outputId": "ff25f9f3-cc1d-422f-822b-2e6239aba053",
        "colab": {
          "base_uri": "https://localhost:8080/",
          "height": 612
        }
      },
      "source": [
        "# Data set after the preprocessing operations above\n",
        "df.reset_index().head()"
      ],
      "execution_count": 8,
      "outputs": [
        {
          "output_type": "execute_result",
          "data": {
            "text/html": [
              "<div>\n",
              "<style scoped>\n",
              "    .dataframe tbody tr th:only-of-type {\n",
              "        vertical-align: middle;\n",
              "    }\n",
              "\n",
              "    .dataframe tbody tr th {\n",
              "        vertical-align: top;\n",
              "    }\n",
              "\n",
              "    .dataframe thead th {\n",
              "        text-align: right;\n",
              "    }\n",
              "</style>\n",
              "<table border=\"1\" class=\"dataframe\">\n",
              "  <thead>\n",
              "    <tr style=\"text-align: right;\">\n",
              "      <th></th>\n",
              "      <th>index</th>\n",
              "      <th>Unnamed: 0</th>\n",
              "      <th>Inspection ID</th>\n",
              "      <th>DBA Name</th>\n",
              "      <th>License #</th>\n",
              "      <th>Facility Type</th>\n",
              "      <th>Risk</th>\n",
              "      <th>Zip</th>\n",
              "      <th>Inspection Date</th>\n",
              "      <th>Inspection Type</th>\n",
              "      <th>Results</th>\n",
              "      <th>Violations</th>\n",
              "      <th>Latitude</th>\n",
              "      <th>Longitude</th>\n",
              "    </tr>\n",
              "  </thead>\n",
              "  <tbody>\n",
              "    <tr>\n",
              "      <th>0</th>\n",
              "      <td>0</td>\n",
              "      <td>0</td>\n",
              "      <td>2345787</td>\n",
              "      <td>CARNICERIA LEON GUANAJUATO, INC.</td>\n",
              "      <td>1821637.0</td>\n",
              "      <td>Grocery Store</td>\n",
              "      <td>Risk 1 (High)</td>\n",
              "      <td>60639.0</td>\n",
              "      <td>2019-11-18T00:00:00.000</td>\n",
              "      <td>Canvass</td>\n",
              "      <td>Fail</td>\n",
              "      <td>3. MANAGEMENT, FOOD EMPLOYEE AND CONDITIONAL E...</td>\n",
              "      <td>41.916960</td>\n",
              "      <td>-87.733945</td>\n",
              "    </tr>\n",
              "    <tr>\n",
              "      <th>1</th>\n",
              "      <td>1</td>\n",
              "      <td>1</td>\n",
              "      <td>2345790</td>\n",
              "      <td>AMSTAR FUEL &amp; MINI MART</td>\n",
              "      <td>1426374.0</td>\n",
              "      <td>Grocery Store</td>\n",
              "      <td>Risk 2 (Medium)</td>\n",
              "      <td>60651.0</td>\n",
              "      <td>2019-11-18T00:00:00.000</td>\n",
              "      <td>Canvass</td>\n",
              "      <td>Pass</td>\n",
              "      <td>55. PHYSICAL FACILITIES INSTALLED, MAINTAINED ...</td>\n",
              "      <td>41.895304</td>\n",
              "      <td>-87.721129</td>\n",
              "    </tr>\n",
              "    <tr>\n",
              "      <th>2</th>\n",
              "      <td>2</td>\n",
              "      <td>2</td>\n",
              "      <td>2345766</td>\n",
              "      <td>ROJO GUSANO</td>\n",
              "      <td>1305286.0</td>\n",
              "      <td>Restaurant</td>\n",
              "      <td>Risk 1 (High)</td>\n",
              "      <td>60625.0</td>\n",
              "      <td>2019-11-18T00:00:00.000</td>\n",
              "      <td>Canvass</td>\n",
              "      <td>Fail</td>\n",
              "      <td>3. MANAGEMENT, FOOD EMPLOYEE AND CONDITIONAL E...</td>\n",
              "      <td>41.968390</td>\n",
              "      <td>-87.724448</td>\n",
              "    </tr>\n",
              "    <tr>\n",
              "      <th>3</th>\n",
              "      <td>3</td>\n",
              "      <td>3</td>\n",
              "      <td>2345702</td>\n",
              "      <td>LAKESIDE FOOD WINE SPIRITS LLC</td>\n",
              "      <td>2694148.0</td>\n",
              "      <td>Grocery Store</td>\n",
              "      <td>Risk 3 (Low)</td>\n",
              "      <td>60614.0</td>\n",
              "      <td>2019-11-15T00:00:00.000</td>\n",
              "      <td>License Re-Inspection</td>\n",
              "      <td>Pass w/ Conditions</td>\n",
              "      <td>5. PROCEDURES FOR RESPONDING TO VOMITING AND D...</td>\n",
              "      <td>41.929210</td>\n",
              "      <td>-87.648746</td>\n",
              "    </tr>\n",
              "    <tr>\n",
              "      <th>4</th>\n",
              "      <td>4</td>\n",
              "      <td>4</td>\n",
              "      <td>2345678</td>\n",
              "      <td>NEW KNOWLEDGE LEARNING CENTER, INC.</td>\n",
              "      <td>2215898.0</td>\n",
              "      <td>Children's Services Facility</td>\n",
              "      <td>Risk 1 (High)</td>\n",
              "      <td>60652.0</td>\n",
              "      <td>2019-11-15T00:00:00.000</td>\n",
              "      <td>License</td>\n",
              "      <td>Pass</td>\n",
              "      <td>53. TOILET FACILITIES: PROPERLY CONSTRUCTED, S...</td>\n",
              "      <td>41.739458</td>\n",
              "      <td>-87.702257</td>\n",
              "    </tr>\n",
              "  </tbody>\n",
              "</table>\n",
              "</div>"
            ],
            "text/plain": [
              "   index  Unnamed: 0  ...   Latitude  Longitude\n",
              "0      0           0  ...  41.916960 -87.733945\n",
              "1      1           1  ...  41.895304 -87.721129\n",
              "2      2           2  ...  41.968390 -87.724448\n",
              "3      3           3  ...  41.929210 -87.648746\n",
              "4      4           4  ...  41.739458 -87.702257\n",
              "\n",
              "[5 rows x 14 columns]"
            ]
          },
          "metadata": {
            "tags": []
          },
          "execution_count": 8
        }
      ]
    },
    {
      "cell_type": "markdown",
      "metadata": {
        "id": "9kXYokaeMLcJ",
        "colab_type": "text"
      },
      "source": [
        "We removed the rows that have any value of Risk other than 1-3 and converted Risk values to only a numeric value:"
      ]
    },
    {
      "cell_type": "code",
      "metadata": {
        "id": "HqZ9JipUr9iL",
        "colab_type": "code",
        "outputId": "10009237-1359-400e-aae5-5b25bccf223a",
        "colab": {
          "base_uri": "https://localhost:8080/",
          "height": 575
        }
      },
      "source": [
        "# Cleaning the data set: removing rows with Risk value other than 1-3\n",
        "df = df[df.Risk.str.contains(\"[1-3]\",na=False)]\n",
        "# Converting Risk value to numeric\n",
        "df['Risk'] = df.Risk.apply(lambda x: int(x.strip('Risk')[1]))\n",
        "df.head()"
      ],
      "execution_count": 9,
      "outputs": [
        {
          "output_type": "execute_result",
          "data": {
            "text/html": [
              "<div>\n",
              "<style scoped>\n",
              "    .dataframe tbody tr th:only-of-type {\n",
              "        vertical-align: middle;\n",
              "    }\n",
              "\n",
              "    .dataframe tbody tr th {\n",
              "        vertical-align: top;\n",
              "    }\n",
              "\n",
              "    .dataframe thead th {\n",
              "        text-align: right;\n",
              "    }\n",
              "</style>\n",
              "<table border=\"1\" class=\"dataframe\">\n",
              "  <thead>\n",
              "    <tr style=\"text-align: right;\">\n",
              "      <th></th>\n",
              "      <th>Unnamed: 0</th>\n",
              "      <th>Inspection ID</th>\n",
              "      <th>DBA Name</th>\n",
              "      <th>License #</th>\n",
              "      <th>Facility Type</th>\n",
              "      <th>Risk</th>\n",
              "      <th>Zip</th>\n",
              "      <th>Inspection Date</th>\n",
              "      <th>Inspection Type</th>\n",
              "      <th>Results</th>\n",
              "      <th>Violations</th>\n",
              "      <th>Latitude</th>\n",
              "      <th>Longitude</th>\n",
              "    </tr>\n",
              "  </thead>\n",
              "  <tbody>\n",
              "    <tr>\n",
              "      <th>0</th>\n",
              "      <td>0</td>\n",
              "      <td>2345787</td>\n",
              "      <td>CARNICERIA LEON GUANAJUATO, INC.</td>\n",
              "      <td>1821637.0</td>\n",
              "      <td>Grocery Store</td>\n",
              "      <td>1</td>\n",
              "      <td>60639.0</td>\n",
              "      <td>2019-11-18T00:00:00.000</td>\n",
              "      <td>Canvass</td>\n",
              "      <td>Fail</td>\n",
              "      <td>3. MANAGEMENT, FOOD EMPLOYEE AND CONDITIONAL E...</td>\n",
              "      <td>41.916960</td>\n",
              "      <td>-87.733945</td>\n",
              "    </tr>\n",
              "    <tr>\n",
              "      <th>1</th>\n",
              "      <td>1</td>\n",
              "      <td>2345790</td>\n",
              "      <td>AMSTAR FUEL &amp; MINI MART</td>\n",
              "      <td>1426374.0</td>\n",
              "      <td>Grocery Store</td>\n",
              "      <td>2</td>\n",
              "      <td>60651.0</td>\n",
              "      <td>2019-11-18T00:00:00.000</td>\n",
              "      <td>Canvass</td>\n",
              "      <td>Pass</td>\n",
              "      <td>55. PHYSICAL FACILITIES INSTALLED, MAINTAINED ...</td>\n",
              "      <td>41.895304</td>\n",
              "      <td>-87.721129</td>\n",
              "    </tr>\n",
              "    <tr>\n",
              "      <th>2</th>\n",
              "      <td>2</td>\n",
              "      <td>2345766</td>\n",
              "      <td>ROJO GUSANO</td>\n",
              "      <td>1305286.0</td>\n",
              "      <td>Restaurant</td>\n",
              "      <td>1</td>\n",
              "      <td>60625.0</td>\n",
              "      <td>2019-11-18T00:00:00.000</td>\n",
              "      <td>Canvass</td>\n",
              "      <td>Fail</td>\n",
              "      <td>3. MANAGEMENT, FOOD EMPLOYEE AND CONDITIONAL E...</td>\n",
              "      <td>41.968390</td>\n",
              "      <td>-87.724448</td>\n",
              "    </tr>\n",
              "    <tr>\n",
              "      <th>3</th>\n",
              "      <td>3</td>\n",
              "      <td>2345702</td>\n",
              "      <td>LAKESIDE FOOD WINE SPIRITS LLC</td>\n",
              "      <td>2694148.0</td>\n",
              "      <td>Grocery Store</td>\n",
              "      <td>3</td>\n",
              "      <td>60614.0</td>\n",
              "      <td>2019-11-15T00:00:00.000</td>\n",
              "      <td>License Re-Inspection</td>\n",
              "      <td>Pass w/ Conditions</td>\n",
              "      <td>5. PROCEDURES FOR RESPONDING TO VOMITING AND D...</td>\n",
              "      <td>41.929210</td>\n",
              "      <td>-87.648746</td>\n",
              "    </tr>\n",
              "    <tr>\n",
              "      <th>4</th>\n",
              "      <td>4</td>\n",
              "      <td>2345678</td>\n",
              "      <td>NEW KNOWLEDGE LEARNING CENTER, INC.</td>\n",
              "      <td>2215898.0</td>\n",
              "      <td>Children's Services Facility</td>\n",
              "      <td>1</td>\n",
              "      <td>60652.0</td>\n",
              "      <td>2019-11-15T00:00:00.000</td>\n",
              "      <td>License</td>\n",
              "      <td>Pass</td>\n",
              "      <td>53. TOILET FACILITIES: PROPERLY CONSTRUCTED, S...</td>\n",
              "      <td>41.739458</td>\n",
              "      <td>-87.702257</td>\n",
              "    </tr>\n",
              "  </tbody>\n",
              "</table>\n",
              "</div>"
            ],
            "text/plain": [
              "   Unnamed: 0  Inspection ID  ...   Latitude  Longitude\n",
              "0           0        2345787  ...  41.916960 -87.733945\n",
              "1           1        2345790  ...  41.895304 -87.721129\n",
              "2           2        2345766  ...  41.968390 -87.724448\n",
              "3           3        2345702  ...  41.929210 -87.648746\n",
              "4           4        2345678  ...  41.739458 -87.702257\n",
              "\n",
              "[5 rows x 13 columns]"
            ]
          },
          "metadata": {
            "tags": []
          },
          "execution_count": 9
        }
      ]
    },
    {
      "cell_type": "markdown",
      "metadata": {
        "id": "rwciHwtmNDoj",
        "colab_type": "text"
      },
      "source": [
        "We removed the parantheses in Facility Type entries, as some entries can be unified into the same category this way, such as (restaurant) and restaurant:"
      ]
    },
    {
      "cell_type": "code",
      "metadata": {
        "id": "jJ9IpYFqr9iN",
        "colab_type": "code",
        "colab": {}
      },
      "source": [
        "# More preprocessing: removing the parantheses in Facility Type entries\n",
        "df['Facility Type'] = df['Facility Type'].str.lower()\n",
        "df['Facility Type'] = df['Facility Type'].str.replace('[()]', '')"
      ],
      "execution_count": 0,
      "outputs": []
    },
    {
      "cell_type": "code",
      "metadata": {
        "id": "RhfP-SNZr9iP",
        "colab_type": "code",
        "outputId": "9235b2e2-7fea-467b-e4c9-c4b68b5a6cdc",
        "colab": {
          "base_uri": "https://localhost:8080/",
          "height": 55
        }
      },
      "source": [
        "# TODO : Grocery Store and Restaurant are going to be unified\n",
        "'''\n",
        "dp = df[df['Facility Type'].str.contains(\"grocery\") & df['Facility Type'].str.contains(\"restaurant\")]\n",
        "dp.loc[:,'Facility Type'] = 'grocery and restaurant'\n",
        "df = df[~df['Facility Type'].str.contains(\"grocery\") & df['Facility Type'].str.contains(\"restaurant\")]\n",
        "'''\n",
        "#df = df.append(dp,ignore_index=False)\n"
      ],
      "execution_count": 11,
      "outputs": [
        {
          "output_type": "execute_result",
          "data": {
            "text/plain": [
              "'\\ndp = df[df[\\'Facility Type\\'].str.contains(\"grocery\") & df[\\'Facility Type\\'].str.contains(\"restaurant\")]\\ndp.loc[:,\\'Facility Type\\'] = \\'grocery and restaurant\\'\\ndf = df[~df[\\'Facility Type\\'].str.contains(\"grocery\") & df[\\'Facility Type\\'].str.contains(\"restaurant\")]\\n'"
            ]
          },
          "metadata": {
            "tags": []
          },
          "execution_count": 11
        }
      ]
    },
    {
      "cell_type": "markdown",
      "metadata": {
        "id": "N_D_0xcgOQgx",
        "colab_type": "text"
      },
      "source": [
        "# **Data Analysis**"
      ]
    },
    {
      "cell_type": "markdown",
      "metadata": {
        "id": "p8evugJae-ZT",
        "colab_type": "text"
      },
      "source": [
        "### **Number of Unique Facilities**"
      ]
    },
    {
      "cell_type": "code",
      "metadata": {
        "id": "beW4DumFfDkS",
        "colab_type": "code",
        "outputId": "6da2fa4f-cca1-47c9-c98c-fc90835d1189",
        "colab": {
          "base_uri": "https://localhost:8080/",
          "height": 0
        }
      },
      "source": [
        "df_unique = df.groupby(['Latitude','Longitude','DBA Name']).count()\n",
        "print(\"Number of unique facilities: \" + str(df_unique.shape[0]))"
      ],
      "execution_count": 12,
      "outputs": [
        {
          "output_type": "stream",
          "text": [
            "Number of unique facilities: 27373\n"
          ],
          "name": "stdout"
        }
      ]
    },
    {
      "cell_type": "markdown",
      "metadata": {
        "id": "Z8_DWQ9xr9iW",
        "colab_type": "text"
      },
      "source": [
        "### **Facility Type vs. Average Risk**\n"
      ]
    },
    {
      "cell_type": "markdown",
      "metadata": {
        "id": "2NYPWCi6PEV0",
        "colab_type": "text"
      },
      "source": [
        "We analyzed the relationship between the type of facility and the average risk of that facility over all inspections:"
      ]
    },
    {
      "cell_type": "code",
      "metadata": {
        "id": "rj-CxjLpr9iR",
        "colab_type": "code",
        "colab": {}
      },
      "source": [
        "# Aggregate data over Facility Type\n",
        "grouped_fac = df.groupby('Facility Type')"
      ],
      "execution_count": 0,
      "outputs": []
    },
    {
      "cell_type": "code",
      "metadata": {
        "id": "9EsVpnqxr9iT",
        "colab_type": "code",
        "outputId": "7395195a-97a0-4b4e-9ea0-ecf9a026a6fe",
        "colab": {
          "base_uri": "https://localhost:8080/",
          "height": 0
        }
      },
      "source": [
        "# Compute average risk of each type of facility\n",
        "grouped_fac_risk_mean = pd.DataFrame(grouped_fac['Risk'].mean()).reset_index()\n",
        "grouped_fac_risk_mean.head()"
      ],
      "execution_count": 14,
      "outputs": [
        {
          "output_type": "execute_result",
          "data": {
            "text/html": [
              "<div>\n",
              "<style scoped>\n",
              "    .dataframe tbody tr th:only-of-type {\n",
              "        vertical-align: middle;\n",
              "    }\n",
              "\n",
              "    .dataframe tbody tr th {\n",
              "        vertical-align: top;\n",
              "    }\n",
              "\n",
              "    .dataframe thead th {\n",
              "        text-align: right;\n",
              "    }\n",
              "</style>\n",
              "<table border=\"1\" class=\"dataframe\">\n",
              "  <thead>\n",
              "    <tr style=\"text-align: right;\">\n",
              "      <th></th>\n",
              "      <th>Facility Type</th>\n",
              "      <th>Risk</th>\n",
              "    </tr>\n",
              "  </thead>\n",
              "  <tbody>\n",
              "    <tr>\n",
              "      <th>0</th>\n",
              "      <td>1005 nursing home</td>\n",
              "      <td>1.0</td>\n",
              "    </tr>\n",
              "    <tr>\n",
              "      <th>1</th>\n",
              "      <td>1023</td>\n",
              "      <td>1.0</td>\n",
              "    </tr>\n",
              "    <tr>\n",
              "      <th>2</th>\n",
              "      <td>1023 childern's service facility</td>\n",
              "      <td>1.0</td>\n",
              "    </tr>\n",
              "    <tr>\n",
              "      <th>3</th>\n",
              "      <td>1023 childern's service s facility</td>\n",
              "      <td>1.0</td>\n",
              "    </tr>\n",
              "    <tr>\n",
              "      <th>4</th>\n",
              "      <td>1023 childern's services facility</td>\n",
              "      <td>1.0</td>\n",
              "    </tr>\n",
              "  </tbody>\n",
              "</table>\n",
              "</div>"
            ],
            "text/plain": [
              "                        Facility Type  Risk\n",
              "0                   1005 nursing home   1.0\n",
              "1                                1023   1.0\n",
              "2    1023 childern's service facility   1.0\n",
              "3  1023 childern's service s facility   1.0\n",
              "4   1023 childern's services facility   1.0"
            ]
          },
          "metadata": {
            "tags": []
          },
          "execution_count": 14
        }
      ]
    },
    {
      "cell_type": "code",
      "metadata": {
        "id": "dCJRNes4PwB1",
        "colab_type": "code",
        "colab": {}
      },
      "source": [
        "# TODO: unify the entries with 1023 as one type of facility"
      ],
      "execution_count": 0,
      "outputs": []
    },
    {
      "cell_type": "code",
      "metadata": {
        "scrolled": true,
        "id": "UTR_QVrtr9iX",
        "colab_type": "code",
        "outputId": "491ff7cf-a4e4-4f31-dfad-6ccfd6965c80",
        "colab": {
          "base_uri": "https://localhost:8080/",
          "height": 0
        }
      },
      "source": [
        "# Compute number of facilities in each type of facility\n",
        "fac_dist = pd.DataFrame(grouped_fac.count()['Risk']).rename(columns={'Risk':'Counts'}).sort_values(by='Counts',ascending=False).reset_index()\n",
        "print(\"Number of different types of facilities :\" + str(fac_dist.size))\n",
        "fac_dist.head(100)"
      ],
      "execution_count": 16,
      "outputs": [
        {
          "output_type": "stream",
          "text": [
            "Number of different types of facilities :868\n"
          ],
          "name": "stdout"
        },
        {
          "output_type": "execute_result",
          "data": {
            "text/html": [
              "<div>\n",
              "<style scoped>\n",
              "    .dataframe tbody tr th:only-of-type {\n",
              "        vertical-align: middle;\n",
              "    }\n",
              "\n",
              "    .dataframe tbody tr th {\n",
              "        vertical-align: top;\n",
              "    }\n",
              "\n",
              "    .dataframe thead th {\n",
              "        text-align: right;\n",
              "    }\n",
              "</style>\n",
              "<table border=\"1\" class=\"dataframe\">\n",
              "  <thead>\n",
              "    <tr style=\"text-align: right;\">\n",
              "      <th></th>\n",
              "      <th>Facility Type</th>\n",
              "      <th>Counts</th>\n",
              "    </tr>\n",
              "  </thead>\n",
              "  <tbody>\n",
              "    <tr>\n",
              "      <th>0</th>\n",
              "      <td>restaurant</td>\n",
              "      <td>129462</td>\n",
              "    </tr>\n",
              "    <tr>\n",
              "      <th>1</th>\n",
              "      <td>grocery store</td>\n",
              "      <td>24677</td>\n",
              "    </tr>\n",
              "    <tr>\n",
              "      <th>2</th>\n",
              "      <td>school</td>\n",
              "      <td>12131</td>\n",
              "    </tr>\n",
              "    <tr>\n",
              "      <th>3</th>\n",
              "      <td>children's services facility</td>\n",
              "      <td>3064</td>\n",
              "    </tr>\n",
              "    <tr>\n",
              "      <th>4</th>\n",
              "      <td>bakery</td>\n",
              "      <td>2836</td>\n",
              "    </tr>\n",
              "    <tr>\n",
              "      <th>...</th>\n",
              "      <td>...</td>\n",
              "      <td>...</td>\n",
              "    </tr>\n",
              "    <tr>\n",
              "      <th>95</th>\n",
              "      <td>custom poultry slaughter</td>\n",
              "      <td>12</td>\n",
              "    </tr>\n",
              "    <tr>\n",
              "      <th>96</th>\n",
              "      <td>gas station/store</td>\n",
              "      <td>12</td>\n",
              "    </tr>\n",
              "    <tr>\n",
              "      <th>97</th>\n",
              "      <td>riverwalk</td>\n",
              "      <td>12</td>\n",
              "    </tr>\n",
              "    <tr>\n",
              "      <th>98</th>\n",
              "      <td>employee kitchen</td>\n",
              "      <td>12</td>\n",
              "    </tr>\n",
              "    <tr>\n",
              "      <th>99</th>\n",
              "      <td>grocery and butcher</td>\n",
              "      <td>12</td>\n",
              "    </tr>\n",
              "  </tbody>\n",
              "</table>\n",
              "<p>100 rows × 2 columns</p>\n",
              "</div>"
            ],
            "text/plain": [
              "                   Facility Type  Counts\n",
              "0                     restaurant  129462\n",
              "1                  grocery store   24677\n",
              "2                         school   12131\n",
              "3   children's services facility    3064\n",
              "4                         bakery    2836\n",
              "..                           ...     ...\n",
              "95      custom poultry slaughter      12\n",
              "96             gas station/store      12\n",
              "97                     riverwalk      12\n",
              "98              employee kitchen      12\n",
              "99           grocery and butcher      12\n",
              "\n",
              "[100 rows x 2 columns]"
            ]
          },
          "metadata": {
            "tags": []
          },
          "execution_count": 16
        }
      ]
    },
    {
      "cell_type": "markdown",
      "metadata": {
        "id": "ZBPvbW_CYMPj",
        "colab_type": "text"
      },
      "source": [
        "When we plotted the number of facilities in each type of facility vs. their average risk score, we observed no correlation between the two. We observed that the facility type with the highest number of facilities (i.e. restaurant) has a very high average risk score:"
      ]
    },
    {
      "cell_type": "markdown",
      "metadata": {
        "id": "eVZEtg_iXrnc",
        "colab_type": "text"
      },
      "source": [
        "### **Facility Type Distribution**"
      ]
    },
    {
      "cell_type": "markdown",
      "metadata": {
        "id": "7-3nrh5PXIbv",
        "colab_type": "text"
      },
      "source": [
        "From the bar plot below, we can clearly observe the skewed distribution in Facility Type. Most of our data consists of restaurant, grocery store, and school types of facilities:"
      ]
    },
    {
      "cell_type": "code",
      "metadata": {
        "id": "TDqfH9CZS9Ws",
        "colab_type": "code",
        "outputId": "2f201b96-74d4-4527-91fb-8af54f48f834",
        "colab": {
          "base_uri": "https://localhost:8080/",
          "height": 0
        }
      },
      "source": [
        "plt.barh(fac_dist.head(15)['Facility Type'],fac_dist.head(15)['Counts'])"
      ],
      "execution_count": 17,
      "outputs": [
        {
          "output_type": "execute_result",
          "data": {
            "text/plain": [
              "<BarContainer object of 15 artists>"
            ]
          },
          "metadata": {
            "tags": []
          },
          "execution_count": 17
        },
        {
          "output_type": "display_data",
          "data": {
            "image/png": "[encoded data removed]",
            "text/plain": [
              "<Figure size 432x288 with 1 Axes>"
            ]
          },
          "metadata": {
            "tags": []
          }
        }
      ]
    },
    {
      "cell_type": "markdown",
      "metadata": {
        "id": "CKLyGPdMYipy",
        "colab_type": "text"
      },
      "source": [
        "### **Number of Facilities in a Type vs. Average Risk Score**"
      ]
    },
    {
      "cell_type": "code",
      "metadata": {
        "id": "byAJr65ir9iZ",
        "colab_type": "code",
        "outputId": "0ecaa9ae-813a-4c2e-ca7e-60be53ff5dbc",
        "colab": {
          "base_uri": "https://localhost:8080/",
          "height": 0
        }
      },
      "source": [
        "# Perform inner merge on number of facilities and their risk scores \n",
        "merged_inner = pd.merge(left=fac_dist,right=grouped_fac_risk_mean,left_on='Facility Type',right_on='Facility Type')\n",
        "# Scatter plot: number of facilities in each type (i.e. facility type) vs. average risk score\n",
        "merged_inner.plot.scatter(x='Counts', y='Risk')"
      ],
      "execution_count": 18,
      "outputs": [
        {
          "output_type": "execute_result",
          "data": {
            "text/plain": [
              "<matplotlib.axes._subplots.AxesSubplot at 0x7fd6782be080>"
            ]
          },
          "metadata": {
            "tags": []
          },
          "execution_count": 18
        },
        {
          "output_type": "display_data",
          "data": {
            "image/png": "[encoded data removed]",
            "text/plain": [
              "<Figure size 432x288 with 1 Axes>"
            ]
          },
          "metadata": {
            "tags": []
          }
        }
      ]
    },
    {
      "cell_type": "markdown",
      "metadata": {
        "id": "8-RqdwUPr9id",
        "colab_type": "text"
      },
      "source": [
        "We realized that the dataset is unbalanced in terms of number of Facility Types, where there are some Facility Types with very few instances. The types of facilities with very few instances would provide us with little to no information. Hence, we decided to analyze the 50 most frequent type of facilities and drop the others:"
      ]
    },
    {
      "cell_type": "code",
      "metadata": {
        "id": "8OU47lhMr9ie",
        "colab_type": "code",
        "outputId": "8c9f785f-9c9c-496f-baf8-72a5fdf26f12",
        "colab": {
          "base_uri": "https://localhost:8080/",
          "height": 0
        }
      },
      "source": [
        "print(\"Number of entries before removing facility types with few instances: \" + str(df.size))\n",
        "df = df[df['Facility Type'].isin(list(fac_dist['Facility Type'])[:50])]\n",
        "print(\"Number of entries after removing facility types with few instances: \" + str(df.size))"
      ],
      "execution_count": 19,
      "outputs": [
        {
          "output_type": "stream",
          "text": [
            "Number of entries before removing facility types with few instances: 2462837\n",
            "Number of entries after removing facility types with few instances: 2434458\n"
          ],
          "name": "stdout"
        }
      ]
    },
    {
      "cell_type": "markdown",
      "metadata": {
        "id": "DZzu7EOQr9ig",
        "colab_type": "text"
      },
      "source": [
        "As we can see from the code above, there are around 20 thousand facilities that dont have as much inspections as the others. As a result, data set is more balanced now"
      ]
    },
    {
      "cell_type": "markdown",
      "metadata": {
        "id": "rvahQqzeYxPm",
        "colab_type": "text"
      },
      "source": [
        "### **Out of Business Facilities on Map**"
      ]
    },
    {
      "cell_type": "code",
      "metadata": {
        "id": "E80y45xOr9ih",
        "colab_type": "code",
        "outputId": "5021d621-ac92-4975-c1d1-0133da5f0f96",
        "colab": {
          "base_uri": "https://localhost:8080/",
          "height": 0
        }
      },
      "source": [
        "# Out of business facilities\n",
        "df_oob = df[df.Results.str.contains(\"Out of Business\",na=False)]\n",
        "df_oob\n",
        "# Grouped by the facilities\n",
        "df_oob_unique = df_oob.groupby(['Latitude','Longitude','DBA Name', 'License #']).count()\n",
        "df_oob_unique.shape"
      ],
      "execution_count": 20,
      "outputs": [
        {
          "output_type": "execute_result",
          "data": {
            "text/plain": [
              "(12368, 9)"
            ]
          },
          "metadata": {
            "tags": []
          },
          "execution_count": 20
        }
      ]
    },
    {
      "cell_type": "markdown",
      "metadata": {
        "id": "-nJM5570tGrV",
        "colab_type": "text"
      },
      "source": [
        "We mapped the facilities that have gone out of business to identify any possible pattern:"
      ]
    },
    {
      "cell_type": "code",
      "metadata": {
        "id": "48p6tnK6r9ik",
        "colab_type": "code",
        "outputId": "79840550-5290-415f-f012-3db64509f7c6",
        "colab": {
          "base_uri": "https://localhost:8080/",
          "height": 0
        }
      },
      "source": [
        "'''\n",
        "# Map the facilities that have gone out of business \n",
        "map_oob = folium.Map(\n",
        "    location=[41.8781, -87.6298],\n",
        "    zoom_start=9\n",
        ")\n",
        "\n",
        "# We take 5000 samples to view on the map\n",
        "# TODO: take randomized samples / visualize the whole data\n",
        "marker_cluster = MarkerCluster().add_to(map_oob)\n",
        "ranges = 0\n",
        "for i in df_oob_unique.index:\n",
        "    if ranges == 5000:\n",
        "        break\n",
        "    folium.Marker([(i[0]), (i[1])]).add_to(marker_cluster)        \n",
        "    ranges = ranges + 1\n",
        "\n",
        "map_oob\n",
        "'''"
      ],
      "execution_count": 21,
      "outputs": [
        {
          "output_type": "execute_result",
          "data": {
            "text/plain": [
              "'\\n# Map the facilities that have gone out of business \\nmap_oob = folium.Map(\\n    location=[41.8781, -87.6298],\\n    zoom_start=9\\n)\\n\\n# We take 5000 samples to view on the map\\n# TODO: take randomized samples / visualize the whole data\\nmarker_cluster = MarkerCluster().add_to(map_oob)\\nranges = 0\\nfor i in df_oob_unique.index:\\n    if ranges == 5000:\\n        break\\n    folium.Marker([(i[0]), (i[1])]).add_to(marker_cluster)        \\n    ranges = ranges + 1\\n\\nmap_oob\\n'"
            ]
          },
          "metadata": {
            "tags": []
          },
          "execution_count": 21
        }
      ]
    },
    {
      "cell_type": "markdown",
      "metadata": {
        "id": "70YWgfyOY98g",
        "colab_type": "text"
      },
      "source": [
        "### **Average Risk of Facilities on Map**"
      ]
    },
    {
      "cell_type": "code",
      "metadata": {
        "id": "5oPntwPCr9ir",
        "colab_type": "code",
        "colab": {}
      },
      "source": [
        "# Calculate risk mean of each facility\n",
        "df_avg_risk_score = df.groupby(['Latitude','Longitude','DBA Name'])['Risk'].mean()"
      ],
      "execution_count": 0,
      "outputs": []
    },
    {
      "cell_type": "markdown",
      "metadata": {
        "id": "_J6Ty7thtdFo",
        "colab_type": "text"
      },
      "source": [
        "We mapped the average risk score of facilities to identify any possible pattern:"
      ]
    },
    {
      "cell_type": "code",
      "metadata": {
        "id": "xm69-CXir9iw",
        "colab_type": "code",
        "outputId": "13ef7caf-6e99-4cad-9271-a84cf3182e5d",
        "colab": {
          "base_uri": "https://localhost:8080/",
          "height": 0
        }
      },
      "source": [
        "# Map the average risk score of facilities, where red indicates high risk, orange indicates medium risk, and green indicates low risk\n",
        "'''\n",
        "map_risk = folium.Map(\n",
        "    location=[41.8781, -87.6298],\n",
        "    zoom_start=9\n",
        ")\n",
        "\n",
        "# We take 2000 samples to view on the map\n",
        "# TODO: take randomized samples / visualize the whole data\n",
        "ranges = 0\n",
        "for i in df_avg_risk_score.index:\n",
        "    if ranges == 2000:\n",
        "        break\n",
        "    if(round(df_avg_risk_score[i]) == 1):\n",
        "        folium.Marker([(i[0]), (i[1])],icon=folium.Icon(color='red')).add_to(map_risk)\n",
        "    elif(round(df_avg_risk_score[i]) == 2):\n",
        "        folium.Marker([(i[0]), (i[1])],icon=folium.Icon(color='orange')).add_to(map_risk)\n",
        "    elif(round(df_avg_risk_score[i]) == 3):\n",
        "        folium.Marker([(i[0]), (i[1])],icon=folium.Icon(color='green')).add_to(map_risk)       \n",
        "    ranges = ranges + 1\n",
        "\n",
        "map_risk\n",
        "'''"
      ],
      "execution_count": 23,
      "outputs": [
        {
          "output_type": "execute_result",
          "data": {
            "text/plain": [
              "\"\\nmap_risk = folium.Map(\\n    location=[41.8781, -87.6298],\\n    zoom_start=9\\n)\\n\\n# We take 2000 samples to view on the map\\n# TODO: take randomized samples / visualize the whole data\\nranges = 0\\nfor i in df_avg_risk_score.index:\\n    if ranges == 2000:\\n        break\\n    if(round(df_avg_risk_score[i]) == 1):\\n        folium.Marker([(i[0]), (i[1])],icon=folium.Icon(color='red')).add_to(map_risk)\\n    elif(round(df_avg_risk_score[i]) == 2):\\n        folium.Marker([(i[0]), (i[1])],icon=folium.Icon(color='orange')).add_to(map_risk)\\n    elif(round(df_avg_risk_score[i]) == 3):\\n        folium.Marker([(i[0]), (i[1])],icon=folium.Icon(color='green')).add_to(map_risk)       \\n    ranges = ranges + 1\\n\\nmap_risk\\n\""
            ]
          },
          "metadata": {
            "tags": []
          },
          "execution_count": 23
        }
      ]
    },
    {
      "cell_type": "markdown",
      "metadata": {
        "id": "gedBg9DbwYnV",
        "colab_type": "text"
      },
      "source": [
        "We plotted the number of inspections vs. the average risk score of each facility to identify any possible correlation between the two. We observed the there is a negative correlation between the number of inspections and the average risk of the facility:"
      ]
    },
    {
      "cell_type": "code",
      "metadata": {
        "id": "SliEvDVHr9iz",
        "colab_type": "code",
        "outputId": "32371cdf-c8dc-4330-e6bd-6e8e869b3490",
        "colab": {
          "base_uri": "https://localhost:8080/",
          "height": 0
        }
      },
      "source": [
        "# Scatter plot on the number of inspections vs. the average risk score\n",
        "df_unique = pd.DataFrame(df.groupby(['Latitude','Longitude','DBA Name']).count()['Risk']).rename(columns={'Risk':'Counts'})\n",
        "merged = pd.merge(left=df_avg_risk_score.reset_index(),right=df_unique.reset_index(),left_on=['Latitude','Longitude','DBA Name'],right_on=['Latitude','Longitude','DBA Name'])\n",
        "merged.plot.scatter(x='Risk', y='Counts')"
      ],
      "execution_count": 24,
      "outputs": [
        {
          "output_type": "execute_result",
          "data": {
            "text/plain": [
              "<matplotlib.axes._subplots.AxesSubplot at 0x7fd675d4fb00>"
            ]
          },
          "metadata": {
            "tags": []
          },
          "execution_count": 24
        },
        {
          "output_type": "display_data",
          "data": {
            "image/png": "[encoded data removed]",
            "text/plain": [
              "<Figure size 432x288 with 1 Axes>"
            ]
          },
          "metadata": {
            "tags": []
          }
        }
      ]
    },
    {
      "cell_type": "markdown",
      "metadata": {
        "id": "WYaFos2Ir9i4",
        "colab_type": "text"
      },
      "source": [
        "We observed that the number of risk 3 facilities are lower than the others. Hence, we decided to plot average risk scores vs number of facilities."
      ]
    },
    {
      "cell_type": "markdown",
      "metadata": {
        "id": "jRnO5vZlnNtd",
        "colab_type": "text"
      },
      "source": [
        "### **Correlation between Number of Inspections and Average Level of Risk**"
      ]
    },
    {
      "cell_type": "markdown",
      "metadata": {
        "id": "VT4v4wC_yRha",
        "colab_type": "text"
      },
      "source": [
        "We observed a moderate positive correlation between the number of inspections and average level of risk of the facility (since Risk 1 means high risk and Risk 3 means low risk):"
      ]
    },
    {
      "cell_type": "code",
      "metadata": {
        "id": "DTX2ONt9w7V8",
        "colab_type": "code",
        "outputId": "534538cd-db32-46b8-9ff3-c902b61caab1",
        "colab": {
          "base_uri": "https://localhost:8080/",
          "height": 0
        }
      },
      "source": [
        "merged[['Risk', 'Counts']].corr(method='pearson')"
      ],
      "execution_count": 25,
      "outputs": [
        {
          "output_type": "execute_result",
          "data": {
            "text/html": [
              "<div>\n",
              "<style scoped>\n",
              "    .dataframe tbody tr th:only-of-type {\n",
              "        vertical-align: middle;\n",
              "    }\n",
              "\n",
              "    .dataframe tbody tr th {\n",
              "        vertical-align: top;\n",
              "    }\n",
              "\n",
              "    .dataframe thead th {\n",
              "        text-align: right;\n",
              "    }\n",
              "</style>\n",
              "<table border=\"1\" class=\"dataframe\">\n",
              "  <thead>\n",
              "    <tr style=\"text-align: right;\">\n",
              "      <th></th>\n",
              "      <th>Risk</th>\n",
              "      <th>Counts</th>\n",
              "    </tr>\n",
              "  </thead>\n",
              "  <tbody>\n",
              "    <tr>\n",
              "      <th>Risk</th>\n",
              "      <td>1.000000</td>\n",
              "      <td>-0.376107</td>\n",
              "    </tr>\n",
              "    <tr>\n",
              "      <th>Counts</th>\n",
              "      <td>-0.376107</td>\n",
              "      <td>1.000000</td>\n",
              "    </tr>\n",
              "  </tbody>\n",
              "</table>\n",
              "</div>"
            ],
            "text/plain": [
              "            Risk    Counts\n",
              "Risk    1.000000 -0.376107\n",
              "Counts -0.376107  1.000000"
            ]
          },
          "metadata": {
            "tags": []
          },
          "execution_count": 25
        }
      ]
    },
    {
      "cell_type": "markdown",
      "metadata": {
        "id": "TcYiy6JonijB",
        "colab_type": "text"
      },
      "source": [
        "### **Distribution of Risk Scores of Facilities**"
      ]
    },
    {
      "cell_type": "markdown",
      "metadata": {
        "id": "QHzvzFwLn1ot",
        "colab_type": "text"
      },
      "source": [
        "We visualized the distribution of average level of risk scores of each facility using the bar plot below:"
      ]
    },
    {
      "cell_type": "code",
      "metadata": {
        "id": "1aMedXkjr9i4",
        "colab_type": "code",
        "outputId": "d0f6c951-b27c-41fc-81bc-ed3548633d3e",
        "colab": {
          "base_uri": "https://localhost:8080/",
          "height": 0
        }
      },
      "source": [
        "# Grouped by risk scores and number of facilities\n",
        "df_avg_risk_score1 = pd.DataFrame(df_avg_risk_score).apply(lambda x: round(x)).reset_index()\n",
        "df_avg_risk_score1 = pd.DataFrame(df_avg_risk_score1.groupby('Risk').count()['Latitude']).rename(columns={'Latitude':'Counts'})\n",
        "df_avg_risk_score1"
      ],
      "execution_count": 26,
      "outputs": [
        {
          "output_type": "execute_result",
          "data": {
            "text/html": [
              "<div>\n",
              "<style scoped>\n",
              "    .dataframe tbody tr th:only-of-type {\n",
              "        vertical-align: middle;\n",
              "    }\n",
              "\n",
              "    .dataframe tbody tr th {\n",
              "        vertical-align: top;\n",
              "    }\n",
              "\n",
              "    .dataframe thead th {\n",
              "        text-align: right;\n",
              "    }\n",
              "</style>\n",
              "<table border=\"1\" class=\"dataframe\">\n",
              "  <thead>\n",
              "    <tr style=\"text-align: right;\">\n",
              "      <th></th>\n",
              "      <th>Counts</th>\n",
              "    </tr>\n",
              "    <tr>\n",
              "      <th>Risk</th>\n",
              "      <th></th>\n",
              "    </tr>\n",
              "  </thead>\n",
              "  <tbody>\n",
              "    <tr>\n",
              "      <th>1.0</th>\n",
              "      <td>15735</td>\n",
              "    </tr>\n",
              "    <tr>\n",
              "      <th>2.0</th>\n",
              "      <td>6840</td>\n",
              "    </tr>\n",
              "    <tr>\n",
              "      <th>3.0</th>\n",
              "      <td>4303</td>\n",
              "    </tr>\n",
              "  </tbody>\n",
              "</table>\n",
              "</div>"
            ],
            "text/plain": [
              "      Counts\n",
              "Risk        \n",
              "1.0    15735\n",
              "2.0     6840\n",
              "3.0     4303"
            ]
          },
          "metadata": {
            "tags": []
          },
          "execution_count": 26
        }
      ]
    },
    {
      "cell_type": "code",
      "metadata": {
        "id": "H-8wb6jkr9i6",
        "colab_type": "code",
        "outputId": "96b9c2a8-80b0-409a-f07e-40f6bdcb971c",
        "colab": {
          "base_uri": "https://localhost:8080/",
          "height": 0
        }
      },
      "source": [
        "plt.bar(df_avg_risk_score1.index,df_avg_risk_score1['Counts'])"
      ],
      "execution_count": 27,
      "outputs": [
        {
          "output_type": "execute_result",
          "data": {
            "text/plain": [
              "<BarContainer object of 3 artists>"
            ]
          },
          "metadata": {
            "tags": []
          },
          "execution_count": 27
        },
        {
          "output_type": "display_data",
          "data": {
            "image/png": "[encoded data removed]",
            "text/plain": [
              "<Figure size 432x288 with 1 Axes>"
            ]
          },
          "metadata": {
            "tags": []
          }
        }
      ]
    },
    {
      "cell_type": "markdown",
      "metadata": {
        "id": "Fi_AiSyn5Qkm",
        "colab_type": "text"
      },
      "source": [
        "### **Different Branches vs. Risk Score**"
      ]
    },
    {
      "cell_type": "markdown",
      "metadata": {
        "id": "I2FKMuipNzKH",
        "colab_type": "text"
      },
      "source": [
        "For the next milestone, we want to analyze the average risk score of a facility between its different branches."
      ]
    },
    {
      "cell_type": "code",
      "metadata": {
        "id": "s4zsIpOw5jtD",
        "colab_type": "code",
        "colab": {}
      },
      "source": [
        "# Identify the facility with the highest number of branches\n",
        "#grouped_name = df.groupby('DBA Name').count()\n",
        "grouped_unique_name = pd.DataFrame(df.groupby('DBA Name').count().rename(columns={'Risk':'Counts'})['Counts']).sort_values(by='Counts',ascending=False).reset_index()\n",
        "grouped_unique_facility = pd.DataFrame(df.groupby(['Latitude','Longitude','DBA Name']).count().rename(columns={'Risk':'Counts'})['Counts']).sort_values(by='Counts',ascending=False).reset_index()"
      ],
      "execution_count": 0,
      "outputs": []
    },
    {
      "cell_type": "markdown",
      "metadata": {
        "id": "NGrrO4kM9WXs",
        "colab_type": "text"
      },
      "source": [
        "We will be investigating the facility (chain) with the highest number of branches to see if there is any difference in the risk scores of its branches. "
      ]
    },
    {
      "cell_type": "code",
      "metadata": {
        "id": "FQg4wd2s5YDQ",
        "colab_type": "code",
        "outputId": "afdfe692-a98e-468d-fa7e-936f43bc04d6",
        "colab": {
          "base_uri": "https://localhost:8080/",
          "height": 0
        }
      },
      "source": [
        "# The facilities with the highest number of inspections (chain)\n",
        "grouped_unique_name.head()"
      ],
      "execution_count": 29,
      "outputs": [
        {
          "output_type": "execute_result",
          "data": {
            "text/html": [
              "<div>\n",
              "<style scoped>\n",
              "    .dataframe tbody tr th:only-of-type {\n",
              "        vertical-align: middle;\n",
              "    }\n",
              "\n",
              "    .dataframe tbody tr th {\n",
              "        vertical-align: top;\n",
              "    }\n",
              "\n",
              "    .dataframe thead th {\n",
              "        text-align: right;\n",
              "    }\n",
              "</style>\n",
              "<table border=\"1\" class=\"dataframe\">\n",
              "  <thead>\n",
              "    <tr style=\"text-align: right;\">\n",
              "      <th></th>\n",
              "      <th>DBA Name</th>\n",
              "      <th>Counts</th>\n",
              "    </tr>\n",
              "  </thead>\n",
              "  <tbody>\n",
              "    <tr>\n",
              "      <th>0</th>\n",
              "      <td>SUBWAY</td>\n",
              "      <td>2650</td>\n",
              "    </tr>\n",
              "    <tr>\n",
              "      <th>1</th>\n",
              "      <td>DUNKIN DONUTS</td>\n",
              "      <td>1359</td>\n",
              "    </tr>\n",
              "    <tr>\n",
              "      <th>2</th>\n",
              "      <td>MCDONALD'S</td>\n",
              "      <td>561</td>\n",
              "    </tr>\n",
              "    <tr>\n",
              "      <th>3</th>\n",
              "      <td>7-ELEVEN</td>\n",
              "      <td>418</td>\n",
              "    </tr>\n",
              "    <tr>\n",
              "      <th>4</th>\n",
              "      <td>MCDONALDS</td>\n",
              "      <td>322</td>\n",
              "    </tr>\n",
              "  </tbody>\n",
              "</table>\n",
              "</div>"
            ],
            "text/plain": [
              "        DBA Name  Counts\n",
              "0         SUBWAY    2650\n",
              "1  DUNKIN DONUTS    1359\n",
              "2     MCDONALD'S     561\n",
              "3       7-ELEVEN     418\n",
              "4      MCDONALDS     322"
            ]
          },
          "metadata": {
            "tags": []
          },
          "execution_count": 29
        }
      ]
    },
    {
      "cell_type": "code",
      "metadata": {
        "id": "ahCqevsq6G-T",
        "colab_type": "code",
        "outputId": "1da1ef78-0eaa-4ba7-9031-d53624ac33a4",
        "colab": {
          "base_uri": "https://localhost:8080/",
          "height": 0
        }
      },
      "source": [
        "# The facilities with the highest number of inspections (unique)\n",
        "grouped_unique_facility.head()"
      ],
      "execution_count": 30,
      "outputs": [
        {
          "output_type": "execute_result",
          "data": {
            "text/html": [
              "<div>\n",
              "<style scoped>\n",
              "    .dataframe tbody tr th:only-of-type {\n",
              "        vertical-align: middle;\n",
              "    }\n",
              "\n",
              "    .dataframe tbody tr th {\n",
              "        vertical-align: top;\n",
              "    }\n",
              "\n",
              "    .dataframe thead th {\n",
              "        text-align: right;\n",
              "    }\n",
              "</style>\n",
              "<table border=\"1\" class=\"dataframe\">\n",
              "  <thead>\n",
              "    <tr style=\"text-align: right;\">\n",
              "      <th></th>\n",
              "      <th>Latitude</th>\n",
              "      <th>Longitude</th>\n",
              "      <th>DBA Name</th>\n",
              "      <th>Counts</th>\n",
              "    </tr>\n",
              "  </thead>\n",
              "  <tbody>\n",
              "    <tr>\n",
              "      <th>0</th>\n",
              "      <td>41.862628</td>\n",
              "      <td>-87.615031</td>\n",
              "      <td>SPORTSERVICE SOLDIER FIELD</td>\n",
              "      <td>175</td>\n",
              "    </tr>\n",
              "    <tr>\n",
              "      <th>1</th>\n",
              "      <td>41.830784</td>\n",
              "      <td>-87.635296</td>\n",
              "      <td>ILLINOIS SPORTSERVICE INC</td>\n",
              "      <td>100</td>\n",
              "    </tr>\n",
              "    <tr>\n",
              "      <th>2</th>\n",
              "      <td>42.008536</td>\n",
              "      <td>-87.914428</td>\n",
              "      <td>THE GREAT AMERICAN BAGEL</td>\n",
              "      <td>91</td>\n",
              "    </tr>\n",
              "    <tr>\n",
              "      <th>3</th>\n",
              "      <td>41.883473</td>\n",
              "      <td>-87.627730</td>\n",
              "      <td>MACY'S</td>\n",
              "      <td>87</td>\n",
              "    </tr>\n",
              "    <tr>\n",
              "      <th>4</th>\n",
              "      <td>41.947317</td>\n",
              "      <td>-87.656418</td>\n",
              "      <td>LEVY RESTAURANTS AT WRIGLEY FIELD</td>\n",
              "      <td>84</td>\n",
              "    </tr>\n",
              "  </tbody>\n",
              "</table>\n",
              "</div>"
            ],
            "text/plain": [
              "    Latitude  Longitude                           DBA Name  Counts\n",
              "0  41.862628 -87.615031         SPORTSERVICE SOLDIER FIELD     175\n",
              "1  41.830784 -87.635296          ILLINOIS SPORTSERVICE INC     100\n",
              "2  42.008536 -87.914428           THE GREAT AMERICAN BAGEL      91\n",
              "3  41.883473 -87.627730                             MACY'S      87\n",
              "4  41.947317 -87.656418  LEVY RESTAURANTS AT WRIGLEY FIELD      84"
            ]
          },
          "metadata": {
            "tags": []
          },
          "execution_count": 30
        }
      ]
    },
    {
      "cell_type": "markdown",
      "metadata": {
        "id": "_n637CHg_9jG",
        "colab_type": "text"
      },
      "source": [
        "### **Type of Facility vs. Percentage of Going Out of Business**"
      ]
    },
    {
      "cell_type": "code",
      "metadata": {
        "id": "hU9hCSduAtKO",
        "colab_type": "code",
        "outputId": "5f716894-e35d-45b6-a531-e9e5db303ce1",
        "colab": {
          "base_uri": "https://localhost:8080/",
          "height": 0
        }
      },
      "source": [
        "# Data grouped by the facility type\n",
        "fac_dist.head()"
      ],
      "execution_count": 31,
      "outputs": [
        {
          "output_type": "execute_result",
          "data": {
            "text/html": [
              "<div>\n",
              "<style scoped>\n",
              "    .dataframe tbody tr th:only-of-type {\n",
              "        vertical-align: middle;\n",
              "    }\n",
              "\n",
              "    .dataframe tbody tr th {\n",
              "        vertical-align: top;\n",
              "    }\n",
              "\n",
              "    .dataframe thead th {\n",
              "        text-align: right;\n",
              "    }\n",
              "</style>\n",
              "<table border=\"1\" class=\"dataframe\">\n",
              "  <thead>\n",
              "    <tr style=\"text-align: right;\">\n",
              "      <th></th>\n",
              "      <th>Facility Type</th>\n",
              "      <th>Counts</th>\n",
              "    </tr>\n",
              "  </thead>\n",
              "  <tbody>\n",
              "    <tr>\n",
              "      <th>0</th>\n",
              "      <td>restaurant</td>\n",
              "      <td>129462</td>\n",
              "    </tr>\n",
              "    <tr>\n",
              "      <th>1</th>\n",
              "      <td>grocery store</td>\n",
              "      <td>24677</td>\n",
              "    </tr>\n",
              "    <tr>\n",
              "      <th>2</th>\n",
              "      <td>school</td>\n",
              "      <td>12131</td>\n",
              "    </tr>\n",
              "    <tr>\n",
              "      <th>3</th>\n",
              "      <td>children's services facility</td>\n",
              "      <td>3064</td>\n",
              "    </tr>\n",
              "    <tr>\n",
              "      <th>4</th>\n",
              "      <td>bakery</td>\n",
              "      <td>2836</td>\n",
              "    </tr>\n",
              "  </tbody>\n",
              "</table>\n",
              "</div>"
            ],
            "text/plain": [
              "                  Facility Type  Counts\n",
              "0                    restaurant  129462\n",
              "1                 grocery store   24677\n",
              "2                        school   12131\n",
              "3  children's services facility    3064\n",
              "4                        bakery    2836"
            ]
          },
          "metadata": {
            "tags": []
          },
          "execution_count": 31
        }
      ]
    },
    {
      "cell_type": "code",
      "metadata": {
        "id": "-sqDIFO0A4IU",
        "colab_type": "code",
        "colab": {}
      },
      "source": [
        "# Group out of business facilities on facility type\n",
        "df_oob_fac = pd.DataFrame(df_oob.groupby('Facility Type').count().rename(columns={'Risk':'Counts'})['Counts'])\n",
        "merged_fac_oob = pd.merge(left=df_oob_fac.reset_index(), right=fac_dist.reset_index(),left_on=['Facility Type'],right_on=['Facility Type'])"
      ],
      "execution_count": 0,
      "outputs": []
    },
    {
      "cell_type": "code",
      "metadata": {
        "id": "A87w-TYQAvyu",
        "colab_type": "code",
        "outputId": "5d36b3ee-7fb2-49fe-c5c0-b4fb2749be7a",
        "colab": {
          "base_uri": "https://localhost:8080/",
          "height": 0
        }
      },
      "source": [
        "merged_fac_oob.head()"
      ],
      "execution_count": 33,
      "outputs": [
        {
          "output_type": "execute_result",
          "data": {
            "text/html": [
              "<div>\n",
              "<style scoped>\n",
              "    .dataframe tbody tr th:only-of-type {\n",
              "        vertical-align: middle;\n",
              "    }\n",
              "\n",
              "    .dataframe tbody tr th {\n",
              "        vertical-align: top;\n",
              "    }\n",
              "\n",
              "    .dataframe thead th {\n",
              "        text-align: right;\n",
              "    }\n",
              "</style>\n",
              "<table border=\"1\" class=\"dataframe\">\n",
              "  <thead>\n",
              "    <tr style=\"text-align: right;\">\n",
              "      <th></th>\n",
              "      <th>Facility Type</th>\n",
              "      <th>Counts_x</th>\n",
              "      <th>index</th>\n",
              "      <th>Counts_y</th>\n",
              "    </tr>\n",
              "  </thead>\n",
              "  <tbody>\n",
              "    <tr>\n",
              "      <th>0</th>\n",
              "      <td>1023 childern's services facility</td>\n",
              "      <td>3</td>\n",
              "      <td>46</td>\n",
              "      <td>33</td>\n",
              "    </tr>\n",
              "    <tr>\n",
              "      <th>1</th>\n",
              "      <td>bakery</td>\n",
              "      <td>230</td>\n",
              "      <td>4</td>\n",
              "      <td>2836</td>\n",
              "    </tr>\n",
              "    <tr>\n",
              "      <th>2</th>\n",
              "      <td>banquet</td>\n",
              "      <td>1</td>\n",
              "      <td>27</td>\n",
              "      <td>75</td>\n",
              "    </tr>\n",
              "    <tr>\n",
              "      <th>3</th>\n",
              "      <td>banquet hall</td>\n",
              "      <td>12</td>\n",
              "      <td>20</td>\n",
              "      <td>166</td>\n",
              "    </tr>\n",
              "    <tr>\n",
              "      <th>4</th>\n",
              "      <td>cafeteria</td>\n",
              "      <td>5</td>\n",
              "      <td>30</td>\n",
              "      <td>56</td>\n",
              "    </tr>\n",
              "  </tbody>\n",
              "</table>\n",
              "</div>"
            ],
            "text/plain": [
              "                       Facility Type  Counts_x  index  Counts_y\n",
              "0  1023 childern's services facility         3     46        33\n",
              "1                             bakery       230      4      2836\n",
              "2                            banquet         1     27        75\n",
              "3                       banquet hall        12     20       166\n",
              "4                          cafeteria         5     30        56"
            ]
          },
          "metadata": {
            "tags": []
          },
          "execution_count": 33
        }
      ]
    },
    {
      "cell_type": "code",
      "metadata": {
        "id": "le_INawoDHVL",
        "colab_type": "code",
        "colab": {}
      },
      "source": [
        "merged_fac_oob['Oob Ratio'] = merged_fac_oob['Counts_x'].divide(merged_fac_oob['Counts_y'], fill_value=1)"
      ],
      "execution_count": 0,
      "outputs": []
    },
    {
      "cell_type": "code",
      "metadata": {
        "id": "qlwbJvSnDrT1",
        "colab_type": "code",
        "outputId": "1e74c450-8a04-4417-c692-1be7a9546087",
        "colab": {
          "base_uri": "https://localhost:8080/",
          "height": 0
        }
      },
      "source": [
        "merged_fac_oob.sort_values(by='Oob Ratio', ascending=False).drop(columns='index').head()"
      ],
      "execution_count": 35,
      "outputs": [
        {
          "output_type": "execute_result",
          "data": {
            "text/html": [
              "<div>\n",
              "<style scoped>\n",
              "    .dataframe tbody tr th:only-of-type {\n",
              "        vertical-align: middle;\n",
              "    }\n",
              "\n",
              "    .dataframe tbody tr th {\n",
              "        vertical-align: top;\n",
              "    }\n",
              "\n",
              "    .dataframe thead th {\n",
              "        text-align: right;\n",
              "    }\n",
              "</style>\n",
              "<table border=\"1\" class=\"dataframe\">\n",
              "  <thead>\n",
              "    <tr style=\"text-align: right;\">\n",
              "      <th></th>\n",
              "      <th>Facility Type</th>\n",
              "      <th>Counts_x</th>\n",
              "      <th>Counts_y</th>\n",
              "      <th>Oob Ratio</th>\n",
              "    </tr>\n",
              "  </thead>\n",
              "  <tbody>\n",
              "    <tr>\n",
              "      <th>10</th>\n",
              "      <td>convenience</td>\n",
              "      <td>8</td>\n",
              "      <td>52</td>\n",
              "      <td>0.153846</td>\n",
              "    </tr>\n",
              "    <tr>\n",
              "      <th>6</th>\n",
              "      <td>charter school</td>\n",
              "      <td>9</td>\n",
              "      <td>69</td>\n",
              "      <td>0.130435</td>\n",
              "    </tr>\n",
              "    <tr>\n",
              "      <th>12</th>\n",
              "      <td>daycare</td>\n",
              "      <td>6</td>\n",
              "      <td>49</td>\n",
              "      <td>0.122449</td>\n",
              "    </tr>\n",
              "    <tr>\n",
              "      <th>18</th>\n",
              "      <td>gas station</td>\n",
              "      <td>16</td>\n",
              "      <td>138</td>\n",
              "      <td>0.115942</td>\n",
              "    </tr>\n",
              "    <tr>\n",
              "      <th>16</th>\n",
              "      <td>daycare combo 1586</td>\n",
              "      <td>85</td>\n",
              "      <td>752</td>\n",
              "      <td>0.113032</td>\n",
              "    </tr>\n",
              "  </tbody>\n",
              "</table>\n",
              "</div>"
            ],
            "text/plain": [
              "         Facility Type  Counts_x  Counts_y  Oob Ratio\n",
              "10         convenience         8        52   0.153846\n",
              "6       charter school         9        69   0.130435\n",
              "12             daycare         6        49   0.122449\n",
              "18         gas station        16       138   0.115942\n",
              "16  daycare combo 1586        85       752   0.113032"
            ]
          },
          "metadata": {
            "tags": []
          },
          "execution_count": 35
        }
      ]
    },
    {
      "cell_type": "code",
      "metadata": {
        "id": "VRWfp0XxFLV1",
        "colab_type": "code",
        "outputId": "0787a384-3ddc-48f3-f036-fe7eb69c3879",
        "colab": {
          "base_uri": "https://localhost:8080/",
          "height": 0
        }
      },
      "source": [
        "merged_fac_oob[['Oob Ratio', 'Counts_y']].corr(method='pearson')"
      ],
      "execution_count": 36,
      "outputs": [
        {
          "output_type": "execute_result",
          "data": {
            "text/html": [
              "<div>\n",
              "<style scoped>\n",
              "    .dataframe tbody tr th:only-of-type {\n",
              "        vertical-align: middle;\n",
              "    }\n",
              "\n",
              "    .dataframe tbody tr th {\n",
              "        vertical-align: top;\n",
              "    }\n",
              "\n",
              "    .dataframe thead th {\n",
              "        text-align: right;\n",
              "    }\n",
              "</style>\n",
              "<table border=\"1\" class=\"dataframe\">\n",
              "  <thead>\n",
              "    <tr style=\"text-align: right;\">\n",
              "      <th></th>\n",
              "      <th>Oob Ratio</th>\n",
              "      <th>Counts_y</th>\n",
              "    </tr>\n",
              "  </thead>\n",
              "  <tbody>\n",
              "    <tr>\n",
              "      <th>Oob Ratio</th>\n",
              "      <td>1.000000</td>\n",
              "      <td>0.001145</td>\n",
              "    </tr>\n",
              "    <tr>\n",
              "      <th>Counts_y</th>\n",
              "      <td>0.001145</td>\n",
              "      <td>1.000000</td>\n",
              "    </tr>\n",
              "  </tbody>\n",
              "</table>\n",
              "</div>"
            ],
            "text/plain": [
              "           Oob Ratio  Counts_y\n",
              "Oob Ratio   1.000000  0.001145\n",
              "Counts_y    0.001145  1.000000"
            ]
          },
          "metadata": {
            "tags": []
          },
          "execution_count": 36
        }
      ]
    },
    {
      "cell_type": "markdown",
      "metadata": {
        "id": "DTiyvgeeHIX5",
        "colab_type": "text"
      },
      "source": [
        "We wanted to identify a possible correlation between the type of facility and the percentage of going out of business. However, when we calculated the pearson's correlation factor, we observed no correlation."
      ]
    },
    {
      "cell_type": "markdown",
      "metadata": {
        "id": "PZh_kj61J8BC",
        "colab_type": "text"
      },
      "source": [
        "### **Percentage of Going Out of Business vs. Average Risk Score**"
      ]
    },
    {
      "cell_type": "code",
      "metadata": {
        "id": "3QgEx1ESKmkZ",
        "colab_type": "code",
        "colab": {}
      },
      "source": [
        "# Merge the out of business facility types with their average risk scores\n",
        "fac_oob_risk = pd.merge(left=merged_fac_oob.reset_index(), right=grouped_fac_risk_mean.reset_index(),left_on=['Facility Type'],right_on=['Facility Type'])"
      ],
      "execution_count": 0,
      "outputs": []
    },
    {
      "cell_type": "code",
      "metadata": {
        "id": "wfajDTtELI6m",
        "colab_type": "code",
        "outputId": "05575de4-bbf2-4582-caac-d9e469229c1a",
        "colab": {
          "base_uri": "https://localhost:8080/",
          "height": 0
        }
      },
      "source": [
        "fac_oob_risk.drop(columns=['index_x', 'index_y']).rename(columns={'Counts_x':'Oob Count', 'Counts_y':'Total Count'}).head()"
      ],
      "execution_count": 38,
      "outputs": [
        {
          "output_type": "execute_result",
          "data": {
            "text/html": [
              "<div>\n",
              "<style scoped>\n",
              "    .dataframe tbody tr th:only-of-type {\n",
              "        vertical-align: middle;\n",
              "    }\n",
              "\n",
              "    .dataframe tbody tr th {\n",
              "        vertical-align: top;\n",
              "    }\n",
              "\n",
              "    .dataframe thead th {\n",
              "        text-align: right;\n",
              "    }\n",
              "</style>\n",
              "<table border=\"1\" class=\"dataframe\">\n",
              "  <thead>\n",
              "    <tr style=\"text-align: right;\">\n",
              "      <th></th>\n",
              "      <th>level_0</th>\n",
              "      <th>Facility Type</th>\n",
              "      <th>Oob Count</th>\n",
              "      <th>Total Count</th>\n",
              "      <th>Oob Ratio</th>\n",
              "      <th>Risk</th>\n",
              "    </tr>\n",
              "  </thead>\n",
              "  <tbody>\n",
              "    <tr>\n",
              "      <th>0</th>\n",
              "      <td>0</td>\n",
              "      <td>1023 childern's services facility</td>\n",
              "      <td>3</td>\n",
              "      <td>33</td>\n",
              "      <td>0.090909</td>\n",
              "      <td>1.000000</td>\n",
              "    </tr>\n",
              "    <tr>\n",
              "      <th>1</th>\n",
              "      <td>1</td>\n",
              "      <td>bakery</td>\n",
              "      <td>230</td>\n",
              "      <td>2836</td>\n",
              "      <td>0.081100</td>\n",
              "      <td>1.622003</td>\n",
              "    </tr>\n",
              "    <tr>\n",
              "      <th>2</th>\n",
              "      <td>2</td>\n",
              "      <td>banquet</td>\n",
              "      <td>1</td>\n",
              "      <td>75</td>\n",
              "      <td>0.013333</td>\n",
              "      <td>1.173333</td>\n",
              "    </tr>\n",
              "    <tr>\n",
              "      <th>3</th>\n",
              "      <td>3</td>\n",
              "      <td>banquet hall</td>\n",
              "      <td>12</td>\n",
              "      <td>166</td>\n",
              "      <td>0.072289</td>\n",
              "      <td>1.138554</td>\n",
              "    </tr>\n",
              "    <tr>\n",
              "      <th>4</th>\n",
              "      <td>4</td>\n",
              "      <td>cafeteria</td>\n",
              "      <td>5</td>\n",
              "      <td>56</td>\n",
              "      <td>0.089286</td>\n",
              "      <td>1.053571</td>\n",
              "    </tr>\n",
              "  </tbody>\n",
              "</table>\n",
              "</div>"
            ],
            "text/plain": [
              "   level_0                      Facility Type  ...  Oob Ratio      Risk\n",
              "0        0  1023 childern's services facility  ...   0.090909  1.000000\n",
              "1        1                             bakery  ...   0.081100  1.622003\n",
              "2        2                            banquet  ...   0.013333  1.173333\n",
              "3        3                       banquet hall  ...   0.072289  1.138554\n",
              "4        4                          cafeteria  ...   0.089286  1.053571\n",
              "\n",
              "[5 rows x 6 columns]"
            ]
          },
          "metadata": {
            "tags": []
          },
          "execution_count": 38
        }
      ]
    },
    {
      "cell_type": "code",
      "metadata": {
        "id": "d1Bbc2-iLKKi",
        "colab_type": "code",
        "outputId": "714be90a-f6cf-42ee-aa86-c5a5c88c2cc4",
        "colab": {
          "base_uri": "https://localhost:8080/",
          "height": 0
        }
      },
      "source": [
        "fac_oob_risk[['Oob Ratio', 'Risk']].corr(method='pearson')"
      ],
      "execution_count": 39,
      "outputs": [
        {
          "output_type": "execute_result",
          "data": {
            "text/html": [
              "<div>\n",
              "<style scoped>\n",
              "    .dataframe tbody tr th:only-of-type {\n",
              "        vertical-align: middle;\n",
              "    }\n",
              "\n",
              "    .dataframe tbody tr th {\n",
              "        vertical-align: top;\n",
              "    }\n",
              "\n",
              "    .dataframe thead th {\n",
              "        text-align: right;\n",
              "    }\n",
              "</style>\n",
              "<table border=\"1\" class=\"dataframe\">\n",
              "  <thead>\n",
              "    <tr style=\"text-align: right;\">\n",
              "      <th></th>\n",
              "      <th>Oob Ratio</th>\n",
              "      <th>Risk</th>\n",
              "    </tr>\n",
              "  </thead>\n",
              "  <tbody>\n",
              "    <tr>\n",
              "      <th>Oob Ratio</th>\n",
              "      <td>1.000000</td>\n",
              "      <td>0.016496</td>\n",
              "    </tr>\n",
              "    <tr>\n",
              "      <th>Risk</th>\n",
              "      <td>0.016496</td>\n",
              "      <td>1.000000</td>\n",
              "    </tr>\n",
              "  </tbody>\n",
              "</table>\n",
              "</div>"
            ],
            "text/plain": [
              "           Oob Ratio      Risk\n",
              "Oob Ratio   1.000000  0.016496\n",
              "Risk        0.016496  1.000000"
            ]
          },
          "metadata": {
            "tags": []
          },
          "execution_count": 39
        }
      ]
    },
    {
      "cell_type": "markdown",
      "metadata": {
        "id": "c74wraFTNRcp",
        "colab_type": "text"
      },
      "source": [
        "We wanted to identify a possible correlation between the out of business ratio and the risk of the type of facility. However, when we calculated the pearson's correlation factor, we observed no correlation.\n",
        "\n"
      ]
    },
    {
      "cell_type": "markdown",
      "metadata": {
        "id": "PixL067182Vq",
        "colab_type": "text"
      },
      "source": [
        "### **Violation Type Analysis**"
      ]
    },
    {
      "cell_type": "markdown",
      "metadata": {
        "id": "WRjDeP-k4NAn",
        "colab_type": "text"
      },
      "source": [
        "### **Violations analysis - facilities that have gone out of business**"
      ]
    },
    {
      "cell_type": "code",
      "metadata": {
        "id": "8WiNcwRD9xyd",
        "colab_type": "code",
        "outputId": "02480d69-5252-4631-91ae-c73265d51b68",
        "colab": {
          "base_uri": "https://localhost:8080/",
          "height": 812
        }
      },
      "source": [
        "df_oob_unique.reset_index(inplace=True)\n",
        "merged_oob = pd.merge(left=df_oob_unique[['Latitude', 'Longitude', 'DBA Name', 'License #']], right=df, on=['Latitude', 'Longitude', 'DBA Name', 'License #'])\n",
        "merged_oob.head(10)"
      ],
      "execution_count": 40,
      "outputs": [
        {
          "output_type": "execute_result",
          "data": {
            "text/html": [
              "<div>\n",
              "<style scoped>\n",
              "    .dataframe tbody tr th:only-of-type {\n",
              "        vertical-align: middle;\n",
              "    }\n",
              "\n",
              "    .dataframe tbody tr th {\n",
              "        vertical-align: top;\n",
              "    }\n",
              "\n",
              "    .dataframe thead th {\n",
              "        text-align: right;\n",
              "    }\n",
              "</style>\n",
              "<table border=\"1\" class=\"dataframe\">\n",
              "  <thead>\n",
              "    <tr style=\"text-align: right;\">\n",
              "      <th></th>\n",
              "      <th>Latitude</th>\n",
              "      <th>Longitude</th>\n",
              "      <th>DBA Name</th>\n",
              "      <th>License #</th>\n",
              "      <th>Unnamed: 0</th>\n",
              "      <th>Inspection ID</th>\n",
              "      <th>Facility Type</th>\n",
              "      <th>Risk</th>\n",
              "      <th>Zip</th>\n",
              "      <th>Inspection Date</th>\n",
              "      <th>Inspection Type</th>\n",
              "      <th>Results</th>\n",
              "      <th>Violations</th>\n",
              "    </tr>\n",
              "  </thead>\n",
              "  <tbody>\n",
              "    <tr>\n",
              "      <th>0</th>\n",
              "      <td>41.644670</td>\n",
              "      <td>-87.540095</td>\n",
              "      <td>BURGER KING #7268</td>\n",
              "      <td>1473518.0</td>\n",
              "      <td>95174</td>\n",
              "      <td>1527281</td>\n",
              "      <td>restaurant</td>\n",
              "      <td>2</td>\n",
              "      <td>60633.0</td>\n",
              "      <td>2015-02-23T00:00:00.000</td>\n",
              "      <td>Canvass</td>\n",
              "      <td>Out of Business</td>\n",
              "      <td>NaN</td>\n",
              "    </tr>\n",
              "    <tr>\n",
              "      <th>1</th>\n",
              "      <td>41.644670</td>\n",
              "      <td>-87.540095</td>\n",
              "      <td>BURGER KING #7268</td>\n",
              "      <td>1473518.0</td>\n",
              "      <td>105889</td>\n",
              "      <td>1494060</td>\n",
              "      <td>restaurant</td>\n",
              "      <td>2</td>\n",
              "      <td>60633.0</td>\n",
              "      <td>2014-08-26T00:00:00.000</td>\n",
              "      <td>Canvass Re-Inspection</td>\n",
              "      <td>Pass</td>\n",
              "      <td>NaN</td>\n",
              "    </tr>\n",
              "    <tr>\n",
              "      <th>2</th>\n",
              "      <td>41.644670</td>\n",
              "      <td>-87.540095</td>\n",
              "      <td>BURGER KING #7268</td>\n",
              "      <td>1473518.0</td>\n",
              "      <td>106477</td>\n",
              "      <td>1493718</td>\n",
              "      <td>restaurant</td>\n",
              "      <td>2</td>\n",
              "      <td>60633.0</td>\n",
              "      <td>2014-08-18T00:00:00.000</td>\n",
              "      <td>Canvass</td>\n",
              "      <td>Fail</td>\n",
              "      <td>12. HAND WASHING FACILITIES: WITH SOAP AND SAN...</td>\n",
              "    </tr>\n",
              "    <tr>\n",
              "      <th>3</th>\n",
              "      <td>41.644670</td>\n",
              "      <td>-87.540095</td>\n",
              "      <td>BURGER KING #7268</td>\n",
              "      <td>1473518.0</td>\n",
              "      <td>140719</td>\n",
              "      <td>1300984</td>\n",
              "      <td>restaurant</td>\n",
              "      <td>2</td>\n",
              "      <td>60633.0</td>\n",
              "      <td>2012-12-19T00:00:00.000</td>\n",
              "      <td>Canvass</td>\n",
              "      <td>Pass w/ Conditions</td>\n",
              "      <td>21. * CERTIFIED FOOD MANAGER ON SITE WHEN POTE...</td>\n",
              "    </tr>\n",
              "    <tr>\n",
              "      <th>4</th>\n",
              "      <td>41.644670</td>\n",
              "      <td>-87.540095</td>\n",
              "      <td>BURGER KING #7268</td>\n",
              "      <td>1473518.0</td>\n",
              "      <td>158865</td>\n",
              "      <td>537818</td>\n",
              "      <td>restaurant</td>\n",
              "      <td>2</td>\n",
              "      <td>60633.0</td>\n",
              "      <td>2012-01-10T00:00:00.000</td>\n",
              "      <td>Short Form Complaint</td>\n",
              "      <td>Pass w/ Conditions</td>\n",
              "      <td>8. SANITIZING RINSE FOR EQUIPMENT AND UTENSILS...</td>\n",
              "    </tr>\n",
              "    <tr>\n",
              "      <th>5</th>\n",
              "      <td>41.644670</td>\n",
              "      <td>-87.540095</td>\n",
              "      <td>BURGER KING #7268</td>\n",
              "      <td>1473518.0</td>\n",
              "      <td>170281</td>\n",
              "      <td>537384</td>\n",
              "      <td>restaurant</td>\n",
              "      <td>2</td>\n",
              "      <td>60633.0</td>\n",
              "      <td>2011-05-26T00:00:00.000</td>\n",
              "      <td>Complaint</td>\n",
              "      <td>Pass</td>\n",
              "      <td>33. FOOD AND NON-FOOD CONTACT EQUIPMENT UTENSI...</td>\n",
              "    </tr>\n",
              "    <tr>\n",
              "      <th>6</th>\n",
              "      <td>41.644670</td>\n",
              "      <td>-87.540095</td>\n",
              "      <td>BURGER KING #7268</td>\n",
              "      <td>1473518.0</td>\n",
              "      <td>181756</td>\n",
              "      <td>419402</td>\n",
              "      <td>restaurant</td>\n",
              "      <td>2</td>\n",
              "      <td>60633.0</td>\n",
              "      <td>2010-10-12T00:00:00.000</td>\n",
              "      <td>Complaint-Fire</td>\n",
              "      <td>Pass w/ Conditions</td>\n",
              "      <td>3. POTENTIALLY HAZARDOUS FOOD MEETS TEMPERATUR...</td>\n",
              "    </tr>\n",
              "    <tr>\n",
              "      <th>7</th>\n",
              "      <td>41.645667</td>\n",
              "      <td>-87.542510</td>\n",
              "      <td>SOUTH SHORE CONCESSIONS</td>\n",
              "      <td>39413.0</td>\n",
              "      <td>140057</td>\n",
              "      <td>1154790</td>\n",
              "      <td>restaurant</td>\n",
              "      <td>2</td>\n",
              "      <td>60633.0</td>\n",
              "      <td>2013-01-08T00:00:00.000</td>\n",
              "      <td>Canvass</td>\n",
              "      <td>Out of Business</td>\n",
              "      <td>NaN</td>\n",
              "    </tr>\n",
              "    <tr>\n",
              "      <th>8</th>\n",
              "      <td>41.645667</td>\n",
              "      <td>-87.542510</td>\n",
              "      <td>SOUTH SHORE CONCESSIONS</td>\n",
              "      <td>39413.0</td>\n",
              "      <td>142440</td>\n",
              "      <td>1154699</td>\n",
              "      <td>restaurant</td>\n",
              "      <td>2</td>\n",
              "      <td>60633.0</td>\n",
              "      <td>2012-11-16T00:00:00.000</td>\n",
              "      <td>Canvass</td>\n",
              "      <td>No Entry</td>\n",
              "      <td>NaN</td>\n",
              "    </tr>\n",
              "    <tr>\n",
              "      <th>9</th>\n",
              "      <td>41.646371</td>\n",
              "      <td>-87.560342</td>\n",
              "      <td>WINJAMMER MARINA</td>\n",
              "      <td>79113.0</td>\n",
              "      <td>61736</td>\n",
              "      <td>1953633</td>\n",
              "      <td>restaurant</td>\n",
              "      <td>2</td>\n",
              "      <td>60633.0</td>\n",
              "      <td>2016-09-01T00:00:00.000</td>\n",
              "      <td>Canvass</td>\n",
              "      <td>Out of Business</td>\n",
              "      <td>NaN</td>\n",
              "    </tr>\n",
              "  </tbody>\n",
              "</table>\n",
              "</div>"
            ],
            "text/plain": [
              "    Latitude  ...                                         Violations\n",
              "0  41.644670  ...                                                NaN\n",
              "1  41.644670  ...                                                NaN\n",
              "2  41.644670  ...  12. HAND WASHING FACILITIES: WITH SOAP AND SAN...\n",
              "3  41.644670  ...  21. * CERTIFIED FOOD MANAGER ON SITE WHEN POTE...\n",
              "4  41.644670  ...  8. SANITIZING RINSE FOR EQUIPMENT AND UTENSILS...\n",
              "5  41.644670  ...  33. FOOD AND NON-FOOD CONTACT EQUIPMENT UTENSI...\n",
              "6  41.644670  ...  3. POTENTIALLY HAZARDOUS FOOD MEETS TEMPERATUR...\n",
              "7  41.645667  ...                                                NaN\n",
              "8  41.645667  ...                                                NaN\n",
              "9  41.646371  ...                                                NaN\n",
              "\n",
              "[10 rows x 13 columns]"
            ]
          },
          "metadata": {
            "tags": []
          },
          "execution_count": 40
        }
      ]
    },
    {
      "cell_type": "code",
      "metadata": {
        "id": "dw11IqbDDp23",
        "colab_type": "code",
        "outputId": "0b350e64-ac9d-434c-e7f6-5066bd53c46d",
        "colab": {
          "base_uri": "https://localhost:8080/",
          "height": 812
        }
      },
      "source": [
        "# Out of business facilities that have more than 1 inspection\n",
        "dup_oob = merged_oob.groupby(['Latitude', 'Longitude', 'DBA Name', 'License #']).filter(lambda x : len(x) > 1)\n",
        "dup_oob.head(10)"
      ],
      "execution_count": 41,
      "outputs": [
        {
          "output_type": "execute_result",
          "data": {
            "text/html": [
              "<div>\n",
              "<style scoped>\n",
              "    .dataframe tbody tr th:only-of-type {\n",
              "        vertical-align: middle;\n",
              "    }\n",
              "\n",
              "    .dataframe tbody tr th {\n",
              "        vertical-align: top;\n",
              "    }\n",
              "\n",
              "    .dataframe thead th {\n",
              "        text-align: right;\n",
              "    }\n",
              "</style>\n",
              "<table border=\"1\" class=\"dataframe\">\n",
              "  <thead>\n",
              "    <tr style=\"text-align: right;\">\n",
              "      <th></th>\n",
              "      <th>Latitude</th>\n",
              "      <th>Longitude</th>\n",
              "      <th>DBA Name</th>\n",
              "      <th>License #</th>\n",
              "      <th>Unnamed: 0</th>\n",
              "      <th>Inspection ID</th>\n",
              "      <th>Facility Type</th>\n",
              "      <th>Risk</th>\n",
              "      <th>Zip</th>\n",
              "      <th>Inspection Date</th>\n",
              "      <th>Inspection Type</th>\n",
              "      <th>Results</th>\n",
              "      <th>Violations</th>\n",
              "    </tr>\n",
              "  </thead>\n",
              "  <tbody>\n",
              "    <tr>\n",
              "      <th>0</th>\n",
              "      <td>41.644670</td>\n",
              "      <td>-87.540095</td>\n",
              "      <td>BURGER KING #7268</td>\n",
              "      <td>1473518.0</td>\n",
              "      <td>95174</td>\n",
              "      <td>1527281</td>\n",
              "      <td>restaurant</td>\n",
              "      <td>2</td>\n",
              "      <td>60633.0</td>\n",
              "      <td>2015-02-23T00:00:00.000</td>\n",
              "      <td>Canvass</td>\n",
              "      <td>Out of Business</td>\n",
              "      <td>NaN</td>\n",
              "    </tr>\n",
              "    <tr>\n",
              "      <th>1</th>\n",
              "      <td>41.644670</td>\n",
              "      <td>-87.540095</td>\n",
              "      <td>BURGER KING #7268</td>\n",
              "      <td>1473518.0</td>\n",
              "      <td>105889</td>\n",
              "      <td>1494060</td>\n",
              "      <td>restaurant</td>\n",
              "      <td>2</td>\n",
              "      <td>60633.0</td>\n",
              "      <td>2014-08-26T00:00:00.000</td>\n",
              "      <td>Canvass Re-Inspection</td>\n",
              "      <td>Pass</td>\n",
              "      <td>NaN</td>\n",
              "    </tr>\n",
              "    <tr>\n",
              "      <th>2</th>\n",
              "      <td>41.644670</td>\n",
              "      <td>-87.540095</td>\n",
              "      <td>BURGER KING #7268</td>\n",
              "      <td>1473518.0</td>\n",
              "      <td>106477</td>\n",
              "      <td>1493718</td>\n",
              "      <td>restaurant</td>\n",
              "      <td>2</td>\n",
              "      <td>60633.0</td>\n",
              "      <td>2014-08-18T00:00:00.000</td>\n",
              "      <td>Canvass</td>\n",
              "      <td>Fail</td>\n",
              "      <td>12. HAND WASHING FACILITIES: WITH SOAP AND SAN...</td>\n",
              "    </tr>\n",
              "    <tr>\n",
              "      <th>3</th>\n",
              "      <td>41.644670</td>\n",
              "      <td>-87.540095</td>\n",
              "      <td>BURGER KING #7268</td>\n",
              "      <td>1473518.0</td>\n",
              "      <td>140719</td>\n",
              "      <td>1300984</td>\n",
              "      <td>restaurant</td>\n",
              "      <td>2</td>\n",
              "      <td>60633.0</td>\n",
              "      <td>2012-12-19T00:00:00.000</td>\n",
              "      <td>Canvass</td>\n",
              "      <td>Pass w/ Conditions</td>\n",
              "      <td>21. * CERTIFIED FOOD MANAGER ON SITE WHEN POTE...</td>\n",
              "    </tr>\n",
              "    <tr>\n",
              "      <th>4</th>\n",
              "      <td>41.644670</td>\n",
              "      <td>-87.540095</td>\n",
              "      <td>BURGER KING #7268</td>\n",
              "      <td>1473518.0</td>\n",
              "      <td>158865</td>\n",
              "      <td>537818</td>\n",
              "      <td>restaurant</td>\n",
              "      <td>2</td>\n",
              "      <td>60633.0</td>\n",
              "      <td>2012-01-10T00:00:00.000</td>\n",
              "      <td>Short Form Complaint</td>\n",
              "      <td>Pass w/ Conditions</td>\n",
              "      <td>8. SANITIZING RINSE FOR EQUIPMENT AND UTENSILS...</td>\n",
              "    </tr>\n",
              "    <tr>\n",
              "      <th>5</th>\n",
              "      <td>41.644670</td>\n",
              "      <td>-87.540095</td>\n",
              "      <td>BURGER KING #7268</td>\n",
              "      <td>1473518.0</td>\n",
              "      <td>170281</td>\n",
              "      <td>537384</td>\n",
              "      <td>restaurant</td>\n",
              "      <td>2</td>\n",
              "      <td>60633.0</td>\n",
              "      <td>2011-05-26T00:00:00.000</td>\n",
              "      <td>Complaint</td>\n",
              "      <td>Pass</td>\n",
              "      <td>33. FOOD AND NON-FOOD CONTACT EQUIPMENT UTENSI...</td>\n",
              "    </tr>\n",
              "    <tr>\n",
              "      <th>6</th>\n",
              "      <td>41.644670</td>\n",
              "      <td>-87.540095</td>\n",
              "      <td>BURGER KING #7268</td>\n",
              "      <td>1473518.0</td>\n",
              "      <td>181756</td>\n",
              "      <td>419402</td>\n",
              "      <td>restaurant</td>\n",
              "      <td>2</td>\n",
              "      <td>60633.0</td>\n",
              "      <td>2010-10-12T00:00:00.000</td>\n",
              "      <td>Complaint-Fire</td>\n",
              "      <td>Pass w/ Conditions</td>\n",
              "      <td>3. POTENTIALLY HAZARDOUS FOOD MEETS TEMPERATUR...</td>\n",
              "    </tr>\n",
              "    <tr>\n",
              "      <th>7</th>\n",
              "      <td>41.645667</td>\n",
              "      <td>-87.542510</td>\n",
              "      <td>SOUTH SHORE CONCESSIONS</td>\n",
              "      <td>39413.0</td>\n",
              "      <td>140057</td>\n",
              "      <td>1154790</td>\n",
              "      <td>restaurant</td>\n",
              "      <td>2</td>\n",
              "      <td>60633.0</td>\n",
              "      <td>2013-01-08T00:00:00.000</td>\n",
              "      <td>Canvass</td>\n",
              "      <td>Out of Business</td>\n",
              "      <td>NaN</td>\n",
              "    </tr>\n",
              "    <tr>\n",
              "      <th>8</th>\n",
              "      <td>41.645667</td>\n",
              "      <td>-87.542510</td>\n",
              "      <td>SOUTH SHORE CONCESSIONS</td>\n",
              "      <td>39413.0</td>\n",
              "      <td>142440</td>\n",
              "      <td>1154699</td>\n",
              "      <td>restaurant</td>\n",
              "      <td>2</td>\n",
              "      <td>60633.0</td>\n",
              "      <td>2012-11-16T00:00:00.000</td>\n",
              "      <td>Canvass</td>\n",
              "      <td>No Entry</td>\n",
              "      <td>NaN</td>\n",
              "    </tr>\n",
              "    <tr>\n",
              "      <th>9</th>\n",
              "      <td>41.646371</td>\n",
              "      <td>-87.560342</td>\n",
              "      <td>WINJAMMER MARINA</td>\n",
              "      <td>79113.0</td>\n",
              "      <td>61736</td>\n",
              "      <td>1953633</td>\n",
              "      <td>restaurant</td>\n",
              "      <td>2</td>\n",
              "      <td>60633.0</td>\n",
              "      <td>2016-09-01T00:00:00.000</td>\n",
              "      <td>Canvass</td>\n",
              "      <td>Out of Business</td>\n",
              "      <td>NaN</td>\n",
              "    </tr>\n",
              "  </tbody>\n",
              "</table>\n",
              "</div>"
            ],
            "text/plain": [
              "    Latitude  ...                                         Violations\n",
              "0  41.644670  ...                                                NaN\n",
              "1  41.644670  ...                                                NaN\n",
              "2  41.644670  ...  12. HAND WASHING FACILITIES: WITH SOAP AND SAN...\n",
              "3  41.644670  ...  21. * CERTIFIED FOOD MANAGER ON SITE WHEN POTE...\n",
              "4  41.644670  ...  8. SANITIZING RINSE FOR EQUIPMENT AND UTENSILS...\n",
              "5  41.644670  ...  33. FOOD AND NON-FOOD CONTACT EQUIPMENT UTENSI...\n",
              "6  41.644670  ...  3. POTENTIALLY HAZARDOUS FOOD MEETS TEMPERATUR...\n",
              "7  41.645667  ...                                                NaN\n",
              "8  41.645667  ...                                                NaN\n",
              "9  41.646371  ...                                                NaN\n",
              "\n",
              "[10 rows x 13 columns]"
            ]
          },
          "metadata": {
            "tags": []
          },
          "execution_count": 41
        }
      ]
    },
    {
      "cell_type": "code",
      "metadata": {
        "id": "6yhaSo6bGAaI",
        "colab_type": "code",
        "outputId": "3c137d98-b8c4-442a-f6f1-04cef10f4e63",
        "colab": {
          "base_uri": "https://localhost:8080/",
          "height": 1000
        }
      },
      "source": [
        "dup_oob.dropna(subset=['Violations'], inplace=True) # the inspections that have violations (out of business facilities)\n",
        "dup_oob.head(10)"
      ],
      "execution_count": 42,
      "outputs": [
        {
          "output_type": "stream",
          "text": [
            "/usr/local/lib/python3.6/dist-packages/ipykernel_launcher.py:1: SettingWithCopyWarning: \n",
            "A value is trying to be set on a copy of a slice from a DataFrame\n",
            "\n",
            "See the caveats in the documentation: http://pandas.pydata.org/pandas-docs/stable/user_guide/indexing.html#returning-a-view-versus-a-copy\n",
            "  \"\"\"Entry point for launching an IPython kernel.\n"
          ],
          "name": "stderr"
        },
        {
          "output_type": "execute_result",
          "data": {
            "text/html": [
              "<div>\n",
              "<style scoped>\n",
              "    .dataframe tbody tr th:only-of-type {\n",
              "        vertical-align: middle;\n",
              "    }\n",
              "\n",
              "    .dataframe tbody tr th {\n",
              "        vertical-align: top;\n",
              "    }\n",
              "\n",
              "    .dataframe thead th {\n",
              "        text-align: right;\n",
              "    }\n",
              "</style>\n",
              "<table border=\"1\" class=\"dataframe\">\n",
              "  <thead>\n",
              "    <tr style=\"text-align: right;\">\n",
              "      <th></th>\n",
              "      <th>Latitude</th>\n",
              "      <th>Longitude</th>\n",
              "      <th>DBA Name</th>\n",
              "      <th>License #</th>\n",
              "      <th>Unnamed: 0</th>\n",
              "      <th>Inspection ID</th>\n",
              "      <th>Facility Type</th>\n",
              "      <th>Risk</th>\n",
              "      <th>Zip</th>\n",
              "      <th>Inspection Date</th>\n",
              "      <th>Inspection Type</th>\n",
              "      <th>Results</th>\n",
              "      <th>Violations</th>\n",
              "    </tr>\n",
              "  </thead>\n",
              "  <tbody>\n",
              "    <tr>\n",
              "      <th>2</th>\n",
              "      <td>41.644670</td>\n",
              "      <td>-87.540095</td>\n",
              "      <td>BURGER KING #7268</td>\n",
              "      <td>1473518.0</td>\n",
              "      <td>106477</td>\n",
              "      <td>1493718</td>\n",
              "      <td>restaurant</td>\n",
              "      <td>2</td>\n",
              "      <td>60633.0</td>\n",
              "      <td>2014-08-18T00:00:00.000</td>\n",
              "      <td>Canvass</td>\n",
              "      <td>Fail</td>\n",
              "      <td>12. HAND WASHING FACILITIES: WITH SOAP AND SAN...</td>\n",
              "    </tr>\n",
              "    <tr>\n",
              "      <th>3</th>\n",
              "      <td>41.644670</td>\n",
              "      <td>-87.540095</td>\n",
              "      <td>BURGER KING #7268</td>\n",
              "      <td>1473518.0</td>\n",
              "      <td>140719</td>\n",
              "      <td>1300984</td>\n",
              "      <td>restaurant</td>\n",
              "      <td>2</td>\n",
              "      <td>60633.0</td>\n",
              "      <td>2012-12-19T00:00:00.000</td>\n",
              "      <td>Canvass</td>\n",
              "      <td>Pass w/ Conditions</td>\n",
              "      <td>21. * CERTIFIED FOOD MANAGER ON SITE WHEN POTE...</td>\n",
              "    </tr>\n",
              "    <tr>\n",
              "      <th>4</th>\n",
              "      <td>41.644670</td>\n",
              "      <td>-87.540095</td>\n",
              "      <td>BURGER KING #7268</td>\n",
              "      <td>1473518.0</td>\n",
              "      <td>158865</td>\n",
              "      <td>537818</td>\n",
              "      <td>restaurant</td>\n",
              "      <td>2</td>\n",
              "      <td>60633.0</td>\n",
              "      <td>2012-01-10T00:00:00.000</td>\n",
              "      <td>Short Form Complaint</td>\n",
              "      <td>Pass w/ Conditions</td>\n",
              "      <td>8. SANITIZING RINSE FOR EQUIPMENT AND UTENSILS...</td>\n",
              "    </tr>\n",
              "    <tr>\n",
              "      <th>5</th>\n",
              "      <td>41.644670</td>\n",
              "      <td>-87.540095</td>\n",
              "      <td>BURGER KING #7268</td>\n",
              "      <td>1473518.0</td>\n",
              "      <td>170281</td>\n",
              "      <td>537384</td>\n",
              "      <td>restaurant</td>\n",
              "      <td>2</td>\n",
              "      <td>60633.0</td>\n",
              "      <td>2011-05-26T00:00:00.000</td>\n",
              "      <td>Complaint</td>\n",
              "      <td>Pass</td>\n",
              "      <td>33. FOOD AND NON-FOOD CONTACT EQUIPMENT UTENSI...</td>\n",
              "    </tr>\n",
              "    <tr>\n",
              "      <th>6</th>\n",
              "      <td>41.644670</td>\n",
              "      <td>-87.540095</td>\n",
              "      <td>BURGER KING #7268</td>\n",
              "      <td>1473518.0</td>\n",
              "      <td>181756</td>\n",
              "      <td>419402</td>\n",
              "      <td>restaurant</td>\n",
              "      <td>2</td>\n",
              "      <td>60633.0</td>\n",
              "      <td>2010-10-12T00:00:00.000</td>\n",
              "      <td>Complaint-Fire</td>\n",
              "      <td>Pass w/ Conditions</td>\n",
              "      <td>3. POTENTIALLY HAZARDOUS FOOD MEETS TEMPERATUR...</td>\n",
              "    </tr>\n",
              "    <tr>\n",
              "      <th>10</th>\n",
              "      <td>41.646371</td>\n",
              "      <td>-87.560342</td>\n",
              "      <td>WINJAMMER MARINA</td>\n",
              "      <td>79113.0</td>\n",
              "      <td>119432</td>\n",
              "      <td>1395212</td>\n",
              "      <td>restaurant</td>\n",
              "      <td>2</td>\n",
              "      <td>60633.0</td>\n",
              "      <td>2013-12-30T00:00:00.000</td>\n",
              "      <td>Canvass Re-Inspection</td>\n",
              "      <td>Pass</td>\n",
              "      <td>33. FOOD AND NON-FOOD CONTACT EQUIPMENT UTENSI...</td>\n",
              "    </tr>\n",
              "    <tr>\n",
              "      <th>11</th>\n",
              "      <td>41.646371</td>\n",
              "      <td>-87.560342</td>\n",
              "      <td>WINJAMMER MARINA</td>\n",
              "      <td>79113.0</td>\n",
              "      <td>119982</td>\n",
              "      <td>1376043</td>\n",
              "      <td>restaurant</td>\n",
              "      <td>2</td>\n",
              "      <td>60633.0</td>\n",
              "      <td>2013-12-13T00:00:00.000</td>\n",
              "      <td>Canvass</td>\n",
              "      <td>Fail</td>\n",
              "      <td>18. NO EVIDENCE OF RODENT OR INSECT OUTER OPEN...</td>\n",
              "    </tr>\n",
              "    <tr>\n",
              "      <th>12</th>\n",
              "      <td>41.646371</td>\n",
              "      <td>-87.560342</td>\n",
              "      <td>WINJAMMER MARINA</td>\n",
              "      <td>79113.0</td>\n",
              "      <td>141772</td>\n",
              "      <td>1154722</td>\n",
              "      <td>restaurant</td>\n",
              "      <td>2</td>\n",
              "      <td>60633.0</td>\n",
              "      <td>2012-11-29T00:00:00.000</td>\n",
              "      <td>Canvass Re-Inspection</td>\n",
              "      <td>Pass</td>\n",
              "      <td>36. LIGHTING: REQUIRED MINIMUM FOOT-CANDLES OF...</td>\n",
              "    </tr>\n",
              "    <tr>\n",
              "      <th>13</th>\n",
              "      <td>41.646371</td>\n",
              "      <td>-87.560342</td>\n",
              "      <td>WINJAMMER MARINA</td>\n",
              "      <td>79113.0</td>\n",
              "      <td>142404</td>\n",
              "      <td>1154702</td>\n",
              "      <td>restaurant</td>\n",
              "      <td>2</td>\n",
              "      <td>60633.0</td>\n",
              "      <td>2012-11-16T00:00:00.000</td>\n",
              "      <td>Canvass</td>\n",
              "      <td>Fail</td>\n",
              "      <td>18. NO EVIDENCE OF RODENT OR INSECT OUTER OPEN...</td>\n",
              "    </tr>\n",
              "    <tr>\n",
              "      <th>15</th>\n",
              "      <td>41.646371</td>\n",
              "      <td>-87.560342</td>\n",
              "      <td>WINJAMMER MARINA</td>\n",
              "      <td>79113.0</td>\n",
              "      <td>185248</td>\n",
              "      <td>284241</td>\n",
              "      <td>restaurant</td>\n",
              "      <td>2</td>\n",
              "      <td>60633.0</td>\n",
              "      <td>2010-08-11T00:00:00.000</td>\n",
              "      <td>Complaint</td>\n",
              "      <td>Pass</td>\n",
              "      <td>32. FOOD AND NON-FOOD CONTACT SURFACES PROPERL...</td>\n",
              "    </tr>\n",
              "  </tbody>\n",
              "</table>\n",
              "</div>"
            ],
            "text/plain": [
              "     Latitude  ...                                         Violations\n",
              "2   41.644670  ...  12. HAND WASHING FACILITIES: WITH SOAP AND SAN...\n",
              "3   41.644670  ...  21. * CERTIFIED FOOD MANAGER ON SITE WHEN POTE...\n",
              "4   41.644670  ...  8. SANITIZING RINSE FOR EQUIPMENT AND UTENSILS...\n",
              "5   41.644670  ...  33. FOOD AND NON-FOOD CONTACT EQUIPMENT UTENSI...\n",
              "6   41.644670  ...  3. POTENTIALLY HAZARDOUS FOOD MEETS TEMPERATUR...\n",
              "10  41.646371  ...  33. FOOD AND NON-FOOD CONTACT EQUIPMENT UTENSI...\n",
              "11  41.646371  ...  18. NO EVIDENCE OF RODENT OR INSECT OUTER OPEN...\n",
              "12  41.646371  ...  36. LIGHTING: REQUIRED MINIMUM FOOT-CANDLES OF...\n",
              "13  41.646371  ...  18. NO EVIDENCE OF RODENT OR INSECT OUTER OPEN...\n",
              "15  41.646371  ...  32. FOOD AND NON-FOOD CONTACT SURFACES PROPERL...\n",
              "\n",
              "[10 rows x 13 columns]"
            ]
          },
          "metadata": {
            "tags": []
          },
          "execution_count": 42
        }
      ]
    },
    {
      "cell_type": "code",
      "metadata": {
        "id": "YlUwb7Z2MIZx",
        "colab_type": "code",
        "outputId": "eb7018bd-f690-4e2b-896a-f707c612ec22",
        "colab": {
          "base_uri": "https://localhost:8080/",
          "height": 230
        }
      },
      "source": [
        "violations_oob = dup_oob['Violations'].apply(lambda x: re.findall(r'^[0-9]+[.] | [|] [0-9]+[.] ', x))\n",
        "violations_oob = pd.DataFrame(violations_oob)\n",
        "violation_nums_oob = violations_oob['Violations'].apply(lambda x: [int(sub.replace('|','').split('.')[0]) for sub in x])\n",
        "violation_nums_oob"
      ],
      "execution_count": 43,
      "outputs": [
        {
          "output_type": "execute_result",
          "data": {
            "text/plain": [
              "2                [12, 21, 28, 29, 33, 38]\n",
              "3        [21, 33, 34, 35, 38, 40, 41, 42]\n",
              "4             [8, 21, 33, 34, 35, 36, 38]\n",
              "5                    [33, 34, 35, 36, 38]\n",
              "6                     [3, 12, 21, 33, 34]\n",
              "                       ...               \n",
              "67358                        [32, 33, 34]\n",
              "67359                                [41]\n",
              "67360                        [18, 28, 41]\n",
              "67361                            [21, 33]\n",
              "67362                        [18, 21, 33]\n",
              "Name: Violations, Length: 44168, dtype: object"
            ]
          },
          "metadata": {
            "tags": []
          },
          "execution_count": 43
        }
      ]
    },
    {
      "cell_type": "code",
      "metadata": {
        "id": "BX8lLCYvYf6h",
        "colab_type": "code",
        "outputId": "47dd5ed4-98df-4a52-ad01-b6020bc8cdf4",
        "colab": {
          "base_uri": "https://localhost:8080/",
          "height": 352
        }
      },
      "source": [
        "violation_nums_oob = pd.DataFrame(violation_nums_oob)\n",
        "violation_nums_oob.reset_index(inplace=True)\n",
        "violation_nums_oob.drop(columns='index', inplace=True)\n",
        "violation_nums_oob.head(10)"
      ],
      "execution_count": 44,
      "outputs": [
        {
          "output_type": "execute_result",
          "data": {
            "text/html": [
              "<div>\n",
              "<style scoped>\n",
              "    .dataframe tbody tr th:only-of-type {\n",
              "        vertical-align: middle;\n",
              "    }\n",
              "\n",
              "    .dataframe tbody tr th {\n",
              "        vertical-align: top;\n",
              "    }\n",
              "\n",
              "    .dataframe thead th {\n",
              "        text-align: right;\n",
              "    }\n",
              "</style>\n",
              "<table border=\"1\" class=\"dataframe\">\n",
              "  <thead>\n",
              "    <tr style=\"text-align: right;\">\n",
              "      <th></th>\n",
              "      <th>Violations</th>\n",
              "    </tr>\n",
              "  </thead>\n",
              "  <tbody>\n",
              "    <tr>\n",
              "      <th>0</th>\n",
              "      <td>[12, 21, 28, 29, 33, 38]</td>\n",
              "    </tr>\n",
              "    <tr>\n",
              "      <th>1</th>\n",
              "      <td>[21, 33, 34, 35, 38, 40, 41, 42]</td>\n",
              "    </tr>\n",
              "    <tr>\n",
              "      <th>2</th>\n",
              "      <td>[8, 21, 33, 34, 35, 36, 38]</td>\n",
              "    </tr>\n",
              "    <tr>\n",
              "      <th>3</th>\n",
              "      <td>[33, 34, 35, 36, 38]</td>\n",
              "    </tr>\n",
              "    <tr>\n",
              "      <th>4</th>\n",
              "      <td>[3, 12, 21, 33, 34]</td>\n",
              "    </tr>\n",
              "    <tr>\n",
              "      <th>5</th>\n",
              "      <td>[33, 34, 35]</td>\n",
              "    </tr>\n",
              "    <tr>\n",
              "      <th>6</th>\n",
              "      <td>[18, 33, 34, 35, 38, 70]</td>\n",
              "    </tr>\n",
              "    <tr>\n",
              "      <th>7</th>\n",
              "      <td>[36, 38, 42]</td>\n",
              "    </tr>\n",
              "    <tr>\n",
              "      <th>8</th>\n",
              "      <td>[18, 21, 33, 34, 36, 38, 40, 41, 42]</td>\n",
              "    </tr>\n",
              "    <tr>\n",
              "      <th>9</th>\n",
              "      <td>[32, 34]</td>\n",
              "    </tr>\n",
              "  </tbody>\n",
              "</table>\n",
              "</div>"
            ],
            "text/plain": [
              "                             Violations\n",
              "0              [12, 21, 28, 29, 33, 38]\n",
              "1      [21, 33, 34, 35, 38, 40, 41, 42]\n",
              "2           [8, 21, 33, 34, 35, 36, 38]\n",
              "3                  [33, 34, 35, 36, 38]\n",
              "4                   [3, 12, 21, 33, 34]\n",
              "5                          [33, 34, 35]\n",
              "6              [18, 33, 34, 35, 38, 70]\n",
              "7                          [36, 38, 42]\n",
              "8  [18, 21, 33, 34, 36, 38, 40, 41, 42]\n",
              "9                              [32, 34]"
            ]
          },
          "metadata": {
            "tags": []
          },
          "execution_count": 44
        }
      ]
    },
    {
      "cell_type": "code",
      "metadata": {
        "id": "mLcVYIYMZuK1",
        "colab_type": "code",
        "colab": {}
      },
      "source": [
        "vio_freq_oob = {}\n",
        "for i in violation_nums_oob['Violations']:\n",
        "  for j in i:\n",
        "    vio_freq_oob[str(j)] = 1 if str(j) not in vio_freq_oob else vio_freq_oob[str(j)]+1"
      ],
      "execution_count": 0,
      "outputs": []
    },
    {
      "cell_type": "code",
      "metadata": {
        "id": "JISkCx_ubeAB",
        "colab_type": "code",
        "outputId": "e2946f46-125f-4793-b17a-8ade612159f9",
        "colab": {
          "base_uri": "https://localhost:8080/",
          "height": 295
        }
      },
      "source": [
        "plt.figure(figsize=(17,4))\n",
        "plt.bar(list(vio_freq_oob.keys()), vio_freq_oob.values())\n",
        "plt.title('Violation Types vs. Their Frequencies in Out of Business Facilities')\n",
        "plt.xlabel('Violation Types')\n",
        "plt.ylabel('Frequency')\n",
        "plt.show()"
      ],
      "execution_count": 46,
      "outputs": [
        {
          "output_type": "display_data",
          "data": {
            "image/png": "[encoded data removed]",
            "text/plain": [
              "<Figure size 1224x288 with 1 Axes>"
            ]
          },
          "metadata": {
            "tags": []
          }
        }
      ]
    },
    {
      "cell_type": "markdown",
      "metadata": {
        "id": "f5NepMPsc2Sx",
        "colab_type": "text"
      },
      "source": [
        "From the figure above, we can see that certain violation types outnumber the others. So, we decided to sort the violation types in terms of their frequencies and display them in the graph below."
      ]
    },
    {
      "cell_type": "code",
      "metadata": {
        "id": "iG5RGczLkTgP",
        "colab_type": "code",
        "colab": {}
      },
      "source": [
        "sorted_vio_freq_oob = {}\n",
        "\n",
        "for key in sorted(vio_freq_oob, key=vio_freq_oob.__getitem__, reverse=True):\n",
        "  sorted_vio_freq_oob[key] = vio_freq_oob[key]"
      ],
      "execution_count": 0,
      "outputs": []
    },
    {
      "cell_type": "code",
      "metadata": {
        "id": "eCE3Zu7lkQ8w",
        "colab_type": "code",
        "outputId": "3834671a-9eea-40b4-bc70-2620153ae795",
        "colab": {
          "base_uri": "https://localhost:8080/",
          "height": 295
        }
      },
      "source": [
        "plt.figure(figsize=(17,4))\n",
        "plt.bar(list(sorted_vio_freq_oob.keys()), sorted_vio_freq_oob.values())\n",
        "plt.title('Violation Types vs. Their Frequencies in Out of Business Facilities')\n",
        "plt.xlabel('Violation Types')\n",
        "plt.ylabel('Frequency')\n",
        "plt.show()"
      ],
      "execution_count": 48,
      "outputs": [
        {
          "output_type": "display_data",
          "data": {
            "image/png": "[encoded data removed]",
            "text/plain": [
              "<Figure size 1224x288 with 1 Axes>"
            ]
          },
          "metadata": {
            "tags": []
          }
        }
      ]
    },
    {
      "cell_type": "code",
      "metadata": {
        "id": "_hvSFyDEkmc8",
        "colab_type": "code",
        "outputId": "1bf917df-9bcb-411a-c3bb-77df84f1bdc4",
        "colab": {
          "base_uri": "https://localhost:8080/",
          "height": 284
        }
      },
      "source": [
        "most_freq_vio_oob = [key for key, value in list(sorted_vio_freq_oob.items())[0:15]]\n",
        "most_freq_vio_oob # top 10 most frequent violation types among facilities that went out of business"
      ],
      "execution_count": 49,
      "outputs": [
        {
          "output_type": "execute_result",
          "data": {
            "text/plain": [
              "['34',\n",
              " '33',\n",
              " '35',\n",
              " '32',\n",
              " '38',\n",
              " '41',\n",
              " '36',\n",
              " '18',\n",
              " '30',\n",
              " '40',\n",
              " '21',\n",
              " '31',\n",
              " '3',\n",
              " '37',\n",
              " '43']"
            ]
          },
          "metadata": {
            "tags": []
          },
          "execution_count": 49
        }
      ]
    },
    {
      "cell_type": "code",
      "metadata": {
        "id": "MbsGSDm7czg-",
        "colab_type": "code",
        "colab": {}
      },
      "source": [
        "# Inspections of facilities that didn't go out of business\n",
        " set_diff_oob = pd.concat([df, merged_oob, merged_oob], sort=True).drop_duplicates(keep=False, subset=['Latitude', 'Longitude', 'DBA Name', 'License #', 'Inspection Date'])"
      ],
      "execution_count": 0,
      "outputs": []
    },
    {
      "cell_type": "code",
      "metadata": {
        "id": "oEPL3X9Fpzb_",
        "colab_type": "code",
        "outputId": "f64bce92-c1fa-4fdb-9e04-35f46563a866",
        "colab": {
          "base_uri": "https://localhost:8080/",
          "height": 1000
        }
      },
      "source": [
        "set_diff_oob.dropna(subset=['Violations'], inplace=True) # the inspections that have violations (out of business facilities)\n",
        "set_diff_oob.head(10)"
      ],
      "execution_count": 51,
      "outputs": [
        {
          "output_type": "execute_result",
          "data": {
            "text/html": [
              "<div>\n",
              "<style scoped>\n",
              "    .dataframe tbody tr th:only-of-type {\n",
              "        vertical-align: middle;\n",
              "    }\n",
              "\n",
              "    .dataframe tbody tr th {\n",
              "        vertical-align: top;\n",
              "    }\n",
              "\n",
              "    .dataframe thead th {\n",
              "        text-align: right;\n",
              "    }\n",
              "</style>\n",
              "<table border=\"1\" class=\"dataframe\">\n",
              "  <thead>\n",
              "    <tr style=\"text-align: right;\">\n",
              "      <th></th>\n",
              "      <th>DBA Name</th>\n",
              "      <th>Facility Type</th>\n",
              "      <th>Inspection Date</th>\n",
              "      <th>Inspection ID</th>\n",
              "      <th>Inspection Type</th>\n",
              "      <th>Latitude</th>\n",
              "      <th>License #</th>\n",
              "      <th>Longitude</th>\n",
              "      <th>Results</th>\n",
              "      <th>Risk</th>\n",
              "      <th>Unnamed: 0</th>\n",
              "      <th>Violations</th>\n",
              "      <th>Zip</th>\n",
              "    </tr>\n",
              "  </thead>\n",
              "  <tbody>\n",
              "    <tr>\n",
              "      <th>0</th>\n",
              "      <td>CARNICERIA LEON GUANAJUATO, INC.</td>\n",
              "      <td>grocery store</td>\n",
              "      <td>2019-11-18T00:00:00.000</td>\n",
              "      <td>2345787</td>\n",
              "      <td>Canvass</td>\n",
              "      <td>41.916960</td>\n",
              "      <td>1821637.0</td>\n",
              "      <td>-87.733945</td>\n",
              "      <td>Fail</td>\n",
              "      <td>1</td>\n",
              "      <td>0</td>\n",
              "      <td>3. MANAGEMENT, FOOD EMPLOYEE AND CONDITIONAL E...</td>\n",
              "      <td>60639.0</td>\n",
              "    </tr>\n",
              "    <tr>\n",
              "      <th>1</th>\n",
              "      <td>AMSTAR FUEL &amp; MINI MART</td>\n",
              "      <td>grocery store</td>\n",
              "      <td>2019-11-18T00:00:00.000</td>\n",
              "      <td>2345790</td>\n",
              "      <td>Canvass</td>\n",
              "      <td>41.895304</td>\n",
              "      <td>1426374.0</td>\n",
              "      <td>-87.721129</td>\n",
              "      <td>Pass</td>\n",
              "      <td>2</td>\n",
              "      <td>1</td>\n",
              "      <td>55. PHYSICAL FACILITIES INSTALLED, MAINTAINED ...</td>\n",
              "      <td>60651.0</td>\n",
              "    </tr>\n",
              "    <tr>\n",
              "      <th>2</th>\n",
              "      <td>ROJO GUSANO</td>\n",
              "      <td>restaurant</td>\n",
              "      <td>2019-11-18T00:00:00.000</td>\n",
              "      <td>2345766</td>\n",
              "      <td>Canvass</td>\n",
              "      <td>41.968390</td>\n",
              "      <td>1305286.0</td>\n",
              "      <td>-87.724448</td>\n",
              "      <td>Fail</td>\n",
              "      <td>1</td>\n",
              "      <td>2</td>\n",
              "      <td>3. MANAGEMENT, FOOD EMPLOYEE AND CONDITIONAL E...</td>\n",
              "      <td>60625.0</td>\n",
              "    </tr>\n",
              "    <tr>\n",
              "      <th>3</th>\n",
              "      <td>LAKESIDE FOOD WINE SPIRITS LLC</td>\n",
              "      <td>grocery store</td>\n",
              "      <td>2019-11-15T00:00:00.000</td>\n",
              "      <td>2345702</td>\n",
              "      <td>License Re-Inspection</td>\n",
              "      <td>41.929210</td>\n",
              "      <td>2694148.0</td>\n",
              "      <td>-87.648746</td>\n",
              "      <td>Pass w/ Conditions</td>\n",
              "      <td>3</td>\n",
              "      <td>3</td>\n",
              "      <td>5. PROCEDURES FOR RESPONDING TO VOMITING AND D...</td>\n",
              "      <td>60614.0</td>\n",
              "    </tr>\n",
              "    <tr>\n",
              "      <th>4</th>\n",
              "      <td>NEW KNOWLEDGE LEARNING CENTER, INC.</td>\n",
              "      <td>children's services facility</td>\n",
              "      <td>2019-11-15T00:00:00.000</td>\n",
              "      <td>2345678</td>\n",
              "      <td>License</td>\n",
              "      <td>41.739458</td>\n",
              "      <td>2215898.0</td>\n",
              "      <td>-87.702257</td>\n",
              "      <td>Pass</td>\n",
              "      <td>1</td>\n",
              "      <td>4</td>\n",
              "      <td>53. TOILET FACILITIES: PROPERLY CONSTRUCTED, S...</td>\n",
              "      <td>60652.0</td>\n",
              "    </tr>\n",
              "    <tr>\n",
              "      <th>5</th>\n",
              "      <td>CARNICERIA MARIBEL INC</td>\n",
              "      <td>grocery store</td>\n",
              "      <td>2019-11-15T00:00:00.000</td>\n",
              "      <td>2345712</td>\n",
              "      <td>Canvass</td>\n",
              "      <td>41.852136</td>\n",
              "      <td>18057.0</td>\n",
              "      <td>-87.671058</td>\n",
              "      <td>Pass w/ Conditions</td>\n",
              "      <td>1</td>\n",
              "      <td>5</td>\n",
              "      <td>3. MANAGEMENT, FOOD EMPLOYEE AND CONDITIONAL E...</td>\n",
              "      <td>60608.0</td>\n",
              "    </tr>\n",
              "    <tr>\n",
              "      <th>6</th>\n",
              "      <td>ALCOCER'S LOCAL SHOP</td>\n",
              "      <td>grocery store</td>\n",
              "      <td>2019-11-15T00:00:00.000</td>\n",
              "      <td>2345690</td>\n",
              "      <td>Canvass</td>\n",
              "      <td>41.800637</td>\n",
              "      <td>2578896.0</td>\n",
              "      <td>-87.709274</td>\n",
              "      <td>Pass</td>\n",
              "      <td>1</td>\n",
              "      <td>6</td>\n",
              "      <td>47. FOOD &amp; NON-FOOD CONTACT SURFACES CLEANABLE...</td>\n",
              "      <td>60632.0</td>\n",
              "    </tr>\n",
              "    <tr>\n",
              "      <th>7</th>\n",
              "      <td>FAMOSA BAKERY</td>\n",
              "      <td>bakery</td>\n",
              "      <td>2019-11-15T00:00:00.000</td>\n",
              "      <td>2345664</td>\n",
              "      <td>Canvass Re-Inspection</td>\n",
              "      <td>41.793591</td>\n",
              "      <td>34128.0</td>\n",
              "      <td>-87.693228</td>\n",
              "      <td>Pass</td>\n",
              "      <td>2</td>\n",
              "      <td>7</td>\n",
              "      <td>3. MANAGEMENT, FOOD EMPLOYEE AND CONDITIONAL E...</td>\n",
              "      <td>60632.0</td>\n",
              "    </tr>\n",
              "    <tr>\n",
              "      <th>8</th>\n",
              "      <td>SHIBAM RESTAURANT</td>\n",
              "      <td>restaurant</td>\n",
              "      <td>2019-11-15T00:00:00.000</td>\n",
              "      <td>2345751</td>\n",
              "      <td>Canvass Re-Inspection</td>\n",
              "      <td>41.968344</td>\n",
              "      <td>2560481.0</td>\n",
              "      <td>-87.740310</td>\n",
              "      <td>Pass</td>\n",
              "      <td>1</td>\n",
              "      <td>8</td>\n",
              "      <td>41. WIPING CLOTHS: PROPERLY USED &amp; STORED - Co...</td>\n",
              "      <td>60630.0</td>\n",
              "    </tr>\n",
              "    <tr>\n",
              "      <th>9</th>\n",
              "      <td>CIRCLE S MART INC.</td>\n",
              "      <td>grocery store</td>\n",
              "      <td>2019-11-15T00:00:00.000</td>\n",
              "      <td>2345695</td>\n",
              "      <td>Canvass</td>\n",
              "      <td>41.909518</td>\n",
              "      <td>2418830.0</td>\n",
              "      <td>-87.745960</td>\n",
              "      <td>Pass</td>\n",
              "      <td>1</td>\n",
              "      <td>9</td>\n",
              "      <td>55. PHYSICAL FACILITIES INSTALLED, MAINTAINED ...</td>\n",
              "      <td>60639.0</td>\n",
              "    </tr>\n",
              "  </tbody>\n",
              "</table>\n",
              "</div>"
            ],
            "text/plain": [
              "                              DBA Name  ...      Zip\n",
              "0     CARNICERIA LEON GUANAJUATO, INC.  ...  60639.0\n",
              "1              AMSTAR FUEL & MINI MART  ...  60651.0\n",
              "2                          ROJO GUSANO  ...  60625.0\n",
              "3       LAKESIDE FOOD WINE SPIRITS LLC  ...  60614.0\n",
              "4  NEW KNOWLEDGE LEARNING CENTER, INC.  ...  60652.0\n",
              "5               CARNICERIA MARIBEL INC  ...  60608.0\n",
              "6                 ALCOCER'S LOCAL SHOP  ...  60632.0\n",
              "7                        FAMOSA BAKERY  ...  60632.0\n",
              "8                    SHIBAM RESTAURANT  ...  60630.0\n",
              "9                   CIRCLE S MART INC.  ...  60639.0\n",
              "\n",
              "[10 rows x 13 columns]"
            ]
          },
          "metadata": {
            "tags": []
          },
          "execution_count": 51
        }
      ]
    },
    {
      "cell_type": "markdown",
      "metadata": {
        "id": "fCjsqIlWdSY7",
        "colab_type": "text"
      },
      "source": [
        "### **Violations analysis - facilities that have not gone out of business**"
      ]
    },
    {
      "cell_type": "code",
      "metadata": {
        "id": "c17Vg__XqE5U",
        "colab_type": "code",
        "outputId": "2545c998-6e31-4adf-f454-0431c09dab8e",
        "colab": {
          "base_uri": "https://localhost:8080/",
          "height": 230
        }
      },
      "source": [
        "violations_not_oob = set_diff_oob['Violations'].apply(lambda x: re.findall(r'^[0-9]+[.] | [|] [0-9]+[.] ', x))\n",
        "violations_not_oob = pd.DataFrame(violations_not_oob)\n",
        "violation_nums_not_oob = violations_not_oob['Violations'].apply(lambda x: [int(sub.replace('|','').split('.')[0]) for sub in x])\n",
        "violation_nums_not_oob"
      ],
      "execution_count": 52,
      "outputs": [
        {
          "output_type": "execute_result",
          "data": {
            "text/plain": [
              "0                               [3, 5, 23, 36, 38, 45]\n",
              "1                                             [55, 56]\n",
              "2           [3, 5, 25, 38, 47, 49, 51, 55, 55, 57, 58]\n",
              "3                                          [5, 55, 56]\n",
              "4                                         [53, 54, 56]\n",
              "                              ...                     \n",
              "191246                                [32, 33, 34, 41]\n",
              "191248                            [33, 34, 35, 38, 41]\n",
              "191250                                [31, 33, 34, 36]\n",
              "191252    [18, 19, 32, 33, 34, 35, 36, 37, 38, 39, 41]\n",
              "191254                            [18, 32, 34, 35, 36]\n",
              "Name: Violations, Length: 97560, dtype: object"
            ]
          },
          "metadata": {
            "tags": []
          },
          "execution_count": 52
        }
      ]
    },
    {
      "cell_type": "code",
      "metadata": {
        "id": "8pJUR7fdxOjZ",
        "colab_type": "code",
        "outputId": "d97553ad-a6ab-48c4-b90f-32853d9d2422",
        "colab": {
          "base_uri": "https://localhost:8080/",
          "height": 352
        }
      },
      "source": [
        "violation_nums_not_oob = pd.DataFrame(violation_nums_not_oob)\n",
        "violation_nums_not_oob.reset_index(inplace=True)\n",
        "violation_nums_not_oob.drop(columns='index', inplace=True)\n",
        "violation_nums_not_oob.head(10)"
      ],
      "execution_count": 53,
      "outputs": [
        {
          "output_type": "execute_result",
          "data": {
            "text/html": [
              "<div>\n",
              "<style scoped>\n",
              "    .dataframe tbody tr th:only-of-type {\n",
              "        vertical-align: middle;\n",
              "    }\n",
              "\n",
              "    .dataframe tbody tr th {\n",
              "        vertical-align: top;\n",
              "    }\n",
              "\n",
              "    .dataframe thead th {\n",
              "        text-align: right;\n",
              "    }\n",
              "</style>\n",
              "<table border=\"1\" class=\"dataframe\">\n",
              "  <thead>\n",
              "    <tr style=\"text-align: right;\">\n",
              "      <th></th>\n",
              "      <th>Violations</th>\n",
              "    </tr>\n",
              "  </thead>\n",
              "  <tbody>\n",
              "    <tr>\n",
              "      <th>0</th>\n",
              "      <td>[3, 5, 23, 36, 38, 45]</td>\n",
              "    </tr>\n",
              "    <tr>\n",
              "      <th>1</th>\n",
              "      <td>[55, 56]</td>\n",
              "    </tr>\n",
              "    <tr>\n",
              "      <th>2</th>\n",
              "      <td>[3, 5, 25, 38, 47, 49, 51, 55, 55, 57, 58]</td>\n",
              "    </tr>\n",
              "    <tr>\n",
              "      <th>3</th>\n",
              "      <td>[5, 55, 56]</td>\n",
              "    </tr>\n",
              "    <tr>\n",
              "      <th>4</th>\n",
              "      <td>[53, 54, 56]</td>\n",
              "    </tr>\n",
              "    <tr>\n",
              "      <th>5</th>\n",
              "      <td>[3, 5, 47, 57, 58]</td>\n",
              "    </tr>\n",
              "    <tr>\n",
              "      <th>6</th>\n",
              "      <td>[47, 58]</td>\n",
              "    </tr>\n",
              "    <tr>\n",
              "      <th>7</th>\n",
              "      <td>[3, 5]</td>\n",
              "    </tr>\n",
              "    <tr>\n",
              "      <th>8</th>\n",
              "      <td>[41, 47]</td>\n",
              "    </tr>\n",
              "    <tr>\n",
              "      <th>9</th>\n",
              "      <td>[55, 57]</td>\n",
              "    </tr>\n",
              "  </tbody>\n",
              "</table>\n",
              "</div>"
            ],
            "text/plain": [
              "                                   Violations\n",
              "0                      [3, 5, 23, 36, 38, 45]\n",
              "1                                    [55, 56]\n",
              "2  [3, 5, 25, 38, 47, 49, 51, 55, 55, 57, 58]\n",
              "3                                 [5, 55, 56]\n",
              "4                                [53, 54, 56]\n",
              "5                          [3, 5, 47, 57, 58]\n",
              "6                                    [47, 58]\n",
              "7                                      [3, 5]\n",
              "8                                    [41, 47]\n",
              "9                                    [55, 57]"
            ]
          },
          "metadata": {
            "tags": []
          },
          "execution_count": 53
        }
      ]
    },
    {
      "cell_type": "code",
      "metadata": {
        "id": "skm89c9LxbHD",
        "colab_type": "code",
        "colab": {}
      },
      "source": [
        "vio_freq_not_oob = {}\n",
        "for i in violation_nums_not_oob['Violations']:\n",
        "  for j in i:\n",
        "    vio_freq_not_oob[str(j)] = 1 if str(j) not in vio_freq_not_oob else vio_freq_not_oob[str(j)]+1"
      ],
      "execution_count": 0,
      "outputs": []
    },
    {
      "cell_type": "code",
      "metadata": {
        "id": "kfQyr41NzuMJ",
        "colab_type": "code",
        "outputId": "2a316176-3d56-4a45-803b-461f24579f6b",
        "colab": {
          "base_uri": "https://localhost:8080/",
          "height": 295
        }
      },
      "source": [
        "plt.figure(figsize=(17,4))\n",
        "plt.bar(list(vio_freq_not_oob.keys()), vio_freq_not_oob.values())\n",
        "plt.title('Violation Types vs. Their Frequencies in Out of Business Facilities')\n",
        "plt.xlabel('Violation Types')\n",
        "plt.ylabel('Frequency')\n",
        "plt.show()"
      ],
      "execution_count": 55,
      "outputs": [
        {
          "output_type": "display_data",
          "data": {
            "image/png": "[encoded data removed]",
            "text/plain": [
              "<Figure size 1224x288 with 1 Axes>"
            ]
          },
          "metadata": {
            "tags": []
          }
        }
      ]
    },
    {
      "cell_type": "code",
      "metadata": {
        "id": "UeJ6lWmlzuuM",
        "colab_type": "code",
        "colab": {}
      },
      "source": [
        "sorted_vio_freq_not_oob = {}\n",
        "\n",
        "for key in sorted(vio_freq_not_oob, key=vio_freq_not_oob.__getitem__, reverse=True):\n",
        "  sorted_vio_freq_not_oob[key] = vio_freq_not_oob[key]"
      ],
      "execution_count": 0,
      "outputs": []
    },
    {
      "cell_type": "code",
      "metadata": {
        "id": "VQo1P1buxm2r",
        "colab_type": "code",
        "outputId": "67c410d4-8943-4f26-9ad7-3ea2dda4a5e5",
        "colab": {
          "base_uri": "https://localhost:8080/",
          "height": 295
        }
      },
      "source": [
        "plt.figure(figsize=(17,4))\n",
        "plt.bar(list(sorted_vio_freq_not_oob.keys()), sorted_vio_freq_not_oob.values())\n",
        "plt.title('Violation Types vs. Their Frequencies in Facilities that have not Gone Out of Business')\n",
        "plt.xlabel('Violation Types')\n",
        "plt.ylabel('Frequency')\n",
        "plt.show()"
      ],
      "execution_count": 57,
      "outputs": [
        {
          "output_type": "display_data",
          "data": {
            "image/png": "[encoded data removed]",
            "text/plain": [
              "<Figure size 1224x288 with 1 Axes>"
            ]
          },
          "metadata": {
            "tags": []
          }
        }
      ]
    },
    {
      "cell_type": "code",
      "metadata": {
        "id": "DGwn_xr2yHRD",
        "colab_type": "code",
        "outputId": "edb7b206-3651-4ebf-bf76-354ead8e23b9",
        "colab": {
          "base_uri": "https://localhost:8080/",
          "height": 284
        }
      },
      "source": [
        "most_freq_vio_not_oob = [key for key, value in list(sorted_vio_freq_not_oob.items())[0:15]]\n",
        "most_freq_vio_not_oob # top 10 most frequent violation types among facilities that went out of business"
      ],
      "execution_count": 58,
      "outputs": [
        {
          "output_type": "execute_result",
          "data": {
            "text/plain": [
              "['34',\n",
              " '35',\n",
              " '33',\n",
              " '38',\n",
              " '32',\n",
              " '41',\n",
              " '36',\n",
              " '55',\n",
              " '3',\n",
              " '5',\n",
              " '18',\n",
              " '30',\n",
              " '40',\n",
              " '37',\n",
              " '47']"
            ]
          },
          "metadata": {
            "tags": []
          },
          "execution_count": 58
        }
      ]
    },
    {
      "cell_type": "code",
      "metadata": {
        "id": "RWCSBy3hyNj9",
        "colab_type": "code",
        "colab": {}
      },
      "source": [
        "# Inspections of facilities that didn't go out of business\n",
        " set_diff_not_oob = pd.concat([df, set_diff_oob, set_diff_oob], sort=True).drop_duplicates(keep=False, subset=['Latitude', 'Longitude', 'DBA Name', 'License #', 'Inspection Date'])"
      ],
      "execution_count": 0,
      "outputs": []
    },
    {
      "cell_type": "code",
      "metadata": {
        "id": "sUTUHZBUyZLe",
        "colab_type": "code",
        "outputId": "6f2fce7f-a12b-4ae6-c245-151aa865bada",
        "colab": {
          "base_uri": "https://localhost:8080/",
          "height": 982
        }
      },
      "source": [
        "set_diff_not_oob.dropna(subset=['Violations'], inplace=True) # the inspections that have violations (out of business facilities)\n",
        "set_diff_not_oob.head(10)"
      ],
      "execution_count": 60,
      "outputs": [
        {
          "output_type": "execute_result",
          "data": {
            "text/html": [
              "<div>\n",
              "<style scoped>\n",
              "    .dataframe tbody tr th:only-of-type {\n",
              "        vertical-align: middle;\n",
              "    }\n",
              "\n",
              "    .dataframe tbody tr th {\n",
              "        vertical-align: top;\n",
              "    }\n",
              "\n",
              "    .dataframe thead th {\n",
              "        text-align: right;\n",
              "    }\n",
              "</style>\n",
              "<table border=\"1\" class=\"dataframe\">\n",
              "  <thead>\n",
              "    <tr style=\"text-align: right;\">\n",
              "      <th></th>\n",
              "      <th>DBA Name</th>\n",
              "      <th>Facility Type</th>\n",
              "      <th>Inspection Date</th>\n",
              "      <th>Inspection ID</th>\n",
              "      <th>Inspection Type</th>\n",
              "      <th>Latitude</th>\n",
              "      <th>License #</th>\n",
              "      <th>Longitude</th>\n",
              "      <th>Results</th>\n",
              "      <th>Risk</th>\n",
              "      <th>Unnamed: 0</th>\n",
              "      <th>Violations</th>\n",
              "      <th>Zip</th>\n",
              "    </tr>\n",
              "  </thead>\n",
              "  <tbody>\n",
              "    <tr>\n",
              "      <th>147</th>\n",
              "      <td>SUBWAY</td>\n",
              "      <td>restaurant</td>\n",
              "      <td>2019-11-08T00:00:00.000</td>\n",
              "      <td>2345318</td>\n",
              "      <td>Canvass Re-Inspection</td>\n",
              "      <td>41.927995</td>\n",
              "      <td>2529116.0</td>\n",
              "      <td>-87.785752</td>\n",
              "      <td>Pass w/ Conditions</td>\n",
              "      <td>1</td>\n",
              "      <td>149</td>\n",
              "      <td>3. MANAGEMENT, FOOD EMPLOYEE AND CONDITIONAL E...</td>\n",
              "      <td>60639.0</td>\n",
              "    </tr>\n",
              "    <tr>\n",
              "      <th>220</th>\n",
              "      <td>SUBWAY</td>\n",
              "      <td>restaurant</td>\n",
              "      <td>2019-11-06T00:00:00.000</td>\n",
              "      <td>2321166</td>\n",
              "      <td>Canvass</td>\n",
              "      <td>41.927995</td>\n",
              "      <td>2529116.0</td>\n",
              "      <td>-87.785752</td>\n",
              "      <td>Fail</td>\n",
              "      <td>1</td>\n",
              "      <td>222</td>\n",
              "      <td>3. MANAGEMENT, FOOD EMPLOYEE AND CONDITIONAL E...</td>\n",
              "      <td>60639.0</td>\n",
              "    </tr>\n",
              "    <tr>\n",
              "      <th>242</th>\n",
              "      <td>TONO TACOS, INC.</td>\n",
              "      <td>restaurant</td>\n",
              "      <td>2019-11-06T00:00:00.000</td>\n",
              "      <td>2321204</td>\n",
              "      <td>Canvass</td>\n",
              "      <td>41.931211</td>\n",
              "      <td>2284711.0</td>\n",
              "      <td>-87.778615</td>\n",
              "      <td>Pass w/ Conditions</td>\n",
              "      <td>1</td>\n",
              "      <td>245</td>\n",
              "      <td>3. MANAGEMENT, FOOD EMPLOYEE AND CONDITIONAL E...</td>\n",
              "      <td>60639.0</td>\n",
              "    </tr>\n",
              "    <tr>\n",
              "      <th>284</th>\n",
              "      <td>MOY LEE RESTAURANT</td>\n",
              "      <td>restaurant</td>\n",
              "      <td>2019-11-05T00:00:00.000</td>\n",
              "      <td>2321106</td>\n",
              "      <td>Canvass</td>\n",
              "      <td>41.977764</td>\n",
              "      <td>28853.0</td>\n",
              "      <td>-87.769830</td>\n",
              "      <td>Pass w/ Conditions</td>\n",
              "      <td>1</td>\n",
              "      <td>288</td>\n",
              "      <td>5. PROCEDURES FOR RESPONDING TO VOMITING AND D...</td>\n",
              "      <td>60630.0</td>\n",
              "    </tr>\n",
              "    <tr>\n",
              "      <th>327</th>\n",
              "      <td>FIFTH CAMPUS</td>\n",
              "      <td>school</td>\n",
              "      <td>2019-11-01T00:00:00.000</td>\n",
              "      <td>2320922</td>\n",
              "      <td>Canvass</td>\n",
              "      <td>41.743149</td>\n",
              "      <td>2510248.0</td>\n",
              "      <td>-87.665746</td>\n",
              "      <td>Pass</td>\n",
              "      <td>2</td>\n",
              "      <td>331</td>\n",
              "      <td>47. FOOD &amp; NON-FOOD CONTACT SURFACES CLEANABLE...</td>\n",
              "      <td>60620.0</td>\n",
              "    </tr>\n",
              "    <tr>\n",
              "      <th>359</th>\n",
              "      <td>DEL SEOUL</td>\n",
              "      <td>restaurant</td>\n",
              "      <td>2019-10-31T00:00:00.000</td>\n",
              "      <td>2320878</td>\n",
              "      <td>Complaint</td>\n",
              "      <td>41.929448</td>\n",
              "      <td>2060126.0</td>\n",
              "      <td>-87.642925</td>\n",
              "      <td>Pass</td>\n",
              "      <td>1</td>\n",
              "      <td>363</td>\n",
              "      <td>35. APPROVED THAWING METHODS USED - Comments: ...</td>\n",
              "      <td>60614.0</td>\n",
              "    </tr>\n",
              "    <tr>\n",
              "      <th>611</th>\n",
              "      <td>RADAIOS BROS FRANKSVILLE INC</td>\n",
              "      <td>restaurant</td>\n",
              "      <td>2019-10-25T00:00:00.000</td>\n",
              "      <td>2320534</td>\n",
              "      <td>Complaint</td>\n",
              "      <td>41.944945</td>\n",
              "      <td>24224.0</td>\n",
              "      <td>-87.807141</td>\n",
              "      <td>Pass w/ Conditions</td>\n",
              "      <td>1</td>\n",
              "      <td>622</td>\n",
              "      <td>25. CONSUMER ADVISORY PROVIDED FOR RAW/UNDERCO...</td>\n",
              "      <td>60634.0</td>\n",
              "    </tr>\n",
              "    <tr>\n",
              "      <th>698</th>\n",
              "      <td>RHYME OR REASON</td>\n",
              "      <td>restaurant</td>\n",
              "      <td>2019-10-24T00:00:00.000</td>\n",
              "      <td>2320407</td>\n",
              "      <td>Canvass Re-Inspection</td>\n",
              "      <td>41.903314</td>\n",
              "      <td>1985220.0</td>\n",
              "      <td>-87.676417</td>\n",
              "      <td>Pass</td>\n",
              "      <td>1</td>\n",
              "      <td>709</td>\n",
              "      <td>51. PLUMBING INSTALLED; PROPER BACKFLOW DEVICE...</td>\n",
              "      <td>60622.0</td>\n",
              "    </tr>\n",
              "    <tr>\n",
              "      <th>864</th>\n",
              "      <td>AVENIDA DEL SABOR</td>\n",
              "      <td>restaurant</td>\n",
              "      <td>2019-10-18T00:00:00.000</td>\n",
              "      <td>2316061</td>\n",
              "      <td>Canvass Re-Inspection</td>\n",
              "      <td>41.931095</td>\n",
              "      <td>2488459.0</td>\n",
              "      <td>-87.771344</td>\n",
              "      <td>Pass w/ Conditions</td>\n",
              "      <td>1</td>\n",
              "      <td>875</td>\n",
              "      <td>25. CONSUMER ADVISORY PROVIDED FOR RAW/UNDERCO...</td>\n",
              "      <td>60639.0</td>\n",
              "    </tr>\n",
              "    <tr>\n",
              "      <th>944</th>\n",
              "      <td>RHYME OR REASON</td>\n",
              "      <td>restaurant</td>\n",
              "      <td>2019-10-17T00:00:00.000</td>\n",
              "      <td>2316016</td>\n",
              "      <td>Canvass</td>\n",
              "      <td>41.903314</td>\n",
              "      <td>1985220.0</td>\n",
              "      <td>-87.676417</td>\n",
              "      <td>Fail</td>\n",
              "      <td>1</td>\n",
              "      <td>956</td>\n",
              "      <td>10. ADEQUATE HANDWASHING SINKS PROPERLY SUPPLI...</td>\n",
              "      <td>60622.0</td>\n",
              "    </tr>\n",
              "  </tbody>\n",
              "</table>\n",
              "</div>"
            ],
            "text/plain": [
              "                         DBA Name  ...      Zip\n",
              "147                        SUBWAY  ...  60639.0\n",
              "220                        SUBWAY  ...  60639.0\n",
              "242              TONO TACOS, INC.  ...  60639.0\n",
              "284            MOY LEE RESTAURANT  ...  60630.0\n",
              "327                  FIFTH CAMPUS  ...  60620.0\n",
              "359                     DEL SEOUL  ...  60614.0\n",
              "611  RADAIOS BROS FRANKSVILLE INC  ...  60634.0\n",
              "698               RHYME OR REASON  ...  60622.0\n",
              "864             AVENIDA DEL SABOR  ...  60639.0\n",
              "944               RHYME OR REASON  ...  60622.0\n",
              "\n",
              "[10 rows x 13 columns]"
            ]
          },
          "metadata": {
            "tags": []
          },
          "execution_count": 60
        }
      ]
    },
    {
      "cell_type": "markdown",
      "metadata": {
        "id": "A85HB-qx1Lg4",
        "colab_type": "text"
      },
      "source": [
        "Our aim was to detect any violation type that could result into the facilities going out of business. From our data analysis, we found that most violation types are common between those that went out of business and those that have not. Only Violation Types 21, 31, and 43 are more prevalent in facilities that have gone out of business, but are not so prevalent in those that have not gone out of business."
      ]
    },
    {
      "cell_type": "markdown",
      "metadata": {
        "id": "kCcCYtxFXmlu",
        "colab_type": "text"
      },
      "source": [
        "### **Average number of total violations facilities commit before going out of business**  "
      ]
    },
    {
      "cell_type": "markdown",
      "metadata": {
        "id": "VUSui_GqgDLt",
        "colab_type": "text"
      },
      "source": [
        "### **Distribution of number of violations committed in each inspection (in facilities that went out of business)**"
      ]
    },
    {
      "cell_type": "code",
      "metadata": {
        "id": "acuT4Yk6eHFi",
        "colab_type": "code",
        "colab": {
          "base_uri": "https://localhost:8080/",
          "height": 55
        },
        "outputId": "fd659689-710e-455a-a0d0-f36c39a55505"
      },
      "source": [
        "num_vio_oob = []\n",
        "for i in violation_nums_oob['Violations']:\n",
        "  num_vio_oob.append(len(i))\n",
        "\n",
        "print(num_vio_oob)"
      ],
      "execution_count": 67,
      "outputs": [
        {
          "output_type": "stream",
          "text": [
            "[6, 8, 7, 5, 5, 3, 6, 3, 9, 2, 5, 7, 7, 4, 8, 7, 6, 2, 2, 9, 1, 3, 2, 3, 1, 5, 3, 5, 2, 4, 3, 5, 6, 4, 4, 4, 4, 4, 2, 6, 4, 3, 2, 9, 7, 11, 4, 9, 2, 1, 5, 3, 4, 6, 1, 1, 3, 5, 1, 4, 3, 2, 2, 2, 1, 5, 8, 3, 3, 6, 7, 1, 2, 3, 3, 5, 7, 5, 5, 8, 6, 4, 5, 1, 8, 4, 12, 8, 3, 8, 7, 10, 1, 2, 10, 3, 1, 6, 5, 4, 4, 7, 7, 4, 10, 14, 10, 12, 2, 2, 2, 8, 3, 3, 5, 3, 2, 8, 11, 2, 8, 4, 6, 10, 3, 1, 2, 4, 4, 2, 4, 1, 5, 2, 9, 6, 5, 7, 7, 9, 11, 3, 3, 9, 7, 5, 4, 2, 4, 2, 3, 4, 6, 1, 7, 2, 4, 6, 11, 9, 2, 6, 1, 2, 2, 10, 10, 9, 9, 9, 4, 6, 8, 8, 6, 2, 3, 11, 14, 14, 7, 10, 7, 7, 10, 2, 5, 8, 9, 4, 1, 4, 1, 2, 1, 2, 9, 3, 5, 7, 9, 3, 2, 3, 2, 4, 2, 3, 1, 19, 5, 3, 9, 5, 4, 6, 3, 1, 10, 9, 12, 5, 8, 8, 12, 5, 6, 6, 4, 7, 7, 5, 6, 8, 1, 3, 3, 4, 5, 3, 2, 1, 2, 2, 4, 1, 4, 2, 2, 2, 5, 9, 11, 1, 6, 9, 7, 9, 7, 8, 12, 4, 8, 3, 2, 6, 3, 8, 1, 6, 3, 4, 6, 4, 2, 2, 3, 2, 2, 4, 7, 2, 8, 7, 3, 3, 2, 1, 4, 6, 3, 6, 4, 4, 4, 4, 5, 3, 2, 3, 4, 1, 12, 3, 7, 5, 14, 7, 3, 4, 2, 2, 1, 3, 2, 2, 2, 2, 3, 4, 7, 1, 11, 5, 5, 4, 4, 3, 2, 4, 3, 1, 4, 4, 4, 15, 8, 8, 6, 3, 6, 4, 2, 9, 1, 5, 8, 7, 9, 2, 3, 7, 4, 3, 11, 8, 6, 8, 2, 2, 6, 8, 9, 2, 5, 8, 2, 4, 12, 3, 4, 7, 2, 1, 2, 2, 6, 2, 3, 4, 7, 7, 6, 2, 2, 5, 7, 5, 3, 5, 8, 10, 7, 3, 3, 3, 2, 5, 5, 5, 3, 1, 8, 5, 7, 4, 3, 5, 9, 2, 4, 11, 5, 3, 4, 4, 2, 4, 7, 2, 1, 2, 7, 8, 1, 3, 7, 6, 5, 10, 2, 6, 10, 16, 6, 7, 8, 3, 10, 4, 2, 3, 4, 5, 6, 9, 10, 3, 5, 1, 6, 1, 5, 7, 5, 1, 3, 3, 1, 4, 6, 6, 9, 3, 3, 4, 4, 3, 2, 4, 4, 2, 4, 2, 3, 3, 6, 6, 7, 1, 3, 3, 6, 12, 5, 15, 6, 4, 7, 4, 5, 3, 2, 10, 2, 5, 7, 1, 4, 5, 9, 13, 13, 6, 6, 8, 9, 1, 10, 9, 15, 1, 3, 4, 4, 8, 4, 8, 5, 5, 2, 2, 9, 1, 10, 2, 3, 2, 7, 3, 2, 5, 2, 2, 4, 8, 3, 4, 3, 1, 11, 4, 3, 3, 4, 2, 3, 3, 3, 4, 6, 2, 3, 2, 5, 1, 3, 6, 7, 5, 7, 3, 14, 3, 2, 3, 4, 8, 6, 4, 5, 8, 6, 6, 7, 3, 4, 6, 2, 5, 3, 4, 5, 2, 3, 4, 2, 5, 4, 2, 6, 4, 4, 6, 4, 2, 3, 1, 3, 2, 3, 1, 1, 2, 3, 5, 6, 2, 3, 3, 4, 6, 6, 1, 4, 6, 11, 3, 3, 3, 6, 4, 2, 4, 6, 6, 5, 6, 6, 2, 6, 3, 3, 6, 3, 3, 6, 2, 3, 5, 3, 3, 1, 3, 3, 4, 6, 2, 4, 5, 2, 5, 5, 4, 3, 5, 3, 4, 3, 2, 4, 2, 8, 7, 5, 6, 9, 9, 3, 2, 9, 1, 2, 3, 8, 5, 6, 6, 6, 7, 10, 4, 5, 2, 7, 6, 5, 9, 13, 13, 13, 4, 3, 3, 4, 3, 7, 13, 2, 5, 3, 13, 16, 3, 1, 7, 8, 7, 2, 3, 4, 5, 4, 3, 6, 11, 5, 13, 5, 7, 6, 5, 9, 3, 8, 2, 4, 2, 6, 6, 4, 2, 2, 4, 1, 4, 4, 2, 2, 5, 2, 3, 3, 2, 4, 3, 3, 5, 2, 2, 3, 3, 1, 8, 10, 4, 4, 5, 7, 9, 7, 7, 3, 4, 1, 2, 8, 1, 10, 4, 2, 4, 3, 9, 5, 6, 2, 3, 3, 1, 3, 9, 4, 6, 1, 2, 4, 12, 4, 7, 1, 5, 9, 6, 8, 3, 4, 5, 8, 5, 7, 1, 5, 5, 3, 3, 2, 3, 2, 3, 3, 6, 4, 8, 3, 6, 8, 9, 5, 6, 3, 2, 4, 8, 9, 9, 1, 6, 3, 3, 5, 1, 6, 6, 2, 8, 3, 5, 6, 3, 5, 3, 5, 4, 2, 5, 4, 2, 5, 6, 7, 6, 1, 2, 4, 2, 1, 7, 4, 2, 2, 2, 1, 8, 6, 7, 11, 4, 5, 7, 8, 8, 3, 4, 4, 6, 6, 9, 10, 1, 3, 9, 11, 7, 8, 1, 5, 3, 2, 4, 2, 7, 4, 3, 1, 7, 4, 1, 4, 2, 5, 2, 2, 1, 1, 4, 5, 4, 3, 5, 5, 5, 6, 2, 1, 1, 2, 7, 1, 5, 8, 8, 3, 5, 4, 5, 7, 8, 5, 10, 7, 6, 3, 3, 3, 5, 8, 4, 1, 4, 9, 9, 4, 3, 5, 4, 8, 7, 7, 6, 4, 6, 1, 4, 3, 4, 5, 4, 3, 1, 4, 3, 4, 1, 3, 2, 5, 5, 2, 1, 3, 6, 5, 6, 10, 2, 5, 4, 13, 4, 6, 3, 2, 3, 1, 1, 3, 10, 3, 4, 5, 6, 3, 1, 1, 6, 3, 1, 4, 3, 3, 3, 10, 5, 2, 4, 3, 1, 2, 4, 2, 1, 2, 3, 2, 1, 2, 2, 2, 3, 3, 4, 4, 2, 1, 1, 3, 6, 1, 5, 6, 2, 7, 3, 8, 4, 2, 4, 4, 1, 4, 3, 4, 3, 6, 1, 4, 2, 3, 4, 1, 2, 2, 1, 3, 2, 2, 3, 6, 2, 14, 4, 3, 6, 4, 4, 3, 9, 2, 1, 2, 1, 5, 2, 3, 5, 3, 2, 3, 3, 6, 2, 1, 2, 6, 5, 4, 3, 3, 4, 3, 5, 2, 2, 2, 6, 9, 2, 4, 5, 2, 1, 4, 3, 3, 5, 2, 6, 2, 3, 3, 2, 2, 5, 4, 4, 3, 5, 4, 5, 3, 3, 3, 4, 2, 1, 1, 5, 3, 3, 7, 6, 3, 3, 2, 3, 4, 2, 1, 7, 6, 4, 8, 1, 8, 2, 7, 5, 2, 3, 6, 7, 4, 5, 7, 3, 4, 4, 5, 4, 4, 7, 9, 3, 4, 3, 2, 1, 4, 1, 4, 3, 2, 2, 5, 5, 4, 6, 4, 3, 4, 6, 3, 3, 3, 2, 1, 2, 3, 5, 8, 3, 2, 2, 9, 1, 5, 1, 3, 3, 4, 6, 7, 10, 2, 2, 2, 5, 6, 4, 5, 3, 4, 2, 2, 1, 1, 5, 7, 3, 3, 3, 4, 5, 6, 2, 3, 4, 3, 6, 14, 7, 2, 1, 2, 1, 5, 2, 4, 4, 8, 3, 10, 17, 5, 4, 5, 6, 3, 3, 2, 9, 6, 5, 9, 1, 6, 6, 9, 6, 5, 3, 5, 3, 2, 8, 3, 3, 8, 1, 5, 4, 3, 1, 5, 3, 5, 2, 3, 1, 11, 8, 4, 3, 3, 4, 5, 3, 6, 2, 1, 4, 6, 5, 11, 8, 4, 5, 4, 11, 5, 3, 3, 4, 5, 5, 4, 11, 7, 8, 6, 13, 12, 10, 10, 4, 3, 1, 1, 5, 6, 6, 8, 1, 4, 1, 1, 5, 7, 1, 12, 3, 3, 4, 5, 3, 6, 2, 7, 7, 9, 4, 8, 8, 4, 7, 1, 9, 7, 12, 1, 9, 6, 4, 5, 9, 3, 10, 5, 1, 1, 8, 10, 14, 1, 2, 3, 5, 7, 5, 5, 7, 9, 9, 7, 2, 9, 4, 8, 2, 8, 1, 5, 3, 3, 3, 7, 2, 1, 5, 4, 2, 2, 1, 5, 6, 9, 5, 8, 1, 8, 4, 11, 1, 1, 6, 1, 3, 1, 3, 2, 1, 8, 8, 4, 1, 1, 1, 2, 11, 4, 18, 4, 6, 5, 6, 6, 2, 1, 4, 4, 2, 5, 3, 2, 2, 10, 3, 6, 2, 5, 1, 1, 5, 2, 1, 2, 3, 2, 1, 2, 4, 6, 6, 3, 3, 4, 1, 3, 2, 5, 1, 1, 2, 1, 3, 4, 6, 2, 2, 3, 4, 2, 6, 2, 3, 2, 3, 10, 3, 4, 3, 3, 4, 8, 3, 1, 5, 4, 2, 2, 3, 1, 7, 5, 3, 4, 3, 3, 3, 3, 8, 2, 6, 4, 8, 3, 5, 9, 16, 7, 4, 10, 1, 16, 2, 4, 4, 6, 3, 2, 3, 4, 1, 2, 4, 6, 4, 6, 3, 2, 2, 4, 6, 7, 7, 7, 2, 2, 2, 3, 1, 2, 3, 3, 3, 3, 3, 4, 6, 7, 8, 6, 4, 6, 4, 11, 5, 1, 2, 1, 1, 1, 11, 3, 4, 3, 5, 1, 3, 1, 6, 4, 7, 2, 5, 3, 3, 3, 2, 3, 3, 2, 3, 2, 1, 1, 5, 7, 2, 1, 2, 3, 5, 6, 6, 9, 5, 9, 6, 6, 14, 12, 3, 3, 6, 1, 2, 2, 3, 2, 8, 8, 7, 3, 5, 4, 6, 6, 2, 4, 3, 5, 3, 2, 6, 5, 2, 13, 20, 5, 6, 4, 3, 2, 3, 5, 3, 6, 7, 7, 10, 2, 1, 1, 2, 3, 2, 2, 1, 1, 2, 3, 1, 2, 3, 5, 3, 1, 4, 1, 3, 3, 1, 2, 1, 4, 6, 1, 2, 2, 3, 6, 1, 1, 2, 4, 1, 3, 3, 8, 5, 7, 2, 1, 5, 4, 6, 2, 2, 2, 2, 4, 3, 5, 4, 5, 3, 2, 3, 3, 5, 1, 2, 5, 3, 4, 2, 2, 3, 1, 1, 5, 3, 5, 4, 4, 6, 1, 5, 4, 6, 7, 3, 3, 4, 4, 2, 4, 8, 5, 2, 5, 3, 4, 4, 7, 2, 7, 4, 4, 6, 6, 4, 8, 3, 2, 4, 6, 2, 3, 5, 6, 1, 1, 3, 3, 5, 2, 2, 3, 3, 8, 7, 3, 6, 5, 3, 3, 5, 8, 6, 6, 7, 1, 1, 7, 2, 4, 4, 3, 3, 3, 6, 5, 6, 3, 1, 9, 3, 2, 3, 3, 2, 2, 4, 1, 3, 1, 3, 3, 4, 2, 1, 2, 2, 2, 1, 3, 2, 3, 3, 3, 6, 2, 2, 4, 2, 1, 3, 2, 2, 3, 2, 8, 2, 2, 8, 3, 3, 3, 3, 9, 5, 5, 5, 4, 8, 8, 5, 6, 4, 6, 2, 6, 6, 3, 3, 3, 3, 3, 4, 5, 3, 4, 5, 2, 4, 6, 2, 3, 3, 7, 4, 6, 2, 5, 2, 3, 5, 6, 3, 11, 18, 1, 7, 5, 3, 9, 11, 1, 6, 1, 3, 4, 1, 4, 7, 5, 5, 5, 7, 1, 2, 4, 4, 6, 4, 3, 2, 6, 6, 9, 6, 4, 3, 6, 8, 1, 6, 7, 7, 7, 6, 5, 7, 1, 5, 3, 3, 9, 1, 4, 6, 6, 5, 5, 7, 3, 6, 6, 1, 1, 1, 4, 3, 7, 5, 2, 1, 9, 14, 4, 3, 6, 1, 1, 2, 2, 1, 4, 3, 5, 6, 3, 4, 5, 11, 10, 3, 3, 5, 5, 1, 1, 6, 2, 10, 6, 4, 1, 5, 1, 1, 2, 5, 5, 5, 2, 2, 3, 2, 1, 3, 2, 6, 5, 3, 6, 4, 5, 9, 11, 1, 2, 2, 3, 5, 6, 9, 3, 3, 8, 3, 2, 3, 7, 1, 1, 2, 2, 5, 3, 4, 2, 5, 6, 2, 4, 3, 5, 5, 7, 8, 5, 6, 6, 6, 5, 9, 2, 8, 2, 7, 8, 5, 4, 4, 8, 10, 15, 2, 4, 6, 6, 7, 2, 4, 7, 5, 5, 8, 2, 5, 3, 5, 2, 2, 6, 5, 2, 2, 2, 5, 8, 7, 9, 5, 1, 3, 4, 6, 7, 1, 4, 4, 6, 2, 4, 5, 5, 7, 6, 6, 7, 6, 3, 2, 2, 3, 4, 5, 3, 2, 1, 1, 3, 3, 14, 4, 5, 3, 2, 1, 2, 6, 8, 2, 2, 2, 7, 1, 6, 3, 6, 6, 10, 4, 4, 4, 5, 2, 1, 1, 5, 2, 1, 4, 9, 9, 2, 5, 6, 4, 5, 5, 5, 6, 4, 7, 5, 7, 1, 1, 8, 1, 7, 1, 4, 3, 4, 3, 5, 1, 1, 6, 5, 3, 7, 3, 6, 5, 5, 4, 2, 1, 3, 2, 1, 3, 8, 9, 5, 2, 5, 6, 7, 2, 5, 6, 3, 8, 1, 14, 11, 1, 1, 10, 5, 5, 4, 4, 5, 7, 7, 6, 8, 2, 3, 3, 2, 4, 3, 5, 7, 3, 1, 5, 1, 2, 5, 4, 12, 2, 3, 3, 4, 2, 5, 3, 8, 3, 4, 1, 2, 2, 6, 4, 3, 5, 4, 3, 1, 2, 4, 2, 2, 1, 1, 4, 1, 1, 5, 2, 4, 6, 1, 5, 2, 5, 2, 3, 5, 5, 5, 2, 2, 5, 5, 2, 1, 3, 4, 5, 10, 3, 6, 7, 3, 3, 6, 7, 11, 4, 1, 5, 5, 5, 7, 8, 5, 2, 6, 3, 6, 9, 12, 3, 6, 1, 1, 6, 6, 7, 1, 11, 7, 5, 10, 5, 6, 8, 3, 3, 4, 5, 2, 1, 1, 6, 3, 10, 8, 10, 2, 7, 5, 5, 4, 5, 4, 5, 8, 10, 14, 3, 8, 3, 6, 7, 10, 2, 8, 9, 6, 3, 4, 1, 4, 4, 3, 3, 1, 2, 1, 5, 1, 4, 1, 2, 1, 9, 5, 2, 6, 9, 1, 8, 4, 6, 8, 9, 11, 2, 7, 2, 4, 4, 6, 5, 6, 4, 5, 3, 2, 4, 2, 4, 1, 1, 5, 3, 6, 7, 2, 3, 5, 2, 4, 4, 6, 5, 3, 6, 6, 3, 6, 6, 4, 5, 5, 8, 7, 11, 4, 6, 6, 3, 4, 2, 1, 3, 3, 3, 1, 1, 1, 1, 2, 3, 6, 7, 8, 3, 6, 3, 7, 1, 3, 4, 6, 4, 4, 7, 1, 2, 4, 6, 1, 5, 7, 2, 5, 3, 8, 7, 3, 3, 3, 4, 1, 8, 2, 3, 3, 1, 1, 1, 2, 2, 1, 1, 2, 2, 3, 5, 3, 4, 6, 5, 8, 6, 8, 3, 6, 7, 2, 3, 1, 3, 7, 4, 2, 3, 1, 5, 4, 6, 1, 1, 3, 3, 13, 7, 7, 8, 4, 7, 5, 1, 1, 2, 2, 6, 5, 3, 10, 11, 12, 3, 6, 1, 3, 4, 2, 3, 9, 1, 1, 5, 6, 6, 3, 7, 2, 4, 6, 7, 4, 6, 5, 3, 9, 5, 3, 6, 7, 4, 5, 3, 3, 8, 6, 5, 11, 3, 6, 6, 4, 8, 12, 2, 7, 5, 4, 1, 7, 3, 2, 3, 3, 2, 1, 2, 3, 5, 5, 2, 3, 1, 2, 2, 3, 1, 1, 1, 2, 7, 7, 5, 6, 6, 2, 3, 4, 6, 6, 2, 4, 2, 6, 2, 2, 2, 4, 3, 7, 8, 9, 3, 2, 4, 7, 3, 4, 5, 8, 1, 2, 3, 7, 8, 4, 3, 2, 8, 4, 4, 2, 3, 3, 5, 2, 2, 3, 4, 3, 8, 5, 3, 8, 4, 2, 1, 11, 5, 3, 3, 6, 1, 4, 6, 6, 5, 5, 3, 6, 3, 4, 4, 5, 7, 6, 6, 8, 2, 4, 4, 3, 8, 5, 6, 9, 8, 9, 3, 4, 6, 5, 8, 10, 10, 7, 10, 6, 6, 8, 9, 8, 9, 2, 2, 3, 1, 4, 3, 9, 4, 5, 5, 5, 3, 1, 4, 6, 5, 5, 3, 9, 9, 6, 3, 11, 12, 3, 5, 6, 1, 5, 3, 9, 3, 4, 6, 1, 2, 4, 5, 6, 4, 9, 13, 14, 14, 4, 4, 5, 3, 8, 7, 5, 10, 3, 4, 5, 4, 1, 2, 7, 6, 6, 3, 6, 4, 6, 3, 3, 4, 5, 2, 4, 6, 5, 6, 6, 1, 6, 5, 7, 1, 4, 5, 2, 3, 6, 7, 2, 3, 5, 4, 7, 7, 3, 6, 7, 4, 2, 7, 3, 4, 8, 2, 3, 3, 7, 5, 6, 5, 3, 5, 6, 2, 7, 3, 2, 3, 4, 3, 7, 1, 2, 2, 1, 2, 6, 2, 3, 4, 4, 5, 5, 4, 3, 7, 1, 7, 4, 3, 4, 8, 11, 7, 5, 8, 4, 7, 6, 9, 4, 4, 7, 5, 2, 3, 1, 2, 3, 1, 2, 2, 3, 2, 2, 3, 5, 3, 5, 1, 3, 7, 6, 6, 6, 8, 3, 7, 3, 1, 1, 1, 2, 2, 1, 6, 8, 10, 3, 6, 5, 6, 3, 3, 6, 4, 10, 2, 2, 6, 3, 1, 6, 4, 4, 3, 4, 3, 2, 1, 2, 1, 1, 2, 5, 7, 7, 4, 6, 9, 4, 3, 4, 5, 4, 5, 5, 1, 4, 11, 1, 9, 11, 15, 6, 8, 3, 4, 8, 4, 4, 8, 2, 3, 2, 2, 6, 5, 7, 5, 3, 5, 2, 3, 1, 4, 7, 7, 6, 10, 3, 5, 1, 6, 1, 4, 3, 2, 1, 4, 1, 4, 8, 11, 4, 3, 3, 5, 1, 2, 4, 3, 3, 1, 1, 4, 3, 5, 3, 10, 5, 11, 3, 4, 4, 2, 2, 1, 3, 3, 2, 6, 6, 3, 5, 2, 3, 3, 2, 1, 2, 3, 2, 2, 2, 6, 3, 3, 3, 3, 4, 7, 6, 4, 5, 2, 1, 1, 2, 3, 4, 5, 2, 4, 3, 4, 3, 3, 3, 5, 6, 5, 6, 5, 3, 5, 3, 2, 4, 8, 11, 3, 3, 4, 2, 4, 3, 4, 2, 3, 4, 3, 3, 5, 4, 5, 2, 4, 5, 6, 1, 1, 2, 4, 4, 3, 3, 5, 3, 3, 2, 3, 4, 3, 2, 3, 2, 3, 4, 8, 10, 2, 5, 4, 7, 6, 6, 5, 4, 4, 4, 6, 3, 2, 3, 3, 4, 5, 3, 5, 7, 4, 5, 6, 7, 8, 9, 1, 3, 1, 1, 3, 3, 5, 2, 6, 2, 6, 2, 1, 4, 3, 2, 5, 5, 2, 5, 5, 1, 4, 4, 8, 3, 1, 2, 4, 3, 5, 3, 3, 2, 3, 1, 8, 4, 3, 4, 6, 4, 5, 6, 2, 4, 2, 3, 6, 7, 3, 4, 6, 4, 3, 3, 1, 2, 8, 8, 3, 4, 2, 3, 2, 7, 3, 3, 1, 4, 5, 9, 4, 6, 11, 9, 1, 3, 4, 6, 2, 1, 1, 3, 4, 7, 2, 2, 3, 2, 1, 3, 2, 7, 1, 9, 1, 2, 1, 2, 4, 2, 2, 3, 3, 4, 1, 6, 3, 2, 2, 4, 3, 2, 7, 7, 10, 1, 8, 3, 11, 1, 8, 6, 6, 2, 5, 8, 2, 3, 7, 12, 15, 2, 3, 3, 3, 8, 8, 1, 7, 6, 8, 6, 6, 1, 2, 2, 3, 2, 5, 6, 3, 5, 2, 4, 3, 4, 5, 2, 1, 1, 1, 1, 10, 7, 4, 4, 5, 3, 5, 7, 3, 6, 1, 6, 8, 6, 5, 5, 5, 2, 2, 6, 3, 6, 5, 6, 4, 2, 3, 12, 2, 1, 4, 2, 2, 1, 4, 2, 2, 6, 1, 2, 3, 2, 4, 2, 3, 1, 3, 3, 3, 4, 2, 9, 16, 5, 6, 4, 3, 4, 4, 7, 8, 9, 6, 11, 4, 4, 6, 6, 11, 3, 8, 5, 7, 7, 8, 6, 7, 7, 7, 9, 2, 1, 3, 6, 7, 11, 2, 1, 5, 7, 2, 3, 4, 3, 3, 2, 2, 8, 2, 1, 1, 7, 9, 4, 2, 3, 2, 4, 5, 8, 6, 2, 6, 7, 3, 12, 9, 8, 10, 7, 9, 7, 6, 1, 4, 5, 6, 9, 7, 12, 7, 12, 1, 4, 6, 9, 5, 11, 4, 4, 9, 10, 5, 4, 3, 2, 2, 4, 3, 3, 10, 6, 7, 5, 6, 1, 6, 1, 7, 4, 2, 4, 2, 6, 2, 4, 7, 6, 8, 4, 5, 4, 4, 4, 4, 7, 6, 3, 2, 3, 3, 6, 7, 8, 1, 1, 6, 5, 9, 7, 7, 12, 2, 3, 5, 2, 1, 2, 1, 7, 13, 4, 7, 2, 4, 2, 4, 2, 3, 5, 6, 5, 5, 1, 1, 6, 4, 5, 2, 7, 5, 8, 3, 4, 6, 4, 7, 3, 4, 3, 5, 1, 4, 10, 11, 6, 6, 10, 1, 5, 4, 4, 3, 3, 2, 5, 1, 3, 3, 3, 4, 4, 5, 7, 7, 1, 4, 4, 6, 9, 4, 5, 6, 5, 4, 6, 1, 5, 4, 2, 2, 4, 8, 5, 7, 8, 6, 2, 6, 9, 5, 4, 12, 3, 3, 3, 8, 7, 10, 7, 4, 6, 10, 3, 4, 3, 3, 1, 2, 2, 3, 5, 5, 2, 4, 1, 2, 2, 1, 1, 3, 4, 2, 5, 2, 3, 4, 3, 2, 2, 4, 7, 9, 2, 2, 5, 3, 2, 6, 8, 1, 1, 1, 2, 3, 3, 8, 7, 8, 3, 7, 2, 3, 2, 1, 3, 8, 7, 8, 2, 4, 4, 5, 6, 5, 5, 8, 2, 4, 8, 6, 4, 11, 4, 3, 1, 2, 4, 2, 2, 9, 2, 2, 1, 3, 3, 2, 2, 2, 3, 2, 1, 2, 1, 2, 1, 4, 1, 2, 2, 4, 2, 4, 1, 2, 2, 1, 3, 2, 6, 6, 8, 3, 8, 3, 2, 3, 5, 1, 1, 2, 6, 7, 3, 3, 4, 2, 1, 3, 2, 4, 4, 2, 2, 4, 6, 4, 1, 2, 2, 2, 1, 2, 6, 8, 2, 1, 4, 5, 1, 2, 1, 5, 1, 1, 4, 3, 5, 1, 3, 2, 3, 1, 2, 4, 4, 7, 9, 6, 4, 4, 1, 4, 2, 2, 5, 3, 6, 5, 7, 9, 7, 6, 6, 7, 4, 3, 5, 4, 8, 14, 11, 11, 3, 2, 1, 3, 4, 5, 4, 3, 10, 6, 4, 5, 2, 3, 2, 1, 3, 4, 7, 8, 2, 3, 2, 2, 3, 2, 7, 6, 1, 4, 6, 4, 6, 1, 2, 5, 3, 6, 4, 4, 6, 1, 2, 2, 9, 2, 2, 4, 5, 1, 2, 3, 9, 2, 3, 7, 7, 3, 3, 1, 4, 3, 3, 3, 4, 6, 8, 8, 8, 4, 4, 3, 6, 2, 11, 6, 9, 4, 5, 1, 4, 1, 7, 10, 4, 5, 8, 10, 12, 18, 9, 9, 7, 11, 6, 9, 2, 1, 2, 3, 4, 3, 4, 2, 1, 2, 1, 4, 3, 3, 1, 6, 6, 9, 1, 2, 3, 1, 5, 1, 1, 6, 5, 1, 2, 1, 4, 9, 4, 3, 2, 3, 2, 1, 6, 3, 6, 1, 3, 2, 5, 5, 6, 7, 1, 2, 3, 4, 3, 3, 9, 6, 7, 3, 2, 2, 5, 7, 11, 4, 5, 6, 5, 2, 5, 7, 2, 2, 3, 4, 3, 3, 4, 8, 5, 3, 6, 8, 5, 4, 4, 3, 1, 3, 2, 8, 5, 5, 7, 5, 6, 1, 7, 8, 10, 10, 6, 10, 9, 9, 6, 8, 12, 7, 10, 5, 5, 4, 8, 5, 5, 4, 2, 1, 2, 3, 3, 4, 4, 2, 4, 4, 3, 6, 7, 5, 5, 10, 1, 2, 5, 6, 8, 9, 2, 4, 5, 3, 5, 4, 5, 8, 3, 8, 8, 3, 4, 4, 12, 2, 4, 5, 4, 9, 4, 5, 1, 3, 4, 1, 7, 2, 6, 6, 1, 3, 3, 3, 4, 3, 2, 3, 2, 4, 7, 6, 5, 6, 3, 7, 13, 1, 5, 10, 6, 3, 4, 15, 12, 3, 8, 7, 6, 6, 2, 10, 2, 2, 5, 2, 9, 1, 2, 1, 5, 10, 8, 6, 7, 3, 8, 11, 13, 9, 10, 3, 3, 6, 2, 2, 12, 3, 3, 8, 9, 12, 2, 3, 8, 2, 2, 2, 2, 5, 8, 8, 5, 4, 4, 2, 3, 2, 5, 3, 12, 3, 5, 4, 6, 7, 9, 2, 1, 5, 2, 6, 2, 5, 5, 3, 5, 7, 11, 12, 12, 5, 11, 2, 4, 2, 4, 2, 3, 6, 5, 4, 3, 6, 7, 1, 6, 4, 10, 9, 9, 3, 3, 5, 2, 3, 10, 5, 3, 6, 4, 6, 9, 8, 2, 9, 5, 14, 6, 7, 3, 3, 2, 11, 3, 3, 5, 3, 9, 10, 3, 4, 4, 2, 8, 11, 2, 8, 5, 6, 2, 7, 4, 5, 6, 9, 2, 4, 3, 4, 3, 1, 1, 4, 2, 3, 5, 5, 3, 14, 8, 6, 3, 8, 4, 3, 2, 2, 3, 2, 2, 7, 7, 8, 2, 3, 3, 1, 2, 5, 6, 2, 1, 3, 5, 8, 5, 7, 6, 6, 3, 6, 9, 9, 9, 2, 5, 2, 9, 9, 6, 5, 18, 7, 7, 3, 4, 1, 8, 7, 4, 5, 11, 3, 2, 7, 5, 7, 4, 5, 10, 11, 3, 4, 4, 4, 4, 7, 12, 7, 4, 4, 3, 9, 4, 8, 5, 2, 4, 2, 3, 5, 3, 7, 8, 2, 6, 2, 13, 11, 11, 5, 5, 4, 3, 4, 2, 7, 2, 6, 1, 8, 1, 1, 1, 1, 4, 3, 2, 3, 4, 6, 4, 8, 5, 8, 2, 4, 3, 4, 2, 5, 10, 4, 4, 1, 1, 3, 6, 6, 3, 3, 8, 3, 1, 6, 7, 13, 2, 12, 6, 3, 1, 2, 1, 2, 5, 3, 4, 5, 2, 5, 3, 4, 5, 1, 3, 4, 4, 1, 6, 8, 5, 11, 3, 5, 3, 5, 2, 6, 2, 3, 5, 1, 6, 9, 2, 7, 5, 8, 6, 1, 4, 1, 3, 2, 2, 2, 2, 2, 4, 2, 2, 5, 7, 4, 3, 5, 6, 4, 4, 6, 4, 3, 4, 5, 5, 5, 2, 2, 4, 9, 10, 3, 3, 5, 4, 2, 2, 2, 1, 4, 1, 2, 2, 2, 1, 2, 2, 6, 1, 3, 2, 2, 2, 3, 2, 2, 2, 2, 6, 4, 10, 11, 11, 2, 3, 3, 3, 4, 6, 7, 10, 4, 6, 5, 3, 4, 9, 7, 7, 2, 2, 3, 10, 1, 1, 5, 8, 3, 3, 3, 3, 1, 6, 2, 5, 1, 1, 3, 2, 4, 4, 5, 5, 1, 5, 5, 4, 5, 4, 1, 3, 8, 6, 7, 5, 5, 6, 5, 4, 10, 6, 5, 7, 2, 4, 4, 11, 4, 8, 2, 4, 3, 3, 8, 9, 7, 8, 6, 1, 8, 2, 5, 6, 2, 4, 2, 3, 9, 2, 1, 3, 1, 3, 2, 7, 4, 6, 4, 4, 3, 2, 2, 3, 2, 6, 4, 2, 3, 2, 9, 8, 7, 3, 2, 4, 2, 4, 4, 4, 6, 7, 8, 4, 7, 4, 3, 6, 8, 1, 2, 2, 3, 6, 4, 5, 7, 2, 2, 3, 1, 2, 4, 5, 1, 2, 4, 3, 1, 2, 3, 1, 7, 9, 6, 2, 9, 3, 3, 2, 5, 4, 3, 3, 10, 7, 2, 6, 9, 2, 3, 4, 8, 6, 6, 4, 5, 3, 4, 5, 8, 13, 2, 7, 7, 9, 1, 4, 9, 3, 6, 9, 8, 11, 12, 6, 7, 12, 2, 1, 1, 10, 3, 5, 7, 5, 3, 5, 4, 2, 12, 2, 5, 3, 8, 4, 2, 8, 5, 6, 9, 5, 10, 13, 5, 6, 2, 5, 14, 5, 4, 8, 1, 1, 5, 4, 1, 8, 2, 3, 7, 7, 4, 1, 7, 3, 7, 13, 2, 3, 10, 3, 8, 11, 3, 6, 8, 9, 3, 7, 3, 3, 7, 3, 6, 6, 8, 1, 7, 3, 3, 3, 5, 5, 3, 5, 10, 3, 17, 2, 5, 3, 1, 4, 6, 8, 5, 4, 6, 3, 9, 4, 9, 4, 5, 1, 3, 6, 1, 5, 1, 4, 4, 4, 7, 4, 3, 10, 3, 2, 4, 4, 7, 2, 5, 1, 3, 7, 7, 4, 5, 3, 9, 13, 11, 10, 1, 3, 1, 6, 2, 4, 5, 5, 3, 3, 3, 9, 6, 5, 6, 9, 11, 1, 4, 4, 1, 3, 3, 6, 6, 7, 6, 6, 8, 9, 1, 3, 3, 3, 3, 5, 5, 6, 6, 5, 4, 6, 6, 2, 3, 2, 2, 4, 1, 4, 8, 3, 2, 5, 4, 3, 8, 2, 2, 3, 2, 2, 3, 5, 3, 2, 4, 5, 2, 4, 5, 7, 2, 7, 1, 4, 7, 4, 3, 4, 9, 10, 1, 7, 2, 1, 5, 4, 4, 10, 3, 9, 1, 5, 3, 4, 1, 5, 7, 4, 4, 2, 1, 4, 7, 6, 1, 5, 5, 5, 4, 8, 6, 3, 3, 3, 3, 4, 5, 7, 16, 7, 6, 1, 3, 3, 5, 6, 2, 4, 8, 9, 6, 9, 1, 6, 3, 3, 2, 1, 1, 5, 5, 7, 8, 2, 1, 6, 6, 6, 5, 8, 1, 6, 3, 3, 2, 6, 2, 10, 4, 4, 1, 6, 1, 4, 2, 2, 2, 2, 5, 2, 1, 2, 2, 1, 4, 6, 8, 8, 2, 1, 1, 2, 6, 2, 4, 3, 3, 5, 3, 3, 4, 3, 3, 1, 2, 2, 4, 1, 5, 2, 4, 3, 5, 2, 1, 4, 6, 6, 1, 4, 5, 1, 6, 4, 5, 6, 5, 5, 8, 1, 2, 3, 11, 1, 2, 2, 1, 8, 1, 1, 3, 1, 3, 2, 3, 2, 4, 7, 3, 5, 4, 5, 1, 2, 1, 3, 3, 1, 3, 4, 4, 6, 2, 2, 6, 2, 4, 3, 10, 3, 7, 1, 4, 5, 2, 1, 3, 5, 3, 7, 3, 3, 4, 1, 8, 3, 3, 3, 5, 4, 3, 4, 2, 1, 1, 2, 2, 5, 2, 7, 3, 6, 2, 7, 5, 8, 8, 3, 6, 4, 2, 2, 4, 4, 4, 3, 3, 5, 2, 1, 1, 7, 3, 6, 4, 4, 1, 6, 7, 6, 7, 7, 5, 4, 4, 5, 5, 6, 4, 4, 2, 6, 5, 3, 2, 2, 7, 1, 6, 9, 14, 2, 1, 2, 2, 10, 3, 8, 11, 5, 13, 9, 13, 3, 1, 4, 10, 1, 5, 4, 4, 5, 3, 7, 2, 2, 6, 8, 5, 5, 8, 13, 17, 2, 2, 3, 6, 10, 3, 3, 2, 6, 9, 2, 3, 6, 5, 2, 7, 3, 5, 2, 2, 2, 1, 4, 6, 8, 3, 9, 2, 1, 1, 1, 7, 5, 8, 7, 6, 8, 4, 7, 6, 6, 8, 3, 7, 7, 4, 3, 1, 9, 3, 8, 6, 6, 9, 9, 5, 1, 1, 8, 4, 8, 4, 3, 6, 3, 5, 4, 5, 5, 6, 1, 3, 1, 8, 3, 7, 9, 4, 5, 3, 5, 5, 12, 2, 2, 5, 3, 9, 2, 4, 7, 11, 15, 9, 16, 4, 5, 9, 5, 3, 4, 1, 8, 1, 6, 5, 6, 6, 3, 9, 5, 4, 4, 4, 5, 6, 7, 11, 4, 4, 4, 6, 9, 5, 8, 3, 3, 4, 10, 4, 2, 7, 3, 6, 3, 6, 7, 7, 6, 3, 4, 7, 8, 4, 5, 5, 7, 8, 6, 5, 1, 3, 3, 9, 3, 2, 3, 3, 2, 5, 4, 6, 2, 2, 10, 6, 6, 10, 8, 9, 2, 5, 2, 7, 7, 15, 1, 2, 8, 8, 15, 18, 6, 7, 6, 9, 4, 5, 2, 3, 2, 5, 6, 3, 4, 4, 1, 12, 6, 2, 3, 7, 4, 6, 1, 4, 3, 6, 5, 13, 1, 9, 3, 7, 6, 7, 4, 5, 4, 4, 11, 1, 3, 5, 2, 8, 7, 4, 5, 6, 1, 6, 3, 8, 1, 7, 2, 4, 4, 4, 5, 5, 2, 8, 6, 1, 8, 5, 6, 1, 2, 2, 9, 3, 3, 5, 7, 8, 9, 8, 10, 6, 2, 4, 10, 2, 4, 3, 3, 8, 8, 8, 2, 2, 1, 6, 1, 9, 2, 2, 5, 1, 3, 5, 5, 2, 2, 5, 6, 4, 6, 6, 8, 4, 3, 3, 3, 3, 7, 5, 11, 7, 5, 1, 2, 1, 1, 2, 4, 4, 6, 4, 3, 4, 4, 2, 2, 1, 1, 3, 2, 7, 6, 7, 3, 6, 4, 5, 5, 5, 5, 6, 5, 5, 7, 9, 4, 1, 9, 2, 4, 7, 8, 10, 1, 3, 4, 11, 4, 5, 4, 6, 2, 3, 4, 5, 1, 8, 9, 8, 9, 2, 5, 5, 11, 4, 3, 3, 3, 1, 1, 11, 7, 5, 5, 6, 7, 10, 11, 9, 2, 5, 4, 6, 8, 8, 9, 1, 3, 6, 3, 6, 6, 1, 4, 1, 1, 2, 3, 3, 2, 4, 5, 2, 6, 7, 3, 6, 8, 8, 2, 3, 1, 4, 2, 5, 4, 2, 5, 6, 2, 2, 2, 6, 4, 7, 8, 3, 5, 7, 4, 3, 6, 2, 2, 5, 2, 4, 10, 10, 13, 13, 6, 2, 3, 4, 4, 5, 1, 4, 1, 9, 2, 1, 11, 7, 9, 4, 10, 4, 2, 4, 4, 4, 1, 5, 2, 3, 3, 4, 8, 9, 10, 9, 8, 2, 4, 2, 5, 8, 3, 6, 9, 6, 3, 6, 6, 2, 5, 3, 4, 3, 8, 5, 3, 9, 9, 4, 2, 3, 3, 5, 2, 8, 6, 10, 5, 1, 1, 1, 9, 3, 3, 4, 6, 6, 3, 2, 6, 9, 4, 5, 9, 3, 4, 2, 2, 2, 4, 4, 5, 3, 4, 1, 3, 6, 7, 6, 5, 6, 5, 7, 6, 7, 3, 1, 4, 2, 3, 5, 6, 5, 4, 3, 3, 4, 2, 2, 6, 8, 7, 8, 11, 7, 6, 3, 5, 1, 3, 4, 5, 4, 7, 2, 2, 1, 4, 3, 4, 7, 2, 3, 4, 12, 2, 4, 3, 2, 4, 2, 2, 3, 2, 6, 3, 2, 1, 5, 3, 4, 3, 4, 5, 3, 3, 5, 3, 7, 1, 2, 2, 4, 5, 6, 3, 4, 4, 1, 8, 2, 5, 2, 3, 2, 2, 1, 8, 6, 2, 2, 5, 2, 3, 4, 3, 4, 6, 4, 1, 3, 4, 6, 3, 2, 2, 4, 6, 6, 1, 4, 1, 11, 10, 1, 2, 7, 5, 4, 3, 5, 3, 2, 5, 6, 7, 2, 5, 7, 4, 9, 4, 6, 5, 5, 3, 5, 6, 1, 3, 1, 4, 9, 5, 2, 6, 3, 5, 5, 4, 3, 3, 5, 2, 5, 5, 3, 4, 3, 1, 3, 2, 2, 3, 2, 4, 6, 4, 6, 2, 3, 1, 4, 5, 2, 2, 7, 5, 3, 4, 1, 3, 4, 3, 5, 1, 5, 7, 10, 6, 7, 10, 10, 4, 10, 1, 6, 8, 3, 2, 1, 3, 2, 4, 6, 3, 2, 3, 12, 1, 8, 6, 8, 2, 1, 5, 7, 6, 7, 3, 3, 4, 4, 6, 8, 10, 5, 2, 2, 1, 1, 1, 5, 7, 5, 12, 4, 1, 8, 4, 9, 2, 3, 5, 2, 4, 3, 2, 6, 3, 1, 5, 11, 7, 4, 7, 5, 9, 3, 8, 3, 8, 12, 2, 3, 3, 3, 7, 2, 6, 6, 1, 7, 1, 4, 4, 3, 9, 5, 8, 3, 4, 4, 1, 7, 5, 9, 1, 6, 4, 4, 2, 3, 1, 7, 3, 6, 2, 6, 1, 5, 6, 2, 3, 3, 4, 3, 1, 4, 5, 4, 2, 6, 2, 4, 3, 4, 4, 6, 9, 5, 6, 3, 1, 4, 4, 4, 6, 2, 3, 1, 5, 1, 2, 4, 5, 5, 6, 6, 6, 5, 3, 3, 6, 2, 3, 1, 3, 4, 4, 8, 9, 4, 5, 5, 1, 3, 11, 10, 1, 5, 5, 3, 1, 3, 3, 5, 3, 5, 6, 2, 2, 3, 3, 2, 3, 3, 5, 3, 5, 4, 1, 2, 6, 1, 3, 10, 4, 5, 4, 3, 1, 2, 1, 1, 3, 2, 3, 3, 1, 5, 5, 1, 3, 5, 2, 8, 3, 3, 1, 1, 1, 6, 9, 1, 1, 2, 8, 5, 6, 5, 8, 3, 8, 4, 5, 1, 4, 3, 3, 1, 1, 1, 1, 6, 3, 1, 2, 3, 4, 5, 4, 4, 3, 2, 5, 2, 5, 3, 3, 5, 3, 5, 4, 2, 3, 2, 4, 5, 2, 5, 4, 4, 5, 3, 3, 3, 4, 7, 3, 7, 3, 3, 2, 1, 2, 1, 6, 4, 3, 2, 2, 1, 2, 1, 5, 2, 7, 6, 5, 4, 1, 6, 3, 3, 6, 10, 2, 2, 2, 5, 4, 5, 7, 1, 1, 2, 3, 4, 1, 3, 1, 6, 3, 1, 3, 3, 1, 9, 3, 6, 7, 10, 13, 6, 10, 3, 5, 10, 3, 5, 7, 5, 5, 5, 2, 3, 3, 3, 8, 10, 4, 5, 7, 6, 7, 3, 5, 3, 5, 4, 4, 4, 7, 4, 6, 8, 8, 3, 5, 3, 2, 4, 4, 4, 4, 2, 6, 10, 12, 12, 11, 14, 7, 2, 8, 2, 9, 2, 4, 2, 8, 3, 5, 3, 3, 2, 6, 2, 1, 5, 6, 3, 1, 5, 6, 4, 6, 1, 1, 5, 3, 3, 1, 2, 1, 1, 5, 7, 6, 8, 7, 6, 5, 3, 3, 3, 3, 4, 7, 7, 4, 2, 2, 3, 2, 1, 1, 8, 5, 3, 4, 7, 5, 4, 1, 10, 12, 4, 8, 9, 4, 6, 3, 1, 6, 6, 7, 3, 4, 6, 5, 6, 11, 3, 3, 2, 4, 5, 1, 4, 4, 1, 1, 1, 4, 5, 1, 1, 2, 2, 4, 4, 3, 8, 2, 2, 4, 4, 3, 3, 2, 2, 4, 2, 1, 4, 1, 6, 5, 2, 4, 1, 2, 1, 4, 6, 4, 6, 2, 1, 4, 3, 3, 3, 5, 5, 2, 3, 5, 6, 3, 1, 4, 3, 4, 4, 8, 3, 3, 6, 1, 4, 1, 4, 4, 1, 2, 8, 5, 5, 3, 5, 10, 2, 2, 4, 5, 10, 12, 1, 10, 4, 2, 1, 1, 5, 5, 7, 2, 4, 7, 2, 3, 5, 1, 2, 1, 1, 5, 1, 7, 2, 5, 1, 5, 2, 1, 2, 2, 2, 3, 7, 1, 3, 16, 16, 20, 4, 5, 11, 3, 8, 4, 5, 1, 1, 1, 4, 8, 5, 2, 7, 4, 7, 8, 1, 2, 3, 3, 5, 3, 5, 2, 6, 8, 11, 3, 1, 2, 1, 2, 2, 7, 8, 5, 3, 4, 5, 6, 2, 2, 8, 4, 1, 1, 4, 2, 1, 1, 1, 4, 4, 4, 1, 3, 6, 3, 2, 3, 7, 1, 5, 3, 1, 6, 4, 2, 5, 3, 4, 6, 3, 4, 4, 4, 3, 7, 6, 10, 8, 8, 10, 2, 5, 6, 1, 5, 1, 1, 9, 5, 4, 14, 7, 3, 7, 8, 5, 2, 1, 4, 2, 6, 7, 5, 2, 5, 1, 2, 5, 1, 2, 7, 1, 4, 3, 4, 3, 5, 2, 5, 5, 2, 3, 1, 7, 12, 5, 5, 2, 1, 6, 6, 4, 8, 10, 10, 11, 4, 6, 3, 1, 2, 5, 9, 13, 3, 1, 1, 4, 2, 3, 2, 1, 2, 3, 4, 4, 2, 1, 5, 3, 7, 9, 3, 4, 2, 4, 7, 2, 2, 1, 4, 1, 1, 1, 2, 6, 5, 2, 4, 4, 3, 3, 1, 1, 3, 5, 6, 11, 5, 5, 1, 2, 2, 3, 3, 1, 5, 7, 6, 6, 12, 3, 5, 6, 9, 2, 3, 1, 4, 1, 1, 1, 6, 5, 10, 3, 4, 2, 6, 7, 6, 11, 1, 2, 1, 2, 5, 9, 2, 5, 5, 6, 5, 5, 7, 4, 1, 5, 7, 9, 6, 4, 5, 4, 5, 8, 5, 6, 5, 9, 1, 6, 2, 3, 6, 7, 6, 2, 4, 7, 1, 5, 7, 5, 1, 6, 7, 3, 1, 3, 4, 4, 3, 5, 4, 7, 3, 7, 6, 12, 12, 9, 11, 2, 13, 2, 2, 2, 5, 5, 7, 3, 3, 11, 10, 4, 10, 10, 8, 6, 8, 10, 7, 3, 5, 3, 6, 6, 3, 7, 8, 4, 4, 5, 8, 1, 11, 8, 10, 2, 2, 2, 5, 3, 3, 7, 7, 7, 11, 3, 4, 6, 4, 3, 5, 4, 6, 8, 3, 6, 3, 4, 9, 13, 6, 1, 1, 8, 3, 5, 2, 2, 3, 3, 4, 3, 2, 3, 5, 6, 8, 6, 6, 10, 15, 2, 5, 6, 4, 5, 5, 3, 7, 3, 8, 7, 6, 2, 9, 1, 12, 5, 8, 4, 12, 7, 11, 7, 11, 11, 11, 6, 14, 4, 3, 8, 3, 8, 8, 9, 2, 5, 9, 8, 4, 4, 4, 4, 2, 7, 4, 9, 6, 7, 3, 8, 6, 6, 1, 3, 9, 7, 9, 5, 2, 13, 14, 6, 7, 6, 3, 4, 1, 2, 1, 3, 1, 2, 2, 4, 6, 7, 5, 2, 6, 8, 8, 5, 3, 5, 2, 3, 3, 3, 3, 2, 3, 2, 3, 6, 3, 2, 3, 2, 4, 4, 2, 4, 5, 5, 1, 4, 4, 4, 3, 4, 3, 4, 1, 3, 6, 1, 7, 1, 2, 5, 1, 5, 9, 4, 10, 8, 6, 12, 2, 5, 8, 2, 3, 4, 7, 5, 4, 5, 5, 2, 2, 4, 3, 5, 7, 2, 2, 4, 9, 4, 2, 4, 7, 3, 3, 3, 4, 1, 8, 4, 4, 6, 6, 4, 1, 7, 6, 5, 5, 7, 2, 5, 2, 7, 7, 4, 5, 8, 4, 5, 2, 3, 2, 9, 4, 7, 2, 2, 1, 1, 2, 3, 2, 2, 1, 4, 7, 4, 7, 5, 8, 4, 3, 1, 11, 4, 1, 3, 1, 4, 3, 3, 1, 4, 6, 7, 1, 3, 3, 5, 6, 9, 6, 7, 2, 5, 3, 2, 3, 1, 2, 5, 2, 2, 2, 3, 6, 2, 4, 8, 10, 3, 5, 4, 7, 7, 8, 11, 10, 2, 1, 11, 7, 11, 3, 3, 3, 4, 6, 9, 3, 2, 1, 7, 3, 1, 2, 2, 7, 1, 1, 4, 2, 3, 2, 4, 3, 5, 6, 2, 4, 3, 5, 6, 4, 3, 6, 5, 4, 9, 8, 7, 2, 3, 1, 1, 1, 1, 7, 3, 1, 3, 4, 4, 3, 8, 4, 5, 1, 5, 4, 3, 1, 2, 4, 1, 2, 4, 1, 3, 7, 2, 2, 2, 3, 2, 2, 6, 2, 5, 1, 3, 2, 3, 3, 1, 1, 1, 3, 1, 2, 2, 2, 2, 2, 3, 5, 1, 3, 3, 1, 6, 4, 3, 4, 3, 4, 2, 3, 4, 2, 5, 2, 5, 3, 5, 4, 1, 8, 4, 2, 1, 3, 2, 1, 4, 4, 6, 1, 2, 2, 3, 1, 8, 4, 2, 7, 2, 2, 4, 2, 1, 1, 2, 2, 5, 4, 3, 9, 15, 4, 4, 4, 5, 2, 5, 9, 4, 2, 4, 3, 2, 1, 1, 3, 2, 3, 5, 1, 2, 7, 6, 2, 1, 1, 2, 4, 2, 1, 6, 3, 3, 3, 4, 1, 4, 7, 3, 4, 3, 7, 2, 7, 4, 2, 3, 3, 7, 10, 1, 1, 1, 1, 5, 4, 2, 3, 1, 3, 5, 3, 3, 7, 2, 7, 7, 9, 4, 7, 1, 2, 8, 4, 4, 5, 9, 8, 3, 4, 1, 4, 7, 8, 6, 7, 6, 4, 4, 4, 1, 7, 1, 6, 5, 1, 2, 3, 4, 2, 4, 1, 2, 2, 1, 1, 3, 6, 4, 1, 3, 3, 7, 8, 9, 10, 3, 1, 2, 2, 7, 7, 1, 6, 4, 13, 9, 4, 4, 5, 7, 7, 3, 2, 6, 5, 5, 6, 10, 10, 1, 1, 4, 2, 2, 1, 4, 5, 7, 1, 2, 2, 5, 3, 7, 4, 6, 1, 3, 2, 1, 1, 2, 1, 1, 2, 5, 2, 7, 2, 6, 3, 3, 1, 2, 2, 1, 4, 3, 1, 3, 2, 3, 4, 4, 1, 2, 4, 5, 6, 6, 7, 2, 5, 6, 3, 3, 3, 2, 3, 5, 3, 6, 3, 2, 1, 5, 1, 3, 3, 3, 3, 3, 4, 11, 1, 2, 3, 2, 2, 1, 1, 2, 2, 3, 4, 3, 2, 2, 4, 3, 3, 3, 6, 3, 2, 2, 2, 1, 2, 3, 3, 5, 1, 4, 7, 2, 2, 4, 4, 2, 3, 2, 2, 2, 2, 2, 3, 2, 4, 1, 4, 6, 6, 2, 3, 3, 4, 2, 3, 4, 4, 4, 2, 3, 2, 1, 3, 2, 3, 2, 4, 1, 5, 4, 1, 3, 3, 2, 2, 2, 1, 2, 1, 2, 1, 8, 2, 2, 6, 1, 2, 1, 1, 2, 2, 2, 2, 4, 2, 2, 2, 1, 1, 1, 2, 1, 1, 2, 1, 2, 3, 4, 2, 6, 5, 2, 3, 3, 4, 2, 3, 4, 1, 3, 3, 5, 2, 3, 1, 1, 1, 1, 1, 1, 3, 2, 3, 4, 1, 1, 3, 2, 5, 8, 3, 3, 3, 5, 4, 3, 4, 3, 2, 6, 1, 3, 3, 5, 5, 2, 2, 2, 1, 2, 3, 3, 3, 2, 3, 3, 2, 3, 1, 2, 2, 3, 3, 3, 2, 4, 5, 5, 2, 3, 5, 2, 4, 1, 3, 4, 2, 2, 4, 3, 3, 2, 3, 2, 1, 1, 2, 1, 2, 2, 2, 2, 5, 5, 4, 3, 7, 2, 7, 7, 1, 2, 2, 1, 2, 2, 1, 2, 2, 1, 2, 1, 2, 2, 2, 4, 2, 2, 2, 1, 3, 1, 3, 2, 1, 2, 2, 3, 1, 1, 1, 1, 3, 2, 1, 2, 3, 1, 2, 2, 4, 2, 3, 3, 8, 1, 1, 4, 7, 5, 7, 3, 4, 3, 1, 2, 2, 1, 3, 2, 1, 5, 4, 2, 2, 3, 3, 3, 1, 2, 5, 2, 3, 2, 3, 4, 6, 5, 3, 3, 3, 3, 1, 3, 4, 6, 2, 5, 4, 2, 2, 4, 2, 3, 2, 1, 1, 3, 3, 2, 4, 1, 4, 2, 4, 2, 4, 3, 1, 3, 5, 8, 9, 3, 7, 1, 9, 6, 5, 7, 7, 11, 3, 5, 5, 7, 4, 7, 2, 9, 10, 5, 6, 12, 4, 4, 2, 1, 4, 1, 2, 1, 2, 2, 4, 3, 1, 1, 7, 1, 10, 5, 5, 1, 6, 5, 5, 2, 5, 7, 2, 4, 1, 1, 5, 4, 5, 6, 9, 3, 5, 3, 3, 3, 5, 7, 5, 8, 6, 8, 6, 5, 5, 3, 8, 5, 8, 3, 4, 4, 3, 3, 3, 5, 1, 4, 1, 4, 6, 7, 2, 2, 3, 3, 3, 2, 4, 2, 4, 7, 3, 3, 2, 1, 1, 1, 1, 8, 3, 1, 1, 8, 11, 3, 3, 7, 1, 7, 1, 5, 5, 2, 7, 2, 3, 2, 2, 2, 4, 4, 4, 1, 3, 7, 2, 4, 2, 1, 4, 8, 7, 8, 5, 2, 3, 2, 3, 2, 1, 3, 2, 1, 2, 6, 4, 5, 5, 1, 5, 5, 6, 4, 2, 4, 2, 3, 2, 1, 6, 6, 9, 11, 7, 10, 6, 6, 11, 1, 3, 2, 1, 3, 3, 5, 3, 4, 4, 5, 4, 1, 3, 4, 6, 6, 12, 9, 4, 4, 4, 5, 4, 2, 2, 1, 5, 8, 2, 2, 5, 3, 7, 4, 5, 6, 4, 1, 4, 5, 5, 6, 4, 1, 5, 4, 5, 2, 5, 14, 10, 4, 4, 6, 3, 3, 4, 2, 2, 5, 5, 13, 13, 4, 6, 11, 3, 5, 3, 4, 11, 5, 6, 4, 3, 3, 4, 12, 5, 1, 5, 6, 3, 9, 3, 10, 8, 4, 6, 2, 3, 2, 1, 9, 2, 2, 4, 3, 2, 3, 3, 3, 4, 2, 1, 2, 2, 3, 4, 2, 2, 1, 4, 6, 2, 4, 6, 3, 5, 6, 7, 3, 5, 3, 3, 1, 4, 3, 3, 5, 1, 2, 6, 3, 14, 5, 8, 7, 3, 9, 6, 7, 9, 6, 2, 1, 7, 1, 2, 2, 3, 4, 2, 2, 7, 1, 2, 3, 2, 2, 4, 9, 5, 5, 9, 7, 8, 3, 4, 5, 7, 2, 5, 5, 2, 2, 2, 2, 7, 5, 7, 2, 4, 1, 11, 3, 1, 5, 2, 3, 14, 1, 8, 9, 10, 11, 5, 2, 6, 3, 7, 16, 10, 4, 8, 3, 3, 3, 1, 2, 3, 1, 5, 5, 5, 4, 4, 6, 9, 2, 3, 1, 4, 4, 4, 3, 5, 3, 2, 8, 3, 2, 2, 2, 1, 3, 5, 3, 5, 1, 4, 5, 5, 5, 6, 3, 4, 7, 7, 3, 5, 1, 7, 5, 4, 8, 3, 2, 8, 7, 1, 4, 5, 4, 4, 7, 2, 1, 4, 4, 6, 1, 2, 4, 5, 8, 5, 11, 12, 5, 9, 2, 2, 6, 7, 5, 5, 1, 6, 7, 8, 1, 1, 3, 7, 8, 11, 3, 7, 1, 1, 4, 5, 5, 5, 4, 3, 6, 4, 4, 4, 5, 4, 4, 7, 3, 6, 1, 6, 4, 2, 3, 3, 3, 4, 3, 3, 5, 4, 8, 5, 10, 5, 5, 9, 8, 12, 3, 4, 2, 1, 8, 2, 1, 4, 3, 4, 13, 5, 3, 8, 4, 3, 4, 3, 4, 8, 4, 9, 1, 3, 2, 3, 2, 1, 1, 3, 3, 9, 1, 2, 4, 2, 4, 4, 5, 6, 5, 7, 9, 9, 7, 9, 11, 11, 11, 12, 4, 5, 4, 2, 4, 4, 2, 4, 3, 2, 4, 2, 2, 1, 4, 5, 6, 4, 3, 7, 4, 5, 3, 2, 1, 4, 3, 6, 6, 4, 6, 5, 7, 2, 4, 4, 4, 4, 1, 3, 3, 2, 3, 5, 2, 5, 2, 8, 7, 2, 2, 4, 4, 3, 3, 4, 2, 1, 7, 3, 2, 5, 2, 6, 3, 3, 5, 7, 6, 7, 6, 3, 5, 4, 2, 2, 3, 7, 6, 3, 4, 3, 1, 1, 4, 4, 4, 7, 3, 6, 9, 1, 1, 4, 1, 1, 1, 1, 2, 1, 3, 1, 5, 2, 5, 3, 5, 1, 1, 5, 2, 1, 2, 2, 3, 2, 4, 2, 3, 4, 6, 7, 8, 4, 7, 10, 11, 13, 3, 3, 3, 1, 3, 3, 4, 1, 1, 1, 6, 10, 3, 3, 6, 4, 3, 4, 10, 3, 5, 3, 9, 7, 4, 9, 5, 3, 6, 2, 3, 3, 3, 1, 4, 2, 5, 3, 8, 2, 10, 10, 4, 6, 1, 1, 8, 4, 3, 2, 6, 1, 1, 4, 9, 2, 2, 2, 4, 3, 3, 1, 4, 3, 1, 2, 2, 4, 2, 4, 3, 3, 3, 2, 4, 4, 9, 9, 14, 1, 3, 8, 2, 5, 1, 7, 2, 2, 7, 2, 6, 4, 4, 2, 5, 7, 5, 5, 3, 1, 3, 4, 11, 3, 4, 5, 4, 4, 1, 3, 2, 9, 6, 9, 4, 2, 4, 1, 6, 8, 1, 5, 5, 2, 10, 2, 6, 2, 2, 4, 2, 4, 8, 14, 2, 2, 2, 5, 5, 3, 3, 2, 1, 3, 2, 4, 2, 6, 1, 2, 3, 1, 6, 5, 3, 7, 10, 3, 1, 7, 6, 3, 7, 6, 13, 10, 4, 7, 10, 14, 1, 5, 2, 7, 7, 1, 5, 7, 8, 5, 8, 11, 5, 7, 5, 14, 5, 6, 10, 9, 3, 9, 13, 2, 5, 3, 11, 4, 3, 3, 3, 4, 3, 4, 7, 9, 5, 8, 11, 13, 15, 2, 11, 4, 7, 6, 1, 8, 3, 5, 12, 2, 7, 7, 9, 8, 13, 4, 5, 4, 10, 4, 5, 6, 5, 2, 2, 2, 8, 2, 4, 4, 4, 6, 5, 2, 5, 3, 2, 4, 5, 2, 2, 4, 2, 3, 4, 3, 4, 9, 9, 8, 4, 1, 2, 4, 5, 2, 5, 3, 3, 2, 2, 1, 4, 3, 4, 3, 3, 2, 5, 14, 1, 6, 7, 6, 7, 4, 7, 13, 4, 6, 4, 7, 7, 13, 1, 4, 3, 4, 4, 6, 7, 3, 5, 4, 5, 5, 3, 5, 6, 2, 7, 7, 8, 5, 3, 3, 9, 8, 10, 9, 10, 8, 10, 11, 3, 5, 2, 2, 3, 11, 13, 2, 3, 4, 4, 7, 9, 3, 4, 3, 4, 2, 4, 9, 2, 1, 4, 8, 4, 4, 5, 5, 3, 2, 5, 3, 8, 8, 10, 3, 2, 3, 1, 1, 7, 1, 9, 3, 10, 3, 4, 5, 4, 3, 11, 4, 3, 4, 7, 1, 1, 3, 1, 4, 2, 1, 6, 3, 2, 3, 5, 3, 12, 3, 4, 2, 5, 4, 1, 3, 2, 2, 5, 13, 4, 10, 4, 3, 3, 4, 7, 3, 1, 2, 2, 4, 7, 1, 2, 5, 6, 4, 2, 6, 4, 5, 6, 4, 5, 4, 3, 6, 5, 4, 3, 5, 7, 5, 5, 4, 8, 3, 2, 3, 7, 5, 11, 6, 6, 4, 5, 6, 4, 4, 3, 3, 3, 2, 4, 6, 2, 9, 1, 2, 2, 3, 3, 4, 2, 5, 7, 3, 3, 3, 2, 2, 7, 9, 4, 3, 3, 2, 2, 3, 5, 12, 4, 8, 10, 2, 1, 2, 2, 1, 2, 1, 3, 3, 7, 3, 5, 2, 2, 3, 3, 4, 6, 2, 9, 9, 3, 3, 4, 9, 3, 7, 1, 10, 9, 3, 1, 5, 2, 4, 4, 4, 5, 5, 4, 2, 7, 3, 7, 4, 2, 2, 7, 8, 4, 7, 11, 12, 2, 1, 3, 5, 2, 4, 5, 1, 5, 5, 3, 4, 8, 3, 6, 1, 6, 7, 1, 1, 2, 7, 3, 12, 4, 13, 5, 5, 2, 4, 1, 1, 6, 8, 6, 11, 10, 13, 4, 5, 6, 2, 2, 5, 2, 2, 2, 2, 7, 3, 5, 8, 3, 4, 2, 3, 6, 6, 3, 4, 5, 3, 3, 2, 8, 2, 4, 4, 6, 3, 13, 6, 5, 5, 2, 5, 1, 3, 3, 3, 1, 7, 1, 8, 6, 9, 12, 13, 6, 5, 2, 7, 10, 13, 6, 7, 9, 3, 2, 2, 2, 3, 1, 1, 1, 3, 2, 1, 2, 2, 1, 2, 2, 4, 8, 9, 2, 2, 7, 3, 9, 3, 12, 13, 5, 6, 5, 3, 4, 3, 6, 2, 5, 5, 5, 6, 2, 1, 1, 1, 5, 11, 12, 7, 9, 12, 2, 4, 6, 8, 5, 9, 3, 5, 3, 10, 12, 16, 3, 5, 5, 3, 5, 9, 7, 5, 7, 8, 9, 10, 11, 8, 3, 5, 3, 5, 8, 1, 2, 5, 2, 5, 4, 3, 8, 4, 4, 7, 3, 9, 1, 8, 7, 4, 4, 6, 6, 7, 5, 8, 12, 4, 3, 6, 6, 3, 4, 3, 3, 3, 3, 4, 3, 1, 6, 3, 4, 3, 5, 5, 4, 6, 2, 1, 4, 4, 8, 3, 3, 5, 2, 5, 2, 4, 6, 5, 6, 2, 5, 1, 6, 9, 5, 6, 3, 7, 2, 10, 4, 3, 5, 7, 4, 7, 9, 2, 2, 5, 4, 8, 6, 5, 7, 8, 10, 4, 2, 5, 5, 7, 3, 3, 7, 4, 6, 4, 5, 8, 5, 3, 2, 4, 4, 4, 6, 4, 5, 6, 3, 8, 2, 3, 4, 7, 2, 10, 3, 5, 6, 4, 2, 2, 5, 2, 7, 5, 3, 1, 1, 2, 2, 8, 3, 4, 1, 1, 4, 3, 1, 2, 8, 1, 6, 5, 4, 2, 9, 2, 6, 3, 2, 4, 2, 8, 3, 5, 1, 2, 7, 1, 7, 1, 1, 5, 1, 6, 9, 1, 3, 3, 3, 2, 3, 6, 3, 3, 8, 3, 4, 1, 2, 4, 4, 4, 2, 2, 3, 2, 3, 1, 2, 6, 3, 2, 2, 3, 3, 4, 3, 5, 2, 2, 3, 2, 4, 8, 5, 5, 6, 8, 1, 2, 1, 1, 3, 3, 5, 8, 8, 3, 2, 2, 3, 1, 5, 3, 1, 5, 6, 7, 6, 3, 2, 3, 4, 4, 1, 9, 4, 2, 7, 9, 5, 3, 3, 5, 9, 11, 7, 9, 10, 15, 4, 2, 6, 7, 10, 1, 1, 8, 3, 6, 1, 4, 7, 5, 1, 10, 4, 5, 3, 4, 9, 5, 4, 2, 2, 1, 2, 3, 5, 3, 1, 1, 4, 4, 5, 1, 1, 2, 3, 2, 3, 4, 4, 3, 7, 3, 1, 3, 3, 3, 3, 2, 2, 2, 2, 2, 1, 3, 2, 3, 3, 4, 2, 4, 8, 9, 6, 2, 2, 3, 2, 5, 5, 4, 4, 4, 2, 6, 6, 2, 2, 9, 7, 1, 2, 5, 2, 1, 1, 2, 6, 7, 3, 5, 7, 5, 7, 6, 8, 2, 6, 7, 1, 3, 2, 5, 4, 8, 1, 7, 1, 2, 5, 1, 3, 11, 2, 1, 4, 5, 6, 4, 5, 3, 1, 8, 5, 5, 3, 6, 3, 5, 9, 1, 5, 6, 3, 1, 5, 9, 1, 3, 4, 3, 4, 5, 5, 5, 3, 5, 2, 8, 1, 6, 1, 1, 5, 4, 4, 4, 5, 4, 2, 1, 10, 3, 4, 4, 4, 1, 5, 3, 2, 2, 3, 3, 4, 1, 4, 5, 4, 3, 3, 10, 10, 1, 2, 4, 2, 1, 7, 3, 4, 2, 1, 5, 6, 3, 4, 1, 7, 7, 7, 7, 3, 4, 8, 3, 4, 1, 1, 1, 2, 2, 3, 1, 3, 5, 1, 2, 2, 8, 3, 3, 1, 3, 1, 6, 1, 3, 11, 2, 5, 2, 4, 2, 2, 3, 3, 2, 1, 2, 2, 3, 2, 3, 2, 2, 5, 6, 3, 9, 8, 8, 5, 8, 5, 4, 10, 4, 7, 1, 3, 4, 10, 3, 3, 1, 1, 4, 2, 4, 3, 13, 3, 4, 3, 4, 4, 3, 6, 5, 5, 7, 4, 4, 6, 3, 4, 3, 5, 1, 3, 5, 4, 2, 2, 2, 4, 4, 5, 4, 3, 1, 2, 3, 7, 4, 4, 2, 5, 2, 2, 2, 1, 10, 4, 4, 3, 6, 3, 4, 3, 10, 1, 15, 6, 3, 7, 7, 7, 4, 4, 4, 5, 4, 3, 5, 5, 2, 5, 5, 6, 5, 6, 2, 2, 2, 8, 1, 3, 3, 4, 2, 5, 4, 8, 12, 8, 7, 10, 3, 4, 2, 3, 3, 2, 2, 2, 4, 2, 1, 1, 7, 4, 1, 1, 1, 2, 1, 2, 2, 5, 5, 1, 10, 6, 9, 13, 7, 2, 4, 5, 3, 4, 3, 2, 3, 2, 1, 4, 3, 3, 1, 4, 4, 3, 1, 6, 7, 3, 1, 3, 3, 6, 1, 3, 5, 5, 3, 5, 6, 2, 7, 5, 9, 3, 6, 3, 8, 6, 9, 4, 2, 4, 1, 10, 6, 3, 5, 3, 7, 5, 5, 7, 2, 1, 1, 4, 6, 1, 11, 4, 7, 6, 4, 4, 3, 5, 4, 4, 1, 6, 4, 5, 5, 5, 5, 9, 1, 11, 7, 7, 8, 4, 6, 8, 9, 5, 2, 4, 9, 5, 3, 5, 6, 4, 2, 3, 1, 3, 3, 3, 3, 3, 2, 3, 4, 6, 1, 2, 5, 7, 2, 5, 1, 5, 3, 5, 16, 3, 6, 6, 8, 3, 2, 4, 7, 7, 8, 10, 11, 3, 5, 5, 4, 6, 3, 7, 3, 9, 3, 3, 4, 4, 7, 4, 4, 4, 5, 10, 2, 1, 1, 2, 2, 1, 3, 1, 6, 4, 4, 1, 7, 4, 6, 1, 1, 7, 3, 10, 6, 5, 9, 3, 6, 6, 6, 11, 3, 10, 8, 1, 8, 2, 4, 3, 7, 12, 6, 11, 5, 8, 2, 3, 6, 2, 2, 2, 1, 1, 4, 3, 10, 11, 12, 9, 13, 8, 9, 5, 4, 3, 3, 3, 4, 4, 8, 5, 6, 5, 6, 8, 3, 3, 3, 2, 4, 12, 2, 2, 5, 7, 4, 4, 4, 1, 5, 3, 5, 4, 5, 6, 6, 2, 3, 3, 6, 1, 2, 4, 4, 4, 4, 13, 5, 7, 6, 6, 2, 10, 8, 2, 3, 5, 2, 2, 2, 5, 6, 5, 6, 5, 6, 10, 9, 9, 5, 2, 4, 1, 10, 8, 3, 8, 7, 7, 9, 7, 3, 5, 3, 7, 8, 10, 1, 2, 1, 5, 7, 7, 1, 2, 3, 5, 2, 6, 3, 1, 2, 1, 1, 3, 6, 5, 8, 7, 3, 3, 7, 1, 6, 1, 3, 9, 2, 3, 3, 4, 5, 3, 1, 4, 2, 5, 2, 1, 2, 3, 5, 1, 1, 10, 3, 1, 7, 6, 4, 7, 5, 3, 5, 4, 3, 1, 12, 3, 1, 6, 4, 3, 5, 6, 2, 5, 4, 8, 2, 1, 4, 7, 5, 3, 5, 5, 9, 10, 10, 8, 11, 1, 2, 3, 8, 7, 3, 5, 6, 8, 7, 7, 7, 6, 1, 1, 10, 4, 4, 2, 4, 7, 5, 2, 1, 3, 1, 8, 1, 3, 7, 3, 4, 2, 2, 4, 5, 5, 1, 3, 3, 4, 5, 1, 4, 6, 8, 8, 6, 5, 5, 1, 2, 5, 1, 5, 4, 2, 4, 5, 10, 2, 5, 5, 1, 4, 3, 6, 2, 4, 4, 2, 5, 1, 4, 4, 3, 6, 3, 4, 1, 1, 7, 3, 6, 4, 4, 5, 4, 4, 2, 2, 5, 4, 9, 1, 2, 6, 1, 1, 2, 2, 2, 12, 9, 19, 19, 5, 4, 3, 5, 3, 7, 10, 16, 5, 7, 4, 7, 6, 2, 2, 6, 8, 3, 5, 7, 2, 4, 5, 3, 2, 4, 4, 2, 8, 4, 6, 7, 3, 1, 3, 2, 2, 1, 2, 12, 12, 5, 1, 8, 6, 2, 2, 3, 5, 8, 8, 7, 5, 10, 8, 4, 1, 2, 8, 4, 4, 6, 1, 10, 2, 5, 1, 6, 2, 2, 5, 7, 1, 2, 2, 6, 3, 11, 3, 7, 1, 5, 3, 6, 5, 6, 4, 7, 3, 5, 4, 2, 2, 7, 2, 2, 3, 2, 4, 3, 2, 1, 3, 2, 5, 7, 8, 2, 3, 4, 2, 4, 5, 5, 3, 4, 6, 9, 10, 10, 1, 1, 5, 7, 5, 2, 4, 11, 9, 2, 4, 6, 2, 9, 3, 3, 5, 4, 1, 2, 2, 4, 4, 1, 5, 1, 1, 4, 2, 1, 3, 1, 2, 5, 4, 4, 5, 2, 2, 5, 3, 5, 7, 9, 4, 4, 5, 5, 5, 7, 2, 3, 3, 6, 4, 5, 4, 10, 5, 9, 9, 2, 2, 2, 2, 5, 3, 3, 2, 3, 2, 9, 10, 7, 5, 6, 6, 7, 6, 3, 6, 4, 2, 2, 2, 5, 8, 16, 3, 1, 10, 3, 6, 3, 1, 6, 4, 5, 2, 3, 5, 9, 5, 7, 2, 4, 5, 5, 6, 4, 5, 2, 6, 9, 8, 9, 13, 5, 11, 5, 3, 3, 3, 1, 3, 2, 3, 4, 8, 3, 6, 3, 3, 10, 3, 6, 10, 13, 4, 5, 5, 8, 10, 5, 3, 11, 7, 3, 6, 2, 6, 13, 5, 2, 2, 5, 5, 6, 5, 11, 8, 7, 7, 7, 12, 2, 3, 1, 5, 1, 7, 4, 4, 3, 7, 3, 11, 16, 5, 5, 7, 7, 3, 11, 1, 1, 1, 2, 4, 2, 3, 1, 1, 2, 2, 1, 2, 5, 2, 2, 4, 6, 1, 4, 3, 13, 2, 3, 5, 3, 4, 2, 2, 2, 2, 4, 4, 4, 2, 3, 4, 5, 3, 5, 5, 2, 2, 8, 2, 1, 3, 10, 4, 4, 4, 5, 6, 4, 6, 4, 6, 4, 3, 5, 1, 4, 2, 8, 6, 10, 14, 2, 4, 1, 2, 4, 1, 1, 6, 9, 7, 6, 10, 4, 5, 7, 5, 7, 7, 16, 4, 4, 2, 6, 2, 3, 2, 9, 3, 4, 4, 2, 3, 1, 3, 8, 6, 9, 1, 1, 4, 3, 4, 5, 3, 5, 10, 10, 11, 12, 9, 7, 3, 3, 4, 10, 4, 13, 1, 5, 4, 6, 4, 1, 4, 3, 6, 2, 3, 4, 1, 7, 15, 1, 1, 8, 1, 2, 2, 2, 1, 2, 5, 4, 5, 10, 3, 4, 6, 2, 4, 4, 4, 4, 5, 2, 3, 4, 7, 9, 5, 7, 6, 6, 3, 3, 2, 4, 5, 8, 7, 5, 5, 2, 1, 6, 3, 2, 2, 2, 7, 2, 3, 4, 3, 5, 2, 4, 4, 6, 6, 1, 5, 6, 1, 4, 3, 6, 3, 4, 5, 5, 4, 3, 1, 2, 2, 1, 4, 3, 3, 2, 3, 1, 2, 2, 5, 3, 7, 3, 6, 9, 3, 1, 1, 1, 1, 3, 3, 12, 3, 12, 6, 1, 6, 1, 2, 5, 6, 6, 7, 3, 5, 2, 4, 1, 9, 1, 5, 9, 11, 2, 7, 3, 4, 5, 9, 14, 1, 4, 4, 3, 7, 8, 9, 2, 2, 1, 3, 1, 1, 2, 4, 6, 7, 11, 6, 2, 2, 7, 9, 5, 6, 7, 3, 3, 6, 1, 1, 9, 2, 7, 5, 2, 6, 1, 2, 6, 2, 2, 4, 3, 2, 10, 9, 8, 1, 5, 3, 4, 5, 2, 3, 3, 5, 4, 7, 2, 1, 2, 5, 2, 8, 1, 2, 9, 1, 7, 8, 2, 6, 5, 4, 4, 6, 3, 4, 7, 3, 3, 2, 7, 3, 1, 6, 1, 1, 2, 4, 2, 2, 1, 2, 5, 3, 3, 3, 2, 4, 10, 10, 5, 1, 4, 4, 3, 2, 3, 4, 1, 5, 3, 1, 3, 2, 2, 2, 1, 1, 1, 3, 5, 1, 5, 3, 4, 5, 3, 6, 9, 3, 5, 4, 5, 2, 2, 3, 3, 3, 5, 3, 8, 3, 4, 3, 5, 6, 7, 1, 5, 5, 1, 3, 4, 4, 6, 8, 1, 8, 11, 5, 1, 1, 2, 2, 4, 3, 4, 4, 3, 4, 2, 3, 3, 6, 3, 3, 5, 5, 7, 8, 6, 8, 8, 2, 11, 3, 2, 1, 2, 4, 6, 1, 5, 7, 3, 2, 3, 2, 2, 1, 2, 2, 3, 4, 4, 1, 3, 2, 6, 7, 6, 2, 1, 1, 1, 1, 2, 1, 2, 1, 3, 2, 1, 2, 3, 2, 1, 4, 1, 2, 2, 7, 2, 2, 7, 3, 3, 4, 8, 4, 1, 1, 1, 1, 1, 1, 7, 2, 2, 2, 5, 2, 1, 5, 5, 2, 4, 4, 4, 6, 7, 10, 5, 2, 3, 3, 4, 1, 6, 3, 7, 2, 2, 6, 4, 3, 2, 4, 5, 7, 2, 2, 4, 1, 3, 5, 8, 6, 6, 7, 3, 3, 8, 7, 5, 5, 7, 1, 3, 1, 3, 8, 4, 1, 6, 5, 2, 4, 2, 4, 2, 2, 3, 4, 2, 2, 4, 9, 8, 14, 6, 1, 4, 2, 2, 4, 9, 3, 10, 2, 7, 7, 5, 9, 4, 3, 3, 2, 4, 5, 6, 5, 8, 9, 1, 3, 2, 1, 8, 7, 8, 10, 11, 2, 4, 4, 6, 1, 4, 4, 6, 10, 5, 2, 2, 8, 1, 1, 2, 2, 4, 5, 4, 7, 2, 3, 2, 6, 2, 1, 4, 6, 2, 2, 1, 5, 6, 2, 9, 5, 2, 5, 4, 1, 3, 3, 2, 3, 2, 4, 2, 2, 4, 3, 1, 5, 3, 3, 4, 7, 2, 4, 7, 4, 5, 4, 9, 3, 8, 7, 5, 4, 1, 2, 2, 1, 3, 2, 8, 5, 6, 2, 3, 8, 4, 4, 3, 2, 4, 5, 8, 9, 2, 6, 6, 5, 8, 4, 5, 8, 1, 4, 7, 7, 2, 3, 2, 2, 9, 3, 3, 1, 3, 4, 3, 1, 7, 8, 6, 2, 2, 8, 4, 4, 5, 4, 12, 8, 3, 2, 5, 7, 10, 5, 2, 2, 4, 3, 3, 2, 3, 4, 4, 4, 4, 8, 3, 3, 8, 1, 5, 6, 4, 5, 1, 2, 2, 2, 6, 1, 3, 7, 8, 2, 1, 3, 6, 5, 6, 4, 5, 3, 5, 5, 1, 4, 4, 9, 5, 2, 8, 2, 2, 2, 3, 2, 3, 5, 3, 5, 10, 1, 7, 3, 3, 4, 4, 1, 3, 5, 6, 6, 2, 7, 4, 9, 3, 3, 1, 4, 3, 5, 9, 4, 3, 3, 6, 2, 2, 5, 4, 6, 6, 6, 9, 3, 9, 4, 3, 6, 6, 1, 2, 4, 1, 4, 5, 4, 3, 9, 8, 1, 4, 2, 3, 4, 3, 3, 2, 2, 9, 4, 7, 10, 3, 8, 3, 4, 5, 8, 3, 13, 5, 3, 7, 5, 8, 11, 2, 7, 11, 2, 2, 1, 4, 3, 7, 1, 1, 1, 2, 2, 1, 2, 2, 3, 3, 3, 4, 2, 1, 8, 6, 5, 5, 8, 4, 8, 9, 11, 3, 6, 3, 3, 1, 1, 13, 4, 2, 2, 5, 2, 1, 8, 2, 8, 1, 3, 5, 3, 1, 3, 4, 3, 3, 8, 9, 1, 6, 7, 12, 3, 8, 3, 6, 3, 3, 3, 3, 11, 5, 2, 3, 2, 2, 3, 8, 3, 2, 2, 1, 1, 2, 3, 7, 3, 3, 2, 1, 1, 2, 3, 4, 6, 8, 7, 2, 7, 8, 3, 3, 4, 1, 3, 6, 5, 2, 7, 4, 12, 4, 4, 7, 8, 4, 5, 2, 2, 3, 2, 2, 3, 5, 4, 5, 3, 5, 3, 5, 2, 2, 3, 4, 4, 11, 2, 8, 11, 3, 4, 2, 5, 4, 2, 7, 7, 9, 4, 10, 6, 7, 4, 8, 4, 2, 2, 5, 5, 7, 9, 6, 5, 2, 8, 3, 2, 3, 4, 1, 5, 8, 9, 11, 1, 8, 1, 5, 4, 4, 5, 5, 9, 8, 9, 4, 5, 4, 13, 6, 4, 5, 2, 6, 2, 3, 5, 12, 7, 3, 9, 7, 7, 1, 6, 5, 1, 1, 1, 5, 5, 1, 4, 4, 3, 3, 9, 7, 1, 7, 2, 3, 1, 9, 4, 10, 10, 12, 3, 12, 5, 1, 11, 6, 5, 5, 5, 1, 3, 7, 4, 2, 1, 3, 1, 2, 2, 1, 1, 4, 7, 1, 5, 4, 3, 3, 4, 3, 1, 5, 1, 10, 3, 3, 6, 1, 2, 8, 6, 1, 5, 1, 2, 10, 2, 4, 2, 2, 8, 4, 9, 8, 2, 4, 4, 1, 5, 4, 3, 4, 5, 1, 1, 2, 1, 1, 2, 2, 2, 4, 4, 2, 5, 4, 4, 3, 6, 1, 4, 3, 1, 2, 3, 6, 8, 8, 3, 5, 4, 6, 10, 9, 3, 5, 3, 1, 6, 12, 17, 1, 9, 3, 4, 5, 6, 4, 9, 5, 5, 9, 6, 5, 4, 6, 1, 6, 2, 6, 6, 7, 2, 3, 1, 3, 4, 13, 11, 4, 2, 3, 5, 5, 1, 3, 2, 2, 6, 8, 5, 1, 4, 3, 7, 4, 3, 8, 5, 8, 4, 3, 7, 5, 8, 3, 6, 4, 5, 6, 2, 2, 6, 7, 3, 3, 1, 4, 2, 15, 2, 8, 14, 11, 11, 5, 5, 5, 2, 9, 10, 12, 8, 8, 2, 6, 6, 8, 6, 3, 4, 2, 8, 2, 9, 2, 2, 2, 2, 5, 8, 6, 4, 5, 5, 3, 10, 10, 1, 9, 13, 3, 3, 3, 1, 2, 3, 6, 4, 8, 3, 5, 5, 10, 5, 11, 2, 3, 3, 6, 3, 1, 8, 5, 6, 5, 3, 4, 1, 2, 2, 2, 4, 5, 5, 2, 8, 10, 7, 6, 4, 4, 6, 11, 4, 6, 8, 6, 7, 6, 2, 6, 9, 6, 5, 5, 5, 9, 9, 4, 9, 7, 6, 10, 11, 15, 2, 4, 7, 5, 6, 1, 5, 3, 4, 6, 9, 6, 4, 9, 8, 7, 3, 1, 3, 6, 6, 4, 6, 4, 1, 5, 15, 18, 3, 12, 4, 6, 8, 2, 7, 4, 8, 6, 9, 4, 5, 5, 8, 4, 4, 8, 8, 11, 3, 3, 5, 2, 6, 7, 5, 1, 4, 3, 1, 8, 5, 8, 9, 5, 6, 7, 3, 6, 7, 9, 3, 3, 5, 3, 2, 9, 9, 14, 4, 2, 2, 2, 4, 5, 5, 7, 3, 11, 4, 2, 7, 7, 2, 5, 1, 4, 2, 3, 4, 6, 8, 3, 4, 8, 9, 4, 6, 6, 7, 10, 6, 7, 2, 5, 5, 6, 4, 3, 7, 8, 10, 9, 5, 11, 9, 12, 18, 2, 2, 2, 5, 3, 5, 7, 8, 8, 6, 7, 11, 13, 3, 4, 8, 3, 6, 5, 5, 2, 5, 6, 6, 4, 9, 7, 8, 4, 5, 4, 4, 4, 4, 7, 8, 9, 4, 8, 2, 2, 10, 11, 7, 1, 2, 5, 6, 9, 10, 10, 12, 6, 8, 4, 11, 4, 2, 3, 5, 9, 3, 4, 3, 5, 12, 7, 4, 3, 2, 1, 3, 2, 5, 8, 4, 4, 6, 3, 9, 2, 2, 2, 2, 1, 3, 4, 3, 2, 2, 5, 7, 9, 2, 7, 5, 1, 2, 5, 2, 2, 2, 4, 6, 4, 9, 9, 8, 3, 7, 3, 10, 2, 9, 7, 7, 3, 2, 5, 3, 8, 10, 4, 2, 3, 2, 5, 6, 9, 6, 13, 4, 6, 7, 8, 9, 6, 5, 3, 4, 2, 4, 7, 3, 8, 1, 3, 3, 2, 6, 6, 2, 2, 2, 4, 3, 6, 7, 5, 5, 4, 6, 2, 3, 5, 6, 6, 11, 6, 8, 14, 16, 29, 3, 9, 3, 2, 7, 1, 11, 10, 12, 10, 6, 2, 6, 11, 6, 2, 2, 2, 4, 2, 6, 8, 1, 4, 2, 2, 4, 6, 6, 6, 1, 5, 5, 2, 7, 5, 3, 2, 2, 3, 1, 4, 1, 1, 5, 2, 2, 5, 4, 7, 8, 6, 5, 9, 8, 1, 6, 7, 10, 5, 9, 2, 7, 2, 3, 3, 3, 6, 8, 14, 16, 8, 1, 6, 3, 3, 1, 2, 1, 5, 3, 2, 2, 2, 2, 5, 2, 1, 1, 5, 5, 4, 3, 7, 2, 1, 4, 2, 10, 2, 3, 1, 4, 5, 3, 3, 4, 4, 5, 1, 4, 7, 11, 1, 1, 3, 3, 3, 4, 2, 3, 3, 3, 3, 5, 5, 3, 7, 7, 4, 4, 4, 2, 4, 7, 6, 6, 4, 1, 8, 3, 4, 5, 2, 2, 10, 8, 4, 6, 7, 9, 1, 6, 3, 2, 6, 2, 11, 2, 7, 3, 5, 8, 1, 2, 2, 2, 1, 5, 1, 2, 5, 8, 4, 9, 3, 2, 3, 5, 8, 4, 2, 6, 5, 1, 7, 3, 6, 8, 12, 7, 1, 5, 3, 5, 8, 2, 1, 5, 1, 2, 9, 3, 3, 8, 4, 6, 2, 2, 4, 5, 10, 6, 4, 2, 5, 7, 6, 5, 6, 11, 9, 2, 5, 3, 3, 1, 4, 1, 7, 12, 5, 1, 2, 18, 7, 9, 3, 4, 5, 6, 10, 12, 3, 3, 3, 6, 11, 10, 7, 12, 10, 3, 5, 12, 7, 4, 5, 4, 4, 4, 1, 7, 8, 6, 1, 3, 5, 13, 5, 9, 4, 2, 2, 2, 3, 4, 8, 5, 8, 4, 10, 2, 11, 4, 4, 2, 3, 1, 2, 5, 5, 1, 2, 7, 1, 6, 7, 2, 2, 5, 6, 4, 6, 3, 6, 1, 4, 13, 5, 7, 3, 6, 2, 5, 6, 2, 8, 2, 4, 1, 4, 9, 6, 6, 9, 1, 4, 6, 4, 8, 10, 11, 4, 1, 6, 7, 4, 6, 2, 3, 5, 4, 1, 4, 3, 3, 1, 6, 3, 3, 2, 5, 7, 3, 3, 4, 4, 5, 10, 5, 5, 8, 3, 2, 6, 6, 4, 5, 6, 8, 4, 7, 5, 3, 6, 11, 11, 12, 7, 4, 1, 7, 2, 12, 4, 8, 9, 5, 2, 2, 9, 13, 1, 7, 5, 9, 1, 9, 7, 5, 4, 3, 2, 5, 6, 4, 3, 5, 4, 5, 5, 7, 5, 8, 8, 6, 2, 4, 8, 1, 4, 7, 4, 3, 6, 4, 5, 1, 1, 9, 11, 2, 4, 3, 4, 4, 9, 9, 8, 2, 4, 6, 2, 7, 2, 4, 2, 8, 2, 2, 2, 8, 5, 5, 3, 5, 6, 6, 12, 12, 6, 3, 2, 11, 3, 4, 6, 6, 2, 3, 1, 1, 4, 1, 2, 9, 15, 10, 3, 6, 3, 2, 2, 3, 3, 6, 8, 4, 7, 6, 5, 6, 4, 7, 3, 7, 5, 4, 2, 4, 3, 7, 2, 8, 10, 4, 1, 1, 3, 5, 13, 3, 5, 3, 2, 3, 3, 8, 6, 1, 7, 2, 4, 4, 7, 2, 2, 4, 2, 1, 8, 3, 5, 10, 5, 5, 3, 3, 5, 3, 1, 7, 2, 3, 8, 9, 5, 5, 5, 5, 2, 2, 4, 5, 6, 3, 2, 3, 4, 4, 4, 6, 8, 10, 1, 4, 10, 2, 3, 6, 8, 6, 4, 5, 8, 9, 4, 7, 5, 7, 14, 9, 11, 3, 8, 8, 2, 11, 1, 7, 8, 4, 5, 10, 5, 2, 5, 2, 2, 2, 4, 2, 1, 7, 2, 9, 9, 6, 2, 14, 4, 3, 11, 1, 7, 5, 8, 2, 2, 4, 2, 9, 4, 2, 4, 5, 1, 12, 3, 11, 11, 7, 7, 1, 7, 7, 7, 3, 3, 7, 3, 2, 6, 7, 12, 15, 2, 5, 3, 8, 3, 5, 3, 1, 9, 8, 3, 10, 2, 6, 2, 3, 6, 4, 3, 6, 6, 2, 3, 8, 5, 10, 2, 5, 8, 8, 3, 5, 10, 1, 2, 3, 7, 7, 8, 2, 8, 10, 12, 3, 3, 3, 3, 2, 10, 6, 5, 4, 5, 1, 1, 1, 2, 1, 4, 7, 5, 5, 3, 4, 7, 4, 1, 3, 4, 3, 7, 2, 2, 6, 6, 3, 5, 2, 5, 4, 2, 5, 9, 3, 4, 5, 5, 1, 4, 6, 6, 3, 3, 8, 2, 3, 4, 11, 8, 5, 3, 4, 5, 1, 4, 6, 8, 7, 2, 4, 4, 1, 8, 4, 9, 4, 6, 6, 5, 8, 2, 8, 9, 4, 6, 7, 11, 8, 3, 4, 7, 4, 5, 7, 2, 4, 1, 4, 6, 6, 6, 5, 2, 7, 2, 2, 4, 3, 3, 4, 6, 4, 4, 5, 6, 7, 1, 4, 1, 7, 8, 2, 8, 12, 1, 4, 3, 6, 5, 6, 1, 5, 4, 3, 9, 14, 5, 3, 1, 1, 4, 6, 5, 6, 2, 6, 4, 1, 5, 7, 6, 3, 9, 7, 4, 5, 6, 13, 2, 1, 7, 1, 2, 2, 5, 9, 4, 2, 5, 4, 5, 2, 5, 1, 6, 5, 1, 2, 2, 5, 1, 4, 4, 1, 2, 1, 6, 3, 10, 7, 2, 1, 3, 4, 2, 3, 3, 5, 3, 6, 5, 4, 4, 8, 13, 7, 1, 5, 6, 9, 4, 10, 17, 6, 11, 11, 14, 10, 14, 3, 3, 2, 6, 1, 2, 9, 9, 12, 3, 6, 10, 8, 9, 1, 8, 7, 2, 7, 5, 6, 1, 9, 3, 7, 3, 1, 9, 4, 10, 4, 4, 6, 6, 5, 2, 5, 2, 4, 2, 7, 9, 3, 11, 2, 3, 7, 3, 2, 10, 4, 5, 5, 5, 5, 5, 3, 8, 1, 6, 2, 7, 2, 4, 2, 2, 2, 2, 3, 3, 3, 5, 8, 6, 8, 8, 10, 16, 4, 7, 3, 4, 8, 3, 16, 3, 7, 4, 2, 9, 10, 14, 2, 3, 5, 3, 5, 1, 5, 7, 11, 6, 5, 1, 5, 7, 4, 7, 8, 10, 8, 6, 6, 6, 9, 1, 5, 5, 6, 2, 10, 5, 3, 1, 5, 4, 9, 9, 4, 4, 7, 8, 9, 4, 6, 5, 7, 10, 5, 4, 12, 9, 3, 1, 5, 3, 5, 5, 2, 2, 3, 3, 1, 6, 7, 5, 3, 3, 3, 2, 2, 4, 1, 7, 8, 6, 9, 5, 2, 5, 7, 13, 2, 9, 5, 6, 5, 2, 3, 1, 2, 3, 1, 7, 5, 3, 3, 7, 2, 6, 5, 1, 5, 3, 3, 1, 2, 2, 2, 2, 8, 4, 5, 1, 1, 8, 3, 2, 5, 4, 9, 3, 5, 5, 2, 9, 6, 12, 11, 3, 3, 10, 1, 1, 10, 3, 7, 11, 15, 8, 5, 1, 4, 6, 2, 11, 6, 9, 3, 8, 7, 3, 10, 6, 2, 11, 7, 10, 2, 6, 1, 5, 5, 5, 4, 4, 4, 7, 9, 1, 5, 9, 5, 6, 8, 2, 2, 1, 4, 5, 5, 4, 5, 10, 4, 3, 5, 2, 7, 2, 2, 8, 11, 7, 12, 1, 1, 1, 9, 5, 12, 13, 8, 5, 4, 6, 8, 9, 6, 7, 3, 4, 8, 6, 8, 6, 2, 1, 2, 8, 9, 9, 5, 2, 1, 2, 2, 7, 2, 2, 2, 1, 4, 2, 2, 3, 5, 6, 3, 6, 4, 5, 5, 6, 6, 7, 6, 1, 4, 1, 2, 4, 7, 1, 9, 13, 5, 2, 7, 3, 10, 3, 2, 1, 10, 4, 5, 3, 5, 4, 3, 7, 8, 9, 1, 1, 1, 1, 4, 3, 2, 8, 4, 3, 9, 8, 3, 4, 3, 6, 7, 5, 3, 4, 3, 5, 5, 8, 5, 6, 12, 3, 9, 3, 3, 4, 6, 4, 8, 5, 3, 2, 1, 4, 8, 1, 4, 8, 1, 2, 5, 3, 3, 8, 3, 3, 7, 6, 6, 1, 3, 7, 3, 3, 4, 4, 2, 2, 1, 1, 4, 2, 7, 9, 7, 6, 10, 2, 5, 6, 6, 1, 2, 1, 3, 4, 5, 2, 5, 3, 1, 1, 5, 2, 2, 5, 5, 3, 5, 4, 6, 1, 2, 2, 3, 2, 2, 1, 5, 5, 3, 3, 2, 7, 6, 6, 3, 5, 7, 1, 7, 3, 3, 3, 3, 3, 4, 1, 8, 12, 8, 7, 2, 3, 3, 4, 4, 6, 12, 4, 6, 3, 5, 2, 7, 6, 14, 5, 6, 1, 4, 6, 5, 2, 2, 1, 3, 3, 5, 5, 1, 7, 7, 5, 1, 3, 11, 6, 3, 6, 5, 5, 3, 9, 11, 5, 9, 3, 3, 8, 2, 1, 2, 2, 2, 3, 2, 1, 4, 1, 1, 2, 3, 2, 7, 5, 6, 3, 3, 5, 6, 8, 3, 3, 1, 7, 8, 11, 7, 5, 12, 21, 4, 12, 7, 6, 2, 2, 2, 3, 13, 5, 2, 5, 1, 6, 4, 7, 12, 8, 1, 2, 3, 2, 1, 7, 4, 7, 3, 5, 3, 4, 3, 3, 2, 2, 3, 4, 3, 8, 9, 7, 5, 7, 5, 3, 5, 2, 3, 3, 6, 10, 4, 6, 5, 5, 3, 2, 7, 7, 3, 3, 4, 1, 3, 4, 4, 1, 6, 2, 2, 7, 1, 8, 3, 4, 2, 3, 2, 5, 4, 2, 1, 1, 5, 6, 4, 1, 3, 1, 5, 4, 5, 4, 1, 8, 1, 1, 11, 10, 3, 5, 9, 2, 4, 3, 3, 4, 5, 3, 3, 10, 5, 4, 5, 4, 4, 3, 5, 2, 3, 2, 3, 4, 6, 2, 4, 9, 2, 3, 4, 3, 4, 5, 3, 5, 4, 2, 12, 4, 4, 7, 2, 2, 8, 2, 1, 4, 4, 3, 5, 8, 5, 3, 4, 2, 3, 5, 3, 2, 1, 1, 4, 7, 9, 3, 3, 3, 2, 5, 5, 11, 4, 1, 10, 3, 5, 7, 2, 3, 4, 4, 3, 3, 3, 2, 6, 3, 5, 3, 4, 8, 3, 6, 15, 5, 6, 7, 5, 10, 1, 8, 5, 4, 11, 9, 1, 6, 4, 6, 5, 4, 8, 1, 5, 2, 2, 4, 2, 2, 10, 6, 6, 4, 4, 4, 6, 7, 7, 5, 5, 7, 5, 11, 5, 4, 3, 3, 5, 8, 16, 5, 2, 5, 7, 4, 1, 3, 6, 1, 9, 5, 2, 3, 2, 3, 4, 5, 7, 3, 4, 2, 3, 2, 5, 8, 3, 1, 2, 3, 1, 7, 11, 6, 8, 5, 3, 5, 8, 6, 7, 1, 7, 6, 8, 6, 11, 6, 7, 4, 4, 6, 8, 5, 3, 8, 7, 5, 3, 9, 1, 1, 1, 3, 7, 2, 1, 3, 4, 3, 3, 10, 5, 11, 16, 10, 8, 8, 15, 5, 9, 10, 5, 3, 6, 4, 7, 8, 7, 10, 7, 1, 5, 3, 9, 1, 5, 7, 3, 4, 4, 1, 3, 1, 8, 5, 6, 1, 6, 4, 7, 2, 9, 7, 7, 2, 7, 5, 7, 9, 3, 2, 4, 8, 3, 7, 3, 2, 5, 11, 12, 8, 9, 6, 5, 7, 4, 6, 3, 2, 4, 4, 1, 3, 3, 3, 2, 5, 12, 9, 13, 4, 8, 7, 2, 1, 4, 11, 4, 6, 6, 9, 6, 5, 10, 8, 11, 2, 2, 9, 5, 3, 6, 2, 5, 1, 3, 1, 3, 3, 6, 3, 6, 3, 3, 5, 8, 8, 14, 8, 14, 2, 1, 2, 2, 2, 1, 1, 2, 1, 1, 1, 2, 2, 2, 1, 1, 3, 1, 3, 1, 1, 3, 2, 2, 2, 2, 2, 1, 2, 3, 2, 1, 4, 4, 1, 4, 1, 2, 1, 1, 1, 2, 1, 2, 1, 2, 1, 1, 2, 2, 1, 1, 1, 2, 3, 7, 2, 4, 3, 2, 3, 7, 2, 4, 6, 3, 4, 4, 4, 4, 8, 9, 6, 3, 3, 1, 6, 3, 3, 3, 4, 8, 8, 10, 13, 7, 3, 1, 8, 10, 1, 4, 9, 2, 9, 9, 2, 5, 3, 2, 4, 6, 1, 3, 3, 3, 4, 3, 4, 2, 2, 3, 9, 2, 4, 4, 1, 6, 4, 3, 3, 3, 9, 9, 7, 5, 3, 3, 1, 5, 4, 4, 8, 2, 2, 2, 2, 1, 2, 2, 2, 2, 3, 6, 4, 3, 5, 5, 5, 8, 7, 5, 2, 4, 4, 3, 1, 3, 4, 1, 6, 8, 1, 3, 3, 3, 2, 2, 3, 4, 5, 4, 3, 4, 1, 1, 4, 2, 1, 2, 3, 2, 6, 6, 2, 4, 2, 3, 3, 4, 3, 1, 6, 3, 4, 7, 1, 1, 1, 4, 5, 2, 3, 8, 2, 3, 2, 6, 2, 2, 3, 2, 1, 1, 4, 2, 5, 5, 4, 4, 3, 3, 1, 1, 3, 5, 2, 1, 1, 1, 5, 2, 8, 3, 3, 6, 3, 8, 11, 5, 4, 2, 4, 7, 10, 2, 4, 2, 2, 6, 1, 2, 3, 6, 2, 3, 3, 3, 6, 6, 7, 7, 2, 1, 4, 3, 5, 1, 6, 8, 16, 1, 5, 9, 12, 2, 7, 4, 6, 2, 2, 5, 3, 5, 3, 9, 5, 6, 5, 5, 3, 4, 2, 7, 3, 5, 4, 5, 5, 4, 13, 4, 3, 5, 1, 1, 5, 3, 4, 4, 3, 2, 2, 3, 2, 6, 5, 1, 2, 4, 5, 5, 1, 8, 4, 8, 8, 9, 12, 6, 9, 10, 5, 1, 2, 3, 4, 5, 6, 5, 7, 8, 4, 3, 6, 2, 2, 6, 4, 4, 3, 4, 2, 3, 3, 2, 1, 1, 1, 2, 4, 4, 3, 4, 2, 2, 2, 4, 2, 3, 2, 8, 12, 7, 2, 2, 1, 2, 3, 3, 2, 1, 1, 3, 6, 4, 2, 5, 5, 2, 1, 2, 5, 6, 2, 5, 9, 5, 2, 2, 2, 1, 2, 3, 3, 8, 4, 8, 6, 5, 3, 7, 9, 2, 4, 2, 4, 1, 3, 7, 1, 1, 2, 4, 4, 4, 6, 6, 3, 4, 2, 22, 7, 9, 10, 1, 3, 1, 3, 12, 1, 12, 8, 10, 2, 4, 5, 9, 4, 3, 4, 6, 1, 2, 2, 6, 8, 3, 5, 12, 5, 6, 4, 7, 9, 10, 6, 4, 2, 4, 3, 3, 5, 7, 1, 13, 4, 3, 4, 4, 2, 2, 3, 6, 6, 6, 7, 6, 7, 2, 4, 4, 2, 6, 4, 3, 5, 2, 3, 5, 6, 3, 1, 7, 8, 9, 8, 3, 1, 6, 2, 2, 2, 3, 6, 2, 3, 2, 1, 4, 3, 5, 7, 6, 7, 1, 5, 5, 5, 1, 9, 13, 5, 5, 6, 6, 3, 3, 6, 5, 5, 5, 1, 8, 7, 4, 1, 5, 1, 7, 4, 12, 5, 7, 1, 1, 3, 2, 1, 1, 1, 1, 5, 9, 7, 4, 4, 5, 2, 4, 5, 4, 3, 2, 5, 3, 4, 2, 3, 7, 5, 3, 4, 5, 1, 1, 6, 6, 5, 3, 5, 4, 5, 2, 3, 6, 3, 1, 5, 3, 2, 2, 1, 5, 7, 2, 7, 1, 3, 3, 4, 4, 1, 5, 4, 4, 4, 4, 4, 7, 6, 6, 9, 7, 2, 4, 4, 3, 8, 6, 1, 2, 4, 4, 5, 5, 6, 4, 8, 12, 11, 3, 5, 6, 2, 5, 9, 3, 5, 1, 6, 9, 2, 2, 2, 8, 8, 4, 6, 8, 8, 5, 6, 8, 8, 9, 3, 6, 2, 4, 5, 3, 3, 3, 4, 6, 2, 1, 4, 5, 4, 2, 3, 2, 2, 5, 6, 1, 2, 3, 2, 4, 2, 1, 2, 4, 3, 3, 2, 2, 5, 2, 5, 4, 4, 5, 4, 5, 4, 3, 3, 3, 7, 8, 4, 5, 3, 3, 6, 6, 2, 12, 5, 4, 1, 2, 5, 3, 6, 7, 8, 12, 1, 6, 8, 2, 7, 5, 6, 1, 2, 5, 1, 2, 1, 1, 3, 1, 7, 6, 2, 2, 3, 10, 4, 9, 14, 3, 1, 2, 6, 8, 6, 6, 11, 10, 4, 3, 4, 2, 2, 5, 5, 15, 5, 9, 6, 5, 3, 2, 5, 6, 7, 9, 1, 2, 4, 4, 3, 5, 3, 2, 4, 5, 3, 2, 1, 14, 7, 3, 4, 6, 6, 7, 5, 8, 4, 5, 8, 6, 8, 4, 2, 7, 2, 8, 2, 5, 2, 4, 2, 2, 3, 4, 3, 3, 3, 1, 8, 4, 8, 4, 5, 14, 6, 6, 7, 2, 3, 3, 1, 2, 2, 6, 10, 3, 9, 3, 4, 8, 4, 3, 3, 4, 4, 4, 1, 1, 2, 2, 3, 2, 2, 1, 2, 5, 4, 2, 2, 4, 2, 4, 3, 4, 3, 2, 8, 6, 4, 5, 5, 9, 7, 9, 8, 3, 5, 3, 3, 5, 4, 6, 8, 7, 9, 3, 2, 5, 2, 9, 2, 3, 2, 2, 3, 1, 1, 3, 7, 2, 6, 3, 11, 5, 5, 6, 3, 4, 7, 11, 6, 3, 5, 4, 2, 3, 5, 7, 4, 1, 5, 2, 3, 7, 3, 3, 4, 4, 7, 8, 8, 6, 6, 1, 1, 6, 1, 6, 1, 7, 1, 7, 4, 4, 5, 3, 4, 3, 2, 2, 4, 7, 3, 3, 2, 2, 1, 4, 4, 5, 4, 1, 1, 2, 3, 2, 3, 5, 5, 6, 7, 4, 8, 4, 13, 8, 2, 5, 8, 3, 3, 5, 2, 8, 8, 8, 8, 10, 3, 2, 9, 12, 12, 9, 8, 9, 7, 5, 3, 4, 3, 4, 8, 6, 7, 4, 4, 4, 3, 3, 9, 11, 5, 4, 3, 3, 7, 5, 3, 7, 10, 6, 8, 11, 4, 1, 7, 4, 2, 6, 3, 7, 4, 4, 3, 5, 9, 5, 2, 4, 4, 10, 7, 9, 3, 4, 3, 4, 5, 5, 6, 6, 3, 6, 6, 2, 3, 4, 2, 4, 3, 2, 5, 6, 7, 13, 7, 4, 6, 7, 2, 7, 5, 5, 2, 4, 6, 7, 9, 4, 6, 3, 6, 2, 2, 6, 8, 6, 3, 5, 6, 3, 4, 4, 2, 5, 1, 4, 5, 7, 3, 4, 3, 3, 3, 1, 6, 6, 1, 3, 3, 6, 3, 6, 7, 2, 4, 1, 1, 1, 4, 2, 1, 2, 2, 4, 6, 4, 1, 9, 2, 3, 3, 12, 3, 2, 5, 18, 2, 2, 6, 5, 6, 3, 3, 2, 9, 3, 2, 5, 6, 6, 1, 6, 2, 5, 2, 3, 3, 2, 3, 5, 6, 4, 2, 9, 9, 10, 3, 11, 3, 6, 4, 9, 1, 5, 5, 3, 6, 4, 5, 5, 11, 3, 4, 3, 2, 3, 3, 2, 1, 2, 5, 3, 5, 5, 1, 2, 2, 5, 2, 2, 1, 1, 2, 3, 1, 5, 5, 5, 1, 6, 5, 5, 8, 1, 3, 1, 2, 2, 3, 1, 2, 7, 1, 4, 3, 3, 3, 3, 4, 6, 3, 3, 5, 4, 5, 2, 3, 2, 4, 4, 4, 2, 3, 4, 2, 1, 4, 2, 5, 4, 5, 4, 10, 8, 3, 3, 2, 4, 3, 2, 3, 2, 2, 5, 6, 5, 3, 5, 4, 2, 1, 4, 5, 1, 3, 3, 9, 4, 7, 9, 1, 4, 4, 1, 5, 5, 7, 2, 4, 1, 9, 3, 13, 5, 7, 15, 6, 7, 9, 6, 7, 5, 1, 4, 2, 4, 3, 2, 11, 3, 3, 4, 4, 1, 5, 1, 11, 2, 3, 2, 2, 2, 6, 6, 8, 5, 5, 6, 1, 2, 3, 5, 4, 2, 4, 3, 4, 2, 3, 4, 3, 2, 5, 6, 6, 2, 4, 1, 2, 2, 3, 2, 2, 1, 2, 3, 2, 2, 1, 2, 2, 2, 1, 1, 1, 1, 1, 1, 1, 2, 5, 5, 3, 5, 3, 7, 6, 11, 2, 4, 10, 2, 5, 11, 5, 2, 5, 1, 5, 6, 10, 6, 8, 10, 3, 10, 6, 6, 6, 6, 3, 10, 4, 4, 2, 2, 5, 7, 6, 3, 2, 8, 4, 4, 3, 5, 8, 5, 4, 4, 5, 5, 4, 4, 6, 8, 8, 3, 4, 5, 4, 5, 10, 9, 4, 12, 1, 4, 5, 8, 10, 3, 4, 3, 3, 5, 5, 6, 9, 3, 5, 3, 3, 1, 6, 8, 11, 5, 1, 6, 3, 5, 2, 7, 4, 5, 6, 2, 5, 6, 6, 6, 5, 2, 3, 2, 4, 5, 5, 4, 3, 2, 5, 8, 7, 9, 8, 4, 2, 1, 1, 7, 5, 8, 4, 4, 8, 4, 6, 3, 6, 4, 7, 11, 6, 8, 2, 5, 1, 6, 3, 7, 7, 3, 6, 7, 1, 3, 3, 3, 1, 1, 2, 3, 3, 4, 2, 5, 4, 6, 5, 1, 3, 5, 1, 2, 4, 1, 2, 2, 7, 3, 7, 1, 3, 2, 3, 2, 3, 6, 1, 2, 4, 2, 6, 9, 5, 9, 6, 4, 3, 3, 4, 2, 2, 3, 7, 9, 2, 5, 1, 4, 5, 4, 3, 3, 3, 11, 4, 4, 10, 3, 5, 3, 2, 6, 3, 6, 4, 1, 3, 2, 1, 2, 1, 3, 2, 6, 6, 2, 2, 3, 2, 2, 1, 5, 2, 1, 1, 1, 2, 2, 2, 6, 2, 2, 2, 3, 6, 9, 2, 1, 4, 7, 5, 9, 11, 3, 4, 2, 10, 6, 8, 2, 4, 4, 6, 8, 12, 8, 15, 21, 4, 5, 4, 2, 7, 9, 3, 1, 6, 2, 1, 2, 2, 5, 1, 6, 3, 3, 6, 5, 6, 3, 3, 8, 2, 2, 3, 8, 4, 2, 2, 4, 2, 4, 5, 8, 6, 3, 2, 3, 5, 6, 8, 2, 8, 3, 4, 7, 3, 3, 6, 8, 1, 5, 2, 3, 6, 2, 2, 1, 1, 1, 2, 2, 3, 4, 6, 2, 3, 3, 4, 2, 2, 1, 5, 4, 5, 2, 4, 10, 7, 1, 4, 4, 3, 1, 6, 4, 2, 5, 2, 2, 4, 4, 3, 1, 1, 4, 8, 4, 2, 3, 5, 4, 3, 3, 4, 2, 2, 3, 2, 8, 10, 7, 5, 4, 4, 4, 1, 3, 3, 7, 4, 1, 3, 2, 6, 2, 2, 2, 3, 3, 9, 4, 4, 1, 1, 2, 1, 4, 3, 10, 4, 2, 1, 6, 4, 4, 1, 1, 2, 2, 6, 7, 5, 3, 9, 4, 6, 2, 2, 2, 2, 3, 3, 5, 4, 5, 6, 1, 6, 1, 2, 2, 4, 3, 2, 5, 4, 1, 2, 2, 2, 2, 2, 5, 4, 1, 5, 3, 5, 5, 4, 1, 3, 3, 2, 4, 2, 5, 1, 3, 3, 3, 3, 1, 4, 4, 4, 5, 3, 4, 3, 1, 7, 9, 2, 1, 2, 2, 5, 13, 10, 4, 3, 3, 8, 4, 5, 5, 8, 3, 6, 4, 3, 4, 6, 4, 12, 7, 5, 5, 5, 3, 6, 2, 5, 7, 1, 6, 6, 4, 2, 5, 3, 5, 10, 1, 3, 4, 2, 2, 2, 2, 7, 10, 4, 6, 2, 6, 4, 4, 3, 6, 2, 6, 3, 3, 10, 4, 2, 1, 8, 2, 2, 10, 3, 3, 3, 6, 1, 5, 6, 3, 4, 3, 3, 5, 2, 3, 2, 2, 3, 6, 3, 1, 3, 7, 4, 4, 2, 3, 2, 8, 1, 1, 3, 2, 2, 3, 2, 6, 2, 5, 6, 5, 7, 8, 1, 3, 4, 1, 1, 3, 8, 2, 4, 4, 3, 1, 8, 3, 5, 4, 3, 1, 6, 6, 14, 7, 2, 3, 3, 2, 5, 8, 5, 6, 5, 1, 5, 9, 5, 7, 6, 2, 5, 6, 11, 3, 6, 4, 9, 14, 7, 9, 5, 4, 7, 3, 1, 7, 6, 9, 6, 3, 3, 2, 6, 9, 2, 4, 8, 2, 7, 13, 5, 11, 1, 7, 16, 12, 12, 5, 1, 1, 7, 5, 3, 12, 3, 5, 5, 7, 4, 3, 5, 4, 1, 2, 4, 6, 5, 6, 6, 1, 2, 1, 2, 1, 2, 7, 8, 5, 3, 4, 3, 6, 3, 4, 4, 5, 5, 3, 2, 4, 5, 7, 5, 6, 5, 3, 5, 5, 10, 1, 9, 12, 13, 4, 5, 5, 2, 2, 4, 2, 3, 4, 5, 3, 1, 3, 8, 3, 3, 3, 1, 3, 3, 1, 2, 4, 2, 4, 2, 6, 4, 5, 4, 5, 3, 1, 4, 1, 4, 6, 3, 3, 4, 7, 1, 3, 4, 7, 3, 1, 3, 1, 2, 4, 4, 6, 5, 5, 4, 2, 3, 5, 1, 3, 3, 1, 2, 1, 2, 2, 2, 1, 2, 3, 3, 2, 3, 7, 3, 1, 3, 10, 7, 6, 7, 7, 4, 3, 3, 3, 4, 3, 6, 7, 6, 8, 6, 5, 7, 5, 7, 13, 4, 4, 2, 6, 2, 5, 2, 2, 2, 1, 2, 2, 6, 4, 3, 3, 3, 2, 4, 2, 5, 5, 5, 3, 3, 1, 6, 5, 2, 1, 9, 5, 4, 1, 3, 4, 2, 4, 1, 2, 6, 8, 6, 4, 2, 3, 3, 7, 5, 8, 2, 1, 6, 3, 6, 3, 1, 5, 3, 4, 4, 2, 3, 4, 1, 1, 2, 2, 1, 2, 2, 4, 7, 8, 5, 8, 7, 9, 3, 4, 7, 4, 3, 2, 5, 1, 2, 2, 2, 2, 6, 7, 4, 9, 3, 4, 3, 3, 2, 4, 5, 3, 6, 4, 3, 8, 3, 4, 4, 3, 2, 3, 4, 6, 6, 6, 8, 14, 28, 4, 9, 7, 4, 4, 6, 4, 6, 7, 8, 9, 3, 1, 1, 9, 11, 7, 4, 5, 9, 8, 11, 3, 10, 6, 8, 4, 4, 1, 4, 4, 5, 4, 4, 6, 5, 4, 4, 3, 1, 2, 2, 2, 3, 1, 2, 1, 3, 2, 4, 2, 3, 1, 4, 3, 3, 3, 3, 3, 2, 2, 2, 1, 2, 2, 3, 4, 3, 6, 3, 4, 4, 8, 4, 3, 3, 5, 1, 4, 7, 5, 4, 4, 7, 5, 3, 2, 2, 2, 6, 8, 2, 2, 3, 6, 6, 3, 4, 8, 4, 5, 4, 2, 6, 2, 2, 4, 2, 2, 3, 2, 3, 4, 3, 2, 1, 5, 1, 1, 8, 2, 9, 4, 2, 2, 1, 6, 5, 6, 3, 4, 3, 3, 3, 3, 5, 3, 3, 6, 4, 1, 2, 1, 5, 5, 5, 3, 3, 6, 5, 1, 3, 3, 5, 4, 3, 3, 2, 3, 1, 3, 5, 6, 3, 1, 2, 2, 2, 2, 6, 4, 6, 7, 3, 4, 5, 1, 6, 7, 5, 2, 4, 1, 3, 3, 2, 6, 3, 2, 2, 7, 8, 7, 1, 4, 4, 6, 5, 4, 5, 2, 1, 3, 3, 3, 2, 4, 4, 5, 4, 3, 3, 4, 2, 3, 2, 3, 5, 1, 4, 4, 4, 12, 1, 5, 4, 3, 5, 6, 6, 7, 6, 6, 4, 3, 3, 3, 2, 1, 3, 6, 8, 5, 3, 4, 6, 4, 3, 7, 4, 2, 5, 1, 5, 2, 2, 2, 6, 5, 4, 2, 3, 2, 3, 2, 10, 5, 3, 7, 3, 4, 2, 3, 4, 2, 4, 2, 2, 2, 3, 2, 3, 3, 5, 5, 2, 2, 5, 2, 4, 5, 2, 4, 3, 6, 5, 3, 7, 3, 7, 1, 5, 3, 2, 2, 3, 2, 3, 2, 1, 2, 6, 5, 3, 5, 2, 4, 2, 2, 2, 2, 4, 1, 3, 1, 1, 2, 2, 5, 5, 2, 4, 1, 2, 2, 2, 1, 1, 1, 2, 3, 1, 4, 4, 6, 3, 13, 3, 4, 7, 5, 5, 3, 3, 1, 6, 7, 1, 5, 6, 9, 5, 3, 9, 5, 7, 3, 7, 3, 4, 4, 8, 2, 4, 3, 6, 3, 5, 3, 3, 3, 4, 5, 5, 7, 9, 4, 2, 3, 8, 9, 9, 11, 5, 4, 4, 5, 5, 2, 5, 5, 3, 5, 4, 4, 2, 4, 2, 2, 3, 4, 1, 4, 1, 4, 5, 4, 4, 4, 1, 4, 1, 2, 1, 3, 3, 5, 1, 5, 6, 3, 4, 3, 4, 5, 3, 5, 3, 2, 5, 4, 2, 2, 3, 2, 4, 4, 4, 4, 3, 6, 6, 3, 2, 2, 3, 2, 1, 1, 1, 1, 1, 3, 4, 1, 2, 1, 4, 2, 5, 6, 2, 5, 5, 4, 3, 4, 2, 4, 1, 1, 4, 3, 3, 3, 5, 6, 5, 11, 3, 5, 6, 5, 3, 5, 8, 3, 3, 3, 4, 6, 4, 9, 5, 9, 2, 7, 4, 3, 3, 4, 4, 6, 5, 4, 4, 6, 4, 6, 4, 2, 1, 6, 3, 7, 1, 5, 6, 11, 3, 5, 5, 5, 6, 1, 6, 2, 3, 6, 6, 4, 5, 6, 10, 5, 5, 4, 1, 6, 4, 10, 12, 5, 2, 3, 3, 1, 3, 4, 4, 1, 4, 3, 5, 3, 4, 4, 2, 4, 2, 2, 2, 2, 1, 7, 2, 1, 3, 7, 9, 5, 4, 5, 6, 3, 2, 1, 6, 4, 4, 2, 4, 3, 8, 2, 1, 2, 7, 1, 6, 4, 2, 4, 4, 3, 3, 3, 1, 1, 8, 5, 6, 5, 8, 8, 11, 3, 9, 3, 4, 5, 4, 9, 2, 3, 2, 3, 2, 5, 4, 5, 6, 2, 2, 4, 2, 4, 3, 4, 4, 3, 4, 6, 3, 3, 2, 5, 5, 5, 3, 6, 5, 3, 2, 5, 4, 5, 5, 3, 3, 6, 5, 4, 5, 1, 5, 3, 4, 5, 3, 5, 3, 5, 4, 14, 14, 2, 1, 3, 3, 1, 2, 1, 1, 3, 3, 2, 1, 4, 3, 1, 2, 4, 2, 3, 2, 1, 2, 5, 4, 3, 6, 3, 4, 5, 7, 6, 3, 7, 4, 3, 6, 11, 1, 3, 1, 7, 3, 1, 3, 2, 5, 2, 2, 1, 1, 4, 1, 2, 1, 1, 1, 20, 8, 9, 1, 1, 7, 1, 3, 6, 4, 14, 5, 1, 1, 1, 6, 7, 5, 4, 1, 7, 8, 3, 4, 3, 3, 2, 5, 10, 5, 1, 6, 7, 2, 3, 3, 6, 4, 9, 2, 4, 3, 1, 2, 1, 3, 1, 4, 4, 2, 2, 2, 3, 3, 4, 2, 8, 3, 4, 2, 7, 9, 5, 3, 4, 7, 6, 9, 6, 3, 4, 5, 5, 5, 4, 4, 3, 1, 1, 1, 1, 3, 2, 4, 8, 12, 3, 3, 4, 3, 8, 1, 2, 4, 2, 5, 8, 7, 2, 7, 7, 8, 3, 3, 4, 3, 4, 1, 2, 6, 11, 8, 7, 2, 10, 8, 9, 6, 7, 2, 3, 1, 3, 3, 2, 2, 1, 4, 2, 3, 3, 2, 2, 6, 3, 3, 2, 3, 7, 3, 6, 1, 1, 5, 2, 1, 3, 4, 9, 10, 7, 4, 2, 4, 6, 2, 4, 2, 8, 6, 10, 1, 5, 3, 1, 1, 5, 7, 3, 7, 2, 6, 7, 4, 2, 6, 7, 6, 8, 2, 2, 2, 2, 3, 1, 2, 1, 4, 3, 1, 2, 2, 3, 3, 2, 5, 1, 2, 2, 2, 3, 2, 5, 2, 4, 4, 2, 6, 3, 1, 2, 2, 1, 2, 4, 4, 4, 2, 4, 6, 4, 3, 5, 4, 6, 8, 2, 4, 5, 1, 2, 3, 4, 3, 5, 3, 3, 3, 4, 3, 2, 6, 10, 6, 1, 4, 6, 4, 6, 2, 7, 6, 4, 11, 6, 4, 6, 2, 3, 2, 1, 1, 3, 1, 1, 1, 2, 5, 2, 1, 2, 3, 4, 2, 3, 2, 2, 2, 2, 3, 6, 3, 3, 6, 1, 3, 3, 2, 5, 1, 1, 8, 11, 4, 6, 2, 4, 7, 10, 6, 6, 7, 5, 4, 5, 2, 6, 3, 3, 9, 5, 4, 4, 5, 3, 2, 3, 6, 7, 8, 3, 6, 6, 5, 4, 3, 1, 3, 4, 7, 4, 7, 4, 12, 5, 5, 6, 4, 10, 5, 5, 4, 10, 2, 3, 3, 7, 6, 10, 8, 10, 4, 11, 21, 4, 6, 6, 4, 4, 3, 12, 5, 3, 3, 4, 3, 8, 2, 5, 2, 3, 1, 7, 4, 5, 4, 4, 4, 3, 4, 6, 3, 1, 1, 3, 3, 2, 2, 5, 1, 7, 10, 4, 2, 10, 4, 4, 3, 7, 9, 3, 3, 10, 3, 6, 3, 4, 7, 7, 2, 2, 4, 3, 1, 16, 5, 4, 9, 5, 11, 1, 2, 8, 4, 2, 2, 4, 6, 8, 6, 4, 3, 9, 11, 4, 12, 4, 4, 7, 4, 1, 2, 2, 2, 2, 2, 2, 1, 4, 7, 6, 7, 3, 1, 4, 6, 8, 9, 1, 7, 2, 4, 5, 7, 8, 5, 7, 4, 4, 5, 3, 5, 3, 5, 9, 2, 6, 3, 3, 6, 4, 1, 1, 1, 1, 3, 5, 2, 9, 3, 3, 5, 7, 5, 6, 5, 5, 5, 8, 4, 6, 10, 13, 11, 5, 7, 4, 3, 4, 5, 6, 7, 8, 8, 2, 3, 7, 5, 4, 4, 4, 5, 1, 5, 11, 7, 5, 8, 2, 2, 14, 5, 4, 1, 2, 3, 7, 11, 4, 8, 2, 1, 4, 4, 1, 11, 5, 3, 1, 10, 5, 6, 2, 4, 2, 5, 3, 4, 2, 5, 3, 4, 2, 2, 4, 4, 7, 5, 6, 2, 2, 1, 2, 3, 4, 5, 5, 7, 4, 4, 3, 6, 3, 3, 5, 2, 3, 3, 5, 6, 5, 8, 4, 6, 8, 1, 6, 2, 6, 6, 5, 7, 6, 6, 3, 3, 6, 12, 5, 1, 2, 10, 5, 4, 2, 2, 2, 3, 3, 2, 5, 2, 4, 3, 2, 2, 3, 1, 6, 8, 3, 4, 8, 10, 11, 3, 3, 2, 4, 2, 4, 4, 2, 3, 5, 1, 2, 3, 3, 2, 3, 4, 5, 3, 2, 4, 3, 2, 4, 3, 1, 10, 4, 5, 6, 6, 13, 3, 2, 3, 3, 2, 2, 2, 3, 4, 5, 6, 4, 5, 1, 2, 2, 1, 1, 2, 3, 2, 3, 5, 1, 3, 4, 1, 2, 2, 2, 3, 3, 1, 3, 6, 9, 10, 1, 5, 1, 6, 5, 4, 2, 12, 4, 4, 3, 3, 4, 3, 5, 1, 3, 3, 5, 4, 1, 1, 1, 3, 5, 5, 2, 2, 3, 4, 9, 2, 2, 2, 5, 7, 9, 11, 4, 3, 3, 3, 3, 3, 3, 3, 4, 2, 4, 2, 3, 2, 3, 8, 3, 1, 1, 1, 2, 3, 3, 4, 2, 1, 5, 3, 1, 3, 1, 2, 2, 11, 5, 5, 6, 1, 3, 4, 5, 4, 4, 2, 4, 4, 4, 1, 5, 2, 3, 14, 4, 1, 6, 5, 10, 8, 6, 5, 5, 3, 5, 5, 5, 7, 2, 3, 4, 3, 4, 3, 2, 5, 3, 3, 4, 5, 2, 7, 2, 6, 3, 3, 3, 3, 5, 6, 7, 7, 5, 3, 4, 5, 6, 4, 1, 2, 2, 1, 2, 3, 5, 6, 6, 4, 8, 5, 3, 6, 8, 4, 3, 1, 4, 11, 4, 5, 9, 4, 3, 8, 4, 5, 11, 4, 5, 2, 1, 3, 8, 5, 7, 1, 5, 4, 5, 3, 4, 3, 3, 6, 1, 6, 9, 7, 6, 9, 7, 5, 2, 3, 4, 7, 3, 4, 5, 1, 4, 6, 4, 1, 3, 5, 6, 3, 3, 6, 7, 4, 5, 1, 3, 3, 3, 5, 4, 1, 3, 4, 5, 6, 15, 3, 6, 1, 4, 7, 7, 7, 8, 2, 14, 2, 7, 3, 4, 6, 1, 5, 6, 8, 3, 2, 1, 4, 1, 6, 7, 9, 1, 4, 1, 3, 1, 2, 2, 1, 2, 3, 2, 7, 5, 3, 2, 6, 7, 7, 3, 1, 1, 2, 4, 7, 6, 4, 9, 1, 2, 3, 2, 1, 2, 4, 6, 11, 3, 5, 1, 3, 4, 3, 5, 1, 6, 4, 5, 7, 2, 4, 1, 2, 3, 1, 13, 15, 8, 2, 6, 7, 6, 8, 6, 9, 1, 2, 10, 4, 4, 4, 3, 11, 3, 7, 12, 11, 16, 1, 13, 5, 11, 9, 13, 5, 7, 2, 3, 7, 7, 10, 4, 4, 7, 11, 6, 10, 6, 6, 8, 5, 5, 9, 7, 12, 3, 3, 2, 2, 2, 1, 2, 1, 1, 1, 3, 2, 1, 1, 2, 2, 1, 2, 1, 1, 1, 2, 1, 1, 1, 3, 2, 2, 2, 3, 1, 1, 2, 1, 1, 5, 4, 5, 2, 3, 5, 3, 6, 4, 2, 2, 5, 2, 3, 3, 1, 1, 6, 6, 1, 2, 3, 3, 4, 1, 2, 5, 1, 2, 7, 4, 4, 5, 4, 2, 1, 3, 3, 5, 4, 5, 3, 2, 1, 1, 2, 1, 3, 4, 3, 2, 2, 3, 2, 2, 1, 4, 1, 3, 2, 3, 3, 4, 7, 3, 2, 1, 6, 2, 2, 2, 2, 3, 2, 3, 3, 5, 12, 5, 8, 6, 2, 7, 4, 3, 7, 4, 3, 1, 7, 9, 3, 4, 7, 5, 6, 5, 6, 8, 5, 1, 8, 4, 4, 2, 2, 4, 5, 2, 6, 4, 2, 1, 1, 2, 3, 4, 3, 2, 4, 2, 3, 4, 2, 3, 4, 1, 4, 3, 3, 3, 4, 1, 5, 5, 3, 2, 2, 5, 6, 3, 3, 2, 5, 3, 2, 2, 10, 5, 9, 5, 3, 3, 2, 3, 4, 2, 10, 5, 4, 5, 1, 1, 2, 2, 4, 7, 1, 1, 3, 1, 2, 2, 7, 7, 8, 3, 3, 6, 3, 9, 8, 3, 1, 6, 1, 4, 4, 3, 4, 2, 3, 2, 3, 1, 1, 2, 1, 2, 4, 4, 1, 10, 2, 3, 4, 5, 4, 5, 9, 6, 8, 2, 5, 3, 1, 5, 1, 4, 2, 6, 1, 3, 4, 4, 2, 4, 5, 4, 1, 2, 2, 2, 2, 2, 5, 5, 3, 1, 4, 1, 5, 4, 3, 2, 1, 2, 4, 2, 3, 4, 3, 3, 3, 3, 3, 2, 9, 4, 6, 3, 2, 4, 3, 4, 3, 3, 2, 3, 7, 2, 4, 1, 5, 1, 1, 7, 6, 1, 2, 11, 3, 6, 7, 3, 2, 2, 6, 9, 1, 1, 4, 1, 2, 5, 4, 4, 4, 4, 3, 3, 2, 2, 1, 2, 2, 2, 4, 2, 3, 5, 2, 3, 4, 1, 1, 8, 4, 6, 6, 6, 6, 7, 5, 8, 1, 7, 7, 1, 4, 4, 6, 7, 6, 3, 2, 2, 2, 3, 3, 1, 2, 2, 2, 3, 3, 5, 3, 3, 1, 1, 3, 5, 2, 1, 8, 6, 3, 2, 3, 5, 4, 7, 3, 1, 5, 5, 4, 1, 5, 4, 4, 3, 1, 3, 2, 2, 1, 2, 5, 4, 6, 6, 6, 7, 7, 2, 3, 3, 1, 5, 4, 5, 2, 3, 3, 1, 5, 8, 2, 2, 2, 3, 4, 5, 3, 4, 5, 9, 5, 11, 1, 4, 4, 3, 4, 4, 2, 7, 3, 4, 3, 3, 3, 4, 3, 3, 3, 1, 3, 1, 1, 4, 4, 3, 6, 8, 5, 5, 5, 4, 3, 4, 3, 2, 3, 2, 3, 3, 3, 3, 1, 3, 2, 3, 2, 2, 2, 3, 6, 4, 4, 6, 3, 2, 1, 3, 8, 4, 2, 5, 7, 3, 5, 4, 5, 4, 1, 4, 1, 3, 2, 1, 4, 4, 3, 3, 2, 9, 11, 10, 4, 3, 4, 7, 6, 2, 1, 2, 1, 4, 2, 2, 3, 6, 2, 2, 5, 2, 2, 3, 2, 2, 3, 2, 3, 2, 2, 2, 3, 2, 1, 4, 2, 1, 6, 4, 7, 3, 5, 3, 3, 6, 4, 2, 2, 8, 3, 3, 3, 5, 2, 2, 3, 2, 2, 3, 2, 2, 5, 5, 1, 2, 3, 8, 1, 2, 7, 8, 4, 6, 6, 3, 5, 4, 4, 4, 2, 2, 3, 1, 5, 2, 2, 2, 2, 2, 3, 2, 2, 3, 4, 4, 8, 5, 4, 4, 5, 6, 12, 6, 7, 2, 6, 2, 6, 6, 12, 12, 15, 3, 7, 10, 6, 8, 2, 6, 4, 4, 9, 2, 10, 9, 4, 3, 11, 7, 3, 2, 1, 1, 1, 6, 1, 8, 11, 5, 7, 7, 2, 6, 3, 11, 12, 6, 1, 3, 2, 4, 5, 3, 4, 5, 3, 3, 6, 2, 2, 3, 2, 3, 1, 1, 6, 8, 2, 2, 6, 8, 2, 1, 4, 3, 4, 1, 2, 2, 3, 4, 1, 4, 2, 5, 7, 3, 5, 1, 1, 3, 2, 1, 3, 6, 1, 1, 3, 4, 4, 4, 3, 3, 3, 3, 2, 3, 5, 5, 5, 3, 3, 2, 1, 1, 6, 3, 7, 5, 5, 6, 9, 8, 3, 4, 3, 4, 3, 1, 2, 10, 5, 3, 4, 3, 5, 12, 5, 1, 1, 9, 2, 1, 1, 6, 4, 3, 3, 5, 5, 3, 9, 2, 1, 6, 6, 7, 3, 6, 2, 4, 2, 2, 2, 4, 12, 3, 7, 4, 4, 8, 3, 5, 3, 5, 1, 5, 6, 3, 4, 4, 5, 5, 1, 3, 5, 1, 2, 2, 5, 4, 3, 9, 8, 3, 5, 9, 3, 8, 7, 2, 1, 3, 6, 4, 2, 5, 2, 4, 2, 4, 7, 8, 11, 2, 7, 6, 2, 12, 7, 4, 1, 3, 4, 5, 3, 3, 2, 2, 1, 3, 3, 3, 4, 4, 4, 5, 4, 2, 4, 4, 4, 2, 2, 3, 3, 2, 2, 3, 4, 2, 6, 4, 1, 6, 4, 4, 3, 12, 3, 4, 2, 3, 3, 1, 3, 5, 2, 2, 4, 4, 3, 1, 4, 4, 6, 1, 6, 4, 8, 3, 4, 1, 1, 3, 3, 3, 3, 2, 2, 1, 10, 3, 1, 1, 2, 3, 6, 1, 3, 4, 2, 4, 6, 5, 7, 1, 11, 9, 3, 2, 1, 3, 2, 2, 2, 1, 3, 5, 12, 3, 9, 6, 7, 5, 5, 5, 2, 4, 5, 4, 2, 1, 1, 3, 3, 2, 3, 4, 4, 5, 8, 2, 2, 4, 2, 4, 4, 3, 3, 4, 7, 2, 5, 1, 5, 2, 4, 3, 2, 2, 4, 2, 4, 2, 2, 4, 2, 7, 3, 2, 1, 4, 5, 3, 3, 3, 4, 2, 3, 2, 3, 4, 9, 4, 7, 5, 8, 2, 5, 15, 3, 11, 8, 5, 3, 2, 1, 4, 5, 5, 3, 6, 2, 5, 4, 2, 1, 3, 3, 4, 2, 4, 4, 4, 3, 3, 4, 2, 3, 6, 2, 2, 6, 4, 4, 3, 2, 1, 4, 3, 6, 1, 2, 4, 1, 4, 3, 1, 2, 3, 1, 4, 3, 2, 9, 2, 8, 2, 3, 6, 4, 1, 2, 3, 2, 3, 3, 2, 2, 4, 2, 1, 1, 1, 1, 4, 5, 3, 3, 3, 4, 11, 2, 1, 5, 3, 3, 2, 2, 2, 2, 1, 2, 3, 2, 2, 4, 3, 1, 2, 4, 1, 3, 2, 1, 4, 1, 1, 4, 4, 2, 3, 2, 2, 3, 2, 3, 2, 1, 3, 2, 3, 3, 4, 1, 1, 3, 1, 2, 2, 2, 2, 2, 4, 3, 3, 1, 4, 1, 2, 7, 10, 6, 12, 3, 4, 3, 3, 6, 4, 4, 4, 9, 9, 5, 5, 9, 4, 7, 12, 6, 6, 4, 1, 1, 6, 2, 3, 6, 1, 2, 2, 2, 3, 5, 5, 5, 7, 7, 9, 4, 4, 4, 2, 2, 1, 1, 3, 3, 4, 2, 4, 2, 9, 3, 5, 10, 4, 5, 4, 3, 6, 6, 2, 7, 2, 3, 3, 6, 8, 10, 4, 4, 7, 4, 4, 5, 3, 7, 2, 8, 6, 2, 3, 4, 2, 2, 5, 8, 1, 6, 10, 7, 9, 15, 1, 8, 5, 7, 1, 4, 1, 2, 3, 3, 3, 3, 4, 3, 3, 3, 3, 3, 4, 4, 7, 5, 5, 4, 1, 7, 1, 3, 4, 5, 3, 1, 4, 5, 4, 2, 4, 4, 5, 6, 3, 4, 5, 6, 6, 7, 3, 5, 4, 4, 3, 4, 5, 5, 4, 7, 6, 2, 2, 6, 3, 2, 2, 2, 4, 1, 4, 4, 1, 2, 3, 1, 6, 2, 4, 2, 3, 1, 3, 5, 3, 4, 2, 6, 2, 3, 1, 2, 4, 7, 4, 4, 3, 4, 2, 2, 2, 5, 6, 8, 4, 1, 1, 2, 3, 6, 3, 1, 3, 3, 5, 3, 6, 4, 5, 1, 2, 3, 4, 4, 5, 4, 7, 10, 4, 1, 9, 4, 5, 3, 2, 5, 8, 8, 9, 3, 4, 6, 7, 4, 2, 2, 4, 5, 3, 3, 3, 2, 4, 4, 4, 8, 7, 3, 9, 3, 6, 5, 5, 3, 3, 4, 4, 3, 5, 2, 5, 4, 2, 4, 5, 10, 1, 8, 2, 4, 2, 6, 7, 4, 8, 4, 3, 3, 7, 4, 1, 2, 2, 3, 2, 6, 1, 3, 3, 2, 1, 1, 1, 3, 2, 2, 2, 1, 1, 3, 3, 3, 6, 3, 8, 3, 4, 5, 3, 5, 11, 5, 13, 2, 7, 7, 3, 7, 4, 1, 3, 3, 4, 5, 2, 6, 5, 3, 2, 2, 2, 2, 4, 4, 4, 2, 2, 4, 4, 2, 3, 4, 5, 5, 5, 4, 3, 4, 4, 1, 2, 2, 5, 5, 3, 4, 7, 2, 3, 1, 4, 2, 2, 6, 3, 2, 4, 5, 7, 2, 3, 3, 5, 5, 1, 4, 6, 3, 2, 3, 1, 1, 7, 1, 3, 5, 3, 4, 2, 3, 4, 1, 2, 2, 3, 5, 2, 2, 1, 2, 2, 1, 4, 7, 2, 3, 2, 5, 6, 4, 2, 1, 1, 2, 5, 5, 5, 5, 7, 1, 6, 3, 2, 1, 4, 5, 5, 4, 3, 8, 5, 7, 2, 3, 3, 2, 8, 1, 3, 3, 2, 1, 1, 8, 5, 1, 3, 1, 5, 6, 2, 3, 5, 2, 3, 1, 7, 2, 4, 6, 3, 4, 8, 6, 6, 5, 4, 2, 5, 3, 3, 3, 2, 7, 5, 3, 3, 6, 4, 3, 3, 7, 10, 5, 4, 12, 2, 4, 3, 3, 1, 1, 5, 5, 3, 2, 1, 3, 2, 4, 2, 5, 4, 2, 1, 2, 1, 1, 3, 1, 1, 1, 7, 1, 1, 5, 3, 2, 6, 2, 3, 6, 1, 6, 1, 3, 1, 1, 6, 2, 7, 5, 2, 4, 6, 8, 4, 6, 2, 8, 7, 6, 2, 4, 2, 1, 6, 10, 3, 2, 2, 4, 5, 2, 5, 2, 5, 2, 5, 7, 4, 3, 2, 3, 3, 2, 2, 4, 5, 4, 4, 5, 9, 2, 3, 1, 7, 3, 4, 4, 5, 3, 4, 1, 3, 2, 6, 2, 2, 3, 2, 1, 3, 4, 3, 7, 5, 4, 6, 1, 2, 4, 2, 4, 6, 7, 7, 8, 2, 4, 6, 7, 8, 2, 3, 5, 3, 2, 6, 3, 4, 6, 4, 11, 2, 3, 2, 3, 3, 11, 7, 12, 12, 1, 3, 7, 7, 3, 5, 6, 6, 8, 1, 10, 3, 4, 10, 13, 12, 10, 1, 3, 4, 4, 4, 4, 6, 9, 9, 4, 3, 4, 3, 3, 5, 4, 9, 3, 5, 3, 2, 4, 2, 4, 2, 1, 1, 2, 6, 5, 2, 5, 6, 3, 3, 4, 5, 4, 4, 2, 5, 2, 3, 4, 3, 1, 3, 3, 3, 2, 2, 2, 3, 4, 7, 4, 3, 6, 4, 5, 6, 3, 3, 1, 5, 5, 3, 3, 4, 3, 3, 2, 3, 4, 3, 4, 3, 1, 1, 2, 6, 6, 9, 3, 4, 3, 5, 1, 3, 3, 2, 3, 2, 5, 6, 2, 4, 2, 4, 2, 3, 4, 3, 5, 3, 2, 4, 2, 3, 2, 3, 3, 2, 10, 15, 7, 3, 4, 1, 6, 11, 3, 2, 1, 2, 5, 5, 1, 7, 2, 3, 5, 2, 10, 4, 2, 1, 2, 3, 1, 4, 3, 3, 2, 4, 2, 3, 3, 5, 5, 3, 6, 6, 2, 7, 10, 2, 1, 1, 3, 8, 7, 7, 1, 1, 3, 3, 3, 1, 1, 3, 4, 2, 3, 2, 4, 3, 6, 3, 4, 2, 4, 7, 4, 3, 2, 5, 9, 9, 5, 3, 2, 1, 4, 3, 1, 3, 5, 3, 2, 1, 2, 4, 4, 6, 1, 3, 5, 4, 2, 2, 2, 4, 3, 2, 2, 1, 2, 5, 5, 6, 1, 3, 1, 7, 8, 3, 5, 7, 1, 4, 3, 1, 3, 5, 1, 2, 1, 3, 5, 5, 4, 2, 5, 7, 3, 2, 4, 6, 4, 4, 18, 7, 11, 3, 2, 2, 4, 5, 2, 3, 2, 1, 3, 2, 3, 4, 4, 10, 2, 3, 3, 2, 1, 1, 4, 9, 5, 3, 3, 3, 4, 2, 3, 4, 1, 8, 1, 3, 1, 2, 5, 7, 2, 2, 3, 2, 3, 2, 1, 1, 1, 3, 3, 1, 1, 3, 3, 3, 2, 4, 2, 4, 4, 3, 10, 8, 2, 8, 1, 5, 7, 6, 2, 4, 5, 5, 4, 4, 4, 3, 4, 8, 10, 1, 6, 2, 2, 4, 1, 5, 3, 4, 5, 3, 2, 5, 6, 4, 2, 3, 2, 3, 3, 7, 3, 4, 2, 7, 1, 1, 5, 4, 4, 9, 5, 4, 8, 3, 1, 4, 4, 3, 5, 4, 3, 6, 7, 3, 5, 7, 5, 6, 3, 1, 5, 3, 10, 6, 6, 2, 4, 4, 4, 2, 3, 3, 5, 4, 5, 1, 1, 4, 7, 4, 5, 1, 2, 5, 6, 5, 7, 11, 2, 3, 2, 4, 5, 4, 1, 1, 9, 4, 4, 9, 6, 5, 11, 2, 4, 3, 3, 1, 2, 3, 3, 4, 2, 4, 2, 5, 3, 2, 4, 9, 5, 5, 6, 2, 6, 4, 2, 2, 4, 4, 4, 4, 3, 3, 3, 5, 4, 4, 2, 5, 3, 3, 1, 1, 4, 4, 3, 3, 2, 2, 2, 2, 5, 4, 5, 1, 3, 17, 6, 1, 6, 8, 11, 5, 1, 5, 4, 1, 3, 5, 5, 4, 8, 5, 1, 3, 2, 1, 2, 4, 5, 2, 9, 9, 3, 7, 3, 5, 1, 2, 5, 4, 7, 5, 1, 9, 2, 2, 3, 1, 2, 1, 1, 2, 1, 2, 4, 2, 3, 1, 2, 2, 2, 2, 1, 1, 3, 1, 2, 6, 5, 5, 4, 6, 4, 1, 4, 7, 2, 9, 5, 5, 3, 1, 3, 4, 1, 1, 7, 1, 2, 2, 3, 4, 5, 3, 5, 2, 3, 6, 4, 9, 9, 2, 6, 7, 11, 3, 8, 7, 8, 1, 1, 9, 5, 6, 10, 8, 5, 8, 2, 2, 6, 1, 1, 2, 2, 1, 2, 2, 1, 2, 2, 3, 2, 3, 4, 3, 3, 2, 2, 12, 11, 2, 5, 9, 2, 7, 6, 4, 2, 5, 5, 5, 1, 6, 5, 3, 3, 1, 1, 6, 7, 5, 10, 12, 5, 8, 4, 4, 7, 3, 5, 5, 2, 8, 10, 5, 3, 7, 5, 4, 9, 3, 2, 4, 8, 4, 3, 1, 3, 1, 1, 1, 4, 5, 1, 4, 1, 3, 1, 3, 1, 1, 1, 1, 1, 1, 2, 1, 4, 4, 2, 5, 1, 2, 2, 1, 1, 4, 3, 2, 2, 5, 3, 2, 5, 4, 4, 3, 4, 3, 1, 3, 3, 3, 5, 2, 1, 3, 3, 2, 1, 1, 5, 3, 4, 1, 9, 3, 3, 4, 3, 2, 3, 5, 3, 5, 4, 4, 5, 3, 3, 3, 7, 1, 3, 4, 5, 6, 7, 6, 2, 7, 5, 5, 1, 3, 4, 3, 2, 3, 8, 2, 1, 4, 8, 4, 3, 1, 2, 3, 5, 3, 1, 1, 4, 1, 2, 5, 5, 3, 4, 2, 2, 3, 2, 2, 1, 2, 5, 7, 4, 3, 3, 1, 2, 1, 3, 3, 1, 5, 3, 1, 1, 3, 3, 3, 1, 2, 2, 3, 2, 3, 2, 4, 4, 1, 1, 3, 4, 3, 3, 5, 1, 5, 4, 5, 3, 2, 6, 3, 3, 3, 1, 4, 4, 9, 6, 3, 4, 3, 6, 4, 3, 1, 2, 3, 3, 4, 5, 2, 2, 4, 2, 4, 4, 8, 4, 3, 1, 6, 1, 4, 2, 1, 3, 5, 5, 3, 3, 2, 2, 5, 4, 3, 6, 3, 2, 4, 4, 5, 9, 1, 7, 3, 4, 4, 7, 2, 2, 3, 12, 2, 1, 6, 4, 2, 7, 3, 2, 2, 1, 4, 3, 5, 8, 8, 4, 4, 4, 9, 4, 5, 1, 5, 8, 2, 2, 6, 3, 3, 7, 1, 4, 3, 2, 2, 1, 7, 1, 2, 2, 2, 1, 2, 3, 5, 3, 1, 4, 3, 3, 5, 3, 5, 6, 2, 11, 4, 5, 2, 11, 5, 6, 3, 3, 6, 4, 3, 3, 2, 4, 3, 1, 3, 2, 5, 3, 1, 4, 6, 1, 7, 3, 3, 5, 4, 6, 3, 6, 13, 4, 5, 6, 11, 4, 3, 2, 6, 3, 4, 6, 4, 3, 7, 5, 2, 10, 6, 2, 5, 2, 3, 3, 4, 2, 3, 5, 5, 1, 3, 2, 1, 2, 1, 3, 1, 1, 6, 3, 5, 4, 3, 6, 4, 8, 4, 6, 2, 4, 3, 2, 2, 1, 3, 7, 1, 7, 4, 6, 5, 4, 2, 2, 1, 2, 3, 2, 2, 2, 4, 6, 1, 7, 3, 12, 3, 6, 4, 1, 3, 4, 1, 2, 2, 5, 2, 3, 2, 4, 3, 4, 5, 4, 3, 5, 3, 5, 6, 6, 4, 2, 6, 1, 3, 4, 4, 4, 6, 6, 5, 4, 5, 6, 3, 2, 4, 5, 4, 5, 6, 6, 2, 3, 3, 3, 2, 2, 4, 3, 6, 1, 5, 1, 7, 3, 6, 3, 5, 3, 5, 6, 2, 3, 5, 2, 9, 7, 2, 1, 2, 3, 2, 2, 2, 4, 5, 3, 5, 8, 7, 4, 1, 2, 5, 4, 4, 4, 4, 8, 5, 4, 6, 3, 8, 3, 1, 3, 2, 3, 5, 6, 3, 5, 4, 3, 8, 13, 6, 7, 3, 4, 3, 3, 2, 3, 6, 2, 4, 3, 11, 7, 2, 3, 1, 9, 9, 6, 2, 6, 2, 6, 4, 3, 3, 4, 5, 5, 4, 5, 5, 8, 1, 2, 7, 6, 7, 6, 4, 6, 4, 8, 11, 6, 1, 5, 4, 7, 4, 4, 4, 4, 5, 7, 2, 2, 1, 5, 1, 4, 1, 1, 5, 4, 3, 4, 1, 4, 3, 4, 5, 7, 8, 6, 3, 8, 3, 4, 4, 3, 6, 1, 4, 3, 4, 6, 9, 3, 6, 5, 7, 10, 5, 5, 4, 4, 3, 6, 9, 2, 3, 7, 2, 8, 4, 3, 6, 2, 1, 1, 2, 3, 1, 1, 3, 5, 4, 4, 4, 1, 6, 4, 2, 6, 3, 3, 5, 5, 7, 8, 3, 3, 5, 3, 7, 7, 5, 1, 2, 10, 4, 3, 3, 3, 1, 1, 5, 5, 2, 5, 3, 2, 2, 1, 4, 3, 2, 3, 2, 5, 2, 3, 3, 8, 2, 2, 3, 2, 4, 3, 1, 4, 5, 3, 5, 5, 2, 3, 6, 9, 4, 5, 4, 5, 6, 3, 4, 4, 3, 4, 5, 3, 5, 6, 4, 2, 4, 4, 5, 3, 3, 2, 6, 2, 1, 3, 4, 4, 2, 3, 1, 1, 2, 3, 1, 4, 9, 13, 4, 6, 1, 8, 7, 4, 3, 3, 7, 8, 11, 6, 2, 5, 3, 3, 2, 4, 2, 4, 7, 11, 4, 1, 6, 6, 7, 5, 9, 1, 5, 2, 1, 1, 1, 7, 6, 10, 4, 8, 1, 8, 2, 9, 3, 7, 6, 5, 4, 6, 1, 12, 3, 1, 5, 2, 1, 3, 2, 3, 4, 5, 4, 3, 4, 5, 6, 1, 2, 8, 5, 7, 13, 4, 5, 7, 3, 3, 5, 5, 7, 3, 2, 4, 6, 10, 1, 9, 4, 4, 3, 1, 3, 1, 3, 3, 2, 2, 1, 1, 3, 1, 2, 5, 5, 5, 8, 4, 2, 1, 5, 6, 4, 5, 7, 1, 2, 1, 4, 2, 2, 1, 4, 2, 4, 2, 7, 1, 6, 5, 11, 1, 6, 8, 5, 11, 4, 6, 3, 13, 5, 4, 7, 3, 3, 1, 2, 5, 1, 6, 2, 12, 14, 5, 3, 9, 5, 4, 6, 6, 4, 5, 6, 2, 5, 4, 4, 1, 2, 1, 1, 7, 2, 2, 5, 3, 2, 5, 6, 4, 8, 11, 6, 4, 9, 1, 4, 8, 4, 4, 10, 10, 7, 11, 7, 8, 11, 6, 3, 5, 7, 1, 5, 5, 5, 6, 5, 3, 4, 4, 4, 5, 2, 2, 9, 3, 4, 7, 5, 6, 4, 5, 3, 4, 3, 2, 4, 4, 3, 3, 4, 6, 2, 4, 2, 5, 3, 1, 1, 6, 7, 3, 5, 2, 5, 2, 3, 6, 4, 6, 1, 1, 14, 9, 8, 12, 4, 3, 12, 3, 6, 3, 5, 1, 5, 2, 1, 2, 4, 3, 8, 3, 5, 3, 5, 4, 3, 8, 5, 3, 5, 4, 3, 7, 8, 1, 2, 5, 6, 2, 5, 6, 1, 2, 3, 7, 3, 5, 4, 6, 8, 1, 1, 4, 7, 1, 6, 3, 4, 2, 4, 4, 5, 6, 9, 2, 8, 2, 1, 2, 9, 1, 1, 4, 3, 5, 5, 6, 8, 1, 6, 1, 1, 2, 5, 11, 3, 1, 2, 2, 4, 8, 5, 2, 4, 6, 4, 5, 5, 5, 7, 1, 3, 2, 5, 3, 5, 9, 6, 3, 6, 3, 9, 2, 5, 1, 2, 2, 2, 1, 5, 2, 2, 6, 1, 4, 4, 7, 1, 2, 4, 3, 3, 3, 3, 3, 5, 6, 1, 4, 6, 4, 3, 8, 2, 3, 5, 6, 7, 6, 3, 1, 3, 4, 2, 4, 1, 1, 4, 5, 1, 2, 3, 9, 2, 3, 10, 8, 2, 8, 9, 8, 5, 5, 7, 4, 4, 3, 5, 3, 4, 3, 1, 6, 1, 3, 6, 1, 2, 2, 4, 1, 8, 3, 2, 3, 4, 3, 6, 6, 1, 4, 3, 6, 6, 5, 3, 1, 2, 1, 1, 4, 3, 9, 5, 13, 4, 2, 3, 1, 2, 3, 1, 3, 2, 1, 4, 4, 4, 6, 2, 5, 3, 3, 3, 2, 5, 1, 4, 3, 3, 2, 4, 3, 5, 2, 3, 2, 3, 3, 1, 3, 5, 4, 2, 3, 3, 2, 3, 3, 4, 1, 4, 5, 3, 3, 3, 5, 3, 3, 5, 3, 2, 4, 2, 2, 5, 3, 2, 2, 4, 2, 5, 1, 4, 2, 3, 1, 1, 4, 3, 4, 4, 9, 4, 6, 6, 2, 8, 3, 12, 6, 4, 5, 4, 2, 6, 5, 12, 4, 5, 7, 1, 5, 6, 8, 4, 3, 4, 3, 5, 3, 2, 7, 2, 3, 4, 3, 3, 3, 4, 3, 5, 7, 10, 9, 5, 7, 1, 2, 6, 2, 2, 4, 2, 3, 3, 3, 1, 4, 3, 2, 9, 2, 2, 3, 3, 1, 2, 2, 3, 1, 1, 1, 3, 3, 2, 2, 1, 1, 2, 7, 7, 3, 3, 4, 9, 4, 5, 6, 3, 6, 2, 2, 2, 1, 4, 3, 3, 4, 1, 3, 3, 1, 5, 3, 3, 5, 3, 10, 3, 3, 1, 6, 1, 1, 2, 4, 2, 2, 2, 1, 1, 1, 1, 3, 2, 7, 4, 2, 6, 2, 4, 4, 3, 6, 6, 7, 1, 4, 4, 2, 4, 2, 4, 2, 9, 2, 6, 6, 2, 3, 2, 3, 8, 4, 4, 5, 6, 6, 4, 2, 5, 3, 2, 4, 2, 2, 1, 4, 3, 1, 1, 3, 2, 3, 2, 4, 8, 5, 4, 1, 2, 5, 2, 1, 4, 6, 3, 8, 9, 5, 8, 8, 8, 1, 6, 3, 1, 3, 2, 7, 1, 5, 5, 3, 5, 4, 8, 3, 1, 5, 5, 5, 6, 8, 3, 5, 3, 4, 4, 5, 6, 6, 5, 5, 9, 13, 4, 9, 1, 7, 5, 10, 15, 1, 10, 6, 1, 9, 3, 14, 8, 5, 3, 2, 3, 3, 4, 2, 1, 3, 2, 2, 4, 3, 2, 2, 1, 1, 3, 3, 4, 5, 4, 2, 3, 6, 2, 4, 1, 7, 2, 5, 2, 6, 8, 9, 5, 6, 7, 3, 9, 6, 3, 6, 4, 8, 1, 3, 4, 6, 1, 6, 7, 9, 4, 1, 1, 4, 4, 8, 11, 2, 5, 6, 6, 5, 3, 2, 3, 5, 1, 1, 4, 1, 8, 2, 3, 3, 5, 3, 2, 4, 3, 6, 4, 3, 1, 11, 10, 4, 2, 3, 4, 2, 1, 2, 3, 3, 5, 11, 5, 5, 1, 4, 4, 2, 2, 1, 1, 5, 3, 9, 7, 4, 4, 5, 7, 13, 8, 14, 6, 10, 7, 7, 8, 3, 7, 5, 6, 2, 6, 5, 6, 1, 2, 1, 3, 3, 1, 3, 2, 3, 4, 4, 2, 1, 2, 3, 4, 1, 5, 2, 9, 3, 3, 3, 4, 3, 3, 4, 6, 4, 3, 5, 8, 1, 7, 8, 7, 3, 5, 4, 5, 4, 3, 5, 4, 5, 5, 3, 7, 2, 6, 10, 2, 6, 4, 6, 10, 1, 1, 3, 3, 3, 5, 5, 1, 2, 3, 2, 8, 3, 1, 1, 1, 3, 4, 7, 1, 4, 3, 3, 7, 3, 5, 5, 1, 2, 5, 3, 5, 9, 3, 4, 4, 7, 2, 5, 1, 3, 1, 4, 1, 2, 2, 4, 2, 1, 6, 4, 5, 3, 1, 6, 3, 3, 4, 4, 3, 3, 9, 8, 8, 6, 8, 6, 2, 6, 1, 4, 2, 5, 8, 5, 8, 6, 4, 3, 6, 6, 3, 2, 1, 1, 4, 2, 4, 3, 2, 1, 5, 2, 3, 4, 1, 5, 1, 5, 4, 2, 4, 4, 6, 4, 2, 5, 3, 3, 4, 2, 2, 8, 6, 6, 4, 3, 6, 6, 7, 4, 8, 3, 7, 6, 4, 2, 2, 3, 2, 1, 4, 5, 4, 2, 2, 3, 5, 2, 2, 2, 5, 1, 3, 2, 3, 4, 5, 7, 5, 4, 4, 2, 5, 6, 6, 7, 3, 5, 5, 2, 1, 7, 8, 4, 1, 2, 2, 3, 2, 7, 2, 11, 4, 4, 4, 1, 4, 7, 1, 3, 4, 2, 2, 4, 5, 2, 2, 1, 2, 2, 2, 6, 2, 4, 5, 4, 5, 3, 12, 2, 5, 5, 7, 3, 7, 6, 5, 3, 8, 6, 8, 2, 7, 1, 6, 2, 6, 3, 6, 1, 10, 2, 10, 1, 1, 5, 10, 11, 5, 7, 6, 3, 2, 7, 3, 4, 3, 8, 4, 11, 8, 13, 5, 2, 4, 3, 6, 14, 9, 8, 10, 7, 6, 9, 5, 6, 2, 8, 1, 5, 1, 9, 16, 6, 3, 3, 6, 7, 2, 4, 4, 4, 2, 9, 7, 9, 3, 3, 3, 4, 1, 1, 3, 3, 9, 6, 2, 9, 10, 5, 2, 6, 4, 4, 9, 5, 2, 4, 3, 15, 16, 6, 3, 2, 4, 4, 5, 3, 3, 4, 6, 2, 5, 1, 1, 2, 3, 2, 5, 5, 3, 12, 12, 2, 4, 3, 2, 3, 4, 1, 4, 4, 7, 12, 12, 3, 5, 4, 4, 14, 1, 7, 1, 1, 3, 3, 5, 5, 4, 2, 1, 2, 1, 3, 2, 1, 2, 1, 5, 8, 8, 5, 3, 6, 2, 5, 5, 6, 9, 8, 8, 11, 5, 4, 3, 6, 2, 6, 10, 7, 8, 7, 5, 3, 10, 7, 8, 2, 8, 12, 8, 1, 4, 15, 4, 4, 4, 6, 2, 3, 2, 8, 6, 6, 10, 1, 4, 10, 6, 7, 4, 5, 4, 4, 6, 5, 1, 4, 9, 7, 3, 9, 10, 6, 5, 6, 2, 3, 6, 2, 12, 4, 4, 5, 5, 5, 3, 4, 6, 5, 7, 3, 5, 3, 8, 3, 5, 3, 3, 9, 7, 4, 6, 1, 3, 7, 7, 5, 4, 6, 6, 8, 6, 13, 7, 12, 4, 5, 2, 13, 7, 4, 4, 3, 3, 3, 7, 6, 6, 9, 2, 3, 4, 7, 3, 8, 2, 1, 12, 3, 2, 1, 8, 8, 3, 10, 2, 7, 2, 2, 3, 3, 3, 1, 7, 2, 7, 4, 5, 10, 6, 3, 3, 2, 3, 3, 4, 6, 2, 4, 4, 2, 8, 2, 9, 11, 10, 10, 12, 7, 7, 7, 7, 9, 6, 8, 2, 2, 5, 6, 8, 3, 3, 2, 1, 2, 1, 4, 4, 7, 7, 5, 2, 6, 3, 2, 4, 2, 3, 3, 4, 9, 3, 3, 4, 10, 7, 4, 8, 1, 9, 5, 4, 3, 5, 6, 6, 7, 3, 7, 5, 4, 5, 1, 1, 6, 3, 8, 3, 9, 13, 2, 6, 5, 5, 5, 5, 3, 3, 2, 5, 4, 6, 11, 5, 4, 5, 2, 8, 10, 7, 7, 4, 5, 2, 3, 4, 3, 5, 4, 5, 1, 11, 4, 3, 3, 6, 7, 2, 4, 2, 4, 2, 8, 10, 4, 8, 10, 5, 2, 7, 3, 3, 4, 5, 4, 8, 4, 2, 2, 5, 7, 3, 1, 3, 10, 12, 2, 8, 6, 5, 9, 7, 3, 4, 4, 4, 5, 1, 3, 4, 6, 3, 7, 8, 9, 1, 8, 3, 1, 7, 7, 11, 1, 5, 1, 3, 9, 5, 2, 2, 3, 4, 3, 2, 8, 3, 2, 2, 1, 7, 2, 2, 2, 2, 2, 3, 3, 3, 4, 3, 4, 5, 4, 4, 4, 4, 3, 3, 8, 2, 2, 2, 2, 3, 5, 7, 3, 3, 3, 3, 4, 4, 3, 4, 5, 5, 9, 9, 7, 2, 11, 4, 5, 4, 5, 6, 3, 5, 9, 3, 6, 1, 3, 4, 3, 5, 6, 4, 5, 8, 2, 5, 5, 2, 4, 5, 8, 6, 8, 1, 3, 10, 1, 4, 5, 7, 4, 4, 4, 7, 4, 1, 6, 2, 3, 6, 6, 1, 4, 7, 2, 9, 5, 9, 4, 9, 16, 4, 9, 5, 1, 10, 3, 4, 2, 1, 4, 2, 1, 1, 1, 1, 1, 6, 2, 4, 2, 4, 4, 1, 5, 2, 3, 7, 14, 5, 3, 9, 3, 6, 1, 5, 4, 3, 7, 4, 1, 3, 7, 7, 3, 1, 1, 2, 7, 5, 4, 7, 4, 5, 5, 5, 5, 5, 5, 4, 2, 6, 1, 8, 3, 1, 3, 2, 4, 5, 2, 1, 5, 4, 1, 1, 6, 3, 3, 3, 1, 5, 6, 1, 5, 6, 3, 3, 2, 2, 2, 1, 5, 4, 1, 4, 6, 1, 3, 3, 6, 5, 2, 3, 7, 8, 5, 2, 3, 5, 7, 8, 11, 5, 4, 2, 3, 3, 4, 3, 10, 6, 3, 3, 1, 5, 5, 3, 7, 4, 3, 3, 3, 8, 2, 5, 6, 3, 4, 4, 3, 6, 2, 5, 1, 4, 3, 3, 4, 4, 6, 4, 6, 4, 6, 4, 6, 7, 3, 7, 10, 1, 5, 1, 1, 4, 2, 2, 2, 2, 1, 1, 4, 1, 4, 3, 9, 7, 4, 4, 5, 9, 11, 4, 4, 5, 2, 6, 10, 3, 8, 8, 8, 3, 6, 1, 1, 3, 10, 2, 3, 5, 6, 1, 1, 8, 5, 2, 3, 5, 7, 4, 3, 1, 2, 5, 3, 1, 3, 2, 2, 4, 5, 1, 6, 3, 5, 4, 14, 7, 7, 4, 6, 6, 1, 3, 2, 1, 3, 1, 12, 5, 7, 4, 6, 7, 7, 8, 4, 6, 3, 3, 2, 2, 3, 9, 6, 7, 4, 7, 1, 4, 1, 9, 1, 1, 8, 5, 6, 4, 3, 2, 6, 4, 1, 3, 6, 4, 7, 6, 4, 8, 3, 5, 2, 1, 4, 3, 6, 2, 12, 12, 13, 6, 7, 8, 2, 5, 7, 3, 4, 5, 6, 3, 2, 4, 4, 3, 6, 6, 6, 5, 3, 4, 2, 7, 5, 6, 4, 3, 5, 6, 3, 7, 1, 1, 3, 10, 2, 7, 3, 7, 8, 5, 9, 4, 5, 5, 2, 6, 2, 1, 4, 4, 6, 2, 6, 6, 2, 4, 4, 1, 2, 4, 4, 5, 6, 4, 6, 3, 1, 4, 6, 2, 5, 8, 6, 6, 2, 4, 2, 2, 3, 3, 5, 3, 2, 2, 2, 2, 3, 4, 6, 3, 6, 3, 8, 7, 3, 2, 8, 2, 8, 2, 5, 10, 2, 5, 8, 2, 3, 4, 15, 2, 10, 4, 5, 16, 5, 10, 2, 2, 4, 7, 1, 3, 2, 4, 2, 3, 2, 4, 3, 4, 6, 2, 4, 4, 5, 8, 4, 6, 3, 1, 3, 4, 7, 2, 1, 2, 3, 3, 2, 5, 4, 3, 3, 4, 5, 2, 3, 2, 3, 7, 2, 2, 3, 2, 3, 4, 1, 6, 3, 5, 5, 3, 2, 2, 4, 5, 3, 5, 4, 4, 3, 5, 4, 1, 3, 3, 2, 4, 4, 3, 4, 5, 3, 4, 7, 7, 3, 4, 4, 5, 6, 6, 5, 6, 8, 2, 5, 3, 3, 2, 3, 2, 1, 1, 2, 1, 6, 2, 1, 2, 4, 5, 7, 2, 3, 3, 6, 11, 3, 2, 1, 6, 1, 11, 2, 3, 4, 7, 8, 5, 2, 5, 2, 6, 7, 2, 3, 1, 1, 5, 1, 3, 3, 1, 3, 3, 5, 1, 1, 2, 4, 1, 2, 2, 1, 3, 2, 1, 2, 3, 2, 2, 3, 5, 7, 3, 3, 2, 3, 5, 3, 6, 2, 5, 3, 4, 1, 5, 2, 3, 4, 1, 5, 5, 4, 3, 3, 6, 1, 1, 4, 1, 8, 4, 2, 4, 5, 3, 3, 2, 3, 9, 1, 1, 5, 3, 3, 2, 6, 4, 8, 5, 4, 6, 4, 3, 6, 2, 4, 1, 1, 2, 2, 2, 2, 3, 4, 5, 5, 7, 2, 2, 2, 2, 1, 3, 2, 1, 1, 3, 5, 6, 2, 3, 2, 3, 1, 3, 2, 2, 4, 3, 5, 3, 1, 3, 1, 1, 2, 6, 10, 4, 5, 4, 3, 3, 4, 5, 4, 5, 3, 3, 5, 2, 2, 6, 5, 2, 6, 2, 2, 12, 16, 6, 5, 6, 5, 2, 6, 3, 3, 5, 7, 17, 5, 4, 3, 6, 13, 12, 17, 5, 10, 7, 4, 8, 3, 6, 2, 4, 2, 4, 4, 4, 5, 2, 4, 2, 4, 3, 6, 4, 4, 4, 1, 1, 8, 3, 8, 9, 3, 3, 6, 5, 7, 8, 11, 4, 5, 3, 3, 2, 3, 4, 2, 4, 5, 1, 3, 4, 7, 7, 2, 2, 2, 4, 5, 3, 5, 2, 2, 5, 1, 1, 6, 4, 4, 2, 2, 2, 2, 3, 2, 3, 1, 9, 2, 4, 3, 3, 4, 3, 5, 3, 2, 1, 4, 1, 5, 7, 2, 6, 3, 5, 3, 2, 4, 4, 3, 5, 2, 10, 10, 4, 4, 4, 2, 4, 4, 2, 5, 2, 1, 1, 7, 2, 2, 5, 2, 5, 1, 5, 5, 9, 13, 15, 1, 6, 4, 3, 7, 1, 1, 2, 3, 4, 2, 2, 1, 2, 2, 1, 2, 6, 7, 1, 1, 2, 1, 8, 7, 4, 8, 4, 6, 12, 5, 4, 5, 4, 10, 1, 3, 7, 1, 8, 6, 2, 5, 3, 8, 6, 2, 7, 3, 5, 8, 6, 6, 12, 12, 8, 5, 5, 6, 2, 7, 3, 6, 6, 8, 6, 6, 7, 14, 5, 10, 3, 1, 2, 2, 3, 9, 2, 1, 7, 1, 9, 4, 6, 4, 4, 9, 13, 3, 10, 1, 4, 8, 5, 11, 3, 5, 2, 7, 6, 7, 2, 3, 3, 1, 4, 7, 1, 7, 6, 7, 2, 5, 3, 1, 3, 2, 2, 4, 2, 2, 3, 5, 4, 2, 4, 4, 3, 1, 3, 3, 3, 6, 11, 3, 3, 6, 4, 7, 1, 7, 6, 3, 2, 2, 6, 10, 2, 2, 5, 3, 6, 1, 8, 6, 4, 3, 5, 4, 5, 2, 10, 2, 8, 5, 3, 2, 4, 4, 1, 2, 4, 4, 1, 3, 2, 4, 3, 8, 9, 8, 11, 4, 5, 6, 3, 7, 5, 9, 4, 6, 1, 4, 2, 2, 3, 2, 3, 1, 2, 4, 2, 4, 3, 3, 4, 3, 3, 1, 3, 3, 2, 3, 5, 4, 6, 4, 6, 2, 5, 2, 9, 1, 3, 7, 2, 4, 3, 2, 4, 3, 2, 3, 2, 1, 2, 3, 5, 8, 4, 4, 4, 6, 2, 4, 2, 1, 3, 5, 2, 3, 4, 9, 4, 6, 1, 2, 8, 7, 12, 10, 10, 5, 6, 6, 1, 7, 4, 4, 2, 4, 2, 4, 3, 4, 7, 2, 8, 4, 6, 5, 3, 5, 9, 8, 7, 1, 2, 3, 4, 7, 2, 3, 7, 2, 3, 1, 3, 8, 8, 3, 2, 2, 2, 4, 2, 1, 13, 8, 10, 4, 1, 9, 4, 3, 4, 6, 5, 3, 2, 4, 5, 7, 6, 3, 2, 1, 1, 5, 6, 5, 7, 8, 5, 6, 3, 7, 4, 2, 6, 5, 7, 7, 6, 6, 9, 8, 1, 4, 2, 2, 10, 10, 4, 5, 6, 4, 7, 1, 8, 9, 1, 3, 4, 5, 4, 8, 5, 1, 2, 4, 1, 6, 2, 3, 2, 4, 4, 2, 1, 1, 1, 3, 7, 3, 4, 2, 4, 6, 2, 3, 16, 3, 4, 4, 1, 6, 1, 4, 4, 2, 3, 4, 4, 3, 6, 8, 3, 6, 4, 5, 2, 2, 4, 1, 2, 6, 6, 6, 6, 1, 8, 1, 3, 2, 8, 9, 8, 4, 4, 1, 6, 3, 8, 8, 3, 1, 1, 2, 2, 4, 3, 6, 9, 2, 3, 1, 2, 3, 2, 1, 5, 4, 6, 7, 7, 4, 4, 1, 6, 3, 1, 6, 2, 2, 3, 2, 5, 5, 5, 3, 4, 3, 4, 3, 2, 1, 3, 1, 8, 1, 6, 1, 8, 8, 2, 9, 4, 1, 6, 5, 1, 2, 1, 2, 2, 3, 2, 2, 2, 7, 4, 4, 6, 3, 1, 7, 1, 5, 6, 9, 2, 6, 6, 2, 4, 2, 1, 3, 7, 9, 4, 7, 5, 5, 5, 3, 9, 3, 2, 1, 4, 1, 3, 4, 2, 9, 4, 6, 2, 8, 3, 6, 2, 5, 1, 3, 4, 5, 1, 2, 2, 1, 1, 4, 5, 7, 11, 5, 3, 8, 1, 5, 2, 4, 4, 2, 4, 4, 2, 7, 8, 3, 6, 4, 6, 7, 5, 4, 4, 7, 5, 5, 3, 4, 6, 5, 6, 3, 12, 7, 8, 3, 6, 4, 4, 2, 4, 9, 11, 4, 3, 4, 6, 4, 4, 8, 4, 5, 3, 6, 7, 3, 3, 3, 4, 2, 3, 4, 2, 2, 3, 2, 5, 5, 4, 9, 12, 4, 3, 2, 3, 4, 2, 5, 3, 5, 3, 2, 4, 5, 1, 13, 7, 3, 6, 6, 2, 3, 9, 7, 3, 4, 10, 1, 4, 4, 3, 4, 9, 10, 11, 12, 4, 2, 5, 6, 5, 4, 6, 2, 4, 2, 4, 4, 3, 2, 1, 10, 4, 1, 6, 7, 2, 8, 7, 5, 5, 11, 1, 7, 2, 1, 7, 9, 3, 3, 1, 2, 2, 3, 6, 3, 6, 8, 2, 3, 4, 1, 4, 5, 4, 8, 9, 2, 3, 3, 7, 2, 8, 8, 9, 5, 5, 5, 8, 5, 1, 8, 2, 2, 3, 1, 8, 2, 3, 3, 9, 10, 3, 2, 2, 2, 3, 3, 2, 5, 9, 13, 5, 7, 4, 5, 6, 1, 4, 1, 5, 4, 5, 8, 3, 11, 6, 7, 1, 6, 3, 3, 10, 7, 2, 5, 1, 1, 2, 5, 3, 4, 2, 6, 5, 7, 1, 4, 6, 2, 4, 4, 2, 3, 2, 5, 1, 3, 3, 2, 3, 4, 4, 4, 4, 4, 8, 1, 6, 2, 4, 5, 3, 5, 6, 1, 5, 4, 5, 4, 3, 3, 2, 4, 2, 2, 1, 2, 9, 1, 5, 6, 3, 4, 8, 1, 5, 2, 3, 4, 7, 3, 3, 5, 5, 5, 4, 3, 4, 2, 6, 3, 5, 2, 3, 8, 4, 4, 7, 4, 5, 5, 3, 3, 3, 5, 1, 4, 5, 7, 5, 8, 2, 7, 1, 12, 6, 2, 9, 1, 5, 2, 9, 6, 4, 3, 4, 3, 3, 6, 6, 4, 10, 3, 6, 5, 1, 8, 7, 8, 7, 2, 3, 6, 8, 2, 9, 4, 5, 1, 3, 4, 2, 3, 2, 5, 3, 2, 2, 3, 1, 10, 8, 3, 4, 3, 8, 3, 1, 5, 2, 2, 7, 3, 4, 7, 7, 1, 1, 3, 4, 5, 7, 3, 2, 4, 3, 1, 1, 3, 9, 10, 3, 9, 3, 2, 8, 2, 5, 6, 2, 5, 3, 2, 2, 2, 3, 1, 4, 2, 1, 2, 4, 1, 5, 4, 4, 2, 3, 6, 5, 4, 3, 7, 11, 1, 2, 5, 5, 5, 5, 9, 2, 8, 5, 3, 6, 1, 6, 3, 4, 1, 5, 1, 2, 3, 3, 3, 3, 6, 7, 6, 8, 3, 2, 2, 3, 5, 1, 4, 5, 3, 4, 3, 2, 2, 1, 2, 8, 4, 2, 4, 4, 16, 5, 7, 8, 3, 4, 4, 3, 1, 7, 4, 3, 6, 3, 2, 4, 4, 1, 8, 6, 2, 3, 2, 1, 3, 2, 3, 2, 3, 2, 2, 3, 3, 3, 2, 4, 3, 5, 6, 9, 9, 8, 5, 9, 11, 4, 6, 1, 5, 6, 1, 16, 8, 3, 4, 2, 4, 3, 7, 3, 6, 5, 2, 5, 5, 8, 8, 10, 13, 1, 7, 6, 6, 2, 5, 10, 3, 2, 7, 7, 3, 3, 6, 3, 6, 3, 6, 2, 8, 2, 4, 1, 4, 8, 1, 2, 2, 3, 2, 2, 1, 5, 3, 4, 2, 4, 4, 2, 1, 2, 4, 1, 4, 3, 4, 1, 3, 6, 5, 2, 7, 3, 5, 3, 2, 5, 4, 5, 4, 6, 9, 10, 1, 3, 5, 2, 4, 1, 3, 3, 1, 3, 4, 6, 3, 4, 1, 2, 4, 4, 2, 7, 5, 5, 1, 1, 4, 1, 3, 9, 10, 3, 4, 1, 2, 3, 2, 3, 4, 4, 3, 7, 7, 8, 8, 8, 9, 5, 4, 4, 2, 8, 5, 7, 8, 2, 2, 2, 5, 4, 6, 3, 2, 2, 2, 6, 2, 3, 2, 1, 3, 2, 5, 3, 3, 2, 6, 7, 6, 4, 5, 10, 6, 5, 5, 6, 4, 1, 6, 8, 5, 8, 6, 6, 7, 1, 7, 3, 3, 1, 2, 7, 3, 12, 3, 6, 6, 6, 6, 9, 4, 11, 4, 8, 1, 6, 6, 11, 7, 3, 4, 10, 4, 10, 6, 10, 1, 2, 3, 4, 2, 2, 4, 1, 2, 8, 3, 5, 2, 4, 2, 6, 4, 4, 2, 8, 1, 4, 5, 4, 3, 5, 7, 3, 3, 8, 8, 8, 6, 4, 5, 5, 5, 6, 11, 4, 5, 8, 5, 5, 3, 1, 4, 5, 6, 5, 2, 5, 9, 4, 4, 10, 1, 7, 6, 1, 1, 1, 1, 1, 2, 2, 1, 4, 6, 2, 7, 4, 5, 7, 4, 8, 6, 11, 5, 13, 1, 2, 3, 5, 3, 3, 8, 2, 1, 6, 1, 5, 2, 4, 1, 5, 3, 2, 4, 9, 3, 3, 5, 9, 6, 5, 3, 6, 7, 9, 3, 7, 4, 1, 5, 11, 6, 10, 6, 7, 5, 12, 7, 6, 5, 4, 5, 17, 5, 8, 2, 7, 3, 5, 4, 12, 5, 8, 14, 4, 7, 1, 3, 4, 8, 2, 1, 2, 3, 3, 3, 3, 1, 3, 4, 5, 4, 6, 6, 2, 5, 6, 9, 6, 7, 3, 8, 11, 12, 13, 11, 10, 7, 5, 7, 2, 1, 4, 2, 2, 4, 2, 2, 3, 5, 1, 7, 1, 4, 5, 2, 6, 4, 3, 1, 4, 3, 6, 2, 4, 2, 3, 5, 5, 7, 5, 2, 4, 4, 2, 5, 4, 6, 5, 5, 7, 2, 3, 2, 7, 5, 2, 7, 4, 7, 1, 1, 4, 6, 2, 2, 1, 6, 4, 5, 5, 3, 7, 3, 8, 5, 4, 7, 3, 3, 4, 3, 4, 1, 4, 2, 3, 2, 1, 2, 2, 1, 1, 2, 2, 2, 3, 6, 3, 2, 1, 7, 1, 1, 5, 4, 3, 2, 3, 3, 3, 4, 2, 2, 2, 5, 3, 4, 5, 6, 10, 1, 5, 5, 6, 3, 4, 1, 3, 1, 1, 1, 5, 6, 8, 8, 6, 4, 2, 6, 3, 4, 2, 3, 4, 2, 8, 6, 5, 5, 4, 5, 1, 14, 4, 2, 10, 2, 5, 6, 3, 5, 7, 1, 1, 3, 2, 2, 2, 3, 3, 5, 6, 4, 4, 3, 4, 5, 4, 5, 1, 5, 5, 7, 2, 3, 1, 9, 7, 3, 4, 5, 2, 5, 4, 2, 5, 5, 7, 3, 3, 5, 1, 1, 6, 3, 4, 5, 5, 1, 7, 6, 6, 5, 8, 10, 2, 3, 8, 5, 4, 6, 9, 5, 8, 3, 4, 7, 11, 13, 1, 4, 8, 4, 1, 1, 2, 2, 1, 2, 3, 9, 4, 2, 5, 6, 4, 4, 7, 6, 11, 5, 2, 1, 4, 4, 5, 5, 5, 9, 2, 10, 1, 3, 5, 6, 5, 1, 6, 3, 5, 2, 4, 2, 3, 4, 5, 6, 2, 5, 1, 2, 10, 1, 2, 4, 1, 2, 6, 6, 2, 5, 7, 3, 6, 7, 1, 2, 3, 10, 3, 8, 3, 1, 4, 2, 9, 12, 5, 4, 1, 5, 8, 5, 5, 4, 3, 3, 4, 1, 6, 3, 4, 3, 1, 4, 6, 4, 4, 12, 4, 6, 7, 5, 8, 12, 3, 9, 2, 6, 2, 1, 1, 5, 5, 7, 6, 4, 3, 4, 5, 3, 5, 2, 3, 4, 5, 5, 2, 2, 4, 1, 1, 1, 3, 3, 3, 1, 1, 3, 3, 1, 6, 2, 5, 5, 7, 13, 3, 3, 6, 6, 2, 2, 6, 6, 1, 9, 4, 2, 4, 2, 7, 8, 4, 7, 4, 4, 5, 2, 6, 3, 1, 4, 4, 3, 12, 15, 4, 4, 4, 6, 3, 9, 4, 4, 6, 10, 13, 4, 6, 2, 6, 3, 9, 1, 3, 5, 4, 8, 5, 2, 2, 5, 2, 2, 9, 4, 3, 3, 2, 11, 5, 2, 4, 2, 3, 2, 7, 3, 3, 5, 5, 2, 3, 9, 4, 5, 6, 4, 5, 1, 7, 1, 4, 3, 3, 7, 9, 3, 6, 3, 3, 3, 4, 5, 4, 1, 10, 1, 6, 4, 2, 1, 10, 3, 4, 4, 3, 4, 7, 14, 5, 5, 5, 4, 4, 6, 4, 1, 12, 9, 4, 6, 3, 7, 6, 3, 4, 2, 1, 1, 4, 4, 4, 1, 2, 4, 1, 4, 4, 1, 3, 10, 11, 3, 3, 7, 7, 8, 9, 3, 4, 3, 5, 8, 5, 2, 3, 4, 6, 7, 2, 3, 8, 2, 10, 2, 3, 5, 6, 9, 3, 3, 4, 3, 4, 5, 4, 1, 2, 2, 7, 9, 1, 4, 3, 14, 3, 4, 3, 6, 2, 1, 8, 9, 8, 2, 4, 12, 4, 7, 6, 4, 8, 7, 11, 7, 2, 2, 6, 6, 9, 4, 5, 4, 14, 4, 7, 2, 3, 4, 2, 4, 7, 4, 2, 4, 5, 3, 3, 5, 3, 4, 5, 4, 4, 6, 8, 11, 3, 7, 3, 10, 5, 1, 8, 5, 9, 7, 3, 5, 5, 5, 3, 4, 3, 3, 2, 6, 3, 4, 1, 2, 2, 9, 1, 3, 4, 6, 6, 1, 4, 5, 8, 5, 2, 5, 3, 5, 5, 6, 3, 8, 2, 4, 9, 2, 7, 4, 1, 3, 4, 4, 5, 4, 6, 9, 3, 3, 2, 4, 3, 3, 6, 3, 10, 5, 5, 5, 1, 7, 8, 9, 6, 2, 2, 5, 4, 5, 4, 8, 12, 4, 3, 11, 1, 2, 4, 1, 10, 3, 4, 2, 8, 3, 3, 5, 6, 2, 4, 4, 5, 6, 3, 8, 4, 4, 1, 2, 3, 2, 3, 2, 5, 5, 4, 8, 4, 4, 3, 3, 3, 3, 8, 7, 1, 5, 7, 8, 12, 1, 2, 5, 6, 7, 3, 2, 4, 6, 2, 2, 2, 6, 8, 1, 6, 3, 7, 2, 2, 5, 9, 2, 2, 3, 3, 5, 6, 7, 5, 6, 8, 3, 8, 8, 3, 1, 4, 4, 4, 11, 13, 7, 9, 4, 5, 5, 6, 7, 2, 5, 3, 2, 2, 4, 2, 1, 1, 8, 2, 7, 5, 3, 8, 9, 5, 5, 3, 5, 8, 10, 3, 2, 3, 1, 5, 2, 7, 2, 4, 1, 3, 5, 1, 10, 8, 6, 5, 5, 3, 3, 3, 3, 3, 3, 6, 6, 6, 2, 3, 2, 4, 3, 5, 10, 7, 11, 1, 4, 9, 2, 4, 4, 3, 8, 12, 7, 2, 3, 2, 11, 6, 4, 2, 4, 4, 1, 3, 2, 1, 5, 1, 5, 2, 6, 4, 5, 7, 3, 4, 6, 9, 6, 5, 4, 1, 6, 4, 10, 5, 5, 4, 1, 2, 1, 4, 3, 6, 7, 10, 2, 10, 1, 2, 5, 6, 6, 11, 11, 2, 11, 7, 11, 7, 6, 11, 19, 5, 8, 7, 10, 1, 9, 13, 14, 6, 2, 4, 9, 10, 2, 4, 11, 14, 3, 3, 6, 4, 8, 2, 3, 11, 4, 10, 4, 5, 3, 3, 3, 3, 3, 5, 2, 2, 2, 2, 4, 5, 7, 1, 6, 1, 1, 6, 4, 3, 5, 8, 2, 5, 5, 3, 3, 3, 2, 7, 3, 4, 3, 5, 6, 9, 1, 4, 2, 3, 5, 5, 2, 2, 6, 6, 10, 5, 6, 2, 5, 3, 4, 4, 3, 3, 2, 3, 3, 6, 1, 5, 5, 5, 6, 9, 5, 4, 4, 3, 5, 6, 7, 5, 5, 7, 5, 8, 9, 3, 4, 3, 2, 4, 7, 1, 5, 5, 1, 2, 3, 5, 5, 3, 5, 5, 4, 3, 3, 2, 2, 1, 2, 11, 5, 10, 7, 1, 3, 3, 5, 6, 8, 4, 6, 1, 8, 1, 8, 2, 5, 6, 5, 6, 4, 7, 4, 3, 2, 10, 5, 3, 2, 3, 2, 4, 1, 11, 5, 6, 8, 5, 4, 2, 4, 3, 3, 1, 6, 6, 1, 4, 1, 2, 2, 3, 2, 3, 3, 5, 6, 1, 3, 9, 10, 2, 4, 6, 9, 2, 5, 4, 5, 5, 4, 7, 5, 12, 3, 10, 11, 4, 4, 4, 4, 4, 7, 5, 5, 9, 5, 4, 4, 3, 5, 1, 1, 4, 1, 1, 3, 3, 3, 3, 5, 2, 3, 4, 3, 3, 2, 2, 4, 4, 6, 4, 5, 2, 6, 7, 8, 2, 4, 4, 9, 1, 7, 10, 5, 4, 10, 7, 4, 5, 2, 3, 3, 12, 2, 3, 2, 1, 4, 3, 2, 3, 1, 1, 1, 4, 2, 3, 2, 2, 5, 3, 5, 6, 2, 5, 3, 2, 2, 5, 2, 3, 4, 6, 6, 6, 3, 2, 1, 1, 6, 4, 6, 9, 1, 3, 7, 6, 2, 7, 4, 5, 2, 6, 2, 3, 4, 4, 2, 2, 5, 1, 2, 2, 3, 2, 5, 2, 2, 3, 5, 2, 3, 4, 6, 7, 4, 9, 8, 2, 6, 3, 5, 6, 5, 3, 5, 5, 9, 4, 7, 6, 4, 6, 1, 2, 5, 8, 3, 5, 7, 5, 6, 9, 5, 5, 5, 6, 4, 4, 5, 7, 3, 2, 8, 5, 6, 6, 2, 4, 6, 4, 8, 7, 1, 7, 2, 1, 8, 10, 1, 1, 1, 1, 1, 5, 4, 7, 3, 5, 6, 2, 4, 2, 1, 2, 6, 1, 1, 4, 5, 6, 7, 6, 4, 4, 2, 7, 6, 4, 8, 1, 4, 2, 3, 4, 2, 3, 5, 6, 4, 3, 2, 5, 2, 6, 2, 1, 6, 2, 6, 7, 2, 4, 5, 5, 7, 6, 2, 2, 3, 3, 11, 5, 7, 6, 7, 2, 4, 4, 3, 1, 8, 3, 5, 8, 9, 4, 9, 5, 7, 7, 2, 6, 5, 7, 9, 4, 6, 4, 3, 5, 1, 3, 4, 5, 1, 5, 8, 6, 5, 7, 2, 2, 3, 1, 2, 5, 2, 8, 3, 5, 2, 7, 2, 8, 5, 6, 4, 7, 7, 4, 5, 6, 6, 9, 4, 3, 1, 3, 7, 4, 4, 6, 7, 4, 6, 3, 2, 2, 6, 4, 3, 12, 2, 5, 5, 2, 4, 7, 2, 14, 4, 9, 4, 1, 2, 3, 4, 9, 9, 5, 6, 5, 4, 2, 3, 6, 7, 3, 1, 8, 9, 5, 3, 4, 8, 3, 2, 2, 5, 1, 5, 6, 5, 8, 10, 2, 7, 9, 5, 3, 7, 3, 1, 3, 4, 1, 1, 4, 2, 3, 4, 6, 3, 5, 6, 2, 3, 3, 1, 2, 2, 2, 4, 3, 2, 2, 4, 4, 2, 8, 3, 6, 2, 5, 7, 5, 7, 7, 8, 8, 6, 5, 1, 7, 2, 11, 11, 10, 4, 4, 7, 1, 7, 8, 15, 3, 9, 4, 4, 4, 4, 2, 2, 1, 4, 3, 1, 2, 3, 3, 3, 6, 3, 2, 2, 2, 4, 5, 1, 6, 3, 2, 1, 2, 4, 5, 8, 4, 5, 2, 2, 2, 3, 7, 3, 2, 3, 1, 1, 2, 2, 1, 3, 4, 2, 5, 4, 7, 4, 3, 6, 2, 2, 11, 5, 7, 3, 3, 5, 2, 3, 2, 7, 8, 2, 7, 8, 2, 6, 9, 3, 1, 3, 1, 5, 6, 7, 1, 6, 8, 1, 7, 8, 2, 8, 10, 5, 7, 4, 6, 15, 4, 5, 2, 7, 5, 6, 4, 4, 5, 3, 5, 2, 2, 3, 2, 4, 1, 3, 14, 20, 4, 5, 5, 6, 7, 4, 7, 1, 1, 5, 3, 1, 6, 5, 9, 3, 3, 2, 3, 1, 5, 6, 3, 5, 6, 2, 4, 4, 2, 2, 3, 2, 4, 3, 2, 2, 7, 5, 4, 4, 5, 6, 8, 5, 1, 1, 6, 8, 6, 6, 5, 3, 4, 2, 2, 2, 1, 2, 2, 8, 3, 3, 2, 2, 6, 6, 1, 3, 9, 6, 8, 1, 6, 5, 8, 3, 8, 3, 12, 5, 6, 7, 2, 4, 4, 4, 6, 3, 5, 4, 6, 10, 6, 10, 3, 3, 5, 5, 4, 6, 2, 4, 2, 5, 4, 7, 5, 12, 4, 4, 8, 9, 4, 7, 8, 1, 5, 9, 5, 6, 4, 6, 4, 3, 4, 7, 5, 1, 4, 5, 5, 2, 2, 4, 5, 4, 6, 6, 4, 4, 8, 6, 12, 7, 3, 5, 4, 6, 6, 6, 8, 7, 8, 5, 7, 5, 5, 3, 6, 3, 1, 1, 2, 3, 7, 2, 6, 5, 8, 1, 11, 13, 1, 6, 2, 3, 3, 4, 5, 2, 1, 1, 11, 3, 5, 8, 5, 5, 4, 8, 5, 1, 8, 1, 1, 3, 2, 1, 1, 3, 1, 4, 2, 8, 5, 4, 4, 6, 2, 8, 8, 10, 4, 3, 1, 3, 6, 4, 2, 3, 2, 4, 4, 1, 5, 6, 3, 5, 1, 1, 1, 5, 3, 2, 4, 5, 4, 1, 4, 8, 1, 2, 3, 6, 2, 1, 7, 6, 10, 6, 6, 8, 7, 9, 8, 8, 6, 6, 5, 4, 5, 6, 5, 2, 3, 7, 7, 6, 6, 9, 1, 6, 1, 6, 8, 4, 5, 11, 8, 5, 6, 5, 3, 1, 1, 7, 7, 6, 4, 6, 3, 2, 5, 1, 4, 6, 6, 1, 5, 1, 3, 3, 3, 1, 3, 1, 4, 5, 4, 1, 4, 3, 6, 10, 5, 9, 3, 4, 8, 5, 6, 1, 6, 10, 2, 1, 1, 5, 8, 3, 6, 4, 5, 6, 6, 5, 4, 3, 3, 4, 5, 5, 3, 6, 5, 5, 3, 3, 5, 6, 3, 6, 5, 7, 3, 8, 10, 2, 3, 2, 2, 9, 9, 1, 9, 3, 2, 2, 2, 7, 4, 9, 5, 2, 6, 15, 2, 6, 2, 3, 3, 2, 9, 2, 11, 6, 6, 8, 9, 14, 3, 6, 4, 4, 4, 7, 2, 4, 5, 8, 7, 1, 1, 2, 8, 2, 3, 5, 8, 9, 3, 3, 9, 2, 2, 4, 6, 6, 7, 4, 9, 8, 9, 3, 2, 1, 1, 8, 5, 2, 3, 1, 6, 1, 4, 4, 10, 6, 5, 7, 3, 4, 3, 7, 10, 1, 9, 4, 3, 4, 6, 5, 1, 13, 3, 8, 4, 21, 4, 9, 5, 6, 6, 7, 9, 1, 5, 2, 8, 4, 1, 6, 8, 7, 9, 2, 2, 2, 1, 1, 5, 3, 3, 2, 8, 4, 1, 2, 1, 2, 1, 2, 3, 5, 3, 2, 3, 10, 4, 1, 1, 9, 6, 5, 4, 1, 4, 4, 4, 1, 7, 7, 2, 6, 10, 12, 1, 9, 4, 4, 5, 11, 5, 2, 10, 1, 5, 5, 4, 5, 10, 8, 3, 4, 5, 5, 5, 3, 4, 4, 2, 3, 4, 4, 5, 6, 2, 4, 3, 3, 3, 2, 3, 2, 3, 6, 5, 2, 5, 5, 5, 4, 6, 1, 7, 5, 3, 1, 4, 1, 2, 2, 5, 2, 7, 4, 2, 9, 5, 6, 8, 9, 2, 10, 4, 8, 9, 1, 2, 6, 4, 7, 5, 4, 1, 5, 5, 4, 3, 6, 4, 6, 1, 1, 3, 5, 4, 9, 4, 6, 4, 6, 8, 8, 6, 5, 11, 8, 6, 7, 6, 7, 4, 8, 4, 3, 4, 5, 4, 2, 8, 6, 2, 2, 4, 4, 4, 1, 4, 6, 13, 8, 6, 8, 4, 2, 2, 2, 7, 6, 4, 4, 3, 3, 3, 3, 6, 3, 5, 4, 4, 10, 1, 6, 6, 6, 2, 2, 7, 4, 2, 3, 2, 3, 10, 3, 3, 3, 2, 10, 3, 7, 2, 6, 6, 12, 8, 2, 1, 2, 1, 2, 2, 7, 12, 9, 13, 10, 7, 8, 6, 1, 10, 5, 8, 2, 4, 6, 3, 3, 4, 7, 2, 3, 2, 6, 4, 5, 1, 6, 3, 6, 3, 7, 6, 3, 5, 8, 6, 3, 4, 1, 1, 1, 4, 5, 8, 10, 3, 5, 5, 4, 6, 5, 6, 5, 6, 7, 5, 1, 2, 3, 1, 4, 10, 10, 5, 6, 5, 7, 8, 6, 6, 3, 4, 3, 7, 1, 3, 4, 4, 3, 1, 4, 4, 3, 7, 3, 1, 5, 6, 6, 12, 4, 8, 7, 4, 2, 5, 3, 6, 4, 2, 5, 4, 2, 2, 10, 7, 9, 1, 7, 12, 3, 6, 5, 9, 1, 1, 1, 10, 1, 4, 1, 2, 1, 3, 4, 3, 5, 1, 3, 3, 8, 2, 3, 1, 3, 10, 2, 1, 2, 4, 6, 4, 2, 5, 3, 5, 5, 6, 5, 6, 7, 9, 6, 5, 1, 9, 5, 6, 7, 7, 7, 9, 3, 8, 2, 5, 4, 2, 5, 4, 1, 4, 6, 9, 4, 7, 6, 14, 3, 2, 2, 3, 3, 3, 1, 2, 2, 4, 2, 6, 7, 5, 3, 5, 4, 7, 7, 6, 3, 5, 2, 7, 8, 2, 2, 3, 7, 6, 3, 5, 7, 2, 1, 1, 3, 3, 4, 2, 4, 5, 4, 4, 2, 2, 2, 4, 1, 4, 6, 6, 5, 9, 8, 8, 8, 8, 3, 11, 1, 4, 2, 1, 4, 8, 11, 7, 5, 6, 12, 3, 8, 3, 6, 4, 4, 5, 7, 8, 3, 5, 7, 6, 4, 5, 4, 1, 4, 1, 5, 3, 5, 2, 3, 1, 5, 1, 3, 6, 7, 14, 13, 4, 5, 4, 1, 3, 12, 5, 6, 6, 3, 12, 8, 4, 3, 2, 5, 2, 2, 1, 2, 2, 7, 6, 1, 2, 8, 8, 1, 1, 4, 2, 3, 2, 3, 2, 4, 6, 1, 3, 7, 6, 10, 9, 8, 7, 13, 2, 4, 2, 3, 6, 3, 4, 2, 5, 6, 11, 4, 4, 3, 7, 3, 1, 3, 2, 5, 3, 6, 3, 2, 1, 4, 3, 2, 10, 3, 4, 8, 18, 5, 4, 8, 6, 9, 9, 1, 1, 6, 1, 6, 8, 8, 6, 5, 7, 6, 8, 10, 3, 6, 3, 11, 7, 1, 3, 9, 1, 3, 6, 4, 4, 6, 4, 7, 1, 2, 1, 6, 5, 4, 6, 2, 3, 4, 3, 2, 2, 3, 4, 4, 7, 7, 7, 5, 7, 1, 6, 4, 6, 3, 3, 3, 3, 3, 3, 3, 5, 6, 8, 2, 6, 3, 3, 6, 1, 1, 3, 1, 3, 3, 5, 3, 5, 5, 8, 11, 14, 2, 8, 3, 10, 11, 6, 5, 7, 6, 2, 3, 9, 5, 6, 9, 11, 7, 5, 11, 7, 6, 2, 2, 2, 10, 4, 6, 3, 6, 10, 21, 7, 3, 6, 5, 7, 2, 5, 10, 5, 11, 8, 9, 7, 5, 5, 6, 6, 6, 10, 9, 2, 3, 7, 6, 8, 2, 11, 1, 14, 15, 8, 10, 2, 10, 1, 5, 6, 10, 13, 8, 11, 6, 5, 12, 9, 9, 10, 11, 3, 2, 5, 3, 4, 4, 10, 13, 4, 7, 4, 3, 2, 5, 3, 2, 6, 3, 10, 2, 7, 6, 7, 13, 5, 6, 3, 2, 5, 8, 10, 1, 9, 7, 5, 7, 7, 1, 5, 6, 6, 6, 6, 5, 3, 7, 9, 4, 8, 3, 3, 10, 4, 2, 7, 5, 3, 2, 4, 2, 2, 7, 1, 6, 5, 4, 9, 3, 5, 8, 6, 3, 10, 6, 8, 3, 3, 10, 1, 1, 4, 2, 3, 6, 2, 5, 7, 4, 3, 2, 3, 8, 9, 9, 8, 9, 3, 10, 1, 2, 7, 8, 7, 12, 4, 8, 1, 9, 4, 5, 3, 8, 5, 7, 9, 1, 1, 4, 4, 11, 1, 5, 4, 3, 4, 4, 5, 4, 5, 2, 6, 2, 2, 3, 4, 1, 5, 4, 1, 6, 7, 6, 3, 5, 3, 7, 2, 9, 4, 5, 6, 4, 4, 5, 1, 1, 2, 8, 3, 7, 5, 1, 2, 2, 8, 7, 1, 4, 2, 2, 4, 2, 2, 3, 8, 12, 3, 5, 5, 3, 4, 7, 10, 1, 4, 8, 10, 6, 1, 2, 5, 9, 11, 3, 7, 5, 11, 4, 5, 5, 5, 7, 1, 6, 7, 11, 5, 1, 8, 6, 4, 1, 8, 2, 6, 1, 4, 9, 16, 6, 5, 4, 4, 7, 5, 8, 8, 9, 3, 8, 15, 9, 3, 7, 3, 8, 14, 7, 6, 4, 1, 1, 6, 5, 7, 1, 4, 7, 5, 6, 1, 9, 2, 8, 3, 8, 11, 7, 7, 6, 6, 6, 2, 3, 5, 4, 4, 9, 2, 4, 3, 1, 1, 8, 8, 3, 1, 4, 4, 5, 8, 5, 13, 1, 6, 3, 6, 3, 3, 4, 3, 4, 3, 5, 9, 2, 3, 3, 2, 5, 2, 7, 8, 6, 7, 3, 9, 3, 3, 5, 4, 3, 9, 4, 5, 2, 3, 3, 6, 3, 7, 2, 11, 3, 2, 8, 5, 3, 2, 1, 2, 1, 5, 1, 7, 7, 1, 5, 5, 3, 6, 7, 5, 2, 3, 6, 4, 1, 2, 1, 1, 2, 3, 1, 4, 5, 7, 7, 2, 1, 5, 7, 4, 3, 4, 1, 3, 3, 3, 4, 2, 5, 1, 4, 2, 5, 6, 6, 4, 1, 6, 3, 11, 3, 2, 5, 3, 2, 4, 2, 3, 4, 2, 7, 5, 3, 4, 4, 5, 5, 2, 2, 3, 4, 5, 2, 2, 11, 4, 7, 4, 8, 5, 8, 2, 2, 3, 8, 3, 8, 11, 2, 2, 8, 7, 2, 2, 5, 5, 4, 4, 6, 7, 4, 2, 3, 3, 3, 8, 12, 3, 1, 3, 3, 4, 3, 2, 4, 3, 10, 12, 14, 5, 4, 5, 5, 3, 3, 5, 3, 2, 2, 1, 10, 5, 3, 3, 3, 1, 1, 4, 9, 12, 5, 9, 5, 4, 2, 7, 4, 4, 5, 4, 5, 3, 7, 3, 4, 8, 2, 1, 5, 12, 4, 7, 6, 5, 7, 3, 4, 4, 2, 1, 4, 5, 6, 4, 4, 4, 5, 6, 2, 5, 3, 3, 5, 5, 7, 2, 8, 4, 12, 5, 10, 1, 1, 9, 6, 1, 6, 4, 8, 5, 2, 5, 5, 3, 2, 2, 3, 7, 3, 5, 3, 3, 5, 6, 6, 10, 6, 7, 10, 8, 4, 12, 13, 3, 4, 1, 8, 4, 8, 9, 1, 4, 4, 1, 2, 5, 6, 8, 7, 6, 6, 5, 1, 2, 2, 3, 1, 1, 1, 4, 3, 4, 9, 4, 5, 5, 7, 8, 7, 7, 1, 5, 4, 6, 8, 8, 5, 4, 7, 3, 3, 1, 3, 4, 1, 2, 2, 4, 2, 9, 4, 5, 2, 14, 4, 2, 6, 9, 4, 2, 4, 1, 5, 4, 2, 9, 1, 5, 2, 8, 4, 5, 4, 4, 4, 5, 7, 3, 3, 3, 5, 1, 1, 8, 7, 5, 9, 6, 8, 3, 7, 4, 5, 1, 1, 2, 4, 8, 7, 2, 3, 5, 6, 6, 1, 5, 3, 4, 4, 3, 4, 4, 4, 4, 5, 4, 5, 5, 5, 5, 10, 7, 9, 1, 6, 3, 4, 6, 8, 7, 6, 3, 4, 2, 4, 10, 15, 17, 4, 2, 2, 4, 1, 3, 6, 4, 2, 3, 2, 6, 7, 22, 7, 10, 2, 3, 3, 4, 4, 5, 2, 4, 1, 6, 4, 6, 11, 5, 6, 1, 2, 2, 6, 4, 3, 3, 6, 5, 7, 9, 8, 5, 6, 5, 5, 3, 13, 2, 3, 10, 3, 6, 5, 2, 2, 9, 7, 7, 3, 6, 2, 3, 4, 5, 2, 6, 5, 6, 2, 5, 6, 6, 8, 4, 6, 4, 2, 5, 2, 7, 2, 3, 4, 3, 10, 9, 12, 2, 8, 5, 5, 6, 4, 6, 6, 3, 13, 13, 3, 3, 8, 7, 3, 2, 2, 3, 5, 5, 4, 1, 4, 3, 4, 3, 5, 2, 6, 1, 3, 2, 3, 5, 4, 9, 6, 4, 9, 3, 1, 6, 1, 10, 5, 3, 9, 5, 6, 7, 13, 3, 6, 5, 7, 5, 7, 6, 5, 4, 4, 1, 1, 2, 3, 4, 1, 1, 2, 1, 3, 7, 9, 6, 4, 6, 14, 2, 2, 5, 3, 4, 3, 2, 5, 7, 3, 7, 5, 4, 3, 4, 3, 3, 6, 6, 2, 3, 6, 6, 5, 10, 16, 3, 4, 6, 3, 11, 14, 7, 7, 1, 6, 8, 8, 8, 5, 12, 2, 3, 1, 4, 3, 4, 4, 2, 4, 5, 3, 7, 1, 7, 4, 11, 10, 8, 9, 8, 5, 5, 8, 1, 6, 2, 2, 2, 6, 4, 6, 8, 4, 5, 13, 5, 5, 3, 6, 9, 8, 4, 8, 4, 7, 2, 5, 7, 7, 4, 5, 7, 4, 2, 3, 3, 6, 3, 2, 4, 6, 1, 6, 4, 3, 5, 5, 9, 8, 6, 7, 7, 7, 8, 7, 3, 5, 4, 3, 4, 5, 5, 1, 5, 4, 5, 3, 3, 4, 1, 4, 2, 6, 11, 7, 2, 6, 3, 2, 6, 6, 2, 6, 9, 7, 4, 5, 4, 4, 5, 9, 8, 9, 3, 4, 4, 1, 7, 5, 6, 2, 7, 6, 2, 8, 9, 5, 4, 5, 3, 7, 4, 4, 2, 2, 6, 3, 5, 5, 4, 3, 3, 5, 4, 3, 6, 3, 3, 3, 3, 2, 2, 12, 17, 3, 2, 5, 4, 6, 3, 1, 5, 6, 6, 3, 6, 7, 1, 2, 2, 1, 1, 5, 2, 9, 7, 4, 7, 5, 5, 6, 3, 4, 5, 4, 6, 3, 2, 3, 4, 2, 5, 4, 3, 4, 8, 1, 2, 3, 1, 7, 5, 7, 7, 1, 7, 5, 5, 5, 1, 1, 6, 4, 4, 5, 6, 7, 1, 3, 8, 7, 3, 3, 5, 5, 5, 4, 2, 3, 3, 1, 6, 3, 9, 5, 3, 4, 2, 4, 6, 1, 8, 9, 6, 7, 7, 3, 11, 10, 10, 11, 15, 9, 1, 4, 6, 3, 4, 4, 6, 8, 1, 2, 2, 5, 6, 4, 4, 1, 14, 11, 4, 2, 9, 5, 6, 8, 11, 6, 2, 3, 3, 5, 6, 6, 5, 5, 10, 5, 4, 3, 3, 7, 4, 3, 12, 6, 4, 6, 7, 8, 6, 6, 8, 4, 7, 4, 4, 2, 5, 3, 8, 3, 4, 4, 8, 9, 6, 5, 7, 4, 8, 5, 10, 3, 3, 9, 3, 1, 1, 2, 2, 2, 1, 2, 5, 2, 7, 1, 4, 6, 3, 5, 8, 4, 2, 15, 5, 9, 4, 12, 5, 4, 2, 1, 10, 6, 5, 4, 7, 11, 6, 5, 3, 1, 5, 5, 10, 9, 10, 12, 6, 9, 7, 2, 6, 4, 1, 9, 4, 5, 7, 7, 2, 3, 5, 2, 5, 4, 5, 5, 9, 3, 2, 3, 2, 1, 4, 6, 3, 2, 4, 4, 6, 7, 2, 4, 8, 3, 2, 1, 3, 4, 2, 2, 5, 2, 9, 4, 4, 3, 3, 2, 3, 4, 2, 3, 5, 5, 6, 7, 7, 4, 7, 4, 9, 1, 3, 2, 2, 1, 1, 1, 1, 1, 9, 1, 2, 2, 2, 7, 8, 4, 5, 7, 4, 7, 5, 4, 5, 3, 4, 4, 5, 4, 5, 8, 2, 1, 7, 4, 6, 7, 2, 8, 11, 5, 5, 2, 9, 6, 9, 6, 6, 3, 3, 1, 2, 5, 5, 4, 9, 11, 6, 5, 2, 6, 10, 11, 8, 4, 3, 9, 9, 7, 3, 2, 1, 4, 6, 4, 2, 6, 12, 3, 6, 8, 8, 10, 11, 2, 9, 4, 2, 7, 12, 6, 3, 4, 2, 3, 6, 9, 7, 8, 2, 4, 6, 5, 2, 4, 4, 1, 5, 11, 14, 4, 5, 11, 5, 14, 3, 6, 5, 5, 4, 4, 1, 11, 5, 2, 3, 9, 4, 1, 7, 6, 10, 5, 9, 11, 6, 9, 7, 1, 1, 1, 6, 5, 9, 1, 5, 3, 7, 5, 3, 8, 4, 10, 6, 7, 7, 1, 5, 8, 2, 9, 6, 5, 1, 8, 4, 2, 8, 2, 4, 10, 3, 10, 6, 8, 9, 11, 4, 5, 2, 6, 1, 8, 7, 7, 9, 4, 3, 3, 7, 8, 4, 9, 6, 1, 6, 3, 3, 5, 3, 5, 11, 3, 6, 4, 10, 7, 6, 6, 6, 6, 11, 8, 5, 1, 6, 5, 7, 5, 1, 1, 2, 6, 5, 3, 4, 4, 3, 3, 4, 6, 7, 9, 2, 11, 3, 1, 9, 4, 6, 9, 13, 5, 7, 8, 4, 4, 8, 12, 7, 3, 4, 5, 3, 4, 2, 1, 4, 4, 7, 9, 2, 11, 11, 15, 2, 4, 6, 13, 1, 8, 2, 4, 4, 12, 5, 6, 1, 3, 11, 10, 5, 6, 4, 3, 7, 6, 7, 7, 2, 8, 4, 7, 8, 1, 9, 2, 8, 10, 1, 4, 8, 8, 10, 13, 4, 3, 6, 7, 5, 5, 9, 1, 13, 4, 7, 7, 3, 8, 8, 2, 11, 3, 6, 4, 5, 1, 5, 5, 3, 5, 7, 10, 8, 8, 1, 2, 7, 1, 3, 3, 6, 5, 4, 8, 2, 5, 8, 6, 10, 10, 4, 7, 17, 2, 7, 7, 3, 3, 5, 10, 2, 3, 2, 3, 4, 6, 4, 8, 16, 9, 2, 1, 4, 2, 2, 1, 5, 5, 6, 5, 6, 2, 7, 3, 4, 6, 5, 4, 8, 2, 9, 2, 11, 15, 4, 5, 12, 2, 12, 6, 11, 2, 5, 3, 4, 3, 3, 4, 5, 4, 8, 2, 8, 6, 1, 4, 9, 10, 1, 16, 4, 3, 6, 4, 4, 1, 7, 4, 5, 6, 2, 2, 4, 4, 5, 2, 4, 3, 1, 5, 4, 5, 2, 1, 4, 4, 2, 3, 3, 5, 2, 1, 4, 2, 4, 4, 3, 5, 2, 4, 2, 2, 15, 1, 8, 6, 3, 3, 1, 4, 3, 4, 2, 1, 11, 3, 1, 4, 6, 7, 4, 6, 6, 9, 1, 14, 4, 1, 5, 5, 8, 10, 6, 2, 5, 6, 4, 6, 7, 4, 4, 4, 4, 4, 6, 8, 5, 3, 11, 5, 4, 9, 8, 10, 4, 1, 8, 7, 2, 1, 4, 5, 4, 12, 9, 8, 7, 6, 8, 2, 7, 3, 2, 5, 3, 5, 3, 3, 3, 5, 15, 17, 6, 3, 3, 5, 2, 4, 2, 2, 2, 7, 10, 6, 1, 8, 4, 2, 6, 5, 5, 8, 3, 8, 3, 2, 4, 2, 4, 7, 8, 5, 7, 1, 2, 4, 3, 2, 4, 4, 4, 5, 4, 4, 3, 7, 3, 1, 7, 1, 2, 2, 3, 3, 1, 3, 3, 7, 7, 1, 5, 4, 2, 4, 6, 3, 8, 1, 3, 5, 11, 6, 6, 3, 4, 2, 2, 1, 1, 6, 3, 4, 3, 3, 2, 2, 4, 5, 4, 6, 5, 5, 1, 2, 2, 7, 6, 5, 8, 3, 10, 10, 1, 3, 6, 2, 5, 8, 6, 5, 4, 5, 11, 4, 3, 2, 2, 4, 2, 12, 1, 7, 4, 6, 10, 1, 1, 5, 4, 1, 5, 4, 1, 2, 4, 6, 12, 2, 3, 8, 11, 3, 2, 6, 3, 6, 2, 1, 3, 4, 2, 2, 4, 8, 4, 4, 7, 11, 2, 1, 3, 4, 2, 5, 3, 3, 5, 4, 10, 9, 6, 6, 8, 6, 10, 5, 4, 1, 5, 7, 3, 14, 1, 11, 3, 4, 4, 7, 3, 3, 6, 1, 3, 8, 13, 7, 10, 6, 2, 3, 9, 10, 5, 8, 4, 1, 3, 9, 5, 5, 13, 6, 1, 2, 1, 8, 5, 5, 5, 5, 2, 8, 8, 10, 5, 3, 7, 2, 4, 5, 11, 5, 1, 4, 5, 2, 8, 8, 5, 3, 3, 5, 8, 7, 5, 5, 5, 3, 6, 7, 4, 4, 5, 4, 3, 3, 8, 4, 6, 2, 7, 5, 4, 5, 6, 4, 3, 2, 2, 4, 9, 4, 5, 7, 6, 4, 3, 5, 3, 3, 7, 3, 12, 1, 3, 2, 7, 9, 4, 6, 6, 7, 8, 2, 2, 7, 2, 2, 6, 3, 7, 2, 1, 2, 6, 7, 6, 6, 10, 4, 5, 5, 4, 3, 6, 1, 1, 5, 10, 7, 5, 11, 3, 6, 5, 6, 12, 4, 4, 2, 4, 9, 7, 1, 10, 7, 9, 2, 3, 3, 4, 10, 3, 3, 4, 4, 6, 7, 3, 6, 8, 8, 1, 8, 5, 5, 1, 10, 8, 2, 3, 3, 5, 4, 1, 1, 2, 1, 1, 2, 5, 1, 4, 6, 6, 5, 5, 5, 4, 7, 6, 3, 4, 3, 7, 3, 2, 4, 2, 4, 2, 4, 1, 4, 1, 8, 7, 1, 1, 1, 4, 5, 1, 1, 8, 12, 1, 3, 10, 2, 2, 3, 1, 4, 2, 4, 4, 4, 5, 21, 4, 7, 4, 4, 9, 7, 2, 1, 3, 1, 2, 4, 5, 2, 2, 3, 15, 4, 4, 5, 2, 8, 4, 9, 7, 4, 8, 4, 6, 10, 4, 3, 1, 6, 9, 7, 2, 9, 9, 4, 4, 4, 3, 7, 4, 6, 1, 2, 6, 2, 5, 3, 4, 4, 2, 3, 4, 4, 2, 8, 5, 6, 1, 8, 7, 4, 1, 3, 3, 2, 3, 3, 2, 2, 4, 4, 3, 4, 1, 7, 2, 2, 2, 5, 2, 5, 12, 5, 8, 2, 1, 5, 6, 3, 9, 7, 12, 4, 10, 9, 9, 3, 1, 3, 1, 7, 3, 1, 7, 3, 1, 4, 15, 7, 1, 1, 4, 4, 3, 2, 4, 4, 5, 5, 4, 2, 7, 8, 3, 3, 3, 2, 2, 3, 3, 1, 1, 6, 3, 4, 3, 2, 5, 6, 2, 7, 1, 5, 5, 3, 6, 7, 7, 9, 8, 2, 5, 2, 4, 4, 5, 6, 4, 9, 6, 2, 1, 1, 2, 8, 8, 9, 11, 2, 1, 6, 8, 4, 3, 2, 4, 3, 3, 3, 4, 6, 2, 6, 7, 7, 3, 2, 2, 14, 6, 9, 1, 5, 1, 2, 3, 5, 1, 3, 9, 3, 4, 4, 5, 5, 5, 5, 5, 3, 5, 2, 9, 9, 4, 3, 7, 6, 4, 5, 4, 10, 1, 6, 6, 2, 3, 7, 6, 2, 6, 6, 6, 4, 2, 2, 1, 7, 1, 6, 1, 5, 1, 5, 4, 11, 2, 5, 7, 2, 3, 6, 2, 2, 3, 5, 1, 1, 6, 3, 1, 4, 6, 9, 2, 6, 3, 4, 5, 4, 9, 3, 2, 3, 3, 5, 6, 7, 3, 11, 1, 1, 11, 18, 2, 3, 12, 9, 13, 4, 5, 4, 6, 7, 10, 4, 1, 13, 4, 5, 5, 2, 4, 2, 7, 3, 5, 6, 2, 5, 5, 5, 1, 13, 6, 7, 6, 3, 1, 6, 7, 5, 6, 3, 8, 6, 6, 4, 6, 4, 6, 1, 5, 5, 4, 6, 2, 4, 2, 1, 3, 3, 7, 6, 8, 4, 6, 4, 8, 8, 3, 6, 3, 3, 7, 6, 8, 10, 5, 5, 1, 1, 7, 7, 3, 3, 4, 3, 3, 4, 2, 3, 2, 2, 4, 3, 4, 6, 7, 3, 13, 3, 9, 8, 5, 10, 2, 1, 1, 5, 2, 2, 7, 4, 2, 7, 4, 11, 1, 5, 4, 10, 6, 5, 2, 6, 2, 5, 9, 4, 4, 5, 6, 4, 6, 4, 6, 8, 10, 8, 3, 2, 5, 4, 6, 4, 4, 5, 6, 3, 1, 3, 6, 14, 15, 1, 13, 5, 5, 7, 14, 2, 2, 5, 3, 8, 5, 3, 1, 1, 4, 2, 6, 1, 8, 5, 2, 11, 2, 2, 5, 1, 4, 4, 3, 3, 5, 4, 1, 3, 3, 2, 3, 3, 4, 3, 5, 5, 7, 6, 4, 4, 6, 7, 4, 5, 6, 8, 8, 9, 7, 3, 2, 4, 2, 3, 2, 5, 5, 4, 4, 1, 9, 3, 3, 2, 2, 7, 6, 8, 4, 2, 2, 6, 7, 5, 8, 9, 3, 9, 4, 6, 6, 3, 1, 5, 4, 1, 4, 6, 8, 1, 3, 5, 3, 3, 4, 2, 3, 2, 13, 6, 9, 5, 2, 6, 13, 4, 6, 11, 8, 5, 11, 5, 13, 3, 6, 5, 3, 5, 4, 5, 1, 7, 6, 1, 6, 3, 4, 8, 12, 2, 1, 3, 5, 6, 9, 3, 9, 5, 8, 8, 1, 1, 5, 2, 3, 4, 2, 1, 5, 3, 3, 2, 2, 4, 3, 3, 5, 6, 7, 9, 2, 4, 7, 5, 8, 10, 10, 3, 2, 6, 2, 2, 1, 7, 2, 2, 2, 4, 5, 3, 3, 3, 5, 2, 3, 3, 4, 9, 11, 5, 9, 4, 4, 9, 2, 4, 6, 11, 4, 7, 7, 6, 6, 7, 9, 6, 9, 4, 6, 5, 7, 6, 7, 2, 6, 6, 1, 6, 6, 5, 5, 8, 7, 12, 3, 10, 5, 7, 1, 6, 6, 2, 6, 1, 10, 4, 7, 4, 11, 8, 3, 11, 2, 3, 4, 2, 3, 2, 3, 5, 2, 5, 3, 3, 5, 6, 3, 4, 4, 11, 3, 10, 13, 10, 13, 1, 9, 1, 2, 4, 1, 3, 2, 1, 8, 1, 5, 3, 5, 6, 3, 6, 8, 8, 5, 9, 2, 9, 2, 5, 8, 4, 3, 4, 4, 3, 3, 6, 5, 6, 4, 4, 1, 6, 3, 3, 6, 6, 6, 10, 2, 2, 3, 4, 5, 1, 3, 4, 5, 14, 3, 3, 4, 7, 4, 2, 1, 5, 8, 3, 6, 3, 2, 12, 4, 4, 1, 5, 10, 3, 4, 3, 5, 6, 3, 3, 5, 4, 3, 6, 7, 1, 2, 7, 2, 10, 8, 4, 6, 10, 4, 10, 3, 8, 2, 12, 13, 1, 2, 3, 3, 3, 1, 1, 5, 4, 3, 8, 1, 2, 3, 5, 1, 1, 2, 2, 2, 3, 1, 4, 2, 1, 1, 3, 2, 2, 2, 4, 3, 5, 4, 5, 8, 2, 3, 2, 9, 3, 4, 1, 6, 5, 5, 2, 2, 2, 4, 7, 2, 6, 5, 4, 5, 1, 6, 2, 2, 1, 2, 1, 1, 2, 2, 1, 2, 4, 4, 2, 2, 5, 3, 4, 4, 2, 4, 5, 4, 4, 2, 2, 1, 1, 3, 4, 6, 7, 1, 1, 3, 9, 6, 4, 4, 7, 4, 2, 3, 7, 3, 2, 3, 2, 2, 3, 4, 2, 6, 10, 14, 14, 2, 2, 10, 5, 5, 2, 3, 5, 1, 9, 3, 4, 5, 4, 7, 10, 7, 4, 6, 5, 5, 8, 6, 8, 4, 8, 3, 9, 7, 3, 4, 13, 1, 7, 3, 8, 3, 9, 10, 2, 5, 4, 4, 12, 5, 5, 6, 2, 6, 10, 5, 6, 2, 1, 6, 7, 5, 6, 10, 9, 4, 3, 6, 8, 2, 4, 4, 1, 3, 4, 3, 2, 4, 6, 3, 6, 1, 5, 2, 5, 6, 5, 7, 3, 1, 4, 1, 4, 4, 11, 6, 5, 4, 4, 3, 5, 8, 7, 7, 1, 4, 2, 4, 3, 4, 8, 3, 6, 9, 8, 5, 7, 11, 6, 6, 4, 8, 6, 7, 10, 7, 4, 8, 8, 3, 2, 2, 3, 5, 4, 3, 2, 4, 2, 4, 2, 5, 5, 4, 6, 4, 2, 4, 6, 8, 4, 6, 5, 7, 1, 7, 1, 3, 6, 10, 3, 8, 10, 5, 6, 3, 10, 7, 3, 2, 12, 2, 2, 3, 3, 4, 4, 4, 2, 4, 3, 2, 7, 5, 2, 3, 3, 2, 6, 8, 10, 8, 1, 3, 3, 5, 4, 5, 2, 8, 5, 6, 7, 4, 2, 4, 2, 4, 2, 3, 8, 3, 2, 6, 8, 5, 2, 4, 5, 6, 8, 2, 4, 3, 5, 1, 1, 2, 4, 6, 3, 1, 8, 2, 5, 8, 6, 8, 4, 11, 3, 9, 5, 5, 6, 3, 2, 1, 3, 3, 7, 7, 3, 5, 6, 4, 3, 2, 2, 3, 2, 3, 4, 2, 7, 2, 4, 1, 3, 5, 5, 2, 5, 4, 5, 4, 5, 11, 4, 6, 4, 3, 6, 8, 6, 2, 1, 4, 4, 2, 6, 9, 5, 2, 7, 5, 3, 8, 2, 3, 7, 2, 3, 1, 7, 4, 1, 3, 6, 4, 5, 6, 1, 3, 1, 8, 5, 2, 3, 3, 3, 4, 6, 2, 5, 8, 2, 2, 3, 8, 1, 4, 8, 2, 4, 4, 5, 8, 3, 6, 3, 7, 3, 11, 15, 8, 9, 4, 9, 2, 8, 5, 1, 5, 1, 2, 3, 6, 3, 7, 7, 7, 3, 7, 8, 2, 1, 9, 2, 6, 1, 10, 7, 5, 3, 6, 5, 5, 3, 1, 1, 2, 3, 3, 4, 12, 5, 5, 6, 5, 1, 3, 6, 5, 4, 4, 4, 8, 10, 5, 4, 7, 3, 5, 5, 3, 2, 2, 6, 4, 2, 5, 6, 2, 5, 2, 2, 5, 4, 5, 3, 7, 3, 3, 2, 3, 2, 2, 9, 2, 2, 4, 2, 6, 4, 5, 6, 5, 4, 10, 3, 3, 10, 5, 13, 1, 2, 4, 4, 2, 2, 1, 7, 5, 7, 5, 1, 2, 4, 8, 3, 2, 5, 6, 5, 5, 5, 2, 4, 3, 6, 5, 3, 3, 2, 4, 3, 4, 7, 2, 2, 4, 4, 1, 4, 3, 3, 3, 2, 5, 6, 1, 7, 7, 2, 6, 5, 7, 11, 4, 1, 5, 7, 2, 1, 3, 3, 5, 7, 6, 6, 4, 7, 9, 1, 9, 3, 4, 4, 6, 4, 6, 2, 7, 8, 4, 1, 4, 5, 2, 2, 3, 4, 6, 2, 3, 3, 9, 4, 4, 9, 6, 7, 6, 5, 4, 4, 2, 7, 4, 3, 5, 2, 6, 3, 10, 3, 3, 3, 11, 5, 3, 2, 4, 1, 4, 6, 2, 6, 6, 5, 8, 7, 4, 5, 5, 7, 4, 1, 8, 1, 1, 1, 1, 4, 4, 5, 3, 4, 7, 5, 5, 4, 4, 3, 4, 6, 5, 3, 1, 3, 3, 4, 1, 4, 4, 4, 4, 3, 4, 3, 9, 2, 6, 3, 3, 1, 7, 7, 3, 10, 2, 6, 7, 4, 5, 6, 6, 3, 4, 3, 5, 3, 4, 3, 1, 2, 9, 5, 1, 6, 1, 5, 3, 4, 10, 3, 6, 1, 6, 2, 6, 2, 3, 6, 6, 13, 3, 3, 5, 7, 4, 4, 2, 3, 4, 7, 2, 6, 4, 4, 4, 2, 3, 2, 5, 4, 4, 8, 6, 5, 5, 11, 15, 3, 3, 5, 3, 3, 4, 1, 3, 3, 3, 1, 3, 4, 9, 13, 14, 6, 8, 6, 6, 7, 2, 4, 3, 4, 4, 8, 5, 8, 6, 6, 6, 5, 7, 4, 7, 5, 5, 9, 8, 5, 5, 6, 4, 8, 5, 10, 7, 2, 11, 2, 2, 6, 1, 7, 4, 1, 4, 4, 5, 4, 2, 4, 6, 3, 4, 5, 5, 3, 4, 6, 5, 4, 4, 2, 8, 5, 6, 7, 3, 5, 2, 3, 1, 5, 4, 6, 4, 3, 4, 3, 5, 4, 3, 2, 5, 5, 2, 3, 4, 4, 6, 1, 4, 4, 4, 10, 3, 3, 4, 5, 6, 7, 8, 5, 3, 5, 3, 2, 2, 4, 5, 4, 4, 4, 4, 5, 7, 7, 4, 4, 2, 2, 1, 1, 1, 3, 4, 6, 5, 2, 4, 3, 4, 1, 7, 4, 4, 4, 5, 3, 1, 3, 3, 3, 2, 4, 3, 7, 1, 3, 2, 7, 6, 9, 5, 7, 6, 8, 1, 4, 3, 2, 7, 6, 9, 7, 1, 5, 2, 4, 3, 4, 3, 3, 2, 5, 5, 6, 6, 3, 3, 7, 4, 2, 5, 6, 3, 4, 6, 1, 3, 7, 3, 4, 3, 2, 7, 1, 8, 8, 5, 1, 5, 4, 4, 10, 7, 8, 6, 8, 7, 2, 5, 5, 2, 4, 6, 5, 5, 6, 3, 3, 1, 3, 7, 3, 1, 4, 1, 2, 3, 6, 5, 8, 2, 4, 9, 11, 5, 1, 7, 1, 4, 5, 2, 2, 4, 5, 6, 4, 5, 10, 4, 5, 4, 5, 4, 4, 7, 7, 3, 6, 1, 4, 4, 3, 4, 4, 3, 3, 3, 3, 4, 4, 6, 4, 7, 3, 1, 2, 3, 5, 4, 5, 9, 2, 4, 2, 12, 8, 10, 8, 4, 5, 7, 9, 11, 4, 7, 7, 6, 2, 5, 5, 6, 2, 7, 3, 2, 7, 4, 5, 5, 5, 15, 5, 1, 6, 3, 6, 9, 2, 9, 1, 5, 7, 7, 1, 5, 5, 6, 7, 3, 3, 3, 7, 4, 7, 9, 5, 7, 4, 1, 4, 5, 3, 2, 3, 5, 4, 6, 3, 7, 3, 7, 7, 6, 2, 3, 4, 7, 5, 5, 3, 12, 5, 7, 9, 6, 5, 4, 7, 6, 8, 2, 5, 6, 11, 5, 8, 5, 2, 4, 1, 7, 4, 3, 4, 4, 2, 4, 9, 5, 3, 4, 3, 5, 8, 4, 5, 5, 6, 1, 5, 5, 3, 3, 3, 4, 6, 2, 4, 3, 2, 1, 6, 3, 2, 2, 5, 4, 4, 5, 6, 6, 6, 6, 7, 2, 3, 11, 3, 9, 4, 5, 6, 1, 4, 1, 5, 1, 5, 3, 3, 2, 1, 3, 3, 3, 6, 2, 3, 3, 9, 3, 4, 1, 1, 6, 3, 4, 3, 3, 4, 5, 5, 8, 5, 6, 2, 1, 5, 4, 5, 6, 4, 4, 3, 6, 2, 3, 4, 4, 2, 4, 3, 6, 4, 8, 2, 2, 6, 4, 4, 4, 2, 3, 2, 9, 4, 6, 2, 2, 4, 3, 2, 3, 4, 4, 1, 2, 4, 3, 3, 5, 5, 5, 1, 8, 1, 3, 5, 3, 6, 3, 5, 7, 9, 6, 3, 1, 1, 4, 7, 6, 4, 6, 4, 5, 7, 9, 3, 8, 7, 4, 12, 4, 5, 4, 3, 5, 7, 10, 6, 6, 4, 4, 4, 2, 2, 3, 3, 4, 7, 4, 5, 3, 9, 3, 4, 1, 9, 3, 5, 4, 6, 2, 3, 1, 3, 4, 4, 8, 3, 4, 2, 2, 3, 1, 4, 4, 9, 2, 9, 10, 2, 2, 6, 7, 8, 5, 4, 3, 9, 6, 8, 4, 4, 3, 6, 5, 6, 3, 1, 2, 2, 4, 4, 5, 4, 8, 4, 2, 5, 4, 3, 3, 2, 2, 3, 3, 2, 3, 5, 1, 5, 2, 3, 4, 5, 2, 3, 2, 1, 6, 3, 2, 1, 1, 1, 3, 5, 2, 5, 3, 6, 1, 5, 8, 4, 8, 9, 5, 4, 6, 5, 2, 4, 3, 2, 3, 10, 3, 2, 2, 4, 4, 1, 2, 2, 1, 1, 3, 5, 5, 10, 4, 7, 4, 1, 4, 3, 2, 4, 4, 5, 3, 3, 6, 2, 5, 8, 9, 4, 3, 2, 1, 1, 1, 10, 1, 11, 5, 3, 6, 6, 5, 8, 10, 3, 6, 3, 3, 2, 4, 2, 6, 3, 3, 4, 5, 2, 1, 6, 9, 5, 5, 2, 2, 1, 4, 5, 5, 6, 2, 9, 8, 2, 6, 2, 6, 6, 5, 13, 1, 6, 4, 12, 8, 4, 2, 2, 2, 2, 5, 4, 6, 8, 2, 9, 8, 6, 1, 2, 3, 9, 3, 4, 4, 3, 3, 2, 9, 5, 5, 3, 6, 3, 6, 1, 2, 2, 7, 8, 6, 7, 1, 10, 3, 5, 3, 5, 3, 3, 5, 6, 3, 6, 4, 3, 5, 2, 3, 2, 2, 4, 5, 7, 2, 2, 2, 4, 5, 1, 4, 2, 1, 1, 3, 3, 1, 2, 6, 6, 4, 3, 6, 1, 5, 2, 2, 4, 4, 3, 3, 4, 2, 6, 5, 12, 1, 5, 3, 5, 5, 2, 2, 1, 9, 3, 3, 4, 1, 4, 10, 9, 4, 4, 4, 2, 2, 1, 1, 3, 7, 5, 6, 1, 5, 9, 10, 4, 5, 6, 4, 1, 3, 3, 1, 2, 2, 7, 8, 5, 4, 3, 4, 8, 3, 2, 9, 6, 3, 1, 5, 1, 3, 4, 3, 3, 5, 2, 6, 5, 5, 2, 3, 1, 3, 2, 3, 5, 2, 2, 5, 2, 2, 3, 4, 3, 4, 3, 6, 8, 6, 6, 6, 7, 8, 10, 3, 4, 1, 4, 4, 3, 3, 3, 3, 5, 1, 10, 1, 5, 3, 8, 3, 11, 6, 13, 9, 6, 10, 8, 3, 5, 2, 3, 12, 4, 1, 3, 4, 3, 3, 3, 2, 3, 2, 8, 5, 6, 8, 3, 3, 7, 7, 11, 4, 6, 9, 1, 2, 4, 8, 5, 7, 5, 3, 4, 3, 5, 5, 4, 8, 3, 5, 6, 1, 8, 1, 2, 2, 5, 4, 1, 7, 3, 4, 7, 2, 2, 3, 2, 3, 4, 3, 4, 2, 7, 2, 6, 4, 7, 2, 5, 1, 2, 4, 3, 5, 4, 6, 1, 7, 3, 7, 4, 3, 4, 3, 1, 7, 3, 3, 4, 6, 4, 5, 6, 3, 11, 4, 5, 2, 6, 5, 3, 5, 10, 6, 4, 4, 5, 3, 3, 2, 3, 4, 2, 6, 8, 6, 7, 8, 5, 3, 2, 1, 6, 5, 2, 3, 4, 4, 2, 7, 5, 5, 5, 10, 6, 4, 4, 7, 6, 4, 2, 3, 1, 4, 4, 3, 8, 6, 4, 3, 5, 5, 6, 7, 3, 5, 5, 7, 3, 3, 2, 5, 4, 5, 6, 3, 10, 2, 7, 7, 3, 1, 4, 3, 2, 4, 4, 4, 4, 5, 4, 5, 6, 1, 5, 8, 2, 3, 3, 2, 9, 2, 4, 4, 8, 8, 4, 6, 1, 3, 1, 6, 8, 4, 5, 6, 4, 3, 6, 2, 3, 4, 6, 4, 3, 5, 2, 2, 2, 2, 2, 10, 4, 1, 5, 5, 2, 1, 4, 2, 3, 2, 6, 6, 1, 4, 4, 4, 4, 6, 6, 13, 13, 12, 1, 6, 11, 5, 9, 3, 3, 7, 8, 4, 8, 5, 6, 10, 5, 4, 2, 3, 6, 6, 2, 10, 3, 8, 4, 2, 2, 4, 2, 2, 4, 1, 6, 1, 3, 1, 2, 1, 4, 1, 7, 1, 1, 5, 11, 5, 7, 6, 5, 3, 9, 1, 3, 2, 3, 5, 6, 1, 3, 3, 2, 1, 3, 5, 3, 1, 4, 2, 1, 2, 1, 2, 4, 1, 1, 6, 6, 9, 4, 6, 3, 5, 1, 6, 4, 6, 4, 4, 5, 3, 4, 2, 1, 2, 2, 3, 5, 2, 4, 2, 5, 4, 2, 3, 5, 3, 1, 4, 2, 6, 3, 1, 5, 6, 4, 4, 5, 3, 1, 8, 3, 3, 3, 5, 3, 1, 4, 3, 4, 3, 3, 4, 2, 1, 2, 2, 1, 2, 3, 3, 1, 4, 1, 10, 5, 3, 3, 1, 2, 4, 4, 3, 5, 3, 2, 7, 6, 8, 7, 8, 4, 1, 6, 2, 2, 3, 3, 3, 3, 3, 2, 6, 4, 3, 4, 1, 1, 7, 10, 8, 2, 4, 4, 2, 1, 1, 5, 1, 2, 6, 2, 3, 1, 3, 4, 5, 8, 5, 5, 1, 4, 1, 8, 3, 15, 6, 2, 7, 4, 2, 2, 7, 7, 5, 7, 5, 6, 6, 5, 5, 16, 6, 14, 6, 4, 4, 4, 6, 7, 3, 2, 11, 3, 8, 3, 3, 3, 2, 4, 9, 3, 3, 4, 7, 7, 6, 6, 7, 1, 5, 4, 4, 3, 6, 4, 2, 4, 1, 2, 5, 3, 4, 7, 7, 5, 4, 3, 5, 4, 4, 5, 7, 2, 4, 12, 2, 3, 3, 2, 5, 4, 3, 4, 2, 6, 5, 4, 1, 5, 1, 5, 3, 9, 2, 3, 4, 7, 6, 3, 1, 1, 3, 4, 4, 4, 1, 4, 5, 8, 8, 8, 8, 8, 6, 3, 7, 5, 5, 7, 4, 2, 1, 9, 4, 3, 6, 3, 7, 2, 8, 4, 3, 7, 7, 5, 4, 2, 4, 1, 3, 4, 1, 1, 4, 1, 1, 1, 3, 2, 3, 5, 1, 2, 3, 2, 1, 1, 4, 2, 7, 4, 3, 7, 5, 5, 1, 7, 8, 1, 7, 3, 4, 8, 2, 5, 4, 3, 5, 7, 8, 4, 7, 6, 8, 4, 4, 5, 3, 9, 11, 4, 9, 4, 2, 6, 6, 3, 1, 6, 5, 8, 5, 1, 6, 3, 8, 9, 9, 5, 1, 2, 2, 9, 4, 5, 7, 5, 12, 6, 9, 1, 2, 2, 3, 5, 3, 5, 3, 5, 1, 6, 3, 3, 4, 5, 9, 8, 3, 3, 5, 4, 4, 4, 5, 9, 5, 9, 6, 11, 5, 5, 6, 6, 5, 12, 6, 5, 2, 7, 3, 5, 5, 4, 16, 3, 4, 3, 6, 2, 4, 3, 1, 3, 6, 6, 4, 6, 4, 7, 2, 3, 6, 3, 3, 5, 8, 10, 5, 7, 8, 3, 3, 9, 2, 4, 6, 9, 2, 4, 3, 4, 5, 5, 1, 9, 1, 8, 6, 3, 9, 5, 6, 3, 2, 3, 6, 8, 2, 6, 4, 9, 6, 2, 2, 1, 1, 7, 6, 14, 5, 1, 8, 2, 5, 6, 2, 6, 1, 5, 4, 4, 1, 4, 3, 4, 8, 4, 6, 2, 5, 2, 4, 4, 2, 5, 1, 2, 2, 6, 6, 3, 7, 3, 3, 4, 2, 6, 1, 5, 8, 6, 7, 5, 6, 6, 3, 3, 4, 2, 3, 4, 14, 3, 9, 11, 6, 6, 6, 1, 2, 3, 5, 5, 8, 1, 3, 4, 2, 3, 1, 7, 4, 2, 8, 11, 7, 6, 7, 4, 9, 3, 10, 4, 6, 7, 4, 4, 4, 4, 3, 4, 3, 3, 3, 1, 3, 3, 4, 6, 2, 2, 5, 3, 2, 5, 8, 4, 6, 2, 5, 4, 2, 1, 1, 10, 7, 6, 1, 2, 9, 8, 3, 6, 2, 5, 4, 3, 3, 5, 7, 2, 8, 3, 7, 5, 9, 4, 3, 6, 3, 6, 5, 4, 1, 6, 4, 7, 4, 1, 3, 8, 4, 3, 3, 4, 5, 5, 1, 3, 6, 6, 6, 8, 2, 8, 5, 5, 6, 9, 4, 6, 7, 2, 10, 3, 10, 5, 7, 5, 1, 2, 8, 10, 4, 9, 5, 5, 2, 2, 10, 5, 4, 5, 2, 4, 5, 3, 5, 1, 2, 5, 3, 8, 5, 2, 8, 8, 5, 4, 5, 5, 6, 8, 6, 2, 5, 1, 3, 5, 2, 1, 1, 1, 3, 5, 2, 2, 1, 1, 4, 2, 7, 5, 4, 4, 5, 2, 6, 6, 9, 4, 6, 2, 7, 5, 2, 1, 4, 3, 3, 2, 3, 10, 3, 1, 2, 2, 2, 3, 3, 6, 2, 1, 3, 9, 1, 1, 6, 5, 7, 3, 5, 6, 5, 3, 4, 1, 4, 1, 11, 6, 1, 11, 4, 5, 2, 5, 14, 14, 6, 4, 2, 3, 10, 5, 5, 3, 12, 3, 3, 3, 3, 3, 5, 4, 2, 7, 7, 4, 3, 6, 10, 3, 3, 2, 1, 5, 4, 7, 5, 4, 6, 10, 12, 2, 6, 3, 5, 4, 4, 7, 9, 2, 5, 2, 2, 3, 6, 4, 3, 2, 4, 9, 2, 5, 5, 4, 8, 3, 12, 4, 4, 7, 5, 9, 3, 4, 5, 7, 4, 5, 7, 5, 7, 9, 5, 4, 5, 4, 3, 11, 3, 3, 3, 3, 2, 8, 5, 1, 2, 4, 10, 4, 3, 6, 10, 7, 2, 5, 2, 3, 1, 6, 2, 6, 8, 7, 7, 13, 8, 5, 3, 1, 6, 5, 5, 1, 6, 3, 8, 5, 4, 9, 4, 1, 1, 2, 2, 5, 7, 10, 2, 3, 6, 13, 5, 6, 4, 10, 3, 2, 4, 4, 6, 7, 3, 8, 5, 7, 6, 5, 3, 6, 6, 1, 12, 1, 4, 6, 7, 2, 5, 5, 4, 4, 1, 7, 3, 5, 5, 6, 3, 3, 4, 4, 8, 6, 4, 5, 1, 4, 10, 5, 3, 1, 7, 4, 1, 5, 3, 10, 1, 11, 18, 3, 8, 3, 6, 9, 2, 7, 2, 7, 1, 4, 4, 4, 4, 4, 3, 5, 4, 4, 2, 3, 4, 3, 5, 5, 9, 2, 2, 4, 9, 1, 5, 8, 7, 7, 8, 5, 5, 5, 1, 5, 11, 4, 3, 5, 7, 3, 3, 11, 3, 5, 4, 5, 5, 4, 5, 3, 8, 4, 5, 6, 6, 7, 7, 5, 11, 4, 6, 5, 4, 5, 4, 5, 4, 3, 9, 2, 9, 1, 5, 4, 6, 7, 3, 1, 3, 3, 1, 2, 4, 2, 9, 2, 9, 11, 1, 10, 6, 4, 9, 4, 1, 11, 10, 4, 5, 4, 4, 6, 6, 8, 2, 1, 2, 4, 6, 3, 6, 5, 4, 8, 3, 4, 1, 5, 4, 4, 1, 7, 4, 3, 9, 3, 10, 4, 8, 1, 6, 3, 7, 1, 5, 4, 3, 3, 4, 4, 4, 3, 2, 2, 4, 1, 2, 4, 2, 1, 4, 5, 3, 2, 4, 3, 1, 9, 2, 3, 5, 6, 6, 5, 7, 2, 3, 3, 3, 2, 2, 2, 1, 2, 4, 7, 3, 5, 6, 7, 5, 8, 2, 4, 10, 3, 2, 3, 7, 1, 2, 5, 4, 1, 1, 4, 1, 5, 3, 3, 1, 5, 6, 2, 6, 8, 5, 2, 7, 2, 2, 2, 2, 1, 3, 3, 2, 1, 2, 1, 2, 1, 1, 1, 1, 1, 1, 1, 1, 2, 2, 1, 3, 4, 3, 2, 1, 4, 5, 2, 5, 3, 6, 5, 6, 3, 6, 3, 3, 8, 5, 7, 5, 4, 3, 3, 14, 6, 9, 5, 1, 5, 6, 4, 5, 8, 4, 2, 4, 3, 5, 4, 5, 1, 3, 3, 6, 2, 4, 4, 7, 7, 2, 5, 3, 4, 3, 2, 2, 5, 2, 7, 3, 2, 4, 7, 2, 5, 1, 6, 6, 6, 4, 9, 6, 1, 8, 7, 4, 3, 3, 2, 3, 3, 3, 3, 3, 2, 2, 6, 3, 6, 3, 5, 1, 7, 1, 3, 2, 1, 2, 2, 1, 4, 7, 3, 3, 3, 3, 5, 2, 2, 2, 1, 2, 8, 2, 2, 2, 2, 1, 3, 1, 4, 2, 5, 6, 1, 1, 3, 3, 4, 4, 2, 2, 1, 5, 3, 2, 1, 1, 2, 4, 1, 7, 4, 8, 2, 4, 4, 6, 3, 11, 4, 8, 10, 2, 3, 5, 9, 1, 4, 7, 5, 4, 12, 6, 3, 1, 2, 3, 2, 3, 4, 2, 1, 3, 4, 2, 2, 2, 2, 1, 3, 4, 2, 6, 4, 5, 10, 1, 1, 6, 14, 3, 6, 1, 5, 9, 4, 7, 3, 6, 3, 5, 4, 5, 2, 5, 1, 7, 5, 3, 6, 14, 8, 11, 1, 3, 1, 1, 5, 7, 1, 6, 3, 3, 7, 2, 2, 3, 3, 4, 6, 6, 5, 3, 2, 4, 5, 10, 1, 6, 6, 3, 2, 3, 8, 4, 5, 4, 7, 4, 3, 1, 5, 1, 4, 5, 4, 4, 6, 1, 4, 6, 8, 6, 7, 5, 4, 1, 7, 4, 3, 4, 4, 1, 1, 3, 2, 1, 5, 5, 4, 6, 5, 5, 3, 5, 4, 13, 1, 4, 2, 4, 2, 2, 2, 4, 5, 3, 3, 12, 2, 8, 2, 5, 3, 5, 6, 3, 3, 4, 9, 2, 2, 3, 4, 3, 3, 4, 2, 7, 4, 3, 2, 4, 3, 7, 2, 5, 3, 2, 1, 5, 4, 1, 5, 4, 2, 6, 3, 2, 6, 2, 2, 2, 3, 3, 2, 2, 2, 1, 4, 3, 2, 2, 2, 16, 3, 3, 3, 5, 6, 4, 3, 5, 2, 3, 4, 1, 5, 7, 2, 3, 10, 7, 3, 7, 3, 9, 1, 6, 1, 5, 4, 10, 11, 2, 2, 5, 1, 4, 6, 4, 4, 3, 4, 6, 1, 6, 4, 3, 1, 5, 4, 1, 9, 4, 4, 3, 3, 3, 4, 7, 6, 7, 5, 5, 4, 5, 6, 2, 2, 2, 2, 1, 2, 3, 10, 5, 4, 5, 2, 5, 3, 7, 4, 5, 3, 1, 1, 7, 4, 6, 5, 3, 3, 3, 5, 5, 3, 6, 4, 5, 5, 1, 2, 6, 2, 3, 2, 3, 2, 2, 1, 5, 2, 6, 11, 7, 3, 5, 9, 5, 3, 3, 5, 3, 7, 2, 5, 11, 11, 12, 1, 4, 10, 5, 2, 3, 7, 4, 8, 4, 3, 1, 5, 4, 7, 10, 8, 3, 2, 3, 2, 1, 3, 3, 1, 3, 9, 5, 1, 5, 5, 7, 2, 3, 5, 2, 5, 2, 1, 5, 7, 5, 1, 7, 1, 8, 5, 4, 7, 11, 8, 4, 3, 6, 1, 5, 7, 9, 4, 3, 7, 11, 4, 1, 7, 3, 7, 6, 10, 6, 6, 2, 6, 2, 4, 10, 10, 2, 4, 4, 9, 4, 5, 4, 5, 2, 6, 4, 2, 7, 7, 2, 1, 3, 4, 5, 5, 1, 4, 2, 10, 6, 5, 4, 3, 3, 3, 3, 3, 7, 7, 1, 6, 5, 4, 5, 5, 3, 4, 3, 7, 2, 5, 2, 2, 3, 2, 1, 4, 5, 5, 3, 2, 2, 1, 3, 3, 3, 2, 2, 4, 5, 5, 3, 1, 3, 3, 7, 5, 6, 7, 8, 6, 4, 6, 5, 12, 1, 3, 5, 5, 2, 6, 5, 3, 4, 4, 4, 4, 1, 4, 1, 5, 6, 12, 5, 1, 1, 2, 5, 2, 2, 1, 2, 7, 1, 6, 5, 2, 4, 6, 3, 6, 4, 1, 3, 2, 4, 2, 2, 8, 1, 4, 3, 4, 1, 3, 2, 6, 1, 1, 3, 4, 2, 11, 3, 1, 4, 1, 3, 2, 4, 4, 3, 6, 6, 4, 3, 5, 3, 1, 8, 4, 4, 2, 1, 1, 5, 5, 1, 6, 5, 3, 5, 4, 8, 3, 4, 3, 4, 5, 2, 10, 4, 4, 3, 4, 5, 3, 2, 4, 7, 6, 3, 2, 1, 10, 16, 4, 2, 4, 4, 1, 5, 2, 1, 4, 4, 6, 4, 2, 4, 6, 4, 6, 5, 7, 6, 4, 3, 5, 4, 6, 7, 8, 5, 3, 8, 5, 8, 5, 6, 11, 14, 4, 3, 3, 6, 5, 7, 4, 1, 4, 1, 3, 5, 10, 1, 5, 17, 2, 3, 3, 2, 2, 3, 4, 8, 3, 4, 1, 2, 2, 2, 4, 3, 2, 9, 3, 4, 3, 2, 1, 4, 4, 3, 3, 4, 9, 3, 3, 5, 6, 2, 1, 6, 4, 3, 3, 1, 2, 4, 7, 3, 1, 6, 6, 4, 2, 7, 1, 7, 5, 1, 5, 4, 4, 6, 6, 7, 6, 8, 6, 6, 7, 6, 5, 3, 3, 5, 6, 6, 8, 6, 3, 3, 3, 4, 3, 5, 8, 3, 1, 6, 5, 2, 4, 5, 6, 5, 3, 7, 8, 2, 4, 2, 2, 2, 3, 1, 3, 2, 6, 13, 3, 5, 2, 2, 7, 4, 7, 5, 1, 2, 5, 5, 1, 8, 2, 1, 3, 5, 1, 3, 3, 4, 2, 3, 12, 4, 4, 10, 6, 7, 4, 6, 7, 4, 6, 6, 4, 4, 4, 4, 4, 1, 8, 5, 3, 6, 3, 4, 4, 2, 5, 7, 3, 4, 4, 3, 6, 5, 7, 3, 6, 5, 6, 9, 10, 4, 7, 3, 10, 10, 4, 6, 4, 4, 9, 7, 4, 3, 5, 5, 2, 4, 2, 1, 3, 2, 5, 6, 5, 1, 3, 3, 4, 9, 2, 3, 3, 5, 6, 7, 1, 3, 13, 4, 6, 5, 9, 4, 3, 9, 4, 4, 4, 10, 10, 1, 7, 3, 4, 10, 2, 5, 4, 5, 5, 8, 4, 3, 10, 3, 1, 9, 4, 3, 3, 4, 2, 4, 5, 4, 2, 11, 6, 6, 1, 9, 3, 13, 3, 7, 13, 8, 2, 7, 7, 5, 1, 3, 4, 8, 1, 10, 3, 1, 5, 4, 3, 1, 4, 2, 5, 7, 3, 3, 3, 4, 7, 10, 10, 4, 6, 5, 3, 5, 2, 3, 4, 4, 4, 1, 3, 3, 6, 4, 3, 4, 2, 5, 2, 1, 8, 3, 8, 6, 8, 6, 1, 8, 1, 2, 4, 2, 1, 7, 4, 7, 2, 7, 9, 4, 4, 4, 2, 3, 6, 2, 2, 3, 4, 3, 4, 1, 1, 4, 4, 4, 6, 4, 4, 2, 11, 3, 2, 3, 1, 1, 1, 3, 4, 2, 3, 5, 1, 3, 3, 9, 5, 5, 3, 4, 2, 5, 7, 4, 3, 7, 10, 2, 4, 4, 4, 4, 2, 4, 3, 3, 9, 4, 4, 8, 8, 2, 2, 7, 9, 8, 2, 2, 2, 4, 2, 3, 2, 8, 2, 1, 2, 4, 4, 3, 4, 7, 4, 5, 4, 4, 2, 5, 3, 5, 7, 6, 4, 3, 2, 2, 3, 1, 1, 3, 5, 6, 3, 2, 2, 8, 6, 10, 1, 9, 9, 5, 7, 5, 6, 4, 5, 4, 6, 3, 1, 6, 3, 3, 11, 7, 11, 5, 5, 7, 3, 3, 3, 5, 2, 4, 2, 5, 2, 1, 4, 3, 5, 7, 3, 4, 3, 5, 1, 11, 1, 7, 3, 7, 6, 5, 2, 3, 5, 3, 7, 3, 2, 5, 4, 10, 5, 10, 4, 2, 12, 5, 6, 5, 8, 4, 4, 7, 5, 3, 3, 3, 3, 10, 5, 6, 6, 2, 2, 10, 1, 1, 7, 3, 4, 4, 4, 2, 5, 2, 5, 4, 5, 2, 5, 4, 4, 3, 5, 4, 3, 7, 3, 1, 4, 8, 2, 5, 3, 4, 4, 6, 3, 9, 5, 4, 1, 13, 9, 2, 3, 4, 5, 3, 4, 3, 11, 4, 3, 7, 2, 3, 4, 6, 7, 9, 2, 1, 4, 9, 2, 5, 3, 4, 3, 5, 1, 4, 2, 5, 3, 3, 1, 2, 3, 3, 1, 4, 6, 6, 5, 3, 5, 3, 2, 4, 5, 9, 12, 8, 9, 12, 8, 2, 3, 4, 3, 3, 5, 4, 6, 2, 4, 1, 6, 2, 8, 5, 11, 3, 5, 1, 6, 26, 4, 3, 3, 5, 4, 3, 2, 4, 4, 2, 5, 5, 4, 2, 2, 3, 7, 5, 4, 4, 3, 7, 4, 4, 1, 7, 8, 2, 3, 2, 1, 2, 2, 10, 1, 2, 4, 4, 2, 5, 3, 3, 4, 5, 5, 6, 4, 6, 1, 4, 7, 6, 2, 2, 1, 5, 2, 2, 7, 2, 4, 4, 1, 2, 7, 1, 1, 1, 2, 2, 2, 5, 2, 2, 4, 4, 5, 3, 3, 2, 1, 2, 1, 3, 4, 3, 4, 6, 3, 7, 4, 3, 4, 6, 4, 5, 3, 1, 3, 1, 6, 4, 6, 3, 5, 3, 3, 5, 3, 6, 3, 6, 6, 1, 4, 6, 2, 5, 7, 5, 7, 7, 8, 3, 7, 5, 3, 1, 7, 5, 2, 5, 10, 7, 1, 4, 6, 6, 2, 6, 6, 3, 5, 7, 2, 6, 4, 2, 6, 8, 3, 7, 3, 1, 7, 5, 3, 4, 6, 3, 2, 3, 2, 3, 14, 8, 7, 9, 4, 6, 2, 5, 1, 3, 2, 1, 5, 3, 3, 6, 3, 5, 1, 5, 7, 1, 6, 5, 1, 6, 9, 4, 4, 4, 1, 15, 7, 4, 3, 3, 2, 6, 3, 4, 5, 5, 1, 6, 5, 1, 5, 6, 6, 7, 6, 1, 5, 4, 3, 4, 5, 3, 4, 3, 2, 3, 4, 5, 3, 2, 3, 4, 4, 6, 4, 1, 1, 1, 2, 7, 7, 2, 8, 1, 12, 8, 8, 8, 6, 3, 3, 3, 4, 7, 7, 5, 5, 11, 5, 3, 13, 14, 3, 2, 3, 3, 2, 2, 4, 1, 7, 6, 1, 3, 2, 2, 1, 1, 2, 3, 6, 3, 5, 10, 3, 8, 3, 6, 3, 6, 2, 3, 4, 2, 7, 10, 6, 5, 3, 9, 13, 7, 8, 9, 4, 6, 6, 10, 8, 8, 2, 2, 5, 5, 3, 2, 2, 6, 4, 7, 7, 3, 5, 5, 2, 8, 5, 1, 3, 4, 2, 4, 7, 6, 1, 4, 6, 4, 4, 3, 1, 8, 2, 4, 1, 6, 6, 7, 6, 5, 6, 7, 3, 4, 3, 3, 1, 2, 4, 2, 3, 4, 4, 7, 2, 8, 3, 3, 5, 7, 2, 7, 4, 7, 10, 1, 7, 4, 4, 7, 1, 7, 5, 5, 5, 5, 5, 9, 8, 4, 4, 5, 4, 7, 6, 8, 2, 3, 2, 7, 3, 6, 2, 6, 1, 3, 3, 4, 6, 6, 4, 5, 8, 3, 3, 4, 4, 6, 6, 5, 5, 11, 4, 2, 1, 5, 5, 4, 2, 4, 4, 1, 4, 5, 6, 3, 4, 6, 3, 5, 5, 5, 5, 9, 4, 3, 6, 6, 6, 14, 6, 1, 5, 8, 5, 1, 6, 4, 5, 2, 1, 1, 6, 6, 4, 7, 3, 5, 2, 2, 4, 5, 5, 13, 7, 4, 3, 2, 4, 2, 3, 2, 4, 3, 1, 2, 8, 3, 5, 2, 7, 6, 6, 7, 7, 6, 3, 2, 5, 2, 9, 10, 4, 6, 9, 4, 2, 4, 4, 1, 2, 6, 3, 5, 4, 8, 12, 4, 2, 2, 7, 9, 1, 4, 2, 6, 7, 6, 6, 4, 3, 9, 2, 3, 5, 3, 5, 5, 7, 9, 7, 1, 5, 5, 6, 2, 7, 2, 5, 13, 3, 6, 8, 1, 7, 1, 9, 4, 5, 2, 1, 1, 6, 11, 4, 2, 2, 6, 7, 3, 2, 4, 4, 4, 7, 2, 4, 6, 3, 3, 8, 2, 3, 3, 4, 6, 2, 3, 4, 5, 6, 2, 1, 5, 5, 7, 3, 2, 3, 1, 1, 5, 6, 1, 10, 4, 2, 7, 7, 5, 7, 8, 5, 7, 10, 5, 4, 2, 3, 3, 7, 3, 5, 5, 5, 7, 9, 5, 2, 5, 4, 4, 2, 9, 4, 3, 5, 1, 2, 5, 3, 3, 3, 6, 2, 6, 7, 1, 2, 2, 5, 4, 4, 2, 2, 4, 1, 7, 1, 6, 2, 6, 1, 8, 8, 3, 5, 9, 10, 10, 5, 6, 4, 2, 2, 4, 4, 9, 2, 5, 3, 10, 3, 4, 1, 4, 4, 7, 6, 4, 1, 5, 2, 4, 6, 6, 6, 13, 7, 2, 7, 8, 6, 2, 7, 3, 2, 10, 1, 6, 12, 5, 5, 2, 4, 3, 5, 2, 6, 6, 5, 7, 7, 8, 2, 3, 1, 2, 6, 3, 4, 8, 3, 3, 2, 3, 2, 10, 2, 4, 4, 3, 4, 7, 6, 5, 4, 5, 3, 4, 2, 4, 2, 2, 8, 3, 10, 9, 6, 9, 3, 8, 5, 2, 2, 9, 8, 2, 4, 6, 3, 2, 3, 4, 3, 10, 7, 1, 2, 4, 11, 2, 2, 4, 5, 12, 8, 11, 4, 5, 2, 5, 6, 6, 1, 6, 9, 2, 9, 5, 1, 2, 4, 5, 6, 3, 7, 3, 8, 10, 1, 8, 3, 3, 4, 4, 6, 5, 5, 4, 5, 2, 6, 4, 12, 1, 13, 5, 5, 1, 4, 7, 4, 7, 6, 3, 5, 7, 11, 1, 1, 1, 6, 3, 3, 5, 2, 5, 2, 3, 5, 3, 3, 2, 4, 2, 6, 13, 13, 1, 1, 1, 4, 1, 6, 9, 1, 3, 3, 4, 5, 12, 8, 6, 3, 4, 3, 5, 1, 5, 4, 1, 7, 6, 5, 6, 5, 4, 6, 6, 4, 7, 4, 6, 5, 6, 6, 14, 8, 3, 11, 3, 12, 9, 5, 1, 2, 1, 5, 3, 4, 3, 4, 5, 2, 5, 4, 3, 2, 3, 6, 1, 5, 2, 7, 3, 5, 6, 4, 5, 8, 6, 9, 5, 2, 2, 3, 3, 1, 3, 5, 1, 1, 3, 4, 3, 3, 3, 11, 14, 4, 2, 4, 1, 1, 4, 5, 3, 2, 3, 4, 5, 3, 6, 6, 5, 8, 1, 5, 5, 7, 2, 8, 7, 12, 3, 2, 4, 3, 5, 5, 2, 4, 8, 6, 1, 4, 3, 3, 3, 2, 2, 3, 6, 1, 6, 6, 1, 3, 2, 1, 6, 4, 4, 5, 5, 2, 1, 4, 6, 3, 4, 2, 6, 2, 3, 6, 5, 5, 4, 13, 1, 2, 4, 3, 5, 3, 3, 4, 3, 4, 2, 3, 2, 2, 3, 2, 3, 1, 6, 3, 8, 9, 9, 2, 3, 6, 8, 4, 8, 2, 3, 4, 5, 1, 3, 7, 1, 1, 4, 9, 5, 4, 4, 1, 6, 6, 2, 6, 5, 3, 2, 3, 3, 3, 2, 4, 2, 8, 4, 4, 3, 4, 8, 4, 9, 1, 6, 3, 2, 3, 2, 1, 2, 1, 5, 1, 2, 5, 3, 8, 4, 6, 4, 3, 10, 6, 4, 5, 2, 4, 2, 1, 4, 3, 5, 7, 8, 4, 5, 7, 1, 4, 6, 1, 3, 3, 10, 1, 1, 10, 11, 5, 4, 6, 6, 7, 7, 8, 3, 5, 4, 1, 6, 6, 1, 8, 4, 7, 6, 5, 3, 7, 7, 11, 16, 5, 1, 5, 4, 5, 4, 9, 10, 4, 8, 7, 4, 5, 6, 9, 2, 3, 4, 4, 11, 2, 8, 3, 3, 5, 7, 3, 7, 7, 5, 3, 4, 7, 5, 4, 4, 6, 6, 7, 6, 2, 6, 5, 4, 5, 1, 5, 2, 5, 3, 1, 3, 2, 7, 7, 2, 5, 3, 5, 6, 4, 5, 6, 5, 2, 10, 7, 12, 6, 13, 7, 8, 13, 2, 7, 3, 1, 7, 1, 7, 4, 4, 4, 4, 7, 6, 5, 5, 6, 6, 1, 15, 10, 6, 5, 8, 5, 2, 3, 3, 1, 1, 2, 2, 1, 3, 1, 6, 15, 6, 5, 7, 1, 5, 3, 1, 2, 4, 4, 2, 3, 5, 6, 2, 7, 3, 5, 3, 5, 6, 1, 1, 6, 1, 5, 5, 4, 4, 4, 6, 1, 2, 9, 10, 5, 4, 4, 4, 4, 4, 7, 5, 2, 3, 1, 1, 3, 6, 4, 3, 5, 2, 3, 2, 1, 4, 2, 1, 13, 3, 3, 4, 6, 5, 2, 2, 1, 1, 4, 6, 6, 4, 7, 7, 10, 8, 6, 11, 5, 4, 11, 4, 5, 9, 5, 4, 2, 3, 3, 4, 2, 3, 4, 9, 9, 6, 8, 1, 5, 3, 2, 3, 2, 1, 2, 6, 3, 4, 1, 3, 3, 5, 6, 7, 2, 6, 14, 11, 16, 5, 15, 6, 11, 6, 4, 5, 6, 4, 12, 6, 7, 5, 10, 1, 8, 5, 7, 7, 3, 3, 5, 6, 6, 4, 5, 2, 4, 4, 9, 8, 8, 1, 10, 5, 5, 5, 1, 2, 6, 5, 3, 1, 1, 5, 3, 1, 1, 3, 3, 1, 5, 3, 11, 2, 1, 2, 1, 3, 3, 2, 2, 2, 8, 6, 4, 1, 5, 8, 5, 3, 4, 4, 11, 4, 9, 12, 1, 4, 1, 4, 3, 4, 7, 6, 6, 14, 6, 12, 4, 2, 4, 4, 8, 9, 4, 6, 4, 7, 1, 6, 5, 10, 11, 4, 7, 8, 9, 1, 1, 4, 8, 3, 3, 6, 6, 5, 1, 9, 1, 5, 6, 3, 8, 3, 7, 13, 6, 3, 3, 2, 4, 6, 5, 6, 1, 1, 5, 2, 5, 4, 3, 1, 4, 5, 5, 5, 5, 4, 4, 9, 6, 6, 8, 1, 5, 7, 6, 5, 2, 3, 6, 3, 4, 8, 6, 7, 7, 3, 11, 4, 5, 4, 2, 5, 1, 4, 3, 2, 3, 9, 5, 6, 3, 5, 7, 7, 8, 3, 6, 6, 7, 1, 6, 5, 2, 4, 5, 1, 7, 6, 6, 9, 4, 7, 4, 4, 6, 4, 7, 12, 11, 1, 8, 5, 3, 9, 5, 2, 9, 12, 1, 5, 5, 6, 7, 11, 6, 10, 4, 6, 7, 1, 2, 4, 2, 3, 5, 5, 4, 1, 6, 5, 3, 3, 2, 3, 1, 5, 2, 3, 5, 5, 7, 2, 9, 7, 3, 3, 4, 6, 1, 10, 5, 1, 1, 1, 5, 5, 5, 4, 5, 1, 4, 4, 2, 9, 5, 4, 1, 9, 5, 4, 4, 3, 7, 2, 5, 6, 5, 7, 5, 6, 8, 6, 6, 4, 3, 8, 5, 1, 8, 1, 5, 8, 5, 4, 3, 5, 7, 8, 3, 4, 5, 6, 4, 4, 2, 9, 5, 6, 1, 8, 6, 3, 9, 10, 11, 9, 10, 4, 5, 6, 5, 9, 2, 4, 4, 2, 4, 7, 6, 6, 7, 10, 6, 8, 4, 4, 4, 4, 3, 4, 4, 2, 2, 2, 1, 5, 1, 4, 3, 7, 9, 2, 3, 5, 5, 6, 4, 8, 7, 2, 2, 1, 1, 10, 10, 5, 5, 1, 10, 5, 2, 6, 2, 2, 2, 3, 3, 8, 7, 10, 5, 5, 5, 4, 7, 3, 7, 4, 4, 8, 10, 2, 3, 3, 2, 4, 6, 9, 4, 4, 2, 6, 8, 4, 4, 3, 3, 7, 6, 1, 6, 1, 2, 6, 5, 6, 1, 7, 3, 7, 4, 4, 6, 4, 2, 3, 3, 7, 2, 4, 1, 4, 6, 3, 3, 12, 12, 6, 4, 3, 3, 3, 4, 7, 3, 9, 10, 7, 22, 5, 9, 3, 7, 5, 7, 6, 5, 6, 7, 4, 6, 5, 3, 9, 5, 7, 5, 3, 5, 6, 3, 6, 4, 3, 4, 4, 4, 7, 6, 3, 1, 2, 9, 6, 3, 4, 5, 6, 3, 9, 7, 1, 6, 6, 3, 8, 6, 7, 1, 8, 1, 5, 7, 5, 7, 3, 2, 7, 3, 3, 7, 4, 5, 6, 3, 2, 9, 3, 2, 2, 6, 5, 3, 1, 7, 4, 5, 6, 4, 8, 4, 4, 1, 8, 3, 4, 3, 2, 6, 5, 4, 5, 11, 5, 4, 6, 1, 5, 4, 7, 4, 1, 5, 1, 10, 6, 9, 8, 3, 3, 5, 4, 2, 3, 1, 5, 4, 1, 2, 2, 7, 5, 2, 2, 3, 3, 4, 1, 9, 6, 8, 6, 5, 5, 4, 8, 7, 5, 4, 4, 3, 1, 7, 5, 8, 4, 3, 4, 5, 5, 6, 4, 4, 5, 3, 5, 4, 4, 5, 3, 5, 5, 9, 6, 9, 4, 2, 4, 4, 7, 12, 5, 3, 7, 4, 5, 7, 7, 3, 6, 14, 2, 9, 1, 7, 8, 4, 4, 1, 1, 2, 2, 5, 1, 5, 8, 7, 2, 8, 6, 3, 7, 7, 4, 4, 7, 5, 1, 4, 6, 7, 5, 7, 12, 5, 2, 3, 3, 1, 5, 6, 4, 4, 1, 7, 4, 5, 8, 3, 9, 8, 5, 9, 11, 10, 6, 7, 2, 3, 6, 7, 5, 5, 3, 11, 11, 2, 3, 8, 1, 6, 3, 3, 4, 5, 5, 4, 6, 1, 8, 12, 10, 11, 5, 6, 4, 3, 1, 2, 6, 9, 13, 1, 5, 6, 1, 3, 4, 1, 5, 4, 6, 4, 7, 7, 11, 2, 3, 6, 2, 7, 8, 8, 4, 3, 11, 4, 6, 7, 7, 20, 6, 2, 5, 3, 1, 4, 9, 9, 6, 5, 6, 6, 1, 1, 1, 4, 4, 4, 6, 4, 6, 3, 7, 1, 4, 5, 6, 8, 6, 3, 3, 7, 6, 8, 6, 11, 5, 2, 11, 9, 14, 4, 9, 4, 3, 9, 3, 8, 12, 3, 2, 8, 9, 3, 3, 1, 2, 1, 1, 6, 10, 6, 7, 3, 4, 7, 5, 8, 2, 2, 8, 11, 5, 7, 8, 7, 1, 2, 3, 7, 4, 4, 5, 3, 2, 9, 7, 3, 2, 3, 4, 4, 7, 8, 5, 7, 10, 3, 1, 5, 6, 5, 5, 5, 2, 1, 8, 8, 4, 2, 10, 14, 7, 7, 4, 4, 6, 1, 10, 5, 7, 2, 8, 5, 4, 3, 2, 7, 8, 9, 9, 10, 3, 4, 4, 2, 5, 5, 8, 7, 9, 9, 6, 2, 2, 4, 2, 2, 2, 4, 2, 6, 2, 3, 3, 1, 5, 5, 3, 3, 5, 4, 4, 6, 4, 8, 6, 5, 9, 3, 2, 11, 4, 8, 6, 7, 5, 3, 1, 7, 9, 6, 3, 4, 1, 5, 2, 15, 1, 1, 6, 10, 10, 10, 1, 9, 8, 3, 10, 14, 2, 5, 2, 3, 8, 6, 9, 11, 8, 5, 3, 3, 6, 4, 4, 2, 6, 7, 5, 2, 4, 9, 2, 6, 4, 4, 7, 3, 4, 3, 4, 6, 4, 2, 2, 10, 3, 7, 4, 5, 9, 2, 2, 6, 7, 8, 8, 4, 5, 5, 3, 4, 4, 4, 3, 8, 15, 1, 3, 3, 2, 3, 3, 1, 2, 2, 4, 3, 2, 4, 4, 4, 5, 5, 2, 2, 2, 5, 4, 4, 3, 5, 6, 7, 4, 7, 5, 2, 5, 3, 7, 2, 5, 4, 5, 2, 6, 3, 6, 4, 6, 1, 2, 1, 3, 1, 3, 2, 4, 4, 9, 7, 5, 4, 5, 9, 9, 4, 9, 3, 7, 3, 7, 3, 5, 8, 9, 4, 8, 2, 2, 2, 4, 4, 5, 4, 4, 4, 13, 11, 1, 7, 3, 3, 4, 4, 8, 4, 5, 1, 8, 3, 2, 5, 5, 10, 10, 4, 6, 6, 10, 4, 8, 2, 5, 3, 3, 3, 5, 6, 9, 6, 3, 9, 3, 2, 3, 5, 5, 6, 7, 2, 2, 11, 8, 6, 7, 10, 14, 8, 6, 7, 6, 3, 11, 1, 8, 3, 9, 1, 9, 7, 7, 5, 5, 7, 15, 12, 13, 1, 1, 4, 5, 7, 7, 9, 7, 5, 6, 6, 2, 4, 1, 7, 4, 5, 4, 7, 8, 3, 3, 5, 5, 4, 4, 6, 3, 7, 8, 1, 7, 9, 8, 17, 6, 3, 9, 3, 6, 3, 5, 5, 5, 5, 7, 4, 9, 4, 5, 6, 14, 10, 3, 2, 1, 3, 2, 2, 4, 4, 4, 4, 6, 10, 11, 5, 1, 5, 7, 3, 6, 8, 8, 6, 1, 5, 5, 5, 1, 2, 4, 2, 4, 7, 5, 7, 6, 2, 4, 8, 7, 9, 4, 5, 7, 7, 4, 9, 3, 8, 4, 4, 4, 5, 5, 6, 5, 6, 3, 4, 5, 2, 7, 9, 4, 13, 13, 2, 1, 2, 10, 2, 4, 4, 4, 4, 1, 2, 2, 3, 9, 4, 8, 2, 3, 4, 4, 2, 3, 6, 2, 4, 8, 5, 2, 6, 4, 6, 5, 4, 6, 1, 7, 3, 6, 7, 3, 2, 4, 8, 1, 4, 10, 12, 8, 4, 4, 8, 1, 7, 9, 7, 9, 11, 3, 3, 3, 4, 7, 1, 6, 2, 10, 5, 3, 2, 3, 7, 3, 2, 4, 6, 6, 2, 7, 3, 3, 3, 5, 3, 1, 4, 1, 1, 2, 7, 4, 8, 2, 8, 4, 3, 3, 2, 3, 2, 5, 3, 5, 3, 6, 1, 14, 9, 4, 5, 3, 5, 3, 7, 4, 7, 6, 3, 10, 2, 5, 4, 5, 4, 4, 3, 3, 1, 3, 4, 4, 1, 4, 3, 2, 8, 10, 6, 5, 11, 5, 1, 4, 12, 6, 5, 4, 3, 6, 2, 3, 3, 3, 7, 4, 7, 1, 9, 6, 15, 7, 7, 3, 2, 1, 5, 8, 9, 2, 8, 3, 2, 2, 3, 1, 3, 2, 5, 6, 1, 1, 1, 1, 6, 3, 2, 5, 5, 5, 5, 4, 5, 8, 7, 6, 10, 5, 9, 7, 2, 4, 3, 3, 4, 2, 4, 2, 4, 4, 3, 6, 5, 10, 8, 6, 3, 4, 3, 6, 6, 4, 9, 1, 4, 6, 4, 5, 3, 6, 6, 6, 10, 3, 1, 1, 11, 3, 1, 5, 9, 1, 2, 5, 5, 2, 5, 6, 2, 8, 10, 7, 2, 10, 3, 1, 6, 8, 4, 7, 4, 9, 1, 7, 5, 4, 5, 3, 2, 2, 4, 8, 12, 4, 7, 4, 6, 4, 7, 3, 4, 4, 4, 5, 1, 3, 6, 5, 13, 4, 5, 13, 4, 7, 5, 2, 8, 3, 2, 4, 3, 1, 6, 2, 4, 5, 6, 3, 6, 2, 2, 1, 5, 5, 3, 4, 1, 2, 7, 2, 4, 1, 5, 6, 3, 4, 3, 7, 1, 9, 5, 9, 4, 8, 4, 3, 10, 13, 2, 12, 5, 9, 1, 7, 4, 4, 4, 8, 2, 5, 6, 3, 5, 4, 5, 5, 4, 3, 3, 3, 6, 6, 1, 4, 1, 9, 4, 4, 2, 4, 1, 3, 8, 5, 1, 2, 8, 8, 4, 2, 6, 4, 7, 3, 3, 4, 6, 4, 7, 6, 5, 3, 2, 3, 6, 5, 2, 3, 4, 2, 2, 2, 3, 14, 8, 5, 7, 5, 5, 3, 8, 11, 3, 3, 1, 7, 8, 4, 6, 3, 2, 5, 6, 3, 5, 5, 6, 6, 6, 2, 4, 8, 3, 1, 3, 10, 5, 5, 6, 1, 8, 5, 5, 1, 8, 5, 3, 7, 1, 3, 5, 8, 2, 8, 1, 14, 2, 6, 2, 5, 2, 2, 6, 3, 6, 3, 7, 11, 8, 3, 5, 5, 6, 3, 2, 3, 5, 2, 3, 5, 3, 3, 6, 7, 3, 4, 2, 3, 6, 3, 1, 1, 1, 4, 2, 4, 1, 6, 6, 4, 1, 3, 3, 2, 4, 8, 5, 4, 8, 4, 6, 5, 13, 10, 7, 3, 5, 4, 6, 6, 6, 7, 4, 5, 8, 9, 3, 4, 1, 4, 3, 2, 5, 3, 3, 8, 9, 3, 4, 3, 4, 3, 5, 7, 1, 9, 5, 3, 4, 2, 4, 11, 9, 6, 4, 5, 2, 7, 6, 13, 1, 6, 4, 3, 2, 6, 4, 1, 2, 4, 4, 8, 1, 4, 7, 10, 4, 5, 6, 10, 7, 4, 3, 3, 12, 6, 4, 4, 4, 2, 6, 5, 10, 1, 6, 1, 5, 7, 6, 10, 6, 6, 9, 3, 3, 6, 5, 7, 1, 5, 1, 11, 3, 7, 3, 1, 4, 5, 6, 3, 6, 4, 6, 7, 11, 9, 5, 1, 1, 3, 3, 3, 3, 3, 2, 1, 4, 6, 4, 7, 4, 6, 4, 7, 4, 1, 1, 9, 6, 2, 6, 4, 5, 6, 8, 1, 9, 6, 1, 4, 2, 11, 5, 4, 4, 3, 5, 8, 7, 7, 4, 3, 3, 3, 3, 5, 4, 5, 6, 3, 4, 7, 7, 4, 7, 1, 4, 3, 3, 1, 4, 9, 7, 11, 12, 13, 1, 4, 7, 6, 5, 4, 1, 3, 4, 6, 4, 3, 1, 8, 11, 4, 1, 6, 5, 4, 4, 4, 11, 7, 8, 7, 9, 8, 10, 8, 7, 1, 6, 1, 5, 3, 6, 5, 5, 6, 5, 2, 6, 5, 11, 8, 4, 6, 1, 7, 6, 6, 7, 7, 7, 7, 8, 2, 5, 5, 3, 2, 3, 6, 8, 10, 6, 7, 8, 6, 4, 17, 3, 6, 4, 7, 3, 8, 5, 3, 4, 2, 3, 6, 5, 4, 5, 5, 5, 5, 6, 4, 5, 5, 6, 10, 5, 11, 3, 4, 5, 2, 12, 14, 2, 6, 5, 5, 10, 4, 2, 8, 3, 5, 7, 6, 8, 6, 7, 9, 2, 9, 3, 2, 5, 2, 2, 4, 5, 8, 3, 3, 6, 7, 2, 3, 19, 3, 5, 12, 9, 3, 8, 6, 10, 7, 3, 5, 2, 3, 3, 4, 4, 4, 6, 1, 6, 3, 3, 1, 1, 1, 2, 2, 3, 4, 1, 1, 2, 1, 2, 3, 5, 5, 3, 1, 5, 5, 7, 2, 4, 3, 4, 1, 6, 4, 6, 4, 2, 8, 4, 2, 6, 7, 5, 5, 8, 9, 2, 3, 5, 3, 5, 5, 4, 4, 6, 5, 6, 4, 7, 1, 7, 6, 8, 4, 2, 1, 3, 4, 8, 8, 8, 1, 1, 10, 15, 3, 3, 6, 7, 7, 4, 4, 7, 7, 5, 6, 3, 3, 3, 1, 2, 3, 3, 3, 5, 6, 3, 2, 3, 5, 6, 4, 7, 4, 5, 4, 4, 2, 4, 3, 5, 3, 5, 7, 7, 5, 3, 5, 1, 10, 3, 5, 12, 8, 5, 1, 1, 6, 9, 5, 2, 9, 4, 1, 5, 5, 5, 9, 4, 8, 15, 10, 4, 7, 6, 8, 3, 2, 3, 2, 2, 2, 1, 8, 7, 5, 8, 3, 9, 1, 10, 5, 8, 3, 3, 10, 11, 4, 14, 2, 10, 2, 3, 1, 11, 8, 8, 5, 13, 3, 6, 1, 7, 2, 5, 3, 9, 3, 2, 3, 8, 6, 3, 3, 2, 3, 5, 5, 1, 2, 1, 1, 1, 2, 2, 2, 9, 1, 3, 3, 4, 2, 4, 2, 8, 6, 8, 3, 8, 6, 12, 6, 4, 5, 6, 2, 6, 5, 10, 2, 2, 7, 3, 4, 4, 6, 1, 7, 1, 2, 3, 5, 1, 8, 7, 1, 1, 2, 4, 3, 6, 4, 2, 6, 5, 5, 9, 6, 9, 2, 10, 5, 2, 6, 3, 3, 1, 4, 4, 7, 6, 8, 6, 1, 4, 4, 6, 1, 6, 2, 6, 3, 1, 10, 6, 3, 4, 5, 4, 3, 4, 6, 6, 4, 1, 2, 7, 4, 3, 6, 10, 6, 7, 3, 4, 2, 3, 6, 7, 1, 1, 1, 1, 10, 7, 5, 5, 5, 6, 9, 7, 10, 2, 6, 5, 8, 11, 7, 6, 5, 5, 1, 3, 16, 6, 7, 9, 5, 2, 11, 9, 8, 1, 3, 3, 6, 7, 5, 7, 5, 3, 1, 12, 2, 7, 3, 4, 6, 8, 7, 2, 7, 8, 4, 5, 5, 5, 2, 4, 9, 7, 3, 1, 2, 8, 6, 5, 1, 3, 3, 7, 6, 5, 3, 2, 5, 3, 4, 7, 3, 5, 1, 7, 5, 4, 7, 9, 4, 5, 3, 10, 8, 2, 6, 4, 10, 1, 5, 2, 11, 4, 9, 6, 6, 1, 3, 3, 1, 8, 12, 7, 7, 4, 6, 15, 3, 5, 9, 14, 3, 3, 7, 5, 4, 9, 13, 3, 12, 3, 4, 7, 6, 7, 5, 4, 5, 4, 5, 4, 8, 5, 4, 4, 4, 4, 7, 4, 4, 1, 4, 5, 9, 6, 3, 6, 1, 1, 2, 2, 2, 1, 4, 9, 2, 7, 6, 4, 5, 3, 2, 4, 11, 1, 3, 2, 2, 2, 2, 6, 8, 4, 4, 5, 5, 6, 8, 6, 1, 2, 9, 5, 1, 2, 2, 3, 5, 2, 2, 5, 5, 4, 4, 5, 2, 9, 4, 1, 8, 6, 8, 1, 5, 4, 7, 12, 5, 4, 5, 6, 4, 8, 6, 9, 3, 5, 2, 2, 3, 1, 4, 6, 4, 3, 5, 2, 4, 2, 6, 2, 1, 7, 4, 7, 13, 5, 6, 6, 3, 4, 7, 11, 4, 5, 3, 4, 4, 4, 4, 5, 4, 6, 2, 5, 7, 9, 2, 4, 5, 5, 5, 4, 5, 6, 6, 5, 4, 6, 6, 5, 7, 7, 4, 3, 2, 5, 8, 3, 1, 13, 1, 5, 3, 4, 5, 5, 3, 4, 4, 5, 7, 4, 4, 8, 7, 2, 4, 5, 2, 6, 3, 5, 5, 6, 8, 3, 2, 10, 4, 5, 7, 4, 2, 3, 4, 2, 2, 1, 4, 9, 5, 3, 7, 1, 1, 3, 2, 2, 2, 5, 6, 2, 6, 2, 5, 6, 10, 4, 2, 3, 6, 2, 6, 6, 4, 4, 6, 3, 2, 4, 6, 8, 13, 3, 9, 1, 2, 2, 2, 4, 1, 6, 4, 7, 3, 10, 9, 4, 9, 4, 4, 1, 4, 5, 4, 2, 3, 5, 3, 6, 2, 3, 1, 6, 3, 8, 6, 6, 5, 1, 4, 2, 1, 5, 5, 6, 7, 6, 6, 3, 10, 3, 7, 4, 6, 7, 10, 1, 7, 3, 7, 2, 2, 1, 5, 3, 4, 3, 3, 5, 4, 5, 8, 6, 4, 4, 1, 7, 4, 7, 8, 5, 7, 4, 6, 2, 3, 4, 3, 4, 3, 4, 3, 2, 1, 6, 3, 5, 3, 3, 5, 2, 3, 4, 6, 3, 4, 2, 3, 3, 7, 4, 6, 2, 9, 1, 2, 5, 3, 1, 4, 4, 1, 5, 7, 1, 4, 8, 2, 4, 8, 5, 4, 4, 6, 5, 15, 20, 3, 3, 6, 1, 4, 2, 5, 1, 6, 3, 6, 3, 5, 3, 4, 5, 5, 5, 3, 1, 2, 4, 1, 4, 6, 3, 5, 8, 1, 4, 5, 2, 7, 4, 8, 5, 3, 3, 7, 4, 10, 10, 12, 10, 2, 10, 4, 4, 9, 7, 5, 6, 8, 6, 3, 10, 1, 4, 1, 1, 2, 7, 6, 7, 5, 5, 5, 5, 7, 4, 3, 6, 5, 6, 3, 4, 4, 6, 5, 3, 6, 3, 4, 2, 5, 1, 1, 3, 5, 9, 9, 5, 7, 7, 11, 6, 12, 4, 5, 6, 5, 6, 5, 1, 7, 7, 6, 7, 6, 6, 3, 4, 5, 1, 4, 5, 7, 4, 1, 6, 7, 2, 5, 5, 6, 2, 6, 1, 3, 2, 4, 4, 2, 5, 3, 4, 4, 6, 8, 6, 8, 3, 3, 2, 3, 4, 1, 6, 5, 5, 6, 3, 2, 4, 4, 4, 3, 3, 2, 5, 6, 8, 11, 1, 4, 3, 4, 6, 4, 2, 5, 5, 1, 8, 5, 7, 5, 6, 4, 6, 5, 18, 20, 2, 9, 5, 5, 4, 6, 5, 5, 4, 6, 9, 4, 8, 4, 6, 1, 5, 1, 3, 3, 4, 7, 4, 3, 4, 2, 6, 5, 4, 9, 8, 7, 4, 5, 4, 3, 4, 6, 2, 6, 3, 3, 8, 6, 5, 3, 8, 9, 13, 1, 3, 2, 5, 3, 5, 6, 4, 4, 4, 6, 2, 6, 6, 8, 4, 6, 6, 6, 4, 10, 2, 9, 1, 6, 10, 1, 2, 4, 5, 5, 5, 1, 4, 2, 10, 3, 5, 4, 4, 8, 5, 3, 4, 4, 4, 7, 5, 5, 7, 10, 6, 4, 8, 4, 7, 1, 6, 12, 6, 6, 6, 3, 1, 3, 6, 3, 6, 1, 7, 7, 4, 6, 11, 3, 9, 2, 5, 4, 7, 3, 3, 8, 6, 9, 6, 8, 4, 3, 7, 1, 4, 8, 5, 1, 2, 1, 1, 2, 1, 2, 1, 7, 3, 5, 6, 6, 5, 3, 5, 5, 8, 3, 1, 27, 4, 5, 6, 6, 6, 10, 6, 6, 7, 7, 6, 3, 3, 7, 3, 11, 2, 4, 12, 6, 12, 17, 6, 7, 4, 9, 2, 2, 5, 2, 7, 8, 4, 6, 3, 6, 9, 5, 5, 1, 4, 2, 9, 1, 10, 3, 1, 6, 7, 4, 6, 8, 6, 5, 5, 6, 3, 6, 3, 4, 3, 5, 6, 6, 3, 5, 2, 2, 2, 2, 2, 2, 3, 6, 3, 6, 8, 7, 10, 11, 5, 1, 1, 1, 3, 2, 12, 1, 2, 5, 4, 3, 4, 4, 5, 1, 1, 4, 1, 3, 5, 3, 4, 6, 1, 8, 4, 5, 2, 6, 5, 1, 9, 4, 5, 6, 5, 6, 8, 4, 6, 5, 4, 3, 2, 3, 6, 2, 1, 8, 7, 3, 3, 1, 4, 7, 6, 2, 5, 3, 6, 6, 4, 4, 1, 2, 2, 3, 2, 1, 6, 4, 4, 5, 3, 9, 2, 3, 5, 5, 5, 3, 14, 3, 2, 5, 3, 4, 1, 7, 4, 5, 2, 1, 2, 1, 1, 4, 5, 3, 5, 2, 5, 4, 3, 7, 6, 7, 10, 4, 6, 2, 7, 9, 12, 4, 8, 6, 5, 8, 3, 7, 5, 2, 10, 8, 5, 5, 3, 5, 3, 1, 3, 2, 5, 2, 9, 3, 8, 7, 3, 3, 1, 5, 5, 6, 3, 4, 6, 3, 5, 4, 3, 7, 7, 2, 4, 6, 1, 2, 6, 1, 1, 1, 6, 6, 4, 4, 4, 6, 5, 6, 6, 7, 6, 2, 8, 9, 5, 5, 20, 6, 8, 1, 9, 7, 4, 9, 4, 4, 5, 3, 6, 8, 8, 12, 2, 1, 3, 3, 8, 5, 5, 4, 1, 5, 6, 2, 4, 4, 5, 2, 3, 5, 6, 7, 1, 6, 8, 14, 5, 9, 5, 10, 5, 5, 7, 6, 7, 7, 6, 3, 3, 3, 7, 2, 2, 5, 5, 2, 1, 3, 2, 1, 3, 2, 7, 5, 7, 1, 6, 7, 7, 7, 9, 6, 5, 7, 2, 3, 3, 5, 5, 1, 9, 8, 2, 1, 2, 2, 3, 4, 2, 1, 3, 1, 2, 3, 6, 2, 5, 2, 10, 4, 3, 7, 3, 5, 1, 8, 5, 7, 4, 1, 3, 4, 3, 5, 2, 3, 4, 6, 6, 4, 4, 3, 6, 1, 9, 4, 4, 4, 5, 8, 2, 5, 4, 12, 4, 9, 4, 2, 5, 8, 9, 7, 5, 2, 6, 7, 8, 3, 3, 5, 4, 4, 5, 6, 2, 4, 5, 11, 5, 10, 1, 7, 5, 2, 5, 8, 9, 6, 6, 1, 3, 3, 1, 7, 5, 3, 5, 6, 5, 6, 5, 5, 13, 4, 6, 6, 5, 6, 3, 5, 3, 6, 2, 16, 5, 9, 12, 10, 6, 2, 3, 7, 4, 6, 2, 4, 4, 3, 8, 4, 5, 5, 8, 3, 6, 5, 6, 9, 5, 5, 6, 6, 7, 5, 5, 3, 7, 3, 7, 5, 6, 5, 5, 1, 5, 8, 4, 6, 7, 5, 8, 2, 10, 1, 1, 4, 2, 6, 1, 5, 3, 5, 5, 1, 5, 7, 5, 3, 3, 1, 6, 1, 5, 2, 2, 7, 2, 4, 5, 6, 10, 3, 8, 10, 2, 10, 4, 1, 6, 2, 3, 1, 4, 1, 1, 2, 3, 3, 2, 5, 4, 7, 5, 6, 2, 10, 4, 6, 3, 3, 4, 4, 9, 4, 2, 10, 2, 2, 1, 6, 7, 3, 6, 6, 1, 5, 5, 5, 2, 4, 3, 5, 3, 4, 5, 2, 5, 3, 5, 4, 5, 4, 5, 6, 1, 2, 4, 5, 3, 1, 2, 3, 2, 6, 4, 4, 2, 3, 3, 5, 2, 5, 4, 8, 5, 1, 4, 3, 2, 2, 3, 3, 5, 5, 4, 1, 5, 6, 9, 8, 6, 3, 10, 13, 2, 4, 7, 2, 4, 4, 4, 1, 4, 2, 7, 6, 1, 9, 5, 2, 5, 6, 5, 6, 4, 4, 3, 1, 6, 7, 4, 4, 5, 2, 4, 6, 4, 5, 5, 4, 3, 7, 1, 6, 2, 6, 3, 9, 1, 2, 2, 4, 9, 5, 6, 4, 4, 2, 3, 6, 3, 3, 2, 7, 4, 13, 1, 8, 3, 11, 11, 2, 8, 4, 4, 5, 6, 7, 8, 4, 9, 9, 6, 5, 4, 10, 9, 11, 12, 3, 2, 6, 6, 1, 5, 7, 4, 6, 2, 1, 2, 1, 3, 1, 1, 4, 4, 4, 1, 1, 12, 5, 6, 5, 5, 3, 9, 10, 3, 8, 6, 8, 8, 11, 6, 4, 6, 3, 3, 1, 3, 4, 4, 5, 9, 6, 5, 6, 5, 6, 8, 2, 8, 2, 6, 4, 4, 5, 5, 5, 4, 7, 3, 3, 7, 8, 4, 3, 9, 4, 5, 5, 5, 5, 1, 3, 1, 3, 1, 1, 7, 5, 7, 1, 6, 7, 9, 6, 5, 1, 5, 8, 3, 12, 3, 5, 2, 3, 4, 2, 7, 11, 7, 5, 6, 8, 1, 7, 4, 8, 9, 1, 3, 2, 4, 5, 6, 4, 7, 2, 1, 6, 1, 7, 6, 7, 5, 5, 3, 5, 7, 3, 5, 6, 11, 5, 5, 6, 4, 3, 2, 4, 3, 3, 2, 1, 3, 4, 4, 1, 7, 1, 3, 6, 3, 5, 4, 4, 6, 5, 6, 1, 9, 6, 4, 6, 5, 6, 4, 6, 5, 4, 5, 2, 7, 4, 6, 6, 3, 2, 1, 10, 7, 3, 4, 3, 4, 3, 1, 3, 4, 9, 6, 3, 3, 4, 3, 3, 6, 3, 6, 2, 8, 3, 3, 5, 5, 3, 4, 5, 1, 6, 2, 7, 3, 6, 4, 1, 8, 7, 5, 3, 4, 3, 2, 3, 6, 1, 5, 5, 3, 5, 7, 8, 2, 5, 10, 12, 7, 2, 2, 1, 2, 3, 1, 4, 3, 1, 3, 1, 4, 9, 4, 3, 9, 4, 5, 1, 7, 3, 5, 6, 7, 7, 4, 3, 3, 1, 5, 4, 8, 8, 10, 10, 8, 8, 5, 15, 10, 7, 7, 6, 6, 7, 4, 3, 6, 4, 8, 3, 7, 2, 3, 4, 3, 5, 6, 4, 4, 4, 3, 6, 5, 3, 6, 4, 5, 5, 4, 7, 6, 2, 5, 6, 3, 5, 9, 6, 1, 4, 9, 13, 3, 9, 4, 2, 3, 4, 3, 2, 7, 3, 5, 4, 5, 3, 8, 2, 3, 7, 3, 4, 3, 5, 9, 5, 2, 9, 2, 6, 4, 1, 4, 10, 4, 7, 12, 7, 1, 6, 4, 6, 5, 6, 6, 9, 5, 4, 5, 4, 4, 4, 13, 2, 3, 4, 4, 5, 9, 3, 13, 2, 1, 4, 5, 5, 2, 6, 4, 4, 2, 2, 3, 11, 11, 2, 8, 7, 5, 3, 10, 6, 1, 6, 1, 3, 2, 3, 5, 4, 2, 2, 4, 1, 2, 6, 2, 8, 10, 2, 12, 1, 7, 4, 10, 6, 8, 1, 8, 3, 2, 4, 2, 11, 6, 3, 3, 8, 5, 9, 7, 6, 7, 7, 1, 6, 13, 2, 2, 2, 6, 7, 7, 2, 13, 5, 5, 3, 6, 8, 10, 6, 12, 2, 5, 2, 7, 7, 2, 6, 5, 7, 4, 3, 8, 1, 6, 6, 4, 7, 1, 6, 7, 1, 5, 3, 5, 5, 10, 9, 4, 8, 5, 8, 2, 4, 1, 3, 4, 3, 2, 4, 3, 3, 4, 5, 4, 6, 3, 10, 3, 2, 2, 5, 6, 6, 6, 9, 8, 8, 1, 9, 8, 4, 15, 22, 1, 3, 3, 3, 4, 12, 3, 5, 9, 2, 6, 2, 6, 1, 12, 3, 5, 7, 5, 8, 2, 1, 7, 4, 2, 3, 2, 7, 5, 3, 2, 5, 3, 7, 8, 10, 4, 9, 5, 7, 3, 10, 1, 1, 9, 9, 1, 3, 8, 6, 7, 10, 5, 1, 7, 1, 2, 2, 4, 6, 3, 2, 1, 3, 6, 6, 6, 2, 6, 8, 6, 7, 6, 10, 2, 5, 5, 5, 6, 3, 5, 3, 5, 3, 4, 9, 5, 2, 4, 2, 2, 5, 5, 6, 6, 6, 6, 2, 11, 4, 14, 11, 1, 4, 4, 12, 7, 1, 5, 5, 6, 9, 7, 9, 6, 4, 5, 5, 3, 4, 5, 7, 6, 10, 3, 7, 4, 11, 4, 2, 8, 4, 5, 15, 5, 10, 5, 6, 3, 7, 7, 8, 7, 4, 5, 3, 6, 12, 10, 4, 4, 5, 6, 6, 5, 5, 4, 1, 9, 8, 5, 4, 7, 4, 5, 6, 6, 11, 2, 4, 1, 3, 1, 4, 2, 7, 4, 3, 1, 2, 6, 15, 12, 1, 4, 3, 7, 2, 3, 9, 6, 11, 1, 10, 5, 7, 5, 9, 7, 8, 1, 1, 11, 7, 8, 5, 8, 4, 14, 6, 8, 7, 1, 12, 7, 10, 3, 2, 10, 5, 2, 9, 9, 5, 5, 9, 3, 7, 4, 4, 5, 2, 4, 9, 2, 9, 10, 8, 9, 7, 5, 3, 5, 6, 12, 9, 10, 6, 7, 12, 13, 7, 7, 8, 13, 6, 5, 7, 9, 10, 11, 15, 2, 8, 1, 9, 8, 7, 6, 6, 7, 12, 12, 2, 3, 7, 7, 11, 6, 6, 1, 7, 8, 10, 10, 3, 7, 10, 9, 11, 5, 4, 3, 6, 6, 4, 6, 7, 2, 4, 6, 9, 9, 10, 7, 3, 1, 3, 6, 8, 8, 3, 6, 1, 3, 5, 2, 4, 4, 4, 4, 5, 3, 6, 3, 8, 5, 6, 8, 2, 2, 2, 5, 2, 3, 7, 3, 8, 2, 4, 2, 11, 8, 7, 10, 8, 9, 8, 5, 3, 2, 4, 1, 3, 3, 2, 2, 6, 5, 7, 5, 2, 3, 1, 1, 4, 4, 1, 1, 4, 2, 1, 2, 1, 3, 3, 4, 5, 3, 7, 7, 8, 1, 3, 13, 13, 3, 16, 2, 12, 4, 13, 3, 3, 6, 6, 2, 9, 4, 4, 3, 2, 9, 5, 4, 2, 2, 6, 11, 4, 4, 6, 7, 7, 3, 7, 14, 4, 1, 2, 6, 5, 2, 5, 2, 5, 5, 4, 5, 7, 7, 2, 5, 3, 10, 3, 6, 5, 4, 6, 4, 8, 10, 8, 1, 8, 4, 5, 6, 4, 5, 2, 2, 2, 5, 3, 4, 2, 3, 10, 10, 5, 3, 7, 5, 12, 4, 4, 4, 5, 3, 2, 5, 6, 7, 3, 9, 3, 5, 5, 16, 19, 4, 3, 5, 3, 3, 3, 3, 8, 1, 4, 8, 3, 3, 1, 1, 5, 2, 4, 2, 6, 1, 3, 3, 5, 3, 5, 2, 5, 3, 3, 2, 2, 2, 3, 1, 4, 5, 2, 4, 1, 6, 5, 6, 6, 6, 6, 7, 6, 6, 5, 1, 1, 3, 3, 3, 4, 1, 5, 7, 2, 2, 3, 2, 3, 3, 4, 5, 1, 4, 7, 3, 3, 2, 1, 2, 6, 2, 5, 11, 3, 9, 4, 2, 3, 8, 2, 3, 3, 5, 4, 6, 7, 3, 3, 10, 2, 3, 2, 3, 2, 2, 1, 2, 3, 5, 6, 1, 4, 2, 4, 4, 3, 4, 3, 11, 2, 5, 3, 3, 6, 7, 2, 7, 4, 3, 3, 5, 2, 5, 5, 3, 4, 3, 4, 6, 4, 6, 1, 1, 6, 1, 2, 3, 3, 10, 9, 10, 7, 1, 2, 4, 10, 4, 3, 6, 6, 6, 3, 7, 3, 5, 6, 7, 6, 2, 5, 2, 2, 2, 4, 4, 2, 13, 6, 2, 3, 6, 7, 6, 5, 4, 6, 1, 13, 7, 2, 2, 2, 1, 3, 5, 2, 6, 3, 1, 7, 5, 4, 3, 6, 2, 5, 8, 5, 9, 7, 9, 6, 6, 3, 4, 6, 3, 8, 3, 6, 9, 11, 6, 2, 6, 2, 2, 6, 8, 2, 5, 11, 7, 9, 1, 4, 3, 10, 5, 9, 5, 6, 5, 10, 6, 7, 9, 5, 5, 9, 3, 2, 5, 7, 7, 7, 3, 4, 3, 12, 3, 4, 3, 2, 6, 5, 2, 6, 9, 1, 9, 5, 10, 5, 6, 11, 7, 10, 3, 5, 6, 3, 6, 3, 3, 5, 4, 1, 8, 5, 4, 5, 2, 5, 1, 5, 4, 6, 8, 2, 9, 11, 1, 4, 10, 3, 4, 3, 1, 9, 4, 4, 4, 5, 4, 5, 1, 3, 9, 2, 1, 5, 2, 5, 1, 10, 3, 2, 2, 4, 6, 3, 3, 6, 1, 7, 3, 3, 3, 2, 2, 6, 3, 1, 1, 5, 3, 6, 5, 6, 4, 3, 10, 6, 2, 5, 6, 5, 2, 4, 3, 2, 8, 2, 1, 9, 1, 5, 1, 3, 4, 5, 2, 4, 4, 2, 9, 5, 2, 3, 8, 5, 11, 14, 1, 6, 5, 15, 17, 4, 1, 6, 3, 2, 5, 10, 5, 11, 3, 5, 5, 5, 7, 8, 4, 5, 1, 3, 4, 2, 12, 8, 1, 4, 2, 5, 1, 2, 8, 6, 3, 2, 1, 6, 1, 8, 5, 2, 6, 6, 3, 4, 1, 8, 8, 7, 9, 1, 5, 6, 4, 1, 3, 2, 2, 5, 3, 8, 9, 2, 7, 7, 4, 6, 4, 5, 6, 6, 3, 5, 6, 2, 4, 8, 4, 4, 4, 6, 10, 7, 4, 4, 2, 4, 2, 3, 2, 4, 3, 12, 4, 6, 8, 12, 2, 6, 1, 5, 7, 6, 4, 6, 7, 4, 9, 4, 6, 5, 9, 5, 7, 6, 9, 9, 5, 8, 5, 12, 6, 5, 7, 6, 7, 4, 7, 7, 6, 4, 2, 3, 1, 2, 2, 4, 5, 11, 2, 3, 1, 3, 8, 6, 5, 1, 1, 3, 2, 2, 3, 3, 2, 1, 4, 3, 5, 2, 2, 3, 2, 4, 4, 3, 6, 4, 5, 5, 1, 5, 1, 6, 9, 3, 5, 3, 4, 1, 7, 6, 4, 8, 9, 7, 2, 4, 6, 6, 5, 5, 9, 4, 4, 6, 2, 3, 3, 2, 4, 1, 4, 5, 7, 3, 4, 3, 4, 3, 3, 1, 2, 1, 1, 3, 7, 4, 3, 2, 4, 2, 1, 7, 5, 3, 5, 1, 3, 8, 3, 2, 2, 1, 1, 2, 4, 5, 1, 2, 2, 1, 3, 4, 5, 2, 3, 1, 4, 4, 2, 1, 3, 4, 5, 5, 2, 4, 4, 4, 6, 4, 5, 4, 10, 1, 7, 3, 1, 5, 3, 6, 6, 6, 4, 2, 12, 3, 3, 8, 6, 2, 3, 2, 5, 6, 4, 6, 4, 2, 3, 4, 5, 2, 10, 6, 4, 4, 6, 5, 3, 5, 6, 4, 6, 6, 10, 6, 14, 6, 4, 4, 5, 3, 7, 9, 2, 3, 4, 4, 2, 4, 5, 5, 2, 4, 3, 5, 4, 3, 2, 1, 4, 4, 2, 1, 1, 2, 2, 1, 3, 2, 3, 2, 5, 4, 4, 4, 1, 5, 6, 7, 8, 6, 2, 3, 4, 6, 3, 2, 7, 4, 4, 4, 4, 5, 5, 7, 2, 3, 3, 3, 6, 4, 3, 1, 3, 6, 6, 4, 8, 2, 5, 6, 5, 4, 6, 4, 1, 7, 6, 4, 5, 2, 3, 5, 3, 1, 5, 3, 3, 2, 1, 2, 1, 1, 2, 4, 3, 4, 4, 1, 6, 4, 3, 4, 1, 2, 1, 1, 2, 3, 2, 4, 4, 3, 4, 8, 5, 1, 7, 2, 2, 3, 3, 1, 8, 1, 9, 3, 8, 2, 3, 7, 1, 6, 9, 13, 4, 8, 5, 5, 7, 3, 5, 5, 3, 4, 5, 7, 3, 4, 1, 7, 8, 4, 2, 5, 4, 2, 3, 4, 2, 2, 1, 1, 4, 3, 3, 1, 2, 4, 1, 2, 1, 2, 2, 4, 6, 3, 5, 1, 8, 4, 6, 4, 5, 5, 3, 6, 5, 5, 6, 2, 9, 5, 4, 8, 5, 6, 4, 7, 4, 2, 4, 5, 4, 5, 2, 3, 3, 4, 6, 2, 10, 3, 3, 5, 3, 8, 4, 4, 7, 7, 7, 9, 6, 7, 3, 5, 1, 8, 4, 10, 1, 5, 7, 10, 4, 3, 8, 1, 5, 3, 3, 1, 3, 7, 6, 2, 6, 3, 6, 2, 7, 5, 2, 2, 2, 2, 4, 5, 7, 2, 8, 4, 4, 3, 5, 7, 7, 10, 4, 12, 3, 8, 11, 2, 6, 11, 1, 3, 8, 6, 9, 8, 10, 10, 5, 7, 3, 7, 8, 7, 4, 4, 9, 6, 4, 9, 3, 3, 6, 5, 14, 6, 3, 2, 4, 2, 2, 6, 2, 2, 3, 5, 6, 1, 2, 5, 6, 3, 4, 6, 9, 9, 3, 7, 2, 9, 4, 7, 3, 9, 5, 11, 9, 7, 8, 10, 6, 12, 3, 4, 7, 2, 2, 13, 6, 10, 5, 7, 3, 8, 9, 6, 3, 7, 4, 7, 6, 3, 7, 3, 7, 4, 6, 7, 3, 7, 5, 6, 4, 6, 5, 6, 6, 3, 9, 9, 1, 6, 7, 5, 10, 14, 12, 6, 8, 7, 7, 7, 2, 2, 7, 3, 4, 3, 5, 5, 4, 1, 7, 2, 2, 1, 5, 4, 6, 4, 1, 3, 3, 2, 4, 2, 3, 5, 5, 7, 6, 2, 3, 3, 4, 1, 7, 5, 4, 3, 2, 2, 1, 6, 1, 3, 3, 3, 5, 5, 4, 4, 3, 5, 2, 2, 1, 6, 9, 4, 4, 4, 6, 5, 7, 4, 5, 3, 4, 2, 7, 5, 4, 8, 5, 7, 1, 9, 5, 4, 8, 6, 5, 6, 6, 7, 1, 4, 2, 2, 7, 1, 7, 3, 5, 5, 7, 2, 8, 10, 6, 1, 7, 1, 6, 3, 5, 4, 4, 3, 1, 3, 5, 4, 5, 7, 6, 7, 2, 4, 6, 5, 3, 3, 5, 6, 5, 3, 7, 2, 2, 2, 6, 4, 8, 7, 5, 5, 10, 3, 3, 1, 3, 3, 1, 9, 4, 1, 3, 8, 4, 3, 2, 4, 1, 1, 7, 3, 5, 1, 1, 1, 4, 3, 3, 5, 4, 3, 1, 3, 6, 5, 1, 12, 8, 7, 6, 3, 7, 9, 12, 5, 8, 3, 10, 12, 10, 4, 7, 5, 7, 1, 7, 1, 6, 1, 7, 3, 8, 6, 6, 6, 6, 10, 5, 7, 8, 9, 2, 4, 7, 4, 8, 5, 5, 1, 3, 1, 5, 4, 5, 2, 2, 2, 2, 6, 2, 5, 6, 7, 8, 1, 8, 3, 10, 2, 4, 5, 7, 4, 3, 5, 6, 1, 3, 11, 2, 1, 4, 3, 1, 5, 3, 4, 4, 1, 10, 6, 8, 5, 4, 5, 10, 3, 5, 3, 6, 14, 2, 7, 1, 3, 5, 6, 8, 4, 2, 3, 6, 4, 8, 6, 6, 5, 5, 3, 3, 7, 4, 5, 4, 7, 3, 5, 9, 5, 8, 4, 2, 3, 4, 7, 7, 7, 2, 5, 6, 5, 2, 2, 5, 8, 7, 4, 2, 2, 12, 6, 4, 6, 4, 4, 4, 7, 3, 3, 7, 2, 5, 4, 1, 4, 3, 8, 5, 3, 9, 5, 5, 5, 6, 9, 2, 4, 4, 5, 6, 3, 2, 2, 9, 9, 5, 4, 4, 8, 8, 9, 6, 5, 8, 3, 8, 1, 2, 1, 3, 4, 2, 4, 2, 9, 4, 6, 6, 5, 10, 4, 5, 6, 8, 11, 2, 3, 7, 4, 8, 3, 7, 6, 5, 5, 2, 7, 8, 7, 2, 9, 3, 1, 3, 2, 3]\n"
          ],
          "name": "stdout"
        }
      ]
    },
    {
      "cell_type": "code",
      "metadata": {
        "id": "cbqgYw6meZ8d",
        "colab_type": "code",
        "colab": {
          "base_uri": "https://localhost:8080/",
          "height": 295
        },
        "outputId": "cc51aa7a-ae8c-4af5-c50d-7b7b5b507590"
      },
      "source": [
        "plt.hist(num_vio_oob, bins=15)\n",
        "plt.title('Distribution of number of violations committed in each inspection (in oob facilities)')\n",
        "plt.xlabel('Number of violations in committed in an inspection')\n",
        "plt.ylabel('Inspection counts')\n",
        "plt.show()"
      ],
      "execution_count": 81,
      "outputs": [
        {
          "output_type": "display_data",
          "data": {
            "image/png": "[encoded data removed]",
            "text/plain": [
              "<Figure size 432x288 with 1 Axes>"
            ]
          },
          "metadata": {
            "tags": []
          }
        }
      ]
    },
    {
      "cell_type": "markdown",
      "metadata": {
        "id": "GwHA1jI1dn_F",
        "colab_type": "text"
      },
      "source": [
        "### **Average number of violations committed in each inspection (in facilities that went out of business)**"
      ]
    },
    {
      "cell_type": "code",
      "metadata": {
        "id": "cWO95lsMgrDG",
        "colab_type": "code",
        "colab": {
          "base_uri": "https://localhost:8080/",
          "height": 35
        },
        "outputId": "da69ee6b-d8d6-4fbb-a08d-3624c2c2d84c"
      },
      "source": [
        "np.mean(num_vio_oob)"
      ],
      "execution_count": 84,
      "outputs": [
        {
          "output_type": "execute_result",
          "data": {
            "text/plain": [
              "4.499932077522188"
            ]
          },
          "metadata": {
            "tags": []
          },
          "execution_count": 84
        }
      ]
    },
    {
      "cell_type": "markdown",
      "metadata": {
        "id": "J5TRf7RQgIF_",
        "colab_type": "text"
      },
      "source": [
        "### **Distribution of number of violations committed in each inspection (in facilities that did NOT go out of business)**"
      ]
    },
    {
      "cell_type": "code",
      "metadata": {
        "id": "0ZW2Yw_ygLH0",
        "colab_type": "code",
        "colab": {
          "base_uri": "https://localhost:8080/",
          "height": 55
        },
        "outputId": "c476a20e-b302-4209-b30a-8c72ffb29909"
      },
      "source": [
        "num_vio_not_oob = []\n",
        "for i in violation_nums_not_oob['Violations']:\n",
        "  num_vio_not_oob.append(len(i))\n",
        "\n",
        "print(num_vio_not_oob)"
      ],
      "execution_count": 82,
      "outputs": [
        {
          "output_type": "stream",
          "text": [
            "[6, 2, 11, 3, 3, 5, 2, 2, 2, 2, 7, 8, 1, 10, 18, 11, 5, 7, 2, 7, 11, 7, 7, 16, 16, 3, 9, 8, 3, 5, 7, 2, 5, 4, 9, 7, 20, 7, 1, 7, 6, 6, 5, 11, 1, 2, 13, 1, 2, 8, 5, 9, 6, 6, 4, 13, 11, 2, 5, 7, 11, 4, 2, 3, 4, 4, 9, 15, 4, 3, 3, 1, 3, 8, 3, 5, 6, 2, 2, 4, 1, 4, 11, 4, 2, 4, 12, 6, 4, 13, 3, 12, 4, 5, 9, 1, 2, 2, 4, 3, 4, 6, 8, 5, 6, 5, 4, 9, 1, 4, 6, 9, 5, 6, 1, 3, 3, 4, 8, 3, 12, 1, 9, 9, 4, 10, 7, 16, 5, 5, 3, 5, 7, 6, 1, 7, 3, 6, 4, 14, 12, 1, 17, 10, 3, 1, 6, 5, 6, 14, 8, 9, 1, 9, 5, 6, 1, 4, 7, 12, 1, 3, 8, 7, 15, 22, 3, 8, 12, 2, 2, 5, 8, 16, 6, 13, 11, 9, 2, 2, 5, 1, 2, 15, 3, 6, 6, 15, 3, 3, 2, 6, 6, 11, 1, 4, 3, 2, 1, 5, 9, 2, 6, 5, 9, 2, 10, 11, 7, 3, 1, 1, 7, 5, 10, 6, 5, 8, 2, 5, 1, 8, 16, 7, 4, 3, 5, 3, 11, 3, 4, 9, 2, 2, 9, 6, 3, 8, 13, 1, 1, 8, 2, 6, 3, 1, 8, 6, 1, 1, 15, 8, 7, 4, 4, 5, 3, 5, 4, 3, 1, 1, 5, 5, 4, 2, 2, 11, 12, 3, 1, 7, 5, 1, 1, 2, 1, 7, 8, 2, 3, 2, 6, 4, 5, 4, 2, 22, 2, 12, 5, 5, 6, 2, 6, 2, 2, 10, 1, 1, 6, 14, 11, 3, 9, 1, 1, 3, 4, 13, 14, 6, 4, 1, 1, 8, 3, 4, 5, 5, 2, 20, 7, 8, 7, 9, 3, 1, 13, 8, 8, 1, 4, 1, 5, 2, 5, 1, 5, 6, 2, 5, 4, 2, 4, 4, 2, 4, 4, 7, 5, 1, 7, 1, 11, 4, 4, 7, 1, 1, 1, 1, 2, 2, 1, 4, 3, 5, 1, 2, 5, 7, 2, 1, 13, 3, 3, 1, 4, 14, 6, 1, 6, 6, 7, 8, 7, 2, 3, 21, 5, 8, 5, 2, 10, 6, 4, 17, 5, 3, 4, 2, 5, 3, 2, 9, 14, 11, 3, 3, 3, 2, 3, 11, 7, 7, 4, 11, 3, 9, 4, 12, 3, 1, 7, 1, 5, 3, 1, 6, 6, 7, 8, 5, 3, 1, 10, 2, 7, 4, 1, 1, 7, 3, 9, 2, 5, 4, 3, 7, 16, 4, 1, 2, 3, 4, 3, 14, 8, 4, 12, 11, 11, 1, 5, 10, 4, 6, 4, 5, 2, 7, 2, 12, 4, 5, 15, 5, 2, 1, 5, 12, 6, 6, 6, 12, 6, 1, 8, 7, 4, 2, 14, 5, 4, 4, 2, 5, 5, 15, 4, 10, 13, 5, 2, 5, 6, 3, 6, 5, 6, 7, 2, 6, 14, 7, 2, 11, 2, 3, 1, 7, 5, 3, 8, 6, 8, 9, 1, 9, 21, 11, 2, 3, 2, 16, 3, 8, 11, 1, 17, 19, 2, 5, 9, 2, 10, 1, 7, 10, 3, 1, 8, 13, 2, 4, 7, 12, 3, 3, 3, 2, 3, 12, 3, 7, 4, 4, 3, 6, 8, 15, 4, 3, 9, 12, 7, 2, 7, 7, 1, 2, 4, 1, 11, 6, 2, 2, 4, 1, 8, 4, 9, 9, 10, 3, 1, 7, 2, 7, 6, 3, 7, 6, 1, 13, 14, 10, 8, 2, 3, 4, 7, 2, 5, 13, 3, 6, 15, 9, 3, 3, 13, 4, 4, 17, 2, 1, 5, 5, 8, 9, 3, 6, 3, 13, 6, 5, 1, 3, 7, 4, 5, 4, 5, 1, 5, 14, 11, 10, 2, 8, 17, 3, 2, 9, 5, 11, 3, 8, 16, 4, 10, 5, 4, 9, 6, 6, 12, 1, 1, 10, 3, 7, 7, 5, 1, 12, 4, 9, 6, 3, 11, 2, 4, 1, 1, 5, 2, 3, 6, 9, 6, 3, 1, 5, 5, 5, 4, 2, 3, 1, 1, 2, 10, 2, 14, 1, 7, 7, 8, 4, 4, 12, 5, 2, 3, 7, 3, 4, 5, 3, 9, 6, 7, 3, 7, 2, 16, 11, 5, 4, 7, 7, 3, 3, 15, 6, 15, 14, 9, 4, 11, 8, 4, 4, 1, 14, 1, 18, 6, 3, 3, 4, 4, 10, 7, 13, 1, 4, 16, 3, 4, 13, 3, 3, 11, 4, 2, 12, 3, 6, 7, 10, 8, 6, 10, 3, 1, 2, 2, 12, 1, 15, 2, 7, 5, 4, 7, 2, 10, 4, 8, 9, 3, 1, 4, 8, 2, 8, 5, 2, 16, 1, 11, 12, 2, 3, 2, 8, 3, 3, 7, 2, 7, 4, 1, 12, 5, 3, 11, 6, 4, 8, 3, 8, 4, 11, 1, 6, 15, 13, 6, 7, 2, 8, 1, 1, 1, 7, 2, 3, 4, 5, 9, 3, 3, 14, 1, 1, 1, 1, 1, 8, 2, 1, 1, 4, 2, 4, 15, 13, 4, 4, 11, 14, 2, 3, 4, 12, 2, 1, 4, 1, 14, 5, 16, 11, 10, 7, 7, 7, 5, 5, 7, 1, 5, 7, 2, 1, 19, 2, 2, 10, 5, 1, 5, 16, 5, 9, 4, 15, 19, 7, 1, 2, 7, 2, 2, 6, 1, 18, 1, 6, 10, 1, 7, 13, 7, 4, 13, 1, 15, 8, 8, 5, 2, 3, 1, 1, 7, 3, 8, 5, 1, 2, 9, 3, 17, 13, 5, 7, 6, 10, 7, 10, 3, 4, 5, 8, 6, 3, 2, 5, 2, 5, 16, 10, 17, 1, 1, 2, 6, 2, 14, 1, 3, 5, 2, 6, 5, 17, 5, 3, 6, 3, 14, 15, 4, 4, 5, 1, 3, 16, 7, 2, 9, 1, 3, 4, 4, 2, 8, 3, 15, 2, 9, 7, 5, 3, 4, 4, 7, 12, 11, 5, 7, 3, 1, 11, 9, 8, 6, 9, 4, 10, 8, 3, 6, 7, 1, 1, 2, 9, 2, 3, 8, 1, 1, 3, 5, 22, 1, 3, 11, 5, 1, 8, 3, 3, 9, 15, 8, 12, 3, 3, 4, 2, 2, 6, 5, 13, 5, 2, 9, 5, 1, 4, 4, 10, 4, 10, 2, 5, 11, 2, 11, 2, 1, 3, 6, 10, 4, 3, 13, 4, 4, 2, 2, 9, 1, 10, 9, 5, 9, 2, 8, 17, 1, 9, 10, 1, 1, 6, 1, 5, 6, 10, 7, 8, 6, 3, 2, 8, 3, 7, 13, 5, 5, 1, 2, 3, 8, 5, 6, 12, 15, 8, 16, 11, 11, 13, 3, 4, 3, 3, 3, 3, 11, 2, 5, 2, 2, 2, 4, 5, 1, 2, 2, 6, 11, 9, 6, 1, 2, 15, 2, 7, 1, 3, 1, 4, 3, 1, 4, 8, 7, 19, 14, 3, 13, 2, 3, 15, 1, 10, 1, 5, 7, 5, 2, 11, 9, 10, 1, 17, 2, 2, 7, 2, 9, 3, 1, 6, 16, 10, 5, 13, 2, 4, 8, 24, 1, 4, 9, 3, 3, 7, 2, 3, 2, 2, 10, 10, 7, 7, 14, 11, 2, 7, 4, 5, 5, 5, 12, 18, 1, 11, 7, 8, 9, 3, 10, 9, 7, 6, 7, 8, 7, 13, 4, 8, 6, 8, 6, 3, 8, 5, 5, 4, 10, 10, 11, 2, 6, 5, 3, 8, 11, 2, 5, 10, 6, 7, 3, 3, 2, 12, 15, 5, 3, 6, 6, 13, 5, 13, 8, 10, 6, 3, 18, 6, 6, 9, 5, 5, 10, 4, 7, 6, 3, 6, 7, 3, 8, 1, 3, 8, 1, 4, 7, 7, 2, 7, 3, 11, 5, 4, 3, 1, 12, 8, 1, 6, 2, 6, 6, 4, 4, 1, 4, 1, 8, 1, 4, 1, 4, 8, 3, 11, 10, 2, 2, 4, 6, 4, 2, 1, 1, 2, 14, 6, 4, 7, 3, 13, 7, 8, 1, 11, 17, 3, 4, 11, 2, 16, 12, 1, 1, 3, 3, 14, 9, 6, 12, 6, 3, 6, 19, 1, 1, 20, 14, 6, 8, 1, 11, 4, 5, 7, 1, 3, 15, 2, 16, 2, 2, 5, 7, 2, 1, 8, 1, 6, 2, 10, 2, 11, 1, 8, 9, 7, 1, 7, 7, 3, 5, 12, 4, 12, 3, 11, 11, 9, 2, 6, 10, 2, 2, 5, 16, 2, 1, 4, 7, 2, 2, 2, 6, 8, 1, 2, 1, 1, 6, 8, 2, 10, 1, 10, 2, 3, 2, 3, 1, 4, 8, 5, 4, 1, 6, 1, 1, 7, 2, 3, 9, 6, 6, 2, 14, 20, 6, 4, 6, 12, 10, 5, 1, 15, 6, 2, 20, 3, 16, 3, 5, 2, 4, 1, 5, 10, 4, 7, 5, 2, 5, 19, 5, 5, 3, 3, 7, 2, 1, 10, 5, 4, 11, 1, 1, 13, 1, 3, 4, 6, 3, 14, 2, 9, 10, 3, 17, 5, 2, 2, 3, 7, 13, 3, 2, 1, 5, 1, 9, 3, 1, 3, 5, 1, 4, 4, 10, 4, 5, 2, 8, 4, 7, 12, 6, 4, 1, 13, 4, 8, 2, 10, 10, 5, 11, 2, 13, 5, 13, 15, 15, 4, 7, 6, 10, 7, 16, 3, 2, 8, 1, 11, 7, 1, 6, 5, 1, 4, 2, 10, 10, 16, 15, 3, 4, 10, 8, 4, 9, 18, 8, 3, 9, 5, 7, 3, 4, 20, 2, 2, 7, 1, 2, 7, 5, 10, 1, 6, 4, 4, 13, 3, 9, 4, 4, 20, 10, 9, 9, 14, 12, 3, 14, 6, 8, 8, 4, 5, 7, 14, 1, 1, 2, 4, 2, 1, 1, 8, 2, 4, 3, 4, 10, 2, 4, 2, 10, 4, 14, 13, 11, 2, 2, 4, 5, 11, 7, 4, 3, 2, 6, 2, 5, 8, 15, 1, 5, 7, 2, 3, 2, 6, 3, 3, 9, 1, 18, 18, 5, 1, 11, 8, 5, 8, 2, 3, 10, 8, 5, 4, 9, 2, 3, 5, 2, 4, 7, 8, 3, 3, 4, 3, 6, 1, 6, 7, 4, 14, 3, 1, 13, 3, 10, 5, 12, 2, 1, 2, 7, 9, 5, 3, 15, 10, 7, 7, 21, 2, 4, 3, 17, 14, 1, 5, 2, 6, 3, 4, 2, 7, 22, 4, 9, 9, 1, 7, 2, 12, 7, 11, 11, 4, 3, 3, 13, 7, 1, 6, 4, 3, 4, 13, 9, 12, 5, 23, 17, 4, 4, 1, 3, 1, 2, 8, 6, 4, 1, 4, 7, 10, 4, 1, 6, 9, 5, 7, 14, 14, 11, 8, 15, 3, 2, 2, 2, 17, 7, 21, 2, 1, 4, 3, 13, 6, 7, 10, 17, 8, 15, 8, 3, 7, 2, 7, 3, 8, 2, 1, 3, 1, 19, 19, 9, 4, 1, 1, 11, 10, 5, 12, 2, 5, 7, 4, 5, 12, 3, 5, 1, 10, 14, 3, 2, 14, 3, 4, 10, 3, 2, 18, 4, 11, 5, 13, 11, 5, 7, 5, 3, 8, 10, 8, 1, 8, 7, 17, 1, 5, 2, 3, 1, 6, 15, 10, 3, 1, 2, 2, 1, 7, 1, 1, 12, 7, 25, 9, 9, 5, 13, 6, 2, 6, 4, 3, 1, 4, 14, 5, 13, 7, 4, 1, 5, 8, 13, 1, 9, 5, 4, 10, 9, 7, 23, 3, 2, 11, 2, 11, 2, 1, 5, 4, 1, 3, 4, 11, 16, 5, 3, 15, 12, 14, 13, 2, 10, 2, 6, 12, 7, 2, 7, 7, 2, 6, 2, 5, 11, 7, 8, 4, 1, 3, 9, 1, 7, 2, 3, 5, 3, 8, 11, 5, 2, 13, 1, 4, 4, 9, 17, 4, 10, 9, 3, 3, 3, 5, 4, 15, 3, 9, 4, 2, 1, 15, 2, 4, 14, 4, 13, 13, 6, 8, 8, 9, 3, 16, 1, 7, 11, 2, 7, 6, 9, 6, 9, 1, 6, 1, 10, 22, 10, 11, 6, 1, 4, 1, 11, 6, 17, 3, 3, 6, 1, 4, 3, 5, 6, 8, 2, 1, 3, 5, 11, 5, 17, 1, 7, 5, 7, 3, 6, 13, 8, 6, 7, 8, 2, 17, 2, 2, 8, 14, 8, 4, 7, 3, 5, 1, 14, 7, 12, 11, 8, 5, 3, 4, 2, 12, 2, 18, 19, 12, 7, 7, 6, 3, 5, 2, 4, 3, 10, 10, 17, 11, 3, 7, 2, 4, 8, 6, 6, 3, 12, 6, 3, 3, 5, 6, 1, 7, 3, 1, 2, 5, 13, 2, 2, 2, 13, 7, 16, 4, 10, 10, 2, 4, 2, 2, 3, 1, 3, 11, 3, 1, 11, 20, 2, 3, 2, 6, 2, 5, 8, 3, 6, 2, 10, 16, 5, 11, 4, 8, 9, 1, 2, 8, 6, 3, 2, 3, 13, 11, 2, 7, 6, 4, 5, 3, 8, 19, 19, 5, 1, 10, 4, 10, 12, 3, 6, 1, 11, 9, 2, 13, 2, 6, 1, 5, 6, 8, 2, 4, 11, 3, 7, 7, 8, 6, 2, 18, 6, 10, 6, 1, 19, 22, 3, 2, 2, 12, 8, 1, 11, 4, 2, 5, 20, 1, 5, 4, 7, 3, 21, 7, 2, 15, 9, 2, 8, 8, 4, 6, 1, 7, 4, 7, 13, 8, 3, 13, 4, 6, 4, 8, 9, 5, 2, 7, 7, 2, 6, 9, 4, 12, 4, 8, 4, 17, 9, 2, 5, 5, 4, 12, 12, 1, 7, 7, 5, 1, 6, 4, 8, 1, 10, 2, 12, 3, 7, 10, 8, 9, 4, 20, 3, 15, 3, 11, 4, 3, 5, 8, 4, 1, 8, 7, 1, 1, 3, 1, 2, 6, 3, 7, 11, 11, 6, 5, 6, 9, 3, 2, 3, 11, 1, 20, 4, 17, 4, 8, 8, 2, 6, 9, 8, 9, 13, 13, 7, 15, 7, 1, 9, 15, 10, 4, 4, 3, 5, 6, 17, 2, 1, 4, 8, 8, 8, 10, 12, 5, 14, 3, 8, 12, 3, 15, 8, 5, 10, 3, 4, 6, 17, 5, 4, 1, 5, 3, 9, 7, 7, 14, 4, 1, 1, 1, 9, 1, 1, 1, 8, 3, 13, 15, 6, 1, 7, 5, 2, 4, 6, 4, 7, 5, 11, 8, 4, 6, 4, 4, 3, 4, 5, 7, 14, 9, 2, 14, 11, 5, 18, 5, 19, 8, 5, 3, 4, 10, 15, 5, 11, 3, 7, 4, 11, 6, 13, 19, 7, 7, 5, 12, 1, 2, 3, 10, 11, 5, 6, 5, 4, 6, 2, 3, 4, 4, 3, 1, 5, 1, 8, 1, 5, 6, 8, 14, 1, 5, 13, 5, 2, 8, 9, 2, 3, 4, 3, 8, 20, 2, 3, 2, 10, 20, 9, 9, 5, 7, 7, 16, 2, 10, 7, 4, 6, 19, 4, 9, 9, 10, 5, 7, 16, 9, 13, 1, 10, 10, 7, 11, 10, 9, 2, 1, 6, 1, 15, 9, 8, 9, 6, 5, 15, 3, 3, 4, 2, 3, 18, 6, 14, 5, 2, 7, 3, 9, 10, 2, 19, 6, 12, 15, 12, 9, 2, 3, 8, 1, 4, 8, 10, 2, 11, 5, 6, 4, 8, 10, 7, 20, 11, 2, 1, 8, 2, 8, 14, 7, 7, 9, 4, 11, 4, 9, 8, 1, 12, 14, 3, 20, 14, 2, 3, 7, 2, 4, 4, 5, 2, 9, 4, 6, 4, 5, 4, 3, 15, 13, 2, 10, 3, 5, 10, 1, 4, 6, 5, 9, 4, 11, 3, 10, 2, 1, 7, 2, 13, 1, 2, 20, 5, 2, 6, 2, 9, 10, 6, 9, 14, 6, 1, 6, 7, 1, 4, 5, 6, 14, 11, 1, 2, 15, 9, 7, 11, 11, 7, 3, 11, 1, 6, 5, 5, 6, 4, 6, 4, 4, 17, 2, 10, 6, 5, 10, 3, 10, 9, 15, 4, 14, 3, 4, 3, 10, 4, 10, 10, 6, 20, 10, 10, 2, 5, 10, 6, 2, 10, 8, 1, 4, 2, 1, 6, 11, 6, 10, 7, 7, 8, 1, 8, 9, 2, 5, 13, 5, 4, 7, 10, 7, 7, 1, 8, 1, 2, 14, 2, 2, 3, 1, 3, 7, 5, 9, 14, 7, 1, 5, 9, 3, 7, 6, 7, 13, 7, 14, 3, 5, 4, 4, 5, 10, 6, 25, 1, 2, 1, 8, 2, 12, 3, 3, 7, 11, 3, 1, 12, 6, 9, 1, 5, 11, 7, 5, 6, 4, 3, 8, 1, 17, 12, 7, 3, 2, 2, 1, 2, 5, 8, 13, 7, 4, 3, 7, 8, 11, 7, 3, 3, 4, 10, 8, 15, 8, 1, 4, 8, 4, 2, 10, 2, 11, 5, 8, 2, 10, 4, 14, 10, 3, 5, 9, 10, 3, 13, 13, 8, 3, 2, 10, 10, 3, 18, 12, 13, 2, 1, 4, 13, 5, 3, 3, 4, 3, 2, 3, 5, 1, 1, 4, 6, 15, 2, 7, 16, 5, 2, 7, 8, 6, 5, 18, 11, 14, 5, 2, 4, 4, 1, 2, 1, 2, 6, 4, 11, 6, 2, 1, 6, 3, 10, 3, 7, 8, 9, 7, 1, 2, 2, 17, 16, 1, 4, 13, 13, 6, 8, 4, 18, 9, 10, 6, 8, 15, 9, 6, 5, 2, 7, 1, 21, 3, 4, 12, 3, 8, 13, 4, 7, 10, 15, 2, 9, 5, 4, 8, 16, 3, 1, 14, 8, 3, 8, 1, 7, 11, 8, 12, 6, 2, 2, 2, 15, 7, 1, 9, 17, 2, 2, 9, 9, 5, 2, 4, 3, 5, 3, 1, 1, 1, 4, 2, 6, 12, 3, 12, 4, 2, 4, 3, 7, 2, 21, 1, 5, 3, 5, 5, 10, 8, 5, 3, 5, 6, 13, 2, 7, 10, 1, 3, 11, 1, 13, 6, 3, 1, 1, 3, 7, 16, 8, 5, 5, 14, 3, 12, 1, 1, 12, 2, 13, 4, 11, 8, 4, 1, 6, 1, 7, 8, 3, 5, 3, 13, 9, 7, 5, 5, 4, 5, 6, 3, 7, 6, 6, 1, 11, 7, 8, 4, 19, 3, 9, 16, 8, 15, 4, 4, 9, 11, 2, 12, 5, 3, 2, 4, 8, 2, 6, 5, 9, 8, 5, 18, 12, 1, 22, 6, 14, 3, 7, 3, 8, 7, 4, 12, 12, 4, 6, 7, 2, 4, 6, 1, 1, 3, 3, 8, 12, 9, 7, 1, 4, 15, 9, 6, 9, 2, 3, 1, 6, 9, 3, 10, 5, 7, 3, 3, 10, 3, 13, 4, 10, 17, 5, 15, 10, 5, 15, 1, 10, 1, 14, 15, 6, 10, 15, 7, 6, 9, 6, 8, 6, 7, 6, 19, 3, 6, 11, 3, 12, 13, 2, 6, 5, 3, 1, 17, 5, 9, 5, 13, 7, 7, 16, 1, 4, 1, 4, 2, 5, 3, 9, 6, 14, 3, 2, 6, 1, 10, 7, 10, 2, 7, 2, 2, 4, 2, 10, 6, 12, 12, 6, 6, 4, 9, 1, 9, 3, 5, 14, 4, 4, 9, 17, 2, 4, 2, 8, 1, 2, 1, 4, 4, 15, 1, 13, 3, 4, 11, 13, 2, 5, 9, 12, 5, 5, 7, 7, 6, 1, 3, 11, 8, 12, 4, 2, 9, 3, 5, 6, 7, 9, 2, 10, 21, 1, 5, 5, 11, 13, 17, 8, 20, 2, 10, 8, 3, 4, 4, 14, 10, 1, 1, 1, 8, 3, 4, 11, 14, 5, 1, 7, 3, 5, 3, 17, 7, 9, 2, 1, 4, 12, 3, 2, 4, 15, 11, 10, 5, 3, 15, 2, 1, 5, 5, 11, 4, 6, 8, 2, 14, 20, 1, 9, 9, 3, 18, 1, 1, 6, 12, 4, 7, 3, 4, 1, 10, 1, 3, 18, 15, 5, 2, 12, 1, 11, 1, 9, 3, 23, 3, 11, 17, 9, 16, 6, 3, 2, 11, 10, 2, 3, 5, 11, 4, 23, 8, 5, 2, 12, 5, 1, 2, 4, 3, 18, 6, 6, 6, 2, 5, 2, 1, 16, 2, 6, 2, 7, 8, 3, 2, 8, 7, 1, 19, 3, 2, 2, 4, 7, 20, 2, 7, 6, 12, 10, 12, 3, 21, 10, 5, 2, 6, 8, 4, 10, 2, 6, 1, 11, 5, 7, 2, 12, 1, 4, 1, 7, 7, 11, 3, 12, 1, 6, 1, 10, 1, 2, 1, 1, 12, 10, 11, 3, 1, 11, 3, 4, 8, 3, 1, 5, 2, 3, 13, 11, 2, 9, 5, 4, 5, 6, 2, 8, 5, 18, 7, 9, 4, 5, 10, 6, 15, 1, 12, 7, 6, 1, 13, 5, 21, 3, 9, 2, 5, 8, 15, 7, 9, 15, 2, 2, 4, 4, 14, 5, 3, 8, 7, 1, 4, 13, 5, 6, 2, 4, 4, 4, 11, 4, 11, 1, 5, 6, 6, 7, 13, 6, 4, 3, 4, 2, 13, 14, 14, 1, 1, 2, 7, 4, 12, 7, 2, 3, 4, 6, 6, 9, 9, 2, 4, 5, 10, 4, 16, 6, 4, 3, 4, 11, 2, 3, 10, 18, 15, 10, 19, 8, 5, 7, 15, 3, 6, 3, 8, 4, 12, 8, 3, 4, 4, 5, 9, 1, 4, 7, 18, 6, 2, 9, 7, 2, 6, 1, 2, 1, 15, 5, 5, 10, 1, 2, 3, 4, 17, 6, 3, 10, 6, 8, 1, 5, 7, 5, 9, 2, 4, 13, 5, 16, 5, 5, 2, 5, 1, 4, 11, 3, 11, 4, 5, 3, 8, 7, 5, 1, 6, 15, 6, 2, 2, 8, 5, 8, 8, 6, 8, 3, 9, 2, 2, 2, 2, 9, 3, 2, 9, 6, 10, 9, 2, 10, 2, 5, 6, 2, 3, 2, 2, 9, 2, 1, 6, 8, 4, 8, 4, 14, 11, 12, 7, 5, 1, 2, 5, 1, 5, 4, 9, 5, 9, 4, 3, 1, 8, 9, 8, 5, 3, 10, 13, 4, 2, 3, 5, 11, 8, 13, 4, 1, 3, 7, 5, 7, 4, 2, 1, 5, 2, 23, 8, 1, 14, 1, 3, 1, 13, 2, 6, 7, 7, 3, 12, 11, 11, 9, 8, 8, 7, 3, 15, 9, 7, 5, 4, 1, 18, 8, 6, 6, 9, 9, 2, 4, 4, 2, 6, 13, 4, 10, 12, 11, 1, 9, 11, 5, 5, 3, 4, 3, 4, 2, 9, 5, 5, 5, 1, 8, 9, 3, 4, 1, 5, 7, 5, 2, 8, 5, 16, 2, 6, 10, 11, 1, 7, 3, 7, 11, 7, 11, 3, 5, 2, 3, 3, 11, 4, 4, 1, 1, 15, 3, 1, 5, 9, 5, 3, 2, 14, 5, 8, 15, 1, 5, 7, 3, 7, 4, 2, 7, 7, 1, 3, 1, 4, 11, 9, 5, 2, 6, 19, 4, 11, 15, 2, 5, 12, 10, 15, 6, 11, 4, 5, 3, 4, 2, 5, 3, 8, 3, 3, 12, 5, 8, 21, 4, 20, 2, 4, 3, 9, 1, 4, 2, 1, 3, 8, 3, 8, 11, 8, 3, 9, 1, 3, 5, 3, 6, 11, 5, 6, 1, 2, 2, 6, 3, 4, 10, 8, 4, 15, 2, 2, 7, 3, 7, 5, 5, 16, 3, 4, 10, 6, 13, 7, 3, 5, 7, 8, 12, 6, 9, 8, 4, 8, 6, 8, 14, 14, 9, 7, 6, 6, 7, 18, 9, 10, 4, 3, 14, 4, 2, 9, 2, 2, 5, 14, 6, 9, 3, 22, 4, 4, 11, 4, 3, 19, 1, 2, 1, 2, 10, 4, 5, 6, 3, 3, 5, 5, 10, 7, 5, 15, 12, 8, 3, 1, 12, 11, 3, 6, 5, 10, 7, 5, 10, 12, 5, 6, 2, 6, 3, 4, 10, 6, 3, 6, 4, 4, 3, 2, 16, 16, 2, 5, 12, 4, 14, 4, 1, 1, 8, 2, 7, 1, 11, 3, 4, 8, 9, 8, 4, 2, 3, 1, 7, 5, 5, 12, 3, 2, 6, 19, 4, 4, 7, 4, 9, 3, 13, 22, 10, 22, 4, 2, 4, 1, 1, 12, 3, 5, 11, 5, 15, 1, 4, 1, 1, 6, 2, 12, 5, 3, 10, 10, 2, 7, 10, 5, 13, 4, 8, 8, 5, 12, 9, 8, 1, 13, 2, 1, 3, 2, 6, 3, 2, 7, 4, 7, 5, 5, 1, 2, 7, 7, 2, 3, 6, 13, 20, 15, 11, 4, 5, 4, 18, 16, 2, 4, 6, 7, 12, 2, 9, 7, 3, 15, 2, 3, 2, 1, 1, 10, 13, 4, 3, 5, 7, 8, 6, 3, 2, 8, 14, 5, 12, 5, 9, 14, 5, 5, 3, 12, 10, 5, 11, 1, 12, 4, 4, 2, 6, 6, 4, 9, 2, 7, 1, 1, 6, 3, 6, 1, 3, 12, 9, 6, 4, 4, 17, 5, 5, 2, 4, 14, 6, 10, 7, 24, 22, 3, 4, 3, 7, 6, 7, 7, 3, 11, 3, 3, 19, 2, 1, 11, 1, 7, 2, 1, 11, 5, 9, 4, 5, 1, 1, 1, 5, 5, 7, 6, 1, 2, 2, 12, 4, 4, 1, 3, 12, 8, 6, 6, 14, 6, 1, 2, 4, 3, 17, 5, 1, 2, 12, 5, 3, 2, 14, 6, 2, 8, 4, 11, 10, 2, 4, 5, 5, 5, 3, 6, 5, 3, 9, 4, 10, 5, 6, 10, 6, 3, 2, 7, 3, 1, 3, 1, 3, 4, 2, 10, 4, 3, 5, 1, 11, 7, 13, 9, 7, 17, 10, 5, 6, 12, 2, 9, 1, 6, 3, 9, 2, 21, 8, 2, 12, 8, 10, 9, 1, 2, 2, 1, 10, 13, 14, 1, 1, 6, 2, 3, 15, 15, 6, 1, 7, 12, 9, 9, 12, 1, 9, 15, 2, 21, 4, 8, 10, 7, 9, 8, 12, 8, 4, 2, 2, 6, 7, 8, 11, 15, 4, 14, 2, 8, 7, 8, 4, 2, 11, 6, 2, 11, 6, 5, 16, 2, 12, 10, 18, 18, 7, 16, 3, 1, 1, 5, 3, 14, 6, 5, 2, 8, 2, 9, 5, 1, 3, 7, 9, 3, 3, 8, 3, 4, 6, 9, 7, 5, 4, 1, 3, 2, 3, 5, 11, 3, 11, 8, 4, 4, 12, 7, 14, 9, 3, 10, 11, 1, 10, 6, 1, 7, 2, 3, 9, 4, 1, 2, 5, 6, 7, 5, 3, 2, 3, 14, 2, 9, 3, 1, 5, 1, 5, 18, 4, 5, 9, 5, 4, 6, 13, 3, 12, 5, 3, 15, 3, 9, 8, 11, 2, 3, 4, 1, 4, 4, 9, 6, 7, 1, 7, 1, 4, 3, 2, 7, 1, 6, 13, 5, 4, 7, 2, 11, 11, 5, 3, 8, 4, 1, 9, 8, 15, 15, 3, 3, 1, 3, 2, 2, 2, 2, 11, 5, 16, 14, 20, 2, 4, 1, 10, 8, 3, 1, 1, 13, 15, 6, 7, 14, 3, 6, 5, 3, 5, 13, 4, 1, 14, 10, 1, 1, 6, 12, 2, 2, 10, 3, 12, 5, 2, 2, 3, 6, 3, 3, 3, 6, 9, 20, 2, 2, 15, 3, 2, 7, 9, 12, 3, 6, 9, 3, 6, 1, 1, 2, 9, 1, 9, 2, 12, 8, 2, 1, 1, 9, 4, 8, 8, 1, 4, 3, 7, 5, 7, 11, 5, 2, 7, 12, 4, 7, 1, 8, 2, 18, 3, 11, 19, 5, 13, 4, 2, 8, 5, 5, 8, 8, 9, 5, 1, 2, 4, 3, 3, 3, 2, 2, 1, 4, 2, 7, 18, 2, 1, 10, 3, 1, 2, 9, 17, 11, 4, 2, 5, 3, 3, 4, 5, 5, 2, 6, 2, 10, 5, 13, 13, 6, 18, 5, 2, 7, 2, 4, 9, 4, 4, 8, 13, 4, 11, 6, 7, 4, 10, 1, 2, 5, 19, 6, 2, 2, 1, 15, 2, 2, 2, 3, 3, 17, 3, 5, 5, 2, 7, 5, 8, 9, 5, 5, 8, 16, 8, 3, 4, 4, 2, 6, 9, 3, 18, 3, 7, 1, 6, 9, 16, 14, 10, 17, 5, 9, 11, 3, 12, 4, 2, 1, 2, 6, 6, 4, 10, 2, 2, 1, 12, 8, 1, 4, 11, 4, 24, 16, 22, 13, 16, 1, 2, 2, 19, 9, 16, 11, 17, 15, 6, 7, 1, 8, 4, 5, 7, 6, 5, 4, 12, 5, 9, 13, 8, 16, 6, 9, 2, 16, 5, 7, 6, 7, 7, 6, 9, 6, 8, 5, 13, 5, 7, 8, 7, 9, 8, 7, 3, 2, 1, 1, 9, 1, 7, 6, 5, 4, 8, 5, 7, 7, 4, 1, 14, 3, 14, 3, 4, 11, 3, 9, 13, 8, 5, 5, 7, 6, 8, 5, 4, 2, 4, 6, 1, 6, 5, 6, 9, 1, 7, 12, 7, 7, 11, 3, 7, 10, 8, 9, 6, 3, 5, 6, 6, 7, 2, 2, 6, 10, 10, 5, 5, 6, 8, 4, 2, 9, 1, 1, 3, 12, 14, 11, 17, 21, 7, 3, 9, 1, 2, 4, 14, 2, 7, 10, 1, 3, 4, 8, 4, 3, 4, 6, 4, 14, 7, 3, 4, 3, 9, 14, 2, 2, 26, 18, 7, 4, 5, 2, 21, 12, 2, 2, 5, 14, 4, 7, 7, 7, 2, 9, 9, 3, 7, 7, 9, 5, 7, 8, 5, 7, 4, 4, 6, 3, 13, 9, 2, 3, 12, 4, 1, 2, 2, 3, 5, 10, 6, 12, 12, 1, 7, 9, 3, 4, 5, 10, 3, 7, 4, 2, 11, 3, 7, 3, 1, 6, 12, 7, 7, 11, 12, 2, 3, 1, 6, 6, 8, 6, 6, 7, 5, 8, 5, 8, 2, 5, 2, 1, 16, 15, 2, 5, 14, 1, 19, 2, 18, 9, 7, 1, 13, 11, 18, 6, 6, 3, 4, 5, 3, 2, 1, 9, 4, 5, 2, 3, 2, 3, 2, 8, 8, 2, 9, 6, 7, 9, 4, 10, 9, 3, 4, 5, 8, 2, 3, 2, 11, 9, 3, 2, 3, 8, 19, 5, 2, 7, 10, 5, 2, 24, 2, 16, 15, 11, 2, 11, 2, 3, 12, 12, 3, 13, 2, 3, 2, 9, 2, 9, 2, 4, 6, 3, 16, 17, 3, 2, 3, 1, 5, 2, 2, 4, 10, 2, 3, 9, 19, 8, 7, 1, 4, 6, 5, 4, 8, 6, 5, 3, 5, 8, 6, 13, 6, 12, 3, 8, 8, 4, 7, 14, 9, 6, 8, 6, 1, 4, 6, 3, 1, 16, 4, 9, 13, 8, 6, 7, 1, 4, 2, 4, 4, 2, 3, 1, 1, 14, 9, 1, 10, 4, 3, 10, 18, 8, 8, 2, 6, 9, 9, 5, 2, 12, 1, 9, 8, 12, 7, 3, 2, 6, 4, 14, 2, 3, 14, 3, 4, 3, 1, 13, 8, 8, 4, 4, 3, 8, 3, 4, 3, 1, 4, 11, 15, 4, 10, 4, 9, 14, 2, 10, 4, 2, 5, 5, 1, 23, 8, 6, 1, 1, 4, 16, 1, 19, 1, 4, 1, 1, 8, 4, 2, 3, 6, 7, 3, 7, 7, 10, 6, 4, 2, 6, 7, 6, 8, 8, 4, 9, 7, 5, 9, 1, 8, 8, 11, 12, 4, 5, 5, 3, 2, 1, 14, 8, 5, 4, 8, 7, 11, 6, 13, 8, 11, 2, 3, 10, 4, 7, 3, 2, 5, 5, 6, 10, 6, 2, 1, 4, 9, 1, 2, 2, 2, 16, 24, 6, 2, 3, 6, 8, 6, 13, 4, 12, 5, 2, 6, 4, 9, 2, 9, 7, 2, 4, 8, 7, 4, 6, 15, 8, 6, 1, 4, 6, 4, 4, 1, 6, 9, 3, 16, 5, 3, 6, 3, 7, 5, 5, 9, 13, 1, 6, 1, 9, 6, 4, 16, 9, 4, 6, 12, 8, 10, 1, 4, 1, 1, 3, 4, 23, 7, 3, 6, 3, 10, 9, 11, 5, 5, 12, 18, 7, 7, 2, 3, 15, 12, 1, 9, 2, 6, 15, 3, 1, 9, 7, 6, 5, 6, 2, 8, 1, 16, 1, 1, 3, 4, 7, 2, 9, 6, 9, 2, 22, 11, 7, 1, 2, 16, 1, 6, 14, 2, 6, 6, 2, 4, 5, 8, 13, 3, 5, 15, 3, 2, 4, 8, 10, 11, 4, 3, 5, 6, 13, 15, 15, 20, 12, 7, 4, 13, 5, 8, 7, 8, 1, 9, 2, 12, 8, 4, 3, 6, 5, 8, 6, 3, 2, 5, 2, 1, 2, 2, 1, 11, 1, 22, 9, 5, 7, 3, 6, 1, 1, 2, 6, 8, 6, 10, 5, 9, 1, 11, 8, 5, 2, 3, 2, 6, 2, 2, 5, 1, 2, 5, 3, 9, 1, 2, 2, 4, 1, 4, 1, 2, 4, 3, 8, 5, 4, 10, 4, 6, 7, 4, 4, 4, 7, 16, 4, 3, 4, 3, 3, 4, 12, 12, 7, 5, 9, 16, 9, 8, 3, 5, 9, 9, 1, 10, 8, 2, 9, 2, 2, 5, 2, 19, 16, 4, 11, 13, 15, 17, 1, 21, 4, 2, 4, 4, 4, 7, 11, 6, 4, 4, 3, 7, 10, 2, 5, 2, 16, 9, 2, 13, 5, 8, 8, 10, 6, 1, 6, 3, 4, 8, 6, 8, 2, 12, 8, 2, 6, 1, 6, 16, 7, 2, 3, 2, 20, 7, 2, 2, 7, 2, 4, 2, 7, 2, 6, 5, 7, 5, 13, 8, 3, 8, 1, 4, 2, 6, 5, 9, 17, 9, 5, 5, 5, 7, 12, 11, 12, 2, 3, 9, 10, 11, 12, 11, 2, 13, 3, 8, 11, 1, 6, 9, 5, 5, 6, 6, 1, 4, 4, 1, 11, 6, 1, 9, 7, 5, 4, 15, 6, 3, 4, 4, 12, 8, 16, 5, 7, 1, 5, 7, 6, 3, 4, 5, 3, 9, 6, 6, 2, 3, 6, 3, 7, 3, 7, 11, 4, 13, 7, 10, 7, 1, 5, 2, 1, 4, 6, 11, 7, 8, 5, 9, 11, 1, 8, 3, 2, 1, 2, 6, 5, 2, 1, 23, 13, 10, 6, 10, 3, 2, 9, 6, 10, 1, 5, 12, 6, 4, 2, 6, 4, 9, 5, 17, 9, 5, 15, 3, 10, 6, 2, 12, 11, 4, 12, 7, 4, 6, 6, 6, 1, 10, 4, 6, 7, 20, 5, 6, 10, 19, 3, 2, 2, 18, 7, 6, 2, 1, 15, 2, 4, 10, 3, 8, 12, 9, 3, 5, 6, 16, 7, 5, 6, 4, 2, 7, 14, 2, 1, 2, 7, 7, 8, 5, 15, 5, 4, 5, 6, 3, 5, 3, 3, 13, 8, 12, 10, 5, 3, 4, 8, 11, 9, 3, 2, 2, 15, 13, 1, 3, 15, 7, 11, 1, 9, 2, 9, 12, 4, 5, 2, 2, 4, 4, 2, 9, 3, 6, 4, 11, 12, 5, 2, 3, 7, 1, 5, 1, 4, 8, 3, 5, 9, 3, 4, 6, 6, 7, 9, 7, 11, 4, 8, 5, 10, 3, 9, 15, 15, 2, 16, 5, 10, 4, 18, 2, 5, 2, 4, 6, 5, 8, 12, 2, 3, 3, 4, 12, 20, 6, 4, 8, 3, 1, 3, 15, 7, 8, 7, 7, 6, 2, 8, 8, 5, 7, 8, 12, 2, 12, 10, 18, 5, 6, 5, 12, 7, 8, 15, 1, 17, 11, 13, 4, 3, 10, 8, 10, 14, 15, 11, 9, 11, 3, 6, 1, 8, 10, 5, 1, 12, 8, 1, 1, 10, 17, 3, 9, 17, 2, 5, 23, 6, 14, 6, 7, 9, 6, 7, 9, 3, 10, 8, 5, 3, 10, 3, 3, 6, 5, 10, 6, 9, 13, 13, 9, 6, 6, 7, 3, 7, 9, 3, 3, 4, 7, 2, 1, 9, 7, 5, 8, 3, 9, 7, 4, 3, 5, 3, 10, 18, 13, 9, 2, 5, 11, 5, 3, 3, 13, 14, 3, 3, 11, 12, 11, 1, 2, 7, 1, 19, 3, 6, 11, 6, 3, 9, 17, 2, 4, 14, 10, 2, 7, 2, 2, 11, 6, 13, 9, 5, 1, 3, 8, 7, 13, 5, 6, 4, 6, 8, 9, 7, 15, 1, 1, 23, 10, 6, 5, 2, 19, 5, 16, 14, 3, 4, 17, 11, 6, 9, 9, 7, 12, 8, 2, 8, 1, 2, 7, 5, 1, 6, 9, 4, 8, 13, 6, 7, 2, 6, 8, 13, 7, 9, 3, 9, 4, 6, 4, 1, 6, 1, 5, 2, 11, 4, 8, 3, 15, 8, 4, 4, 4, 9, 7, 2, 9, 14, 20, 10, 1, 1, 20, 3, 15, 9, 2, 1, 4, 9, 12, 8, 3, 2, 9, 4, 3, 3, 9, 5, 4, 1, 2, 2, 17, 6, 3, 15, 2, 15, 7, 9, 1, 9, 2, 13, 8, 22, 6, 3, 1, 7, 8, 4, 3, 4, 1, 10, 15, 8, 1, 9, 7, 4, 2, 6, 1, 7, 3, 13, 1, 2, 15, 15, 1, 7, 1, 2, 10, 4, 2, 5, 4, 6, 2, 4, 8, 8, 4, 5, 1, 11, 4, 10, 6, 8, 9, 3, 5, 4, 3, 7, 8, 9, 13, 5, 7, 2, 9, 21, 10, 2, 4, 9, 8, 4, 4, 5, 9, 8, 8, 6, 1, 2, 2, 2, 2, 4, 2, 8, 2, 1, 1, 8, 4, 13, 10, 4, 8, 2, 18, 10, 9, 4, 4, 2, 7, 2, 9, 8, 4, 5, 9, 1, 5, 9, 7, 2, 3, 2, 4, 7, 5, 4, 6, 1, 15, 2, 3, 6, 6, 6, 8, 4, 4, 2, 5, 4, 7, 6, 7, 5, 7, 12, 1, 4, 2, 2, 3, 2, 4, 14, 6, 3, 4, 1, 4, 12, 3, 16, 2, 2, 1, 6, 6, 5, 2, 8, 17, 2, 4, 5, 8, 6, 3, 1, 2, 2, 6, 3, 8, 5, 17, 19, 8, 12, 1, 3, 8, 12, 13, 5, 8, 8, 4, 2, 4, 4, 8, 5, 3, 5, 5, 2, 9, 13, 3, 6, 8, 4, 3, 2, 7, 4, 21, 13, 7, 10, 3, 2, 1, 14, 7, 2, 5, 2, 4, 2, 6, 8, 3, 2, 5, 4, 6, 2, 6, 5, 5, 7, 3, 14, 2, 6, 8, 13, 7, 3, 6, 11, 4, 15, 16, 10, 6, 14, 8, 11, 8, 4, 7, 1, 4, 9, 1, 13, 3, 3, 2, 2, 4, 5, 4, 1, 5, 4, 2, 1, 8, 4, 8, 9, 8, 3, 5, 5, 9, 13, 2, 10, 14, 1, 15, 3, 23, 2, 1, 1, 6, 7, 7, 5, 9, 1, 2, 1, 4, 5, 9, 5, 5, 6, 4, 2, 2, 13, 5, 9, 7, 6, 8, 3, 1, 5, 7, 13, 1, 9, 9, 4, 4, 17, 7, 4, 5, 9, 6, 3, 5, 6, 3, 13, 8, 7, 2, 10, 8, 6, 8, 4, 4, 8, 2, 5, 9, 1, 5, 4, 13, 8, 24, 2, 6, 13, 5, 4, 2, 2, 3, 8, 9, 2, 9, 6, 12, 5, 4, 6, 9, 7, 5, 10, 6, 9, 5, 2, 3, 17, 11, 4, 15, 1, 3, 11, 9, 4, 11, 4, 1, 7, 3, 2, 3, 2, 6, 3, 7, 2, 8, 5, 11, 14, 14, 8, 1, 2, 4, 4, 5, 6, 18, 9, 8, 4, 3, 2, 3, 2, 1, 17, 1, 4, 1, 1, 6, 6, 2, 10, 26, 10, 7, 4, 10, 3, 3, 12, 8, 6, 2, 4, 7, 4, 9, 6, 2, 3, 11, 3, 3, 2, 3, 3, 4, 1, 8, 6, 4, 4, 3, 5, 5, 9, 1, 4, 1, 5, 12, 9, 4, 4, 5, 4, 13, 6, 10, 1, 8, 13, 3, 2, 3, 3, 1, 1, 2, 23, 1, 11, 3, 5, 4, 6, 4, 1, 5, 17, 9, 7, 10, 3, 11, 4, 7, 2, 4, 8, 7, 2, 11, 5, 4, 11, 16, 3, 5, 3, 1, 6, 8, 9, 1, 20, 4, 2, 3, 4, 5, 4, 5, 4, 5, 1, 5, 4, 7, 11, 11, 3, 7, 5, 4, 6, 17, 8, 1, 4, 3, 8, 9, 4, 4, 5, 3, 3, 2, 2, 4, 3, 3, 14, 9, 4, 4, 10, 2, 7, 2, 4, 6, 12, 4, 3, 2, 2, 10, 18, 15, 15, 3, 17, 14, 15, 6, 5, 8, 9, 9, 12, 13, 1, 10, 3, 2, 4, 1, 9, 4, 14, 3, 2, 3, 5, 2, 10, 1, 7, 13, 5, 13, 8, 9, 4, 3, 6, 4, 8, 3, 3, 5, 7, 9, 3, 11, 9, 2, 5, 10, 18, 5, 4, 2, 3, 2, 2, 4, 18, 2, 24, 1, 1, 4, 14, 9, 9, 2, 8, 2, 10, 15, 2, 7, 6, 1, 1, 5, 11, 3, 7, 4, 5, 7, 8, 1, 11, 5, 6, 14, 3, 2, 6, 9, 4, 3, 5, 14, 4, 9, 3, 12, 14, 5, 4, 3, 1, 8, 4, 4, 15, 1, 2, 5, 10, 18, 4, 2, 12, 6, 10, 3, 4, 10, 3, 5, 18, 7, 8, 4, 5, 5, 12, 3, 3, 5, 13, 2, 6, 2, 5, 4, 3, 9, 7, 1, 15, 16, 2, 4, 6, 11, 13, 5, 4, 8, 8, 1, 10, 13, 1, 20, 3, 1, 22, 1, 2, 24, 3, 4, 9, 7, 16, 2, 1, 4, 12, 3, 5, 8, 20, 15, 3, 3, 11, 9, 3, 8, 9, 7, 2, 3, 10, 9, 1, 8, 8, 5, 4, 15, 8, 3, 15, 10, 4, 10, 21, 6, 6, 5, 6, 8, 2, 5, 6, 7, 18, 11, 5, 6, 2, 10, 6, 4, 6, 9, 8, 5, 7, 1, 3, 25, 3, 2, 4, 10, 7, 8, 6, 2, 3, 1, 10, 8, 8, 10, 5, 2, 7, 8, 6, 6, 5, 7, 2, 1, 2, 8, 12, 9, 5, 2, 12, 9, 2, 4, 8, 5, 10, 2, 15, 5, 4, 6, 1, 12, 13, 19, 10, 3, 2, 2, 4, 6, 4, 3, 7, 3, 7, 2, 1, 7, 14, 1, 4, 5, 16, 2, 10, 5, 8, 9, 3, 5, 8, 2, 6, 9, 3, 9, 10, 7, 4, 18, 10, 9, 4, 3, 6, 7, 5, 14, 3, 5, 3, 16, 8, 4, 12, 10, 7, 6, 10, 10, 7, 7, 18, 9, 10, 5, 4, 12, 3, 14, 5, 1, 2, 11, 12, 1, 3, 4, 2, 1, 11, 4, 14, 1, 6, 4, 12, 5, 20, 14, 1, 1, 9, 11, 16, 6, 6, 9, 21, 11, 6, 7, 3, 8, 10, 8, 2, 8, 8, 6, 4, 5, 4, 2, 11, 1, 9, 2, 4, 6, 11, 7, 5, 4, 12, 3, 3, 6, 12, 11, 1, 3, 4, 11, 7, 5, 9, 1, 6, 9, 7, 4, 5, 11, 5, 6, 3, 11, 11, 1, 2, 12, 9, 17, 12, 5, 2, 7, 6, 9, 6, 12, 10, 16, 12, 10, 6, 5, 9, 4, 14, 8, 7, 3, 8, 5, 2, 5, 7, 22, 3, 6, 7, 7, 4, 10, 1, 18, 4, 9, 6, 4, 7, 6, 4, 4, 17, 12, 9, 1, 2, 6, 6, 2, 13, 3, 7, 14, 1, 4, 2, 6, 13, 15, 4, 11, 3, 24, 11, 3, 12, 12, 3, 6, 2, 4, 9, 10, 5, 3, 9, 3, 20, 2, 7, 10, 2, 1, 6, 3, 10, 19, 5, 4, 14, 3, 2, 5, 10, 10, 3, 5, 10, 10, 6, 5, 5, 14, 4, 6, 5, 2, 2, 7, 4, 3, 7, 2, 1, 14, 3, 15, 9, 10, 4, 4, 12, 14, 1, 2, 4, 13, 1, 10, 11, 5, 12, 13, 18, 6, 5, 2, 17, 11, 2, 8, 2, 4, 4, 7, 12, 19, 1, 4, 14, 11, 6, 6, 3, 6, 4, 8, 2, 5, 2, 6, 13, 9, 2, 17, 10, 15, 7, 5, 9, 11, 7, 14, 2, 13, 11, 6, 6, 3, 4, 2, 3, 3, 7, 4, 4, 5, 7, 5, 6, 13, 8, 13, 5, 6, 6, 5, 1, 7, 15, 8, 5, 10, 6, 4, 10, 3, 1, 5, 4, 4, 10, 5, 6, 6, 1, 3, 6, 10, 6, 1, 17, 3, 20, 6, 1, 9, 2, 4, 4, 3, 13, 10, 2, 3, 3, 2, 7, 3, 6, 4, 13, 7, 4, 12, 10, 12, 3, 7, 3, 3, 7, 1, 3, 9, 16, 2, 6, 2, 7, 8, 2, 1, 9, 3, 2, 2, 5, 7, 15, 2, 5, 4, 5, 3, 5, 4, 2, 5, 3, 8, 8, 5, 10, 3, 2, 5, 7, 4, 3, 2, 11, 4, 9, 16, 12, 1, 12, 3, 2, 12, 8, 4, 5, 3, 1, 2, 6, 6, 4, 2, 2, 15, 6, 7, 10, 6, 15, 3, 8, 3, 4, 5, 22, 3, 3, 10, 19, 2, 3, 5, 6, 4, 8, 14, 1, 19, 20, 1, 2, 12, 3, 3, 6, 17, 12, 5, 17, 10, 2, 6, 3, 4, 9, 9, 2, 13, 5, 5, 13, 8, 20, 5, 6, 5, 9, 8, 6, 3, 21, 13, 1, 2, 1, 3, 7, 4, 6, 6, 2, 2, 4, 4, 6, 5, 12, 7, 3, 19, 3, 2, 1, 10, 9, 14, 6, 10, 8, 7, 5, 1, 8, 4, 13, 2, 7, 10, 12, 2, 2, 2, 1, 9, 6, 1, 6, 6, 1, 11, 4, 2, 3, 24, 7, 25, 8, 4, 8, 4, 3, 3, 4, 4, 5, 4, 10, 11, 2, 2, 1, 10, 4, 23, 17, 22, 2, 2, 20, 1, 3, 1, 3, 8, 2, 3, 4, 17, 6, 6, 4, 8, 2, 13, 4, 5, 3, 1, 4, 16, 8, 10, 13, 10, 5, 4, 7, 13, 4, 1, 3, 4, 6, 15, 2, 3, 5, 8, 14, 4, 1, 3, 10, 2, 6, 6, 4, 6, 6, 10, 10, 5, 9, 8, 2, 9, 1, 6, 2, 9, 7, 4, 1, 9, 3, 2, 1, 1, 2, 2, 3, 8, 10, 2, 4, 6, 6, 6, 9, 8, 2, 8, 5, 10, 11, 7, 1, 3, 5, 11, 2, 10, 6, 2, 4, 2, 2, 11, 4, 4, 9, 4, 9, 5, 3, 12, 1, 8, 4, 6, 3, 7, 5, 3, 1, 5, 14, 7, 10, 6, 3, 5, 5, 15, 5, 8, 8, 7, 2, 3, 2, 1, 2, 1, 2, 19, 11, 3, 4, 4, 4, 2, 7, 11, 4, 3, 3, 3, 10, 4, 8, 7, 3, 1, 7, 5, 2, 27, 4, 5, 8, 5, 1, 7, 2, 2, 7, 11, 2, 13, 9, 8, 3, 5, 3, 14, 11, 5, 2, 3, 3, 2, 8, 10, 1, 11, 9, 7, 1, 24, 1, 11, 3, 3, 4, 2, 7, 9, 7, 1, 2, 1, 8, 3, 33, 1, 1, 8, 11, 14, 1, 2, 1, 2, 15, 1, 6, 1, 3, 1, 10, 6, 4, 8, 1, 8, 6, 12, 7, 3, 2, 9, 5, 6, 11, 4, 4, 9, 2, 17, 3, 9, 8, 7, 10, 9, 5, 9, 2, 9, 4, 22, 4, 8, 4, 18, 6, 10, 9, 6, 4, 3, 4, 5, 1, 5, 6, 10, 5, 11, 5, 7, 9, 6, 2, 20, 2, 2, 1, 2, 17, 2, 14, 6, 3, 12, 16, 5, 19, 5, 6, 3, 3, 8, 6, 5, 7, 3, 3, 5, 7, 5, 6, 5, 3, 2, 4, 7, 5, 5, 5, 6, 1, 2, 10, 6, 2, 5, 11, 8, 4, 3, 9, 7, 4, 5, 1, 1, 10, 1, 4, 7, 11, 2, 10, 5, 19, 4, 18, 11, 3, 8, 1, 3, 1, 6, 1, 3, 6, 6, 11, 4, 8, 10, 3, 10, 4, 12, 3, 10, 2, 7, 9, 7, 2, 1, 5, 4, 10, 1, 7, 14, 1, 8, 1, 5, 13, 6, 1, 5, 1, 2, 5, 6, 6, 7, 10, 3, 4, 2, 1, 5, 13, 3, 1, 2, 3, 6, 7, 7, 1, 7, 8, 6, 20, 4, 2, 2, 7, 4, 7, 5, 3, 2, 9, 13, 14, 1, 8, 15, 15, 5, 3, 11, 7, 16, 9, 2, 7, 2, 2, 9, 22, 2, 4, 3, 3, 4, 4, 1, 6, 3, 7, 3, 3, 10, 4, 13, 3, 11, 3, 5, 3, 4, 13, 11, 4, 4, 7, 19, 5, 8, 8, 15, 16, 1, 1, 9, 8, 5, 5, 12, 1, 7, 11, 4, 3, 3, 4, 4, 8, 11, 8, 3, 4, 1, 13, 6, 3, 6, 14, 6, 14, 3, 2, 8, 13, 3, 9, 2, 1, 6, 1, 10, 6, 2, 1, 2, 5, 2, 3, 1, 3, 3, 1, 14, 1, 3, 4, 11, 3, 3, 16, 1, 5, 6, 2, 12, 14, 5, 11, 9, 6, 2, 2, 11, 5, 2, 14, 4, 1, 21, 5, 23, 2, 9, 3, 10, 13, 1, 17, 16, 9, 4, 5, 7, 5, 11, 8, 1, 9, 3, 2, 1, 3, 7, 4, 5, 5, 1, 6, 9, 8, 6, 1, 5, 7, 4, 4, 8, 5, 14, 18, 1, 1, 3, 1, 9, 3, 13, 6, 3, 4, 6, 7, 8, 6, 1, 2, 2, 21, 3, 12, 3, 2, 2, 10, 6, 2, 14, 4, 3, 3, 14, 4, 3, 10, 5, 9, 7, 2, 3, 21, 10, 13, 12, 1, 17, 2, 11, 6, 9, 4, 1, 5, 5, 12, 2, 2, 6, 8, 5, 1, 9, 17, 9, 8, 6, 4, 13, 16, 2, 1, 7, 3, 2, 7, 8, 1, 1, 3, 2, 2, 11, 2, 9, 6, 4, 5, 11, 7, 5, 6, 12, 11, 5, 9, 6, 3, 4, 6, 7, 11, 12, 12, 1, 3, 3, 8, 2, 5, 3, 2, 2, 9, 7, 2, 5, 8, 4, 3, 6, 7, 4, 1, 6, 6, 9, 8, 6, 8, 1, 3, 12, 17, 3, 3, 17, 13, 4, 8, 1, 7, 6, 8, 6, 2, 6, 8, 17, 5, 11, 8, 15, 5, 1, 8, 7, 5, 2, 4, 7, 14, 2, 9, 3, 6, 6, 4, 14, 5, 8, 5, 7, 5, 4, 3, 8, 5, 3, 9, 4, 4, 9, 2, 4, 4, 4, 10, 14, 3, 1, 4, 4, 6, 9, 1, 5, 5, 8, 6, 4, 14, 1, 8, 9, 10, 7, 5, 4, 10, 7, 3, 5, 4, 12, 5, 9, 5, 9, 3, 2, 3, 9, 4, 10, 6, 3, 6, 5, 6, 2, 10, 5, 6, 11, 3, 1, 7, 2, 1, 19, 2, 14, 8, 4, 7, 6, 30, 1, 3, 1, 14, 14, 3, 9, 7, 2, 5, 6, 12, 5, 2, 10, 1, 4, 6, 8, 3, 2, 7, 3, 3, 5, 7, 7, 2, 3, 5, 9, 3, 10, 5, 3, 2, 4, 14, 8, 15, 14, 5, 3, 3, 3, 2, 12, 2, 7, 6, 5, 8, 1, 6, 6, 14, 5, 9, 5, 3, 3, 7, 4, 3, 9, 19, 11, 2, 1, 22, 14, 2, 2, 18, 1, 4, 1, 4, 11, 1, 3, 4, 4, 4, 4, 13, 11, 2, 5, 3, 4, 5, 7, 11, 18, 3, 2, 7, 8, 10, 3, 2, 3, 1, 11, 2, 9, 9, 2, 18, 2, 4, 11, 4, 5, 2, 4, 19, 4, 8, 9, 7, 2, 11, 3, 2, 17, 1, 1, 1, 1, 12, 1, 3, 10, 6, 8, 5, 6, 17, 9, 23, 5, 3, 13, 6, 1, 5, 7, 8, 4, 12, 3, 4, 7, 3, 10, 6, 26, 14, 6, 6, 5, 4, 1, 5, 3, 1, 8, 2, 2, 4, 6, 4, 3, 8, 13, 3, 10, 4, 8, 11, 21, 1, 14, 2, 2, 19, 2, 8, 4, 6, 9, 2, 4, 3, 12, 5, 9, 6, 7, 3, 6, 3, 8, 2, 8, 5, 12, 4, 6, 9, 6, 7, 10, 2, 5, 1, 2, 4, 2, 15, 1, 16, 3, 6, 5, 5, 2, 3, 2, 8, 4, 8, 3, 4, 2, 7, 8, 7, 2, 11, 7, 5, 1, 1, 3, 2, 9, 3, 4, 4, 10, 6, 2, 6, 11, 7, 9, 9, 4, 10, 4, 7, 11, 8, 5, 9, 6, 10, 11, 1, 4, 3, 6, 9, 6, 7, 1, 5, 9, 5, 13, 4, 2, 2, 6, 5, 9, 2, 8, 4, 7, 4, 7, 6, 1, 7, 3, 11, 9, 10, 4, 4, 10, 8, 5, 1, 8, 9, 15, 2, 1, 3, 1, 1, 5, 6, 17, 7, 11, 10, 8, 7, 5, 15, 4, 3, 2, 11, 7, 3, 6, 10, 6, 5, 2, 7, 9, 7, 15, 6, 7, 2, 2, 1, 11, 5, 15, 6, 8, 2, 13, 12, 4, 15, 6, 18, 11, 4, 6, 3, 7, 8, 5, 1, 2, 8, 2, 11, 7, 10, 6, 5, 4, 1, 7, 10, 14, 17, 8, 7, 6, 4, 7, 2, 8, 7, 9, 6, 3, 4, 1, 5, 3, 4, 18, 2, 3, 7, 2, 12, 1, 4, 10, 10, 4, 3, 10, 1, 1, 10, 9, 3, 3, 8, 2, 15, 2, 4, 1, 1, 12, 4, 11, 13, 1, 8, 18, 5, 2, 2, 8, 7, 4, 2, 8, 3, 7, 4, 3, 4, 8, 5, 10, 2, 1, 1, 13, 15, 1, 5, 1, 9, 5, 13, 4, 1, 3, 11, 5, 5, 8, 11, 5, 10, 3, 11, 6, 7, 10, 8, 4, 6, 5, 18, 8, 1, 6, 12, 9, 15, 5, 7, 2, 3, 14, 6, 4, 30, 3, 1, 18, 7, 2, 17, 2, 8, 7, 8, 5, 4, 14, 4, 16, 5, 2, 5, 7, 2, 15, 3, 8, 3, 16, 12, 1, 5, 3, 4, 10, 1, 4, 8, 4, 6, 1, 5, 10, 1, 23, 5, 14, 17, 1, 5, 6, 1, 9, 11, 27, 4, 6, 1, 7, 4, 11, 10, 6, 5, 5, 1, 7, 8, 1, 8, 3, 3, 4, 1, 1, 4, 10, 2, 2, 7, 12, 5, 17, 13, 2, 3, 5, 4, 5, 7, 10, 1, 1, 1, 2, 4, 8, 4, 10, 4, 6, 2, 6, 17, 3, 1, 12, 5, 4, 8, 3, 3, 3, 8, 6, 12, 6, 7, 2, 9, 6, 1, 9, 4, 1, 4, 2, 9, 3, 4, 6, 2, 8, 2, 1, 3, 5, 8, 3, 10, 1, 3, 4, 2, 6, 4, 7, 1, 2, 1, 7, 1, 6, 5, 2, 5, 7, 15, 7, 4, 6, 2, 9, 6, 11, 8, 7, 7, 14, 2, 5, 5, 4, 10, 5, 14, 6, 7, 20, 2, 3, 8, 5, 5, 8, 9, 1, 9, 4, 8, 6, 5, 5, 2, 3, 5, 3, 2, 4, 8, 2, 4, 1, 3, 11, 12, 2, 11, 7, 7, 4, 2, 18, 17, 4, 5, 7, 8, 10, 2, 7, 7, 7, 20, 7, 1, 10, 2, 16, 7, 2, 4, 7, 2, 8, 4, 10, 6, 4, 8, 1, 2, 9, 2, 10, 7, 5, 5, 4, 9, 6, 5, 4, 9, 5, 2, 8, 1, 1, 3, 9, 3, 3, 12, 14, 7, 4, 1, 9, 1, 12, 3, 16, 11, 5, 12, 5, 11, 14, 10, 7, 12, 4, 13, 1, 16, 2, 5, 8, 6, 2, 3, 4, 4, 8, 7, 7, 5, 10, 6, 2, 7, 5, 15, 2, 11, 9, 12, 12, 10, 10, 4, 8, 4, 2, 10, 5, 6, 7, 5, 8, 11, 3, 1, 2, 16, 19, 4, 8, 10, 10, 1, 3, 6, 5, 9, 12, 6, 13, 12, 7, 5, 3, 4, 4, 10, 4, 4, 4, 11, 1, 2, 7, 9, 3, 4, 3, 4, 2, 7, 14, 1, 2, 3, 4, 3, 5, 6, 5, 6, 2, 2, 1, 1, 5, 2, 9, 3, 4, 6, 5, 11, 1, 11, 1, 6, 7, 4, 12, 1, 4, 3, 3, 1, 1, 15, 7, 20, 5, 2, 3, 12, 5, 18, 5, 17, 2, 15, 5, 8, 4, 14, 14, 6, 12, 5, 3, 7, 18, 2, 16, 2, 9, 16, 14, 4, 2, 13, 2, 5, 5, 5, 6, 14, 2, 9, 4, 6, 6, 4, 2, 6, 5, 3, 17, 11, 9, 5, 4, 6, 5, 10, 25, 2, 15, 15, 14, 12, 3, 2, 2, 1, 10, 9, 3, 8, 1, 8, 7, 2, 1, 4, 4, 9, 16, 13, 6, 10, 8, 4, 7, 5, 6, 4, 14, 4, 1, 1, 7, 3, 7, 5, 8, 2, 4, 11, 5, 4, 1, 7, 6, 9, 4, 2, 8, 3, 8, 11, 2, 6, 17, 20, 2, 12, 3, 11, 1, 1, 8, 22, 12, 5, 12, 4, 3, 3, 18, 1, 2, 3, 11, 2, 7, 8, 9, 15, 1, 8, 11, 5, 2, 12, 9, 13, 1, 5, 2, 7, 1, 1, 1, 14, 6, 5, 11, 8, 12, 5, 8, 3, 7, 3, 4, 9, 9, 2, 13, 1, 6, 2, 1, 6, 4, 7, 6, 4, 3, 16, 3, 8, 4, 6, 2, 9, 11, 11, 16, 3, 3, 12, 13, 10, 3, 4, 12, 5, 6, 6, 2, 1, 2, 5, 4, 6, 9, 1, 2, 4, 9, 3, 3, 3, 11, 5, 10, 4, 2, 10, 1, 13, 1, 8, 7, 1, 2, 9, 1, 8, 2, 6, 8, 11, 6, 3, 6, 5, 10, 2, 7, 6, 1, 5, 1, 5, 1, 8, 2, 3, 5, 6, 3, 5, 6, 3, 8, 4, 10, 7, 14, 3, 12, 3, 5, 8, 7, 12, 5, 6, 6, 8, 3, 8, 4, 1, 10, 6, 1, 6, 4, 8, 5, 7, 5, 1, 9, 6, 11, 6, 11, 6, 11, 2, 1, 9, 3, 9, 5, 4, 3, 5, 3, 1, 6, 6, 9, 5, 3, 8, 2, 7, 3, 2, 2, 4, 10, 9, 10, 2, 6, 1, 6, 7, 8, 4, 5, 6, 7, 3, 2, 3, 6, 11, 14, 6, 16, 9, 12, 12, 10, 7, 6, 11, 3, 12, 5, 7, 6, 10, 7, 8, 4, 11, 18, 2, 14, 1, 1, 2, 2, 18, 1, 1, 7, 7, 4, 5, 13, 4, 10, 3, 15, 4, 4, 2, 1, 5, 10, 10, 5, 6, 1, 15, 8, 5, 13, 14, 4, 5, 16, 4, 3, 8, 6, 1, 1, 2, 4, 4, 9, 6, 4, 4, 2, 4, 7, 7, 4, 11, 6, 3, 4, 3, 8, 7, 9, 5, 3, 5, 7, 11, 6, 7, 3, 4, 5, 11, 17, 4, 7, 6, 1, 3, 10, 6, 4, 6, 1, 17, 8, 9, 5, 1, 13, 6, 10, 8, 7, 3, 10, 2, 1, 7, 10, 1, 6, 3, 4, 7, 6, 8, 2, 4, 6, 12, 10, 9, 8, 4, 6, 9, 3, 3, 15, 25, 4, 2, 1, 9, 8, 11, 7, 4, 9, 8, 8, 5, 18, 1, 8, 9, 2, 6, 6, 6, 7, 23, 3, 10, 3, 7, 4, 8, 5, 4, 12, 12, 6, 3, 6, 8, 12, 3, 3, 11, 1, 6, 4, 6, 7, 16, 1, 2, 12, 14, 13, 3, 7, 8, 6, 11, 1, 5, 9, 2, 9, 2, 9, 8, 4, 11, 7, 9, 17, 12, 1, 10, 15, 8, 9, 10, 12, 4, 2, 1, 5, 4, 4, 2, 9, 7, 3, 9, 3, 6, 8, 3, 11, 3, 3, 7, 7, 1, 9, 8, 13, 12, 7, 6, 6, 13, 16, 1, 7, 7, 5, 13, 2, 1, 3, 11, 6, 8, 4, 17, 10, 8, 4, 2, 5, 7, 7, 8, 9, 5, 7, 1, 10, 4, 12, 4, 18, 7, 10, 5, 4, 8, 1, 6, 14, 12, 1, 14, 8, 19, 9, 2, 3, 5, 3, 6, 2, 2, 14, 7, 8, 1, 5, 6, 2, 12, 11, 2, 2, 19, 3, 2, 7, 2, 3, 4, 2, 8, 8, 5, 4, 2, 1, 6, 2, 4, 3, 6, 13, 10, 4, 6, 8, 7, 2, 2, 7, 2, 5, 5, 4, 5, 6, 9, 9, 2, 3, 2, 4, 5, 9, 1, 8, 9, 1, 5, 7, 3, 7, 2, 12, 7, 6, 12, 5, 10, 8, 7, 7, 3, 14, 9, 8, 11, 6, 8, 3, 12, 1, 18, 11, 13, 2, 2, 1, 10, 1, 7, 13, 1, 7, 9, 6, 7, 2, 5, 13, 1, 14, 4, 8, 10, 15, 9, 3, 10, 11, 6, 12, 3, 3, 4, 6, 5, 2, 1, 2, 9, 7, 2, 11, 3, 6, 12, 9, 1, 9, 3, 2, 4, 5, 5, 2, 5, 7, 1, 3, 5, 10, 5, 11, 2, 1, 5, 8, 1, 2, 1, 17, 5, 1, 4, 13, 1, 17, 2, 14, 11, 15, 15, 7, 4, 8, 7, 4, 9, 4, 15, 16, 2, 5, 10, 7, 5, 7, 6, 3, 3, 6, 6, 14, 7, 5, 4, 3, 3, 16, 5, 10, 8, 11, 2, 3, 11, 2, 2, 3, 14, 10, 3, 9, 7, 15, 3, 2, 4, 7, 3, 6, 2, 11, 5, 3, 3, 10, 6, 8, 5, 2, 12, 5, 2, 16, 1, 3, 1, 2, 18, 3, 19, 4, 6, 2, 1, 18, 10, 6, 1, 5, 4, 9, 4, 4, 10, 5, 7, 8, 2, 9, 6, 12, 9, 1, 1, 13, 4, 8, 1, 9, 7, 6, 3, 5, 3, 13, 8, 11, 9, 6, 2, 8, 3, 9, 4, 2, 4, 6, 6, 1, 1, 4, 8, 4, 8, 12, 8, 1, 15, 1, 2, 4, 1, 3, 7, 5, 12, 8, 3, 5, 3, 17, 7, 4, 6, 11, 8, 5, 1, 4, 5, 4, 6, 10, 7, 3, 4, 8, 4, 12, 4, 12, 8, 10, 6, 5, 12, 4, 9, 6, 17, 5, 1, 18, 1, 1, 19, 3, 12, 16, 3, 5, 5, 11, 9, 9, 8, 4, 3, 13, 5, 6, 4, 5, 6, 2, 8, 2, 6, 2, 4, 1, 2, 7, 5, 4, 10, 1, 6, 4, 9, 1, 1, 6, 10, 3, 5, 4, 3, 4, 10, 4, 8, 8, 8, 12, 18, 1, 16, 16, 8, 11, 5, 2, 2, 3, 10, 7, 2, 7, 5, 13, 1, 12, 3, 4, 4, 6, 6, 11, 4, 15, 6, 1, 5, 12, 8, 15, 2, 9, 12, 7, 5, 8, 7, 6, 2, 2, 2, 3, 9, 4, 3, 5, 2, 1, 11, 1, 5, 1, 1, 9, 2, 2, 12, 3, 12, 7, 1, 10, 9, 14, 1, 6, 4, 14, 14, 14, 8, 2, 18, 11, 2, 2, 2, 13, 6, 7, 12, 10, 6, 12, 3, 3, 5, 7, 5, 12, 4, 7, 5, 3, 7, 14, 4, 7, 9, 1, 11, 10, 4, 4, 6, 3, 2, 7, 6, 5, 5, 12, 8, 3, 7, 7, 10, 9, 1, 13, 3, 1, 18, 6, 9, 4, 5, 7, 7, 19, 3, 3, 3, 4, 5, 10, 5, 2, 8, 12, 6, 10, 5, 3, 5, 8, 8, 8, 6, 1, 2, 14, 2, 7, 8, 2, 5, 8, 4, 7, 10, 6, 18, 5, 4, 5, 2, 11, 2, 3, 2, 7, 4, 2, 10, 4, 10, 9, 7, 9, 2, 1, 6, 4, 12, 8, 1, 1, 1, 3, 11, 12, 11, 1, 3, 6, 5, 9, 3, 9, 4, 8, 8, 2, 2, 9, 3, 11, 4, 1, 23, 4, 1, 10, 13, 4, 1, 3, 9, 8, 8, 2, 1, 9, 19, 10, 5, 5, 2, 4, 9, 4, 9, 8, 3, 18, 6, 6, 7, 2, 2, 2, 8, 1, 3, 2, 1, 1, 9, 18, 2, 10, 5, 2, 6, 9, 3, 11, 8, 3, 5, 10, 4, 5, 8, 7, 6, 4, 2, 7, 15, 5, 18, 11, 1, 6, 3, 5, 1, 6, 7, 8, 10, 6, 2, 4, 3, 4, 1, 5, 3, 1, 5, 6, 4, 24, 1, 2, 1, 1, 2, 10, 2, 2, 7, 3, 3, 8, 4, 1, 2, 21, 9, 2, 2, 1, 1, 1, 14, 2, 7, 4, 5, 2, 11, 4, 1, 8, 13, 9, 5, 8, 8, 3, 3, 5, 11, 3, 10, 1, 6, 12, 4, 12, 6, 2, 1, 5, 6, 5, 3, 7, 6, 6, 10, 3, 4, 2, 2, 10, 23, 2, 6, 5, 8, 13, 2, 8, 3, 6, 3, 15, 3, 8, 10, 5, 8, 18, 11, 17, 7, 11, 3, 3, 4, 11, 4, 2, 3, 2, 4, 4, 7, 5, 10, 4, 8, 4, 6, 21, 8, 5, 10, 2, 8, 4, 8, 10, 10, 2, 9, 4, 2, 5, 4, 8, 2, 9, 22, 6, 10, 4, 8, 2, 2, 3, 7, 5, 1, 3, 15, 15, 6, 1, 6, 6, 14, 5, 10, 8, 14, 7, 8, 1, 1, 7, 2, 15, 4, 4, 5, 5, 6, 3, 6, 4, 12, 2, 5, 7, 4, 15, 10, 6, 1, 3, 5, 6, 3, 4, 7, 10, 9, 1, 2, 1, 4, 5, 9, 8, 10, 10, 2, 4, 1, 2, 7, 10, 7, 28, 6, 8, 11, 2, 1, 3, 3, 2, 6, 14, 5, 3, 10, 2, 9, 11, 1, 13, 13, 5, 8, 2, 10, 2, 2, 3, 5, 1, 3, 6, 11, 11, 8, 4, 8, 9, 5, 1, 2, 9, 1, 7, 4, 8, 4, 5, 2, 5, 8, 20, 4, 3, 2, 13, 18, 8, 7, 3, 1, 3, 3, 6, 2, 5, 2, 7, 4, 5, 13, 6, 12, 4, 8, 1, 3, 8, 7, 5, 2, 4, 1, 3, 5, 4, 8, 3, 6, 14, 4, 2, 21, 3, 2, 11, 13, 2, 11, 5, 4, 10, 3, 2, 8, 7, 3, 10, 2, 5, 3, 3, 1, 3, 1, 1, 1, 2, 8, 14, 5, 1, 5, 10, 8, 6, 13, 4, 7, 4, 3, 4, 9, 4, 4, 5, 3, 8, 5, 5, 4, 9, 11, 9, 9, 2, 8, 5, 11, 16, 11, 5, 11, 7, 2, 10, 11, 5, 9, 1, 6, 8, 8, 6, 9, 8, 10, 6, 6, 6, 10, 4, 1, 5, 1, 2, 11, 5, 4, 5, 8, 12, 6, 5, 8, 6, 11, 5, 6, 2, 2, 5, 7, 3, 6, 6, 5, 7, 4, 10, 6, 4, 9, 6, 10, 5, 5, 4, 10, 2, 7, 2, 6, 8, 2, 11, 6, 1, 3, 21, 9, 3, 12, 2, 3, 2, 8, 4, 7, 1, 16, 3, 12, 2, 4, 3, 1, 1, 12, 8, 12, 3, 18, 3, 6, 4, 7, 5, 1, 8, 16, 2, 13, 8, 3, 9, 4, 3, 6, 5, 21, 6, 6, 7, 12, 10, 6, 6, 5, 2, 13, 6, 5, 16, 11, 15, 8, 3, 9, 3, 13, 8, 8, 19, 1, 7, 8, 5, 10, 7, 10, 9, 10, 4, 1, 4, 3, 1, 10, 8, 19, 12, 8, 10, 7, 9, 7, 9, 7, 3, 10, 1, 12, 5, 13, 1, 14, 3, 5, 4, 17, 6, 5, 3, 6, 6, 20, 8, 8, 13, 7, 11, 12, 2, 4, 2, 8, 6, 3, 12, 2, 4, 10, 1, 10, 3, 1, 2, 17, 5, 2, 11, 11, 3, 4, 4, 13, 3, 5, 4, 3, 8, 5, 12, 16, 6, 6, 2, 7, 2, 3, 18, 17, 5, 9, 4, 2, 5, 3, 9, 5, 3, 6, 6, 4, 6, 3, 3, 6, 7, 6, 18, 4, 2, 7, 7, 11, 5, 6, 2, 1, 4, 6, 3, 2, 4, 9, 12, 16, 13, 9, 9, 10, 17, 18, 2, 6, 2, 5, 11, 10, 8, 5, 14, 10, 8, 11, 3, 8, 17, 4, 4, 6, 18, 5, 10, 6, 5, 7, 6, 3, 1, 3, 8, 3, 4, 7, 8, 3, 1, 4, 6, 3, 10, 5, 3, 5, 7, 6, 1, 5, 14, 4, 4, 9, 2, 8, 9, 6, 10, 1, 7, 12, 4, 1, 5, 11, 6, 8, 2, 1, 6, 3, 4, 3, 9, 6, 7, 7, 4, 3, 15, 5, 4, 7, 6, 14, 2, 6, 12, 4, 5, 6, 5, 17, 3, 3, 5, 5, 11, 9, 13, 7, 3, 6, 4, 12, 3, 8, 2, 8, 4, 5, 12, 19, 1, 4, 6, 11, 4, 11, 1, 14, 4, 6, 15, 23, 3, 4, 7, 1, 3, 13, 4, 8, 2, 18, 12, 12, 9, 7, 15, 10, 1, 4, 5, 8, 7, 15, 8, 2, 5, 3, 1, 1, 1, 13, 15, 3, 5, 4, 2, 5, 15, 4, 5, 5, 5, 11, 3, 10, 4, 2, 3, 1, 5, 1, 4, 7, 3, 5, 7, 7, 6, 5, 11, 1, 8, 9, 4, 3, 6, 15, 12, 4, 14, 5, 1, 5, 6, 9, 7, 9, 4, 9, 1, 5, 7, 15, 18, 12, 3, 2, 4, 8, 6, 9, 1, 7, 4, 9, 11, 13, 11, 10, 9, 6, 1, 2, 6, 5, 6, 3, 1, 1, 8, 11, 6, 2, 1, 3, 10, 1, 15, 7, 3, 1, 5, 2, 3, 6, 10, 7, 6, 4, 9, 10, 6, 8, 11, 8, 18, 6, 8, 3, 6, 5, 13, 5, 6, 3, 6, 5, 2, 15, 1, 6, 6, 2, 6, 4, 4, 4, 7, 3, 4, 2, 4, 4, 3, 10, 8, 1, 6, 2, 6, 9, 6, 1, 6, 8, 6, 1, 13, 5, 14, 11, 5, 8, 2, 1, 7, 6, 10, 3, 6, 4, 2, 7, 4, 4, 3, 7, 2, 17, 12, 13, 8, 5, 9, 2, 5, 12, 14, 3, 4, 6, 12, 13, 10, 8, 6, 1, 4, 6, 1, 3, 7, 4, 9, 8, 9, 4, 12, 2, 15, 10, 1, 6, 4, 8, 6, 8, 7, 9, 7, 5, 6, 8, 4, 7, 5, 6, 3, 1, 6, 5, 2, 1, 9, 9, 13, 3, 10, 3, 16, 6, 7, 6, 4, 6, 2, 5, 1, 13, 9, 6, 3, 9, 5, 8, 21, 4, 3, 8, 8, 3, 2, 5, 4, 6, 6, 5, 5, 8, 12, 8, 6, 8, 7, 5, 4, 4, 4, 9, 2, 3, 10, 4, 2, 6, 1, 10, 4, 3, 11, 8, 11, 15, 7, 6, 5, 12, 1, 7, 6, 3, 13, 5, 11, 4, 3, 18, 4, 5, 11, 3, 12, 12, 7, 3, 4, 2, 5, 5, 2, 1, 2, 19, 5, 3, 12, 2, 9, 3, 15, 8, 11, 12, 2, 2, 4, 7, 26, 18, 5, 7, 2, 3, 8, 4, 18, 3, 19, 4, 9, 4, 6, 5, 4, 6, 5, 6, 9, 2, 3, 3, 12, 15, 2, 9, 3, 4, 4, 3, 1, 9, 10, 4, 6, 4, 11, 2, 6, 10, 8, 11, 7, 6, 5, 5, 5, 11, 9, 5, 1, 15, 8, 3, 2, 3, 2, 1, 1, 18, 2, 2, 4, 7, 8, 5, 4, 8, 6, 1, 1, 4, 6, 8, 2, 12, 4, 6, 6, 6, 2, 7, 2, 2, 9, 1, 2, 1, 6, 9, 13, 2, 5, 5, 3, 4, 7, 4, 7, 1, 6, 10, 20, 2, 11, 2, 1, 4, 3, 6, 3, 5, 8, 2, 4, 3, 2, 4, 1, 5, 1, 9, 10, 5, 12, 14, 1, 2, 1, 2, 1, 20, 6, 6, 2, 7, 6, 9, 1, 3, 4, 10, 20, 5, 2, 1, 7, 6, 6, 7, 11, 4, 14, 1, 2, 9, 5, 1, 7, 2, 9, 1, 10, 5, 2, 3, 1, 5, 2, 1, 7, 9, 10, 2, 2, 29, 4, 8, 7, 8, 17, 3, 6, 5, 6, 8, 8, 2, 3, 1, 6, 9, 4, 9, 4, 12, 4, 2, 6, 18, 3, 2, 6, 5, 4, 8, 2, 3, 1, 23, 3, 6, 4, 2, 2, 7, 6, 7, 6, 5, 4, 14, 5, 3, 6, 2, 23, 3, 8, 10, 3, 1, 4, 2, 3, 6, 1, 9, 10, 5, 4, 6, 7, 8, 5, 1, 4, 7, 2, 2, 7, 3, 3, 7, 10, 6, 8, 4, 3, 5, 7, 9, 2, 1, 4, 4, 6, 12, 6, 11, 4, 9, 3, 14, 2, 6, 1, 5, 9, 2, 1, 1, 16, 1, 17, 4, 8, 3, 6, 6, 18, 8, 4, 6, 7, 3, 4, 7, 6, 5, 3, 3, 7, 5, 2, 5, 8, 3, 3, 6, 4, 5, 8, 2, 2, 4, 14, 18, 6, 7, 5, 11, 2, 11, 3, 2, 2, 3, 5, 1, 3, 4, 5, 3, 9, 1, 10, 9, 2, 3, 2, 2, 2, 5, 4, 7, 4, 7, 8, 7, 11, 3, 7, 12, 5, 1, 4, 10, 7, 11, 3, 4, 8, 17, 6, 11, 5, 2, 10, 10, 3, 1, 11, 4, 5, 5, 8, 3, 14, 6, 4, 6, 9, 6, 2, 5, 5, 11, 2, 8, 10, 17, 2, 9, 5, 16, 4, 9, 1, 1, 23, 3, 10, 2, 6, 2, 1, 8, 8, 3, 8, 2, 4, 1, 8, 3, 10, 20, 6, 7, 1, 5, 10, 6, 12, 13, 7, 1, 4, 12, 11, 8, 4, 2, 13, 7, 3, 2, 20, 2, 8, 11, 12, 9, 7, 6, 10, 4, 4, 4, 8, 19, 3, 1, 15, 13, 4, 4, 1, 2, 2, 8, 7, 2, 2, 1, 7, 6, 5, 2, 5, 2, 1, 2, 5, 2, 1, 10, 5, 4, 1, 3, 4, 2, 14, 10, 8, 5, 1, 5, 7, 9, 12, 1, 4, 2, 1, 9, 5, 4, 9, 1, 8, 2, 6, 8, 4, 5, 5, 9, 4, 5, 2, 7, 3, 6, 11, 5, 12, 16, 10, 11, 6, 2, 7, 12, 7, 3, 2, 1, 3, 2, 5, 8, 8, 8, 1, 8, 2, 6, 6, 1, 4, 7, 4, 2, 2, 9, 11, 5, 4, 4, 1, 3, 4, 9, 4, 3, 1, 3, 12, 4, 2, 1, 5, 2, 15, 3, 9, 15, 9, 2, 10, 17, 6, 2, 2, 10, 8, 9, 3, 6, 4, 2, 4, 1, 1, 11, 2, 2, 4, 1, 1, 3, 6, 12, 6, 10, 5, 6, 8, 6, 1, 3, 7, 3, 6, 8, 3, 3, 6, 4, 11, 9, 4, 10, 5, 6, 4, 6, 6, 8, 7, 9, 7, 1, 7, 1, 3, 5, 6, 4, 1, 1, 2, 4, 3, 3, 4, 11, 4, 2, 2, 7, 2, 7, 1, 3, 5, 1, 5, 6, 2, 1, 6, 9, 4, 10, 6, 4, 7, 1, 3, 14, 2, 6, 7, 12, 6, 17, 5, 12, 6, 6, 12, 3, 2, 5, 3, 2, 3, 7, 1, 3, 12, 12, 2, 5, 16, 6, 6, 6, 3, 5, 1, 8, 3, 5, 7, 10, 11, 1, 3, 4, 4, 4, 12, 3, 3, 11, 2, 2, 4, 9, 1, 3, 8, 13, 5, 7, 4, 9, 7, 5, 5, 6, 13, 3, 4, 10, 11, 4, 4, 4, 7, 4, 10, 3, 4, 4, 8, 3, 13, 2, 13, 5, 3, 4, 5, 8, 4, 11, 2, 5, 2, 8, 3, 8, 7, 3, 6, 1, 8, 11, 6, 5, 2, 5, 2, 2, 3, 1, 2, 5, 2, 14, 2, 1, 12, 8, 1, 1, 3, 2, 3, 8, 4, 9, 9, 5, 5, 7, 4, 2, 5, 2, 6, 9, 3, 2, 2, 1, 8, 15, 6, 3, 4, 3, 7, 5, 5, 3, 15, 4, 8, 5, 11, 19, 4, 9, 7, 4, 2, 4, 5, 14, 1, 9, 4, 11, 11, 4, 1, 2, 7, 6, 2, 6, 3, 10, 1, 13, 3, 5, 8, 4, 7, 7, 16, 8, 6, 8, 9, 1, 2, 4, 1, 5, 2, 4, 8, 4, 2, 9, 3, 5, 3, 5, 12, 2, 2, 4, 4, 3, 3, 5, 6, 4, 9, 7, 2, 5, 5, 1, 14, 4, 4, 3, 10, 6, 2, 5, 8, 3, 4, 14, 2, 3, 12, 4, 6, 3, 3, 6, 3, 5, 5, 6, 7, 5, 1, 10, 5, 4, 5, 5, 3, 5, 1, 8, 2, 4, 4, 16, 9, 16, 11, 5, 8, 5, 6, 4, 3, 7, 1, 3, 2, 5, 11, 4, 2, 7, 17, 2, 3, 8, 5, 3, 9, 1, 20, 13, 1, 1, 1, 1, 2, 2, 9, 4, 3, 3, 7, 5, 1, 3, 4, 2, 8, 1, 7, 6, 4, 5, 6, 10, 1, 6, 4, 5, 4, 6, 3, 8, 8, 6, 10, 7, 4, 5, 7, 4, 6, 12, 7, 3, 17, 3, 9, 6, 2, 6, 8, 4, 3, 8, 1, 6, 12, 16, 12, 2, 1, 19, 2, 7, 8, 5, 8, 9, 1, 22, 10, 15, 8, 6, 10, 5, 6, 6, 7, 3, 2, 11, 1, 2, 1, 2, 3, 3, 5, 11, 4, 2, 18, 5, 4, 4, 9, 3, 6, 5, 6, 12, 3, 3, 14, 6, 2, 10, 6, 8, 3, 6, 11, 8, 6, 1, 1, 2, 2, 7, 6, 3, 2, 3, 3, 2, 7, 4, 1, 3, 3, 6, 5, 1, 1, 2, 9, 8, 12, 3, 3, 5, 10, 5, 9, 10, 2, 1, 5, 11, 11, 7, 6, 1, 2, 8, 1, 15, 7, 3, 2, 2, 1, 7, 2, 2, 4, 9, 5, 4, 3, 2, 5, 13, 3, 11, 2, 3, 7, 3, 1, 1, 7, 1, 2, 2, 7, 5, 4, 5, 6, 8, 8, 1, 8, 1, 14, 3, 2, 6, 4, 4, 13, 12, 13, 6, 5, 3, 9, 5, 7, 9, 4, 2, 7, 9, 3, 6, 3, 4, 6, 3, 5, 2, 2, 9, 7, 7, 2, 4, 5, 6, 13, 4, 17, 1, 1, 20, 4, 7, 4, 4, 2, 4, 10, 4, 2, 5, 4, 10, 2, 8, 2, 2, 5, 6, 6, 4, 10, 2, 3, 7, 10, 8, 2, 5, 7, 3, 8, 4, 4, 8, 3, 5, 7, 8, 1, 4, 9, 2, 5, 5, 3, 11, 3, 6, 5, 4, 6, 9, 9, 4, 7, 11, 2, 1, 2, 10, 5, 3, 10, 5, 4, 3, 3, 2, 2, 6, 7, 9, 5, 4, 5, 10, 7, 14, 15, 6, 8, 5, 1, 1, 2, 3, 4, 2, 4, 4, 2, 7, 19, 3, 1, 3, 11, 1, 3, 4, 5, 5, 12, 1, 7, 13, 3, 4, 4, 3, 16, 2, 3, 3, 5, 4, 6, 5, 13, 4, 1, 2, 2, 4, 4, 1, 9, 4, 8, 2, 3, 4, 7, 4, 4, 3, 7, 6, 4, 5, 2, 5, 3, 8, 12, 11, 3, 1, 3, 1, 5, 15, 2, 4, 13, 6, 3, 3, 13, 8, 3, 5, 4, 7, 2, 6, 5, 1, 4, 2, 3, 21, 7, 4, 5, 3, 5, 10, 6, 8, 5, 7, 2, 1, 12, 7, 2, 5, 4, 3, 5, 3, 5, 4, 5, 5, 5, 17, 3, 6, 3, 3, 7, 3, 4, 3, 8, 1, 3, 10, 9, 10, 12, 2, 2, 6, 1, 9, 7, 11, 6, 6, 3, 3, 2, 3, 5, 2, 6, 7, 3, 9, 5, 5, 3, 4, 9, 6, 9, 11, 8, 8, 16, 7, 7, 3, 6, 6, 11, 3, 11, 2, 10, 6, 6, 3, 20, 4, 6, 4, 7, 17, 5, 1, 7, 10, 2, 7, 12, 3, 1, 2, 5, 2, 3, 18, 6, 6, 8, 3, 4, 1, 15, 6, 3, 7, 3, 4, 3, 2, 4, 9, 1, 1, 6, 5, 10, 5, 2, 7, 7, 1, 5, 2, 3, 2, 3, 6, 12, 4, 10, 2, 1, 8, 9, 7, 1, 6, 2, 5, 8, 17, 16, 6, 13, 3, 2, 2, 2, 12, 8, 3, 2, 8, 6, 13, 4, 7, 3, 4, 6, 5, 3, 11, 12, 5, 1, 7, 3, 7, 8, 3, 2, 6, 4, 3, 5, 6, 3, 3, 10, 8, 4, 16, 4, 1, 4, 6, 3, 6, 1, 2, 5, 4, 10, 3, 6, 10, 5, 5, 12, 7, 7, 11, 6, 5, 11, 2, 5, 3, 6, 8, 7, 3, 1, 4, 2, 3, 3, 15, 2, 3, 10, 2, 3, 4, 2, 4, 11, 8, 4, 7, 4, 1, 4, 17, 3, 5, 6, 6, 4, 4, 2, 1, 2, 8, 9, 1, 4, 26, 10, 7, 1, 2, 10, 5, 11, 1, 4, 8, 6, 2, 9, 16, 6, 8, 2, 12, 11, 6, 3, 6, 3, 1, 10, 5, 2, 1, 1, 6, 6, 2, 4, 10, 9, 6, 6, 6, 14, 8, 2, 5, 7, 11, 5, 13, 17, 17, 5, 14, 3, 5, 12, 8, 12, 8, 2, 2, 8, 5, 11, 6, 1, 9, 8, 8, 2, 1, 5, 12, 4, 5, 1, 4, 3, 7, 7, 2, 6, 6, 3, 1, 3, 23, 2, 7, 2, 3, 4, 9, 12, 3, 4, 7, 5, 2, 11, 4, 5, 8, 17, 2, 5, 2, 3, 1, 1, 3, 16, 4, 11, 3, 7, 9, 9, 12, 13, 10, 3, 9, 10, 3, 7, 5, 10, 5, 3, 12, 6, 3, 5, 1, 3, 5, 3, 5, 4, 14, 5, 7, 6, 8, 5, 6, 3, 9, 3, 2, 6, 4, 3, 4, 11, 4, 3, 2, 2, 3, 10, 18, 5, 11, 11, 6, 3, 5, 12, 5, 11, 2, 2, 5, 3, 19, 4, 1, 2, 13, 1, 2, 3, 6, 2, 4, 2, 11, 7, 3, 4, 12, 7, 1, 12, 9, 4, 4, 2, 4, 2, 4, 4, 2, 7, 12, 5, 2, 1, 12, 1, 13, 10, 16, 1, 1, 3, 1, 3, 6, 11, 6, 4, 2, 3, 5, 8, 1, 4, 12, 5, 4, 4, 10, 18, 2, 5, 2, 17, 14, 14, 6, 6, 11, 9, 14, 3, 1, 15, 5, 6, 7, 13, 2, 7, 3, 8, 2, 3, 11, 4, 4, 3, 15, 1, 6, 6, 5, 7, 6, 8, 10, 1, 19, 2, 7, 2, 4, 4, 3, 6, 7, 1, 5, 10, 2, 6, 12, 3, 2, 8, 4, 5, 15, 1, 2, 17, 2, 13, 3, 8, 4, 3, 7, 8, 6, 8, 10, 6, 3, 14, 2, 10, 7, 2, 8, 2, 12, 6, 8, 8, 5, 2, 6, 7, 8, 8, 4, 4, 7, 3, 8, 5, 5, 4, 5, 9, 2, 8, 6, 3, 2, 2, 5, 7, 17, 14, 1, 9, 3, 2, 26, 9, 6, 9, 7, 2, 2, 15, 4, 10, 8, 4, 5, 5, 4, 7, 5, 8, 5, 10, 6, 7, 11, 4, 3, 5, 7, 3, 16, 7, 7, 10, 5, 1, 7, 7, 7, 7, 4, 2, 15, 4, 1, 2, 11, 1, 1, 4, 11, 7, 5, 12, 10, 4, 6, 4, 4, 4, 4, 2, 7, 13, 10, 6, 5, 6, 3, 2, 7, 6, 4, 2, 2, 9, 2, 8, 3, 15, 14, 2, 4, 6, 8, 6, 21, 2, 7, 10, 3, 7, 3, 1, 7, 8, 14, 23, 4, 6, 8, 3, 1, 6, 5, 6, 1, 2, 1, 3, 7, 4, 6, 4, 3, 9, 4, 12, 4, 10, 3, 3, 3, 2, 6, 1, 6, 3, 2, 2, 3, 3, 8, 6, 4, 12, 2, 2, 5, 1, 5, 14, 13, 3, 12, 4, 2, 14, 8, 6, 6, 5, 6, 5, 6, 3, 7, 8, 11, 2, 4, 3, 11, 4, 3, 14, 8, 2, 5, 3, 4, 3, 11, 2, 4, 9, 12, 1, 2, 4, 14, 2, 6, 6, 3, 3, 7, 2, 8, 8, 3, 10, 3, 2, 9, 14, 2, 9, 10, 7, 4, 8, 1, 2, 1, 12, 3, 15, 4, 4, 6, 2, 4, 8, 4, 10, 9, 7, 6, 2, 7, 1, 10, 4, 4, 5, 3, 2, 6, 4, 9, 1, 17, 5, 11, 7, 6, 2, 14, 7, 8, 10, 5, 19, 1, 8, 8, 5, 2, 8, 6, 8, 8, 11, 5, 1, 6, 10, 2, 5, 4, 10, 5, 5, 11, 5, 6, 6, 7, 3, 8, 7, 3, 13, 5, 5, 5, 12, 13, 1, 1, 5, 6, 7, 6, 5, 4, 3, 3, 15, 3, 2, 12, 6, 10, 3, 8, 13, 5, 14, 4, 5, 8, 3, 6, 4, 5, 4, 9, 5, 2, 8, 2, 4, 11, 10, 7, 4, 18, 8, 16, 10, 6, 9, 8, 6, 3, 1, 4, 9, 3, 1, 2, 9, 11, 5, 1, 3, 2, 15, 17, 2, 3, 4, 5, 5, 8, 8, 6, 5, 7, 8, 9, 3, 4, 3, 3, 5, 10, 2, 5, 6, 10, 9, 2, 5, 6, 5, 2, 10, 5, 3, 7, 3, 4, 5, 11, 6, 8, 10, 9, 2, 11, 11, 4, 6, 14, 15, 2, 3, 13, 4, 1, 6, 2, 7, 2, 5, 1, 7, 4, 8, 10, 6, 4, 6, 6, 3, 2, 3, 1, 15, 2, 4, 4, 3, 4, 9, 16, 2, 11, 12, 12, 5, 6, 11, 6, 5, 15, 3, 4, 5, 3, 7, 1, 3, 9, 8, 5, 8, 4, 6, 4, 9, 13, 5, 2, 9, 13, 5, 7, 4, 7, 5, 14, 4, 1, 9, 6, 4, 9, 7, 4, 13, 6, 3, 4, 6, 4, 10, 6, 11, 8, 5, 4, 5, 18, 4, 7, 8, 2, 15, 3, 5, 7, 11, 3, 9, 5, 7, 5, 6, 3, 2, 3, 6, 8, 5, 5, 4, 3, 4, 23, 7, 8, 5, 6, 7, 11, 3, 9, 5, 5, 7, 2, 11, 2, 8, 13, 15, 5, 12, 5, 6, 3, 10, 8, 11, 7, 4, 1, 7, 3, 2, 3, 13, 10, 9, 4, 7, 7, 2, 6, 3, 7, 4, 9, 7, 2, 2, 3, 12, 8, 9, 4, 9, 2, 4, 5, 8, 6, 9, 8, 3, 9, 5, 3, 7, 3, 3, 11, 4, 4, 12, 6, 12, 4, 4, 10, 7, 6, 10, 4, 2, 5, 6, 10, 7, 15, 10, 5, 1, 2, 5, 6, 7, 8, 4, 1, 8, 12, 7, 6, 1, 6, 4, 15, 2, 12, 12, 7, 3, 10, 3, 14, 8, 5, 3, 9, 4, 6, 5, 4, 9, 2, 12, 8, 1, 3, 4, 7, 5, 21, 4, 4, 6, 2, 6, 6, 5, 4, 4, 8, 4, 4, 7, 9, 4, 2, 6, 7, 8, 4, 8, 5, 7, 11, 1, 14, 5, 3, 4, 7, 2, 8, 15, 6, 6, 6, 10, 5, 2, 7, 5, 13, 21, 6, 7, 4, 8, 4, 7, 2, 4, 12, 4, 1, 3, 6, 1, 5, 5, 6, 6, 2, 4, 2, 3, 3, 16, 14, 6, 8, 9, 12, 6, 4, 2, 10, 6, 9, 8, 7, 3, 10, 4, 9, 8, 5, 7, 3, 5, 7, 3, 18, 6, 5, 7, 1, 2, 9, 1, 7, 3, 3, 3, 7, 6, 7, 5, 4, 6, 8, 10, 1, 7, 7, 1, 5, 2, 25, 7, 3, 12, 2, 8, 23, 3, 12, 2, 6, 5, 17, 20, 4, 13, 9, 11, 5, 8, 4, 3, 11, 11, 9, 3, 7, 10, 7, 4, 5, 8, 7, 9, 2, 4, 2, 4, 1, 5, 7, 3, 4, 12, 4, 7, 9, 11, 4, 8, 6, 6, 5, 5, 5, 1, 5, 15, 8, 5, 8, 10, 11, 11, 4, 18, 1, 3, 2, 6, 9, 10, 11, 1, 2, 4, 2, 12, 7, 11, 12, 10, 7, 10, 9, 9, 9, 7, 13, 17, 8, 14, 9, 8, 3, 4, 5, 3, 4, 10, 4, 19, 5, 9, 3, 2, 5, 5, 11, 11, 4, 13, 13, 2, 9, 5, 9, 5, 9, 4, 6, 5, 3, 2, 5, 4, 10, 2, 8, 9, 4, 9, 4, 1, 4, 12, 5, 7, 4, 9, 4, 2, 5, 8, 4, 3, 4, 3, 8, 2, 3, 2, 8, 4, 7, 4, 8, 9, 5, 12, 5, 5, 4, 10, 6, 5, 10, 8, 7, 2, 2, 6, 2, 5, 13, 15, 1, 16, 15, 2, 8, 2, 12, 9, 6, 6, 5, 6, 5, 8, 3, 6, 1, 6, 10, 7, 7, 6, 2, 2, 3, 4, 16, 6, 9, 9, 1, 11, 4, 2, 5, 11, 2, 4, 6, 11, 20, 12, 2, 12, 1, 2, 10, 12, 2, 2, 2, 5, 7, 4, 3, 5, 1, 16, 19, 3, 1, 16, 14, 2, 9, 5, 5, 6, 6, 9, 8, 9, 5, 5, 5, 5, 4, 5, 3, 1, 4, 1, 1, 1, 8, 7, 4, 5, 5, 6, 2, 4, 6, 11, 6, 2, 9, 11, 7, 5, 1, 5, 2, 17, 2, 2, 9, 9, 14, 12, 8, 9, 1, 4, 2, 3, 4, 4, 6, 1, 5, 14, 9, 9, 7, 5, 5, 6, 2, 1, 6, 9, 4, 5, 10, 9, 5, 5, 10, 10, 5, 6, 5, 4, 4, 3, 21, 3, 5, 4, 15, 3, 9, 3, 10, 6, 8, 8, 3, 4, 5, 8, 3, 8, 5, 6, 4, 3, 15, 6, 5, 2, 11, 2, 8, 1, 4, 3, 2, 5, 3, 4, 4, 9, 3, 10, 8, 11, 5, 3, 2, 6, 9, 6, 1, 5, 14, 5, 6, 5, 2, 2, 11, 5, 7, 3, 5, 6, 4, 4, 9, 3, 18, 9, 5, 4, 4, 5, 7, 3, 8, 21, 1, 7, 3, 8, 3, 4, 11, 12, 9, 3, 7, 5, 6, 3, 7, 3, 14, 7, 9, 4, 3, 4, 16, 5, 8, 11, 5, 9, 10, 6, 4, 6, 17, 7, 6, 6, 4, 3, 1, 2, 14, 4, 3, 10, 5, 8, 5, 3, 6, 6, 9, 6, 20, 9, 4, 3, 14, 4, 12, 4, 5, 12, 7, 4, 9, 6, 5, 6, 11, 16, 3, 8, 5, 11, 3, 5, 3, 7, 7, 4, 7, 6, 4, 7, 3, 4, 7, 10, 1, 4, 17, 5, 7, 6, 2, 2, 8, 8, 7, 9, 8, 4, 7, 10, 7, 8, 9, 7, 4, 8, 6, 4, 6, 5, 4, 11, 4, 12, 2, 3, 13, 14, 2, 4, 8, 7, 5, 7, 8, 5, 6, 5, 12, 3, 8, 10, 17, 5, 2, 2, 2, 13, 2, 11, 5, 3, 7, 7, 3, 5, 7, 1, 4, 2, 1, 7, 7, 11, 3, 11, 6, 3, 3, 6, 1, 7, 6, 2, 7, 4, 10, 12, 6, 3, 4, 12, 14, 4, 4, 12, 2, 3, 9, 1, 9, 3, 2, 6, 2, 3, 6, 3, 2, 17, 12, 4, 13, 24, 14, 8, 8, 11, 7, 11, 5, 15, 9, 9, 6, 4, 5, 3, 4, 6, 4, 8, 6, 6, 3, 4, 5, 10, 9, 5, 12, 5, 15, 5, 3, 11, 3, 9, 9, 3, 9, 7, 3, 7, 9, 9, 3, 5, 5, 6, 6, 2, 6, 2, 11, 1, 7, 6, 6, 2, 7, 4, 10, 4, 7, 2, 7, 9, 4, 15, 10, 3, 5, 1, 13, 9, 13, 9, 13, 10, 5, 3, 9, 3, 10, 5, 1, 5, 3, 7, 9, 10, 5, 7, 6, 6, 7, 3, 3, 6, 7, 2, 6, 5, 17, 6, 8, 6, 6, 6, 5, 6, 6, 4, 5, 9, 5, 17, 4, 2, 1, 23, 19, 9, 18, 1, 11, 5, 7, 7, 5, 9, 4, 11, 6, 2, 6, 6, 7, 6, 4, 4, 6, 2, 10, 5, 5, 4, 10, 4, 6, 10, 4, 3, 8, 8, 4, 10, 2, 8, 7, 9, 8, 5, 15, 6, 10, 10, 5, 6, 2, 7, 4, 5, 7, 4, 9, 8, 4, 14, 10, 1, 15, 16, 4, 7, 4, 7, 11, 2, 9, 7, 4, 6, 2, 5, 6, 6, 5, 4, 8, 8, 4, 2, 4, 4, 8, 3, 11, 12, 3, 8, 3, 3, 11, 4, 10, 2, 7, 4, 4, 3, 8, 5, 5, 7, 18, 1, 7, 18, 5, 7, 4, 8, 4, 5, 6, 3, 3, 3, 3, 3, 7, 2, 5, 5, 8, 4, 6, 5, 4, 4, 7, 7, 7, 6, 2, 5, 8, 6, 7, 4, 9, 9, 5, 7, 16, 2, 4, 9, 7, 9, 8, 9, 6, 8, 11, 11, 3, 11, 6, 8, 25, 6, 6, 11, 4, 9, 11, 7, 5, 7, 13, 3, 7, 7, 7, 6, 6, 4, 2, 11, 12, 5, 8, 2, 2, 5, 3, 9, 4, 14, 14, 2, 1, 21, 4, 12, 11, 9, 5, 9, 5, 6, 3, 8, 8, 6, 5, 5, 7, 6, 10, 24, 5, 2, 8, 5, 8, 3, 5, 5, 3, 1, 9, 7, 5, 6, 5, 11, 4, 7, 1, 7, 5, 11, 12, 5, 2, 5, 8, 4, 1, 5, 3, 3, 15, 3, 10, 13, 11, 6, 3, 8, 3, 4, 2, 5, 6, 1, 15, 6, 15, 14, 8, 7, 6, 14, 5, 3, 4, 14, 3, 8, 3, 6, 3, 7, 4, 4, 6, 4, 9, 4, 11, 10, 5, 5, 4, 6, 9, 2, 7, 4, 3, 3, 2, 3, 3, 1, 2, 13, 5, 4, 8, 5, 1, 4, 5, 11, 10, 3, 5, 11, 12, 10, 11, 2, 6, 6, 2, 3, 11, 6, 15, 15, 11, 9, 3, 5, 3, 9, 2, 3, 19, 4, 2, 4, 12, 4, 3, 7, 3, 5, 12, 6, 2, 4, 10, 6, 2, 6, 5, 13, 23, 1, 1, 7, 10, 4, 16, 3, 5, 8, 12, 7, 4, 7, 15, 13, 3, 11, 5, 9, 14, 7, 11, 2, 4, 8, 2, 4, 4, 5, 15, 3, 13, 4, 10, 7, 2, 3, 8, 7, 5, 5, 7, 3, 4, 7, 11, 8, 17, 3, 21, 3, 5, 4, 9, 9, 3, 15, 14, 6, 3, 4, 12, 4, 11, 3, 3, 3, 6, 10, 4, 1, 4, 10, 4, 2, 8, 8, 7, 5, 5, 2, 17, 8, 2, 4, 5, 3, 3, 4, 10, 2, 13, 6, 3, 3, 4, 1, 15, 5, 6, 8, 3, 3, 6, 8, 4, 5, 12, 5, 17, 3, 4, 9, 5, 3, 7, 18, 10, 4, 1, 4, 7, 8, 7, 7, 10, 1, 1, 4, 8, 6, 5, 8, 11, 10, 3, 14, 9, 9, 7, 5, 5, 9, 13, 12, 5, 21, 5, 3, 4, 3, 5, 10, 2, 3, 7, 10, 5, 3, 3, 6, 5, 16, 12, 15, 12, 9, 3, 2, 9, 1, 15, 1, 8, 5, 8, 11, 7, 4, 1, 11, 7, 8, 17, 7, 5, 11, 3, 3, 14, 5, 3, 3, 6, 11, 6, 6, 20, 3, 9, 2, 6, 6, 7, 22, 6, 2, 9, 5, 4, 5, 3, 5, 9, 4, 19, 5, 3, 5, 5, 10, 10, 4, 5, 3, 13, 4, 3, 14, 2, 10, 1, 7, 26, 7, 2, 7, 5, 1, 8, 7, 6, 5, 2, 5, 8, 3, 15, 18, 5, 8, 8, 4, 12, 5, 5, 9, 3, 4, 4, 1, 9, 9, 7, 3, 12, 4, 6, 6, 8, 6, 9, 3, 5, 3, 2, 3, 4, 3, 5, 6, 5, 6, 5, 8, 5, 3, 8, 4, 12, 10, 9, 8, 9, 2, 20, 2, 16, 18, 2, 7, 3, 6, 11, 5, 9, 9, 8, 11, 5, 6, 5, 4, 6, 11, 5, 5, 10, 12, 3, 4, 10, 12, 9, 18, 5, 1, 10, 2, 4, 10, 9, 5, 4, 4, 4, 6, 5, 6, 7, 8, 3, 8, 4, 7, 5, 14, 2, 10, 7, 20, 4, 12, 5, 3, 3, 1, 24, 18, 11, 7, 4, 2, 7, 3, 19, 12, 5, 5, 4, 9, 3, 2, 3, 4, 5, 7, 9, 3, 4, 4, 6, 7, 7, 8, 10, 21, 4, 4, 5, 3, 6, 7, 24, 4, 5, 6, 1, 2, 7, 4, 9, 6, 7, 6, 10, 4, 8, 5, 7, 3, 18, 1, 3, 3, 1, 6, 10, 5, 3, 7, 8, 7, 11, 3, 11, 6, 8, 3, 6, 6, 1, 15, 14, 8, 12, 3, 2, 4, 1, 4, 6, 4, 12, 5, 8, 10, 4, 15, 7, 9, 5, 8, 3, 11, 1, 15, 2, 5, 28, 8, 20, 23, 3, 2, 3, 4, 4, 9, 4, 5, 4, 2, 8, 2, 5, 5, 5, 4, 5, 15, 5, 11, 14, 4, 5, 5, 11, 3, 4, 6, 6, 11, 4, 7, 3, 10, 5, 3, 6, 3, 2, 3, 1, 14, 1, 10, 5, 2, 4, 7, 3, 7, 11, 7, 9, 2, 4, 8, 5, 7, 3, 8, 7, 16, 4, 4, 7, 3, 2, 10, 4, 3, 14, 14, 8, 16, 4, 2, 11, 12, 4, 15, 8, 13, 4, 4, 7, 1, 9, 7, 7, 6, 20, 16, 10, 7, 2, 5, 6, 13, 1, 5, 8, 8, 4, 6, 4, 3, 7, 8, 5, 6, 4, 6, 1, 5, 8, 1, 10, 4, 2, 6, 11, 9, 26, 2, 8, 11, 3, 3, 5, 20, 9, 1, 3, 2, 2, 5, 6, 6, 6, 7, 9, 13, 5, 5, 10, 6, 6, 4, 9, 11, 7, 5, 4, 7, 6, 2, 1, 4, 3, 10, 3, 5, 8, 2, 7, 10, 8, 2, 12, 2, 2, 2, 3, 2, 6, 1, 9, 13, 5, 2, 3, 7, 4, 6, 5, 12, 5, 4, 2, 11, 34, 10, 14, 8, 4, 7, 10, 8, 9, 6, 7, 2, 6, 2, 2, 5, 11, 5, 15, 9, 2, 3, 4, 5, 12, 5, 10, 8, 8, 4, 3, 2, 6, 4, 9, 5, 8, 10, 11, 1, 8, 6, 3, 3, 9, 5, 4, 5, 3, 10, 8, 2, 6, 4, 6, 5, 6, 9, 6, 4, 4, 4, 8, 2, 4, 6, 6, 8, 9, 1, 4, 14, 1, 9, 3, 4, 3, 3, 10, 4, 6, 11, 8, 7, 4, 10, 3, 7, 2, 9, 6, 7, 5, 5, 6, 19, 5, 2, 3, 12, 10, 3, 4, 4, 7, 8, 11, 3, 2, 8, 7, 9, 11, 2, 3, 1, 2, 6, 11, 3, 4, 3, 3, 9, 11, 5, 4, 6, 4, 6, 7, 6, 2, 4, 10, 2, 11, 6, 5, 9, 6, 5, 7, 5, 1, 7, 5, 3, 3, 13, 8, 9, 9, 3, 11, 7, 6, 9, 4, 4, 6, 7, 4, 12, 6, 24, 3, 14, 8, 2, 7, 6, 7, 7, 2, 3, 10, 2, 20, 3, 4, 10, 7, 3, 9, 7, 2, 5, 2, 12, 1, 2, 8, 6, 5, 9, 10, 7, 3, 11, 3, 19, 5, 11, 13, 1, 2, 15, 2, 3, 4, 12, 11, 10, 6, 5, 3, 3, 8, 2, 7, 8, 9, 5, 12, 8, 3, 2, 3, 2, 5, 7, 1, 3, 12, 2, 4, 10, 7, 3, 12, 6, 4, 15, 1, 5, 2, 2, 3, 9, 6, 4, 6, 4, 4, 5, 3, 1, 3, 12, 4, 8, 7, 5, 5, 4, 2, 4, 4, 3, 9, 9, 6, 5, 11, 4, 4, 6, 7, 2, 5, 20, 10, 7, 5, 3, 5, 12, 3, 2, 5, 4, 1, 5, 7, 1, 3, 5, 7, 8, 4, 16, 4, 6, 11, 5, 2, 4, 1, 18, 9, 3, 10, 5, 8, 9, 6, 7, 4, 8, 11, 8, 7, 6, 8, 5, 3, 6, 6, 5, 4, 1, 2, 7, 9, 2, 5, 4, 8, 3, 5, 9, 7, 4, 6, 8, 2, 9, 5, 5, 7, 14, 2, 2, 4, 11, 8, 4, 6, 9, 10, 1, 4, 6, 11, 8, 2, 3, 10, 8, 5, 8, 4, 3, 3, 5, 2, 1, 4, 5, 5, 3, 2, 1, 4, 8, 3, 3, 1, 2, 3, 6, 3, 2, 1, 9, 8, 2, 2, 6, 6, 2, 7, 5, 2, 5, 2, 5, 4, 2, 2, 5, 3, 7, 7, 1, 4, 1, 2, 1, 2, 2, 1, 1, 4, 5, 6, 1, 8, 1, 4, 7, 5, 11, 2, 2, 2, 1, 5, 2, 2, 2, 5, 8, 4, 2, 1, 1, 9, 3, 10, 2, 2, 2, 1, 5, 2, 2, 4, 2, 1, 3, 8, 2, 5, 7, 7, 2, 3, 5, 4, 4, 12, 1, 3, 4, 5, 6, 9, 1, 5, 5, 4, 3, 3, 3, 4, 1, 3, 2, 5, 4, 3, 7, 5, 3, 2, 4, 1, 1, 3, 2, 2, 6, 5, 2, 2, 2, 7, 3, 6, 3, 3, 6, 12, 5, 4, 1, 6, 4, 4, 4, 10, 7, 3, 2, 1, 14, 15, 1, 10, 8, 3, 3, 2, 2, 2, 5, 11, 6, 5, 6, 7, 3, 2, 5, 9, 9, 1, 3, 6, 4, 7, 9, 4, 2, 3, 2, 7, 5, 3, 6, 5, 1, 2, 1, 9, 4, 8, 2, 7, 4, 2, 7, 9, 5, 3, 2, 10, 1, 2, 3, 1, 2, 4, 9, 1, 8, 3, 6, 4, 1, 2, 2, 3, 1, 7, 6, 4, 1, 6, 1, 4, 4, 8, 3, 4, 3, 3, 3, 6, 7, 5, 8, 3, 1, 5, 3, 4, 6, 14, 6, 3, 6, 6, 3, 2, 1, 1, 3, 2, 7, 3, 3, 7, 3, 3, 1, 2, 6, 6, 6, 6, 4, 9, 2, 2, 1, 3, 5, 8, 1, 7, 7, 1, 6, 3, 1, 1, 8, 2, 2, 1, 4, 3, 3, 4, 2, 4, 2, 8, 11, 3, 4, 3, 12, 3, 6, 11, 12, 2, 1, 3, 5, 5, 5, 1, 7, 1, 5, 2, 1, 11, 2, 2, 2, 7, 13, 3, 5, 3, 4, 3, 4, 4, 2, 4, 1, 8, 5, 5, 4, 4, 2, 5, 6, 2, 10, 4, 1, 2, 5, 4, 5, 2, 7, 2, 3, 6, 1, 4, 2, 7, 4, 2, 1, 7, 2, 3, 4, 3, 1, 3, 5, 2, 5, 4, 9, 12, 7, 2, 6, 7, 4, 8, 6, 4, 6, 4, 11, 4, 1, 2, 1, 4, 4, 1, 7, 5, 9, 3, 4, 3, 3, 12, 7, 2, 4, 6, 3, 6, 1, 2, 7, 4, 4, 5, 4, 1, 2, 1, 6, 7, 3, 4, 1, 2, 8, 4, 4, 6, 4, 8, 13, 3, 1, 2, 5, 2, 9, 2, 4, 5, 3, 1, 7, 1, 7, 2, 2, 2, 1, 1, 1, 3, 3, 3, 4, 3, 5, 2, 4, 4, 10, 1, 6, 2, 4, 7, 5, 7, 2, 3, 10, 5, 4, 4, 8, 3, 13, 6, 4, 3, 3, 5, 5, 4, 4, 7, 3, 7, 1, 4, 1, 4, 3, 1, 2, 12, 3, 4, 3, 1, 5, 1, 3, 7, 2, 4, 2, 2, 9, 1, 4, 2, 1, 5, 5, 3, 4, 9, 1, 6, 4, 2, 1, 3, 1, 4, 6, 3, 3, 3, 3, 6, 7, 2, 10, 5, 4, 2, 2, 5, 1, 1, 1, 1, 5, 1, 4, 5, 6, 6, 5, 3, 5, 1, 10, 2, 1, 7, 5, 8, 10, 2, 1, 3, 1, 2, 2, 6, 3, 1, 9, 14, 3, 1, 8, 8, 5, 2, 13, 5, 4, 5, 3, 11, 2, 6, 6, 8, 8, 3, 1, 2, 1, 5, 4, 1, 2, 1, 1, 3, 1, 9, 15, 2, 3, 2, 12, 4, 5, 2, 2, 9, 5, 6, 7, 6, 3, 3, 1, 2, 1, 3, 5, 3, 2, 6, 3, 5, 3, 2, 2, 4, 1, 3, 4, 8, 4, 1, 1, 4, 6, 5, 2, 3, 4, 5, 4, 2, 4, 6, 2, 4, 10, 3, 5, 1, 3, 8, 3, 4, 3, 2, 3, 6, 1, 1, 1, 1, 2, 2, 2, 2, 1, 6, 4, 3, 2, 1, 1, 5, 4, 8, 2, 5, 4, 1, 2, 3, 10, 6, 2, 4, 3, 5, 2, 1, 8, 3, 1, 5, 5, 5, 6, 5, 5, 4, 6, 3, 9, 3, 3, 2, 15, 8, 3, 4, 7, 6, 1, 6, 4, 3, 4, 2, 4, 4, 3, 6, 2, 4, 7, 5, 1, 2, 3, 3, 1, 8, 2, 1, 4, 9, 3, 4, 1, 4, 4, 3, 3, 4, 3, 13, 8, 6, 4, 1, 4, 1, 5, 4, 4, 2, 3, 6, 5, 1, 3, 11, 8, 10, 6, 5, 1, 2, 8, 2, 6, 6, 8, 3, 2, 1, 6, 10, 2, 7, 2, 4, 4, 4, 4, 3, 5, 5, 2, 3, 4, 5, 2, 3, 3, 6, 6, 2, 1, 6, 1, 8, 1, 5, 3, 3, 2, 2, 1, 1, 1, 3, 4, 7, 7, 1, 6, 5, 2, 2, 3, 4, 1, 6, 2, 7, 1, 8, 4, 5, 2, 2, 3, 2, 4, 6, 1, 4, 3, 1, 5, 3, 5, 2, 3, 4, 1, 3, 5, 4, 4, 7, 1, 2, 3, 7, 12, 2, 2, 1, 4, 7, 4, 18, 1, 1, 12, 1, 1, 3, 1, 5, 1, 1, 3, 2, 1, 3, 7, 3, 7, 4, 8, 2, 2, 2, 5, 6, 5, 2, 7, 4, 5, 1, 2, 4, 3, 2, 4, 3, 6, 2, 2, 4, 1, 4, 4, 5, 1, 5, 5, 2, 2, 4, 1, 3, 1, 5, 3, 3, 3, 2, 2, 1, 3, 2, 2, 3, 3, 1, 3, 3, 2, 13, 7, 3, 9, 3, 5, 4, 2, 3, 1, 2, 1, 2, 5, 2, 10, 2, 8, 7, 6, 2, 8, 3, 7, 8, 4, 4, 2, 5, 8, 8, 5, 3, 12, 6, 5, 2, 6, 9, 4, 5, 4, 1, 2, 8, 2, 5, 3, 4, 3, 3, 3, 4, 4, 3, 2, 5, 2, 5, 4, 6, 3, 6, 3, 4, 2, 4, 8, 1, 12, 4, 6, 7, 7, 2, 2, 8, 3, 3, 1, 3, 5, 5, 7, 5, 3, 2, 3, 7, 2, 7, 4, 3, 8, 3, 5, 12, 2, 4, 5, 3, 2, 5, 5, 4, 6, 4, 8, 6, 5, 4, 14, 2, 3, 4, 4, 1, 4, 6, 2, 5, 5, 5, 6, 3, 1, 6, 12, 8, 8, 2, 2, 2, 3, 2, 7, 2, 11, 9, 2, 3, 3, 4, 4, 6, 2, 4, 4, 4, 1, 5, 4, 2, 7, 8, 5, 9, 6, 14, 2, 4, 2, 1, 2, 8, 3, 1, 3, 1, 4, 3, 8, 2, 4, 5, 6, 1, 4, 3, 3, 5, 4, 4, 1, 5, 3, 6, 8, 5, 6, 4, 4, 3, 3, 2, 1, 5, 1, 3, 2, 7, 6, 6, 3, 4, 4, 2, 7, 3, 3, 4, 8, 6, 6, 1, 6, 6, 3, 2, 4, 3, 1, 7, 1, 14, 3, 6, 2, 2, 12, 6, 4, 12, 7, 3, 1, 4, 12, 14, 7, 4, 6, 2, 2, 2, 5, 1, 8, 12, 3, 4, 10, 2, 4, 2, 2, 4, 10, 2, 4, 7, 7, 2, 1, 5, 7, 1, 3, 3, 1, 6, 5, 2, 3, 1, 2, 1, 4, 6, 2, 14, 2, 8, 5, 16, 7, 14, 7, 3, 4, 5, 3, 2, 4, 2, 6, 5, 3, 3, 1, 3, 2, 2, 1, 3, 4, 6, 3, 6, 4, 3, 3, 2, 1, 4, 1, 3, 3, 1, 6, 8, 2, 4, 4, 4, 6, 4, 5, 4, 3, 2, 5, 2, 2, 7, 3, 1, 3, 1, 4, 12, 3, 7, 2, 2, 3, 2, 5, 6, 2, 3, 6, 5, 5, 5, 5, 6, 7, 2, 2, 5, 1, 1, 10, 5, 3, 4, 1, 8, 5, 4, 2, 7, 4, 14, 1, 10, 1, 2, 1, 7, 1, 4, 4, 3, 5, 5, 4, 3, 8, 2, 13, 2, 2, 10, 3, 1, 6, 6, 6, 2, 4, 1, 4, 10, 9, 7, 5, 4, 1, 1, 4, 4, 1, 7, 1, 5, 3, 1, 7, 5, 3, 6, 5, 3, 4, 5, 1, 5, 2, 4, 9, 1, 3, 3, 5, 1, 1, 3, 2, 4, 6, 2, 3, 6, 3, 1, 1, 2, 1, 2, 1, 1, 3, 3, 2, 1, 1, 2, 5, 5, 8, 3, 7, 1, 4, 5, 2, 1, 2, 1, 9, 3, 2, 1, 2, 5, 4, 11, 5, 1, 3, 14, 1, 2, 3, 2, 4, 3, 3, 5, 6, 2, 1, 4, 4, 6, 1, 4, 2, 2, 5, 3, 5, 2, 4, 3, 6, 1, 2, 4, 2, 2, 16, 1, 1, 2, 4, 2, 6, 1, 4, 4, 2, 2, 4, 1, 6, 3, 2, 4, 2, 4, 1, 1, 3, 3, 2, 2, 3, 2, 4, 5, 6, 6, 2, 4, 3, 6, 4, 4, 1, 10, 2, 2, 9, 2, 5, 1, 14, 4, 3, 9, 9, 4, 2, 6, 11, 1, 6, 4, 2, 2, 4, 4, 3, 11, 1, 3, 3, 3, 1, 5, 6, 1, 6, 2, 2, 4, 5, 2, 3, 4, 4, 1, 1, 7, 4, 7, 6, 5, 5, 3, 9, 3, 1, 1, 8, 3, 3, 2, 3, 3, 5, 5, 10, 5, 6, 2, 9, 5, 3, 1, 3, 6, 9, 3, 5, 3, 11, 3, 3, 1, 4, 10, 4, 4, 3, 6, 5, 1, 2, 1, 2, 1, 6, 4, 4, 3, 5, 1, 2, 2, 4, 6, 2, 5, 3, 2, 3, 1, 6, 15, 5, 5, 7, 2, 7, 8, 3, 2, 2, 3, 5, 2, 9, 6, 10, 6, 2, 1, 3, 1, 4, 3, 4, 2, 5, 16, 2, 4, 5, 2, 1, 2, 1, 1, 3, 5, 3, 4, 6, 2, 2, 2, 3, 2, 4, 5, 3, 5, 5, 6, 3, 3, 3, 5, 3, 7, 5, 7, 3, 2, 4, 9, 2, 1, 11, 14, 6, 3, 1, 4, 8, 11, 3, 2, 2, 4, 8, 1, 4, 10, 2, 3, 5, 2, 4, 6, 1, 4, 2, 4, 7, 6, 10, 5, 3, 3, 4, 7, 2, 3, 3, 3, 5, 6, 1, 2, 2, 6, 2, 5, 4, 1, 4, 3, 1, 4, 8, 4, 1, 1, 1, 2, 2, 1, 11, 3, 6, 5, 3, 3, 7, 3, 7, 3, 5, 5, 2, 2, 7, 5, 3, 8, 2, 4, 2, 7, 8, 1, 4, 4, 3, 6, 6, 3, 6, 2, 4, 1, 1, 3, 2, 4, 2, 8, 1, 7, 5, 2, 4, 6, 5, 4, 1, 3, 4, 4, 3, 5, 5, 3, 6, 6, 3, 7, 2, 6, 7, 2, 1, 7, 7, 2, 4, 4, 5, 6, 1, 2, 4, 3, 2, 3, 3, 6, 7, 5, 2, 1, 3, 1, 1, 3, 4, 6, 7, 2, 5, 4, 6, 2, 1, 3, 10, 2, 1, 6, 1, 7, 8, 6, 2, 3, 5, 3, 3, 4, 14, 3, 8, 3, 5, 5, 1, 2, 6, 4, 2, 3, 2, 4, 2, 4, 4, 1, 2, 1, 8, 1, 3, 1, 2, 3, 4, 7, 6, 5, 5, 6, 4, 5, 5, 4, 5, 4, 5, 5, 2, 2, 9, 2, 1, 2, 4, 5, 5, 1, 3, 1, 3, 4, 2, 3, 4, 2, 6, 3, 4, 7, 6, 4, 8, 8, 4, 5, 7, 1, 2, 2, 6, 3, 5, 7, 1, 11, 2, 3, 2, 4, 4, 3, 5, 2, 4, 10, 11, 5, 3, 8, 3, 1, 5, 3, 1, 1, 6, 14, 7, 5, 1, 2, 2, 4, 3, 1, 4, 2, 4, 4, 12, 3, 7, 6, 2, 4, 1, 2, 5, 4, 2, 1, 3, 5, 8, 1, 6, 6, 3, 2, 3, 5, 1, 7, 2, 3, 3, 3, 3, 1, 7, 10, 3, 2, 1, 4, 7, 2, 2, 4, 2, 3, 4, 1, 5, 7, 3, 4, 3, 7, 8, 2, 8, 3, 1, 7, 13, 3, 2, 2, 2, 3, 7, 3, 6, 8, 5, 5, 1, 6, 3, 4, 4, 7, 6, 6, 7, 3, 3, 2, 4, 4, 6, 7, 2, 4, 2, 2, 2, 1, 1, 8, 1, 3, 3, 5, 7, 11, 2, 2, 6, 3, 11, 5, 1, 2, 2, 5, 6, 4, 10, 1, 6, 9, 4, 5, 2, 3, 1, 4, 5, 6, 2, 1, 3, 4, 5, 3, 9, 3, 3, 11, 1, 4, 9, 5, 4, 2, 5, 1, 3, 1, 2, 1, 11, 2, 2, 8, 4, 6, 4, 3, 3, 1, 3, 5, 4, 5, 4, 1, 1, 4, 4, 1, 7, 5, 6, 3, 5, 5, 1, 2, 3, 3, 1, 8, 2, 7, 2, 7, 9, 5, 2, 4, 7, 5, 4, 3, 1, 1, 2, 2, 4, 6, 6, 1, 1, 1, 2, 4, 7, 2, 2, 2, 4, 5, 8, 7, 4, 1, 2, 4, 3, 14, 2, 3, 3, 6, 1, 3, 4, 2, 3, 9, 7, 6, 2, 3, 4, 4, 8, 3, 3, 5, 1, 2, 5, 3, 3, 4, 3, 3, 1, 7, 6, 3, 7, 3, 3, 11, 1, 2, 7, 1, 4, 3, 3, 2, 1, 2, 5, 4, 4, 9, 6, 6, 8, 7, 1, 4, 5, 1, 1, 2, 3, 8, 6, 1, 5, 4, 2, 2, 2, 3, 4, 3, 4, 7, 6, 1, 3, 3, 8, 2, 5, 2, 5, 2, 2, 9, 2, 1, 2, 4, 2, 5, 4, 2, 6, 3, 8, 2, 1, 3, 4, 1, 5, 1, 1, 2, 3, 1, 2, 4, 1, 3, 1, 2, 4, 1, 3, 6, 1, 8, 7, 5, 2, 9, 5, 1, 12, 4, 1, 7, 3, 8, 11, 6, 1, 3, 3, 4, 3, 7, 4, 3, 1, 2, 4, 3, 3, 2, 5, 1, 4, 3, 2, 5, 6, 2, 6, 7, 4, 3, 1, 4, 2, 3, 4, 4, 5, 1, 4, 1, 5, 3, 6, 3, 6, 3, 5, 4, 3, 10, 10, 3, 1, 4, 2, 4, 2, 5, 2, 5, 2, 5, 5, 4, 4, 3, 4, 2, 2, 5, 1, 8, 2, 4, 3, 4, 3, 3, 6, 2, 5, 7, 1, 4, 4, 1, 9, 6, 1, 1, 3, 5, 1, 2, 2, 3, 3, 4, 3, 6, 5, 3, 5, 1, 10, 1, 2, 2, 3, 4, 2, 3, 1, 3, 3, 1, 1, 2, 2, 4, 3, 3, 7, 5, 5, 4, 4, 4, 5, 2, 2, 5, 2, 6, 4, 5, 6, 1, 5, 1, 5, 2, 1, 1, 6, 3, 1, 4, 3, 4, 4, 5, 3, 6, 1, 3, 1, 3, 4, 5, 2, 10, 3, 3, 2, 11, 4, 6, 12, 5, 10, 11, 2, 2, 2, 1, 3, 4, 3, 1, 1, 7, 2, 3, 6, 3, 3, 1, 4, 10, 5, 4, 2, 4, 14, 1, 3, 1, 1, 2, 6, 1, 3, 5, 8, 1, 7, 1, 1, 3, 4, 1, 4, 1, 1, 8, 2, 3, 6, 2, 3, 2, 5, 5, 3, 4, 4, 3, 4, 2, 1, 2, 11, 1, 7, 2, 3, 5, 2, 1, 3, 8, 4, 5, 3, 1, 5, 2, 5, 1, 3, 10, 2, 6, 3, 4, 11, 2, 1, 1, 14, 1, 9, 2, 3, 1, 2, 2, 1, 9, 3, 2, 2, 5, 2, 3, 7, 1, 5, 4, 7, 4, 4, 2, 2, 3, 3, 4, 2, 2, 6, 1, 6, 8, 2, 2, 3, 4, 2, 3, 2, 4, 1, 6, 3, 2, 4, 11, 1, 4, 5, 7, 5, 1, 1, 3, 4, 5, 3, 4, 3, 4, 2, 6, 1, 2, 3, 5, 2, 2, 3, 2, 10, 1, 3, 3, 1, 5, 1, 6, 5, 1, 2, 6, 4, 7, 3, 5, 9, 5, 4, 5, 2, 4, 9, 4, 7, 8, 2, 1, 2, 2, 1, 3, 8, 5, 1, 3, 3, 3, 5, 3, 2, 1, 8, 2, 7, 2, 3, 5, 4, 3, 3, 8, 12, 1, 5, 3, 1, 14, 3, 6, 6, 2, 2, 4, 2, 1, 7, 6, 4, 3, 5, 2, 2, 2, 1, 4, 1, 5, 8, 10, 2, 6, 2, 3, 3, 5, 2, 1, 8, 4, 3, 2, 5, 1, 12, 10, 8, 2, 3, 4, 1, 3, 5, 5, 3, 4, 5, 1, 4, 13, 1, 5, 4, 6, 5, 4, 2, 1, 8, 3, 3, 1, 6, 6, 3, 5, 20, 5, 4, 3, 9, 9, 1, 3, 1, 2, 3, 3, 3, 4, 5, 1, 6, 7, 4, 1, 5, 4, 2, 1, 2, 2, 1, 4, 6, 2, 10, 1, 6, 7, 4, 4, 4, 3, 4, 1, 5, 2, 6, 3, 1, 1, 7, 3, 1, 6, 4, 4, 3, 3, 2, 1, 3, 1, 4, 10, 14, 2, 4, 7, 3, 6, 5, 1, 6, 4, 9, 5, 2, 7, 6, 2, 2, 4, 2, 9, 4, 3, 1, 5, 2, 3, 2, 4, 3, 6, 4, 2, 2, 14, 1, 3, 3, 1, 6, 11, 1, 3, 4, 5, 4, 6, 2, 1, 4, 5, 1, 1, 2, 1, 1, 4, 5, 1, 1, 1, 8, 3, 12, 1, 4, 6, 8, 3, 3, 11, 4, 1, 1, 1, 6, 3, 4, 4, 3, 3, 3, 3, 5, 4, 3, 4, 4, 5, 5, 2, 2, 6, 4, 4, 4, 3, 3, 5, 2, 3, 7, 9, 5, 1, 8, 1, 4, 9, 2, 5, 3, 1, 4, 4, 2, 5, 5, 5, 6, 6, 10, 1, 3, 3, 7, 2, 5, 1, 2, 3, 2, 2, 4, 5, 3, 2, 3, 3, 3, 1, 4, 1, 1, 3, 1, 1, 2, 1, 1, 3, 4, 7, 5, 5, 3, 1, 3, 2, 3, 6, 8, 3, 1, 2, 12, 2, 3, 3, 2, 2, 4, 6, 1, 2, 1, 6, 4, 2, 10, 5, 7, 7, 3, 6, 1, 2, 2, 1, 3, 2, 4, 5, 9, 1, 3, 3, 1, 6, 4, 4, 1, 3, 3, 4, 5, 4, 3, 4, 4, 4, 1, 10, 3, 2, 4, 3, 3, 8, 4, 6, 1, 3, 1, 12, 9, 4, 1, 1, 5, 3, 2, 4, 3, 1, 4, 3, 2, 3, 2, 3, 3, 4, 4, 7, 2, 2, 3, 5, 5, 4, 3, 2, 3, 5, 2, 3, 1, 6, 3, 4, 6, 2, 4, 3, 2, 9, 6, 2, 1, 4, 3, 3, 1, 5, 8, 4, 3, 2, 11, 1, 4, 4, 1, 1, 8, 2, 5, 4, 3, 6, 3, 6, 8, 3, 8, 1, 5, 4, 2, 2, 6, 4, 1, 4, 5, 4, 7, 1, 3, 3, 3, 2, 2, 10, 4, 2, 1, 1, 6, 2, 1, 10, 1, 4, 7, 1, 1, 1, 3, 3, 2, 7, 1, 5, 3, 3, 8, 6, 5, 1, 2, 2, 2, 7, 2, 3, 7, 2, 7, 6, 1, 7, 2, 2, 3, 2, 5, 4, 4, 2, 4, 2, 3, 3, 1, 1, 7, 3, 7, 9, 5, 4, 3, 3, 3, 6, 5, 2, 1, 1, 14, 1, 5, 2, 1, 2, 2, 8, 7, 2, 1, 5, 2, 1, 2, 5, 3, 2, 4, 4, 2, 11, 3, 6, 10, 2, 2, 1, 3, 3, 2, 6, 4, 4, 1, 1, 6, 4, 3, 3, 2, 3, 1, 1, 4, 1, 3, 3, 1, 2, 3, 5, 6, 6, 7, 4, 2, 5, 3, 4, 7, 5, 7, 2, 14, 3, 1, 6, 5, 3, 3, 1, 6, 1, 2, 3, 2, 3, 5, 4, 3, 1, 5, 6, 5, 2, 2, 3, 5, 2, 5, 2, 1, 3, 2, 4, 11, 1, 3, 1, 2, 9, 3, 5, 5, 4, 3, 1, 2, 6, 4, 8, 2, 2, 4, 4, 3, 2, 11, 4, 4, 1, 3, 3, 4, 3, 3, 2, 5, 4, 2, 3, 7, 3, 5, 3, 3, 5, 3, 3, 3, 7, 9, 3, 7, 5, 5, 7, 4, 3, 2, 2, 6, 1, 4, 1, 1, 5, 1, 2, 5, 1, 2, 3, 2, 4, 2, 10, 4, 2, 4, 7, 1, 5, 4, 5, 1, 4, 5, 3, 5, 3, 6, 6, 15, 3, 6, 10, 3, 5, 1, 6, 5, 3, 2, 8, 1, 2, 1, 4, 3, 2, 4, 2, 6, 3, 5, 2, 5, 4, 5, 4, 1, 2, 2, 3, 4, 1, 7, 10, 3, 1, 7, 5, 8, 3, 4, 3, 2, 1, 1, 1, 7, 4, 4, 12, 7, 3, 7, 4, 2, 2, 2, 6, 6, 4, 2, 2, 4, 2, 3, 6, 4, 1, 1, 2, 3, 10, 1, 10, 3, 5, 3, 8, 1, 1, 4, 3, 2, 4, 5, 12, 2, 9, 3, 1, 6, 3, 2, 3, 5, 1, 3, 5, 5, 7, 5, 4, 8, 5, 6, 3, 6, 4, 3, 3, 9, 2, 4, 5, 5, 1, 2, 1, 5, 2, 5, 9, 2, 1, 6, 1, 1, 3, 2, 4, 9, 1, 3, 3, 5, 3, 1, 1, 6, 9, 4, 5, 4, 4, 2, 5, 6, 7, 4, 5, 3, 2, 7, 2, 5, 1, 4, 3, 3, 2, 4, 4, 2, 3, 1, 3, 1, 2, 2, 6, 3, 2, 4, 4, 3, 3, 6, 3, 3, 2, 3, 2, 3, 4, 1, 8, 4, 5, 4, 7, 3, 5, 5, 6, 3, 7, 2, 6, 4, 3, 7, 1, 1, 4, 1, 1, 1, 5, 1, 2, 6, 4, 7, 1, 3, 4, 3, 1, 2, 7, 4, 4, 4, 3, 8, 1, 1, 4, 2, 1, 6, 4, 4, 1, 3, 4, 3, 5, 8, 3, 5, 2, 3, 5, 2, 4, 8, 11, 5, 5, 1, 1, 2, 2, 1, 3, 6, 2, 2, 7, 2, 1, 1, 1, 3, 1, 1, 1, 3, 11, 7, 1, 2, 8, 1, 4, 2, 2, 7, 1, 2, 3, 2, 3, 8, 5, 2, 5, 4, 3, 1, 5, 2, 3, 4, 4, 4, 4, 3, 2, 4, 4, 3, 2, 6, 3, 1, 4, 7, 9, 3, 4, 5, 3, 5, 2, 4, 4, 3, 2, 3, 1, 2, 8, 3, 8, 8, 2, 8, 4, 4, 3, 3, 3, 2, 7, 4, 2, 4, 3, 4, 2, 2, 3, 5, 1, 3, 1, 8, 8, 10, 3, 3, 11, 1, 1, 2, 3, 8, 6, 3, 9, 6, 4, 2, 2, 2, 3, 5, 3, 7, 1, 5, 11, 3, 4, 4, 7, 2, 3, 6, 3, 2, 9, 2, 1, 3, 6, 2, 3, 9, 1, 4, 1, 4, 2, 2, 3, 3, 2, 3, 1, 2, 3, 3, 2, 6, 3, 2, 4, 3, 4, 2, 8, 5, 3, 1, 3, 5, 7, 1, 8, 4, 7, 4, 4, 10, 2, 2, 4, 3, 2, 7, 4, 5, 5, 1, 1, 1, 2, 2, 2, 7, 5, 2, 5, 8, 3, 2, 5, 4, 2, 8, 1, 2, 4, 1, 3, 3, 11, 4, 1, 9, 3, 2, 2, 6, 3, 10, 8, 2, 2, 3, 10, 5, 4, 2, 5, 2, 5, 3, 8, 7, 1, 4, 4, 3, 4, 6, 4, 7, 2, 4, 7, 2, 3, 9, 4, 2, 1, 6, 8, 9, 2, 3, 2, 6, 6, 5, 4, 3, 5, 2, 5, 8, 5, 3, 6, 10, 4, 9, 3, 3, 5, 8, 3, 4, 1, 4, 10, 6, 6, 4, 6, 2, 9, 2, 3, 2, 1, 7, 2, 3, 5, 8, 3, 5, 11, 2, 7, 6, 3, 1, 4, 7, 2, 5, 14, 4, 1, 1, 2, 1, 5, 10, 4, 2, 8, 3, 4, 1, 2, 4, 2, 6, 4, 4, 7, 3, 4, 5, 5, 8, 7, 3, 2, 3, 1, 3, 5, 4, 7, 2, 4, 5, 1, 2, 4, 1, 1, 6, 2, 4, 4, 6, 4, 12, 14, 4, 3, 4, 3, 5, 2, 4, 4, 4, 1, 1, 5, 1, 5, 7, 2, 1, 7, 1, 7, 2, 1, 2, 4, 2, 1, 1, 2, 10, 2, 9, 3, 5, 1, 4, 3, 4, 10, 2, 1, 10, 4, 1, 5, 1, 1, 4, 1, 3, 1, 3, 6, 2, 4, 3, 3, 2, 11, 1, 4, 4, 1, 4, 4, 1, 4, 11, 1, 3, 12, 4, 3, 5, 6, 3, 3, 3, 1, 6, 2, 10, 1, 5, 2, 7, 9, 2, 10, 5, 2, 1, 4, 7, 3, 2, 4, 2, 3, 3, 3, 4, 3, 4, 2, 6, 5, 2, 4, 1, 2, 5, 3, 4, 6, 1, 2, 6, 4, 3, 4, 3, 2, 11, 5, 2, 5, 6, 3, 2, 4, 4, 4, 3, 5, 5, 3, 1, 1, 2, 1, 4, 7, 2, 3, 6, 3, 3, 3, 1, 1, 5, 1, 2, 6, 3, 3, 9, 2, 9, 5, 6, 4, 1, 3, 1, 3, 6, 1, 2, 4, 2, 7, 2, 2, 2, 5, 1, 4, 1, 1, 3, 1, 10, 2, 1, 10, 1, 5, 5, 3, 8, 1, 2, 2, 2, 3, 9, 1, 2, 5, 3, 4, 1, 5, 4, 2, 5, 9, 5, 8, 4, 2, 3, 9, 3, 3, 3, 1, 3, 9, 2, 1, 6, 3, 6, 2, 4, 7, 4, 8, 6, 4, 4, 5, 4, 2, 5, 1, 2, 7, 2, 11, 1, 1, 1, 2, 6, 7, 3, 2, 3, 2, 2, 8, 4, 3, 5, 1, 1, 1, 5, 3, 1, 8, 3, 5, 8, 2, 4, 3, 3, 9, 4, 5, 6, 9, 8, 2, 1, 4, 1, 4, 6, 6, 4, 3, 2, 10, 5, 1, 5, 1, 1, 1, 4, 4, 9, 2, 5, 3, 4, 4, 1, 3, 2, 3, 5, 1, 4, 3, 5, 9, 1, 6, 2, 1, 8, 7, 3, 4, 1, 2, 2, 3, 4, 2, 4, 4, 6, 8, 11, 5, 4, 1, 2, 1, 1, 2, 3, 6, 2, 6, 3, 8, 1, 6, 1, 3, 4, 1, 1, 4, 2, 1, 5, 8, 4, 5, 3, 6, 1, 2, 3, 1, 1, 10, 4, 4, 2, 2, 2, 4, 5, 1, 3, 3, 6, 6, 3, 4, 4, 5, 1, 4, 4, 4, 1, 2, 5, 1, 5, 8, 1, 5, 1, 4, 2, 2, 1, 4, 2, 4, 4, 5, 1, 2, 4, 7, 5, 2, 5, 3, 5, 4, 3, 4, 4, 11, 5, 1, 3, 4, 10, 5, 4, 1, 5, 2, 2, 2, 4, 2, 4, 3, 7, 6, 5, 1, 4, 3, 2, 7, 3, 5, 3, 3, 3, 6, 4, 9, 1, 12, 12, 12, 6, 5, 3, 4, 5, 7, 3, 4, 1, 4, 4, 11, 1, 1, 1, 2, 3, 11, 6, 1, 2, 6, 4, 10, 3, 4, 5, 1, 9, 2, 2, 14, 2, 8, 2, 6, 5, 2, 4, 3, 6, 8, 3, 3, 1, 2, 3, 1, 1, 3, 4, 2, 3, 1, 6, 3, 3, 4, 5, 1, 8, 2, 3, 5, 3, 6, 8, 1, 3, 6, 2, 4, 4, 1, 1, 3, 4, 5, 4, 3, 1, 6, 4, 2, 2, 5, 4, 2, 4, 3, 4, 2, 5, 3, 2, 5, 3, 8, 2, 3, 1, 4, 6, 1, 4, 5, 4, 2, 4, 12, 6, 5, 1, 4, 4, 7, 1, 6, 4, 5, 11, 5, 5, 2, 9, 2, 4, 2, 4, 2, 2, 2, 4, 1, 1, 6, 6, 6, 1, 11, 1, 1, 11, 5, 5, 2, 2, 5, 3, 3, 2, 2, 3, 5, 3, 4, 2, 1, 3, 2, 5, 1, 2, 8, 4, 4, 3, 3, 4, 4, 6, 7, 5, 3, 2, 2, 2, 1, 2, 2, 2, 6, 7, 3, 4, 4, 5, 5, 4, 3, 3, 3, 5, 6, 3, 2, 4, 9, 1, 3, 4, 1, 3, 3, 2, 2, 5, 1, 4, 1, 2, 9, 1, 2, 1, 10, 7, 5, 1, 5, 1, 4, 4, 2, 1, 4, 3, 2, 1, 2, 3, 4, 6, 11, 3, 2, 1, 2, 7, 4, 3, 4, 2, 2, 5, 3, 8, 1, 2, 7, 3, 1, 5, 6, 2, 3, 4, 6, 3, 2, 1, 4, 4, 10, 3, 3, 6, 4, 4, 3, 1, 2, 5, 3, 2, 2, 8, 2, 7, 2, 4, 4, 11, 2, 5, 1, 2, 3, 1, 3, 4, 8, 2, 1, 3, 3, 3, 2, 1, 4, 7, 2, 4, 3, 4, 5, 2, 5, 2, 6, 2, 1, 2, 7, 4, 7, 2, 6, 3, 5, 4, 5, 5, 4, 7, 3, 7, 6, 4, 3, 5, 3, 9, 6, 9, 5, 8, 3, 13, 1, 3, 1, 4, 4, 4, 5, 3, 11, 2, 5, 1, 2, 2, 4, 4, 2, 7, 4, 3, 5, 5, 6, 3, 1, 4, 1, 7, 1, 4, 5, 1, 6, 6, 4, 4, 1, 5, 1, 2, 3, 1, 1, 4, 6, 6, 2, 4, 7, 7, 5, 6, 2, 3, 1, 1, 5, 3, 3, 2, 2, 1, 6, 1, 1, 9, 7, 2, 5, 4, 6, 4, 3, 6, 2, 4, 4, 1, 2, 1, 2, 6, 5, 7, 4, 6, 10, 6, 3, 4, 8, 2, 6, 5, 2, 3, 6, 7, 11, 5, 4, 1, 3, 12, 3, 12, 3, 1, 8, 4, 4, 9, 5, 1, 3, 1, 2, 2, 5, 3, 5, 3, 5, 8, 11, 5, 6, 6, 2, 2, 3, 4, 5, 6, 3, 4, 1, 3, 1, 5, 2, 3, 3, 3, 4, 2, 3, 3, 4, 1, 1, 4, 2, 1, 7, 1, 6, 4, 5, 2, 5, 7, 5, 3, 7, 2, 1, 3, 2, 1, 4, 8, 9, 3, 5, 4, 2, 6, 3, 3, 5, 6, 8, 5, 6, 6, 6, 4, 4, 6, 3, 6, 6, 5, 6, 7, 3, 3, 2, 8, 2, 2, 5, 3, 1, 1, 3, 2, 5, 3, 2, 1, 15, 7, 4, 7, 4, 5, 5, 4, 4, 3, 1, 2, 1, 2, 10, 1, 4, 1, 1, 2, 3, 6, 3, 4, 7, 2, 3, 2, 5, 7, 2, 3, 6, 1, 4, 4, 4, 3, 1, 4, 4, 12, 4, 4, 1, 1, 1, 1, 4, 1, 2, 4, 3, 8, 4, 3, 1, 1, 1, 2, 5, 5, 2, 3, 3, 1, 4, 6, 5, 1, 3, 4, 8, 7, 2, 3, 6, 8, 1, 4, 1, 2, 3, 1, 2, 1, 1, 1, 2, 2, 1, 2, 2, 2, 8, 9, 8, 6, 4, 5, 5, 5, 6, 2, 8, 7, 3, 6, 5, 5, 3, 2, 8, 2, 8, 7, 3, 6, 6, 1, 1, 3, 3, 5, 2, 8, 9, 10, 1, 3, 2, 3, 4, 2, 1, 12, 2, 11, 2, 3, 1, 5, 5, 3, 1, 2, 1, 5, 2, 1, 4, 4, 3, 3, 2, 14, 2, 2, 13, 5, 6, 4, 6, 5, 3, 4, 9, 1, 2, 10, 3, 2, 4, 2, 2, 5, 5, 3, 13, 1, 2, 2, 7, 2, 1, 1, 5, 2, 2, 2, 3, 2, 1, 4, 5, 8, 3, 2, 2, 3, 7, 1, 4, 2, 2, 3, 5, 4, 5, 5, 2, 8, 4, 4, 6, 5, 1, 1, 1, 10, 3, 4, 5, 3, 4, 4, 4, 1, 3, 3, 6, 2, 12, 3, 1, 3, 3, 6, 1, 4, 3, 2, 1, 4, 2, 1, 9, 1, 1, 7, 4, 4, 2, 1, 1, 2, 2, 4, 7, 3, 3, 3, 2, 1, 1, 6, 3, 2, 14, 4, 8, 5, 2, 1, 7, 3, 1, 2, 1, 3, 1, 1, 1, 2, 6, 5, 3, 5, 4, 2, 2, 7, 8, 1, 1, 3, 3, 11, 3, 4, 1, 1, 5, 9, 12, 3, 1, 3, 6, 6, 3, 2, 3, 3, 5, 1, 2, 8, 3, 6, 4, 7, 4, 3, 3, 3, 2, 5, 1, 2, 3, 10, 8, 2, 7, 6, 1, 6, 5, 5, 10, 3, 3, 2, 4, 4, 8, 1, 2, 1, 9, 5, 3, 7, 5, 3, 8, 5, 4, 3, 3, 3, 3, 2, 3, 4, 3, 2, 4, 3, 1, 4, 2, 1, 1, 2, 4, 1, 4, 3, 2, 2, 3, 2, 6, 3, 4, 3, 4, 3, 1, 3, 4, 4, 7, 1, 5, 2, 1, 1, 3, 3, 3, 11, 6, 8, 7, 5, 5, 3, 1, 5, 3, 6, 2, 2, 4, 5, 2, 1, 2, 8, 3, 2, 1, 3, 2, 6, 1, 2, 4, 5, 3, 3, 2, 5, 2, 5, 3, 3, 6, 1, 1, 3, 2, 4, 6, 3, 5, 2, 10, 1, 2, 1, 3, 8, 1, 1, 2, 5, 7, 5, 2, 4, 2, 3, 3, 5, 3, 2, 3, 1, 4, 4, 5, 2, 4, 2, 1, 4, 2, 2, 2, 3, 4, 5, 1, 4, 2, 4, 4, 6, 4, 3, 3, 1, 1, 1, 5, 1, 1, 2, 1, 1, 3, 5, 2, 1, 1, 1, 1, 5, 6, 2, 1, 1, 5, 2, 2, 1, 5, 1, 2, 5, 5, 4, 1, 5, 2, 1, 4, 5, 1, 4, 5, 1, 1, 1, 1, 1, 1, 2, 1, 3, 1, 3, 2, 1, 7, 1, 7, 1, 5, 3, 3, 4, 4, 1, 9, 4, 6, 5, 1, 2, 3, 4, 5, 7, 4, 6, 2, 4, 2, 5, 2, 4, 9, 3, 4, 6, 1, 2, 3, 2, 1, 1, 4, 2, 2, 3, 3, 5, 2, 2, 2, 4, 5, 1, 5, 6, 3, 6, 4, 6, 3, 4, 4, 10, 4, 4, 1, 1, 10, 2, 1, 2, 3, 5, 6, 2, 1, 3, 3, 5, 2, 7, 1, 3, 5, 3, 6, 5, 3, 5, 1, 4, 3, 5, 4, 2, 2, 4, 4, 2, 5, 11, 5, 7, 3, 2, 5, 5, 5, 3, 1, 3, 3, 3, 5, 2, 1, 7, 6, 4, 1, 13, 3, 3, 5, 2, 4, 3, 3, 1, 4, 1, 2, 1, 2, 1, 2, 2, 2, 2, 3, 1, 6, 2, 5, 4, 2, 3, 2, 5, 3, 1, 2, 3, 1, 3, 2, 3, 4, 7, 4, 6, 3, 10, 1, 3, 2, 2, 7, 2, 3, 3, 2, 2, 2, 1, 1, 5, 5, 8, 8, 1, 2, 2, 3, 2, 1, 4, 8, 3, 17, 1, 2, 3, 3, 2, 2, 1, 1, 4, 2, 4, 2, 1, 4, 4, 2, 4, 6, 1, 4, 2, 2, 4, 3, 2, 5, 3, 3, 2, 7, 2, 4, 3, 4, 2, 6, 2, 2, 4, 7, 2, 6, 2, 3, 1, 1, 1, 3, 4, 2, 3, 3, 2, 5, 1, 3, 3, 3, 3, 4, 3, 4, 5, 7, 2, 4, 5, 2, 1, 1, 6, 3, 1, 2, 1, 7, 2, 8, 7, 5, 6, 3, 6, 6, 5, 5, 1, 11, 3, 2, 2, 4, 2, 3, 2, 5, 1, 4, 1, 1, 3, 4, 5, 5, 1, 7, 2, 2, 11, 2, 4, 1, 7, 2, 5, 4, 2, 1, 4, 6, 9, 2, 5, 7, 3, 7, 1, 3, 3, 4, 1, 3, 9, 2, 2, 9, 4, 4, 7, 2, 1, 4, 5, 3, 2, 3, 4, 1, 3, 2, 1, 5, 3, 6, 5, 3, 1, 1, 3, 12, 3, 1, 4, 3, 4, 7, 2, 5, 2, 1, 6, 3, 2, 2, 4, 7, 2, 2, 3, 2, 1, 5, 3, 3, 9, 5, 3, 5, 5, 3, 3, 2, 8, 3, 3, 6, 5, 4, 3, 2, 4, 2, 4, 3, 2, 4, 5, 6, 1, 5, 9, 2, 1, 4, 1, 10, 6, 3, 2, 10, 2, 1, 4, 3, 9, 2, 1, 2, 3, 3, 2, 7, 7, 9, 4, 4, 5, 2, 5, 3, 9, 2, 5, 1, 3, 4, 3, 5, 6, 3, 5, 8, 7, 3, 1, 5, 6, 3, 3, 5, 5, 1, 8, 1, 3, 3, 4, 4, 6, 2, 7, 5, 5, 2, 2, 5, 7, 8, 9, 3, 3, 5, 4, 3, 8, 3, 4, 7, 1, 10, 2, 1, 9, 1, 1, 10, 9, 3, 4, 2, 4, 4, 10, 5, 3, 2, 6, 8, 6, 4, 3, 2, 3, 2, 4, 3, 2, 3, 5, 8, 1, 3, 5, 2, 12, 2, 4, 4, 4, 3, 3, 6, 1, 10, 4, 1, 3, 4, 6, 3, 12, 3, 5, 4, 4, 4, 3, 11, 4, 5, 4, 4, 8, 8, 5, 3, 1, 2, 2, 6, 6, 2, 7, 2, 1, 3, 11, 5, 4, 6, 5, 3, 3, 2, 2, 5, 3, 4, 2, 6, 2, 1, 2, 14, 4, 2, 3, 6, 4, 3, 6, 1, 3, 5, 3, 10, 1, 6, 6, 6, 7, 8, 3, 5, 9, 2, 5, 5, 3, 6, 2, 3, 1, 5, 3, 4, 2, 3, 12, 4, 4, 6, 9, 2, 3, 3, 3, 3, 6, 12, 7, 1, 2, 6, 4, 2, 4, 1, 1, 6, 3, 3, 3, 3, 2, 3, 2, 9, 3, 6, 8, 4, 7, 1, 11, 2, 3, 3, 10, 2, 5, 4, 3, 4, 3, 4, 3, 13, 3, 2, 3, 4, 1, 1, 2, 2, 2, 2, 1, 5, 2, 4, 1, 5, 3, 3, 4, 4, 7, 4, 2, 1, 7, 4, 3, 4, 2, 4, 4, 4, 8, 3, 5, 4, 2, 4, 1, 8, 3, 1, 6, 4, 1, 3, 7, 3, 3, 1, 10, 7, 3, 2, 6, 5, 4, 3, 1, 2, 2, 2, 2, 1, 8, 7, 3, 3, 5, 3, 1, 3, 1, 2, 1, 1, 3, 3, 7, 2, 1, 3, 2, 7, 3, 6, 2, 4, 3, 2, 7, 7, 1, 1, 5, 3, 3, 7, 2, 1, 4, 1, 2, 2, 4, 2, 4, 1, 1, 7, 5, 1, 5, 4, 3, 4, 1, 5, 3, 5, 2, 1, 4, 7, 5, 5, 6, 4, 4, 2, 3, 3, 3, 1, 3, 4, 6, 3, 6, 4, 6, 7, 4, 6, 2, 2, 1, 2, 3, 4, 5, 2, 2, 5, 3, 3, 4, 4, 2, 7, 2, 2, 2, 8, 5, 2, 2, 8, 2, 6, 6, 3, 3, 1, 8, 1, 5, 1, 4, 2, 4, 3, 2, 2, 1, 3, 2, 1, 4, 6, 4, 1, 6, 4, 2, 3, 3, 2, 1, 8, 5, 1, 5, 3, 5, 4, 2, 2, 3, 3, 6, 6, 5, 2, 3, 4, 8, 8, 2, 3, 4, 3, 4, 2, 1, 5, 3, 2, 3, 7, 3, 2, 2, 6, 3, 3, 2, 1, 5, 1, 2, 1, 2, 1, 7, 3, 2, 1, 4, 1, 1, 8, 3, 2, 6, 1, 1, 2, 6, 2, 8, 3, 7, 3, 7, 4, 2, 3, 4, 1, 2, 2, 2, 6, 5, 3, 2, 6, 2, 2, 5, 1, 3, 2, 4, 5, 7, 3, 12, 1, 4, 4, 2, 2, 1, 3, 1, 3, 4, 3, 2, 2, 12, 4, 6, 5, 7, 2, 3, 2, 4, 2, 2, 1, 9, 4, 3, 1, 7, 9, 2, 4, 2, 3, 5, 2, 3, 8, 2, 1, 2, 1, 2, 2, 2, 3, 5, 3, 7, 4, 2, 5, 2, 3, 7, 7, 2, 4, 5, 6, 1, 2, 3, 4, 1, 3, 4, 5, 2, 2, 4, 1, 1, 4, 3, 2, 2, 2, 2, 5, 2, 2, 1, 2, 6, 8, 2, 4, 5, 3, 4, 7, 7, 2, 4, 3, 3, 1, 3, 2, 3, 9, 1, 2, 2, 3, 10, 2, 4, 8, 3, 2, 6, 4, 5, 1, 10, 1, 4, 3, 10, 5, 6, 8, 2, 4, 3, 2, 1, 6, 4, 1, 1, 1, 1, 1, 6, 5, 9, 1, 6, 6, 3, 6, 3, 2, 1, 2, 1, 2, 6, 6, 3, 4, 4, 2, 2, 2, 2, 12, 5, 6, 1, 3, 4, 2, 5, 2, 3, 4, 2, 2, 6, 5, 4, 3, 4, 4, 3, 1, 1, 2, 3, 3, 2, 4, 5, 9, 2, 1, 3, 1, 2, 1, 2, 3, 6, 6, 2, 4, 2, 1, 3, 2, 2, 2, 4, 3, 1, 4, 1, 4, 4, 4, 6, 3, 2, 3, 3, 8, 4, 9, 8, 12, 2, 6, 8, 4, 1, 4, 2, 5, 3, 7, 2, 5, 5, 4, 6, 10, 2, 5, 2, 6, 4, 6, 1, 3, 3, 1, 1, 3, 3, 3, 5, 4, 1, 5, 3, 2, 13, 2, 2, 1, 4, 4, 3, 4, 5, 2, 2, 3, 4, 2, 8, 2, 3, 4, 3, 4, 1, 6, 4, 3, 3, 3, 3, 2, 2, 3, 5, 1, 1, 1, 3, 4, 6, 1, 5, 3, 5, 1, 1, 6, 1, 2, 2, 1, 11, 3, 14, 5, 3, 6, 5, 1, 3, 1, 6, 2, 3, 5, 8, 2, 3, 3, 5, 4, 6, 4, 5, 6, 2, 1, 4, 1, 3, 3, 2, 2, 4, 3, 1, 2, 2, 2, 1, 12, 1, 2, 2, 4, 5, 3, 5, 4, 2, 2, 5, 3, 2, 5, 5, 2, 1, 6, 3, 6, 4, 2, 1, 4, 5, 2, 4, 1, 1, 9, 2, 2, 2, 2, 6, 5, 1, 13, 3, 7, 1, 1, 4, 7, 3, 3, 6, 3, 4, 2, 3, 8, 3, 1, 2, 2, 1, 6, 1, 3, 5, 3, 3, 1, 5, 3, 4, 5, 3, 3, 6, 4, 5, 2, 2, 3, 2, 1, 4, 4, 6, 3, 3, 4, 1, 8, 2, 4, 1, 4, 2, 3, 2, 5, 3, 1, 5, 2, 1, 2, 9, 1, 6, 6, 2, 1, 3, 1, 2, 3, 1, 2, 3, 1, 2, 6, 2, 3, 1, 2, 5, 4, 3, 2, 1, 4, 2, 3, 6, 5, 7, 4, 2, 2, 10, 2, 3, 1, 3, 2, 1, 7, 2, 1, 2, 7, 2, 6, 3, 1, 2, 1, 1, 5, 2, 3, 6, 2, 4, 1, 2, 2, 3, 3, 5, 5, 4, 5, 11, 2, 5, 5, 2, 3, 4, 3, 7, 4, 3, 4, 2, 3, 5, 4, 5, 5, 2, 3, 2, 4, 3, 2, 4, 4, 2, 2, 5, 1, 1, 2, 2, 2, 7, 2, 3, 2, 8, 3, 5, 3, 2, 3, 3, 4, 1, 3, 1, 4, 3, 6, 9, 6, 6, 3, 4, 4, 4, 4, 3, 1, 6, 5, 3, 2, 1, 4, 1, 1, 3, 15, 1, 7, 4, 1, 2, 13, 1, 4, 3, 3, 6, 4, 3, 3, 5, 7, 5, 10, 8, 2, 4, 3, 5, 4, 4, 6, 6, 1, 2, 4, 1, 3, 1, 7, 4, 6, 4, 3, 7, 2, 2, 7, 7, 5, 4, 2, 5, 4, 1, 1, 8, 3, 2, 1, 4, 2, 3, 4, 2, 1, 4, 7, 6, 1, 3, 7, 1, 2, 3, 7, 4, 4, 1, 2, 6, 4, 5, 2, 1, 3, 3, 2, 1, 3, 1, 5, 2, 4, 1, 1, 1, 2, 2, 5, 3, 1, 2, 7, 1, 7, 1, 2, 7, 5, 1, 5, 3, 1, 3, 3, 4, 1, 3, 6, 4, 2, 3, 10, 5, 5, 4, 2, 1, 13, 5, 4, 3, 4, 5, 4, 1, 3, 6, 3, 2, 4, 3, 4, 2, 3, 5, 3, 1, 1, 2, 2, 7, 3, 4, 3, 3, 1, 2, 4, 2, 1, 1, 2, 1, 11, 5, 1, 2, 3, 2, 1, 3, 4, 5, 1, 5, 3, 1, 4, 5, 5, 3, 5, 1, 2, 1, 1, 3, 6, 5, 2, 2, 5, 3, 4, 1, 1, 1, 1, 2, 2, 3, 3, 7, 1, 2, 2, 1, 4, 6, 5, 6, 2, 3, 4, 6, 6, 1, 3, 1, 2, 2, 2, 1, 3, 1, 1, 5, 2, 4, 2, 4, 4, 4, 2, 2, 3, 6, 6, 2, 4, 5, 10, 4, 3, 6, 3, 5, 2, 3, 9, 2, 2, 2, 3, 2, 2, 2, 7, 1, 1, 1, 8, 6, 7, 3, 3, 3, 1, 7, 7, 6, 1, 5, 8, 4, 5, 1, 3, 4, 3, 1, 2, 6, 5, 7, 5, 1, 4, 3, 2, 7, 2, 3, 3, 5, 5, 4, 4, 3, 5, 2, 4, 3, 2, 2, 1, 8, 1, 1, 7, 1, 3, 7, 4, 3, 8, 5, 3, 2, 1, 3, 2, 4, 1, 3, 2, 3, 1, 5, 5, 8, 2, 5, 4, 5, 2, 2, 1, 4, 3, 8, 3, 7, 6, 5, 4, 2, 2, 1, 2, 5, 1, 3, 3, 3, 1, 7, 3, 1, 2, 2, 5, 6, 2, 1, 3, 2, 2, 2, 2, 6, 2, 4, 7, 1, 1, 5, 5, 2, 1, 8, 1, 1, 4, 5, 3, 2, 4, 5, 2, 1, 2, 2, 3, 4, 1, 8, 3, 2, 3, 2, 1, 1, 2, 6, 1, 4, 1, 2, 3, 5, 3, 5, 6, 7, 2, 3, 1, 1, 1, 3, 5, 1, 2, 3, 3, 4, 5, 4, 1, 5, 5, 4, 14, 2, 8, 4, 9, 7, 6, 5, 5, 3, 5, 8, 1, 2, 5, 1, 7, 1, 3, 1, 5, 1, 4, 4, 2, 1, 4, 7, 1, 5, 3, 6, 1, 1, 8, 4, 3, 1, 2, 4, 5, 6, 3, 2, 3, 3, 2, 1, 6, 4, 5, 6, 3, 1, 1, 4, 1, 4, 5, 3, 3, 4, 3, 1, 2, 2, 3, 1, 11, 11, 2, 8, 2, 6, 1, 4, 10, 5, 3, 3, 1, 2, 2, 11, 1, 1, 6, 4, 3, 1, 3, 4, 3, 2, 6, 5, 3, 1, 2, 2, 1, 1, 6, 8, 1, 5, 2, 1, 8, 7, 4, 4, 10, 2, 6, 2, 2, 1, 1, 3, 2, 4, 2, 5, 1, 7, 7, 4, 2, 1, 5, 9, 5, 4, 7, 6, 4, 4, 4, 2, 3, 6, 3, 4, 6, 1, 7, 3, 5, 11, 3, 4, 4, 4, 6, 4, 2, 2, 2, 3, 3, 1, 2, 5, 6, 4, 3, 2, 4, 4, 1, 4, 2, 1, 2, 6, 1, 1, 2, 1, 4, 4, 3, 6, 5, 4, 1, 7, 3, 1, 3, 6, 4, 2, 5, 2, 6, 4, 5, 2, 5, 2, 1, 6, 4, 6, 5, 2, 1, 4, 4, 10, 1, 1, 2, 12, 3, 2, 5, 1, 4, 5, 2, 4, 3, 5, 5, 5, 2, 12, 4, 7, 2, 2, 8, 2, 2, 2, 6, 1, 3, 1, 2, 13, 2, 2, 4, 8, 2, 1, 2, 2, 5, 7, 9, 1, 1, 7, 5, 3, 2, 5, 1, 3, 1, 2, 4, 1, 1, 2, 8, 4, 4, 7, 2, 4, 4, 4, 2, 1, 3, 2, 8, 5, 1, 3, 5, 3, 2, 5, 2, 5, 1, 2, 3, 1, 2, 4, 2, 3, 2, 5, 3, 1, 2, 5, 1, 2, 4, 5, 1, 4, 6, 2, 9, 2, 8, 3, 2, 3, 3, 1, 13, 1, 1, 3, 2, 3, 3, 3, 4, 4, 3, 6, 3, 2, 2, 3, 3, 4, 3, 3, 6, 4, 4, 2, 4, 2, 4, 2, 5, 4, 4, 4, 1, 4, 1, 3, 1, 1, 7, 5, 5, 9, 5, 3, 1, 3, 1, 3, 4, 2, 5, 9, 3, 4, 4, 2, 3, 1, 5, 5, 3, 1, 7, 5, 1, 4, 4, 4, 12, 1, 5, 4, 2, 5, 1, 9, 6, 7, 5, 3, 5, 4, 2, 5, 5, 1, 3, 4, 3, 6, 6, 1, 4, 2, 4, 2, 3, 4, 8, 12, 3, 7, 4, 4, 7, 3, 7, 7, 2, 6, 3, 3, 5, 4, 3, 3, 2, 7, 4, 2, 1, 4, 7, 4, 2, 1, 1, 4, 4, 3, 3, 1, 2, 8, 2, 5, 4, 2, 6, 1, 4, 4, 2, 2, 1, 5, 2, 4, 6, 4, 4, 1, 6, 6, 9, 3, 1, 6, 2, 4, 1, 9, 2, 3, 5, 1, 5, 3, 1, 4, 1, 3, 1, 1, 3, 4, 3, 3, 2, 1, 3, 4, 5, 4, 6, 2, 5, 4, 5, 4, 8, 5, 4, 1, 7, 4, 3, 3, 1, 2, 7, 1, 6, 4, 7, 5, 6, 8, 4, 2, 3, 8, 2, 2, 2, 1, 3, 4, 12, 5, 2, 2, 6, 1, 3, 3, 2, 3, 1, 3, 3, 1, 5, 2, 5, 3, 4, 3, 8, 1, 7, 6, 2, 3, 1, 2, 1, 3, 2, 5, 3, 1, 3, 5, 4, 4, 1, 5, 4, 3, 1, 2, 3, 6, 1, 4, 2, 4, 3, 1, 8, 2, 6, 7, 7, 1, 8, 1, 1, 1, 3, 4, 1, 3, 2, 3, 4, 4, 7, 2, 2, 1, 5, 8, 2, 4, 2, 2, 1, 2, 1, 8, 4, 3, 1, 3, 6, 1, 3, 2, 1, 1, 8, 1, 1, 3, 3, 5, 2, 5, 5, 3, 2, 9, 4, 4, 3, 5, 4, 4, 2, 4, 4, 2, 5, 3, 1, 1, 1, 2, 3, 2, 5, 2, 2, 6, 4, 2, 3, 3, 2, 2, 2, 5, 10, 2, 3, 2, 2, 7, 7, 4, 6, 2, 1, 3, 7, 4, 4, 9, 6, 2, 1, 4, 6, 5, 2, 3, 12, 2, 3, 2, 10, 1, 2, 1, 3, 2, 8, 5, 12, 3, 2, 3, 3, 1, 2, 1, 4, 1, 7, 6, 12, 2, 3, 1, 9, 9, 5, 1, 7, 6, 4, 7, 3, 10, 5, 3, 2, 3, 3, 2, 2, 8, 3, 3, 4, 5, 1, 2, 4, 3, 3, 3, 6, 4, 4, 11, 3, 1, 1, 2, 4, 6, 3, 5, 5, 5, 5, 5, 6, 1, 3, 5, 4, 4, 2, 7, 2, 5, 9, 2, 2, 1, 6, 3, 1, 6, 7, 2, 2, 2, 3, 2, 5, 3, 4, 7, 5, 8, 3, 4, 2, 1, 5, 2, 5, 4, 3, 1, 2, 1, 2, 2, 1, 6, 3, 4, 4, 1, 7, 2, 1, 1, 3, 1, 11, 4, 4, 4, 2, 1, 8, 1, 5, 2, 1, 7, 2, 5, 4, 3, 4, 3, 5, 4, 1, 6, 4, 9, 3, 10, 2, 4, 5, 8, 6, 3, 2, 3, 3, 3, 5, 2, 1, 5, 1, 1, 3, 4, 3, 4, 4, 2, 2, 7, 7, 2, 4, 6, 3, 6, 3, 1, 2, 2, 4, 4, 8, 4, 1, 3, 2, 2, 1, 1, 2, 3, 6, 7, 1, 4, 3, 3, 4, 4, 5, 5, 1, 5, 5, 6, 5, 2, 2, 2, 3, 6, 4, 6, 1, 6, 3, 1, 1, 6, 3, 1, 6, 3, 1, 1, 2, 3, 1, 3, 2, 10, 1, 5, 5, 4, 7, 8, 10, 3, 1, 4, 3, 1, 3, 2, 3, 3, 6, 4, 4, 3, 6, 5, 2, 13, 3, 5, 4, 8, 3, 2, 2, 5, 3, 2, 3, 5, 4, 2, 6, 2, 6, 3, 13, 1, 1, 3, 6, 6, 1, 5, 5, 2, 2, 3, 2, 1, 3, 2, 7, 1, 1, 4, 5, 3, 2, 5, 7, 3, 6, 3, 9, 1, 3, 1, 2, 2, 4, 4, 4, 1, 2, 3, 6, 3, 5, 7, 2, 2, 7, 2, 3, 1, 2, 1, 4, 1, 2, 6, 6, 8, 3, 5, 1, 3, 1, 11, 1, 3, 2, 2, 3, 1, 3, 3, 4, 5, 6, 3, 9, 6, 5, 5, 8, 7, 1, 4, 6, 5, 1, 1, 7, 4, 5, 3, 4, 1, 5, 3, 3, 4, 5, 1, 5, 2, 1, 5, 3, 3, 7, 3, 3, 3, 2, 1, 3, 4, 2, 3, 2, 7, 8, 8, 2, 1, 4, 2, 1, 7, 5, 1, 1, 1, 9, 1, 6, 4, 4, 2, 5, 5, 8, 8, 2, 3, 3, 3, 6, 4, 4, 3, 3, 2, 3, 1, 3, 1, 7, 5, 5, 3, 15, 6, 2, 2, 1, 1, 3, 6, 5, 11, 7, 2, 3, 2, 5, 7, 2, 6, 6, 3, 8, 4, 6, 5, 5, 12, 2, 2, 1, 2, 3, 5, 3, 4, 2, 2, 8, 2, 2, 5, 9, 7, 4, 3, 2, 1, 2, 1, 5, 6, 1, 2, 8, 3, 3, 2, 3, 5, 7, 4, 8, 3, 8, 2, 4, 3, 3, 7, 3, 1, 3, 2, 4, 6, 6, 2, 2, 6, 4, 8, 4, 3, 3, 6, 3, 4, 4, 12, 1, 5, 1, 5, 8, 3, 5, 9, 2, 5, 2, 6, 5, 1, 2, 2, 1, 1, 1, 5, 5, 4, 4, 5, 5, 2, 1, 3, 3, 1, 5, 5, 7, 3, 2, 9, 1, 3, 8, 2, 3, 6, 3, 3, 4, 3, 2, 3, 1, 10, 4, 4, 5, 2, 2, 1, 3, 5, 6, 5, 2, 2, 2, 1, 3, 3, 5, 5, 2, 2, 2, 3, 5, 3, 2, 3, 2, 2, 6, 1, 3, 6, 7, 5, 4, 4, 5, 4, 5, 5, 4, 2, 4, 3, 3, 3, 3, 6, 1, 4, 8, 2, 4, 4, 5, 2, 3, 1, 3, 1, 14, 3, 1, 3, 1, 4, 1, 3, 1, 5, 2, 2, 9, 1, 8, 5, 6, 2, 1, 5, 1, 6, 6, 6, 2, 11, 3, 2, 8, 6, 1, 1, 4, 8, 10, 4, 7, 7, 6, 2, 1, 2, 2, 6, 4, 4, 13, 5, 2, 5, 7, 4, 2, 5, 2, 2, 5, 4, 6, 1, 2, 4, 2, 4, 1, 1, 1, 1, 1, 4, 6, 1, 2, 3, 2, 3, 5, 8, 3, 2, 7, 2, 5, 4, 2, 2, 5, 10, 1, 3, 3, 1, 1, 2, 2, 3, 6, 3, 2, 1, 8, 4, 6, 2, 1, 4, 1, 8, 3, 12, 2, 2, 6, 2, 5, 1, 2, 1, 2, 4, 6, 1, 11, 2, 3, 5, 2, 2, 5, 1, 4, 6, 2, 2, 4, 5, 1, 3, 2, 3, 1, 6, 13, 8, 4, 6, 1, 4, 4, 1, 4, 2, 7, 3, 5, 1, 7, 4, 2, 5, 2, 7, 4, 4, 5, 8, 3, 3, 13, 3, 6, 6, 4, 5, 3, 5, 5, 7, 3, 1, 5, 3, 1, 4, 2, 5, 4, 4, 3, 4, 1, 13, 1, 3, 4, 4, 6, 5, 3, 3, 2, 2, 2, 4, 3, 4, 2, 1, 1, 1, 3, 4, 5, 2, 1, 1, 4, 7, 1, 11, 1, 7, 9, 2, 2, 2, 12, 5, 3, 4, 4, 1, 5, 3, 3, 4, 7, 3, 7, 1, 4, 5, 4, 4, 2, 5, 3, 1, 2, 3, 5, 3, 1, 3, 2, 1, 4, 3, 3, 1, 1, 1, 1, 1, 2, 5, 3, 6, 4, 4, 4, 3, 6, 1, 4, 3, 4, 4, 8, 2, 8, 4, 3, 1, 4, 3, 2, 5, 2, 2, 5, 1, 1, 3, 1, 3, 3, 13, 1, 3, 2, 4, 3, 4, 5, 6, 2, 12, 2, 6, 1, 6, 4, 4, 2, 9, 8, 2, 2, 3, 1, 2, 4, 2, 3, 4, 3, 2, 5, 6, 4, 5, 3, 9, 5, 4, 2, 1, 4, 5, 3, 1, 8, 1, 5, 3, 2, 16, 11, 7, 2, 4, 7, 4, 3, 2, 1, 3, 5, 1, 8, 1, 4, 3, 3, 2, 3, 6, 4, 3, 3, 3, 6, 3, 7, 1, 4, 7, 2, 1, 1, 4, 9, 4, 6, 4, 3, 8, 3, 4, 5, 9, 3, 7, 3, 5, 1, 3, 1, 2, 1, 3, 3, 4, 4, 2, 5, 4, 5, 2, 2, 5, 5, 2, 4, 2, 6, 2, 3, 6, 1, 4, 5, 1, 2, 6, 1, 9, 2, 5, 4, 1, 6, 1, 3, 5, 8, 1, 7, 5, 7, 6, 1, 3, 2, 1, 4, 8, 3, 4, 7, 3, 4, 9, 4, 6, 3, 9, 2, 2, 2, 3, 4, 6, 7, 5, 3, 5, 3, 3, 2, 1, 1, 2, 5, 3, 3, 2, 1, 3, 5, 4, 12, 7, 8, 1, 3, 2, 1, 7, 8, 4, 3, 4, 4, 3, 11, 1, 3, 7, 2, 2, 9, 3, 3, 3, 2, 1, 1, 1, 1, 1, 3, 1, 3, 5, 2, 3, 2, 2, 6, 3, 1, 1, 5, 1, 5, 1, 4, 1, 4, 1, 1, 6, 3, 4, 2, 5, 8, 7, 2, 3, 3, 4, 2, 8, 6, 5, 3, 2, 3, 4, 1, 1, 3, 5, 3, 1, 8, 8, 3, 2, 16, 8, 3, 4, 2, 8, 1, 5, 2, 2, 2, 4, 7, 2, 4, 3, 2, 1, 5, 2, 1, 3, 2, 3, 6, 6, 3, 3, 5, 5, 3, 5, 5, 2, 4, 5, 2, 2, 2, 4, 1, 6, 1, 6, 1, 5, 4, 3, 7, 3, 4, 2, 1, 4, 2, 6, 5, 7, 1, 5, 2, 2, 1, 4, 2, 3, 3, 5, 2, 4, 7, 1, 12, 10, 4, 2, 6, 1, 4, 3, 3, 3, 5, 2, 1, 3, 1, 9, 1, 6, 4, 1, 9, 4, 7, 3, 2, 2, 1, 1, 1, 1, 4, 5, 1, 10, 8, 5, 2, 3, 1, 12, 3, 2, 4, 6, 1, 3, 3, 2, 2, 5, 7, 3, 1, 2, 8, 4, 7, 3, 2, 3, 2, 4, 2, 4, 3, 2, 1, 3, 9, 2, 6, 3, 4, 10, 6, 3, 3, 5, 3, 2, 5, 2, 2, 1, 14, 8, 5, 2, 5, 2, 3, 1, 1, 1, 14, 3, 6, 3, 3, 6, 2, 9, 2, 5, 5, 4, 8, 1, 2, 2, 8, 2, 1, 4, 2, 5, 2, 4, 2, 2, 3, 2, 4, 1, 2, 4, 2, 1, 2, 5, 2, 5, 4, 4, 1, 1, 4, 11, 1, 3, 3, 1, 4, 4, 1, 3, 10, 2, 2, 14, 2, 9, 1, 1, 6, 5, 4, 3, 3, 4, 1, 4, 1, 2, 1, 3, 5, 2, 3, 2, 3, 2, 6, 5, 6, 6, 3, 3, 6, 10, 1, 2, 4, 5, 5, 5, 3, 3, 5, 1, 3, 8, 2, 1, 1, 4, 3, 3, 8, 5, 2, 5, 5, 4, 2, 2, 3, 1, 4, 1, 12, 4, 4, 1, 5, 6, 2, 2, 3, 3, 2, 1, 1, 1, 1, 2, 4, 1, 1, 3, 6, 4, 1, 3, 4, 5, 4, 6, 6, 4, 2, 3, 3, 4, 4, 3, 4, 2, 3, 4, 1, 6, 1, 3, 4, 4, 6, 8, 9, 3, 9, 4, 1, 4, 1, 3, 4, 4, 7, 2, 3, 5, 3, 1, 3, 2, 2, 5, 5, 6, 6, 3, 5, 3, 1, 2, 4, 7, 5, 5, 1, 5, 1, 3, 10, 5, 1, 2, 7, 6, 3, 4, 8, 2, 5, 2, 3, 14, 3, 4, 8, 2, 3, 8, 1, 2, 4, 5, 4, 6, 4, 3, 4, 5, 3, 5, 1, 6, 3, 6, 10, 1, 4, 3, 2, 4, 1, 2, 1, 5, 4, 2, 3, 3, 8, 6, 3, 9, 3, 10, 6, 2, 3, 4, 1, 5, 1, 3, 5, 4, 2, 6, 6, 7, 4, 3, 4, 3, 3, 4, 1, 3, 1, 6, 4, 1, 7, 4, 8, 6, 2, 4, 3, 4, 6, 4, 4, 4, 3, 6, 6, 3, 2, 5, 4, 1, 8, 4, 3, 8, 3, 4, 8, 4, 8, 4, 3, 3, 3, 2, 1, 1, 3, 10, 5, 2, 9, 3, 4, 3, 1, 1, 2, 1, 3, 5, 7, 4, 3, 2, 5, 5, 2, 3, 5, 5, 1, 2, 3, 5, 2, 3, 9, 4, 2, 3, 3, 2, 1, 6, 5, 2, 4, 10, 3, 8, 6, 8, 5, 3, 4, 1, 3, 7, 8, 4, 5, 3, 7, 7, 14, 7, 3, 5, 4, 5, 4, 2, 5, 2, 4, 2, 7, 4, 4, 5, 2, 3, 3, 3, 1, 1, 1, 5, 6, 5, 4, 3, 8, 2, 3, 11, 1, 4, 7, 8, 5, 4, 6, 9, 4, 6, 6, 1, 4, 4, 3, 3, 7, 7, 7, 5, 4, 7, 3, 3, 1, 6, 4, 1, 2, 7, 3, 1, 5, 3, 1, 1, 7, 3, 2, 3, 6, 1, 2, 10, 3, 1, 3, 8, 8, 5, 8, 2, 2, 6, 3, 5, 4, 1, 5, 2, 6, 3, 5, 2, 3, 2, 3, 9, 2, 5, 2, 3, 3, 1, 6, 2, 3, 2, 2, 4, 5, 2, 1, 5, 8, 2, 1, 1, 1, 1, 2, 1, 7, 4, 8, 3, 2, 10, 4, 6, 2, 2, 5, 2, 1, 1, 6, 2, 2, 3, 1, 3, 2, 1, 5, 6, 2, 5, 7, 1, 5, 6, 8, 2, 2, 3, 6, 5, 2, 7, 2, 4, 3, 1, 3, 4, 3, 1, 4, 10, 7, 10, 3, 4, 2, 4, 2, 4, 4, 2, 4, 2, 4, 1, 4, 2, 1, 8, 4, 3, 9, 1, 2, 6, 8, 4, 9, 9, 1, 7, 2, 9, 1, 7, 3, 2, 3, 4, 9, 3, 3, 10, 1, 4, 2, 9, 3, 4, 2, 7, 8, 6, 5, 2, 1, 4, 1, 4, 4, 1, 1, 3, 14, 1, 2, 3, 6, 7, 5, 4, 5, 6, 4, 5, 6, 8, 7, 6, 8, 4, 8, 1, 2, 2, 5, 4, 4, 4, 2, 1, 3, 3, 11, 7, 4, 3, 5, 1, 7, 5, 4, 4, 5, 2, 2, 4, 2, 2, 4, 3, 10, 4, 2, 6, 7, 3, 10, 2, 7, 6, 4, 4, 7, 6, 3, 3, 3, 3, 2, 5, 3, 6, 4, 3, 3, 2, 7, 4, 1, 5, 2, 5, 1, 5, 1, 2, 2, 1, 2, 1, 3, 9, 5, 4, 4, 7, 2, 4, 5, 5, 2, 9, 2, 7, 10, 7, 2, 4, 4, 3, 4, 7, 7, 2, 5, 2, 2, 2, 7, 1, 1, 6, 5, 8, 5, 2, 7, 2, 4, 4, 2, 3, 7, 2, 3, 4, 3, 5, 2, 3, 9, 3, 4, 2, 1, 1, 12, 2, 2, 7, 5, 3, 4, 7, 8, 2, 5, 3, 3, 8, 3, 1, 1, 2, 2, 3, 4, 1, 1, 4, 6, 1, 6, 5, 2, 5, 1, 8, 3, 3, 6, 3, 2, 1, 3, 2, 4, 2, 8, 8, 10, 2, 4, 7, 7, 1, 14, 7, 1, 3, 5, 2, 7, 3, 4, 4, 11, 2, 3, 5, 1, 4, 1, 4, 10, 1, 3, 9, 4, 3, 9, 3, 12, 5, 4, 6, 8, 5, 3, 1, 2, 5, 4, 1, 2, 1, 10, 5, 3, 1, 1, 4, 5, 4, 4, 5, 3, 2, 6, 5, 5, 3, 2, 5, 3, 1, 2, 11, 5, 3, 8, 6, 4, 4, 1, 1, 4, 5, 4, 4, 6, 3, 1, 4, 1, 4, 6, 4, 2, 4, 1, 3, 6, 7, 3, 8, 1, 2, 5, 5, 5, 2, 3, 5, 2, 10, 9, 5, 8, 5, 1, 5, 2, 3, 1, 6, 3, 5, 7, 3, 3, 2, 2, 1, 6, 3, 1, 3, 1, 4, 5, 2, 2, 2, 5, 11, 5, 5, 1, 2, 1, 1, 4, 3, 2, 6, 1, 9, 1, 3, 3, 3, 3, 3, 1, 2, 6, 9, 1, 7, 5, 7, 4, 6, 2, 1, 4, 1, 1, 1, 2, 7, 2, 3, 3, 6, 5, 2, 3, 3, 1, 2, 2, 4, 11, 2, 4, 9, 3, 11, 6, 5, 5, 7, 4, 5, 5, 8, 2, 8, 3, 5, 3, 1, 1, 3, 1, 3, 1, 1, 3, 7, 2, 2, 3, 3, 2, 3, 5, 1, 5, 1, 4, 7, 2, 1, 9, 7, 7, 5, 9, 4, 1, 2, 5, 2, 2, 7, 4, 3, 1, 6, 3, 8, 1, 2, 7, 3, 1, 1, 5, 3, 3, 2, 3, 2, 4, 4, 14, 3, 2, 3, 2, 5, 11, 1, 3, 2, 3, 1, 3, 3, 2, 2, 2, 1, 6, 2, 7, 5, 1, 7, 1, 5, 5, 4, 5, 1, 12, 12, 2, 1, 13, 2, 2, 13, 2, 6, 4, 8, 2, 5, 1, 6, 1, 4, 6, 3, 1, 10, 7, 7, 4, 3, 10, 8, 4, 3, 3, 6, 5, 5, 3, 1, 3, 1, 8, 3, 9, 3, 1, 2, 1, 2, 2, 2, 8, 1, 2, 4, 9, 9, 2, 2, 6, 1, 5, 5, 3, 1, 1, 4, 2, 2, 5, 4, 4, 3, 1, 4, 2, 3, 5, 5, 1, 1, 2, 2, 2, 6, 7, 2, 5, 2, 3, 8, 3, 3, 5, 1, 7, 7, 1, 3, 5, 3, 5, 7, 9, 9, 2, 3, 6, 5, 10, 2, 3, 1, 10, 3, 6, 3, 4, 5, 4, 1, 6, 1, 3, 3, 1, 9, 9, 6, 2, 4, 5, 10, 6, 3, 4, 4, 1, 4, 1, 4, 1, 2, 4, 3, 3, 2, 2, 3, 4, 2, 6, 3, 5, 3, 4, 2, 1, 7, 3, 4, 3, 1, 2, 5, 8, 1, 5, 1, 3, 1, 1, 1, 6, 2, 4, 4, 2, 3, 4, 1, 12, 2, 5, 8, 4, 2, 5, 5, 4, 7, 3, 2, 1, 3, 1, 1, 2, 4, 4, 2, 1, 4, 4, 8, 3, 4, 3, 2, 5, 5, 1, 6, 2, 3, 5, 5, 4, 2, 6, 3, 7, 5, 5, 9, 2, 13, 6, 1, 8, 3, 10, 1, 2, 4, 9, 7, 4, 4, 5, 5, 3, 4, 7, 3, 4, 6, 4, 3, 3, 4, 4, 7, 5, 1, 3, 6, 2, 4, 7, 2, 3, 4, 4, 6, 1, 2, 1, 7, 1, 11, 1, 2, 3, 4, 6, 2, 4, 5, 4, 2, 2, 2, 8, 4, 5, 5, 1, 7, 4, 5, 2, 5, 4, 6, 5, 5, 1, 4, 1, 6, 3, 1, 2, 1, 4, 7, 1, 8, 4, 4, 2, 4, 6, 1, 4, 9, 6, 2, 5, 4, 3, 2, 2, 3, 3, 1, 12, 3, 5, 2, 1, 8, 1, 1, 4, 2, 3, 2, 5, 4, 4, 2, 2, 2, 11, 5, 4, 1, 6, 1, 3, 3, 4, 3, 3, 3, 7, 3, 6, 9, 4, 4, 3, 2, 7, 3, 3, 4, 1, 1, 4, 11, 1, 4, 4, 3, 1, 5, 5, 6, 4, 4, 2, 2, 4, 3, 3, 5, 1, 4, 1, 2, 1, 17, 2, 11, 4, 10, 6, 2, 1, 10, 4, 1, 1, 3, 3, 9, 3, 4, 4, 6, 8, 9, 3, 1, 6, 5, 4, 5, 2, 4, 1, 5, 11, 7, 4, 2, 7, 8, 6, 9, 5, 1, 8, 5, 2, 1, 6, 3, 1, 13, 2, 2, 12, 2, 1, 3, 7, 3, 3, 1, 12, 3, 4, 3, 9, 4, 5, 2, 4, 6, 4, 3, 5, 4, 2, 6, 4, 6, 6, 2, 1, 6, 1, 3, 5, 1, 6, 2, 1, 1, 6, 2, 2, 7, 5, 2, 5, 3, 3, 6, 1, 4, 2, 8, 1, 4, 5, 5, 11, 6, 3, 3, 1, 5, 1, 10, 3, 2, 1, 9, 2, 3, 2, 1, 10, 3, 2, 5, 1, 3, 2, 4, 3, 4, 1, 2, 5, 2, 4, 4, 2, 2, 4, 4, 5, 6, 3, 3, 9, 2, 1, 3, 8, 2, 8, 4, 2, 3, 2, 6, 3, 3, 3, 1, 5, 5, 1, 6, 4, 9, 4, 4, 2, 4, 2, 2, 2, 6, 4, 9, 11, 4, 5, 6, 3, 5, 1, 2, 5, 4, 7, 7, 8, 6, 1, 4, 5, 5, 6, 4, 4, 5, 8, 3, 1, 1, 3, 7, 2, 9, 2, 2, 6, 2, 5, 4, 3, 2, 2, 7, 1, 3, 4, 10, 5, 2, 5, 1, 3, 2, 6, 6, 2, 1, 2, 3, 2, 5, 3, 2, 3, 2, 1, 1, 6, 3, 3, 7, 7, 4, 1, 3, 10, 4, 4, 4, 5, 10, 4, 1, 5, 3, 2, 3, 3, 1, 3, 4, 2, 4, 3, 4, 2, 1, 8, 7, 4, 2, 4, 4, 5, 2, 5, 1, 6, 7, 13, 2, 12, 10, 1, 3, 2, 13, 7, 5, 5, 4, 2, 2, 3, 2, 6, 2, 3, 2, 5, 5, 9, 4, 11, 1, 8, 1, 3, 1, 7, 1, 5, 2, 6, 2, 2, 4, 3, 1, 7, 4, 4, 4, 7, 5, 5, 4, 3, 4, 4, 2, 6, 7, 4, 5, 1, 8, 2, 2, 2, 6, 3, 4, 3, 5, 1, 5, 9, 2, 2, 3, 3, 5, 1, 1, 2, 1, 3, 8, 1, 3, 2, 1, 1, 2, 4, 3, 3, 3, 5, 10, 3, 4, 5, 4, 5, 4, 2, 6, 1, 6, 7, 5, 2, 3, 5, 12, 6, 6, 1, 3, 9, 7, 4, 4, 6, 1, 2, 4, 4, 6, 7, 1, 7, 3, 4, 3, 3, 7, 1, 6, 2, 2, 5, 5, 7, 7, 4, 4, 5, 5, 5, 3, 3, 5, 5, 3, 7, 4, 5, 4, 2, 6, 8, 2, 1, 1, 2, 3, 6, 1, 4, 9, 5, 1, 2, 1, 2, 1, 2, 2, 1, 1, 2, 3, 12, 4, 6, 6, 4, 2, 2, 7, 6, 5, 2, 3, 7, 1, 4, 5, 1, 3, 9, 5, 2, 4, 5, 5, 1, 5, 3, 1, 1, 4, 5, 3, 16, 2, 2, 4, 7, 3, 3, 1, 1, 4, 3, 10, 2, 9, 6, 5, 3, 7, 3, 7, 2, 4, 3, 7, 1, 4, 6, 4, 5, 3, 2, 2, 6, 2, 4, 1, 2, 7, 4, 13, 2, 2, 3, 6, 1, 1, 3, 5, 3, 9, 5, 4, 4, 3, 4, 3, 4, 4, 3, 6, 2, 3, 6, 2, 4, 3, 2, 3, 2, 5, 7, 5, 4, 3, 5, 6, 1, 2, 7, 12, 1, 5, 3, 2, 1, 2, 12, 6, 4, 7, 9, 2, 5, 2, 2, 6, 12, 6, 4, 3, 2, 7, 2, 4, 2, 6, 4, 3, 2, 2, 1, 6, 4, 2, 1, 3, 7, 3, 3, 3, 3, 11, 8, 3, 6, 2, 4, 4, 1, 4, 2, 4, 3, 3, 3, 1, 4, 11, 6, 6, 3, 5, 2, 1, 5, 6, 3, 3, 8, 2, 6, 1, 2, 3, 11, 1, 2, 7, 4, 4, 3, 1, 2, 5, 1, 7, 3, 1, 6, 2, 2, 3, 3, 3, 4, 11, 6, 2, 3, 3, 2, 4, 6, 5, 5, 8, 5, 3, 5, 1, 2, 2, 3, 4, 11, 6, 5, 13, 10, 3, 4, 5, 5, 9, 8, 7, 4, 3, 4, 2, 1, 2, 9, 2, 4, 1, 4, 3, 6, 3, 3, 3, 2, 5, 4, 2, 8, 5, 4, 5, 2, 6, 9, 1, 5, 3, 7, 5, 1, 2, 2, 1, 2, 1, 5, 1, 2, 1, 1, 4, 3, 4, 1, 4, 3, 8, 3, 2, 9, 4, 8, 4, 5, 2, 4, 2, 2, 2, 8, 5, 2, 7, 3, 2, 4, 3, 3, 3, 5, 3, 3, 8, 2, 6, 1, 2, 2, 3, 9, 5, 3, 6, 2, 1, 4, 6, 3, 2, 5, 3, 6, 5, 5, 7, 4, 8, 3, 3, 2, 5, 4, 4, 1, 2, 8, 4, 2, 8, 1, 2, 5, 3, 2, 11, 1, 2, 3, 1, 15, 5, 4, 3, 3, 1, 7, 5, 2, 4, 5, 6, 11, 4, 4, 5, 1, 6, 1, 4, 4, 5, 3, 1, 6, 8, 7, 4, 2, 4, 5, 2, 3, 4, 6, 3, 5, 8, 1, 1, 5, 5, 5, 4, 1, 5, 9, 2, 3, 6, 2, 4, 9, 1, 3, 1, 2, 1, 4, 5, 3, 4, 1, 2, 4, 2, 2, 2, 4, 5, 8, 7, 3, 3, 3, 5, 6, 2, 4, 3, 3, 4, 2, 3, 2, 6, 2, 1, 3, 1, 7, 4, 4, 2, 2, 4, 2, 5, 1, 7, 5, 2, 4, 1, 2, 3, 10, 4, 12, 5, 4, 4, 5, 3, 7, 8, 1, 4, 2, 4, 3, 13, 2, 3, 3, 2, 2, 1, 4, 6, 1, 2, 2, 6, 1, 8, 7, 8, 1, 1, 3, 6, 6, 3, 2, 4, 6, 5, 3, 6, 6, 6, 2, 3, 2, 8, 2, 5, 5, 8, 3, 3, 1, 5, 2, 1, 6, 1, 3, 4, 2, 1, 6, 3, 2, 3, 4, 1, 6, 7, 1, 1, 3, 2, 4, 2, 4, 6, 6, 4, 4, 8, 1, 4, 3, 5, 1, 2, 3, 7, 10, 3, 3, 5, 2, 3, 4, 3, 3, 5, 4, 3, 4, 2, 3, 3, 5, 3, 11, 2, 2, 3, 2, 1, 3, 3, 4, 6, 3, 4, 4, 1, 1, 3, 3, 3, 3, 5, 2, 2, 1, 5, 5, 3, 4, 4, 4, 1, 4, 5, 5, 7, 7, 4, 2, 1, 4, 4, 3, 2, 2, 5, 6, 6, 4, 4, 4, 3, 4, 3, 3, 2, 5, 4, 1, 2, 3, 5, 6, 1, 2, 8, 6, 9, 3, 1, 1, 1, 3, 2, 5, 1, 1, 3, 7, 3, 9, 3, 1, 1, 3, 4, 7, 2, 2, 2, 4, 6, 2, 2, 1, 3, 4, 3, 5, 4, 2, 1, 4, 3, 3, 3, 6, 4, 4, 3, 4, 7, 9, 1, 4, 2, 5, 5, 2, 5, 2, 2, 1, 8, 6, 3, 5, 3, 2, 1, 6, 8, 3, 2, 3, 5, 4, 7, 3, 1, 2, 7, 2, 2, 1, 3, 6, 2, 8, 3, 4, 4, 4, 2, 3, 6, 4, 6, 5, 8, 5, 4, 4, 3, 3, 2, 5, 5, 6, 6, 6, 4, 1, 4, 5, 5, 1, 2, 4, 4, 7, 2, 2, 5, 2, 5, 1, 2, 9, 2, 11, 1, 2, 8, 3, 2, 1, 4, 4, 14, 6, 4, 1, 5, 6, 1, 8, 3, 3, 1, 2, 2, 2, 7, 4, 5, 1, 2, 7, 2, 8, 2, 3, 9, 2, 2, 6, 3, 3, 4, 8, 1, 6, 7, 2, 3, 1, 3, 8, 2, 5, 1, 4, 5, 3, 6, 2, 4, 5, 2, 9, 3, 12, 2, 2, 11, 1, 2, 4, 3, 3, 1, 3, 7, 5, 9, 6, 4, 2, 5, 4, 1, 2, 6, 7, 3, 2, 5, 6, 5, 2, 9, 1, 2, 7, 2, 1, 4, 2, 1, 2, 2, 2, 3, 2, 1, 4, 2, 1, 4, 4, 6, 4, 6, 3, 5, 2, 5, 5, 2, 6, 6, 1, 2, 3, 3, 4, 7, 1, 4, 3, 3, 5, 3, 7, 2, 4, 1, 8, 4, 2, 3, 2, 2, 1, 2, 3, 3, 5, 1, 4, 3, 1, 2, 9, 1, 1, 2, 3, 4, 2, 1, 7, 1, 6, 5, 7, 2, 5, 5, 9, 3, 3, 5, 7, 4, 4, 5, 1, 3, 4, 3, 4, 4, 6, 2, 2, 4, 5, 7, 2, 3, 4, 5, 1, 3, 5, 2, 2, 4, 1, 2, 4, 1, 4, 2, 2, 9, 2, 1, 5, 1, 6, 5, 5, 4, 6, 3, 5, 1, 6, 2, 4, 10, 4, 3, 2, 3, 2, 1, 1, 3, 1, 9, 5, 5, 8, 1, 4, 4, 4, 1, 2, 4, 3, 5, 3, 2, 2, 7, 2, 5, 11, 6, 8, 5, 4, 3, 5, 1, 8, 9, 4, 1, 3, 2, 2, 3, 4, 1, 4, 5, 6, 2, 3, 2, 3, 3, 3, 3, 1, 6, 3, 8, 6, 4, 9, 3, 3, 5, 3, 7, 6, 1, 1, 7, 1, 5, 8, 1, 1, 1, 7, 2, 6, 12, 7, 1, 4, 3, 6, 4, 2, 4, 4, 4, 3, 2, 3, 5, 2, 5, 3, 5, 5, 7, 3, 3, 3, 2, 2, 9, 2, 5, 5, 4, 6, 6, 3, 7, 3, 8, 2, 3, 3, 13, 1, 1, 7, 2, 1, 3, 6, 7, 6, 7, 2, 2, 4, 3, 4, 5, 7, 4, 6, 5, 1, 4, 7, 2, 3, 8, 5, 6, 5, 7, 2, 3, 2, 1, 3, 7, 4, 1, 4, 6, 2, 4, 4, 4, 6, 4, 5, 1, 4, 6, 9, 7, 3, 7, 3, 10, 4, 2, 2, 9, 8, 5, 2, 3, 4, 2, 2, 3, 2, 7, 5, 12, 1, 3, 1, 3, 2, 7, 1, 7, 3, 7, 4, 3, 7, 3, 4, 11, 2, 1, 5, 4, 3, 12, 5, 5, 3, 4, 3, 6, 3, 8, 2, 1, 3, 6, 1, 4, 2, 4, 2, 4, 2, 5, 7, 3, 5, 3, 4, 2, 8, 2, 4, 1, 1, 1, 1, 2, 5, 11, 2, 4, 5, 7, 3, 3, 3, 8, 4, 3, 7, 1, 8, 4, 1, 6, 3, 5, 2, 2, 5, 6, 4, 5, 6, 2, 4, 4, 4, 3, 3, 1, 5, 4, 4, 2, 2, 6, 6, 11, 8, 1, 6, 8, 2, 6, 3, 5, 6, 6, 4, 4, 1, 2, 2, 6, 5, 4, 1, 2, 1, 4, 5, 9, 3, 2, 1, 4, 4, 2, 4, 2, 1, 3, 6, 7, 4, 4, 2, 3, 2, 2, 4, 5, 3, 2, 2, 9, 4, 1, 6, 5, 2, 1, 3, 8, 3, 10, 2, 5, 1, 4, 5, 2, 2, 1, 6, 4, 3, 6, 6, 1, 4, 5, 3, 5, 8, 2, 4, 7, 3, 2, 4, 3, 1, 5, 3, 8, 1, 5, 4, 1, 8, 4, 5, 6, 6, 1, 3, 9, 2, 8, 7, 5, 7, 5, 5, 4, 14, 3, 2, 4, 3, 5, 6, 6, 4, 4, 6, 2, 3, 1, 1, 3, 1, 11, 9, 5, 7, 2, 5, 1, 4, 3, 4, 1, 1, 2, 3, 2, 2, 3, 2, 4, 2, 2, 5, 2, 3, 4, 6, 5, 5, 5, 7, 1, 1, 1, 7, 4, 2, 1, 3, 2, 5, 9, 6, 3, 11, 9, 6, 3, 2, 4, 5, 3, 1, 3, 5, 6, 3, 2, 1, 2, 1, 4, 3, 5, 4, 2, 2, 6, 5, 5, 1, 1, 4, 5, 2, 10, 1, 1, 1, 1, 4, 2, 6, 3, 3, 5, 4, 9, 4, 6, 6, 3, 5, 5, 9, 7, 3, 2, 6, 5, 1, 2, 2, 2, 2, 5, 6, 3, 1, 8, 6, 2, 8, 7, 3, 7, 7, 2, 3, 5, 3, 2, 4, 4, 6, 7, 2, 3, 4, 4, 5, 3, 7, 6, 6, 7, 1, 5, 2, 6, 1, 2, 4, 5, 6, 2, 2, 5, 3, 4, 1, 4, 2, 4, 4, 3, 8, 1, 6, 6, 4, 2, 8, 2, 8, 6, 4, 4, 5, 5, 3, 9, 1, 3, 1, 8, 4, 6, 1, 9, 6, 7, 5, 3, 3, 4, 2, 9, 4, 8, 4, 6, 7, 2, 3, 3, 5, 4, 10, 7, 11, 1, 3, 2, 6, 1, 3, 3, 3, 4, 5, 7, 3, 1, 2, 3, 3, 3, 5, 5, 6, 3, 2, 3, 2, 1, 4, 4, 1, 2, 5, 2, 2, 9, 10, 5, 5, 2, 6, 1, 6, 3, 1, 4, 3, 1, 2, 5, 3, 4, 8, 2, 2, 8, 5, 2, 3, 3, 1, 4, 6, 4, 5, 3, 7, 2, 4, 12, 5, 5, 6, 1, 4, 2, 4, 8, 1, 5, 4, 3, 9, 1, 4, 4, 8, 3, 3, 7, 5, 3, 1, 5, 2, 5, 3, 3, 3, 3, 3, 2, 3, 2, 7, 1, 13, 1, 8, 8, 2, 3, 5, 6, 2, 5, 3, 4, 3, 6, 3, 4, 4, 6, 4, 9, 4, 4, 4, 9, 7, 3, 8, 3, 1, 6, 1, 4, 1, 1, 8, 3, 7, 5, 4, 4, 2, 8, 3, 7, 3, 5, 2, 3, 4, 4, 3, 5, 2, 2, 10, 6, 2, 10, 4, 2, 2, 4, 2, 2, 1, 6, 8, 2, 2, 3, 1, 1, 4, 5, 6, 4, 2, 2, 4, 2, 4, 6, 1, 6, 4, 6, 3, 3, 6, 3, 2, 7, 1, 4, 4, 2, 4, 2, 1, 3, 3, 3, 5, 6, 14, 4, 4, 3, 1, 2, 4, 3, 2, 6, 6, 3, 2, 1, 4, 3, 2, 1, 1, 4, 4, 7, 5, 2, 3, 9, 1, 5, 4, 5, 1, 1, 4, 4, 2, 4, 4, 7, 6, 1, 1, 2, 3, 2, 2, 4, 3, 1, 2, 4, 10, 4, 7, 6, 2, 1, 2, 5, 7, 2, 3, 1, 4, 2, 8, 4, 3, 2, 1, 3, 11, 1, 1, 2, 4, 2, 6, 4, 2, 1, 2, 1, 7, 4, 1, 5, 7, 4, 6, 4, 4, 1, 2, 5, 2, 4, 4, 5, 2, 5, 2, 6, 9, 1, 6, 2, 1, 2, 3, 2, 8, 5, 3, 3, 3, 3, 1, 6, 4, 3, 4, 1, 3, 2, 1, 11, 9, 2, 5, 6, 3, 9, 8, 6, 4, 3, 6, 7, 9, 7, 2, 3, 1, 6, 1, 6, 1, 1, 2, 4, 8, 5, 3, 5, 5, 5, 10, 3, 9, 1, 6, 5, 6, 3, 3, 4, 7, 4, 2, 7, 4, 4, 3, 3, 3, 1, 2, 9, 5, 3, 4, 4, 4, 12, 5, 4, 2, 4, 3, 3, 1, 3, 2, 3, 3, 3, 4, 1, 3, 1, 5, 1, 1, 1, 1, 1, 3, 7, 3, 1, 2, 2, 10, 1, 2, 2, 1, 7, 2, 4, 6, 2, 2, 2, 1, 2, 8, 1, 3, 8, 8, 11, 3, 5, 3, 3, 4, 1, 4, 1, 1, 2, 5, 6, 3, 3, 8, 4, 3, 3, 8, 3, 1, 3, 2, 7, 3, 4, 3, 2, 5, 5, 2, 8, 1, 1, 1, 1, 1, 1, 3, 1, 3, 1, 7, 4, 4, 4, 1, 3, 4, 3, 3, 9, 1, 4, 2, 1, 1, 3, 11, 5, 2, 4, 4, 4, 1, 12, 4, 1, 4, 5, 5, 4, 3, 3, 4, 1, 4, 3, 4, 5, 7, 7, 3, 1, 4, 2, 3, 1, 3, 12, 6, 1, 1, 9, 1, 5, 2, 3, 3, 9, 7, 10, 6, 5, 5, 4, 8, 3, 10, 1, 3, 4, 1, 3, 3, 4, 3, 6, 4, 2, 2, 2, 2, 3, 2, 10, 6, 5, 1, 1, 3, 7, 2, 6, 4, 1, 4, 6, 4, 7, 6, 3, 15, 2, 1, 1, 9, 2, 2, 7, 7, 9, 6, 1, 1, 4, 1, 3, 5, 7, 7, 2, 1, 9, 3, 3, 3, 2, 1, 3, 2, 2, 2, 2, 6, 7, 2, 3, 6, 3, 4, 4, 4, 3, 5, 2, 6, 1, 3, 3, 3, 3, 4, 4, 5, 2, 3, 2, 1, 1, 2, 3, 11, 4, 2, 3, 4, 4, 1, 8, 9, 2, 7, 5, 3, 2, 5, 4, 4, 2, 4, 3, 1, 5, 11, 3, 3, 4, 5, 3, 2, 2, 1, 4, 2, 2, 5, 3, 3, 2, 5, 3, 1, 4, 5, 1, 4, 3, 3, 5, 6, 6, 4, 6, 3, 2, 3, 3, 3, 1, 5, 1, 4, 2, 13, 2, 1, 1, 7, 2, 2, 4, 6, 2, 2, 3, 1, 4, 1, 5, 3, 7, 4, 4, 1, 1, 8, 10, 2, 3, 2, 2, 5, 2, 3, 3, 7, 9, 5, 1, 6, 4, 1, 4, 8, 3, 1, 5, 5, 1, 6, 9, 9, 3, 2, 2, 6, 1, 2, 3, 1, 1, 4, 10, 1, 1, 2, 1, 4, 1, 3, 6, 6, 5, 8, 2, 3, 2, 2, 4, 1, 4, 1, 2, 5, 2, 2, 5, 3, 3, 2, 1, 1, 2, 4, 4, 3, 8, 9, 2, 2, 3, 1, 1, 6, 13, 10, 3, 3, 3, 7, 8, 1, 1, 5, 4, 6, 3, 2, 9, 7, 4, 1, 4, 4, 4, 4, 4, 3, 1, 4, 2, 8, 3, 6, 2, 1, 6, 2, 1, 3, 1, 9, 9, 1, 3, 5, 1, 3, 4, 1, 4, 6, 1, 5, 3, 9, 3, 5, 2, 3, 6, 6, 3, 5, 4, 6, 1, 11, 1, 3, 2, 1, 3, 6, 6, 6, 5, 2, 4, 3, 3, 2, 2, 5, 2, 1, 1, 4, 3, 2, 5, 7, 5, 1, 10, 2, 5, 3, 3, 3, 5, 1, 2, 1, 2, 3, 3, 5, 3, 1, 6, 3, 6, 1, 3, 1, 3, 2, 2, 13, 10, 4, 1, 1, 4, 2, 5, 5, 1, 1, 2, 3, 2, 4, 2, 2, 2, 2, 5, 3, 9, 2, 1, 5, 2, 1, 1, 2, 6, 5, 1, 6, 5, 2, 13, 7, 2, 4, 3, 4, 1, 3, 3, 7, 2, 4, 5, 5, 5, 4, 6, 4, 5, 3, 2, 7, 1, 3, 2, 2, 2, 2, 8, 2, 1, 1, 5, 3, 1, 4, 2, 8, 3, 2, 2, 7, 2, 1, 4, 3, 8, 2, 1, 2, 4, 1, 4, 4, 6, 2, 3, 2, 5, 4, 8, 6, 3, 3, 4, 1, 3, 3, 1, 3, 1, 1, 4, 2, 1, 4, 1, 5, 1, 4, 3, 1, 2, 2, 2, 2, 2, 5, 1, 3, 3, 1, 1, 5, 1, 7, 3, 3, 1, 2, 5, 4, 1, 1, 8, 11, 3, 10, 1, 3, 4, 2, 2, 4, 3, 1, 5, 2, 1, 1, 6, 1, 4, 4, 1, 1, 1, 8, 1, 4, 2, 1, 1, 6, 5, 3, 4, 6, 1, 1, 2, 2, 1, 6, 2, 2, 5, 6, 3, 3, 6, 4, 6, 4, 9, 2, 3, 4, 2, 5, 2, 2, 3, 1, 3, 8, 2, 4, 1, 5, 2, 4, 1, 5, 5, 9, 4, 3, 4, 6, 1, 1, 1, 2, 1, 5, 4, 4, 4, 5, 3, 5, 2, 1, 4, 3, 9, 4, 5, 5, 2, 2, 4, 2, 2, 2, 2, 4, 6, 2, 2, 4, 6, 3, 4, 1, 2, 11, 4, 4, 5, 1, 1, 2, 2, 4, 1, 3, 4, 3, 4, 4, 3, 4, 3, 5, 2, 9, 5, 3, 3, 4, 2, 3, 2, 1, 4, 3, 6, 3, 2, 1, 4, 4, 3, 2, 3, 5, 8, 4, 5, 2, 6, 2, 3, 2, 2, 3, 6, 4, 6, 6, 3, 2, 3, 1, 2, 2, 1, 1, 3, 5, 1, 1, 5, 11, 1, 15, 1, 1, 2, 1, 5, 6, 1, 1, 2, 5, 3, 4, 6, 4, 2, 3, 2, 4, 6, 2, 4, 5, 5, 3, 3, 7, 1, 3, 2, 3, 3, 6, 5, 2, 4, 8, 4, 1, 7, 4, 5, 8, 4, 3, 1, 3, 1, 9, 2, 5, 8, 9, 4, 4, 3, 4, 1, 1, 2, 6, 6, 5, 3, 8, 2, 2, 3, 3, 3, 4, 3, 1, 8, 2, 8, 2, 9, 1, 5, 9, 7, 1, 3, 5, 5, 3, 1, 1, 2, 8, 4, 8, 3, 7, 3, 11, 3, 4, 4, 6, 3, 1, 4, 4, 2, 1, 4, 1, 4, 3, 2, 2, 5, 7, 6, 1, 5, 3, 1, 3, 2, 2, 3, 3, 4, 5, 7, 4, 11, 3, 4, 2, 7, 4, 1, 1, 4, 9, 1, 2, 5, 3, 4, 3, 8, 3, 2, 3, 6, 6, 2, 4, 3, 4, 9, 4, 1, 2, 3, 3, 3, 6, 8, 4, 7, 5, 3, 6, 3, 1, 7, 5, 7, 1, 1, 5, 9, 4, 5, 3, 2, 8, 4, 6, 8, 2, 1, 2, 3, 4, 6, 8, 4, 2, 2, 1, 4, 4, 3, 6, 5, 10, 9, 2, 2, 5, 1, 8, 3, 5, 3, 5, 3, 7, 1, 5, 2, 2, 1, 5, 2, 3, 1, 3, 1, 1, 6, 3, 1, 3, 1, 5, 6, 4, 5, 9, 3, 6, 5, 1, 3, 3, 5, 1, 4, 3, 1, 11, 2, 2, 1, 1, 3, 11, 5, 4, 1, 3, 7, 1, 6, 3, 3, 4, 4, 1, 4, 5, 2, 2, 7, 10, 2, 1, 4, 5, 3, 3, 7, 6, 6, 2, 7, 1, 2, 6, 2, 1, 1, 1, 2, 4, 10, 5, 3, 2, 2, 4, 9, 3, 8, 2, 2, 1, 3, 3, 2, 3, 7, 6, 2, 2, 4, 1, 3, 5, 4, 2, 3, 11, 1, 1, 3, 9, 3, 1, 1, 4, 5, 3, 4, 3, 6, 6, 1, 1, 3, 1, 2, 2, 4, 1, 3, 5, 6, 2, 6, 5, 3, 4, 2, 2, 2, 1, 3, 2, 6, 2, 4, 4, 4, 2, 1, 1, 6, 7, 3, 5, 8, 2, 4, 1, 3, 2, 1, 7, 3, 7, 5, 3, 3, 4, 6, 3, 1, 3, 3, 3, 4, 1, 1, 2, 9, 1, 1, 5, 2, 1, 3, 7, 2, 2, 5, 1, 6, 9, 2, 2, 3, 1, 3, 4, 5, 2, 1, 1, 1, 1, 6, 5, 2, 3, 3, 6, 2, 3, 5, 4, 4, 2, 4, 1, 2, 4, 9, 2, 1, 8, 3, 2, 7, 7, 6, 4, 1, 3, 4, 3, 3, 3, 1, 9, 2, 5, 1, 3, 1, 3, 9, 9, 2, 8, 3, 4, 3, 2, 1, 12, 3, 3, 5, 2, 5, 6, 5, 6, 9, 3, 2, 4, 3, 6, 3, 7, 1, 6, 4, 8, 4, 7, 3, 4, 3, 8, 1, 6, 4, 4, 3, 2, 2, 8, 13, 1, 3, 8, 1, 3, 9, 4, 1, 4, 5, 2, 3, 1, 8, 2, 6, 4, 7, 3, 2, 4, 2, 3, 3, 5, 8, 4, 2, 2, 4, 9, 4, 1, 2, 5, 4, 2, 1, 3, 2, 3, 4, 6, 4, 5, 2, 2, 2, 7, 2, 6, 3, 2, 3, 5, 7, 1, 6, 6, 2, 2, 4, 1, 1, 1, 2, 3, 1, 2, 4, 8, 5, 7, 4, 7, 3, 11, 6, 12, 2, 5, 4, 3, 6, 4, 4, 5, 5, 5, 6, 2, 2, 5, 2, 5, 4, 8, 3, 4, 9, 4, 2, 8, 3, 6, 2, 5, 4, 1, 4, 2, 3, 2, 1, 5, 3, 5, 3, 2, 6, 2, 7, 5, 2, 1, 1, 2, 9, 2, 9, 2, 1, 5, 2, 4, 7, 1, 2, 4, 2, 4, 4, 14, 7, 5, 2, 3, 4, 3, 2, 2, 3, 3, 3, 1, 6, 4, 2, 3, 2, 5, 5, 5, 2, 4, 1, 8, 4, 7, 2, 1, 2, 4, 11, 3, 2, 1, 11, 3, 4, 1, 4, 5, 1, 6, 6, 2, 9, 1, 6, 3, 4, 2, 3, 7, 4, 4, 6, 5, 4, 7, 5, 1, 3, 3, 1, 6, 6, 5, 1, 3, 7, 3, 3, 2, 5, 5, 6, 4, 2, 6, 8, 5, 5, 3, 10, 4, 2, 7, 6, 4, 8, 7, 7, 5, 1, 3, 2, 6, 1, 2, 2, 6, 3, 1, 5, 3, 6, 5, 2, 9, 4, 6, 1, 6, 3, 2, 4, 3, 3, 4, 8, 1, 3, 7, 3, 3, 7, 5, 2, 4, 1, 4, 3, 3, 8, 3, 7, 4, 3, 1, 7, 2, 4, 1, 2, 4, 11, 12, 1, 7, 2, 7, 8, 2, 4, 5, 6, 3, 9, 1, 6, 4, 3, 4, 2, 2, 4, 8, 3, 7, 2, 3, 4, 10, 3, 3, 3, 5, 1, 4, 2, 4, 5, 3, 4, 3, 3, 4, 2, 4, 5, 3, 1, 5, 12, 1, 8, 2, 6, 5, 12, 6, 4, 4, 6, 2, 2, 8, 1, 1, 3, 2, 4, 7, 1, 12, 5, 6, 5, 5, 5, 3, 2, 1, 4, 10, 3, 9, 3, 2, 4, 11, 4, 5, 3, 2, 2, 1, 4, 1, 5, 3, 3, 2, 4, 5, 6, 10, 2, 5, 1, 4, 3, 3, 6, 3, 8, 3, 2, 2, 3, 3, 5, 6, 2, 2, 2, 3, 2, 6, 2, 3, 5, 2, 8, 3, 2, 3, 11, 2, 8, 2, 4, 4, 10, 6, 2, 4, 4, 1, 2, 1, 1, 11, 6, 2, 4, 6, 5, 1, 3, 3, 2, 3, 1, 2, 1, 1, 1, 1, 4, 5, 2, 1, 3, 3, 1, 7, 4, 6, 2, 3, 8, 11, 4, 3, 4, 3, 5, 3, 1, 3, 8, 4, 2, 1, 3, 2, 4, 6, 3, 1, 6, 8, 4, 1, 3, 3, 3, 2, 5, 6, 6, 7, 4, 1, 11, 1, 5, 4, 8, 7, 3, 5, 4, 1, 4, 5, 5, 8, 4, 2, 1, 5, 4, 3, 2, 10, 1, 1, 3, 6, 3, 3, 8, 6, 4, 4, 12, 5, 2, 7, 2, 5, 5, 2, 2, 5, 2, 1, 7, 6, 3, 8, 7, 6, 1, 6, 4, 3, 2, 9, 2, 6, 3, 7, 4, 2, 4, 4, 1, 5, 2, 1, 1, 5, 4, 4, 5, 5, 4, 3, 2, 2, 8, 3, 1, 2, 2, 3, 1, 3, 1, 1, 8, 9, 1, 6, 2, 1, 9, 5, 2, 1, 2, 2, 2, 1, 1, 1, 5, 1, 4, 1, 2, 2, 5, 3, 4, 5, 2, 3, 2, 5, 4, 3, 3, 7, 1, 7, 9, 2, 3, 5, 11, 6, 2, 3, 2, 2, 6, 3, 4, 1, 3, 1, 2, 2, 2, 1, 5, 5, 6, 5, 2, 2, 1, 2, 2, 6, 1, 1, 4, 5, 7, 5, 4, 3, 3, 1, 3, 2, 2, 2, 8, 6, 7, 3, 4, 2, 3, 3, 2, 2, 4, 9, 1, 5, 1, 5, 3, 5, 2, 9, 5, 2, 4, 12, 5, 2, 3, 1, 1, 4, 5, 5, 7, 7, 2, 7, 5, 11, 2, 3, 2, 3, 2, 7, 2, 4, 2, 4, 5, 9, 3, 4, 4, 4, 3, 4, 4, 7, 5, 3, 3, 2, 3, 4, 10, 9, 1, 3, 1, 3, 5, 3, 1, 3, 1, 7, 2, 4, 1, 4, 12, 10, 2, 2, 2, 5, 1, 1, 5, 3, 6, 6, 1, 1, 4, 3, 2, 7, 3, 5, 2, 4, 11, 3, 1, 6, 2, 5, 1, 4, 1, 4, 8, 7, 5, 1, 2, 3, 10, 2, 8, 2, 5, 3, 4, 1, 4, 2, 3, 2, 4, 5, 7, 2, 3, 2, 1, 2, 2, 1, 1, 2, 6, 1, 3, 6, 6, 8, 2, 4, 3, 3, 7, 3, 2, 5, 5, 12, 4, 3, 8, 5, 1, 2, 4, 6, 2, 6, 6, 2, 1, 4, 1, 6, 8, 1, 7, 1, 2, 2, 1, 4, 3, 2, 9, 4, 2, 2, 2, 6, 3, 4, 12, 3, 5, 7, 7, 1, 4, 11, 9, 4, 1, 1, 4, 4, 3, 2, 5, 7, 5, 2, 6, 7, 2, 1, 2, 7, 1, 4, 7, 10, 2, 8, 3, 3, 1, 1, 5, 1, 7, 2, 4, 8, 3, 2, 6, 5, 2, 6, 6, 7, 11, 4, 3, 3, 2, 6, 1, 10, 3, 1, 4, 4, 2, 3, 5, 6, 5, 7, 6, 2, 7, 4, 1, 4, 1, 2, 2, 6, 2, 7, 3, 2, 4, 4, 1, 5, 5, 5, 4, 4, 2, 1, 6, 1, 1, 4, 2, 1, 1, 5, 2, 1, 3, 4, 1, 5, 5, 1, 1, 1, 7, 1, 5, 2, 3, 2, 7, 4, 2, 3, 3, 1, 2, 2, 3, 2, 4, 1, 5, 3, 2, 2, 1, 7, 4, 3, 7, 3, 5, 3, 2, 5, 5, 4, 4, 1, 7, 3, 1, 1, 9, 2, 5, 2, 5, 9, 1, 5, 2, 7, 4, 2, 10, 1, 1, 1, 9, 3, 2, 4, 8, 5, 6, 2, 4, 6, 2, 6, 3, 7, 5, 9, 2, 2, 2, 2, 11, 4, 4, 5, 5, 2, 14, 2, 5, 4, 2, 2, 11, 3, 7, 7, 1, 3, 8, 5, 1, 5, 5, 1, 6, 8, 4, 4, 6, 1, 5, 6, 5, 2, 9, 1, 3, 2, 1, 3, 2, 13, 10, 3, 1, 3, 2, 4, 7, 2, 6, 10, 7, 4, 2, 2, 2, 2, 2, 1, 6, 4, 4, 6, 1, 1, 5, 4, 5, 4, 3, 5, 5, 1, 3, 2, 3, 3, 1, 5, 3, 3, 2, 3, 5, 2, 5, 4, 2, 1, 3, 2, 3, 9, 7, 5, 1, 4, 6, 2, 3, 5, 3, 3, 2, 2, 2, 3, 2, 6, 6, 10, 5, 2, 6, 3, 1, 1, 3, 4, 8, 8, 6, 7, 4, 1, 3, 3, 2, 3, 5, 7, 6, 4, 6, 5, 5, 7, 1, 2, 8, 4, 7, 4, 7, 1, 2, 2, 2, 6, 4, 6, 2, 4, 4, 3, 5, 4, 1, 1, 2, 1, 4, 3, 7, 4, 7, 3, 5, 2, 3, 2, 1, 2, 1, 1, 2, 2, 5, 6, 6, 6, 3, 4, 2, 7, 13, 5, 2, 6, 7, 3, 2, 2, 3, 3, 5, 5, 10, 6, 3, 2, 5, 7, 4, 1, 11, 1, 2, 1, 2, 3, 2, 6, 3, 3, 4, 7, 4, 5, 2, 2, 10, 3, 2, 1, 5, 5, 4, 1, 2, 5, 5, 4, 3, 3, 7, 1, 6, 3, 1, 3, 8, 3, 4, 3, 2, 2, 3, 5, 3, 2, 3, 3, 4, 4, 1, 2, 6, 8, 2, 4, 1, 2, 4, 2, 1, 2, 1, 2, 6, 5, 1, 1, 3, 2, 5, 3, 7, 1, 7, 5, 3, 2, 5, 2, 6, 4, 2, 2, 2, 4, 3, 7, 4, 1, 5, 4, 3, 4, 2, 4, 7, 4, 4, 8, 4, 4, 4, 2, 3, 7, 5, 4, 5, 4, 4, 2, 2, 5, 2, 4, 3, 1, 6, 5, 1, 5, 4, 5, 4, 6, 4, 1, 1, 2, 3, 1, 3, 1, 10, 2, 4, 8, 2, 8, 3, 3, 4, 3, 2, 3, 4, 4, 3, 5, 1, 7, 5, 3, 6, 5, 4, 2, 3, 8, 4, 3, 2, 6, 2, 4, 1, 6, 8, 3, 6, 6, 4, 4, 1, 6, 6, 4, 3, 4, 2, 1, 3, 3, 3, 2, 6, 2, 6, 5, 5, 4, 6, 5, 6, 1, 2, 1, 3, 3, 1, 2, 5, 3, 2, 3, 1, 1, 2, 4, 3, 4, 5, 3, 2, 8, 5, 2, 7, 1, 2, 4, 2, 2, 2, 3, 6, 11, 11, 2, 6, 3, 2, 4, 2, 6, 4, 4, 4, 2, 5, 1, 7, 10, 4, 2, 1, 2, 5, 7, 1, 4, 5, 5, 1, 9, 3, 3, 4, 5, 1, 3, 4, 2, 4, 3, 5, 7, 5, 5, 6, 3, 3, 3, 2, 3, 5, 1, 3, 1, 8, 2, 2, 2, 1, 5, 5, 4, 3, 7, 7, 1, 3, 5, 3, 2, 3, 1, 2, 10, 3, 6, 6, 6, 2, 3, 4, 3, 5, 3, 5, 5, 3, 2, 3, 2, 3, 3, 1, 2, 1, 6, 1, 1, 6, 4, 2, 9, 2, 5, 4, 1, 2, 8, 7, 4, 7, 4, 2, 3, 4, 2, 3, 2, 5, 7, 3, 5, 3, 2, 4, 3, 1, 3, 2, 1, 2, 13, 4, 4, 1, 7, 2, 3, 1, 3, 2, 4, 2, 3, 8, 3, 2, 4, 8, 6, 3, 6, 3, 4, 3, 3, 2, 1, 4, 4, 6, 3, 3, 6, 3, 1, 2, 4, 1, 7, 13, 2, 4, 3, 4, 7, 6, 7, 1, 7, 1, 2, 2, 3, 1, 8, 5, 2, 2, 1, 2, 2, 4, 5, 5, 2, 1, 1, 3, 2, 1, 1, 10, 13, 1, 1, 7, 1, 1, 3, 2, 3, 4, 5, 7, 2, 3, 4, 2, 3, 3, 5, 6, 3, 2, 3, 10, 1, 3, 5, 3, 4, 7, 3, 3, 5, 2, 3, 3, 3, 2, 5, 3, 5, 1, 5, 1, 2, 3, 4, 4, 5, 7, 1, 2, 7, 3, 4, 2, 4, 2, 5, 1, 7, 7, 4, 4, 3, 3, 6, 3, 6, 2, 10, 5, 1, 2, 10, 3, 5, 6, 1, 5, 1, 3, 5, 4, 5, 4, 2, 5, 1, 11, 1, 6, 1, 1, 6, 4, 3, 5, 2, 3, 1, 3, 3, 2, 4, 3, 1, 1, 3, 3, 5, 3, 4, 6, 1, 4, 1, 2, 1, 8, 1, 2, 1, 2, 3, 2, 5, 2, 4, 4, 1, 13, 5, 2, 9, 2, 3, 4, 3, 2, 3, 4, 2, 3, 4, 2, 11, 1, 2, 2, 5, 3, 2, 7, 1, 2, 2, 2, 2, 1, 1, 9, 1, 6, 4, 5, 2, 2, 2, 5, 3, 7, 2, 7, 4, 2, 6, 4, 2, 3, 4, 1, 1, 5, 5, 5, 3, 13, 4, 4, 1, 4, 4, 3, 4, 2, 8, 2, 3, 5, 2, 1, 4, 5, 3, 4, 3, 10, 8, 4, 1, 6, 2, 4, 6, 1, 1, 2, 1, 13, 3, 12, 2, 1, 2, 3, 2, 7, 1, 2, 4, 3, 2, 7, 3, 2, 3, 2, 5, 4, 7, 4, 5, 8, 2, 4, 12, 3, 5, 1, 1, 8, 1, 4, 4, 3, 2, 5, 5, 3, 2, 4, 2, 4, 4, 1, 8, 1, 2, 3, 1, 2, 2, 6, 6, 5, 5, 1, 2, 2, 5, 5, 3, 3, 4, 3, 6, 6, 4, 3, 3, 3, 3, 2, 2, 7, 3, 7, 8, 1, 3, 6, 13, 1, 9, 3, 1, 2, 9, 1, 2, 12, 3, 4, 1, 2, 4, 7, 3, 3, 5, 2, 3, 6, 2, 3, 1, 4, 4, 6, 6, 8, 3, 7, 2, 6, 8, 7, 4, 9, 6, 2, 5, 2, 2, 4, 7, 1, 1, 2, 2, 5, 1, 7, 2, 4, 3, 3, 5, 4, 6, 4, 6, 4, 6, 5, 1, 2, 7, 8, 7, 2, 2, 2, 5, 3, 4, 2, 6, 2, 3, 6, 2, 5, 2, 3, 3, 8, 2, 3, 5, 8, 4, 2, 2, 3, 2, 4, 2, 5, 3, 7, 2, 9, 5, 4, 4, 4, 3, 6, 4, 8, 8, 2, 8, 4, 3, 9, 2, 1, 4, 3, 8, 5, 2, 5, 3, 3, 3, 5, 2, 1, 2, 3, 4, 2, 2, 5, 5, 2, 6, 2, 3, 7, 6, 6, 1, 3, 7, 3, 2, 3, 8, 3, 6, 2, 5, 4, 3, 1, 6, 4, 2, 1, 4, 4, 4, 1, 5, 4, 2, 4, 1, 12, 2, 2, 1, 2, 6, 3, 3, 3, 3, 3, 3, 5, 5, 8, 3, 2, 3, 3, 4, 1, 4, 5, 7, 5, 4, 3, 2, 6, 4, 5, 5, 3, 1, 5, 4, 4, 2, 3, 4, 7, 3, 4, 2, 3, 8, 1, 6, 7, 6, 4, 4, 1, 3, 3, 9, 6, 2, 7, 3, 10, 3, 7, 10, 1, 2, 1, 2, 2, 2, 1, 4, 2, 9, 5, 3, 3, 4, 5, 5, 3, 3, 5, 9, 3, 2, 1, 4, 11, 1, 2, 1, 4, 2, 4, 4, 2, 4, 1, 1, 1, 1, 4, 4, 3, 5, 4, 3, 4, 7, 2, 5, 2, 2, 2, 4, 4, 4, 3, 1, 10, 3, 7, 5, 5, 1, 3, 6, 3, 3, 4, 5, 9, 2, 5, 4, 3, 5, 1, 8, 6, 2, 7, 6, 1, 4, 4, 2, 2, 1, 5, 3, 3, 4, 2, 5, 5, 7, 3, 7, 4, 3, 1, 2, 2, 3, 4, 6, 4, 10, 4, 5, 1, 10, 6, 5, 2, 4, 4, 5, 2, 4, 8, 2, 7, 3, 3, 1, 3, 1, 2, 5, 5, 5, 8, 12, 5, 3, 8, 3, 2, 5, 1, 5, 12, 2, 2, 3, 5, 4, 1, 4, 2, 7, 4, 5, 5, 5, 3, 2, 4, 3, 11, 9, 8, 5, 7, 2, 12, 2, 6, 2, 2, 8, 6, 1, 4, 5, 2, 1, 2, 6, 1, 2, 5, 1, 1, 5, 1, 2, 3, 1, 3, 10, 5, 1, 2, 3, 1, 5, 8, 7, 1, 1, 4, 7, 7, 4, 2, 10, 1, 2, 4, 3, 3, 10, 3, 3, 3, 9, 1, 3, 2, 1, 1, 1, 2, 2, 3, 4, 2, 7, 1, 3, 3, 1, 3, 7, 4, 6, 4, 4, 7, 2, 9, 2, 4, 6, 1, 5, 6, 5, 1, 6, 2, 3, 6, 3, 1, 1, 2, 1, 2, 2, 4, 4, 1, 6, 7, 9, 5, 2, 6, 6, 9, 6, 2, 3, 1, 3, 4, 9, 1, 2, 5, 5, 2, 1, 2, 2, 3, 6, 3, 3, 4, 6, 5, 1, 2, 2, 2, 2, 3, 6, 3, 4, 4, 1, 3, 4, 2, 2, 5, 1, 2, 3, 2, 3, 3, 7, 5, 4, 5, 3, 2, 4, 1, 9, 6, 2, 5, 5, 2, 2, 2, 3, 4, 2, 3, 2, 1, 1, 2, 2, 8, 5, 7, 8, 3, 3, 1, 6, 12, 3, 7, 6, 5, 7, 5, 2, 1, 1, 3, 4, 2, 6, 1, 4, 2, 18, 2, 1, 2, 4, 5, 4, 7, 5, 5, 3, 6, 3, 5, 1, 3, 5, 5, 2, 1, 8, 3, 3, 5, 6, 2, 8, 4, 5, 4, 2, 3, 5, 7, 3, 5, 4, 5, 5, 1, 1, 4, 4, 1, 1, 10, 8, 7, 3, 4, 4, 4, 2, 4, 2, 3, 1, 2, 2, 11, 2, 3, 2, 2, 8, 2, 5, 4, 5, 2, 5, 4, 2, 5, 4, 1, 5, 8, 1, 1, 3, 6, 4, 2, 6, 4, 4, 3, 1, 2, 2, 2, 4, 7, 3, 2, 2, 4, 1, 2, 6, 9, 5, 4, 3, 4, 4, 1, 3, 5, 4, 2, 5, 2, 3, 1, 2, 3, 3, 4, 4, 4, 2, 4, 3, 1, 1, 1, 2, 2, 1, 2, 1, 5, 8, 5, 3, 3, 4, 3, 4, 3, 1, 4, 2, 4, 2, 5, 5, 3, 7, 7, 4, 3, 7, 8, 3, 4, 7, 2, 4, 2, 1, 4, 4, 3, 9, 4, 1, 5, 1, 2, 2, 6, 4, 2, 2, 5, 7, 6, 5, 2, 3, 4, 3, 1, 1, 3, 5, 4, 2, 4, 7, 8, 2, 6, 1, 1, 1, 8, 1, 1, 8, 6, 3, 10, 1, 3, 4, 4, 7, 2, 4, 3, 5, 2, 3, 5, 1, 4, 3, 8, 3, 2, 6, 6, 6, 1, 2, 2, 9, 4, 6, 2, 9, 6, 2, 3, 3, 5, 1, 7, 6, 2, 3, 4, 4, 5, 3, 7, 9, 5, 3, 2, 3, 4, 4, 2, 6, 2, 4, 1, 1, 1, 5, 7, 3, 4, 3, 4, 2, 4, 4, 6, 7, 5, 3, 3, 3, 10, 5, 4, 5, 6, 4, 4, 3, 3, 1, 2, 9, 6, 3, 6, 1, 7, 2, 3, 3, 1, 2, 1, 4, 6, 4, 3, 3, 6, 2, 2, 4, 5, 5, 3, 4, 4, 4, 5, 1, 4, 3, 4, 10, 2, 2, 1, 2, 1, 7, 5, 5, 2, 3, 8, 6, 3, 2, 6, 2, 2, 1, 7, 6, 4, 5, 7, 5, 3, 5, 2, 2, 4, 3, 3, 11, 5, 3, 2, 4, 2, 2, 3, 5, 7, 5, 3, 1, 1, 3, 3, 3, 3, 4, 1, 2, 2, 1, 3, 5, 5, 3, 2, 2, 2, 2, 3, 2, 1, 3, 5, 3, 4, 2, 6, 2, 5, 1, 1, 4, 4, 6, 7, 2, 3, 4, 7, 7, 4, 3, 2, 3, 4, 3, 4, 4, 2, 2, 4, 7, 3, 2, 9, 5, 3, 2, 6, 3, 3, 2, 2, 1, 1, 3, 4, 2, 3, 9, 2, 4, 3, 1, 7, 3, 2, 2, 1, 4, 2, 7, 3, 1, 3, 9, 1, 4, 3, 4, 5, 7, 7, 5, 5, 4, 4, 7, 4, 2, 4, 5, 2, 4, 7, 3, 5, 7, 1, 5, 5, 3, 6, 1, 5, 1, 1, 2, 7, 3, 3, 2, 7, 2, 3, 4, 4, 8, 1, 1, 6, 4, 3, 2, 2, 2, 2, 4, 3, 2, 2, 3, 5, 1, 5, 2, 2, 3, 6, 9, 2, 4, 3, 11, 2, 4, 12, 3, 6, 3, 4, 3, 4, 2, 1, 3, 5, 1, 5, 3, 2, 2, 5, 4, 1, 3, 6, 9, 2, 5, 1, 5, 5, 1, 5, 2, 1, 1, 7, 2, 1, 3, 2, 6, 6, 2, 5, 4, 1, 5, 2, 1, 3, 5, 5, 2, 1, 4, 1, 2, 7, 4, 1, 3, 1, 7, 5, 5, 2, 1, 1, 6, 1, 5, 5, 1, 5, 4, 5, 10, 2, 3, 3, 4, 3, 6, 7, 5, 3, 1, 4, 1, 2, 8, 2, 5, 4, 9, 3, 3, 6, 4, 12, 4, 1, 6, 3, 1, 3, 3, 2, 13, 3, 2, 8, 3, 5, 2, 7, 4, 6, 5, 4, 6, 4, 4, 1, 4, 5, 3, 4, 5, 3, 2, 1, 1, 3, 1, 5, 1, 1, 1, 1, 3, 1, 4, 7, 3, 5, 3, 6, 2, 3, 6, 1, 2, 2, 4, 5, 4, 7, 3, 3, 3, 5, 2, 3, 1, 2, 3, 6, 2, 11, 4, 4, 2, 2, 3, 6, 6, 1, 3, 5, 2, 4, 6, 4, 3, 8, 7, 3, 3, 3, 10, 6, 3, 5, 1, 2, 4, 7, 5, 6, 1, 3, 7, 14, 12, 3, 2, 2, 4, 1, 1, 4, 2, 2, 2, 5, 4, 4, 4, 12, 3, 1, 4, 4, 2, 6, 6, 3, 7, 3, 4, 3, 2, 3, 4, 2, 7, 2, 4, 3, 5, 4, 4, 2, 5, 2, 3, 2, 6, 6, 7, 9, 6, 4, 4, 3, 10, 2, 3, 6, 3, 3, 1, 8, 1, 3, 2, 6, 4, 6, 1, 6, 3, 5, 7, 2, 1, 3, 1, 4, 2, 4, 4, 4, 2, 4, 3, 6, 2, 6, 3, 2, 3, 4, 4, 6, 5, 2, 1, 1, 5, 1, 6, 5, 2, 2, 2, 3, 4, 5, 7, 5, 2, 1, 3, 1, 5, 4, 3, 3, 3, 1, 4, 1, 1, 2, 5, 7, 4, 1, 5, 5, 1, 2, 4, 7, 5, 2, 12, 8, 2, 4, 2, 4, 2, 6, 3, 4, 5, 1, 8, 1, 3, 2, 4, 2, 3, 3, 4, 6, 2, 1, 1, 3, 2, 6, 4, 10, 1, 5, 4, 2, 13, 2, 3, 2, 2, 3, 1, 1, 5, 4, 3, 3, 11, 3, 2, 2, 6, 1, 1, 3, 3, 3, 3, 5, 9, 6, 4, 8, 3, 2, 3, 8, 4, 3, 1, 11, 5, 1, 3, 5, 2, 5, 4, 3, 1, 2, 7, 6, 4, 6, 8, 2, 3, 2, 7, 4, 3, 3, 4, 4, 3, 3, 8, 4, 2, 2, 3, 4, 3, 1, 5, 7, 9, 2, 3, 4, 3, 6, 7, 2, 3, 1, 9, 5, 1, 9, 4, 1, 2, 4, 4, 6, 7, 2, 2, 4, 8, 1, 5, 2, 3, 3, 2, 2, 1, 5, 6, 6, 3, 1, 4, 5, 5, 3, 4, 2, 5, 5, 4, 3, 4, 2, 2, 5, 9, 9, 2, 4, 3, 3, 3, 4, 6, 2, 2, 2, 6, 6, 4, 4, 2, 2, 4, 2, 10, 3, 7, 3, 3, 3, 8, 2, 5, 3, 5, 3, 3, 4, 8, 4, 3, 4, 14, 1, 3, 1, 6, 1, 6, 4, 5, 4, 4, 4, 3, 2, 4, 4, 1, 3, 2, 6, 7, 3, 2, 3, 1, 3, 5, 1, 3, 5, 2, 9, 4, 2, 4, 3, 2, 3, 2, 2, 5, 9, 6, 5, 2, 1, 1, 5, 1, 13, 2, 13, 4, 6, 2, 2, 7, 3, 2, 2, 6, 4, 6, 3, 12, 4, 4, 3, 10, 2, 3, 15, 3, 6, 4, 3, 7, 4, 1, 3, 3, 4, 2, 4, 3, 3, 4, 2, 4, 6, 5, 2, 3, 4, 4, 3, 5, 3, 1, 5, 6, 3, 2, 3, 4, 8, 4, 2, 5, 5, 1, 3, 13, 9, 3, 1, 13, 2, 5, 5, 2, 4, 5, 4, 12, 6, 1, 8, 2, 1, 2, 9, 7, 2, 1, 4, 3, 6, 4, 5, 4, 4, 3, 2, 7, 1, 9, 2, 7, 1, 1, 1, 1, 7, 3, 6, 3, 4, 5, 2, 6, 3, 4, 3, 2, 2, 3, 7, 4, 5, 3, 6, 4, 2, 1, 7, 1, 4, 2, 4, 1, 2, 1, 1, 1, 1, 1, 1, 1, 1, 8, 5, 7, 8, 4, 5, 4, 5, 5, 5, 2, 1, 3, 5, 3, 6, 5, 2, 3, 3, 6, 4, 1, 4, 4, 5, 8, 4, 4, 1, 1, 3, 4, 4, 3, 2, 3, 7, 2, 1, 1, 3, 1, 6, 2, 1, 3, 1, 2, 4, 5, 6, 6, 3, 6, 2, 4, 2, 2, 2, 1, 7, 5, 2, 5, 3, 2, 5, 3, 3, 4, 2, 5, 3, 4, 3, 4, 4, 6, 2, 6, 3, 7, 1, 4, 2, 2, 3, 4, 2, 6, 6, 5, 5, 4, 2, 4, 9, 2, 1, 4, 3, 10, 7, 3, 4, 3, 4, 3, 11, 7, 8, 4, 4, 3, 2, 3, 3, 3, 4, 3, 2, 4, 3, 9, 4, 2, 3, 2, 3, 4, 3, 6, 2, 3, 3, 2, 4, 5, 5, 2, 7, 3, 3, 4, 5, 4, 6, 5, 5, 1, 3, 1, 5, 4, 4, 1, 5, 8, 3, 4, 2, 2, 3, 3, 2, 1, 2, 3, 4, 5, 4, 1, 3, 2, 3, 6, 4, 3, 2, 2, 2, 4, 3, 4, 1, 6, 3, 5, 3, 2, 5, 3, 4, 3, 8, 2, 5, 4, 5, 3, 3, 3, 1, 8, 2, 4, 1, 3, 5, 3, 3, 4, 4, 1, 8, 7, 2, 5, 3, 2, 2, 4, 3, 5, 3, 2, 3, 5, 3, 10, 6, 5, 5, 4, 2, 2, 3, 3, 3, 2, 2, 1, 3, 1, 1, 1, 3, 1, 1, 3, 4, 2, 1, 3, 1, 1, 5, 1, 7, 6, 5, 6, 1, 3, 3, 4, 5, 3, 3, 3, 1, 2, 1, 3, 2, 6, 2, 2, 7, 1, 5, 1, 8, 4, 3, 8, 3, 2, 2, 2, 3, 4, 7, 1, 5, 3, 5, 4, 3, 1, 5, 3, 1, 1, 3, 3, 3, 2, 2, 2, 3, 2, 6, 2, 3, 1, 5, 4, 2, 4, 1, 3, 3, 2, 4, 3, 4, 1, 2, 1, 1, 1, 4, 3, 3, 1, 1, 3, 5, 3, 3, 6, 7, 1, 1, 6, 7, 1, 1, 2, 1, 1, 3, 2, 1, 6, 6, 4, 2, 2, 2, 4, 2, 4, 1, 7, 8, 2, 1, 6, 8, 2, 8, 2, 3, 9, 6, 1, 4, 5, 3, 4, 3, 3, 3, 4, 4, 5, 3, 3, 3, 5, 1, 4, 2, 3, 1, 4, 3, 6, 2, 2, 2, 6, 1, 7, 7, 3, 5, 3, 2, 2, 1, 2, 1, 11, 3, 8, 4, 9, 1, 2, 7, 4, 3, 5, 4, 2, 4, 4, 2, 5, 4, 2, 2, 6, 3, 1, 1, 9, 3, 2, 3, 4, 2, 3, 3, 3, 2, 6, 1, 2, 3, 3, 2, 2, 1, 4, 6, 5, 2, 6, 2, 2, 3, 7, 7, 3, 1, 5, 1, 3, 3, 3, 4, 4, 4, 3, 3, 3, 2, 4, 6, 1, 2, 8, 2, 4, 2, 3, 1, 1, 1, 5, 4, 5, 5, 2, 3, 3, 1, 1, 3, 3, 4, 6, 8, 7, 1, 2, 1, 4, 3, 3, 4, 2, 5, 2, 2, 1, 3, 1, 3, 5, 4, 1, 4, 8, 3, 5, 2, 1, 1, 1, 5, 5, 1, 2, 1, 1, 1, 4, 4, 4, 6, 6, 8, 1, 1, 1, 6, 4, 6, 5, 2, 3, 1, 4, 1, 3, 2, 1, 3, 5, 11, 3, 3, 9, 7, 4, 9, 1, 4, 7, 3, 1, 8, 2, 1, 3, 6, 5, 3, 5, 5, 6, 3, 12, 2, 1, 3, 2, 3, 7, 4, 5, 2, 1, 3, 9, 3, 6, 2, 6, 2, 1, 2, 3, 3, 2, 1, 4, 2, 4, 5, 2, 1, 9, 5, 8, 2, 3, 5, 4, 1, 7, 2, 3, 3, 4, 1, 2, 6, 1, 1, 1, 5, 1, 9, 5, 1, 2, 2, 2, 6, 5, 3, 1, 3, 1, 8, 1, 1, 3, 5, 2, 3, 2, 2, 3, 4, 1, 2, 2, 2, 2, 5, 2, 1, 3, 2, 3, 4, 2, 3, 2, 3, 1, 4, 2, 5, 2, 4, 2, 12, 5, 3, 4, 2, 7, 7, 4, 2, 1, 2, 4, 2, 1, 3, 5, 3, 5, 2, 3, 4, 4, 3, 2, 1, 2, 5, 4, 4, 1, 2, 6, 5, 4, 4, 6, 1, 4, 3, 1, 5, 1, 1, 2, 1, 2, 5, 4, 4, 6, 5, 2, 3, 12, 2, 5, 2, 2, 8, 1, 1, 3, 5, 4, 3, 2, 3, 5, 1, 8, 2, 3, 4, 2, 1, 5, 6, 6, 4, 1, 2, 1, 3, 1, 2, 2, 1, 3, 1, 4, 3, 6, 2, 3, 3, 1, 2, 3, 4, 2, 1, 3, 5, 4, 1, 1, 5, 2, 1, 3, 7, 1, 5, 3, 2, 2, 3, 3, 4, 2, 6, 1, 2, 3, 3, 4, 6, 2, 2, 7, 1, 3, 4, 7, 6, 8, 2, 4, 7, 2, 2, 3, 7, 2, 2, 3, 3, 5, 4, 1, 2, 3, 2, 3, 4, 2, 4, 3, 6, 1, 1, 4, 4, 5, 9, 1, 4, 1, 2, 6, 11, 3, 3, 4, 1, 1, 4, 7, 2, 2, 1, 3, 3, 2, 4, 3, 3, 3, 3, 2, 1, 1, 2, 3, 1, 3, 1, 1, 6, 7, 4, 3, 1, 1, 4, 1, 8, 3, 2, 5, 5, 2, 8, 3, 3, 1, 9, 6, 7, 4, 2, 2, 4, 4, 3, 3, 4, 6, 11, 8, 4, 7, 4, 5, 1, 1, 3, 3, 3, 3, 6, 1, 3, 3, 6, 3, 5, 2, 4, 1, 6, 3, 9, 9, 1, 2, 2, 3, 6, 2, 3, 2, 1, 2, 1, 2, 4, 1, 2, 5, 1, 3, 5, 1, 2, 6, 8, 5, 3, 7, 5, 6, 9, 3, 2, 3, 4, 3, 8, 2, 4, 5, 1, 2, 2, 5, 3, 4, 5, 1, 11, 4, 4, 7, 6, 1, 5, 4, 3, 1, 8, 5, 1, 6, 4, 4, 4, 3, 3, 1, 3, 3, 9, 6, 1, 3, 1, 1, 1, 1, 4, 2, 2, 4, 2, 4, 1, 4, 1, 7, 6, 2, 3, 8, 3, 4, 3, 2, 4, 5, 3, 4, 2, 3, 2, 2, 3, 3, 2, 2, 1, 5, 7, 2, 4, 5, 5, 4, 5, 3, 1, 5, 3, 5, 3, 10, 4, 8, 4, 9, 6, 1, 7, 4, 1, 3, 1, 6, 2, 6, 3, 7, 3, 1, 2, 1, 2, 10, 3, 10, 4, 5, 3, 2, 6, 1, 10, 1, 7, 8, 1, 1, 2, 8, 7, 2, 3, 8, 5, 7, 9, 2, 2, 3, 4, 3, 2, 7, 1, 3, 4, 1, 3, 2, 7, 7, 3, 4, 2, 2, 7, 2, 9, 2, 2, 3, 2, 3, 7, 3, 1, 7, 3, 2, 1, 4, 5, 2, 8, 1, 2, 3, 2, 3, 1, 3, 1, 2, 1, 4, 3, 1, 4, 6, 2, 5, 4, 2, 2, 3, 3, 2, 2, 5, 4, 4, 1, 5, 2, 5, 4, 1, 2, 6, 2, 4, 3, 2, 3, 1, 1, 2, 4, 1, 4, 1, 4, 8, 3, 3, 4, 5, 4, 1, 7, 1, 1, 2, 2, 1, 1, 3, 1, 3, 5, 2, 4, 3, 2, 2, 2, 7, 1, 4, 9, 2, 4, 2, 2, 3, 4, 3, 8, 7, 4, 3, 3, 5, 1, 5, 8, 4, 1, 5, 4, 3, 1, 4, 1, 3, 1, 3, 3, 2, 2, 2, 4, 4, 3, 1, 4, 3, 4, 5, 5, 6, 1, 4, 7, 4, 5, 5, 3, 14, 3, 1, 3, 1, 1, 2, 3, 1, 4, 2, 2, 6, 6, 6, 3, 1, 4, 1, 7, 1, 4, 1, 7, 5, 1, 3, 1, 6, 3, 2, 3, 2, 3, 7, 5, 8, 2, 1, 13, 1, 7, 2, 5, 7, 2, 8, 3, 5, 2, 3, 2, 5, 5, 3, 1, 2, 6, 5, 1, 3, 5, 1, 3, 4, 2, 6, 1, 7, 6, 3, 4, 2, 1, 1, 3, 3, 2, 1, 5, 1, 5, 1, 5, 1, 1, 2, 4, 7, 3, 9, 3, 6, 1, 3, 3, 5, 2, 1, 1, 2, 1, 2, 3, 1, 5, 7, 7, 3, 2, 4, 8, 3, 1, 6, 1, 2, 1, 1, 6, 4, 1, 7, 4, 2, 3, 2, 4, 1, 3, 10, 3, 2, 2, 1, 2, 6, 6, 2, 4, 2, 6, 6, 3, 8, 3, 3, 5, 3, 3, 4, 2, 2, 6, 3, 1, 4, 3, 2, 3, 6, 6, 11, 1, 1, 1, 2, 3, 1, 7, 3, 3, 5, 4, 9, 1, 7, 2, 7, 2, 4, 5, 1, 2, 5, 3, 1, 2, 4, 8, 2, 3, 8, 4, 3, 3, 4, 8, 6, 6, 3, 4, 6, 5, 1, 3, 3, 1, 1, 1, 8, 3, 4, 3, 3, 1, 5, 4, 5, 1, 3, 1, 5, 3, 3, 10, 6, 3, 6, 1, 2, 1, 3, 6, 3, 3, 4, 1, 5, 6, 8, 2, 3, 3, 2, 3, 3, 5, 2, 1, 2, 5, 6, 2, 5, 4, 4, 2, 3, 2, 3, 5, 2, 3, 3, 1, 5, 3, 3, 3, 4, 2, 1, 1, 1, 2, 1, 5, 3, 3, 6, 5, 5, 5, 8, 6, 2, 11, 2, 2, 12, 5, 1, 2, 1, 5, 2, 3, 3, 3, 7, 5, 6, 1, 5, 3, 4, 4, 3, 2, 6, 2, 1, 2, 3, 3, 5, 3, 1, 3, 7, 9, 9, 8, 3, 6, 3, 1, 3, 16, 2, 3, 3, 3, 2, 3, 2, 2, 4, 6, 8, 3, 5, 3, 5, 5, 2, 7, 5, 3, 3, 2, 4, 5, 4, 10, 2, 2, 4, 9, 1, 4, 8, 4, 1, 3, 6, 3, 3, 3, 5, 2, 4, 1, 2, 1, 2, 2, 2, 4, 2, 1, 8, 7, 1, 1, 5, 1, 4, 3, 2, 1, 7, 4, 4, 4, 6, 1, 4, 5, 4, 7, 2, 3, 6, 3, 1, 3, 4, 5, 6, 9, 5, 3, 3, 2, 9, 1, 2, 5, 4, 3, 2, 8, 4, 4, 6, 2, 4, 1, 1, 5, 4, 2, 3, 2, 8, 3, 3, 4, 6, 2, 1, 4, 2, 2, 1, 7, 2, 4, 2, 3, 2, 5, 2, 3, 1, 2, 4, 3, 5, 3, 6, 2, 4, 3, 2, 8, 4, 7, 2, 3, 4, 6, 2, 3, 1, 2, 1, 1, 10, 5, 4, 3, 3, 4, 2, 5, 1, 1, 4, 9, 2, 8, 4, 2, 3, 1, 4, 4, 2, 3, 10, 2, 2, 5, 2, 3, 7, 3, 3, 2, 4, 2, 6, 3, 1, 4, 7, 4, 6, 8, 2, 3, 3, 5, 3, 3, 3, 6, 2, 5, 1, 2, 1, 8, 8, 4, 3, 2, 2, 8, 9, 1, 2, 5, 6, 6, 1, 6, 8, 3, 1, 5, 3, 9, 2, 3, 4, 3, 1, 2, 1, 1, 3, 4, 2, 7, 2, 1, 4, 7, 4, 1, 3, 9, 1, 1, 2, 4, 4, 3, 2, 1, 2, 2, 3, 2, 4, 4, 3, 3, 5, 3, 1, 10, 2, 1, 1, 7, 3, 4, 3, 3, 5, 4, 1, 3, 1, 5, 3, 2, 8, 2, 4, 1, 2, 4, 7, 1, 2, 5, 1, 1, 1, 3, 1, 2, 1, 2, 1, 1, 3, 2, 1, 6, 8, 3, 9, 2, 2, 13, 2, 3, 6, 2, 4, 5, 5, 2, 2, 1, 1, 2, 2, 2, 3, 4, 3, 2, 5, 3, 1, 6, 3, 4, 6, 1, 4, 4, 5, 7, 1, 1, 2, 2, 8, 5, 5, 5, 2, 11, 1, 6, 6, 4, 3, 6, 2, 3, 4, 2, 6, 6, 3, 5, 2, 1, 5, 3, 7, 2, 4, 7, 3, 6, 7, 5, 1, 6, 3, 5, 5, 3, 5, 1, 4, 4, 4, 2, 3, 1, 5, 4, 2, 3, 4, 2, 4, 3, 12, 3, 7, 1, 5, 5, 1, 1, 4, 2, 1, 4, 3, 5, 4, 6, 8, 3, 2, 6, 3, 2, 1, 3, 6, 7, 3, 2, 2, 2, 10, 6, 1, 1, 2, 4, 5, 6, 2, 3, 4, 2, 2, 7, 4, 1, 4, 5, 4, 1, 4, 3, 4, 1, 1, 2, 2, 2, 6, 5, 1, 13, 2, 1, 8, 1, 1, 4, 2, 5, 3, 2, 3, 3, 4, 4, 1, 2, 2, 5, 2, 4, 3, 6, 9, 4, 4, 10, 5, 4, 4, 1, 3, 4, 4, 3, 5, 7, 4, 1, 2, 3, 2, 2, 4, 2, 1, 5, 2, 3, 2, 1, 7, 5, 4, 2, 9, 4, 2, 6, 12, 5, 5, 7, 2, 5, 2, 3, 2, 4, 3, 2, 1, 6, 5, 1, 2, 2, 3, 4, 9, 4, 4, 5, 2, 4, 5, 8, 4, 3, 5, 1, 2, 4, 3, 1, 4, 4, 3, 6, 3, 2, 4, 3, 1, 1, 6, 4, 5, 1, 4, 3, 7, 1, 1, 3, 2, 3, 3, 4, 4, 9, 4, 3, 7, 1, 3, 8, 1, 1, 1, 1, 1, 9, 1, 5, 5, 5, 1, 1, 2, 3, 4, 9, 2, 3, 7, 1, 3, 5, 2, 4, 2, 1, 1, 1, 7, 1, 7, 6, 5, 1, 3, 5, 1, 1, 2, 3, 2, 2, 3, 6, 2, 2, 6, 7, 3, 4, 2, 7, 1, 1, 2, 3, 3, 1, 5, 8, 1, 2, 2, 2, 2, 3, 1, 2, 1, 3, 1, 4, 2, 5, 2, 5, 6, 5, 3, 10, 3, 3, 8, 4, 3, 3, 3, 4, 4, 2, 5, 3, 2, 1, 1, 1, 5, 4, 1, 2, 3, 4, 1, 6, 6, 1, 4, 1, 5, 7, 5, 9, 2, 5, 5, 3, 7, 2, 4, 4, 3, 7, 6, 2, 1, 2, 4, 3, 5, 2, 4, 4, 4, 2, 3, 3, 3, 4, 3, 2, 6, 4, 2, 1, 1, 1, 2, 3, 1, 2, 3, 3, 2, 3, 2, 4, 6, 4, 6, 4, 3, 2, 6, 6, 6, 3, 2, 7, 2, 2, 1, 2, 4, 3, 2, 1, 3, 4, 3, 5, 1, 4, 3, 2, 2, 8, 3, 2, 2, 2, 3, 2, 2, 2, 4, 6, 2, 1, 6, 2, 8, 2, 1, 3, 4, 3, 3, 2, 2, 4, 3, 3, 2, 4, 9, 7, 4, 2, 6, 1, 1, 1, 2, 1, 7, 4, 2, 3, 5, 2, 5, 10, 5, 2, 6, 3, 2, 3, 1, 5, 2, 6, 6, 1, 6, 4, 11, 4, 4, 6, 2, 2, 2, 2, 7, 1, 3, 2, 2, 5, 4, 4, 6, 1, 5, 3, 3, 8, 2, 1, 5, 4, 3, 2, 4, 3, 1, 3, 3, 5, 7, 3, 3, 3, 3, 6, 3, 2, 6, 3, 2, 1, 1, 3, 11, 2, 3, 1, 2, 3, 1, 3, 4, 2, 2, 1, 5, 2, 3, 1, 4, 2, 3, 5, 6, 2, 1, 2, 1, 5, 3, 2, 2, 3, 4, 3, 1, 1, 3, 3, 7, 4, 1, 9, 1, 4, 2, 6, 5, 6, 7, 3, 1, 2, 4, 4, 3, 5, 5, 4, 4, 3, 4, 3, 2, 7, 10, 2, 1, 1, 3, 3, 3, 7, 4, 7, 3, 3, 1, 2, 2, 1, 11, 5, 5, 7, 4, 1, 3, 5, 2, 4, 1, 4, 4, 4, 2, 5, 6, 1, 6, 3, 9, 1, 2, 3, 4, 9, 1, 1, 4, 2, 5, 2, 2, 1, 3, 9, 1, 4, 1, 5, 4, 5, 1, 5, 3, 4, 1, 3, 2, 6, 4, 2, 8, 5, 5, 2, 3, 4, 1, 1, 5, 5, 4, 8, 2, 3, 1, 3, 6, 3, 4, 3, 4, 4, 4, 8, 7, 1, 5, 7, 6, 4, 3, 4, 4, 1, 2, 4, 2, 3, 4, 6, 3, 7, 3, 2, 7, 2, 5, 2, 2, 5, 3, 4, 10, 10, 2, 2, 2, 4, 3, 8, 3, 2, 4, 7, 1, 7, 13, 5, 5, 1, 4, 4, 2, 2, 3, 9, 1, 5, 2, 3, 5, 5, 5, 2, 2, 4, 1, 5, 6, 3, 2, 10, 1, 5, 4, 8, 1, 2, 4, 3, 3, 2, 3, 4, 4, 4, 3, 3, 2, 3, 6, 1, 7, 4, 1, 4, 4, 2, 2, 4, 8, 2, 3, 4, 3, 4, 3, 8, 3, 5, 1, 1, 4, 1, 3, 4, 2, 10, 1, 1, 4, 6, 5, 7, 3, 5, 2, 4, 2, 3, 7, 4, 1, 4, 1, 3, 1, 3, 7, 3, 1, 3, 1, 8, 3, 2, 3, 2, 1, 1, 10, 3, 7, 2, 2, 1, 5, 5, 5, 2, 5, 7, 10, 4, 6, 4, 3, 1, 4, 5, 5, 5, 4, 5, 2, 5, 5, 3, 4, 1, 3, 3, 6, 4, 3, 5, 5, 6, 4, 6, 2, 2, 1, 3, 2, 3, 1, 2, 2, 5, 6, 3, 2, 3, 1, 3, 3, 3, 3, 5, 1, 1, 1, 1, 7, 7, 3, 9, 1, 2, 1, 1, 1, 8, 9, 4, 1, 2, 2, 4, 4, 3, 1, 2, 5, 6, 2, 3, 2, 4, 3, 2, 1, 2, 5, 7, 5, 2, 1, 6, 4, 3, 4, 3, 5, 4, 4, 3, 3, 1, 2, 4, 4, 2, 10, 2, 6, 1, 8, 1, 1, 2, 4, 4, 2, 6, 1, 2, 5, 5, 4, 3, 11, 3, 5, 2, 3, 3, 4, 4, 4, 2, 1, 2, 5, 5, 6, 11, 4, 1, 4, 1, 3, 3, 5, 1, 6, 4, 7, 2, 3, 8, 2, 1, 4, 3, 7, 2, 5, 6, 5, 2, 2, 7, 6, 2, 5, 4, 2, 1, 1, 1, 1, 2, 3, 8, 3, 5, 9, 2, 3, 4, 7, 3, 6, 9, 2, 2, 8, 2, 5, 5, 4, 3, 2, 5, 1, 3, 1, 2, 5, 3, 2, 4, 1, 5, 1, 1, 2, 7, 3, 2, 3, 4, 2, 5, 5, 4, 3, 3, 5, 4, 3, 4, 4, 4, 1, 2, 2, 4, 5, 7, 2, 2, 1, 5, 3, 3, 1, 2, 3, 6, 2, 3, 2, 2, 5, 4, 3, 4, 3, 4, 1, 2, 1, 2, 3, 2, 5, 2, 1, 2, 2, 2, 5, 1, 3, 5, 5, 4, 1, 4, 5, 2, 3, 5, 3, 2, 5, 7, 5, 3, 5, 7, 3, 4, 2, 9, 4, 1, 4, 6, 10, 1, 5, 3, 3, 3, 2, 3, 7, 3, 8, 4, 3, 1, 1, 4, 2, 1, 5, 2, 4, 1, 5, 11, 5, 4, 3, 5, 6, 4, 2, 5, 4, 4, 1, 1, 6, 4, 3, 1, 2, 5, 1, 3, 8, 4, 4, 2, 4, 2, 2, 2, 2, 1, 1, 10, 3, 4, 3, 3, 5, 7, 4, 3, 1, 2, 4, 3, 2, 6, 13, 2, 4, 5, 7, 4, 3, 2, 2, 3, 2, 4, 4, 4, 3, 2, 10, 2, 3, 4, 2, 2, 3, 3, 6, 5, 1, 4, 3, 8, 1, 1, 6, 1, 6, 5, 4, 3, 4, 5, 8, 1, 5, 3, 6, 3, 5, 3, 3, 3, 5, 8, 1, 2, 4, 7, 4, 3, 1, 5, 2, 1, 2, 1, 1, 4, 7, 2, 2, 3, 3, 3, 2, 5, 1, 3, 5, 3, 3, 3, 1, 6, 11, 5, 2, 2, 5, 7, 1, 4, 4, 4, 1, 3, 2, 8, 3, 5, 1, 1, 3, 2, 1, 2, 2, 1, 3, 2, 3, 2, 3, 4, 4, 6, 6, 3, 1, 2, 2, 4, 4, 4, 2, 2, 1, 6, 2, 6, 2, 1, 2, 2, 4, 1, 2, 2, 2, 7, 3, 6, 4, 4, 2, 1, 2, 6, 10, 5, 2, 3, 1, 3, 1, 6, 10, 2, 1, 4, 5, 6, 3, 5, 1, 3, 3, 1, 4, 3, 12, 3, 2, 5, 4, 2, 5, 6, 3, 6, 2, 1, 2, 3, 5, 1, 3, 2, 9, 1, 3, 3, 1, 1, 1, 4, 1, 4, 3, 5, 4, 3, 3, 5, 1, 1, 4, 2, 2, 10, 4, 7, 4, 5, 5, 10, 7, 3, 1, 2, 2, 2, 5, 4, 7, 1, 3, 2, 3, 2, 4, 13, 2, 3, 1, 10, 3, 4, 5, 5, 1, 3, 1, 3, 3, 5, 2, 2, 1, 6, 2, 3, 3, 2, 6, 7, 3, 2, 3, 8, 2, 4, 7, 6, 3, 4, 3, 6, 3, 3, 5, 3, 5, 2, 3, 3, 8, 4, 4, 3, 4, 4, 1, 4, 2, 1, 3, 3, 7, 2, 2, 6, 3, 3, 1, 5, 2, 7, 7, 2, 2, 1, 3, 2, 2, 3, 3, 3, 3, 3, 3, 1, 2, 1, 1, 1, 5, 3, 3, 2, 2, 1, 2, 3, 2, 4, 3, 2, 1, 1, 3, 1, 1, 4, 1, 3, 3, 4, 5, 4, 5, 2, 3, 5, 2, 7, 1, 4, 5, 1, 6, 6, 5, 2, 3, 6, 2, 6, 3, 1, 4, 6, 1, 1, 7, 2, 2, 3, 3, 1, 4, 4, 3, 3, 1, 1, 4, 2, 2, 11, 2, 4, 2, 3, 6, 7, 2, 4, 6, 1, 2, 3, 4, 2, 6, 10, 3, 7, 3, 1, 4, 2, 7, 6, 4, 3, 5, 5, 4, 4, 1, 3, 5, 2, 1, 3, 3, 2, 5, 1, 9, 4, 2, 3, 2, 1, 8, 2, 1, 2, 10, 2, 1, 1, 1, 2, 5, 6, 1, 3, 4, 1, 3, 5, 5, 4, 1, 2, 1, 4, 7, 1, 1, 1, 6, 7, 3, 4, 1, 4, 4, 2, 4, 3, 3, 1, 4, 9, 8, 4, 7, 1, 4, 3, 2, 2, 2, 3, 2, 4, 5, 3, 2, 3, 1, 2, 5, 10, 1, 3, 2, 2, 2, 10, 1, 6, 4, 4, 9, 4, 3, 3, 3, 2, 9, 4, 4, 3, 1, 2, 3, 5, 5, 7, 10, 2, 1, 4, 3, 11, 3, 3, 3, 4, 2, 2, 2, 1, 8, 2, 3, 2, 4, 3, 1, 2, 3, 3, 3, 1, 1, 9, 3, 2, 1, 4, 4, 5, 2, 3, 4, 3, 2, 2, 5, 1, 2, 7, 2, 7, 3, 2, 3, 3, 3, 3, 7, 5, 3, 3, 3, 1, 6, 6, 3, 5, 8, 5, 4, 1, 1, 5, 3, 1, 3, 2, 1, 4, 1, 3, 3, 8, 1, 6, 1, 1, 4, 4, 3, 1, 3, 2, 3, 3, 4, 6, 4, 2, 2, 2, 2, 7, 6, 4, 4, 1, 3, 7, 3, 1, 3, 7, 5, 5, 5, 9, 2, 9, 6, 2, 9, 10, 3, 1, 3, 9, 1, 6, 3, 3, 4, 5, 10, 3, 2, 1, 3, 2, 2, 2, 6, 4, 2, 3, 2, 4, 3, 2, 2, 2, 2, 9, 1, 1, 1, 4, 2, 5, 4, 6, 3, 3, 3, 10, 4, 4, 1, 5, 2, 4, 3, 3, 2, 3, 2, 6, 3, 1, 1, 2, 3, 6, 2, 2, 4, 1, 3, 3, 2, 3, 3, 4, 2, 5, 2, 1, 6, 2, 2, 3, 2, 1, 5, 1, 11, 2, 1, 3, 5, 8, 5, 5, 6, 1, 6, 3, 9, 1, 2, 2, 2, 1, 2, 2, 1, 1, 1, 2, 6, 4, 1, 1, 3, 1, 3, 8, 1, 2, 3, 1, 5, 2, 5, 8, 1, 3, 2, 4, 2, 3, 2, 5, 4, 2, 5, 2, 6, 12, 2, 3, 4, 8, 5, 3, 5, 5, 3, 1, 1, 2, 3, 1, 3, 2, 4, 2, 6, 4, 6, 7, 3, 5, 7, 3, 2, 4, 2, 3, 1, 5, 3, 5, 2, 1, 3, 4, 3, 3, 1, 1, 1, 1, 9, 2, 3, 2, 2, 3, 1, 5, 2, 2, 4, 1, 2, 4, 1, 8, 3, 2, 2, 2, 4, 2, 8, 2, 8, 6, 1, 2, 8, 5, 7, 8, 4, 5, 3, 3, 5, 8, 6, 4, 3, 4, 2, 6, 5, 4, 4, 4, 2, 1, 2, 1, 8, 12, 2, 5, 2, 1, 1, 6, 2, 1, 4, 9, 3, 1, 7, 1, 1, 3, 4, 5, 3, 1, 6, 1, 9, 1, 6, 2, 5, 5, 3, 4, 2, 2, 2, 2, 3, 6, 6, 4, 3, 3, 3, 2, 2, 1, 2, 2, 2, 4, 2, 6, 3, 1, 2, 3, 2, 2, 4, 3, 9, 5, 1, 1, 4, 1, 1, 4, 1, 5, 3, 3, 4, 2, 1, 2, 4, 7, 4, 7, 3, 4, 2, 5, 6, 3, 6, 4, 8, 2, 3, 4, 1, 3, 1, 3, 4, 5, 3, 2, 5, 2, 5, 2, 7, 8, 1, 4, 4, 2, 4, 1, 3, 3, 4, 4, 2, 5, 4, 2, 9, 6, 4, 1, 2, 3, 1, 1, 2, 1, 3, 5, 1, 2, 2, 5, 4, 3, 2, 7, 3, 1, 8, 1, 3, 4, 3, 2, 3, 5, 3, 4, 8, 2, 5, 2, 5, 4, 3, 2, 3, 3, 2, 1, 8, 3, 1, 3, 3, 5, 4, 4, 3, 3, 1, 4, 1, 6, 4, 7, 5, 6, 4, 1, 2, 3, 3, 5, 3, 7, 1, 4, 2, 10, 2, 9, 1, 5, 6, 3, 2, 2, 1, 5, 7, 3, 3, 6, 3, 1, 2, 3, 4, 4, 6, 2, 5, 1, 4, 4, 3, 4, 2, 2, 3, 7, 9, 2, 3, 2, 6, 13, 9, 3, 3, 3, 2, 4, 1, 4, 5, 2, 6, 4, 1, 5, 4, 1, 4, 2, 1, 1, 6, 2, 1, 1, 3, 2, 5, 4, 6, 4, 2, 4, 2, 2, 3, 2, 2, 3, 1, 1, 8, 4, 2, 1, 3, 2, 5, 3, 4, 4, 7, 5, 10, 1, 2, 4, 2, 3, 4, 3, 5, 2, 3, 7, 7, 11, 1, 1, 4, 4, 2, 5, 3, 5, 4, 3, 2, 4, 4, 2, 4, 8, 2, 3, 3, 4, 3, 3, 5, 3, 5, 3, 5, 3, 1, 5, 12, 2, 2, 3, 2, 5, 8, 3, 3, 1, 3, 5, 3, 6, 2, 9, 4, 1, 4, 6, 2, 4, 7, 4, 3, 3, 4, 3, 1, 3, 4, 3, 4, 4, 5, 3, 3, 1, 3, 2, 4, 4, 2, 1, 3, 5, 5, 5, 3, 3, 4, 3, 5, 2, 6, 2, 2, 8, 8, 2, 6, 8, 4, 3, 2, 4, 5, 4, 3, 8, 2, 6, 5, 2, 3, 2, 3, 1, 2, 7, 1, 5, 6, 8, 4, 9, 7, 3, 5, 1, 6, 2, 1, 2, 3, 6, 2, 3, 4, 2, 1, 1, 10, 1, 1, 3, 9, 5, 3, 5, 4, 7, 1, 4, 3, 2, 2, 6, 3, 5, 3, 3, 5, 7, 2, 4, 4, 2, 2, 5, 6, 2, 4, 4, 2, 2, 5, 5, 7, 3, 5, 2, 2, 6, 3, 2, 3, 4, 2, 4, 7, 4, 10, 8, 5, 1, 5, 1, 1, 2, 7, 1, 4, 4, 7, 7, 2, 3, 4, 4, 5, 2, 1, 2, 11, 3, 5, 5, 1, 4, 4, 6, 1, 4, 4, 2, 2, 1, 4, 5, 2, 5, 7, 7, 6, 1, 7, 3, 6, 6, 3, 6, 4, 4, 3, 4, 11, 6, 7, 1, 4, 6, 6, 5, 8, 3, 4, 2, 3, 10, 1, 1, 4, 9, 1, 8, 3, 7, 8, 5, 2, 2, 3, 3, 3, 11, 4, 2, 1, 3, 6, 12, 3, 5, 4, 1, 1, 15, 1, 2, 7, 4, 2, 6, 4, 4, 6, 2, 6, 1, 3, 1, 2, 6, 9, 9, 2, 6, 5, 3, 6, 3, 4, 7, 5, 2, 1, 6, 1, 2, 6, 3, 6, 1, 4, 3, 7, 5, 1, 1, 3, 4, 2, 4, 3, 1, 1, 4, 1, 2, 1, 2, 1, 2, 2, 2, 4, 6, 2, 6, 3, 2, 5, 1, 3, 2, 4, 6, 6, 2, 4, 4, 3, 5, 2, 4, 5, 10, 3, 5, 1, 1, 2, 5, 3, 1, 10, 1, 2, 7, 2, 6, 5, 6, 10, 2, 4, 7, 2, 2, 2, 3, 5, 1, 7, 3, 7, 3, 10, 6, 5, 2, 3, 3, 4, 4, 5, 5, 3, 3, 2, 6, 4, 2, 3, 4, 9, 2, 6, 8, 6, 3, 1, 2, 4, 4, 3, 4, 2, 1, 1, 10, 1, 11, 1, 5, 4, 5, 5, 2, 5, 3, 1, 2, 1, 2, 4, 2, 3, 4, 6, 2, 7, 7, 2, 4, 3, 7, 4, 2, 5, 2, 5, 1, 4, 3, 4, 5, 1, 7, 5, 8, 2, 6, 3, 2, 2, 1, 1, 4, 7, 4, 8, 5, 8, 10, 4, 4, 4, 10, 5, 1, 1, 2, 5, 7, 1, 5, 2, 2, 4, 7, 2, 2, 3, 3, 2, 1, 4, 2, 1, 1, 5, 2, 8, 3, 8, 4, 7, 6, 2, 2, 3, 3, 4, 7, 5, 9, 1, 3, 4, 3, 4, 13, 15, 7, 2, 6, 5, 6, 3, 1, 4, 3, 4, 3, 5, 2, 1, 4, 7, 3, 2, 1, 3, 5, 2, 2, 2, 5, 1, 6, 1, 6, 3, 2, 3, 6, 2, 2, 4, 3, 5, 4, 9, 3, 8, 1, 1, 6, 4, 6, 6, 1, 4, 4, 4, 1, 3, 9, 8, 6, 3, 3, 1, 6, 11, 3, 8, 9, 2, 4, 2, 5, 2, 3, 6, 4, 3, 1, 4, 1, 4, 5, 5, 3, 1, 8, 5, 3, 9, 5, 4, 2, 5, 3, 3, 6, 4, 1, 6, 2, 4, 1, 8, 2, 1, 6, 7, 4, 7, 3, 3, 3, 2, 3, 5, 4, 2, 17, 2, 8, 4, 11, 3, 6, 3, 5, 2, 3, 6, 8, 2, 3, 3, 7, 3, 1, 4, 5, 5, 4, 3, 4, 4, 9, 3, 1, 1, 11, 9, 5, 4, 5, 4, 7, 3, 3, 4, 7, 6, 7, 4, 2, 6, 1, 8, 10, 2, 2, 6, 5, 1, 2, 3, 7, 3, 2, 1, 1, 6, 1, 1, 4, 6, 1, 1, 7, 2, 1, 4, 3, 12, 5, 5, 1, 2, 3, 4, 4, 1, 9, 2, 3, 4, 5, 2, 4, 1, 1, 1, 1, 1, 6, 1, 3, 5, 3, 3, 9, 2, 6, 5, 2, 5, 1, 4, 3, 4, 3, 4, 3, 4, 8, 6, 3, 4, 6, 4, 5, 3, 3, 3, 2, 2, 4, 5, 6, 6, 6, 5, 7, 5, 6, 6, 8, 7, 2, 8, 1, 8, 6, 3, 2, 3, 4, 3, 1, 2, 5, 4, 9, 2, 12, 13, 13, 3, 1, 2, 5, 2, 7, 8, 12, 3, 6, 3, 5, 4, 4, 1, 5, 5, 1, 2, 3, 2, 5, 8, 3, 2, 5, 3, 4, 8, 6, 5, 8, 1, 6, 6, 4, 7, 4, 9, 4, 4, 6, 3, 2, 9, 5, 5, 2, 4, 1, 3, 5, 4, 2, 6, 12, 2, 3, 7, 5, 3, 6, 2, 2, 2, 5, 3, 2, 6, 1, 2, 4, 6, 3, 6, 7, 1, 1, 4, 7, 12, 2, 7, 3, 3, 5, 7, 2, 2, 8, 3, 8, 7, 2, 2, 3, 3, 1, 3, 4, 4, 5, 3, 7, 2, 8, 4, 4, 3, 9, 2, 4, 13, 3, 3, 2, 8, 10, 6, 3, 1, 1, 4, 1, 2, 2, 2, 7, 4, 2, 2, 2, 2, 2, 1, 3, 3, 2, 2, 4, 4, 3, 5, 7, 5, 5, 1, 5, 2, 3, 6, 6, 2, 3, 1, 2, 2, 3, 6, 3, 1, 3, 2, 4, 5, 3, 4, 4, 2, 1, 3, 5, 12, 2, 10, 7, 1, 4, 1, 9, 2, 6, 3, 1, 3, 4, 10, 3, 3, 4, 4, 3, 5, 2, 1, 4, 4, 5, 1, 8, 9, 6, 8, 6, 1, 2, 1, 8, 4, 3, 5, 1, 5, 6, 4, 4, 13, 3, 4, 4, 1, 12, 3, 4, 6, 4, 1, 7, 5, 3, 3, 2, 2, 1, 4, 9, 3, 2, 5, 2, 3, 1, 6, 3, 1, 2, 7, 3, 7, 4, 4, 8, 5, 3, 3, 5, 9, 9, 6, 6, 3, 1, 4, 2, 1, 3, 4, 2, 4, 5, 1, 4, 1, 1, 3, 2, 3, 2, 1, 2, 2, 2, 1, 2, 2, 7, 3, 3, 6, 8, 4, 3, 2, 5, 2, 11, 1, 3, 2, 1, 1, 6, 5, 1, 6, 9, 5, 4, 4, 10, 4, 5, 1, 3, 2, 5, 7, 6, 3, 7, 2, 4, 9, 1, 5, 5, 6, 2, 5, 6, 5, 4, 1, 11, 10, 10, 1, 1, 3, 2, 3, 6, 1, 6, 3, 5, 2, 3, 4, 3, 9, 5, 4, 1, 2, 2, 4, 5, 1, 10, 11, 3, 4, 4, 5, 6, 4, 3, 2, 3, 1, 5, 2, 3, 5, 6, 2, 2, 3, 4, 6, 5, 1, 9, 3, 10, 2, 3, 3, 4, 3, 10, 5, 3, 3, 2, 4, 3, 8, 11, 6, 2, 1, 6, 1, 3, 2, 3, 5, 3, 1, 4, 2, 4, 11, 5, 2, 1, 3, 1, 1, 2, 1, 7, 1, 2, 4, 5, 4, 3, 7, 2, 2, 2, 3, 8, 3, 1, 5, 8, 5, 3, 6, 9, 4, 1, 6, 7, 3, 2, 4, 6, 1, 6, 9, 2, 2, 3, 5, 2, 11, 2, 3, 3, 5, 3, 2, 9, 2, 1, 13, 3, 1, 3, 2, 3, 3, 4, 9, 1, 6, 14, 1, 1, 3, 2, 3, 3, 3, 3, 2, 3, 9, 10, 11, 3, 8, 4, 4, 1, 4, 8, 3, 4, 5, 2, 2, 8, 1, 3, 4, 1, 5, 3, 3, 3, 9, 5, 5, 1, 4, 5, 1, 2, 3, 3, 9, 6, 9, 2, 4, 5, 4, 2, 4, 2, 2, 2, 2, 2, 1, 6, 8, 5, 2, 4, 7, 2, 2, 8, 3, 5, 2, 6, 5, 1, 2, 3, 4, 6, 8, 5, 2, 7, 4, 4, 3, 5, 1, 4, 2, 1, 2, 3, 8, 1, 6, 4, 1, 4, 5, 5, 9, 3, 2, 5, 5, 2, 4, 2, 3, 3, 3, 1, 6, 1, 3, 3, 3, 3, 5, 3, 1, 7, 4, 6, 9, 1, 3, 9, 6, 4, 4, 4, 2, 2, 3, 2, 2, 1, 1, 2, 1, 4, 2, 2, 3, 5, 2, 6, 6, 3, 5, 2, 3, 3, 3, 3, 8, 8, 2, 5, 10, 5, 7, 5, 5, 5, 3, 2, 4, 1, 4, 6, 1, 1, 5, 2, 6, 3, 6, 5, 7, 3, 3, 1, 4, 2, 2, 5, 7, 3, 3, 11, 3, 4, 7, 1, 5, 8, 3, 4, 7, 11, 3, 5, 2, 5, 3, 4, 3, 3, 4, 1, 5, 5, 4, 4, 1, 1, 6, 5, 9, 1, 2, 2, 1, 1, 4, 2, 6, 2, 3, 5, 7, 3, 1, 3, 1, 4, 4, 4, 2, 4, 7, 5, 4, 3, 5, 8, 1, 5, 11, 8, 10, 1, 2, 4, 2, 4, 2, 3, 2, 3, 1, 5, 6, 6, 1, 6, 4, 8, 4, 3, 8, 4, 3, 3, 3, 4, 1, 4, 2, 4, 2, 4, 3, 2, 9, 13, 9, 2, 2, 1, 2, 4, 11, 5, 10, 12, 3, 1, 1, 5, 6, 3, 3, 11, 11, 4, 1, 1, 5, 4, 3, 7, 1, 4, 8, 6, 2, 3, 1, 4, 3, 2, 3, 1, 3, 1, 2, 7, 5, 4, 5, 2, 1, 1, 3, 3, 2, 4, 4, 3, 4, 5, 1, 3, 1, 7, 1, 4, 6, 6, 6, 5, 1, 12, 3, 6, 3, 10, 4, 1, 1, 2, 2, 2, 2, 1, 8, 4, 4, 3, 3, 4, 4, 3, 6, 3, 2, 3, 1, 1, 1, 2, 8, 3, 4, 5, 3, 2, 1, 3, 3, 4, 7, 7, 1, 5, 4, 4, 5, 2, 2, 3, 1, 3, 2, 5, 6, 13, 3, 6, 1, 3, 4, 4, 5, 6, 4, 5, 5, 6, 5, 2, 6, 7, 4, 5, 4, 5, 4, 4, 4, 4, 5, 7, 4, 4, 9, 1, 2, 6, 2, 6, 7, 4, 2, 6, 2, 4, 5, 4, 5, 4, 7, 12, 4, 1, 10, 2, 3, 10, 2, 3, 3, 6, 4, 3, 8, 2, 5, 4, 4, 11, 8, 3, 2, 4, 2, 7, 4, 3, 1, 2, 4, 6, 7, 2, 1, 3, 1, 4, 5, 1, 6, 3, 9, 2, 5, 6, 9, 4, 2, 5, 6, 7, 8, 7, 5, 4, 1, 2, 3, 4, 2, 3, 2, 2, 5, 8, 6, 7, 5, 9, 3, 2, 1, 2, 3, 5, 4, 7, 5, 2, 4, 7, 3, 4, 4, 6, 4, 3, 5, 2, 1, 1, 4, 5, 7, 7, 2, 3, 6, 1, 3, 3, 6, 5, 5, 5, 4, 3, 6, 3, 3, 9, 3, 1, 2, 3, 6, 6, 7, 7, 2, 7, 1, 2, 4, 3, 3, 3, 4, 3, 5, 4, 2, 3, 3, 3, 2, 9, 2, 1, 4, 9, 2, 2, 3, 5, 8, 2, 5, 2, 4, 3, 1, 6, 1, 1, 1, 3, 9, 3, 4, 3, 2, 2, 1, 5, 3, 11, 4, 3, 6, 4, 3, 4, 6, 4, 7, 6, 4, 7, 6, 4, 1, 3, 2, 9, 9, 2, 4, 3, 3, 4, 6, 3, 1, 5, 9, 3, 2, 6, 1, 2, 6, 9, 4, 4, 1, 4, 1, 3, 7, 5, 1, 6, 3, 10, 12, 2, 1, 2, 3, 3, 2, 1, 4, 7, 7, 7, 6, 3, 6, 4, 6, 2, 4, 3, 5, 1, 2, 2, 2, 4, 1, 1, 5, 2, 9, 11, 3, 8, 4, 10, 3, 6, 7, 7, 3, 2, 3, 1, 3, 4, 2, 4, 4, 1, 1, 2, 2, 1, 5, 4, 4, 2, 2, 1, 2, 5, 2, 6, 6, 8, 5, 2, 2, 4, 4, 4, 2, 3, 9, 3, 3, 3, 8, 6, 2, 1, 4, 1, 10, 4, 3, 6, 7, 4, 4, 3, 4, 4, 2, 4, 4, 5, 10, 4, 4, 2, 3, 2, 2, 2, 2, 1, 4, 2, 3, 4, 7, 5, 1, 4, 7, 4, 1, 1, 5, 4, 4, 3, 5, 2, 5, 5, 4, 1, 5, 3, 1, 3, 7, 4, 4, 2, 4, 2, 4, 2, 1, 2, 6, 3, 6, 2, 4, 2, 4, 4, 3, 6, 2, 2, 3, 6, 4, 1, 1, 1, 6, 6, 3, 5, 3, 3, 5, 3, 1, 4, 1, 2, 5, 2, 9, 7, 3, 2, 2, 5, 5, 1, 8, 1, 5, 3, 8, 9, 1, 4, 2, 3, 5, 4, 10, 1, 2, 4, 4, 8, 6, 3, 7, 2, 4, 3, 2, 1, 3, 8, 2, 1, 7, 13, 12, 3, 4, 5, 6, 5, 2, 3, 2, 5, 8, 2, 7, 3, 3, 3, 1, 1, 6, 3, 2, 3, 1, 3, 2, 4, 5, 2, 6, 3, 5, 2, 7, 3, 2, 2, 4, 4, 3, 3, 2, 2, 8, 2, 6, 1, 2, 7, 5, 5, 12, 3, 6, 1, 8, 3, 4, 1, 6, 5, 3, 6, 3, 6, 15, 2, 8, 3, 1, 2, 3, 3, 4, 1, 4, 5, 5, 8, 7, 5, 2, 7, 8, 9, 4, 3, 8, 4, 6, 7, 4, 3, 5, 2, 4, 3, 4, 2, 1, 1, 1, 4, 2, 6, 3, 9, 6, 9, 8, 4, 2, 4, 4, 2, 7, 5, 3, 5, 2, 6, 9, 5, 3, 3, 2, 1, 5, 5, 7, 5, 2, 6, 2, 9, 7, 5, 3, 1, 2, 1, 1, 2, 1, 1, 2, 4, 6, 5, 1, 1, 8, 2, 2, 3, 1, 8, 1, 3, 2, 4, 7, 1, 2, 2, 2, 9, 1, 1, 5, 4, 2, 3, 2, 6, 3, 1, 4, 6, 2, 7, 15, 2, 3, 5, 2, 4, 2, 3, 9, 1, 13, 10, 1, 8, 6, 2, 2, 4, 5, 4, 5, 5, 2, 1, 9, 8, 4, 1, 4, 4, 3, 2, 3, 8, 5, 1, 6, 3, 3, 5, 2, 3, 1, 3, 3, 2, 4, 3, 8, 1, 5, 3, 6, 2, 2, 6, 1, 8, 3, 1, 9, 6, 4, 6, 2, 5, 3, 1, 3, 3, 5, 5, 4, 5, 4, 3, 5, 3, 4, 3, 11, 8, 5, 5, 3, 6, 5, 4, 11, 3, 3, 4, 6, 13, 3, 1, 4, 5, 5, 2, 3, 6, 1, 4, 5, 6, 6, 7, 3, 6, 6, 4, 5, 8, 7, 7, 8, 4, 7, 8, 6, 5, 8, 4, 4, 1, 3, 6, 4, 5, 6, 4, 4, 3, 9, 8, 1, 3, 2, 4, 4, 4, 5, 5, 4, 1, 14, 4, 2, 1, 1, 11, 1, 2, 1, 3, 3, 5, 7, 1, 4, 1, 3, 2, 5, 1, 4, 2, 3, 5, 4, 6, 4, 5, 2, 2, 2, 2, 4, 10, 3, 2, 2, 2, 8, 6, 1, 2, 3, 6, 4, 6, 7, 4, 2, 8, 2, 4, 4, 4, 6, 2, 4, 4, 3, 9, 6, 1, 8, 2, 3, 2, 4, 7, 3, 5, 4, 1, 1, 3, 3, 3, 5, 9, 2, 3, 5, 4, 3, 3, 5, 1, 2, 11, 3, 5, 3, 8, 1, 3, 6, 7, 4, 4, 5, 2, 9, 6, 1, 4, 2, 5, 9, 1, 3, 4, 4, 4, 2, 3, 7, 1, 1, 7, 3, 1, 1, 1, 1, 4, 4, 6, 5, 10, 2, 5, 7, 2, 7, 6, 2, 3, 4, 4, 8, 2, 6, 3, 3, 1, 5, 7, 1, 1, 2, 4, 4, 12, 1, 6, 4, 1, 3, 8, 10, 4, 2, 3, 7, 2, 2, 8, 6, 1, 5, 3, 3, 3, 3, 2, 1, 1, 6, 2, 1, 1, 2, 10, 2, 1, 2, 3, 5, 2, 4, 1, 5, 9, 4, 9, 9, 6, 3, 5, 2, 12, 2, 4, 2, 1, 4, 5, 5, 1, 2, 12, 4, 4, 3, 1, 4, 9, 7, 4, 6, 5, 5, 6, 2, 4, 2, 9, 4, 1, 1, 3, 3, 7, 4, 4, 1, 6, 9, 8, 5, 2, 12, 4, 5, 2, 3, 1, 3, 2, 1, 2, 1, 1, 3, 2, 2, 2, 6, 4, 2, 7, 7, 4, 5, 8, 2, 1, 4, 8, 3, 1, 1, 2, 3, 1, 3, 7, 1, 8, 1, 3, 11, 7, 6, 1, 4, 5, 4, 1, 5, 4, 8, 3, 5, 2, 1, 5, 3, 5, 5, 1, 1, 5, 2, 10, 1, 2, 7, 5, 1, 1, 1, 2, 5, 7, 10, 1, 5, 7, 2, 4, 4, 2, 7, 6, 3, 7, 3, 4, 2, 3, 5, 6, 5, 3, 11, 2, 5, 8, 1, 3, 3, 1, 8, 5, 4, 6, 2, 3, 6, 5, 5, 1, 1, 3, 8, 5, 1, 2, 8, 4, 3, 9, 2, 4, 2, 3, 6, 6, 6, 4, 3, 5, 1, 3, 5, 9, 5, 5, 6, 2, 2, 4, 5, 11, 2, 4, 5, 1, 1, 10, 4, 5, 5, 7, 9, 7, 5, 2, 4, 4, 8, 2, 2, 6, 4, 6, 3, 2, 5, 1, 6, 5, 3, 1, 3, 4, 8, 12, 1, 1, 7, 4, 2, 1, 4, 3, 3, 6, 5, 4, 5, 3, 2, 2, 4, 7, 5, 6, 1, 7, 6, 6, 4, 5, 5, 3, 4, 6, 3, 4, 5, 2, 9, 2, 1, 5, 4, 1, 5, 8, 1, 4, 2, 1, 4, 7, 2, 1, 13, 1, 11, 14, 2, 5, 5, 9, 6, 3, 3, 3, 4, 13, 1, 9, 1, 2, 8, 7, 6, 3, 12, 5, 1, 9, 5, 8, 2, 5, 4, 12, 4, 1, 6, 1, 1, 3, 4, 5, 3, 3, 8, 5, 6, 9, 9, 3, 5, 1, 4, 3, 2, 2, 4, 2, 5, 3, 4, 3, 10, 7, 8, 2, 1, 6, 1, 7, 3, 3, 3, 1, 5, 4, 12, 3, 3, 7, 3, 6, 1, 4, 2, 2, 3, 5, 1, 3, 3, 2, 3, 2, 1, 1, 7, 3, 2, 7, 2, 1, 1, 2, 7, 5, 7, 5, 3, 2, 1, 1, 3, 2, 4, 3, 9, 4, 4, 2, 1, 6, 3, 2, 4, 4, 1, 4, 3, 10, 6, 1, 4, 3, 8, 1, 2, 2, 1, 1, 2, 6, 6, 3, 2, 5, 3, 1, 6, 8, 2, 4, 3, 1, 7, 5, 3, 7, 3, 6, 7, 5, 5, 2, 1, 1, 6, 4, 3, 3, 5, 3, 9, 7, 5, 4, 6, 3, 2, 5, 4, 4, 1, 4, 4, 8, 6, 3, 6, 3, 4, 8, 4, 5, 3, 8, 5, 3, 2, 5, 2, 7, 4, 1, 3, 3, 2, 1, 12, 3, 5, 5, 7, 2, 1, 4, 10, 2, 5, 5, 3, 3, 2, 2, 7, 3, 5, 10, 4, 6, 6, 7, 1, 8, 6, 5, 2, 6, 2, 3, 2, 2, 4, 2, 2, 2, 8, 2, 2, 4, 11, 5, 2, 5, 10, 9, 3, 10, 7, 4, 4, 8, 2, 2, 4, 6, 5, 6, 7, 4, 7, 5, 3, 7, 11, 2, 5, 3, 7, 4, 2, 2, 11, 5, 4, 1, 4, 10, 3, 2, 12, 5, 9, 8, 5, 1, 4, 3, 4, 1, 1, 3, 4, 2, 7, 4, 3, 5, 3, 6, 5, 3, 1, 4, 3, 8, 3, 3, 1, 2, 2, 2, 2, 1, 1, 1, 4, 4, 5, 3, 8, 2, 7, 7, 3, 4, 1, 2, 1, 5, 2, 6, 2, 4, 2, 4, 3, 3, 1, 4, 7, 3, 5, 1, 2, 4, 6, 8, 3, 3, 2, 1, 2, 4, 4, 7, 1, 2, 2, 11, 4, 7, 4, 3, 4, 3, 6, 4, 3, 2, 11, 1, 8, 6, 1, 1, 4, 10, 3, 4, 3, 5, 5, 8, 5, 8, 2, 11, 5, 4, 1, 1, 2, 6, 11, 5, 5, 3, 6, 2, 8, 7, 5, 5, 7, 1, 4, 4, 5, 4, 6, 6, 1, 4, 5, 5, 3, 3, 6, 4, 5, 6, 2, 4, 9, 1, 2, 8, 1, 1, 1, 2, 8, 15, 3, 3, 5, 1, 6, 9, 4, 4, 4, 2, 3, 5, 3, 4, 3, 3, 2, 6, 5, 8, 2, 4, 3, 1, 1, 1, 1, 12, 2, 9, 2, 4, 5, 6, 6, 4, 4, 5, 1, 3, 2, 5, 3, 8, 2, 2, 4, 7, 7, 4, 3, 2, 3, 4, 4, 8, 3, 4, 6, 7, 5, 4, 7, 1, 4, 3, 6, 6, 7, 2, 2, 7, 3, 3, 2, 2, 1, 1, 3, 5, 3, 6, 4, 7, 6, 7, 4, 11, 4, 3, 1, 7, 1, 9, 1, 4, 2, 5, 3, 2, 4, 1, 1, 6, 4, 4, 1, 8, 2, 2, 6, 8, 2, 8, 4, 3, 2, 4, 3, 4, 2, 3, 8, 4, 5, 3, 6, 4, 3, 3, 3, 1, 3, 12, 3, 15, 7, 6, 11, 10, 2, 3, 8, 1, 4, 3, 1, 3, 3, 3, 2, 3, 3, 4, 3, 3, 1, 1, 3, 2, 4, 6, 2, 7, 5, 3, 5, 5, 2, 4, 2, 5, 3, 3, 10, 4, 4, 5, 1, 2, 3, 5, 1, 6, 4, 5, 1, 3, 2, 8, 2, 6, 2, 1, 2, 3, 11, 1, 1, 9, 8, 12, 3, 6, 4, 1, 2, 5, 2, 3, 1, 3, 1, 1, 1, 2, 2, 1, 8, 2, 6, 9, 3, 7, 2, 5, 1, 4, 1, 1, 1, 1, 2, 5, 8, 4, 6, 6, 3, 2, 5, 2, 4, 3, 4, 5, 4, 2, 2, 1, 1, 7, 3, 4, 3, 8, 3, 1, 3, 1, 7, 1, 7, 7, 6, 1, 5, 5, 1, 8, 10, 10, 4, 5, 1, 5, 3, 5, 4, 5, 2, 4, 8, 4, 4, 2, 4, 3, 3, 1, 2, 13, 2, 11, 2, 9, 4, 8, 4, 6, 1, 3, 1, 3, 3, 3, 5, 4, 3, 2, 5, 5, 3, 5, 10, 5, 3, 12, 4, 1, 4, 2, 1, 2, 6, 5, 5, 2, 9, 3, 1, 5, 1, 2, 6, 3, 3, 2, 1, 4, 3, 2, 6, 6, 1, 3, 2, 2, 3, 1, 3, 5, 3, 4, 8, 13, 3, 3, 5, 4, 4, 2, 4, 5, 1, 4, 3, 7, 3, 4, 4, 4, 6, 6, 6, 5, 6, 6, 2, 1, 2, 1, 2, 3, 5, 1, 12, 4, 1, 3, 1, 9, 5, 3, 6, 2, 8, 4, 2, 3, 1, 5, 7, 2, 3, 1, 1, 2, 2, 2, 4, 3, 6, 9, 10, 4, 2, 4, 5, 4, 7, 3, 4, 3, 3, 1, 5, 4, 10, 3, 4, 6, 2, 3, 3, 5, 2, 3, 2, 6, 9, 3, 2, 2, 8, 8, 6, 5, 7, 13, 7, 5, 3, 2, 9, 6, 7, 9, 4, 6, 7, 9, 2, 7, 9, 4, 1, 2, 10, 1, 2, 2, 9, 4, 11, 6, 1, 3, 2, 3, 2, 2, 4, 3, 2, 2, 4, 8, 5, 1, 6, 6, 5, 1, 2, 7, 6, 7, 5, 4, 3, 3, 6, 2, 8, 2, 2, 8, 8, 1, 8, 1, 6, 12, 4, 10, 7, 5, 8, 7, 1, 5, 4, 4, 2, 7, 8, 3, 3, 2, 5, 3, 3, 8, 10, 6, 4, 2, 1, 1, 4, 3, 6, 3, 3, 5, 3, 2, 11, 2, 3, 5, 3, 2, 3, 3, 6, 3, 3, 1, 2, 7, 6, 5, 3, 2, 2, 3, 3, 11, 3, 1, 10, 3, 2, 8, 3, 1, 5, 4, 4, 3, 3, 4, 2, 1, 2, 6, 4, 6, 3, 1, 5, 3, 1, 6, 9, 2, 5, 7, 4, 5, 4, 8, 3, 3, 4, 3, 7, 4, 4, 5, 5, 8, 6, 10, 6, 2, 1, 1, 4, 1, 3, 4, 1, 2, 3, 4, 6, 2, 3, 3, 1, 2, 4, 5, 2, 4, 4, 4, 7, 1, 6, 4, 4, 5, 9, 7, 1, 5, 2, 3, 3, 8, 9, 4, 4, 12, 2, 4, 3, 1, 1, 5, 5, 1, 4, 2, 12, 1, 3, 9, 3, 4, 1, 4, 2, 1, 3, 6, 3, 3, 7, 3, 2, 1, 4, 2, 3, 5, 5, 1, 4, 5, 2, 8, 3, 3, 6, 6, 6, 3, 3, 9, 8, 1, 6, 8, 10, 6, 3, 4, 4, 5, 3, 4, 3, 6, 5, 2, 3, 3, 1, 3, 7, 4, 1, 9, 7, 6, 7, 2, 7, 8, 4, 6, 5, 7, 5, 6, 1, 8, 6, 1, 10, 14, 1, 1, 1, 1, 2, 5, 2, 8, 5, 7, 1, 2, 4, 5, 3, 2, 5, 7, 3, 8, 6, 3, 6, 3, 1, 3, 7, 3, 2, 7, 3, 4, 4, 1, 10, 2, 3, 5, 2, 9, 5, 6, 8, 10, 3, 4, 7, 10, 3, 5, 4, 1, 3, 4, 5, 2, 5, 2, 1, 1, 2, 4, 3, 4, 4, 10, 6, 1, 5, 3, 5, 3, 6, 2, 5, 1, 2, 6, 5, 2, 6, 3, 3, 2, 5, 1, 2, 2, 3, 5, 6, 3, 12, 10, 1, 2, 4, 3, 5, 3, 5, 9, 5, 7, 4, 3, 4, 3, 5, 1, 6, 2, 4, 3, 6, 2, 7, 6, 3, 2, 3, 13, 9, 3, 2, 4, 4, 7, 7, 4, 9, 5, 2, 7, 1, 2, 2, 8, 4, 2, 1, 2, 4, 3, 1, 4, 2, 1, 6, 1, 6, 2, 8, 1, 8, 4, 5, 6, 2, 3, 2, 2, 8, 6, 4, 7, 7, 4, 2, 2, 5, 5, 5, 5, 4, 6, 4, 4, 5, 5, 6, 3, 4, 1, 7, 1, 5, 4, 1, 5, 4, 6, 7, 9, 4, 4, 2, 3, 5, 3, 2, 6, 8, 1, 4, 4, 6, 1, 4, 3, 1, 2, 1, 1, 2, 2, 1, 5, 4, 3, 3, 4, 3, 4, 7, 3, 2, 6, 5, 3, 1, 2, 4, 3, 2, 1, 4, 5, 3, 5, 2, 1, 4, 6, 3, 4, 3, 4, 2, 1, 8, 3, 2, 3, 2, 7, 10, 4, 4, 5, 3, 2, 3, 3, 7, 2, 3, 3, 3, 15, 2, 2, 6, 8, 3, 5, 2, 5, 9, 3, 5, 7, 3, 8, 2, 6, 6, 1, 5, 2, 2, 2, 5, 1, 5, 2, 2, 6, 1, 5, 10, 6, 1, 2, 3, 3, 1, 3, 2, 1, 4, 3, 7, 2, 3, 4, 7, 3, 5, 7, 3, 7, 3, 5, 1, 5, 3, 4, 2, 2, 2, 2, 1, 1, 6, 5, 4, 4, 8, 1, 3, 6, 1, 4, 6, 3, 1, 3, 1, 1, 13, 5, 3, 3, 8, 1, 1, 4, 3, 2, 2, 1, 3, 3, 4, 9, 6, 4, 14, 3, 1, 7, 2, 2, 6, 6, 4, 3, 1, 3, 1, 1, 3, 4, 2, 11, 1, 5, 4, 1, 2, 13, 6, 1, 2, 1, 2, 5, 1, 2, 3, 5, 1, 2, 2, 9, 7, 9, 5, 2, 5, 6, 3, 1, 2, 2, 1, 5, 2, 3, 2, 2, 4, 4, 4, 1, 2, 1, 2, 2, 6, 1, 9, 3, 5, 5, 5, 3, 2, 5, 5, 3, 11, 7, 3, 1, 2, 4, 6, 2, 2, 6, 3, 1, 2, 9, 7, 2, 1, 4, 7, 2, 3, 6, 7, 6, 2, 2, 20, 2, 1, 1, 3, 3, 6, 5, 3, 3, 10, 7, 3, 7, 2, 4, 4, 6, 2, 2, 6, 2, 2, 2, 4, 7, 4, 7, 5, 6, 1, 3, 2, 6, 4, 1, 10, 4, 10, 3, 1, 2, 2, 3, 10, 5, 3, 2, 3, 1, 2, 8, 4, 3, 2, 7, 2, 3, 3, 2, 3, 4, 2, 2, 8, 4, 2, 5, 4, 4, 8, 2, 3, 2, 4, 4, 5, 3, 5, 3, 1, 9, 3, 2, 1, 1, 2, 7, 6, 2, 6, 4, 4, 5, 6, 4, 4, 6, 9, 3, 5, 3, 2, 2, 4, 4, 1, 7, 6, 5, 3, 3, 3, 5, 2, 1, 1, 1, 1, 3, 1, 1, 5, 7, 2, 1, 4, 10, 3, 4, 2, 3, 6, 2, 11, 4, 5, 4, 7, 8, 4, 6, 3, 3, 7, 5, 5, 4, 3, 5, 5, 1, 4, 3, 2, 3, 6, 3, 4, 3, 9, 4, 3, 5, 11, 1, 5, 3, 5, 3, 4, 7, 4, 1, 2, 1, 8, 4, 6, 7, 4, 5, 11, 1, 3, 4, 6, 4, 3, 2, 3, 3, 6, 1, 4, 5, 6, 7, 8, 1, 3, 1, 2, 1, 3, 7, 12, 2, 2, 1, 2, 10, 8, 2, 3, 2, 4, 3, 5, 2, 8, 7, 6, 1, 4, 3, 4, 2, 6, 7, 2, 3, 3, 6, 11, 6, 2, 2, 1, 3, 3, 2, 3, 5, 2, 3, 7, 3, 2, 4, 2, 2, 6, 4, 4, 5, 2, 5, 2, 4, 2, 6, 5, 3, 6, 3, 3, 3, 2, 6, 2, 4, 2, 5, 4, 1, 1, 2, 5, 2, 3, 4, 4, 4, 2, 5, 5, 1, 5, 6, 1, 4, 2, 8, 1, 1, 3, 3, 12, 1, 3, 2, 1, 2, 3, 7, 5, 1, 5, 6, 7, 4, 7, 3, 1, 5, 5, 2, 1, 5, 2, 4, 2, 1, 1, 5, 9, 4, 1, 5, 4, 2, 6, 5, 3, 1, 1, 1, 5, 2, 7, 4, 4, 8, 7, 1, 4, 4, 6, 4, 2, 5, 1, 1, 5, 5, 10, 2, 3, 1, 3, 6, 2, 5, 2, 2, 1, 2, 2, 5, 1, 5, 2, 2, 4, 3, 2, 4, 5, 2, 2, 4, 1, 2, 2, 4, 1, 1, 8, 6, 7, 9, 3, 7, 4, 5, 3, 1, 3, 1, 2, 2, 8, 4, 3, 7, 1, 4, 1, 4, 3, 6, 5, 3, 5, 1, 4, 4, 3, 2, 1, 1, 4, 8, 3, 3, 2, 3, 7, 6, 1, 5, 1, 2, 3, 5, 3, 7, 4, 1, 3, 4, 9, 1, 1, 2, 1, 5, 3, 8, 3, 1, 8, 2, 3, 4, 2, 1, 2, 3, 5, 3, 5, 1, 2, 4, 7, 4, 1, 5, 5, 7, 2, 1, 4, 2, 3, 3, 2, 6, 7, 7, 2, 3, 6, 1, 3, 4, 2, 3, 2, 4, 6, 5, 3, 4, 3, 4, 2, 3, 4, 6, 10, 2, 4, 4, 5, 6, 2, 3, 2, 5, 1, 2, 4, 5, 5, 3, 4, 4, 6, 6, 6, 9, 12, 4, 4, 2, 7, 1, 2, 3, 2, 5, 5, 4, 4, 3, 4, 10, 2, 3, 5, 2, 2, 1, 1, 2, 1, 1, 2, 3, 5, 3, 5, 4, 1, 4, 9, 2, 4, 2, 1, 2, 3, 3, 1, 4, 3, 3, 2, 6, 3, 5, 4, 5, 3, 3, 1, 3, 1, 5, 4, 8, 2, 1, 2, 1, 5, 4, 1, 9, 4, 6, 5, 1, 2, 2, 6, 1, 3, 2, 4, 4, 4, 5, 5, 1, 2, 7, 2, 3, 4, 5, 6, 7, 3, 3, 6, 2, 3, 5, 2, 6, 2, 4, 2, 7, 5, 9, 4, 2, 2, 5, 6, 6, 7, 3, 5, 3, 4, 6, 4, 8, 5, 10, 6, 4, 6, 2, 3, 3, 3, 1, 1, 7, 6, 5, 5, 4, 4, 6, 6, 8, 3, 3, 9, 3, 1, 1, 7, 3, 3, 8, 1, 6, 5, 4, 2, 2, 6, 1, 3, 4, 3, 9, 4, 2, 5, 7, 4, 1, 3, 2, 4, 7, 3, 6, 5, 7, 5, 4, 3, 1, 5, 3, 3, 3, 4, 6, 2, 4, 5, 1, 3, 1, 1, 4, 3, 3, 4, 6, 11, 1, 9, 5, 6, 3, 2, 3, 4, 1, 5, 5, 3, 4, 4, 4, 5, 1, 8, 3, 5, 4, 2, 2, 7, 2, 1, 2, 5, 4, 1, 4, 6, 2, 5, 1, 4, 3, 5, 3, 4, 2, 2, 2, 3, 5, 5, 3, 3, 3, 3, 2, 2, 5, 3, 2, 1, 3, 6, 7, 2, 4, 4, 3, 12, 1, 2, 2, 6, 2, 4, 4, 4, 2, 3, 3, 2, 2, 1, 2, 2, 4, 2, 2, 1, 5, 2, 4, 5, 7, 6, 5, 3, 5, 5, 4, 4, 2, 3, 1, 5, 2, 2, 5, 1, 8, 6, 4, 3, 3, 3, 4, 1, 1, 6, 2, 6, 2, 2, 7, 1, 5, 2, 4, 7, 5, 6, 3, 6, 5, 2, 6, 4, 3, 2, 2, 6, 4, 4, 1, 8, 1, 5, 6, 5, 1, 2, 3, 3, 1, 3, 3, 4, 4, 4, 5, 6, 4, 3, 1, 6, 3, 3, 2, 3, 2, 5, 3, 5, 4, 4, 7, 3, 9, 5, 4, 5, 3, 1, 5, 5, 4, 2, 1, 7, 1, 4, 4, 10, 1, 1, 2, 2, 4, 3, 4, 2, 8, 1, 8, 3, 2, 3, 2, 5, 2, 3, 1, 12, 2, 2, 7, 3, 5, 4, 2, 1, 7, 2, 1, 6, 4, 3, 6, 6, 6, 5, 1, 6, 4, 3, 4, 5, 5, 9, 6, 4, 5, 3, 4, 3, 4, 2, 3, 6, 4, 3, 9, 3, 1, 2, 3, 3, 2, 4, 4, 6, 5, 4, 5, 8, 6, 6, 4, 3, 7, 2, 4, 2, 3, 3, 5, 3, 4, 2, 6, 1, 3, 3, 5, 2, 2, 4, 7, 2, 5, 4, 3, 5, 4, 6, 6, 3, 1, 3, 4, 5, 7, 1, 5, 3, 4, 1, 2, 7, 3, 3, 4, 9, 3, 1, 2, 1, 6, 2, 1, 2, 4, 5, 7, 3, 4, 3, 3, 2, 7, 1, 5, 4, 6, 10, 4, 1, 2, 1, 7, 5, 3, 2, 9, 4, 3, 6, 6, 3, 1, 4, 6, 7, 6, 2, 4, 7, 2, 5, 3, 1, 10, 3, 4, 3, 5, 5, 3, 2, 6, 2, 8, 4, 3, 3, 1, 3, 6, 3, 3, 3, 5, 2, 3, 5, 2, 3, 4, 1, 3, 1, 2, 8, 3, 4, 6, 1, 2, 1, 2, 6, 8, 2, 9, 3, 2, 2, 6, 3, 8, 3, 5, 3, 1, 1, 1, 3, 4, 4, 7, 2, 7, 4, 5, 4, 2, 9, 3, 4, 3, 5, 4, 5, 4, 3, 6, 1, 1, 2, 1, 2, 7, 2, 2, 2, 2, 2, 2, 3, 4, 1, 3, 2, 1, 2, 4, 5, 3, 3, 6, 4, 3, 4, 5, 3, 6, 3, 4, 8, 6, 6, 11, 4, 5, 1, 2, 4, 7, 9, 4, 5, 3, 4, 5, 1, 6, 4, 1, 3, 5, 2, 3, 5, 5, 1, 8, 7, 4, 2, 2, 5, 3, 6, 4, 1, 4, 8, 3, 4, 2, 2, 3, 3, 1, 11, 6, 4, 4, 3, 4, 5, 7, 2, 5, 7, 3, 3, 8, 1, 10, 10, 2, 2, 2, 3, 3, 3, 7, 3, 3, 2, 6, 3, 2, 4, 5, 2, 4, 6, 5, 2, 3, 3, 6, 3, 4, 4, 4, 3, 2, 1, 12, 1, 3, 7, 1, 5, 2, 2, 6, 3, 5, 6, 5, 5, 2, 2, 5, 1, 5, 4, 5, 4, 4, 2, 8, 9, 3, 1, 3, 3, 3, 5, 3, 3, 2, 2, 2, 4, 6, 17, 2, 2, 8, 3, 1, 3, 3, 5, 6, 3, 3, 2, 5, 2, 7, 2, 3, 1, 4, 4, 2, 7, 4, 2, 1, 2, 7, 2, 2, 7, 5, 7, 3, 6, 4, 4, 2, 1, 3, 2, 4, 1, 5, 2, 6, 6, 7, 4, 7, 3, 3, 2, 5, 2, 5, 4, 2, 4, 1, 2, 1, 6, 1, 3, 6, 5, 4, 5, 3, 1, 3, 5, 3, 1, 5, 7, 3, 7, 6, 3, 4, 2, 4, 3, 2, 2, 1, 10, 1, 8, 2, 3, 3, 7, 3, 4, 2, 2, 2, 5, 5, 4, 4, 6, 3, 5, 4, 4, 6, 4, 4, 5, 3, 5, 5, 2, 2, 7, 5, 3, 4, 2, 3, 1, 2, 1, 1, 7, 2, 7, 2, 3, 7, 1, 5, 5, 1, 2, 3, 2, 3, 3, 2, 8, 2, 6, 1, 1, 2, 3, 4, 3, 5, 4, 1, 4, 11, 3, 4, 4, 2, 4, 5, 2, 3, 6, 6, 5, 3, 9, 6, 2, 6, 3, 6, 4, 6, 5, 6, 4, 2, 1, 3, 4, 4, 4, 2, 3, 1, 2, 5, 2, 4, 5, 5, 3, 2, 3, 14, 3, 5, 5, 4, 3, 2, 4, 6, 5, 3, 7, 1, 1, 3, 2, 3, 3, 4, 3, 2, 3, 1, 3, 3, 5, 3, 2, 4, 6, 1, 6, 7, 6, 1, 1, 3, 1, 3, 1, 8, 4, 4, 6, 7, 4, 3, 7, 4, 6, 5, 1, 6, 5, 4, 5, 14, 11, 1, 2, 3, 1, 1, 1, 6, 2, 4, 3, 5, 3, 3, 1, 9, 4, 5, 1, 3, 3, 1, 4, 2, 2, 1, 7, 3, 4, 5, 1, 1, 3, 3, 3, 4, 6, 2, 4, 5, 4, 4, 5, 3, 2, 3, 7, 2, 2, 3, 2, 3, 10, 5, 3, 4, 2, 5, 7, 2, 5, 3, 7, 2, 6, 6, 3, 6, 3, 3, 2, 4, 6, 2, 3, 5, 4, 5, 8, 5, 5, 1, 5, 1, 1, 3, 3, 2, 1, 5, 1, 3, 2, 2, 5, 3, 5, 1, 7, 2, 6, 5, 1, 8, 8, 5, 4, 3, 2, 5, 4, 3, 1, 2, 4, 4, 3, 1, 5, 6, 5, 4, 9, 4, 5, 5, 2, 3, 7, 8, 4, 6, 6, 5, 5, 5, 3, 3, 5, 3, 3, 2, 4, 2, 2, 1, 3, 3, 7, 5, 4, 2, 1, 4, 4, 3, 3, 2, 5, 4, 6, 3, 5, 1, 3, 8, 6, 5, 5, 4, 3, 3, 2, 3, 4, 4, 3, 6, 4, 7, 3, 4, 10, 2, 4, 4, 2, 8, 9, 6, 3, 3, 2, 1, 4, 3, 3, 3, 2, 1, 3, 9, 1, 4, 8, 4, 6, 4, 1, 3, 1, 2, 4, 4, 4, 5, 4, 2, 4, 6, 6, 2, 1, 2, 2, 3, 2, 9, 1, 9, 3, 4, 4, 1, 3, 1, 4, 8, 3, 5, 8, 1, 1, 1, 4, 2, 4, 3, 2, 1, 4, 3, 2, 7, 4, 1, 10, 1, 1, 2, 4, 5, 6, 2, 7, 3, 10, 1, 4, 7, 4, 5, 7, 3, 3, 11, 2, 4, 2, 3, 5, 4, 1, 5, 4, 3, 2, 3, 3, 6, 2, 2, 5, 1, 2, 5, 12, 5, 2, 3, 6, 4, 1, 2, 10, 4, 1, 1, 6, 6, 5, 8, 3, 6, 1, 6, 2, 2, 1, 5, 2, 6, 1, 6, 3, 3, 1, 3, 2, 7, 8, 1, 6, 2, 3, 1, 1, 1, 4, 5, 1, 4, 1, 6, 2, 11, 1, 1, 3, 1, 6, 2, 5, 6, 3, 2, 5, 2, 7, 3, 3, 5, 2, 1, 4, 5, 8, 3, 3, 1, 1, 3, 1, 3, 1, 6, 3, 4, 1, 3, 1, 3, 2, 4, 4, 3, 1, 1, 2, 2, 1, 7, 7, 1, 3, 1, 3, 7, 7, 6, 3, 4, 2, 3, 7, 5, 3, 3, 5, 2, 4, 4, 3, 4, 2, 5, 6, 4, 1, 3, 7, 2, 4, 4, 3, 4, 2, 1, 7, 4, 3, 2, 1, 1, 3, 3, 2, 3, 1, 6, 4, 3, 5, 3, 3, 1, 3, 12, 2, 6, 5, 4, 4, 3, 4, 6, 2, 2, 3, 1, 4, 1, 1, 1, 2, 3, 5, 6, 2, 3, 1, 2, 3, 2, 5, 2, 5, 3, 3, 3, 5, 6, 3, 2, 12, 2, 2, 3, 2, 7, 8, 7, 5, 2, 7, 2, 5, 3, 5, 5, 1, 3, 4, 1, 2, 2, 3, 7, 6, 1, 4, 1, 1, 4, 4, 2, 5, 7, 2, 9, 2, 3, 5, 7, 2, 11, 3, 5, 2, 4, 2, 7, 5, 3, 1, 1, 5, 7, 3, 3, 5, 2, 7, 7, 4, 9, 2, 3, 5, 3, 3, 1, 2, 7, 5, 5, 6, 2, 2, 3, 2, 3, 9, 3, 2, 4, 5, 5, 12, 1, 7, 1, 3, 2, 4, 3, 5, 1, 4, 3, 5, 3, 3, 2, 12, 3, 4, 3, 1, 1, 1, 1, 9, 3, 4, 7, 9, 4, 6, 6, 2, 8, 2, 6, 4, 3, 6, 2, 2, 3, 2, 6, 3, 4, 5, 8, 2, 6, 4, 1, 8, 3, 2, 8, 3, 3, 5, 6, 2, 3, 3, 3, 2, 5, 4, 2, 3, 3, 2, 2, 3, 3, 7, 2, 1, 6, 4, 1, 3, 2, 9, 8, 5, 3, 5, 6, 2, 5, 2, 3, 2, 1, 3, 3, 3, 2, 1, 2, 2, 3, 6, 2, 6, 1, 4, 5, 13, 6, 4, 6, 2, 4, 6, 2, 2, 2, 1, 3, 4, 5, 2, 2, 3, 1, 4, 2, 3, 1, 4, 7, 5, 6, 1, 3, 2, 7, 8, 2, 2, 4, 3, 8, 3, 1, 7, 4, 6, 1, 2, 6, 5, 3, 4, 4, 4, 8, 2, 3, 1, 4, 11, 2, 3, 3, 2, 4, 5, 4, 7, 2, 5, 2, 5, 6, 6, 2, 1, 2, 3, 3, 4, 4, 2, 4, 9, 1, 1, 2, 5, 1, 7, 8, 4, 1, 2, 10, 7, 8, 4, 4, 1, 1, 2, 2, 2, 8, 1, 2, 4, 4, 7, 6, 6, 4, 3, 4, 5, 5, 4, 4, 3, 1, 5, 5, 2, 5, 4, 1, 4, 2, 9, 4, 11, 2, 5, 1, 2, 2, 3, 3, 4, 2, 7, 5, 4, 2, 1, 3, 2, 2, 7, 3, 4, 6, 7, 3, 5, 2, 5, 1, 8, 3, 3, 2, 4, 1, 2, 6, 1, 6, 5, 5, 2, 2, 3, 2, 3, 8, 15, 7, 3, 2, 1, 2, 1, 2, 1, 6, 3, 3, 2, 8, 3, 8, 2, 5, 2, 4, 1, 2, 9, 1, 5, 3, 11, 8, 5, 1, 5, 2, 4, 6, 3, 1, 2, 4, 1, 8, 6, 3, 2, 5, 1, 3, 3, 4, 4, 5, 7, 6, 7, 7, 4, 9, 3, 5, 9, 9, 2, 3, 6, 3, 4, 6, 1, 7, 8, 3, 4, 4, 3, 1, 11, 4, 2, 2, 2, 2, 4, 3, 4, 2, 2, 1, 6, 4, 1, 4, 2, 2, 11, 6, 2, 7, 3, 2, 3, 4, 2, 3, 2, 6, 8, 5, 6, 8, 2, 5, 5, 4, 3, 4, 3, 2, 5, 7, 1, 5, 1, 5, 3, 3, 3, 4, 1, 11, 3, 5, 2, 4, 3, 2, 1, 1, 9, 5, 6, 3, 4, 1, 4, 1, 3, 7, 1, 1, 2, 2, 2, 9, 7, 4, 4, 2, 5, 2, 6, 4, 1, 6, 1, 4, 8, 1, 2, 2, 5, 2, 2, 5, 3, 4, 3, 4, 3, 7, 3, 5, 1, 4, 4, 4, 2, 1, 4, 2, 1, 1, 4, 1, 2, 1, 4, 3, 5, 7, 3, 9, 1, 3, 6, 4, 1, 1, 1, 9, 5, 7, 5, 8, 7, 12, 2, 5, 5, 5, 4, 5, 1, 8, 6, 4, 3, 5, 6, 2, 3, 3, 3, 3, 7, 6, 1, 5, 3, 3, 3, 5, 2, 5, 2, 3, 1, 4, 3, 4, 3, 4, 9, 4, 3, 4, 4, 6, 3, 5, 4, 6, 6, 6, 6, 2, 4, 7, 2, 1, 4, 4, 7, 6, 3, 2, 1, 3, 2, 2, 1, 4, 1, 2, 10, 1, 4, 4, 3, 6, 7, 6, 1, 5, 3, 12, 1, 1, 2, 3, 6, 6, 2, 6, 1, 7, 4, 2, 3, 1, 10, 3, 1, 4, 5, 4, 4, 5, 4, 3, 4, 6, 3, 1, 4, 5, 4, 9, 2, 3, 5, 3, 3, 2, 4, 1, 3, 3, 2, 1, 2, 1, 3, 7, 1, 6, 4, 5, 3, 7, 5, 3, 2, 3, 2, 3, 3, 5, 6, 1, 7, 2, 2, 1, 2, 4, 4, 2, 3, 5, 3, 3, 3, 4, 2, 2, 14, 2, 7, 3, 2, 3, 3, 5, 8, 4, 6, 10, 8, 3, 2, 5, 1, 3, 9, 3, 5, 1, 2, 3, 8, 5, 8, 6, 2, 6, 4, 9, 1, 1, 5, 1, 1, 3, 3, 1, 3, 2, 2, 4, 7, 1, 10, 2, 2, 1, 1, 2, 2, 4, 3, 4, 2, 6, 3, 5, 1, 6, 2, 1, 2, 1, 5, 5, 5, 3, 3, 2, 4, 3, 2, 2, 9, 7, 4, 4, 4, 3, 4, 6, 2, 3, 5, 2, 2, 10, 1, 4, 3, 4, 3, 5, 11, 1, 1, 11, 2, 2, 5, 3, 2, 5, 7, 4, 1, 4, 4, 4, 2, 2, 2, 4, 4, 4, 5, 9, 4, 7, 2, 4, 4, 8, 6, 4, 2, 4, 2, 4, 4, 3, 4, 6, 4, 4, 6, 10, 3, 4, 3, 1, 4, 2, 12, 3, 4, 3, 1, 2, 11, 3, 3, 2, 2, 5, 7, 5, 2, 2, 4, 1, 3, 4, 3, 7, 4, 1, 10, 3, 6, 5, 1, 2, 2, 3, 6, 1, 3, 2, 5, 1, 5, 9, 3, 5, 2, 6, 3, 11, 3, 2, 2, 4, 2, 5, 4, 5, 4, 8, 6, 2, 1, 1, 1, 2, 1, 2, 7, 6, 14, 2, 5, 4, 3, 7, 5, 2, 1, 3, 3, 4, 10, 4, 3, 1, 4, 3, 5, 4, 5, 1, 4, 5, 2, 3, 3, 3, 7, 4, 2, 3, 1, 6, 2, 4, 3, 5, 3, 1, 3, 3, 2, 7, 1, 6, 3, 10, 3, 3, 3, 5, 2, 6, 2, 1, 3, 4, 4, 9, 4, 5, 2, 4, 4, 4, 2, 3, 4, 3, 2, 7, 4, 5, 2, 2, 4, 5, 3, 3, 5, 4, 6, 2, 1, 1, 4, 4, 7, 3, 4, 1, 3, 1, 1, 3, 6, 11, 4, 10, 1, 8, 1, 10, 6, 2, 1, 4, 1, 7, 4, 4, 3, 7, 5, 3, 12, 3, 1, 2, 2, 5, 5, 4, 3, 1, 4, 4, 6, 3, 11, 3, 6, 3, 2, 10, 5, 2, 3, 9, 3, 3, 3, 8, 11, 5, 2, 6, 4, 4, 1, 2, 13, 2, 4, 6, 5, 3, 7, 5, 6, 3, 2, 2, 2, 2, 2, 3, 3, 7, 3, 7, 9, 3, 5, 2, 1, 7, 2, 4, 3, 6, 2, 4, 5, 2, 1, 5, 3, 1, 4, 7, 1, 1, 3, 2, 8, 7, 1, 4, 6, 3, 3, 8, 3, 1, 4, 1, 3, 5, 4, 2, 3, 4, 9, 8, 6, 8, 1, 10, 3, 3, 3, 2, 8, 4, 3, 6, 4, 3, 3, 10, 11, 4, 6, 1, 5, 4, 3, 6, 1, 2, 1, 1, 1, 2, 3, 1, 2, 2, 1, 8, 5, 2, 4, 1, 4, 2, 2, 5, 4, 5, 2, 6, 2, 3, 8, 7, 1, 4, 6, 2, 4, 3, 3, 3, 2, 2, 1, 8, 6, 5, 5, 4, 7, 3, 6, 6, 3, 1, 2, 1, 2, 1, 7, 3, 1, 7, 2, 2, 2, 3, 3, 3, 6, 7, 3, 3, 4, 5, 8, 7, 1, 2, 2, 2, 7, 4, 3, 9, 6, 1, 7, 5, 6, 6, 7, 2, 2, 2, 3, 4, 8, 3, 7, 5, 4, 2, 2, 4, 6, 6, 2, 9, 1, 6, 1, 2, 3, 15, 4, 7, 1, 4, 1, 3, 3, 3, 8, 1, 4, 1, 1, 5, 3, 4, 6, 3, 10, 2, 1, 4, 1, 2, 2, 2, 5, 3, 1, 3, 1, 6, 1, 3, 3, 5, 3, 1, 6, 6, 1, 8, 9, 3, 3, 4, 6, 4, 3, 2, 4, 6, 3, 3, 1, 3, 6, 3, 6, 9, 3, 3, 8, 5, 2, 2, 2, 10, 2, 6, 2, 2, 3, 3, 9, 8, 7, 2, 6, 5, 3, 5, 2, 2, 2, 4, 7, 5, 1, 9, 1, 6, 7, 3, 4, 4, 1, 7, 4, 1, 3, 3, 3, 1, 1, 3, 7, 6, 6, 2, 2, 7, 3, 6, 7, 4, 3, 6, 5, 6, 5, 1, 1, 2, 3, 5, 10, 1, 5, 2, 7, 1, 6, 3, 5, 4, 9, 8, 5, 9, 1, 1, 1, 1, 5, 3, 6, 7, 2, 1, 1, 6, 3, 2, 3, 4, 5, 4, 7, 7, 11, 4, 9, 5, 6, 6, 7, 2, 8, 2, 3, 1, 3, 4, 4, 1, 2, 2, 1, 6, 7, 5, 6, 2, 1, 4, 4, 7, 5, 8, 4, 5, 2, 2, 5, 3, 5, 2, 1, 11, 2, 6, 2, 4, 2, 1, 5, 10, 3, 3, 6, 3, 2, 2, 3, 3, 5, 3, 3, 4, 4, 5, 8, 3, 6, 2, 5, 7, 2, 3, 4, 1, 6, 8, 7, 2, 2, 10, 2, 2, 1, 2, 4, 6, 3, 7, 2, 4, 2, 2, 3, 3, 6, 2, 1, 8, 4, 3, 1, 4, 1, 1, 1, 1, 6, 2, 2, 4, 6, 3, 7, 3, 3, 8, 2, 4, 4, 4, 3, 5, 1, 10, 2, 6, 5, 4, 4, 1, 3, 5, 2, 2, 2, 3, 4, 4, 5, 4, 13, 7, 3, 5, 4, 1, 2, 8, 7, 3, 1, 6, 2, 4, 4, 9, 4, 1, 3, 3, 3, 8, 4, 5, 2, 2, 2, 8, 3, 5, 2, 6, 5, 4, 2, 3, 9, 5, 1, 6, 2, 5, 6, 7, 4, 8, 1, 8, 2, 7, 7, 9, 2, 1, 1, 2, 6, 2, 5, 4, 7, 1, 4, 5, 3, 5, 6, 3, 1, 6, 3, 3, 9, 6, 4, 5, 2, 4, 4, 3, 6, 1, 2, 3, 2, 4, 4, 2, 3, 5, 4, 4, 5, 3, 2, 4, 4, 6, 1, 3, 11, 7, 5, 8, 4, 4, 3, 6, 4, 4, 8, 2, 2, 2, 7, 2, 1, 2, 7, 4, 4, 4, 7, 1, 6, 1, 1, 4, 7, 2, 3, 4, 7, 5, 3, 6, 3, 5, 7, 3, 5, 3, 12, 2, 9, 2, 2, 1, 2, 5, 4, 2, 2, 5, 7, 4, 8, 4, 5, 2, 5, 3, 3, 6, 2, 4, 5, 2, 4, 3, 7, 3, 2, 10, 6, 3, 2, 3, 4, 3, 6, 2, 2, 3, 3, 3, 3, 1, 6, 9, 7, 3, 4, 11, 4, 7, 4, 4, 5, 5, 11, 11, 1, 2, 1, 7, 6, 4, 1, 3, 3, 2, 5, 6, 3, 6, 7, 4, 1, 4, 6, 2, 1, 5, 5, 3, 4, 7, 6, 3, 3, 7, 1, 4, 4, 7, 6, 9, 4, 2, 5, 4, 1, 4, 2, 6, 2, 1, 8, 1, 6, 2, 5, 2, 4, 5, 2, 1, 4, 2, 1, 5, 6, 4, 5, 3, 5, 4, 6, 2, 5, 1, 4, 5, 3, 1, 1, 5, 1, 5, 2, 5, 4, 6, 2, 1, 4, 5, 6, 3, 3, 6, 7, 5, 2, 6, 6, 2, 1, 7, 7, 3, 3, 9, 8, 7, 5, 1, 12, 7, 8, 4, 7, 5, 6, 6, 3, 4, 1, 3, 1, 1, 1, 2, 5, 5, 3, 1, 2, 2, 6, 1, 3, 2, 6, 5, 8, 7, 3, 4, 9, 6, 8, 2, 2, 1, 6, 2, 1, 6, 4, 4, 1, 5, 6, 3, 3, 1, 4, 2, 8, 11, 1, 1, 3, 3, 2, 2, 1, 6, 4, 3, 2, 2, 3, 2, 1, 1, 2, 3, 1, 2, 3, 7, 5, 2, 2, 4, 9, 6, 3, 3, 3, 2, 6, 6, 3, 10, 3, 4, 6, 3, 2, 1, 4, 2, 3, 2, 7, 2, 7, 5, 4, 5, 2, 4, 2, 7, 4, 4, 7, 2, 3, 2, 1, 3, 4, 6, 11, 4, 1, 7, 3, 3, 4, 6, 6, 10, 2, 2, 7, 1, 6, 3, 7, 7, 3, 3, 4, 3, 4, 2, 4, 1, 2, 2, 1, 1, 2, 1, 3, 5, 5, 8, 3, 2, 1, 1, 8, 5, 6, 5, 3, 3, 7, 5, 3, 3, 6, 2, 3, 9, 2, 1, 7, 3, 6, 6, 3, 2, 1, 1, 3, 3, 6, 2, 1, 2, 1, 2, 2, 4, 3, 2, 3, 2, 4, 1, 1, 2, 5, 1, 3, 3, 2, 2, 7, 2, 4, 3, 1, 2, 1, 2, 3, 2, 5, 2, 6, 3, 2, 3, 2, 2, 3, 2, 3, 7, 1, 1, 4, 5, 2, 10, 6, 7, 9, 6, 6, 6, 2, 2, 1, 3, 8, 5, 5, 3, 7, 6, 5, 3, 7, 1, 1, 4, 8, 9, 3, 3, 8, 7, 1, 2, 1, 3, 2, 4, 4, 5, 3, 3, 4, 1, 4, 2, 1, 3, 4, 1, 3, 1, 5, 2, 5, 1, 4, 1, 2, 8, 3, 11, 2, 10, 9, 1, 4, 5, 3, 3, 2, 6, 7, 3, 5, 8, 2, 1, 3, 1, 6, 6, 4, 10, 4, 2, 2, 7, 2, 4, 3, 5, 9, 12, 1, 3, 7, 3, 4, 3, 4, 3, 4, 1, 4, 4, 7, 1, 3, 2, 6, 6, 2, 7, 4, 3, 2, 4, 2, 9, 3, 5, 7, 2, 2, 2, 5, 4, 4, 3, 3, 2, 3, 3, 3, 4, 8, 4, 3, 2, 5, 4, 2, 3, 6, 6, 3, 10, 3, 4, 6, 3, 2, 7, 8, 1, 1, 3, 5, 9, 10, 3, 2, 3, 3, 1, 5, 2, 4, 1, 4, 5, 1, 1, 5, 5, 1, 4, 3, 5, 4, 2, 3, 3, 4, 2, 1, 3, 4, 3, 2, 4, 3, 2, 3, 5, 3, 1, 1, 1, 3, 4, 2, 4, 8, 1, 1, 2, 2, 5, 1, 4, 6, 1, 4, 3, 3, 5, 3, 2, 3, 5, 3, 10, 2, 3, 3, 6, 6, 4, 1, 8, 6, 4, 3, 7, 4, 3, 4, 4, 2, 1, 7, 6, 1, 3, 3, 9, 1, 3, 1, 4, 1, 1, 4, 3, 3, 7, 2, 3, 3, 1, 4, 3, 1, 7, 7, 1, 5, 2, 3, 9, 1, 1, 6, 2, 3, 4, 2, 2, 3, 3, 4, 2, 1, 3, 10, 2, 9, 6, 4, 2, 12, 2, 1, 2, 8, 2, 7, 2, 3, 7, 2, 1, 3, 5, 3, 1, 5, 4, 6, 2, 3, 4, 1, 5, 2, 5, 1, 6, 1, 5, 2, 2, 4, 6, 3, 2, 1, 5, 2, 3, 2, 4, 5, 12, 4, 11, 5, 1, 5, 4, 2, 4, 2, 5, 1, 2, 3, 4, 3, 3, 1, 6, 8, 7, 1, 1, 7, 2, 1, 1, 1, 1, 2, 11, 2, 3, 1, 3, 2, 3, 8, 4, 3, 6, 4, 4, 6, 4, 1, 3, 2, 2, 5, 3, 4, 3, 2, 3, 1, 3, 2, 6, 4, 6, 4, 4, 2, 3, 4, 3, 1, 2, 1, 8, 3, 1, 4, 3, 2, 3, 17, 4, 5, 3, 1, 2, 1, 4, 3, 2, 5, 7, 1, 3, 2, 4, 2, 2, 5, 3, 5, 5, 8, 3, 5, 6, 4, 3, 2, 1, 6, 1, 4, 3, 3, 8, 4, 1, 3, 6, 4, 10, 2, 9, 5, 3, 4, 5, 4, 3, 12, 2, 5, 1, 1, 2, 1, 13, 4, 3, 7, 3, 4, 3, 5, 3, 2, 11, 4, 3, 2, 9, 3, 7, 5, 2, 3, 3, 1, 4, 7, 2, 4, 2, 3, 2, 6, 2, 3, 2, 6, 2, 11, 6, 3, 2, 3, 2, 7, 3, 4, 4, 2, 8, 4, 8, 3, 4, 6, 2, 4, 2, 3, 6, 3, 1, 2, 5, 9, 1, 3, 11, 7, 4, 8, 6, 1, 3, 5, 3, 2, 1, 1, 4, 2, 5, 2, 1, 5, 6, 4, 5, 6, 5, 5, 2, 1, 1, 3, 5, 3, 3, 5, 7, 5, 3, 3, 4, 2, 9, 3, 1, 1, 2, 9, 10, 2, 2, 2, 3, 3, 2, 4, 2, 1, 1, 3, 2, 4, 6, 3, 1, 5, 3, 3, 3, 1, 1, 4, 3, 4, 6, 2, 1, 4, 1, 5, 2, 3, 3, 9, 3, 2, 4, 2, 2, 4, 3, 2, 5, 8, 6, 3, 4, 2, 7, 2, 2, 3, 1, 4, 5, 2, 4, 3, 5, 3, 1, 2, 5, 1, 5, 2, 1, 5, 5, 2, 3, 3, 11, 3, 2, 4, 3, 6, 1, 3, 7, 3, 1, 5, 2, 2, 6, 7, 6, 2, 5, 1, 4, 6, 7, 3, 5, 1, 2, 9, 2, 3, 2, 2, 4, 7, 2, 6, 4, 4, 1, 4, 5, 2, 1, 4, 4, 4, 5, 5, 1, 3, 3, 2, 3, 4, 1, 3, 3, 2, 2, 6, 9, 7, 2, 2, 6, 5, 3, 8, 3, 2, 2, 1, 3, 1, 2, 2, 1, 2, 4, 3, 7, 4, 3, 2, 4, 4, 5, 2, 3, 2, 1, 4, 1, 1, 3, 2, 1, 4, 1, 2, 5, 1, 5, 5, 3, 1, 8, 5, 5, 6, 2, 3, 2, 4, 8, 1, 6, 2, 3, 1, 4, 3, 6, 4, 1, 2, 11, 1, 5, 2, 3, 5, 4, 1, 4, 4, 6, 8, 1, 4, 1, 1, 2, 2, 3, 2, 1, 1, 1, 2, 2, 2, 1, 2, 2, 3, 2, 5, 5, 3, 6, 4, 4, 2, 1, 10, 6, 6, 8, 10, 8, 8, 5, 2, 4, 9, 6, 4, 4, 5, 4, 4, 3, 6, 3, 2, 2, 6, 4, 2, 6, 4, 4, 5, 3, 1, 2, 1, 9, 3, 4, 1, 4, 4, 6, 2, 6, 3, 3, 5, 4, 7, 3, 3, 3, 7, 3, 3, 4, 2, 4, 3, 1, 3, 1, 6, 4, 3, 5, 3, 1, 2, 2, 2, 1, 2, 4, 5, 4, 5, 5, 3, 4, 2, 6, 2, 9, 2, 5, 6, 2, 2, 6, 3, 1, 4, 2, 3, 4, 3, 2, 6, 11, 3, 2, 1, 1, 5, 5, 3, 3, 2, 1, 3, 3, 1, 6, 1, 4, 1, 4, 1, 2, 5, 4, 1, 2, 2, 4, 1, 1, 3, 2, 1, 1, 2, 1, 2, 5, 4, 5, 7, 10, 4, 5, 1, 1, 3, 2, 8, 2, 5, 7, 2, 2, 4, 6, 4, 3, 2, 3, 3, 4, 11, 5, 3, 3, 1, 1, 3, 5, 3, 2, 4, 5, 4, 1, 5, 2, 9, 5, 3, 2, 2, 1, 1, 2, 5, 4, 2, 2, 1, 4, 4, 1, 4, 1, 1, 2, 2, 3, 5, 4, 3, 2, 1, 1, 3, 1, 5, 5, 2, 3, 5, 2, 1, 5, 2, 6, 1, 2, 4, 4, 1, 8, 5, 3, 6, 3, 2, 2, 1, 11, 5, 2, 5, 1, 4, 2, 1, 10, 4, 1, 4, 8, 4, 4, 7, 4, 3, 5, 9, 3, 5, 2, 2, 10, 3, 4, 7, 6, 5, 6, 2, 2, 4, 3, 2, 2, 4, 6, 2, 5, 5, 3, 1, 1, 3, 2, 1, 1, 8, 3, 1, 1, 6, 2, 2, 5, 4, 2, 2, 3, 6, 2, 1, 2, 6, 6, 1, 3, 3, 3, 3, 6, 5, 1, 5, 2, 1, 11, 8, 1, 1, 3, 2, 3, 5, 3, 4, 1, 3, 6, 3, 3, 1, 6, 7, 2, 3, 2, 3, 4, 5, 1, 2, 3, 9, 4, 2, 4, 4, 3, 11, 1, 4, 2, 5, 7, 2, 6, 6, 1, 5, 1, 3, 3, 2, 3, 2, 6, 1, 2, 2, 1, 6, 2, 5, 1, 3, 3, 3, 5, 2, 2, 5, 1, 2, 4, 2, 8, 5, 3, 3, 2, 4, 1, 4, 4, 3, 9, 4, 3, 6, 7, 2, 6, 2, 3, 2, 2, 3, 5, 6, 3, 7, 1, 3, 6, 4, 1, 2, 7, 8, 2, 2, 5, 3, 2, 3, 1, 2, 2, 3, 3, 1, 3, 4, 2, 3, 2, 3, 3, 4, 1, 3, 3, 4, 1, 3, 14, 2, 4, 2, 6, 6, 5, 5, 2, 5, 10, 4, 1, 2, 5, 6, 1, 8, 5, 7, 1, 2, 4, 5, 5, 6, 5, 3, 7, 1, 2, 3, 5, 3, 8, 1, 12, 4, 3, 2, 3, 3, 3, 1, 2, 5, 2, 2, 6, 4, 4, 2, 3, 2, 3, 8, 3, 3, 6, 5, 3, 6, 8, 13, 4, 1, 5, 8, 3, 3, 8, 2, 2, 1, 1, 5, 1, 3, 3, 4, 2, 3, 8, 5, 1, 2, 2, 3, 4, 3, 5, 8, 1, 5, 4, 3, 6, 7, 3, 2, 4, 1, 4, 1, 3, 2, 6, 6, 6, 6, 2, 1, 4, 2, 5, 1, 3, 3, 3, 6, 4, 2, 4, 3, 2, 1, 1, 5, 5, 3, 5, 10, 2, 3, 2, 2, 6, 4, 3, 1, 5, 3, 1, 10, 7, 4, 5, 4, 3, 5, 1, 1, 2, 1, 1, 5, 4, 1, 2, 5, 4, 2, 8, 2, 1, 7, 1, 7, 6, 8, 1, 2, 1, 1, 5, 2, 2, 4, 1, 3, 2, 1, 9, 3, 6, 1, 2, 2, 1, 1, 1, 1, 3, 1, 4, 2, 4, 10, 4, 2, 12, 6, 4, 3, 5, 6, 3, 4, 7, 3, 5, 4, 3, 3, 1, 7, 6, 2, 5, 2, 1, 4, 8, 6, 3, 5, 4, 2, 9, 7, 4, 3, 5, 2, 3, 2, 3, 2, 2, 3, 7, 4, 3, 10, 2, 2, 5, 3, 5, 6, 5, 5, 2, 1, 7, 5, 4, 2, 4, 6, 3, 1, 6, 4, 7, 2, 6, 2, 4, 8, 1, 8, 2, 4, 5, 2, 3, 1, 1, 12, 1, 1, 2, 6, 1, 3, 5, 4, 8, 3, 3, 6, 9, 5, 3, 4, 3, 3, 5, 3, 7, 1, 6, 7, 3, 6, 5, 2, 2, 3, 6, 4, 7, 2, 6, 2, 1, 2, 4, 3, 4, 5, 4, 2, 4, 3, 6, 7, 2, 3, 4, 1, 6, 5, 2, 3, 4, 8, 8, 3, 2, 1, 2, 5, 5, 3, 2, 6, 2, 9, 4, 6, 8, 7, 5, 5, 8, 1, 2, 1, 7, 8, 3, 3, 6, 7, 2, 4, 4, 1, 3, 4, 4, 4, 1, 3, 5, 7, 2, 5, 3, 7, 3, 4, 2, 5, 5, 7, 2, 9, 7, 3, 1, 1, 5, 2, 9, 1, 3, 2, 3, 6, 3, 7, 3, 2, 2, 1, 2, 4, 1, 2, 7, 2, 2, 4, 5, 1, 7, 10, 9, 3, 2, 4, 2, 3, 2, 8, 13, 3, 7, 4, 4, 2, 3, 8, 3, 5, 4, 1, 3, 4, 4, 1, 5, 2, 1, 4, 2, 3, 6, 2, 6, 3, 2, 1, 2, 3, 3, 2, 2, 10, 8, 2, 11, 4, 6, 3, 1, 2, 6, 5, 3, 7, 8, 2, 1, 3, 8, 2, 5, 1, 2, 3, 1, 4, 2, 1, 3, 6, 14, 4, 1, 4, 2, 3, 5, 2, 2, 2, 4, 1, 4, 6, 6, 4, 3, 4, 3, 1, 4, 4, 7, 1, 12, 2, 4, 4, 2, 4, 6, 1, 4, 10, 8, 3, 1, 7, 6, 3, 7, 4, 5, 2, 4, 1, 3, 4, 2, 3, 1, 5, 7, 7, 6, 4, 1, 3, 1, 3, 1, 2, 4, 8, 5, 8, 2, 1, 1, 10, 4, 5, 5, 4, 5, 1, 2, 6, 2, 2, 1, 2, 5, 7, 1, 8, 4, 3, 4, 1, 3, 3, 1, 5, 5, 2, 5, 2, 1, 2, 7, 3, 3, 1, 3, 8, 2, 4, 7, 3, 1, 5, 3, 7, 1, 3, 2, 2, 3, 6, 5, 5, 4, 3, 4, 4, 7, 2, 4, 2, 4, 3, 3, 4, 5, 4, 8, 3, 4, 3, 4, 7, 4, 1, 3, 5, 1, 5, 2, 3, 2, 8, 3, 2, 6, 4, 2, 4, 4, 2, 5, 6, 7, 3, 8, 3, 8, 4, 1, 8, 6, 3, 7, 5, 2, 2, 1, 1, 2, 12, 7, 4, 2, 10, 2, 9, 3, 11, 6, 1, 6, 2, 3, 4, 1, 5, 6, 3, 1, 3, 6, 4, 2, 4, 2, 4, 3, 2, 4, 3, 3, 2, 1, 1, 5, 1, 8, 2, 3, 2, 2, 4, 4, 2, 5, 2, 1, 1, 1, 5, 3, 3, 4, 1, 5, 4, 1, 3, 14, 1, 3, 5, 9, 8, 2, 8, 3, 3, 2, 3, 6, 3, 5, 3, 1, 1, 4, 2, 6, 5, 3, 7, 4, 4, 6, 2, 2, 2, 4, 2, 5, 4, 1, 3, 4, 8, 2, 5, 3, 3, 1, 4, 3, 6, 4, 2, 2, 4, 4, 3, 1, 7, 4, 3, 2, 7, 1, 7, 5, 2, 2, 13, 3, 3, 7, 5, 2, 5, 4, 5, 1, 5, 2, 5, 1, 2, 2, 6, 5, 3, 4, 3, 7, 4, 1, 6, 2, 8, 5, 1, 3, 4, 2, 5, 4, 2, 5, 3, 3, 5, 3, 2, 4, 4, 2, 1, 7, 4, 4, 4, 5, 10, 2, 4, 5, 2, 1, 3, 6, 2, 5, 6, 3, 4, 5, 4, 4, 3, 6, 5, 3, 3, 2, 1, 1, 1, 3, 6, 9, 6, 2, 11, 2, 7, 1, 6, 7, 4, 3, 5, 2, 2, 4, 5, 1, 4, 5, 2, 4, 6, 2, 3, 5, 2, 2, 7, 4, 4, 5, 3, 5, 3, 7, 3, 1, 3, 2, 8, 1, 1, 6, 6, 2, 1, 2, 4, 6, 3, 2, 2, 2, 3, 2, 4, 4, 5, 6, 7, 3, 2, 2, 3, 1, 3, 3, 4, 3, 4, 5, 3, 5, 1, 5, 10, 8, 2, 6, 2, 8, 2, 6, 4, 1, 13, 7, 4, 4, 1, 4, 2, 6, 3, 5, 2, 5, 2, 3, 2, 2, 1, 5, 2, 4, 1, 5, 5, 2, 6, 2, 1, 9, 6, 3, 4, 6, 4, 6, 5, 3, 9, 6, 8, 5, 2, 1, 9, 5, 5, 3, 8, 4, 6, 1, 9, 6, 2, 5, 5, 12, 4, 6, 1, 5, 2, 1, 1, 1, 2, 4, 2, 4, 10, 7, 5, 5, 2, 2, 8, 2, 5, 5, 2, 3, 1, 1, 1, 1, 1, 2, 4, 5, 4, 3, 6, 3, 5, 4, 1, 1, 1, 6, 1, 1, 7, 3, 2, 6, 5, 2, 7, 1, 3, 4, 5, 2, 1, 7, 1, 4, 7, 1, 5, 6, 7, 2, 2, 8, 7, 5, 1, 3, 5, 4, 2, 8, 5, 3, 3, 4, 5, 6, 3, 2, 2, 3, 1, 4, 2, 3, 3, 2, 6, 4, 1, 3, 2, 5, 3, 5, 6, 5, 8, 1, 4, 1, 2, 8, 3, 6, 3, 1, 3, 6, 6, 1, 5, 1, 8, 9, 2, 5, 5, 6, 4, 3, 3, 3, 2, 5, 4, 1, 4, 3, 5, 2, 3, 1, 2, 5, 2, 7, 1, 5, 4, 2, 6, 1, 6, 8, 4, 1, 1, 7, 1, 3, 1, 2, 3, 2, 2, 3, 2, 6, 5, 1, 3, 7, 9, 3, 3, 6, 5, 1, 3, 2, 2, 2, 2, 1, 4, 1, 10, 1, 2, 1, 2, 3, 4, 2, 2, 1, 3, 1, 3, 5, 5, 1, 7, 6, 1, 7, 4, 6, 3, 7, 7, 2, 1, 7, 5, 5, 8, 3, 7, 1, 7, 7, 6, 1, 1, 3, 5, 2, 3, 6, 5, 1, 1, 2, 1, 1, 3, 4, 5, 15, 6, 2, 4, 6, 3, 6, 8, 1, 3, 5, 5, 6, 4, 6, 10, 5, 8, 1, 3, 3, 3, 2, 4, 5, 3, 2, 4, 3, 3, 11, 5, 4, 5, 1, 5, 1, 5, 2, 8, 5, 1, 2, 1, 4, 2, 3, 7, 1, 1, 8, 3, 2, 1, 1, 10, 1, 5, 2, 8, 6, 2, 8, 2, 6, 5, 9, 2, 4, 8, 3, 2, 1, 7, 7, 2, 9, 4, 4, 4, 4, 4, 7, 1, 5, 3, 7, 6, 2, 3, 7, 4, 6, 2, 1, 4, 2, 1, 1, 2, 4, 8, 7, 4, 4, 4, 6, 4, 4, 4, 1, 1, 3, 2, 1, 6, 5, 2, 3, 1, 5, 2, 2, 2, 1, 5, 11, 1, 3, 2, 6, 6, 5, 4, 1, 2, 6, 3, 3, 5, 2, 11, 5, 3, 5, 5, 1, 3, 4, 3, 3, 9, 1, 5, 2, 1, 4, 9, 2, 5, 5, 2, 7, 4, 5, 4, 7, 4, 3, 3, 2, 3, 8, 1, 2, 1, 1, 3, 4, 4, 3, 4, 4, 4, 10, 3, 12, 5, 1, 5, 6, 13, 2, 5, 4, 6, 3, 1, 7, 2, 3, 1, 3, 4, 6, 4, 1, 1, 2, 5, 5, 11, 1, 1, 3, 1, 1, 1, 2, 4, 2, 1, 10, 5, 3, 3, 5, 3, 2, 2, 4, 2, 3, 5, 8, 4, 3, 1, 3, 3, 2, 2, 3, 2, 2, 2, 1, 3, 3, 5, 1, 4, 2, 6, 3, 7, 1, 1, 2, 6, 3, 4, 1, 1, 1, 1, 2, 4, 6, 2, 1, 3, 9, 4, 5, 5, 1, 9, 4, 9, 5, 2, 5, 4, 4, 2, 3, 4, 1, 3, 2, 8, 5, 5, 5, 4, 3, 1, 4, 5, 2, 10, 2, 4, 2, 2, 4, 7, 5, 8, 3, 5, 1, 12, 1, 8, 3, 3, 2, 4, 5, 4, 4, 3, 3, 5, 5, 1, 6, 1, 2, 3, 8, 3, 4, 6, 7, 5, 2, 3, 6, 4, 3, 1, 5, 3, 3, 3, 8, 3, 1, 2, 2, 3, 2, 3, 4, 3, 7, 3, 4, 5, 4, 3, 6, 2, 1, 2, 3, 2, 1, 1, 2, 1, 1, 3, 3, 2, 6, 7, 7, 5, 6, 8, 8, 5, 1, 1, 4, 3, 3, 1, 9, 4, 1, 3, 3, 5, 12, 4, 7, 2, 1, 2, 1, 3, 3, 1, 8, 1, 2, 2, 3, 7, 5, 16, 6, 12, 1, 2, 2, 3, 1, 1, 6, 5, 3, 5, 8, 5, 3, 5, 3, 1, 4, 4, 3, 5, 1, 3, 2, 1, 4, 6, 5, 4, 2, 1, 1, 2, 3, 5, 5, 3, 1, 6, 1, 2, 4, 2, 2, 9, 2, 10, 8, 9, 3, 3, 2, 3, 1, 1, 5, 1, 7, 1, 6, 3, 1, 1, 4, 1, 6, 3, 2, 15, 4, 2, 2, 2, 4, 1, 2, 4, 4, 2, 2, 2, 4, 4, 1, 8, 1, 1, 7, 4, 6, 5, 1, 15, 4, 3, 3, 3, 7, 4, 4, 1, 5, 2, 4, 3, 4, 6, 5, 5, 5, 1, 5, 3, 2, 8, 6, 1, 4, 6, 5, 10, 4, 1, 3, 9, 6, 3, 2, 1, 3, 3, 5, 3, 5, 2, 4, 3, 3, 4, 7, 3, 1, 3, 4, 9, 4, 4, 5, 2, 9, 2, 4, 4, 4, 8, 4, 3, 1, 5, 4, 1, 11, 6, 1, 6, 3, 2, 7, 1, 5, 2, 2, 1, 4, 3, 5, 1, 4, 6, 3, 3, 4, 4, 2, 4, 5, 5, 1, 2, 4, 4, 2, 7, 4, 5, 3, 1, 1, 12, 14, 2, 2, 11, 4, 2, 9, 5, 4, 3, 3, 7, 7, 4, 6, 3, 2, 3, 5, 1, 7, 2, 6, 5, 6, 5, 1, 9, 5, 6, 4, 3, 3, 6, 3, 2, 3, 3, 3, 3, 2, 3, 3, 5, 7, 8, 5, 3, 2, 4, 5, 5, 2, 2, 3, 3, 2, 15, 4, 8, 4, 3, 1, 8, 3, 7, 2, 10, 1, 4, 4, 3, 3, 2, 4, 3, 2, 1, 7, 8, 8, 4, 1, 3, 1, 2, 10, 9, 6, 2, 1, 3, 11, 2, 5, 3, 6, 2, 5, 4, 6, 4, 4, 8, 8, 9, 5, 1, 2, 2, 3, 5, 1, 1, 3, 5, 6, 5, 3, 1, 5, 4, 2, 3, 5, 2, 2, 8, 7, 4, 6, 9, 6, 5, 7, 9, 3, 4, 2, 3, 1, 6, 1, 6, 9, 6, 3, 2, 1, 5, 3, 3, 3, 2, 6, 1, 3, 4, 1, 5, 1, 1, 3, 2, 3, 3, 3, 2, 1, 5, 2, 7, 1, 3, 4, 1, 10, 7, 3, 9, 4, 4, 3, 4, 6, 6, 1, 2, 4, 10, 3, 1, 1, 7, 7, 3, 3, 7, 7, 4, 2, 4, 1, 7, 2, 3, 2, 3, 5, 1, 1, 1, 1, 3, 4, 8, 4, 2, 3, 6, 5, 10, 10, 4, 3, 3, 1, 3, 4, 1, 5, 13, 4, 10, 2, 7, 2, 2, 17, 1, 1, 3, 2, 8, 7, 5, 9, 5, 1, 3, 6, 7, 2, 7, 3, 4, 8, 2, 5, 6, 2, 2, 3, 4, 1, 1, 1, 2, 10, 5, 3, 9, 4, 1, 4, 5, 2, 3, 8, 1, 5, 2, 6, 1, 4, 7, 5, 4, 3, 2, 4, 4, 7, 3, 4, 1, 2, 5, 6, 5, 4, 8, 8, 3, 5, 1, 4, 7, 1, 3, 5, 2, 4, 7, 2, 5, 10, 11, 3, 3, 2, 3, 6, 4, 6, 3, 2, 2, 5, 5, 3, 3, 2, 3, 9, 12, 2, 1, 2, 5, 7, 11, 3, 3, 5, 2, 3, 4, 7, 7, 6, 5, 3, 3, 5, 3, 5, 1, 1, 4, 11, 5, 4, 4, 3, 2, 4, 3, 4, 2, 5, 3, 3, 3, 3, 7, 5, 3, 5, 2, 11, 3, 2, 4, 11, 1, 4, 10, 11, 4, 7, 5, 10, 2, 6, 2, 4, 2, 2, 4, 2, 5, 5, 7, 1, 2, 1, 6, 5, 2, 5, 9, 3, 1, 2, 5, 4, 11, 2, 4, 10, 1, 8, 2, 9, 1, 4, 5, 5, 5, 12, 5, 4, 5, 2, 3, 5, 4, 6, 3, 2, 1, 6, 4, 2, 3, 3, 1, 2, 1, 3, 6, 3, 2, 5, 2, 1, 9, 6, 3, 2, 3, 3, 4, 5, 6, 4, 11, 7, 3, 1, 2, 3, 3, 4, 3, 3, 1, 4, 1, 3, 11, 3, 1, 4, 1, 1, 7, 2, 7, 5, 5, 4, 11, 1, 5, 2, 2, 7, 1, 2, 5, 1, 7, 1, 6, 2, 1, 2, 1, 1, 3, 5, 4, 4, 3, 1, 6, 2, 6, 4, 1, 1, 1, 6, 15, 2, 1, 1, 6, 3, 7, 8, 2, 10, 1, 5, 6, 2, 5, 6, 3, 8, 2, 4, 2, 5, 3, 2, 6, 4, 3, 11, 6, 1, 4, 3, 4, 4, 14, 1, 3, 3, 3, 2, 7, 5, 4, 6, 1, 2, 4, 4, 2, 5, 6, 1, 2, 7, 2, 4, 6, 4, 2, 8, 1, 3, 7, 4, 2, 1, 7, 1, 6, 7, 4, 3, 6, 6, 3, 10, 1, 5, 4, 4, 5, 5, 6, 7, 7, 5, 5, 4, 4, 3, 4, 9, 6, 3, 4, 3, 4, 3, 2, 3, 2, 1, 3, 2, 4, 5, 10, 4, 7, 5, 6, 6, 3, 5, 6, 4, 7, 5, 4, 6, 2, 2, 7, 5, 2, 7, 7, 6, 1, 5, 5, 2, 10, 6, 3, 5, 4, 5, 2, 4, 4, 8, 5, 6, 7, 7, 4, 8, 12, 3, 1, 3, 2, 1, 3, 5, 1, 11, 5, 1, 3, 1, 5, 3, 1, 5, 6, 4, 7, 4, 2, 7, 1, 2, 3, 4, 8, 2, 3, 10, 5, 4, 6, 5, 2, 1, 6, 1, 1, 3, 3, 7, 3, 5, 3, 6, 5, 4, 11, 7, 3, 1, 6, 4, 3, 6, 6, 2, 12, 3, 1, 1, 1, 2, 1, 1, 3, 15, 4, 4, 4, 1, 2, 6, 8, 7, 2, 8, 10, 4, 4, 1, 1, 7, 6, 3, 4, 5, 3, 2, 12, 4, 6, 2, 2, 3, 3, 8, 3, 1, 1, 4, 3, 3, 4, 8, 5, 6, 5, 2, 5, 4, 4, 3, 4, 1, 3, 5, 2, 3, 7, 3, 3, 3, 1, 3, 3, 2, 7, 3, 5, 2, 2, 8, 9, 4, 7, 1, 1, 2, 3, 3, 1, 3, 5, 3, 7, 4, 1, 2, 1, 3, 1, 3, 11, 5, 1, 1, 8, 1, 7, 8, 3, 3, 3, 1, 7, 3, 1, 4, 3, 4, 3, 2, 3, 5, 9, 11, 1, 6, 7, 5, 1, 3, 7, 2, 3, 5, 4, 1, 3, 2, 2, 1, 3, 3, 4, 6, 5, 3, 2, 6, 3, 5, 1, 3, 1, 1, 1, 3, 3, 1, 2, 6, 5, 8, 3, 4, 2, 8, 4, 2, 1, 1, 2, 5, 3, 4, 1, 6, 10, 5, 1, 2, 2, 2, 11, 5, 6, 5, 5, 6, 4, 2, 1, 4, 8, 7, 1, 5, 4, 5, 1, 4, 3, 5, 7, 3, 3, 6, 3, 4, 4, 6, 2, 5, 1, 3, 3, 4, 2, 5, 3, 8, 1, 5, 5, 3, 4, 3, 2, 13, 8, 8, 4, 2, 4, 6, 1, 3, 5, 2, 4, 1, 1, 2, 3, 5, 8, 5, 4, 7, 1, 3, 4, 2, 1, 7, 2, 7, 6, 7, 1, 2, 4, 4, 2, 1, 2, 2, 9, 3, 2, 3, 7, 8, 6, 6, 7, 3, 1, 10, 1, 4, 8, 1, 8, 4, 5, 6, 8, 12, 6, 7, 2, 2, 1, 7, 7, 3, 3, 3, 5, 7, 4, 3, 3, 1, 4, 3, 5, 8, 3, 10, 6, 3, 3, 6, 3, 6, 1, 2, 4, 3, 5, 11, 7, 3, 1, 4, 5, 5, 10, 5, 8, 2, 9, 7, 3, 4, 3, 11, 5, 6, 2, 6, 2, 3, 2, 9, 5, 4, 6, 8, 4, 7, 3, 3, 4, 3, 2, 3, 1, 8, 5, 3, 6, 1, 9, 3, 3, 4, 3, 3, 5, 1, 4, 3, 6, 3, 2, 4, 4, 6, 6, 4, 2, 6, 1, 6, 4, 2, 2, 3, 4, 2, 10, 5, 2, 2, 2, 3, 5, 5, 4, 4, 4, 6, 3, 1, 6, 6, 1, 3, 1, 1, 8, 4, 2, 3, 2, 10, 2, 4, 6, 6, 2, 5, 6, 3, 2, 7, 3, 3, 2, 2, 7, 4, 7, 5, 5, 3, 5, 1, 4, 10, 4, 1, 6, 1, 7, 7, 3, 4, 1, 2, 6, 1, 4, 2, 5, 8, 5, 6, 8, 4, 3, 1, 2, 8, 1, 6, 4, 1, 3, 4, 6, 5, 11, 10, 7, 3, 3, 3, 2, 5, 4, 5, 4, 3, 8, 7, 5, 2, 10, 6, 2, 10, 1, 1, 3, 1, 1, 1, 1, 2, 9, 4, 3, 3, 1, 2, 2, 5, 3, 7, 8, 2, 6, 2, 5, 1, 7, 3, 5, 6, 5, 1, 1, 3, 2, 3, 5, 7, 4, 3, 5, 1, 4, 12, 4, 6, 7, 4, 4, 7, 4, 3, 1, 4, 5, 13, 7, 4, 2, 7, 6, 6, 3, 1, 2, 3, 4, 7, 3, 3, 9, 4, 7, 3, 1, 5, 3, 11, 3, 7, 8, 8, 14, 3, 1, 12, 1, 8, 5, 3, 4, 9, 1, 3, 6, 4, 1, 2, 3, 8, 2, 4, 6, 2, 2, 6, 3, 9, 3, 8, 3, 8, 4, 6, 3, 2, 2, 1, 4, 7, 5, 5, 5, 7, 3, 10, 11, 4, 4, 3, 3, 1, 5, 5, 4, 3, 3, 4, 4, 4, 4, 3, 5, 2, 6, 3, 1, 6, 2, 1, 6, 7, 5, 5, 3, 5, 2, 5, 2, 11, 2, 3, 3, 3, 8, 4, 3, 8, 4, 8, 4, 1, 7, 6, 4, 7, 2, 5, 9, 10, 4, 1, 1, 3, 2, 9, 2, 1, 3, 10, 11, 2, 1, 5, 10, 8, 4, 4, 9, 18, 4, 8, 3, 6, 3, 3, 3, 5, 4, 3, 9, 9, 3, 6, 3, 3, 8, 5, 5, 5, 12, 6, 2, 3, 2, 9, 1, 2, 2, 2, 1, 1, 4, 1, 3, 3, 10, 2, 7, 3, 12, 1, 5, 5, 2, 8, 4, 5, 6, 2, 4, 7, 3, 4, 4, 2, 1, 5, 5, 8, 5, 5, 4, 3, 5, 7, 1, 2, 3, 1, 4, 7, 3, 3, 5, 3, 2, 3, 3, 2, 1, 7, 3, 4, 2, 8, 3, 3, 3, 3, 1, 6, 4, 2, 2, 3, 2, 10, 6, 2, 3, 7, 3, 5, 2, 3, 1, 6, 5, 2, 1, 1, 5, 7, 3, 2, 8, 5, 7, 3, 4, 8, 3, 2, 2, 4, 3, 4, 4, 4, 6, 1, 1, 5, 6, 9, 4, 2, 2, 8, 8, 1, 1, 5, 12, 1, 4, 7, 7, 7, 3, 12, 10, 7, 1, 1, 2, 9, 2, 3, 1, 6, 3, 2, 1, 1, 3, 6, 7, 3, 1, 7, 7, 3, 6, 3, 3, 2, 4, 4, 3, 5, 7, 6, 11, 2, 3, 11, 13, 8, 1, 17, 1, 2, 3, 4, 8, 4, 2, 5, 6, 4, 6, 9, 6, 5, 1, 7, 2, 6, 3, 2, 4, 5, 5, 12, 3, 3, 5, 7, 2, 3, 2, 3, 1, 4, 8, 11, 6, 11, 6, 4, 5, 4, 3, 4, 5, 8, 9, 6, 4, 9, 4, 4, 5, 3, 3, 4, 3, 3, 6, 3, 2, 6, 7, 5, 7, 7, 8, 3, 4, 7, 5, 10, 6, 4, 5, 7, 1, 6, 1, 1, 10, 1, 8, 6, 5, 3, 6, 4, 7, 3, 4, 5, 6, 3, 6, 4, 1, 3, 2, 1, 9, 5, 1, 5, 5, 2, 5, 1, 3, 1, 7, 2, 2, 1, 4, 3, 4, 4, 2, 5, 3, 2, 6, 6, 8, 12, 6, 6, 1, 3, 4, 10, 10, 6, 7, 3, 4, 2, 5, 1, 6, 2, 6, 2, 3, 5, 10, 4, 4, 6, 4, 4, 5, 5, 10, 5, 7, 5, 2, 5, 4, 3, 8, 1, 6, 4, 10, 8, 3, 6, 6, 6, 15, 1, 6, 7, 5, 7, 5, 2, 5, 4, 2, 1, 10, 1, 1, 10, 15, 10, 1, 3, 3, 1, 2, 3, 1, 7, 4, 5, 6, 4, 5, 8, 11, 4, 1, 9, 6, 5, 7, 7, 2, 2, 9, 5, 3, 2, 2, 1, 2, 4, 4, 4, 3, 5, 3, 2, 4, 6, 8, 2, 1, 7, 7, 6, 4, 1, 7, 3, 7, 2, 2, 4, 5, 1, 4, 5, 4, 4, 3, 8, 3, 1, 1, 2, 3, 2, 5, 6, 4, 6, 2, 4, 3, 8, 7, 9, 1, 7, 1, 1, 5, 3, 5, 4, 5, 5, 8, 5, 6, 4, 3, 7, 3, 1, 2, 6, 5, 3, 6, 4, 7, 3, 1, 3, 2, 2, 4, 5, 1, 7, 4, 2, 3, 3, 7, 1, 6, 5, 6, 7, 1, 8, 3, 4, 5, 3, 8, 4, 4, 2, 4, 1, 1, 5, 3, 9, 3, 7, 4, 8, 3, 4, 5, 4, 5, 4, 3, 10, 5, 3, 3, 6, 2, 2, 3, 9, 6, 4, 2, 4, 3, 9, 2, 5, 1, 3, 2, 8, 2, 6, 3, 4, 3, 2, 3, 1, 2, 4, 11, 5, 6, 1, 3, 6, 6, 6, 4, 6, 6, 7, 6, 1, 4, 6, 1, 1, 1, 4, 2, 5, 1, 1, 9, 6, 5, 5, 7, 1, 4, 5, 13, 2, 7, 1, 2, 1, 1, 8, 7, 3, 3, 3, 7, 4, 2, 7, 1, 4, 2, 6, 3, 1, 1, 6, 2, 4, 2, 3, 5, 3, 5, 1, 6, 9, 7, 11, 5, 1, 3, 1, 1, 2, 2, 4, 3, 3, 2, 4, 2, 3, 7, 3, 6, 4, 8, 9, 7, 2, 2, 5, 1, 3, 3, 4, 2, 6, 3, 1, 5, 4, 3, 5, 1, 6, 5, 3, 2, 3, 6, 7, 2, 9, 2, 1, 3, 6, 4, 6, 2, 4, 7, 2, 2, 1, 1, 4, 6, 4, 4, 2, 8, 16, 8, 14, 2, 2, 3, 4, 2, 5, 3, 7, 5, 7, 2, 7, 4, 8, 4, 8, 4, 3, 4, 1, 1, 3, 2, 4, 5, 1, 5, 4, 5, 2, 5, 4, 6, 4, 2, 6, 5, 5, 2, 3, 5, 3, 4, 1, 1, 9, 8, 6, 6, 6, 2, 7, 9, 2, 2, 4, 2, 4, 4, 9, 6, 8, 9, 9, 4, 2, 1, 9, 3, 5, 3, 11, 3, 3, 1, 2, 3, 4, 1, 1, 3, 3, 10, 1, 4, 7, 6, 5, 4, 1, 8, 4, 6, 1, 7, 1, 2, 5, 8, 6, 1, 1, 6, 1, 4, 11, 2, 1, 4, 3, 2, 3, 2, 4, 9, 5, 2, 4, 3, 1, 3, 2, 8, 2, 14, 1, 2, 2, 3, 4, 5, 2, 3, 3, 5, 4, 6, 2, 5, 6, 8, 3, 8, 5, 2, 4, 4, 2, 4, 5, 8, 6, 4, 4, 9, 3, 5, 7, 12, 11, 5, 2, 4, 5, 5, 9, 7, 11, 2, 1, 1, 1, 2, 7, 5, 1, 7, 7, 1, 3, 5, 6, 5, 3, 2, 5, 3, 5, 7, 2, 4, 3, 5, 1, 5, 2, 7, 12, 3, 2, 2, 4, 4, 3, 6, 6, 12, 2, 4, 8, 10, 4, 3, 4, 3, 11, 12, 2, 2, 20, 2, 4, 5, 11, 8, 1, 7, 4, 4, 5, 3, 3, 3, 3, 5, 6, 7, 2, 2, 2, 2, 5, 5, 1, 2, 7, 1, 3, 5, 3, 5, 3, 6, 4, 6, 5, 8, 3, 5, 8, 6, 3, 6, 3, 3, 1, 1, 1, 1, 1, 1, 2, 2, 9, 10, 6, 11, 5, 5, 3, 6, 5, 7, 3, 4, 2, 4, 4, 4, 6, 12, 3, 1, 4, 5, 4, 4, 7, 5, 4, 5, 2, 4, 8, 4, 5, 5, 3, 2, 5, 5, 6, 4, 3, 4, 2, 2, 1, 2, 1, 2, 9, 6, 3, 7, 2, 5, 1, 2, 1, 3, 5, 2, 10, 1, 7, 2, 3, 2, 3, 6, 2, 2, 6, 8, 5, 3, 2, 3, 2, 2, 1, 3, 13, 1, 1, 4, 4, 6, 2, 3, 2, 2, 4, 3, 4, 5, 3, 6, 5, 11, 2, 2, 7, 3, 3, 6, 1, 2, 2, 7, 2, 1, 2, 6, 8, 2, 2, 2, 4, 1, 4, 1, 1, 5, 4, 2, 2, 8, 7, 1, 2, 2, 3, 9, 3, 4, 3, 5, 12, 8, 3, 1, 9, 5, 8, 3, 5, 5, 7, 8, 5, 3, 7, 5, 2, 5, 5, 4, 5, 9, 6, 4, 4, 5, 3, 7, 1, 1, 2, 6, 2, 3, 1, 10, 2, 1, 3, 5, 9, 2, 4, 3, 6, 1, 8, 5, 1, 5, 2, 6, 6, 1, 2, 6, 9, 3, 2, 5, 5, 7, 4, 3, 4, 7, 5, 1, 4, 2, 3, 1, 1, 5, 1, 4, 4, 14, 2, 4, 3, 2, 4, 6, 6, 2, 11, 3, 3, 8, 4, 3, 8, 5, 1, 5, 2, 2, 3, 4, 8, 2, 2, 6, 3, 2, 4, 4, 2, 4, 7, 3, 4, 3, 3, 2, 4, 3, 5, 5, 3, 8, 6, 15, 2, 1, 1, 2, 9, 2, 6, 6, 3, 8, 7, 3, 3, 4, 7, 4, 6, 1, 3, 7, 2, 3, 4, 4, 6, 6, 5, 3, 6, 3, 4, 7, 6, 7, 1, 2, 11, 2, 4, 4, 3, 3, 3, 6, 6, 3, 2, 1, 2, 2, 8, 3, 1, 8, 2, 11, 7, 8, 1, 9, 1, 1, 2, 6, 3, 2, 3, 5, 3, 5, 5, 5, 1, 7, 1, 8, 1, 4, 9, 5, 2, 1, 3, 5, 5, 7, 4, 1, 2, 1, 3, 7, 12, 4, 4, 3, 9, 1, 5, 3, 2, 2, 5, 1, 7, 4, 1, 3, 6, 4, 3, 4, 1, 2, 3, 4, 1, 1, 1, 7, 9, 6, 3, 2, 4, 4, 5, 2, 2, 2, 5, 5, 8, 8, 3, 8, 1, 1, 3, 3, 2, 3, 4, 7, 4, 3, 1, 5, 5, 2, 3, 3, 2, 2, 5, 2, 1, 4, 11, 8, 10, 4, 3, 2, 1, 3, 7, 1, 5, 7, 5, 8, 4, 1, 2, 1, 1, 1, 1, 1, 1, 3, 7, 1, 6, 3, 9, 2, 6, 3, 8, 1, 4, 2, 1, 5, 3, 3, 7, 7, 3, 3, 4, 1, 9, 5, 7, 6, 6, 2, 4, 6, 6, 4, 3, 10, 3, 1, 2, 4, 3, 2, 6, 5, 2, 5, 5, 4, 5, 2, 6, 3, 5, 5, 2, 2, 3, 1, 7, 4, 3, 4, 6, 2, 3, 2, 2, 3, 4, 2, 9, 2, 3, 2, 4, 3, 8, 3, 11, 5, 3, 3, 2, 3, 6, 4, 2, 2, 1, 1, 6, 1, 5, 2, 1, 2, 4, 1, 1, 3, 1, 4, 3, 3, 2, 5, 2, 3, 4, 2, 1, 3, 1, 1, 6, 2, 3, 7, 5, 6, 3, 5, 3, 3, 4, 3, 6, 6, 6, 2, 7, 9, 3, 1, 2, 4, 1, 1, 4, 7, 1, 1, 1, 6, 10, 2, 2, 2, 1, 1, 1, 1, 2, 4, 1, 3, 6, 3, 2, 2, 2, 1, 2, 4, 2, 2, 6, 4, 8, 2, 6, 3, 11, 2, 3, 1, 8, 4, 1, 4, 2, 3, 2, 4, 3, 4, 1, 1, 11, 3, 2, 1, 5, 1, 3, 1, 4, 3, 1, 1, 1, 1, 2, 4, 3, 1, 3, 2, 1, 2, 5, 3, 2, 1, 2, 8, 4, 9, 4, 3, 3, 5, 6, 4, 3, 6, 4, 6, 2, 1, 1, 5, 2, 3, 5, 5, 6, 2, 5, 1, 10, 5, 1, 5, 3, 5, 4, 5, 4, 4, 3, 3, 7, 4, 8, 6, 8, 3, 4, 3, 3, 2, 3, 4, 1, 1, 3, 5, 3, 5, 1, 1, 8, 3, 5, 1, 1, 1, 6, 4, 3, 10, 7, 4, 5, 2, 1, 8, 3, 6, 4, 9, 9, 4, 1, 3, 6, 2, 4, 5, 3, 6, 5, 1, 3, 5, 1, 7, 4, 2, 3, 4, 8, 2, 6, 2, 2, 5, 3, 3, 4, 1, 2, 3, 4, 3, 3, 9, 9, 5, 1, 8, 4, 5, 3, 2, 2, 2, 7, 7, 1, 3, 2, 2, 6, 4, 6, 2, 3, 4, 5, 5, 8, 5, 1, 2, 7, 7, 2, 9, 2, 5, 3, 2, 3, 2, 2, 1, 6, 2, 2, 2, 1, 5, 2, 2, 4, 13, 8, 4, 1, 7, 2, 6, 5, 4, 5, 1, 2, 10, 3, 8, 6, 3, 1, 2, 5, 8, 5, 3, 5, 1, 3, 4, 2, 7, 2, 10, 9, 2, 3, 4, 1, 6, 7, 3, 10, 4, 8, 8, 6, 3, 1, 3, 7, 10, 4, 1, 6, 5, 5, 4, 6, 8, 1, 6, 3, 4, 5, 5, 3, 5, 5, 3, 1, 1, 2, 5, 1, 3, 3, 2, 2, 2, 1, 2, 6, 2, 2, 10, 3, 5, 6, 3, 10, 7, 4, 4, 1, 2, 5, 4, 2, 1, 3, 4, 5, 4, 7, 3, 6, 2, 4, 2, 2, 4, 1, 3, 4, 2, 9, 5, 9, 5, 4, 1, 7, 6, 2, 6, 6, 3, 3, 7, 3, 7, 3, 5, 8, 4, 3, 3, 2, 3, 4, 3, 7, 5, 2, 3, 3, 4, 2, 6, 3, 2, 1, 3, 2, 7, 3, 3, 3, 8, 3, 1, 7, 3, 6, 1, 2, 7, 5, 4, 7, 4, 4, 4, 3, 6, 4, 1, 8, 7, 3, 3, 3, 1, 2, 1, 3, 6, 1, 2, 3, 5, 7, 7, 8, 2, 4, 1, 3, 2, 8, 4, 2, 3, 4, 1, 2, 4, 1, 4, 7, 5, 4, 1, 9, 1, 2, 3, 3, 1, 3, 6, 3, 4, 1, 4, 6, 1, 2, 4, 1, 9, 8, 8, 4, 3, 2, 3, 10, 2, 2, 7, 3, 1, 1, 5, 15, 1, 5, 14, 1, 1, 9, 5, 4, 4, 4, 2, 5, 4, 13, 2, 1, 2, 5, 6, 1, 5, 1, 2, 3, 2, 12, 3, 11, 5, 5, 4, 4, 3, 2, 7, 5, 5, 3, 5, 4, 4, 6, 2, 5, 5, 8, 4, 3, 2, 4, 3, 3, 2, 2, 4, 3, 6, 3, 6, 4, 2, 1, 4, 1, 4, 8, 3, 2, 5, 2, 5, 2, 1, 2, 2, 4, 3, 1, 1, 3, 8, 1, 7, 3, 3, 1, 2, 4, 7, 3, 1, 2, 8, 4, 1, 3, 4, 3, 5, 4, 8, 3, 3, 6, 1, 4, 2, 9, 4, 4, 1, 2, 5, 4, 1, 3, 6, 3, 6, 7, 4, 9, 7, 2, 6, 1, 6, 9, 2, 6, 2, 2, 2, 7, 2, 3, 11, 5, 4, 5, 1, 6, 1, 1, 2, 5, 6, 7, 3, 4, 3, 3, 4, 3, 3, 3, 2, 5, 3, 2, 2, 2, 1, 5, 1, 4, 4, 1, 1, 2, 5, 5, 10, 3, 5, 4, 4, 1, 1, 2, 5, 3, 5, 6, 5, 1, 7, 7, 5, 7, 6, 1, 3, 3, 4, 1, 4, 3, 1, 3, 4, 15, 2, 5, 5, 8, 3, 7, 1, 6, 3, 3, 6, 3, 8, 2, 2, 6, 2, 1, 2, 3, 5, 4, 6, 2, 2, 4, 3, 4, 5, 6, 3, 5, 4, 2, 9, 2, 3, 5, 1, 3, 6, 6, 5, 9, 1, 6, 9, 1, 6, 3, 1, 7, 2, 5, 4, 2, 1, 5, 3, 4, 6, 3, 3, 6, 3, 1, 2, 4, 5, 6, 2, 2, 6, 3, 6, 6, 4, 10, 3, 3, 5, 2, 7, 2, 4, 1, 6, 4, 4, 1, 3, 8, 6, 6, 6, 6, 1, 4, 3, 6, 7, 3, 8, 9, 3, 11, 3, 5, 5, 11, 8, 2, 4, 7, 5, 3, 4, 6, 2, 2, 2, 1, 2, 6, 13, 1, 4, 4, 9, 2, 3, 1, 4, 1, 4, 2, 3, 6, 2, 3, 2, 3, 5, 1, 4, 3, 3, 2, 6, 8, 7, 3, 3, 4, 1, 7, 4, 5, 1, 3, 7, 4, 4, 1, 3, 2, 5, 7, 2, 2, 6, 4, 2, 3, 3, 1, 2, 8, 7, 1, 3, 4, 5, 2, 2, 8, 4, 5, 9, 5, 4, 1, 2, 4, 2, 5, 7, 5, 1, 4, 8, 3, 4, 3, 5, 3, 2, 4, 1, 5, 5, 2, 1, 4, 1, 7, 1, 2, 2, 10, 4, 3, 3, 2, 6, 3, 1, 5, 6, 1, 3, 5, 3, 4, 6, 1, 6, 8, 4, 2, 2, 8, 6, 2, 7, 2, 3, 1, 2, 3, 6, 4, 5, 9, 5, 1, 6, 2, 1, 4, 5, 1, 2, 3, 1, 2, 4, 1, 5, 9, 4, 9, 3, 3, 5, 2, 8, 9, 2, 5, 1, 3, 4, 4, 3, 3, 11, 2, 2, 7, 5, 8, 3, 8, 2, 6, 5, 1, 3, 6, 2, 2, 2, 2, 1, 3, 3, 6, 1, 4, 4, 4, 9, 1, 5, 5, 1, 2, 6, 2, 6, 6, 4, 2, 7, 4, 6, 1, 2, 6, 5, 3, 14, 5, 2, 6, 3, 2, 1, 3, 9, 1, 5, 3, 1, 1, 4, 3, 5, 2, 3, 1, 8, 2, 4, 1, 2, 5, 4, 5, 4, 3, 1, 4, 6, 4, 4, 1, 6, 8, 4, 5, 6, 3, 2, 3, 5, 4, 9, 1, 4, 2, 5, 2, 6, 4, 6, 4, 3, 3, 1, 3, 7, 3, 1, 9, 1, 4, 1, 2, 2, 1, 6, 2, 1, 6, 3, 4, 2, 2, 4, 5, 4, 3, 2, 2, 5, 5, 4, 8, 1, 4, 4, 5, 1, 5, 5, 12, 5, 2, 2, 8, 3, 3, 2, 3, 5, 5, 6, 2, 8, 8, 1, 3, 6, 1, 3, 1, 6, 5, 3, 1, 2, 4, 4, 7, 5, 2, 2, 8, 3, 2, 7, 4, 4, 1, 2, 4, 2, 4, 3, 1, 6, 5, 9, 5, 4, 4, 4, 3, 3, 5, 1, 10, 5, 1, 2, 4, 5, 4, 1, 7, 2, 5, 6, 4, 5, 5, 2, 6, 1, 6, 1, 10, 4, 3, 5, 8, 3, 5, 2, 3, 4, 1, 2, 2, 5, 6, 9, 4, 2, 1, 1, 6, 11, 5, 5, 2, 6, 6, 4, 4, 5, 2, 3, 6, 8, 1, 6, 9, 6, 4, 4, 1, 7, 10, 14, 4, 5, 1, 4, 4, 6, 3, 1, 2, 8, 6, 6, 3, 3, 1, 3, 3, 1, 5, 6, 2, 9, 1, 4, 3, 1, 3, 1, 3, 5, 7, 9, 8, 7, 2, 4, 9, 7, 5, 1, 3, 3, 4, 11, 4, 5, 4, 2, 2, 6, 10, 8, 4, 4, 5, 7, 2, 3, 12, 6, 1, 4, 10, 3, 4, 1, 6, 4, 10, 8, 3, 9, 5, 4, 8, 2, 2, 2, 2, 5, 5, 8, 5, 2, 5, 2, 8, 6, 2, 6, 6, 4, 4, 4, 3, 7, 6, 1, 4, 2, 2, 3, 4, 3, 2, 3, 1, 4, 4, 9, 6, 4, 3, 3, 3, 7, 3, 3, 1, 10, 7, 2, 10, 2, 8, 6, 1, 4, 3, 7, 3, 17, 11, 3, 3, 3, 3, 3, 2, 3, 2, 5, 10, 5, 1, 3, 3, 2, 3, 1, 7, 7, 6, 1, 4, 4, 2, 2, 7, 4, 14, 1, 4, 2, 1, 3, 2, 3, 3, 3, 6, 7, 7, 2, 10, 4, 9, 2, 2, 5, 6, 3, 4, 1, 2, 10, 4, 3, 4, 3, 6, 5, 4, 6, 3, 6, 10, 4, 4, 4, 1, 1, 2, 1, 8, 1, 2, 5, 5, 6, 2, 5, 1, 1, 2, 2, 7, 2, 11, 4, 1, 2, 3, 3, 3, 2, 6, 2, 8, 5, 1, 9, 5, 7, 4, 6, 3, 3, 6, 10, 8, 12, 3, 3, 7, 1, 3, 11, 5, 3, 4, 6, 9, 2, 3, 8, 3, 2, 14, 2, 7, 3, 7, 4, 8, 5, 4, 4, 2, 5, 5, 4, 2, 2, 9, 5, 2, 6, 7, 8, 4, 4, 2, 1, 2, 4, 2, 2, 1, 1, 11, 2, 4, 7, 7, 4, 6, 1, 4, 3, 4, 3, 6, 5, 1, 3, 3, 4, 3, 5, 4, 5, 2, 3, 4, 4, 5, 2, 7, 2, 3, 4, 1, 2, 5, 8, 2, 9, 5, 4, 8, 1, 13, 1, 3, 9, 3, 6, 5, 1, 4, 2, 4, 8, 3, 3, 3, 3, 3, 6, 6, 2, 3, 3, 4, 8, 4, 8, 3, 5, 1, 5, 1, 5, 3, 2, 6, 4, 1, 4, 3, 6, 6, 5, 5, 9, 5, 4, 4, 5, 4, 5, 3, 7, 5, 5, 5, 3, 4, 1, 5, 3, 1, 9, 5, 9, 9, 4, 3, 1, 5, 7, 2, 2, 4, 3, 6, 7, 7, 8, 1, 3, 2, 6, 6, 3, 5, 9, 10, 4, 3, 5, 4, 4, 6, 3, 5, 1, 4, 6, 8, 5, 4, 4, 4, 3, 5, 2, 4, 3, 4, 3, 7, 4, 8, 5, 5, 2, 4, 1, 1, 2, 7, 5, 4, 2, 5, 6, 2, 8, 1, 8, 4, 7, 3, 1, 1, 2, 1, 2, 6, 5, 1, 1, 5, 10, 4, 2, 5, 3, 2, 5, 3, 2, 3, 3, 1, 4, 2, 3, 5, 1, 3, 5, 3, 4, 7, 10, 5, 4, 3, 4, 4, 1, 2, 3, 4, 2, 2, 4, 1, 3, 14, 1, 2, 11, 8, 2, 1, 4, 1, 7, 2, 3, 11, 6, 6, 2, 2, 5, 6, 3, 1, 2, 11, 6, 4, 3, 6, 4, 5, 4, 3, 1, 5, 3, 3, 4, 1, 10, 5, 2, 3, 2, 5, 8, 3, 6, 1, 5, 2, 2, 3, 3, 2, 3, 5, 5, 6, 2, 3, 6, 2, 4, 4, 2, 1, 6, 4, 5, 3, 10, 4, 3, 4, 2, 4, 6, 10, 3, 3, 1, 4, 4, 2, 1, 4, 4, 4, 6, 4, 4, 6, 4, 5, 1, 2, 6, 2, 4, 1, 4, 5, 2, 7, 1, 4, 6, 2, 3, 7, 5, 4, 3, 7, 2, 4, 2, 1, 9, 3, 3, 3, 9, 7, 5, 2, 1, 4, 1, 3, 4, 4, 3, 3, 3, 2, 4, 3, 3, 6, 6, 5, 5, 4, 3, 8, 1, 4, 2, 4, 6, 6, 1, 3, 5, 3, 1, 4, 1, 5, 4, 2, 1, 2, 2, 4, 1, 6, 8, 10, 1, 3, 4, 6, 6, 2, 4, 5, 2, 5, 1, 4, 5, 4, 4, 2, 10, 4, 4, 1, 6, 6, 6, 12, 2, 2, 11, 1, 1, 4, 5, 9, 2, 4, 3, 4, 5, 2, 4, 5, 2, 4, 3, 1, 4, 3, 13, 6, 4, 1, 1, 3, 5, 3, 1, 1, 2, 1, 3, 5, 5, 4, 9, 2, 2, 5, 5, 2, 1, 1, 3, 3, 3, 2, 2, 1, 4, 3, 5, 2, 4, 6, 4, 2, 2, 4, 5, 1, 1, 5, 3, 6, 10, 7, 2, 4, 7, 2, 4, 2, 5, 6, 1, 7, 5, 8, 1, 6, 6, 2, 4, 11, 1, 4, 2, 7, 8, 4, 2, 3, 2, 3, 1, 2, 5, 7, 1, 7, 4, 2, 1, 3, 3, 1, 5, 3, 1, 7, 4, 5, 2, 3, 3, 8, 3, 1, 3, 6, 5, 3, 3, 7, 3, 2, 5, 6, 6, 6, 3, 3, 6, 2, 5, 6, 6, 6, 2, 3, 4, 7, 1, 6, 5, 1, 2, 1, 3, 7, 3, 1, 2, 3, 4, 2, 1, 1, 6, 8, 3, 6, 10, 4, 3, 9, 3, 8, 5, 13, 3, 5, 7, 2, 8, 1, 3, 3, 4, 1, 3, 3, 1, 4, 6, 2, 4, 2, 2, 3, 2, 2, 3, 3, 7, 10, 8, 2, 3, 7, 3, 1, 5, 7, 8, 4, 4, 1, 4, 2, 2, 1, 1, 1, 1, 5, 7, 3, 6, 2, 5, 2, 2, 3, 4, 2, 2, 4, 1, 5, 2, 5, 2, 4, 2, 3, 2, 4, 5, 4, 6, 7, 5, 1, 5, 5, 7, 5, 1, 5, 7, 7, 5, 1, 11, 4, 1, 5, 2, 5, 1, 1, 4, 5, 3, 5, 5, 1, 5, 3, 4, 9, 8, 3, 1, 2, 2, 1, 5, 10, 5, 1, 5, 2, 7, 5, 5, 3, 3, 4, 1, 4, 5, 6, 10, 3, 6, 3, 3, 3, 8, 6, 3, 2, 3, 5, 4, 7, 3, 4, 4, 3, 3, 5, 7, 9, 3, 13, 4, 4, 1, 3, 7, 11, 8, 8, 6, 5, 5, 3, 4, 3, 3, 2, 8, 3, 1, 2, 5, 1, 11, 3, 5, 4, 8, 3, 5, 5, 5, 4, 3, 1, 8, 8, 3, 7, 6, 6, 3, 1, 8, 6, 1, 3, 1, 5, 1, 5, 5, 4, 3, 3, 6, 6, 9, 5, 3, 6, 8, 2, 10, 1, 10, 5, 7, 6, 4, 4, 1, 3, 12, 4, 3, 6, 5, 4, 4, 4, 2, 2, 10, 5, 1, 6, 1, 5, 3, 6, 3, 1, 1, 9, 3, 3, 3, 6, 4, 9, 4, 2, 5, 2, 5, 4, 4, 3, 7, 3, 9, 8, 1, 3, 6, 2, 9, 4, 5, 2, 2, 1, 1, 1, 4, 1, 6, 7, 1, 5, 2, 4, 4, 7, 1, 2, 5, 8, 2, 1, 5, 10, 3, 11, 3, 5, 3, 1, 9, 4, 5, 4, 9, 9, 5, 2, 4, 1, 9, 11, 4, 2, 4, 5, 7, 1, 3, 2, 1, 1, 6, 4, 1, 11, 6, 2, 12, 6, 4, 4, 1, 3, 5, 1, 4, 7, 3, 4, 3, 4, 1, 2, 5, 3, 4, 1, 1, 5, 5, 3, 5, 3, 4, 12, 5, 6, 3, 2, 1, 2, 4, 7, 1, 7, 8, 2, 2, 5, 2, 2, 4, 6, 4, 4, 4, 3, 6, 5, 2, 5, 1, 3, 8, 3, 2, 3, 3, 4, 8, 4, 3, 4, 7, 4, 5, 1, 2, 4, 5, 10, 4, 5, 1, 3, 4, 4, 5, 2, 6, 2, 3, 1, 4, 3, 7, 5, 4, 5, 5, 1, 8, 3, 3, 2, 5, 3, 3, 3, 2, 1, 5, 3, 3, 2, 1, 2, 2, 1, 1, 7, 2, 9, 11, 2, 4, 6, 5, 2, 6, 4, 4, 3, 6, 2, 6, 8, 1, 3, 1, 4, 3, 2, 5, 3, 4, 1, 3, 4, 3, 2, 1, 2, 2, 12, 2, 4, 7, 1, 2, 5, 1, 5, 2, 5, 2, 5, 5, 4, 5, 3, 6, 7, 2, 1, 2, 1, 6, 1, 4, 4, 2, 5, 1, 2, 3, 2, 1, 2, 5, 5, 6, 3, 3, 4, 1, 2, 5, 7, 4, 2, 5, 5, 3, 4, 8, 2, 2, 2, 3, 1, 2, 7, 4, 8, 2, 3, 7, 2, 5, 1, 3, 1, 2, 5, 9, 3, 1, 7, 5, 6, 1, 2, 6, 4, 5, 3, 2, 2, 5, 2, 7, 3, 5, 4, 6, 3, 1, 1, 3, 2, 3, 8, 12, 1, 1, 3, 4, 7, 11, 2, 3, 8, 1, 2, 3, 6, 2, 6, 4, 4, 9, 4, 1, 1, 3, 3, 7, 6, 3, 6, 4, 1, 6, 2, 6, 10, 4, 5, 3, 4, 6, 1, 4, 3, 15, 4, 5, 7, 12, 2, 7, 2, 6, 7, 10, 4, 7, 9, 7, 2, 2, 1, 3, 7, 5, 3, 4, 1, 8, 3, 4, 4, 8, 1, 8, 6, 4, 1, 3, 6, 1, 7, 3, 2, 8, 8, 4, 4, 4, 1, 4, 6, 2, 4, 5, 4, 1, 6, 9, 3, 2, 2, 4, 5, 7, 6, 3, 1, 2, 1, 1, 8, 3, 4, 2, 2, 7, 3, 2, 4, 9, 5, 2, 4, 2, 3, 1, 4, 4, 2, 3, 2, 2, 10, 3, 5, 4, 2, 1, 1, 12, 2, 11, 6, 5, 2, 1, 2, 4, 1, 2, 3, 3, 10, 4, 4, 5, 4, 3, 3, 1, 3, 7, 9, 4, 2, 4, 5, 4, 7, 4, 2, 4, 7, 2, 3, 2, 4, 5, 4, 8, 4, 1, 3, 5, 2, 8, 2, 3, 3, 4, 3, 4, 3, 6, 2, 1, 5, 8, 5, 3, 7, 6, 7, 7, 5, 6, 5, 1, 3, 4, 6, 5, 3, 3, 4, 3, 3, 1, 10, 3, 4, 6, 5, 1, 6, 2, 5, 4, 2, 3, 3, 2, 3, 3, 7, 4, 11, 1, 1, 2, 15, 6, 1, 5, 4, 2, 2, 1, 2, 9, 6, 2, 4, 2, 1, 4, 9, 3, 6, 5, 6, 2, 1, 5, 5, 4, 3, 4, 2, 4, 1, 3, 3, 5, 3, 3, 6, 1, 4, 3, 5, 4, 3, 6, 7, 5, 4, 5, 2, 5, 5, 2, 1, 2, 3, 1, 6, 6, 2, 6, 5, 14, 3, 6, 1, 3, 4, 4, 7, 2, 1, 10, 6, 5, 1, 7, 4, 4, 1, 2, 6, 3, 4, 8, 4, 1, 5, 7, 1, 6, 4, 8, 3, 6, 6, 2, 4, 1, 2, 5, 2, 7, 4, 2, 2, 2, 6, 1, 6, 3, 4, 4, 2, 1, 5, 5, 5, 8, 1, 1, 3, 3, 4, 3, 5, 3, 9, 5, 2, 4, 2, 3, 3, 1, 1, 12, 1, 2, 2, 4, 8, 3, 4, 2, 9, 1, 2, 5, 6, 6, 2, 2, 7, 5, 2, 1, 5, 3, 1, 3, 5, 5, 7, 5, 3, 1, 1, 5, 1, 10, 2, 4, 2, 2, 4, 2, 3, 4, 4, 11, 2, 2, 5, 12, 4, 3, 10, 2, 3, 6, 3, 5, 4, 3, 7, 2, 2, 5, 2, 6, 7, 5, 2, 3, 3, 9, 4, 8, 2, 6, 6, 3, 2, 4, 2, 7, 1, 2, 1, 1, 2, 4, 4, 4, 7, 2, 3, 3, 14, 10, 4, 5, 7, 5, 8, 2, 7, 4, 5, 4, 4, 4, 3, 2, 5, 1, 2, 7, 3, 5, 2, 2, 4, 2, 2, 7, 4, 2, 8, 3, 6, 2, 2, 10, 1, 3, 3, 1, 1, 1, 4, 5, 7, 6, 2, 4, 1, 3, 12, 5, 6, 8, 6, 3, 1, 10, 5, 8, 6, 2, 9, 6, 1, 3, 2, 2, 1, 4, 7, 4, 3, 5, 6, 2, 6, 8, 4, 3, 1, 5, 3, 7, 2, 3, 2, 2, 5, 3, 5, 2, 1, 3, 8, 3, 4, 4, 2, 7, 3, 5, 5, 6, 1, 6, 4, 1, 7, 4, 5, 1, 4, 3, 7, 8, 9, 4, 2, 2, 4, 10, 4, 7, 1, 8, 5, 1, 6, 3, 6, 3, 3, 1, 1, 9, 4, 3, 5, 4, 1, 6, 2, 2, 6, 3, 5, 2, 9, 4, 9, 5, 2, 2, 2, 2, 3, 4, 7, 1, 1, 3, 3, 2, 1, 10, 3, 4, 5, 3, 3, 7, 5, 6, 2, 3, 4, 5, 6, 4, 5, 7, 2, 4, 5, 3, 10, 6, 6, 5, 5, 4, 5, 5, 7, 5, 2, 2, 3, 1, 1, 3, 9, 7, 2, 2, 3, 4, 1, 10, 4, 2, 2, 4, 2, 6, 6, 8, 3, 2, 5, 4, 3, 5, 3, 4, 3, 2, 6, 4, 10, 2, 3, 1, 2, 6, 10, 5, 1, 6, 4, 7, 3, 5, 1, 7, 2, 2, 2, 13, 5, 1, 8, 3, 4, 1, 2, 4, 4, 4, 3, 5, 5, 5, 4, 3, 1, 2, 3, 4, 4, 5, 1, 4, 7, 5, 5, 5, 3, 2, 3, 8, 4, 8, 4, 3, 2, 6, 8, 6, 5, 4, 3, 5, 1, 10, 5, 8, 2, 3, 10, 5, 2, 6, 1, 1, 5, 11, 4, 2, 5, 2, 1, 1, 5, 5, 2, 7, 2, 10, 14, 2, 3, 8, 2, 3, 3, 3, 3, 1, 1, 1, 3, 1, 5, 3, 5, 3, 3, 2, 2, 3, 1, 2, 7, 3, 8, 3, 11, 2, 3, 1, 4, 2, 1, 10, 2, 1, 2, 3, 4, 7, 7, 3, 2, 12, 4, 4, 3, 5, 7, 1, 6, 1, 1, 6, 4, 2, 2, 6, 2, 2, 2, 6, 5, 1, 4, 3, 3, 3, 7, 3, 2, 4, 5, 4, 2, 3, 3, 5, 3, 2, 2, 2, 1, 9, 2, 7, 2, 6, 4, 2, 10, 2, 4, 2, 2, 5, 9, 2, 5, 8, 3, 5, 5, 1, 3, 3, 6, 4, 4, 3, 3, 5, 9, 6, 9, 3, 1, 6, 4, 2, 5, 5, 1, 3, 3, 3, 10, 2, 3, 1, 3, 1, 1, 3, 10, 1, 5, 7, 4, 5, 2, 6, 4, 1, 2, 2, 6, 3, 7, 6, 6, 2, 2, 6, 2, 4, 4, 5, 5, 2, 5, 1, 4, 2, 1, 4, 2, 7, 3, 1, 7, 4, 2, 4, 7, 10, 5, 3, 6, 2, 5, 3, 1, 2, 3, 5, 3, 4, 1, 2, 4, 4, 3, 1, 2, 4, 2, 2, 9, 1, 2, 2, 1, 1, 1, 6, 2, 8, 2, 4, 4, 3, 1, 6, 1, 6, 2, 5, 2, 7, 5, 3, 3, 6, 1, 1, 3, 2, 1, 4, 2, 5, 3, 1, 8, 3, 5, 2, 2, 2, 6, 2, 1, 3, 2, 6, 8, 5, 7, 1, 5, 2, 6, 7, 8, 3, 4, 1, 7, 3, 4, 6, 4, 7, 4, 2, 1, 3, 4, 4, 3, 5, 3, 1, 3, 4, 7, 2, 3, 4, 3, 6, 5, 10, 6, 1, 1, 3, 8, 5, 3, 3, 2, 9, 3, 6, 6, 3, 9, 1, 4, 1, 1, 8, 5, 2, 1, 2, 3, 4, 6, 1, 2, 2, 2, 1, 1, 7, 3, 6, 6, 7, 9, 3, 7, 4, 1, 2, 5, 2, 6, 3, 7, 7, 6, 6, 6, 2, 3, 4, 3, 6, 2, 4, 7, 5, 6, 12, 1, 4, 5, 9, 2, 4, 4, 4, 4, 4, 3, 4, 4, 4, 9, 2, 3, 3, 2, 6, 2, 6, 3, 3, 3, 4, 6, 1, 5, 2, 2, 4, 5, 6, 5, 10, 3, 10, 3, 5, 4, 5, 2, 9, 2, 3, 3, 7, 2, 4, 3, 1, 8, 3, 3, 4, 2, 4, 3, 1, 1, 7, 5, 3, 4, 2, 8, 1, 6, 6, 2, 2, 3, 4, 2, 5, 2, 7, 3, 2, 8, 5, 5, 4, 3, 3, 7, 3, 5, 5, 1, 4, 3, 7, 4, 4, 2, 14, 8, 3, 8, 7, 2, 5, 3, 3, 3, 4, 6, 8, 8, 2, 2, 3, 5, 8, 8, 1, 3, 1, 1, 5, 3, 4, 4, 4, 3, 2, 4, 5, 5, 1, 3, 5, 4, 5, 6, 2, 6, 4, 3, 6, 6, 4, 6, 2, 2, 9, 5, 5, 3, 4, 7, 9, 4, 1, 3, 3, 3, 7, 4, 5, 2, 7, 1, 4, 6, 7, 2, 7, 4, 5, 4, 3, 3, 7, 2, 1, 3, 5, 3, 3, 13, 3, 2, 9, 2, 4, 4, 1, 4, 9, 3, 2, 4, 9, 12, 9, 4, 1, 4, 4, 4, 10, 5, 7, 2, 2, 2, 2, 4, 6, 5, 1, 3, 4, 2, 3, 5, 12, 3, 2, 8, 2, 6, 4, 7, 6, 7, 5, 11, 6, 1, 5, 9, 5, 4, 9, 4, 4, 7, 8, 4, 5, 4, 2, 6, 4, 4, 4, 3, 5, 1, 3, 4, 2, 1, 2, 6, 5, 4, 6, 8, 11, 3, 3, 3, 3, 3, 1, 5, 5, 3, 8, 9, 13, 4, 4, 5, 8, 4, 1, 4, 6, 1, 5, 4, 1, 3, 3, 5, 2, 4, 8, 8, 4, 3, 5, 8, 3, 9, 4, 11, 4, 3, 5, 3, 2, 1, 3, 6, 2, 2, 3, 4, 4, 8, 8, 5, 6, 8, 3, 1, 5, 2, 1, 3, 1, 3, 3, 4, 5, 2, 5, 5, 3, 5, 3, 3, 8, 1, 5, 11, 3, 3, 3, 10, 7, 3, 5, 4, 3, 3, 5, 6, 2, 2, 1, 5, 1, 4, 4, 5, 5, 1, 10, 1, 5, 2, 4, 2, 4, 3, 4, 4, 2, 5, 4, 1, 4, 6, 2, 3, 3, 5, 2, 1, 5, 2, 2, 5, 4, 2, 3, 2, 3, 7, 3, 9, 2, 1, 6, 5, 2, 1, 4, 3, 2, 7, 2, 3, 6, 2, 2, 3, 3, 2, 7, 7, 5, 3, 1, 1, 7, 3, 3, 1, 1, 2, 2, 1, 8, 7, 1, 5, 1, 2, 3, 4, 3, 2, 3, 4, 2, 8, 3, 7, 5, 3, 4, 1, 6, 3, 2, 3, 5, 1, 5, 4, 3, 3, 9, 2, 2, 5, 3, 1, 6, 3, 1, 2, 10, 3, 2, 7, 3, 7, 6, 1, 3, 5, 4, 2, 3, 1, 1, 3, 2, 3, 4, 1, 3, 4, 3, 3, 4, 5, 1, 7, 3, 3, 1, 1, 3, 5, 3, 4, 5, 2, 2, 2, 2, 2, 2, 2, 1, 3, 4, 3, 8, 2, 7, 3, 3, 3, 2, 6, 2, 6, 4, 1, 3, 3, 9, 2, 4, 1, 10, 3, 1, 3, 4, 5, 2, 5, 3, 2, 5, 3, 4, 6, 2, 5, 3, 1, 9, 4, 3, 2, 1, 5, 5, 2, 5, 4, 3, 7, 6, 4, 9, 5, 8, 1, 2, 2, 2, 6, 3, 3, 2, 2, 3, 2, 4, 4, 3, 8, 3, 1, 2, 8, 4, 1, 4, 3, 4, 9, 1, 3, 1, 1, 4, 1, 3, 1, 1, 1, 3, 3, 1, 3, 3, 3, 2, 3, 1, 9, 4, 3, 1, 3, 1, 3, 9, 3, 1, 2, 4, 2, 1, 1, 1, 2, 3, 6, 3, 3, 3, 4, 2, 1, 2, 5, 6, 6, 5, 1, 11, 6, 2, 4, 3, 2, 2, 4, 4, 4, 1, 5, 1, 1, 2, 2, 2, 2, 2, 2, 2, 3, 1, 4, 1, 6, 4, 1, 3, 1, 1, 4, 3, 5, 6, 1, 4, 10, 4, 2, 1, 10, 9, 1, 2, 4, 6, 3, 1, 1, 2, 1, 7, 3, 4, 4, 6, 5, 2, 4, 4, 1, 1, 3, 1, 4, 10, 8, 3, 1, 4, 1, 2, 2, 1, 1, 3, 3, 1, 1, 1, 7, 1, 4, 2, 6, 6, 1, 3, 6, 1, 4, 5, 1, 2, 3, 2, 3, 3, 2, 3, 4, 2, 3, 1, 1, 2, 4, 1, 3, 8, 4, 2, 7, 9, 1, 4, 2, 4, 2, 6, 4, 6, 1, 4, 5, 2, 2, 1, 4, 2, 7, 4, 4, 9, 4, 5, 2, 4, 6, 5, 3, 6, 1, 6, 6, 4, 4, 7, 4, 4, 3, 4, 1, 4, 1, 1, 7, 1, 3, 3, 5, 4, 5, 2, 1, 6, 5, 3, 4, 5, 1, 7, 2, 4, 1, 3, 2, 1, 1, 6, 6, 1, 4, 3, 1, 1, 4, 4, 4, 8, 3, 4, 5, 3, 1, 6, 2, 1, 5, 1, 4, 3, 6, 5, 5, 6, 3, 2, 2, 5, 1, 1, 3, 5, 4, 4, 3, 2, 7, 6, 3, 4, 6, 6, 2, 2, 1, 3, 1, 1, 8, 3, 3, 2, 4, 3, 2, 7, 2, 8, 5, 4, 6, 2, 1, 10, 3, 6, 1, 10, 3, 2, 3, 7, 7, 3, 5, 3, 7, 3, 5, 2, 6, 10, 4, 2, 4, 9, 1, 7, 1, 4, 1, 3, 1, 3, 5, 1, 5, 2, 5, 3, 2, 3, 2, 2, 5, 2, 6, 2, 1, 4, 2, 3, 3, 6, 1, 1, 4, 9, 3, 1, 3, 2, 3, 3, 1, 3, 5, 3, 2, 4, 10, 4, 3, 5, 3, 8, 6, 4, 4, 3, 4, 2, 4, 5, 2, 3, 2, 3, 4, 1, 2, 5, 3, 2, 1, 2, 8, 4, 2, 3, 8, 8, 4, 1, 3, 2, 6, 6, 2, 2, 4, 2, 3, 6, 2, 4, 7, 5, 1, 1, 5, 3, 2, 2, 2, 3, 1, 3, 2, 10, 3, 4, 7, 3, 1, 3, 3, 3, 6, 1, 3, 3, 2, 5, 2, 3, 3, 5, 7, 2, 5, 3, 2, 3, 3, 2, 4, 5, 4, 4, 3, 1, 2, 7, 6, 4, 3, 6, 4, 3, 1, 3, 2, 1, 1, 3, 2, 5, 4, 3, 3, 2, 5, 3, 4, 2, 5, 12, 7, 3, 2, 3, 4, 5, 1, 6, 6, 2, 3, 5, 3, 1, 1, 2, 3, 2, 3, 1, 1, 3, 7, 3, 1, 4, 5, 1, 2, 3, 3, 2, 2, 1, 1, 1, 6, 7, 6, 4, 3, 2, 3, 3, 2, 1, 3, 4, 2, 2, 1, 5, 5, 4, 1, 1, 2, 2, 4, 4, 2, 5, 2, 2, 8, 2, 3, 5, 1, 7, 2, 7, 1, 5, 4, 4, 4, 1, 2, 5, 2, 7, 5, 9, 5, 5, 1, 2, 3, 2, 4, 4, 3, 6, 4, 3, 6, 2, 2, 4, 3, 3, 3, 1, 8, 1, 5, 3, 1, 3, 1, 4, 7, 3, 1, 2, 1, 2, 2, 3, 3, 6, 2, 5, 3, 2, 2, 7, 7, 4, 3, 6, 7, 1, 4, 4, 2, 2, 4, 4, 1, 7, 3, 1, 5, 1, 3, 4, 4, 7, 1, 5, 3, 2, 1, 1, 1, 3, 8, 1, 3, 2, 3, 1, 1, 2, 4, 2, 8, 2, 1, 4, 3, 8, 3, 4, 5, 5, 1, 2, 3, 2, 2, 5, 1, 4, 3, 7, 3, 2, 6, 3, 4, 1, 1, 4, 3, 2, 7, 1, 4, 1, 3, 2, 4, 1, 5, 1, 2, 4, 6, 2, 3, 1, 1, 6, 6, 2, 3, 1, 3, 2, 6, 3, 2, 2, 5, 1, 10, 3, 1, 4, 5, 2, 8, 3, 2, 6, 6, 5, 5, 3, 3, 2, 2, 2, 4, 3, 8, 3, 5, 5, 4, 3, 6, 8, 2, 2, 1, 7, 1, 5, 2, 1, 1, 1, 4, 4, 1, 2, 3, 3, 3, 7, 3, 5, 2, 5, 6, 6, 2, 1, 8, 4, 4, 7, 5, 2, 1, 3, 5, 3, 3, 3, 3, 8, 5, 2, 3, 6, 3, 2, 5, 4, 4, 4, 10, 2, 4, 3, 4, 2, 2, 5, 3, 2, 4, 5, 5, 3, 3, 2, 5, 1, 2, 2, 2, 2, 7, 2, 3, 4, 5, 1, 2, 6, 4, 1, 2, 6, 3, 4, 4, 5, 4, 1, 3, 6, 4, 4, 5, 4, 3, 1, 6, 1, 2, 6, 1, 9, 2, 6, 1, 4, 2, 2, 1, 5, 4, 2, 2, 3, 4, 2, 3, 5, 3, 3, 6, 8, 3, 3, 1, 5, 2, 3, 4, 2, 5, 5, 4, 7, 3, 10, 2, 1, 4, 4, 4, 2, 7, 4, 1, 5, 6, 3, 2, 4, 3, 6, 8, 3, 2, 3, 3, 1, 3, 10, 1, 3, 6, 2, 6, 4, 3, 6, 1, 2, 4, 6, 2, 3, 2, 3, 1, 4, 3, 3, 9, 4, 4, 6, 4, 6, 5, 4, 5, 5, 3, 1, 1, 2, 4, 5, 2, 2, 5, 3, 4, 2, 3, 2, 7, 2, 3, 2, 6, 2, 1, 6, 5, 4, 4, 1, 4, 6, 3, 4, 2, 2, 9, 3, 2, 3, 6, 4, 2, 3, 4, 1, 2, 6, 2, 2, 6, 5, 3, 5, 1, 6, 5, 4, 6, 6, 4, 3, 7, 1, 7, 4, 2, 3, 1, 6, 5, 5, 6, 4, 2, 3, 1, 2, 1, 1, 4, 11, 3, 2, 7, 3, 3, 1, 4, 3, 5, 5, 2, 1, 1, 9, 1, 3, 1, 4, 2, 3, 2, 5, 5, 3, 7, 6, 1, 5, 3, 6, 4, 5, 4, 1, 7, 4, 11, 3, 1, 5, 4, 3, 1, 4, 6, 1, 1, 3, 1, 5, 1, 5, 2, 4, 5, 3, 5, 5, 3, 2, 6, 6, 3, 4, 2, 3, 1, 5, 6, 8, 4, 3, 4, 4, 6, 9, 3, 3, 6, 4, 10, 2, 1, 5, 2, 9, 3, 4, 3, 1, 1, 5, 2, 3, 2, 3, 5, 3, 1, 1, 4, 6, 4, 6, 3, 4, 4, 3, 5, 2, 4, 4, 5, 5, 1, 5, 2, 4, 5, 3, 1, 2, 1, 1, 2, 5, 3, 6, 4, 3, 7, 2, 3, 8, 5, 8, 9, 4, 4, 5, 2, 5, 3, 6, 10, 1, 2, 3, 3, 7, 3, 3, 3, 5, 4, 1, 4, 4, 4, 5, 1, 8, 3, 2, 4, 3, 4, 5, 4, 1, 10, 4, 5, 2, 4, 4, 3, 4, 2, 4, 4, 1, 2, 1, 1, 1, 1, 6, 1, 1, 7, 6, 3, 2, 3, 2, 4, 3, 4, 1, 4, 4, 6, 1, 9, 4, 4, 2, 4, 2, 5, 2, 6, 4, 6, 6, 10, 6, 1, 4, 3, 3, 1, 1, 3, 2, 5, 2, 7, 7, 2, 4, 4, 2, 2, 9, 1, 5, 6, 5, 9, 1, 4, 2, 3, 5, 1, 2, 8, 5, 9, 2, 6, 2, 5, 4, 1, 2, 4, 7, 5, 1, 7, 1, 4, 3, 2, 1, 4, 8, 5, 4, 4, 1, 4, 3, 2, 3, 4, 8, 1, 5, 2, 1, 3, 4, 10, 1, 5, 9, 2, 2, 2, 4, 4, 3, 6, 3, 5, 3, 3, 2, 5, 3, 6, 7, 2, 6, 14, 2, 5, 5, 1, 1, 13, 4, 3, 2, 1, 6, 1, 9, 1, 9, 5, 3, 3, 10, 7, 1, 3, 4, 6, 6, 2, 2, 6, 4, 5, 4, 1, 5, 1, 3, 2, 3, 2, 6, 1, 1, 3, 2, 3, 3, 4, 1, 1, 6, 2, 4, 3, 8, 5, 4, 7, 4, 2, 3, 2, 5, 2, 4, 3, 7, 3, 5, 7, 7, 4, 2, 2, 4, 4, 5, 1, 4, 7, 4, 5, 6, 6, 4, 3, 4, 7, 6, 2, 6, 3, 5, 3, 3, 4, 3, 5, 4, 8, 5, 1, 3, 4, 4, 8, 3, 6, 3, 3, 3, 4, 2, 4, 1, 2, 6, 6, 1, 4, 1, 1, 4, 9, 6, 8, 3, 2, 4, 3, 1, 3, 3, 4, 2, 5, 3, 1, 5, 2, 1, 5, 2, 1, 1, 7, 6, 4, 9, 6, 6, 4, 7, 4, 1, 2, 4, 4, 1, 1, 7, 3, 6, 4, 5, 1, 2, 3, 2, 3, 3, 6, 4, 2, 7, 3, 1, 4, 8, 6, 5, 2, 5, 4, 6, 1, 6, 3, 2, 4, 4, 2, 4, 4, 1, 2, 4, 3, 4, 2, 1, 4, 3, 1, 8, 2, 5, 5, 3, 3, 1, 2, 4, 6, 2, 3, 6, 1, 4, 4, 3, 8, 2, 1, 5, 2, 2, 2, 2, 3, 1, 2, 5, 6, 9, 2, 2, 4, 4, 5, 4, 2, 5, 6, 1, 2, 11, 5, 2, 7, 3, 2, 3, 2, 4, 10, 4, 4, 4, 2, 1, 3, 3, 2, 3, 4, 2, 2, 3, 1, 9, 4, 3, 6, 6, 5, 4, 5, 7, 5, 2, 4, 2, 3, 2, 3, 1, 2, 7, 4, 2, 5, 4, 4, 3, 2, 9, 2, 4, 8, 4, 2, 4, 7, 3, 9, 6, 1, 4, 6, 3, 3, 4, 2, 5, 4, 4, 12, 1, 1, 8, 4, 3, 2, 1, 1, 5, 1, 1, 1, 2, 4, 3, 5, 5, 2, 6, 5, 5, 1, 1, 3, 6, 4, 2, 5, 3, 3, 7, 4, 1, 2, 1, 1, 2, 8, 3, 3, 4, 6, 4, 6, 5, 6, 1, 5, 9, 3, 7, 5, 6, 6, 3, 6, 5, 2, 3, 3, 5, 1, 3, 2, 5, 3, 2, 1, 1, 3, 7, 2, 3, 6, 2, 1, 2, 5, 3, 3, 4, 3, 4, 2, 1, 3, 4, 4, 3, 4, 2, 6, 2, 3, 2, 1, 4, 5, 1, 1, 2, 2, 4, 7, 6, 2, 1, 3, 7, 2, 4, 4, 8, 1, 5, 5, 3, 3, 1, 3, 1, 3, 6, 1, 6, 1, 2, 2, 5, 5, 3, 6, 2, 2, 3, 5, 3, 2, 8, 7, 2, 2, 3, 2, 1, 4, 1, 8, 3, 1, 4, 3, 1, 4, 4, 6, 3, 1, 6, 4, 1, 4, 1, 1, 2, 3, 5, 1, 5, 2, 5, 3, 5, 3, 4, 9, 2, 4, 4, 3, 3, 2, 3, 2, 5, 4, 4, 3, 1, 3, 1, 2, 5, 6, 1, 5, 4, 1, 8, 5, 4, 8, 2, 7, 2, 3, 1, 8, 5, 8, 5, 4, 2, 2, 2, 1, 1, 5, 9, 5, 3, 2, 6, 1, 10, 5, 1, 2, 4, 5, 5, 1, 4, 5, 7, 7, 9, 1, 3, 14, 5, 2, 5, 7, 2, 3, 3, 3, 2, 6, 5, 3, 4, 2, 4, 2, 2, 2, 3, 4, 1, 4, 9, 2, 8, 5, 4, 1, 4, 5, 4, 2, 5, 6, 5, 3, 2, 9, 2, 5, 2, 7, 2, 3, 1, 4, 5, 5, 2, 5, 2, 1, 3, 1, 7, 2, 2, 2, 9, 2, 7, 4, 2, 1, 2, 3, 5, 3, 1, 7, 1, 12, 5, 5, 4, 4, 5, 5, 2, 4, 4, 5, 4, 1, 5, 6, 5, 5, 6, 8, 6, 3, 1, 5, 3, 4, 2, 3, 1, 3, 5, 2, 1, 5, 1, 7, 4, 4, 4, 5, 4, 2, 4, 2, 3, 5, 7, 3, 8, 4, 5, 1, 1, 2, 6, 4, 5, 2, 7, 7, 3, 3, 6, 1, 9, 1, 1, 1, 3, 4, 3, 6, 5, 6, 3, 3, 3, 6, 2, 5, 6, 6, 3, 8, 4, 2, 2, 6, 3, 6, 4, 3, 3, 5, 2, 4, 1, 4, 2, 6, 4, 6, 7, 1, 4, 3, 7, 4, 5, 8, 4, 4, 1, 6, 3, 5, 3, 5, 4, 4, 5, 2, 8, 2, 5, 4, 6, 3, 4, 1, 8, 4, 1, 1, 3, 1, 2, 4, 1, 12, 3, 3, 7, 2, 2, 1, 1, 5, 4, 3, 7, 3, 5, 5, 5, 3, 2, 3, 1, 2, 6, 3, 1, 4, 6, 3, 11, 5, 8, 5, 9, 2, 2, 3, 2, 2, 3, 1, 2, 1, 4, 3, 5, 6, 2, 2, 4, 4, 2, 2, 3, 5, 2, 1, 4, 5, 2, 2, 3, 5, 3, 1, 8, 1, 1, 3, 2, 2, 5, 3, 5, 1, 4, 5, 2, 6, 3, 6, 1, 1, 1, 6, 8, 1, 4, 6, 8, 4, 2, 3, 7, 3, 1, 7, 4, 4, 7, 1, 2, 3, 2, 1, 3, 1, 9, 2, 3, 6, 3, 1, 2, 5, 5, 2, 4, 3, 2, 2, 6, 5, 1, 6, 4, 3, 3, 1, 6, 1, 3, 7, 6, 3, 3, 4, 4, 4, 2, 2, 4, 3, 2, 3, 2, 7, 6, 2, 2, 1, 4, 3, 3, 1, 2, 2, 1, 7, 4, 3, 2, 4, 9, 10, 5, 3, 3, 4, 4, 3, 1, 1, 3, 4, 5, 4, 7, 3, 2, 4, 1, 6, 6, 1, 5, 5, 2, 6, 1, 4, 14, 3, 1, 1, 3, 4, 3, 3, 4, 4, 1, 4, 1, 1, 4, 2, 3, 4, 3, 9, 5, 8, 1, 6, 5, 3, 5, 7, 5, 10, 7, 2, 6, 6, 1, 6, 1, 5, 2, 8, 1, 5, 3, 7, 1, 1, 2, 3, 3, 7, 8, 3, 3, 2, 3, 5, 3, 2, 1, 4, 3, 3, 6, 1, 2, 3, 3, 2, 3, 1, 1, 4, 4, 4, 4, 6, 9, 6, 3, 6, 3, 1, 6, 1, 3, 4, 5, 3, 1, 3, 2, 7, 4, 6, 5, 5, 5, 4, 8, 7, 3, 4, 3, 1, 3, 4, 7, 6, 4, 4, 1, 4, 1, 1, 3, 10, 4, 3, 4, 3, 2, 1, 2, 6, 5, 4, 3, 9, 2, 3, 3, 1, 1, 2, 6, 2, 2, 1, 6, 5, 2, 3, 1, 7, 2, 4, 2, 4, 2, 1, 3, 4, 3, 5, 3, 2, 4, 4, 1, 2, 4, 8, 1, 3, 3, 2, 8, 3, 5, 9, 1, 1, 5, 5, 5, 3, 11, 2, 7, 5, 5, 3, 6, 4, 5, 1, 5, 8, 1, 8, 9, 4, 7, 5, 2, 9, 2, 1, 8, 4, 5, 1, 6, 1, 5, 7, 4, 2, 1, 8, 4, 7, 3, 2, 2, 2, 6, 4, 3, 3, 6, 6, 5, 7, 4, 1, 3, 3, 2, 2, 6, 7, 8, 2, 2, 3, 7, 5, 1, 4, 3, 4, 7, 1, 3, 3, 2, 4, 7, 19, 2, 4, 2, 4, 2, 1, 12, 6, 1, 8, 12, 4, 4, 3, 1, 3, 2, 2, 8, 1, 3, 1, 3, 4, 3, 5, 4, 4, 4, 4, 7, 5, 3, 5, 5, 7, 5, 7, 4, 4, 4, 1, 6, 1, 1, 2, 1, 8, 7, 4, 5, 6, 5, 2, 3, 4, 6, 6, 6, 2, 3, 3, 1, 5, 4, 1, 1, 2, 3, 8, 1, 4, 2, 2, 4, 2, 4, 2, 6, 2, 5, 6, 6, 7, 2, 4, 1, 7, 2, 3, 4, 2, 6, 4, 5, 5, 4, 7, 4, 3, 3, 4, 3, 7, 11, 1, 8, 4, 7, 3, 2, 4, 6, 3, 6, 2, 5, 5, 3, 4, 6, 4, 1, 1, 1, 3, 8, 5, 5, 4, 4, 4, 3, 1, 2, 5, 1, 5, 4, 3, 5, 3, 5, 6, 6, 12, 6, 4, 2, 9, 1, 2, 3, 2, 3, 4, 9, 1, 11, 1, 3, 3, 10, 9, 5, 4, 1, 2, 7, 10, 6, 2, 6, 2, 1, 3, 1, 2, 2, 3, 5, 3, 2, 4, 13, 8, 5, 5, 3, 7, 1, 2, 1, 2, 1, 4, 3, 4, 2, 5, 6, 6, 3, 3, 1, 4, 2, 3, 3, 2, 4, 6, 4, 6, 4, 3, 8, 5, 2, 9, 3, 6, 5, 4, 10, 1, 5, 5, 5, 2, 4, 6, 4, 2, 2, 5, 6, 6, 8, 1, 3, 6, 5, 11, 1, 1, 2, 3, 1, 4, 10, 2, 4, 4, 6, 2, 9, 9, 5, 4, 4, 3, 3, 4, 3, 1, 5, 1, 5, 5, 4, 4, 3, 4, 1, 4, 4, 3, 1, 2, 5, 2, 3, 5, 3, 6, 3, 5, 1, 1, 4, 5, 2, 1, 4, 2, 3, 1, 1, 1, 2, 3, 2, 4, 3, 2, 1, 5, 6, 2, 3, 3, 5, 3, 4, 2, 4, 2, 5, 5, 3, 4, 4, 8, 3, 9, 3, 2, 4, 6, 8, 4, 4, 5, 3, 2, 6, 7, 1, 3, 6, 2, 7, 5, 3, 7, 4, 1, 1, 8, 3, 4, 2, 2, 3, 2, 3, 3, 5, 1, 1, 3, 2, 7, 3, 1, 8, 5, 4, 2, 6, 3, 2, 3, 5, 5, 2, 1, 2, 2, 1, 3, 2, 2, 4, 5, 2, 5, 15, 3, 3, 9, 10, 3, 7, 6, 8, 8, 7, 6, 2, 4, 3, 3, 5, 6, 11, 1, 1, 3, 2, 2, 4, 7, 1, 3, 3, 2, 1, 2, 1, 1, 2, 1, 4, 3, 3, 6, 2, 3, 6, 3, 5, 1, 5, 3, 2, 7, 5, 3, 6, 5, 3, 6, 3, 6, 4, 6, 4, 2, 2, 1, 6, 3, 4, 2, 6, 3, 1, 4, 4, 2, 1, 2, 3, 3, 2, 3, 5, 3, 3, 5, 2, 2, 3, 1, 6, 7, 8, 3, 8, 6, 6, 7, 4, 3, 4, 1, 1, 9, 4, 2, 4, 1, 6, 3, 4, 3, 7, 2, 8, 1, 4, 6, 3, 1, 2, 4, 3, 7, 3, 1, 5, 4, 2, 2, 5, 6, 5, 5, 7, 2, 2, 7, 2, 6, 2, 3, 9, 4, 4, 5, 6, 3, 2, 4, 1, 7, 6, 4, 2, 4, 4, 10, 3, 8, 5, 1, 3, 5, 7, 6, 5, 2, 4, 3, 6, 4, 1, 15, 1, 4, 1, 7, 4, 6, 8, 4, 13, 1, 3, 4, 6, 5, 2, 4, 1, 1, 5, 7, 7, 8, 2, 4, 5, 7, 1, 4, 5, 2, 3, 7, 1, 4, 4, 3, 3, 7, 8, 4, 5, 1, 2, 3, 5, 3, 2, 3, 5, 3, 3, 4, 7, 2, 1, 2, 1, 3, 3, 2, 4, 2, 3, 7, 3, 4, 2, 3, 2, 4, 3, 5, 4, 8, 8, 7, 1, 7, 5, 6, 2, 4, 8, 10, 3, 1, 4, 5, 6, 4, 4, 2, 4, 2, 4, 1, 4, 1, 2, 5, 4, 1, 3, 1, 2, 4, 2, 2, 7, 2, 1, 3, 8, 6, 4, 3, 6, 1, 3, 1, 2, 4, 3, 3, 3, 2, 6, 1, 8, 1, 3, 6, 2, 1, 7, 5, 6, 5, 1, 7, 3, 5, 1, 11, 4, 3, 3, 11, 15, 4, 1, 3, 1, 2, 2, 1, 2, 11, 8, 8, 3, 4, 7, 5, 3, 6, 4, 3, 6, 2, 4, 3, 7, 3, 6, 4, 3, 3, 1, 1, 7, 4, 9, 1, 3, 1, 4, 1, 5, 2, 7, 3, 1, 2, 3, 1, 5, 4, 5, 2, 6, 4, 6, 3, 3, 4, 1, 2, 2, 4, 2, 4, 2, 1, 4, 5, 5, 3, 1, 8, 1, 7, 9, 1, 4, 11, 1, 4, 6, 5, 2, 6, 1, 1, 4, 4, 4, 4, 14, 1, 3, 6, 6, 5, 3, 3, 5, 4, 4, 4, 3, 4, 2, 8, 6, 7, 4, 2, 3, 1, 4, 11, 2, 3, 5, 6, 4, 5, 3, 5, 7, 2, 7, 4, 6, 2, 11, 2, 3, 3, 5, 8, 5, 2, 5, 3, 9, 4, 2, 7, 3, 6, 2, 6, 4, 6, 2, 2, 4, 8, 2, 5, 2, 5, 9, 3, 5, 1, 4, 2, 4, 5, 3, 5, 2, 3, 4, 8, 8, 4, 7, 1, 2, 1, 7, 3, 1, 1, 13, 1, 10, 11, 4, 2, 3, 4, 1, 1, 3, 2, 18, 4, 3, 2, 2, 4, 5, 5, 2, 1, 4, 4, 9, 5, 4, 5, 7, 4, 3, 7, 3, 3, 5, 3, 6, 8, 1, 6, 7, 1, 11, 6, 5, 3, 3, 2, 2, 2, 2, 10, 5, 1, 3, 3, 4, 8, 10, 1, 3, 4, 2, 4, 4, 3, 4, 3, 4, 2, 3, 2, 2, 6, 6, 3, 2, 5, 4, 7, 1, 8, 4, 2, 3, 3, 11, 3, 5, 5, 4, 4, 4, 2, 4, 2, 2, 8, 5, 5, 1, 3, 2, 6, 3, 6, 5, 3, 2, 5, 2, 9, 2, 3, 3, 3, 1, 3, 2, 15, 1, 4, 4, 2, 11, 3, 4, 8, 2, 2, 2, 3, 3, 3, 6, 1, 2, 5, 2, 4, 4, 1, 3, 3, 4, 4, 9, 2, 3, 3, 7, 3, 5, 4, 2, 5, 3, 8, 7, 1, 3, 1, 9, 10, 4, 3, 6, 3, 5, 4, 1, 2, 5, 7, 8, 3, 5, 4, 8, 6, 7, 2, 3, 7, 4, 3, 1, 7, 8, 2, 1, 11, 3, 3, 5, 12, 4, 4, 2, 9, 4, 3, 11, 4, 4, 1, 3, 4, 1, 3, 12, 4, 6, 5, 10, 2, 3, 1, 2, 3, 4, 3, 4, 3, 6, 6, 2, 2, 1, 13, 5, 2, 3, 5, 4, 3, 2, 4, 4, 2, 6, 6, 2, 4, 3, 3, 4, 3, 6, 1, 14, 2, 1, 4, 12, 12, 4, 2, 7, 4, 1, 7, 2, 8, 4, 4, 5, 3, 4, 7, 4, 2, 8, 2, 4, 5, 5, 3, 4, 3, 10, 2, 4, 1, 6, 2, 2, 6, 5, 13, 4, 5, 3, 3, 2, 6, 5, 17, 5, 5, 8, 3, 4, 3, 7, 2, 1, 1, 7, 2, 3, 4, 4, 3, 2, 1, 3, 5, 2, 10, 6, 4, 5, 6, 4, 3, 2, 2, 8, 1, 4, 1, 3, 18, 4, 3, 2, 5, 5, 4, 3, 3, 1, 2, 2, 9, 2, 5, 9, 4, 3, 13, 3, 1, 2, 1, 2, 1, 5, 6, 2, 8, 1, 8, 3, 6, 3, 1, 1, 7, 3, 6, 5, 5, 4, 3, 1, 5, 7, 3, 7, 13, 5, 1, 2, 3, 3, 1, 9, 4, 2, 4, 3, 3, 7, 2, 10, 3, 4, 5, 4, 4, 2, 10, 1, 1, 3, 4, 4, 5, 2, 2, 2, 4, 4, 9, 3, 3, 5, 12, 5, 6, 1, 4, 7, 7, 5, 2, 2, 7, 2, 12, 2, 5, 4, 2, 1, 4, 4, 3, 3, 1, 6, 8, 1, 3, 3, 7, 3, 1, 3, 1, 5, 2, 1, 5, 2, 4, 3, 2, 4, 5, 3, 4, 2, 3, 7, 3, 5, 3, 3, 3, 9, 3, 1, 6, 4, 2, 5, 3, 5, 2, 6, 1, 5, 2, 4, 9, 5, 3, 3, 6, 9, 5, 3, 7, 9, 1, 8, 4, 1, 3, 2, 2, 8, 6, 5, 3, 8, 5, 1, 5, 1, 4, 4, 1, 2, 1, 5, 6, 3, 13, 2, 5, 6, 5, 1, 6, 5, 5, 1, 4, 3, 1, 3, 2, 1, 9, 2, 3, 6, 7, 4, 5, 4, 5, 1, 3, 4, 4, 4, 2, 7, 2, 4, 5, 2, 3, 2, 3, 3, 3, 6, 3, 4, 6, 8, 19, 2, 2, 5, 1, 3, 2, 4, 3, 5, 4, 9, 6, 3, 8, 2, 8, 4, 1, 7, 4, 4, 2, 5, 1, 6, 4, 5, 3, 2, 3, 4, 1, 2, 2, 2, 5, 2, 8, 10, 6, 5, 6, 4, 2, 3, 3, 5, 1, 3, 3, 4, 7, 2, 3, 3, 2, 5, 4, 20, 7, 5, 10, 2, 7, 5, 4, 4, 3, 3, 3, 4, 2, 4, 4, 8, 3, 4, 2, 3, 2, 10, 2, 1, 8, 3, 1, 3, 1, 6, 4, 4, 9, 14, 4, 8, 2, 2, 7, 4, 4, 3, 2, 4, 3, 3, 7, 2, 2, 3, 2, 4, 6, 3, 4, 2, 6, 3, 4, 6, 1, 7, 3, 3, 1, 5, 5, 4, 2, 5, 2, 4, 8, 3, 8, 3, 9, 3, 3, 2, 4, 1, 4, 7, 7, 5, 7, 9, 4, 5, 1, 7, 3, 2, 1, 1, 4, 3, 1, 3, 4, 5, 1, 7, 14, 3, 3, 3, 11, 3, 1, 4, 4, 2, 3, 7, 3, 3, 1, 1, 14, 8, 2, 13, 5, 2, 4, 3, 8, 2, 7, 9, 6, 7, 3, 2, 9, 10, 3, 7, 3, 11, 3, 5, 3, 4, 3, 10, 3, 2, 5, 2, 4, 2, 4, 3, 5, 5, 4, 4, 5, 5, 9, 3, 5, 2, 5, 3, 4, 2, 10, 3, 4, 7, 5, 2, 3, 4, 2, 2, 5, 9, 1, 2, 4, 2, 3, 3, 5, 1, 3, 12, 2, 2, 3, 4, 8, 9, 3, 3, 4, 2, 4, 8, 1, 3, 8, 8, 7, 4, 3, 2, 5, 6, 3, 2, 1, 3, 10, 6, 3, 1, 3, 4, 6, 5, 2, 1, 6, 2, 10, 5, 6, 1, 1, 9, 1, 6, 5, 1, 1, 4, 4, 4, 1, 4, 3, 1, 5, 6, 1, 4, 2, 2, 1, 3, 1, 4, 2, 2, 2, 9, 2, 2, 1, 4, 2, 5, 11, 5, 4, 4, 8, 6, 12, 2, 1, 6, 4, 3, 5, 1, 4, 3, 5, 1, 5, 6, 2, 1, 2, 7, 2, 6, 5, 6, 4, 2, 3, 5, 5, 4, 1, 6, 5, 10, 3, 2, 2, 1, 8, 5, 3, 2, 2, 1, 7, 9, 4, 4, 5, 6, 4, 3, 1, 2, 7, 6, 2, 4, 3, 2, 5, 7, 8, 2, 6, 6, 5, 3, 2, 3, 1, 1, 3, 3, 11, 4, 1, 2, 3, 1, 3, 13, 1, 6, 6, 2, 4, 3, 1, 5, 4, 2, 8, 4, 7, 1, 2, 4, 2, 2, 2, 3, 8, 4, 7, 11, 2, 1, 6, 3, 5, 3, 2, 5, 1, 6, 2, 4, 6, 3, 7, 5, 2, 5, 5, 5, 8, 4, 4, 7, 2, 2, 1, 5, 8, 2, 2, 3, 1, 4, 4, 4, 4, 5, 4, 5, 5, 2, 4, 2, 3, 3, 7, 4, 8, 1, 4, 7, 11, 4, 6, 3, 3, 1, 2, 4, 1, 6, 4, 3, 5, 8, 17, 1, 1, 5, 1, 4, 1, 1, 5, 2, 3, 2, 8, 1, 6, 1, 4, 3, 6, 5, 3, 8, 5, 1, 3, 4, 5, 4, 2, 1, 2, 5, 2, 7, 9, 2, 3, 3, 3, 1, 2, 8, 2, 4, 3, 3, 7, 2, 2, 4, 3, 5, 5, 1, 4, 5, 5, 4, 4, 2, 9, 1, 8, 4, 4, 3, 3, 4, 2, 4, 1, 6, 2, 3, 2, 2, 2, 2, 4, 5, 1, 6, 1, 3, 3, 6, 3, 2, 2, 7, 1, 1, 2, 5, 5, 5, 2, 1, 1, 3, 2, 2, 10, 2, 1, 2, 5, 4, 7, 2, 5, 1, 1, 5, 2, 1, 3, 3, 1, 2, 3, 4, 9, 2, 1, 3, 7, 5, 9, 2, 7, 2, 1, 6, 4, 3, 3, 6, 3, 5, 8, 5, 8, 7, 4, 2, 5, 3, 7, 4, 3, 2, 5, 4, 3, 3, 6, 4, 8, 4, 7, 5, 2, 2, 5, 2, 4, 2, 1, 3, 8, 2, 3, 3, 9, 1, 2, 7, 6, 4, 2, 5, 2, 3, 1, 5, 2, 4, 9, 3, 8, 7, 10, 2, 8, 3, 1, 9, 1, 3, 5, 1, 3, 5, 3, 5, 1, 1, 7, 5, 3, 11, 3, 1, 10, 2, 5, 3, 1, 4, 10, 5, 5, 3, 4, 4, 4, 3, 1, 6, 3, 3, 2, 7, 3, 3, 1, 1, 3, 3, 6, 1, 2, 13, 1, 4, 6, 6, 3, 6, 3, 1, 4, 5, 3, 5, 3, 9, 4, 4, 3, 9, 3, 1, 2, 2, 2, 4, 3, 2, 6, 3, 3, 3, 5, 10, 2, 1, 7, 5, 7, 3, 11, 7, 1, 4, 2, 1, 7, 4, 5, 2, 6, 7, 1, 5, 1, 4, 3, 3, 5, 2, 3, 4, 4, 2, 4, 3, 4, 5, 7, 7, 1, 5, 2, 6, 1, 2, 3, 4, 3, 2, 2, 10, 7, 6, 7, 6, 2, 6, 6, 2, 3, 2, 6, 2, 4, 2, 6, 3, 11, 3, 1, 2, 6, 4, 5, 6, 4, 6, 8, 2, 2, 4, 7, 3, 7, 1, 4, 4, 3, 5, 3, 2, 2, 1, 1, 2, 10, 2, 2, 9, 4, 4, 7, 2, 3, 5, 1, 6, 3, 3, 9, 1, 2, 2, 9, 4, 5, 4, 7, 5, 2, 7, 3, 8, 4, 4, 3, 6, 4, 2, 8, 3, 4, 5, 5, 5, 3, 3, 3, 5, 2, 2, 1, 3, 3, 4, 3, 4, 6, 5, 4, 1, 2, 1, 8, 1, 1, 6, 7, 1, 3, 5, 2, 2, 3, 5, 5, 6, 1, 4, 6, 2, 8, 2, 5, 4, 5, 2, 2, 5, 2, 3, 8, 3, 4, 4, 4, 3, 9, 10, 3, 3, 4, 8, 3, 2, 4, 9, 4, 8, 2, 6, 6, 8, 8, 1, 1, 4, 6, 1, 1, 2, 3, 6, 2, 7, 5, 6, 5, 3, 4, 1, 4, 7, 2, 6, 6, 3, 5, 3, 3, 4, 5, 1, 9, 3, 3, 9, 1, 4, 2, 3, 9, 1, 4, 4, 3, 2, 5, 1, 6, 4, 2, 4, 4, 2, 4, 6, 1, 4, 2, 5, 6, 9, 3, 4, 11, 4, 1, 2, 7, 2, 1, 7, 7, 4, 4, 5, 1, 3, 4, 4, 1, 2, 3, 8, 1, 4, 9, 2, 4, 1, 5, 2, 6, 7, 3, 4, 8, 9, 10, 5, 3, 5, 2, 2, 4, 2, 3, 8, 5, 8, 3, 8, 1, 3, 4, 3, 3, 3, 5, 6, 10, 3, 4, 4, 6, 4, 4, 8, 7, 2, 6, 6, 1, 4, 4, 6, 1, 3, 3, 7, 1, 9, 6, 5, 10, 4, 3, 6, 4, 2, 7, 4, 9, 4, 4, 13, 2, 3, 3, 4, 4, 5, 7, 11, 7, 2, 4, 3, 8, 4, 3, 4, 2, 7, 3, 4, 2, 9, 6, 12, 6, 2, 1, 4, 4, 5, 5, 8, 6, 5, 2, 4, 6, 4, 5, 4, 2, 3, 4, 10, 2, 1, 3, 3, 3, 3, 3, 2, 1, 4, 3, 1, 1, 4, 2, 1, 12, 7, 4, 2, 6, 1, 2, 2, 3, 4, 6, 9, 3, 6, 2, 2, 8, 2, 2, 2, 3, 3, 3, 3, 3, 5, 3, 8, 3, 6, 3, 3, 2, 2, 6, 2, 5, 8, 4, 2, 2, 8, 1, 7, 6, 3, 2, 3, 1, 17, 3, 2, 7, 3, 4, 4, 5, 5, 4, 3, 6, 9, 8, 3, 1, 2, 1, 4, 2, 5, 8, 2, 2, 7, 5, 2, 3, 2, 1, 5, 3, 7, 1, 3, 4, 3, 5, 1, 1, 7, 1, 3, 5, 2, 2, 5, 1, 4, 4, 7, 1, 4, 2, 6, 8, 3, 3, 4, 5, 5, 3, 3, 11, 1, 3, 2, 3, 6, 8, 7, 3, 2, 12, 2, 2, 3, 3, 6, 7, 2, 3, 12, 2, 4, 7, 4, 4, 2, 6, 5, 7, 4, 5, 5, 4, 5, 3, 3, 4, 10, 2, 6, 2, 2, 7, 1, 4, 2, 5, 4, 4, 5, 6, 4, 9, 3, 2, 6, 2, 7, 5, 5, 1, 3, 2, 1, 4, 3, 11, 3, 2, 2, 3, 8, 2, 3, 5, 3, 3, 3, 2, 6, 1, 1, 1, 3, 1, 2, 2, 3, 2, 2, 1, 1, 7, 6, 4, 5, 5, 6, 9, 3, 10, 2, 5, 4, 4, 10, 1, 2, 1, 9, 7, 8, 7, 9, 4, 4, 5, 4, 6, 5, 5, 5, 8, 4, 2, 6, 5, 6, 1, 3, 7, 3, 5, 5, 2, 7, 10, 1, 3, 3, 2, 2, 5, 4, 2, 5, 4, 6, 2, 1, 8, 4, 2, 2, 3, 5, 2, 1, 4, 4, 5, 4, 5, 1, 4, 1, 5, 3, 5, 9, 3, 4, 4, 2, 3, 1, 5, 5, 1, 1, 3, 1, 4, 3, 5, 2, 3, 7, 3, 8, 5, 2, 2, 5, 2, 4, 5, 1, 11, 2, 3, 5, 3, 5, 5, 3, 5, 9, 1, 3, 5, 2, 2, 4, 3, 4, 3, 5, 3, 6, 4, 5, 4, 2, 2, 5, 3, 4, 3, 1, 5, 6, 6, 7, 2, 6, 3, 4, 1, 7, 3, 11, 7, 8, 4, 4, 5, 3, 2, 6, 2, 6, 4, 5, 9, 5, 6, 2, 2, 4, 2, 10, 6, 6, 10, 7, 1, 6, 5, 3, 4, 4, 4, 2, 2, 2, 1, 3, 2, 4, 6, 9, 6, 5, 4, 2, 2, 7, 3, 4, 4, 3, 2, 3, 2, 6, 2, 3, 3, 4, 4, 2, 3, 9, 3, 4, 3, 2, 8, 10, 2, 5, 2, 9, 2, 1, 6, 4, 5, 2, 2, 2, 3, 1, 4, 2, 1, 4, 8, 3, 5, 7, 1, 4, 5, 1, 7, 3, 5, 2, 1, 7, 2, 1, 3, 4, 3, 8, 5, 4, 6, 5, 2, 10, 3, 7, 7, 1, 7, 5, 2, 11, 7, 9, 3, 5, 1, 2, 5, 3, 3, 8, 4, 3, 3, 9, 3, 4, 5, 3, 5, 2, 4, 4, 3, 2, 7, 1, 4, 2, 10, 6, 8, 13, 8, 4, 2, 4, 4, 4, 6, 1, 4, 2, 2, 1, 3, 3, 3, 3, 1, 3, 4, 2, 5, 5, 8, 5, 6, 2, 7, 4, 4, 4, 7, 6, 2, 3, 1, 4, 6, 1, 3, 5, 7, 7, 2, 4, 3, 2, 7, 4, 4, 3, 6, 5, 3, 2, 2, 1, 6, 4, 3, 1, 7, 7, 6, 4, 11, 4, 2, 7, 5, 2, 2, 7, 2, 2, 3, 1, 8, 3, 8, 2, 1, 2, 7, 5, 9, 2, 4, 9, 6, 2, 3, 7, 6, 4, 7, 3, 7, 3, 7, 4, 6, 5, 3, 2, 6, 6, 3, 2, 1, 4, 3, 5, 7, 7, 6, 7, 2, 3, 5, 5, 5, 5, 6, 5, 2, 4, 7, 2, 4, 4, 3, 4, 8, 2, 1, 2, 5, 2, 3, 2, 5, 7, 4, 2, 2, 5, 3, 5, 7, 2, 2, 10, 2, 5, 6, 2, 4, 4, 6, 6, 6, 2, 2, 10, 9, 6, 2, 10, 1, 1, 5, 4, 5, 2, 3, 2, 3, 6, 1, 1, 6, 3, 2, 1, 14, 4, 8, 1, 11, 9, 2, 3, 5, 1, 3, 9, 3, 8, 4, 4, 4, 8, 4, 5, 5, 4, 4, 4, 6, 3, 6, 3, 6, 5, 7, 6, 3, 5, 6, 6, 3, 5, 6, 5, 4, 6, 4, 3, 1, 2, 3, 9, 2, 6, 7, 4, 11, 4, 6, 1, 2, 2, 1, 5, 5, 5, 4, 6, 2, 3, 4, 4, 1, 3, 5, 1, 4, 1, 4, 5, 6, 1, 4, 4, 1, 1, 3, 2, 4, 6, 3, 1, 4, 9, 7, 4, 2, 2, 2, 3, 1, 1, 6, 5, 6, 2, 4, 10, 4, 5, 7, 6, 3, 8, 2, 3, 3, 5, 3, 4, 10, 6, 5, 2, 3, 13, 6, 2, 3, 5, 9, 2, 3, 3, 1, 9, 1, 8, 2, 2, 7, 4, 2, 9, 5, 2, 2, 5, 9, 3, 1, 2, 7, 6, 2, 3, 5, 5, 10, 3, 4, 5, 6, 1, 3, 1, 8, 8, 7, 4, 4, 4, 3, 3, 4, 5, 3, 5, 3, 3, 1, 1, 2, 7, 4, 3, 6, 8, 2, 5, 4, 8, 5, 4, 3, 3, 4, 10, 1, 1, 2, 3, 4, 5, 6, 3, 5, 1, 5, 8, 2, 1, 9, 1, 4, 3, 3, 1, 2, 8, 6, 4, 2, 1, 4, 4, 8, 3, 4, 7, 2, 5, 7, 4, 3, 2, 4, 2, 2, 3, 8, 3, 6, 4, 3, 2, 6, 2, 4, 6, 4, 7, 5, 6, 1, 8, 7, 6, 2, 2, 4, 7, 1, 2, 5, 5, 5, 4, 1, 8, 17, 9, 1, 2, 5, 6, 2, 3, 3, 5, 5, 4, 2, 9, 1, 3, 2, 2, 10, 7, 3, 12, 3, 3, 3, 3, 5, 1, 8, 1, 4, 3, 5, 8, 2, 6, 2, 3, 8, 8, 1, 12, 1, 3, 1, 3, 2, 5, 5, 5, 1, 6, 5, 8, 3, 3, 1, 7, 7, 3, 5, 2, 2, 3, 6, 2, 3, 6, 3, 3, 8, 3, 1, 8, 5, 3, 1, 4, 4, 7, 3, 3, 3, 8, 1, 2, 10, 1, 7, 1, 5, 3, 4, 2, 8, 5, 4, 1, 2, 6, 1, 6, 3, 1, 2, 2, 2, 1, 3, 4, 8, 3, 4, 4, 8, 4, 5, 4, 2, 3, 5, 5, 4, 9, 3, 2, 2, 4, 10, 3, 3, 3, 10, 5, 3, 8, 9, 3, 6, 5, 5, 3, 6, 2, 4, 2, 5, 5, 4, 6, 4, 5, 2, 6, 3, 2, 1, 10, 3, 4, 4, 7, 5, 2, 5, 3, 3, 9, 4, 3, 2, 4, 3, 1, 1, 1, 2, 3, 3, 3, 2, 6, 6, 4, 4, 3, 3, 2, 1, 1, 1, 3, 5, 3, 1, 9, 8, 8, 2, 4, 2, 8, 3, 3, 2, 2, 3, 3, 1, 4, 11, 5, 1, 1, 4, 10, 2, 4, 7, 3, 7, 3, 5, 2, 3, 7, 2, 4, 2, 5, 3, 3, 5, 3, 1, 2, 3, 2, 9, 1, 4, 4, 5, 1, 3, 6, 12, 1, 2, 3, 5, 8, 6, 6, 4, 2, 3, 5, 3, 2, 2, 2, 3, 3, 5, 4, 2, 3, 7, 9, 3, 1, 3, 6, 1, 3, 2, 9, 4, 2, 2, 3, 4, 6, 5, 6, 2, 4, 2, 4, 13, 5, 5, 4, 4, 2, 2, 1, 3, 4, 2, 2, 4, 4, 2, 1, 3, 6, 6, 1, 3, 5, 2, 3, 4, 1, 3, 2, 4, 8, 1, 4, 13, 5, 2, 6, 8, 4, 5, 4, 3, 6, 6, 1, 2, 4, 3, 2, 4, 5, 6, 9, 3, 3, 5, 2, 1, 5, 4, 3, 10, 3, 3, 4, 3, 1, 10, 2, 2, 1, 2, 3, 4, 1, 7, 2, 2, 2, 3, 8, 1, 2, 2, 2, 10, 13, 3, 4, 7, 11, 6, 3, 1, 1, 3, 3, 5, 1, 4, 2, 4, 3, 3, 4, 5, 6, 5, 1, 2, 5, 6, 5, 2, 9, 2, 5, 3, 4, 2, 3, 6, 2, 4, 2, 3, 3, 1, 3, 5, 2, 5, 7, 2, 3, 3, 4, 8, 6, 5, 4, 2, 1, 2, 13, 2, 1, 4, 5, 5, 10, 2, 6, 1, 8, 1, 1, 4, 4, 1, 1, 4, 2, 1, 3, 5, 7, 3, 4, 5, 7, 1, 3, 1, 7, 1, 5, 4, 10, 3, 3, 1, 2, 3, 6, 4, 5, 3, 6, 5, 2, 3, 7, 10, 3, 4, 3, 4, 2, 2, 2, 2, 5, 3, 5, 5, 1, 11, 2, 2, 5, 3, 8, 2, 5, 1, 1, 4, 6, 2, 4, 2, 3, 6, 4, 3, 1, 3, 3, 4, 2, 4, 4, 6, 2, 2, 5, 3, 5, 3, 9, 5, 6, 4, 3, 5, 4, 8, 1, 5, 1, 3, 4, 4, 2, 5, 3, 1, 2, 4, 3, 2, 1, 6, 2, 5, 3, 5, 4, 6, 6, 2, 6, 4, 3, 1, 1, 5, 4, 9, 3, 5, 1, 8, 3, 5, 4, 3, 4, 4, 3, 9, 4, 10, 4, 4, 3, 3, 8, 4, 3, 7, 1, 3, 1, 6, 6, 1, 3, 2, 5, 8, 6, 2, 5, 12, 4, 1, 1, 3, 3, 3, 1, 4, 4, 5, 7, 10, 9, 1, 6, 2, 6, 3, 6, 1, 3, 2, 1, 1, 3, 3, 4, 7, 2, 3, 5, 1, 1, 2, 3, 13, 3, 8, 4, 4, 2, 3, 14, 2, 2, 8, 5, 9, 6, 2, 4, 3, 6, 3, 8, 1, 2, 3, 3, 4, 3, 3, 6, 7, 2, 2, 6, 3, 2, 7, 7, 4, 5, 9, 4, 4, 5, 1, 5, 2, 5, 13, 8, 4, 1, 7, 3, 2, 3, 7, 1, 3, 3, 4, 9, 4, 9, 2, 7, 9, 5, 8, 5, 2, 4, 2, 9, 5, 5, 2, 2, 2, 1, 6, 4, 3, 4, 1, 9, 5, 1, 4, 1, 1, 7, 1, 5, 2, 4, 9, 3, 1, 9, 3, 5, 8, 3, 1, 2, 5, 3, 6, 6, 3, 4, 2, 1, 1, 4, 6, 2, 1, 6, 6, 5, 6, 8, 5, 1, 5, 1, 3, 3, 10, 3, 7, 3, 3, 4, 7, 6, 12, 7, 8, 4, 4, 3, 1, 2, 4, 4, 3, 6, 6, 3, 4, 8, 5, 1, 1, 5, 7, 6, 4, 5, 4, 3, 11, 10, 3, 2, 8, 3, 2, 2, 3, 2, 4, 4, 1, 1, 2, 2, 3, 1, 2, 6, 2, 4, 2, 5, 1, 2, 5, 6, 7, 1, 4, 4, 5, 4, 2, 1, 4, 2, 1, 1, 2, 2, 2, 5, 4, 10, 4, 4, 2, 2, 3, 5, 2, 6, 3, 3, 10, 4, 11, 1, 4, 1, 2, 4, 2, 2, 1, 2, 7, 1, 7, 12, 8, 6, 3, 1, 3, 3, 3, 6, 3, 6, 4, 2, 7, 2, 4, 6, 5, 4, 3, 7, 3, 2, 2, 6, 1, 4, 4, 5, 2, 7, 4, 4, 4, 7, 4, 4, 3, 4, 3, 1, 12, 6, 4, 5, 3, 5, 12, 4, 2, 5, 2, 3, 4, 1, 3, 2, 4, 10, 6, 1, 1, 4, 5, 1, 1, 2, 1, 12, 3, 1, 2, 3, 3, 7, 4, 4, 6, 4, 1, 4, 10, 5, 3, 1, 2, 3, 2, 3, 9, 4, 3, 3, 11, 1, 4, 2, 1, 1, 4, 3, 5, 10, 4, 3, 6, 4, 1, 3, 7, 2, 1, 9, 1, 4, 1, 9, 5, 4, 7, 4, 4, 6, 4, 6, 3, 3, 5, 5, 2, 1, 6, 3, 2, 2, 1, 2, 5, 12, 2, 5, 1, 5, 5, 3, 2, 3, 1, 4, 4, 8, 1, 4, 5, 5, 2, 1, 6, 3, 5, 6, 2, 1, 5, 3, 5, 3, 6, 4, 5, 7, 3, 8, 6, 3, 2, 7, 1, 5, 1, 4, 5, 4, 3, 9, 4, 6, 2, 1, 2, 3, 2, 2, 9, 6, 2, 6, 3, 9, 11, 3, 4, 3, 3, 8, 4, 5, 1, 4, 3, 3, 8, 5, 7, 4, 1, 3, 10, 4, 4, 4, 3, 4, 4, 2, 11, 5, 6, 3, 6, 2, 3, 2, 4, 1, 6, 5, 6, 2, 7, 4, 8, 3, 5, 5, 4, 6, 6, 5, 3, 2, 6, 8, 2, 4, 3, 1, 3, 9, 6, 5, 6, 4, 3, 3, 2, 3, 3, 4, 7, 4, 6, 6, 4, 4, 2, 2, 10, 1, 3, 9, 2, 2, 6, 5, 4, 3, 2, 1, 8, 3, 2, 5, 2, 6, 13, 3, 5, 1, 3, 5, 3, 14, 3, 6, 8, 2, 1, 7, 1, 4, 7, 3, 2, 11, 2, 1, 4, 3, 9, 1, 3, 7, 2, 4, 5, 9, 6, 2, 2, 2, 2, 5, 5, 6, 9, 3, 4, 4, 5, 5, 2, 3, 4, 2, 1, 2, 2, 2, 3, 5, 3, 8, 3, 4, 3, 5, 4, 8, 6, 2, 4, 5, 1, 4, 5, 4, 4, 4, 2, 3, 5, 7, 2, 5, 5, 10, 2, 1, 5, 5, 8, 5, 5, 12, 2, 7, 5, 1, 3, 3, 3, 5, 7, 1, 4, 4, 3, 4, 3, 3, 1, 1, 3, 5, 3, 8, 6, 3, 2, 5, 4, 3, 2, 6, 3, 9, 3, 4, 4, 6, 3, 9, 3, 3, 2, 4, 8, 4, 6, 1, 6, 3, 2, 3, 5, 3, 1, 5, 5, 3, 5, 2, 5, 6, 2, 9, 3, 8, 2, 7, 2, 11, 1, 2, 2, 3, 1, 7, 1, 2, 3, 4, 1, 7, 2, 4, 4, 12, 2, 4, 3, 7, 3, 3, 7, 5, 7, 1, 3, 5, 4, 4, 1, 4, 1, 6, 1, 10, 2, 6, 2, 3, 3, 3, 5, 1, 1, 6, 2, 8, 6, 2, 6, 5, 5, 4, 2, 1, 1, 5, 6, 5, 3, 5, 7, 4, 4, 4, 2, 5, 3, 2, 2, 2, 5, 1, 4, 4, 1, 4, 1, 2, 3, 5, 5, 3, 1, 6, 6, 1, 5, 3, 3, 1, 8, 2, 4, 5, 2, 4, 4, 10, 3, 5, 4, 2, 5, 3, 11, 1, 2, 2, 4, 6, 3, 7, 1, 4, 1, 5, 3, 3, 3, 5, 6, 3, 1, 5, 3, 2, 5, 2, 2, 5, 3, 3, 2, 6, 5, 4, 3, 3, 4, 8, 17, 7, 3, 5, 3, 3, 6, 4, 1, 6, 1, 4, 5, 4, 3, 6, 2, 7, 23, 3, 5, 10, 2, 7, 4, 4, 6, 4, 5, 4, 5, 3, 7, 4, 3, 2, 4, 1, 3, 6, 2, 5, 5, 4, 3, 1, 3, 5, 7, 1, 2, 2, 5, 8, 4, 6, 1, 2, 1, 3, 4, 4, 5, 3, 2, 8, 3, 1, 6, 6, 3, 4, 6, 3, 3, 5, 1, 2, 3, 7, 1, 6, 6, 3, 5, 6, 3, 5, 5, 2, 5, 4, 1, 7, 2, 1, 4, 7, 6, 3, 8, 3, 5, 6, 4, 1, 6, 3, 2, 7, 1, 6, 4, 2, 5, 3, 4, 8, 4, 5, 2, 1, 3, 12, 3, 7, 1, 6, 8, 6, 3, 3, 6, 2, 2, 2, 9, 4, 8, 2, 3, 1, 4, 3, 2, 9, 1, 3, 2, 8, 5, 4, 7, 1, 7, 1, 6, 4, 12, 4, 1, 3, 9, 3, 2, 4, 4, 19, 7, 1, 1, 3, 2, 5, 3, 7, 4, 8, 3, 4, 5, 6, 4, 5, 2, 2, 4, 3, 3, 4, 4, 2, 4, 4, 4, 3, 3, 2, 4, 6, 2, 1, 4, 4, 2, 4, 1, 4, 6, 2, 1, 1, 6, 4, 10, 6, 2, 4, 2, 6, 6, 5, 1, 1, 3, 1, 2, 7, 3, 10, 2, 2, 1, 4, 4, 8, 2, 4, 2, 1, 2, 6, 1, 4, 6, 5, 3, 4, 4, 2, 2, 5, 4, 8, 5, 1, 5, 2, 2, 3, 5, 1, 2, 3, 2, 3, 2, 2, 4, 7, 4, 3, 4, 8, 4, 4, 4, 3, 8, 2, 5, 4, 4, 2, 3, 3, 2, 3, 3, 1, 5, 11, 2, 1, 2, 3, 6, 3, 6, 3, 4, 3, 1, 6, 2, 6, 3, 10, 4, 4, 4, 5, 2, 5, 7, 3, 4, 2, 4, 2, 2, 1, 3, 9, 2, 1, 2, 7, 1, 6, 4, 3, 3, 3, 6, 1, 8, 4, 5, 3, 4, 4, 1, 2, 5, 4, 10, 10, 2, 2, 3, 4, 3, 3, 4, 4, 3, 1, 5, 3, 6, 7, 6, 1, 4, 4, 3, 9, 2, 2, 8, 2, 6, 2, 6, 5, 3, 4, 5, 9, 3, 7, 1, 3, 2, 5, 4, 10, 4, 7, 1, 1, 2, 3, 3, 4, 7, 3, 2, 4, 4, 2, 4, 4, 3, 3, 4, 4, 4, 3, 3, 3, 5, 1, 4, 3, 1, 4, 2, 9, 5, 9, 7, 5, 7, 5, 4, 4, 3, 7, 1, 4, 10, 3, 2, 2, 7, 1, 3, 5, 3, 4, 9, 9, 2, 3, 9, 4, 4, 3, 7, 5, 3, 3, 5, 4, 1, 1, 6, 3, 2, 3, 7, 9, 8, 1, 2, 8, 3, 8, 6, 2, 1, 2, 3, 5, 5, 4, 2, 7, 4, 5, 4, 4, 7, 6, 5, 4, 2, 9, 2, 3, 6, 9, 1, 6, 7, 13, 2, 2, 4, 5, 5, 3, 6, 3, 1, 5, 2, 7, 3, 2, 5, 6, 7, 3, 7, 4, 2, 2, 3, 1, 4, 3, 4, 3, 2, 1, 10, 1, 5, 1, 4, 4, 6, 2, 12, 4, 1, 8, 2, 4, 1, 2, 6, 5, 1, 3, 6, 4, 2, 5, 6, 5, 3, 6, 4, 3, 1, 5, 7, 5, 7, 2, 3, 4, 5, 3, 3, 10, 7, 3, 5, 12, 4, 5, 4, 2, 5, 1, 5, 8, 2, 2, 3, 5, 5, 4, 4, 2, 1, 3, 3, 3, 2, 2, 2, 8, 3, 6, 4, 5, 5, 4, 4, 5, 6, 8, 4, 2, 3, 7, 3, 6, 6, 3, 3, 4, 6, 1, 4, 8, 3, 4, 3, 2, 6, 7, 5, 3, 8, 2, 4, 4, 2, 4, 1, 3, 3, 1, 1, 1, 1, 2, 1, 1, 1, 4, 5, 6, 4, 10, 2, 2, 7, 4, 4, 11, 7, 7, 2, 1, 1, 5, 6, 3, 5, 5, 5, 7, 2, 4, 5, 5, 2, 4, 1, 9, 2, 3, 9, 5, 3, 5, 1, 4, 2, 5, 4, 3, 4, 2, 3, 7, 1, 3, 8, 3, 1, 4, 3, 4, 3, 3, 4, 3, 7, 9, 3, 3, 3, 7, 5, 5, 1, 1, 5, 7, 5, 5, 6, 7, 3, 3, 3, 10, 3, 2, 6, 1, 2, 1, 3, 3, 2, 1, 3, 7, 4, 5, 5, 3, 5, 3, 2, 2, 1, 2, 3, 5, 7, 7, 4, 2, 4, 3, 6, 1, 1, 8, 2, 5, 11, 3, 1, 4, 4, 2, 2, 4, 10, 7, 1, 2, 6, 4, 6, 6, 7, 3, 3, 3, 2, 4, 2, 8, 4, 3, 4, 9, 6, 4, 3, 3, 6, 5, 3, 1, 3, 8, 4, 6, 8, 2, 3, 2, 2, 2, 3, 1, 4, 9, 2, 1, 2, 7, 3, 4, 1, 6, 7, 11, 4, 1, 1, 1, 8, 2, 3, 3, 4, 2, 4, 3, 5, 3, 5, 2, 1, 4, 11, 1, 2, 6, 7, 2, 3, 2, 5, 10, 5, 5, 4, 3, 1, 2, 7, 3, 2, 3, 5, 3, 8, 8, 1, 6, 3, 1, 5, 5, 6, 2, 1, 4, 3, 4, 10, 5, 3, 6, 3, 4, 4, 3, 7, 4, 7, 2, 5, 1, 5, 5, 7, 5, 4, 11, 5, 1, 6, 2, 1, 4, 2, 3, 5, 2, 4, 9, 4, 3, 10, 2, 3, 8, 2, 4, 2, 5, 1, 5, 2, 5, 4, 4, 6, 1, 3, 7, 6, 5, 6, 8, 3, 1, 8, 2, 7, 6, 3, 7, 6, 3, 4, 4, 2, 1, 4, 4, 6, 7, 9, 4, 2, 9, 2, 3, 1, 7, 3, 2, 5, 4, 3, 5, 2, 8, 6, 2, 3, 4, 1, 4, 2, 1, 3, 5, 7, 5, 6, 3, 2, 6, 2, 3, 3, 4, 5, 7, 3, 3, 4, 1, 3, 4, 2, 4, 6, 6, 12, 7, 1, 1, 2, 4, 9, 4, 3, 2, 5, 1, 3, 1, 3, 10, 7, 2, 2, 3, 4, 3, 5, 9, 7, 2, 4, 3, 1, 6, 3, 3, 6, 5, 2, 3, 3, 7, 3, 7, 1, 3, 2, 9, 3, 12, 2, 3, 5, 4, 1, 8, 4, 1, 1, 2, 10, 5, 5, 2, 5, 9, 6, 4, 2, 5, 5, 4, 8, 2, 2, 3, 6, 3, 9, 1, 1, 3, 4, 1, 5, 8, 4, 10, 3, 4, 5, 7, 1, 2, 4, 3, 6, 2, 2, 6, 2, 1, 3, 2, 5, 3, 4, 4, 5, 3, 1, 4, 3, 4, 4, 4, 1, 1, 8, 3, 3, 11, 5, 3, 4, 7, 2, 4, 3, 4, 2, 4, 2, 7, 10, 3, 1, 6, 2, 3, 7, 6, 6, 2, 1, 6, 6, 9, 5, 3, 1, 4, 1, 6, 7, 4, 3, 4, 3, 5, 3, 7, 7, 1, 7, 6, 4, 3, 3, 7, 2, 4, 2, 2, 2, 10, 2, 3, 2, 4, 1, 4, 2, 4, 4, 3, 3, 2, 5, 5, 3, 6, 6, 3, 3, 4, 4, 4, 5, 7, 1, 4, 6, 4, 9, 4, 2, 4, 5, 3, 4, 6, 3, 6, 1, 2, 5, 8, 4, 3, 5, 9, 5, 3, 2, 1, 2, 2, 6, 3, 7, 7, 9, 4, 1, 5, 4, 4, 1, 8, 5, 7, 2, 3, 6, 1, 3, 3, 3, 7, 1, 9, 7, 4, 5, 6, 4, 4, 10, 1, 8, 1, 2, 3, 5, 5, 9, 3, 6, 4, 9, 7, 5, 4, 4, 3, 8, 6, 8, 3, 1, 2, 5, 4, 5, 6, 4, 2, 7, 2, 2, 3, 6, 6, 6, 6, 4, 7, 4, 2, 1, 4, 2, 5, 1, 6, 2, 1, 3, 2, 1, 4, 2, 2, 5, 4, 2, 3, 4, 2, 3, 1, 4, 1, 14, 2, 4, 4, 4, 1, 3, 5, 3, 6, 1, 3, 4, 6, 4, 2, 4, 3, 3, 2, 5, 3, 2, 4, 6, 6, 5, 5, 2, 2, 5, 3, 5, 3, 3, 1, 6, 6, 3, 6, 1, 4, 2, 1, 1, 6, 5, 5, 4, 2, 4, 2, 3, 2, 7, 6, 1, 4, 2, 3, 1, 1, 8, 7, 3, 3, 1, 10, 2, 6, 2, 3, 7, 4, 4, 4, 5, 8, 1, 8, 7, 4, 5, 3, 3, 5, 3, 2, 3, 3, 3, 6, 2, 2, 3, 3, 4, 1, 1, 5, 1, 3, 3, 3, 1, 8, 4, 6, 2, 2, 3, 4, 6, 5, 3, 1, 6, 2, 5, 4, 3, 3, 4, 2, 5, 2, 3, 5, 5, 8, 4, 2, 1, 2, 5, 3, 2, 1, 8, 5, 2, 1, 5, 3, 7, 3, 3, 1, 3, 6, 3, 1, 6, 3, 9, 4, 3, 3, 9, 4, 3, 5, 8, 2, 4, 4, 6, 5, 2, 4, 2, 2, 3, 5, 6, 3, 3, 6, 7, 2, 2, 2, 3, 2, 3, 4, 3, 1, 3, 1, 2, 4, 3, 2, 1, 5, 2, 1, 2, 8, 5, 4, 5, 1, 6, 4, 3, 5, 5, 4, 3, 5, 3, 1, 2, 3, 2, 4, 8, 8, 3, 4, 2, 3, 5, 5, 8, 5, 2, 1, 6, 6, 4, 3, 1, 3, 2, 4, 4, 4, 3, 8, 4, 4, 5, 5, 2, 5, 6, 3, 5, 1, 4, 1, 5, 3, 4, 4, 1, 4, 3, 10, 7, 1, 2, 4, 9, 3, 1, 1, 4, 3, 1, 9, 2, 7, 2, 5, 2, 1, 3, 3, 7, 3, 4, 6, 5, 5, 3, 3, 3, 4, 2, 3, 3, 4, 3, 2, 2, 4, 6, 4, 2, 6, 2, 4, 1, 6, 5, 1, 4, 4, 1, 4, 5, 4, 3, 4, 3, 3, 3, 6, 2, 6, 4, 5, 4, 3, 2, 2, 5, 5, 2, 4, 3, 2, 7, 4, 2, 3, 5, 2, 4, 2, 2, 2, 5, 5, 2, 8, 3, 3, 3, 3, 1, 3, 3, 9, 4, 1, 3, 7, 2, 4, 4, 3, 2, 5, 9, 3, 7, 6, 3, 6, 2, 1, 4, 6, 3, 3, 3, 1, 5, 5, 4, 2, 4, 8, 4, 6, 4, 3, 6, 2, 3, 4, 4, 4, 1, 2, 2, 6, 4, 1, 4, 2, 8, 1, 3, 2, 2, 3, 2, 3, 3, 4, 1, 7, 1, 3, 2, 9, 5, 5, 2, 3, 2, 1, 5, 5, 1, 3, 2, 5, 2, 2, 3, 3, 1, 5, 5, 2, 7, 5, 3, 2, 5, 3, 5, 2, 4, 4, 1, 2, 3, 2, 2, 4, 5, 2, 7, 6, 4, 3, 2, 4, 2, 2, 4, 1, 5, 3, 3, 1, 1, 1, 1, 5, 2, 2, 1, 3, 2, 8, 3, 8, 4, 1, 1, 3, 4, 1, 2, 5, 3, 3, 2, 6, 4, 3, 5, 4, 9, 2, 4, 1, 6, 3, 5, 2, 12, 1, 2, 3, 2, 1, 1, 2, 5, 2, 1, 3, 2, 5, 2, 1, 1, 2, 3, 4, 4, 3, 1, 3, 2, 9, 3, 4, 5, 3, 4, 2, 2, 2, 5, 4, 5, 3, 2, 3, 4, 4, 4, 1, 5, 5, 6, 4, 3, 2, 8, 8, 4, 3, 4, 2, 1, 1, 8, 3, 3, 3, 3, 4, 7, 3, 5, 5, 2, 7, 1, 2, 5, 4, 6, 3, 3, 6, 4, 8, 1, 2, 2, 5, 3, 1, 3, 5, 7, 3, 5, 1, 8, 5, 3, 3, 3, 1, 2, 4, 7, 11, 2, 3, 2, 3, 6, 1, 9, 8, 3, 5, 10, 3, 3, 1, 4, 5, 8, 4, 2, 1, 2, 3, 8, 6, 1, 2, 2, 5, 5, 1, 13, 4, 5, 6, 2, 8, 1, 2, 2, 6, 5, 3, 5, 2, 2, 4, 9, 2, 4, 4, 6, 4, 9, 3, 5, 6, 2, 1, 5, 7, 7, 2, 5, 2, 3, 2, 5, 5, 10, 3, 3, 6, 2, 4, 2, 5, 6, 2, 2, 3, 5, 2, 4, 1, 5, 4, 5, 3, 5, 5, 2, 2, 2, 4, 5, 1, 2, 1, 3, 3, 1, 3, 3, 7, 2, 5, 5, 7, 3, 5, 3, 2, 4, 2, 2, 7, 1, 4, 2, 3, 4, 5, 5, 1, 2, 2, 1, 5, 7, 5, 1, 4, 6, 3, 4, 4, 6, 3, 2, 7, 5, 1, 4, 7, 6, 5, 9, 4, 6, 5, 3, 3, 5, 7, 8, 4, 5, 6, 2, 3, 3, 7, 14, 2, 5, 5, 2, 3, 6, 6, 6, 3, 9, 3, 4, 10, 2, 5, 6, 2, 8, 6, 1, 2, 2, 5, 4, 1, 11, 1, 7, 4, 1, 4, 1, 3, 6, 4, 2, 1, 4, 3, 2, 2, 2, 6, 7, 4, 5, 12, 3, 2, 3, 3, 1, 4, 5, 5, 3, 8, 2, 2, 1, 2, 2, 1, 3, 1, 1, 2, 2, 1, 2, 3, 4, 5, 4, 1, 2, 5, 3, 2, 3, 2, 4, 5, 6, 1, 3, 3, 2, 2, 6, 2, 5, 2, 4, 5, 3, 1, 2, 2, 3, 2, 1, 2, 4, 1, 4, 5, 2, 2, 2, 3, 2, 5, 5, 2, 3, 5, 8, 5, 3, 8, 6, 8, 4, 1, 1, 1, 4, 2, 2, 2, 7, 1, 3, 3, 2, 2, 6, 4, 3, 4, 3, 2, 3, 5, 2, 3, 8, 1, 2, 2, 1, 2, 6, 3, 3, 1, 1, 2, 2, 5, 2, 3, 2, 3, 3, 1, 3, 10, 1, 1, 2, 2, 1, 3, 3, 4, 4, 2, 4, 4, 3, 4, 3, 6, 6, 6, 5, 1, 1, 4, 6, 2, 3, 2, 3, 2, 1, 5, 2, 7, 3, 2, 1, 3, 3, 5, 2, 2, 3, 1, 7, 3, 3, 3, 2, 3, 3, 3, 5, 2, 3, 1, 2, 2, 2, 5, 2, 3, 2, 2, 2, 3, 5, 2, 6, 8, 7, 1, 4, 3, 2, 5, 2, 3, 3, 3, 3, 4, 5, 1, 6, 6, 4, 4, 3, 3, 3, 2, 4, 2, 3, 1, 3, 5, 3, 3, 1, 5, 3, 2, 2, 3, 5, 6, 2, 4, 3, 1, 2, 3, 5, 2, 2, 8, 2, 2, 4, 2, 3, 2, 12, 4, 3, 3, 1, 4, 4, 5, 4, 3, 5, 1, 1, 3, 11, 3, 2, 2, 5, 5, 2, 3, 5, 3, 6, 2, 5, 2, 4, 4, 1, 2, 1, 5, 2, 3, 7, 4, 2, 1, 2, 3, 5, 1, 2, 8, 4, 3, 5, 2, 9, 3, 9, 2, 5, 5, 2, 3, 3, 3, 2, 3, 3, 2, 5, 4, 4, 6, 2, 4, 2, 1, 12, 1, 2, 1, 1, 4, 3, 4, 3, 2, 1, 2, 7, 3, 2, 6, 3, 2, 5, 4, 2, 3, 3, 6, 7, 4, 1, 5, 2, 4, 9, 7, 5, 3, 5, 2, 2, 2, 2, 3, 4, 4, 2, 2, 1, 2, 1, 3, 2, 2, 1, 5, 6, 1, 4, 4, 4, 1, 5, 3, 5, 5, 1, 3, 1, 1, 1, 4, 2, 8, 1, 1, 4, 3, 3, 4, 1, 3, 1, 4, 3, 5, 1, 6, 4, 5, 1, 1, 3, 1, 2, 2, 2, 3, 4, 3, 2, 1, 3, 7, 1, 1, 4, 1, 4, 4, 3, 2, 6, 1, 3, 6, 4, 11, 4, 2, 3, 4, 5, 4, 9, 1, 5, 2, 4, 1, 1, 1, 5, 3, 10, 2, 4, 2, 3, 1, 4, 4, 1, 3, 2, 2, 5, 14, 6, 1, 4, 1, 3, 1, 1, 3, 3, 3, 2, 2, 3, 8, 2, 7, 1, 3, 8, 1, 3, 5, 4, 2, 1, 3, 2, 1, 3, 6, 4, 2, 3, 9, 3, 2, 4, 3, 3, 2, 2, 3, 3, 4, 1, 4, 5, 7, 6, 3, 2, 3, 4, 2, 5, 8, 5, 4, 7, 3, 3, 1, 7, 3, 3, 1, 2, 2, 1, 6, 1, 1, 2, 4, 1, 4, 2, 1, 3, 1, 4, 2, 2, 3, 4, 5, 3, 4, 2, 2, 5, 4, 7, 3, 1, 1, 3, 1, 4, 2, 8, 3, 6, 8, 2, 5, 7, 1, 4, 8, 6, 3, 5, 4, 3, 2, 2, 5, 5, 2, 4, 8, 1, 5, 2, 4, 7, 3, 4, 3, 2, 2, 5, 3, 5, 4, 4, 3, 1, 1, 2, 1, 5, 3, 3, 4, 4, 5, 6, 6, 2, 3, 7, 2, 7, 3, 1, 4, 1, 2, 2, 3, 2, 5, 1, 2, 4, 3, 1, 3, 2, 5, 4, 4, 2, 3, 1, 2, 3, 2, 4, 3, 9, 3, 7, 7, 1, 4, 4, 2, 4, 2, 3, 3, 6, 3, 4, 1, 3, 4, 7, 1, 3, 1, 6, 2, 4, 4, 2, 6, 7, 2, 1, 2, 3, 6, 3, 5, 6, 3, 5, 9, 2, 1, 2, 5, 3, 3, 5, 5, 3, 1, 3, 3, 3, 4, 3, 3, 5, 5, 2, 5, 1, 5, 3, 3, 3, 2, 2, 4, 3, 4, 2, 3, 4, 3, 5, 3, 7, 2, 3, 9, 4, 5, 3, 7, 4, 2, 8, 3, 3, 1, 5, 4, 4, 3, 3, 1, 2, 3, 5, 6, 7, 5, 8, 3, 4, 11, 2, 8, 2, 6, 3, 2, 3, 3, 2, 6, 2, 2, 3, 1, 4, 5, 3, 3, 4, 2, 7, 5, 2, 3, 1, 1, 6, 3, 5, 3, 8, 2, 3, 5, 1, 1, 4, 5, 4, 6, 4, 3, 5, 2, 1, 1, 2, 3, 3, 8, 1, 1, 3, 1, 4, 1, 2, 1, 3, 4, 4, 5, 1, 3, 4, 8, 5, 3, 3, 3, 5, 2, 10, 4, 1, 3, 4, 6, 5, 4, 3, 3, 1, 7, 2, 3, 2, 3, 3, 1, 4, 3, 4, 3, 3, 3, 4, 7, 3, 2, 4, 1, 1, 3, 5, 3, 2, 3, 5, 2, 6, 1, 2, 5, 4, 2, 4, 3, 9, 5, 2, 2, 4, 1, 4, 1, 4, 1, 3, 2, 3, 4, 1, 3, 5, 4, 10, 4, 2, 3, 1, 7, 3, 3, 3, 3, 1, 2, 6, 1, 2, 5, 3, 4, 1, 6, 4, 3, 2, 2, 1, 4, 5, 2, 1, 12, 5, 1, 3, 3, 2, 1, 4, 5, 2, 2, 2, 3, 5, 2, 3, 2, 4, 2, 4, 1, 5, 2, 8, 1, 1, 2, 3, 6, 2, 11, 2, 4, 1, 6, 3, 4, 6, 7, 7, 5, 4, 1, 4, 2, 7, 4, 4, 4, 3, 2, 2, 2, 8, 3, 3, 3, 2, 1, 7, 5, 1, 7, 2, 4, 4, 9, 1, 1, 2, 4, 2, 1, 3, 4, 3, 2, 3, 11, 2, 4, 1, 4, 2, 2, 1, 3, 4, 8, 2, 3, 3, 3, 4, 3, 2, 4, 4, 1, 2, 6, 2, 5, 6, 5, 3, 3, 2, 3, 7, 9, 2, 4, 2, 3, 3, 1, 5, 3, 6, 4, 5, 2, 4, 4, 2, 5, 2, 1, 2, 5, 2, 6, 2, 4, 3, 2, 4, 5, 5, 2, 4, 2, 3, 3, 3, 2, 3, 2, 5, 3, 1, 4, 2, 3, 3, 2, 4, 6, 3, 2, 3, 2, 4, 6, 5, 3, 5, 3, 2, 5, 1, 6, 2, 6, 5, 1, 5, 3, 3, 3, 4, 7, 2, 4, 4, 2, 2, 4, 4, 1, 3, 4, 4, 3, 4, 4, 4, 6, 3, 2, 5, 6, 3, 8, 3, 4, 4, 1, 3, 5, 6, 1, 2, 3, 6, 3, 2, 5, 4, 4, 3, 3, 1, 2, 2, 4, 3, 1, 1, 1, 1, 12, 3, 4, 3, 2, 3, 6, 4, 2, 3, 6, 5, 2, 3, 10, 7, 3, 6, 5, 4, 5, 4, 3, 3, 3, 4, 5, 2, 2, 2, 5, 6, 3, 2, 2, 2, 3, 1, 3, 4, 4, 5, 5, 7, 7, 2, 2, 2, 5, 2, 2, 2, 3, 3, 8, 4, 1, 2, 7, 3, 1, 3, 7, 4, 1, 2, 5, 2, 6, 6, 5, 2, 7, 2, 3, 1, 5, 3, 1, 2, 2, 2, 2, 1, 4, 4, 1, 5, 1, 2, 4, 3, 7, 8, 2, 4, 3, 6, 3, 1, 4, 3, 5, 1, 1, 7, 2, 3, 1, 3, 2, 2, 3, 4, 8, 7, 4, 3, 3, 4, 1, 1, 3, 4, 3, 3, 6, 7, 2, 3, 2, 8, 1, 9, 5, 4, 2, 5, 1, 4, 2, 8, 3, 1, 3, 1, 4, 7, 3, 2, 1, 2, 3, 3, 3, 7, 2, 4, 3, 2, 5, 3, 2, 3, 3, 6, 3, 1, 3, 2, 2, 6, 2, 5, 2, 8, 2, 1, 3, 1, 2, 1, 3, 3, 3, 7, 4, 3, 5, 8, 3, 6, 5, 1, 8, 3, 2, 4, 4, 2, 1, 4, 5, 3, 3, 5, 1, 1, 6, 2, 1, 4, 5, 5, 5, 1, 3, 4, 7, 2, 2, 1, 3, 3, 2, 5, 7, 6, 6, 2, 6, 7, 1, 4, 3, 5, 2, 3, 4, 3, 1, 3, 4, 2, 4, 6, 5, 8, 4, 5, 1, 1, 4, 2, 1, 5, 3, 2, 1, 7, 3, 1, 9, 7, 1, 6, 1, 4, 1, 2, 11, 6, 4, 3, 4, 7, 10, 4, 1, 7, 4, 1, 3, 4, 2, 10, 3, 2, 11, 5, 4, 1, 4, 5, 6, 2, 1, 2, 5, 8, 2, 2, 2, 5, 10, 1, 3, 7, 8, 6, 2, 7, 3, 5, 1, 1, 2, 7, 6, 3, 2, 3, 10, 6, 3, 2, 3, 1, 3, 6, 5, 7, 3, 5, 1, 5, 7, 2, 6, 4, 4, 1, 1, 3, 7, 3, 3, 6, 6, 4, 5, 2, 4, 1, 6, 5, 2, 7, 6, 5, 3, 2, 5, 7, 3, 6, 2, 1, 3, 4, 7, 2, 1, 2, 3, 5, 2, 2, 4, 6, 2, 4, 6, 5, 2, 4, 1, 4, 1, 6, 4, 8, 4, 4, 5, 6, 2, 4, 1, 5, 3, 4, 3, 4, 5, 2, 7, 3, 7, 1, 1, 2, 3, 2, 2, 1, 5, 2, 3, 6, 1, 2, 5, 5, 2, 6, 1, 7, 3, 3, 2, 4, 3, 9, 3, 3, 3, 3, 3, 1, 2, 4, 2, 4, 3, 1, 3, 7, 2, 6, 3, 7, 7, 6, 6, 3, 2, 4, 4, 5, 2, 3, 5, 4, 2, 1, 2, 2, 3, 3, 6, 5, 2, 1, 1, 3, 3, 5, 2, 1, 1, 6, 1, 3, 3, 5, 3, 7, 3, 6, 4, 3, 2, 3, 1, 1, 1, 2, 8, 2, 6, 3, 1, 1, 6, 5, 2, 1, 1, 2, 6, 3, 3, 2, 1, 3, 4, 2, 5, 2, 4, 4, 5, 1, 2, 4, 2, 4, 6, 7, 5, 1, 3, 6, 2, 5, 8, 6, 3, 2, 3, 6, 8, 1, 2, 4, 3, 3, 5, 8, 3, 6, 3, 4, 6, 2, 3, 1, 2, 3, 3, 4, 3, 2, 3, 2, 5, 4, 1, 1, 5, 5, 2, 2, 3, 4, 2, 2, 5, 6, 3, 5, 5, 1, 2, 1, 1, 2, 3, 3, 4, 7, 5, 2, 6, 4, 5, 3, 6, 4, 4, 5, 2, 2, 2, 5, 3, 4, 3, 3, 6, 4, 8, 5, 2, 3, 4, 1, 9, 5, 2, 3, 1, 3, 1, 4, 2, 4, 2, 2, 4, 7, 2, 5, 6, 2, 3, 4, 3, 2, 7, 7, 3, 4, 2, 6, 2, 4, 4, 1, 2, 4, 7, 5, 7, 7, 9, 1, 4, 2, 3, 3, 3, 1, 1, 2, 1, 2, 4, 4, 2, 2, 2, 3, 3, 3, 1, 1, 1, 2, 1, 3, 4, 6, 3, 4, 4, 4, 3, 1, 7, 1, 2, 1, 6, 2, 1, 3, 3, 3, 3, 1, 2, 6, 2, 1, 3, 2, 4, 3, 4, 3, 3, 1, 5, 7, 3, 2, 6, 4, 1, 4, 4, 5, 3, 4, 2, 2, 3, 5, 3, 1, 6, 3, 7, 1, 2, 6, 1, 2, 4, 1, 8, 2, 1, 6, 3, 2, 6, 3, 11, 3, 2, 1, 1, 3, 3, 6, 1, 5, 3, 1, 6, 2, 5, 2, 2, 5, 4, 2, 3, 3, 5, 2, 3, 1, 6, 4, 9, 5, 3, 6, 6, 5, 5, 4, 3, 1, 7, 7, 1, 2, 3, 1, 4, 2, 7, 1, 6, 2, 3, 4, 4, 4, 1, 6, 6, 2, 3, 3, 1, 11, 6, 2, 3, 3, 1, 7, 1, 7, 4, 8, 4, 3, 5, 5, 5, 3, 3, 5, 6, 4, 2, 1, 1, 2, 2, 2, 3, 6, 4, 2, 5, 2, 3, 8, 3, 2, 3, 2, 8, 8, 3, 5, 2, 4, 1, 1, 2, 1, 2, 2, 4, 4, 1, 3, 8, 3, 1, 2, 4, 3, 1, 4, 2, 1, 6, 2, 2, 3, 3, 11, 5, 3, 2, 7, 12, 3, 7, 2, 3, 9, 2, 4, 6, 3, 6, 3, 7, 2, 1, 3, 4, 3, 5, 5, 2, 1, 5, 8, 5, 6, 4, 3, 3, 3, 6, 3, 6, 2, 4, 4, 6, 5, 2, 4, 4, 3, 10, 1, 5, 2, 1, 2, 3, 4, 3, 2, 1, 9, 5, 5, 6, 4, 2, 5, 3, 2, 2, 4, 5, 9, 11, 2, 2, 3, 3, 4, 5, 4, 5, 4, 2, 1, 2, 1, 5, 9, 1, 5, 3, 1, 4, 1, 7, 5, 1, 1, 8, 5, 5, 3, 3, 3, 6, 2, 3, 6, 1, 3, 4, 2, 7, 3, 5, 6, 1, 5, 5, 7, 1, 3, 1, 6, 4, 9, 1, 3, 5, 2, 7, 7, 3, 1, 4, 2, 6, 3, 5, 1, 4, 2, 3, 8, 1, 2, 6, 6, 3, 3, 5, 3, 5, 1, 6, 3, 8, 7, 11, 1, 10, 7, 4, 2, 5, 3, 3, 2, 5, 5, 7, 7, 3, 4, 2, 3, 4, 1, 7, 2, 3, 2, 6, 1, 3, 4, 3, 5, 3, 11, 4, 4, 4, 2, 8, 3, 2, 2, 1, 4, 4, 1, 4, 1, 4, 2, 1, 3, 3, 5, 3, 3, 5, 1, 2, 5, 3, 2, 1, 5, 2, 3, 2, 2, 3, 7, 1, 4, 3, 4, 6, 1, 3, 3, 5, 4, 2, 2, 4, 5, 1, 4, 4, 4, 3, 1, 7, 9, 2, 3, 5, 6, 1, 5, 4, 3, 2, 1, 5, 2, 3, 6, 7, 7, 5, 2, 3, 5, 3, 1, 2, 3, 2, 4, 3, 5, 5, 3, 4, 2, 4, 6, 4, 4, 5, 4, 6, 4, 2, 8, 4, 3, 2, 6, 2, 4, 1, 1, 3, 4, 12, 6, 3, 2, 3, 4, 2, 3, 10, 2, 3, 1, 4, 3, 1, 2, 9, 1, 2, 2, 5, 2, 4, 2, 3, 5, 3, 6, 3, 3, 11, 1, 2, 6, 3, 2, 6, 3, 1, 1, 3, 6, 1, 2, 3, 9, 5, 5, 4, 4, 2, 3, 3, 4, 7, 2, 3, 2, 5, 5, 3, 3, 2, 6, 5, 2, 1, 6, 7, 3, 4, 1, 3, 2, 1, 5, 4, 2, 4, 7, 3, 4, 4, 3, 2, 2, 1, 2, 3, 10, 2, 2, 3, 1, 3, 2, 5, 1, 1, 5, 5, 4, 3, 3, 3, 8, 2, 4, 5, 2, 8, 6, 4, 6, 1, 2, 14, 4, 4, 2, 5, 4, 5, 5, 6, 9, 1, 1, 1, 3, 5, 2, 4, 2, 4, 8, 8, 4, 5, 2, 3, 2, 2, 5, 6, 1, 7, 4, 4, 5, 6, 8, 8, 1, 1, 8, 4, 3, 4, 1, 4, 1, 8, 6, 4, 1, 2, 5, 16, 4, 6, 3, 3, 2, 2, 2, 2, 2, 9, 3, 1, 3, 9, 8, 3, 2, 4, 4, 2, 5, 3, 5, 7, 6, 6, 7, 14, 3, 3, 4, 3, 4, 5, 3, 5, 6, 4, 5, 1, 2, 2, 3, 4, 5, 5, 3, 4, 10, 7, 1, 3, 4, 10, 5, 8, 2, 2, 3, 7, 4, 1, 7, 1, 2, 4, 4, 5, 4, 10, 4, 5, 6, 1, 2, 2, 9, 6, 8, 6, 5, 1, 3, 3, 1, 4, 1, 1, 1, 8, 2, 5, 8, 6, 3, 5, 7, 2, 3, 1, 4, 12, 1, 2, 3, 1, 4, 3, 3, 4, 9, 9, 2, 1, 6, 2, 3, 2, 5, 2, 2, 1, 1, 3, 2, 7, 7, 5, 3, 5, 4, 4, 5, 3, 1, 4, 5, 5, 3, 7, 6, 2, 3, 3, 4, 2, 3, 4, 1, 8, 4, 1, 5, 1, 3, 2, 4, 7, 2, 1, 5, 9, 2, 5, 5, 2, 3, 2, 1, 4, 4, 1, 6, 2, 3, 2, 5, 7, 4, 3, 9, 2, 3, 3, 5, 2, 3, 7, 6, 2, 5, 6, 4, 6, 5, 3, 9, 3, 1, 4, 3, 1, 9, 4, 7, 5, 2, 6, 5, 2, 8, 7, 3, 1, 2, 1, 1, 3, 2, 3, 8, 3, 4, 2, 5, 3, 3, 4, 3, 2, 3, 2, 1, 9, 1, 9, 2, 1, 3, 2, 3, 7, 2, 5, 5, 4, 6, 4, 3, 5, 11, 3, 10, 3, 1, 4, 4, 4, 4, 6, 4, 4, 3, 2, 5, 3, 4, 3, 2, 5, 3, 4, 1, 3, 3, 3, 8, 3, 1, 4, 2, 5, 5, 3, 1, 4, 4, 4, 5, 3, 1, 1, 7, 4, 1, 7, 2, 8, 3, 2, 4, 4, 4, 2, 2, 3, 1, 6, 4, 4, 8, 7, 2, 4, 8, 8, 3, 6, 9, 7, 7, 5, 3, 2, 4, 2, 5, 3, 4, 2, 1, 6, 3, 12, 10, 3, 3, 1, 12, 3, 2, 4, 1, 2, 1, 2, 4, 4, 2, 4, 2, 7, 9, 7, 3, 5, 3, 2, 2, 2, 2, 4, 8, 9, 15, 3, 3, 5, 4, 4, 4, 3, 5, 3, 10, 4, 6, 2, 3, 4, 1, 1, 6, 6, 4, 15, 2, 5, 5, 2, 5, 5, 7, 1, 2, 11, 3, 1, 4, 2, 4, 2, 9, 6, 4, 2, 8, 5, 5, 6, 4, 4, 2, 1, 2, 5, 3, 3, 1, 3, 3, 3, 5, 6, 5, 1, 10, 2, 2, 4, 1, 3, 5, 4, 3, 4, 3, 4, 5, 3, 1, 4, 4, 2, 2, 8, 5, 1, 8, 1, 2, 3, 8, 2, 4, 1, 5, 4, 1, 4, 6, 14, 3, 1, 1, 4, 4, 3, 2, 7, 9, 4, 2, 6, 5, 2, 3, 7, 7, 1, 3, 2, 5, 5, 8, 7, 2, 5, 8, 8, 6, 1, 5, 1, 4, 2, 3, 1, 4, 2, 3, 1, 6, 5, 5, 5, 8, 6, 6, 7, 5, 4, 5, 4, 5, 2, 4, 3, 3, 5, 4, 5, 3, 4, 5, 3, 3, 13, 2, 4, 6, 9, 11, 7, 4, 3, 1, 3, 3, 4, 3, 11, 13, 2, 10, 2, 3, 2, 4, 6, 6, 6, 3, 8, 3, 2, 6, 3, 2, 4, 3, 3, 3, 6, 2, 8, 5, 2, 4, 1, 5, 5, 2, 3, 5, 1, 7, 2, 4, 3, 4, 1, 7, 1, 5, 3, 2, 1, 5, 1, 6, 2, 8, 5, 7, 7, 9, 3, 3, 2, 3, 7, 2, 2, 6, 3, 9, 4, 2, 4, 2, 3, 3, 3, 4, 4, 2, 3, 4, 5, 12, 1, 5, 6, 2, 6, 1, 6, 5, 4, 4, 8, 3, 2, 1, 8, 2, 11, 3, 1, 3, 4, 2, 4, 3, 3, 2, 9, 5, 1, 3, 3, 4, 2, 2, 5, 6, 6, 3, 4, 3, 5, 6, 3, 3, 2, 2, 4, 6, 7, 2, 4, 4, 8, 1, 2, 5, 1, 3, 4, 7, 2, 3, 5, 4, 4, 5, 5, 9, 3, 4, 3, 8, 4, 7, 5, 5, 3, 3, 3, 5, 4, 7, 1, 5, 3, 4, 3, 5, 2, 4, 5, 3, 4, 6, 3, 3, 3, 2, 7, 2, 4, 2, 2, 3, 2, 3, 2, 6, 3, 3, 4, 4, 2, 6, 3, 8, 4, 5, 2, 2, 9, 9, 3, 2, 2, 5, 5, 3, 5, 1, 7, 3, 5, 4, 2, 4, 3, 1, 4, 3, 2, 4, 4, 4, 3, 3, 6, 3, 7, 3, 6, 8, 4, 7, 5, 5, 5, 6, 9, 4, 6, 4, 3, 2, 4, 4, 2, 3, 4, 3, 1, 8, 3, 2, 1, 3, 3, 2, 5, 9, 5, 1, 3, 3, 4, 7, 3, 13, 3, 6, 3, 8, 3, 4, 3, 5, 3, 8, 4, 4, 4, 1, 2, 4, 3, 5, 1, 3, 4, 3, 3, 2, 6, 5, 6, 1, 3, 1, 2, 4, 2, 5, 2, 1, 1, 3, 8, 3, 3, 1, 9, 2, 8, 6, 2, 1, 5, 3, 7, 2, 6, 2, 3, 3, 1, 3, 2, 3, 1, 4, 3, 1, 6, 2, 4, 1, 1, 4, 2, 3, 5, 1, 6, 4, 4, 1, 1, 6, 2, 5, 9, 3, 1, 5, 2, 1, 9, 2, 3, 3, 4, 3, 1, 8, 6, 3, 6, 8, 3, 6, 2, 8, 3, 4, 3, 4, 2, 3, 1, 5, 4, 2, 6, 1, 5, 2, 3, 2, 4, 6, 2, 2, 5, 4, 6, 5, 6, 10, 3, 5, 9, 3, 1, 1, 1, 2, 7, 4, 2, 4, 4, 3, 1, 3, 3, 1, 4, 6, 8, 4, 2, 1, 1, 6, 10, 2, 2, 8, 2, 2, 4, 4, 1, 1, 3, 2, 3, 4, 2, 4, 2, 3, 2, 1, 6, 2, 5, 6, 3, 2, 9, 1, 6, 2, 5, 6, 6, 8, 2, 9, 5, 10, 3, 7, 3, 4, 5, 8, 4, 5, 4, 4, 3, 3, 2, 4, 6, 5, 3, 2, 5, 1, 4, 3, 2, 4, 3, 2, 7, 3, 5, 3, 1, 3, 6, 5, 4, 5, 4, 2, 2, 1, 6, 2, 5, 3, 5, 5, 5, 1, 4, 4, 4, 3, 3, 5, 7, 5, 2, 6, 6, 2, 4, 3, 3, 1, 1, 5, 5, 3, 3, 5, 5, 9, 7, 2, 5, 1, 3, 1, 2, 1, 3, 3, 4, 5, 5, 1, 4, 4, 1, 11, 2, 2, 5, 2, 4, 4, 1, 4, 8, 1, 2, 2, 5, 2, 7, 5, 7, 4, 3, 2, 5, 12, 1, 5, 3, 4, 6, 3, 9, 2, 5, 5, 4, 3, 6, 6, 4, 5, 4, 4, 3, 6, 9, 7, 3, 2, 5, 2, 6, 2, 2, 1, 5, 2, 3, 8, 10, 3, 4, 4, 4, 3, 13, 3, 3, 2, 6, 1, 4, 8, 4, 3, 10, 1, 1, 4, 3, 4, 4, 3, 5, 3, 3, 6, 1, 5, 6, 6, 8, 1, 6, 4, 2, 1, 2, 4, 2, 1, 4, 4, 8, 4, 3, 5, 4, 4, 5, 8, 4, 2, 2, 4, 2, 3, 7, 3, 1, 4, 2, 2, 7, 6, 5, 3, 4, 4, 9, 8, 4, 1, 1, 3, 3, 10, 4, 3, 2, 2, 2, 4, 5, 2, 3, 4, 1, 2, 3, 4, 4, 6, 1, 11, 2, 2, 2, 1, 2, 6, 4, 6, 2, 7, 3, 2, 3, 6, 6, 1, 7, 4, 2, 2, 6, 3, 3, 5, 9, 1, 5, 2, 2, 1, 6, 4, 2, 8, 2, 7, 4, 3, 8, 1, 1, 4, 1, 3, 2, 5, 6, 4, 3, 5, 7, 7, 14, 7, 6, 3, 5, 1, 4, 5, 13, 5, 3, 7, 4, 2, 5, 5, 7, 4, 4, 4, 2, 2, 2, 3, 2, 10, 3, 5, 3, 6, 5, 1, 4, 4, 5, 1, 7, 1, 2, 2, 5, 6, 8, 1, 3, 3, 7, 2, 1, 5, 1, 5, 3, 6, 2, 2, 7, 8, 2, 9, 9, 2, 6, 2, 3, 2, 5, 3, 3, 1, 1, 2, 1, 6, 3, 2, 2, 6, 5, 2, 5, 9, 7, 5, 5, 2, 5, 3, 9, 2, 4, 3, 3, 4, 8, 4, 2, 6, 5, 4, 8, 4, 3, 1, 1, 3, 2, 3, 1, 11, 6, 6, 2, 3, 2, 6, 3, 5, 1, 7, 8, 2, 10, 4, 2, 2, 5, 5, 1, 1, 6, 9, 5, 1, 1, 5, 4, 1, 2, 4, 6, 5, 3, 4, 1, 3, 4, 12, 1, 2, 5, 7, 5, 2, 10, 4, 2, 3, 1, 4, 4, 3, 4, 3, 6, 4, 2, 2, 1, 3, 5, 2, 3, 2, 4, 5, 6, 5, 2, 2, 3, 2, 1, 4, 4, 5, 5, 3, 1, 6, 2, 3, 10, 2, 3, 2, 5, 1, 1, 6, 2, 1, 1, 5, 5, 5, 7, 5, 1, 4, 3, 6, 3, 3, 6, 3, 1, 7, 11, 7, 2, 7, 5, 5, 3, 6, 9, 2, 9, 1, 4, 3, 2, 5, 9, 9, 8, 6, 3, 6, 3, 6, 5, 3, 6, 6, 6, 4, 7, 1, 3, 2, 3, 5, 9, 1, 9, 2, 2, 2, 5, 4, 5, 2, 2, 3, 3, 3, 4, 3, 9, 7, 2, 6, 6, 8, 6, 1, 6, 6, 5, 2, 11, 3, 5, 4, 8, 2, 4, 1, 1, 3, 4, 4, 1, 3, 7, 8, 3, 5, 4, 8, 3, 8, 5, 12, 4, 4, 4, 9, 6, 2, 3, 3, 5, 6, 2, 2, 2, 7, 3, 3, 1, 9, 1, 3, 1, 6, 2, 5, 6, 11, 9, 2, 4, 1, 6, 4, 7, 3, 3, 7, 6, 5, 1, 6, 6, 7, 1, 8, 7, 5, 2, 4, 5, 3, 3, 4, 7, 4, 3, 3, 2, 8, 1, 4, 4, 4, 2, 6, 3, 2, 5, 3, 6, 8, 3, 9, 4, 2, 2, 6, 1, 4, 12, 7, 2, 3, 7, 3, 4, 2, 6, 1, 5, 3, 5, 2, 2, 2, 6, 3, 11, 2, 4, 5, 5, 5, 4, 6, 4, 2, 2, 4, 2, 3, 1, 5, 2, 3, 8, 2, 7, 6, 5, 3, 7, 5, 1, 6, 7, 3, 4, 4, 5, 1, 4, 4, 9, 7, 4, 3, 1, 4, 3, 9, 6, 6, 6, 5, 3, 3, 9, 6, 2, 10, 4, 6, 2, 3, 4, 5, 3, 4, 6, 6, 2, 3, 5, 4, 1, 10, 6, 3, 5, 4, 2, 2, 1, 5, 10, 1, 11, 5, 2, 2, 9, 2, 2, 4, 4, 8, 4, 5, 4, 7, 2, 1, 3, 9, 4, 4, 3, 2, 4, 7, 7, 5, 4, 2, 4, 3, 3, 3, 2, 2, 6, 1, 1, 5, 4, 5, 6, 2, 5, 3, 8, 1, 4, 5, 5, 3, 5, 13, 2, 4, 4, 5, 3, 7, 5, 1, 5, 4, 8, 2, 3, 2, 1, 3, 8, 4, 2, 4, 6, 3, 3, 1, 5, 2, 3, 1, 5, 1, 3, 1, 2, 5, 5, 3, 7, 4, 4, 6, 6, 3, 3, 5, 5, 3, 12, 5, 3, 8, 4, 3, 2, 1, 1, 7, 7, 6, 2, 6, 4, 3, 7, 7, 8, 4, 4, 5, 2, 5, 2, 6, 2, 1, 7, 3, 5, 10, 5, 9, 5, 2, 3, 2, 5, 2, 4, 4, 11, 2, 1, 3, 3, 3, 7, 3, 8, 2, 2, 4, 6, 3, 7, 4, 6, 4, 9, 4, 6, 4, 2, 4, 2, 3, 4, 3, 4, 4, 1, 12, 1, 1, 2, 2, 3, 4, 9, 10, 2, 6, 10, 5, 5, 6, 1, 5, 2, 4, 5, 4, 4, 6, 8, 5, 6, 4, 3, 6, 11, 1, 5, 2, 1, 4, 4, 5, 2, 5, 2, 1, 2, 8, 5, 1, 4, 1, 5, 2, 4, 2, 3, 5, 2, 2, 3, 3, 2, 5, 4, 2, 2, 4, 4, 5, 8, 4, 4, 2, 3, 3, 2, 3, 3, 3, 6, 4, 4, 9, 5, 2, 4, 2, 6, 5, 7, 4, 6, 2, 3, 2, 3, 4, 2, 6, 3, 6, 6, 3, 8, 8, 4, 5, 9, 5, 9, 7, 1, 2, 3, 4, 2, 2, 4, 3, 3, 3, 2, 5, 9, 7, 3, 4, 7, 2, 7, 3, 4, 1, 3, 3, 2, 5, 1, 1, 3, 3, 9, 5, 1, 3, 3, 5, 5, 5, 3, 3, 3, 3, 7, 3, 2, 7, 4, 5, 3, 2, 3, 4, 5, 2, 3, 9, 1, 2, 6, 3, 2, 7, 4, 4, 4, 4, 6, 2, 3, 3, 8, 3, 2, 3, 7, 4, 7, 3, 4, 10, 3, 3, 3, 2, 3, 5, 1, 7, 6, 1, 10, 2, 2, 10, 5, 9, 1, 2, 7, 2, 3, 2, 4, 6, 10, 4, 6, 2, 1, 4, 5, 4, 3, 4, 1, 3, 5, 3, 2, 7, 5, 3, 5, 5, 1, 7, 5, 3, 3, 1, 1, 7, 5, 4, 6, 5, 4, 9, 4, 3, 2, 3, 1, 4, 3, 1, 3, 5, 4, 2, 2, 4, 2, 2, 10, 2, 5, 4, 1, 2, 2, 6, 2, 3, 1, 3, 6, 4, 4, 1, 7, 1, 4, 6, 4, 1, 7, 1, 7, 7, 5, 3, 6, 6, 2, 5, 2, 4, 6, 3, 1, 7, 1, 2, 7, 6, 3, 5, 3, 6, 1, 8, 4, 1, 7, 4, 4, 4, 6, 3, 2, 6, 4, 1, 1, 4, 1, 3, 4, 1, 6, 8, 4, 5, 1, 1, 5, 3, 2, 2, 3, 6, 8, 2, 7, 9, 4, 2, 3, 2, 4, 3, 3, 2, 1, 3, 1, 2, 8, 2, 2, 2, 2, 3, 2, 4, 2, 8, 6, 1, 5, 4, 1, 4, 1, 3, 6, 4, 6, 5, 4, 8, 1, 2, 2, 3, 1, 3, 5, 2, 5, 5, 3, 2, 3, 6, 2, 3, 4, 3, 2, 4, 3, 3, 5, 5, 5, 10, 3, 4, 3, 4, 6, 5, 3, 7, 3, 1, 4, 4, 4, 3, 2, 4, 3, 3, 2, 3, 7, 7, 1, 6, 3, 5, 6, 3, 4, 5, 3, 2, 5, 5, 8, 5, 8, 4, 2, 10, 3, 7, 9, 1, 2, 11, 7, 5, 1, 4, 6, 5, 4, 4, 1, 3, 5, 2, 4, 3, 3, 3, 2, 6, 6, 5, 1, 1, 3, 3, 10, 3, 7, 2, 3, 5, 6, 5, 2, 2, 7, 3, 7, 5, 6, 2, 8, 6, 5, 3, 5, 7, 5, 5, 3, 4, 4, 2, 3, 1, 5, 1, 1, 4, 3, 2, 4, 3, 7, 2, 6, 6, 12, 6, 3, 3, 1, 3, 2, 5, 1, 8, 2, 2, 6, 1, 4, 7, 3, 6, 5, 2, 1, 5, 3, 2, 2, 2, 5, 2, 1, 3, 1, 9, 3, 3, 4, 5, 3, 5, 4, 6, 1, 9, 7, 5, 3, 5, 5, 8, 3, 3, 9, 7, 8, 5, 3, 3, 3, 2, 5, 5, 7, 2, 5, 3, 6, 4, 2, 7, 1, 7, 4, 5, 4, 10, 3, 1, 5, 3, 13, 4, 4, 4, 3, 4, 4, 1, 2, 7, 4, 3, 3, 3, 1, 3, 1, 2, 6, 6, 3, 9, 9, 1, 2, 4, 4, 5, 1, 2, 1, 4, 3, 2, 5, 1, 9, 3, 2, 4, 1, 5, 1, 3, 4, 7, 1, 1, 8, 2, 4, 3, 3, 6, 2, 1, 4, 1, 4, 1, 4, 4, 5, 5, 6, 1, 4, 5, 3, 8, 4, 7, 1, 1, 3, 4, 4, 5, 4, 2, 5, 8, 4, 2, 4, 5, 10, 7, 2, 5, 4, 3, 7, 7, 1, 2, 3, 3, 6, 7, 2, 3, 2, 2, 1, 1, 4, 2, 6, 6, 5, 3, 7, 5, 4, 3, 1, 3, 3, 6, 5, 6, 2, 4, 7, 3, 1, 5, 3, 5, 5, 8, 1, 9, 3, 4, 6, 4, 6, 3, 3, 7, 4, 2, 2, 1, 5, 6, 4, 2, 2, 12, 3, 6, 3, 2, 2, 3, 3, 9, 4, 4, 4, 2, 1, 11, 3, 3, 3, 4, 3, 5, 2, 11, 2, 3, 2, 3, 2, 4, 4, 2, 5, 1, 3, 8, 4, 1, 5, 1, 5, 4, 6, 3, 3, 1, 5, 5, 2, 7, 4, 6, 1, 7, 2, 2, 5, 4, 3, 2, 1, 9, 3, 5, 1, 1, 3, 1, 1, 1, 3, 2, 1, 2, 1, 4, 3, 5, 3, 4, 2, 4, 3, 2, 4, 3, 2, 1, 2, 1, 9, 4, 7, 2, 4, 5, 2, 4, 1, 5, 2, 4, 7, 2, 1, 4, 4, 2, 3, 2, 2, 5, 6, 2, 2, 3, 3, 1, 5, 2, 4, 9, 11, 4, 3, 6, 2, 1, 3, 3, 2, 3, 4, 8, 5, 2, 1, 1, 4, 1, 3, 1, 4, 9, 4, 1, 3, 2, 4, 7, 2, 9, 3, 1, 4, 6, 1, 3, 3, 3, 2, 4, 5, 2, 4, 2, 1, 3, 1, 2, 5, 3, 3, 3, 4, 3, 2, 3, 3, 3, 2, 6, 6, 4, 3, 4, 3, 4, 2, 7, 5, 2, 3, 2, 1, 3, 2, 1, 1, 8, 2, 5, 3, 10, 1, 4, 4, 5, 7, 4, 3, 1, 5, 4, 4, 7, 8, 1, 5, 3, 2, 2, 9, 4, 4, 3, 15, 4, 3, 2, 7, 5, 5, 4, 5, 4, 2, 7, 2, 2, 1, 3, 6, 3, 5, 2, 1, 2, 2, 3, 5, 5, 6, 3, 1, 6, 4, 3, 5, 2, 9, 3, 4, 7, 6, 3, 1, 4, 3, 2, 4, 5, 2, 2, 5, 4, 3, 4, 5, 5, 2, 1, 2, 4, 9, 6, 3, 5, 2, 9, 4, 4, 3, 7, 6, 2, 2, 3, 3, 2, 5, 3, 3, 2, 5, 8, 5, 3, 3, 2, 1, 6, 2, 3, 5, 4, 2, 6, 1, 6, 7, 1, 1, 8, 1, 4, 4, 4, 4, 7, 4, 8, 6, 2, 1, 2, 5, 3, 2, 4, 3, 7, 1, 3, 5, 3, 10, 6, 4, 3, 2, 5, 1, 4, 2, 2, 1, 3, 3, 5, 5, 3, 2, 4, 6, 4, 1, 2, 2, 1, 4, 4, 4, 6, 1, 2, 7, 2, 6, 3, 3, 2, 5, 8, 7, 5, 3, 7, 1, 4, 4, 1, 4, 5, 3, 1, 4, 1, 3, 5, 2, 3, 3, 4, 10, 9, 4, 1, 5, 1, 8, 7, 2, 2, 3, 3, 2, 6, 2, 1, 2, 3, 15, 3, 6, 4, 1, 4, 4, 2, 3, 2, 1, 4, 8, 3, 2, 5, 4, 2, 6, 5, 1, 1, 2, 4, 3, 2, 1, 2, 4, 3, 4, 9, 6, 7, 3, 3, 3, 5, 7, 8, 4, 3, 3, 6, 2, 2, 3, 1, 3, 2, 8, 3, 7, 3, 3, 5, 4, 3, 7, 1, 1, 4, 2, 5, 4, 3, 4, 2, 3, 3, 6, 4, 5, 11, 9, 4, 3, 2, 3, 3, 8, 11, 2, 6, 5, 3, 5, 3, 4, 13, 3, 4, 3, 3, 5, 3, 2, 6, 3, 4, 4, 1, 3, 3, 3, 2, 2, 11, 3, 7, 2, 3, 5, 5, 1, 4, 2, 2, 2, 4, 3, 12, 1, 9, 2, 4, 2, 1, 6, 2, 3, 3, 3, 1, 3, 6, 4, 6, 5, 2, 2, 6, 3, 3, 4, 4, 3, 2, 5, 2, 6, 3, 3, 3, 5, 2, 5, 8, 6, 3, 8, 4, 4, 3, 2, 7, 4, 2, 3, 4, 4, 1, 1, 6, 2, 3, 6, 3, 8, 5, 6, 1, 2, 4, 1, 4, 3, 4, 3, 1, 8, 3, 2, 7, 2, 2, 4, 7, 4, 5, 1, 3, 1, 3, 4, 6, 5, 3, 2, 4, 1, 3, 2, 5, 3, 6, 3, 5, 3, 4, 3, 2, 4, 4, 9, 3, 3, 5, 1, 2, 4, 5, 6, 1, 2, 3, 4, 6, 5, 6, 5, 7, 4, 5, 3, 5, 6, 3, 8, 2, 9, 5, 3, 3, 6, 1, 6, 5, 3, 3, 2, 4, 4, 3, 3, 2, 4, 8, 3, 7, 4, 2, 1, 3, 5, 4, 3, 1, 2, 6, 5, 2, 3, 5, 1, 4, 2, 2, 2, 2, 3, 5, 6, 3, 13, 1, 1, 3, 3, 2, 3, 2, 5, 4, 8, 4, 5, 4, 3, 3, 3, 2, 7, 5, 4, 2, 9, 5, 6, 3, 3, 7, 4, 3, 3, 5, 8, 4, 6, 7, 1, 2, 8, 1, 3, 3, 10, 1, 3, 4, 2, 3, 2, 5, 8, 2, 3, 3, 3, 2, 5, 2, 4, 3, 4, 3, 3, 4, 3, 3, 2, 8, 1, 3, 5, 2, 7, 8, 2, 5, 3, 5, 6, 4, 1, 8, 7, 4, 2, 4, 2, 1, 2, 4, 4, 5, 4, 2, 5, 1, 3, 1, 3, 6, 11, 5, 1, 6, 4, 3, 6, 3, 2, 6, 4, 3, 3, 2, 2, 2, 1, 2, 4, 1, 1, 6, 5, 4, 4, 3, 4, 2, 6, 3, 1, 5, 7, 3, 5, 2, 3, 2, 1, 2, 5, 5, 4, 1, 4, 5, 2, 6, 7, 3, 9, 3, 4, 5, 8, 2, 3, 8, 3, 5, 6, 4, 2, 3, 3, 4, 3, 4, 2, 5, 8, 1, 6, 7, 7, 3, 2, 3, 4, 1, 3, 6, 3, 4, 1, 3, 1, 3, 4, 8, 7, 3, 3, 9, 3, 3, 1, 2, 2, 6, 2, 2, 6, 6, 5, 1, 3, 6, 4, 2, 1, 5, 3, 1, 7, 4, 1, 5, 3, 5, 3, 3, 1, 1, 3, 3, 1, 6, 2, 5, 1, 4, 5, 3, 4, 3, 1, 2, 8, 2, 4, 2, 4, 1, 2, 3, 2, 5, 7, 8, 1, 6, 4, 4, 2, 2, 11, 4, 2, 2, 2, 6, 2, 1, 4, 3, 2, 8, 3, 2, 2, 4, 2, 3, 6, 7, 3, 1, 2, 3, 3, 3, 3, 3, 2, 8, 5, 2, 1, 4, 3, 1, 5, 2, 1, 6, 1, 5, 5, 5, 6, 2, 2, 3, 3, 3, 1, 2, 2, 3, 3, 6, 1, 3, 7, 1, 5, 2, 3, 3, 4, 7, 3, 8, 3, 4, 1, 3, 4, 5, 1, 6, 5, 5, 7, 3, 1, 8, 1, 8, 8, 5, 2, 3, 3, 2, 3, 5, 3, 2, 6, 4, 5, 2, 2, 6, 1, 5, 2, 6, 5, 3, 3, 3, 1, 1, 1, 5, 3, 2, 1, 4, 1, 1, 1, 2, 2, 2, 3, 2, 7, 5, 4, 2, 3, 2, 4, 3, 7, 3, 1, 1, 5, 2, 6, 4, 6, 3, 6, 3, 4, 9, 2, 4, 7, 1, 3, 7, 7, 2, 2, 1, 2, 9, 4, 9, 7, 6, 2, 7, 7, 6, 5, 3, 3, 5, 4, 3, 1, 2, 4, 1, 4, 2, 6, 2, 8, 6, 2, 3, 5, 2, 6, 5, 2, 8, 3, 5, 3, 3, 5, 3, 8, 5, 5, 3, 2, 6, 3, 5, 1, 3, 3, 2, 1, 11, 2, 2, 5, 5, 2, 3, 1, 9, 5, 7, 6, 5, 1, 3, 1, 8, 7, 3, 8, 3, 4, 3, 3, 3, 2, 1, 4, 3, 5, 4, 4, 7, 4, 3, 4, 1, 4, 3, 9, 11, 2, 4, 2, 3, 6, 3, 5, 2, 1, 1, 8, 4, 5, 5, 4, 3, 3, 3, 3, 1, 1, 7, 2, 5, 6, 5, 6, 3, 4, 2, 3, 4, 4, 4, 3, 5, 3, 4, 4, 5, 1, 1, 3, 3, 4, 1, 7, 3, 6, 6, 5, 2, 3, 7, 5, 3, 2, 5, 7, 3, 4, 4, 3, 1, 4, 3, 12, 8, 5, 4, 3, 1, 2, 5, 3, 1, 5, 1, 2, 1, 7, 3, 3, 7, 1, 6, 1, 8, 1, 2, 4, 1, 2, 2, 2, 3, 8, 3, 5, 3, 10, 8, 6, 4, 4, 4, 11, 6, 2, 2, 2, 1, 2, 1, 1, 2, 3, 3, 11, 4, 6, 4, 6, 4, 7, 5, 5, 5, 5, 2, 2, 3, 4, 3, 2, 4, 1, 4, 4, 4, 4, 8, 4, 2, 3, 4, 2, 9, 1, 2, 4, 3, 9, 8, 3, 6, 2, 8, 2, 4, 4, 6, 5, 3, 1, 4, 5, 2, 3, 2, 4, 6, 5, 5, 4, 7, 1, 1, 3, 4, 5, 6, 4, 6, 4, 2, 5, 3, 1, 2, 3, 5, 2, 2, 2, 7, 2, 1, 2, 4, 3, 9, 3, 5, 6, 4, 7, 3, 3, 6, 4, 7, 6, 5, 4, 2, 2, 1, 2, 3, 3, 5, 2, 4, 1, 9, 2, 3, 4, 3, 9, 4, 2, 6, 5, 3, 3, 2, 2, 5, 5, 4, 2, 2, 3, 8, 4, 7, 6, 5, 8, 3, 6, 5, 4, 2, 3, 2, 4, 2, 4, 3, 1, 3, 4, 8, 4, 4, 5, 4, 1, 4, 7, 3, 6, 5, 3, 1, 7, 2, 2, 4, 7, 4, 4, 10, 3, 2, 5, 1, 3, 3, 3, 1, 2, 5, 7, 1, 1, 4, 7, 1, 1, 1, 5, 3, 7, 8, 4, 4, 4, 5, 2, 3, 3, 3, 8, 4, 12, 3, 2, 2, 1, 6, 4, 5, 9, 3, 5, 5, 3, 6, 5, 3, 1, 9, 2, 4, 8, 4, 3, 5, 4, 3, 4, 15, 10, 5, 1, 5, 3, 7, 1, 6, 5, 4, 3, 4, 7, 7, 4, 9, 7, 1, 6, 2, 7, 7, 4, 5, 6, 1, 4, 5, 7, 2, 6, 2, 4, 6, 6, 5, 6, 2, 4, 4, 2, 3, 3, 1, 1, 5, 5, 4, 1, 2, 1, 4, 3, 6, 3, 1, 3, 3, 2, 7, 3, 11, 5, 5, 2, 1, 3, 3, 5, 3, 1, 3, 7, 1, 5, 6, 5, 1, 4, 9, 7, 5, 2, 1, 2, 1, 4, 3, 6, 5, 3, 6, 2, 2, 6, 4, 1, 5, 4, 5, 3, 1, 5, 1, 4, 1, 5, 4, 6, 1, 6, 2, 5, 1, 4, 4, 3, 6, 1, 3, 6, 1, 3, 2, 3, 2, 1, 1, 3, 2, 2, 3, 1, 2, 2, 2, 1, 4, 5, 4, 3, 1, 3, 3, 6, 1, 11, 8, 6, 3, 2, 4, 4, 8, 1, 5, 2, 5, 2, 4, 5, 6, 4, 1, 3, 2, 4, 4, 1, 4, 2, 3, 3, 6, 3, 7, 1, 3, 4, 2, 6, 4, 4, 5, 2, 3, 1, 3, 3, 10, 7, 1, 4, 8, 1, 10, 2, 4, 4, 1, 1, 5, 3, 5, 4, 2, 4, 2, 5, 3, 4, 5, 3, 2, 13, 4, 3, 2, 2, 2, 5, 3, 2, 2, 6, 3, 4, 7, 5, 3, 4, 5, 2, 3, 2, 3, 3, 1, 3, 3, 3, 4, 5, 4, 1, 6, 3, 1, 6, 3, 2, 3, 3, 3, 3, 2, 8, 4, 4, 3, 4, 4, 3, 2, 3, 2, 9, 3, 4, 4, 3, 4, 10, 2, 3, 3, 2, 4, 5, 11, 3, 5, 2, 6, 6, 2, 8, 1, 3, 4, 8, 2, 2, 4, 3, 4, 4, 5, 2, 5, 4, 1, 1, 4, 5, 5, 5, 4, 4, 3, 1, 3, 2, 2, 5, 3, 8, 7, 5, 6, 4, 4, 1, 5, 2, 4, 2, 2, 1, 7, 7, 3, 7, 8, 5, 7, 4, 6, 3, 15, 1, 3, 2, 2, 4, 7, 7, 5, 4, 2, 2, 3, 1, 4, 6, 3, 4, 4, 2, 4, 6, 3, 4, 4, 1, 3, 11, 4, 6, 2, 8, 4, 6, 4, 2, 4, 6, 7, 4, 4, 4, 4, 4, 3, 4, 1, 1, 3, 5, 5, 3, 4, 1, 4, 7, 7, 6, 4, 4, 2, 5, 2, 4, 3, 3, 4, 1, 3, 4, 3, 1, 2, 4, 4, 1, 9, 1, 4, 1, 2, 3, 4, 4, 1, 4, 10, 6, 8, 1, 5, 3, 5, 3, 8, 3, 2, 3, 2, 4, 6, 2, 4, 4, 5, 4, 4, 7, 4, 6, 4, 7, 3, 3, 7, 12, 1, 2, 2, 5, 2, 6, 5, 1, 1, 2, 5, 3, 6, 5, 2, 3, 3, 2, 4, 1, 4, 4, 2, 2, 2, 4, 7, 2, 8, 4, 2, 3, 1, 6, 3, 5, 5, 4, 4, 3, 3, 2, 8, 4, 6, 3, 2, 5, 3, 3, 3, 7, 1, 1, 1, 3, 1, 3, 6, 5, 5, 3, 3, 5, 5, 6, 4, 3, 3, 5, 2, 3, 4, 2, 4, 3, 6, 4, 3, 2, 3, 5, 4, 10, 2, 3, 3, 6, 8, 3, 4, 6, 2, 1, 3, 2, 1, 3, 2, 5, 14, 4, 3, 2, 3, 8, 2, 10, 2, 7, 3, 4, 6, 1, 1, 6, 5, 3, 4, 5, 5, 8, 9, 12, 6, 5, 5, 4, 4, 2, 5, 5, 4, 3, 8, 3, 4, 3, 6, 5, 4, 2, 5, 4, 3, 1, 4, 5, 3, 6, 7, 5, 4, 2, 4, 1, 1, 1, 4, 5, 7, 4, 4, 3, 4, 2, 4, 3, 1, 8, 11, 5, 2, 12, 1, 1, 10, 2, 3, 4, 5, 2, 4, 1, 5, 6, 3, 7, 1, 5, 4, 1, 5, 5, 5, 1, 1, 2, 8, 2, 2, 1, 5, 3, 2, 6, 3, 7, 1, 3, 9, 2, 2, 4, 4, 1, 3, 3, 4, 5, 3, 4, 2, 5, 4, 5, 6, 2, 2, 6, 3, 2, 3, 4, 2, 12, 2, 2, 3, 6, 3, 9, 6, 5, 6, 3, 2, 11, 7, 1, 7, 2, 3, 4, 3, 2, 1, 2, 3, 3, 3, 2, 7, 4, 2, 4, 4, 8, 5, 5, 4, 3, 8, 6, 3, 5, 2, 2, 5, 6, 3, 4, 5, 8, 7, 5, 1, 2, 1, 3, 4, 6, 5, 5, 5, 2, 2, 3, 1, 3, 5, 3, 3, 7, 3, 3, 1, 6, 4, 2, 6, 5, 6, 5, 2, 3, 3, 2, 5, 9, 9, 2, 5, 7, 5, 6, 3, 5, 4, 1, 4, 6, 6, 3, 7, 1, 5, 7, 3, 5, 6, 9, 6, 3, 1, 3, 3, 2, 4, 2, 5, 4, 7, 3, 3, 4, 4, 3, 4, 3, 4, 2, 7, 2, 2, 3, 3, 4, 4, 12, 8, 6, 5, 3, 6, 2, 3, 2, 2, 3, 3, 13, 4, 5, 1, 2, 6, 2, 3, 3, 2, 1, 1, 4, 3, 3, 1, 2, 6, 3, 1, 6, 4, 5, 3, 6, 3, 2, 7, 4, 4, 4, 4, 3, 2, 1, 6, 5, 6, 6, 3, 6, 2, 1, 1, 7, 1, 1, 3, 2, 2, 7, 2, 2, 4, 1, 1, 3, 4, 3, 4, 9, 3, 5, 3, 3, 7, 6, 4, 2, 6, 2, 7, 5, 3, 3, 5, 8, 2, 3, 4, 3, 5, 4, 6, 4, 4, 4, 1, 3, 2, 4, 1, 3, 2, 4, 6, 8, 7, 3, 3, 2, 5, 2, 4, 6, 3, 6, 7, 2, 5, 3, 9, 6, 1, 6, 5, 2, 5, 1, 4, 4, 12, 12, 3, 4, 3, 4, 4, 1, 5, 4, 2, 3, 4, 2, 2, 3, 1, 3, 6, 4, 1, 1, 5, 2, 1, 5, 7, 1, 2, 2, 5, 3, 8, 6, 3, 4, 4, 2, 5, 4, 5, 4, 1, 2, 4, 9, 6, 5, 2, 5, 2, 2, 3, 3, 2, 2, 2, 4, 4, 8, 3, 2, 5, 2, 4, 1, 6, 1, 9, 5, 5, 6, 4, 4, 9, 10, 7, 6, 3, 2, 2, 5, 5, 2, 2, 6, 9, 13, 4, 1, 3, 10, 3, 1, 2, 2, 6, 1, 5, 4, 3, 7, 3, 4, 5, 7, 3, 4, 2, 5, 5, 1, 2, 2, 4, 2, 5, 4, 2, 6, 3, 1, 7, 6, 5, 2, 7, 6, 4, 6, 7, 1, 3, 7, 4, 3, 6, 5, 2, 1, 2, 4, 7, 4, 1, 2, 1, 2, 2, 1, 4, 2, 5, 3, 4, 5, 2, 5, 3, 7, 3, 6, 1, 2, 5, 4, 4, 4, 4, 2, 2, 3, 2, 9, 3, 4, 2, 2, 5, 2, 2, 11, 2, 2, 1, 1, 2, 4, 5, 6, 6, 2, 3, 2, 2, 1, 3, 5, 3, 6, 7, 2, 2, 2, 1, 2, 7, 3, 12, 2, 2, 3, 4, 6, 3, 2, 4, 4, 4, 3, 7, 1, 3, 4, 4, 4, 7, 6, 4, 3, 5, 3, 4, 2, 7, 2, 5, 6, 4, 4, 1, 5, 1, 5, 4, 2, 2, 4, 5, 1, 2, 3, 6, 1, 3, 6, 5, 6, 2, 4, 11, 4, 3, 4, 8, 2, 4, 4, 2, 5, 1, 5, 3, 1, 7, 4, 13, 2, 4, 5, 2, 4, 5, 4, 3, 8, 6, 1, 4, 3, 4, 2, 5, 4, 2, 2, 8, 4, 4, 5, 2, 3, 1, 3, 5, 1, 5, 3, 4, 3, 9, 4, 4, 2, 3, 3, 4, 2, 3, 3, 3, 3, 5, 5, 3, 2, 4, 11, 3, 2, 2, 10, 3, 1, 2, 4, 4, 2, 2, 6, 7, 2, 4, 1, 3, 2, 2, 4, 7, 3, 3, 4, 2, 1, 4, 2, 6, 3, 4, 4, 8, 1, 3, 12, 7, 6, 3, 3, 2, 2, 1, 6, 2, 2, 3, 9, 5, 8, 5, 4, 4, 4, 1, 6, 2, 8, 3, 1, 6, 5, 6, 6, 8, 4, 3, 4, 1, 2, 2, 6, 6, 3, 3, 3, 4, 3, 4, 1, 3, 5, 4, 2, 5, 4, 4, 4, 3, 8, 3, 4, 3, 2, 1, 2, 8, 4, 4, 3, 2, 3, 9, 4, 4, 3, 4, 3, 1, 9, 1, 4, 2, 13, 4, 4, 3, 5, 1, 2, 5, 2, 3, 4, 6, 2, 2, 1, 3, 5, 3, 4, 4, 5, 5, 6, 1, 1, 1, 3, 4, 4, 2, 4, 5, 4, 4, 5, 3, 7, 3, 2, 4, 3, 6, 4, 3, 7, 7, 4, 2, 2, 4, 2, 2, 3, 3, 3, 2, 1, 3, 7, 1, 1, 6, 7, 1, 2, 8, 8, 4, 2, 4, 5, 5, 4, 5, 5, 4, 2, 3, 11, 3, 4, 5, 5, 3, 3, 5, 2, 5, 4, 6, 3, 7, 4, 1, 12, 3, 4, 4, 3, 2, 2, 2, 3, 3, 4, 9, 2, 5, 3, 4, 1, 2, 4, 5, 2, 5, 4, 2, 2, 5, 2, 6, 1, 3, 3, 1, 6, 2, 5, 1, 1, 3, 2, 4, 4, 2, 1, 8, 4, 3, 2, 3, 6, 1, 3, 5, 6, 4, 2, 4, 2, 7, 3, 4, 2, 3, 2, 2, 5, 2, 4, 1, 3, 2, 2, 2, 5, 1, 1, 2, 6, 5, 3, 2, 1, 4, 6, 4, 7, 3, 4, 2, 7, 3, 7, 4, 6, 6, 1, 1, 3, 6, 5, 3, 5, 3, 6, 2, 6, 2, 7, 3, 1, 2, 4, 4, 3, 4, 4, 12, 2, 4, 4, 1, 4, 2, 3, 2, 5, 1, 1, 6, 4, 3, 5, 5, 3, 4, 2, 2, 2, 1, 4, 1, 4, 3, 2, 1, 1, 4, 1, 3, 4, 2, 6, 7, 3, 7, 6, 2, 5, 4, 2, 4, 3, 6, 3, 6, 3, 3, 3, 5, 6, 5, 3, 2, 4, 8, 2, 1, 6, 3, 3, 1, 8, 3, 3, 1, 3, 5, 4, 3, 4, 1, 1, 2, 2, 2, 2, 4, 3, 2, 4, 3, 2, 2, 4, 3, 2, 1, 3, 2, 1, 1, 1, 1, 2, 1, 2, 1, 2, 3, 2, 5, 5, 2, 4, 7, 4, 3, 5, 5, 6, 1, 2, 4, 6, 5, 8, 5, 3, 4, 2, 6, 3, 8, 3, 1, 4, 5, 4, 2, 4, 2, 4, 1, 3, 5, 3, 5, 3, 10, 4, 6, 6, 5, 3, 3, 2, 3, 2, 3, 6, 2, 5, 2, 4, 2, 2, 2, 2, 5, 2, 3, 4, 3, 1, 5, 3, 3, 1, 4, 3, 5, 8, 3, 1, 8, 1, 6, 3, 4, 1, 1, 9, 5, 1, 3, 7, 4, 4, 5, 5, 1, 1, 2, 3, 9, 5, 4, 3, 1, 7, 5, 2, 3, 4, 5, 6, 5, 4, 3, 2, 6, 2, 4, 1, 5, 7, 1, 2, 6, 4, 3, 2, 1, 2, 2, 3, 4, 4, 7, 3, 4, 2, 2, 4, 3, 5, 5, 4, 7, 3, 2, 2, 4, 7, 4, 6, 1, 1, 3, 3, 4, 4, 2, 9, 2, 5, 7, 4, 2, 2, 4, 1, 4, 5, 2, 6, 2, 1, 4, 5, 4, 1, 3, 3, 4, 4, 1, 3, 4, 2, 4, 5, 3, 3, 3, 3, 3, 4, 1, 4, 6, 3, 5, 1, 4, 1, 2, 7, 8, 5, 1, 3, 7, 6, 1, 1, 1, 2, 3, 4, 4, 7, 1, 3, 3, 4, 3, 2, 2, 2, 2, 1, 4, 9, 3, 5, 3, 3, 2, 5, 1, 4, 9, 2, 4, 1, 7, 3, 8, 1, 7, 4, 4, 5, 4, 1, 3, 8, 6, 4, 6, 3, 8, 5, 10, 6, 2, 2, 2, 6, 4, 6, 1, 2, 1, 3, 4, 3, 3, 4, 5, 5, 1, 4, 1, 3, 2, 4, 7, 4, 9, 5, 5, 4, 5, 3, 2, 2, 5, 5, 7, 2, 3, 2, 5, 9, 4, 3, 4, 3, 5, 9, 2, 1, 5, 4, 5, 4, 7, 5, 4, 2, 4, 4, 5, 4, 7, 4, 4, 5, 4, 3, 3, 1, 1, 3, 4, 5, 3, 9, 2, 5, 1, 4, 2, 6, 3, 3, 7, 6, 4, 4, 5, 6, 5, 6, 2, 7, 1, 3, 5, 2, 3, 5, 4, 3, 3, 3, 3, 7, 4, 3, 5, 4, 6, 13, 5, 5, 8, 4, 3, 1, 5, 4, 3, 2, 2, 3, 3, 3, 3, 3, 5, 4, 3, 4, 8, 1, 4, 2, 2, 5, 1, 2, 2, 2, 6, 3, 4, 3, 5, 2, 3, 3, 3, 9, 2, 10, 3, 7, 13, 4, 3, 5, 2, 10, 3, 3, 5, 1, 4, 3, 3, 4, 6, 2, 4, 1, 4, 3, 3, 2, 1, 4, 2, 4, 3, 2, 3, 4, 6, 6, 3, 1, 6, 3, 4, 5, 2, 4, 3, 1, 6, 3, 4, 5, 9, 3, 4, 7, 3, 7, 2, 4, 2, 6, 2, 1, 1, 1, 5, 3, 4, 2, 4, 5, 8, 6, 4, 3, 3, 3, 3, 2, 4, 2, 4, 5, 3, 4, 1, 2, 5, 4, 5, 5, 4, 3, 2, 1, 7, 2, 3, 3, 4, 1, 4, 7, 3, 2, 3, 4, 2, 4, 4, 2, 3, 3, 3, 2, 3, 5, 9, 9, 5, 6, 3, 2, 5, 3, 3, 5, 3, 1, 1, 3, 7, 7, 6, 3, 4, 6, 6, 1, 4, 6, 9, 3, 9, 4, 5, 4, 4, 5, 4, 2, 1, 3, 2, 1, 4, 4, 2, 6, 6, 7, 3, 4, 6, 5, 4, 2, 3, 4, 5, 4, 5, 8, 1, 6, 4, 4, 4, 5, 2, 2, 11, 5, 6, 1, 1, 5, 2, 2, 6, 16, 2, 3, 9, 1, 4, 4, 5, 2, 4, 2, 1, 2, 5, 7, 2, 3, 4, 2, 2, 2, 5, 3, 3, 5, 3, 6, 7, 6, 2, 6, 2, 1, 5, 2, 1, 2, 3, 4, 7, 3, 3, 2, 3, 6, 7, 8, 7, 3, 3, 7, 9, 8, 2, 4, 4, 2, 2, 1, 5, 7, 1, 1, 4, 3, 3, 3, 4, 5, 7, 2, 4, 2, 6, 1, 4, 2, 1, 6, 7, 6, 4, 3, 3, 3, 5, 7, 2, 2, 4, 4, 5, 5, 3, 2, 4, 2, 4, 13, 4, 2, 5, 2, 3, 5, 6, 9, 4, 5, 3, 6, 7, 4, 3, 2, 5, 2, 2, 3, 1, 2, 3, 9, 2, 3, 1, 6, 4, 10, 5, 3, 2, 2, 4, 3, 1, 10, 4, 5, 4, 6, 2, 4, 3, 2, 3, 1, 8, 9, 5, 4, 5, 5, 3, 5, 1, 5, 3, 2, 3, 4, 6, 8, 4, 3, 8, 6, 4, 4, 3, 3, 5, 3, 4, 11, 4, 1, 4, 2, 3, 3, 4, 4, 6, 6, 1, 3, 4, 1, 5, 5, 5, 7, 9, 3, 4, 3, 2, 8, 5, 1, 3, 2, 3, 1, 1, 6, 1, 2, 2, 1, 2, 1, 2, 4, 7, 5, 2, 3, 3, 4, 2, 2, 3, 5, 5, 3, 2, 4, 8, 5, 1, 5, 1, 3, 2, 1, 3, 4, 7, 1, 2, 1, 4, 3, 2, 3, 6, 3, 4, 5, 2, 1, 3, 1, 7, 4, 2, 2, 1, 5, 5, 8, 2, 4, 4, 3, 6, 4, 3, 1, 5, 5, 4, 5, 2, 1, 1, 8, 4, 1, 4, 4, 3, 6, 4, 3, 3, 2, 6, 3, 5, 5, 5, 3, 3, 1, 6, 4, 3, 1, 2, 3, 1, 1, 2, 4, 1, 1, 4, 4, 2, 1, 8, 2, 3, 3, 4, 2, 2, 3, 2, 4, 3, 2, 4, 4, 1, 4, 6, 4, 4, 7, 2, 6, 10, 4, 2, 2, 8, 3, 3, 7, 1, 7, 3, 5, 3, 4, 4, 1, 1, 4, 6, 2, 9, 6, 3, 4, 3, 3, 4, 2, 2, 7, 7, 1, 5, 4, 2, 1, 6, 4, 6, 5, 4, 6, 3, 10, 1, 1, 9, 5, 5, 1, 6, 5, 2, 5, 3, 2, 5, 3, 1, 6, 5, 2, 5, 2, 6, 1, 7, 2, 4, 6, 5, 1, 6, 1, 3, 4, 3, 5, 5, 1, 6, 5, 3, 4, 7, 1, 4, 6, 4, 2, 3, 4, 2, 7, 2, 4, 3, 3, 4, 1, 4, 3, 3, 3, 1, 4, 5, 1, 1, 3, 2, 3, 2, 3, 8, 6, 3, 3, 3, 1, 7, 1, 3, 6, 3, 5, 2, 1, 5, 5, 3, 4, 2, 3, 4, 1, 3, 6, 2, 4, 5, 1, 5, 6, 1, 7, 1, 4, 6, 8, 3, 4, 3, 8, 3, 6, 5, 4, 1, 6, 5, 4, 4, 6, 7, 4, 8, 4, 1, 3, 2, 1, 1, 11, 1, 2, 3, 9, 3, 3, 6, 3, 5, 2, 2, 1, 4, 4, 4, 1, 1, 4, 1, 6, 2, 4, 2, 2, 2, 5, 2, 5, 2, 5, 3, 4, 4, 2, 5, 3, 3, 1, 5, 1, 5, 6, 12, 7, 5, 3, 7, 5, 5, 3, 1, 3, 10, 2, 1, 1, 4, 8, 3, 3, 6, 2, 2, 4, 5, 6, 3, 2, 9, 2, 5, 2, 8, 4, 3, 2, 2, 2, 6, 7, 5, 4, 4, 2, 4, 2, 6, 2, 5, 4, 4, 7, 3, 6, 1, 7, 4, 5, 3, 4, 10, 8, 4, 7, 5, 3, 7, 3, 5, 7, 3, 5, 2, 3, 3, 4, 3, 5, 1, 9, 4, 4, 3, 7, 5, 5, 5, 4, 3, 4, 1, 5, 10, 3, 4, 5, 5, 7, 3, 1, 3, 4, 4, 2, 1, 2, 3, 3, 6, 7, 6, 2, 6, 5, 1, 1, 3, 1, 2, 9, 4, 1, 3, 2, 9, 3, 6, 1, 3, 4, 2, 7, 8, 5, 5, 3, 6, 2, 6, 3, 2, 7, 2, 4, 4, 4, 2, 3, 4, 1, 6, 6, 4, 4, 14, 10, 2, 4, 4, 3, 6, 2, 3, 3, 5, 2, 3, 2, 4, 8, 3, 4, 10, 3, 1, 4, 3, 7, 5, 4, 4, 4, 3, 2, 8, 5, 1, 1, 2, 7, 3, 2, 7, 14, 4, 8, 1, 5, 8, 3, 4, 5, 4, 6, 1, 5, 2, 5, 2, 5, 2, 3, 3, 4, 4, 4, 3, 3, 2, 5, 10, 2, 3, 5, 1, 5, 6, 6, 7, 1, 2, 2, 3, 3, 3, 3, 1, 8, 2, 4, 11, 5, 7, 11, 1, 2, 7, 2, 7, 2, 2, 2, 2, 4, 3, 6, 4, 8, 5, 4, 2, 4, 6, 1, 3, 3, 4, 4, 6, 5, 8, 1, 9, 7, 3, 4, 6, 3, 6, 2, 3, 1, 1, 4, 5, 2, 8, 9, 5, 5, 1, 5, 9, 3, 3, 4, 4, 3, 2, 2, 4, 5, 1, 6, 1, 6, 3, 6, 3, 4, 10, 1, 3, 5, 3, 3, 10, 3, 1, 6, 3, 3, 4, 5, 9, 1, 3, 3, 2, 2, 4, 4, 6, 5, 4, 4, 8, 3, 4, 3, 3, 7, 3, 8, 2, 4, 4, 1, 5, 1, 7, 2, 1, 1, 3, 6, 4, 1, 7, 5, 5, 2, 3, 5, 7, 2, 1, 2, 8, 6, 6, 4, 8, 4, 8, 7, 5, 4, 8, 4, 3, 1, 4, 6, 3, 7, 2, 1, 2, 5, 4, 7, 4, 7, 4, 3, 3, 2, 1, 4, 4, 2, 3, 4, 4, 7, 5, 2, 3, 1, 6, 4, 2, 5, 5, 4, 1, 5, 5, 4, 4, 2, 4, 7, 7, 1, 4, 3, 4, 4, 5, 2, 3, 9, 5, 7, 4, 2, 2, 4, 1, 4, 6, 6, 6, 1, 2, 1, 2, 3, 5, 2, 5, 2, 3, 3, 1, 4, 1, 5, 3, 5, 4, 7, 1, 3, 1, 5, 2, 3, 6, 2, 2, 4, 4, 4, 2, 1, 6, 9, 3, 2, 2, 3, 3, 2, 2, 3, 4, 2, 3, 1, 1, 3, 2, 3, 2, 1, 4, 3, 4, 4, 3, 6, 4, 1, 6, 1, 4, 4, 5, 5, 3, 10, 4, 9, 5, 5, 5, 1, 2, 3, 3, 11, 6, 7, 2, 2, 3, 3, 4, 4, 4, 2, 12, 2, 2, 5, 4, 14, 3, 2, 4, 5, 5, 3, 3, 5, 5, 5, 3, 4, 2, 1, 3, 3, 3, 8, 3, 3, 2, 4, 4, 1, 2, 4, 3, 3, 4, 2, 2, 4, 2, 2, 6, 2, 4, 3, 4, 3, 3, 3, 3, 6, 4, 3, 1, 6, 12, 2, 2, 2, 3, 2, 6, 3, 1, 4, 4, 1, 4, 6, 4, 7, 2, 1, 6, 1, 2, 9, 3, 1, 7, 1, 6, 1, 5, 9, 4, 3, 3, 9, 6, 1, 3, 3, 1, 2, 1, 4, 7, 3, 5, 5, 2, 2, 3, 3, 2, 7, 3, 1, 3, 1, 2, 4, 2, 1, 3, 4, 6, 8, 2, 8, 4, 4, 4, 4, 8, 2, 4, 2, 3, 2, 2, 7, 7, 7, 3, 4, 1, 4, 3, 3, 5, 2, 2, 1, 6, 1, 4, 6, 3, 8, 5, 7, 5, 7, 3, 6, 4, 5, 1, 2, 5, 1, 4, 4, 2, 3, 3, 6, 6, 3, 11, 2, 4, 2, 4, 6, 4, 1, 4, 10, 2, 2, 3, 3, 5, 3, 3, 6, 2, 2, 1, 4, 3, 7, 1, 2, 3, 1, 5, 3, 4, 4, 2, 2, 2, 6, 4, 2, 3, 2, 9, 1, 6, 10, 9, 5, 2, 3, 6, 5, 4, 4, 6, 3, 3, 3, 5, 1, 2, 2, 4, 5, 2, 5, 1, 3, 5, 2, 2, 3, 6, 4, 4, 4, 2, 2, 4, 2, 1, 4, 6, 3, 6, 2, 5, 12, 1, 1, 5, 4, 4, 4, 1, 2, 5, 2, 3, 10, 1, 4, 1, 4, 1, 4, 1, 5, 7, 1, 4, 3, 5, 4, 4, 3, 4, 7, 6, 2, 4, 2, 5, 1, 6, 6, 2, 5, 4, 4, 5, 4, 3, 7, 7, 7, 6, 2, 4, 6, 3, 11, 3, 3, 3, 4, 7, 10, 3, 4, 4, 6, 2, 4, 4, 1, 6, 7, 5, 3, 3, 6, 13, 4, 4, 5, 1, 2, 4, 6, 2, 3, 4, 3, 2, 9, 6, 4, 12, 5, 6, 3, 4, 2, 3, 12, 2, 2, 2, 6, 3, 7, 1, 2, 14, 2, 2, 8, 3, 13, 6, 7, 4, 8, 5, 4, 4, 5, 2, 5, 11, 4, 9, 5, 9, 3, 4, 1, 9, 9, 2, 6, 5, 8, 2, 5, 1, 2, 2, 4, 4, 7, 3, 1, 4, 3, 5, 4, 4, 4, 8, 9, 9, 4, 1, 1, 4, 6, 3, 3, 11, 5, 1, 2, 6, 7, 2, 7, 2, 2, 1, 8, 3, 5, 13, 7, 2, 7, 1, 5, 3, 2, 1, 2, 9, 2, 1, 8, 7, 1, 6, 4, 4, 1, 2, 3, 3, 1, 7, 3, 1, 14, 3, 5, 4, 4, 10, 4, 5, 7, 5, 7, 4, 3, 5, 5, 2, 5, 13, 3, 15, 10, 10, 9, 2, 11, 4, 3, 4, 4, 1, 7, 9, 4, 1, 3, 1, 2, 3, 6, 3, 1, 2, 3, 7, 2, 3, 3, 7, 6, 2, 3, 4, 10, 8, 2, 6, 3, 6, 1, 11, 1, 5, 5, 3, 2, 4, 5, 2, 3, 2, 4, 4, 1, 2, 6, 2, 1, 3, 6, 5, 4, 1, 3, 3, 2, 9, 1, 4, 5, 6, 11, 3, 3, 3, 4, 3, 5, 3, 3, 3, 3, 3, 2, 5, 5, 7, 16, 10, 3, 1, 6, 5, 3, 8, 7, 5, 6, 6, 6, 2, 6, 4, 4, 4, 3, 4, 4, 7, 2, 3, 3, 3, 3, 2, 8, 2, 3, 4, 2, 8, 6, 1, 5, 3, 2, 4, 7, 2, 5, 4, 4, 7, 4, 3, 5, 6, 9, 3, 5, 5, 8, 3, 8, 4, 3, 3, 6, 3, 1, 13, 4, 4, 8, 1, 1, 4, 9, 3, 9, 3, 7, 3, 2, 3, 3, 4, 6, 8, 4, 3, 2, 1, 8, 3, 3, 5, 3, 1, 1, 6, 6, 6, 1, 9, 6, 2, 5, 6, 3, 7, 1, 4, 3, 5, 1, 2, 3, 3, 2, 3, 3, 6, 8, 2, 12, 5, 5, 15, 3, 3, 6, 6, 1, 8, 2, 5, 5, 3, 7, 7, 7, 5, 1, 2, 4, 2, 5, 6, 5, 2, 1, 4, 5, 4, 5, 4, 3, 13, 4, 2, 1, 10, 6, 6, 6, 5, 2, 13, 2, 3, 5, 3, 14, 4, 3, 6, 2, 4, 15, 6, 2, 2, 2, 5, 10, 3, 5, 5, 7, 4, 4, 3, 6, 3, 3, 3, 4, 4, 8, 3, 3, 4, 3, 7, 5, 4, 2, 3, 5, 1, 4, 2, 3, 2, 5, 2, 3, 3, 1, 9, 1, 3, 4, 7, 5, 1, 1, 9, 5, 5, 2, 5, 11, 1, 3, 5, 4, 3, 6, 4, 5, 4, 3, 4, 6, 2, 6, 5, 5, 6, 3, 3, 4, 9, 2, 4, 4, 10, 5, 10, 8, 3, 5, 1, 2, 5, 8, 6, 1, 3, 8, 2, 3, 4, 13, 1, 2, 1, 2, 2, 7, 2, 3, 3, 3, 3, 2, 8, 3, 4, 9, 4, 1, 1, 7, 2, 4, 4, 5, 1, 6, 12, 2, 2, 3, 3, 4, 6, 4, 2, 8, 2, 4, 4, 7, 2, 6, 4, 5, 2, 1, 3, 2, 3, 9, 4, 2, 2, 1, 7, 6, 1, 8, 3, 2, 3, 2, 2, 2, 3, 7, 4, 2, 5, 3, 5, 1, 6, 1, 5, 1, 7, 7, 4, 6, 4, 6, 1, 6, 1, 8, 6, 1, 9, 6, 2, 7, 4, 6, 2, 6, 3, 2, 5, 4, 5, 3, 3, 8, 2, 3, 3, 5, 6, 4, 7, 6, 6, 6, 3, 4, 8, 3, 8, 6, 3, 1, 4, 4, 6, 9, 8, 9, 6, 7, 2, 4, 5, 7, 4, 7, 3, 4, 4, 5, 3, 5, 3, 4, 5, 4, 1, 7, 6, 5, 3, 8, 2, 3, 2, 4, 1, 2, 5, 2, 4, 4, 3, 3, 7, 8, 10, 4, 3, 8, 4, 5, 6, 4, 7, 4, 1, 3, 3, 3, 4, 2, 3, 1, 2, 1, 7, 5, 7, 1, 5, 10, 4, 2, 6, 6, 4, 4, 3, 4, 3, 3, 1, 3, 8, 5, 3, 10, 3, 6, 3, 1, 10, 4, 6, 1, 8, 6, 2, 2, 4, 4, 3, 10, 3, 4, 1, 6, 4, 11, 10, 8, 1, 5, 7, 2, 7, 3, 3, 2, 7, 4, 5, 2, 5, 5, 1, 3, 5, 3, 6, 1, 4, 5, 6, 1, 1, 5, 2, 4, 2, 5, 6, 3, 1, 7, 5, 6, 7, 5, 3, 1, 1, 2, 7, 1, 3, 2, 5, 9, 1, 5, 11, 7, 2, 4, 6, 3, 11, 4, 8, 4, 4, 9, 7, 4, 1, 5, 4, 6, 2, 1, 3, 1, 3, 13, 5, 3, 12, 7, 4, 6, 5, 5, 5, 1, 3, 5, 2, 1, 1, 2, 1, 1, 7, 3, 2, 2, 6, 5, 1, 6, 4, 2, 2, 3, 5, 3, 3, 4, 5, 7, 6, 1, 1, 8, 11, 5, 3, 7, 8, 3, 2, 4, 2, 6, 9, 1, 1, 10, 1, 1, 5, 5, 5, 3, 1, 11, 3, 6, 3, 3, 4, 3, 3, 6, 13, 1, 5, 6, 3, 5, 6, 1, 3, 1, 4, 2, 4, 7, 8, 4, 2, 5, 5, 3, 6, 2, 8, 13, 5, 6, 8, 12, 5, 5, 4, 8, 2, 5, 2, 6, 5, 1, 2, 1, 2, 3, 2, 3, 1, 7, 2, 3, 2, 6, 1, 2, 5, 6, 10, 1, 1, 2, 3, 4, 4, 5, 2, 13, 6, 5, 3, 3, 2, 1, 3, 4, 2, 4, 4, 3, 3, 6, 2, 2, 9, 2, 6, 3, 5, 1, 4, 5, 7, 4, 7, 4, 4, 6, 8, 5, 10, 5, 3, 5, 6, 10, 6, 2, 3, 3, 5, 3, 5, 3, 1, 5, 3, 1, 2, 2, 3, 1, 1, 1, 5, 1, 4, 5, 6, 6, 4, 1, 6, 2, 1, 1, 2, 9, 3, 5, 2, 5, 1, 2, 3, 6, 5, 4, 7, 5, 5, 1, 1, 1, 4, 3, 5, 7, 1, 2, 2, 3, 10, 1, 4, 1, 11, 4, 3, 6, 2, 7, 11, 6, 2, 3, 5, 4, 2, 4, 3, 4, 3, 8, 3, 4, 2, 6, 3, 11, 2, 7, 7, 2, 4, 2, 15, 3, 10, 6, 7, 1, 2, 5, 4, 5, 1, 7, 1, 3, 4, 2, 1, 5, 9, 2, 4, 3, 5, 7, 3, 4, 6, 3, 4, 4, 1, 3, 5, 2, 4, 9, 8, 5, 4, 1, 2, 6, 1, 9, 5, 5, 1, 3, 4, 3, 5, 8, 1, 1, 3, 13, 5, 13, 2, 4, 6, 8, 5, 5, 3, 1, 2, 2, 2, 2, 8, 4, 6, 4, 8, 10, 5, 4, 2, 2, 5, 7, 4, 4, 3, 2, 5, 5, 1, 1, 2, 6, 6, 5, 5, 3, 9, 3, 4, 2, 10, 3, 4, 4, 4, 3, 1, 7, 12, 7, 4, 6, 6, 6, 3, 3, 7, 3, 2, 5, 2, 5, 1, 6, 4, 4, 5, 3, 7, 8, 1, 4, 2, 5, 2, 7, 7, 5, 2, 1, 1, 3, 4, 4, 1, 6, 6, 2, 5, 3, 3, 3, 5, 14, 3, 6, 3, 4, 5, 2, 7, 4, 1, 3, 3, 4, 2, 1, 1, 2, 7, 4, 4, 6, 5, 1, 2, 1, 3, 3, 6, 7, 6, 5, 6, 6, 4, 3, 8, 7, 4, 3, 3, 4, 8, 4, 5, 6, 5, 9, 2, 2, 5, 5, 7, 5, 9, 5, 2, 3, 12, 2, 2, 4, 2, 3, 3, 6, 1, 2, 2, 4, 3, 4, 8, 6, 6, 4, 5, 2, 1, 10, 5, 4, 2, 8, 1, 1, 7, 3, 4, 4, 8, 4, 3, 6, 4, 4, 3, 4, 1, 3, 3, 4, 2, 8, 2, 2, 7, 7, 4, 9, 3, 5, 8, 1, 3, 6, 3, 9, 5, 8, 8, 2, 3, 1, 2, 7, 7, 3, 4, 3, 5, 1, 4, 4, 3, 10, 8, 8, 2, 4, 7, 5, 2, 6, 1, 4, 4, 6, 5, 3, 2, 4, 2, 5, 2, 6, 7, 5, 4, 5, 2, 2, 5, 7, 5, 6, 7, 7, 1, 4, 2, 2, 5, 6, 2, 5, 1, 5, 3, 10, 2, 5, 3, 12, 5, 4, 5, 6, 6, 4, 12, 8, 9, 9, 4, 5, 2, 7, 2, 2, 5, 10, 4, 3, 1, 3, 7, 4, 4, 6, 2, 5, 10, 1, 8, 7, 1, 5, 3, 4, 3, 3, 5, 4, 5, 7, 1, 3, 4, 3, 6, 1, 4, 2, 1, 4, 5, 3, 5, 6, 2, 4, 7, 5, 3, 1, 3, 2, 2, 9, 2, 10, 7, 4, 3, 3, 4, 6, 3, 5, 4, 1, 6, 3, 2, 2, 4, 2, 4, 1, 4, 2, 6, 5, 7, 4, 2, 6, 4, 5, 9, 5, 9, 1, 3, 1, 1, 4, 1, 8, 5, 1, 4, 4, 4, 6, 5, 5, 3, 4, 3, 5, 1, 3, 1, 3, 7, 3, 3, 2, 8, 2, 2, 6, 5, 6, 5, 5, 3, 2, 3, 1, 6, 3, 5, 2, 5, 3, 1, 1, 2, 8, 6, 6, 7, 5, 1, 2, 3, 4, 6, 4, 6, 4, 5, 4, 3, 6, 3, 4, 3, 2, 4, 4, 7, 6, 11, 5, 4, 3, 6, 4, 4, 3, 8, 5, 6, 6, 4, 10, 6, 7, 4, 7, 3, 1, 4, 1, 7, 8, 12, 6, 4, 6, 6, 4, 5, 6, 5, 6, 3, 5, 4, 12, 3, 15, 3, 3, 4, 2, 2, 5, 2, 2, 1, 2, 7, 2, 1, 1, 2, 4, 6, 3, 1, 2, 3, 2, 2, 6, 4, 1, 2, 3, 3, 4, 3, 5, 3, 4, 2, 1, 5, 5, 2, 3, 2, 1, 5, 2, 6, 6, 6, 4, 2, 1, 5, 5, 2, 1, 4, 8, 5, 3, 1, 7, 16, 2, 5, 5, 4, 1, 3, 4, 5, 5, 1, 2, 1, 4, 7, 2, 6, 3, 9, 4, 3, 7, 17, 7, 8, 1, 4, 15, 1, 7, 9, 4, 6, 9, 2, 10, 6, 3, 7, 7, 6, 9, 2, 5, 8, 8, 7, 1, 1, 2, 2, 7, 3, 4, 4, 3, 3, 3, 4, 4, 4, 4, 5, 5, 2, 1, 6, 2, 9, 5, 6, 5, 7, 1, 1, 6, 2, 6, 8, 5, 4, 7, 4, 4, 3, 2, 5, 7, 2, 6, 4, 4, 7, 1, 5, 2, 4, 8, 7, 2, 9, 2, 2, 6, 4, 5, 4, 4, 7, 1, 6, 4, 3, 4, 4, 1, 6, 2, 3, 3, 6, 6, 8, 5, 6, 4, 2, 7, 5, 4, 2, 5, 3, 3, 5, 2, 5, 7, 2, 9, 8, 3, 5, 3, 3, 1, 2, 2, 8, 4, 2, 2, 5, 6, 3, 5, 2, 7, 4, 8, 4, 7, 2, 4, 4, 6, 2, 4, 2, 2, 3, 3, 3, 2, 6, 3, 4, 4, 8, 3, 3, 4, 4, 2, 8, 2, 4, 4, 1, 10, 4, 11, 4, 6, 7, 3, 8, 1, 5, 2, 6, 2, 6, 4, 4, 3, 3, 2, 4, 2, 9, 3, 5, 4, 4, 5, 1, 4, 4, 1, 8, 4, 6, 5, 1, 4, 9, 5, 1, 5, 2, 4, 9, 7, 5, 1, 6, 2, 3, 5, 7, 1, 3, 1, 2, 9, 7, 1, 3, 3, 4, 4, 4, 8, 1, 2, 4, 8, 3, 2, 7, 2, 4, 5, 4, 4, 2, 6, 1, 2, 3, 1, 11, 1, 1, 7, 8, 5, 6, 4, 4, 5, 1, 5, 2, 4, 2, 6, 9, 4, 1, 3, 5, 3, 2, 2, 3, 7, 4, 3, 8, 2, 5, 1, 5, 4, 1, 6, 1, 7, 2, 9, 3, 10, 1, 1, 2, 2, 4, 1, 8, 12, 3, 7, 3, 3, 1, 3, 5, 1, 8, 1, 3, 5, 1, 6, 2, 12, 2, 4, 7, 3, 3, 3, 4, 4, 1, 9, 2, 6, 10, 7, 1, 2, 3, 10, 1, 4, 5, 2, 1, 2, 2, 4, 6, 6, 7, 7, 9, 1, 3, 2, 2, 2, 2, 3, 4, 2, 5, 7, 5, 3, 5, 2, 8, 4, 6, 1, 2, 1, 14, 1, 3, 9, 3, 8, 2, 4, 5, 1, 4, 3, 10, 3, 3, 4, 1, 5, 2, 3, 2, 1, 4, 4, 2, 2, 3, 6, 4, 2, 5, 3, 1, 3, 5, 4, 3, 4, 4, 2, 7, 8, 8, 2, 8, 5, 6, 5, 3, 2, 3, 2, 5, 2, 2, 5, 2, 4, 4, 4, 3, 4, 3, 7, 4, 3, 5, 1, 3, 3, 4, 6, 1, 3, 4, 4, 3, 4, 8, 5, 4, 5, 7, 1, 1, 4, 1, 2, 6, 3, 8, 1, 3, 1, 4, 1, 18, 10, 1, 6, 5, 6, 2, 3, 2, 4, 2, 4, 8, 6, 3, 4, 4, 5, 3, 2, 2, 1, 1, 4, 2, 5, 4, 9, 1, 4, 2, 1, 2, 8, 4, 1, 5, 3, 8, 2, 3, 5, 5, 1, 2, 5, 3, 4, 5, 3, 5, 7, 2, 1, 9, 3, 3, 4, 1, 3, 1, 1, 1, 5, 6, 5, 5, 1, 2, 1, 3, 4, 7, 1, 13, 10, 7, 2, 5, 3, 4, 3, 2, 1, 4, 2, 3, 6, 3, 5, 3, 3, 2, 1, 1, 3, 8, 4, 2, 6, 4, 2, 4, 1, 1, 7, 4, 3, 1, 3, 2, 2, 6, 5, 2, 2, 1, 2, 9, 5, 5, 3, 7, 6, 2, 10, 5, 6, 3, 4, 2, 6, 3, 5, 7, 6, 2, 3, 3, 2, 1, 2, 4, 3, 2, 2, 4, 6, 9, 8, 2, 2, 3, 4, 1, 3, 6, 5, 3, 4, 4, 1, 2, 2, 5, 4, 4, 6, 1, 6, 2, 2, 4, 3, 3, 2, 1, 5, 2, 5, 5, 6, 3, 6, 2, 5, 2, 4, 6, 2, 3, 2, 2, 1, 10, 5, 5, 7, 4, 2, 11, 12, 5, 7, 1, 3, 3, 5, 6, 7, 9, 2, 9, 1, 5, 5, 5, 5, 1, 4, 2, 3, 2, 9, 5, 2, 4, 4, 1, 5, 3, 11, 2, 1, 3, 6, 3, 2, 5, 12, 2, 4, 2, 3, 4, 5, 3, 2, 3, 9, 8, 2, 4, 6, 2, 4, 2, 3, 2, 1, 4, 2, 1, 9, 4, 2, 4, 2, 9, 3, 4, 4, 3, 3, 9, 6, 1, 2, 4, 1, 2, 4, 6, 2, 6, 4, 6, 5, 7, 8, 2, 7, 9, 3, 7, 7, 1, 4, 4, 7, 3, 6, 6, 2, 2, 4, 3, 3, 4, 6, 2, 2, 1, 4, 3, 10, 9, 3, 3, 3, 2, 4, 10, 5, 3, 3, 3, 3, 3, 3, 2, 7, 2, 2, 5, 2, 2, 3, 7, 4, 5, 5, 1, 2, 2, 3, 3, 6, 1, 5, 3, 3, 2, 2, 1, 4, 7, 5, 4, 3, 1, 1, 4, 5, 3, 3, 5, 2, 3, 4, 2, 7, 4, 8, 8, 1, 1, 7, 3, 1, 5, 5, 1, 8, 2, 2, 5, 3, 10, 3, 6, 6, 4, 4, 5, 4, 4, 1, 1, 2, 2, 6, 9, 7, 3, 6, 1, 4, 3, 2, 2, 3, 5, 7, 4, 5, 7, 5, 5, 4, 14, 2, 6, 3, 6, 1, 1, 1, 2, 2, 1, 8, 5, 1, 3, 4, 3, 4, 3, 6, 4, 5, 9, 5, 2, 3, 6, 2, 2, 2, 4, 8, 5, 1, 4, 1, 4, 7, 4, 2, 5, 10, 1, 4, 5, 3, 6, 5, 3, 4, 3, 8, 1, 6, 4, 5, 6, 3, 2, 7, 4, 2, 6, 7, 5, 4, 8, 5, 4, 1, 4, 4, 5, 5, 3, 4, 2, 6, 6, 6, 5, 4, 3, 3, 3, 4, 3, 4, 4, 8, 3, 6, 4, 3, 4, 1, 3, 3, 5, 3, 10, 1, 5, 1, 4, 2, 4, 9, 8, 5, 2, 3, 4, 4, 2, 4, 2, 2, 5, 7, 3, 2, 4, 5, 3, 4, 5, 4, 9, 9, 3, 2, 3, 3, 2, 4, 3, 4, 1, 3, 4, 2, 6, 2, 4, 8, 2, 8, 3, 1, 9, 4, 8, 4, 10, 8, 1, 2, 3, 7, 5, 6, 4, 4, 7, 5, 9, 3, 2, 4, 4, 9, 3, 3, 4, 2, 9, 5, 4, 3, 3, 2, 4, 6, 2, 5, 4, 3, 4, 9, 4, 3, 3, 3, 2, 7, 3, 4, 5, 5, 6, 9, 2, 5, 3, 5, 1, 8, 1, 3, 4, 2, 2, 4, 4, 8, 6, 1, 1, 3, 10, 2, 4, 4, 3, 2, 5, 2, 4, 4, 6, 6, 2, 3, 4, 1, 1, 1, 3, 4, 7, 3, 5, 3, 5, 2, 1, 8, 8, 6, 8, 2, 5, 3, 1, 3, 11, 8, 6, 8, 3, 4, 8, 5, 3, 7, 4, 3, 4, 5, 4, 7, 2, 5, 7, 6, 5, 7, 7, 2, 4, 2, 3, 10, 3, 1, 2, 2, 1, 2, 6, 1, 3, 4, 5, 2, 6, 4, 2, 6, 2, 3, 2, 4, 9, 5, 3, 2, 5, 2, 4, 6, 1, 3, 1, 4, 3, 1, 2, 7, 3, 2, 3, 6, 6, 2, 2, 6, 3, 9, 1, 8, 4, 4, 6, 3, 3, 2, 6, 9, 2, 2, 6, 4, 4, 2, 4, 4, 8, 9, 3, 4, 6, 3, 5, 5, 1, 2, 1, 5, 6, 5, 6, 6, 2, 9, 4, 6, 2, 2, 3, 6, 4, 3, 5, 4, 1, 1, 4, 1, 6, 5, 2, 5, 3, 2, 7, 1, 2, 5, 3, 1, 2, 4, 1, 2, 2, 4, 3, 3, 2, 4, 4, 4, 10, 2, 4, 2, 5, 3, 1, 5, 4, 4, 4, 3, 1, 1, 7, 4, 3, 2, 7, 2, 4, 2, 2, 1, 6, 2, 1, 1, 4, 6, 6, 2, 6, 4, 3, 2, 8, 2, 7, 4, 3, 4, 2, 4, 4, 6, 3, 5, 3, 3, 6, 3, 6, 2, 6, 4, 7, 4, 9, 12, 7, 5, 3, 7, 3, 4, 3, 3, 5, 4, 4, 1, 4, 2, 7, 5, 3, 3, 5, 2, 5, 1, 4, 9, 3, 2, 10, 4, 4, 7, 1, 6, 3, 3, 2, 1, 2, 12, 1, 3, 2, 4, 2, 4, 5, 4, 6, 2, 5, 4, 2, 3, 5, 4, 1, 1, 4, 4, 6, 3, 3, 2, 1, 5, 4, 5, 4, 6, 3, 3, 5, 3, 1, 4, 2, 2, 4, 3, 3, 1, 2, 2, 5, 1, 5, 13, 1, 1, 3, 2, 3, 1, 3, 3, 2, 5, 3, 3, 5, 5, 1, 4, 1, 4, 5, 2, 2, 3, 3, 2, 10, 2, 4, 6, 1, 4, 5, 3, 3, 3, 7, 7, 13, 6, 4, 7, 10, 6, 5, 5, 3, 2, 3, 3, 5, 3, 5, 7, 2, 9, 2, 5, 3, 4, 5, 5, 1, 7, 4, 2, 7, 3, 3, 4, 6, 9, 2, 4, 3, 4, 4, 8, 4, 3, 4, 5, 3, 5, 3, 5, 5, 4, 3, 6, 4, 4, 6, 4, 8, 5, 4, 6, 7, 4, 1, 2, 3, 1, 3, 4, 4, 8, 5, 2, 3, 7, 6, 8, 5, 2, 10, 4, 3, 1, 2, 13, 3, 2, 3, 6, 3, 5, 2, 2, 2, 5, 2, 9, 4, 5, 1, 1, 4, 10, 6, 6, 7, 6, 2, 4, 4, 11, 8, 8, 3, 6, 2, 3, 2, 6, 2, 4, 1, 1, 10, 3, 1, 2, 1, 4, 2, 2, 1, 3, 2, 3, 4, 2, 7, 4, 8, 3, 1, 1, 5, 3, 3, 2, 2, 1, 1, 3, 5, 3, 5, 2, 2, 7, 2, 7, 2, 5, 1, 1, 2, 4, 1, 4, 4, 3, 1, 4, 8, 3, 2, 5, 4, 5, 5, 5, 2, 7, 3, 6, 3, 4, 8, 4, 1, 12, 9, 2, 5, 12, 4, 3, 2, 3, 3, 2, 5, 1, 5, 2, 2, 1, 3, 2, 6, 4, 8, 5, 4, 3, 1, 4, 4, 3, 4, 4, 3, 9, 4, 6, 3, 2, 1, 1, 5, 5, 2, 1, 1, 3, 3, 1, 4, 3, 4, 6, 6, 1, 2, 12, 2, 6, 2, 1, 4, 3, 3, 2, 1, 3, 5, 2, 7, 2, 2, 5, 3, 3, 2, 5, 7, 3, 7, 5, 3, 2, 4, 2, 7, 4, 7, 5, 1, 3, 5, 7, 4, 1, 2, 4, 5, 5, 4, 2, 2, 6, 5, 4, 1, 2, 3, 5, 1, 1, 4, 3, 4, 3, 3, 2, 5, 5, 3, 4, 7, 2, 2, 3, 2, 7, 6, 3, 4, 1, 5, 1, 2, 8, 7, 1, 8, 5, 6, 3, 4, 4, 8, 1, 3, 3, 1, 3, 1, 6, 4, 5, 4, 3, 3, 1, 4, 2, 2, 5, 3, 4, 2, 2, 5, 5, 3, 4, 3, 2, 7, 1, 8, 4, 7, 4, 5, 11, 12, 3, 3, 2, 2, 3, 4, 1, 8, 4, 2, 3, 6, 3, 3, 5, 7, 7, 5, 3, 4, 5, 1, 3, 5, 5, 2, 4, 5, 8, 3, 2, 4, 5, 8, 4, 4, 1, 2, 3, 3, 3, 1, 8, 1, 7, 7, 5, 3, 7, 4, 6, 6, 1, 1, 5, 6, 6, 4, 3, 2, 6, 2, 3, 3, 6, 3, 10, 4, 2, 6, 2, 2, 4, 3, 2, 2, 2, 4, 3, 5, 1, 5, 11, 7, 6, 3, 2, 2, 4, 7, 3, 5, 5, 6, 2, 13, 4, 4, 5, 1, 5, 7, 3, 4, 5, 3, 3, 3, 2, 5, 12, 5, 1, 4, 6, 2, 2, 5, 1, 6, 6, 6, 6, 5, 4, 4, 4, 4, 3, 4, 3, 1, 7, 8, 2, 2, 6, 3, 1, 4, 2, 6, 3, 1, 5, 3, 5, 1, 2, 4, 8, 3, 4, 6, 3, 6, 2, 4, 6, 8, 4, 4, 6, 3, 7, 4, 7, 8, 3, 5, 5, 7, 5, 5, 2, 3, 10, 5, 4, 2, 3, 6, 3, 3, 3, 4, 6, 9, 3, 8, 6, 4, 5, 5, 6, 7, 10, 5, 12, 1, 1, 3, 2, 4, 4, 6, 3, 6, 5, 3, 3, 3, 1, 6, 7, 4, 4, 1, 4, 2, 3, 1, 2, 4, 1, 3, 3, 9, 6, 7, 4, 3, 6, 7, 1, 4, 6, 10, 3, 3, 5, 3, 5, 2, 2, 4, 5, 4, 10, 5, 5, 1, 6, 6, 10, 5, 5, 5, 6, 4, 2, 4, 1, 4, 3, 5, 1, 5, 6, 7, 3, 2, 3, 6, 4, 5, 10, 3, 8, 2, 4, 1, 14, 3, 5, 1, 3, 6, 6, 1, 5, 1, 2, 5, 5, 1, 9, 3, 3, 4, 4, 4, 2, 3, 4, 5, 6, 3, 9, 4, 4, 3, 6, 1, 2, 5, 6, 7, 4, 4, 2, 1, 4, 3, 2, 5, 9, 9, 3, 3, 2, 3, 6, 2, 7, 8, 1, 3, 2, 3, 6, 6, 4, 2, 6, 4, 2, 6, 2, 3, 10, 5, 1, 5, 4, 4, 2, 8, 3, 2, 5, 3, 1, 5, 9, 9, 4, 6, 5, 4, 2, 3, 5, 5, 3, 1, 1, 2, 2, 5, 3, 2, 3, 7, 1, 2, 2, 8, 4, 2, 8, 5, 3, 6, 10, 5, 4, 3, 3, 3, 3, 1, 1, 3, 2, 6, 1, 1, 6, 1, 1, 2, 3, 6, 2, 1, 6, 4, 3, 5, 5, 9, 4, 1, 4, 3, 5, 5, 8, 4, 3, 7, 8, 2, 3, 11, 6, 9, 4, 4, 3, 2, 3, 3, 2, 4, 4, 1, 1, 10, 2, 3, 3, 4, 3, 2, 1, 3, 5, 3, 3, 5, 10, 1, 3, 5, 7, 3, 10, 4, 7, 5, 4, 6, 7, 4, 6, 2, 3, 5, 8, 2, 1, 2, 6, 1, 4, 7, 5, 1, 4, 1, 5, 3, 3, 8, 2, 7, 1, 2, 4, 7, 1, 4, 4, 5, 5, 5, 7, 1, 1, 2, 10, 3, 3, 1, 6, 4, 8, 2, 2, 2, 1, 2, 3, 2, 6, 4, 2, 3, 10, 5, 2, 6, 4, 3, 1, 7, 2, 4, 6, 4, 6, 5, 3, 12, 2, 5, 7, 4, 3, 5, 2, 2, 1, 5, 2, 2, 4, 4, 4, 3, 4, 1, 4, 2, 7, 4, 1, 8, 2, 2, 8, 3, 9, 3, 6, 2, 4, 3, 6, 2, 6, 1, 10, 4, 4, 5, 4, 4, 4, 6, 7, 1, 4, 7, 3, 8, 4, 7, 7, 1, 6, 4, 2, 3, 1, 5, 2, 3, 6, 5, 13, 4, 4, 4, 4, 1, 6, 6, 5, 2, 4, 5, 6, 5, 3, 4, 3, 4, 5, 3, 3, 3, 2, 2, 4, 3, 7, 5, 2, 2, 4, 8, 3, 3, 4, 5, 4, 3, 5, 1, 3, 6, 2, 2, 4, 4, 3, 5, 6, 3, 1, 4, 5, 7, 6, 4, 3, 5, 9, 4, 5, 2, 6, 3, 4, 4, 6, 4, 3, 1, 6, 3, 2, 5, 8, 3, 3, 3, 5, 4, 10, 2, 5, 6, 2, 2, 8, 2, 4, 2, 3, 2, 3, 6, 2, 3, 4, 2, 3, 3, 1, 1, 4, 2, 1, 5, 3, 6, 7, 2, 3, 3, 5, 7, 8, 4, 6, 4, 2, 4, 8, 5, 2, 5, 2, 3, 4, 3, 9, 9, 5, 2, 1, 9, 6, 7, 3, 4, 5, 2, 1, 9, 7, 3, 10, 4, 3, 3, 6, 3, 4, 8, 4, 6, 9, 4, 8, 5, 9, 1, 1, 6, 2, 10, 2, 8, 5, 10, 4, 4, 4, 6, 3, 4, 3, 11, 4, 10, 3, 4, 4, 5, 4, 8, 2, 3, 2, 5, 8, 4, 3, 1, 2, 4, 5, 6, 7, 3, 4, 2, 3, 3, 4, 2, 3, 4, 2, 4, 2, 4, 8, 3, 7, 2, 2, 3, 1, 4, 4, 4, 3, 6, 3, 4, 5, 4, 4, 5, 3, 6, 3, 2, 3, 2, 3, 3, 2, 3, 2, 2, 5, 7, 4, 3, 5, 4, 6, 1, 5, 2, 3, 4, 1, 2, 2, 2, 9, 3, 4, 2, 1, 6, 5, 3, 2, 4, 1, 7, 4, 4, 2, 7, 4, 2, 2, 5, 2, 2, 5, 4, 3, 7, 2, 11, 5, 3, 5, 4, 7, 3, 6, 10, 3, 4, 3, 2, 8, 4, 4, 1, 9, 2, 2, 4, 3, 5, 5, 5, 3, 6, 6, 1, 4, 7, 2, 5, 3, 10, 3, 2, 3, 7, 3, 6, 3, 4, 5, 5, 5, 4, 2, 2, 1, 8, 3, 6, 3, 2, 1, 3, 8, 4, 4, 4, 7, 1, 4, 9, 8, 1, 4, 1, 3, 4, 1, 4, 2, 9, 5, 6, 2, 5, 3, 3, 1, 3, 1, 1, 2, 1, 3, 4, 3, 2, 5, 3, 1, 3, 3, 4, 3, 2, 9, 7, 5, 6, 4, 4, 2, 4, 1, 8, 3, 6, 7, 4, 10, 6, 3, 5, 1, 2, 2, 2, 11, 4, 3, 2, 16, 9, 9, 3, 3, 2, 4, 2, 7, 4, 3, 3, 14, 4, 7, 9, 8, 6, 3, 2, 5, 2, 4, 3, 1, 11, 5, 2, 3, 5, 5, 3, 5, 6, 2, 3, 3, 5, 3, 3, 5, 4, 5, 3, 2, 4, 4, 4, 7, 5, 5, 2, 7, 7, 12, 8, 3, 11, 5, 4, 3, 1, 11, 2, 7, 8, 6, 3, 5, 9, 5, 3, 3, 2, 7, 2, 6, 3, 3, 3, 1, 2, 3, 7, 4, 6, 2, 4, 6, 9, 4, 3, 5, 2, 4, 1, 6, 6, 2, 2, 6, 5, 8, 6, 4, 7, 2, 4, 6, 9, 3, 9, 3, 6, 4, 2, 3, 6, 8, 8, 4, 4, 5, 3, 2, 4, 6, 3, 2, 2, 6, 6, 6, 2, 6, 2, 9, 3, 5, 6, 4, 5, 3, 3, 7, 9, 5, 2, 1, 2, 1, 7, 7, 4, 1, 4, 2, 5, 2, 4, 14, 7, 2, 2, 2, 4, 3, 3, 4, 5, 1, 6, 3, 4, 3, 7, 3, 2, 1, 4, 8, 3, 6, 7, 6, 5, 6, 4, 8, 3, 4, 4, 3, 3, 6, 5, 8, 6, 5, 3, 9, 7, 11, 3, 2, 4, 4, 6, 4, 4, 5, 2, 5, 2, 8, 1, 4, 4, 7, 4, 4, 3, 2, 4, 4, 11, 5, 4, 12, 4, 2, 2, 4, 8, 3, 4, 5, 1, 4, 2, 7, 2, 7, 9, 4, 6, 1, 5, 1, 2, 4, 5, 9, 3, 4, 2, 4, 3, 5, 5, 2, 4, 4, 4, 2, 8, 8, 12, 5, 8, 4, 5, 2, 6, 3, 7, 3, 5, 2, 6, 6, 1, 4, 4, 3, 1, 4, 8, 7, 5, 3, 6, 5, 2, 5, 4, 5, 6, 9, 4, 1, 2, 3, 5, 4, 2, 1, 2, 4, 2, 3, 5, 9, 14, 3, 1, 3, 5, 4, 8, 3, 1, 1, 3, 7, 2, 6, 1, 5, 6, 5, 5, 3, 2, 3, 3, 3, 1, 5, 3, 1, 3, 6, 3, 5, 4, 5, 4, 5, 7, 5, 1, 5, 4, 1, 7, 6, 6, 4, 3, 2, 6, 1, 4, 2, 5, 4, 6, 2, 10, 3, 2, 9, 3, 3, 1, 4, 1, 2, 4, 6, 4, 5, 3, 2, 5, 4, 1, 6, 2, 2, 9, 2, 4, 7, 6, 6, 5, 4, 4, 2, 1, 9, 1, 5, 8, 1, 2, 6, 4, 4, 3, 3, 1, 9, 1, 9, 3, 8, 10, 10, 5, 1, 1, 7, 3, 5, 6, 3, 3, 5, 1, 5, 1, 2, 3, 1, 3, 4, 3, 5, 3, 5, 8, 7, 3, 8, 5, 1, 8, 4, 6, 7, 3, 10, 4, 3, 3, 8, 4, 4, 2, 4, 3, 1, 2, 8, 3, 2, 7, 4, 7, 3, 4, 2, 3, 7, 3, 7, 3, 8, 3, 6, 1, 6, 4, 4, 3, 7, 2, 4, 3, 3, 1, 6, 6, 2, 2, 4, 3, 5, 5, 7, 3, 6, 6, 8, 5, 7, 4, 7, 3, 2, 5, 2, 3, 5, 2, 2, 3, 3, 3, 3, 3, 3, 5, 3, 8, 5, 3, 1, 3, 8, 5, 2, 12, 7, 1, 6, 4, 2, 4, 5, 7, 4, 3, 4, 3, 5, 6, 4, 5, 3, 6, 3, 2, 6, 4, 2, 2, 4, 6, 5, 4, 6, 5, 8, 3, 3, 3, 2, 2, 6, 11, 6, 2, 3, 6, 6, 6, 2, 3, 2, 7, 3, 1, 1, 3, 5, 4, 5, 4, 2, 3, 5, 8, 2, 5, 8, 4, 5, 4, 8, 6, 3, 2, 2, 2, 1, 3, 6, 2, 4, 3, 2, 4, 4, 7, 4, 2, 3, 1, 1, 7, 3, 2, 2, 2, 3, 10, 4, 2, 1, 8, 4, 5, 9, 4, 3, 3, 5, 5, 7, 6, 6, 4, 3, 3, 6, 3, 2, 4, 2, 5, 3, 7, 2, 5, 9, 5, 2, 5, 2, 6, 1, 1, 1, 5, 1, 7, 4, 6, 2, 1, 9, 3, 7, 6, 2, 5, 6, 3, 3, 2, 10, 1, 3, 4, 4, 3, 4, 8, 2, 5, 3, 1, 5, 4, 1, 8, 5, 5, 3, 3, 8, 6, 3, 2, 7, 5, 1, 7, 5, 3, 5, 2, 1, 2, 6, 7, 6, 1, 4, 4, 8, 3, 5, 3, 1, 5, 5, 9, 3, 2, 2, 3, 3, 3, 3, 4, 6, 2, 4, 6, 2, 3, 3, 6, 5, 3, 3, 2, 5, 4, 2, 8, 2, 7, 8, 2, 7, 4, 3, 8, 10, 7, 6, 3, 4, 2, 4, 9, 4, 2, 2, 3, 2, 2, 6, 4, 5, 2, 5, 4, 2, 7, 1, 2, 4, 2, 3, 4, 1, 9, 3, 7, 6, 1, 8, 11, 2, 4, 3, 7, 2, 1, 6, 5, 3, 1, 7, 2, 4, 2, 7, 5, 5, 6, 6, 1, 1, 3, 4, 7, 3, 4, 2, 2, 3, 4, 5, 8, 3, 1, 5, 2, 3, 5, 3, 2, 7, 4, 2, 6, 1, 5, 2, 3, 5, 4, 2, 3, 1, 3, 3, 3, 2, 5, 2, 5, 3, 13, 4, 5, 4, 5, 2, 4, 9, 5, 1, 3, 8, 2, 3, 2, 5, 6, 4, 7, 5, 3, 3, 4, 4, 5, 4, 4, 14, 5, 1, 6, 3, 3, 4, 4, 8, 5, 5, 3, 6, 3, 3, 2, 5, 6, 4, 4, 2, 5, 3, 1, 3, 6, 2, 4, 3, 5, 2, 6, 1, 3, 1, 3, 4, 4, 5, 2, 5, 7, 4, 8, 1, 5, 2, 2, 5, 3, 11, 4, 5, 1, 6, 1, 3, 4, 3, 3, 4, 2, 5, 2, 6, 6, 3, 4, 3, 6, 7, 3, 2, 6, 4, 6, 1, 2, 12, 3, 2, 2, 1, 5, 4, 8, 7, 4, 6, 5, 5, 3, 5, 5, 1, 3, 6, 3, 5, 3, 7, 7, 1, 5, 12, 2, 1, 4, 2, 5, 7, 3, 3, 8, 4, 3, 4, 5, 8, 7, 5, 13, 1, 3, 5, 5, 3, 3, 1, 5, 3, 7, 8, 6, 3, 13, 5, 1, 1, 5, 6, 4, 7, 2, 2, 3, 3, 4, 3, 4, 4, 4, 5, 4, 3, 4, 4, 4, 2, 4, 5, 2, 2, 6, 2, 6, 4, 7, 4, 4, 4, 6, 4, 8, 6, 6, 8, 7, 2, 4, 4, 4, 3, 5, 4, 2, 8, 5, 4, 3, 1, 7, 4, 5, 4, 7, 3, 5, 1, 8, 12, 4, 3, 7, 5, 8, 5, 3, 1, 5, 5, 6, 3, 3, 2, 5, 3, 5, 2, 4, 5, 3, 6, 6, 5, 3, 6, 4, 1, 2, 9, 2, 4, 2, 4, 4, 5, 5, 8, 5, 1, 3, 3, 9, 5, 5, 9, 5, 8, 4, 2, 4, 6, 3, 7, 1, 4, 4, 1, 3, 2, 3, 5, 3, 6, 6, 4, 3, 3, 5, 6, 8, 8, 6, 6, 5, 2, 10, 3, 8, 6, 6, 5, 2, 1, 4, 1, 4, 5, 10, 4, 5, 5, 2, 1, 4, 4, 3, 4, 6, 5, 6, 8, 5, 3, 5, 5, 2, 8, 1, 4, 2, 6, 2, 4, 3, 6, 4, 6, 1, 3, 6, 3, 3, 5, 4, 7, 2, 7, 11, 2, 5, 4, 3, 1, 3, 2, 3, 4, 5, 6, 3, 4, 2, 3, 3, 2, 4, 6, 3, 4, 4, 4, 6, 4, 4, 5, 2, 5, 4, 8, 8, 2, 4, 4, 6, 3, 3, 2, 6, 3, 1, 4, 4, 4, 3, 3, 2, 4, 1, 4, 2, 3, 4, 3, 8, 2, 6, 1, 3, 7, 2, 1, 3, 10, 2, 7, 11, 4, 3, 3, 4, 3, 2, 1, 10, 2, 1, 3, 4, 2, 6, 5, 5, 3, 6, 2, 8, 6, 3, 2, 4, 3, 4, 2, 3, 4, 3, 3, 1, 5, 7, 1, 5, 6, 3, 4, 3, 5, 4, 2, 1, 9, 5, 1, 3, 3, 1, 6, 8, 5, 2, 1, 7, 3, 5, 4, 9, 5, 1, 4, 5, 2, 2, 4, 10, 3, 4, 4, 5, 1, 2, 3, 3, 2, 3, 8, 2, 2, 4, 4, 3, 3, 7, 3, 5, 7, 4, 5, 7, 2, 2, 5, 2, 4, 5, 11, 9, 5, 7, 9, 3, 5, 5, 2, 4, 5, 8, 2, 5, 3, 8, 3, 3, 4, 8, 7, 5, 2, 2, 4, 2, 4, 2, 6, 2, 7, 4, 6, 3, 4, 7, 2, 2, 10, 19, 4, 6, 8, 5, 4, 2, 4, 5, 4, 5, 3, 1, 3, 5, 2, 3, 3, 5, 3, 4, 1, 2, 5, 2, 6, 4, 4, 2, 2, 2, 6, 7, 4, 5, 7, 3, 1, 7, 9, 1, 5, 4, 2, 1, 6, 2, 5, 2, 1, 4, 5, 5, 4, 6, 3, 4, 1, 3, 4, 1, 6, 3, 5, 5, 6, 2, 2, 11, 2, 6, 13, 2, 4, 5, 3, 2, 4, 6, 5, 6, 6, 4, 4, 4, 3, 3, 6, 5, 2, 3, 6, 5, 6, 3, 3, 3, 4, 1, 2, 1, 5, 3, 2, 3, 8, 5, 5, 2, 6, 1, 2, 9, 3, 5, 5, 3, 4, 3, 4, 5, 4, 5, 6, 4, 10, 5, 4, 3, 4, 2, 4, 4, 5, 7, 3, 3, 3, 4, 2, 5, 2, 5, 7, 1, 9, 7, 3, 4, 6, 7, 7, 5, 4, 2, 1, 3, 5, 5, 5, 3, 3, 5, 2, 3, 5, 4, 4, 6, 3, 6, 6, 6, 5, 7, 7, 3, 4, 4, 5, 3, 1, 8, 8, 9, 3, 2, 2, 9, 4, 2, 9, 3, 4, 8, 3, 5, 2, 2, 4, 3, 6, 6, 5, 3, 3, 2, 4, 2, 2, 6, 5, 4, 3, 2, 6, 4, 2, 2, 10, 6, 3, 3, 3, 3, 3, 3, 2, 2, 2, 3, 1, 2, 2, 6, 6, 4, 3, 1, 7, 1, 10, 5, 4, 9, 5, 9, 5, 3, 3, 7, 6, 4, 6, 4, 3, 3, 9, 2, 4, 5, 6, 3, 2, 7, 5, 2, 1, 4, 2, 7, 5, 3, 5, 5, 6, 5, 2, 1, 4, 1, 4, 7, 2, 1, 2, 3, 8, 1, 4, 3, 3, 1, 1, 3, 7, 3, 12, 2, 5, 4, 4, 2, 1, 3, 8, 3, 3, 2, 2, 2, 2, 7, 4, 2, 4, 4, 2, 4, 11, 1, 9, 3, 7, 9, 2, 6, 2, 1, 6, 6, 3, 6, 1, 8, 4, 2, 4, 3, 3, 4, 2, 5, 3, 3, 4, 1, 2, 8, 9, 7, 2, 8, 4, 5, 3, 4, 1, 3, 4, 7, 4, 2, 7, 5, 3, 3, 3, 3, 8, 1, 4, 2, 2, 2, 6, 2, 3, 6, 5, 5, 6, 5, 1, 3, 5, 2, 3, 2, 4, 5, 4, 6, 4, 5, 3, 7, 8, 8, 2, 3, 4, 1, 4, 7, 6, 4, 2, 4, 2, 1, 4, 10, 2, 7, 7, 1, 4, 1, 5, 7, 5, 1, 5, 6, 6, 1, 2, 6, 2, 1, 4, 4, 2, 2, 8, 2, 1, 4, 1, 3, 8, 7, 5, 5, 9, 1, 5, 5, 3, 4, 3, 5, 5, 6, 4, 3, 3, 5, 5, 8, 3, 6, 2, 5, 2, 1, 1, 2, 5, 2, 3, 2, 5, 4, 2, 3, 4, 5, 5, 5, 10, 2, 7, 2, 4, 5, 3, 4, 1, 4, 5, 2, 5, 7, 6, 5, 5, 2, 4, 5, 4, 5, 3, 5, 3, 4, 2, 2, 4, 6, 4, 8, 3, 3, 5, 6, 2, 4, 4, 5, 5, 6, 2, 3, 4, 8, 4, 3, 5, 8, 2, 2, 3, 5, 4, 6, 10, 6, 3, 5, 1, 7, 7, 6, 2, 1, 7, 7, 1, 11, 8, 7, 4, 5, 4, 2, 5, 6, 4, 6, 5, 5, 3, 2, 5, 10, 3, 2, 2, 7, 3, 2, 3, 2, 4, 4, 4, 5, 5, 3, 5, 4, 1, 2, 3, 2, 2, 1, 2, 3, 2, 3, 6, 4, 7, 4, 4, 3, 2, 4, 7, 2, 5, 2, 6, 1, 5, 4, 5, 5, 4, 6, 1, 6, 4, 3, 5, 4, 3, 5, 5, 7, 3, 4, 8, 7, 2, 2, 2, 3, 7, 2, 4, 3, 2, 2, 5, 4, 6, 2, 4, 3, 5, 4, 6, 6, 8, 4, 2, 11, 7, 4, 1, 1, 6, 2, 9, 6, 8, 11, 6, 5, 5, 4, 4, 2, 6, 7, 1, 4, 2, 2, 1, 2, 5, 5, 5, 2, 3, 3, 1, 4, 2, 2, 4, 2, 4, 5, 5, 8, 6, 4, 1, 8, 2, 7, 1, 6, 2, 2, 3, 1, 1, 7, 4, 6, 8, 6, 5, 6, 2, 1, 2, 2, 8, 3, 8, 5, 5, 6, 3, 2, 5, 4, 4, 2, 2, 3, 2, 1, 6, 1, 3, 7, 1, 2, 5, 2, 9, 2, 2, 13, 13, 3, 10, 2, 6, 5, 2, 5, 2, 3, 6, 5, 2, 8, 11, 2, 8, 3, 1, 9, 4, 3, 4, 10, 3, 1, 7, 2, 2, 4, 4, 5, 5, 5, 5, 5, 5, 5, 6, 1, 6, 2, 3, 4, 6, 6, 1, 1, 4, 6, 10, 7, 11, 10, 5, 4, 6, 7, 6, 3, 7, 10, 6, 5, 4, 1, 3, 6, 1, 4, 6, 4, 5, 2, 2, 2, 5, 6, 3, 5, 7, 5, 3, 4, 8, 6, 9, 3, 7, 1, 4, 6, 1, 4, 5, 5, 3, 5, 2, 5, 7, 3, 4, 4, 5, 3, 5, 5, 3, 4, 1, 7, 1, 3, 2, 2, 1, 7, 6, 3, 3, 5, 1, 7, 3, 3, 3, 2, 4, 2, 1, 7, 2, 5, 5, 2, 4, 3, 6, 4, 3, 2, 6, 5, 8, 2, 4, 1, 6, 6, 5, 4, 7, 6, 3, 3, 2, 2, 5, 6, 5, 5, 3, 4, 2, 3, 5, 6, 4, 6, 3, 6, 4, 6, 3, 5, 5, 5, 2, 1, 2, 3, 4, 3, 3, 3, 1, 4, 5, 9, 3, 5, 2, 5, 9, 3, 7, 3, 2, 11, 4, 6, 5, 5, 3, 4, 8, 5, 3, 1, 2, 7, 9, 2, 6, 3, 1, 2, 3, 4, 4, 3, 3, 2, 8, 2, 2, 9, 4, 6, 3, 3, 3, 6, 4, 6, 6, 6, 7, 6, 1, 2, 2, 5, 5, 4, 1, 5, 1, 7, 5, 7, 5, 3, 4, 6, 2, 2, 6, 1, 5, 1, 6, 2, 5, 1, 7, 8, 3, 1, 3, 3, 2, 5, 2, 12, 1, 5, 3, 3, 2, 2, 4, 3, 11, 4, 6, 9, 4, 6, 4, 8, 6, 7, 4, 9, 1, 6, 8, 1, 3, 5, 5, 5, 3, 5, 4, 5, 3, 7, 1, 2, 6, 3, 2, 3, 4, 2, 2, 7, 5, 2, 9, 7, 5, 3, 8, 3, 7, 5, 2, 2, 2, 3, 4, 4, 6, 3, 10, 3, 4, 5, 1, 4, 2, 6, 7, 2, 3, 5, 3, 4, 2, 8, 2, 9, 7, 3, 8, 3, 2, 5, 7, 1, 7, 8, 9, 1, 2, 2, 1, 3, 2, 5, 2, 2, 11, 3, 4, 2, 3, 2, 4, 3, 2, 3, 5, 1, 3, 3, 6, 3, 2, 2, 9, 5, 7, 10, 11, 5, 2, 8, 1, 2, 10, 4, 3, 3, 5, 4, 9, 3, 8, 4, 2, 2, 11, 4, 2, 2, 5, 6, 5, 3, 5, 4, 4, 4, 4, 3, 3, 6, 6, 6, 9, 10, 5, 3, 6, 4, 5, 5, 6, 3, 1, 3, 6, 3, 3, 1, 6, 1, 5, 4, 5, 2, 4, 4, 4, 2, 4, 10, 1, 4, 5, 4, 5, 4, 3, 16, 6, 3, 6, 5, 11, 8, 6, 4, 5, 10, 3, 4, 2, 3, 8, 2, 3, 4, 5, 3, 2, 1, 1, 4, 5, 7, 4, 4, 7, 3, 6, 2, 4, 3, 3, 4, 3, 10, 8, 6, 2, 2, 4, 1, 4, 4, 2, 1, 4, 4, 4, 2, 3, 1, 8, 3, 2, 6, 5, 3, 3, 6, 6, 8, 5, 6, 4, 8, 4, 4, 6, 2, 3, 2, 5, 2, 2, 2, 7, 9, 7, 7, 8, 3, 3, 4, 1, 6, 5, 5, 3, 4, 3, 2, 2, 1, 4, 6, 4, 4, 1, 9, 2, 16, 3, 8, 3, 3, 2, 7, 2, 5, 3, 8, 6, 6, 5, 4, 6, 5, 4, 3, 8, 2, 5, 4, 4, 2, 2, 2, 5, 5, 5, 1, 5, 3, 5, 2, 2, 3, 4, 5, 9, 8, 7, 4, 3, 3, 6, 4, 7, 4, 5, 6, 5, 7, 8, 2, 5, 3, 3, 4, 8, 3, 4, 3, 1, 6, 4, 1, 7, 5, 1, 2, 3, 2, 4, 7, 2, 4, 8, 7, 7, 7, 5, 9, 5, 7, 5, 7, 5, 2, 9, 6, 2, 3, 6, 10, 3, 5, 4, 2, 6, 3, 1, 1, 3, 3, 3, 3, 6, 2, 4, 5, 9, 4, 5, 3, 4, 3, 4, 5, 7, 6, 5, 5, 1, 4, 4, 7, 8, 1, 8, 5, 6, 8, 3, 3, 4, 5, 4, 1, 2, 8, 5, 5, 2, 2, 5, 7, 1, 6, 4, 3, 3, 4, 3, 2, 4, 3, 5, 4, 2, 3, 5, 5, 2, 5, 4, 2, 7, 2, 1, 7, 7, 6, 7, 3, 6, 6, 4, 7, 1, 4, 1, 3, 8, 5, 3, 6, 6, 3, 3, 4, 1, 7, 7, 4, 1, 6, 4, 5, 7, 3, 6, 3, 8, 5, 6, 5, 3, 9, 5, 3, 7, 6, 5, 2, 2, 2, 5, 2, 2, 2, 2, 2, 3, 4, 3, 3, 4, 1, 2, 5, 3, 5, 6, 2, 7, 5, 4, 6, 4, 4, 9, 11, 3, 7, 10, 2, 3, 1, 1, 1, 8, 2, 6, 2, 5, 7, 2, 2, 2, 2, 5, 7, 8, 3, 1, 3, 5, 6, 4, 6, 3, 2, 8, 1, 5, 4, 4, 6, 6, 3, 6, 5, 2, 2, 7, 7, 4, 2, 5, 1, 3, 3, 2, 6, 4, 7, 4, 3, 7, 7, 3, 11, 4, 3, 2, 8, 2, 2, 3, 5, 5, 3, 2, 6, 1, 5, 7, 5, 6, 1, 11, 2, 8, 1, 14, 1, 5, 2, 3, 4, 2, 4, 4, 6, 2, 8, 1, 7, 2, 1, 2, 1, 4, 4, 3, 4, 7, 5, 3, 3, 2, 9, 7, 7, 1, 2, 4, 7, 4, 7, 3, 1, 4, 2, 6, 6, 2, 1, 4, 2, 8, 5, 1, 8, 9, 4, 5, 4, 4, 3, 2, 9, 2, 4, 4, 6, 7, 4, 3, 4, 2, 5, 6, 3, 4, 4, 3, 5, 3, 3, 4, 6, 6, 5, 4, 1, 2, 3, 3, 1, 13, 3, 7, 1, 4, 3, 3, 3, 4, 2, 4, 4, 8, 4, 7, 9, 6, 9, 3, 3, 6, 3, 4, 6, 6, 5, 4, 8, 2, 2, 1, 5, 2, 2, 2, 1, 7, 5, 5, 6, 4, 7, 4, 6, 3, 6, 2, 4, 4, 3, 6, 3, 10, 5, 2, 7, 3, 7, 6, 4, 8, 1, 11, 6, 4, 7, 5, 2, 2, 1, 3, 6, 5, 4, 2, 8, 6, 5, 3, 2, 2, 6, 9, 4, 2, 4, 7, 3, 6, 2, 7, 3, 4, 3, 2, 3, 2, 1, 1, 5, 3, 9, 7, 1, 2, 1, 2, 7, 2, 4, 13, 8, 7, 4, 4, 3, 6, 1, 5, 7, 5, 11, 3, 2, 4, 5, 1, 5, 3, 3, 5, 6, 5, 3, 7, 5, 7, 7, 5, 8, 6, 2, 5, 7, 5, 6, 5, 3, 3, 1, 5, 2, 5, 5, 4, 2, 5, 3, 12, 4, 3, 5, 4, 3, 3, 3, 1, 6, 9, 4, 5, 4, 7, 1, 4, 3, 4, 3, 9, 3, 6, 3, 3, 9, 1, 3, 1, 2, 3, 2, 13, 6, 5, 5, 4, 5, 4, 5, 8, 5, 7, 4, 5, 2, 1, 6, 5, 6, 1, 1, 3, 1, 2, 3, 10, 9, 2, 5, 2, 8, 4, 2, 3, 5, 5, 6, 6, 9, 13, 2, 10, 5, 5, 2, 3, 3, 8, 4, 3, 7, 5, 7, 3, 8, 7, 1, 2, 5, 2, 2, 4, 9, 3, 1, 2, 5, 1, 6, 3, 3, 2, 4, 10, 9, 7, 7, 7, 6, 1, 2, 2, 2, 2, 6, 3, 8, 5, 8, 3, 4, 6, 6, 12, 2, 2, 5, 3, 2, 7, 8, 3, 3, 14, 6, 2, 1, 2, 2, 3, 3, 5, 1, 4, 4, 4, 1, 3, 4, 2, 3, 6, 1, 4, 4, 5, 2, 3, 8, 7, 6, 16, 8, 4, 1, 5, 5, 9, 5, 3, 3, 6, 2, 5, 4, 1, 7, 2, 2, 5, 1, 3, 4, 1, 4, 5, 3, 3, 7, 4, 4, 7, 3, 6, 2, 8, 2, 5, 6, 3, 5, 3, 8, 3, 5, 4, 2, 6, 6, 1, 6, 4, 5, 3, 4, 3, 3, 13, 6, 3, 10, 1, 2, 4, 2, 4, 3, 3, 4, 3, 8, 4, 1, 4, 6, 1, 6, 5, 2, 2, 2, 5, 6, 8, 3, 4, 2, 2, 7, 2, 4, 5, 2, 3, 4, 4, 5, 11, 1, 6, 3, 6, 6, 3, 1, 3, 4, 1, 3, 6, 4, 2, 2, 2, 4, 2, 6, 2, 5, 15, 5, 1, 5, 4, 6, 4, 3, 6, 2, 1, 2, 4, 2, 3, 2, 1, 7, 6, 3, 5, 4, 2, 4, 1, 6, 5, 5, 5, 5, 7, 2, 7, 3, 5, 4, 4, 2, 9, 1, 4, 2, 8, 4, 4, 1, 2, 2, 5, 6, 5, 4, 4, 4, 4, 2, 4, 8, 3, 1, 7, 7, 8, 5, 2, 9, 2, 2, 3, 2, 7, 3, 4, 6, 3, 9, 2, 5, 5, 3, 1, 3, 2, 7, 6, 3, 2, 4, 4, 2, 2, 5, 3, 1, 4, 1, 3, 3, 2, 7, 6, 1, 3, 6, 7, 3, 3, 5, 4, 3, 5, 4, 6, 8, 7, 2, 3, 6, 4, 6, 2, 4, 6, 5, 2, 2, 4, 7, 1, 1, 5, 7, 5, 1, 2, 15, 5, 4, 4, 5, 4, 7, 5, 2, 6, 7, 8, 2, 1, 3, 3, 2, 5, 5, 5, 3, 3, 10, 2, 6, 3, 1, 4, 5, 3, 1, 7, 3, 8, 3, 1, 4, 5, 3, 4, 4, 4, 9, 1, 1, 3, 5, 5, 3, 3, 4, 3, 5, 4, 2, 3, 5, 5, 9, 4, 4, 4, 3, 4, 4, 14, 2, 8, 6, 5, 4, 6, 4, 3, 1, 6, 4, 8, 3, 8, 7, 5, 2, 3, 6, 5, 7, 12, 2, 1, 4, 6, 3, 5, 2, 5, 3, 5, 4, 6, 2, 3, 7, 7, 3, 2, 2, 3, 6, 1, 3, 7, 1, 4, 4, 1, 8, 1, 5, 5, 7, 3, 3, 6, 2, 5, 5, 5, 6, 6, 5, 7, 4, 1, 9, 4, 4, 4, 6, 4, 6, 1, 3, 2, 1, 3, 2, 3, 4, 2, 2, 2, 1, 4, 11, 2, 4, 5, 4, 4, 5, 3, 6, 5, 4, 5, 7, 8, 2, 5, 8, 6, 3, 4, 4, 2, 1, 1, 4, 1, 3, 2, 2, 5, 6, 8, 4, 2, 5, 4, 2, 6, 3, 9, 2, 2, 6, 6, 3, 7, 6, 8, 3, 1, 3, 4, 8, 2, 6, 3, 8, 5, 3, 3, 4, 7, 3, 1, 1, 2, 3, 2, 2, 1, 8, 5, 3, 4, 1, 3, 1, 1, 3, 5, 4, 11, 9, 3, 10, 4, 4, 4, 6, 8, 5, 4, 4, 3, 4, 3, 5, 5, 9, 2, 3, 3, 6, 5, 7, 5, 9, 5, 4, 3, 3, 2, 1, 8, 5, 4, 6, 5, 2, 1, 6, 8, 8, 1, 5, 8, 10, 2, 2, 3, 8, 1, 12, 4, 1, 3, 4, 5, 2, 4, 4, 8, 7, 8, 6, 7, 3, 2, 2, 9, 4, 7, 9, 7, 4, 6, 6, 6, 4, 5, 6, 6, 4, 2, 5, 9, 7, 8, 6, 5, 4, 7, 6, 2, 8, 2, 6, 6, 7, 3, 4, 1, 5, 6, 1, 9, 4, 6, 7, 4, 3, 3, 2, 4, 1, 4, 2, 4, 6, 7, 1, 5, 1, 7, 5, 3, 9, 4, 2, 4, 3, 10, 4, 3, 1, 3, 1, 5, 6, 4, 6, 3, 3, 1, 7, 3, 3, 1, 6, 5, 3, 5, 1, 8, 11, 2, 3, 5, 3, 4, 5, 6, 3, 2, 7, 3, 9, 6, 7, 3, 4, 1, 10, 6, 4, 2, 1, 4, 12, 3, 1, 3, 8, 5, 2, 2, 6, 2, 3, 6, 6, 7, 6, 5, 6, 4, 3, 5, 3, 3, 2, 3, 3, 5, 1, 4, 5, 6, 3, 3, 2, 7, 9, 2, 6, 2, 4, 5, 5, 2, 4, 4, 2, 7, 4, 1, 1, 2, 3, 3, 13, 1, 3, 3, 5, 6, 7, 1, 10, 8, 4, 2, 8, 7, 5, 5, 6, 6, 4, 2, 3, 4, 1, 3, 5, 1, 1, 1, 8, 2, 4, 5, 8, 4, 3, 3, 8, 3, 7, 2, 8, 8, 2, 5, 3, 5, 5, 6, 6, 4, 4, 4, 5, 1, 7, 7, 5, 6, 6, 11, 5, 4, 6, 5, 4, 1, 1, 6, 3, 3, 7, 3, 6, 7, 2, 7, 7, 2, 5, 3, 9, 7, 3, 3, 4, 3, 7, 5, 9, 7, 4, 3, 5, 2, 6, 3, 5, 2, 3, 6, 7, 6, 5, 2, 5, 2, 4, 2, 6, 3, 6, 1, 7, 6, 3, 6, 6, 5, 1, 4, 5, 2, 3, 3, 3, 5, 2, 5, 2, 4, 7, 9, 16, 6, 4, 3, 2, 4, 3, 2, 2, 2, 5, 8, 6, 1, 1, 4, 4, 13, 4, 9, 4, 2, 7, 5, 5, 7, 3, 4, 8, 8, 4, 1, 11, 5, 1, 10, 5, 6, 1, 3, 7, 1, 11, 2, 6, 1, 1, 6, 4, 5, 2, 6, 6, 4, 6, 4, 3, 2, 2, 9, 8, 4, 2, 5, 6, 5, 4, 2, 4, 1, 5, 2, 3, 4, 8, 2, 1, 12, 9, 4, 2, 1, 5, 3, 3, 6, 4, 5, 2, 3, 3, 2, 4, 4, 8, 8, 1, 4, 4, 5, 1, 4, 4, 5, 4, 5, 2, 4, 9, 5, 1, 2, 6, 2, 2, 9, 3, 3, 6, 7, 3, 8, 5, 1, 2, 4, 3, 5, 4, 1, 4, 2, 9, 2, 5, 5, 2, 4, 10, 1, 4, 1, 5, 1, 5, 2, 3, 7, 2, 4, 4, 2, 5, 2, 5, 2, 9, 4, 3, 4, 4, 5, 2, 6, 6, 4, 6, 3, 5, 2, 4, 8, 3, 2, 2, 4, 4, 2, 3, 4, 7, 6, 5, 4, 5, 4, 7, 5, 5, 4, 4, 7, 1, 5, 3, 3, 3, 3, 4, 9, 2, 3, 6, 2, 5, 3, 8, 9, 3, 1, 6, 3, 5, 2, 3, 6, 2, 9, 3, 4, 4, 2, 5, 2, 7, 8, 1, 1, 3, 2, 9, 1, 4, 6, 7, 3, 4, 3, 5, 1, 4, 7, 6, 5, 4, 3, 2, 3, 3, 7, 1, 5, 2, 5, 6, 1, 6, 3, 9, 5, 2, 11, 7, 5, 9, 3, 5, 5, 2, 9, 9, 2, 1, 6, 6, 2, 8, 5, 5, 4, 5, 3, 4, 6, 11, 8, 2, 9, 3, 6, 1, 5, 1, 1, 6, 4, 5, 5, 3, 5, 10, 5, 2, 3, 6, 3, 8, 5, 8, 3, 1, 1, 5, 5, 4, 6, 5, 3, 4, 2, 9, 1, 2, 2, 2, 5, 2, 6, 3, 5, 2, 2, 7, 7, 1, 7, 3, 7, 2, 3, 2, 6, 3, 1, 13, 3, 5, 10, 9, 3, 3, 1, 5, 3, 3, 2, 6, 2, 3, 5, 4, 2, 1, 5, 3, 2, 3, 5, 2, 1, 6, 2, 1, 2, 4, 2, 4, 1, 6, 7, 5, 7, 3, 2, 5, 6, 2, 1, 3, 5, 10, 6, 2, 4, 5, 2, 2, 6, 3, 1, 3, 3, 2, 4, 1, 6, 4, 6, 5, 4, 1, 5, 3, 2, 4, 9, 3, 3, 9, 5, 4, 5, 4, 1, 3, 4, 2, 9, 4, 1, 1, 4, 1, 4, 4, 2, 1, 3, 5, 3, 4, 6, 11, 3, 8, 3, 7, 3, 4, 3, 6, 3, 1, 5, 7, 4, 5, 4, 4, 1, 5, 6, 1, 2, 2, 1, 1, 6, 7, 7, 2, 4, 6, 5, 4, 7, 12, 5, 5, 1, 4, 4, 6, 2, 2, 7, 1, 8, 1, 11, 5, 4, 2, 5, 2, 3, 3, 4, 2, 2, 6, 4, 2, 6, 3, 3, 5, 2, 5, 4, 3, 1, 1, 3, 3, 1, 1, 5, 7, 3, 3, 9, 7, 4, 3, 4, 8, 1, 8, 4, 4, 2, 4, 4, 2, 5, 2, 1, 3, 7, 4, 2, 2, 5, 5, 5, 3, 1, 2, 6, 2, 12, 3, 6, 2, 2, 4, 2, 8, 7, 7, 5, 4, 1, 2, 4, 4, 4, 8, 13, 8, 3, 6, 7, 5, 4, 5, 7, 3, 5, 5, 4, 4, 5, 4, 6, 8, 7, 2, 2, 8, 3, 5, 5, 1, 3, 9, 2, 6, 6, 5, 4, 12, 5, 3, 7, 16, 2, 2, 4, 5, 6, 3, 1, 2, 6, 6, 2, 2, 6, 2, 2, 8, 1, 2, 3, 4, 2, 2, 4, 4, 6, 3, 2, 3, 2, 5, 4, 4, 5, 5, 6, 7, 4, 4, 6, 7, 4, 5, 5, 2, 5, 5, 10, 8, 1, 5, 6, 3, 7, 4, 5, 7, 3, 8, 3, 5, 6, 5, 9, 3, 9, 3, 3, 2, 1, 3, 1, 4, 10, 2, 4, 1, 6, 4, 3, 5, 6, 1, 3, 8, 1, 2, 2, 3, 4, 5, 2, 7, 5, 9, 2, 4, 1, 1, 4, 6, 4, 2, 1, 3, 3, 2, 4, 2, 2, 3, 6, 4, 4, 3, 6, 8, 3, 7, 7, 2, 2, 2, 4, 8, 3, 3, 3, 4, 3, 12, 11, 6, 2, 6, 4, 6, 5, 2, 7, 5, 2, 7, 2, 7, 5, 8, 7, 2, 2, 5, 6, 4, 8, 2, 2, 1, 8, 3, 6, 5, 4, 6, 6, 1, 3, 4, 4, 8, 4, 3, 5, 7, 6, 7, 6, 2, 2, 4, 4, 3, 7, 1, 2, 4, 7, 4, 5, 1, 2, 1, 1, 2, 9, 6, 2, 6, 1, 3, 4, 6, 2, 5, 9, 2, 5, 1, 2, 3, 2, 3, 5, 6, 6, 3, 6, 3, 1, 6, 6, 3, 5, 3, 4, 2, 2, 5, 11, 3, 7, 4, 9, 7, 3, 3, 6, 2, 3, 2, 2, 2, 9, 2, 5, 3, 6, 2, 2, 3, 7, 3, 2, 7, 3, 1, 2, 2, 5, 7, 10, 3, 2, 1, 3, 8, 6, 3, 2, 6, 2, 5, 5, 5, 4, 4, 9, 4, 1, 10, 6, 5, 6, 13, 1, 2, 4, 2, 4, 6, 4, 3, 1, 5, 5, 5, 3, 2, 1, 2, 7, 7, 8, 3, 2, 6, 8, 5, 8, 3, 3, 2, 5, 3, 2, 2, 7, 4, 5, 5, 3, 2, 3, 5, 2, 2, 8, 3, 2, 2, 2, 8, 5, 8, 2, 2, 1, 6, 1, 5, 1, 2, 7, 5, 2, 4, 3, 7, 1, 8, 2, 5, 6, 4, 1, 10, 4, 5, 5, 5, 3, 2, 1, 2, 9, 4, 1, 5, 7, 3, 10, 4, 9, 8, 8, 3, 2, 2, 3, 13, 4, 9, 7, 1, 4, 9, 4, 2, 5, 5, 2, 5, 4, 3, 7, 5, 1, 5, 4, 2, 3, 5, 5, 3, 3, 3, 3, 6, 1, 5, 6, 2, 8, 3, 10, 1, 4, 2, 6, 5, 4, 4, 2, 2, 2, 8, 8, 8, 4, 1, 3, 6, 5, 3, 7, 7, 5, 6, 2, 5, 10, 3, 2, 4, 3, 4, 3, 2, 2, 7, 5, 1, 3, 2, 1, 6, 5, 6, 2, 2, 3, 3, 6, 1, 2, 2, 1, 2, 6, 3, 7, 4, 10, 1, 3, 10, 1, 13, 8, 4, 6, 6, 7, 1, 1, 6, 6, 1, 4, 6, 5, 5, 2, 3, 4, 5, 1, 4, 6, 1, 4, 3, 4, 1, 3, 3, 6, 6, 2, 7, 7, 6, 2, 3, 2, 3, 7, 4, 5, 4, 2, 2, 8, 7, 5, 5, 5, 4, 2, 10, 5, 3, 5, 6, 1, 2, 1, 2, 4, 3, 5, 4, 5, 7, 2, 5, 2, 2, 2, 4, 3, 4, 4, 3, 1, 2, 3, 1, 5, 3, 4, 1, 6, 1, 9, 4, 1, 5, 3, 5, 5, 3, 8, 6, 4, 2, 5, 5, 8, 6, 4, 3, 2, 4, 2, 2, 4, 1, 3, 6, 6, 7, 3, 4, 3, 3, 2, 6, 6, 4, 4, 4, 6, 6, 5, 3, 5, 4, 2, 3, 4, 1, 7, 6, 4, 6, 4, 6, 3, 4, 3, 5, 1, 5, 12, 3, 2, 6, 2, 2, 3, 7, 5, 4, 8, 8, 3, 4, 10, 4, 5, 5, 8, 1, 3, 5, 5, 6, 1, 1, 3, 6, 2, 3, 5, 8, 3, 6, 5, 5, 2, 3, 4, 2, 5, 3, 6, 6, 4, 6, 5, 6, 4, 7, 2, 9, 5, 2, 12, 4, 3, 8, 2, 7, 4, 1, 4, 8, 2, 5, 5, 4, 5, 8, 3, 1, 4, 5, 7, 5, 4, 3, 4, 7, 3, 6, 3, 8, 6, 8, 6, 2, 4, 2, 5, 2, 13, 1, 6, 5, 6, 2, 1, 4, 4, 8, 3, 7, 1, 9, 4, 6, 2, 3, 3, 2, 3, 5, 5, 1, 1, 7, 4, 2, 8, 8, 5, 1, 6, 4, 3, 11, 4, 10, 6, 3, 6, 6, 4, 3, 8, 6, 6, 5, 2, 2, 6, 4, 2, 2, 4, 7, 5, 5, 7, 7, 4, 5, 2, 2, 1, 5, 6, 1, 4, 5, 6, 2, 4, 2, 2, 4, 4, 2, 2, 6, 8, 4, 8, 7, 5, 4, 1, 4, 7, 6, 3, 7, 3, 2, 7, 3, 4, 6, 3, 1, 4, 5, 6, 7, 7, 4, 2, 5, 6, 5, 9, 6, 2, 9, 2, 10, 1, 4, 4, 5, 4, 2, 2, 1, 2, 3, 9, 3, 3, 5, 4, 5, 6, 4, 1, 3, 4, 3, 1, 4, 8, 5, 2, 3, 7, 3, 5, 2, 8, 3, 4, 2, 3, 5, 2, 2, 2, 2, 1, 4, 2, 4, 6, 7, 6, 7, 1, 1, 3, 1, 2, 3, 9, 1, 6, 7, 1, 6, 4, 3, 2, 6, 6, 9, 4, 7, 3, 5, 2, 6, 2, 6, 5, 4, 8, 2, 3, 3, 2, 3, 4, 2, 7, 5, 4, 2, 10, 5, 5, 11, 5, 7, 7, 3, 4, 7, 3, 4, 3, 5, 2, 2, 1, 3, 5, 4, 5, 3, 6, 2, 6, 2, 2, 3, 5, 10, 5, 2, 2, 5, 3, 4, 4, 10, 4, 4, 3, 6, 3, 3, 3, 3, 11, 5, 3, 6, 11, 2, 2, 3, 11, 3, 4, 2, 5, 13, 4, 4, 2, 6, 5, 2, 3, 5, 6, 4, 6, 6, 2, 3, 2, 2, 4, 2, 2, 1, 1, 5, 7, 3, 2, 10, 6, 2, 4, 1, 3, 2, 3, 5, 11, 1, 4, 4, 2, 2, 1, 2, 1, 5, 2, 5, 2, 3, 3, 1, 7, 8, 5, 2, 1, 7, 2, 7, 2, 4, 4, 1, 4, 1, 6, 5, 2, 2, 6, 5, 2, 2, 5, 4, 5, 6, 4, 2, 2, 3, 6, 3, 1, 6, 1, 1, 2, 1, 3, 6, 9, 7, 4, 2, 3, 1, 1, 7, 1, 6, 5, 4, 9, 2, 2, 2, 5, 4, 8, 2, 3, 4, 1, 2, 5, 4, 7, 5, 8, 5, 10, 4, 2, 7, 4, 4, 7, 4, 2, 2, 9, 2, 5, 3, 5, 6, 5, 7, 4, 2, 4, 3, 5, 5, 5, 5, 4, 1, 1, 4, 2, 5, 9, 3, 6, 4, 3, 3, 3, 3, 3, 1, 2, 5, 5, 1, 2, 1, 1, 4, 6, 4, 4, 2, 2, 3, 1, 1, 4, 3, 3, 2, 1, 7, 8, 7, 5, 3, 7, 2, 1, 3, 4, 1, 3, 7, 7, 2, 6, 7, 4, 1, 1, 3, 3, 4, 1, 4, 7, 1, 2, 1, 2, 4, 2, 4, 2, 7, 8, 2, 2, 4, 5, 3, 9, 6, 2, 3, 7, 6, 7, 2, 2, 7, 6, 8, 5, 1, 6, 1, 5, 5, 6, 4, 5, 5, 8, 7, 2, 5, 7, 3, 2, 12, 4, 11, 3, 3, 1, 2, 5, 8, 3, 4, 7, 4, 2, 4, 2, 10, 3, 3, 2, 5, 4, 13, 5, 1, 2, 6, 3, 1, 6, 3, 6, 2, 3, 5, 15, 4, 4, 1, 5, 3, 5, 5, 1, 5, 5, 10, 2, 10, 4, 2, 2, 4, 6, 5, 7, 3, 3, 5, 2, 2, 6, 4, 2, 3, 7, 2, 2, 4, 7, 3, 10, 4, 3, 2, 3, 7, 1, 5, 2, 3, 3, 2, 2, 2, 3, 4, 2, 2, 7, 3, 2, 3, 6, 6, 4, 8, 3, 5, 4, 5, 2, 9, 6, 8, 3, 8, 4, 3, 5, 8, 5, 6, 4, 6, 5, 6, 2, 2, 3, 6, 4, 1, 9, 6, 3, 9, 6, 5, 4, 8, 6, 5, 6, 8, 4, 3, 4, 6, 3, 6, 11, 3, 3, 4, 4, 2, 2, 1, 2, 1, 6, 3, 9, 4, 5, 9, 5, 9, 6, 10, 3, 1, 5, 7, 4, 5, 6, 5, 3, 4, 3, 3, 3, 2, 1, 4, 8, 8, 5, 4, 5, 4, 9, 1, 2, 2, 5, 5, 2, 5, 2, 3, 4, 4, 6, 3, 3, 3, 6, 2, 13, 6, 2, 5, 3, 6, 4, 8, 5, 4, 8, 3, 7, 4, 7, 3, 2, 5, 4, 3, 3, 3, 4, 4, 5, 6, 2, 2, 5, 4, 5, 2, 3, 6, 5, 2, 4, 6, 3, 2, 6, 3, 4, 3, 2, 6, 4, 2, 2, 1, 3, 6, 5, 4, 2, 7, 6, 2, 3, 6, 7, 2, 7, 6, 2, 5, 5, 5, 1, 3, 3, 3, 5, 5, 3, 3, 4, 7, 3, 1, 3, 9, 4, 6, 2, 3, 3, 3, 3, 3, 8, 5, 2, 5, 5, 6, 2, 5, 3, 2, 9, 8, 7, 4, 2, 1, 2, 7, 7, 7, 4, 5, 2, 6, 6, 2, 4, 3, 6, 2, 2, 9, 5, 1, 6, 1, 6, 11, 9, 8, 8, 4, 2, 4, 3, 6, 2, 1, 2, 3, 5, 4, 3, 2, 6, 6, 7, 3, 8, 2, 7, 8, 2, 7, 5, 4, 2, 10, 9, 7, 5, 6, 2, 2, 4, 9, 4, 5, 4, 3, 2, 2, 7, 2, 2, 1, 2, 12, 4, 6, 4, 4, 10, 7, 2, 3, 1, 4, 5, 8, 7, 5, 6, 3, 1, 6, 2, 2, 7, 6, 5, 3, 7, 9, 3, 7, 2, 3, 3, 3, 5, 7, 9, 1, 3, 2, 4, 3, 2, 1, 2, 2, 2, 5, 4, 3, 2, 6, 7, 5, 6, 3, 5, 1, 7, 4, 3, 3, 3, 4, 3, 4, 5, 5, 3, 5, 4, 6, 8, 5, 9, 3, 8, 3, 4, 1, 5, 5, 2, 2, 4, 1, 2, 2, 1, 7, 5, 11, 1, 6, 6, 5, 7, 3, 2, 4, 4, 1, 10, 5, 2, 4, 3, 8, 3, 7, 2, 4, 5, 5, 11, 2, 2, 3, 3, 2, 1, 6, 3, 5, 4, 4, 5, 6, 3, 3, 5, 4, 4, 6, 3, 2, 2, 2, 4, 3, 1, 3, 5, 3, 4, 2, 2, 2, 3, 8, 8, 6, 4, 6, 8, 1, 4, 5, 4, 8, 8, 4, 2, 5, 3, 4, 4, 4, 1, 5, 5, 4, 6, 5, 6, 2, 7, 2, 4, 3, 6, 5, 1, 6, 6, 1, 2, 3, 3, 1, 7, 4, 7, 2, 7, 3, 2, 2, 3, 3, 2, 4, 3, 8, 3, 1, 2, 10, 3, 8, 2, 8, 8, 12, 5, 7, 4, 6, 2, 9, 4, 9, 1, 7, 3, 4, 3, 4, 5, 7, 7, 4, 4, 3, 8, 5, 3, 5, 6, 1, 2, 5, 5, 5, 5, 5, 4, 3, 1, 4, 4, 4, 2, 1, 8, 2, 5, 5, 4, 5, 3, 2, 2, 3, 4, 4, 2, 7, 2, 2, 3, 3, 3, 4, 6, 1, 1, 3, 3, 6, 1, 6, 2, 2, 2, 4, 3, 2, 4, 2, 5, 2, 2, 6, 5, 3, 1, 5, 5, 2, 6, 8, 10, 5, 3, 2, 1, 1, 3, 5, 3, 1, 2, 5, 2, 7, 3, 1, 5, 3, 3, 4, 5, 4, 11, 5, 3, 11, 2, 1, 3, 3, 3, 4, 4, 11, 7, 3, 4, 4, 6, 6, 5, 2, 6, 7, 5, 9, 4, 1, 3, 8, 7, 6, 3, 4, 5, 5, 5, 10, 6, 1, 4, 5, 3, 4, 3, 6, 3, 6, 4, 7, 1, 2, 5, 5, 3, 1, 13, 9, 7, 2, 3, 5, 2, 7, 1, 3, 4, 3, 2, 5, 4, 6, 3, 4, 1, 4, 3, 9, 5, 2, 9, 2, 8, 1, 4, 10, 9, 8, 5, 4, 8, 4, 4, 3, 8, 2, 4, 4, 1, 6, 8, 3, 3, 4, 3, 5, 1, 6, 5, 4, 2, 4, 2, 2, 12, 3, 3, 2, 8, 2, 5, 6, 4, 2, 3, 4, 1, 1, 4, 4, 8, 5, 4, 4, 4, 2, 4, 3, 3, 3, 6, 5, 8, 8, 3, 1, 6, 3, 6, 4, 4, 4, 1, 2, 4, 2, 2, 2, 5, 3, 7, 4, 4, 4, 6, 3, 4, 5, 3, 2, 1, 2, 4, 4, 2, 2, 3, 6, 2, 1, 2, 2, 6, 7, 5, 8, 4, 5, 2, 3, 2, 3, 4, 3, 4, 4, 4, 7, 6, 3, 1, 2, 4, 3, 5, 3, 5, 6, 9, 6, 5, 1, 2, 3, 6, 7, 4, 6, 4, 6, 7, 6, 4, 6, 6, 4, 5, 5, 4, 4, 4, 4, 5, 2, 5, 6, 5, 2, 4, 4, 2, 5, 6, 6, 2, 6, 3, 2, 9, 3, 6, 4, 4, 5, 2, 7, 3, 2, 4, 9, 4, 1, 2, 7, 4, 2, 6, 3, 1, 4, 8, 4, 3, 5, 5, 2, 3, 3, 9, 8, 4, 6, 3, 5, 3, 3, 1, 5, 4, 1, 8, 4, 8, 7, 5, 6, 6, 9, 1, 6, 1, 6, 4, 2, 1, 9, 4, 6, 2, 8, 3, 4, 3, 6, 2, 1, 6, 4, 1, 10, 6, 1, 2, 7, 2, 8, 5, 10, 13, 3, 5, 3, 4, 2, 3, 9, 2, 2, 4, 6, 1, 2, 6, 2, 5, 7, 2, 1, 5, 4, 6, 1, 7, 3, 1, 5, 3, 2, 3, 9, 3, 3, 6, 4, 3, 3, 1, 2, 5, 3, 7, 5, 5, 5, 3, 8, 6, 6, 6, 5, 2, 6, 3, 8, 3, 4, 2, 5, 7, 6, 3, 3, 1, 3, 3, 4, 7, 8, 2, 4, 2, 4, 7, 10, 3, 5, 8, 1, 3, 3, 6, 1, 5, 7, 1, 4, 2, 6, 5, 4, 4, 2, 3, 3, 6, 4, 3, 2, 10, 1, 4, 1, 2, 7, 4, 1, 2, 5, 5, 2, 3, 4, 4, 2, 3, 5, 2, 5, 3, 5, 5, 1, 5, 5, 5, 5, 7, 1, 2, 9, 2, 3, 4, 4, 5, 5, 4, 3, 7, 3, 3, 3, 3, 2, 1, 3, 4, 5, 2, 5, 3, 3, 4, 6, 5, 2, 3, 8, 4, 2, 4, 5, 1, 1, 2, 6, 6, 2, 1, 2, 3, 10, 4, 5, 7, 2, 3, 2, 2, 2, 7, 3, 3, 2, 1, 9, 5, 8, 4, 5, 3, 5, 3, 2, 1, 10, 6, 9, 5, 5, 6, 5, 2, 2, 4, 8, 6, 1, 11, 3, 9, 2, 2, 2, 8, 2, 4, 4, 1, 5, 8, 1, 3, 2, 2, 6, 5, 3, 1, 13, 2, 1, 2, 3, 3, 1, 12, 8, 1, 5, 3, 1, 2, 8, 2, 3, 9, 6, 6, 4, 8, 3, 3, 1, 5, 2, 3, 3, 6, 3, 1, 3, 4, 6, 1, 3, 3, 2, 9, 2, 6, 1, 3, 6, 4, 4, 4, 7, 4, 2, 4, 2, 9, 11, 3, 5, 2, 3, 4, 1, 7, 5, 2, 2, 3, 2, 4, 3, 9, 5, 3, 3, 6, 4, 2, 2, 5, 10, 2, 2, 5, 3, 8, 5, 1, 6, 3, 4, 4, 7, 4, 3, 7, 8, 4, 1, 10, 2, 6, 7, 2, 9, 1, 2, 3, 1, 2, 3, 4, 9, 3, 2, 5, 9, 5, 3, 2, 1, 4, 13, 2, 3, 7, 3, 4, 6, 7, 3, 2, 2, 2, 6, 5, 6, 5, 6, 6, 7, 3, 6, 6, 10, 2, 2, 1, 5, 2, 2, 6, 2, 4, 1, 5, 6, 5, 2, 2, 5, 3, 10, 1, 3, 2, 6, 4, 3, 3, 3, 3, 5, 5, 3, 3, 1, 6, 1, 7, 7, 4, 2, 8, 3, 3, 8, 4, 2, 1, 3, 3, 4, 9, 6, 6, 3, 3, 2, 5, 4, 3, 8, 2, 6, 2, 2, 7, 4, 2, 2, 1, 8, 4, 2, 2, 3, 6, 3, 7, 2, 4, 8, 1, 1, 5, 2, 3, 4, 5, 3, 3, 3, 3, 5, 6, 3, 2, 10, 5, 6, 4, 6, 2, 7, 2, 2, 8, 3, 4, 4, 1, 5, 2, 4, 7, 4, 3, 7, 4, 8, 4, 9, 7, 11, 2, 5, 6, 5, 7, 4, 3, 3, 8, 5, 4, 2, 2, 8, 3, 8, 1, 9, 1, 1, 2, 2, 7, 7, 6, 8, 1, 2, 9, 2, 3, 5, 8, 2, 2, 8, 8, 2, 3, 6, 1, 2, 5, 2, 8, 4, 5, 5, 8, 1, 6, 5, 10, 3, 4, 4, 5, 4, 2, 4, 8, 3, 2, 6, 4, 2, 4, 6, 10, 7, 4, 3, 3, 7, 4, 1, 2, 6, 7, 3, 1, 2, 3, 6, 7, 3, 6, 2, 2, 1, 7, 3, 1, 1, 8, 5, 6, 1, 2, 8, 9, 1, 7, 2, 7, 4, 6, 4, 2, 4, 4, 3, 7, 10, 4, 1, 2, 3, 2, 4, 3, 4, 1, 1, 3, 2, 3, 2, 5, 4, 4, 8, 8, 9, 1, 1, 10, 4, 4, 6, 7, 1, 6, 3, 6, 3, 9, 5, 2, 1, 3, 3, 1, 5, 3, 2, 5, 3, 6, 8, 5, 8, 1, 6, 6, 5, 4, 4, 3, 4, 2, 4, 5, 5, 7, 4, 1, 3, 4, 7, 2, 2, 7, 4, 10, 3, 1, 1, 6, 3, 2, 5, 7, 6, 6, 2, 3, 1, 5, 3, 4, 4, 1, 2, 3, 2, 5, 4, 2, 11, 3, 3, 1, 5, 2, 6, 8, 2, 5, 6, 2, 7, 6, 3, 3, 6, 10, 3, 2, 1, 7, 3, 4, 5, 3, 2, 2, 2, 2, 5, 4, 5, 1, 6, 3, 3, 10, 5, 4, 5, 1, 7, 10, 3, 5, 5, 2, 2, 1, 5, 3, 5, 2, 7, 1, 4, 4, 2, 5, 2, 7, 3, 5, 2, 1, 8, 4, 1, 7, 4, 5, 2, 3, 3, 2, 2, 1, 8, 4, 8, 8, 7, 2, 5, 6, 3, 5, 5, 4, 3, 2, 2, 3, 2, 5, 8, 4, 4, 9, 4, 8, 6, 5, 5, 2, 9, 2, 4, 1, 4, 1, 7, 9, 3, 2, 2, 2, 8, 5, 4, 2, 3, 3, 7, 7, 4, 3, 3, 3, 4, 2, 8, 7, 1, 4, 3, 4, 6, 3, 3, 2, 4, 6, 2, 3, 3, 3, 5, 9, 2, 8, 2, 6, 9, 4, 4, 3, 5, 1, 2, 3, 4, 6, 2, 5, 3, 1, 5, 1, 3, 3, 9, 4, 4, 4, 5, 1, 4, 1, 7, 4, 5, 1, 2, 5, 4, 2, 3, 3, 4, 3, 1, 9, 1, 1, 4, 3, 2, 1, 6, 4, 7, 1, 2, 5, 2, 6, 6, 4, 5, 3, 9, 9, 5, 2, 3, 4, 1, 2, 2, 3, 3, 5, 4, 5, 5, 3, 3, 5, 5, 2, 4, 1, 6, 6, 3, 7, 6, 3, 1, 7, 1, 2, 7, 2, 4, 6, 6, 4, 1, 1, 2, 2, 2, 3, 3, 5, 4, 5, 5, 4, 4, 3, 3, 2, 4, 4, 4, 5, 2, 6, 2, 4, 2, 5, 4, 8, 3, 4, 2, 2, 5, 7, 2, 1, 4, 7, 6, 2, 2, 2, 3, 2, 4, 5, 2, 6, 7, 2, 1, 1, 2, 3, 4, 1, 2, 5, 2, 6, 4, 5, 5, 9, 9, 4, 3, 5, 1, 2, 2, 7, 2, 5, 3, 6, 5, 5, 3, 7, 6, 4, 8, 4, 6, 3, 5, 1, 5, 3, 5, 3, 2, 1, 4, 6, 3, 3, 6, 3, 4, 2, 2, 4, 4, 3, 2, 4, 7, 2, 2, 3, 5, 2, 2, 3, 2, 2, 5, 2, 6, 2, 9, 4, 4, 11, 4, 4, 2, 3, 9, 1, 4, 3, 7, 6, 2, 3, 2, 4, 4, 1, 2, 2, 4, 2, 5, 10, 3, 2, 5, 1, 2, 2, 9, 3, 9, 3, 3, 7, 4, 3, 4, 9, 4, 5, 1, 7, 4, 5, 2, 8, 6, 2, 7, 5, 4, 5, 5, 2, 4, 2, 3, 6, 6, 5, 3, 9, 4, 4, 3, 2, 2, 4, 2, 4, 3, 1, 4, 2, 2, 11, 8, 4, 2, 1, 7, 1, 2, 2, 4, 5, 3, 8, 2, 3, 6, 7, 1, 3, 3, 6, 6, 7, 2, 3, 7, 2, 1, 4, 5, 1, 4, 1, 3, 1, 8, 9, 5, 4, 1, 3, 2, 4, 7, 3, 1, 5, 5, 4, 6, 2, 5, 1, 3, 5, 3, 1, 6, 3, 3, 5, 2, 8, 3, 2, 8, 5, 7, 3, 2, 8, 3, 4, 9, 4, 4, 7, 4, 7, 4, 1, 1, 3, 5, 2, 8, 1, 4, 4, 2, 4, 6, 3, 2, 6, 3, 5, 2, 3, 6, 2, 1, 2, 2, 5, 4, 4, 1, 2, 3, 4, 12, 2, 5, 2, 6, 4, 4, 1, 3, 5, 4, 3, 2, 6, 6, 4, 3, 1, 4, 3, 2, 5, 7, 6, 3, 3, 6, 6, 9, 4, 3, 7, 3, 7, 5, 6, 1, 3, 4, 5, 6, 7, 2, 2, 2, 5, 10, 3, 6, 2, 7, 9, 5, 5, 2, 3, 3, 6, 6, 2, 4, 3, 7, 6, 8, 4, 1, 1, 4, 5, 5, 2, 3, 4, 2, 2, 4, 6, 3, 2, 7, 4, 2, 2, 3, 3, 3, 1, 1, 3, 5, 6, 9, 3, 8, 5, 2, 5, 4, 7, 4, 3, 6, 2, 7, 5, 3, 3, 6, 5, 3, 7, 5, 13, 2, 3, 3, 8, 4, 1, 7, 5, 1, 5, 4, 3, 3, 1, 2, 3, 4, 4, 5, 3, 5, 2, 2, 12, 6, 5, 4, 6, 3, 10, 5, 2, 8, 6, 4, 2, 4, 6, 2, 4, 5, 3, 5, 8, 4, 7, 2, 7, 4, 2, 6, 6, 7, 3, 5, 7, 2, 7, 6, 5, 5, 1, 2, 2, 5, 4, 2, 3, 2, 3, 2, 6, 4, 2, 5, 6, 2, 1, 5, 2, 1, 3, 4, 8, 2, 5, 3, 1, 6, 6, 5, 7, 1, 5, 5, 8, 2, 6, 2, 2, 4, 2, 3, 6, 7, 3, 3, 1, 7, 4, 2, 2, 9, 5, 2, 4, 2, 5, 9, 7, 2, 5, 4, 1, 5, 5, 6, 4, 6, 2, 1, 3, 6, 1, 5, 6, 1, 3, 5, 2, 3, 1, 6, 6, 7, 9, 2, 6, 7, 10, 1, 9, 9, 2, 5, 2, 4, 7, 3, 2, 8, 5, 4, 3, 6, 2, 3, 2, 5, 2, 5, 1, 2, 8, 10, 6, 3, 5, 4, 11, 6, 2, 1, 4, 6, 8, 4, 7, 4, 2, 4, 3, 2, 2, 2, 1, 7, 9, 5, 5, 8, 4, 6, 5, 1, 3, 1, 6, 3, 3, 7, 6, 4, 2, 10, 2, 2, 10, 4, 2, 4, 4, 3, 4, 3, 4, 6, 4, 3, 3, 2, 8, 1, 2, 2, 2, 2, 5, 1, 5, 1, 5, 7, 1, 9, 4, 7, 2, 4, 3, 6, 8, 3, 2, 2, 7, 4, 3, 5, 4, 4, 1, 2, 1, 5, 2, 2, 2, 3, 3, 2, 4, 4, 2, 5, 2, 7, 10, 9, 9, 7, 3, 3, 6, 6, 2, 3, 2, 7, 7, 4, 4, 5, 2, 7, 5, 10, 4, 4, 8, 2, 5, 8, 2, 1, 2, 7, 5, 2, 5, 5, 4, 4, 3, 5, 1, 1, 3, 5, 4, 3, 5, 1, 4, 3, 1, 9, 2, 5, 2, 8, 3, 2, 3, 4, 3, 4, 5, 5, 4, 5, 3, 5, 5, 6, 5, 6, 5, 2, 4, 1, 6, 2, 5, 6, 4, 2, 8, 2, 6, 5, 4, 6, 2, 13, 2, 2, 2, 5, 6, 3, 6, 3, 4, 4, 7, 2, 3, 4, 3, 7, 3, 1, 3, 7, 2, 5, 2, 5, 4, 1, 4, 1, 2, 7, 4, 6, 3, 4, 1, 4, 5, 12, 2, 8, 2, 3, 5, 4, 2, 3, 3, 6, 7, 2, 1, 2, 7, 4, 6, 4, 3, 1, 4, 3, 5, 3, 8, 5, 2, 8, 3, 2, 11, 2, 7, 10, 4, 1, 5, 3, 4, 7, 5, 4, 3, 8, 5, 10, 8, 3, 3, 1, 5, 5, 3, 1, 5, 2, 4, 4, 4, 3, 5, 3, 1, 4, 3, 1, 5, 5, 6, 1, 5, 6, 2, 1, 10, 5, 2, 6, 7, 6, 1, 6, 1, 5, 6, 4, 3, 8, 7, 5, 4, 3, 4, 4, 2, 5, 4, 6, 4, 5, 1, 1, 5, 10, 1, 4, 2, 5, 4, 8, 3, 3, 10, 4, 4, 1, 6, 4, 3, 3, 3, 7, 6, 11, 4, 4, 5, 5, 4, 6, 2, 2, 3, 4, 4, 8, 2, 7, 6, 4, 5, 4, 8, 5, 7, 2, 9, 2, 6, 5, 3, 1, 1, 2, 4, 2, 10, 5, 4, 5, 4, 3, 3, 6, 4, 3, 1, 3, 1, 5, 1, 5, 4, 1, 3, 3, 9, 5, 4, 3, 7, 10, 4, 2, 5, 5, 1, 10, 7, 1, 12, 7, 8, 4, 6, 9, 3, 3, 2, 4, 2, 6, 4, 6, 3, 2, 7, 2, 1, 5, 2, 3, 4, 4, 3, 5, 4, 4, 4, 7, 3, 4, 7, 5, 2, 1, 7, 1, 5, 4, 3, 2, 5, 3, 2, 7, 5, 4, 3, 9, 10, 1, 4, 4, 2, 3, 2, 6, 4, 2, 2, 2, 4, 5, 1, 5, 3, 3, 2, 6, 5, 5, 2, 1, 1, 10, 2, 2, 3, 4, 6, 3, 1, 5, 4, 5, 4, 9, 4, 8, 4, 7, 1, 3, 2, 2, 1, 2, 4, 4, 2, 2, 3, 9, 1, 1, 6, 5, 7, 1, 6, 2, 3, 2, 7, 2, 6, 2, 2, 3, 3, 4, 7, 6, 3, 6, 4, 3, 8, 4, 2, 3, 6, 2, 2, 3, 3, 11, 6, 2, 4, 2, 10, 6, 2, 2, 2, 3, 6, 15, 1, 3, 2, 1, 5, 3, 11, 4, 11, 1, 3, 12, 2, 5, 2, 4, 2, 3, 5, 8, 3, 3, 2, 4, 1, 1, 4, 6, 7, 6, 4, 3, 2, 10, 3, 4, 7, 2, 4, 5, 4, 7, 5, 10, 2, 3, 3, 2, 3, 5, 2, 4, 9, 4, 5, 4, 5, 8, 1, 1, 4, 4, 2, 4, 4, 1, 4, 5, 3, 4, 3, 8, 2, 4, 2, 7, 1, 6, 4, 4, 4, 1, 9, 9, 5, 1, 5, 5, 8, 3, 4, 1, 5, 4, 4, 5, 3, 2, 4, 4, 7, 2, 2, 3, 3, 6, 3, 2, 5, 2, 3, 4, 7, 6, 2, 3, 3, 7, 3, 2, 1, 5, 2, 11, 4, 2, 2, 8, 6, 6, 6, 3, 1, 5, 3, 3, 3, 5, 6, 2, 3, 2, 4, 1, 7, 2, 2, 2, 1, 8, 3, 4, 3, 5, 6, 4, 1, 3, 1, 1, 4, 3, 6, 3, 5, 5, 4, 6, 4, 2, 3, 8, 4, 4, 5, 2, 7, 1, 9, 3, 4, 3, 6, 7, 6, 10, 4, 3, 6, 2, 1, 2, 1, 8, 2, 4, 5, 3, 7, 2, 7, 3, 4, 2, 10, 3, 5, 3, 4, 3, 3, 3, 4, 1, 5, 6, 9, 4, 2, 5, 6, 2, 4, 5, 3, 2, 4, 8, 1, 1, 4, 1, 7, 3, 6, 1, 3, 6, 2, 7, 11, 2, 2, 3, 4, 11, 3, 3, 6, 9, 4, 7, 3, 3, 4, 3, 6, 6, 2, 4, 2, 5, 4, 2, 9, 2, 5, 3, 2, 8, 5, 2, 4, 5, 3, 3, 2, 7, 1, 1, 6, 3, 6, 3, 3, 6, 8, 6, 6, 7, 5, 5, 7, 7, 4, 7, 4, 4, 3, 6, 5, 5, 5, 5, 4, 6, 3, 1, 4, 8, 1, 3, 7, 6, 4, 6, 4, 2, 2, 4, 5, 5, 3, 2, 7, 6, 4, 6, 6, 4, 1, 5, 1, 5, 5, 2, 8, 1, 6, 3, 5, 2, 3, 1, 4, 5, 3, 3, 4, 5, 5, 4, 1, 3, 7, 7, 2, 1, 3, 5, 10, 6, 9, 4, 3, 4, 7, 3, 4, 4, 5, 2, 2, 4, 3, 7, 3, 4, 5, 11, 4, 4, 2, 7, 3, 6, 3, 2, 1, 2, 5, 3, 3, 3, 2, 5, 11, 2, 3, 10, 1, 8, 3, 8, 5, 5, 3, 7, 4, 3, 1, 3, 4, 3, 5, 7, 3, 5, 1, 1, 5, 8, 7, 3, 2, 11, 6, 4, 4, 2, 5, 1, 2, 2, 4, 4, 3, 9, 4, 4, 3, 2, 5, 2, 9, 2, 4, 5, 6, 3, 6, 4, 7, 1, 3, 3, 5, 4, 1, 2, 9, 6, 4, 1, 4, 6, 6, 3, 4, 3, 2, 2, 4, 9, 2, 4, 2, 3, 6, 7, 4, 4, 4, 4, 5, 9, 5, 6, 4, 1, 2, 7, 5, 5, 2, 6, 4, 3, 7, 4, 4, 6, 5, 9, 2, 11, 2, 1, 1, 2, 5, 2, 3, 4, 8, 1, 1, 3, 8, 6, 2, 9, 4, 3, 4, 2, 5, 4, 1, 2, 5, 3, 2, 2, 7, 3, 3, 2, 1, 4, 2, 4, 5, 5, 5, 6, 5, 7, 1, 6, 2, 3, 8, 5, 1, 7, 1, 3, 1, 3, 10, 4, 6, 2, 8, 2, 3, 3, 5, 7, 3, 2, 7, 1, 2, 2, 6, 2, 5, 4, 5, 9, 10, 3, 1, 5, 5, 3, 5, 2, 4, 3, 2, 8, 6, 4, 1, 4, 3, 5, 3, 3, 2, 1, 6, 14, 3, 6, 9, 7, 10, 2, 3, 4, 4, 2, 7, 6, 4, 8, 3, 7, 8, 2, 3, 6, 2, 10, 1, 3, 4, 9, 3, 3, 6, 1, 5, 3, 3, 1, 6, 3, 2, 4, 11, 3, 3, 5, 4, 7, 4, 7, 7, 1, 11, 3, 4, 7, 5, 1, 3, 6, 5, 5, 4, 6, 5, 7, 5, 5, 3, 4, 1, 6, 4, 7, 2, 3, 4, 2, 2, 5, 3, 3, 2, 7, 6, 4, 3, 4, 3, 5, 2, 3, 1, 3, 4, 12, 4, 3, 2, 5, 8, 4, 1, 5, 11, 11, 6, 3, 7, 8, 7, 9, 5, 5, 2, 3, 8, 5, 12, 4, 4, 4, 2, 4, 11, 3, 3, 4, 3, 7, 2, 5, 6, 2, 2, 2, 8, 8, 5, 8, 3, 4, 1, 2, 5, 5, 2, 6, 4, 3, 3, 7, 1, 4, 7, 3, 4, 4, 2, 2, 1, 4, 7, 4, 5, 1, 8, 5, 2, 2, 7, 3, 5, 5, 3, 4, 1, 3, 6, 3, 8, 5, 4, 2, 3, 3, 3, 5, 3, 4, 5, 4, 5, 6, 2, 8, 7, 6, 4, 2, 6, 1, 4, 4, 6, 7, 8, 7, 7, 3, 2, 2, 3, 9, 1, 8, 6, 6, 8, 1, 3, 1, 1, 2, 6, 6, 2, 4, 7, 5, 1, 3, 17, 2, 4, 5, 5, 3, 1, 4, 3, 1, 10, 5, 8, 4, 3, 6, 1, 1, 8, 2, 4, 3, 1, 5, 5, 11, 5, 7, 1, 9, 2, 4, 11, 11, 2, 1, 6, 3, 3, 6, 8, 2, 3, 5, 1, 3, 1, 9, 7, 7, 5, 6, 6, 3, 8, 9, 3, 2, 3, 10, 3, 2, 2, 11, 1, 6, 4, 4, 4, 3, 5, 4, 3, 6, 7, 7, 5, 7, 13, 6, 8, 5, 7, 9, 1, 4, 3, 10, 3, 7, 6, 4, 2, 9, 1, 3, 3, 6, 2, 3, 7, 7, 7, 3, 1, 6, 1, 2, 3, 2, 3, 2, 3, 6, 13, 2, 1, 8, 8, 2, 5, 2, 5, 4, 5, 10, 4, 7, 1, 8, 3, 1, 9, 3, 5, 3, 1, 4, 5, 9, 6, 5, 11, 4, 5, 3, 6, 12, 2, 3, 5, 4, 5, 2, 5, 3, 5, 2, 6, 3, 12, 4, 4, 2, 4, 8, 5, 7, 1, 3, 3, 4, 6, 3, 7, 2, 1, 2, 2, 6, 2, 3, 1, 6, 4, 10, 5, 1, 12, 5, 4, 5, 7, 3, 3, 7, 5, 2, 7, 8, 2, 3, 3, 3, 4, 8, 10, 3, 5, 6, 6, 2, 3, 9, 4, 4, 3, 12, 6, 2, 4, 6, 3, 7, 3, 9, 3, 5, 5, 10, 4, 3, 2, 2, 11, 6, 6, 2, 4, 5, 6, 3, 1, 4, 4, 1, 3, 7, 3, 4, 3, 7, 3, 2, 6, 8, 4, 8, 5, 6, 10, 2, 1, 5, 7, 6, 5, 2, 6, 7, 4, 1, 7, 5, 2, 2, 1, 2, 4, 6, 4, 4, 2, 5, 3, 6, 2, 5, 5, 2, 5, 12, 2, 3, 4, 5, 4, 4, 3, 7, 4, 1, 3, 2, 3, 1, 2, 1, 6, 5, 9, 3, 2, 3, 5, 1, 4, 6, 5, 3, 2, 3, 6, 7, 1, 3, 4, 5, 8, 1, 3, 4, 8, 3, 3, 2, 3, 3, 3, 8, 5, 4, 1, 8, 3, 1, 5, 3, 4, 1, 5, 6, 4, 5, 3, 3, 8, 1, 2, 2, 1, 4, 1, 6, 4, 3, 1, 2, 3, 4, 3, 5, 9, 5, 3, 3, 5, 8, 8, 5, 6, 6, 7, 1, 7, 2, 4, 12, 4, 5, 7, 5, 7, 1, 6, 7, 2, 7, 1, 6, 2, 1, 5, 2, 7, 5, 4, 5, 2, 3, 6, 9, 6, 3, 1, 2, 5, 2, 5, 2, 7, 5, 2, 7, 11, 4, 3, 5, 4, 4, 5, 1, 3, 4, 1, 12, 4, 1, 2, 6, 6, 4, 4, 3, 2, 1, 6, 2, 3, 5, 1, 2, 7, 4, 2, 7, 6, 7, 2, 8, 5, 2, 6, 9, 2, 1, 4, 5, 2, 3, 4, 6, 7, 3, 6, 9, 4, 1, 5, 7, 1, 5, 1, 4, 3, 8, 4, 2, 3, 3, 1, 4, 17, 7, 2, 2, 3, 4, 5, 4, 5, 2, 5, 3, 9, 3, 3, 2, 5, 6, 6, 2, 6, 4, 5, 4, 5, 4, 4, 4, 4, 4, 2, 2, 4, 1, 8, 2, 10, 9, 2, 1, 3, 3, 9, 4, 10, 10, 4, 6, 2, 11, 4, 16, 4, 1, 7, 6, 5, 9, 5, 8, 6, 7, 2, 4, 10, 3, 2, 5, 6, 1, 5, 3, 8, 5, 5, 2, 6, 3, 8, 1, 1, 1, 4, 8, 4, 1, 1, 3, 7, 7, 5, 2, 2, 9, 4, 4, 3, 3, 5, 7, 7, 7, 2, 3, 1, 1, 3, 8, 4, 5, 2, 3, 3, 3, 11, 6, 5, 5, 2, 7, 5, 7, 8, 6, 5, 8, 8, 6, 5, 2, 5, 3, 3, 1, 5, 4, 5, 7, 1, 3, 3, 4, 3, 5, 5, 2, 4, 4, 5, 8, 7, 3, 3, 5, 3, 5, 4, 3, 3, 4, 4, 6, 2, 2, 3, 5, 2, 9, 5, 4, 3, 7, 7, 4, 4, 5, 6, 4, 6, 6, 1, 5, 2, 5, 5, 1, 7, 8, 3, 7, 7, 9, 1, 7, 2, 2, 1, 2, 4, 5, 5, 4, 6, 2, 3, 1, 1, 1, 2, 7, 4, 2, 4, 1, 2, 1, 6, 5, 3, 5, 1, 9, 6, 3, 2, 7, 4, 5, 1, 4, 1, 4, 5, 6, 1, 6, 7, 4, 8, 2, 1, 5, 1, 5, 3, 2, 2, 4, 6, 6, 9, 7, 2, 3, 4, 6, 4, 4, 7, 1, 8, 3, 2, 7, 4, 6, 1, 5, 6, 5, 8, 5, 4, 6, 4, 4, 4, 4, 1, 2, 6, 1, 3, 2, 3, 6, 2, 1, 5, 4, 5, 4, 3, 7, 7, 1, 3, 1, 5, 4, 8, 4, 7, 7, 3, 2, 5, 6, 4, 4, 8, 4, 1, 3, 1, 5, 8, 3, 3, 5, 1, 3, 7, 1, 5, 6, 9, 4, 4, 6, 2, 7, 3, 3, 2, 2, 9, 2, 3, 1, 1, 4, 7, 6, 7, 9, 1, 5, 4, 7, 8, 6, 4, 5, 4, 6, 1, 6, 4, 1, 2, 3, 1, 1, 3, 2, 3, 3, 2, 2, 5, 4, 6, 1, 7, 4, 4, 5, 2, 1, 3, 5, 4, 2, 1, 1, 2, 3, 5, 3, 6, 3, 5, 5, 6, 8, 12, 1, 3, 5, 3, 5, 6, 1, 3, 8, 4, 6, 4, 3, 7, 6, 7, 2, 1, 6, 3, 2, 6, 4, 8, 2, 5, 4, 6, 3, 8, 2, 6, 4, 1, 2, 3, 4, 2, 3, 6, 6, 2, 2, 4, 5, 4, 6, 6, 6, 1, 5, 3, 2, 5, 7, 9, 4, 5, 4, 3, 11, 6, 2, 2, 2, 3, 5, 6, 3, 7, 3, 6, 5, 2, 2, 3, 3, 3, 3, 3, 5, 6, 1, 1, 4, 4, 6, 8, 2, 4, 3, 2, 5, 2, 4, 3, 1, 4, 1, 5, 4, 6, 1, 3, 5, 5, 9, 4, 1, 1, 10, 3, 2, 5, 3, 3, 2, 6, 4, 2, 3, 1, 1, 4, 7, 5, 6, 1, 4, 5, 4, 5, 6, 1, 2, 1, 8, 1, 1, 4, 2, 5, 2, 5, 2, 1, 2, 3, 1, 6, 6, 2, 7, 5, 1, 5, 3, 8, 5, 7, 5, 5, 4, 3, 1, 3, 1, 4, 5, 6, 3, 5, 5, 6, 5, 7, 4, 2, 4, 2, 8, 3, 4, 7, 3, 3, 8, 7, 1, 2, 2, 1, 3, 4, 11, 7, 6, 4, 1, 3, 1, 1, 3, 5, 2, 2, 4, 3, 4, 4, 1, 2, 2, 3, 4, 6, 3, 4, 5, 1, 2, 8, 2, 3, 4, 6, 5, 9, 9, 1, 2, 3, 4, 4, 3, 9, 13, 2, 2, 6, 4, 5, 4, 2, 4, 2, 6, 3, 2, 5, 6, 10, 2, 4, 6, 7, 5, 5, 5, 1, 4, 9, 2, 5, 11, 4, 2, 3, 2, 2, 5, 3, 6, 2, 3, 1, 1, 1, 8, 5, 1, 6, 6, 7, 3, 4, 4, 6, 6, 1, 4, 6, 4, 6, 4, 2, 7, 3, 10, 8, 4, 1, 5, 4, 2, 2, 1, 5, 3, 1, 5, 4, 2, 4, 3, 2, 9, 1, 4, 7, 7, 3, 4, 6, 7, 5, 7, 8, 5, 3, 3, 6, 9, 4, 8, 5, 3, 3, 3, 3, 7, 5, 4, 4, 3, 2, 6, 8, 4, 6, 2, 3, 7, 1, 7, 4, 3, 3, 2, 5, 4, 3, 2, 6, 7, 6, 1, 3, 7, 7, 6, 5, 9, 6, 3, 3, 5, 3, 7, 8, 8, 7, 3, 4, 5, 2, 7, 3, 4, 4, 2, 3, 2, 4, 2, 5, 4, 1, 5, 3, 2, 1, 7, 2, 6, 4, 2, 1, 3, 7, 7, 10, 5, 2, 2, 3, 1, 6, 5, 6, 1, 7, 6, 3, 2, 6, 5, 7, 8, 4, 4, 11, 2, 2, 2, 8, 2, 6, 1, 6, 5, 4, 2, 4, 8, 4, 6, 4, 6, 3, 5, 6, 2, 5, 7, 6, 5, 3, 2, 4, 3, 2, 5, 5, 2, 5, 6, 4, 3, 4, 6, 5, 7, 3, 3, 4, 3, 4, 4, 8, 6, 6, 5, 4, 10, 5, 5, 2, 5, 5, 4, 3, 3, 4, 5, 2, 9, 2, 13, 2, 6, 7, 1, 5, 5, 2, 2, 3, 3, 2, 5, 6, 3, 2, 1, 6, 9, 5, 4, 4, 2, 1, 3, 5, 6, 4, 2, 4, 1, 3, 4, 1, 1, 3, 2, 4, 1, 3, 4, 6, 3, 6, 8, 4, 1, 7, 6, 1, 11, 4, 8, 9, 2, 3, 12, 3, 3, 5, 6, 5, 3, 3, 5, 3, 7, 2, 3, 3, 2, 7, 4, 3, 5, 6, 4, 4, 6, 1, 8, 1, 4, 5, 1, 7, 3, 1, 1, 3, 4, 2, 7, 1, 6, 3, 3, 9, 4, 10, 3, 6, 3, 5, 1, 6, 5, 7, 5, 2, 5, 6, 14, 1, 2, 6, 1, 3, 4, 14, 9, 10, 3, 4, 5, 8, 7, 11, 4, 6, 8, 4, 4, 8, 4, 4, 6, 6, 6, 2, 3, 2, 8, 2, 3, 4, 1, 6, 6, 6, 2, 6, 4, 3, 4, 3, 5, 5, 5, 4, 2, 3, 7, 6, 4, 4, 4, 7, 2, 6, 4, 5, 3, 4, 5, 2, 6, 8, 5, 1, 2, 1, 5, 5, 2, 5, 6, 5, 4, 5, 2, 3, 5, 5, 6, 5, 1, 3, 6, 6, 5, 3, 3, 2, 4, 6, 4, 4, 5, 6, 7, 2, 5, 3, 3, 2, 8, 3, 2, 5, 4, 5, 8, 7, 4, 8, 5, 2, 4, 5, 4, 4, 10, 2, 8, 4, 4, 4, 2, 5, 4, 5, 3, 3, 5, 4, 5, 6, 4, 4, 6, 4, 3, 2, 4, 4, 5, 2, 8, 6, 4, 4, 7, 1, 3, 5, 6, 4, 1, 4, 2, 6, 5, 4, 2, 10, 4, 4, 4, 4, 4, 7, 2, 2, 5, 3, 3, 6, 4, 2, 2, 5, 5, 3, 6, 6, 5, 2, 5, 2, 6, 3, 4, 3, 1, 2, 3, 3, 6, 3, 4, 2, 6, 6, 7, 6, 5, 3, 2, 7, 7, 4, 3, 6, 4, 2, 4, 2, 3, 6, 6, 2, 1, 4, 2, 7, 5, 2, 5, 6, 5, 5, 4, 3, 8, 3, 4, 3, 4, 2, 2, 2, 3, 2, 4, 3, 7, 4, 1, 7, 2, 4, 3, 9, 3, 4, 5, 6, 6, 2, 2, 6, 5, 3, 2, 6, 2, 4, 3, 3, 3, 6, 1, 3, 4, 5, 8, 2, 5, 4, 7, 4, 6, 2, 5, 8, 8, 11, 4, 2, 5, 8, 1, 4, 3, 4, 1, 6, 7, 7, 1, 7, 2, 11, 6, 4, 3, 5, 3, 4, 3, 4, 7, 4, 1, 3, 5, 3, 3, 3, 6, 4, 3, 2, 6, 3, 2, 6, 4, 5, 5, 3, 3, 6, 4, 3, 2, 1, 5, 5, 7, 3, 2, 3, 2, 5, 2, 1, 3, 3, 5, 5, 4, 5, 6, 1, 1, 4, 4, 5, 2, 4, 1, 1, 5, 2, 8, 4, 11, 1, 1, 1, 1, 4, 2, 5, 3, 2, 6, 5, 4, 1, 4, 1, 5, 4, 1, 3, 7, 5, 1, 4, 4, 4, 1, 7, 2, 3, 2, 6, 3, 2, 5, 5, 3, 10, 7, 1, 3, 1, 4, 3, 6, 8, 3, 5, 3, 2, 1, 4, 5, 6, 3, 2, 5, 5, 5, 3, 4, 5, 7, 6, 6, 1, 8, 3, 4, 4, 2, 9, 1, 1, 5, 1, 1, 1, 2, 2, 4, 2, 4, 7, 1, 3, 1, 5, 1, 3, 3, 6, 1, 3, 1, 5, 1, 1, 7, 2, 8, 1, 5, 3, 5, 3, 5, 8, 6, 11, 5, 1, 5, 5, 3, 4, 3, 3, 6, 5, 5, 1, 2, 1, 2, 4, 4, 5, 3, 4, 3, 7, 7, 4, 3, 2, 2, 3, 1, 2, 7, 2, 3, 2, 4, 5, 4, 3, 1, 1, 7, 1, 2, 5, 6, 3, 7, 3, 6, 6, 5, 3, 1, 6, 3, 3, 1, 8, 8, 8, 2, 12, 4, 2, 7, 3, 1, 5, 3, 4, 2, 12, 2, 4, 2, 4, 4, 3, 4, 2, 6, 4, 3, 11, 7, 4, 7, 3, 4, 1, 5, 1, 5, 4, 3, 3, 6, 4, 9, 3, 4, 7, 3, 3, 1, 7, 4, 3, 2, 3, 4, 6, 5, 4, 2, 6, 5, 2, 4, 4, 3, 3, 3, 1, 3, 3, 5, 2, 5, 6, 6, 4, 3, 14, 1, 2, 3, 6, 2, 2, 1, 3, 3, 3, 3, 1, 3, 2, 1, 1, 5, 4, 1, 2, 4, 3, 8, 5, 2, 3, 4, 5, 3, 2, 5, 1, 4, 5, 5, 5, 8, 2, 5, 1, 1, 7, 6, 5, 2, 5, 3, 4, 2, 1, 6, 3, 3, 6, 2, 4, 3, 1, 3, 2, 3, 3, 3, 3, 4, 4, 2, 5, 3, 2, 5, 3, 6, 6, 2, 9, 3, 5, 1, 1, 3, 1, 3, 1, 8, 2, 3, 2, 6, 4, 1, 3, 1, 2, 2, 4, 8, 7, 4, 5, 6, 6, 8, 4, 6, 3, 4, 3, 6, 3, 3, 2, 2, 6, 3, 2, 1, 4, 2, 5, 10, 4, 5, 2, 5, 1, 9, 1, 6, 7, 4, 3, 2, 6, 6, 4, 3, 6, 4, 7, 5, 6, 2, 4, 7, 6, 7, 3, 6, 3, 5, 3, 1, 5, 7, 8, 3, 1, 12, 2, 2, 3, 10, 6, 3, 3, 2, 1, 2, 11, 6, 2, 1, 3, 2, 5, 3, 2, 1, 4, 1, 3, 1, 1, 4, 2, 5, 3, 1, 2, 12, 2, 2, 1, 1, 5, 4, 10, 5, 1, 5, 4, 4, 3, 4, 2, 2, 10, 2, 1, 1, 3, 5, 2, 4, 6, 6, 4, 3, 1, 4, 5, 2, 5, 8, 5, 3, 4, 5, 2, 5, 2, 4, 3, 2, 9, 1, 2, 3, 2, 7, 9, 7, 10, 2, 5, 2, 6, 7, 1, 3, 3, 5, 5, 7, 5, 11, 15, 4, 1, 4, 11, 4, 5, 1, 5, 2, 5, 4, 3, 5, 2, 1, 7, 6, 6, 4, 5, 2, 3, 8, 3, 11, 1, 2, 1, 6, 3, 3, 4, 1, 11, 7, 7, 4, 2, 1, 2, 5, 2, 2, 7, 5, 5, 4, 7, 2, 4, 9, 7, 1, 1, 1, 1, 5, 2, 3, 6, 4, 1, 3, 3, 10, 2, 8, 6, 6, 4, 3, 6, 2, 5, 1, 7, 1, 4, 4, 2, 5, 3, 6, 6, 4, 2, 2, 5, 2, 7, 3, 3, 3, 4, 5, 1, 1, 2, 2, 6, 1, 4, 6, 12, 8, 3, 2, 7, 6, 1, 5, 5, 2, 3, 5, 11, 3, 3, 3, 7, 2, 11, 5, 4, 1, 5, 9, 5, 6, 5, 1, 2, 9, 5, 3, 9, 2, 5, 7, 9, 2, 3, 6, 4, 5, 1, 3, 7, 8, 2, 3, 3, 7, 5, 4, 5, 3, 4, 4, 2, 8, 4, 5, 6, 3, 6, 5, 2, 7, 3, 5, 2, 2, 6, 1, 1, 2, 8, 3, 2, 1, 3, 6, 3, 2, 9, 2, 8, 2, 7, 7, 1, 4, 3, 3, 7, 3, 2, 1, 5, 1, 2, 1, 3, 6, 3, 1, 3, 7, 4, 1, 3, 4, 4, 3, 3, 6, 3, 6, 7, 5, 5, 3, 1, 6, 5, 3, 2, 5, 2, 6, 1, 4, 5, 2, 3, 4, 4, 2, 9, 3, 9, 3, 3, 7, 4, 6, 4, 3, 1, 1, 4, 4, 2, 3, 1, 4, 6, 7, 8, 6, 4, 3, 5, 4, 3, 1, 2, 9, 2, 3, 6, 1, 6, 7, 1, 5, 4, 4, 4, 8, 4, 4, 1, 4, 4, 1, 3, 3, 3, 4, 2, 4, 7, 6, 5, 2, 3, 1, 6, 6, 5, 2, 3, 8, 5, 6, 7, 7, 3, 4, 2, 5, 4, 6, 2, 6, 4, 5, 4, 6, 3, 2, 4, 4, 1, 3, 4, 5, 3, 3, 3, 4, 5, 3, 4, 3, 9, 2, 1, 5, 6, 9, 1, 5, 5, 7, 2, 6, 3, 2, 5, 2, 4, 3, 1, 1, 1, 2, 2, 4, 4, 3, 9, 4, 5, 6, 5, 6, 2, 2, 2, 4, 5, 3, 5, 1, 9, 1, 2, 6, 2, 4, 4, 14, 4, 3, 8, 4, 2, 4, 3, 5, 5, 4, 4, 3, 3, 2, 3, 3, 5, 7, 6, 4, 3, 8, 3, 2, 5, 7, 3, 2, 3, 10, 4, 4, 8, 1, 9, 2, 4, 3, 7, 3, 4, 3, 4, 4, 2, 5, 10, 4, 5, 5, 2, 10, 3, 6, 4, 1, 2, 2, 4, 4, 3, 6, 3, 2, 3, 1, 1, 9, 5, 5, 7, 1, 6, 2, 9, 5, 1, 5, 8, 6, 1, 4, 2, 2, 6, 2, 3, 2, 4, 6, 3, 4, 4, 2, 7, 3, 4, 6, 1, 6, 2, 2, 5, 1, 2, 6, 4, 3, 7, 2, 5, 2, 10, 3, 2, 4, 5, 5, 6, 4, 7, 3, 4, 5, 3, 3, 3, 11, 3, 1, 3, 7, 3, 5, 5, 3, 3, 8, 14, 2, 8, 6, 5, 9, 4, 5, 2, 2, 4, 4, 3, 1, 3, 8, 6, 12, 3, 5, 4, 2, 2, 5, 3, 2, 4, 4, 2, 2, 7, 2, 6, 5, 2, 5, 6, 2, 2, 10, 4, 3, 5, 3, 3, 3, 8, 5, 7, 5, 3, 2, 3, 5, 2, 6, 2, 3, 3, 2, 7, 4, 6, 3, 3, 4, 3, 4, 5, 3, 1, 4, 1, 5, 4, 3, 6, 5, 4, 6, 8, 5, 3, 2, 7, 4, 5, 2, 2, 3, 7, 4, 11, 8, 3, 3, 5, 5, 5, 5, 4, 3, 6, 5, 3, 5, 2, 9, 4, 2, 6, 5, 3, 1, 2, 4, 5, 2, 1, 2, 8, 2, 6, 4, 1, 2, 2, 1, 5, 3, 4, 1, 4, 2, 4, 2, 2, 3, 4, 3, 13, 4, 3, 7, 7, 4, 8, 2, 11, 4, 7, 6, 1, 4, 4, 2, 5, 4, 2, 4, 3, 2, 3, 6, 4, 8, 1, 3, 2, 2, 2, 4, 1, 4, 6, 3, 4, 4, 3, 4, 2, 13, 2, 3, 4, 3, 1, 1, 1, 6, 1, 4, 5, 5, 3, 5, 7, 4, 1, 5, 3, 2, 5, 3, 6, 4, 3, 2, 1, 6, 4, 5, 8, 3, 6, 6, 3, 3, 7, 3, 6, 2, 2, 3, 7, 3, 6, 1, 4, 2, 7, 1, 8, 6, 5, 5, 5, 4, 3, 3, 4, 1, 5, 4, 3, 5, 3, 7, 4, 6, 3, 2, 5, 3, 4, 9, 4, 8, 1, 6, 8, 7, 6, 7, 5, 5, 6, 9, 5, 6, 1, 6, 4, 2, 2, 3, 2, 2, 2, 6, 7, 1, 4, 2, 1, 1, 1, 4, 2, 4, 5, 7, 1, 8, 3, 5, 1, 1, 3, 1, 5, 5, 2, 3, 3, 2, 5, 3, 6, 3, 9, 1, 5, 11, 6, 3, 5, 4, 5, 9, 2, 4, 7, 2, 3, 6, 5, 2, 1, 4, 3, 2, 4, 6, 2, 5, 4, 3, 4, 5, 5, 6, 3, 2, 6, 5, 4, 2, 8, 3, 9, 6, 2, 7, 1, 7, 2, 10, 2, 2, 3, 6, 3, 2, 7, 10, 5, 3, 8, 3, 6, 5, 4, 3, 1, 4, 2, 2, 6, 2, 2, 2, 4, 6, 7, 2, 2, 5, 1, 4, 4, 4, 4, 4, 10, 2, 4, 4, 7, 2, 3, 3, 4, 4, 8, 6, 3, 5, 5, 7, 6, 8, 4, 2, 3, 6, 4, 7, 3, 3, 4, 6, 7, 7, 2, 7, 4, 1, 2, 11, 5, 2, 4, 11, 2, 3, 3, 4, 2, 1, 6, 4, 5, 2, 4, 4, 3, 6, 7, 1, 6, 4, 11, 9, 3, 6, 6, 3, 9, 1, 5, 1, 2, 6, 2, 4, 5, 4, 8, 8, 6, 7, 6, 3, 2, 6, 4, 3, 1, 8, 8, 7, 3, 3, 5, 2, 5, 2, 4, 2, 3, 1, 7, 2, 7, 6, 1, 2, 2, 5, 4, 5, 3, 3, 4, 7, 2, 3, 2, 1, 5, 6, 6, 7, 4, 3, 3, 3, 5, 5, 2, 4, 6, 7, 1, 4, 5, 4, 5, 6, 1, 4, 1, 9, 10, 10, 11, 3, 4, 7, 3, 3, 3, 5, 2, 3, 5, 4, 1, 7, 4, 3, 2, 6, 4, 2, 5, 3, 3, 1, 2, 2, 2, 5, 4, 6, 3, 2, 3, 6, 2, 1, 3, 6, 7, 2, 3, 6, 2, 6, 4, 4, 3, 3, 6, 4, 3, 6, 13, 6, 4, 6, 8, 1, 4, 2, 2, 3, 2, 7, 3, 4, 3, 4, 5, 3, 4, 6, 8, 3, 10, 3, 8, 1, 5, 2, 4, 1, 6, 4, 4, 3, 5, 3, 4, 5, 3, 4, 2, 5, 5, 4, 4, 4, 4, 3, 2, 6, 4, 8, 3, 4, 7, 3, 9, 2, 9, 2, 3, 2, 3, 8, 7, 2, 3, 3, 3, 6, 1, 6, 4, 4, 6, 2, 4, 3, 4, 4, 2, 3, 4, 2, 1, 2, 4, 1, 3, 3, 4, 2, 5, 3, 4, 4, 6, 5, 2, 5, 5, 6, 5, 2, 3, 3, 5, 5, 1, 8, 4, 6, 5, 4, 1, 2, 1, 2, 13, 3, 7, 3, 1, 3, 2, 7, 6, 3, 5, 7, 1, 4, 2, 2, 1, 3, 4, 3, 5, 5, 4, 3, 3, 5, 3, 3, 6, 7, 3, 2, 5, 2, 1, 2, 11, 3, 2, 4, 2, 4, 2, 2, 7, 3, 2, 4, 6, 1, 5, 8, 6, 12, 8, 2, 2, 3, 4, 3, 4, 7, 3, 6, 5, 2, 12, 2, 3, 5, 7, 4, 1, 3, 3, 4, 7, 3, 3, 6, 6, 3, 2, 4, 8, 6, 4, 3, 3, 2, 4, 5, 2, 1, 8, 6, 9, 3, 2, 1, 8, 4, 1, 2, 3, 4, 7, 7, 2, 5, 4, 4, 2, 3, 2, 5, 8, 1, 5, 4, 6, 3, 3, 2, 2, 7, 11, 5, 3, 5, 3, 5, 3, 5, 5, 2, 6, 5, 8, 3, 5, 5, 2, 3, 2, 9, 5, 1, 4, 6, 2, 2, 5, 5, 5, 4, 2, 7, 4, 2, 2, 6, 3, 5, 1, 5, 5, 4, 6, 4, 6, 6, 9, 7, 2, 2, 4, 4, 8, 1, 4, 2, 5, 3, 5, 9, 3, 3, 2, 6, 6, 3, 6, 5, 3, 1, 2, 4, 1, 2, 3, 8, 5, 3, 2, 1, 4, 2, 3, 6, 6, 1, 2, 3, 3, 1, 3, 3, 4, 3, 3, 3, 4, 5, 5, 3, 5, 5, 3, 5, 3, 4, 10, 6, 4, 8, 4, 5, 5, 6, 7, 7, 3, 2, 1, 3, 3, 1, 2, 3, 5, 3, 3, 2, 6, 1, 4, 5, 2, 3, 2, 4, 9, 3, 5, 1, 7, 5, 6, 8, 4, 2, 1, 2, 7, 6, 9, 1, 3, 6, 8, 4, 5, 5, 1, 3, 7, 2, 5, 5, 4, 2, 10, 4, 1, 6, 11, 8, 5, 3, 3, 3, 3, 8, 5, 2, 6, 4, 2, 2, 3, 5, 4, 5, 4, 6, 4, 5, 1, 7, 5, 8, 5, 5, 9, 10, 4, 5, 4, 11, 5]\n"
          ],
          "name": "stdout"
        }
      ]
    },
    {
      "cell_type": "code",
      "metadata": {
        "id": "th11K_GdgbEz",
        "colab_type": "code",
        "colab": {
          "base_uri": "https://localhost:8080/",
          "height": 295
        },
        "outputId": "af1a851f-45da-471a-aeec-07343f156d4f"
      },
      "source": [
        "plt.hist(num_vio_not_oob, bins=15)\n",
        "plt.title('Distribution of number of violations committed in each inspection (in NOT oob facilities)')\n",
        "plt.xlabel('Number of violations in committed in an inspection')\n",
        "plt.ylabel('Inspection counts')\n",
        "plt.show()"
      ],
      "execution_count": 83,
      "outputs": [
        {
          "output_type": "display_data",
          "data": {
            "image/png": "[encoded data removed]",
            "text/plain": [
              "<Figure size 432x288 with 1 Axes>"
            ]
          },
          "metadata": {
            "tags": []
          }
        }
      ]
    },
    {
      "cell_type": "markdown",
      "metadata": {
        "id": "ztePsf8khEyr",
        "colab_type": "text"
      },
      "source": [
        "### **Average number of violations committed in each inspection (in facilities that did NOT go out of business)**"
      ]
    },
    {
      "cell_type": "code",
      "metadata": {
        "id": "hn4hEM26hJEy",
        "colab_type": "code",
        "colab": {
          "base_uri": "https://localhost:8080/",
          "height": 35
        },
        "outputId": "2affaf4d-61c3-43cc-ab7a-b7cbae1bb48b"
      },
      "source": [
        "np.mean(num_vio_not_oob)"
      ],
      "execution_count": 85,
      "outputs": [
        {
          "output_type": "execute_result",
          "data": {
            "text/plain": [
              "4.372990979909799"
            ]
          },
          "metadata": {
            "tags": []
          },
          "execution_count": 85
        }
      ]
    },
    {
      "cell_type": "markdown",
      "metadata": {
        "id": "kmhCqOVkZ8sm",
        "colab_type": "text"
      },
      "source": [
        "### **Distribution of total number of violations facilities commit before going out of business**"
      ]
    },
    {
      "cell_type": "code",
      "metadata": {
        "id": "pxPRncZyhe9-",
        "colab_type": "code",
        "colab": {
          "base_uri": "https://localhost:8080/",
          "height": 1000
        },
        "outputId": "f7076582-adf8-40af-c2ab-76b3f22ba5f6"
      },
      "source": [
        "oob_grouped_by_fac = merged_oob.groupby(['Latitude', 'Longitude', 'DBA Name', 'License #'])\n",
        "oob_grouped_by_fac.head(10)"
      ],
      "execution_count": 88,
      "outputs": [
        {
          "output_type": "execute_result",
          "data": {
            "text/html": [
              "<div>\n",
              "<style scoped>\n",
              "    .dataframe tbody tr th:only-of-type {\n",
              "        vertical-align: middle;\n",
              "    }\n",
              "\n",
              "    .dataframe tbody tr th {\n",
              "        vertical-align: top;\n",
              "    }\n",
              "\n",
              "    .dataframe thead th {\n",
              "        text-align: right;\n",
              "    }\n",
              "</style>\n",
              "<table border=\"1\" class=\"dataframe\">\n",
              "  <thead>\n",
              "    <tr style=\"text-align: right;\">\n",
              "      <th></th>\n",
              "      <th>Latitude</th>\n",
              "      <th>Longitude</th>\n",
              "      <th>DBA Name</th>\n",
              "      <th>License #</th>\n",
              "      <th>Unnamed: 0</th>\n",
              "      <th>Inspection ID</th>\n",
              "      <th>Facility Type</th>\n",
              "      <th>Risk</th>\n",
              "      <th>Zip</th>\n",
              "      <th>Inspection Date</th>\n",
              "      <th>Inspection Type</th>\n",
              "      <th>Results</th>\n",
              "      <th>Violations</th>\n",
              "    </tr>\n",
              "  </thead>\n",
              "  <tbody>\n",
              "    <tr>\n",
              "      <th>0</th>\n",
              "      <td>41.644670</td>\n",
              "      <td>-87.540095</td>\n",
              "      <td>BURGER KING #7268</td>\n",
              "      <td>1473518.0</td>\n",
              "      <td>95174</td>\n",
              "      <td>1527281</td>\n",
              "      <td>restaurant</td>\n",
              "      <td>2</td>\n",
              "      <td>60633.0</td>\n",
              "      <td>2015-02-23T00:00:00.000</td>\n",
              "      <td>Canvass</td>\n",
              "      <td>Out of Business</td>\n",
              "      <td>NaN</td>\n",
              "    </tr>\n",
              "    <tr>\n",
              "      <th>1</th>\n",
              "      <td>41.644670</td>\n",
              "      <td>-87.540095</td>\n",
              "      <td>BURGER KING #7268</td>\n",
              "      <td>1473518.0</td>\n",
              "      <td>105889</td>\n",
              "      <td>1494060</td>\n",
              "      <td>restaurant</td>\n",
              "      <td>2</td>\n",
              "      <td>60633.0</td>\n",
              "      <td>2014-08-26T00:00:00.000</td>\n",
              "      <td>Canvass Re-Inspection</td>\n",
              "      <td>Pass</td>\n",
              "      <td>NaN</td>\n",
              "    </tr>\n",
              "    <tr>\n",
              "      <th>2</th>\n",
              "      <td>41.644670</td>\n",
              "      <td>-87.540095</td>\n",
              "      <td>BURGER KING #7268</td>\n",
              "      <td>1473518.0</td>\n",
              "      <td>106477</td>\n",
              "      <td>1493718</td>\n",
              "      <td>restaurant</td>\n",
              "      <td>2</td>\n",
              "      <td>60633.0</td>\n",
              "      <td>2014-08-18T00:00:00.000</td>\n",
              "      <td>Canvass</td>\n",
              "      <td>Fail</td>\n",
              "      <td>12. HAND WASHING FACILITIES: WITH SOAP AND SAN...</td>\n",
              "    </tr>\n",
              "    <tr>\n",
              "      <th>3</th>\n",
              "      <td>41.644670</td>\n",
              "      <td>-87.540095</td>\n",
              "      <td>BURGER KING #7268</td>\n",
              "      <td>1473518.0</td>\n",
              "      <td>140719</td>\n",
              "      <td>1300984</td>\n",
              "      <td>restaurant</td>\n",
              "      <td>2</td>\n",
              "      <td>60633.0</td>\n",
              "      <td>2012-12-19T00:00:00.000</td>\n",
              "      <td>Canvass</td>\n",
              "      <td>Pass w/ Conditions</td>\n",
              "      <td>21. * CERTIFIED FOOD MANAGER ON SITE WHEN POTE...</td>\n",
              "    </tr>\n",
              "    <tr>\n",
              "      <th>4</th>\n",
              "      <td>41.644670</td>\n",
              "      <td>-87.540095</td>\n",
              "      <td>BURGER KING #7268</td>\n",
              "      <td>1473518.0</td>\n",
              "      <td>158865</td>\n",
              "      <td>537818</td>\n",
              "      <td>restaurant</td>\n",
              "      <td>2</td>\n",
              "      <td>60633.0</td>\n",
              "      <td>2012-01-10T00:00:00.000</td>\n",
              "      <td>Short Form Complaint</td>\n",
              "      <td>Pass w/ Conditions</td>\n",
              "      <td>8. SANITIZING RINSE FOR EQUIPMENT AND UTENSILS...</td>\n",
              "    </tr>\n",
              "    <tr>\n",
              "      <th>...</th>\n",
              "      <td>...</td>\n",
              "      <td>...</td>\n",
              "      <td>...</td>\n",
              "      <td>...</td>\n",
              "      <td>...</td>\n",
              "      <td>...</td>\n",
              "      <td>...</td>\n",
              "      <td>...</td>\n",
              "      <td>...</td>\n",
              "      <td>...</td>\n",
              "      <td>...</td>\n",
              "      <td>...</td>\n",
              "      <td>...</td>\n",
              "    </tr>\n",
              "    <tr>\n",
              "      <th>67358</th>\n",
              "      <td>42.020753</td>\n",
              "      <td>-87.672934</td>\n",
              "      <td>HOWARD AREA ALTERNATIVE HIGH SCHOOL</td>\n",
              "      <td>2510907.0</td>\n",
              "      <td>135089</td>\n",
              "      <td>1326791</td>\n",
              "      <td>school</td>\n",
              "      <td>1</td>\n",
              "      <td>60626.0</td>\n",
              "      <td>2013-04-08T00:00:00.000</td>\n",
              "      <td>Canvass</td>\n",
              "      <td>Pass</td>\n",
              "      <td>32. FOOD AND NON-FOOD CONTACT SURFACES PROPERL...</td>\n",
              "    </tr>\n",
              "    <tr>\n",
              "      <th>67359</th>\n",
              "      <td>42.020753</td>\n",
              "      <td>-87.672934</td>\n",
              "      <td>HOWARD AREA ALTERNATIVE HIGH SCHOOL</td>\n",
              "      <td>2510907.0</td>\n",
              "      <td>144419</td>\n",
              "      <td>1285809</td>\n",
              "      <td>school</td>\n",
              "      <td>1</td>\n",
              "      <td>60626.0</td>\n",
              "      <td>2012-10-11T00:00:00.000</td>\n",
              "      <td>Canvass Re-Inspection</td>\n",
              "      <td>Pass</td>\n",
              "      <td>41. PREMISES MAINTAINED FREE OF LITTER, UNNECE...</td>\n",
              "    </tr>\n",
              "    <tr>\n",
              "      <th>67360</th>\n",
              "      <td>42.020753</td>\n",
              "      <td>-87.672934</td>\n",
              "      <td>HOWARD AREA ALTERNATIVE HIGH SCHOOL</td>\n",
              "      <td>2510907.0</td>\n",
              "      <td>144763</td>\n",
              "      <td>1106356</td>\n",
              "      <td>school</td>\n",
              "      <td>1</td>\n",
              "      <td>60626.0</td>\n",
              "      <td>2012-10-04T00:00:00.000</td>\n",
              "      <td>Canvass</td>\n",
              "      <td>Fail</td>\n",
              "      <td>18. NO EVIDENCE OF RODENT OR INSECT OUTER OPEN...</td>\n",
              "    </tr>\n",
              "    <tr>\n",
              "      <th>67361</th>\n",
              "      <td>42.020753</td>\n",
              "      <td>-87.672934</td>\n",
              "      <td>HOWARD AREA ALTERNATIVE HIGH SCHOOL</td>\n",
              "      <td>2510907.0</td>\n",
              "      <td>152408</td>\n",
              "      <td>1214975</td>\n",
              "      <td>school</td>\n",
              "      <td>1</td>\n",
              "      <td>60626.0</td>\n",
              "      <td>2012-05-17T00:00:00.000</td>\n",
              "      <td>Canvass Re-Inspection</td>\n",
              "      <td>Pass w/ Conditions</td>\n",
              "      <td>21. * CERTIFIED FOOD MANAGER ON SITE WHEN POTE...</td>\n",
              "    </tr>\n",
              "    <tr>\n",
              "      <th>67362</th>\n",
              "      <td>42.020753</td>\n",
              "      <td>-87.672934</td>\n",
              "      <td>HOWARD AREA ALTERNATIVE HIGH SCHOOL</td>\n",
              "      <td>2510907.0</td>\n",
              "      <td>152774</td>\n",
              "      <td>1214788</td>\n",
              "      <td>school</td>\n",
              "      <td>1</td>\n",
              "      <td>60626.0</td>\n",
              "      <td>2012-05-10T00:00:00.000</td>\n",
              "      <td>Canvass</td>\n",
              "      <td>Fail</td>\n",
              "      <td>18. NO EVIDENCE OF RODENT OR INSECT OUTER OPEN...</td>\n",
              "    </tr>\n",
              "  </tbody>\n",
              "</table>\n",
              "<p>61069 rows × 13 columns</p>\n",
              "</div>"
            ],
            "text/plain": [
              "        Latitude  ...                                         Violations\n",
              "0      41.644670  ...                                                NaN\n",
              "1      41.644670  ...                                                NaN\n",
              "2      41.644670  ...  12. HAND WASHING FACILITIES: WITH SOAP AND SAN...\n",
              "3      41.644670  ...  21. * CERTIFIED FOOD MANAGER ON SITE WHEN POTE...\n",
              "4      41.644670  ...  8. SANITIZING RINSE FOR EQUIPMENT AND UTENSILS...\n",
              "...          ...  ...                                                ...\n",
              "67358  42.020753  ...  32. FOOD AND NON-FOOD CONTACT SURFACES PROPERL...\n",
              "67359  42.020753  ...  41. PREMISES MAINTAINED FREE OF LITTER, UNNECE...\n",
              "67360  42.020753  ...  18. NO EVIDENCE OF RODENT OR INSECT OUTER OPEN...\n",
              "67361  42.020753  ...  21. * CERTIFIED FOOD MANAGER ON SITE WHEN POTE...\n",
              "67362  42.020753  ...  18. NO EVIDENCE OF RODENT OR INSECT OUTER OPEN...\n",
              "\n",
              "[61069 rows x 13 columns]"
            ]
          },
          "metadata": {
            "tags": []
          },
          "execution_count": 88
        }
      ]
    },
    {
      "cell_type": "markdown",
      "metadata": {
        "id": "8x9xjsqAX1i3",
        "colab_type": "text"
      },
      "source": [
        "### **Average number of each violation type facilities commit before going out of business**"
      ]
    },
    {
      "cell_type": "markdown",
      "metadata": {
        "id": "q7w5eXyBYCVA",
        "colab_type": "text"
      },
      "source": [
        "### **Average number of violations facilities commit at each inspection before going out of business**"
      ]
    },
    {
      "cell_type": "markdown",
      "metadata": {
        "id": "yUp4yFCridfP",
        "colab_type": "text"
      },
      "source": [
        "### **Average risk of oob facilities vs. Average risk of NOT oob facilities**"
      ]
    },
    {
      "cell_type": "markdown",
      "metadata": {
        "id": "Vy1TK-w_GHKm",
        "colab_type": "text"
      },
      "source": [
        "### **Does the frequency of inspections increase once you fail?**\n",
        "\n",
        "\n"
      ]
    },
    {
      "cell_type": "markdown",
      "metadata": {
        "id": "nQr5lMSLoZSK",
        "colab_type": "text"
      },
      "source": [
        "## **Our plan for the future:**\n",
        "\n"
      ]
    },
    {
      "cell_type": "markdown",
      "metadata": {
        "id": "YYzLurHcsoX8",
        "colab_type": "text"
      },
      "source": [
        "- Analyze neighborhoods, taking a deep look into the locations of the facilities, and plotting the neighborhoods on the map (adding the region names on the map)\n",
        "- Look for hidden reasons why facilities go out of business, taking NLP approaches to process and find out the most frequent violation types\n",
        "- The trends (risk, violation types, pass/fail results, etc.) facilities follow until they go out of business\n",
        "- Look for the #1 violation type of the neighborhood\n",
        "- Prepare poster presentation"
      ]
    }
  ]
}