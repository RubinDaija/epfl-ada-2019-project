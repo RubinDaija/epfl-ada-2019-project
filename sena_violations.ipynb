{
  "nbformat": 4,
  "nbformat_minor": 0,
  "metadata": {
    "accelerator": "GPU",
    "colab": {
      "name": "sena_violations.ipynb",
      "provenance": [],
      "collapsed_sections": [
        "kCcCYtxFXmlu"
      ],
      "include_colab_link": true
    },
    "kernelspec": {
      "display_name": "Python [conda env:py36] *",
      "language": "python",
      "name": "conda-env-py36-py"
    },
    "language_info": {
      "codemirror_mode": {
        "name": "ipython",
        "version": 3
      },
      "file_extension": ".py",
      "mimetype": "text/x-python",
      "name": "python",
      "nbconvert_exporter": "python",
      "pygments_lexer": "ipython3",
      "version": "3.6.9"
    }
  },
  "cells": [
    {
      "cell_type": "markdown",
      "metadata": {
        "id": "view-in-github",
        "colab_type": "text"
      },
      "source": [
        "<a href=\"https://colab.research.google.com/github/RubinDaija/epfl-ada-2019-project/blob/master/sena_violations.ipynb\" target=\"_parent\"><img src=\"https://colab.research.google.com/assets/colab-badge.svg\" alt=\"Open In Colab\"/></a>"
      ]
    },
    {
      "cell_type": "markdown",
      "metadata": {
        "colab_type": "text",
        "id": "-Tvl9ABtLcXB"
      },
      "source": [
        "# **Necessary Imports**"
      ]
    },
    {
      "cell_type": "code",
      "metadata": {
        "colab_type": "code",
        "id": "y8CsC8G1r9hy",
        "colab": {}
      },
      "source": [
        "%matplotlib inline\n",
        "import pandas as pd\n",
        "import numpy as np\n",
        "import re\n",
        "from matplotlib.ticker import MaxNLocator\n",
        "import matplotlib.pyplot as plt\n",
        "from scipy import stats\n",
        "from folium.plugins import MarkerCluster\n",
        "import warnings\n",
        "import folium\n",
        "import zipfile"
      ],
      "execution_count": 0,
      "outputs": []
    },
    {
      "cell_type": "code",
      "metadata": {
        "id": "raxd7zI0V87t",
        "colab_type": "code",
        "colab": {
          "base_uri": "https://localhost:8080/",
          "height": 35
        },
        "outputId": "3d7d6339-71c8-4080-8fa2-e669da445014"
      },
      "source": [
        "#-- Uncomment this if using Google Colab / Comment this if using Jupyter Lab --#\n",
        "\n",
        "from google.colab import drive\n",
        "drive.mount('/content/drive')\n",
        "\n",
        "df = pd.read_csv('/content/drive/My Drive/Project_2/food-inspections.csv')"
      ],
      "execution_count": 160,
      "outputs": [
        {
          "output_type": "stream",
          "text": [
            "Drive already mounted at /content/drive; to attempt to forcibly remount, call drive.mount(\"/content/drive\", force_remount=True).\n"
          ],
          "name": "stdout"
        }
      ]
    },
    {
      "cell_type": "code",
      "metadata": {
        "colab_type": "code",
        "id": "W-StO1Nyr9h5",
        "outputId": "a3d08523-8b70-4576-ff67-564d75c6c77b",
        "colab": {
          "base_uri": "https://localhost:8080/",
          "height": 35
        }
      },
      "source": [
        "#-- Uncomment this if using Jupyter Lab / Comment this if using Google Colab --#\n",
        "'''\n",
        "zf = zipfile.ZipFile('chicago_dropped.zip')\n",
        "df = pd.read_csv(zf.open('chicago_dropped/food_inspections.csv'))\n",
        "'''"
      ],
      "execution_count": 161,
      "outputs": [
        {
          "output_type": "execute_result",
          "data": {
            "text/plain": [
              "\"\\nzf = zipfile.ZipFile('chicago_dropped.zip')\\ndf = pd.read_csv(zf.open('chicago_dropped/food_inspections.csv'))\\n\""
            ]
          },
          "metadata": {
            "tags": []
          },
          "execution_count": 161
        }
      ]
    },
    {
      "cell_type": "markdown",
      "metadata": {
        "colab_type": "text",
        "id": "N_D_0xcgOQgx"
      },
      "source": [
        "# **Data Analysis**"
      ]
    },
    {
      "cell_type": "markdown",
      "metadata": {
        "colab_type": "text",
        "id": "p8evugJae-ZT"
      },
      "source": [
        "### **Number of Unique Facilities**"
      ]
    },
    {
      "cell_type": "code",
      "metadata": {
        "colab_type": "code",
        "id": "beW4DumFfDkS",
        "outputId": "8fe56369-4704-4923-f1e8-e9d27277bb0f",
        "colab": {
          "base_uri": "https://localhost:8080/",
          "height": 35
        }
      },
      "source": [
        "df_unique = df.groupby(['Latitude','Longitude','DBA Name']).count()\n",
        "print(\"Number of unique facilities: \" + str(df_unique.shape[0]))"
      ],
      "execution_count": 162,
      "outputs": [
        {
          "output_type": "stream",
          "text": [
            "Number of unique facilities: 27068\n"
          ],
          "name": "stdout"
        }
      ]
    },
    {
      "cell_type": "markdown",
      "metadata": {
        "colab_type": "text",
        "id": "Z8_DWQ9xr9iW"
      },
      "source": [
        "### **Facility Type vs. Average Risk**\n"
      ]
    },
    {
      "cell_type": "markdown",
      "metadata": {
        "colab_type": "text",
        "id": "2NYPWCi6PEV0"
      },
      "source": [
        "We analyzed the relationship between the type of facility and the average risk of that facility over all inspections:"
      ]
    },
    {
      "cell_type": "code",
      "metadata": {
        "colab_type": "code",
        "id": "rj-CxjLpr9iR",
        "colab": {}
      },
      "source": [
        "# Aggregate data over Facility Type\n",
        "grouped_fac = df.groupby('Facility Type')"
      ],
      "execution_count": 0,
      "outputs": []
    },
    {
      "cell_type": "code",
      "metadata": {
        "colab_type": "code",
        "id": "9EsVpnqxr9iT",
        "outputId": "8c581755-5c6b-4d2a-fd1a-13c1563a9a82",
        "colab": {
          "base_uri": "https://localhost:8080/",
          "height": 200
        }
      },
      "source": [
        "# Compute average risk of each type of facility\n",
        "grouped_fac_risk_mean = pd.DataFrame(grouped_fac['Risk'].mean()).reset_index()\n",
        "grouped_fac_risk_mean.head()"
      ],
      "execution_count": 164,
      "outputs": [
        {
          "output_type": "execute_result",
          "data": {
            "text/html": [
              "<div>\n",
              "<style scoped>\n",
              "    .dataframe tbody tr th:only-of-type {\n",
              "        vertical-align: middle;\n",
              "    }\n",
              "\n",
              "    .dataframe tbody tr th {\n",
              "        vertical-align: top;\n",
              "    }\n",
              "\n",
              "    .dataframe thead th {\n",
              "        text-align: right;\n",
              "    }\n",
              "</style>\n",
              "<table border=\"1\" class=\"dataframe\">\n",
              "  <thead>\n",
              "    <tr style=\"text-align: right;\">\n",
              "      <th></th>\n",
              "      <th>Facility Type</th>\n",
              "      <th>Risk</th>\n",
              "    </tr>\n",
              "  </thead>\n",
              "  <tbody>\n",
              "    <tr>\n",
              "      <th>0</th>\n",
              "      <td>ADULT FAMILY CARE CENTER</td>\n",
              "      <td>1.00000</td>\n",
              "    </tr>\n",
              "    <tr>\n",
              "      <th>1</th>\n",
              "      <td>AIRPORT LOUNGE</td>\n",
              "      <td>1.50000</td>\n",
              "    </tr>\n",
              "    <tr>\n",
              "      <th>2</th>\n",
              "      <td>ART GALLERY</td>\n",
              "      <td>3.00000</td>\n",
              "    </tr>\n",
              "    <tr>\n",
              "      <th>3</th>\n",
              "      <td>ASSISTED LIVING/NURSING HOME</td>\n",
              "      <td>1.00000</td>\n",
              "    </tr>\n",
              "    <tr>\n",
              "      <th>4</th>\n",
              "      <td>BAKERY</td>\n",
              "      <td>1.62949</td>\n",
              "    </tr>\n",
              "  </tbody>\n",
              "</table>\n",
              "</div>"
            ],
            "text/plain": [
              "                  Facility Type     Risk\n",
              "0      ADULT FAMILY CARE CENTER  1.00000\n",
              "1                AIRPORT LOUNGE  1.50000\n",
              "2                   ART GALLERY  3.00000\n",
              "3  ASSISTED LIVING/NURSING HOME  1.00000\n",
              "4                        BAKERY  1.62949"
            ]
          },
          "metadata": {
            "tags": []
          },
          "execution_count": 164
        }
      ]
    },
    {
      "cell_type": "code",
      "metadata": {
        "colab_type": "code",
        "id": "UTR_QVrtr9iX",
        "outputId": "cccc30da-7a5b-4004-f223-c46b4bcf5a92",
        "scrolled": true,
        "colab": {
          "base_uri": "https://localhost:8080/",
          "height": 429
        }
      },
      "source": [
        "# Compute number of facilities in each type of facility\n",
        "fac_dist = pd.DataFrame(grouped_fac.count()['Risk']).rename(columns={'Risk':'Counts'}).sort_values(by='Counts',ascending=False).reset_index()\n",
        "print(\"Number of different types of facilities :\" + str(fac_dist.size))\n",
        "fac_dist.head(100)"
      ],
      "execution_count": 165,
      "outputs": [
        {
          "output_type": "stream",
          "text": [
            "Number of different types of facilities :236\n"
          ],
          "name": "stdout"
        },
        {
          "output_type": "execute_result",
          "data": {
            "text/html": [
              "<div>\n",
              "<style scoped>\n",
              "    .dataframe tbody tr th:only-of-type {\n",
              "        vertical-align: middle;\n",
              "    }\n",
              "\n",
              "    .dataframe tbody tr th {\n",
              "        vertical-align: top;\n",
              "    }\n",
              "\n",
              "    .dataframe thead th {\n",
              "        text-align: right;\n",
              "    }\n",
              "</style>\n",
              "<table border=\"1\" class=\"dataframe\">\n",
              "  <thead>\n",
              "    <tr style=\"text-align: right;\">\n",
              "      <th></th>\n",
              "      <th>Facility Type</th>\n",
              "      <th>Counts</th>\n",
              "    </tr>\n",
              "  </thead>\n",
              "  <tbody>\n",
              "    <tr>\n",
              "      <th>0</th>\n",
              "      <td>RESTAURANT</td>\n",
              "      <td>131852</td>\n",
              "    </tr>\n",
              "    <tr>\n",
              "      <th>1</th>\n",
              "      <td>RETAIL STORE</td>\n",
              "      <td>25635</td>\n",
              "    </tr>\n",
              "    <tr>\n",
              "      <th>2</th>\n",
              "      <td>SCHOOL</td>\n",
              "      <td>12054</td>\n",
              "    </tr>\n",
              "    <tr>\n",
              "      <th>3</th>\n",
              "      <td>DAYCARE</td>\n",
              "      <td>9537</td>\n",
              "    </tr>\n",
              "    <tr>\n",
              "      <th>4</th>\n",
              "      <td>BAKERY</td>\n",
              "      <td>2923</td>\n",
              "    </tr>\n",
              "    <tr>\n",
              "      <th>...</th>\n",
              "      <td>...</td>\n",
              "      <td>...</td>\n",
              "    </tr>\n",
              "    <tr>\n",
              "      <th>95</th>\n",
              "      <td>FOOD BOOTH</td>\n",
              "      <td>2</td>\n",
              "    </tr>\n",
              "    <tr>\n",
              "      <th>96</th>\n",
              "      <td>VENDING MACHINE</td>\n",
              "      <td>2</td>\n",
              "    </tr>\n",
              "    <tr>\n",
              "      <th>97</th>\n",
              "      <td>VFW HALL</td>\n",
              "      <td>2</td>\n",
              "    </tr>\n",
              "    <tr>\n",
              "      <th>98</th>\n",
              "      <td>BOYS AND GIRLS CLUB</td>\n",
              "      <td>2</td>\n",
              "    </tr>\n",
              "    <tr>\n",
              "      <th>99</th>\n",
              "      <td>BLOCKBUSTER VIDEO</td>\n",
              "      <td>2</td>\n",
              "    </tr>\n",
              "  </tbody>\n",
              "</table>\n",
              "<p>100 rows × 2 columns</p>\n",
              "</div>"
            ],
            "text/plain": [
              "          Facility Type  Counts\n",
              "0            RESTAURANT  131852\n",
              "1          RETAIL STORE   25635\n",
              "2                SCHOOL   12054\n",
              "3               DAYCARE    9537\n",
              "4                BAKERY    2923\n",
              "..                  ...     ...\n",
              "95           FOOD BOOTH       2\n",
              "96      VENDING MACHINE       2\n",
              "97             VFW HALL       2\n",
              "98  BOYS AND GIRLS CLUB       2\n",
              "99    BLOCKBUSTER VIDEO       2\n",
              "\n",
              "[100 rows x 2 columns]"
            ]
          },
          "metadata": {
            "tags": []
          },
          "execution_count": 165
        }
      ]
    },
    {
      "cell_type": "markdown",
      "metadata": {
        "colab_type": "text",
        "id": "ZBPvbW_CYMPj"
      },
      "source": [
        "When we plotted the number of facilities in each type of facility vs. their average risk score, we observed no correlation between the two. We observed that the facility type with the highest number of facilities (i.e. restaurant) has a very high average risk score:"
      ]
    },
    {
      "cell_type": "markdown",
      "metadata": {
        "colab_type": "text",
        "id": "eVZEtg_iXrnc"
      },
      "source": [
        "### **Facility Type Distribution**"
      ]
    },
    {
      "cell_type": "markdown",
      "metadata": {
        "colab_type": "text",
        "id": "7-3nrh5PXIbv"
      },
      "source": [
        "From the bar plot below, we can clearly observe the skewed distribution in Facility Type. Most of our data consists of restaurant, grocery store, and school types of facilities:"
      ]
    },
    {
      "cell_type": "code",
      "metadata": {
        "colab_type": "code",
        "id": "TDqfH9CZS9Ws",
        "outputId": "8220716b-f1ed-41aa-bea4-3d8ef60b82b9",
        "colab": {
          "base_uri": "https://localhost:8080/",
          "height": 312
        }
      },
      "source": [
        "plt.barh(fac_dist.head(10)['Facility Type'],fac_dist.head(10)['Counts'], color='slateblue')\n",
        "plt.title('Distribution of facility types')\n",
        "plt.xlabel('Number of establishments')\n",
        "plt.ylabel('Facility Types')"
      ],
      "execution_count": 166,
      "outputs": [
        {
          "output_type": "execute_result",
          "data": {
            "text/plain": [
              "Text(0, 0.5, 'Facility Types')"
            ]
          },
          "metadata": {
            "tags": []
          },
          "execution_count": 166
        },
        {
          "output_type": "display_data",
          "data": {
            "image/png": "[encoded data removed]",
            "text/plain": [
              "<Figure size 432x288 with 1 Axes>"
            ]
          },
          "metadata": {
            "tags": []
          }
        }
      ]
    },
    {
      "cell_type": "markdown",
      "metadata": {
        "colab_type": "text",
        "id": "CKLyGPdMYipy"
      },
      "source": [
        "### **Number of Facilities in a Type vs. Average Risk Score**"
      ]
    },
    {
      "cell_type": "code",
      "metadata": {
        "colab_type": "code",
        "id": "byAJr65ir9iZ",
        "outputId": "7bf6f4e7-d301-4192-b11b-8a2602448c7b",
        "colab": {
          "base_uri": "https://localhost:8080/",
          "height": 297
        }
      },
      "source": [
        "# Perform inner merge on number of facilities and their risk scores \n",
        "merged_inner = pd.merge(left=fac_dist,right=grouped_fac_risk_mean,left_on='Facility Type',right_on='Facility Type')\n",
        "# Scatter plot: number of facilities in each type (i.e. facility type) vs. average risk score\n",
        "merged_inner.plot.scatter(x='Counts', y='Risk')"
      ],
      "execution_count": 167,
      "outputs": [
        {
          "output_type": "execute_result",
          "data": {
            "text/plain": [
              "<matplotlib.axes._subplots.AxesSubplot at 0x7f05e954db00>"
            ]
          },
          "metadata": {
            "tags": []
          },
          "execution_count": 167
        },
        {
          "output_type": "display_data",
          "data": {
            "image/png": "[encoded data removed]",
            "text/plain": [
              "<Figure size 432x288 with 1 Axes>"
            ]
          },
          "metadata": {
            "tags": []
          }
        }
      ]
    },
    {
      "cell_type": "markdown",
      "metadata": {
        "colab_type": "text",
        "id": "8-RqdwUPr9id"
      },
      "source": [
        "We realized that the dataset is unbalanced in terms of number of Facility Types, where there are some Facility Types with very few instances. The types of facilities with very few instances would provide us with little to no information. Hence, we decided to analyze the 50 most frequent type of facilities and drop the others:"
      ]
    },
    {
      "cell_type": "code",
      "metadata": {
        "colab_type": "code",
        "id": "8OU47lhMr9ie",
        "outputId": "3fd5ed3a-c00c-4c7e-92e9-6e1f5415c733",
        "colab": {
          "base_uri": "https://localhost:8080/",
          "height": 52
        }
      },
      "source": [
        "print(\"Number of entries before removing facility types with few instances: \" + str(df.size))\n",
        "df = df[df['Facility Type'].isin(list(fac_dist['Facility Type'])[:50])]\n",
        "print(\"Number of entries after removing facility types with few instances: \" + str(df.size))"
      ],
      "execution_count": 168,
      "outputs": [
        {
          "output_type": "stream",
          "text": [
            "Number of entries before removing facility types with few instances: 3074928\n",
            "Number of entries after removing facility types with few instances: 3071184\n"
          ],
          "name": "stdout"
        }
      ]
    },
    {
      "cell_type": "markdown",
      "metadata": {
        "id": "077HTo-6OdqP",
        "colab_type": "text"
      },
      "source": [
        "Out of business facilities:"
      ]
    },
    {
      "cell_type": "code",
      "metadata": {
        "id": "Uqy24euOM2TS",
        "colab_type": "code",
        "colab": {
          "base_uri": "https://localhost:8080/",
          "height": 35
        },
        "outputId": "f06a3c54-7602-4fb4-b154-4c0b75885788"
      },
      "source": [
        "# Out of business facilities\n",
        "df_oob = df[df.Results.str.contains(\"Out of Business\",na=False)]\n",
        "df_oob\n",
        "# Grouped by the facilities\n",
        "df_oob_unique = df_oob.groupby(['Latitude','Longitude','DBA Name']).count()\n",
        "df_oob_unique.shape"
      ],
      "execution_count": 169,
      "outputs": [
        {
          "output_type": "execute_result",
          "data": {
            "text/plain": [
              "(12083, 13)"
            ]
          },
          "metadata": {
            "tags": []
          },
          "execution_count": 169
        }
      ]
    },
    {
      "cell_type": "markdown",
      "metadata": {
        "id": "g8Yh67sFOwPU",
        "colab_type": "text"
      },
      "source": [
        "###**Year analysis**"
      ]
    },
    {
      "cell_type": "code",
      "metadata": {
        "id": "alh2uBT1QA8B",
        "colab_type": "code",
        "outputId": "be1db18c-d49f-49d9-f609-dd6d3009acae",
        "colab": {
          "base_uri": "https://localhost:8080/",
          "height": 0
        }
      },
      "source": [
        "df_oob['year'] = df_oob['Inspection Date'].apply(lambda x: x.split('-')[0])\n",
        "df_oob['month'] = df_oob['Inspection Date'].apply(lambda x: x.split('-')[1])\n",
        "df_oob.head()"
      ],
      "execution_count": 170,
      "outputs": [
        {
          "output_type": "stream",
          "text": [
            "/usr/local/lib/python3.6/dist-packages/ipykernel_launcher.py:1: SettingWithCopyWarning: \n",
            "A value is trying to be set on a copy of a slice from a DataFrame.\n",
            "Try using .loc[row_indexer,col_indexer] = value instead\n",
            "\n",
            "See the caveats in the documentation: http://pandas.pydata.org/pandas-docs/stable/user_guide/indexing.html#returning-a-view-versus-a-copy\n",
            "  \"\"\"Entry point for launching an IPython kernel.\n",
            "/usr/local/lib/python3.6/dist-packages/ipykernel_launcher.py:2: SettingWithCopyWarning: \n",
            "A value is trying to be set on a copy of a slice from a DataFrame.\n",
            "Try using .loc[row_indexer,col_indexer] = value instead\n",
            "\n",
            "See the caveats in the documentation: http://pandas.pydata.org/pandas-docs/stable/user_guide/indexing.html#returning-a-view-versus-a-copy\n",
            "  \n"
          ],
          "name": "stderr"
        },
        {
          "output_type": "execute_result",
          "data": {
            "text/html": [
              "<div>\n",
              "<style scoped>\n",
              "    .dataframe tbody tr th:only-of-type {\n",
              "        vertical-align: middle;\n",
              "    }\n",
              "\n",
              "    .dataframe tbody tr th {\n",
              "        vertical-align: top;\n",
              "    }\n",
              "\n",
              "    .dataframe thead th {\n",
              "        text-align: right;\n",
              "    }\n",
              "</style>\n",
              "<table border=\"1\" class=\"dataframe\">\n",
              "  <thead>\n",
              "    <tr style=\"text-align: right;\">\n",
              "      <th></th>\n",
              "      <th>Inspection ID</th>\n",
              "      <th>DBA Name</th>\n",
              "      <th>AKA Name</th>\n",
              "      <th>License #</th>\n",
              "      <th>Facility Type</th>\n",
              "      <th>Risk</th>\n",
              "      <th>Address</th>\n",
              "      <th>Zip</th>\n",
              "      <th>Inspection Date</th>\n",
              "      <th>Inspection Type</th>\n",
              "      <th>Results</th>\n",
              "      <th>Violations</th>\n",
              "      <th>Latitude</th>\n",
              "      <th>Longitude</th>\n",
              "      <th>Location</th>\n",
              "      <th>Regions</th>\n",
              "      <th>year</th>\n",
              "      <th>month</th>\n",
              "    </tr>\n",
              "  </thead>\n",
              "  <tbody>\n",
              "    <tr>\n",
              "      <th>32</th>\n",
              "      <td>2352681</td>\n",
              "      <td>BAR-B-Q TONITE</td>\n",
              "      <td>BAR-B-Q TONITE</td>\n",
              "      <td>2563933.0</td>\n",
              "      <td>RESTAURANT</td>\n",
              "      <td>1</td>\n",
              "      <td>6348 N ARTESIAN AVE</td>\n",
              "      <td>60659.0</td>\n",
              "      <td>2019-12-03T00:00:00.000</td>\n",
              "      <td>CANVASS</td>\n",
              "      <td>Out of Business</td>\n",
              "      <td>NaN</td>\n",
              "      <td>41.997335</td>\n",
              "      <td>-87.691240</td>\n",
              "      <td>{'latitude': '-87.69123961702296', 'longitude'...</td>\n",
              "      <td>WEST RIDGE</td>\n",
              "      <td>2019</td>\n",
              "      <td>12</td>\n",
              "    </tr>\n",
              "    <tr>\n",
              "      <th>39</th>\n",
              "      <td>2352679</td>\n",
              "      <td>ZAIQA RESTAURANT</td>\n",
              "      <td>ZAIQA RESTAURANT</td>\n",
              "      <td>2632018.0</td>\n",
              "      <td>RESTAURANT</td>\n",
              "      <td>1</td>\n",
              "      <td>2245 W DEVON AVE</td>\n",
              "      <td>60659.0</td>\n",
              "      <td>2019-12-03T00:00:00.000</td>\n",
              "      <td>CANVASS</td>\n",
              "      <td>Out of Business</td>\n",
              "      <td>NaN</td>\n",
              "      <td>41.997674</td>\n",
              "      <td>-87.686756</td>\n",
              "      <td>{'latitude': '-87.6867563084304', 'longitude':...</td>\n",
              "      <td>WEST RIDGE</td>\n",
              "      <td>2019</td>\n",
              "      <td>12</td>\n",
              "    </tr>\n",
              "    <tr>\n",
              "      <th>49</th>\n",
              "      <td>2352524</td>\n",
              "      <td>TC HOTDOGS</td>\n",
              "      <td>TC HOTDOGS</td>\n",
              "      <td>1954116.0</td>\n",
              "      <td>RESTAURANT</td>\n",
              "      <td>2</td>\n",
              "      <td>1740 N KOSTNER AVE</td>\n",
              "      <td>60639.0</td>\n",
              "      <td>2019-12-02T00:00:00.000</td>\n",
              "      <td>CANVASS</td>\n",
              "      <td>Out of Business</td>\n",
              "      <td>NaN</td>\n",
              "      <td>41.912770</td>\n",
              "      <td>-87.736348</td>\n",
              "      <td>{'latitude': '-87.7363483567106', 'longitude':...</td>\n",
              "      <td>HUMBOLDT PARK</td>\n",
              "      <td>2019</td>\n",
              "      <td>12</td>\n",
              "    </tr>\n",
              "    <tr>\n",
              "      <th>73</th>\n",
              "      <td>2352554</td>\n",
              "      <td>EAT &amp; DRINK</td>\n",
              "      <td>EAT &amp; DRINK</td>\n",
              "      <td>2069092.0</td>\n",
              "      <td>RESTAURANT</td>\n",
              "      <td>1</td>\n",
              "      <td>4649 N DAMEN AVE</td>\n",
              "      <td>60625.0</td>\n",
              "      <td>2019-12-02T00:00:00.000</td>\n",
              "      <td>CANVASS</td>\n",
              "      <td>Out of Business</td>\n",
              "      <td>NaN</td>\n",
              "      <td>41.966583</td>\n",
              "      <td>-87.678975</td>\n",
              "      <td>{'latitude': '-87.67897535059605', 'longitude'...</td>\n",
              "      <td>LINCOLN SQUARE</td>\n",
              "      <td>2019</td>\n",
              "      <td>12</td>\n",
              "    </tr>\n",
              "    <tr>\n",
              "      <th>101</th>\n",
              "      <td>2352437</td>\n",
              "      <td>LABRIOL BAKERY AND CAFE</td>\n",
              "      <td>LABRIOLA BAKERY AND CAFE</td>\n",
              "      <td>2374837.0</td>\n",
              "      <td>BAKERY</td>\n",
              "      <td>2</td>\n",
              "      <td>1237 W FULTON MARKET</td>\n",
              "      <td>60607.0</td>\n",
              "      <td>2019-11-27T00:00:00.000</td>\n",
              "      <td>CANVASS</td>\n",
              "      <td>Out of Business</td>\n",
              "      <td>NaN</td>\n",
              "      <td>41.886547</td>\n",
              "      <td>-87.658324</td>\n",
              "      <td>{'latitude': '-87.6583238753014', 'longitude':...</td>\n",
              "      <td>NEAR WEST SIDE</td>\n",
              "      <td>2019</td>\n",
              "      <td>11</td>\n",
              "    </tr>\n",
              "  </tbody>\n",
              "</table>\n",
              "</div>"
            ],
            "text/plain": [
              "     Inspection ID                 DBA Name  ...  year  month\n",
              "32         2352681           BAR-B-Q TONITE  ...  2019     12\n",
              "39         2352679         ZAIQA RESTAURANT  ...  2019     12\n",
              "49         2352524               TC HOTDOGS  ...  2019     12\n",
              "73         2352554              EAT & DRINK  ...  2019     12\n",
              "101        2352437  LABRIOL BAKERY AND CAFE  ...  2019     11\n",
              "\n",
              "[5 rows x 18 columns]"
            ]
          },
          "metadata": {
            "tags": []
          },
          "execution_count": 170
        }
      ]
    },
    {
      "cell_type": "code",
      "metadata": {
        "id": "dCU3X4NGQA8D",
        "colab_type": "code",
        "colab": {}
      },
      "source": [
        "df_year = df_oob.groupby(\"year\").count()['Results'].reset_index().rename(columns={'Results':'Count'})"
      ],
      "execution_count": 0,
      "outputs": []
    },
    {
      "cell_type": "code",
      "metadata": {
        "id": "PJLopC5oQA8F",
        "colab_type": "code",
        "outputId": "cd8c6e19-666f-4376-e9ec-d87ef05c5877",
        "colab": {
          "base_uri": "https://localhost:8080/",
          "height": 0
        }
      },
      "source": [
        "fig, axs = plt.subplots(1, 1, constrained_layout=True)\n",
        "axs.set_title('The number of facilities that went out of business vs. year')\n",
        "axs.set_xlabel('count')\n",
        "axs.set_ylabel('years')\n",
        "axs.barh(df_year['year'],df_year['Count'])"
      ],
      "execution_count": 172,
      "outputs": [
        {
          "output_type": "execute_result",
          "data": {
            "text/plain": [
              "<BarContainer object of 10 artists>"
            ]
          },
          "metadata": {
            "tags": []
          },
          "execution_count": 172
        },
        {
          "output_type": "display_data",
          "data": {
            "image/png": "[encoded data removed]",
            "text/plain": [
              "<Figure size 432x288 with 1 Axes>"
            ]
          },
          "metadata": {
            "tags": []
          }
        }
      ]
    },
    {
      "cell_type": "markdown",
      "metadata": {
        "id": "_VrQeb4nQA8M",
        "colab_type": "text"
      },
      "source": [
        "In the plot above, we can see that year 2013 is the year where the number of closed down facilities peaks. Therefore, we wil analyse the year 2013."
      ]
    },
    {
      "cell_type": "code",
      "metadata": {
        "id": "NwX6nAciQA8M",
        "colab_type": "code",
        "colab": {}
      },
      "source": [
        "df_oob2013 = df_oob[df_oob.year.str.contains(\"2013\",na=False)]\n",
        "df_oob_not2013 = df_oob[~df_oob.year.str.contains(\"2013\",na=False)]"
      ],
      "execution_count": 0,
      "outputs": []
    },
    {
      "cell_type": "code",
      "metadata": {
        "id": "kF38GhpxQA8O",
        "colab_type": "code",
        "outputId": "23883875-822c-4bea-8888-e1299d0b3f19",
        "colab": {
          "base_uri": "https://localhost:8080/",
          "height": 0
        }
      },
      "source": [
        "df_oob2013.groupby(\"Regions\").count().rename(columns={'Results':'Counts'}).sort_values(by='Counts',ascending=False)['Counts'].reset_index().head(15)"
      ],
      "execution_count": 174,
      "outputs": [
        {
          "output_type": "execute_result",
          "data": {
            "text/html": [
              "<div>\n",
              "<style scoped>\n",
              "    .dataframe tbody tr th:only-of-type {\n",
              "        vertical-align: middle;\n",
              "    }\n",
              "\n",
              "    .dataframe tbody tr th {\n",
              "        vertical-align: top;\n",
              "    }\n",
              "\n",
              "    .dataframe thead th {\n",
              "        text-align: right;\n",
              "    }\n",
              "</style>\n",
              "<table border=\"1\" class=\"dataframe\">\n",
              "  <thead>\n",
              "    <tr style=\"text-align: right;\">\n",
              "      <th></th>\n",
              "      <th>Regions</th>\n",
              "      <th>Counts</th>\n",
              "    </tr>\n",
              "  </thead>\n",
              "  <tbody>\n",
              "    <tr>\n",
              "      <th>0</th>\n",
              "      <td>LAKE VIEW</td>\n",
              "      <td>173</td>\n",
              "    </tr>\n",
              "    <tr>\n",
              "      <th>1</th>\n",
              "      <td>LOOP</td>\n",
              "      <td>159</td>\n",
              "    </tr>\n",
              "    <tr>\n",
              "      <th>2</th>\n",
              "      <td>NEAR NORTH SIDE</td>\n",
              "      <td>124</td>\n",
              "    </tr>\n",
              "    <tr>\n",
              "      <th>3</th>\n",
              "      <td>LINCOLN PARK</td>\n",
              "      <td>117</td>\n",
              "    </tr>\n",
              "    <tr>\n",
              "      <th>4</th>\n",
              "      <td>NEAR SOUTH SIDE</td>\n",
              "      <td>114</td>\n",
              "    </tr>\n",
              "    <tr>\n",
              "      <th>5</th>\n",
              "      <td>WEST TOWN</td>\n",
              "      <td>97</td>\n",
              "    </tr>\n",
              "    <tr>\n",
              "      <th>6</th>\n",
              "      <td>NEAR WEST SIDE</td>\n",
              "      <td>91</td>\n",
              "    </tr>\n",
              "    <tr>\n",
              "      <th>7</th>\n",
              "      <td>LOGAN SQUARE</td>\n",
              "      <td>77</td>\n",
              "    </tr>\n",
              "    <tr>\n",
              "      <th>8</th>\n",
              "      <td>AUSTIN</td>\n",
              "      <td>74</td>\n",
              "    </tr>\n",
              "    <tr>\n",
              "      <th>9</th>\n",
              "      <td>WEST RIDGE</td>\n",
              "      <td>59</td>\n",
              "    </tr>\n",
              "    <tr>\n",
              "      <th>10</th>\n",
              "      <td>ROGERS PARK</td>\n",
              "      <td>57</td>\n",
              "    </tr>\n",
              "    <tr>\n",
              "      <th>11</th>\n",
              "      <td>BELMONT CRAGIN</td>\n",
              "      <td>52</td>\n",
              "    </tr>\n",
              "    <tr>\n",
              "      <th>12</th>\n",
              "      <td>SOUTH LAWNDALE</td>\n",
              "      <td>45</td>\n",
              "    </tr>\n",
              "    <tr>\n",
              "      <th>13</th>\n",
              "      <td>ROSELAND</td>\n",
              "      <td>44</td>\n",
              "    </tr>\n",
              "    <tr>\n",
              "      <th>14</th>\n",
              "      <td>LOWER WEST SIDE</td>\n",
              "      <td>44</td>\n",
              "    </tr>\n",
              "  </tbody>\n",
              "</table>\n",
              "</div>"
            ],
            "text/plain": [
              "            Regions  Counts\n",
              "0         LAKE VIEW     173\n",
              "1              LOOP     159\n",
              "2   NEAR NORTH SIDE     124\n",
              "3      LINCOLN PARK     117\n",
              "4   NEAR SOUTH SIDE     114\n",
              "5         WEST TOWN      97\n",
              "6    NEAR WEST SIDE      91\n",
              "7      LOGAN SQUARE      77\n",
              "8            AUSTIN      74\n",
              "9        WEST RIDGE      59\n",
              "10      ROGERS PARK      57\n",
              "11   BELMONT CRAGIN      52\n",
              "12   SOUTH LAWNDALE      45\n",
              "13         ROSELAND      44\n",
              "14  LOWER WEST SIDE      44"
            ]
          },
          "metadata": {
            "tags": []
          },
          "execution_count": 174
        }
      ]
    },
    {
      "cell_type": "markdown",
      "metadata": {
        "colab_type": "text",
        "id": "DZzu7EOQr9ig"
      },
      "source": [
        "As we can see from the code above, there are around 20 thousand facilities that dont have as much inspections as the others. As a result, data set is more balanced now"
      ]
    },
    {
      "cell_type": "code",
      "metadata": {
        "id": "2KRC6HCxQA8R",
        "colab_type": "code",
        "outputId": "38c0262c-d272-4115-f2db-442b306341db",
        "colab": {
          "base_uri": "https://localhost:8080/",
          "height": 0
        }
      },
      "source": [
        "df_oob_not2013.groupby(\"Regions\").count().rename(columns={'Results':'Counts'}).sort_values(by='Counts',ascending=False)['Counts'].reset_index().head(15)"
      ],
      "execution_count": 175,
      "outputs": [
        {
          "output_type": "execute_result",
          "data": {
            "text/html": [
              "<div>\n",
              "<style scoped>\n",
              "    .dataframe tbody tr th:only-of-type {\n",
              "        vertical-align: middle;\n",
              "    }\n",
              "\n",
              "    .dataframe tbody tr th {\n",
              "        vertical-align: top;\n",
              "    }\n",
              "\n",
              "    .dataframe thead th {\n",
              "        text-align: right;\n",
              "    }\n",
              "</style>\n",
              "<table border=\"1\" class=\"dataframe\">\n",
              "  <thead>\n",
              "    <tr style=\"text-align: right;\">\n",
              "      <th></th>\n",
              "      <th>Regions</th>\n",
              "      <th>Counts</th>\n",
              "    </tr>\n",
              "  </thead>\n",
              "  <tbody>\n",
              "    <tr>\n",
              "      <th>0</th>\n",
              "      <td>NEAR NORTH SIDE</td>\n",
              "      <td>721</td>\n",
              "    </tr>\n",
              "    <tr>\n",
              "      <th>1</th>\n",
              "      <td>LOOP</td>\n",
              "      <td>642</td>\n",
              "    </tr>\n",
              "    <tr>\n",
              "      <th>2</th>\n",
              "      <td>LAKE VIEW</td>\n",
              "      <td>615</td>\n",
              "    </tr>\n",
              "    <tr>\n",
              "      <th>3</th>\n",
              "      <td>NEAR WEST SIDE</td>\n",
              "      <td>560</td>\n",
              "    </tr>\n",
              "    <tr>\n",
              "      <th>4</th>\n",
              "      <td>WEST TOWN</td>\n",
              "      <td>445</td>\n",
              "    </tr>\n",
              "    <tr>\n",
              "      <th>5</th>\n",
              "      <td>AUSTIN</td>\n",
              "      <td>399</td>\n",
              "    </tr>\n",
              "    <tr>\n",
              "      <th>6</th>\n",
              "      <td>LINCOLN PARK</td>\n",
              "      <td>383</td>\n",
              "    </tr>\n",
              "    <tr>\n",
              "      <th>7</th>\n",
              "      <td>LOGAN SQUARE</td>\n",
              "      <td>353</td>\n",
              "    </tr>\n",
              "    <tr>\n",
              "      <th>8</th>\n",
              "      <td>WEST RIDGE</td>\n",
              "      <td>292</td>\n",
              "    </tr>\n",
              "    <tr>\n",
              "      <th>9</th>\n",
              "      <td>ALBANY PARK</td>\n",
              "      <td>281</td>\n",
              "    </tr>\n",
              "    <tr>\n",
              "      <th>10</th>\n",
              "      <td>BELMONT CRAGIN</td>\n",
              "      <td>279</td>\n",
              "    </tr>\n",
              "    <tr>\n",
              "      <th>11</th>\n",
              "      <td>SOUTH LAWNDALE</td>\n",
              "      <td>256</td>\n",
              "    </tr>\n",
              "    <tr>\n",
              "      <th>12</th>\n",
              "      <td>UPTOWN</td>\n",
              "      <td>223</td>\n",
              "    </tr>\n",
              "    <tr>\n",
              "      <th>13</th>\n",
              "      <td>EDGEWATER</td>\n",
              "      <td>219</td>\n",
              "    </tr>\n",
              "    <tr>\n",
              "      <th>14</th>\n",
              "      <td>LINCOLN SQUARE</td>\n",
              "      <td>211</td>\n",
              "    </tr>\n",
              "  </tbody>\n",
              "</table>\n",
              "</div>"
            ],
            "text/plain": [
              "            Regions  Counts\n",
              "0   NEAR NORTH SIDE     721\n",
              "1              LOOP     642\n",
              "2         LAKE VIEW     615\n",
              "3    NEAR WEST SIDE     560\n",
              "4         WEST TOWN     445\n",
              "5            AUSTIN     399\n",
              "6      LINCOLN PARK     383\n",
              "7      LOGAN SQUARE     353\n",
              "8        WEST RIDGE     292\n",
              "9       ALBANY PARK     281\n",
              "10   BELMONT CRAGIN     279\n",
              "11   SOUTH LAWNDALE     256\n",
              "12           UPTOWN     223\n",
              "13        EDGEWATER     219\n",
              "14   LINCOLN SQUARE     211"
            ]
          },
          "metadata": {
            "tags": []
          },
          "execution_count": 175
        }
      ]
    },
    {
      "cell_type": "code",
      "metadata": {
        "id": "uDpoB_YMQA8U",
        "colab_type": "code",
        "outputId": "4dfa99cf-bfa5-44d1-86aa-c251fa81de9c",
        "colab": {
          "base_uri": "https://localhost:8080/",
          "height": 0
        }
      },
      "source": [
        "df_month_year = df_oob.groupby([\"year\",\"month\"]).count()['Results'].reset_index().rename(columns={'Results':'Count'})\n",
        "df_month_year.sort_values(by='Count', ascending = False).head(10)"
      ],
      "execution_count": 176,
      "outputs": [
        {
          "output_type": "execute_result",
          "data": {
            "text/html": [
              "<div>\n",
              "<style scoped>\n",
              "    .dataframe tbody tr th:only-of-type {\n",
              "        vertical-align: middle;\n",
              "    }\n",
              "\n",
              "    .dataframe tbody tr th {\n",
              "        vertical-align: top;\n",
              "    }\n",
              "\n",
              "    .dataframe thead th {\n",
              "        text-align: right;\n",
              "    }\n",
              "</style>\n",
              "<table border=\"1\" class=\"dataframe\">\n",
              "  <thead>\n",
              "    <tr style=\"text-align: right;\">\n",
              "      <th></th>\n",
              "      <th>year</th>\n",
              "      <th>month</th>\n",
              "      <th>Count</th>\n",
              "    </tr>\n",
              "  </thead>\n",
              "  <tbody>\n",
              "    <tr>\n",
              "      <th>40</th>\n",
              "      <td>2013</td>\n",
              "      <td>09</td>\n",
              "      <td>369</td>\n",
              "    </tr>\n",
              "    <tr>\n",
              "      <th>41</th>\n",
              "      <td>2013</td>\n",
              "      <td>10</td>\n",
              "      <td>354</td>\n",
              "    </tr>\n",
              "    <tr>\n",
              "      <th>42</th>\n",
              "      <td>2013</td>\n",
              "      <td>11</td>\n",
              "      <td>301</td>\n",
              "    </tr>\n",
              "    <tr>\n",
              "      <th>39</th>\n",
              "      <td>2013</td>\n",
              "      <td>08</td>\n",
              "      <td>235</td>\n",
              "    </tr>\n",
              "    <tr>\n",
              "      <th>64</th>\n",
              "      <td>2015</td>\n",
              "      <td>09</td>\n",
              "      <td>232</td>\n",
              "    </tr>\n",
              "    <tr>\n",
              "      <th>67</th>\n",
              "      <td>2015</td>\n",
              "      <td>12</td>\n",
              "      <td>229</td>\n",
              "    </tr>\n",
              "    <tr>\n",
              "      <th>52</th>\n",
              "      <td>2014</td>\n",
              "      <td>09</td>\n",
              "      <td>222</td>\n",
              "    </tr>\n",
              "    <tr>\n",
              "      <th>55</th>\n",
              "      <td>2014</td>\n",
              "      <td>12</td>\n",
              "      <td>213</td>\n",
              "    </tr>\n",
              "    <tr>\n",
              "      <th>76</th>\n",
              "      <td>2016</td>\n",
              "      <td>09</td>\n",
              "      <td>212</td>\n",
              "    </tr>\n",
              "    <tr>\n",
              "      <th>66</th>\n",
              "      <td>2015</td>\n",
              "      <td>11</td>\n",
              "      <td>201</td>\n",
              "    </tr>\n",
              "  </tbody>\n",
              "</table>\n",
              "</div>"
            ],
            "text/plain": [
              "    year month  Count\n",
              "40  2013    09    369\n",
              "41  2013    10    354\n",
              "42  2013    11    301\n",
              "39  2013    08    235\n",
              "64  2015    09    232\n",
              "67  2015    12    229\n",
              "52  2014    09    222\n",
              "55  2014    12    213\n",
              "76  2016    09    212\n",
              "66  2015    11    201"
            ]
          },
          "metadata": {
            "tags": []
          },
          "execution_count": 176
        }
      ]
    },
    {
      "cell_type": "code",
      "metadata": {
        "id": "mE1-H3eJQA8W",
        "colab_type": "code",
        "outputId": "521a863a-5dc6-4456-ce21-fcdb9dc8d89e",
        "colab": {
          "base_uri": "https://localhost:8080/",
          "height": 0
        }
      },
      "source": [
        "df_month = df_oob.groupby([\"month\"]).count()['Results'].reset_index().rename(columns={'Results':'Count'})\n",
        "df_month.head(12)"
      ],
      "execution_count": 177,
      "outputs": [
        {
          "output_type": "execute_result",
          "data": {
            "text/html": [
              "<div>\n",
              "<style scoped>\n",
              "    .dataframe tbody tr th:only-of-type {\n",
              "        vertical-align: middle;\n",
              "    }\n",
              "\n",
              "    .dataframe tbody tr th {\n",
              "        vertical-align: top;\n",
              "    }\n",
              "\n",
              "    .dataframe thead th {\n",
              "        text-align: right;\n",
              "    }\n",
              "</style>\n",
              "<table border=\"1\" class=\"dataframe\">\n",
              "  <thead>\n",
              "    <tr style=\"text-align: right;\">\n",
              "      <th></th>\n",
              "      <th>month</th>\n",
              "      <th>Count</th>\n",
              "    </tr>\n",
              "  </thead>\n",
              "  <tbody>\n",
              "    <tr>\n",
              "      <th>0</th>\n",
              "      <td>01</td>\n",
              "      <td>894</td>\n",
              "    </tr>\n",
              "    <tr>\n",
              "      <th>1</th>\n",
              "      <td>02</td>\n",
              "      <td>801</td>\n",
              "    </tr>\n",
              "    <tr>\n",
              "      <th>2</th>\n",
              "      <td>03</td>\n",
              "      <td>857</td>\n",
              "    </tr>\n",
              "    <tr>\n",
              "      <th>3</th>\n",
              "      <td>04</td>\n",
              "      <td>921</td>\n",
              "    </tr>\n",
              "    <tr>\n",
              "      <th>4</th>\n",
              "      <td>05</td>\n",
              "      <td>1189</td>\n",
              "    </tr>\n",
              "    <tr>\n",
              "      <th>5</th>\n",
              "      <td>06</td>\n",
              "      <td>1051</td>\n",
              "    </tr>\n",
              "    <tr>\n",
              "      <th>6</th>\n",
              "      <td>07</td>\n",
              "      <td>1007</td>\n",
              "    </tr>\n",
              "    <tr>\n",
              "      <th>7</th>\n",
              "      <td>08</td>\n",
              "      <td>1273</td>\n",
              "    </tr>\n",
              "    <tr>\n",
              "      <th>8</th>\n",
              "      <td>09</td>\n",
              "      <td>1625</td>\n",
              "    </tr>\n",
              "    <tr>\n",
              "      <th>9</th>\n",
              "      <td>10</td>\n",
              "      <td>1485</td>\n",
              "    </tr>\n",
              "    <tr>\n",
              "      <th>10</th>\n",
              "      <td>11</td>\n",
              "      <td>1343</td>\n",
              "    </tr>\n",
              "    <tr>\n",
              "      <th>11</th>\n",
              "      <td>12</td>\n",
              "      <td>1261</td>\n",
              "    </tr>\n",
              "  </tbody>\n",
              "</table>\n",
              "</div>"
            ],
            "text/plain": [
              "   month  Count\n",
              "0     01    894\n",
              "1     02    801\n",
              "2     03    857\n",
              "3     04    921\n",
              "4     05   1189\n",
              "5     06   1051\n",
              "6     07   1007\n",
              "7     08   1273\n",
              "8     09   1625\n",
              "9     10   1485\n",
              "10    11   1343\n",
              "11    12   1261"
            ]
          },
          "metadata": {
            "tags": []
          },
          "execution_count": 177
        }
      ]
    },
    {
      "cell_type": "code",
      "metadata": {
        "id": "hqRRCjFyQA8Y",
        "colab_type": "code",
        "outputId": "0cc54942-07f4-4e24-9f0b-3bad822950ed",
        "colab": {
          "base_uri": "https://localhost:8080/",
          "height": 0
        }
      },
      "source": [
        "fig, axs = plt.subplots(1, 1, constrained_layout=True)\n",
        "axs.set_title('The number of facilities that went out of business vs. month')\n",
        "axs.set_xlabel('count')\n",
        "axs.set_ylabel('month')\n",
        "axs.barh(df_month['month'],df_month['Count'])"
      ],
      "execution_count": 178,
      "outputs": [
        {
          "output_type": "execute_result",
          "data": {
            "text/plain": [
              "<BarContainer object of 12 artists>"
            ]
          },
          "metadata": {
            "tags": []
          },
          "execution_count": 178
        },
        {
          "output_type": "display_data",
          "data": {
            "image/png": "[encoded data removed]",
            "text/plain": [
              "<Figure size 432x288 with 1 Axes>"
            ]
          },
          "metadata": {
            "tags": []
          }
        }
      ]
    },
    {
      "cell_type": "markdown",
      "metadata": {
        "id": "MsgTAqs-EMuT",
        "colab_type": "text"
      },
      "source": [
        "### **Number of inspections vs. average risk score**"
      ]
    },
    {
      "cell_type": "markdown",
      "metadata": {
        "colab_type": "text",
        "id": "gedBg9DbwYnV"
      },
      "source": [
        "We plotted the number of inspections vs. the average risk score of each facility to identify any possible correlation between the two. We observed the there is a negative correlation between the number of inspections and the average risk of the facility:"
      ]
    },
    {
      "cell_type": "code",
      "metadata": {
        "id": "_ZmEjJhoLfat",
        "colab_type": "code",
        "colab": {}
      },
      "source": [
        "# Calculate risk mean of each facility\n",
        "df_avg_risk_score = df.groupby(['Latitude','Longitude','DBA Name'])['Risk'].mean()"
      ],
      "execution_count": 0,
      "outputs": []
    },
    {
      "cell_type": "code",
      "metadata": {
        "colab_type": "code",
        "id": "SliEvDVHr9iz",
        "outputId": "ebbe286a-597d-471e-e9fa-f9a99d89344e",
        "colab": {
          "base_uri": "https://localhost:8080/",
          "height": 297
        }
      },
      "source": [
        "# Scatter plot on the number of inspections vs. the average risk score\n",
        "df_unique = pd.DataFrame(df.groupby(['Latitude','Longitude','DBA Name']).count()['Risk']).rename(columns={'Risk':'Counts'})\n",
        "merged = pd.merge(left=df_avg_risk_score.reset_index(),right=df_unique.reset_index(),left_on=['Latitude','Longitude','DBA Name'],right_on=['Latitude','Longitude','DBA Name'])\n",
        "merged.plot.scatter(x='Risk', y='Counts')"
      ],
      "execution_count": 180,
      "outputs": [
        {
          "output_type": "execute_result",
          "data": {
            "text/plain": [
              "<matplotlib.axes._subplots.AxesSubplot at 0x7f05eb93ec50>"
            ]
          },
          "metadata": {
            "tags": []
          },
          "execution_count": 180
        },
        {
          "output_type": "display_data",
          "data": {
            "image/png": "[encoded data removed]",
            "text/plain": [
              "<Figure size 432x288 with 1 Axes>"
            ]
          },
          "metadata": {
            "tags": []
          }
        }
      ]
    },
    {
      "cell_type": "markdown",
      "metadata": {
        "colab_type": "text",
        "id": "WYaFos2Ir9i4"
      },
      "source": [
        "We observed that the number of risk 3 facilities are lower than the others. Hence, we decided to plot average risk scores vs number of facilities."
      ]
    },
    {
      "cell_type": "markdown",
      "metadata": {
        "colab_type": "text",
        "id": "jRnO5vZlnNtd"
      },
      "source": [
        "### **Correlation between Number of Inspections and Average Level of Risk**"
      ]
    },
    {
      "cell_type": "markdown",
      "metadata": {
        "colab_type": "text",
        "id": "VT4v4wC_yRha"
      },
      "source": [
        "We observed a moderate positive correlation between the number of inspections and average level of risk of the facility (since Risk 1 means high risk and Risk 3 means low risk):"
      ]
    },
    {
      "cell_type": "code",
      "metadata": {
        "colab_type": "code",
        "id": "DTX2ONt9w7V8",
        "outputId": "ad33d60d-3f44-45cb-ef41-350d29a1e7e6",
        "colab": {
          "base_uri": "https://localhost:8080/",
          "height": 109
        }
      },
      "source": [
        "merged[['Risk', 'Counts']].corr(method='pearson')"
      ],
      "execution_count": 181,
      "outputs": [
        {
          "output_type": "execute_result",
          "data": {
            "text/html": [
              "<div>\n",
              "<style scoped>\n",
              "    .dataframe tbody tr th:only-of-type {\n",
              "        vertical-align: middle;\n",
              "    }\n",
              "\n",
              "    .dataframe tbody tr th {\n",
              "        vertical-align: top;\n",
              "    }\n",
              "\n",
              "    .dataframe thead th {\n",
              "        text-align: right;\n",
              "    }\n",
              "</style>\n",
              "<table border=\"1\" class=\"dataframe\">\n",
              "  <thead>\n",
              "    <tr style=\"text-align: right;\">\n",
              "      <th></th>\n",
              "      <th>Risk</th>\n",
              "      <th>Counts</th>\n",
              "    </tr>\n",
              "  </thead>\n",
              "  <tbody>\n",
              "    <tr>\n",
              "      <th>Risk</th>\n",
              "      <td>1.000000</td>\n",
              "      <td>-0.365569</td>\n",
              "    </tr>\n",
              "    <tr>\n",
              "      <th>Counts</th>\n",
              "      <td>-0.365569</td>\n",
              "      <td>1.000000</td>\n",
              "    </tr>\n",
              "  </tbody>\n",
              "</table>\n",
              "</div>"
            ],
            "text/plain": [
              "            Risk    Counts\n",
              "Risk    1.000000 -0.365569\n",
              "Counts -0.365569  1.000000"
            ]
          },
          "metadata": {
            "tags": []
          },
          "execution_count": 181
        }
      ]
    },
    {
      "cell_type": "code",
      "metadata": {
        "id": "x27lZ6gtA-2A",
        "colab_type": "code",
        "colab": {
          "base_uri": "https://localhost:8080/",
          "height": 109
        },
        "outputId": "33cfa850-2992-43bc-80e2-c1253b5389fd"
      },
      "source": [
        "merged[['Risk', 'Counts']].corr(method='spearman')"
      ],
      "execution_count": 182,
      "outputs": [
        {
          "output_type": "execute_result",
          "data": {
            "text/html": [
              "<div>\n",
              "<style scoped>\n",
              "    .dataframe tbody tr th:only-of-type {\n",
              "        vertical-align: middle;\n",
              "    }\n",
              "\n",
              "    .dataframe tbody tr th {\n",
              "        vertical-align: top;\n",
              "    }\n",
              "\n",
              "    .dataframe thead th {\n",
              "        text-align: right;\n",
              "    }\n",
              "</style>\n",
              "<table border=\"1\" class=\"dataframe\">\n",
              "  <thead>\n",
              "    <tr style=\"text-align: right;\">\n",
              "      <th></th>\n",
              "      <th>Risk</th>\n",
              "      <th>Counts</th>\n",
              "    </tr>\n",
              "  </thead>\n",
              "  <tbody>\n",
              "    <tr>\n",
              "      <th>Risk</th>\n",
              "      <td>1.000000</td>\n",
              "      <td>-0.433247</td>\n",
              "    </tr>\n",
              "    <tr>\n",
              "      <th>Counts</th>\n",
              "      <td>-0.433247</td>\n",
              "      <td>1.000000</td>\n",
              "    </tr>\n",
              "  </tbody>\n",
              "</table>\n",
              "</div>"
            ],
            "text/plain": [
              "            Risk    Counts\n",
              "Risk    1.000000 -0.433247\n",
              "Counts -0.433247  1.000000"
            ]
          },
          "metadata": {
            "tags": []
          },
          "execution_count": 182
        }
      ]
    },
    {
      "cell_type": "markdown",
      "metadata": {
        "colab_type": "text",
        "id": "TcYiy6JonijB"
      },
      "source": [
        "### **Distribution of Risk Scores of Facilities**"
      ]
    },
    {
      "cell_type": "code",
      "metadata": {
        "colab_type": "code",
        "id": "1aMedXkjr9i4",
        "outputId": "4632665f-d6cf-4e78-9607-a8db1e48d1a3",
        "colab": {
          "base_uri": "https://localhost:8080/",
          "height": 170
        }
      },
      "source": [
        "# Grouped by risk scores and number of facilities\n",
        "df_avg_risk_score1 = pd.DataFrame(df_avg_risk_score).apply(lambda x: round(x)).reset_index()\n",
        "df_avg_risk_score1 = pd.DataFrame(df_avg_risk_score1.groupby('Risk').count()['Latitude']).rename(columns={'Latitude':'Counts'})\n",
        "df_avg_risk_score1"
      ],
      "execution_count": 183,
      "outputs": [
        {
          "output_type": "execute_result",
          "data": {
            "text/html": [
              "<div>\n",
              "<style scoped>\n",
              "    .dataframe tbody tr th:only-of-type {\n",
              "        vertical-align: middle;\n",
              "    }\n",
              "\n",
              "    .dataframe tbody tr th {\n",
              "        vertical-align: top;\n",
              "    }\n",
              "\n",
              "    .dataframe thead th {\n",
              "        text-align: right;\n",
              "    }\n",
              "</style>\n",
              "<table border=\"1\" class=\"dataframe\">\n",
              "  <thead>\n",
              "    <tr style=\"text-align: right;\">\n",
              "      <th></th>\n",
              "      <th>Counts</th>\n",
              "    </tr>\n",
              "    <tr>\n",
              "      <th>Risk</th>\n",
              "      <th></th>\n",
              "    </tr>\n",
              "  </thead>\n",
              "  <tbody>\n",
              "    <tr>\n",
              "      <th>1.0</th>\n",
              "      <td>15581</td>\n",
              "    </tr>\n",
              "    <tr>\n",
              "      <th>2.0</th>\n",
              "      <td>6720</td>\n",
              "    </tr>\n",
              "    <tr>\n",
              "      <th>3.0</th>\n",
              "      <td>4688</td>\n",
              "    </tr>\n",
              "  </tbody>\n",
              "</table>\n",
              "</div>"
            ],
            "text/plain": [
              "      Counts\n",
              "Risk        \n",
              "1.0    15581\n",
              "2.0     6720\n",
              "3.0     4688"
            ]
          },
          "metadata": {
            "tags": []
          },
          "execution_count": 183
        }
      ]
    },
    {
      "cell_type": "markdown",
      "metadata": {
        "colab_type": "text",
        "id": "QHzvzFwLn1ot"
      },
      "source": [
        "We visualized the distribution of average level of risk scores of each facility using the bar plot below:"
      ]
    },
    {
      "cell_type": "code",
      "metadata": {
        "colab_type": "code",
        "id": "H-8wb6jkr9i6",
        "outputId": "97752263-a0b3-4988-e1a4-e24f86f21912",
        "colab": {
          "base_uri": "https://localhost:8080/",
          "height": 312
        }
      },
      "source": [
        "plt.bar(df_avg_risk_score1.index,df_avg_risk_score1['Counts'], color='darkcyan')\n",
        "plt.title('Distribution of average level of risk')\n",
        "plt.xlabel('Average risk score')\n",
        "plt.ylabel('Number of facilities')"
      ],
      "execution_count": 184,
      "outputs": [
        {
          "output_type": "execute_result",
          "data": {
            "text/plain": [
              "Text(0, 0.5, 'Number of facilities')"
            ]
          },
          "metadata": {
            "tags": []
          },
          "execution_count": 184
        },
        {
          "output_type": "display_data",
          "data": {
            "image/png": "[encoded data removed]",
            "text/plain": [
              "<Figure size 432x288 with 1 Axes>"
            ]
          },
          "metadata": {
            "tags": []
          }
        }
      ]
    },
    {
      "cell_type": "markdown",
      "metadata": {
        "colab_type": "text",
        "id": "_n637CHg_9jG"
      },
      "source": [
        "### **Type of Facility vs. Percentage of Going Out of Business**"
      ]
    },
    {
      "cell_type": "code",
      "metadata": {
        "colab_type": "code",
        "id": "hU9hCSduAtKO",
        "outputId": "dbd10851-a4f0-4565-a9fd-5c8a54808edc",
        "colab": {
          "base_uri": "https://localhost:8080/",
          "height": 200
        }
      },
      "source": [
        "# Data grouped by the facility type\n",
        "fac_dist.head()"
      ],
      "execution_count": 185,
      "outputs": [
        {
          "output_type": "execute_result",
          "data": {
            "text/html": [
              "<div>\n",
              "<style scoped>\n",
              "    .dataframe tbody tr th:only-of-type {\n",
              "        vertical-align: middle;\n",
              "    }\n",
              "\n",
              "    .dataframe tbody tr th {\n",
              "        vertical-align: top;\n",
              "    }\n",
              "\n",
              "    .dataframe thead th {\n",
              "        text-align: right;\n",
              "    }\n",
              "</style>\n",
              "<table border=\"1\" class=\"dataframe\">\n",
              "  <thead>\n",
              "    <tr style=\"text-align: right;\">\n",
              "      <th></th>\n",
              "      <th>Facility Type</th>\n",
              "      <th>Counts</th>\n",
              "    </tr>\n",
              "  </thead>\n",
              "  <tbody>\n",
              "    <tr>\n",
              "      <th>0</th>\n",
              "      <td>RESTAURANT</td>\n",
              "      <td>131852</td>\n",
              "    </tr>\n",
              "    <tr>\n",
              "      <th>1</th>\n",
              "      <td>RETAIL STORE</td>\n",
              "      <td>25635</td>\n",
              "    </tr>\n",
              "    <tr>\n",
              "      <th>2</th>\n",
              "      <td>SCHOOL</td>\n",
              "      <td>12054</td>\n",
              "    </tr>\n",
              "    <tr>\n",
              "      <th>3</th>\n",
              "      <td>DAYCARE</td>\n",
              "      <td>9537</td>\n",
              "    </tr>\n",
              "    <tr>\n",
              "      <th>4</th>\n",
              "      <td>BAKERY</td>\n",
              "      <td>2923</td>\n",
              "    </tr>\n",
              "  </tbody>\n",
              "</table>\n",
              "</div>"
            ],
            "text/plain": [
              "  Facility Type  Counts\n",
              "0    RESTAURANT  131852\n",
              "1  RETAIL STORE   25635\n",
              "2        SCHOOL   12054\n",
              "3       DAYCARE    9537\n",
              "4        BAKERY    2923"
            ]
          },
          "metadata": {
            "tags": []
          },
          "execution_count": 185
        }
      ]
    },
    {
      "cell_type": "code",
      "metadata": {
        "colab_type": "code",
        "id": "-sqDIFO0A4IU",
        "colab": {}
      },
      "source": [
        "# Group out of business facilities on facility type\n",
        "df_oob_fac = pd.DataFrame(df_oob.groupby('Facility Type').count().rename(columns={'Risk':'Counts'})['Counts'])\n",
        "merged_fac_oob = pd.merge(left=df_oob_fac.reset_index(), right=fac_dist.reset_index(),left_on=['Facility Type'],right_on=['Facility Type'])"
      ],
      "execution_count": 0,
      "outputs": []
    },
    {
      "cell_type": "code",
      "metadata": {
        "colab_type": "code",
        "id": "A87w-TYQAvyu",
        "outputId": "6ba3c014-ee7b-4863-9927-16ac79b1ea14",
        "colab": {
          "base_uri": "https://localhost:8080/",
          "height": 200
        }
      },
      "source": [
        "merged_fac_oob.head()"
      ],
      "execution_count": 187,
      "outputs": [
        {
          "output_type": "execute_result",
          "data": {
            "text/html": [
              "<div>\n",
              "<style scoped>\n",
              "    .dataframe tbody tr th:only-of-type {\n",
              "        vertical-align: middle;\n",
              "    }\n",
              "\n",
              "    .dataframe tbody tr th {\n",
              "        vertical-align: top;\n",
              "    }\n",
              "\n",
              "    .dataframe thead th {\n",
              "        text-align: right;\n",
              "    }\n",
              "</style>\n",
              "<table border=\"1\" class=\"dataframe\">\n",
              "  <thead>\n",
              "    <tr style=\"text-align: right;\">\n",
              "      <th></th>\n",
              "      <th>Facility Type</th>\n",
              "      <th>Counts_x</th>\n",
              "      <th>index</th>\n",
              "      <th>Counts_y</th>\n",
              "    </tr>\n",
              "  </thead>\n",
              "  <tbody>\n",
              "    <tr>\n",
              "      <th>0</th>\n",
              "      <td>ASSISTED LIVING/NURSING HOME</td>\n",
              "      <td>4</td>\n",
              "      <td>21</td>\n",
              "      <td>95</td>\n",
              "    </tr>\n",
              "    <tr>\n",
              "      <th>1</th>\n",
              "      <td>BAKERY</td>\n",
              "      <td>249</td>\n",
              "      <td>4</td>\n",
              "      <td>2923</td>\n",
              "    </tr>\n",
              "    <tr>\n",
              "      <th>2</th>\n",
              "      <td>BANQUET</td>\n",
              "      <td>19</td>\n",
              "      <td>13</td>\n",
              "      <td>338</td>\n",
              "    </tr>\n",
              "    <tr>\n",
              "      <th>3</th>\n",
              "      <td>BAR</td>\n",
              "      <td>6</td>\n",
              "      <td>24</td>\n",
              "      <td>81</td>\n",
              "    </tr>\n",
              "    <tr>\n",
              "      <th>4</th>\n",
              "      <td>BUTCHER</td>\n",
              "      <td>5</td>\n",
              "      <td>34</td>\n",
              "      <td>34</td>\n",
              "    </tr>\n",
              "  </tbody>\n",
              "</table>\n",
              "</div>"
            ],
            "text/plain": [
              "                  Facility Type  Counts_x  index  Counts_y\n",
              "0  ASSISTED LIVING/NURSING HOME         4     21        95\n",
              "1                        BAKERY       249      4      2923\n",
              "2                       BANQUET        19     13       338\n",
              "3                           BAR         6     24        81\n",
              "4                       BUTCHER         5     34        34"
            ]
          },
          "metadata": {
            "tags": []
          },
          "execution_count": 187
        }
      ]
    },
    {
      "cell_type": "code",
      "metadata": {
        "colab_type": "code",
        "id": "le_INawoDHVL",
        "colab": {}
      },
      "source": [
        "merged_fac_oob['Oob Ratio'] = merged_fac_oob['Counts_x'].divide(merged_fac_oob['Counts_y'], fill_value=1)"
      ],
      "execution_count": 0,
      "outputs": []
    },
    {
      "cell_type": "code",
      "metadata": {
        "colab_type": "code",
        "id": "qlwbJvSnDrT1",
        "outputId": "12e97f6d-de06-42af-f7fd-7dc8702c12c7",
        "colab": {
          "base_uri": "https://localhost:8080/",
          "height": 200
        }
      },
      "source": [
        "merged_fac_oob.sort_values(by='Oob Ratio', ascending=False).drop(columns='index').head()"
      ],
      "execution_count": 189,
      "outputs": [
        {
          "output_type": "execute_result",
          "data": {
            "text/html": [
              "<div>\n",
              "<style scoped>\n",
              "    .dataframe tbody tr th:only-of-type {\n",
              "        vertical-align: middle;\n",
              "    }\n",
              "\n",
              "    .dataframe tbody tr th {\n",
              "        vertical-align: top;\n",
              "    }\n",
              "\n",
              "    .dataframe thead th {\n",
              "        text-align: right;\n",
              "    }\n",
              "</style>\n",
              "<table border=\"1\" class=\"dataframe\">\n",
              "  <thead>\n",
              "    <tr style=\"text-align: right;\">\n",
              "      <th></th>\n",
              "      <th>Facility Type</th>\n",
              "      <th>Counts_x</th>\n",
              "      <th>Counts_y</th>\n",
              "      <th>Oob Ratio</th>\n",
              "    </tr>\n",
              "  </thead>\n",
              "  <tbody>\n",
              "    <tr>\n",
              "      <th>30</th>\n",
              "      <td>PANTRY</td>\n",
              "      <td>5</td>\n",
              "      <td>9</td>\n",
              "      <td>0.555556</td>\n",
              "    </tr>\n",
              "    <tr>\n",
              "      <th>14</th>\n",
              "      <td>DISTRIBUTION</td>\n",
              "      <td>3</td>\n",
              "      <td>10</td>\n",
              "      <td>0.300000</td>\n",
              "    </tr>\n",
              "    <tr>\n",
              "      <th>41</th>\n",
              "      <td>WAREHOUSE</td>\n",
              "      <td>2</td>\n",
              "      <td>13</td>\n",
              "      <td>0.153846</td>\n",
              "    </tr>\n",
              "    <tr>\n",
              "      <th>4</th>\n",
              "      <td>BUTCHER</td>\n",
              "      <td>5</td>\n",
              "      <td>34</td>\n",
              "      <td>0.147059</td>\n",
              "    </tr>\n",
              "    <tr>\n",
              "      <th>18</th>\n",
              "      <td>HERBAL</td>\n",
              "      <td>6</td>\n",
              "      <td>47</td>\n",
              "      <td>0.127660</td>\n",
              "    </tr>\n",
              "  </tbody>\n",
              "</table>\n",
              "</div>"
            ],
            "text/plain": [
              "   Facility Type  Counts_x  Counts_y  Oob Ratio\n",
              "30        PANTRY         5         9   0.555556\n",
              "14  DISTRIBUTION         3        10   0.300000\n",
              "41     WAREHOUSE         2        13   0.153846\n",
              "4        BUTCHER         5        34   0.147059\n",
              "18        HERBAL         6        47   0.127660"
            ]
          },
          "metadata": {
            "tags": []
          },
          "execution_count": 189
        }
      ]
    },
    {
      "cell_type": "code",
      "metadata": {
        "colab_type": "code",
        "id": "VRWfp0XxFLV1",
        "outputId": "1cf54bc5-cd72-4f64-a70b-4890df1728d7",
        "colab": {
          "base_uri": "https://localhost:8080/",
          "height": 109
        }
      },
      "source": [
        "merged_fac_oob[['Oob Ratio', 'Counts_y']].corr(method='pearson')"
      ],
      "execution_count": 190,
      "outputs": [
        {
          "output_type": "execute_result",
          "data": {
            "text/html": [
              "<div>\n",
              "<style scoped>\n",
              "    .dataframe tbody tr th:only-of-type {\n",
              "        vertical-align: middle;\n",
              "    }\n",
              "\n",
              "    .dataframe tbody tr th {\n",
              "        vertical-align: top;\n",
              "    }\n",
              "\n",
              "    .dataframe thead th {\n",
              "        text-align: right;\n",
              "    }\n",
              "</style>\n",
              "<table border=\"1\" class=\"dataframe\">\n",
              "  <thead>\n",
              "    <tr style=\"text-align: right;\">\n",
              "      <th></th>\n",
              "      <th>Oob Ratio</th>\n",
              "      <th>Counts_y</th>\n",
              "    </tr>\n",
              "  </thead>\n",
              "  <tbody>\n",
              "    <tr>\n",
              "      <th>Oob Ratio</th>\n",
              "      <td>1.000000</td>\n",
              "      <td>-0.042375</td>\n",
              "    </tr>\n",
              "    <tr>\n",
              "      <th>Counts_y</th>\n",
              "      <td>-0.042375</td>\n",
              "      <td>1.000000</td>\n",
              "    </tr>\n",
              "  </tbody>\n",
              "</table>\n",
              "</div>"
            ],
            "text/plain": [
              "           Oob Ratio  Counts_y\n",
              "Oob Ratio   1.000000 -0.042375\n",
              "Counts_y   -0.042375  1.000000"
            ]
          },
          "metadata": {
            "tags": []
          },
          "execution_count": 190
        }
      ]
    },
    {
      "cell_type": "markdown",
      "metadata": {
        "colab_type": "text",
        "id": "DTiyvgeeHIX5"
      },
      "source": [
        "We wanted to identify a possible correlation between the type of facility and the percentage of going out of business. However, when we calculated the pearson's correlation factor, we observed no correlation."
      ]
    },
    {
      "cell_type": "markdown",
      "metadata": {
        "colab_type": "text",
        "id": "PZh_kj61J8BC"
      },
      "source": [
        "### **Percentage of Going Out of Business vs. Average Risk Score**"
      ]
    },
    {
      "cell_type": "code",
      "metadata": {
        "colab_type": "code",
        "id": "3QgEx1ESKmkZ",
        "colab": {}
      },
      "source": [
        "# Merge the out of business facility types with their average risk scores\n",
        "fac_oob_risk = pd.merge(left=merged_fac_oob.reset_index(), right=grouped_fac_risk_mean.reset_index(),left_on=['Facility Type'],right_on=['Facility Type'])"
      ],
      "execution_count": 0,
      "outputs": []
    },
    {
      "cell_type": "code",
      "metadata": {
        "colab_type": "code",
        "id": "wfajDTtELI6m",
        "outputId": "a4e604c9-0b45-4c8d-d646-3b2adf27929d",
        "colab": {
          "base_uri": "https://localhost:8080/",
          "height": 200
        }
      },
      "source": [
        "fac_oob_risk.drop(columns=['index_x', 'index_y']).rename(columns={'Counts_x':'Oob Count', 'Counts_y':'Total Count'}).head()"
      ],
      "execution_count": 192,
      "outputs": [
        {
          "output_type": "execute_result",
          "data": {
            "text/html": [
              "<div>\n",
              "<style scoped>\n",
              "    .dataframe tbody tr th:only-of-type {\n",
              "        vertical-align: middle;\n",
              "    }\n",
              "\n",
              "    .dataframe tbody tr th {\n",
              "        vertical-align: top;\n",
              "    }\n",
              "\n",
              "    .dataframe thead th {\n",
              "        text-align: right;\n",
              "    }\n",
              "</style>\n",
              "<table border=\"1\" class=\"dataframe\">\n",
              "  <thead>\n",
              "    <tr style=\"text-align: right;\">\n",
              "      <th></th>\n",
              "      <th>level_0</th>\n",
              "      <th>Facility Type</th>\n",
              "      <th>Oob Count</th>\n",
              "      <th>Total Count</th>\n",
              "      <th>Oob Ratio</th>\n",
              "      <th>Risk</th>\n",
              "    </tr>\n",
              "  </thead>\n",
              "  <tbody>\n",
              "    <tr>\n",
              "      <th>0</th>\n",
              "      <td>0</td>\n",
              "      <td>ASSISTED LIVING/NURSING HOME</td>\n",
              "      <td>4</td>\n",
              "      <td>95</td>\n",
              "      <td>0.042105</td>\n",
              "      <td>1.000000</td>\n",
              "    </tr>\n",
              "    <tr>\n",
              "      <th>1</th>\n",
              "      <td>1</td>\n",
              "      <td>BAKERY</td>\n",
              "      <td>249</td>\n",
              "      <td>2923</td>\n",
              "      <td>0.085186</td>\n",
              "      <td>1.629490</td>\n",
              "    </tr>\n",
              "    <tr>\n",
              "      <th>2</th>\n",
              "      <td>2</td>\n",
              "      <td>BANQUET</td>\n",
              "      <td>19</td>\n",
              "      <td>338</td>\n",
              "      <td>0.056213</td>\n",
              "      <td>1.118343</td>\n",
              "    </tr>\n",
              "    <tr>\n",
              "      <th>3</th>\n",
              "      <td>3</td>\n",
              "      <td>BAR</td>\n",
              "      <td>6</td>\n",
              "      <td>81</td>\n",
              "      <td>0.074074</td>\n",
              "      <td>2.135802</td>\n",
              "    </tr>\n",
              "    <tr>\n",
              "      <th>4</th>\n",
              "      <td>4</td>\n",
              "      <td>BUTCHER</td>\n",
              "      <td>5</td>\n",
              "      <td>34</td>\n",
              "      <td>0.147059</td>\n",
              "      <td>2.029412</td>\n",
              "    </tr>\n",
              "  </tbody>\n",
              "</table>\n",
              "</div>"
            ],
            "text/plain": [
              "   level_0                 Facility Type  ...  Oob Ratio      Risk\n",
              "0        0  ASSISTED LIVING/NURSING HOME  ...   0.042105  1.000000\n",
              "1        1                        BAKERY  ...   0.085186  1.629490\n",
              "2        2                       BANQUET  ...   0.056213  1.118343\n",
              "3        3                           BAR  ...   0.074074  2.135802\n",
              "4        4                       BUTCHER  ...   0.147059  2.029412\n",
              "\n",
              "[5 rows x 6 columns]"
            ]
          },
          "metadata": {
            "tags": []
          },
          "execution_count": 192
        }
      ]
    },
    {
      "cell_type": "code",
      "metadata": {
        "colab_type": "code",
        "id": "d1Bbc2-iLKKi",
        "outputId": "254712c2-5622-41d3-fa35-99136a572b66",
        "colab": {
          "base_uri": "https://localhost:8080/",
          "height": 109
        }
      },
      "source": [
        "fac_oob_risk[['Oob Ratio', 'Risk']].corr(method='pearson')"
      ],
      "execution_count": 193,
      "outputs": [
        {
          "output_type": "execute_result",
          "data": {
            "text/html": [
              "<div>\n",
              "<style scoped>\n",
              "    .dataframe tbody tr th:only-of-type {\n",
              "        vertical-align: middle;\n",
              "    }\n",
              "\n",
              "    .dataframe tbody tr th {\n",
              "        vertical-align: top;\n",
              "    }\n",
              "\n",
              "    .dataframe thead th {\n",
              "        text-align: right;\n",
              "    }\n",
              "</style>\n",
              "<table border=\"1\" class=\"dataframe\">\n",
              "  <thead>\n",
              "    <tr style=\"text-align: right;\">\n",
              "      <th></th>\n",
              "      <th>Oob Ratio</th>\n",
              "      <th>Risk</th>\n",
              "    </tr>\n",
              "  </thead>\n",
              "  <tbody>\n",
              "    <tr>\n",
              "      <th>Oob Ratio</th>\n",
              "      <td>1.000000</td>\n",
              "      <td>0.202511</td>\n",
              "    </tr>\n",
              "    <tr>\n",
              "      <th>Risk</th>\n",
              "      <td>0.202511</td>\n",
              "      <td>1.000000</td>\n",
              "    </tr>\n",
              "  </tbody>\n",
              "</table>\n",
              "</div>"
            ],
            "text/plain": [
              "           Oob Ratio      Risk\n",
              "Oob Ratio   1.000000  0.202511\n",
              "Risk        0.202511  1.000000"
            ]
          },
          "metadata": {
            "tags": []
          },
          "execution_count": 193
        }
      ]
    },
    {
      "cell_type": "code",
      "metadata": {
        "id": "sRJTia_QBKJn",
        "colab_type": "code",
        "colab": {
          "base_uri": "https://localhost:8080/",
          "height": 109
        },
        "outputId": "07cefd7c-a22c-4582-ecd3-88f021e91190"
      },
      "source": [
        "fac_oob_risk[['Oob Ratio', 'Risk']].corr(method='spearman')"
      ],
      "execution_count": 194,
      "outputs": [
        {
          "output_type": "execute_result",
          "data": {
            "text/html": [
              "<div>\n",
              "<style scoped>\n",
              "    .dataframe tbody tr th:only-of-type {\n",
              "        vertical-align: middle;\n",
              "    }\n",
              "\n",
              "    .dataframe tbody tr th {\n",
              "        vertical-align: top;\n",
              "    }\n",
              "\n",
              "    .dataframe thead th {\n",
              "        text-align: right;\n",
              "    }\n",
              "</style>\n",
              "<table border=\"1\" class=\"dataframe\">\n",
              "  <thead>\n",
              "    <tr style=\"text-align: right;\">\n",
              "      <th></th>\n",
              "      <th>Oob Ratio</th>\n",
              "      <th>Risk</th>\n",
              "    </tr>\n",
              "  </thead>\n",
              "  <tbody>\n",
              "    <tr>\n",
              "      <th>Oob Ratio</th>\n",
              "      <td>1.000000</td>\n",
              "      <td>0.164878</td>\n",
              "    </tr>\n",
              "    <tr>\n",
              "      <th>Risk</th>\n",
              "      <td>0.164878</td>\n",
              "      <td>1.000000</td>\n",
              "    </tr>\n",
              "  </tbody>\n",
              "</table>\n",
              "</div>"
            ],
            "text/plain": [
              "           Oob Ratio      Risk\n",
              "Oob Ratio   1.000000  0.164878\n",
              "Risk        0.164878  1.000000"
            ]
          },
          "metadata": {
            "tags": []
          },
          "execution_count": 194
        }
      ]
    },
    {
      "cell_type": "markdown",
      "metadata": {
        "colab_type": "text",
        "id": "c74wraFTNRcp"
      },
      "source": [
        "We wanted to identify a possible correlation between the out of business ratio and the risk of the type of facility. However, when we calculated the pearson's correlation factor, we observed no correlation.\n",
        "\n"
      ]
    },
    {
      "cell_type": "markdown",
      "metadata": {
        "colab_type": "text",
        "id": "PixL067182Vq"
      },
      "source": [
        "## **Violation Type Analysis**"
      ]
    },
    {
      "cell_type": "markdown",
      "metadata": {
        "colab_type": "text",
        "id": "WRjDeP-k4NAn"
      },
      "source": [
        "### **Violations analysis - facilities that have gone out of business**"
      ]
    },
    {
      "cell_type": "code",
      "metadata": {
        "id": "11eYBLpBNf73",
        "colab_type": "code",
        "colab": {
          "base_uri": "https://localhost:8080/",
          "height": 301
        },
        "outputId": "ca9646cf-036c-43c1-a9e4-3a4396d87861"
      },
      "source": [
        "df_oob_unique.head()"
      ],
      "execution_count": 195,
      "outputs": [
        {
          "output_type": "execute_result",
          "data": {
            "text/html": [
              "<div>\n",
              "<style scoped>\n",
              "    .dataframe tbody tr th:only-of-type {\n",
              "        vertical-align: middle;\n",
              "    }\n",
              "\n",
              "    .dataframe tbody tr th {\n",
              "        vertical-align: top;\n",
              "    }\n",
              "\n",
              "    .dataframe thead th {\n",
              "        text-align: right;\n",
              "    }\n",
              "</style>\n",
              "<table border=\"1\" class=\"dataframe\">\n",
              "  <thead>\n",
              "    <tr style=\"text-align: right;\">\n",
              "      <th></th>\n",
              "      <th></th>\n",
              "      <th></th>\n",
              "      <th>Inspection ID</th>\n",
              "      <th>AKA Name</th>\n",
              "      <th>License #</th>\n",
              "      <th>Facility Type</th>\n",
              "      <th>Risk</th>\n",
              "      <th>Address</th>\n",
              "      <th>Zip</th>\n",
              "      <th>Inspection Date</th>\n",
              "      <th>Inspection Type</th>\n",
              "      <th>Results</th>\n",
              "      <th>Violations</th>\n",
              "      <th>Location</th>\n",
              "      <th>Regions</th>\n",
              "    </tr>\n",
              "    <tr>\n",
              "      <th>Latitude</th>\n",
              "      <th>Longitude</th>\n",
              "      <th>DBA Name</th>\n",
              "      <th></th>\n",
              "      <th></th>\n",
              "      <th></th>\n",
              "      <th></th>\n",
              "      <th></th>\n",
              "      <th></th>\n",
              "      <th></th>\n",
              "      <th></th>\n",
              "      <th></th>\n",
              "      <th></th>\n",
              "      <th></th>\n",
              "      <th></th>\n",
              "      <th></th>\n",
              "    </tr>\n",
              "  </thead>\n",
              "  <tbody>\n",
              "    <tr>\n",
              "      <th>41.644670</th>\n",
              "      <th>-87.540095</th>\n",
              "      <th>BURGER KING</th>\n",
              "      <td>1</td>\n",
              "      <td>1</td>\n",
              "      <td>1</td>\n",
              "      <td>1</td>\n",
              "      <td>1</td>\n",
              "      <td>1</td>\n",
              "      <td>1</td>\n",
              "      <td>1</td>\n",
              "      <td>1</td>\n",
              "      <td>1</td>\n",
              "      <td>0</td>\n",
              "      <td>1</td>\n",
              "      <td>1</td>\n",
              "    </tr>\n",
              "    <tr>\n",
              "      <th>41.645667</th>\n",
              "      <th>-87.542510</th>\n",
              "      <th>SOUTH SHORE CONCESSIONS</th>\n",
              "      <td>1</td>\n",
              "      <td>1</td>\n",
              "      <td>1</td>\n",
              "      <td>1</td>\n",
              "      <td>1</td>\n",
              "      <td>1</td>\n",
              "      <td>1</td>\n",
              "      <td>1</td>\n",
              "      <td>1</td>\n",
              "      <td>1</td>\n",
              "      <td>0</td>\n",
              "      <td>1</td>\n",
              "      <td>1</td>\n",
              "    </tr>\n",
              "    <tr>\n",
              "      <th>41.646371</th>\n",
              "      <th>-87.560342</th>\n",
              "      <th>WINJAMMER MARINA</th>\n",
              "      <td>1</td>\n",
              "      <td>1</td>\n",
              "      <td>1</td>\n",
              "      <td>1</td>\n",
              "      <td>1</td>\n",
              "      <td>1</td>\n",
              "      <td>1</td>\n",
              "      <td>1</td>\n",
              "      <td>1</td>\n",
              "      <td>1</td>\n",
              "      <td>0</td>\n",
              "      <td>1</td>\n",
              "      <td>1</td>\n",
              "    </tr>\n",
              "    <tr>\n",
              "      <th>41.646554</th>\n",
              "      <th>-87.617083</th>\n",
              "      <th>SIR CHICKEN</th>\n",
              "      <td>1</td>\n",
              "      <td>0</td>\n",
              "      <td>1</td>\n",
              "      <td>1</td>\n",
              "      <td>1</td>\n",
              "      <td>1</td>\n",
              "      <td>1</td>\n",
              "      <td>1</td>\n",
              "      <td>1</td>\n",
              "      <td>1</td>\n",
              "      <td>0</td>\n",
              "      <td>1</td>\n",
              "      <td>1</td>\n",
              "    </tr>\n",
              "    <tr>\n",
              "      <th>41.648189</th>\n",
              "      <th>-87.561573</th>\n",
              "      <th>PAPICHULO</th>\n",
              "      <td>1</td>\n",
              "      <td>1</td>\n",
              "      <td>1</td>\n",
              "      <td>1</td>\n",
              "      <td>1</td>\n",
              "      <td>1</td>\n",
              "      <td>1</td>\n",
              "      <td>1</td>\n",
              "      <td>1</td>\n",
              "      <td>1</td>\n",
              "      <td>0</td>\n",
              "      <td>1</td>\n",
              "      <td>1</td>\n",
              "    </tr>\n",
              "  </tbody>\n",
              "</table>\n",
              "</div>"
            ],
            "text/plain": [
              "                                              Inspection ID  ...  Regions\n",
              "Latitude  Longitude  DBA Name                                ...         \n",
              "41.644670 -87.540095 BURGER KING                          1  ...        1\n",
              "41.645667 -87.542510 SOUTH SHORE CONCESSIONS              1  ...        1\n",
              "41.646371 -87.560342 WINJAMMER MARINA                     1  ...        1\n",
              "41.646554 -87.617083 SIR CHICKEN                          1  ...        1\n",
              "41.648189 -87.561573 PAPICHULO                            1  ...        1\n",
              "\n",
              "[5 rows x 13 columns]"
            ]
          },
          "metadata": {
            "tags": []
          },
          "execution_count": 195
        }
      ]
    },
    {
      "cell_type": "code",
      "metadata": {
        "colab_type": "code",
        "id": "8WiNcwRD9xyd",
        "outputId": "0492d78e-117f-437f-8804-9437700ad4e8",
        "colab": {
          "base_uri": "https://localhost:8080/",
          "height": 315
        }
      },
      "source": [
        "# Unique facilities that have gone out of business\n",
        "merged_oob = pd.merge(left=df_oob_unique[['Latitude', 'Longitude', 'DBA Name']], right=df, on=['Latitude', 'Longitude', 'DBA Name'])"
      ],
      "execution_count": 196,
      "outputs": [
        {
          "output_type": "error",
          "ename": "KeyError",
          "evalue": "ignored",
          "traceback": [
            "\u001b[0;31m---------------------------------------------------------------------------\u001b[0m",
            "\u001b[0;31mKeyError\u001b[0m                                  Traceback (most recent call last)",
            "\u001b[0;32m<ipython-input-196-aa05c1b79d5c>\u001b[0m in \u001b[0;36m<module>\u001b[0;34m()\u001b[0m\n\u001b[0;32m----> 1\u001b[0;31m \u001b[0mmerged_oob\u001b[0m \u001b[0;34m=\u001b[0m \u001b[0mpd\u001b[0m\u001b[0;34m.\u001b[0m\u001b[0mmerge\u001b[0m\u001b[0;34m(\u001b[0m\u001b[0mleft\u001b[0m\u001b[0;34m=\u001b[0m\u001b[0mdf_oob_unique\u001b[0m\u001b[0;34m[\u001b[0m\u001b[0;34m[\u001b[0m\u001b[0;34m'Latitude'\u001b[0m\u001b[0;34m,\u001b[0m \u001b[0;34m'Longitude'\u001b[0m\u001b[0;34m,\u001b[0m \u001b[0;34m'DBA Name'\u001b[0m\u001b[0;34m]\u001b[0m\u001b[0;34m]\u001b[0m\u001b[0;34m,\u001b[0m \u001b[0mright\u001b[0m\u001b[0;34m=\u001b[0m\u001b[0mdf\u001b[0m\u001b[0;34m,\u001b[0m \u001b[0mon\u001b[0m\u001b[0;34m=\u001b[0m\u001b[0;34m[\u001b[0m\u001b[0;34m'Latitude'\u001b[0m\u001b[0;34m,\u001b[0m \u001b[0;34m'Longitude'\u001b[0m\u001b[0;34m,\u001b[0m \u001b[0;34m'DBA Name'\u001b[0m\u001b[0;34m]\u001b[0m\u001b[0;34m)\u001b[0m\u001b[0;34m\u001b[0m\u001b[0;34m\u001b[0m\u001b[0m\n\u001b[0m",
            "\u001b[0;32m/usr/local/lib/python3.6/dist-packages/pandas/core/frame.py\u001b[0m in \u001b[0;36m__getitem__\u001b[0;34m(self, key)\u001b[0m\n\u001b[1;32m   2999\u001b[0m             \u001b[0;32mif\u001b[0m \u001b[0mis_iterator\u001b[0m\u001b[0;34m(\u001b[0m\u001b[0mkey\u001b[0m\u001b[0;34m)\u001b[0m\u001b[0;34m:\u001b[0m\u001b[0;34m\u001b[0m\u001b[0;34m\u001b[0m\u001b[0m\n\u001b[1;32m   3000\u001b[0m                 \u001b[0mkey\u001b[0m \u001b[0;34m=\u001b[0m \u001b[0mlist\u001b[0m\u001b[0;34m(\u001b[0m\u001b[0mkey\u001b[0m\u001b[0;34m)\u001b[0m\u001b[0;34m\u001b[0m\u001b[0;34m\u001b[0m\u001b[0m\n\u001b[0;32m-> 3001\u001b[0;31m             \u001b[0mindexer\u001b[0m \u001b[0;34m=\u001b[0m \u001b[0mself\u001b[0m\u001b[0;34m.\u001b[0m\u001b[0mloc\u001b[0m\u001b[0;34m.\u001b[0m\u001b[0m_convert_to_indexer\u001b[0m\u001b[0;34m(\u001b[0m\u001b[0mkey\u001b[0m\u001b[0;34m,\u001b[0m \u001b[0maxis\u001b[0m\u001b[0;34m=\u001b[0m\u001b[0;36m1\u001b[0m\u001b[0;34m,\u001b[0m \u001b[0mraise_missing\u001b[0m\u001b[0;34m=\u001b[0m\u001b[0;32mTrue\u001b[0m\u001b[0;34m)\u001b[0m\u001b[0;34m\u001b[0m\u001b[0;34m\u001b[0m\u001b[0m\n\u001b[0m\u001b[1;32m   3002\u001b[0m \u001b[0;34m\u001b[0m\u001b[0m\n\u001b[1;32m   3003\u001b[0m         \u001b[0;31m# take() does not accept boolean indexers\u001b[0m\u001b[0;34m\u001b[0m\u001b[0;34m\u001b[0m\u001b[0;34m\u001b[0m\u001b[0m\n",
            "\u001b[0;32m/usr/local/lib/python3.6/dist-packages/pandas/core/indexing.py\u001b[0m in \u001b[0;36m_convert_to_indexer\u001b[0;34m(self, obj, axis, is_setter, raise_missing)\u001b[0m\n\u001b[1;32m   1283\u001b[0m                 \u001b[0;31m# When setting, missing keys are not allowed, even with .loc:\u001b[0m\u001b[0;34m\u001b[0m\u001b[0;34m\u001b[0m\u001b[0;34m\u001b[0m\u001b[0m\n\u001b[1;32m   1284\u001b[0m                 \u001b[0mkwargs\u001b[0m \u001b[0;34m=\u001b[0m \u001b[0;34m{\u001b[0m\u001b[0;34m\"raise_missing\"\u001b[0m\u001b[0;34m:\u001b[0m \u001b[0;32mTrue\u001b[0m \u001b[0;32mif\u001b[0m \u001b[0mis_setter\u001b[0m \u001b[0;32melse\u001b[0m \u001b[0mraise_missing\u001b[0m\u001b[0;34m}\u001b[0m\u001b[0;34m\u001b[0m\u001b[0;34m\u001b[0m\u001b[0m\n\u001b[0;32m-> 1285\u001b[0;31m                 \u001b[0;32mreturn\u001b[0m \u001b[0mself\u001b[0m\u001b[0;34m.\u001b[0m\u001b[0m_get_listlike_indexer\u001b[0m\u001b[0;34m(\u001b[0m\u001b[0mobj\u001b[0m\u001b[0;34m,\u001b[0m \u001b[0maxis\u001b[0m\u001b[0;34m,\u001b[0m \u001b[0;34m**\u001b[0m\u001b[0mkwargs\u001b[0m\u001b[0;34m)\u001b[0m\u001b[0;34m[\u001b[0m\u001b[0;36m1\u001b[0m\u001b[0;34m]\u001b[0m\u001b[0;34m\u001b[0m\u001b[0;34m\u001b[0m\u001b[0m\n\u001b[0m\u001b[1;32m   1286\u001b[0m         \u001b[0;32melse\u001b[0m\u001b[0;34m:\u001b[0m\u001b[0;34m\u001b[0m\u001b[0;34m\u001b[0m\u001b[0m\n\u001b[1;32m   1287\u001b[0m             \u001b[0;32mtry\u001b[0m\u001b[0;34m:\u001b[0m\u001b[0;34m\u001b[0m\u001b[0;34m\u001b[0m\u001b[0m\n",
            "\u001b[0;32m/usr/local/lib/python3.6/dist-packages/pandas/core/indexing.py\u001b[0m in \u001b[0;36m_get_listlike_indexer\u001b[0;34m(self, key, axis, raise_missing)\u001b[0m\n\u001b[1;32m   1090\u001b[0m \u001b[0;34m\u001b[0m\u001b[0m\n\u001b[1;32m   1091\u001b[0m         self._validate_read_indexer(\n\u001b[0;32m-> 1092\u001b[0;31m             \u001b[0mkeyarr\u001b[0m\u001b[0;34m,\u001b[0m \u001b[0mindexer\u001b[0m\u001b[0;34m,\u001b[0m \u001b[0mo\u001b[0m\u001b[0;34m.\u001b[0m\u001b[0m_get_axis_number\u001b[0m\u001b[0;34m(\u001b[0m\u001b[0maxis\u001b[0m\u001b[0;34m)\u001b[0m\u001b[0;34m,\u001b[0m \u001b[0mraise_missing\u001b[0m\u001b[0;34m=\u001b[0m\u001b[0mraise_missing\u001b[0m\u001b[0;34m\u001b[0m\u001b[0;34m\u001b[0m\u001b[0m\n\u001b[0m\u001b[1;32m   1093\u001b[0m         )\n\u001b[1;32m   1094\u001b[0m         \u001b[0;32mreturn\u001b[0m \u001b[0mkeyarr\u001b[0m\u001b[0;34m,\u001b[0m \u001b[0mindexer\u001b[0m\u001b[0;34m\u001b[0m\u001b[0;34m\u001b[0m\u001b[0m\n",
            "\u001b[0;32m/usr/local/lib/python3.6/dist-packages/pandas/core/indexing.py\u001b[0m in \u001b[0;36m_validate_read_indexer\u001b[0;34m(self, key, indexer, axis, raise_missing)\u001b[0m\n\u001b[1;32m   1175\u001b[0m                 raise KeyError(\n\u001b[1;32m   1176\u001b[0m                     \"None of [{key}] are in the [{axis}]\".format(\n\u001b[0;32m-> 1177\u001b[0;31m                         \u001b[0mkey\u001b[0m\u001b[0;34m=\u001b[0m\u001b[0mkey\u001b[0m\u001b[0;34m,\u001b[0m \u001b[0maxis\u001b[0m\u001b[0;34m=\u001b[0m\u001b[0mself\u001b[0m\u001b[0;34m.\u001b[0m\u001b[0mobj\u001b[0m\u001b[0;34m.\u001b[0m\u001b[0m_get_axis_name\u001b[0m\u001b[0;34m(\u001b[0m\u001b[0maxis\u001b[0m\u001b[0;34m)\u001b[0m\u001b[0;34m\u001b[0m\u001b[0;34m\u001b[0m\u001b[0m\n\u001b[0m\u001b[1;32m   1178\u001b[0m                     )\n\u001b[1;32m   1179\u001b[0m                 )\n",
            "\u001b[0;31mKeyError\u001b[0m: \"None of [Index(['Latitude', 'Longitude', 'DBA Name'], dtype='object')] are in the [columns]\""
          ]
        }
      ]
    },
    {
      "cell_type": "code",
      "metadata": {
        "colab_type": "code",
        "id": "dw11IqbDDp23",
        "colab": {}
      },
      "source": [
        "# Out of business facilities that have more than 1 inspection\n",
        "dup_oob = merged_oob.groupby(['Latitude', 'Longitude', 'DBA Name']).filter(lambda x : len(x) > 1)\n",
        "dup_oob.dropna(subset=['Violations'], inplace=True) # the inspections that have violations (out of business facilities)\n",
        "dup_oob.head(10)"
      ],
      "execution_count": 0,
      "outputs": []
    },
    {
      "cell_type": "code",
      "metadata": {
        "colab_type": "code",
        "id": "YlUwb7Z2MIZx",
        "colab": {}
      },
      "source": [
        "# Split the violations column entries to obtain only the violation type numbers\n",
        "violations_oob = dup_oob['Violations'].apply(lambda x: re.findall(r'^[0-9]+[.] | [|] [0-9]+[.] ', x))\n",
        "violations_oob = pd.DataFrame(violations_oob)\n",
        "violation_nums_oob = violations_oob['Violations'].apply(lambda x: [int(sub.replace('|','').split('.')[0]) for sub in x])\\"
      ],
      "execution_count": 0,
      "outputs": []
    },
    {
      "cell_type": "code",
      "metadata": {
        "colab_type": "code",
        "id": "BX8lLCYvYf6h",
        "colab": {}
      },
      "source": [
        "# Format the list into a proper dataframe\n",
        "violation_nums_oob = pd.DataFrame(violation_nums_oob)\n",
        "violation_nums_oob.reset_index(inplace=True)\n",
        "violation_nums_oob.drop(columns='index', inplace=True)\n",
        "violation_nums_oob.head(10)"
      ],
      "execution_count": 0,
      "outputs": []
    },
    {
      "cell_type": "code",
      "metadata": {
        "colab_type": "code",
        "id": "mLcVYIYMZuK1",
        "colab": {}
      },
      "source": [
        "# Store the count of each type of violation in OOB facilities in a dictionary\n",
        "vio_freq_oob = {}\n",
        "for i in violation_nums_oob['Violations']:\n",
        "  for j in i:\n",
        "    vio_freq_oob[str(j)] = 1 if str(j) not in vio_freq_oob else vio_freq_oob[str(j)]+1"
      ],
      "execution_count": 0,
      "outputs": []
    },
    {
      "cell_type": "code",
      "metadata": {
        "colab_type": "code",
        "id": "iG5RGczLkTgP",
        "colab": {}
      },
      "source": [
        "# Sort the violation types in terms of their frequencies\n",
        "sorted_vio_freq_oob = {}\n",
        "\n",
        "for key in sorted(vio_freq_oob, key=vio_freq_oob.__getitem__, reverse=True):\n",
        "  sorted_vio_freq_oob[key] = vio_freq_oob[key]"
      ],
      "execution_count": 0,
      "outputs": []
    },
    {
      "cell_type": "code",
      "metadata": {
        "colab_type": "code",
        "id": "eCE3Zu7lkQ8w",
        "colab": {}
      },
      "source": [
        "# Display the violation type distribution in descending order of frequency\n",
        "plt.figure(figsize=(17,4))\n",
        "plt.bar(list(sorted_vio_freq_oob.keys()), sorted_vio_freq_oob.values())\n",
        "plt.title('Violation Types vs. Their Frequencies in Out of Business Facilities')\n",
        "plt.xlabel('Violation Types')\n",
        "plt.ylabel('Frequency')\n",
        "plt.show()"
      ],
      "execution_count": 0,
      "outputs": []
    },
    {
      "cell_type": "markdown",
      "metadata": {
        "id": "3ju5QwPmGZcn",
        "colab_type": "text"
      },
      "source": [
        "We observe that certain violation types outnumber others, but these ones are mostly non-critical or non-serious. We will plot only the serious and critical violations in the following sections to get the most important violations and their possible influence on causing establishments go out of business."
      ]
    },
    {
      "cell_type": "code",
      "metadata": {
        "colab_type": "code",
        "id": "_hvSFyDEkmc8",
        "colab": {}
      },
      "source": [
        "most_freq_vio_oob = [key for key, value in list(sorted_vio_freq_oob.items())[0:15]]\n",
        "most_freq_vio_oob # top 10 most frequent violation types among facilities that went out of business"
      ],
      "execution_count": 0,
      "outputs": []
    },
    {
      "cell_type": "markdown",
      "metadata": {
        "colab_type": "text",
        "id": "fCjsqIlWdSY7"
      },
      "source": [
        "### **Violations analysis - facilities that have not gone out of business**"
      ]
    },
    {
      "cell_type": "code",
      "metadata": {
        "colab_type": "code",
        "id": "MbsGSDm7czg-",
        "colab": {}
      },
      "source": [
        "# Inspections of facilities that didn't go out of business\n",
        " set_diff_oob = pd.concat([df, merged_oob, merged_oob], sort=True).drop_duplicates(keep=False, subset=['Latitude', 'Longitude', 'DBA Name', 'Inspection Date'])"
      ],
      "execution_count": 0,
      "outputs": []
    },
    {
      "cell_type": "code",
      "metadata": {
        "colab_type": "code",
        "id": "oEPL3X9Fpzb_",
        "colab": {}
      },
      "source": [
        "# set_diff_oob: the inspections that have violations (not out of business facilities)\n",
        "set_diff_oob.dropna(subset=['Violations'], inplace=True)\n",
        "set_diff_oob.head(10)"
      ],
      "execution_count": 0,
      "outputs": []
    },
    {
      "cell_type": "code",
      "metadata": {
        "colab_type": "code",
        "id": "c17Vg__XqE5U",
        "colab": {}
      },
      "source": [
        "# Split the violations column entries to obtain only the violation type numbers\n",
        "violations_not_oob = set_diff_oob['Violations'].apply(lambda x: re.findall(r'^[0-9]+[.] | [|] [0-9]+[.] ', x))\n",
        "violations_not_oob = pd.DataFrame(violations_not_oob)\n",
        "violation_nums_not_oob = violations_not_oob['Violations'].apply(lambda x: [int(sub.replace('|','').split('.')[0]) for sub in x])"
      ],
      "execution_count": 0,
      "outputs": []
    },
    {
      "cell_type": "code",
      "metadata": {
        "colab_type": "code",
        "id": "8pJUR7fdxOjZ",
        "colab": {}
      },
      "source": [
        "# Format the list into a proper dataframe\n",
        "violation_nums_not_oob = pd.DataFrame(violation_nums_not_oob)\n",
        "violation_nums_not_oob.reset_index(inplace=True)\n",
        "violation_nums_not_oob.drop(columns='index', inplace=True)\n",
        "violation_nums_not_oob.head(10)"
      ],
      "execution_count": 0,
      "outputs": []
    },
    {
      "cell_type": "code",
      "metadata": {
        "colab_type": "code",
        "id": "skm89c9LxbHD",
        "colab": {}
      },
      "source": [
        "# Store the count of each type of violation in not OOB facilities in a dictionary\n",
        "vio_freq_not_oob = {}\n",
        "for i in violation_nums_not_oob['Violations']:\n",
        "  for j in i:\n",
        "    vio_freq_not_oob[str(j)] = 1 if str(j) not in vio_freq_not_oob else vio_freq_not_oob[str(j)]+1"
      ],
      "execution_count": 0,
      "outputs": []
    },
    {
      "cell_type": "code",
      "metadata": {
        "colab_type": "code",
        "id": "UeJ6lWmlzuuM",
        "colab": {}
      },
      "source": [
        "# Sort the violation types in terms of their frequencies\n",
        "sorted_vio_freq_not_oob = {}\n",
        "\n",
        "for key in sorted(vio_freq_not_oob, key=vio_freq_not_oob.__getitem__, reverse=True):\n",
        "  sorted_vio_freq_not_oob[key] = vio_freq_not_oob[key]"
      ],
      "execution_count": 0,
      "outputs": []
    },
    {
      "cell_type": "code",
      "metadata": {
        "colab_type": "code",
        "id": "VQo1P1buxm2r",
        "colab": {}
      },
      "source": [
        "# Display the violation type distribution in descending order of frequency\n",
        "plt.figure(figsize=(17,4))\n",
        "plt.bar(list(sorted_vio_freq_not_oob.keys()), sorted_vio_freq_not_oob.values())\n",
        "plt.title('Violation Types vs. Their Frequencies in Facilities that have not Gone Out of Business')\n",
        "plt.xlabel('Violation Types')\n",
        "plt.ylabel('Frequency')\n",
        "plt.show()"
      ],
      "execution_count": 0,
      "outputs": []
    },
    {
      "cell_type": "code",
      "metadata": {
        "colab_type": "code",
        "id": "DGwn_xr2yHRD",
        "colab": {}
      },
      "source": [
        "most_freq_vio_not_oob = [key for key, value in list(sorted_vio_freq_not_oob.items())[0:15]]\n",
        "most_freq_vio_not_oob # top 10 most frequent violation types among facilities that went out of business"
      ],
      "execution_count": 0,
      "outputs": []
    },
    {
      "cell_type": "code",
      "metadata": {
        "colab_type": "code",
        "id": "sUTUHZBUyZLe",
        "colab": {}
      },
      "source": [
        "merged_oob.dropna(subset=['Violations'], inplace=True) # the inspections that have violations (out of business facilities)"
      ],
      "execution_count": 0,
      "outputs": []
    },
    {
      "cell_type": "markdown",
      "metadata": {
        "colab_type": "text",
        "id": "A85HB-qx1Lg4"
      },
      "source": [
        "Our aim was to detect any violation type that could result into the facilities going out of business. From our data analysis, we found that most violation types are common between those that went out of business and those that have not. Only Violation Types 21, 31, and 43 are more prevalent in facilities that have gone out of business, but are not so prevalent in those that have not gone out of business."
      ]
    },
    {
      "cell_type": "markdown",
      "metadata": {
        "colab_type": "text",
        "id": "VUSui_GqgDLt"
      },
      "source": [
        "### **Distribution of number of violations committed in each inspection (in facilities that went out of business)**"
      ]
    },
    {
      "cell_type": "code",
      "metadata": {
        "colab_type": "code",
        "id": "acuT4Yk6eHFi",
        "colab": {}
      },
      "source": [
        "num_vio_oob = []\n",
        "for i in violation_nums_oob['Violations']:\n",
        "  num_vio_oob.append(len(i))"
      ],
      "execution_count": 0,
      "outputs": []
    },
    {
      "cell_type": "code",
      "metadata": {
        "colab_type": "code",
        "id": "cbqgYw6meZ8d",
        "colab": {}
      },
      "source": [
        "plt.hist(num_vio_oob, bins=15)\n",
        "plt.title('Distribution of number of violations committed in each inspection (in oob facilities)')\n",
        "plt.xlabel('Number of violations committed in an inspection')\n",
        "plt.ylabel('Inspection counts')\n",
        "plt.show()"
      ],
      "execution_count": 0,
      "outputs": []
    },
    {
      "cell_type": "code",
      "metadata": {
        "colab_type": "code",
        "id": "cWO95lsMgrDG",
        "colab": {}
      },
      "source": [
        "print('Average number of violations committed in each inspection (OOB): ' + str(np.mean(num_vio_oob)))\n",
        "print('Median number of violations committed in each inspection (OOB): ' + str(np.median(num_vio_oob)))"
      ],
      "execution_count": 0,
      "outputs": []
    },
    {
      "cell_type": "markdown",
      "metadata": {
        "colab_type": "text",
        "id": "J5TRf7RQgIF_"
      },
      "source": [
        "### **Distribution of number of violations committed in each inspection (in facilities that did NOT go out of business)**"
      ]
    },
    {
      "cell_type": "code",
      "metadata": {
        "colab_type": "code",
        "id": "0ZW2Yw_ygLH0",
        "colab": {}
      },
      "source": [
        "num_vio_not_oob = []\n",
        "for i in violation_nums_not_oob['Violations']:\n",
        "  num_vio_not_oob.append(len(i))"
      ],
      "execution_count": 0,
      "outputs": []
    },
    {
      "cell_type": "code",
      "metadata": {
        "colab_type": "code",
        "id": "th11K_GdgbEz",
        "colab": {}
      },
      "source": [
        "plt.hist(num_vio_not_oob, bins=15)\n",
        "plt.title('Distribution of number of violations committed in each inspection (in NOT oob facilities)')\n",
        "plt.xlabel('Number of violations in committed in an inspection')\n",
        "plt.ylabel('Inspection counts')\n",
        "plt.show()"
      ],
      "execution_count": 0,
      "outputs": []
    },
    {
      "cell_type": "code",
      "metadata": {
        "colab_type": "code",
        "id": "hn4hEM26hJEy",
        "colab": {}
      },
      "source": [
        "print('Average number of violations committed in each inspection (not OOB): ' + str(np.mean(num_vio_not_oob)))\n",
        "print('Median number of violations committed in each inspection (not OOB): ' + str(np.median(num_vio_not_oob)))"
      ],
      "execution_count": 0,
      "outputs": []
    },
    {
      "cell_type": "markdown",
      "metadata": {
        "colab_type": "text",
        "id": "niCNNQTlRFP6"
      },
      "source": [
        "We observe that the average number of violations committed in each inspection in facilities that went out of business is slightly higher than those that have not gone out of business. "
      ]
    },
    {
      "cell_type": "markdown",
      "metadata": {
        "colab_type": "text",
        "id": "kmhCqOVkZ8sm"
      },
      "source": [
        "### **Distribution of total number of violations facilities commit before going out of business**"
      ]
    },
    {
      "cell_type": "code",
      "metadata": {
        "colab_type": "code",
        "id": "9ydm8x90uYAN",
        "colab": {}
      },
      "source": [
        "dup_oob['Violations'].update(violation_nums_oob['Violations'])\n",
        "dup_oob['Number of Violations'] = dup_oob.Violations.apply(lambda x: len(x)) # create num of violations column\n",
        "dup_oob.head(10)"
      ],
      "execution_count": 0,
      "outputs": []
    },
    {
      "cell_type": "code",
      "metadata": {
        "colab_type": "code",
        "id": "kOaU_o1mw9Md",
        "colab": {}
      },
      "source": [
        "sum_vios = dup_oob.groupby(['DBA Name', 'Latitude', 'Longitude'])['Number of Violations'].sum()\n",
        "sum_vios.hist(bins=20)\n",
        "plt.title('Distribution of total number of violations committed before going out of business')\n",
        "plt.xlabel('Total number of committed violations')\n",
        "plt.ylabel('Facility counts')\n",
        "plt.show()"
      ],
      "execution_count": 0,
      "outputs": []
    },
    {
      "cell_type": "markdown",
      "metadata": {
        "colab_type": "text",
        "id": "yUp4yFCridfP"
      },
      "source": [
        "### **Average risk of oob facilities vs. Average risk of NOT oob facilities**"
      ]
    },
    {
      "cell_type": "code",
      "metadata": {
        "colab_type": "code",
        "id": "7DQyhN35OTq4",
        "colab": {}
      },
      "source": [
        "# Average risk of out of business facilities\n",
        "merged_oob['Risk'].mean()"
      ],
      "execution_count": 0,
      "outputs": []
    },
    {
      "cell_type": "code",
      "metadata": {
        "colab_type": "code",
        "id": "rLHrymqvPiOL",
        "colab": {}
      },
      "source": [
        "# Average risk of NOT out of business facilities\n",
        "set_diff_oob['Risk'].mean()  "
      ],
      "execution_count": 0,
      "outputs": []
    },
    {
      "cell_type": "markdown",
      "metadata": {
        "colab_type": "text",
        "id": "VJTbQvLBzwrb"
      },
      "source": [
        "### **Region vs. Risk Score**"
      ]
    },
    {
      "cell_type": "code",
      "metadata": {
        "colab_type": "code",
        "id": "SiY10BMDzsMU",
        "colab": {}
      },
      "source": [
        "df_region = df.groupby('Regions')['Risk'].mean()\n",
        "df_region.to_frame().nsmallest(10, 'Risk')"
      ],
      "execution_count": 0,
      "outputs": []
    },
    {
      "cell_type": "code",
      "metadata": {
        "colab_type": "code",
        "id": "NjkKpcol7KBJ",
        "colab": {}
      },
      "source": [
        "df_region.to_frame().nlargest(10, 'Risk')"
      ],
      "execution_count": 0,
      "outputs": []
    },
    {
      "cell_type": "code",
      "metadata": {
        "colab_type": "code",
        "id": "D6xCi0qq5Rpp",
        "colab": {}
      },
      "source": [
        "# TODO: combine this with the percentage(?) of OOB, average # violations, and then rank\n",
        "# TODO: run knn (or any unsupervised classification) algorithm to cluster neighborhoods, see if it clustered into meaningful clusters"
      ],
      "execution_count": 0,
      "outputs": []
    },
    {
      "cell_type": "code",
      "metadata": {
        "colab_type": "code",
        "id": "2lslGz5g64W9",
        "colab": {}
      },
      "source": [
        "df_region_fac = df.groupby(['Regions', 'Facility Type'])['Risk'].mean()"
      ],
      "execution_count": 0,
      "outputs": []
    },
    {
      "cell_type": "markdown",
      "metadata": {
        "colab_type": "text",
        "id": "vaZDHSVonzLc"
      },
      "source": [
        "### **Violation Type Numbers and Their Description**"
      ]
    },
    {
      "cell_type": "markdown",
      "metadata": {
        "colab_type": "text",
        "id": "KthKdSltpPKt"
      },
      "source": [
        "Violations numbered 1-44 and 70.\n",
        "\n",
        "Violation #1-14: critical\n",
        "\n",
        "Violation #15-29: serious "
      ]
    },
    {
      "cell_type": "code",
      "metadata": {
        "colab_type": "code",
        "id": "xmklb8hryjwQ",
        "colab": {}
      },
      "source": [
        "df_nan_removed_vio = df.dropna(subset=['Violations'])\n",
        "dict_vio = {}\n",
        "\n",
        "for j in df_nan_removed_vio['Violations']:\n",
        "  vio_list = j.split(\" | \")\n",
        "  for i in vio_list:\n",
        "    result = i[i.find(\"[0-9]+[. ]\")+1 : i.find(\" - Comments\")]\n",
        "    vio_pair = result.split(\".\")\n",
        "    if(vio_pair[0] not in dict_vio):\n",
        "      dict_vio[vio_pair[0]] = vio_pair[1]\n",
        "\n",
        "print(len(dict_vio)) \n",
        "\n",
        "dict_vio_sorted = {int(k):v for k,v in dict_vio.items()}\n",
        "print(sorted(dict_vio_sorted))\n",
        "\n",
        "pd.set_option('display.max_colwidth', -1) #to display the whole descriptions\n",
        "vio_descr = pd.DataFrame(list(dict_vio_sorted.items())).rename(columns={0:'Violation Number', 1:'Description'}).sort_values(by=['Violation Number']).set_index('Violation Number')\n",
        "vio_descr.head(50)"
      ],
      "execution_count": 0,
      "outputs": []
    },
    {
      "cell_type": "code",
      "metadata": {
        "id": "JsAw7jFI5APG",
        "colab_type": "code",
        "colab": {}
      },
      "source": [
        "print(len(vio_descr))"
      ],
      "execution_count": 0,
      "outputs": []
    },
    {
      "cell_type": "code",
      "metadata": {
        "colab_type": "code",
        "id": "kpmlfr4yEMPs",
        "colab": {}
      },
      "source": [
        "merged_oob # facilities that have gone oob\n",
        "set_diff_oob # facilities that haven't gone oob\n",
        "critical_vios = list(range(15))\n",
        "serious_vios = list(range(15, 30))"
      ],
      "execution_count": 0,
      "outputs": []
    },
    {
      "cell_type": "code",
      "metadata": {
        "colab_type": "code",
        "id": "8J6NvSj9HCIM",
        "colab": {}
      },
      "source": [
        "merged_oob.dropna(subset=['Violations'], inplace=True)\n",
        "merged_oob['Violations'] = merged_oob['Violations'].apply(lambda x: re.findall(r'^[0-9]+[.] | [|] [0-9]+[.] ', x))\n",
        "merged_oob['Violations'] = merged_oob['Violations'].apply(lambda x: [int(sub.replace('|','').split('.')[0]) for sub in x])\n",
        "merged_oob['Violations'] = merged_oob['Violations'].apply(lambda x: [x for x in x if x in critical_vios + serious_vios])"
      ],
      "execution_count": 0,
      "outputs": []
    },
    {
      "cell_type": "code",
      "metadata": {
        "id": "O3paoB3LaJHl",
        "colab_type": "code",
        "colab": {}
      },
      "source": [
        "vio_crit_serious_oob = pd.DataFrame(merged_oob)\n",
        "vio_crit_serious_oob.reset_index(inplace=True)\n",
        "vio_crit_serious_oob.drop(columns='index', inplace=True)\n",
        "\n",
        "vio_freq_crit_serious_oob = {}\n",
        "for i in vio_crit_serious_oob['Violations']:\n",
        "  for j in i:\n",
        "    vio_freq_crit_serious_oob[str(j)] = 1 if str(j) not in vio_freq_crit_serious_oob else vio_freq_crit_serious_oob[str(j)]+1\n",
        "\n",
        "sorted_vio_freq_crit_serious_oob = {}\n",
        "\n",
        "for key in sorted(vio_freq_crit_serious_oob, key=vio_freq_crit_serious_oob.__getitem__, reverse=True):\n",
        "  sorted_vio_freq_crit_serious_oob[key] = vio_freq_crit_serious_oob[key]\n",
        "\n",
        "num_oob_inspections = len(merged_oob)\n",
        "num_oob_inspections"
      ],
      "execution_count": 0,
      "outputs": []
    },
    {
      "cell_type": "code",
      "metadata": {
        "colab_type": "code",
        "id": "cXkvlp_sH6Mk",
        "colab": {}
      },
      "source": [
        "set_diff_oob.dropna(subset=['Violations'], inplace=True)\n",
        "set_diff_oob['Violations'] = set_diff_oob['Violations'].apply(lambda x: re.findall(r'^[0-9]+[.] | [|] [0-9]+[.] ', x))\n",
        "set_diff_oob['Violations'] = set_diff_oob['Violations'].apply(lambda x: [int(sub.replace('|','').split('.')[0]) for sub in x])\n",
        "set_diff_oob['Violations'] = set_diff_oob['Violations'].apply(lambda x: list(set([x for x in x if x in critical_vios + serious_vios])))"
      ],
      "execution_count": 0,
      "outputs": []
    },
    {
      "cell_type": "code",
      "metadata": {
        "id": "18IUqMNPbtzC",
        "colab_type": "code",
        "colab": {}
      },
      "source": [
        "vio_crit_serious_not_oob = pd.DataFrame(set_diff_oob)\n",
        "vio_crit_serious_not_oob.reset_index(inplace=True)\n",
        "vio_crit_serious_not_oob.drop(columns='index', inplace=True)\n",
        "\n",
        "vio_freq_crit_serious_not_oob = {}\n",
        "for i in vio_crit_serious_not_oob['Violations']:\n",
        "  for j in i:\n",
        "    vio_freq_crit_serious_not_oob[str(j)] = 1 if str(j) not in vio_freq_crit_serious_not_oob else vio_freq_crit_serious_not_oob[str(j)]+1\n",
        "\n",
        "sorted_vio_freq_crit_serious_not_oob = {}\n",
        "\n",
        "for key in sorted(vio_freq_crit_serious_not_oob, key=vio_freq_crit_serious_not_oob.__getitem__, reverse=True):\n",
        "  sorted_vio_freq_crit_serious_not_oob[key] = vio_freq_crit_serious_not_oob[key]\n",
        "\n",
        "num_not_oob_inspections = len(set_diff_oob)\n",
        "num_not_oob_inspections"
      ],
      "execution_count": 0,
      "outputs": []
    },
    {
      "cell_type": "code",
      "metadata": {
        "id": "_xf6UDCLPpKq",
        "colab_type": "code",
        "colab": {}
      },
      "source": [
        "ratio_crit_serious_oob = {k: v / num_oob_inspections for k, v in sorted_vio_freq_crit_serious_oob.items()}\n",
        "ratio_crit_serious_not_oob = {k: v / num_not_oob_inspections for k, v in sorted_vio_freq_crit_serious_not_oob.items()}"
      ],
      "execution_count": 0,
      "outputs": []
    },
    {
      "cell_type": "code",
      "metadata": {
        "id": "23Ncl4ctcT8r",
        "colab_type": "code",
        "colab": {}
      },
      "source": [
        "plt.figure(figsize=(10,4))\n",
        "Facilities=['Not OOB','OOB']\n",
        "plt.bar(list(ratio_crit_serious_not_oob.keys()), ratio_crit_serious_not_oob.values(),color='mediumorchid',edgecolor='black')\n",
        "plt.bar(list(ratio_crit_serious_oob.keys()), ratio_crit_serious_oob.values(),color='lightseagreen',edgecolor='black')\n",
        "plt.title('Ratios of committed critical and serious violations')\n",
        "plt.xlabel('Violation Types')\n",
        "plt.ylabel('Ratio (out of all inspections)')\n",
        "plt.legend(Facilities,loc=1)\n",
        "plt.show()"
      ],
      "execution_count": 0,
      "outputs": []
    },
    {
      "cell_type": "code",
      "metadata": {
        "id": "i2ovm59vjeen",
        "colab_type": "code",
        "colab": {}
      },
      "source": [
        "X = ratio_crit_serious_oob.keys()\n",
        "Y = ratio_crit_serious_oob.values()\n",
        "Z = ratio_crit_serious_not_oob.values()\n",
        "plt.figure(figsize=(18,6))\n",
        "\n",
        "def subcategorybar(X, vals, width=0.8):\n",
        "    n = len(vals)\n",
        "    _X = np.arange(len(X))\n",
        "    for i in range(n):\n",
        "        plt.bar(_X - width/2. + i/float(n)*width, vals[i], \n",
        "                width=width/float(n), align=\"edge\")   \n",
        "    plt.xticks(_X, X)\n",
        "\n",
        "Facilities=['OOB','Not OOB']\n",
        "subcategorybar(X, [Y,Z])\n",
        "plt.title('Ratios of committed critical and serious violations',fontsize=24)\n",
        "plt.xlabel('Violation Types',fontsize=20)\n",
        "plt.xticks(fontsize=20)\n",
        "plt.ylabel('Ratio (out of all inspections)',fontsize=20)\n",
        "plt.yticks(fontsize=20)\n",
        "plt.legend(Facilities,loc=1,fontsize=20)\n",
        "plt.show()"
      ],
      "execution_count": 0,
      "outputs": []
    },
    {
      "cell_type": "code",
      "metadata": {
        "id": "ZkVdbwNV5rFt",
        "colab_type": "code",
        "colab": {}
      },
      "source": [
        "most_freq_crit_serious_oob_15 = [key for key, value in list(sorted_vio_freq_crit_serious_oob.items())[0:15]]\n",
        "most_freq_crit_serious_oob_10 = [key for key, value in list(sorted_vio_freq_crit_serious_oob.items())[0:10]]\n",
        "most_freq_crit_serious_oob_5 = [key for key, value in list(sorted_vio_freq_crit_serious_oob.items())[0:5]]\n",
        "# top 10 and 5 most frequent violation types among facilities that went out of business"
      ],
      "execution_count": 0,
      "outputs": []
    },
    {
      "cell_type": "code",
      "metadata": {
        "id": "eqQZdBLpC3jV",
        "colab_type": "code",
        "colab": {}
      },
      "source": [
        "most_freq_crit_serious_not_oob_15 = [key for key, value in list(sorted_vio_freq_crit_serious_not_oob.items())[0:15]]\n",
        "most_freq_crit_serious_not_oob_10 = [key for key, value in list(sorted_vio_freq_crit_serious_not_oob.items())[0:10]]\n",
        "most_freq_crit_serious_not_oob_5 = [key for key, value in list(sorted_vio_freq_crit_serious_not_oob.items())[0:5]]\n",
        "# top 15, 10 and 5 most frequent violation types among facilities that didn't go out of business"
      ],
      "execution_count": 0,
      "outputs": []
    },
    {
      "cell_type": "code",
      "metadata": {
        "id": "QUDgbft-DPFt",
        "colab_type": "code",
        "colab": {}
      },
      "source": [
        "# The difference of top 5 most frequent critical and serious violation types between oob and not oob facilities\n",
        "crit_serious_diff_5 = list(set(most_freq_crit_serious_oob_5) - set(most_freq_crit_serious_not_oob_5))\n",
        "crit_serious_diff_5"
      ],
      "execution_count": 0,
      "outputs": []
    },
    {
      "cell_type": "markdown",
      "metadata": {
        "id": "R6R0KLg5E0tW",
        "colab_type": "text"
      },
      "source": [
        "Violation number 29 might be an important factor in making facilities go out of business. So we check its description: \n",
        "\n",
        "29 - COMPLIANCE WITH VARIANCE/SPECIALIZED PROCESS/HACCP."
      ]
    },
    {
      "cell_type": "code",
      "metadata": {
        "id": "NyY07ejzDAjx",
        "colab_type": "code",
        "colab": {}
      },
      "source": [
        "# The difference of top 10 most frequent critical and serious violation types between oob and not oob facilities\n",
        "crit_serious_diff_10 = list(set(most_freq_crit_serious_oob_10) - set(most_freq_crit_serious_not_oob_10))\n",
        "crit_serious_diff_10"
      ],
      "execution_count": 0,
      "outputs": []
    },
    {
      "cell_type": "markdown",
      "metadata": {
        "id": "c37saoJdGNNg",
        "colab_type": "text"
      },
      "source": [
        "Violation number 24, 11, and 19 might be important factors in making facilities go out of business. So we check their descriptions: \n",
        "\n",
        "24 - TIME AS A PUBLIC HEALTH CONTROL; PROCEDURES & RECORDS\n",
        "\n",
        "11 - FOOD OBTAINED FROM APPROVED SOURCE\n",
        "\n",
        "19 - PROPER REHEATING PROCEDURES FOR HOT HOLDING"
      ]
    },
    {
      "cell_type": "code",
      "metadata": {
        "id": "bKsBg2ekD4V9",
        "colab_type": "code",
        "colab": {}
      },
      "source": [
        "# The difference of top 15 most frequent critical and serious violation types between oob and not oob facilities\n",
        "crit_serious_diff_15 = list(set(most_freq_crit_serious_oob_15) - set(most_freq_crit_serious_not_oob_15))\n",
        "crit_serious_diff_15"
      ],
      "execution_count": 0,
      "outputs": []
    },
    {
      "cell_type": "code",
      "metadata": {
        "colab_type": "code",
        "id": "P0jg4KAJOgvp",
        "colab": {}
      },
      "source": [
        "vio_freq_all = {}\n",
        "for i in violation_nums_oob['Violations']:\n",
        "  for j in i:\n",
        "    vio_freq_oob[str(j)] = 1 if str(j) not in vio_freq_oob else vio_freq_oob[str(j)]+1"
      ],
      "execution_count": 0,
      "outputs": []
    }
  ]
}