{
  "nbformat": 4,
  "nbformat_minor": 0,
  "metadata": {
    "accelerator": "GPU",
    "colab": {
      "name": "sena_violations.ipynb",
      "provenance": [],
      "collapsed_sections": [
        "kCcCYtxFXmlu"
      ],
      "include_colab_link": true
    },
    "kernelspec": {
      "display_name": "Python [conda env:py36] *",
      "language": "python",
      "name": "conda-env-py36-py"
    },
    "language_info": {
      "codemirror_mode": {
        "name": "ipython",
        "version": 3
      },
      "file_extension": ".py",
      "mimetype": "text/x-python",
      "name": "python",
      "nbconvert_exporter": "python",
      "pygments_lexer": "ipython3",
      "version": "3.6.9"
    }
  },
  "cells": [
    {
      "cell_type": "markdown",
      "metadata": {
        "id": "view-in-github",
        "colab_type": "text"
      },
      "source": [
        "<a href=\"https://colab.research.google.com/github/RubinDaija/epfl-ada-2019-project/blob/master/sena_violations.ipynb\" target=\"_parent\"><img src=\"https://colab.research.google.com/assets/colab-badge.svg\" alt=\"Open In Colab\"/></a>"
      ]
    },
    {
      "cell_type": "markdown",
      "metadata": {
        "colab_type": "text",
        "id": "-Tvl9ABtLcXB"
      },
      "source": [
        "# **Necessary Imports**"
      ]
    },
    {
      "cell_type": "code",
      "metadata": {
        "colab_type": "code",
        "id": "y8CsC8G1r9hy",
        "colab": {}
      },
      "source": [
        "%matplotlib inline\n",
        "import pandas as pd\n",
        "import numpy as np\n",
        "import re\n",
        "from matplotlib.ticker import MaxNLocator\n",
        "import matplotlib.pyplot as plt\n",
        "from scipy import stats\n",
        "from folium.plugins import MarkerCluster\n",
        "import warnings\n",
        "import folium\n",
        "import zipfile"
      ],
      "execution_count": 0,
      "outputs": []
    },
    {
      "cell_type": "code",
      "metadata": {
        "id": "raxd7zI0V87t",
        "colab_type": "code",
        "colab": {
          "base_uri": "https://localhost:8080/",
          "height": 35
        },
        "outputId": "92dc86fc-066e-4173-a5c6-c9eb51718ca1"
      },
      "source": [
        "#-- Uncomment this if using Google Colab / Comment this if using Jupyter Lab --#\n",
        "\n",
        "from google.colab import drive\n",
        "drive.mount('/content/drive')\n",
        "\n",
        "df = pd.read_csv('/content/drive/My Drive/Project_2/food-inspections.csv')"
      ],
      "execution_count": 337,
      "outputs": [
        {
          "output_type": "stream",
          "text": [
            "Drive already mounted at /content/drive; to attempt to forcibly remount, call drive.mount(\"/content/drive\", force_remount=True).\n"
          ],
          "name": "stdout"
        }
      ]
    },
    {
      "cell_type": "code",
      "metadata": {
        "colab_type": "code",
        "id": "W-StO1Nyr9h5",
        "outputId": "cb767567-6ce7-42df-b827-315dc302ef75",
        "colab": {
          "base_uri": "https://localhost:8080/",
          "height": 35
        }
      },
      "source": [
        "#-- Uncomment this if using Jupyter Lab / Comment this if using Google Colab --#\n",
        "'''\n",
        "zf = zipfile.ZipFile('chicago_dropped.zip')\n",
        "df = pd.read_csv(zf.open('chicago_dropped/food_inspections.csv'))\n",
        "'''"
      ],
      "execution_count": 338,
      "outputs": [
        {
          "output_type": "execute_result",
          "data": {
            "text/plain": [
              "\"\\nzf = zipfile.ZipFile('chicago_dropped.zip')\\ndf = pd.read_csv(zf.open('chicago_dropped/food_inspections.csv'))\\n\""
            ]
          },
          "metadata": {
            "tags": []
          },
          "execution_count": 338
        }
      ]
    },
    {
      "cell_type": "markdown",
      "metadata": {
        "colab_type": "text",
        "id": "N_D_0xcgOQgx"
      },
      "source": [
        "# **Data Analysis**"
      ]
    },
    {
      "cell_type": "markdown",
      "metadata": {
        "colab_type": "text",
        "id": "p8evugJae-ZT"
      },
      "source": [
        "### **Number of Unique Facilities**"
      ]
    },
    {
      "cell_type": "code",
      "metadata": {
        "colab_type": "code",
        "id": "beW4DumFfDkS",
        "outputId": "5b067056-2c3a-4c4a-de78-3a362eda7bb3",
        "colab": {
          "base_uri": "https://localhost:8080/",
          "height": 35
        }
      },
      "source": [
        "df_unique = df.groupby(['Latitude','Longitude','DBA Name']).count()\n",
        "print(\"Number of unique facilities: \" + str(df_unique.shape[0]))"
      ],
      "execution_count": 339,
      "outputs": [
        {
          "output_type": "stream",
          "text": [
            "Number of unique facilities: 27068\n"
          ],
          "name": "stdout"
        }
      ]
    },
    {
      "cell_type": "markdown",
      "metadata": {
        "colab_type": "text",
        "id": "Z8_DWQ9xr9iW"
      },
      "source": [
        "### **Facility Type vs. Average Risk**\n"
      ]
    },
    {
      "cell_type": "markdown",
      "metadata": {
        "colab_type": "text",
        "id": "2NYPWCi6PEV0"
      },
      "source": [
        "We analyzed the relationship between the type of facility and the average risk of that facility over all inspections:"
      ]
    },
    {
      "cell_type": "code",
      "metadata": {
        "colab_type": "code",
        "id": "rj-CxjLpr9iR",
        "colab": {}
      },
      "source": [
        "# Aggregate data over Facility Type\n",
        "grouped_fac = df.groupby('Facility Type')"
      ],
      "execution_count": 0,
      "outputs": []
    },
    {
      "cell_type": "code",
      "metadata": {
        "colab_type": "code",
        "id": "9EsVpnqxr9iT",
        "outputId": "80ce1d20-961b-4315-e69e-45ea78fc4d4a",
        "colab": {
          "base_uri": "https://localhost:8080/",
          "height": 200
        }
      },
      "source": [
        "# Compute average risk of each type of facility\n",
        "grouped_fac_risk_mean = pd.DataFrame(grouped_fac['Risk'].mean()).reset_index()\n",
        "grouped_fac_risk_mean.head()"
      ],
      "execution_count": 341,
      "outputs": [
        {
          "output_type": "execute_result",
          "data": {
            "text/html": [
              "<div>\n",
              "<style scoped>\n",
              "    .dataframe tbody tr th:only-of-type {\n",
              "        vertical-align: middle;\n",
              "    }\n",
              "\n",
              "    .dataframe tbody tr th {\n",
              "        vertical-align: top;\n",
              "    }\n",
              "\n",
              "    .dataframe thead th {\n",
              "        text-align: right;\n",
              "    }\n",
              "</style>\n",
              "<table border=\"1\" class=\"dataframe\">\n",
              "  <thead>\n",
              "    <tr style=\"text-align: right;\">\n",
              "      <th></th>\n",
              "      <th>Facility Type</th>\n",
              "      <th>Risk</th>\n",
              "    </tr>\n",
              "  </thead>\n",
              "  <tbody>\n",
              "    <tr>\n",
              "      <th>0</th>\n",
              "      <td>ADULT FAMILY CARE CENTER</td>\n",
              "      <td>1.00000</td>\n",
              "    </tr>\n",
              "    <tr>\n",
              "      <th>1</th>\n",
              "      <td>AIRPORT LOUNGE</td>\n",
              "      <td>1.50000</td>\n",
              "    </tr>\n",
              "    <tr>\n",
              "      <th>2</th>\n",
              "      <td>ART GALLERY</td>\n",
              "      <td>3.00000</td>\n",
              "    </tr>\n",
              "    <tr>\n",
              "      <th>3</th>\n",
              "      <td>ASSISTED LIVING/NURSING HOME</td>\n",
              "      <td>1.00000</td>\n",
              "    </tr>\n",
              "    <tr>\n",
              "      <th>4</th>\n",
              "      <td>BAKERY</td>\n",
              "      <td>1.62949</td>\n",
              "    </tr>\n",
              "  </tbody>\n",
              "</table>\n",
              "</div>"
            ],
            "text/plain": [
              "                  Facility Type     Risk\n",
              "0  ADULT FAMILY CARE CENTER      1.00000\n",
              "1  AIRPORT LOUNGE                1.50000\n",
              "2  ART GALLERY                   3.00000\n",
              "3  ASSISTED LIVING/NURSING HOME  1.00000\n",
              "4  BAKERY                        1.62949"
            ]
          },
          "metadata": {
            "tags": []
          },
          "execution_count": 341
        }
      ]
    },
    {
      "cell_type": "code",
      "metadata": {
        "colab_type": "code",
        "id": "UTR_QVrtr9iX",
        "outputId": "fcc07b47-3886-4d5e-b02f-d18fff464856",
        "scrolled": true,
        "colab": {
          "base_uri": "https://localhost:8080/",
          "height": 429
        }
      },
      "source": [
        "# Compute number of facilities in each type of facility\n",
        "fac_dist = pd.DataFrame(grouped_fac.count()['Risk']).rename(columns={'Risk':'Counts'}).sort_values(by='Counts',ascending=False).reset_index()\n",
        "print(\"Number of different types of facilities :\" + str(fac_dist.size))\n",
        "fac_dist.head(100)"
      ],
      "execution_count": 342,
      "outputs": [
        {
          "output_type": "stream",
          "text": [
            "Number of different types of facilities :236\n"
          ],
          "name": "stdout"
        },
        {
          "output_type": "execute_result",
          "data": {
            "text/html": [
              "<div>\n",
              "<style scoped>\n",
              "    .dataframe tbody tr th:only-of-type {\n",
              "        vertical-align: middle;\n",
              "    }\n",
              "\n",
              "    .dataframe tbody tr th {\n",
              "        vertical-align: top;\n",
              "    }\n",
              "\n",
              "    .dataframe thead th {\n",
              "        text-align: right;\n",
              "    }\n",
              "</style>\n",
              "<table border=\"1\" class=\"dataframe\">\n",
              "  <thead>\n",
              "    <tr style=\"text-align: right;\">\n",
              "      <th></th>\n",
              "      <th>Facility Type</th>\n",
              "      <th>Counts</th>\n",
              "    </tr>\n",
              "  </thead>\n",
              "  <tbody>\n",
              "    <tr>\n",
              "      <th>0</th>\n",
              "      <td>RESTAURANT</td>\n",
              "      <td>131852</td>\n",
              "    </tr>\n",
              "    <tr>\n",
              "      <th>1</th>\n",
              "      <td>RETAIL STORE</td>\n",
              "      <td>25635</td>\n",
              "    </tr>\n",
              "    <tr>\n",
              "      <th>2</th>\n",
              "      <td>SCHOOL</td>\n",
              "      <td>12054</td>\n",
              "    </tr>\n",
              "    <tr>\n",
              "      <th>3</th>\n",
              "      <td>DAYCARE</td>\n",
              "      <td>9537</td>\n",
              "    </tr>\n",
              "    <tr>\n",
              "      <th>4</th>\n",
              "      <td>BAKERY</td>\n",
              "      <td>2923</td>\n",
              "    </tr>\n",
              "    <tr>\n",
              "      <th>...</th>\n",
              "      <td>...</td>\n",
              "      <td>...</td>\n",
              "    </tr>\n",
              "    <tr>\n",
              "      <th>95</th>\n",
              "      <td>FOOD BOOTH</td>\n",
              "      <td>2</td>\n",
              "    </tr>\n",
              "    <tr>\n",
              "      <th>96</th>\n",
              "      <td>VENDING MACHINE</td>\n",
              "      <td>2</td>\n",
              "    </tr>\n",
              "    <tr>\n",
              "      <th>97</th>\n",
              "      <td>VFW HALL</td>\n",
              "      <td>2</td>\n",
              "    </tr>\n",
              "    <tr>\n",
              "      <th>98</th>\n",
              "      <td>BOYS AND GIRLS CLUB</td>\n",
              "      <td>2</td>\n",
              "    </tr>\n",
              "    <tr>\n",
              "      <th>99</th>\n",
              "      <td>BLOCKBUSTER VIDEO</td>\n",
              "      <td>2</td>\n",
              "    </tr>\n",
              "  </tbody>\n",
              "</table>\n",
              "<p>100 rows × 2 columns</p>\n",
              "</div>"
            ],
            "text/plain": [
              "          Facility Type  Counts\n",
              "0   RESTAURANT           131852\n",
              "1   RETAIL STORE         25635 \n",
              "2   SCHOOL               12054 \n",
              "3   DAYCARE              9537  \n",
              "4   BAKERY               2923  \n",
              "..     ...                ...  \n",
              "95  FOOD BOOTH           2     \n",
              "96  VENDING MACHINE      2     \n",
              "97  VFW HALL             2     \n",
              "98  BOYS AND GIRLS CLUB  2     \n",
              "99  BLOCKBUSTER VIDEO    2     \n",
              "\n",
              "[100 rows x 2 columns]"
            ]
          },
          "metadata": {
            "tags": []
          },
          "execution_count": 342
        }
      ]
    },
    {
      "cell_type": "markdown",
      "metadata": {
        "colab_type": "text",
        "id": "ZBPvbW_CYMPj"
      },
      "source": [
        "When we plotted the number of facilities in each type of facility vs. their average risk score, we observed no correlation between the two. We observed that the facility type with the highest number of facilities (i.e. restaurant) has a very high average risk score:"
      ]
    },
    {
      "cell_type": "markdown",
      "metadata": {
        "colab_type": "text",
        "id": "eVZEtg_iXrnc"
      },
      "source": [
        "### **Facility Type Distribution**"
      ]
    },
    {
      "cell_type": "markdown",
      "metadata": {
        "colab_type": "text",
        "id": "7-3nrh5PXIbv"
      },
      "source": [
        "From the bar plot below, we can clearly observe the skewed distribution in Facility Type. Most of our data consists of restaurant, grocery store, and school types of facilities:"
      ]
    },
    {
      "cell_type": "code",
      "metadata": {
        "colab_type": "code",
        "id": "TDqfH9CZS9Ws",
        "outputId": "5fb02099-3079-4e90-a70b-21e4559009ab",
        "colab": {
          "base_uri": "https://localhost:8080/",
          "height": 312
        }
      },
      "source": [
        "plt.barh(fac_dist.head(10)['Facility Type'],fac_dist.head(10)['Counts'], color='slateblue')\n",
        "plt.title('Distribution of facility types')\n",
        "plt.xlabel('Number of establishments')\n",
        "plt.ylabel('Facility Types')"
      ],
      "execution_count": 343,
      "outputs": [
        {
          "output_type": "execute_result",
          "data": {
            "text/plain": [
              "Text(0, 0.5, 'Facility Types')"
            ]
          },
          "metadata": {
            "tags": []
          },
          "execution_count": 343
        },
        {
          "output_type": "display_data",
          "data": {
            "image/png": "[encoded data removed]",
            "text/plain": [
              "<Figure size 432x288 with 1 Axes>"
            ]
          },
          "metadata": {
            "tags": []
          }
        }
      ]
    },
    {
      "cell_type": "markdown",
      "metadata": {
        "colab_type": "text",
        "id": "CKLyGPdMYipy"
      },
      "source": [
        "### **Number of Facilities in a Type vs. Average Risk Score**"
      ]
    },
    {
      "cell_type": "code",
      "metadata": {
        "colab_type": "code",
        "id": "byAJr65ir9iZ",
        "outputId": "c0049b84-9dc0-4a01-8020-1cc7d29dab10",
        "colab": {
          "base_uri": "https://localhost:8080/",
          "height": 297
        }
      },
      "source": [
        "# Perform inner merge on number of facilities and their risk scores \n",
        "merged_inner = pd.merge(left=fac_dist,right=grouped_fac_risk_mean,left_on='Facility Type',right_on='Facility Type')\n",
        "# Scatter plot: number of facilities in each type (i.e. facility type) vs. average risk score\n",
        "merged_inner.plot.scatter(x='Counts', y='Risk')"
      ],
      "execution_count": 344,
      "outputs": [
        {
          "output_type": "execute_result",
          "data": {
            "text/plain": [
              "<matplotlib.axes._subplots.AxesSubplot at 0x7f5001841ba8>"
            ]
          },
          "metadata": {
            "tags": []
          },
          "execution_count": 344
        },
        {
          "output_type": "display_data",
          "data": {
            "image/png": "[encoded data removed]",
            "text/plain": [
              "<Figure size 432x288 with 1 Axes>"
            ]
          },
          "metadata": {
            "tags": []
          }
        }
      ]
    },
    {
      "cell_type": "markdown",
      "metadata": {
        "colab_type": "text",
        "id": "8-RqdwUPr9id"
      },
      "source": [
        "We realized that the dataset is unbalanced in terms of number of Facility Types, where there are some Facility Types with very few instances. The types of facilities with very few instances would provide us with little to no information. Hence, we decided to analyze the 50 most frequent type of facilities and drop the others:"
      ]
    },
    {
      "cell_type": "code",
      "metadata": {
        "colab_type": "code",
        "id": "8OU47lhMr9ie",
        "outputId": "b7eaedc0-c3dc-417d-fad3-a75ea44d00b3",
        "colab": {
          "base_uri": "https://localhost:8080/",
          "height": 52
        }
      },
      "source": [
        "print(\"Number of entries before removing facility types with few instances: \" + str(df.size))\n",
        "df = df[df['Facility Type'].isin(list(fac_dist['Facility Type'])[:50])]\n",
        "print(\"Number of entries after removing facility types with few instances: \" + str(df.size))"
      ],
      "execution_count": 345,
      "outputs": [
        {
          "output_type": "stream",
          "text": [
            "Number of entries before removing facility types with few instances: 3074928\n",
            "Number of entries after removing facility types with few instances: 3071184\n"
          ],
          "name": "stdout"
        }
      ]
    },
    {
      "cell_type": "code",
      "metadata": {
        "id": "SAOV33kZQA7_",
        "colab_type": "code",
        "outputId": "05017ada-ab0b-49f1-fbbe-8aa0ca753d50",
        "colab": {
          "base_uri": "https://localhost:8080/",
          "height": 492
        }
      },
      "source": [
        "df_oob = df[df.Results.str.contains(\"Out of Business\",na=False)]\n",
        "df_oob.head()"
      ],
      "execution_count": 346,
      "outputs": [
        {
          "output_type": "execute_result",
          "data": {
            "text/html": [
              "<div>\n",
              "<style scoped>\n",
              "    .dataframe tbody tr th:only-of-type {\n",
              "        vertical-align: middle;\n",
              "    }\n",
              "\n",
              "    .dataframe tbody tr th {\n",
              "        vertical-align: top;\n",
              "    }\n",
              "\n",
              "    .dataframe thead th {\n",
              "        text-align: right;\n",
              "    }\n",
              "</style>\n",
              "<table border=\"1\" class=\"dataframe\">\n",
              "  <thead>\n",
              "    <tr style=\"text-align: right;\">\n",
              "      <th></th>\n",
              "      <th>Inspection ID</th>\n",
              "      <th>DBA Name</th>\n",
              "      <th>AKA Name</th>\n",
              "      <th>License #</th>\n",
              "      <th>Facility Type</th>\n",
              "      <th>Risk</th>\n",
              "      <th>Address</th>\n",
              "      <th>Zip</th>\n",
              "      <th>Inspection Date</th>\n",
              "      <th>Inspection Type</th>\n",
              "      <th>Results</th>\n",
              "      <th>Violations</th>\n",
              "      <th>Latitude</th>\n",
              "      <th>Longitude</th>\n",
              "      <th>Location</th>\n",
              "      <th>Regions</th>\n",
              "    </tr>\n",
              "  </thead>\n",
              "  <tbody>\n",
              "    <tr>\n",
              "      <th>32</th>\n",
              "      <td>2352681</td>\n",
              "      <td>BAR-B-Q TONITE</td>\n",
              "      <td>BAR-B-Q TONITE</td>\n",
              "      <td>2563933.0</td>\n",
              "      <td>RESTAURANT</td>\n",
              "      <td>1</td>\n",
              "      <td>6348 N ARTESIAN AVE</td>\n",
              "      <td>60659.0</td>\n",
              "      <td>2019-12-03T00:00:00.000</td>\n",
              "      <td>CANVASS</td>\n",
              "      <td>Out of Business</td>\n",
              "      <td>NaN</td>\n",
              "      <td>41.997335</td>\n",
              "      <td>-87.691240</td>\n",
              "      <td>{'latitude': '-87.69123961702296', 'longitude': '41.997334872776214'}</td>\n",
              "      <td>WEST RIDGE</td>\n",
              "    </tr>\n",
              "    <tr>\n",
              "      <th>39</th>\n",
              "      <td>2352679</td>\n",
              "      <td>ZAIQA RESTAURANT</td>\n",
              "      <td>ZAIQA RESTAURANT</td>\n",
              "      <td>2632018.0</td>\n",
              "      <td>RESTAURANT</td>\n",
              "      <td>1</td>\n",
              "      <td>2245 W DEVON AVE</td>\n",
              "      <td>60659.0</td>\n",
              "      <td>2019-12-03T00:00:00.000</td>\n",
              "      <td>CANVASS</td>\n",
              "      <td>Out of Business</td>\n",
              "      <td>NaN</td>\n",
              "      <td>41.997674</td>\n",
              "      <td>-87.686756</td>\n",
              "      <td>{'latitude': '-87.6867563084304', 'longitude': '41.9976744700477'}</td>\n",
              "      <td>WEST RIDGE</td>\n",
              "    </tr>\n",
              "    <tr>\n",
              "      <th>49</th>\n",
              "      <td>2352524</td>\n",
              "      <td>TC HOTDOGS</td>\n",
              "      <td>TC HOTDOGS</td>\n",
              "      <td>1954116.0</td>\n",
              "      <td>RESTAURANT</td>\n",
              "      <td>2</td>\n",
              "      <td>1740 N KOSTNER AVE</td>\n",
              "      <td>60639.0</td>\n",
              "      <td>2019-12-02T00:00:00.000</td>\n",
              "      <td>CANVASS</td>\n",
              "      <td>Out of Business</td>\n",
              "      <td>NaN</td>\n",
              "      <td>41.912770</td>\n",
              "      <td>-87.736348</td>\n",
              "      <td>{'latitude': '-87.7363483567106', 'longitude': '41.91276950189482'}</td>\n",
              "      <td>HUMBOLDT PARK</td>\n",
              "    </tr>\n",
              "    <tr>\n",
              "      <th>73</th>\n",
              "      <td>2352554</td>\n",
              "      <td>EAT &amp; DRINK</td>\n",
              "      <td>EAT &amp; DRINK</td>\n",
              "      <td>2069092.0</td>\n",
              "      <td>RESTAURANT</td>\n",
              "      <td>1</td>\n",
              "      <td>4649 N DAMEN AVE</td>\n",
              "      <td>60625.0</td>\n",
              "      <td>2019-12-02T00:00:00.000</td>\n",
              "      <td>CANVASS</td>\n",
              "      <td>Out of Business</td>\n",
              "      <td>NaN</td>\n",
              "      <td>41.966583</td>\n",
              "      <td>-87.678975</td>\n",
              "      <td>{'latitude': '-87.67897535059605', 'longitude': '41.966582946351025'}</td>\n",
              "      <td>LINCOLN SQUARE</td>\n",
              "    </tr>\n",
              "    <tr>\n",
              "      <th>101</th>\n",
              "      <td>2352437</td>\n",
              "      <td>LABRIOL BAKERY AND CAFE</td>\n",
              "      <td>LABRIOLA BAKERY AND CAFE</td>\n",
              "      <td>2374837.0</td>\n",
              "      <td>BAKERY</td>\n",
              "      <td>2</td>\n",
              "      <td>1237 W FULTON MARKET</td>\n",
              "      <td>60607.0</td>\n",
              "      <td>2019-11-27T00:00:00.000</td>\n",
              "      <td>CANVASS</td>\n",
              "      <td>Out of Business</td>\n",
              "      <td>NaN</td>\n",
              "      <td>41.886547</td>\n",
              "      <td>-87.658324</td>\n",
              "      <td>{'latitude': '-87.6583238753014', 'longitude': '41.886547003439084'}</td>\n",
              "      <td>NEAR WEST SIDE</td>\n",
              "    </tr>\n",
              "  </tbody>\n",
              "</table>\n",
              "</div>"
            ],
            "text/plain": [
              "     Inspection ID  ...         Regions\n",
              "32   2352681        ...  WEST RIDGE    \n",
              "39   2352679        ...  WEST RIDGE    \n",
              "49   2352524        ...  HUMBOLDT PARK \n",
              "73   2352554        ...  LINCOLN SQUARE\n",
              "101  2352437        ...  NEAR WEST SIDE\n",
              "\n",
              "[5 rows x 16 columns]"
            ]
          },
          "metadata": {
            "tags": []
          },
          "execution_count": 346
        }
      ]
    },
    {
      "cell_type": "code",
      "metadata": {
        "id": "alh2uBT1QA8B",
        "colab_type": "code",
        "outputId": "8b39c2e6-3e70-4a47-826e-66c0f60120bc",
        "colab": {
          "base_uri": "https://localhost:8080/",
          "height": 706
        }
      },
      "source": [
        "df_oob['year'] = df_oob['Inspection Date'].apply(lambda x: x.split('-')[0])\n",
        "df_oob['month'] = df_oob['Inspection Date'].apply(lambda x: x.split('-')[1])\n",
        "df_oob.head()"
      ],
      "execution_count": 347,
      "outputs": [
        {
          "output_type": "stream",
          "text": [
            "/usr/local/lib/python3.6/dist-packages/ipykernel_launcher.py:1: SettingWithCopyWarning: \n",
            "A value is trying to be set on a copy of a slice from a DataFrame.\n",
            "Try using .loc[row_indexer,col_indexer] = value instead\n",
            "\n",
            "See the caveats in the documentation: http://pandas.pydata.org/pandas-docs/stable/user_guide/indexing.html#returning-a-view-versus-a-copy\n",
            "  \"\"\"Entry point for launching an IPython kernel.\n",
            "/usr/local/lib/python3.6/dist-packages/ipykernel_launcher.py:2: SettingWithCopyWarning: \n",
            "A value is trying to be set on a copy of a slice from a DataFrame.\n",
            "Try using .loc[row_indexer,col_indexer] = value instead\n",
            "\n",
            "See the caveats in the documentation: http://pandas.pydata.org/pandas-docs/stable/user_guide/indexing.html#returning-a-view-versus-a-copy\n",
            "  \n"
          ],
          "name": "stderr"
        },
        {
          "output_type": "execute_result",
          "data": {
            "text/html": [
              "<div>\n",
              "<style scoped>\n",
              "    .dataframe tbody tr th:only-of-type {\n",
              "        vertical-align: middle;\n",
              "    }\n",
              "\n",
              "    .dataframe tbody tr th {\n",
              "        vertical-align: top;\n",
              "    }\n",
              "\n",
              "    .dataframe thead th {\n",
              "        text-align: right;\n",
              "    }\n",
              "</style>\n",
              "<table border=\"1\" class=\"dataframe\">\n",
              "  <thead>\n",
              "    <tr style=\"text-align: right;\">\n",
              "      <th></th>\n",
              "      <th>Inspection ID</th>\n",
              "      <th>DBA Name</th>\n",
              "      <th>AKA Name</th>\n",
              "      <th>License #</th>\n",
              "      <th>Facility Type</th>\n",
              "      <th>Risk</th>\n",
              "      <th>Address</th>\n",
              "      <th>Zip</th>\n",
              "      <th>Inspection Date</th>\n",
              "      <th>Inspection Type</th>\n",
              "      <th>Results</th>\n",
              "      <th>Violations</th>\n",
              "      <th>Latitude</th>\n",
              "      <th>Longitude</th>\n",
              "      <th>Location</th>\n",
              "      <th>Regions</th>\n",
              "      <th>year</th>\n",
              "      <th>month</th>\n",
              "    </tr>\n",
              "  </thead>\n",
              "  <tbody>\n",
              "    <tr>\n",
              "      <th>32</th>\n",
              "      <td>2352681</td>\n",
              "      <td>BAR-B-Q TONITE</td>\n",
              "      <td>BAR-B-Q TONITE</td>\n",
              "      <td>2563933.0</td>\n",
              "      <td>RESTAURANT</td>\n",
              "      <td>1</td>\n",
              "      <td>6348 N ARTESIAN AVE</td>\n",
              "      <td>60659.0</td>\n",
              "      <td>2019-12-03T00:00:00.000</td>\n",
              "      <td>CANVASS</td>\n",
              "      <td>Out of Business</td>\n",
              "      <td>NaN</td>\n",
              "      <td>41.997335</td>\n",
              "      <td>-87.691240</td>\n",
              "      <td>{'latitude': '-87.69123961702296', 'longitude': '41.997334872776214'}</td>\n",
              "      <td>WEST RIDGE</td>\n",
              "      <td>2019</td>\n",
              "      <td>12</td>\n",
              "    </tr>\n",
              "    <tr>\n",
              "      <th>39</th>\n",
              "      <td>2352679</td>\n",
              "      <td>ZAIQA RESTAURANT</td>\n",
              "      <td>ZAIQA RESTAURANT</td>\n",
              "      <td>2632018.0</td>\n",
              "      <td>RESTAURANT</td>\n",
              "      <td>1</td>\n",
              "      <td>2245 W DEVON AVE</td>\n",
              "      <td>60659.0</td>\n",
              "      <td>2019-12-03T00:00:00.000</td>\n",
              "      <td>CANVASS</td>\n",
              "      <td>Out of Business</td>\n",
              "      <td>NaN</td>\n",
              "      <td>41.997674</td>\n",
              "      <td>-87.686756</td>\n",
              "      <td>{'latitude': '-87.6867563084304', 'longitude': '41.9976744700477'}</td>\n",
              "      <td>WEST RIDGE</td>\n",
              "      <td>2019</td>\n",
              "      <td>12</td>\n",
              "    </tr>\n",
              "    <tr>\n",
              "      <th>49</th>\n",
              "      <td>2352524</td>\n",
              "      <td>TC HOTDOGS</td>\n",
              "      <td>TC HOTDOGS</td>\n",
              "      <td>1954116.0</td>\n",
              "      <td>RESTAURANT</td>\n",
              "      <td>2</td>\n",
              "      <td>1740 N KOSTNER AVE</td>\n",
              "      <td>60639.0</td>\n",
              "      <td>2019-12-02T00:00:00.000</td>\n",
              "      <td>CANVASS</td>\n",
              "      <td>Out of Business</td>\n",
              "      <td>NaN</td>\n",
              "      <td>41.912770</td>\n",
              "      <td>-87.736348</td>\n",
              "      <td>{'latitude': '-87.7363483567106', 'longitude': '41.91276950189482'}</td>\n",
              "      <td>HUMBOLDT PARK</td>\n",
              "      <td>2019</td>\n",
              "      <td>12</td>\n",
              "    </tr>\n",
              "    <tr>\n",
              "      <th>73</th>\n",
              "      <td>2352554</td>\n",
              "      <td>EAT &amp; DRINK</td>\n",
              "      <td>EAT &amp; DRINK</td>\n",
              "      <td>2069092.0</td>\n",
              "      <td>RESTAURANT</td>\n",
              "      <td>1</td>\n",
              "      <td>4649 N DAMEN AVE</td>\n",
              "      <td>60625.0</td>\n",
              "      <td>2019-12-02T00:00:00.000</td>\n",
              "      <td>CANVASS</td>\n",
              "      <td>Out of Business</td>\n",
              "      <td>NaN</td>\n",
              "      <td>41.966583</td>\n",
              "      <td>-87.678975</td>\n",
              "      <td>{'latitude': '-87.67897535059605', 'longitude': '41.966582946351025'}</td>\n",
              "      <td>LINCOLN SQUARE</td>\n",
              "      <td>2019</td>\n",
              "      <td>12</td>\n",
              "    </tr>\n",
              "    <tr>\n",
              "      <th>101</th>\n",
              "      <td>2352437</td>\n",
              "      <td>LABRIOL BAKERY AND CAFE</td>\n",
              "      <td>LABRIOLA BAKERY AND CAFE</td>\n",
              "      <td>2374837.0</td>\n",
              "      <td>BAKERY</td>\n",
              "      <td>2</td>\n",
              "      <td>1237 W FULTON MARKET</td>\n",
              "      <td>60607.0</td>\n",
              "      <td>2019-11-27T00:00:00.000</td>\n",
              "      <td>CANVASS</td>\n",
              "      <td>Out of Business</td>\n",
              "      <td>NaN</td>\n",
              "      <td>41.886547</td>\n",
              "      <td>-87.658324</td>\n",
              "      <td>{'latitude': '-87.6583238753014', 'longitude': '41.886547003439084'}</td>\n",
              "      <td>NEAR WEST SIDE</td>\n",
              "      <td>2019</td>\n",
              "      <td>11</td>\n",
              "    </tr>\n",
              "  </tbody>\n",
              "</table>\n",
              "</div>"
            ],
            "text/plain": [
              "     Inspection ID                 DBA Name  ...  year  month\n",
              "32   2352681        BAR-B-Q TONITE           ...  2019  12   \n",
              "39   2352679        ZAIQA RESTAURANT         ...  2019  12   \n",
              "49   2352524        TC HOTDOGS               ...  2019  12   \n",
              "73   2352554        EAT & DRINK              ...  2019  12   \n",
              "101  2352437        LABRIOL BAKERY AND CAFE  ...  2019  11   \n",
              "\n",
              "[5 rows x 18 columns]"
            ]
          },
          "metadata": {
            "tags": []
          },
          "execution_count": 347
        }
      ]
    },
    {
      "cell_type": "code",
      "metadata": {
        "id": "dCU3X4NGQA8D",
        "colab_type": "code",
        "colab": {}
      },
      "source": [
        "df_year = df_oob.groupby(\"year\").count()['Results'].reset_index().rename(columns={'Results':'Count'})"
      ],
      "execution_count": 0,
      "outputs": []
    },
    {
      "cell_type": "code",
      "metadata": {
        "id": "PJLopC5oQA8F",
        "colab_type": "code",
        "outputId": "67b31910-b3bc-4e22-d7e1-814d3cf2cbde",
        "colab": {
          "base_uri": "https://localhost:8080/",
          "height": 331
        }
      },
      "source": [
        "fig, axs = plt.subplots(1, 1, constrained_layout=True)\n",
        "axs.set_title('The number of facilities that went out of business vs. year')\n",
        "axs.set_xlabel('count')\n",
        "axs.set_ylabel('years')\n",
        "axs.barh(df_year['year'],df_year['Count'])"
      ],
      "execution_count": 349,
      "outputs": [
        {
          "output_type": "execute_result",
          "data": {
            "text/plain": [
              "<BarContainer object of 10 artists>"
            ]
          },
          "metadata": {
            "tags": []
          },
          "execution_count": 349
        },
        {
          "output_type": "display_data",
          "data": {
            "image/png": "[encoded data removed]",
            "text/plain": [
              "<Figure size 432x288 with 1 Axes>"
            ]
          },
          "metadata": {
            "tags": []
          }
        }
      ]
    },
    {
      "cell_type": "markdown",
      "metadata": {
        "id": "_VrQeb4nQA8M",
        "colab_type": "text"
      },
      "source": [
        "In the plot above, we can see that year 2013 is the year where the number of closed down facilities peaks. Therefore, we wil analyse the year 2013."
      ]
    },
    {
      "cell_type": "code",
      "metadata": {
        "id": "NwX6nAciQA8M",
        "colab_type": "code",
        "colab": {}
      },
      "source": [
        "df_oob2013 = df_oob[df_oob.year.str.contains(\"2013\",na=False)]\n",
        "df_oob_not2013 = df_oob[~df_oob.year.str.contains(\"2013\",na=False)]"
      ],
      "execution_count": 0,
      "outputs": []
    },
    {
      "cell_type": "code",
      "metadata": {
        "id": "kF38GhpxQA8O",
        "colab_type": "code",
        "outputId": "db94a15e-893b-45c9-e646-cf99d0982b7f",
        "colab": {
          "base_uri": "https://localhost:8080/",
          "height": 504
        }
      },
      "source": [
        "df_oob2013.groupby(\"Regions\").count().rename(columns={'Results':'Counts'}).sort_values(by='Counts',ascending=False)['Counts'].reset_index().head(15)"
      ],
      "execution_count": 351,
      "outputs": [
        {
          "output_type": "execute_result",
          "data": {
            "text/html": [
              "<div>\n",
              "<style scoped>\n",
              "    .dataframe tbody tr th:only-of-type {\n",
              "        vertical-align: middle;\n",
              "    }\n",
              "\n",
              "    .dataframe tbody tr th {\n",
              "        vertical-align: top;\n",
              "    }\n",
              "\n",
              "    .dataframe thead th {\n",
              "        text-align: right;\n",
              "    }\n",
              "</style>\n",
              "<table border=\"1\" class=\"dataframe\">\n",
              "  <thead>\n",
              "    <tr style=\"text-align: right;\">\n",
              "      <th></th>\n",
              "      <th>Regions</th>\n",
              "      <th>Counts</th>\n",
              "    </tr>\n",
              "  </thead>\n",
              "  <tbody>\n",
              "    <tr>\n",
              "      <th>0</th>\n",
              "      <td>LAKE VIEW</td>\n",
              "      <td>173</td>\n",
              "    </tr>\n",
              "    <tr>\n",
              "      <th>1</th>\n",
              "      <td>LOOP</td>\n",
              "      <td>159</td>\n",
              "    </tr>\n",
              "    <tr>\n",
              "      <th>2</th>\n",
              "      <td>NEAR NORTH SIDE</td>\n",
              "      <td>124</td>\n",
              "    </tr>\n",
              "    <tr>\n",
              "      <th>3</th>\n",
              "      <td>LINCOLN PARK</td>\n",
              "      <td>117</td>\n",
              "    </tr>\n",
              "    <tr>\n",
              "      <th>4</th>\n",
              "      <td>NEAR SOUTH SIDE</td>\n",
              "      <td>114</td>\n",
              "    </tr>\n",
              "    <tr>\n",
              "      <th>5</th>\n",
              "      <td>WEST TOWN</td>\n",
              "      <td>97</td>\n",
              "    </tr>\n",
              "    <tr>\n",
              "      <th>6</th>\n",
              "      <td>NEAR WEST SIDE</td>\n",
              "      <td>91</td>\n",
              "    </tr>\n",
              "    <tr>\n",
              "      <th>7</th>\n",
              "      <td>LOGAN SQUARE</td>\n",
              "      <td>77</td>\n",
              "    </tr>\n",
              "    <tr>\n",
              "      <th>8</th>\n",
              "      <td>AUSTIN</td>\n",
              "      <td>74</td>\n",
              "    </tr>\n",
              "    <tr>\n",
              "      <th>9</th>\n",
              "      <td>WEST RIDGE</td>\n",
              "      <td>59</td>\n",
              "    </tr>\n",
              "    <tr>\n",
              "      <th>10</th>\n",
              "      <td>ROGERS PARK</td>\n",
              "      <td>57</td>\n",
              "    </tr>\n",
              "    <tr>\n",
              "      <th>11</th>\n",
              "      <td>BELMONT CRAGIN</td>\n",
              "      <td>52</td>\n",
              "    </tr>\n",
              "    <tr>\n",
              "      <th>12</th>\n",
              "      <td>SOUTH LAWNDALE</td>\n",
              "      <td>45</td>\n",
              "    </tr>\n",
              "    <tr>\n",
              "      <th>13</th>\n",
              "      <td>ROSELAND</td>\n",
              "      <td>44</td>\n",
              "    </tr>\n",
              "    <tr>\n",
              "      <th>14</th>\n",
              "      <td>LOWER WEST SIDE</td>\n",
              "      <td>44</td>\n",
              "    </tr>\n",
              "  </tbody>\n",
              "</table>\n",
              "</div>"
            ],
            "text/plain": [
              "            Regions  Counts\n",
              "0   LAKE VIEW        173   \n",
              "1   LOOP             159   \n",
              "2   NEAR NORTH SIDE  124   \n",
              "3   LINCOLN PARK     117   \n",
              "4   NEAR SOUTH SIDE  114   \n",
              "5   WEST TOWN        97    \n",
              "6   NEAR WEST SIDE   91    \n",
              "7   LOGAN SQUARE     77    \n",
              "8   AUSTIN           74    \n",
              "9   WEST RIDGE       59    \n",
              "10  ROGERS PARK      57    \n",
              "11  BELMONT CRAGIN   52    \n",
              "12  SOUTH LAWNDALE   45    \n",
              "13  ROSELAND         44    \n",
              "14  LOWER WEST SIDE  44    "
            ]
          },
          "metadata": {
            "tags": []
          },
          "execution_count": 351
        }
      ]
    },
    {
      "cell_type": "markdown",
      "metadata": {
        "colab_type": "text",
        "id": "DZzu7EOQr9ig"
      },
      "source": [
        "As we can see from the code above, there are around 20 thousand facilities that dont have as much inspections as the others. As a result, data set is more balanced now"
      ]
    },
    {
      "cell_type": "code",
      "metadata": {
        "id": "2KRC6HCxQA8R",
        "colab_type": "code",
        "outputId": "9590df30-64c4-47c4-ae55-6141da9db94c",
        "colab": {
          "base_uri": "https://localhost:8080/",
          "height": 504
        }
      },
      "source": [
        "df_oob_not2013.groupby(\"Regions\").count().rename(columns={'Results':'Counts'}).sort_values(by='Counts',ascending=False)['Counts'].reset_index().head(15)"
      ],
      "execution_count": 352,
      "outputs": [
        {
          "output_type": "execute_result",
          "data": {
            "text/html": [
              "<div>\n",
              "<style scoped>\n",
              "    .dataframe tbody tr th:only-of-type {\n",
              "        vertical-align: middle;\n",
              "    }\n",
              "\n",
              "    .dataframe tbody tr th {\n",
              "        vertical-align: top;\n",
              "    }\n",
              "\n",
              "    .dataframe thead th {\n",
              "        text-align: right;\n",
              "    }\n",
              "</style>\n",
              "<table border=\"1\" class=\"dataframe\">\n",
              "  <thead>\n",
              "    <tr style=\"text-align: right;\">\n",
              "      <th></th>\n",
              "      <th>Regions</th>\n",
              "      <th>Counts</th>\n",
              "    </tr>\n",
              "  </thead>\n",
              "  <tbody>\n",
              "    <tr>\n",
              "      <th>0</th>\n",
              "      <td>NEAR NORTH SIDE</td>\n",
              "      <td>721</td>\n",
              "    </tr>\n",
              "    <tr>\n",
              "      <th>1</th>\n",
              "      <td>LOOP</td>\n",
              "      <td>642</td>\n",
              "    </tr>\n",
              "    <tr>\n",
              "      <th>2</th>\n",
              "      <td>LAKE VIEW</td>\n",
              "      <td>615</td>\n",
              "    </tr>\n",
              "    <tr>\n",
              "      <th>3</th>\n",
              "      <td>NEAR WEST SIDE</td>\n",
              "      <td>560</td>\n",
              "    </tr>\n",
              "    <tr>\n",
              "      <th>4</th>\n",
              "      <td>WEST TOWN</td>\n",
              "      <td>445</td>\n",
              "    </tr>\n",
              "    <tr>\n",
              "      <th>5</th>\n",
              "      <td>AUSTIN</td>\n",
              "      <td>399</td>\n",
              "    </tr>\n",
              "    <tr>\n",
              "      <th>6</th>\n",
              "      <td>LINCOLN PARK</td>\n",
              "      <td>383</td>\n",
              "    </tr>\n",
              "    <tr>\n",
              "      <th>7</th>\n",
              "      <td>LOGAN SQUARE</td>\n",
              "      <td>353</td>\n",
              "    </tr>\n",
              "    <tr>\n",
              "      <th>8</th>\n",
              "      <td>WEST RIDGE</td>\n",
              "      <td>292</td>\n",
              "    </tr>\n",
              "    <tr>\n",
              "      <th>9</th>\n",
              "      <td>ALBANY PARK</td>\n",
              "      <td>281</td>\n",
              "    </tr>\n",
              "    <tr>\n",
              "      <th>10</th>\n",
              "      <td>BELMONT CRAGIN</td>\n",
              "      <td>279</td>\n",
              "    </tr>\n",
              "    <tr>\n",
              "      <th>11</th>\n",
              "      <td>SOUTH LAWNDALE</td>\n",
              "      <td>256</td>\n",
              "    </tr>\n",
              "    <tr>\n",
              "      <th>12</th>\n",
              "      <td>UPTOWN</td>\n",
              "      <td>223</td>\n",
              "    </tr>\n",
              "    <tr>\n",
              "      <th>13</th>\n",
              "      <td>EDGEWATER</td>\n",
              "      <td>219</td>\n",
              "    </tr>\n",
              "    <tr>\n",
              "      <th>14</th>\n",
              "      <td>LINCOLN SQUARE</td>\n",
              "      <td>211</td>\n",
              "    </tr>\n",
              "  </tbody>\n",
              "</table>\n",
              "</div>"
            ],
            "text/plain": [
              "            Regions  Counts\n",
              "0   NEAR NORTH SIDE  721   \n",
              "1   LOOP             642   \n",
              "2   LAKE VIEW        615   \n",
              "3   NEAR WEST SIDE   560   \n",
              "4   WEST TOWN        445   \n",
              "5   AUSTIN           399   \n",
              "6   LINCOLN PARK     383   \n",
              "7   LOGAN SQUARE     353   \n",
              "8   WEST RIDGE       292   \n",
              "9   ALBANY PARK      281   \n",
              "10  BELMONT CRAGIN   279   \n",
              "11  SOUTH LAWNDALE   256   \n",
              "12  UPTOWN           223   \n",
              "13  EDGEWATER        219   \n",
              "14  LINCOLN SQUARE   211   "
            ]
          },
          "metadata": {
            "tags": []
          },
          "execution_count": 352
        }
      ]
    },
    {
      "cell_type": "code",
      "metadata": {
        "id": "uDpoB_YMQA8U",
        "colab_type": "code",
        "outputId": "348898ae-d89f-4685-a5db-4b240ede1a72",
        "colab": {
          "base_uri": "https://localhost:8080/",
          "height": 352
        }
      },
      "source": [
        "df_month_year = df_oob.groupby([\"year\",\"month\"]).count()['Results'].reset_index().rename(columns={'Results':'Count'})\n",
        "df_month_year.sort_values(by='Count', ascending = False).head(10)"
      ],
      "execution_count": 353,
      "outputs": [
        {
          "output_type": "execute_result",
          "data": {
            "text/html": [
              "<div>\n",
              "<style scoped>\n",
              "    .dataframe tbody tr th:only-of-type {\n",
              "        vertical-align: middle;\n",
              "    }\n",
              "\n",
              "    .dataframe tbody tr th {\n",
              "        vertical-align: top;\n",
              "    }\n",
              "\n",
              "    .dataframe thead th {\n",
              "        text-align: right;\n",
              "    }\n",
              "</style>\n",
              "<table border=\"1\" class=\"dataframe\">\n",
              "  <thead>\n",
              "    <tr style=\"text-align: right;\">\n",
              "      <th></th>\n",
              "      <th>year</th>\n",
              "      <th>month</th>\n",
              "      <th>Count</th>\n",
              "    </tr>\n",
              "  </thead>\n",
              "  <tbody>\n",
              "    <tr>\n",
              "      <th>40</th>\n",
              "      <td>2013</td>\n",
              "      <td>09</td>\n",
              "      <td>369</td>\n",
              "    </tr>\n",
              "    <tr>\n",
              "      <th>41</th>\n",
              "      <td>2013</td>\n",
              "      <td>10</td>\n",
              "      <td>354</td>\n",
              "    </tr>\n",
              "    <tr>\n",
              "      <th>42</th>\n",
              "      <td>2013</td>\n",
              "      <td>11</td>\n",
              "      <td>301</td>\n",
              "    </tr>\n",
              "    <tr>\n",
              "      <th>39</th>\n",
              "      <td>2013</td>\n",
              "      <td>08</td>\n",
              "      <td>235</td>\n",
              "    </tr>\n",
              "    <tr>\n",
              "      <th>64</th>\n",
              "      <td>2015</td>\n",
              "      <td>09</td>\n",
              "      <td>232</td>\n",
              "    </tr>\n",
              "    <tr>\n",
              "      <th>67</th>\n",
              "      <td>2015</td>\n",
              "      <td>12</td>\n",
              "      <td>229</td>\n",
              "    </tr>\n",
              "    <tr>\n",
              "      <th>52</th>\n",
              "      <td>2014</td>\n",
              "      <td>09</td>\n",
              "      <td>222</td>\n",
              "    </tr>\n",
              "    <tr>\n",
              "      <th>55</th>\n",
              "      <td>2014</td>\n",
              "      <td>12</td>\n",
              "      <td>213</td>\n",
              "    </tr>\n",
              "    <tr>\n",
              "      <th>76</th>\n",
              "      <td>2016</td>\n",
              "      <td>09</td>\n",
              "      <td>212</td>\n",
              "    </tr>\n",
              "    <tr>\n",
              "      <th>66</th>\n",
              "      <td>2015</td>\n",
              "      <td>11</td>\n",
              "      <td>201</td>\n",
              "    </tr>\n",
              "  </tbody>\n",
              "</table>\n",
              "</div>"
            ],
            "text/plain": [
              "    year month  Count\n",
              "40  2013  09    369  \n",
              "41  2013  10    354  \n",
              "42  2013  11    301  \n",
              "39  2013  08    235  \n",
              "64  2015  09    232  \n",
              "67  2015  12    229  \n",
              "52  2014  09    222  \n",
              "55  2014  12    213  \n",
              "76  2016  09    212  \n",
              "66  2015  11    201  "
            ]
          },
          "metadata": {
            "tags": []
          },
          "execution_count": 353
        }
      ]
    },
    {
      "cell_type": "code",
      "metadata": {
        "id": "mE1-H3eJQA8W",
        "colab_type": "code",
        "outputId": "f37ad463-2b7c-45e5-f437-f025998468a8",
        "colab": {
          "base_uri": "https://localhost:8080/",
          "height": 412
        }
      },
      "source": [
        "df_month = df_oob.groupby([\"month\"]).count()['Results'].reset_index().rename(columns={'Results':'Count'})\n",
        "df_month.head(12)"
      ],
      "execution_count": 354,
      "outputs": [
        {
          "output_type": "execute_result",
          "data": {
            "text/html": [
              "<div>\n",
              "<style scoped>\n",
              "    .dataframe tbody tr th:only-of-type {\n",
              "        vertical-align: middle;\n",
              "    }\n",
              "\n",
              "    .dataframe tbody tr th {\n",
              "        vertical-align: top;\n",
              "    }\n",
              "\n",
              "    .dataframe thead th {\n",
              "        text-align: right;\n",
              "    }\n",
              "</style>\n",
              "<table border=\"1\" class=\"dataframe\">\n",
              "  <thead>\n",
              "    <tr style=\"text-align: right;\">\n",
              "      <th></th>\n",
              "      <th>month</th>\n",
              "      <th>Count</th>\n",
              "    </tr>\n",
              "  </thead>\n",
              "  <tbody>\n",
              "    <tr>\n",
              "      <th>0</th>\n",
              "      <td>01</td>\n",
              "      <td>894</td>\n",
              "    </tr>\n",
              "    <tr>\n",
              "      <th>1</th>\n",
              "      <td>02</td>\n",
              "      <td>801</td>\n",
              "    </tr>\n",
              "    <tr>\n",
              "      <th>2</th>\n",
              "      <td>03</td>\n",
              "      <td>857</td>\n",
              "    </tr>\n",
              "    <tr>\n",
              "      <th>3</th>\n",
              "      <td>04</td>\n",
              "      <td>921</td>\n",
              "    </tr>\n",
              "    <tr>\n",
              "      <th>4</th>\n",
              "      <td>05</td>\n",
              "      <td>1189</td>\n",
              "    </tr>\n",
              "    <tr>\n",
              "      <th>5</th>\n",
              "      <td>06</td>\n",
              "      <td>1051</td>\n",
              "    </tr>\n",
              "    <tr>\n",
              "      <th>6</th>\n",
              "      <td>07</td>\n",
              "      <td>1007</td>\n",
              "    </tr>\n",
              "    <tr>\n",
              "      <th>7</th>\n",
              "      <td>08</td>\n",
              "      <td>1273</td>\n",
              "    </tr>\n",
              "    <tr>\n",
              "      <th>8</th>\n",
              "      <td>09</td>\n",
              "      <td>1625</td>\n",
              "    </tr>\n",
              "    <tr>\n",
              "      <th>9</th>\n",
              "      <td>10</td>\n",
              "      <td>1485</td>\n",
              "    </tr>\n",
              "    <tr>\n",
              "      <th>10</th>\n",
              "      <td>11</td>\n",
              "      <td>1343</td>\n",
              "    </tr>\n",
              "    <tr>\n",
              "      <th>11</th>\n",
              "      <td>12</td>\n",
              "      <td>1261</td>\n",
              "    </tr>\n",
              "  </tbody>\n",
              "</table>\n",
              "</div>"
            ],
            "text/plain": [
              "   month  Count\n",
              "0   01    894  \n",
              "1   02    801  \n",
              "2   03    857  \n",
              "3   04    921  \n",
              "4   05    1189 \n",
              "5   06    1051 \n",
              "6   07    1007 \n",
              "7   08    1273 \n",
              "8   09    1625 \n",
              "9   10    1485 \n",
              "10  11    1343 \n",
              "11  12    1261 "
            ]
          },
          "metadata": {
            "tags": []
          },
          "execution_count": 354
        }
      ]
    },
    {
      "cell_type": "code",
      "metadata": {
        "id": "hqRRCjFyQA8Y",
        "colab_type": "code",
        "outputId": "cd32848b-442a-43f4-d9b9-fc7050b36c26",
        "colab": {
          "base_uri": "https://localhost:8080/",
          "height": 331
        }
      },
      "source": [
        "fig, axs = plt.subplots(1, 1, constrained_layout=True)\n",
        "axs.set_title('The number of facilities that went out of business vs. month')\n",
        "axs.set_xlabel('count')\n",
        "axs.set_ylabel('month')\n",
        "axs.barh(df_month['month'],df_month['Count'])"
      ],
      "execution_count": 355,
      "outputs": [
        {
          "output_type": "execute_result",
          "data": {
            "text/plain": [
              "<BarContainer object of 12 artists>"
            ]
          },
          "metadata": {
            "tags": []
          },
          "execution_count": 355
        },
        {
          "output_type": "display_data",
          "data": {
            "image/png": "[encoded data removed]",
            "text/plain": [
              "<Figure size 432x288 with 1 Axes>"
            ]
          },
          "metadata": {
            "tags": []
          }
        }
      ]
    },
    {
      "cell_type": "markdown",
      "metadata": {
        "id": "MsgTAqs-EMuT",
        "colab_type": "text"
      },
      "source": [
        "### **Number of inspections vs. average risk score**"
      ]
    },
    {
      "cell_type": "markdown",
      "metadata": {
        "colab_type": "text",
        "id": "gedBg9DbwYnV"
      },
      "source": [
        "We plotted the number of inspections vs. the average risk score of each facility to identify any possible correlation between the two. We observed the there is a negative correlation between the number of inspections and the average risk of the facility:"
      ]
    },
    {
      "cell_type": "code",
      "metadata": {
        "colab_type": "code",
        "id": "SliEvDVHr9iz",
        "outputId": "df17c633-fb40-4935-a503-9d7af774fce3",
        "colab": {
          "base_uri": "https://localhost:8080/",
          "height": 297
        }
      },
      "source": [
        "# Scatter plot on the number of inspections vs. the average risk score\n",
        "df_unique = pd.DataFrame(df.groupby(['Latitude','Longitude','DBA Name']).count()['Risk']).rename(columns={'Risk':'Counts'})\n",
        "merged = pd.merge(left=df_avg_risk_score.reset_index(),right=df_unique.reset_index(),left_on=['Latitude','Longitude','DBA Name'],right_on=['Latitude','Longitude','DBA Name'])\n",
        "merged.plot.scatter(x='Risk', y='Counts')"
      ],
      "execution_count": 356,
      "outputs": [
        {
          "output_type": "execute_result",
          "data": {
            "text/plain": [
              "<matplotlib.axes._subplots.AxesSubplot at 0x7f500153fa58>"
            ]
          },
          "metadata": {
            "tags": []
          },
          "execution_count": 356
        },
        {
          "output_type": "display_data",
          "data": {
            "image/png": "[encoded data removed]",
            "text/plain": [
              "<Figure size 432x288 with 1 Axes>"
            ]
          },
          "metadata": {
            "tags": []
          }
        }
      ]
    },
    {
      "cell_type": "markdown",
      "metadata": {
        "colab_type": "text",
        "id": "WYaFos2Ir9i4"
      },
      "source": [
        "We observed that the number of risk 3 facilities are lower than the others. Hence, we decided to plot average risk scores vs number of facilities."
      ]
    },
    {
      "cell_type": "markdown",
      "metadata": {
        "colab_type": "text",
        "id": "jRnO5vZlnNtd"
      },
      "source": [
        "### **Correlation between Number of Inspections and Average Level of Risk**"
      ]
    },
    {
      "cell_type": "markdown",
      "metadata": {
        "colab_type": "text",
        "id": "VT4v4wC_yRha"
      },
      "source": [
        "We observed a moderate positive correlation between the number of inspections and average level of risk of the facility (since Risk 1 means high risk and Risk 3 means low risk):"
      ]
    },
    {
      "cell_type": "code",
      "metadata": {
        "colab_type": "code",
        "id": "DTX2ONt9w7V8",
        "outputId": "228176b7-00ec-40ae-e83f-30397f51eb04",
        "colab": {
          "base_uri": "https://localhost:8080/",
          "height": 109
        }
      },
      "source": [
        "merged[['Risk', 'Counts']].corr(method='pearson')"
      ],
      "execution_count": 357,
      "outputs": [
        {
          "output_type": "execute_result",
          "data": {
            "text/html": [
              "<div>\n",
              "<style scoped>\n",
              "    .dataframe tbody tr th:only-of-type {\n",
              "        vertical-align: middle;\n",
              "    }\n",
              "\n",
              "    .dataframe tbody tr th {\n",
              "        vertical-align: top;\n",
              "    }\n",
              "\n",
              "    .dataframe thead th {\n",
              "        text-align: right;\n",
              "    }\n",
              "</style>\n",
              "<table border=\"1\" class=\"dataframe\">\n",
              "  <thead>\n",
              "    <tr style=\"text-align: right;\">\n",
              "      <th></th>\n",
              "      <th>Risk</th>\n",
              "      <th>Counts</th>\n",
              "    </tr>\n",
              "  </thead>\n",
              "  <tbody>\n",
              "    <tr>\n",
              "      <th>Risk</th>\n",
              "      <td>1.000000</td>\n",
              "      <td>-0.365569</td>\n",
              "    </tr>\n",
              "    <tr>\n",
              "      <th>Counts</th>\n",
              "      <td>-0.365569</td>\n",
              "      <td>1.000000</td>\n",
              "    </tr>\n",
              "  </tbody>\n",
              "</table>\n",
              "</div>"
            ],
            "text/plain": [
              "            Risk    Counts\n",
              "Risk    1.000000 -0.365569\n",
              "Counts -0.365569  1.000000"
            ]
          },
          "metadata": {
            "tags": []
          },
          "execution_count": 357
        }
      ]
    },
    {
      "cell_type": "code",
      "metadata": {
        "id": "x27lZ6gtA-2A",
        "colab_type": "code",
        "colab": {
          "base_uri": "https://localhost:8080/",
          "height": 109
        },
        "outputId": "f76cbee3-48e3-4990-d32b-9bcddb7cecb0"
      },
      "source": [
        "merged[['Risk', 'Counts']].corr(method='spearman')"
      ],
      "execution_count": 358,
      "outputs": [
        {
          "output_type": "execute_result",
          "data": {
            "text/html": [
              "<div>\n",
              "<style scoped>\n",
              "    .dataframe tbody tr th:only-of-type {\n",
              "        vertical-align: middle;\n",
              "    }\n",
              "\n",
              "    .dataframe tbody tr th {\n",
              "        vertical-align: top;\n",
              "    }\n",
              "\n",
              "    .dataframe thead th {\n",
              "        text-align: right;\n",
              "    }\n",
              "</style>\n",
              "<table border=\"1\" class=\"dataframe\">\n",
              "  <thead>\n",
              "    <tr style=\"text-align: right;\">\n",
              "      <th></th>\n",
              "      <th>Risk</th>\n",
              "      <th>Counts</th>\n",
              "    </tr>\n",
              "  </thead>\n",
              "  <tbody>\n",
              "    <tr>\n",
              "      <th>Risk</th>\n",
              "      <td>1.000000</td>\n",
              "      <td>-0.433247</td>\n",
              "    </tr>\n",
              "    <tr>\n",
              "      <th>Counts</th>\n",
              "      <td>-0.433247</td>\n",
              "      <td>1.000000</td>\n",
              "    </tr>\n",
              "  </tbody>\n",
              "</table>\n",
              "</div>"
            ],
            "text/plain": [
              "            Risk    Counts\n",
              "Risk    1.000000 -0.433247\n",
              "Counts -0.433247  1.000000"
            ]
          },
          "metadata": {
            "tags": []
          },
          "execution_count": 358
        }
      ]
    },
    {
      "cell_type": "markdown",
      "metadata": {
        "colab_type": "text",
        "id": "TcYiy6JonijB"
      },
      "source": [
        "### **Distribution of Risk Scores of Facilities**"
      ]
    },
    {
      "cell_type": "code",
      "metadata": {
        "colab_type": "code",
        "id": "1aMedXkjr9i4",
        "outputId": "83e22d93-a427-4f85-e043-928e1e07c577",
        "colab": {
          "base_uri": "https://localhost:8080/",
          "height": 170
        }
      },
      "source": [
        "# Grouped by risk scores and number of facilities\n",
        "df_avg_risk_score1 = pd.DataFrame(df_avg_risk_score).apply(lambda x: round(x)).reset_index()\n",
        "df_avg_risk_score1 = pd.DataFrame(df_avg_risk_score1.groupby('Risk').count()['Latitude']).rename(columns={'Latitude':'Counts'})\n",
        "df_avg_risk_score1"
      ],
      "execution_count": 359,
      "outputs": [
        {
          "output_type": "execute_result",
          "data": {
            "text/html": [
              "<div>\n",
              "<style scoped>\n",
              "    .dataframe tbody tr th:only-of-type {\n",
              "        vertical-align: middle;\n",
              "    }\n",
              "\n",
              "    .dataframe tbody tr th {\n",
              "        vertical-align: top;\n",
              "    }\n",
              "\n",
              "    .dataframe thead th {\n",
              "        text-align: right;\n",
              "    }\n",
              "</style>\n",
              "<table border=\"1\" class=\"dataframe\">\n",
              "  <thead>\n",
              "    <tr style=\"text-align: right;\">\n",
              "      <th></th>\n",
              "      <th>Counts</th>\n",
              "    </tr>\n",
              "    <tr>\n",
              "      <th>Risk</th>\n",
              "      <th></th>\n",
              "    </tr>\n",
              "  </thead>\n",
              "  <tbody>\n",
              "    <tr>\n",
              "      <th>1.0</th>\n",
              "      <td>15581</td>\n",
              "    </tr>\n",
              "    <tr>\n",
              "      <th>2.0</th>\n",
              "      <td>6720</td>\n",
              "    </tr>\n",
              "    <tr>\n",
              "      <th>3.0</th>\n",
              "      <td>4688</td>\n",
              "    </tr>\n",
              "  </tbody>\n",
              "</table>\n",
              "</div>"
            ],
            "text/plain": [
              "      Counts\n",
              "Risk        \n",
              "1.0   15581 \n",
              "2.0   6720  \n",
              "3.0   4688  "
            ]
          },
          "metadata": {
            "tags": []
          },
          "execution_count": 359
        }
      ]
    },
    {
      "cell_type": "markdown",
      "metadata": {
        "colab_type": "text",
        "id": "QHzvzFwLn1ot"
      },
      "source": [
        "We visualized the distribution of average level of risk scores of each facility using the bar plot below:"
      ]
    },
    {
      "cell_type": "code",
      "metadata": {
        "colab_type": "code",
        "id": "H-8wb6jkr9i6",
        "outputId": "c7022e9a-a8b2-4e3e-8d7b-0cb8cbdd47fe",
        "colab": {
          "base_uri": "https://localhost:8080/",
          "height": 312
        }
      },
      "source": [
        "plt.bar(df_avg_risk_score1.index,df_avg_risk_score1['Counts'], color='darkcyan')\n",
        "plt.title('Distribution of average level of risk')\n",
        "plt.xlabel('Average risk score')\n",
        "plt.ylabel('Number of facilities')"
      ],
      "execution_count": 360,
      "outputs": [
        {
          "output_type": "execute_result",
          "data": {
            "text/plain": [
              "Text(0, 0.5, 'Number of facilities')"
            ]
          },
          "metadata": {
            "tags": []
          },
          "execution_count": 360
        },
        {
          "output_type": "display_data",
          "data": {
            "image/png": "[encoded data removed]",
            "text/plain": [
              "<Figure size 432x288 with 1 Axes>"
            ]
          },
          "metadata": {
            "tags": []
          }
        }
      ]
    },
    {
      "cell_type": "markdown",
      "metadata": {
        "colab_type": "text",
        "id": "_n637CHg_9jG"
      },
      "source": [
        "### **Type of Facility vs. Percentage of Going Out of Business**"
      ]
    },
    {
      "cell_type": "code",
      "metadata": {
        "colab_type": "code",
        "id": "hU9hCSduAtKO",
        "outputId": "6fa580b2-db97-4701-b8d4-3b74c3c7801e",
        "colab": {
          "base_uri": "https://localhost:8080/",
          "height": 200
        }
      },
      "source": [
        "# Data grouped by the facility type\n",
        "fac_dist.head()"
      ],
      "execution_count": 361,
      "outputs": [
        {
          "output_type": "execute_result",
          "data": {
            "text/html": [
              "<div>\n",
              "<style scoped>\n",
              "    .dataframe tbody tr th:only-of-type {\n",
              "        vertical-align: middle;\n",
              "    }\n",
              "\n",
              "    .dataframe tbody tr th {\n",
              "        vertical-align: top;\n",
              "    }\n",
              "\n",
              "    .dataframe thead th {\n",
              "        text-align: right;\n",
              "    }\n",
              "</style>\n",
              "<table border=\"1\" class=\"dataframe\">\n",
              "  <thead>\n",
              "    <tr style=\"text-align: right;\">\n",
              "      <th></th>\n",
              "      <th>Facility Type</th>\n",
              "      <th>Counts</th>\n",
              "    </tr>\n",
              "  </thead>\n",
              "  <tbody>\n",
              "    <tr>\n",
              "      <th>0</th>\n",
              "      <td>RESTAURANT</td>\n",
              "      <td>131852</td>\n",
              "    </tr>\n",
              "    <tr>\n",
              "      <th>1</th>\n",
              "      <td>RETAIL STORE</td>\n",
              "      <td>25635</td>\n",
              "    </tr>\n",
              "    <tr>\n",
              "      <th>2</th>\n",
              "      <td>SCHOOL</td>\n",
              "      <td>12054</td>\n",
              "    </tr>\n",
              "    <tr>\n",
              "      <th>3</th>\n",
              "      <td>DAYCARE</td>\n",
              "      <td>9537</td>\n",
              "    </tr>\n",
              "    <tr>\n",
              "      <th>4</th>\n",
              "      <td>BAKERY</td>\n",
              "      <td>2923</td>\n",
              "    </tr>\n",
              "  </tbody>\n",
              "</table>\n",
              "</div>"
            ],
            "text/plain": [
              "  Facility Type  Counts\n",
              "0  RESTAURANT    131852\n",
              "1  RETAIL STORE  25635 \n",
              "2  SCHOOL        12054 \n",
              "3  DAYCARE       9537  \n",
              "4  BAKERY        2923  "
            ]
          },
          "metadata": {
            "tags": []
          },
          "execution_count": 361
        }
      ]
    },
    {
      "cell_type": "code",
      "metadata": {
        "colab_type": "code",
        "id": "-sqDIFO0A4IU",
        "colab": {}
      },
      "source": [
        "# Group out of business facilities on facility type\n",
        "df_oob_fac = pd.DataFrame(df_oob.groupby('Facility Type').count().rename(columns={'Risk':'Counts'})['Counts'])\n",
        "merged_fac_oob = pd.merge(left=df_oob_fac.reset_index(), right=fac_dist.reset_index(),left_on=['Facility Type'],right_on=['Facility Type'])"
      ],
      "execution_count": 0,
      "outputs": []
    },
    {
      "cell_type": "code",
      "metadata": {
        "colab_type": "code",
        "id": "A87w-TYQAvyu",
        "outputId": "1b89c79b-7241-454d-c30f-602888e7e3f3",
        "colab": {
          "base_uri": "https://localhost:8080/",
          "height": 200
        }
      },
      "source": [
        "merged_fac_oob.head()"
      ],
      "execution_count": 363,
      "outputs": [
        {
          "output_type": "execute_result",
          "data": {
            "text/html": [
              "<div>\n",
              "<style scoped>\n",
              "    .dataframe tbody tr th:only-of-type {\n",
              "        vertical-align: middle;\n",
              "    }\n",
              "\n",
              "    .dataframe tbody tr th {\n",
              "        vertical-align: top;\n",
              "    }\n",
              "\n",
              "    .dataframe thead th {\n",
              "        text-align: right;\n",
              "    }\n",
              "</style>\n",
              "<table border=\"1\" class=\"dataframe\">\n",
              "  <thead>\n",
              "    <tr style=\"text-align: right;\">\n",
              "      <th></th>\n",
              "      <th>Facility Type</th>\n",
              "      <th>Counts_x</th>\n",
              "      <th>index</th>\n",
              "      <th>Counts_y</th>\n",
              "    </tr>\n",
              "  </thead>\n",
              "  <tbody>\n",
              "    <tr>\n",
              "      <th>0</th>\n",
              "      <td>ASSISTED LIVING/NURSING HOME</td>\n",
              "      <td>4</td>\n",
              "      <td>21</td>\n",
              "      <td>95</td>\n",
              "    </tr>\n",
              "    <tr>\n",
              "      <th>1</th>\n",
              "      <td>BAKERY</td>\n",
              "      <td>249</td>\n",
              "      <td>4</td>\n",
              "      <td>2923</td>\n",
              "    </tr>\n",
              "    <tr>\n",
              "      <th>2</th>\n",
              "      <td>BANQUET</td>\n",
              "      <td>19</td>\n",
              "      <td>13</td>\n",
              "      <td>338</td>\n",
              "    </tr>\n",
              "    <tr>\n",
              "      <th>3</th>\n",
              "      <td>BAR</td>\n",
              "      <td>6</td>\n",
              "      <td>24</td>\n",
              "      <td>81</td>\n",
              "    </tr>\n",
              "    <tr>\n",
              "      <th>4</th>\n",
              "      <td>BUTCHER</td>\n",
              "      <td>5</td>\n",
              "      <td>34</td>\n",
              "      <td>34</td>\n",
              "    </tr>\n",
              "  </tbody>\n",
              "</table>\n",
              "</div>"
            ],
            "text/plain": [
              "                  Facility Type  Counts_x  index  Counts_y\n",
              "0  ASSISTED LIVING/NURSING HOME  4         21     95      \n",
              "1  BAKERY                        249       4      2923    \n",
              "2  BANQUET                       19        13     338     \n",
              "3  BAR                           6         24     81      \n",
              "4  BUTCHER                       5         34     34      "
            ]
          },
          "metadata": {
            "tags": []
          },
          "execution_count": 363
        }
      ]
    },
    {
      "cell_type": "code",
      "metadata": {
        "colab_type": "code",
        "id": "le_INawoDHVL",
        "colab": {}
      },
      "source": [
        "merged_fac_oob['Oob Ratio'] = merged_fac_oob['Counts_x'].divide(merged_fac_oob['Counts_y'], fill_value=1)"
      ],
      "execution_count": 0,
      "outputs": []
    },
    {
      "cell_type": "code",
      "metadata": {
        "colab_type": "code",
        "id": "qlwbJvSnDrT1",
        "outputId": "0c8e856a-8cf3-4707-b599-b1e97eb673ca",
        "colab": {
          "base_uri": "https://localhost:8080/",
          "height": 200
        }
      },
      "source": [
        "merged_fac_oob.sort_values(by='Oob Ratio', ascending=False).drop(columns='index').head()"
      ],
      "execution_count": 365,
      "outputs": [
        {
          "output_type": "execute_result",
          "data": {
            "text/html": [
              "<div>\n",
              "<style scoped>\n",
              "    .dataframe tbody tr th:only-of-type {\n",
              "        vertical-align: middle;\n",
              "    }\n",
              "\n",
              "    .dataframe tbody tr th {\n",
              "        vertical-align: top;\n",
              "    }\n",
              "\n",
              "    .dataframe thead th {\n",
              "        text-align: right;\n",
              "    }\n",
              "</style>\n",
              "<table border=\"1\" class=\"dataframe\">\n",
              "  <thead>\n",
              "    <tr style=\"text-align: right;\">\n",
              "      <th></th>\n",
              "      <th>Facility Type</th>\n",
              "      <th>Counts_x</th>\n",
              "      <th>Counts_y</th>\n",
              "      <th>Oob Ratio</th>\n",
              "    </tr>\n",
              "  </thead>\n",
              "  <tbody>\n",
              "    <tr>\n",
              "      <th>30</th>\n",
              "      <td>PANTRY</td>\n",
              "      <td>5</td>\n",
              "      <td>9</td>\n",
              "      <td>0.555556</td>\n",
              "    </tr>\n",
              "    <tr>\n",
              "      <th>14</th>\n",
              "      <td>DISTRIBUTION</td>\n",
              "      <td>3</td>\n",
              "      <td>10</td>\n",
              "      <td>0.300000</td>\n",
              "    </tr>\n",
              "    <tr>\n",
              "      <th>41</th>\n",
              "      <td>WAREHOUSE</td>\n",
              "      <td>2</td>\n",
              "      <td>13</td>\n",
              "      <td>0.153846</td>\n",
              "    </tr>\n",
              "    <tr>\n",
              "      <th>4</th>\n",
              "      <td>BUTCHER</td>\n",
              "      <td>5</td>\n",
              "      <td>34</td>\n",
              "      <td>0.147059</td>\n",
              "    </tr>\n",
              "    <tr>\n",
              "      <th>18</th>\n",
              "      <td>HERBAL</td>\n",
              "      <td>6</td>\n",
              "      <td>47</td>\n",
              "      <td>0.127660</td>\n",
              "    </tr>\n",
              "  </tbody>\n",
              "</table>\n",
              "</div>"
            ],
            "text/plain": [
              "   Facility Type  Counts_x  Counts_y  Oob Ratio\n",
              "30  PANTRY        5         9         0.555556 \n",
              "14  DISTRIBUTION  3         10        0.300000 \n",
              "41  WAREHOUSE     2         13        0.153846 \n",
              "4   BUTCHER       5         34        0.147059 \n",
              "18  HERBAL        6         47        0.127660 "
            ]
          },
          "metadata": {
            "tags": []
          },
          "execution_count": 365
        }
      ]
    },
    {
      "cell_type": "code",
      "metadata": {
        "colab_type": "code",
        "id": "VRWfp0XxFLV1",
        "outputId": "e74b87dd-6684-4693-9f59-7769f400f00c",
        "colab": {
          "base_uri": "https://localhost:8080/",
          "height": 109
        }
      },
      "source": [
        "merged_fac_oob[['Oob Ratio', 'Counts_y']].corr(method='pearson')"
      ],
      "execution_count": 366,
      "outputs": [
        {
          "output_type": "execute_result",
          "data": {
            "text/html": [
              "<div>\n",
              "<style scoped>\n",
              "    .dataframe tbody tr th:only-of-type {\n",
              "        vertical-align: middle;\n",
              "    }\n",
              "\n",
              "    .dataframe tbody tr th {\n",
              "        vertical-align: top;\n",
              "    }\n",
              "\n",
              "    .dataframe thead th {\n",
              "        text-align: right;\n",
              "    }\n",
              "</style>\n",
              "<table border=\"1\" class=\"dataframe\">\n",
              "  <thead>\n",
              "    <tr style=\"text-align: right;\">\n",
              "      <th></th>\n",
              "      <th>Oob Ratio</th>\n",
              "      <th>Counts_y</th>\n",
              "    </tr>\n",
              "  </thead>\n",
              "  <tbody>\n",
              "    <tr>\n",
              "      <th>Oob Ratio</th>\n",
              "      <td>1.000000</td>\n",
              "      <td>-0.042375</td>\n",
              "    </tr>\n",
              "    <tr>\n",
              "      <th>Counts_y</th>\n",
              "      <td>-0.042375</td>\n",
              "      <td>1.000000</td>\n",
              "    </tr>\n",
              "  </tbody>\n",
              "</table>\n",
              "</div>"
            ],
            "text/plain": [
              "           Oob Ratio  Counts_y\n",
              "Oob Ratio  1.000000  -0.042375\n",
              "Counts_y  -0.042375   1.000000"
            ]
          },
          "metadata": {
            "tags": []
          },
          "execution_count": 366
        }
      ]
    },
    {
      "cell_type": "markdown",
      "metadata": {
        "colab_type": "text",
        "id": "DTiyvgeeHIX5"
      },
      "source": [
        "We wanted to identify a possible correlation between the type of facility and the percentage of going out of business. However, when we calculated the pearson's correlation factor, we observed no correlation."
      ]
    },
    {
      "cell_type": "markdown",
      "metadata": {
        "colab_type": "text",
        "id": "PZh_kj61J8BC"
      },
      "source": [
        "### **Percentage of Going Out of Business vs. Average Risk Score**"
      ]
    },
    {
      "cell_type": "code",
      "metadata": {
        "colab_type": "code",
        "id": "3QgEx1ESKmkZ",
        "colab": {}
      },
      "source": [
        "# Merge the out of business facility types with their average risk scores\n",
        "fac_oob_risk = pd.merge(left=merged_fac_oob.reset_index(), right=grouped_fac_risk_mean.reset_index(),left_on=['Facility Type'],right_on=['Facility Type'])"
      ],
      "execution_count": 0,
      "outputs": []
    },
    {
      "cell_type": "code",
      "metadata": {
        "colab_type": "code",
        "id": "wfajDTtELI6m",
        "outputId": "2521fe28-6b13-41fa-8451-5305e69c3791",
        "colab": {
          "base_uri": "https://localhost:8080/",
          "height": 200
        }
      },
      "source": [
        "fac_oob_risk.drop(columns=['index_x', 'index_y']).rename(columns={'Counts_x':'Oob Count', 'Counts_y':'Total Count'}).head()"
      ],
      "execution_count": 368,
      "outputs": [
        {
          "output_type": "execute_result",
          "data": {
            "text/html": [
              "<div>\n",
              "<style scoped>\n",
              "    .dataframe tbody tr th:only-of-type {\n",
              "        vertical-align: middle;\n",
              "    }\n",
              "\n",
              "    .dataframe tbody tr th {\n",
              "        vertical-align: top;\n",
              "    }\n",
              "\n",
              "    .dataframe thead th {\n",
              "        text-align: right;\n",
              "    }\n",
              "</style>\n",
              "<table border=\"1\" class=\"dataframe\">\n",
              "  <thead>\n",
              "    <tr style=\"text-align: right;\">\n",
              "      <th></th>\n",
              "      <th>level_0</th>\n",
              "      <th>Facility Type</th>\n",
              "      <th>Oob Count</th>\n",
              "      <th>Total Count</th>\n",
              "      <th>Oob Ratio</th>\n",
              "      <th>Risk</th>\n",
              "    </tr>\n",
              "  </thead>\n",
              "  <tbody>\n",
              "    <tr>\n",
              "      <th>0</th>\n",
              "      <td>0</td>\n",
              "      <td>ASSISTED LIVING/NURSING HOME</td>\n",
              "      <td>4</td>\n",
              "      <td>95</td>\n",
              "      <td>0.042105</td>\n",
              "      <td>1.000000</td>\n",
              "    </tr>\n",
              "    <tr>\n",
              "      <th>1</th>\n",
              "      <td>1</td>\n",
              "      <td>BAKERY</td>\n",
              "      <td>249</td>\n",
              "      <td>2923</td>\n",
              "      <td>0.085186</td>\n",
              "      <td>1.629490</td>\n",
              "    </tr>\n",
              "    <tr>\n",
              "      <th>2</th>\n",
              "      <td>2</td>\n",
              "      <td>BANQUET</td>\n",
              "      <td>19</td>\n",
              "      <td>338</td>\n",
              "      <td>0.056213</td>\n",
              "      <td>1.118343</td>\n",
              "    </tr>\n",
              "    <tr>\n",
              "      <th>3</th>\n",
              "      <td>3</td>\n",
              "      <td>BAR</td>\n",
              "      <td>6</td>\n",
              "      <td>81</td>\n",
              "      <td>0.074074</td>\n",
              "      <td>2.135802</td>\n",
              "    </tr>\n",
              "    <tr>\n",
              "      <th>4</th>\n",
              "      <td>4</td>\n",
              "      <td>BUTCHER</td>\n",
              "      <td>5</td>\n",
              "      <td>34</td>\n",
              "      <td>0.147059</td>\n",
              "      <td>2.029412</td>\n",
              "    </tr>\n",
              "  </tbody>\n",
              "</table>\n",
              "</div>"
            ],
            "text/plain": [
              "   level_0                 Facility Type  ...  Oob Ratio      Risk\n",
              "0  0        ASSISTED LIVING/NURSING HOME  ...  0.042105   1.000000\n",
              "1  1        BAKERY                        ...  0.085186   1.629490\n",
              "2  2        BANQUET                       ...  0.056213   1.118343\n",
              "3  3        BAR                           ...  0.074074   2.135802\n",
              "4  4        BUTCHER                       ...  0.147059   2.029412\n",
              "\n",
              "[5 rows x 6 columns]"
            ]
          },
          "metadata": {
            "tags": []
          },
          "execution_count": 368
        }
      ]
    },
    {
      "cell_type": "code",
      "metadata": {
        "colab_type": "code",
        "id": "d1Bbc2-iLKKi",
        "outputId": "881d8037-b078-403f-edfe-dfbf15040a92",
        "colab": {
          "base_uri": "https://localhost:8080/",
          "height": 109
        }
      },
      "source": [
        "fac_oob_risk[['Oob Ratio', 'Risk']].corr(method='pearson')"
      ],
      "execution_count": 369,
      "outputs": [
        {
          "output_type": "execute_result",
          "data": {
            "text/html": [
              "<div>\n",
              "<style scoped>\n",
              "    .dataframe tbody tr th:only-of-type {\n",
              "        vertical-align: middle;\n",
              "    }\n",
              "\n",
              "    .dataframe tbody tr th {\n",
              "        vertical-align: top;\n",
              "    }\n",
              "\n",
              "    .dataframe thead th {\n",
              "        text-align: right;\n",
              "    }\n",
              "</style>\n",
              "<table border=\"1\" class=\"dataframe\">\n",
              "  <thead>\n",
              "    <tr style=\"text-align: right;\">\n",
              "      <th></th>\n",
              "      <th>Oob Ratio</th>\n",
              "      <th>Risk</th>\n",
              "    </tr>\n",
              "  </thead>\n",
              "  <tbody>\n",
              "    <tr>\n",
              "      <th>Oob Ratio</th>\n",
              "      <td>1.000000</td>\n",
              "      <td>0.202511</td>\n",
              "    </tr>\n",
              "    <tr>\n",
              "      <th>Risk</th>\n",
              "      <td>0.202511</td>\n",
              "      <td>1.000000</td>\n",
              "    </tr>\n",
              "  </tbody>\n",
              "</table>\n",
              "</div>"
            ],
            "text/plain": [
              "           Oob Ratio      Risk\n",
              "Oob Ratio  1.000000   0.202511\n",
              "Risk       0.202511   1.000000"
            ]
          },
          "metadata": {
            "tags": []
          },
          "execution_count": 369
        }
      ]
    },
    {
      "cell_type": "code",
      "metadata": {
        "id": "sRJTia_QBKJn",
        "colab_type": "code",
        "colab": {
          "base_uri": "https://localhost:8080/",
          "height": 109
        },
        "outputId": "ce860164-3373-4a36-9501-45ecb34ef631"
      },
      "source": [
        "fac_oob_risk[['Oob Ratio', 'Risk']].corr(method='spearman')"
      ],
      "execution_count": 370,
      "outputs": [
        {
          "output_type": "execute_result",
          "data": {
            "text/html": [
              "<div>\n",
              "<style scoped>\n",
              "    .dataframe tbody tr th:only-of-type {\n",
              "        vertical-align: middle;\n",
              "    }\n",
              "\n",
              "    .dataframe tbody tr th {\n",
              "        vertical-align: top;\n",
              "    }\n",
              "\n",
              "    .dataframe thead th {\n",
              "        text-align: right;\n",
              "    }\n",
              "</style>\n",
              "<table border=\"1\" class=\"dataframe\">\n",
              "  <thead>\n",
              "    <tr style=\"text-align: right;\">\n",
              "      <th></th>\n",
              "      <th>Oob Ratio</th>\n",
              "      <th>Risk</th>\n",
              "    </tr>\n",
              "  </thead>\n",
              "  <tbody>\n",
              "    <tr>\n",
              "      <th>Oob Ratio</th>\n",
              "      <td>1.000000</td>\n",
              "      <td>0.164878</td>\n",
              "    </tr>\n",
              "    <tr>\n",
              "      <th>Risk</th>\n",
              "      <td>0.164878</td>\n",
              "      <td>1.000000</td>\n",
              "    </tr>\n",
              "  </tbody>\n",
              "</table>\n",
              "</div>"
            ],
            "text/plain": [
              "           Oob Ratio      Risk\n",
              "Oob Ratio  1.000000   0.164878\n",
              "Risk       0.164878   1.000000"
            ]
          },
          "metadata": {
            "tags": []
          },
          "execution_count": 370
        }
      ]
    },
    {
      "cell_type": "markdown",
      "metadata": {
        "colab_type": "text",
        "id": "c74wraFTNRcp"
      },
      "source": [
        "We wanted to identify a possible correlation between the out of business ratio and the risk of the type of facility. However, when we calculated the pearson's correlation factor, we observed no correlation.\n",
        "\n"
      ]
    },
    {
      "cell_type": "markdown",
      "metadata": {
        "colab_type": "text",
        "id": "PixL067182Vq"
      },
      "source": [
        "## **Violation Type Analysis**"
      ]
    },
    {
      "cell_type": "markdown",
      "metadata": {
        "colab_type": "text",
        "id": "WRjDeP-k4NAn"
      },
      "source": [
        "### **Violations analysis - facilities that have gone out of business**"
      ]
    },
    {
      "cell_type": "code",
      "metadata": {
        "colab_type": "code",
        "id": "8WiNcwRD9xyd",
        "colab": {}
      },
      "source": [
        "# Unique facilities that have gone our of business\n",
        "merged_oob = pd.merge(left=df_oob_unique[['Latitude', 'Longitude', 'DBA Name']], right=df, on=['Latitude', 'Longitude', 'DBA Name'])"
      ],
      "execution_count": 0,
      "outputs": []
    },
    {
      "cell_type": "code",
      "metadata": {
        "colab_type": "code",
        "id": "dw11IqbDDp23",
        "outputId": "3dc4dfd1-e5ea-489b-d758-1eb944907899",
        "colab": {
          "base_uri": "https://localhost:8080/",
          "height": 1000
        }
      },
      "source": [
        "# Out of business facilities that have more than 1 inspection\n",
        "dup_oob = merged_oob.groupby(['Latitude', 'Longitude', 'DBA Name']).filter(lambda x : len(x) > 1)\n",
        "dup_oob.dropna(subset=['Violations'], inplace=True) # the inspections that have violations (out of business facilities)\n",
        "dup_oob.head(10)"
      ],
      "execution_count": 372,
      "outputs": [
        {
          "output_type": "stream",
          "text": [
            "/usr/local/lib/python3.6/dist-packages/ipykernel_launcher.py:2: SettingWithCopyWarning: \n",
            "A value is trying to be set on a copy of a slice from a DataFrame\n",
            "\n",
            "See the caveats in the documentation: http://pandas.pydata.org/pandas-docs/stable/user_guide/indexing.html#returning-a-view-versus-a-copy\n",
            "  \n"
          ],
          "name": "stderr"
        },
        {
          "output_type": "execute_result",
          "data": {
            "text/html": [
              "<div>\n",
              "<style scoped>\n",
              "    .dataframe tbody tr th:only-of-type {\n",
              "        vertical-align: middle;\n",
              "    }\n",
              "\n",
              "    .dataframe tbody tr th {\n",
              "        vertical-align: top;\n",
              "    }\n",
              "\n",
              "    .dataframe thead th {\n",
              "        text-align: right;\n",
              "    }\n",
              "</style>\n",
              "<table border=\"1\" class=\"dataframe\">\n",
              "  <thead>\n",
              "    <tr style=\"text-align: right;\">\n",
              "      <th></th>\n",
              "      <th>Latitude</th>\n",
              "      <th>Longitude</th>\n",
              "      <th>DBA Name</th>\n",
              "      <th>Inspection ID</th>\n",
              "      <th>AKA Name</th>\n",
              "      <th>License #</th>\n",
              "      <th>Facility Type</th>\n",
              "      <th>Risk</th>\n",
              "      <th>Address</th>\n",
              "      <th>Zip</th>\n",
              "      <th>Inspection Date</th>\n",
              "      <th>Inspection Type</th>\n",
              "      <th>Results</th>\n",
              "      <th>Violations</th>\n",
              "      <th>Location</th>\n",
              "      <th>Regions</th>\n",
              "    </tr>\n",
              "  </thead>\n",
              "  <tbody>\n",
              "    <tr>\n",
              "      <th>0</th>\n",
              "      <td>41.644670</td>\n",
              "      <td>-87.540095</td>\n",
              "      <td>BURGER KING</td>\n",
              "      <td>2240219</td>\n",
              "      <td>BURGER KING</td>\n",
              "      <td>2368796.0</td>\n",
              "      <td>RESTAURANT</td>\n",
              "      <td>2</td>\n",
              "      <td>13770 S AVENUE O</td>\n",
              "      <td>60633.0</td>\n",
              "      <td>2018-11-15T00:00:00.000</td>\n",
              "      <td>COMPLAINT</td>\n",
              "      <td>Pass w/ Conditions</td>\n",
              "      <td>2. CITY OF CHICAGO FOOD SERVICE SANITATION CERTIFICATE - Comments: NO CITY OF CHICAGO FOOD SERVICE MANAGERS CERTIFICATE ON PREMISES AS REQUIRED; MUST PROVIDE.  INSTRUCTED THE PIC THAT MANAGERS MUST HAVE A VALID CITY OF CHICAGO FOOD SERVICE MANAGERS CERTIFICATE WHILE ON DUTY AT ALL TIMES.  PRIORITY FOUNDATION VIOLATION 7-38-012 ISSUED. | 3. MANAGEMENT, FOOD EMPLOYEE AND CONDITIONAL EMPLOYEE; KNOWLEDGE, RESPONSIBILITIES AND REPORTING - Comments: : 2-102.14(A) NO EMPLOYEE HEALTH POLICY ON PREMISES AS REQUIRED; MUST PROVIDE. INSTRUCTED THE PIC TO PROVIDE DOCUMENTATION OF EMPLOYEES RESPONSIBILITY TO REPORT ANY ILLNESS TRANSMISSIBLE THROUGH FOOD. PRIORITY FOUNDATION 7-38-012(A) CITATION ISSUED.  VIOLATION PREVIOUSLY ISSUED ON AUGUST 14, 2018. | 5. PROCEDURES FOR RESPONDING TO VOMITING AND DIARRHEAL EVENTS - Comments: 2-501.11 NO VOMIT AND DIARRHEAL CLEAN UP PROCEDURE ON PREMISES AS REQUIRED; MUST PROVIDE. INSTRUCTED THE PIC THAT A VOMIT AND DIARRHEAL CLEAN UP PROCEDURE MUST BE DOCUMENTED AND THE NECESSARY SUPPLIES ON HAND IN THE EVENT OF A VOMIT OR DIARRHEAL INCIDENT ON PREMISES. PRIORITY FOUNDATION VIOLATION 7-38-005 CITATION ISSUED.    VIOLATION WAS PREVIOUSLY ISSUED ON AUGUST 14, 2018.</td>\n",
              "      <td>{'latitude': '-87.5400946053766', 'longitude': '41.64467013219805'}</td>\n",
              "      <td>HEGEWISCH</td>\n",
              "    </tr>\n",
              "    <tr>\n",
              "      <th>1</th>\n",
              "      <td>41.644670</td>\n",
              "      <td>-87.540095</td>\n",
              "      <td>BURGER KING</td>\n",
              "      <td>2200946</td>\n",
              "      <td>BURGER KING</td>\n",
              "      <td>2368796.0</td>\n",
              "      <td>RESTAURANT</td>\n",
              "      <td>2</td>\n",
              "      <td>13770 S AVENUE O</td>\n",
              "      <td>60633.0</td>\n",
              "      <td>2018-08-14T00:00:00.000</td>\n",
              "      <td>COMPLAINT</td>\n",
              "      <td>Pass w/ Conditions</td>\n",
              "      <td>2. CITY OF CHICAGO FOOD SERVICE SANITATION CERTIFICATE - Comments: 2-102.12 NO VALID CITY OF CHICAGO FOOD SERVICE SANITATION CERTIFICATES ON PREMISES.  THE PIC ON DUTY WAS UNABLE TO PRODUCE A VALID CITY OF CHICAGO FOOD SERVICE SANITATION CERTIFICATE.  NO OTHER PERSONS WERE ON DUTY THAT HAD A VALID CITY OF CHICAGO FOOD SERVICE SANITATION CERTIFICATE.  INSTRUCTED THAT A VALID CERTIFICATE MUST BE ON PREMISES AT ALL TIMES.  PRIORITY FOUNDATION VIOLATION ISSUED 7-38-012. | 3. MANAGEMENT, FOOD EMPLOYEE AND CONDITIONAL EMPLOYEE; KNOWLEDGE, RESPONSIBILITIES AND REPORTING - Comments: 2-102.14(A) NO EMPLOYEE HEALTH POLICY ON PREMISES AS RE1QUIRED; MUST PROVIDE.  INSTRUCTED THE PIC TO PROVIDE DOCUMENTATION OF EMPLOYEES RESPONSIBILITY TO REPORT ANY ILLNESS TRANSMISSIBLE THROUGH FOOD.  PRIORITY FOUNDATION 7-38-012(A) | 5. PROCEDURES FOR RESPONDING TO VOMITING AND DIARRHEAL EVENTS - Comments: 2-501.11 NO VOMIT AND DIARRHEAL CLEAN UP PROCEDURE ON PREMISES AS REQUIRED; MUST PROVIDE.  INSTRUCTED THE PIC THAT A VOMIT AND DIARRHEAL CLEAN UP PROCEDURE MUST BE DOCUMENTED AND THE NECESSARY SUPPLIES ON HAND IN THE EVENT OF A VOMIT OR DIARRHEAL INCIDENT ON PREMISES. PRIORITY FOUNDATION VIOLATION 7-38-005. | 49. NON-FOOD/FOOD CONTACT SURFACES CLEAN - Comments: 4-602.13  OBSERVED THE EXTERIOR SURFACES AND INTERIOR BOTTOM OF THE DEEP FRYERS IN NEED OF CLEANING TO REMOVE GREASE; CLEAN AND MAINTAIN. | 55. PHYSICAL FACILITIES INSTALLED, MAINTAINED &amp; CLEAN - Comments: 6-501.12  THE FLOORS UNDER AROUND AND BEHIND VARIOUS KITCHEN EQUIPMENT NEED CLEANING; ALSO FLOOR DRAINS THROUGHOUT THE KITCHEN NEED CLEANING; CLEAN AND MAINTAIN FLOORS AND FLOOR DRAINS.</td>\n",
              "      <td>{'latitude': '-87.5400946053766', 'longitude': '41.64467013219805'}</td>\n",
              "      <td>HEGEWISCH</td>\n",
              "    </tr>\n",
              "    <tr>\n",
              "      <th>2</th>\n",
              "      <td>41.644670</td>\n",
              "      <td>-87.540095</td>\n",
              "      <td>BURGER KING</td>\n",
              "      <td>1950282</td>\n",
              "      <td>BURGER KING</td>\n",
              "      <td>2368796.0</td>\n",
              "      <td>RESTAURANT</td>\n",
              "      <td>2</td>\n",
              "      <td>13770 S AVENUE O</td>\n",
              "      <td>60633.0</td>\n",
              "      <td>2016-08-12T00:00:00.000</td>\n",
              "      <td>CANVASS</td>\n",
              "      <td>Pass</td>\n",
              "      <td>34. FLOORS: CONSTRUCTED PER CODE, CLEANED, GOOD REPAIR, COVING INSTALLED, DUST-LESS CLEANING METHODS USED - Comments: FLOORS NEED CLEANING IN THE REAR STORAGE AREA ALONG THE WALL BASE UNDER STORAGE SHELVING AND IN THE PREP AREA AROUND THE COOKING EQUIPMENT TO REMOVE SPILLS,GREASE AND DEBRIS. ALSO CLEAN THE MATS IN THE WALK IN COOLER AND FREEZER TO REMOVE SPILLS. | 35. WALLS, CEILINGS, ATTACHED EQUIPMENT CONSTRUCTED PER CODE: GOOD REPAIR, SURFACES CLEAN AND DUST-LESS CLEANING METHODS - Comments: PIPING ALONG THE WALL BEHIND THE FRYER ARE ENCRUSTED WITH GREASE. MUST CLEAN AND MAINTAIN. | 38. VENTILATION: ROOMS AND EQUIPMENT VENTED AS REQUIRED: PLUMBING: INSTALLED AND MAINTAINED - Comments: NOTED A LEAK AT THE 3 COMPARTMENT SINK HOT WATER KNOB. MUST REPAIR AND MAINTAIN.</td>\n",
              "      <td>{'latitude': '-87.5400946053766', 'longitude': '41.64467013219805'}</td>\n",
              "      <td>HEGEWISCH</td>\n",
              "    </tr>\n",
              "    <tr>\n",
              "      <th>3</th>\n",
              "      <td>41.644670</td>\n",
              "      <td>-87.540095</td>\n",
              "      <td>BURGER KING</td>\n",
              "      <td>1523175</td>\n",
              "      <td>BURGER KING</td>\n",
              "      <td>2368796.0</td>\n",
              "      <td>RESTAURANT</td>\n",
              "      <td>2</td>\n",
              "      <td>13770 S AVENUE O</td>\n",
              "      <td>60633.0</td>\n",
              "      <td>2015-02-23T00:00:00.000</td>\n",
              "      <td>LICENSE</td>\n",
              "      <td>Pass</td>\n",
              "      <td>33. FOOD AND NON-FOOD CONTACT EQUIPMENT UTENSILS CLEAN, FREE OF ABRASIVE DETERGENTS - Comments: CLEAN THEBOTTOM COMPARTMENT OF DEEP FRYERS OF GREASE BUILD-UP AND CLEAN INTERIOR OF THE CHEST FREEZER AT PREP AREA,INSTRUCTED TO CLEAN AND MAINTAIN EQUIPMENT | 34. FLOORS: CONSTRUCTED PER CODE, CLEANED, GOOD REPAIR, COVING INSTALLED, DUST-LESS CLEANING METHODS USED - Comments: CLEAN THE FLOORS IN PREP AREA ,ALONG WALL BASE AND CORNERS IN PREP AREA AND REAR OF PREMISES | 45. FOOD HANDLER REQUIREMENTS MET - Comments: MUST PROVIDE THE FOOD HANDLERS CERTIFICATES OR PROOF OF ENROLLEMENT</td>\n",
              "      <td>{'latitude': '-87.5400946053766', 'longitude': '41.64467013219805'}</td>\n",
              "      <td>HEGEWISCH</td>\n",
              "    </tr>\n",
              "    <tr>\n",
              "      <th>6</th>\n",
              "      <td>41.644670</td>\n",
              "      <td>-87.540095</td>\n",
              "      <td>BURGER KING</td>\n",
              "      <td>1493718</td>\n",
              "      <td>BURGER KING #7268</td>\n",
              "      <td>1473518.0</td>\n",
              "      <td>RESTAURANT</td>\n",
              "      <td>2</td>\n",
              "      <td>13770 S AVENUE O</td>\n",
              "      <td>60633.0</td>\n",
              "      <td>2014-08-18T00:00:00.000</td>\n",
              "      <td>CANVASS</td>\n",
              "      <td>Fail</td>\n",
              "      <td>12. HAND WASHING FACILITIES: WITH SOAP AND SANITARY HAND DRYING DEVICES, CONVENIENT AND ACCESSIBLE TO FOOD PREP AREA - Comments: FOUND NO SOAP AT THE FRONT EXPOSED HANDWASHING SINK. INSTRUCTED TO PROVIDE AND MAINTAIN AT ALL TIMES. CRITICAL VIOLATION 7-38-030 | 21. * CERTIFIED FOOD MANAGER ON SITE WHEN POTENTIALLY HAZARDOUS FOODS ARE  PREPARED AND SERVED - Comments: NO CHICAGO FOOD SANITATION MANAGER ON DUTY OR CERTIFICATE POSTED WHEN POTENTIALLY HAZARDOUS FOOD (COOKED HAMBURGER 161.51F, SAUSAGE 170.8F) PREPARED AND SERVED. SERIOUS VIOLATION 7-38-012 CITATION   | 28. * INSPECTION REPORT SUMMARY DISPLAYED AND VISIBLE TO ALL CUSTOMERS - Comments: FOUND THE PREVIOUS NON COMPLIANCE INSPECTION REPORT SUMMARY, DATED DECEMBER 19, 2012 NOT POSTED IN PLAIN VIEW OF CUSTOMERS. INSTRUCTED TO KEEP SUMMARY POSTED AT ALL TIMES. SERIOUS VIOLATIOIN 7-42-010 (B) | 29. PREVIOUS MINOR VIOLATION(S) CORRECTED 7-42-090 - Comments: FOUND PREVIOUS MINOR VIOLATIONS FROM REPORT #1300984, DATED 12/19/2012 NOT CORRECTED AND/OR MAINTAINED. INSTRUCTED TO CORRECT AND MAINTAIN:    33-CLEAN INTERIOR AND EXTERIOR OF FRYERS, PREP TABLES, COOLERS, CABINETS.  34-GROUT FLOOR TILES IN ALL AREAS. FLOORS NEED CLEANING UNDER FRYERS (FOOD DEBRIS, GREASE BUILD UP), PREP TABLES, ETC. ALONG WALLS AND IN ALL CORNERS IN PREP STORAGE AND DRIVE THRU AREAS.   35-REPLACE MISSING AND DAMAGED TILES ALONG BASEBOARDS IN PREP AND STORAGE AREAS.  38-REPAIR LEAKING FAUCET ON 3-COMP. SINK.  42-ALL FOOD HANDLERS MUST WEAR HAIR RESTRAINTS.  SERIOUS VIOLATION 7-42-090 | 33. FOOD AND NON-FOOD CONTACT EQUIPMENT UTENSILS CLEAN, FREE OF ABRASIVE DETERGENTS - Comments: FOUND STORAGE RACKS IN PREP AREA IN NEED OF CLEANING. INSTRUCTED TO CLEAN AND MAINTAIN. | 38. VENTILATION: ROOMS AND EQUIPMENT VENTED AS REQUIRED: PLUMBING: INSTALLED AND MAINTAINED - Comments: FOUND A LEAK AT THE BASE OF THE HOT WATER KNOB ON THE 2-COMPARTMENT SINK IN THE PREP AREA. INSTRUCTED TO FIX AND MAINTAIN.</td>\n",
              "      <td>{'latitude': '-87.5400946053766', 'longitude': '41.64467013219805'}</td>\n",
              "      <td>HEGEWISCH</td>\n",
              "    </tr>\n",
              "    <tr>\n",
              "      <th>7</th>\n",
              "      <td>41.644670</td>\n",
              "      <td>-87.540095</td>\n",
              "      <td>BURGER KING</td>\n",
              "      <td>1300984</td>\n",
              "      <td>BURGER KING #7268</td>\n",
              "      <td>1473518.0</td>\n",
              "      <td>RESTAURANT</td>\n",
              "      <td>2</td>\n",
              "      <td>13770 S AVENUE O</td>\n",
              "      <td>60633.0</td>\n",
              "      <td>2012-12-19T00:00:00.000</td>\n",
              "      <td>CANVASS</td>\n",
              "      <td>Pass w/ Conditions</td>\n",
              "      <td>21. * CERTIFIED FOOD MANAGER ON SITE WHEN POTENTIALLY HAZARDOUS FOODS ARE  PREPARED AND SERVED - Comments: NO CHICAGO FOOD SANITATION MANAGER ON DUTY OR CERTIFICATE POSTED WHEN POTENTIALLY HAZARDOUS FOOD (COOKED HAMBURGER 167F, SAUSAGE 159.8F, EGGS 147.8F) PREPARED AND SERVED. SERIOUS VIOLATION 7-38-012 CITATION ISSUED. | 33. FOOD AND NON-FOOD CONTACT EQUIPMENT UTENSILS CLEAN, FREE OF ABRASIVE DETERGENTS - Comments: CLEAN INTERIOR AND EXTERIOR OF FRYERS, PREP TABLES, COOLERS, CABINETS. | 34. FLOORS: CONSTRUCTED PER CODE, CLEANED, GOOD REPAIR, COVING INSTALLED, DUST-LESS CLEANING METHODS USED - Comments: GROUT FLOOR TILES IN ALL AREAS. FLOORS NEED CLEANING UNDER FRYERS (FOOD DEBRIS, GREASE BUILDUP), PREP TABLES, ETC ALONG WALLS AND IN ALL CORNERS IN PREP, STORAGE AND DRIVE THRU AREAS. REMOVE EXCESS WATER ON FLOOR IN DRIVE THRU AREA. ELEVATE ALL STOCK OFF FLOOR INSIDE WALK-IN FREEZER AND REAR STORAGE AREA. | 35. WALLS, CEILINGS, ATTACHED EQUIPMENT CONSTRUCTED PER CODE: GOOD REPAIR, SURFACES CLEAN AND DUST-LESS CLEANING METHODS - Comments: REPLACE MISSING AND DAMAGED TILES ALONG BASEBOARDS IN PREP AND STORAGE AREAS. | 38. VENTILATION: ROOMS AND EQUIPMENT VENTED AS REQUIRED: PLUMBING: INSTALLED AND MAINTAINED - Comments: REPAIR LEAKING FAUCET ON 3-COMP SINK AND FRONT EXPOSED SINK (SLOW DRAINING). | 40. REFRIGERATION AND METAL STEM THERMOMETERS PROVIDED AND CONSPICUOUS - Comments: PROVIDE THERMOMETERS IN ALL COOLERS. | 41. PREMISES MAINTAINED FREE OF LITTER, UNNECESSARY ARTICLES, CLEANING  EQUIPMENT PROPERLY STORED - Comments: STORE MOP HEAD UPRIGHT TO PREVENT INSECT BREEDING. | 42. APPROPRIATE METHOD OF HANDLING OF FOOD (ICE) HAIR RESTRAINTS AND CLEAN APPAREL WORN - Comments: ALL FOOD HANDLERS MUST WEAR HAIR RESTRAINTS.</td>\n",
              "      <td>{'latitude': '-87.5400946053766', 'longitude': '41.64467013219805'}</td>\n",
              "      <td>HEGEWISCH</td>\n",
              "    </tr>\n",
              "    <tr>\n",
              "      <th>8</th>\n",
              "      <td>41.644670</td>\n",
              "      <td>-87.540095</td>\n",
              "      <td>BURGER KING</td>\n",
              "      <td>537818</td>\n",
              "      <td>BURGER KING #7268</td>\n",
              "      <td>1473518.0</td>\n",
              "      <td>RESTAURANT</td>\n",
              "      <td>2</td>\n",
              "      <td>13770 S AVENUE O</td>\n",
              "      <td>60633.0</td>\n",
              "      <td>2012-01-10T00:00:00.000</td>\n",
              "      <td>COMPLAINT</td>\n",
              "      <td>Pass w/ Conditions</td>\n",
              "      <td>8. SANITIZING RINSE FOR EQUIPMENT AND UTENSILS:  CLEAN, PROPER TEMPERATURE, CONCENTRATION, EXPOSURE TIME - Comments: Equipment and utensils should get proper exposure to the sanitizing solution during the rinse cycle.  Bactericidal treatment shall consist of exposure of all dish and utensil surfaces to a rinse of clean water at a temperature of not less than 180F. PREMISES HAS INSTALLED A SOFT SERVE ICE CREAM MACHINE IMPROPER SANITIZING NO HOT AND COLD RUNNING WATER ABOVE THE MACHINE AT THE FREEZER UNIT FOR THE PURPOSE OF WASHING AND SANITIZING OF ALL NON-REMOVAL FOOD CONTACT SURFACES OF THE FREEZER UNIT AND THE SANITIZING OF RE-ASSEMBLED FREEZER PARTS. MACHINE TAGGED INSTRUCTED NOT TO USE TIL CDPH RETURNS TO CHECK THE INSTULATION OF THE HOT AND COLD RUNNING WATER TO THE TOP OF THE FREEZER UNIT. STARTED TO SELL SOFT SERVE ICE CREAM IN JULY OF 2011. | 21. * CERTIFIED FOOD MANAGER ON SITE WHEN POTENTIALLY HAZARDOUS FOODS ARE  PREPARED AND SERVED - Comments: A certified food service manager must be present in all establishments at which potentially hazardous food is prepared or served.NO CITY OF CHICAGO SANITATION CERTIFICATE POSTED ON PREMISES AND NO CITY OF CHICAGO MANAGER ON PREMISES WHEN POTENTIALLY HAZADROUS FOODS ARE BEING SERVED AND PREPARED.NEED TO PROVIDE. | 33. FOOD AND NON-FOOD CONTACT EQUIPMENT UTENSILS CLEAN, FREE OF ABRASIVE DETERGENTS - Comments: All utensils shall be thoroughly cleaned and sanitized after each usage.NEED TO CLEAN AND SANITIZE BOTH FOOD CHOPPERS IN REAR PREP AREA, AND NEED TO CLEAN INTERIOR OF FRYER DOORS. | 34. FLOORS: CONSTRUCTED PER CODE, CLEANED, GOOD REPAIR, COVING INSTALLED, DUST-LESS CLEANING METHODS USED - Comments: The floors shall be constructed per code, be smooth and easily cleaned, and be kept clean and in good repair.NEED TO CLEAN FLOOR REAR UNDER BAG IN BOX SODA HOLDER. | 35. WALLS, CEILINGS, ATTACHED EQUIPMENT CONSTRUCTED PER CODE: GOOD REPAIR, SURFACES CLEAN AND DUST-LESS CLEANING METHODS - Comments: The walls and ceilings shall be in good repair and easily cleaned.CLEAN WALLS AROUND REAR MOP AREA. | 36. LIGHTING: REQUIRED MINIMUM FOOT-CANDLES OF LIGHT PROVIDED, FIXTURES SHIELDED - Comments: Shielding to protect against broken glass falling into food shall be provided for all artificial lighting sources in preparation, service, and display facilities.CLEAN LIGHT SHIELDS THRU-OUT REAR PREP AREA. | 38. VENTILATION: ROOMS AND EQUIPMENT VENTED AS REQUIRED: PLUMBING: INSTALLED AND MAINTAINED - Comments: Ventilation: All plumbing fixtures, such as toilets, sinks, washbasins, etc., must be adequately trapped, vented, and re-vented and properly connected to the sewer in accordance with the plumbing chapter of the Municipal Code of Chicago and the Rules and Regulations of the Board of Health. LADIES 2ND SINK DRAIN RUNNING SLOW NEED TO REPAIR.</td>\n",
              "      <td>{'latitude': '-87.5400946053766', 'longitude': '41.64467013219805'}</td>\n",
              "      <td>HEGEWISCH</td>\n",
              "    </tr>\n",
              "    <tr>\n",
              "      <th>9</th>\n",
              "      <td>41.644670</td>\n",
              "      <td>-87.540095</td>\n",
              "      <td>BURGER KING</td>\n",
              "      <td>537384</td>\n",
              "      <td>BURGER KING #7268</td>\n",
              "      <td>1473518.0</td>\n",
              "      <td>RESTAURANT</td>\n",
              "      <td>2</td>\n",
              "      <td>13770 S AVENUE O</td>\n",
              "      <td>60633.0</td>\n",
              "      <td>2011-05-26T00:00:00.000</td>\n",
              "      <td>COMPLAINT</td>\n",
              "      <td>Pass</td>\n",
              "      <td>33. FOOD AND NON-FOOD CONTACT EQUIPMENT UTENSILS CLEAN, FREE OF ABRASIVE DETERGENTS - Comments: All utensils shall be thoroughly cleaned and sanitized after each usage.OBSERVED THE INTERIOR LID OF THE ICE MACHINE INSTRUCTED TO CLEAN | 34. FLOORS: CONSTRUCTED PER CODE, CLEANED, GOOD REPAIR, COVING INSTALLED, DUST-LESS CLEANING METHODS USED - Comments: The floors shall be constructed per code, be smooth and easily cleaned, and be kept clean and in good repair.CLEAN FLOOR DRAINS, FLOOR FRONT UNDER ICE CREAM MACHINE,REAR BAG n BOX HOLDER. | 35. WALLS, CEILINGS, ATTACHED EQUIPMENT CONSTRUCTED PER CODE: GOOD REPAIR, SURFACES CLEAN AND DUST-LESS CLEANING METHODS - Comments: The walls and ceilings shall be in good repair and easily cleaned.CLEAN WALL SIDE AND AROUND 3 COMP SINK ALSO AROUND REAR MOP AREA  | 36. LIGHTING: REQUIRED MINIMUM FOOT-CANDLES OF LIGHT PROVIDED, FIXTURES SHIELDED - Comments: Shielding to protect against broken glass falling into food shall be provided for all artificial lighting sources in preparation, service, and display facilities.CLEAN LIGHT SHIELDS IN THE EMPLOYEE ROOM AND RESTROOM HALLWAY | 38. VENTILATION: ROOMS AND EQUIPMENT VENTED AS REQUIRED: PLUMBING: INSTALLED AND MAINTAINED - Comments: Ventilation: All plumbing fixtures, such as toilets, sinks, washbasins, etc., must be adequately trapped, vented, and re-vented and properly connected to the sewer in accordance with the plumbing chapter of the Municipal Code of Chicago and the Rules and Regulations of the Board of Health.LADIES 2ND SINK DRAIN RUNNING SLOW INSTRUCTED TO REPAIR</td>\n",
              "      <td>{'latitude': '-87.5400946053766', 'longitude': '41.64467013219805'}</td>\n",
              "      <td>HEGEWISCH</td>\n",
              "    </tr>\n",
              "    <tr>\n",
              "      <th>10</th>\n",
              "      <td>41.644670</td>\n",
              "      <td>-87.540095</td>\n",
              "      <td>BURGER KING</td>\n",
              "      <td>419402</td>\n",
              "      <td>BURGER KING #7268</td>\n",
              "      <td>1473518.0</td>\n",
              "      <td>RESTAURANT</td>\n",
              "      <td>2</td>\n",
              "      <td>13770 S AVENUE O</td>\n",
              "      <td>60633.0</td>\n",
              "      <td>2010-10-12T00:00:00.000</td>\n",
              "      <td>COMPLAINT</td>\n",
              "      <td>Pass w/ Conditions</td>\n",
              "      <td>3. POTENTIALLY HAZARDOUS FOOD MEETS TEMPERATURE REQUIREMENT DURING STORAGE, PREPARATION DISPLAY AND SERVICE - Comments: All hot food shall be stored at a temperature of 140F or higher. All cold food shall be stored at a temperature of 40F or less.  FOUND FOOD SETTING OUT ON THE COUNTER NOT ICED DOWN OR IN COLD HOLDING UNIT - ONE POUND OF HAM AT 76F, RED BICANTE SAUCE 78.4F, ONE POUND AMERICAN CHEESE DRIED OUT AND CRACKED AT 78.2. CRITICAL CITATION GIVEN 7-38-005(A). H000062416 12 COURT DATE 11/18/2010  10:00AM ROOM112 AT 400 W SUPERIOR CHICAGO OR YOU MAY PAY THE FINE THROUGH THE MAIL SEE THE BACK OF THE CITATION.   MANAGER DISPOSED OF THE FOOD AND PUT FRESH FOOD ON ICE.  | 12. HAND WASHING FACILITIES: WITH SOAP AND SANITARY HAND DRYING DEVICES, CONVENIENT AND ACCESSIBLE TO FOOD PREP AREA - Comments: Adequate and convenient hand washing facilities shall be provided for all employees.  NO SOAP AT THE TWO EXPOSED HAND SINKS IN THE PREP AREAS. ALSO NONE IN THE TOILET ROOMS. EMPLOYEE WAS SENT OUT TO BUY MORE HAND SOAP. CRITICAL CITATION GIVEN 7-38-030  H000062416 12. | 21. * CERTIFIED FOOD MANAGER ON SITE WHEN POTENTIALLY HAZARDOUS FOODS ARE  PREPARED AND SERVED - Comments: A certified food service manager must be present in all establishments at which potentially hazardous food is prepared or served.  NO ONE HERE IS CERTIFIED OR HAS A CITY OF CHICAGO CERTIFIED FOOD MANAGERS CERTIFICATE ON SITE WHEN POTENTIALLY HAZARDOUS FOODS ARE PREP AND SERVED. SERIOUS CITATION GIVEN 7-38-012  H00062417 13 COURT DATE SEE ABOVE.   INSTRUCTED TO PROVIDE CITY OF CHICAGO CERTIFIED MANAGERS. | 33. FOOD AND NON-FOOD CONTACT EQUIPMENT UTENSILS CLEAN, FREE OF ABRASIVE DETERGENTS - Comments: All utensils shall be thoroughly cleaned and sanitized after each usage.  ALL COOKING EQUIPMENT NOT CLEAN IS THICK WITH GREASE BUILDUP.  INSTRUCTED TO CLEAN SAME. | 34. FLOORS: CONSTRUCTED PER CODE, CLEANED, GOOD REPAIR, COVING INSTALLED, DUST-LESS CLEANING METHODS USED - Comments: The floors shall be constructed per code, be smooth and easily cleaned, and be kept clean and in good repair.  FLOOR UNDER THE COOKING EQUIPMENT NOT CLEAN THICK WITH GREASE BUILDUP.  INSTD. TO CLEAN SAME.</td>\n",
              "      <td>{'latitude': '-87.5400946053766', 'longitude': '41.64467013219805'}</td>\n",
              "      <td>HEGEWISCH</td>\n",
              "    </tr>\n",
              "    <tr>\n",
              "      <th>14</th>\n",
              "      <td>41.646371</td>\n",
              "      <td>-87.560342</td>\n",
              "      <td>WINJAMMER MARINA</td>\n",
              "      <td>1395212</td>\n",
              "      <td>WINJAMMER MARINA</td>\n",
              "      <td>79113.0</td>\n",
              "      <td>RESTAURANT</td>\n",
              "      <td>2</td>\n",
              "      <td>13701 S HOXIE AVE</td>\n",
              "      <td>60633.0</td>\n",
              "      <td>2013-12-30T00:00:00.000</td>\n",
              "      <td>CANVASS</td>\n",
              "      <td>Pass</td>\n",
              "      <td>33. FOOD AND NON-FOOD CONTACT EQUIPMENT UTENSILS CLEAN, FREE OF ABRASIVE DETERGENTS - Comments: CLEAN INTERIOR AND EXTERIOR OF PIZZA OVEN, TOASTER OVEN, PREP TABLES, SHELVES, STEAM TABLES, COOKING EQUIPMENT, ICE MACHINE.   | 34. FLOORS: CONSTRUCTED PER CODE, CLEANED, GOOD REPAIR, COVING INSTALLED, DUST-LESS CLEANING METHODS USED - Comments: CLEAN FLOORS UNDER ALL EQUIPMENT, ALONG WALLS AND IN ALL CORNERS IN KITCHEN, BAR, AND STORAGE AREAS.   | 35. WALLS, CEILINGS, ATTACHED EQUIPMENT CONSTRUCTED PER CODE: GOOD REPAIR, SURFACES CLEAN AND DUST-LESS CLEANING METHODS - Comments: REPLACE MISSING BASEBOARDS ALONG WALLS IN LIQUOR STORAGE AREA. SEAL OPENINGS IN WALLS IN ELECTRICAL AND FURNACE ROOMS.</td>\n",
              "      <td>{'latitude': '-87.56034196262158', 'longitude': '41.64637082018021'}</td>\n",
              "      <td>HEGEWISCH</td>\n",
              "    </tr>\n",
              "  </tbody>\n",
              "</table>\n",
              "</div>"
            ],
            "text/plain": [
              "     Latitude  ...    Regions\n",
              "0   41.644670  ...  HEGEWISCH\n",
              "1   41.644670  ...  HEGEWISCH\n",
              "2   41.644670  ...  HEGEWISCH\n",
              "3   41.644670  ...  HEGEWISCH\n",
              "6   41.644670  ...  HEGEWISCH\n",
              "7   41.644670  ...  HEGEWISCH\n",
              "8   41.644670  ...  HEGEWISCH\n",
              "9   41.644670  ...  HEGEWISCH\n",
              "10  41.644670  ...  HEGEWISCH\n",
              "14  41.646371  ...  HEGEWISCH\n",
              "\n",
              "[10 rows x 16 columns]"
            ]
          },
          "metadata": {
            "tags": []
          },
          "execution_count": 372
        }
      ]
    },
    {
      "cell_type": "code",
      "metadata": {
        "colab_type": "code",
        "id": "YlUwb7Z2MIZx",
        "colab": {}
      },
      "source": [
        "# Split the violations column entries to obtain only the violation type numbers\n",
        "violations_oob = dup_oob['Violations'].apply(lambda x: re.findall(r'^[0-9]+[.] | [|] [0-9]+[.] ', x))\n",
        "violations_oob = pd.DataFrame(violations_oob)\n",
        "violation_nums_oob = violations_oob['Violations'].apply(lambda x: [int(sub.replace('|','').split('.')[0]) for sub in x])\\"
      ],
      "execution_count": 0,
      "outputs": []
    },
    {
      "cell_type": "code",
      "metadata": {
        "colab_type": "code",
        "id": "BX8lLCYvYf6h",
        "outputId": "7b040955-96ac-4b0d-a921-85cc02e346e6",
        "colab": {
          "base_uri": "https://localhost:8080/",
          "height": 352
        }
      },
      "source": [
        "# Format the list into a proper dataframe\n",
        "violation_nums_oob = pd.DataFrame(violation_nums_oob)\n",
        "violation_nums_oob.reset_index(inplace=True)\n",
        "violation_nums_oob.drop(columns='index', inplace=True)\n",
        "violation_nums_oob.head(10)"
      ],
      "execution_count": 374,
      "outputs": [
        {
          "output_type": "execute_result",
          "data": {
            "text/html": [
              "<div>\n",
              "<style scoped>\n",
              "    .dataframe tbody tr th:only-of-type {\n",
              "        vertical-align: middle;\n",
              "    }\n",
              "\n",
              "    .dataframe tbody tr th {\n",
              "        vertical-align: top;\n",
              "    }\n",
              "\n",
              "    .dataframe thead th {\n",
              "        text-align: right;\n",
              "    }\n",
              "</style>\n",
              "<table border=\"1\" class=\"dataframe\">\n",
              "  <thead>\n",
              "    <tr style=\"text-align: right;\">\n",
              "      <th></th>\n",
              "      <th>Violations</th>\n",
              "    </tr>\n",
              "  </thead>\n",
              "  <tbody>\n",
              "    <tr>\n",
              "      <th>0</th>\n",
              "      <td>[2, 3, 5]</td>\n",
              "    </tr>\n",
              "    <tr>\n",
              "      <th>1</th>\n",
              "      <td>[2, 3, 5, 49, 55]</td>\n",
              "    </tr>\n",
              "    <tr>\n",
              "      <th>2</th>\n",
              "      <td>[34, 35, 38]</td>\n",
              "    </tr>\n",
              "    <tr>\n",
              "      <th>3</th>\n",
              "      <td>[33, 34, 45]</td>\n",
              "    </tr>\n",
              "    <tr>\n",
              "      <th>4</th>\n",
              "      <td>[12, 21, 28, 29, 33, 38]</td>\n",
              "    </tr>\n",
              "    <tr>\n",
              "      <th>5</th>\n",
              "      <td>[21, 33, 34, 35, 38, 40, 41, 42]</td>\n",
              "    </tr>\n",
              "    <tr>\n",
              "      <th>6</th>\n",
              "      <td>[8, 21, 33, 34, 35, 36, 38]</td>\n",
              "    </tr>\n",
              "    <tr>\n",
              "      <th>7</th>\n",
              "      <td>[33, 34, 35, 36, 38]</td>\n",
              "    </tr>\n",
              "    <tr>\n",
              "      <th>8</th>\n",
              "      <td>[3, 12, 21, 33, 34]</td>\n",
              "    </tr>\n",
              "    <tr>\n",
              "      <th>9</th>\n",
              "      <td>[33, 34, 35]</td>\n",
              "    </tr>\n",
              "  </tbody>\n",
              "</table>\n",
              "</div>"
            ],
            "text/plain": [
              "                         Violations\n",
              "0  [2, 3, 5]                       \n",
              "1  [2, 3, 5, 49, 55]               \n",
              "2  [34, 35, 38]                    \n",
              "3  [33, 34, 45]                    \n",
              "4  [12, 21, 28, 29, 33, 38]        \n",
              "5  [21, 33, 34, 35, 38, 40, 41, 42]\n",
              "6  [8, 21, 33, 34, 35, 36, 38]     \n",
              "7  [33, 34, 35, 36, 38]            \n",
              "8  [3, 12, 21, 33, 34]             \n",
              "9  [33, 34, 35]                    "
            ]
          },
          "metadata": {
            "tags": []
          },
          "execution_count": 374
        }
      ]
    },
    {
      "cell_type": "code",
      "metadata": {
        "colab_type": "code",
        "id": "mLcVYIYMZuK1",
        "colab": {}
      },
      "source": [
        "# Store the count of each type of violation in OOB facilities in a dictionary\n",
        "vio_freq_oob = {}\n",
        "for i in violation_nums_oob['Violations']:\n",
        "  for j in i:\n",
        "    vio_freq_oob[str(j)] = 1 if str(j) not in vio_freq_oob else vio_freq_oob[str(j)]+1"
      ],
      "execution_count": 0,
      "outputs": []
    },
    {
      "cell_type": "code",
      "metadata": {
        "colab_type": "code",
        "id": "iG5RGczLkTgP",
        "colab": {}
      },
      "source": [
        "# Sort the violation types in terms of their frequencies\n",
        "sorted_vio_freq_oob = {}\n",
        "\n",
        "for key in sorted(vio_freq_oob, key=vio_freq_oob.__getitem__, reverse=True):\n",
        "  sorted_vio_freq_oob[key] = vio_freq_oob[key]"
      ],
      "execution_count": 0,
      "outputs": []
    },
    {
      "cell_type": "code",
      "metadata": {
        "colab_type": "code",
        "id": "eCE3Zu7lkQ8w",
        "outputId": "7b0dde22-821e-492e-d5a9-bc965eeb2713",
        "colab": {
          "base_uri": "https://localhost:8080/",
          "height": 295
        }
      },
      "source": [
        "# Display the violation type distribution in descending order of frequency\n",
        "plt.figure(figsize=(17,4))\n",
        "plt.bar(list(sorted_vio_freq_oob.keys()), sorted_vio_freq_oob.values())\n",
        "plt.title('Violation Types vs. Their Frequencies in Out of Business Facilities')\n",
        "plt.xlabel('Violation Types')\n",
        "plt.ylabel('Frequency')\n",
        "plt.show()"
      ],
      "execution_count": 377,
      "outputs": [
        {
          "output_type": "display_data",
          "data": {
            "image/png": "[encoded data removed]",
            "text/plain": [
              "<Figure size 1224x288 with 1 Axes>"
            ]
          },
          "metadata": {
            "tags": []
          }
        }
      ]
    },
    {
      "cell_type": "markdown",
      "metadata": {
        "id": "3ju5QwPmGZcn",
        "colab_type": "text"
      },
      "source": [
        "We observe that certain violation types outnumber others, but these ones are mostly non-critical or non-serious. We will plot only the serious and critical violations in the following sections to get the most important violations and their possible influence on causing establishments go out of business."
      ]
    },
    {
      "cell_type": "code",
      "metadata": {
        "colab_type": "code",
        "id": "_hvSFyDEkmc8",
        "outputId": "a81a6c9a-a072-44b0-b2a3-5aa040b1dddd",
        "colab": {
          "base_uri": "https://localhost:8080/",
          "height": 284
        }
      },
      "source": [
        "most_freq_vio_oob = [key for key, value in list(sorted_vio_freq_oob.items())[0:15]]\n",
        "most_freq_vio_oob # top 10 most frequent violation types among facilities that went out of business"
      ],
      "execution_count": 378,
      "outputs": [
        {
          "output_type": "execute_result",
          "data": {
            "text/plain": [
              "['34',\n",
              " '33',\n",
              " '35',\n",
              " '38',\n",
              " '32',\n",
              " '41',\n",
              " '36',\n",
              " '18',\n",
              " '40',\n",
              " '30',\n",
              " '3',\n",
              " '21',\n",
              " '31',\n",
              " '37',\n",
              " '43']"
            ]
          },
          "metadata": {
            "tags": []
          },
          "execution_count": 378
        }
      ]
    },
    {
      "cell_type": "markdown",
      "metadata": {
        "colab_type": "text",
        "id": "fCjsqIlWdSY7"
      },
      "source": [
        "### **Violations analysis - facilities that have not gone out of business**"
      ]
    },
    {
      "cell_type": "code",
      "metadata": {
        "colab_type": "code",
        "id": "MbsGSDm7czg-",
        "colab": {}
      },
      "source": [
        "# Inspections of facilities that didn't go out of business\n",
        " set_diff_oob = pd.concat([df, merged_oob, merged_oob], sort=True).drop_duplicates(keep=False, subset=['Latitude', 'Longitude', 'DBA Name', 'Inspection Date'])"
      ],
      "execution_count": 0,
      "outputs": []
    },
    {
      "cell_type": "code",
      "metadata": {
        "colab_type": "code",
        "id": "oEPL3X9Fpzb_",
        "outputId": "73e19e05-a44d-4ece-b9c8-05135f76480c",
        "colab": {
          "base_uri": "https://localhost:8080/",
          "height": 1000
        }
      },
      "source": [
        "# set_diff_oob: the inspections that have violations (not out of business facilities)\n",
        "set_diff_oob.dropna(subset=['Violations'], inplace=True)\n",
        "set_diff_oob.head(10)"
      ],
      "execution_count": 380,
      "outputs": [
        {
          "output_type": "execute_result",
          "data": {
            "text/html": [
              "<div>\n",
              "<style scoped>\n",
              "    .dataframe tbody tr th:only-of-type {\n",
              "        vertical-align: middle;\n",
              "    }\n",
              "\n",
              "    .dataframe tbody tr th {\n",
              "        vertical-align: top;\n",
              "    }\n",
              "\n",
              "    .dataframe thead th {\n",
              "        text-align: right;\n",
              "    }\n",
              "</style>\n",
              "<table border=\"1\" class=\"dataframe\">\n",
              "  <thead>\n",
              "    <tr style=\"text-align: right;\">\n",
              "      <th></th>\n",
              "      <th>AKA Name</th>\n",
              "      <th>Address</th>\n",
              "      <th>DBA Name</th>\n",
              "      <th>Facility Type</th>\n",
              "      <th>Inspection Date</th>\n",
              "      <th>Inspection ID</th>\n",
              "      <th>Inspection Type</th>\n",
              "      <th>Latitude</th>\n",
              "      <th>License #</th>\n",
              "      <th>Location</th>\n",
              "      <th>Longitude</th>\n",
              "      <th>Regions</th>\n",
              "      <th>Results</th>\n",
              "      <th>Risk</th>\n",
              "      <th>Violations</th>\n",
              "      <th>Zip</th>\n",
              "    </tr>\n",
              "  </thead>\n",
              "  <tbody>\n",
              "    <tr>\n",
              "      <th>1</th>\n",
              "      <td>CHILI'S (T1-B14)</td>\n",
              "      <td>11601 W TOUHY AVE</td>\n",
              "      <td>CHILIS T-I</td>\n",
              "      <td>RESTAURANT</td>\n",
              "      <td>2019-12-04T00:00:00.000</td>\n",
              "      <td>2352734</td>\n",
              "      <td>CANVASS</td>\n",
              "      <td>42.008536</td>\n",
              "      <td>34169.0</td>\n",
              "      <td>{'latitude': '-87.91442843927047', 'longitude': '42.008536400868735'}</td>\n",
              "      <td>-87.914428</td>\n",
              "      <td>OHARE</td>\n",
              "      <td>Pass</td>\n",
              "      <td>1</td>\n",
              "      <td>10. ADEQUATE HANDWASHING SINKS PROPERLY SUPPLIED AND ACCESSIBLE - Comments: OBSERVED NO HAND WASHING SIGNAGE FOR HAND SINK AT REAR DISH WASHING AREA.MUST PROVIDE AND MAINTAIN. | 47. FOOD &amp; NON-FOOD CONTACT SURFACES CLEANABLE, PROPERLY DESIGNED, CONSTRUCTED &amp; USED - Comments: OBSERVED A TORN DOOR GASKET INSIDE OF THE 2 DOOR PREP COOLER SHOWED MANAGER. MUST REPLACE THE TORN DOOR GASKET AND TO MAINTAIN. | 49. NON-FOOD/FOOD CONTACT SURFACES CLEAN - Comments: INSTRUCTED TO DETAIL CLEAN AND MAINTAIN THE INTERIORS OF PREP COOLERS IN THE FOOD PREP AREA AND THE SIDES OF HOT COOKING EQUIPMENTS. | 55. PHYSICAL FACILITIES INSTALLED, MAINTAINED &amp; CLEAN - Comments: INSTRUCTED TO REMOVE DUSTS AND FOOD SPLASHED DEBRIS ON WALLS AND CEILINGS AND ATTACHED CEILING VENTILATION COVERS IN FOOD PREP AREA AND REAR DISH WASHING AREA SHOWED MANAGER AND TO MAINTAIN. | 55. PHYSICAL FACILITIES INSTALLED, MAINTAINED &amp; CLEAN - Comments: OBSERVED DIRTY FLOORS UNDER AND AROUND THE ICE MACHINE SHOWED MANAGER,CLEAN FLOORS IN DETAIL AND TO MAINTAIN.</td>\n",
              "      <td>60666.0</td>\n",
              "    </tr>\n",
              "    <tr>\n",
              "      <th>2</th>\n",
              "      <td>NaN</td>\n",
              "      <td>3401 W BELMONT AVE</td>\n",
              "      <td>TAQUERIA BLUE LINE</td>\n",
              "      <td>RESTAURANT</td>\n",
              "      <td>2019-12-04T00:00:00.000</td>\n",
              "      <td>2352701</td>\n",
              "      <td>LICENSE</td>\n",
              "      <td>41.939168</td>\n",
              "      <td>2703436.0</td>\n",
              "      <td>{'latitude': '-87.71254599117191', 'longitude': '41.93916783376966'}</td>\n",
              "      <td>-87.712546</td>\n",
              "      <td>AVONDALE</td>\n",
              "      <td>Pass w/ Conditions</td>\n",
              "      <td>1</td>\n",
              "      <td>3. MANAGEMENT, FOOD EMPLOYEE AND CONDITIONAL EMPLOYEE; KNOWLEDGE, RESPONSIBILITIES AND REPORTING - Comments: NO EMPLOYEE HEALTH POLICY ON PREMISES. INSTRUCTED MANAGER MUST PROVIDE AN EMPLOYEE HEALTH POLICY ON PREMISES. PRIORITY FOUNDATION 7-38-010. NO CITATION ISSUED. | 5. PROCEDURES FOR RESPONDING TO VOMITING AND DIARRHEAL EVENTS - Comments: NO VOMIT AND DIARRHEA CLEANING PROCEDURE ON PREMISES. INSTRUCTED MANAGER MUST PROVIDE A VOMIT AND DIARRHEA CLEANING PROCEDURE WITH ALL NECESSARY ITEMS AS OUTLINED IN POLICY ON PREMISES. PRIORITY FOUNDATION 7-38-005. NO CITATION ISSUED. | 16. FOOD-CONTACT SURFACES: CLEANED &amp; SANITIZED - Comments: OBSERVED SLIGHT CALCIUM BUILD UP INSIDE ICE MACHINE. MUST CLEAN INTERIOR OF ICE MACHINE AND MAINTAIN. | 51. PLUMBING INSTALLED; PROPER BACKFLOW DEVICES - Comments: OBSERVED 3-COMPARTMENT SINK STOPPERS (X2) NOT WORKING. MUST PROVIDE ADDITIONAL WORKING STOPPERS (X2) FOR 3-COMPARTMENT SINK. | 53. TOILET FACILITIES: PROPERLY CONSTRUCTED, SUPPLIED, &amp; CLEANED - Comments: NO COVERED TRASH RECEPTACLE IN WASHROOM. MUST PROVIDE. | 58. ALLERGEN TRAINING AS REQUIRED - Comments: NO FOOD ALLERGEN TRAINING CERTIFICATE ON PREMISES. INSTRUCTED ALL CITY OF CHICAGO CERTIFIED FOOD MANAGERS MUST HAVE FOOD ALLERGEN TRAINING  CERTIFICATES ON PREMISES.</td>\n",
              "      <td>60618.0</td>\n",
              "    </tr>\n",
              "    <tr>\n",
              "      <th>6</th>\n",
              "      <td>NAIBOA LATIN STORE</td>\n",
              "      <td>3349 N CLARK ST</td>\n",
              "      <td>NAIBOA LATIN STORE</td>\n",
              "      <td>RETAIL STORE</td>\n",
              "      <td>2019-12-04T00:00:00.000</td>\n",
              "      <td>2352702</td>\n",
              "      <td>LICENSE</td>\n",
              "      <td>41.943032</td>\n",
              "      <td>2698776.0</td>\n",
              "      <td>{'latitude': '-87.65299525711882', 'longitude': '41.943031768727145'}</td>\n",
              "      <td>-87.652995</td>\n",
              "      <td>LAKE VIEW</td>\n",
              "      <td>Pass w/ Conditions</td>\n",
              "      <td>3</td>\n",
              "      <td>5. PROCEDURES FOR RESPONDING TO VOMITING AND DIARRHEAL EVENTS - Comments: MANAGEMENT UNABLE TO PROVIDE A PROCEDURE FOR CLEANING UP VOMITING AND DIARRHEA.INSTRUCTED TO HAVE ONE INCLUDING THE CHEMICALS AND SUPPLIES NEEDED. PRIORITY FOUNDATION #7-38-005. NO CITATION ISSUED  | 36. THERMOMETERS PROVIDED &amp; ACCURATE - Comments: NOTED NO THERMOMETERS INSIDE REFRIGERATION UNIT CONSPICUOUSLY POSTED TO MONITOR THE AMBIENT TEMPERATURE OF EQUIPMENT. INSTRUCTED TO EQUIP ALL REFRIGERATION UNITS WITH ACCURATE AND WORKING THERMOMETERS. | 51. PLUMBING INSTALLED; PROPER BACKFLOW DEVICES - Comments: NOTED NO MOP SINK ON PREMISE. INSTRUCTED TO INSTALL A MOP SINK WITH A BACK FLOW PREVENTION DEVICE. | 53. TOILET FACILITIES: PROPERLY CONSTRUCTED, SUPPLIED, &amp; CLEANED - Comments: NOTED WASH ROOMS ON PREMISE WITH GARBAGE RECEPTACLES AND NO LIDS. INSTRUCTED TO PROVIDE TRASH CANS WITH LIDS AT ALL WOMEN WASH ROOMS AND UNISEX WASH ROOMS</td>\n",
              "      <td>60657.0</td>\n",
              "    </tr>\n",
              "    <tr>\n",
              "      <th>7</th>\n",
              "      <td>JAMIESON PUBLIC SCHOOL</td>\n",
              "      <td>5650 N MOZART</td>\n",
              "      <td>JAMIESON</td>\n",
              "      <td>SCHOOL</td>\n",
              "      <td>2019-12-04T00:00:00.000</td>\n",
              "      <td>2352718</td>\n",
              "      <td>CANVASS</td>\n",
              "      <td>41.984614</td>\n",
              "      <td>23931.0</td>\n",
              "      <td>{'latitude': '-87.70056525028134', 'longitude': '41.984613716529374'}</td>\n",
              "      <td>-87.700565</td>\n",
              "      <td>WEST RIDGE</td>\n",
              "      <td>Pass</td>\n",
              "      <td>1</td>\n",
              "      <td>49. NON-FOOD/FOOD CONTACT SURFACES CLEAN - Comments: Caulk worn out in all washbowl sinks in the washrooms in the old building. Must re caulk and maintain. | 55. PHYSICAL FACILITIES INSTALLED, MAINTAINED &amp; CLEAN - Comments: Ceiling vent cover in all washrooms in the new building with dust build-up. Instructed to clean and maintain. | 56. ADEQUATE VENTILATION &amp; LIGHTING; DESIGNATED AREAS USED - Comments: Filters on the ventilation hood in the cook line with dust build-up. Must clean and maintain.</td>\n",
              "      <td>60659.0</td>\n",
              "    </tr>\n",
              "    <tr>\n",
              "      <th>9</th>\n",
              "      <td>BLUE LINE</td>\n",
              "      <td>1548 N DAMEN AVE</td>\n",
              "      <td>BLUE LINE</td>\n",
              "      <td>RESTAURANT</td>\n",
              "      <td>2019-12-03T00:00:00.000</td>\n",
              "      <td>2352629</td>\n",
              "      <td>CANVASS</td>\n",
              "      <td>41.909616</td>\n",
              "      <td>1170410.0</td>\n",
              "      <td>{'latitude': '-87.6775884711046', 'longitude': '41.90961625043591'}</td>\n",
              "      <td>-87.677588</td>\n",
              "      <td>WEST TOWN</td>\n",
              "      <td>Pass w/ Conditions</td>\n",
              "      <td>1</td>\n",
              "      <td>25. CONSUMER ADVISORY PROVIDED FOR RAW/UNDERCOOKED FOOD - Comments: OBSERVED ESTABLISHMENT SERVING UNDER COOKED FOOD ITEMS HAMBURGERS WITH NO CONSUMER ADVISOR DISCLOSURE OR REMINDER STATEMENT ON THE MENU. INSTRUCTED TO HAVE CONSUMER ADVISORY ON THE MENU WITH DISCLOSURE NOTICE AND REMINDER STATEMENT. PRIORITY FOUNDATION VIOLATION 7-38-005. NO CITATION ISSUED.</td>\n",
              "      <td>60622.0</td>\n",
              "    </tr>\n",
              "    <tr>\n",
              "      <th>13</th>\n",
              "      <td>BRIGADOON</td>\n",
              "      <td>5748 W LAWRENCE AVE</td>\n",
              "      <td>BRIGADOON</td>\n",
              "      <td>TAVERN</td>\n",
              "      <td>2019-12-03T00:00:00.000</td>\n",
              "      <td>2352677</td>\n",
              "      <td>COMPLAINT</td>\n",
              "      <td>41.967838</td>\n",
              "      <td>12144.0</td>\n",
              "      <td>{'latitude': '-87.7716235051089', 'longitude': '41.9678382570795'}</td>\n",
              "      <td>-87.771624</td>\n",
              "      <td>PORTAGE PARK</td>\n",
              "      <td>Pass w/ Conditions</td>\n",
              "      <td>3</td>\n",
              "      <td>3. MANAGEMENT, FOOD EMPLOYEE AND CONDITIONAL EMPLOYEE; KNOWLEDGE, RESPONSIBILITIES AND REPORTING - Comments: FOUND NO EMPLOYEE HEALTH POLICY/TRAINING ON SITE. INSTRUCTED TO PROVIDE. PRIORITY FOUNDATION VIOLATION 7-38-010 NO CITATION ISSUED | 5. PROCEDURES FOR RESPONDING TO VOMITING AND DIARRHEAL EVENTS - Comments: FOUND NO PROCEDURE/PLAN FOR RESPONDING TO VOMITING AND DIARRHEAL EVENTS. INSTRUCTED TO PROVIDE AND MAINTAIN REQUIRED PROCEDURE/PLAN AND APPROPRIATE SUPPLIES OR KIT. (NECESSARY ITEMS AT A MINIMUM: GLOVES, FACE MASKS, DISPOSABLE MOPS AND APPROPRIATE SANITIZER/SPRAY THAT KILLS NOROVIRUS) PRIORITY FOUNDATION VIOLATION 7-38-005 NO CITATION ISSUED | 10. ADEQUATE HANDWASHING SINKS PROPERLY SUPPLIED AND ACCESSIBLE - Comments: INSTRUCTED TO PROVIDE HANDWASHING SIGNAGE AT ALL HANDSINK (BEHIND BAR AND MEN/WOMEN WASHROOMS). | 49. NON-FOOD/FOOD CONTACT SURFACES CLEAN - Comments: INSTRUCTED TO DETAIL CLEAN AND MAINTAIN WALL AND CEILING WITH MOLD LIKE BUILD-UP INSIDE LIQUOR WALK-IN COOLER IN THE BASEMENT | 51. PLUMBING INSTALLED; PROPER BACKFLOW DEVICES - Comments: BACKFLOW PREVENTER DEVICE NOT LOCATED BEHIND ICE MACHINE. INSTRUCTED TO INSTALL SO THAT IT CAN BE LOCATED TO BE SERVICED AND MAINTAINED.  | 53. TOILET FACILITIES: PROPERLY CONSTRUCTED, SUPPLIED, &amp; CLEANED - Comments: INSTRUCTED TO PROVIDE TOILET RECEPTACLE WITH LID/COVER INSIDE WASHROOMS. | 55. PHYSICAL FACILITIES INSTALLED, MAINTAINED &amp; CLEAN - Comments: INSTRUCTED TO CLEAN AND REMOVE UNNECESSARY ARTICLES STORED IN BASEMENT TO PREVENT PEST HARBORAGE. | 55. PHYSICAL FACILITIES INSTALLED, MAINTAINED &amp; CLEAN - Comments:  INSTRUCTED TO DETAIL CLEAN AND MAINTAIN WALL AND CEILING WITH MOLD LIKE BUILD-UP INSIDE LIQUOR WALK-IN COOLER IN THE BASEMENT</td>\n",
              "      <td>60630.0</td>\n",
              "    </tr>\n",
              "    <tr>\n",
              "      <th>14</th>\n",
              "      <td>HARRY CARAY'S SHORTSTOP</td>\n",
              "      <td>5700 S CICERO AVE</td>\n",
              "      <td>HARRY CARAYS SHORTSTOP</td>\n",
              "      <td>RESTAURANT</td>\n",
              "      <td>2019-12-03T00:00:00.000</td>\n",
              "      <td>2352653</td>\n",
              "      <td>CANVASS</td>\n",
              "      <td>41.789329</td>\n",
              "      <td>2689813.0</td>\n",
              "      <td>{'latitude': '-87.74164564419637', 'longitude': '41.789329323265385'}</td>\n",
              "      <td>-87.741646</td>\n",
              "      <td>GARFIELD RIDGE</td>\n",
              "      <td>Pass</td>\n",
              "      <td>1</td>\n",
              "      <td>45. SINGLE-USE/SINGLE-SERVICE ARTICLES: PROPERLY STORED &amp; USED - Comments: OBSERVED SINGLE SERVICE BOWLS AND PLATES NOT INVERTED IN WAIT STATION AREA. INSTRUCTED MANAGER TO INVERT ALL SINGLE SERVICE ARTICLES TO PROTECT FROM CONTAMINTION. | 55. PHYSICAL FACILITIES INSTALLED, MAINTAINED &amp; CLEAN - Comments: OBSERVED DISPOSABLE UTENSILS AND SPILLS ON FLOOR ALONG WALLS IN BAR AREA. INSTRUCTED MANAGER TO CLEAN FLOORS AND MAINTAIN.</td>\n",
              "      <td>60638.0</td>\n",
              "    </tr>\n",
              "    <tr>\n",
              "      <th>17</th>\n",
              "      <td>SUBWAY</td>\n",
              "      <td>615 W LAKE ST</td>\n",
              "      <td>SUBWAY</td>\n",
              "      <td>RESTAURANT</td>\n",
              "      <td>2019-12-03T00:00:00.000</td>\n",
              "      <td>2352617</td>\n",
              "      <td>LICENSE</td>\n",
              "      <td>41.885594</td>\n",
              "      <td>2703766.0</td>\n",
              "      <td>{'latitude': '-87.64346245829006', 'longitude': '41.88559449266443'}</td>\n",
              "      <td>-87.643462</td>\n",
              "      <td>NEAR WEST SIDE</td>\n",
              "      <td>Pass w/ Conditions</td>\n",
              "      <td>1</td>\n",
              "      <td>3. MANAGEMENT, FOOD EMPLOYEE AND CONDITIONAL EMPLOYEE; KNOWLEDGE, RESPONSIBILITIES AND REPORTING - Comments: OBSERVED NO EMPLOYEE HEALTH POLICY DURING INSPECTION. INSTRUCTED TO COMPLY PRIORITY FOUNDATION VIOLATION 7-38-010 NO CITATION ISSUED. | 5. PROCEDURES FOR RESPONDING TO VOMITING AND DIARRHEAL EVENTS - Comments: OBSERVED NO PROCEDURE AND CLEAN UP KIT FOR VOMITING AND DIARRHEA EVENTS. INSTRUCTED TO COMPLY. PRIORITY FOUNDATION VIOLATION 7-38-005 NO CITATION ISSUED. | 57. ALL FOOD EMPLOYEES HAVE FOOD HANDLER TRAINING - Comments: FOOD HANDLER'S REQUIREMENT'S NOT MET AT THIS TIME. MUST COMPLY.</td>\n",
              "      <td>60661.0</td>\n",
              "    </tr>\n",
              "    <tr>\n",
              "      <th>19</th>\n",
              "      <td>AMARIT RESTAURANT</td>\n",
              "      <td>600 S DEARBORN ST</td>\n",
              "      <td>AMARIT RESTAURANT</td>\n",
              "      <td>RESTAURANT</td>\n",
              "      <td>2019-12-03T00:00:00.000</td>\n",
              "      <td>2352649</td>\n",
              "      <td>CANVASS</td>\n",
              "      <td>41.874481</td>\n",
              "      <td>1801618.0</td>\n",
              "      <td>{'latitude': '-87.62935653990546', 'longitude': '41.87448116568133'}</td>\n",
              "      <td>-87.629357</td>\n",
              "      <td>LOOP</td>\n",
              "      <td>Fail</td>\n",
              "      <td>1</td>\n",
              "      <td>10. ADEQUATE HANDWASHING SINKS PROPERLY SUPPLIED AND ACCESSIBLE - Comments: FOUND NO HANDWASHING SIGNAGE IN EMPLOYEE MEN AND WOMEN WASHROOM. MUST PROVIDE. | 10. ADEQUATE HANDWASHING SINKS PROPERLY SUPPLIED AND ACCESSIBLE - Comments: OBSERVED NO HANDWASHING CLEANSER AT HANDWASHING SINK LOCATED IN FRONT BAR AREA NEXT TO 3 COMPARTMENT SINK.  ALL HANDWASHING SINKS MUST BE EQUIPPED WITH HAND CLEANING LIQUID AT ALL TIMES. INSTRUCTED MANAGER TO PROVIDE. PRIORITY FOUNDATION VIOLATION. 7-38-030-(C). CITATION ISSUED. | 10. ADEQUATE HANDWASHING SINKS PROPERLY SUPPLIED AND ACCESSIBLE - Comments: OBSERVED NO HAND DRYING PROVISION AT HANDWASHING SINK LOCATED IN FRONT BAR AREA NEXT TO 3 COMPARTMENT SINK. ALL HANDWASHING SINKS MUST BE EQUIPPED WITH A HAND DRYING PROVISION AT ALL TIMES. INSTRUCTED MANAGER TO PROVIDE.CORRECTED ON SITE. PRIORITY FOUNDATION. 7-38-030(C). CITATION CONSOLIDATED WITH ABOVE VIOLATION. | 23. PROPER DATE MARKING AND DISPOSITION - Comments: OBSERVED READY-TO-EAT TIME/ TEMPERATURE CONTROL FOR SAFETY FOODS (TCS): COOKED NOODLES AND COOKED CHICKEN HELD FOR OVER 24 HOURS WITHOUT DISCARD DATE. INSTRUCTED FACILITY TO PROVIDE DISCARD DATE FOR ANY  READY-TO-EAT TCS FOODS HELD FOR OVER 24 HOURS. PRIORITY FOUNDATION. 7-38-005. NO CITATION ISSUED.  | 25. CONSUMER ADVISORY PROVIDED FOR RAW/UNDERCOOKED FOOD - Comments: OBSERVED RAW TUNA ON MENU. SAID ITEM IS SERVED RAW. INSTRUCTED FACILITY TO PROVIDE FOOTNOTE, DISCLOSURE AND REMINDER FOR MENU ITEMS THAT CAN BE ORDERED UNDER COOKED. PRIORITY FOUNDATION.7-38-005. NO CITATION ISSUED. | 39. CONTAMINATION PREVENTED DURING FOOD PREPARATION, STORAGE &amp; DISPLAY - Comments: OBSERVED, SHOWER CURTAIN HANGING BETWEEN DIRTY DISHES STAGING ARE AND FOOD PREPARATION AREA. MUST PROVIDE BARRIER BETWEEN FOOD PREPARATION AREA AND DIRTY DISHES STAGING AREA.  | 50. HOT &amp; COLD WATER AVAILABLE; ADEQUATE PRESSURE - Comments: FOUND NO HOT WATER ON SITE. HOT WATER GENERATION AND DISTRIBUTION SYSTEMS SHALL BE SUFFICIENT TO MEET THE PEAK HOT WATER DEMANDS THROUGHOUT THE RETAIL FOOD ESTABLISHMENT. PRIORITY VIOLATION. 7-38-030(C). CITATION ISSUED | 52. SEWAGE &amp; WASTE WATER PROPERLY DISPOSED - Comments: OBSERVED 2 INCHES OF WASTE WATER ON FLOOR OF DISHWASHING AREA. OBSERVED WASTE WATER BACKING UP FROM FLOOR DRAIN LOCATED IN THE MIDDLE OF DISH AREA. ALSO NOTICED WASTE WATER BACK UP FROM FLOOR DRAIN CONNECTED TO LOW TEMPERATURE DISH MACHINE.SEWAGE SHALL BE CONVEYED TO THE POINT OF DISPOSAL THROUGH AN APPROVED SANITARY SEWAGE SYSTEM OR OTHER SYSTEM, INCLUDING USE OF SEWAGE TRANSPORT VEHICLES, WASTE RETENTION TANKS, PUMPS, PIPES, HOSES, AND CONNECTIONS THAT ARE CONSTRUCTED, MAINTAINED, AND OPERATED ACCORDING TO LAW. PRIORITY VIOLATION. 7-38-030(C). CITATION ISSUED. | 55. PHYSICAL FACILITIES INSTALLED, MAINTAINED &amp; CLEAN - Comments: OBSERVED MISSING CEILING TILES IN THE FOLLOWING AREAS: LIQUOR STORAGE AND DRY STORAGE. MUST REPLACE.  OBSERVED STAINED CEILING TILES ABOVE DRY STORAGE AREA, MUST REPLACE.  | 55. PHYSICAL FACILITIES INSTALLED, MAINTAINED &amp; CLEAN - Comments: OBSERVED CAULKING ON TOP OF 3 COMPARTMENT SINK FILLED WITH BLACK MOLD LIKE SUBSTANCE. MUST CLEAN SANITIZE AND MAINTAIN.  | 56. ADEQUATE VENTILATION &amp; LIGHTING; DESIGNATED AREAS USED - Comments: OBSERVED MISSING LIGHT IN THE FOLLOWING AREAS: LIQUOR STORE CLOSET AND DRY STORAGE AREA. MUST REPLACE.</td>\n",
              "      <td>60605.0</td>\n",
              "    </tr>\n",
              "    <tr>\n",
              "      <th>21</th>\n",
              "      <td>SWEET SHOT COOKIES</td>\n",
              "      <td>3211 W ARMITAGE AVE</td>\n",
              "      <td>SWEET SHOT COOKIES</td>\n",
              "      <td>RESTAURANT</td>\n",
              "      <td>2019-12-03T00:00:00.000</td>\n",
              "      <td>2352595</td>\n",
              "      <td>LICENSE</td>\n",
              "      <td>41.917287</td>\n",
              "      <td>2688916.0</td>\n",
              "      <td>{'latitude': '-87.70745338783728', 'longitude': '41.917286920981006'}</td>\n",
              "      <td>-87.707453</td>\n",
              "      <td>LOGAN SQUARE</td>\n",
              "      <td>Pass</td>\n",
              "      <td>2</td>\n",
              "      <td>49. NON-FOOD/FOOD CONTACT SURFACES CLEAN - Comments: Violation Codes: 4-601.11(C) Inspector Comments: MUST CLEAN DEBRIS BUILD UP INSIDE OF REACH IN FREEZER. | 55. PHYSICAL FACILITIES INSTALLED, MAINTAINED &amp; CLEAN - Comments: Violation Codes: 6-201.13 Inspector Comments: MUST REPAIR OR REPLACE LOOSE AND MISSING WALL BASES NEAR FRONT DOOR AND REAR PREP/DISH WASHING AREA. | 55. PHYSICAL FACILITIES INSTALLED, MAINTAINED &amp; CLEAN - Comments: Violation Codes: 6-501.16 Inspector Comments: MUST PROVIDE A RACK TO HANG UP MOPS TO DRY. | 56. ADEQUATE VENTILATION &amp; LIGHTING; DESIGNATED AREAS USED - Comments: Violation Codes: 6-202.11 Inspector Comments: MUST REPLACE BURNT OUT LIGHTS IN PREP AREAS. | 57. ALL FOOD EMPLOYEES HAVE FOOD HANDLER TRAINING - Comments: Violation Codes: 2-102.13 Inspector Comments: OBSERVED NO FOOD HANDLERS TRAINING FOR EMPLOYEES.MUST PROVIDE AND MAINTAIN.</td>\n",
              "      <td>60647.0</td>\n",
              "    </tr>\n",
              "  </tbody>\n",
              "</table>\n",
              "</div>"
            ],
            "text/plain": [
              "                   AKA Name  ...      Zip\n",
              "1   CHILI'S (T1-B14)         ...  60666.0\n",
              "2   NaN                      ...  60618.0\n",
              "6   NAIBOA LATIN STORE       ...  60657.0\n",
              "7   JAMIESON PUBLIC SCHOOL   ...  60659.0\n",
              "9   BLUE LINE                ...  60622.0\n",
              "13  BRIGADOON                ...  60630.0\n",
              "14  HARRY CARAY'S SHORTSTOP  ...  60638.0\n",
              "17  SUBWAY                   ...  60661.0\n",
              "19  AMARIT RESTAURANT        ...  60605.0\n",
              "21  SWEET SHOT COOKIES       ...  60647.0\n",
              "\n",
              "[10 rows x 16 columns]"
            ]
          },
          "metadata": {
            "tags": []
          },
          "execution_count": 380
        }
      ]
    },
    {
      "cell_type": "code",
      "metadata": {
        "colab_type": "code",
        "id": "c17Vg__XqE5U",
        "colab": {}
      },
      "source": [
        "# Split the violations column entries to obtain only the violation type numbers\n",
        "violations_not_oob = set_diff_oob['Violations'].apply(lambda x: re.findall(r'^[0-9]+[.] | [|] [0-9]+[.] ', x))\n",
        "violations_not_oob = pd.DataFrame(violations_not_oob)\n",
        "violation_nums_not_oob = violations_not_oob['Violations'].apply(lambda x: [int(sub.replace('|','').split('.')[0]) for sub in x])"
      ],
      "execution_count": 0,
      "outputs": []
    },
    {
      "cell_type": "code",
      "metadata": {
        "colab_type": "code",
        "id": "8pJUR7fdxOjZ",
        "outputId": "81f70da0-dccc-4239-ffdb-48a701c6daaa",
        "colab": {
          "base_uri": "https://localhost:8080/",
          "height": 352
        }
      },
      "source": [
        "# Format the list into a proper dataframe\n",
        "violation_nums_not_oob = pd.DataFrame(violation_nums_not_oob)\n",
        "violation_nums_not_oob.reset_index(inplace=True)\n",
        "violation_nums_not_oob.drop(columns='index', inplace=True)\n",
        "violation_nums_not_oob.head(10)"
      ],
      "execution_count": 382,
      "outputs": [
        {
          "output_type": "execute_result",
          "data": {
            "text/html": [
              "<div>\n",
              "<style scoped>\n",
              "    .dataframe tbody tr th:only-of-type {\n",
              "        vertical-align: middle;\n",
              "    }\n",
              "\n",
              "    .dataframe tbody tr th {\n",
              "        vertical-align: top;\n",
              "    }\n",
              "\n",
              "    .dataframe thead th {\n",
              "        text-align: right;\n",
              "    }\n",
              "</style>\n",
              "<table border=\"1\" class=\"dataframe\">\n",
              "  <thead>\n",
              "    <tr style=\"text-align: right;\">\n",
              "      <th></th>\n",
              "      <th>Violations</th>\n",
              "    </tr>\n",
              "  </thead>\n",
              "  <tbody>\n",
              "    <tr>\n",
              "      <th>0</th>\n",
              "      <td>[10, 47, 49, 55, 55]</td>\n",
              "    </tr>\n",
              "    <tr>\n",
              "      <th>1</th>\n",
              "      <td>[3, 5, 16, 51, 53, 58]</td>\n",
              "    </tr>\n",
              "    <tr>\n",
              "      <th>2</th>\n",
              "      <td>[5, 36, 51, 53]</td>\n",
              "    </tr>\n",
              "    <tr>\n",
              "      <th>3</th>\n",
              "      <td>[49, 55, 56]</td>\n",
              "    </tr>\n",
              "    <tr>\n",
              "      <th>4</th>\n",
              "      <td>[25]</td>\n",
              "    </tr>\n",
              "    <tr>\n",
              "      <th>5</th>\n",
              "      <td>[3, 5, 10, 49, 51, 53, 55, 55]</td>\n",
              "    </tr>\n",
              "    <tr>\n",
              "      <th>6</th>\n",
              "      <td>[45, 55]</td>\n",
              "    </tr>\n",
              "    <tr>\n",
              "      <th>7</th>\n",
              "      <td>[3, 5, 57]</td>\n",
              "    </tr>\n",
              "    <tr>\n",
              "      <th>8</th>\n",
              "      <td>[10, 10, 10, 23, 25, 39, 50, 52, 55, 55, 56]</td>\n",
              "    </tr>\n",
              "    <tr>\n",
              "      <th>9</th>\n",
              "      <td>[49, 55, 55, 56, 57]</td>\n",
              "    </tr>\n",
              "  </tbody>\n",
              "</table>\n",
              "</div>"
            ],
            "text/plain": [
              "                                     Violations\n",
              "0  [10, 47, 49, 55, 55]                        \n",
              "1  [3, 5, 16, 51, 53, 58]                      \n",
              "2  [5, 36, 51, 53]                             \n",
              "3  [49, 55, 56]                                \n",
              "4  [25]                                        \n",
              "5  [3, 5, 10, 49, 51, 53, 55, 55]              \n",
              "6  [45, 55]                                    \n",
              "7  [3, 5, 57]                                  \n",
              "8  [10, 10, 10, 23, 25, 39, 50, 52, 55, 55, 56]\n",
              "9  [49, 55, 55, 56, 57]                        "
            ]
          },
          "metadata": {
            "tags": []
          },
          "execution_count": 382
        }
      ]
    },
    {
      "cell_type": "code",
      "metadata": {
        "colab_type": "code",
        "id": "skm89c9LxbHD",
        "colab": {}
      },
      "source": [
        "# Store the count of each type of violation in not OOB facilities in a dictionary\n",
        "vio_freq_not_oob = {}\n",
        "for i in violation_nums_not_oob['Violations']:\n",
        "  for j in i:\n",
        "    vio_freq_not_oob[str(j)] = 1 if str(j) not in vio_freq_not_oob else vio_freq_not_oob[str(j)]+1"
      ],
      "execution_count": 0,
      "outputs": []
    },
    {
      "cell_type": "code",
      "metadata": {
        "colab_type": "code",
        "id": "UeJ6lWmlzuuM",
        "colab": {}
      },
      "source": [
        "# Sort the violation types in terms of their frequencies\n",
        "sorted_vio_freq_not_oob = {}\n",
        "\n",
        "for key in sorted(vio_freq_not_oob, key=vio_freq_not_oob.__getitem__, reverse=True):\n",
        "  sorted_vio_freq_not_oob[key] = vio_freq_not_oob[key]"
      ],
      "execution_count": 0,
      "outputs": []
    },
    {
      "cell_type": "code",
      "metadata": {
        "colab_type": "code",
        "id": "VQo1P1buxm2r",
        "outputId": "d29efd6a-f4d8-42f3-9cfa-14348e34d36b",
        "colab": {
          "base_uri": "https://localhost:8080/",
          "height": 295
        }
      },
      "source": [
        "# Display the violation type distribution in descending order of frequency\n",
        "plt.figure(figsize=(17,4))\n",
        "plt.bar(list(sorted_vio_freq_not_oob.keys()), sorted_vio_freq_not_oob.values())\n",
        "plt.title('Violation Types vs. Their Frequencies in Facilities that have not Gone Out of Business')\n",
        "plt.xlabel('Violation Types')\n",
        "plt.ylabel('Frequency')\n",
        "plt.show()"
      ],
      "execution_count": 385,
      "outputs": [
        {
          "output_type": "display_data",
          "data": {
            "image/png": "[encoded data removed]",
            "text/plain": [
              "<Figure size 1224x288 with 1 Axes>"
            ]
          },
          "metadata": {
            "tags": []
          }
        }
      ]
    },
    {
      "cell_type": "code",
      "metadata": {
        "colab_type": "code",
        "id": "DGwn_xr2yHRD",
        "outputId": "fc78f06a-0672-4353-8a2d-c71245a0ee27",
        "colab": {
          "base_uri": "https://localhost:8080/",
          "height": 284
        }
      },
      "source": [
        "most_freq_vio_not_oob = [key for key, value in list(sorted_vio_freq_not_oob.items())[0:15]]\n",
        "most_freq_vio_not_oob # top 10 most frequent violation types among facilities that went out of business"
      ],
      "execution_count": 386,
      "outputs": [
        {
          "output_type": "execute_result",
          "data": {
            "text/plain": [
              "['34',\n",
              " '35',\n",
              " '33',\n",
              " '38',\n",
              " '32',\n",
              " '41',\n",
              " '36',\n",
              " '55',\n",
              " '3',\n",
              " '5',\n",
              " '30',\n",
              " '18',\n",
              " '40',\n",
              " '37',\n",
              " '47']"
            ]
          },
          "metadata": {
            "tags": []
          },
          "execution_count": 386
        }
      ]
    },
    {
      "cell_type": "code",
      "metadata": {
        "colab_type": "code",
        "id": "sUTUHZBUyZLe",
        "colab": {}
      },
      "source": [
        "merged_oob.dropna(subset=['Violations'], inplace=True) # the inspections that have violations (out of business facilities)"
      ],
      "execution_count": 0,
      "outputs": []
    },
    {
      "cell_type": "markdown",
      "metadata": {
        "colab_type": "text",
        "id": "A85HB-qx1Lg4"
      },
      "source": [
        "Our aim was to detect any violation type that could result into the facilities going out of business. From our data analysis, we found that most violation types are common between those that went out of business and those that have not. Only Violation Types 21, 31, and 43 are more prevalent in facilities that have gone out of business, but are not so prevalent in those that have not gone out of business."
      ]
    },
    {
      "cell_type": "markdown",
      "metadata": {
        "colab_type": "text",
        "id": "VUSui_GqgDLt"
      },
      "source": [
        "### **Distribution of number of violations committed in each inspection (in facilities that went out of business)**"
      ]
    },
    {
      "cell_type": "code",
      "metadata": {
        "colab_type": "code",
        "id": "acuT4Yk6eHFi",
        "colab": {}
      },
      "source": [
        "num_vio_oob = []\n",
        "for i in violation_nums_oob['Violations']:\n",
        "  num_vio_oob.append(len(i))"
      ],
      "execution_count": 0,
      "outputs": []
    },
    {
      "cell_type": "code",
      "metadata": {
        "colab_type": "code",
        "id": "cbqgYw6meZ8d",
        "colab": {}
      },
      "source": [
        "plt.hist(num_vio_oob, bins=15)\n",
        "plt.title('Distribution of number of violations committed in each inspection (in oob facilities)')\n",
        "plt.xlabel('Number of violations committed in an inspection')\n",
        "plt.ylabel('Inspection counts')\n",
        "plt.show()"
      ],
      "execution_count": 0,
      "outputs": []
    },
    {
      "cell_type": "code",
      "metadata": {
        "colab_type": "code",
        "id": "cWO95lsMgrDG",
        "colab": {}
      },
      "source": [
        "print('Average number of violations committed in each inspection (OOB): ' + str(np.mean(num_vio_oob)))\n",
        "print('Median number of violations committed in each inspection (OOB): ' + str(np.median(num_vio_oob)))"
      ],
      "execution_count": 0,
      "outputs": []
    },
    {
      "cell_type": "markdown",
      "metadata": {
        "colab_type": "text",
        "id": "J5TRf7RQgIF_"
      },
      "source": [
        "### **Distribution of number of violations committed in each inspection (in facilities that did NOT go out of business)**"
      ]
    },
    {
      "cell_type": "code",
      "metadata": {
        "colab_type": "code",
        "id": "0ZW2Yw_ygLH0",
        "colab": {}
      },
      "source": [
        "num_vio_not_oob = []\n",
        "for i in violation_nums_not_oob['Violations']:\n",
        "  num_vio_not_oob.append(len(i))"
      ],
      "execution_count": 0,
      "outputs": []
    },
    {
      "cell_type": "code",
      "metadata": {
        "colab_type": "code",
        "id": "th11K_GdgbEz",
        "colab": {}
      },
      "source": [
        "plt.hist(num_vio_not_oob, bins=15)\n",
        "plt.title('Distribution of number of violations committed in each inspection (in NOT oob facilities)')\n",
        "plt.xlabel('Number of violations in committed in an inspection')\n",
        "plt.ylabel('Inspection counts')\n",
        "plt.show()"
      ],
      "execution_count": 0,
      "outputs": []
    },
    {
      "cell_type": "code",
      "metadata": {
        "colab_type": "code",
        "id": "hn4hEM26hJEy",
        "colab": {}
      },
      "source": [
        "print('Average number of violations committed in each inspection (not OOB): ' + str(np.mean(num_vio_not_oob)))\n",
        "print('Median number of violations committed in each inspection (not OOB): ' + str(np.median(num_vio_not_oob)))"
      ],
      "execution_count": 0,
      "outputs": []
    },
    {
      "cell_type": "markdown",
      "metadata": {
        "colab_type": "text",
        "id": "niCNNQTlRFP6"
      },
      "source": [
        "We observe that the average number of violations committed in each inspection in facilities that went out of business is slightly higher than those that have not gone out of business. "
      ]
    },
    {
      "cell_type": "markdown",
      "metadata": {
        "colab_type": "text",
        "id": "kmhCqOVkZ8sm"
      },
      "source": [
        "### **Distribution of total number of violations facilities commit before going out of business**"
      ]
    },
    {
      "cell_type": "code",
      "metadata": {
        "colab_type": "code",
        "id": "9ydm8x90uYAN",
        "colab": {}
      },
      "source": [
        "dup_oob['Violations'].update(violation_nums_oob['Violations'])\n",
        "dup_oob['Number of Violations'] = dup_oob.Violations.apply(lambda x: len(x)) # create num of violations column\n",
        "dup_oob.head(10)"
      ],
      "execution_count": 0,
      "outputs": []
    },
    {
      "cell_type": "code",
      "metadata": {
        "colab_type": "code",
        "id": "kOaU_o1mw9Md",
        "colab": {}
      },
      "source": [
        "sum_vios = dup_oob.groupby(['DBA Name', 'Latitude', 'Longitude'])['Number of Violations'].sum()\n",
        "sum_vios.hist(bins=20)\n",
        "plt.title('Distribution of total number of violations committed before going out of business')\n",
        "plt.xlabel('Total number of committed violations')\n",
        "plt.ylabel('Facility counts')\n",
        "plt.show()"
      ],
      "execution_count": 0,
      "outputs": []
    },
    {
      "cell_type": "markdown",
      "metadata": {
        "colab_type": "text",
        "id": "yUp4yFCridfP"
      },
      "source": [
        "### **Average risk of oob facilities vs. Average risk of NOT oob facilities**"
      ]
    },
    {
      "cell_type": "code",
      "metadata": {
        "colab_type": "code",
        "id": "7DQyhN35OTq4",
        "colab": {}
      },
      "source": [
        "# Average risk of out of business facilities\n",
        "merged_oob['Risk'].mean()"
      ],
      "execution_count": 0,
      "outputs": []
    },
    {
      "cell_type": "code",
      "metadata": {
        "colab_type": "code",
        "id": "rLHrymqvPiOL",
        "colab": {}
      },
      "source": [
        "# Average risk of NOT out of business facilities\n",
        "set_diff_oob['Risk'].mean()  "
      ],
      "execution_count": 0,
      "outputs": []
    },
    {
      "cell_type": "markdown",
      "metadata": {
        "colab_type": "text",
        "id": "VJTbQvLBzwrb"
      },
      "source": [
        "### **Region vs. Risk Score**"
      ]
    },
    {
      "cell_type": "code",
      "metadata": {
        "colab_type": "code",
        "id": "SiY10BMDzsMU",
        "colab": {}
      },
      "source": [
        "df_region = df.groupby('Regions')['Risk'].mean()\n",
        "df_region.to_frame().nsmallest(10, 'Risk')"
      ],
      "execution_count": 0,
      "outputs": []
    },
    {
      "cell_type": "code",
      "metadata": {
        "colab_type": "code",
        "id": "NjkKpcol7KBJ",
        "colab": {}
      },
      "source": [
        "df_region.to_frame().nlargest(10, 'Risk')"
      ],
      "execution_count": 0,
      "outputs": []
    },
    {
      "cell_type": "code",
      "metadata": {
        "colab_type": "code",
        "id": "D6xCi0qq5Rpp",
        "colab": {}
      },
      "source": [
        "# TODO: combine this with the percentage(?) of OOB, average # violations, and then rank\n",
        "# TODO: run knn (or any unsupervised classification) algorithm to cluster neighborhoods, see if it clustered into meaningful clusters"
      ],
      "execution_count": 0,
      "outputs": []
    },
    {
      "cell_type": "code",
      "metadata": {
        "colab_type": "code",
        "id": "2lslGz5g64W9",
        "colab": {}
      },
      "source": [
        "df_region_fac = df.groupby(['Regions', 'Facility Type'])['Risk'].mean()"
      ],
      "execution_count": 0,
      "outputs": []
    },
    {
      "cell_type": "markdown",
      "metadata": {
        "colab_type": "text",
        "id": "vaZDHSVonzLc"
      },
      "source": [
        "### **Violation Type Numbers and Their Description**"
      ]
    },
    {
      "cell_type": "markdown",
      "metadata": {
        "colab_type": "text",
        "id": "KthKdSltpPKt"
      },
      "source": [
        "Violations numbered 1-44 and 70.\n",
        "\n",
        "Violation #1-14: critical\n",
        "\n",
        "Violation #15-29: serious "
      ]
    },
    {
      "cell_type": "code",
      "metadata": {
        "colab_type": "code",
        "id": "xmklb8hryjwQ",
        "colab": {}
      },
      "source": [
        "df_nan_removed_vio = df.dropna(subset=['Violations'])\n",
        "dict_vio = {}\n",
        "\n",
        "for j in df_nan_removed_vio['Violations']:\n",
        "  vio_list = j.split(\" | \")\n",
        "  for i in vio_list:\n",
        "    result = i[i.find(\"[0-9]+[. ]\")+1 : i.find(\" - Comments\")]\n",
        "    vio_pair = result.split(\".\")\n",
        "    if(vio_pair[0] not in dict_vio):\n",
        "      dict_vio[vio_pair[0]] = vio_pair[1]\n",
        "\n",
        "print(len(dict_vio)) \n",
        "\n",
        "dict_vio_sorted = {int(k):v for k,v in dict_vio.items()}\n",
        "print(sorted(dict_vio_sorted))\n",
        "\n",
        "pd.set_option('display.max_colwidth', -1) #to display the whole descriptions\n",
        "vio_descr = pd.DataFrame(list(dict_vio_sorted.items())).rename(columns={0:'Violation Number', 1:'Description'}).sort_values(by=['Violation Number']).set_index('Violation Number')\n",
        "vio_descr.head(50)"
      ],
      "execution_count": 0,
      "outputs": []
    },
    {
      "cell_type": "code",
      "metadata": {
        "id": "JsAw7jFI5APG",
        "colab_type": "code",
        "colab": {}
      },
      "source": [
        "print(len(vio_descr))"
      ],
      "execution_count": 0,
      "outputs": []
    },
    {
      "cell_type": "code",
      "metadata": {
        "colab_type": "code",
        "id": "kpmlfr4yEMPs",
        "colab": {}
      },
      "source": [
        "merged_oob # facilities that have gone oob\n",
        "set_diff_oob # facilities that haven't gone oob\n",
        "critical_vios = list(range(15))\n",
        "serious_vios = list(range(15, 30))"
      ],
      "execution_count": 0,
      "outputs": []
    },
    {
      "cell_type": "code",
      "metadata": {
        "colab_type": "code",
        "id": "8J6NvSj9HCIM",
        "colab": {}
      },
      "source": [
        "merged_oob.dropna(subset=['Violations'], inplace=True)\n",
        "merged_oob['Violations'] = merged_oob['Violations'].apply(lambda x: re.findall(r'^[0-9]+[.] | [|] [0-9]+[.] ', x))\n",
        "merged_oob['Violations'] = merged_oob['Violations'].apply(lambda x: [int(sub.replace('|','').split('.')[0]) for sub in x])\n",
        "merged_oob['Violations'] = merged_oob['Violations'].apply(lambda x: [x for x in x if x in critical_vios + serious_vios])"
      ],
      "execution_count": 0,
      "outputs": []
    },
    {
      "cell_type": "code",
      "metadata": {
        "id": "O3paoB3LaJHl",
        "colab_type": "code",
        "colab": {}
      },
      "source": [
        "vio_crit_serious_oob = pd.DataFrame(merged_oob)\n",
        "vio_crit_serious_oob.reset_index(inplace=True)\n",
        "vio_crit_serious_oob.drop(columns='index', inplace=True)\n",
        "\n",
        "vio_freq_crit_serious_oob = {}\n",
        "for i in vio_crit_serious_oob['Violations']:\n",
        "  for j in i:\n",
        "    vio_freq_crit_serious_oob[str(j)] = 1 if str(j) not in vio_freq_crit_serious_oob else vio_freq_crit_serious_oob[str(j)]+1\n",
        "\n",
        "sorted_vio_freq_crit_serious_oob = {}\n",
        "\n",
        "for key in sorted(vio_freq_crit_serious_oob, key=vio_freq_crit_serious_oob.__getitem__, reverse=True):\n",
        "  sorted_vio_freq_crit_serious_oob[key] = vio_freq_crit_serious_oob[key]\n",
        "\n",
        "num_oob_inspections = len(merged_oob)\n",
        "num_oob_inspections"
      ],
      "execution_count": 0,
      "outputs": []
    },
    {
      "cell_type": "code",
      "metadata": {
        "colab_type": "code",
        "id": "cXkvlp_sH6Mk",
        "colab": {}
      },
      "source": [
        "set_diff_oob.dropna(subset=['Violations'], inplace=True)\n",
        "set_diff_oob['Violations'] = set_diff_oob['Violations'].apply(lambda x: re.findall(r'^[0-9]+[.] | [|] [0-9]+[.] ', x))\n",
        "set_diff_oob['Violations'] = set_diff_oob['Violations'].apply(lambda x: [int(sub.replace('|','').split('.')[0]) for sub in x])\n",
        "set_diff_oob['Violations'] = set_diff_oob['Violations'].apply(lambda x: list(set([x for x in x if x in critical_vios + serious_vios])))"
      ],
      "execution_count": 0,
      "outputs": []
    },
    {
      "cell_type": "code",
      "metadata": {
        "id": "18IUqMNPbtzC",
        "colab_type": "code",
        "colab": {}
      },
      "source": [
        "vio_crit_serious_not_oob = pd.DataFrame(set_diff_oob)\n",
        "vio_crit_serious_not_oob.reset_index(inplace=True)\n",
        "vio_crit_serious_not_oob.drop(columns='index', inplace=True)\n",
        "\n",
        "vio_freq_crit_serious_not_oob = {}\n",
        "for i in vio_crit_serious_not_oob['Violations']:\n",
        "  for j in i:\n",
        "    vio_freq_crit_serious_not_oob[str(j)] = 1 if str(j) not in vio_freq_crit_serious_not_oob else vio_freq_crit_serious_not_oob[str(j)]+1\n",
        "\n",
        "sorted_vio_freq_crit_serious_not_oob = {}\n",
        "\n",
        "for key in sorted(vio_freq_crit_serious_not_oob, key=vio_freq_crit_serious_not_oob.__getitem__, reverse=True):\n",
        "  sorted_vio_freq_crit_serious_not_oob[key] = vio_freq_crit_serious_not_oob[key]\n",
        "\n",
        "num_not_oob_inspections = len(set_diff_oob)\n",
        "num_not_oob_inspections"
      ],
      "execution_count": 0,
      "outputs": []
    },
    {
      "cell_type": "code",
      "metadata": {
        "id": "_xf6UDCLPpKq",
        "colab_type": "code",
        "colab": {}
      },
      "source": [
        "ratio_crit_serious_oob = {k: v / num_oob_inspections for k, v in sorted_vio_freq_crit_serious_oob.items()}\n",
        "ratio_crit_serious_not_oob = {k: v / num_not_oob_inspections for k, v in sorted_vio_freq_crit_serious_not_oob.items()}"
      ],
      "execution_count": 0,
      "outputs": []
    },
    {
      "cell_type": "code",
      "metadata": {
        "id": "23Ncl4ctcT8r",
        "colab_type": "code",
        "colab": {}
      },
      "source": [
        "plt.figure(figsize=(10,4))\n",
        "Facilities=['Not OOB','OOB']\n",
        "plt.bar(list(ratio_crit_serious_not_oob.keys()), ratio_crit_serious_not_oob.values(),color='mediumorchid',edgecolor='black')\n",
        "plt.bar(list(ratio_crit_serious_oob.keys()), ratio_crit_serious_oob.values(),color='lightseagreen',edgecolor='black')\n",
        "plt.title('Ratios of committed critical and serious violations')\n",
        "plt.xlabel('Violation Types')\n",
        "plt.ylabel('Ratio (out of all inspections)')\n",
        "plt.legend(Facilities,loc=1)\n",
        "plt.show()"
      ],
      "execution_count": 0,
      "outputs": []
    },
    {
      "cell_type": "code",
      "metadata": {
        "id": "i2ovm59vjeen",
        "colab_type": "code",
        "colab": {}
      },
      "source": [
        "X = ratio_crit_serious_oob.keys()\n",
        "Y = ratio_crit_serious_oob.values()\n",
        "Z = ratio_crit_serious_not_oob.values()\n",
        "plt.figure(figsize=(18,6))\n",
        "\n",
        "def subcategorybar(X, vals, width=0.8):\n",
        "    n = len(vals)\n",
        "    _X = np.arange(len(X))\n",
        "    for i in range(n):\n",
        "        plt.bar(_X - width/2. + i/float(n)*width, vals[i], \n",
        "                width=width/float(n), align=\"edge\")   \n",
        "    plt.xticks(_X, X)\n",
        "\n",
        "Facilities=['OOB','Not OOB']\n",
        "subcategorybar(X, [Y,Z])\n",
        "plt.title('Ratios of committed critical and serious violations',fontsize=24)\n",
        "plt.xlabel('Violation Types',fontsize=20)\n",
        "plt.xticks(fontsize=20)\n",
        "plt.ylabel('Ratio (out of all inspections)',fontsize=20)\n",
        "plt.yticks(fontsize=20)\n",
        "plt.legend(Facilities,loc=1,fontsize=20)\n",
        "plt.show()"
      ],
      "execution_count": 0,
      "outputs": []
    },
    {
      "cell_type": "code",
      "metadata": {
        "id": "ZkVdbwNV5rFt",
        "colab_type": "code",
        "colab": {}
      },
      "source": [
        "most_freq_crit_serious_oob_15 = [key for key, value in list(sorted_vio_freq_crit_serious_oob.items())[0:15]]\n",
        "most_freq_crit_serious_oob_10 = [key for key, value in list(sorted_vio_freq_crit_serious_oob.items())[0:10]]\n",
        "most_freq_crit_serious_oob_5 = [key for key, value in list(sorted_vio_freq_crit_serious_oob.items())[0:5]]\n",
        "# top 10 and 5 most frequent violation types among facilities that went out of business"
      ],
      "execution_count": 0,
      "outputs": []
    },
    {
      "cell_type": "code",
      "metadata": {
        "id": "eqQZdBLpC3jV",
        "colab_type": "code",
        "colab": {}
      },
      "source": [
        "most_freq_crit_serious_not_oob_15 = [key for key, value in list(sorted_vio_freq_crit_serious_not_oob.items())[0:15]]\n",
        "most_freq_crit_serious_not_oob_10 = [key for key, value in list(sorted_vio_freq_crit_serious_not_oob.items())[0:10]]\n",
        "most_freq_crit_serious_not_oob_5 = [key for key, value in list(sorted_vio_freq_crit_serious_not_oob.items())[0:5]]\n",
        "# top 15, 10 and 5 most frequent violation types among facilities that didn't go out of business"
      ],
      "execution_count": 0,
      "outputs": []
    },
    {
      "cell_type": "code",
      "metadata": {
        "id": "QUDgbft-DPFt",
        "colab_type": "code",
        "colab": {}
      },
      "source": [
        "# The difference of top 5 most frequent critical and serious violation types between oob and not oob facilities\n",
        "crit_serious_diff_5 = list(set(most_freq_crit_serious_oob_5) - set(most_freq_crit_serious_not_oob_5))\n",
        "crit_serious_diff_5"
      ],
      "execution_count": 0,
      "outputs": []
    },
    {
      "cell_type": "markdown",
      "metadata": {
        "id": "R6R0KLg5E0tW",
        "colab_type": "text"
      },
      "source": [
        "Violation number 29 might be an important factor in making facilities go out of business. So we check its description: \n",
        "\n",
        "29 - COMPLIANCE WITH VARIANCE/SPECIALIZED PROCESS/HACCP."
      ]
    },
    {
      "cell_type": "code",
      "metadata": {
        "id": "NyY07ejzDAjx",
        "colab_type": "code",
        "colab": {}
      },
      "source": [
        "# The difference of top 10 most frequent critical and serious violation types between oob and not oob facilities\n",
        "crit_serious_diff_10 = list(set(most_freq_crit_serious_oob_10) - set(most_freq_crit_serious_not_oob_10))\n",
        "crit_serious_diff_10"
      ],
      "execution_count": 0,
      "outputs": []
    },
    {
      "cell_type": "markdown",
      "metadata": {
        "id": "c37saoJdGNNg",
        "colab_type": "text"
      },
      "source": [
        "Violation number 24, 11, and 19 might be important factors in making facilities go out of business. So we check their descriptions: \n",
        "\n",
        "24 - TIME AS A PUBLIC HEALTH CONTROL; PROCEDURES & RECORDS\n",
        "\n",
        "11 - FOOD OBTAINED FROM APPROVED SOURCE\n",
        "\n",
        "19 - PROPER REHEATING PROCEDURES FOR HOT HOLDING"
      ]
    },
    {
      "cell_type": "code",
      "metadata": {
        "id": "bKsBg2ekD4V9",
        "colab_type": "code",
        "colab": {}
      },
      "source": [
        "# The difference of top 15 most frequent critical and serious violation types between oob and not oob facilities\n",
        "crit_serious_diff_15 = list(set(most_freq_crit_serious_oob_15) - set(most_freq_crit_serious_not_oob_15))\n",
        "crit_serious_diff_15"
      ],
      "execution_count": 0,
      "outputs": []
    },
    {
      "cell_type": "code",
      "metadata": {
        "colab_type": "code",
        "id": "P0jg4KAJOgvp",
        "colab": {}
      },
      "source": [
        "vio_freq_all = {}\n",
        "for i in violation_nums_oob['Violations']:\n",
        "  for j in i:\n",
        "    vio_freq_oob[str(j)] = 1 if str(j) not in vio_freq_oob else vio_freq_oob[str(j)]+1"
      ],
      "execution_count": 0,
      "outputs": []
    }
  ]
}