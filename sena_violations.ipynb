{
  "nbformat": 4,
  "nbformat_minor": 0,
  "metadata": {
    "accelerator": "GPU",
    "colab": {
      "name": "sena_violations.ipynb",
      "provenance": [],
      "collapsed_sections": [
        "eVZEtg_iXrnc",
        "CKLyGPdMYipy",
        "rvahQqzeYxPm",
        "70YWgfyOY98g",
        "jRnO5vZlnNtd",
        "TcYiy6JonijB",
        "Fi_AiSyn5Qkm",
        "_n637CHg_9jG",
        "PZh_kj61J8BC",
        "kCcCYtxFXmlu"
      ],
      "include_colab_link": true
    },
    "kernelspec": {
      "display_name": "Python [conda env:py36] *",
      "language": "python",
      "name": "conda-env-py36-py"
    },
    "language_info": {
      "codemirror_mode": {
        "name": "ipython",
        "version": 3
      },
      "file_extension": ".py",
      "mimetype": "text/x-python",
      "name": "python",
      "nbconvert_exporter": "python",
      "pygments_lexer": "ipython3",
      "version": "3.6.9"
    }
  },
  "cells": [
    {
      "cell_type": "markdown",
      "metadata": {
        "id": "view-in-github",
        "colab_type": "text"
      },
      "source": [
        "<a href=\"https://colab.research.google.com/github/RubinDaija/epfl-ada-2019-project/blob/master/sena_violations.ipynb\" target=\"_parent\"><img src=\"https://colab.research.google.com/assets/colab-badge.svg\" alt=\"Open In Colab\"/></a>"
      ]
    },
    {
      "cell_type": "markdown",
      "metadata": {
        "colab_type": "text",
        "id": "-Tvl9ABtLcXB"
      },
      "source": [
        "# **Necessary Imports**"
      ]
    },
    {
      "cell_type": "code",
      "metadata": {
        "colab_type": "code",
        "id": "y8CsC8G1r9hy",
        "colab": {}
      },
      "source": [
        "%matplotlib inline\n",
        "import pandas as pd\n",
        "import numpy as np\n",
        "import re\n",
        "from matplotlib.ticker import MaxNLocator\n",
        "import matplotlib.pyplot as plt\n",
        "from scipy import stats\n",
        "from folium.plugins import MarkerCluster\n",
        "import warnings\n",
        "import folium\n",
        "import zipfile"
      ],
      "execution_count": 0,
      "outputs": []
    },
    {
      "cell_type": "code",
      "metadata": {
        "id": "raxd7zI0V87t",
        "colab_type": "code",
        "colab": {
          "base_uri": "https://localhost:8080/",
          "height": 126
        },
        "outputId": "7de3317b-c793-4434-bceb-fb017ba4d495"
      },
      "source": [
        "#-- Uncomment this if using Google Colab / Comment this if using Jupyter Lab --#\n",
        "\n",
        "from google.colab import drive\n",
        "drive.mount('/content/drive')\n",
        "\n",
        "df = pd.read_csv('/content/drive/My Drive/Project_2/food-inspections.csv')"
      ],
      "execution_count": 2,
      "outputs": [
        {
          "output_type": "stream",
          "text": [
            "Go to this URL in a browser: https://accounts.google.com/o/oauth2/auth?client_id=947318989803-6bn6qk8qdgf4n4g3pfee6491hc0brc4i.apps.googleusercontent.com&redirect_uri=urn%3aietf%3awg%3aoauth%3a2.0%3aoob&response_type=code&scope=email%20https%3a%2f%2fwww.googleapis.com%2fauth%2fdocs.test%20https%3a%2f%2fwww.googleapis.com%2fauth%2fdrive%20https%3a%2f%2fwww.googleapis.com%2fauth%2fdrive.photos.readonly%20https%3a%2f%2fwww.googleapis.com%2fauth%2fpeopleapi.readonly\n",
            "\n",
            "Enter your authorization code:\n",
            "··········\n",
            "Mounted at /content/drive\n"
          ],
          "name": "stdout"
        }
      ]
    },
    {
      "cell_type": "code",
      "metadata": {
        "colab_type": "code",
        "id": "W-StO1Nyr9h5",
        "outputId": "094ad7c7-15cd-42e1-9d9e-61342033759c",
        "colab": {
          "base_uri": "https://localhost:8080/",
          "height": 35
        }
      },
      "source": [
        "#-- Uncomment this if using Jupyter Lab / Comment this if using Google Colab --#\n",
        "'''\n",
        "zf = zipfile.ZipFile('chicago_dropped.zip')\n",
        "df = pd.read_csv(zf.open('chicago_dropped/food_inspections.csv'))\n",
        "'''"
      ],
      "execution_count": 3,
      "outputs": [
        {
          "output_type": "execute_result",
          "data": {
            "text/plain": [
              "\"\\nzf = zipfile.ZipFile('chicago_dropped.zip')\\ndf = pd.read_csv(zf.open('chicago_dropped/food_inspections.csv'))\\n\""
            ]
          },
          "metadata": {
            "tags": []
          },
          "execution_count": 3
        }
      ]
    },
    {
      "cell_type": "markdown",
      "metadata": {
        "colab_type": "text",
        "id": "N_D_0xcgOQgx"
      },
      "source": [
        "# **Data Analysis**"
      ]
    },
    {
      "cell_type": "code",
      "metadata": {
        "colab_type": "code",
        "id": "Lclasy7Cx3Lg",
        "colab": {}
      },
      "source": [
        "# Plots a histogram with given parameters, i.e. dataframe, number of bins, title, xlabel, and ylabel\n",
        "def plot_hist(df, bins, title, xlabel, ylabel):\n",
        "  hist = df.hist(bins=bins)\n",
        "  hist.set_title(title)\n",
        "  hist.set_xlabel(xlabel)\n",
        "  hist.set_ylabel(ylabel)  \n",
        "  hist.figure"
      ],
      "execution_count": 0,
      "outputs": []
    },
    {
      "cell_type": "markdown",
      "metadata": {
        "colab_type": "text",
        "id": "p8evugJae-ZT"
      },
      "source": [
        "### **Number of Unique Facilities**"
      ]
    },
    {
      "cell_type": "code",
      "metadata": {
        "colab_type": "code",
        "id": "beW4DumFfDkS",
        "outputId": "4082b4fd-59f2-44cd-d031-31469d838cee",
        "colab": {
          "base_uri": "https://localhost:8080/",
          "height": 35
        }
      },
      "source": [
        "df_unique = df.groupby(['Latitude','Longitude','DBA Name']).count()\n",
        "print(\"Number of unique facilities: \" + str(df_unique.shape[0]))"
      ],
      "execution_count": 5,
      "outputs": [
        {
          "output_type": "stream",
          "text": [
            "Number of unique facilities: 27068\n"
          ],
          "name": "stdout"
        }
      ]
    },
    {
      "cell_type": "markdown",
      "metadata": {
        "colab_type": "text",
        "id": "Z8_DWQ9xr9iW"
      },
      "source": [
        "### **Facility Type vs. Average Risk**\n"
      ]
    },
    {
      "cell_type": "markdown",
      "metadata": {
        "colab_type": "text",
        "id": "2NYPWCi6PEV0"
      },
      "source": [
        "We analyzed the relationship between the type of facility and the average risk of that facility over all inspections:"
      ]
    },
    {
      "cell_type": "code",
      "metadata": {
        "colab_type": "code",
        "id": "rj-CxjLpr9iR",
        "colab": {}
      },
      "source": [
        "# Aggregate data over Facility Type\n",
        "grouped_fac = df.groupby('Facility Type')"
      ],
      "execution_count": 0,
      "outputs": []
    },
    {
      "cell_type": "code",
      "metadata": {
        "colab_type": "code",
        "id": "9EsVpnqxr9iT",
        "outputId": "54262233-692c-4514-8a8d-08a83d47f0c3",
        "colab": {
          "base_uri": "https://localhost:8080/",
          "height": 200
        }
      },
      "source": [
        "# Compute average risk of each type of facility\n",
        "grouped_fac_risk_mean = pd.DataFrame(grouped_fac['Risk'].mean()).reset_index()\n",
        "grouped_fac_risk_mean.head()"
      ],
      "execution_count": 7,
      "outputs": [
        {
          "output_type": "execute_result",
          "data": {
            "text/html": [
              "<div>\n",
              "<style scoped>\n",
              "    .dataframe tbody tr th:only-of-type {\n",
              "        vertical-align: middle;\n",
              "    }\n",
              "\n",
              "    .dataframe tbody tr th {\n",
              "        vertical-align: top;\n",
              "    }\n",
              "\n",
              "    .dataframe thead th {\n",
              "        text-align: right;\n",
              "    }\n",
              "</style>\n",
              "<table border=\"1\" class=\"dataframe\">\n",
              "  <thead>\n",
              "    <tr style=\"text-align: right;\">\n",
              "      <th></th>\n",
              "      <th>Facility Type</th>\n",
              "      <th>Risk</th>\n",
              "    </tr>\n",
              "  </thead>\n",
              "  <tbody>\n",
              "    <tr>\n",
              "      <th>0</th>\n",
              "      <td>ADULT FAMILY CARE CENTER</td>\n",
              "      <td>1.00000</td>\n",
              "    </tr>\n",
              "    <tr>\n",
              "      <th>1</th>\n",
              "      <td>AIRPORT LOUNGE</td>\n",
              "      <td>1.50000</td>\n",
              "    </tr>\n",
              "    <tr>\n",
              "      <th>2</th>\n",
              "      <td>ART GALLERY</td>\n",
              "      <td>3.00000</td>\n",
              "    </tr>\n",
              "    <tr>\n",
              "      <th>3</th>\n",
              "      <td>ASSISTED LIVING/NURSING HOME</td>\n",
              "      <td>1.00000</td>\n",
              "    </tr>\n",
              "    <tr>\n",
              "      <th>4</th>\n",
              "      <td>BAKERY</td>\n",
              "      <td>1.62949</td>\n",
              "    </tr>\n",
              "  </tbody>\n",
              "</table>\n",
              "</div>"
            ],
            "text/plain": [
              "                  Facility Type     Risk\n",
              "0      ADULT FAMILY CARE CENTER  1.00000\n",
              "1                AIRPORT LOUNGE  1.50000\n",
              "2                   ART GALLERY  3.00000\n",
              "3  ASSISTED LIVING/NURSING HOME  1.00000\n",
              "4                        BAKERY  1.62949"
            ]
          },
          "metadata": {
            "tags": []
          },
          "execution_count": 7
        }
      ]
    },
    {
      "cell_type": "code",
      "metadata": {
        "colab_type": "code",
        "id": "UTR_QVrtr9iX",
        "outputId": "b8b39efd-daca-4007-b8a8-167526e7fde7",
        "scrolled": true,
        "colab": {
          "base_uri": "https://localhost:8080/",
          "height": 429
        }
      },
      "source": [
        "# Compute number of facilities in each type of facility\n",
        "fac_dist = pd.DataFrame(grouped_fac.count()['Risk']).rename(columns={'Risk':'Counts'}).sort_values(by='Counts',ascending=False).reset_index()\n",
        "print(\"Number of different types of facilities :\" + str(fac_dist.size))\n",
        "fac_dist.head(100)"
      ],
      "execution_count": 8,
      "outputs": [
        {
          "output_type": "stream",
          "text": [
            "Number of different types of facilities :236\n"
          ],
          "name": "stdout"
        },
        {
          "output_type": "execute_result",
          "data": {
            "text/html": [
              "<div>\n",
              "<style scoped>\n",
              "    .dataframe tbody tr th:only-of-type {\n",
              "        vertical-align: middle;\n",
              "    }\n",
              "\n",
              "    .dataframe tbody tr th {\n",
              "        vertical-align: top;\n",
              "    }\n",
              "\n",
              "    .dataframe thead th {\n",
              "        text-align: right;\n",
              "    }\n",
              "</style>\n",
              "<table border=\"1\" class=\"dataframe\">\n",
              "  <thead>\n",
              "    <tr style=\"text-align: right;\">\n",
              "      <th></th>\n",
              "      <th>Facility Type</th>\n",
              "      <th>Counts</th>\n",
              "    </tr>\n",
              "  </thead>\n",
              "  <tbody>\n",
              "    <tr>\n",
              "      <th>0</th>\n",
              "      <td>RESTAURANT</td>\n",
              "      <td>131852</td>\n",
              "    </tr>\n",
              "    <tr>\n",
              "      <th>1</th>\n",
              "      <td>RETAIL STORE</td>\n",
              "      <td>25635</td>\n",
              "    </tr>\n",
              "    <tr>\n",
              "      <th>2</th>\n",
              "      <td>SCHOOL</td>\n",
              "      <td>12054</td>\n",
              "    </tr>\n",
              "    <tr>\n",
              "      <th>3</th>\n",
              "      <td>DAYCARE</td>\n",
              "      <td>9537</td>\n",
              "    </tr>\n",
              "    <tr>\n",
              "      <th>4</th>\n",
              "      <td>BAKERY</td>\n",
              "      <td>2923</td>\n",
              "    </tr>\n",
              "    <tr>\n",
              "      <th>...</th>\n",
              "      <td>...</td>\n",
              "      <td>...</td>\n",
              "    </tr>\n",
              "    <tr>\n",
              "      <th>95</th>\n",
              "      <td>FOOD BOOTH</td>\n",
              "      <td>2</td>\n",
              "    </tr>\n",
              "    <tr>\n",
              "      <th>96</th>\n",
              "      <td>VENDING MACHINE</td>\n",
              "      <td>2</td>\n",
              "    </tr>\n",
              "    <tr>\n",
              "      <th>97</th>\n",
              "      <td>VFW HALL</td>\n",
              "      <td>2</td>\n",
              "    </tr>\n",
              "    <tr>\n",
              "      <th>98</th>\n",
              "      <td>BOYS AND GIRLS CLUB</td>\n",
              "      <td>2</td>\n",
              "    </tr>\n",
              "    <tr>\n",
              "      <th>99</th>\n",
              "      <td>BLOCKBUSTER VIDEO</td>\n",
              "      <td>2</td>\n",
              "    </tr>\n",
              "  </tbody>\n",
              "</table>\n",
              "<p>100 rows × 2 columns</p>\n",
              "</div>"
            ],
            "text/plain": [
              "          Facility Type  Counts\n",
              "0            RESTAURANT  131852\n",
              "1          RETAIL STORE   25635\n",
              "2                SCHOOL   12054\n",
              "3               DAYCARE    9537\n",
              "4                BAKERY    2923\n",
              "..                  ...     ...\n",
              "95           FOOD BOOTH       2\n",
              "96      VENDING MACHINE       2\n",
              "97             VFW HALL       2\n",
              "98  BOYS AND GIRLS CLUB       2\n",
              "99    BLOCKBUSTER VIDEO       2\n",
              "\n",
              "[100 rows x 2 columns]"
            ]
          },
          "metadata": {
            "tags": []
          },
          "execution_count": 8
        }
      ]
    },
    {
      "cell_type": "markdown",
      "metadata": {
        "colab_type": "text",
        "id": "ZBPvbW_CYMPj"
      },
      "source": [
        "When we plotted the number of facilities in each type of facility vs. their average risk score, we observed no correlation between the two. We observed that the facility type with the highest number of facilities (i.e. restaurant) has a very high average risk score:"
      ]
    },
    {
      "cell_type": "markdown",
      "metadata": {
        "colab_type": "text",
        "id": "eVZEtg_iXrnc"
      },
      "source": [
        "### **Facility Type Distribution**"
      ]
    },
    {
      "cell_type": "markdown",
      "metadata": {
        "colab_type": "text",
        "id": "7-3nrh5PXIbv"
      },
      "source": [
        "From the bar plot below, we can clearly observe the skewed distribution in Facility Type. Most of our data consists of restaurant, grocery store, and school types of facilities:"
      ]
    },
    {
      "cell_type": "code",
      "metadata": {
        "colab_type": "code",
        "id": "TDqfH9CZS9Ws",
        "outputId": "64c4c006-3322-45fb-e135-469f615c3345",
        "colab": {
          "base_uri": "https://localhost:8080/",
          "height": 298
        }
      },
      "source": [
        "plt.barh(fac_dist.head(10)['Facility Type'],fac_dist.head(10)['Counts'], color='slateblue')\n",
        "plt.title('Distribution of facility types')"
      ],
      "execution_count": 117,
      "outputs": [
        {
          "output_type": "execute_result",
          "data": {
            "text/plain": [
              "Text(0.5, 1.0, 'Distribution of facility types')"
            ]
          },
          "metadata": {
            "tags": []
          },
          "execution_count": 117
        },
        {
          "output_type": "display_data",
          "data": {
            "image/png": "[encoded data removed]",
            "text/plain": [
              "<Figure size 432x288 with 1 Axes>"
            ]
          },
          "metadata": {
            "tags": []
          }
        }
      ]
    },
    {
      "cell_type": "markdown",
      "metadata": {
        "colab_type": "text",
        "id": "CKLyGPdMYipy"
      },
      "source": [
        "### **Number of Facilities in a Type vs. Average Risk Score**"
      ]
    },
    {
      "cell_type": "code",
      "metadata": {
        "colab_type": "code",
        "id": "byAJr65ir9iZ",
        "outputId": "9cc64206-36c9-4b66-8f0a-caaf34299694",
        "colab": {
          "base_uri": "https://localhost:8080/",
          "height": 297
        }
      },
      "source": [
        "# Perform inner merge on number of facilities and their risk scores \n",
        "merged_inner = pd.merge(left=fac_dist,right=grouped_fac_risk_mean,left_on='Facility Type',right_on='Facility Type')\n",
        "# Scatter plot: number of facilities in each type (i.e. facility type) vs. average risk score\n",
        "merged_inner.plot.scatter(x='Counts', y='Risk')"
      ],
      "execution_count": 10,
      "outputs": [
        {
          "output_type": "execute_result",
          "data": {
            "text/plain": [
              "<matplotlib.axes._subplots.AxesSubplot at 0x7f50173a0198>"
            ]
          },
          "metadata": {
            "tags": []
          },
          "execution_count": 10
        },
        {
          "output_type": "display_data",
          "data": {
            "image/png": "[encoded data removed]",
            "text/plain": [
              "<Figure size 432x288 with 1 Axes>"
            ]
          },
          "metadata": {
            "tags": []
          }
        }
      ]
    },
    {
      "cell_type": "markdown",
      "metadata": {
        "colab_type": "text",
        "id": "8-RqdwUPr9id"
      },
      "source": [
        "We realized that the dataset is unbalanced in terms of number of Facility Types, where there are some Facility Types with very few instances. The types of facilities with very few instances would provide us with little to no information. Hence, we decided to analyze the 50 most frequent type of facilities and drop the others:"
      ]
    },
    {
      "cell_type": "code",
      "metadata": {
        "colab_type": "code",
        "id": "8OU47lhMr9ie",
        "outputId": "cb8e9b4e-e42e-417a-a4b8-ce46f7bf09b1",
        "colab": {
          "base_uri": "https://localhost:8080/",
          "height": 52
        }
      },
      "source": [
        "print(\"Number of entries before removing facility types with few instances: \" + str(df.size))\n",
        "df = df[df['Facility Type'].isin(list(fac_dist['Facility Type'])[:50])]\n",
        "print(\"Number of entries after removing facility types with few instances: \" + str(df.size))"
      ],
      "execution_count": 11,
      "outputs": [
        {
          "output_type": "stream",
          "text": [
            "Number of entries before removing facility types with few instances: 3074928\n",
            "Number of entries after removing facility types with few instances: 3071184\n"
          ],
          "name": "stdout"
        }
      ]
    },
    {
      "cell_type": "code",
      "metadata": {
        "id": "SAOV33kZQA7_",
        "colab_type": "code",
        "outputId": "4136303c-e7f5-4354-b2a8-41cac0d537ab",
        "colab": {
          "base_uri": "https://localhost:8080/",
          "height": 823
        }
      },
      "source": [
        "df_oob = df[df.Results.str.contains(\"Out of Business\",na=False)]\n",
        "df_oob"
      ],
      "execution_count": 12,
      "outputs": [
        {
          "output_type": "execute_result",
          "data": {
            "text/html": [
              "<div>\n",
              "<style scoped>\n",
              "    .dataframe tbody tr th:only-of-type {\n",
              "        vertical-align: middle;\n",
              "    }\n",
              "\n",
              "    .dataframe tbody tr th {\n",
              "        vertical-align: top;\n",
              "    }\n",
              "\n",
              "    .dataframe thead th {\n",
              "        text-align: right;\n",
              "    }\n",
              "</style>\n",
              "<table border=\"1\" class=\"dataframe\">\n",
              "  <thead>\n",
              "    <tr style=\"text-align: right;\">\n",
              "      <th></th>\n",
              "      <th>Inspection ID</th>\n",
              "      <th>DBA Name</th>\n",
              "      <th>AKA Name</th>\n",
              "      <th>License #</th>\n",
              "      <th>Facility Type</th>\n",
              "      <th>Risk</th>\n",
              "      <th>Address</th>\n",
              "      <th>Zip</th>\n",
              "      <th>Inspection Date</th>\n",
              "      <th>Inspection Type</th>\n",
              "      <th>Results</th>\n",
              "      <th>Violations</th>\n",
              "      <th>Latitude</th>\n",
              "      <th>Longitude</th>\n",
              "      <th>Location</th>\n",
              "      <th>Regions</th>\n",
              "    </tr>\n",
              "  </thead>\n",
              "  <tbody>\n",
              "    <tr>\n",
              "      <th>32</th>\n",
              "      <td>2352681</td>\n",
              "      <td>BAR-B-Q TONITE</td>\n",
              "      <td>BAR-B-Q TONITE</td>\n",
              "      <td>2563933.0</td>\n",
              "      <td>RESTAURANT</td>\n",
              "      <td>1</td>\n",
              "      <td>6348 N ARTESIAN AVE</td>\n",
              "      <td>60659.0</td>\n",
              "      <td>2019-12-03T00:00:00.000</td>\n",
              "      <td>CANVASS</td>\n",
              "      <td>Out of Business</td>\n",
              "      <td>NaN</td>\n",
              "      <td>41.997335</td>\n",
              "      <td>-87.691240</td>\n",
              "      <td>{'latitude': '-87.69123961702296', 'longitude'...</td>\n",
              "      <td>WEST RIDGE</td>\n",
              "    </tr>\n",
              "    <tr>\n",
              "      <th>39</th>\n",
              "      <td>2352679</td>\n",
              "      <td>ZAIQA RESTAURANT</td>\n",
              "      <td>ZAIQA RESTAURANT</td>\n",
              "      <td>2632018.0</td>\n",
              "      <td>RESTAURANT</td>\n",
              "      <td>1</td>\n",
              "      <td>2245 W DEVON AVE</td>\n",
              "      <td>60659.0</td>\n",
              "      <td>2019-12-03T00:00:00.000</td>\n",
              "      <td>CANVASS</td>\n",
              "      <td>Out of Business</td>\n",
              "      <td>NaN</td>\n",
              "      <td>41.997674</td>\n",
              "      <td>-87.686756</td>\n",
              "      <td>{'latitude': '-87.6867563084304', 'longitude':...</td>\n",
              "      <td>WEST RIDGE</td>\n",
              "    </tr>\n",
              "    <tr>\n",
              "      <th>49</th>\n",
              "      <td>2352524</td>\n",
              "      <td>TC HOTDOGS</td>\n",
              "      <td>TC HOTDOGS</td>\n",
              "      <td>1954116.0</td>\n",
              "      <td>RESTAURANT</td>\n",
              "      <td>2</td>\n",
              "      <td>1740 N KOSTNER AVE</td>\n",
              "      <td>60639.0</td>\n",
              "      <td>2019-12-02T00:00:00.000</td>\n",
              "      <td>CANVASS</td>\n",
              "      <td>Out of Business</td>\n",
              "      <td>NaN</td>\n",
              "      <td>41.912770</td>\n",
              "      <td>-87.736348</td>\n",
              "      <td>{'latitude': '-87.7363483567106', 'longitude':...</td>\n",
              "      <td>HUMBOLDT PARK</td>\n",
              "    </tr>\n",
              "    <tr>\n",
              "      <th>73</th>\n",
              "      <td>2352554</td>\n",
              "      <td>EAT &amp; DRINK</td>\n",
              "      <td>EAT &amp; DRINK</td>\n",
              "      <td>2069092.0</td>\n",
              "      <td>RESTAURANT</td>\n",
              "      <td>1</td>\n",
              "      <td>4649 N DAMEN AVE</td>\n",
              "      <td>60625.0</td>\n",
              "      <td>2019-12-02T00:00:00.000</td>\n",
              "      <td>CANVASS</td>\n",
              "      <td>Out of Business</td>\n",
              "      <td>NaN</td>\n",
              "      <td>41.966583</td>\n",
              "      <td>-87.678975</td>\n",
              "      <td>{'latitude': '-87.67897535059605', 'longitude'...</td>\n",
              "      <td>LINCOLN SQUARE</td>\n",
              "    </tr>\n",
              "    <tr>\n",
              "      <th>101</th>\n",
              "      <td>2352437</td>\n",
              "      <td>LABRIOL BAKERY AND CAFE</td>\n",
              "      <td>LABRIOLA BAKERY AND CAFE</td>\n",
              "      <td>2374837.0</td>\n",
              "      <td>BAKERY</td>\n",
              "      <td>2</td>\n",
              "      <td>1237 W FULTON MARKET</td>\n",
              "      <td>60607.0</td>\n",
              "      <td>2019-11-27T00:00:00.000</td>\n",
              "      <td>CANVASS</td>\n",
              "      <td>Out of Business</td>\n",
              "      <td>NaN</td>\n",
              "      <td>41.886547</td>\n",
              "      <td>-87.658324</td>\n",
              "      <td>{'latitude': '-87.6583238753014', 'longitude':...</td>\n",
              "      <td>NEAR WEST SIDE</td>\n",
              "    </tr>\n",
              "    <tr>\n",
              "      <th>...</th>\n",
              "      <td>...</td>\n",
              "      <td>...</td>\n",
              "      <td>...</td>\n",
              "      <td>...</td>\n",
              "      <td>...</td>\n",
              "      <td>...</td>\n",
              "      <td>...</td>\n",
              "      <td>...</td>\n",
              "      <td>...</td>\n",
              "      <td>...</td>\n",
              "      <td>...</td>\n",
              "      <td>...</td>\n",
              "      <td>...</td>\n",
              "      <td>...</td>\n",
              "      <td>...</td>\n",
              "      <td>...</td>\n",
              "    </tr>\n",
              "    <tr>\n",
              "      <th>183766</th>\n",
              "      <td>124467</td>\n",
              "      <td>LAFERIR INTERNET CAFE &amp; GIFT SHOP</td>\n",
              "      <td>LAFERIR INTERNET CAFE &amp; GIFT SHOP, INC</td>\n",
              "      <td>2021669.0</td>\n",
              "      <td>RESTAURANT</td>\n",
              "      <td>2</td>\n",
              "      <td>4942 N PULASKI RD</td>\n",
              "      <td>60630.0</td>\n",
              "      <td>2010-06-29T00:00:00.000</td>\n",
              "      <td>CANVASS</td>\n",
              "      <td>Out of Business</td>\n",
              "      <td>NaN</td>\n",
              "      <td>41.971339</td>\n",
              "      <td>-87.728265</td>\n",
              "      <td>{'latitude': '-87.72826479944104', 'longitude'...</td>\n",
              "      <td>ALBANY PARK</td>\n",
              "    </tr>\n",
              "    <tr>\n",
              "      <th>184116</th>\n",
              "      <td>251140</td>\n",
              "      <td>SANCHEZ TACOS</td>\n",
              "      <td>SANCHEZ TACOS</td>\n",
              "      <td>1442295.0</td>\n",
              "      <td>RESTAURANT</td>\n",
              "      <td>1</td>\n",
              "      <td>4001 W OGDEN</td>\n",
              "      <td>60623.0</td>\n",
              "      <td>2010-06-22T00:00:00.000</td>\n",
              "      <td>CANVASS</td>\n",
              "      <td>Out of Business</td>\n",
              "      <td>NaN</td>\n",
              "      <td>41.850958</td>\n",
              "      <td>-87.724775</td>\n",
              "      <td>{'latitude': '-87.72477522322536', 'longitude'...</td>\n",
              "      <td>NORTH LAWNDALE</td>\n",
              "    </tr>\n",
              "    <tr>\n",
              "      <th>184358</th>\n",
              "      <td>251054</td>\n",
              "      <td>NEIGHBORHOOD FOOD MART</td>\n",
              "      <td>NEIGHBORHOOD FOOD MART INC</td>\n",
              "      <td>1479700.0</td>\n",
              "      <td>RETAIL STORE</td>\n",
              "      <td>3</td>\n",
              "      <td>2748 W MADISON ST</td>\n",
              "      <td>60612.0</td>\n",
              "      <td>2010-06-17T00:00:00.000</td>\n",
              "      <td>CANVASS</td>\n",
              "      <td>Out of Business</td>\n",
              "      <td>NaN</td>\n",
              "      <td>41.881191</td>\n",
              "      <td>-87.695806</td>\n",
              "      <td>{'latitude': '-87.69580604798641', 'longitude'...</td>\n",
              "      <td>EAST GARFIELD PARK</td>\n",
              "    </tr>\n",
              "    <tr>\n",
              "      <th>184728</th>\n",
              "      <td>112437</td>\n",
              "      <td>SALAD CREATIONS</td>\n",
              "      <td>SALAD CREATIONS</td>\n",
              "      <td>1848010.0</td>\n",
              "      <td>RESTAURANT</td>\n",
              "      <td>2</td>\n",
              "      <td>56 E JACKSON BLVD</td>\n",
              "      <td>60604.0</td>\n",
              "      <td>2010-06-10T00:00:00.000</td>\n",
              "      <td>OUT OF BUSINESS</td>\n",
              "      <td>Out of Business</td>\n",
              "      <td>NaN</td>\n",
              "      <td>41.878367</td>\n",
              "      <td>-87.625582</td>\n",
              "      <td>{'latitude': '-87.62558159573472', 'longitude'...</td>\n",
              "      <td>LOOP</td>\n",
              "    </tr>\n",
              "    <tr>\n",
              "      <th>187681</th>\n",
              "      <td>231327</td>\n",
              "      <td>MOUNTAIN VIEW CHEF</td>\n",
              "      <td>MOUNTAIN VIEW CHEF INC</td>\n",
              "      <td>1145427.0</td>\n",
              "      <td>RESTAURANT</td>\n",
              "      <td>1</td>\n",
              "      <td>2168-2170 S ARCHER AVE</td>\n",
              "      <td>60616.0</td>\n",
              "      <td>2010-04-13T00:00:00.000</td>\n",
              "      <td>OUT OF BUSINESS</td>\n",
              "      <td>Out of Business</td>\n",
              "      <td>NaN</td>\n",
              "      <td>41.853167</td>\n",
              "      <td>-87.634461</td>\n",
              "      <td>{'latitude': '-87.63446102872312', 'longitude'...</td>\n",
              "      <td>ARMOUR SQUARE</td>\n",
              "    </tr>\n",
              "  </tbody>\n",
              "</table>\n",
              "<p>13707 rows × 16 columns</p>\n",
              "</div>"
            ],
            "text/plain": [
              "        Inspection ID  ...             Regions\n",
              "32            2352681  ...          WEST RIDGE\n",
              "39            2352679  ...          WEST RIDGE\n",
              "49            2352524  ...       HUMBOLDT PARK\n",
              "73            2352554  ...      LINCOLN SQUARE\n",
              "101           2352437  ...      NEAR WEST SIDE\n",
              "...               ...  ...                 ...\n",
              "183766         124467  ...         ALBANY PARK\n",
              "184116         251140  ...      NORTH LAWNDALE\n",
              "184358         251054  ...  EAST GARFIELD PARK\n",
              "184728         112437  ...                LOOP\n",
              "187681         231327  ...       ARMOUR SQUARE\n",
              "\n",
              "[13707 rows x 16 columns]"
            ]
          },
          "metadata": {
            "tags": []
          },
          "execution_count": 12
        }
      ]
    },
    {
      "cell_type": "code",
      "metadata": {
        "id": "alh2uBT1QA8B",
        "colab_type": "code",
        "outputId": "7ff01994-528e-4968-c12c-75efea3834e3",
        "colab": {
          "base_uri": "https://localhost:8080/",
          "height": 1000
        }
      },
      "source": [
        "df_oob['year'] = df_oob['Inspection Date'].apply(lambda x: x.split('-')[0])\n",
        "df_oob['month'] = df_oob['Inspection Date'].apply(lambda x: x.split('-')[1])\n",
        "df_oob"
      ],
      "execution_count": 13,
      "outputs": [
        {
          "output_type": "stream",
          "text": [
            "/usr/local/lib/python3.6/dist-packages/ipykernel_launcher.py:1: SettingWithCopyWarning: \n",
            "A value is trying to be set on a copy of a slice from a DataFrame.\n",
            "Try using .loc[row_indexer,col_indexer] = value instead\n",
            "\n",
            "See the caveats in the documentation: http://pandas.pydata.org/pandas-docs/stable/user_guide/indexing.html#returning-a-view-versus-a-copy\n",
            "  \"\"\"Entry point for launching an IPython kernel.\n",
            "/usr/local/lib/python3.6/dist-packages/ipykernel_launcher.py:2: SettingWithCopyWarning: \n",
            "A value is trying to be set on a copy of a slice from a DataFrame.\n",
            "Try using .loc[row_indexer,col_indexer] = value instead\n",
            "\n",
            "See the caveats in the documentation: http://pandas.pydata.org/pandas-docs/stable/user_guide/indexing.html#returning-a-view-versus-a-copy\n",
            "  \n"
          ],
          "name": "stderr"
        },
        {
          "output_type": "execute_result",
          "data": {
            "text/html": [
              "<div>\n",
              "<style scoped>\n",
              "    .dataframe tbody tr th:only-of-type {\n",
              "        vertical-align: middle;\n",
              "    }\n",
              "\n",
              "    .dataframe tbody tr th {\n",
              "        vertical-align: top;\n",
              "    }\n",
              "\n",
              "    .dataframe thead th {\n",
              "        text-align: right;\n",
              "    }\n",
              "</style>\n",
              "<table border=\"1\" class=\"dataframe\">\n",
              "  <thead>\n",
              "    <tr style=\"text-align: right;\">\n",
              "      <th></th>\n",
              "      <th>Inspection ID</th>\n",
              "      <th>DBA Name</th>\n",
              "      <th>AKA Name</th>\n",
              "      <th>License #</th>\n",
              "      <th>Facility Type</th>\n",
              "      <th>Risk</th>\n",
              "      <th>Address</th>\n",
              "      <th>Zip</th>\n",
              "      <th>Inspection Date</th>\n",
              "      <th>Inspection Type</th>\n",
              "      <th>Results</th>\n",
              "      <th>Violations</th>\n",
              "      <th>Latitude</th>\n",
              "      <th>Longitude</th>\n",
              "      <th>Location</th>\n",
              "      <th>Regions</th>\n",
              "      <th>year</th>\n",
              "      <th>month</th>\n",
              "    </tr>\n",
              "  </thead>\n",
              "  <tbody>\n",
              "    <tr>\n",
              "      <th>32</th>\n",
              "      <td>2352681</td>\n",
              "      <td>BAR-B-Q TONITE</td>\n",
              "      <td>BAR-B-Q TONITE</td>\n",
              "      <td>2563933.0</td>\n",
              "      <td>RESTAURANT</td>\n",
              "      <td>1</td>\n",
              "      <td>6348 N ARTESIAN AVE</td>\n",
              "      <td>60659.0</td>\n",
              "      <td>2019-12-03T00:00:00.000</td>\n",
              "      <td>CANVASS</td>\n",
              "      <td>Out of Business</td>\n",
              "      <td>NaN</td>\n",
              "      <td>41.997335</td>\n",
              "      <td>-87.691240</td>\n",
              "      <td>{'latitude': '-87.69123961702296', 'longitude'...</td>\n",
              "      <td>WEST RIDGE</td>\n",
              "      <td>2019</td>\n",
              "      <td>12</td>\n",
              "    </tr>\n",
              "    <tr>\n",
              "      <th>39</th>\n",
              "      <td>2352679</td>\n",
              "      <td>ZAIQA RESTAURANT</td>\n",
              "      <td>ZAIQA RESTAURANT</td>\n",
              "      <td>2632018.0</td>\n",
              "      <td>RESTAURANT</td>\n",
              "      <td>1</td>\n",
              "      <td>2245 W DEVON AVE</td>\n",
              "      <td>60659.0</td>\n",
              "      <td>2019-12-03T00:00:00.000</td>\n",
              "      <td>CANVASS</td>\n",
              "      <td>Out of Business</td>\n",
              "      <td>NaN</td>\n",
              "      <td>41.997674</td>\n",
              "      <td>-87.686756</td>\n",
              "      <td>{'latitude': '-87.6867563084304', 'longitude':...</td>\n",
              "      <td>WEST RIDGE</td>\n",
              "      <td>2019</td>\n",
              "      <td>12</td>\n",
              "    </tr>\n",
              "    <tr>\n",
              "      <th>49</th>\n",
              "      <td>2352524</td>\n",
              "      <td>TC HOTDOGS</td>\n",
              "      <td>TC HOTDOGS</td>\n",
              "      <td>1954116.0</td>\n",
              "      <td>RESTAURANT</td>\n",
              "      <td>2</td>\n",
              "      <td>1740 N KOSTNER AVE</td>\n",
              "      <td>60639.0</td>\n",
              "      <td>2019-12-02T00:00:00.000</td>\n",
              "      <td>CANVASS</td>\n",
              "      <td>Out of Business</td>\n",
              "      <td>NaN</td>\n",
              "      <td>41.912770</td>\n",
              "      <td>-87.736348</td>\n",
              "      <td>{'latitude': '-87.7363483567106', 'longitude':...</td>\n",
              "      <td>HUMBOLDT PARK</td>\n",
              "      <td>2019</td>\n",
              "      <td>12</td>\n",
              "    </tr>\n",
              "    <tr>\n",
              "      <th>73</th>\n",
              "      <td>2352554</td>\n",
              "      <td>EAT &amp; DRINK</td>\n",
              "      <td>EAT &amp; DRINK</td>\n",
              "      <td>2069092.0</td>\n",
              "      <td>RESTAURANT</td>\n",
              "      <td>1</td>\n",
              "      <td>4649 N DAMEN AVE</td>\n",
              "      <td>60625.0</td>\n",
              "      <td>2019-12-02T00:00:00.000</td>\n",
              "      <td>CANVASS</td>\n",
              "      <td>Out of Business</td>\n",
              "      <td>NaN</td>\n",
              "      <td>41.966583</td>\n",
              "      <td>-87.678975</td>\n",
              "      <td>{'latitude': '-87.67897535059605', 'longitude'...</td>\n",
              "      <td>LINCOLN SQUARE</td>\n",
              "      <td>2019</td>\n",
              "      <td>12</td>\n",
              "    </tr>\n",
              "    <tr>\n",
              "      <th>101</th>\n",
              "      <td>2352437</td>\n",
              "      <td>LABRIOL BAKERY AND CAFE</td>\n",
              "      <td>LABRIOLA BAKERY AND CAFE</td>\n",
              "      <td>2374837.0</td>\n",
              "      <td>BAKERY</td>\n",
              "      <td>2</td>\n",
              "      <td>1237 W FULTON MARKET</td>\n",
              "      <td>60607.0</td>\n",
              "      <td>2019-11-27T00:00:00.000</td>\n",
              "      <td>CANVASS</td>\n",
              "      <td>Out of Business</td>\n",
              "      <td>NaN</td>\n",
              "      <td>41.886547</td>\n",
              "      <td>-87.658324</td>\n",
              "      <td>{'latitude': '-87.6583238753014', 'longitude':...</td>\n",
              "      <td>NEAR WEST SIDE</td>\n",
              "      <td>2019</td>\n",
              "      <td>11</td>\n",
              "    </tr>\n",
              "    <tr>\n",
              "      <th>...</th>\n",
              "      <td>...</td>\n",
              "      <td>...</td>\n",
              "      <td>...</td>\n",
              "      <td>...</td>\n",
              "      <td>...</td>\n",
              "      <td>...</td>\n",
              "      <td>...</td>\n",
              "      <td>...</td>\n",
              "      <td>...</td>\n",
              "      <td>...</td>\n",
              "      <td>...</td>\n",
              "      <td>...</td>\n",
              "      <td>...</td>\n",
              "      <td>...</td>\n",
              "      <td>...</td>\n",
              "      <td>...</td>\n",
              "      <td>...</td>\n",
              "      <td>...</td>\n",
              "    </tr>\n",
              "    <tr>\n",
              "      <th>183766</th>\n",
              "      <td>124467</td>\n",
              "      <td>LAFERIR INTERNET CAFE &amp; GIFT SHOP</td>\n",
              "      <td>LAFERIR INTERNET CAFE &amp; GIFT SHOP, INC</td>\n",
              "      <td>2021669.0</td>\n",
              "      <td>RESTAURANT</td>\n",
              "      <td>2</td>\n",
              "      <td>4942 N PULASKI RD</td>\n",
              "      <td>60630.0</td>\n",
              "      <td>2010-06-29T00:00:00.000</td>\n",
              "      <td>CANVASS</td>\n",
              "      <td>Out of Business</td>\n",
              "      <td>NaN</td>\n",
              "      <td>41.971339</td>\n",
              "      <td>-87.728265</td>\n",
              "      <td>{'latitude': '-87.72826479944104', 'longitude'...</td>\n",
              "      <td>ALBANY PARK</td>\n",
              "      <td>2010</td>\n",
              "      <td>06</td>\n",
              "    </tr>\n",
              "    <tr>\n",
              "      <th>184116</th>\n",
              "      <td>251140</td>\n",
              "      <td>SANCHEZ TACOS</td>\n",
              "      <td>SANCHEZ TACOS</td>\n",
              "      <td>1442295.0</td>\n",
              "      <td>RESTAURANT</td>\n",
              "      <td>1</td>\n",
              "      <td>4001 W OGDEN</td>\n",
              "      <td>60623.0</td>\n",
              "      <td>2010-06-22T00:00:00.000</td>\n",
              "      <td>CANVASS</td>\n",
              "      <td>Out of Business</td>\n",
              "      <td>NaN</td>\n",
              "      <td>41.850958</td>\n",
              "      <td>-87.724775</td>\n",
              "      <td>{'latitude': '-87.72477522322536', 'longitude'...</td>\n",
              "      <td>NORTH LAWNDALE</td>\n",
              "      <td>2010</td>\n",
              "      <td>06</td>\n",
              "    </tr>\n",
              "    <tr>\n",
              "      <th>184358</th>\n",
              "      <td>251054</td>\n",
              "      <td>NEIGHBORHOOD FOOD MART</td>\n",
              "      <td>NEIGHBORHOOD FOOD MART INC</td>\n",
              "      <td>1479700.0</td>\n",
              "      <td>RETAIL STORE</td>\n",
              "      <td>3</td>\n",
              "      <td>2748 W MADISON ST</td>\n",
              "      <td>60612.0</td>\n",
              "      <td>2010-06-17T00:00:00.000</td>\n",
              "      <td>CANVASS</td>\n",
              "      <td>Out of Business</td>\n",
              "      <td>NaN</td>\n",
              "      <td>41.881191</td>\n",
              "      <td>-87.695806</td>\n",
              "      <td>{'latitude': '-87.69580604798641', 'longitude'...</td>\n",
              "      <td>EAST GARFIELD PARK</td>\n",
              "      <td>2010</td>\n",
              "      <td>06</td>\n",
              "    </tr>\n",
              "    <tr>\n",
              "      <th>184728</th>\n",
              "      <td>112437</td>\n",
              "      <td>SALAD CREATIONS</td>\n",
              "      <td>SALAD CREATIONS</td>\n",
              "      <td>1848010.0</td>\n",
              "      <td>RESTAURANT</td>\n",
              "      <td>2</td>\n",
              "      <td>56 E JACKSON BLVD</td>\n",
              "      <td>60604.0</td>\n",
              "      <td>2010-06-10T00:00:00.000</td>\n",
              "      <td>OUT OF BUSINESS</td>\n",
              "      <td>Out of Business</td>\n",
              "      <td>NaN</td>\n",
              "      <td>41.878367</td>\n",
              "      <td>-87.625582</td>\n",
              "      <td>{'latitude': '-87.62558159573472', 'longitude'...</td>\n",
              "      <td>LOOP</td>\n",
              "      <td>2010</td>\n",
              "      <td>06</td>\n",
              "    </tr>\n",
              "    <tr>\n",
              "      <th>187681</th>\n",
              "      <td>231327</td>\n",
              "      <td>MOUNTAIN VIEW CHEF</td>\n",
              "      <td>MOUNTAIN VIEW CHEF INC</td>\n",
              "      <td>1145427.0</td>\n",
              "      <td>RESTAURANT</td>\n",
              "      <td>1</td>\n",
              "      <td>2168-2170 S ARCHER AVE</td>\n",
              "      <td>60616.0</td>\n",
              "      <td>2010-04-13T00:00:00.000</td>\n",
              "      <td>OUT OF BUSINESS</td>\n",
              "      <td>Out of Business</td>\n",
              "      <td>NaN</td>\n",
              "      <td>41.853167</td>\n",
              "      <td>-87.634461</td>\n",
              "      <td>{'latitude': '-87.63446102872312', 'longitude'...</td>\n",
              "      <td>ARMOUR SQUARE</td>\n",
              "      <td>2010</td>\n",
              "      <td>04</td>\n",
              "    </tr>\n",
              "  </tbody>\n",
              "</table>\n",
              "<p>13707 rows × 18 columns</p>\n",
              "</div>"
            ],
            "text/plain": [
              "        Inspection ID                           DBA Name  ...  year  month\n",
              "32            2352681                     BAR-B-Q TONITE  ...  2019     12\n",
              "39            2352679                   ZAIQA RESTAURANT  ...  2019     12\n",
              "49            2352524                         TC HOTDOGS  ...  2019     12\n",
              "73            2352554                        EAT & DRINK  ...  2019     12\n",
              "101           2352437            LABRIOL BAKERY AND CAFE  ...  2019     11\n",
              "...               ...                                ...  ...   ...    ...\n",
              "183766         124467  LAFERIR INTERNET CAFE & GIFT SHOP  ...  2010     06\n",
              "184116         251140                      SANCHEZ TACOS  ...  2010     06\n",
              "184358         251054             NEIGHBORHOOD FOOD MART  ...  2010     06\n",
              "184728         112437                    SALAD CREATIONS  ...  2010     06\n",
              "187681         231327                 MOUNTAIN VIEW CHEF  ...  2010     04\n",
              "\n",
              "[13707 rows x 18 columns]"
            ]
          },
          "metadata": {
            "tags": []
          },
          "execution_count": 13
        }
      ]
    },
    {
      "cell_type": "code",
      "metadata": {
        "id": "dCU3X4NGQA8D",
        "colab_type": "code",
        "colab": {}
      },
      "source": [
        "df_year = df_oob.groupby(\"year\").count()['Results'].reset_index().rename(columns={'Results':'Count'})"
      ],
      "execution_count": 0,
      "outputs": []
    },
    {
      "cell_type": "code",
      "metadata": {
        "id": "PJLopC5oQA8F",
        "colab_type": "code",
        "outputId": "06027ca1-8751-42d3-ce9d-e810f97abb24",
        "colab": {
          "base_uri": "https://localhost:8080/",
          "height": 331
        }
      },
      "source": [
        "fig, axs = plt.subplots(1, 1, constrained_layout=True)\n",
        "axs.set_title('The number of facilities that went out of business vs. year')\n",
        "axs.set_xlabel('count')\n",
        "axs.set_ylabel('years')\n",
        "axs.barh(df_year['year'],df_year['Count'])"
      ],
      "execution_count": 15,
      "outputs": [
        {
          "output_type": "execute_result",
          "data": {
            "text/plain": [
              "<BarContainer object of 10 artists>"
            ]
          },
          "metadata": {
            "tags": []
          },
          "execution_count": 15
        },
        {
          "output_type": "display_data",
          "data": {
            "image/png": "[encoded data removed]",
            "text/plain": [
              "<Figure size 432x288 with 1 Axes>"
            ]
          },
          "metadata": {
            "tags": []
          }
        }
      ]
    },
    {
      "cell_type": "markdown",
      "metadata": {
        "id": "_VrQeb4nQA8M",
        "colab_type": "text"
      },
      "source": [
        "In the plot above, we can see that year 2013 is the year where the number of closed down facilities peaks. Therefore, we wil analyse the year 2013."
      ]
    },
    {
      "cell_type": "code",
      "metadata": {
        "id": "NwX6nAciQA8M",
        "colab_type": "code",
        "colab": {}
      },
      "source": [
        "df_oob2013 = df_oob[df_oob.year.str.contains(\"2013\",na=False)]\n",
        "df_oob_not2013 = df_oob[~df_oob.year.str.contains(\"2013\",na=False)]"
      ],
      "execution_count": 0,
      "outputs": []
    },
    {
      "cell_type": "code",
      "metadata": {
        "id": "kF38GhpxQA8O",
        "colab_type": "code",
        "outputId": "ec37c806-d21c-4f67-d511-80677b884a84",
        "colab": {
          "base_uri": "https://localhost:8080/",
          "height": 504
        }
      },
      "source": [
        "df_oob2013.groupby(\"Regions\").count().rename(columns={'Results':'Counts'}).sort_values(by='Counts',ascending=False)['Counts'].reset_index().head(15)"
      ],
      "execution_count": 17,
      "outputs": [
        {
          "output_type": "execute_result",
          "data": {
            "text/html": [
              "<div>\n",
              "<style scoped>\n",
              "    .dataframe tbody tr th:only-of-type {\n",
              "        vertical-align: middle;\n",
              "    }\n",
              "\n",
              "    .dataframe tbody tr th {\n",
              "        vertical-align: top;\n",
              "    }\n",
              "\n",
              "    .dataframe thead th {\n",
              "        text-align: right;\n",
              "    }\n",
              "</style>\n",
              "<table border=\"1\" class=\"dataframe\">\n",
              "  <thead>\n",
              "    <tr style=\"text-align: right;\">\n",
              "      <th></th>\n",
              "      <th>Regions</th>\n",
              "      <th>Counts</th>\n",
              "    </tr>\n",
              "  </thead>\n",
              "  <tbody>\n",
              "    <tr>\n",
              "      <th>0</th>\n",
              "      <td>LAKE VIEW</td>\n",
              "      <td>173</td>\n",
              "    </tr>\n",
              "    <tr>\n",
              "      <th>1</th>\n",
              "      <td>LOOP</td>\n",
              "      <td>159</td>\n",
              "    </tr>\n",
              "    <tr>\n",
              "      <th>2</th>\n",
              "      <td>NEAR NORTH SIDE</td>\n",
              "      <td>124</td>\n",
              "    </tr>\n",
              "    <tr>\n",
              "      <th>3</th>\n",
              "      <td>LINCOLN PARK</td>\n",
              "      <td>117</td>\n",
              "    </tr>\n",
              "    <tr>\n",
              "      <th>4</th>\n",
              "      <td>NEAR SOUTH SIDE</td>\n",
              "      <td>114</td>\n",
              "    </tr>\n",
              "    <tr>\n",
              "      <th>5</th>\n",
              "      <td>WEST TOWN</td>\n",
              "      <td>97</td>\n",
              "    </tr>\n",
              "    <tr>\n",
              "      <th>6</th>\n",
              "      <td>NEAR WEST SIDE</td>\n",
              "      <td>91</td>\n",
              "    </tr>\n",
              "    <tr>\n",
              "      <th>7</th>\n",
              "      <td>LOGAN SQUARE</td>\n",
              "      <td>77</td>\n",
              "    </tr>\n",
              "    <tr>\n",
              "      <th>8</th>\n",
              "      <td>AUSTIN</td>\n",
              "      <td>74</td>\n",
              "    </tr>\n",
              "    <tr>\n",
              "      <th>9</th>\n",
              "      <td>WEST RIDGE</td>\n",
              "      <td>59</td>\n",
              "    </tr>\n",
              "    <tr>\n",
              "      <th>10</th>\n",
              "      <td>ROGERS PARK</td>\n",
              "      <td>57</td>\n",
              "    </tr>\n",
              "    <tr>\n",
              "      <th>11</th>\n",
              "      <td>BELMONT CRAGIN</td>\n",
              "      <td>52</td>\n",
              "    </tr>\n",
              "    <tr>\n",
              "      <th>12</th>\n",
              "      <td>SOUTH LAWNDALE</td>\n",
              "      <td>45</td>\n",
              "    </tr>\n",
              "    <tr>\n",
              "      <th>13</th>\n",
              "      <td>ROSELAND</td>\n",
              "      <td>44</td>\n",
              "    </tr>\n",
              "    <tr>\n",
              "      <th>14</th>\n",
              "      <td>LOWER WEST SIDE</td>\n",
              "      <td>44</td>\n",
              "    </tr>\n",
              "  </tbody>\n",
              "</table>\n",
              "</div>"
            ],
            "text/plain": [
              "            Regions  Counts\n",
              "0         LAKE VIEW     173\n",
              "1              LOOP     159\n",
              "2   NEAR NORTH SIDE     124\n",
              "3      LINCOLN PARK     117\n",
              "4   NEAR SOUTH SIDE     114\n",
              "5         WEST TOWN      97\n",
              "6    NEAR WEST SIDE      91\n",
              "7      LOGAN SQUARE      77\n",
              "8            AUSTIN      74\n",
              "9        WEST RIDGE      59\n",
              "10      ROGERS PARK      57\n",
              "11   BELMONT CRAGIN      52\n",
              "12   SOUTH LAWNDALE      45\n",
              "13         ROSELAND      44\n",
              "14  LOWER WEST SIDE      44"
            ]
          },
          "metadata": {
            "tags": []
          },
          "execution_count": 17
        }
      ]
    },
    {
      "cell_type": "markdown",
      "metadata": {
        "colab_type": "text",
        "id": "DZzu7EOQr9ig"
      },
      "source": [
        "As we can see from the code above, there are around 20 thousand facilities that dont have as much inspections as the others. As a result, data set is more balanced now"
      ]
    },
    {
      "cell_type": "code",
      "metadata": {
        "id": "2KRC6HCxQA8R",
        "colab_type": "code",
        "outputId": "b3ed6cbe-bbbb-404a-8739-607b8d08e311",
        "colab": {
          "base_uri": "https://localhost:8080/",
          "height": 504
        }
      },
      "source": [
        "df_oob_not2013.groupby(\"Regions\").count().rename(columns={'Results':'Counts'}).sort_values(by='Counts',ascending=False)['Counts'].reset_index().head(15)"
      ],
      "execution_count": 18,
      "outputs": [
        {
          "output_type": "execute_result",
          "data": {
            "text/html": [
              "<div>\n",
              "<style scoped>\n",
              "    .dataframe tbody tr th:only-of-type {\n",
              "        vertical-align: middle;\n",
              "    }\n",
              "\n",
              "    .dataframe tbody tr th {\n",
              "        vertical-align: top;\n",
              "    }\n",
              "\n",
              "    .dataframe thead th {\n",
              "        text-align: right;\n",
              "    }\n",
              "</style>\n",
              "<table border=\"1\" class=\"dataframe\">\n",
              "  <thead>\n",
              "    <tr style=\"text-align: right;\">\n",
              "      <th></th>\n",
              "      <th>Regions</th>\n",
              "      <th>Counts</th>\n",
              "    </tr>\n",
              "  </thead>\n",
              "  <tbody>\n",
              "    <tr>\n",
              "      <th>0</th>\n",
              "      <td>NEAR NORTH SIDE</td>\n",
              "      <td>721</td>\n",
              "    </tr>\n",
              "    <tr>\n",
              "      <th>1</th>\n",
              "      <td>LOOP</td>\n",
              "      <td>642</td>\n",
              "    </tr>\n",
              "    <tr>\n",
              "      <th>2</th>\n",
              "      <td>LAKE VIEW</td>\n",
              "      <td>615</td>\n",
              "    </tr>\n",
              "    <tr>\n",
              "      <th>3</th>\n",
              "      <td>NEAR WEST SIDE</td>\n",
              "      <td>560</td>\n",
              "    </tr>\n",
              "    <tr>\n",
              "      <th>4</th>\n",
              "      <td>WEST TOWN</td>\n",
              "      <td>445</td>\n",
              "    </tr>\n",
              "    <tr>\n",
              "      <th>5</th>\n",
              "      <td>AUSTIN</td>\n",
              "      <td>399</td>\n",
              "    </tr>\n",
              "    <tr>\n",
              "      <th>6</th>\n",
              "      <td>LINCOLN PARK</td>\n",
              "      <td>383</td>\n",
              "    </tr>\n",
              "    <tr>\n",
              "      <th>7</th>\n",
              "      <td>LOGAN SQUARE</td>\n",
              "      <td>353</td>\n",
              "    </tr>\n",
              "    <tr>\n",
              "      <th>8</th>\n",
              "      <td>WEST RIDGE</td>\n",
              "      <td>292</td>\n",
              "    </tr>\n",
              "    <tr>\n",
              "      <th>9</th>\n",
              "      <td>ALBANY PARK</td>\n",
              "      <td>281</td>\n",
              "    </tr>\n",
              "    <tr>\n",
              "      <th>10</th>\n",
              "      <td>BELMONT CRAGIN</td>\n",
              "      <td>279</td>\n",
              "    </tr>\n",
              "    <tr>\n",
              "      <th>11</th>\n",
              "      <td>SOUTH LAWNDALE</td>\n",
              "      <td>256</td>\n",
              "    </tr>\n",
              "    <tr>\n",
              "      <th>12</th>\n",
              "      <td>UPTOWN</td>\n",
              "      <td>223</td>\n",
              "    </tr>\n",
              "    <tr>\n",
              "      <th>13</th>\n",
              "      <td>EDGEWATER</td>\n",
              "      <td>219</td>\n",
              "    </tr>\n",
              "    <tr>\n",
              "      <th>14</th>\n",
              "      <td>LINCOLN SQUARE</td>\n",
              "      <td>211</td>\n",
              "    </tr>\n",
              "  </tbody>\n",
              "</table>\n",
              "</div>"
            ],
            "text/plain": [
              "            Regions  Counts\n",
              "0   NEAR NORTH SIDE     721\n",
              "1              LOOP     642\n",
              "2         LAKE VIEW     615\n",
              "3    NEAR WEST SIDE     560\n",
              "4         WEST TOWN     445\n",
              "5            AUSTIN     399\n",
              "6      LINCOLN PARK     383\n",
              "7      LOGAN SQUARE     353\n",
              "8        WEST RIDGE     292\n",
              "9       ALBANY PARK     281\n",
              "10   BELMONT CRAGIN     279\n",
              "11   SOUTH LAWNDALE     256\n",
              "12           UPTOWN     223\n",
              "13        EDGEWATER     219\n",
              "14   LINCOLN SQUARE     211"
            ]
          },
          "metadata": {
            "tags": []
          },
          "execution_count": 18
        }
      ]
    },
    {
      "cell_type": "code",
      "metadata": {
        "id": "uDpoB_YMQA8U",
        "colab_type": "code",
        "outputId": "fb9f91a9-f43b-498c-dca9-f418d8ef7b0f",
        "colab": {
          "base_uri": "https://localhost:8080/",
          "height": 352
        }
      },
      "source": [
        "df_month_year = df_oob.groupby([\"year\",\"month\"]).count()['Results'].reset_index().rename(columns={'Results':'Count'})\n",
        "df_month_year.sort_values(by='Count', ascending = False).head(10)"
      ],
      "execution_count": 19,
      "outputs": [
        {
          "output_type": "execute_result",
          "data": {
            "text/html": [
              "<div>\n",
              "<style scoped>\n",
              "    .dataframe tbody tr th:only-of-type {\n",
              "        vertical-align: middle;\n",
              "    }\n",
              "\n",
              "    .dataframe tbody tr th {\n",
              "        vertical-align: top;\n",
              "    }\n",
              "\n",
              "    .dataframe thead th {\n",
              "        text-align: right;\n",
              "    }\n",
              "</style>\n",
              "<table border=\"1\" class=\"dataframe\">\n",
              "  <thead>\n",
              "    <tr style=\"text-align: right;\">\n",
              "      <th></th>\n",
              "      <th>year</th>\n",
              "      <th>month</th>\n",
              "      <th>Count</th>\n",
              "    </tr>\n",
              "  </thead>\n",
              "  <tbody>\n",
              "    <tr>\n",
              "      <th>40</th>\n",
              "      <td>2013</td>\n",
              "      <td>09</td>\n",
              "      <td>369</td>\n",
              "    </tr>\n",
              "    <tr>\n",
              "      <th>41</th>\n",
              "      <td>2013</td>\n",
              "      <td>10</td>\n",
              "      <td>354</td>\n",
              "    </tr>\n",
              "    <tr>\n",
              "      <th>42</th>\n",
              "      <td>2013</td>\n",
              "      <td>11</td>\n",
              "      <td>301</td>\n",
              "    </tr>\n",
              "    <tr>\n",
              "      <th>39</th>\n",
              "      <td>2013</td>\n",
              "      <td>08</td>\n",
              "      <td>235</td>\n",
              "    </tr>\n",
              "    <tr>\n",
              "      <th>64</th>\n",
              "      <td>2015</td>\n",
              "      <td>09</td>\n",
              "      <td>232</td>\n",
              "    </tr>\n",
              "    <tr>\n",
              "      <th>67</th>\n",
              "      <td>2015</td>\n",
              "      <td>12</td>\n",
              "      <td>229</td>\n",
              "    </tr>\n",
              "    <tr>\n",
              "      <th>52</th>\n",
              "      <td>2014</td>\n",
              "      <td>09</td>\n",
              "      <td>222</td>\n",
              "    </tr>\n",
              "    <tr>\n",
              "      <th>55</th>\n",
              "      <td>2014</td>\n",
              "      <td>12</td>\n",
              "      <td>213</td>\n",
              "    </tr>\n",
              "    <tr>\n",
              "      <th>76</th>\n",
              "      <td>2016</td>\n",
              "      <td>09</td>\n",
              "      <td>212</td>\n",
              "    </tr>\n",
              "    <tr>\n",
              "      <th>66</th>\n",
              "      <td>2015</td>\n",
              "      <td>11</td>\n",
              "      <td>201</td>\n",
              "    </tr>\n",
              "  </tbody>\n",
              "</table>\n",
              "</div>"
            ],
            "text/plain": [
              "    year month  Count\n",
              "40  2013    09    369\n",
              "41  2013    10    354\n",
              "42  2013    11    301\n",
              "39  2013    08    235\n",
              "64  2015    09    232\n",
              "67  2015    12    229\n",
              "52  2014    09    222\n",
              "55  2014    12    213\n",
              "76  2016    09    212\n",
              "66  2015    11    201"
            ]
          },
          "metadata": {
            "tags": []
          },
          "execution_count": 19
        }
      ]
    },
    {
      "cell_type": "code",
      "metadata": {
        "id": "mE1-H3eJQA8W",
        "colab_type": "code",
        "outputId": "735fd6f5-31ff-40b5-903a-638a55415174",
        "colab": {
          "base_uri": "https://localhost:8080/",
          "height": 412
        }
      },
      "source": [
        "df_month = df_oob.groupby([\"month\"]).count()['Results'].reset_index().rename(columns={'Results':'Count'})\n",
        "df_month.head(12)"
      ],
      "execution_count": 20,
      "outputs": [
        {
          "output_type": "execute_result",
          "data": {
            "text/html": [
              "<div>\n",
              "<style scoped>\n",
              "    .dataframe tbody tr th:only-of-type {\n",
              "        vertical-align: middle;\n",
              "    }\n",
              "\n",
              "    .dataframe tbody tr th {\n",
              "        vertical-align: top;\n",
              "    }\n",
              "\n",
              "    .dataframe thead th {\n",
              "        text-align: right;\n",
              "    }\n",
              "</style>\n",
              "<table border=\"1\" class=\"dataframe\">\n",
              "  <thead>\n",
              "    <tr style=\"text-align: right;\">\n",
              "      <th></th>\n",
              "      <th>month</th>\n",
              "      <th>Count</th>\n",
              "    </tr>\n",
              "  </thead>\n",
              "  <tbody>\n",
              "    <tr>\n",
              "      <th>0</th>\n",
              "      <td>01</td>\n",
              "      <td>894</td>\n",
              "    </tr>\n",
              "    <tr>\n",
              "      <th>1</th>\n",
              "      <td>02</td>\n",
              "      <td>801</td>\n",
              "    </tr>\n",
              "    <tr>\n",
              "      <th>2</th>\n",
              "      <td>03</td>\n",
              "      <td>857</td>\n",
              "    </tr>\n",
              "    <tr>\n",
              "      <th>3</th>\n",
              "      <td>04</td>\n",
              "      <td>921</td>\n",
              "    </tr>\n",
              "    <tr>\n",
              "      <th>4</th>\n",
              "      <td>05</td>\n",
              "      <td>1189</td>\n",
              "    </tr>\n",
              "    <tr>\n",
              "      <th>5</th>\n",
              "      <td>06</td>\n",
              "      <td>1051</td>\n",
              "    </tr>\n",
              "    <tr>\n",
              "      <th>6</th>\n",
              "      <td>07</td>\n",
              "      <td>1007</td>\n",
              "    </tr>\n",
              "    <tr>\n",
              "      <th>7</th>\n",
              "      <td>08</td>\n",
              "      <td>1273</td>\n",
              "    </tr>\n",
              "    <tr>\n",
              "      <th>8</th>\n",
              "      <td>09</td>\n",
              "      <td>1625</td>\n",
              "    </tr>\n",
              "    <tr>\n",
              "      <th>9</th>\n",
              "      <td>10</td>\n",
              "      <td>1485</td>\n",
              "    </tr>\n",
              "    <tr>\n",
              "      <th>10</th>\n",
              "      <td>11</td>\n",
              "      <td>1343</td>\n",
              "    </tr>\n",
              "    <tr>\n",
              "      <th>11</th>\n",
              "      <td>12</td>\n",
              "      <td>1261</td>\n",
              "    </tr>\n",
              "  </tbody>\n",
              "</table>\n",
              "</div>"
            ],
            "text/plain": [
              "   month  Count\n",
              "0     01    894\n",
              "1     02    801\n",
              "2     03    857\n",
              "3     04    921\n",
              "4     05   1189\n",
              "5     06   1051\n",
              "6     07   1007\n",
              "7     08   1273\n",
              "8     09   1625\n",
              "9     10   1485\n",
              "10    11   1343\n",
              "11    12   1261"
            ]
          },
          "metadata": {
            "tags": []
          },
          "execution_count": 20
        }
      ]
    },
    {
      "cell_type": "code",
      "metadata": {
        "id": "hqRRCjFyQA8Y",
        "colab_type": "code",
        "outputId": "6efbdb93-6d30-4558-e5bf-8fd3146e33cd",
        "colab": {
          "base_uri": "https://localhost:8080/",
          "height": 331
        }
      },
      "source": [
        "fig, axs = plt.subplots(1, 1, constrained_layout=True)\n",
        "axs.set_title('The number of facilities that went out of business vs. month')\n",
        "axs.set_xlabel('count')\n",
        "axs.set_ylabel('month')\n",
        "axs.barh(df_month['month'],df_month['Count'])"
      ],
      "execution_count": 21,
      "outputs": [
        {
          "output_type": "execute_result",
          "data": {
            "text/plain": [
              "<BarContainer object of 12 artists>"
            ]
          },
          "metadata": {
            "tags": []
          },
          "execution_count": 21
        },
        {
          "output_type": "display_data",
          "data": {
            "image/png": "[encoded data removed]",
            "text/plain": [
              "<Figure size 432x288 with 1 Axes>"
            ]
          },
          "metadata": {
            "tags": []
          }
        }
      ]
    },
    {
      "cell_type": "markdown",
      "metadata": {
        "colab_type": "text",
        "id": "rvahQqzeYxPm"
      },
      "source": [
        "### **Out of Business Facilities on Map**"
      ]
    },
    {
      "cell_type": "code",
      "metadata": {
        "colab_type": "code",
        "id": "E80y45xOr9ih",
        "outputId": "b6875bb9-0c31-4e24-97a2-898cc74187ff",
        "colab": {
          "base_uri": "https://localhost:8080/",
          "height": 35
        }
      },
      "source": [
        "# Out of business facilities\n",
        "df_oob = df[df.Results.str.contains(\"Out of Business\",na=False)]\n",
        "df_oob\n",
        "# Grouped by the facilities\n",
        "df_oob_unique = df_oob.groupby(['Latitude','Longitude','DBA Name', 'License #']).count()\n",
        "df_oob_unique.shape"
      ],
      "execution_count": 22,
      "outputs": [
        {
          "output_type": "execute_result",
          "data": {
            "text/plain": [
              "(13287, 12)"
            ]
          },
          "metadata": {
            "tags": []
          },
          "execution_count": 22
        }
      ]
    },
    {
      "cell_type": "markdown",
      "metadata": {
        "colab_type": "text",
        "id": "-nJM5570tGrV"
      },
      "source": [
        "We mapped the facilities that have gone out of business to identify any possible pattern:"
      ]
    },
    {
      "cell_type": "code",
      "metadata": {
        "colab_type": "code",
        "id": "48p6tnK6r9ik",
        "outputId": "858be8d7-de83-4891-c78b-27f4da4dd678",
        "colab": {
          "base_uri": "https://localhost:8080/",
          "height": 55
        }
      },
      "source": [
        "'''\n",
        "# Map the facilities that have gone out of business \n",
        "map_oob = folium.Map(\n",
        "    location=[41.8781, -87.6298],\n",
        "    zoom_start=9\n",
        ")\n",
        "\n",
        "# We take 5000 samples to view on the map\n",
        "# TODO: take randomized samples / visualize the whole data\n",
        "marker_cluster = MarkerCluster().add_to(map_oob)\n",
        "ranges = 0\n",
        "for i in df_oob_unique.index:\n",
        "    if ranges == 5000:\n",
        "        break\n",
        "    folium.Marker([(i[0]), (i[1])]).add_to(marker_cluster)        \n",
        "    ranges = ranges + 1\n",
        "\n",
        "map_oob\n",
        "'''"
      ],
      "execution_count": 23,
      "outputs": [
        {
          "output_type": "execute_result",
          "data": {
            "text/plain": [
              "'\\n# Map the facilities that have gone out of business \\nmap_oob = folium.Map(\\n    location=[41.8781, -87.6298],\\n    zoom_start=9\\n)\\n\\n# We take 5000 samples to view on the map\\n# TODO: take randomized samples / visualize the whole data\\nmarker_cluster = MarkerCluster().add_to(map_oob)\\nranges = 0\\nfor i in df_oob_unique.index:\\n    if ranges == 5000:\\n        break\\n    folium.Marker([(i[0]), (i[1])]).add_to(marker_cluster)        \\n    ranges = ranges + 1\\n\\nmap_oob\\n'"
            ]
          },
          "metadata": {
            "tags": []
          },
          "execution_count": 23
        }
      ]
    },
    {
      "cell_type": "markdown",
      "metadata": {
        "colab_type": "text",
        "id": "70YWgfyOY98g"
      },
      "source": [
        "### **Average Risk of Facilities on Map**"
      ]
    },
    {
      "cell_type": "code",
      "metadata": {
        "colab_type": "code",
        "id": "5oPntwPCr9ir",
        "colab": {}
      },
      "source": [
        "# Calculate risk mean of each facility\n",
        "df_avg_risk_score = df.groupby(['Latitude','Longitude','DBA Name'])['Risk'].mean()"
      ],
      "execution_count": 0,
      "outputs": []
    },
    {
      "cell_type": "markdown",
      "metadata": {
        "colab_type": "text",
        "id": "_J6Ty7thtdFo"
      },
      "source": [
        "We mapped the average risk score of facilities to identify any possible pattern:"
      ]
    },
    {
      "cell_type": "code",
      "metadata": {
        "colab_type": "code",
        "id": "xm69-CXir9iw",
        "outputId": "cf419b27-f703-4dbe-aeea-a27008856130",
        "colab": {
          "base_uri": "https://localhost:8080/",
          "height": 55
        }
      },
      "source": [
        "# Map the average risk score of facilities, where red indicates high risk, orange indicates medium risk, and green indicates low risk\n",
        "'''\n",
        "map_risk = folium.Map(\n",
        "    location=[41.8781, -87.6298],\n",
        "    zoom_start=9\n",
        ")\n",
        "\n",
        "# We take 2000 samples to view on the map\n",
        "# TODO: take randomized samples / visualize the whole data\n",
        "ranges = 0\n",
        "for i in df_avg_risk_score.index:\n",
        "    if ranges == 2000:\n",
        "        break\n",
        "    if(round(df_avg_risk_score[i]) == 1):\n",
        "        folium.Marker([(i[0]), (i[1])],icon=folium.Icon(color='red')).add_to(map_risk)\n",
        "    elif(round(df_avg_risk_score[i]) == 2):\n",
        "        folium.Marker([(i[0]), (i[1])],icon=folium.Icon(color='orange')).add_to(map_risk)\n",
        "    elif(round(df_avg_risk_score[i]) == 3):\n",
        "        folium.Marker([(i[0]), (i[1])],icon=folium.Icon(color='green')).add_to(map_risk)       \n",
        "    ranges = ranges + 1\n",
        "\n",
        "map_risk\n",
        "'''"
      ],
      "execution_count": 25,
      "outputs": [
        {
          "output_type": "execute_result",
          "data": {
            "text/plain": [
              "\"\\nmap_risk = folium.Map(\\n    location=[41.8781, -87.6298],\\n    zoom_start=9\\n)\\n\\n# We take 2000 samples to view on the map\\n# TODO: take randomized samples / visualize the whole data\\nranges = 0\\nfor i in df_avg_risk_score.index:\\n    if ranges == 2000:\\n        break\\n    if(round(df_avg_risk_score[i]) == 1):\\n        folium.Marker([(i[0]), (i[1])],icon=folium.Icon(color='red')).add_to(map_risk)\\n    elif(round(df_avg_risk_score[i]) == 2):\\n        folium.Marker([(i[0]), (i[1])],icon=folium.Icon(color='orange')).add_to(map_risk)\\n    elif(round(df_avg_risk_score[i]) == 3):\\n        folium.Marker([(i[0]), (i[1])],icon=folium.Icon(color='green')).add_to(map_risk)       \\n    ranges = ranges + 1\\n\\nmap_risk\\n\""
            ]
          },
          "metadata": {
            "tags": []
          },
          "execution_count": 25
        }
      ]
    },
    {
      "cell_type": "markdown",
      "metadata": {
        "colab_type": "text",
        "id": "gedBg9DbwYnV"
      },
      "source": [
        "We plotted the number of inspections vs. the average risk score of each facility to identify any possible correlation between the two. We observed the there is a negative correlation between the number of inspections and the average risk of the facility:"
      ]
    },
    {
      "cell_type": "code",
      "metadata": {
        "colab_type": "code",
        "id": "SliEvDVHr9iz",
        "outputId": "06676966-4a58-48a9-ae31-2d803e0a5a71",
        "colab": {
          "base_uri": "https://localhost:8080/",
          "height": 297
        }
      },
      "source": [
        "# Scatter plot on the number of inspections vs. the average risk score\n",
        "df_unique = pd.DataFrame(df.groupby(['Latitude','Longitude','DBA Name']).count()['Risk']).rename(columns={'Risk':'Counts'})\n",
        "merged = pd.merge(left=df_avg_risk_score.reset_index(),right=df_unique.reset_index(),left_on=['Latitude','Longitude','DBA Name'],right_on=['Latitude','Longitude','DBA Name'])\n",
        "merged.plot.scatter(x='Risk', y='Counts')"
      ],
      "execution_count": 26,
      "outputs": [
        {
          "output_type": "execute_result",
          "data": {
            "text/plain": [
              "<matplotlib.axes._subplots.AxesSubplot at 0x7f5014937cc0>"
            ]
          },
          "metadata": {
            "tags": []
          },
          "execution_count": 26
        },
        {
          "output_type": "display_data",
          "data": {
            "image/png": "[encoded data removed]",
            "text/plain": [
              "<Figure size 432x288 with 1 Axes>"
            ]
          },
          "metadata": {
            "tags": []
          }
        }
      ]
    },
    {
      "cell_type": "markdown",
      "metadata": {
        "colab_type": "text",
        "id": "WYaFos2Ir9i4"
      },
      "source": [
        "We observed that the number of risk 3 facilities are lower than the others. Hence, we decided to plot average risk scores vs number of facilities."
      ]
    },
    {
      "cell_type": "markdown",
      "metadata": {
        "colab_type": "text",
        "id": "jRnO5vZlnNtd"
      },
      "source": [
        "### **Correlation between Number of Inspections and Average Level of Risk**"
      ]
    },
    {
      "cell_type": "markdown",
      "metadata": {
        "colab_type": "text",
        "id": "VT4v4wC_yRha"
      },
      "source": [
        "We observed a moderate positive correlation between the number of inspections and average level of risk of the facility (since Risk 1 means high risk and Risk 3 means low risk):"
      ]
    },
    {
      "cell_type": "code",
      "metadata": {
        "colab_type": "code",
        "id": "DTX2ONt9w7V8",
        "outputId": "8098cc49-8f97-43b6-fbd1-93cda7805615",
        "colab": {
          "base_uri": "https://localhost:8080/",
          "height": 109
        }
      },
      "source": [
        "merged[['Risk', 'Counts']].corr(method='pearson')"
      ],
      "execution_count": 27,
      "outputs": [
        {
          "output_type": "execute_result",
          "data": {
            "text/html": [
              "<div>\n",
              "<style scoped>\n",
              "    .dataframe tbody tr th:only-of-type {\n",
              "        vertical-align: middle;\n",
              "    }\n",
              "\n",
              "    .dataframe tbody tr th {\n",
              "        vertical-align: top;\n",
              "    }\n",
              "\n",
              "    .dataframe thead th {\n",
              "        text-align: right;\n",
              "    }\n",
              "</style>\n",
              "<table border=\"1\" class=\"dataframe\">\n",
              "  <thead>\n",
              "    <tr style=\"text-align: right;\">\n",
              "      <th></th>\n",
              "      <th>Risk</th>\n",
              "      <th>Counts</th>\n",
              "    </tr>\n",
              "  </thead>\n",
              "  <tbody>\n",
              "    <tr>\n",
              "      <th>Risk</th>\n",
              "      <td>1.000000</td>\n",
              "      <td>-0.365569</td>\n",
              "    </tr>\n",
              "    <tr>\n",
              "      <th>Counts</th>\n",
              "      <td>-0.365569</td>\n",
              "      <td>1.000000</td>\n",
              "    </tr>\n",
              "  </tbody>\n",
              "</table>\n",
              "</div>"
            ],
            "text/plain": [
              "            Risk    Counts\n",
              "Risk    1.000000 -0.365569\n",
              "Counts -0.365569  1.000000"
            ]
          },
          "metadata": {
            "tags": []
          },
          "execution_count": 27
        }
      ]
    },
    {
      "cell_type": "markdown",
      "metadata": {
        "colab_type": "text",
        "id": "TcYiy6JonijB"
      },
      "source": [
        "### **Distribution of Risk Scores of Facilities**"
      ]
    },
    {
      "cell_type": "markdown",
      "metadata": {
        "colab_type": "text",
        "id": "QHzvzFwLn1ot"
      },
      "source": [
        "We visualized the distribution of average level of risk scores of each facility using the bar plot below:"
      ]
    },
    {
      "cell_type": "code",
      "metadata": {
        "colab_type": "code",
        "id": "1aMedXkjr9i4",
        "outputId": "db0c6ba0-dd36-4a8f-fefa-f4633e6ff718",
        "colab": {
          "base_uri": "https://localhost:8080/",
          "height": 170
        }
      },
      "source": [
        "# Grouped by risk scores and number of facilities\n",
        "df_avg_risk_score1 = pd.DataFrame(df_avg_risk_score).apply(lambda x: round(x)).reset_index()\n",
        "df_avg_risk_score1 = pd.DataFrame(df_avg_risk_score1.groupby('Risk').count()['Latitude']).rename(columns={'Latitude':'Counts'})\n",
        "df_avg_risk_score1"
      ],
      "execution_count": 28,
      "outputs": [
        {
          "output_type": "execute_result",
          "data": {
            "text/html": [
              "<div>\n",
              "<style scoped>\n",
              "    .dataframe tbody tr th:only-of-type {\n",
              "        vertical-align: middle;\n",
              "    }\n",
              "\n",
              "    .dataframe tbody tr th {\n",
              "        vertical-align: top;\n",
              "    }\n",
              "\n",
              "    .dataframe thead th {\n",
              "        text-align: right;\n",
              "    }\n",
              "</style>\n",
              "<table border=\"1\" class=\"dataframe\">\n",
              "  <thead>\n",
              "    <tr style=\"text-align: right;\">\n",
              "      <th></th>\n",
              "      <th>Counts</th>\n",
              "    </tr>\n",
              "    <tr>\n",
              "      <th>Risk</th>\n",
              "      <th></th>\n",
              "    </tr>\n",
              "  </thead>\n",
              "  <tbody>\n",
              "    <tr>\n",
              "      <th>1.0</th>\n",
              "      <td>15581</td>\n",
              "    </tr>\n",
              "    <tr>\n",
              "      <th>2.0</th>\n",
              "      <td>6720</td>\n",
              "    </tr>\n",
              "    <tr>\n",
              "      <th>3.0</th>\n",
              "      <td>4688</td>\n",
              "    </tr>\n",
              "  </tbody>\n",
              "</table>\n",
              "</div>"
            ],
            "text/plain": [
              "      Counts\n",
              "Risk        \n",
              "1.0    15581\n",
              "2.0     6720\n",
              "3.0     4688"
            ]
          },
          "metadata": {
            "tags": []
          },
          "execution_count": 28
        }
      ]
    },
    {
      "cell_type": "code",
      "metadata": {
        "colab_type": "code",
        "id": "H-8wb6jkr9i6",
        "outputId": "2cba8886-9f92-4471-95f9-221d2b263d6d",
        "colab": {
          "base_uri": "https://localhost:8080/",
          "height": 312
        }
      },
      "source": [
        "plt.bar(df_avg_risk_score1.index,df_avg_risk_score1['Counts'], color='darkcyan')\n",
        "plt.title('Distribution of average level of risk')\n",
        "plt.xlabel('Average risk score')\n",
        "plt.ylabel('Number of facilities')"
      ],
      "execution_count": 123,
      "outputs": [
        {
          "output_type": "execute_result",
          "data": {
            "text/plain": [
              "Text(0, 0.5, 'Number of facilities')"
            ]
          },
          "metadata": {
            "tags": []
          },
          "execution_count": 123
        },
        {
          "output_type": "display_data",
          "data": {
            "image/png": "[encoded data removed]",
            "text/plain": [
              "<Figure size 432x288 with 1 Axes>"
            ]
          },
          "metadata": {
            "tags": []
          }
        }
      ]
    },
    {
      "cell_type": "markdown",
      "metadata": {
        "colab_type": "text",
        "id": "Fi_AiSyn5Qkm"
      },
      "source": [
        "### **Different Branches vs. Risk Score**"
      ]
    },
    {
      "cell_type": "markdown",
      "metadata": {
        "colab_type": "text",
        "id": "I2FKMuipNzKH"
      },
      "source": [
        "For the next milestone, we want to analyze the average risk score of a facility between its different branches."
      ]
    },
    {
      "cell_type": "code",
      "metadata": {
        "colab_type": "code",
        "id": "s4zsIpOw5jtD",
        "colab": {}
      },
      "source": [
        "# Identify the facility with the highest number of branches\n",
        "#grouped_name = df.groupby('DBA Name').count()\n",
        "grouped_unique_name = pd.DataFrame(df.groupby('DBA Name').count().rename(columns={'Risk':'Counts'})['Counts']).sort_values(by='Counts',ascending=False).reset_index()\n",
        "grouped_unique_facility = pd.DataFrame(df.groupby(['Latitude','Longitude','DBA Name']).count().rename(columns={'Risk':'Counts'})['Counts']).sort_values(by='Counts',ascending=False).reset_index()"
      ],
      "execution_count": 0,
      "outputs": []
    },
    {
      "cell_type": "markdown",
      "metadata": {
        "colab_type": "text",
        "id": "NGrrO4kM9WXs"
      },
      "source": [
        "We will be investigating the facility (chain) with the highest number of branches to see if there is any difference in the risk scores of its branches. "
      ]
    },
    {
      "cell_type": "code",
      "metadata": {
        "colab_type": "code",
        "id": "FQg4wd2s5YDQ",
        "outputId": "52a8cfab-1bb1-4209-a7f5-71953b347dd1",
        "colab": {
          "base_uri": "https://localhost:8080/",
          "height": 200
        }
      },
      "source": [
        "# The facilities with the highest number of inspections (chain)\n",
        "grouped_unique_name.head()"
      ],
      "execution_count": 31,
      "outputs": [
        {
          "output_type": "execute_result",
          "data": {
            "text/html": [
              "<div>\n",
              "<style scoped>\n",
              "    .dataframe tbody tr th:only-of-type {\n",
              "        vertical-align: middle;\n",
              "    }\n",
              "\n",
              "    .dataframe tbody tr th {\n",
              "        vertical-align: top;\n",
              "    }\n",
              "\n",
              "    .dataframe thead th {\n",
              "        text-align: right;\n",
              "    }\n",
              "</style>\n",
              "<table border=\"1\" class=\"dataframe\">\n",
              "  <thead>\n",
              "    <tr style=\"text-align: right;\">\n",
              "      <th></th>\n",
              "      <th>DBA Name</th>\n",
              "      <th>Counts</th>\n",
              "    </tr>\n",
              "  </thead>\n",
              "  <tbody>\n",
              "    <tr>\n",
              "      <th>0</th>\n",
              "      <td>SUBWAY</td>\n",
              "      <td>4069</td>\n",
              "    </tr>\n",
              "    <tr>\n",
              "      <th>1</th>\n",
              "      <td>DUNKIN DONUTS</td>\n",
              "      <td>2259</td>\n",
              "    </tr>\n",
              "    <tr>\n",
              "      <th>2</th>\n",
              "      <td>MCDONALDS</td>\n",
              "      <td>2216</td>\n",
              "    </tr>\n",
              "    <tr>\n",
              "      <th>3</th>\n",
              "      <td>7-ELEVEN</td>\n",
              "      <td>1410</td>\n",
              "    </tr>\n",
              "    <tr>\n",
              "      <th>4</th>\n",
              "      <td>STARBUCKS</td>\n",
              "      <td>1398</td>\n",
              "    </tr>\n",
              "  </tbody>\n",
              "</table>\n",
              "</div>"
            ],
            "text/plain": [
              "        DBA Name  Counts\n",
              "0         SUBWAY    4069\n",
              "1  DUNKIN DONUTS    2259\n",
              "2      MCDONALDS    2216\n",
              "3       7-ELEVEN    1410\n",
              "4      STARBUCKS    1398"
            ]
          },
          "metadata": {
            "tags": []
          },
          "execution_count": 31
        }
      ]
    },
    {
      "cell_type": "code",
      "metadata": {
        "colab_type": "code",
        "id": "ahCqevsq6G-T",
        "outputId": "49f4e6c4-c51c-42ff-8e54-2dc26a9945c6",
        "colab": {
          "base_uri": "https://localhost:8080/",
          "height": 200
        }
      },
      "source": [
        "# The facilities with the highest number of inspections (unique)\n",
        "grouped_unique_facility.head()"
      ],
      "execution_count": 32,
      "outputs": [
        {
          "output_type": "execute_result",
          "data": {
            "text/html": [
              "<div>\n",
              "<style scoped>\n",
              "    .dataframe tbody tr th:only-of-type {\n",
              "        vertical-align: middle;\n",
              "    }\n",
              "\n",
              "    .dataframe tbody tr th {\n",
              "        vertical-align: top;\n",
              "    }\n",
              "\n",
              "    .dataframe thead th {\n",
              "        text-align: right;\n",
              "    }\n",
              "</style>\n",
              "<table border=\"1\" class=\"dataframe\">\n",
              "  <thead>\n",
              "    <tr style=\"text-align: right;\">\n",
              "      <th></th>\n",
              "      <th>Latitude</th>\n",
              "      <th>Longitude</th>\n",
              "      <th>DBA Name</th>\n",
              "      <th>Counts</th>\n",
              "    </tr>\n",
              "  </thead>\n",
              "  <tbody>\n",
              "    <tr>\n",
              "      <th>0</th>\n",
              "      <td>41.862628</td>\n",
              "      <td>-87.615031</td>\n",
              "      <td>SPORT SERVICE SOLDIER FIELD</td>\n",
              "      <td>197</td>\n",
              "    </tr>\n",
              "    <tr>\n",
              "      <th>1</th>\n",
              "      <td>41.830784</td>\n",
              "      <td>-87.635296</td>\n",
              "      <td>ILLINOIS SPORTSERVICE</td>\n",
              "      <td>173</td>\n",
              "    </tr>\n",
              "    <tr>\n",
              "      <th>2</th>\n",
              "      <td>42.008536</td>\n",
              "      <td>-87.914428</td>\n",
              "      <td>STARBUCKS</td>\n",
              "      <td>159</td>\n",
              "    </tr>\n",
              "    <tr>\n",
              "      <th>3</th>\n",
              "      <td>42.008536</td>\n",
              "      <td>-87.914428</td>\n",
              "      <td>MCDONALDS</td>\n",
              "      <td>148</td>\n",
              "    </tr>\n",
              "    <tr>\n",
              "      <th>4</th>\n",
              "      <td>41.947317</td>\n",
              "      <td>-87.656418</td>\n",
              "      <td>LEVY RESTAURANTS</td>\n",
              "      <td>148</td>\n",
              "    </tr>\n",
              "  </tbody>\n",
              "</table>\n",
              "</div>"
            ],
            "text/plain": [
              "    Latitude  Longitude                     DBA Name  Counts\n",
              "0  41.862628 -87.615031  SPORT SERVICE SOLDIER FIELD     197\n",
              "1  41.830784 -87.635296        ILLINOIS SPORTSERVICE     173\n",
              "2  42.008536 -87.914428                    STARBUCKS     159\n",
              "3  42.008536 -87.914428                    MCDONALDS     148\n",
              "4  41.947317 -87.656418             LEVY RESTAURANTS     148"
            ]
          },
          "metadata": {
            "tags": []
          },
          "execution_count": 32
        }
      ]
    },
    {
      "cell_type": "markdown",
      "metadata": {
        "colab_type": "text",
        "id": "_n637CHg_9jG"
      },
      "source": [
        "### **Type of Facility vs. Percentage of Going Out of Business**"
      ]
    },
    {
      "cell_type": "code",
      "metadata": {
        "colab_type": "code",
        "id": "hU9hCSduAtKO",
        "outputId": "e900db7a-7594-4a5b-e9d5-de0d3b535557",
        "colab": {
          "base_uri": "https://localhost:8080/",
          "height": 200
        }
      },
      "source": [
        "# Data grouped by the facility type\n",
        "fac_dist.head()"
      ],
      "execution_count": 33,
      "outputs": [
        {
          "output_type": "execute_result",
          "data": {
            "text/html": [
              "<div>\n",
              "<style scoped>\n",
              "    .dataframe tbody tr th:only-of-type {\n",
              "        vertical-align: middle;\n",
              "    }\n",
              "\n",
              "    .dataframe tbody tr th {\n",
              "        vertical-align: top;\n",
              "    }\n",
              "\n",
              "    .dataframe thead th {\n",
              "        text-align: right;\n",
              "    }\n",
              "</style>\n",
              "<table border=\"1\" class=\"dataframe\">\n",
              "  <thead>\n",
              "    <tr style=\"text-align: right;\">\n",
              "      <th></th>\n",
              "      <th>Facility Type</th>\n",
              "      <th>Counts</th>\n",
              "    </tr>\n",
              "  </thead>\n",
              "  <tbody>\n",
              "    <tr>\n",
              "      <th>0</th>\n",
              "      <td>RESTAURANT</td>\n",
              "      <td>131852</td>\n",
              "    </tr>\n",
              "    <tr>\n",
              "      <th>1</th>\n",
              "      <td>RETAIL STORE</td>\n",
              "      <td>25635</td>\n",
              "    </tr>\n",
              "    <tr>\n",
              "      <th>2</th>\n",
              "      <td>SCHOOL</td>\n",
              "      <td>12054</td>\n",
              "    </tr>\n",
              "    <tr>\n",
              "      <th>3</th>\n",
              "      <td>DAYCARE</td>\n",
              "      <td>9537</td>\n",
              "    </tr>\n",
              "    <tr>\n",
              "      <th>4</th>\n",
              "      <td>BAKERY</td>\n",
              "      <td>2923</td>\n",
              "    </tr>\n",
              "  </tbody>\n",
              "</table>\n",
              "</div>"
            ],
            "text/plain": [
              "  Facility Type  Counts\n",
              "0    RESTAURANT  131852\n",
              "1  RETAIL STORE   25635\n",
              "2        SCHOOL   12054\n",
              "3       DAYCARE    9537\n",
              "4        BAKERY    2923"
            ]
          },
          "metadata": {
            "tags": []
          },
          "execution_count": 33
        }
      ]
    },
    {
      "cell_type": "code",
      "metadata": {
        "colab_type": "code",
        "id": "-sqDIFO0A4IU",
        "colab": {}
      },
      "source": [
        "# Group out of business facilities on facility type\n",
        "df_oob_fac = pd.DataFrame(df_oob.groupby('Facility Type').count().rename(columns={'Risk':'Counts'})['Counts'])\n",
        "merged_fac_oob = pd.merge(left=df_oob_fac.reset_index(), right=fac_dist.reset_index(),left_on=['Facility Type'],right_on=['Facility Type'])"
      ],
      "execution_count": 0,
      "outputs": []
    },
    {
      "cell_type": "code",
      "metadata": {
        "colab_type": "code",
        "id": "A87w-TYQAvyu",
        "outputId": "557090e4-627a-4df3-f793-3878e9da7709",
        "colab": {
          "base_uri": "https://localhost:8080/",
          "height": 200
        }
      },
      "source": [
        "merged_fac_oob.head()"
      ],
      "execution_count": 35,
      "outputs": [
        {
          "output_type": "execute_result",
          "data": {
            "text/html": [
              "<div>\n",
              "<style scoped>\n",
              "    .dataframe tbody tr th:only-of-type {\n",
              "        vertical-align: middle;\n",
              "    }\n",
              "\n",
              "    .dataframe tbody tr th {\n",
              "        vertical-align: top;\n",
              "    }\n",
              "\n",
              "    .dataframe thead th {\n",
              "        text-align: right;\n",
              "    }\n",
              "</style>\n",
              "<table border=\"1\" class=\"dataframe\">\n",
              "  <thead>\n",
              "    <tr style=\"text-align: right;\">\n",
              "      <th></th>\n",
              "      <th>Facility Type</th>\n",
              "      <th>Counts_x</th>\n",
              "      <th>index</th>\n",
              "      <th>Counts_y</th>\n",
              "    </tr>\n",
              "  </thead>\n",
              "  <tbody>\n",
              "    <tr>\n",
              "      <th>0</th>\n",
              "      <td>ASSISTED LIVING/NURSING HOME</td>\n",
              "      <td>4</td>\n",
              "      <td>21</td>\n",
              "      <td>95</td>\n",
              "    </tr>\n",
              "    <tr>\n",
              "      <th>1</th>\n",
              "      <td>BAKERY</td>\n",
              "      <td>249</td>\n",
              "      <td>4</td>\n",
              "      <td>2923</td>\n",
              "    </tr>\n",
              "    <tr>\n",
              "      <th>2</th>\n",
              "      <td>BANQUET</td>\n",
              "      <td>19</td>\n",
              "      <td>13</td>\n",
              "      <td>338</td>\n",
              "    </tr>\n",
              "    <tr>\n",
              "      <th>3</th>\n",
              "      <td>BAR</td>\n",
              "      <td>6</td>\n",
              "      <td>24</td>\n",
              "      <td>81</td>\n",
              "    </tr>\n",
              "    <tr>\n",
              "      <th>4</th>\n",
              "      <td>BUTCHER</td>\n",
              "      <td>5</td>\n",
              "      <td>34</td>\n",
              "      <td>34</td>\n",
              "    </tr>\n",
              "  </tbody>\n",
              "</table>\n",
              "</div>"
            ],
            "text/plain": [
              "                  Facility Type  Counts_x  index  Counts_y\n",
              "0  ASSISTED LIVING/NURSING HOME         4     21        95\n",
              "1                        BAKERY       249      4      2923\n",
              "2                       BANQUET        19     13       338\n",
              "3                           BAR         6     24        81\n",
              "4                       BUTCHER         5     34        34"
            ]
          },
          "metadata": {
            "tags": []
          },
          "execution_count": 35
        }
      ]
    },
    {
      "cell_type": "code",
      "metadata": {
        "colab_type": "code",
        "id": "le_INawoDHVL",
        "colab": {}
      },
      "source": [
        "merged_fac_oob['Oob Ratio'] = merged_fac_oob['Counts_x'].divide(merged_fac_oob['Counts_y'], fill_value=1)"
      ],
      "execution_count": 0,
      "outputs": []
    },
    {
      "cell_type": "code",
      "metadata": {
        "colab_type": "code",
        "id": "qlwbJvSnDrT1",
        "outputId": "cdbdca70-9151-4b82-9392-a860434a8d9b",
        "colab": {
          "base_uri": "https://localhost:8080/",
          "height": 200
        }
      },
      "source": [
        "merged_fac_oob.sort_values(by='Oob Ratio', ascending=False).drop(columns='index').head()"
      ],
      "execution_count": 37,
      "outputs": [
        {
          "output_type": "execute_result",
          "data": {
            "text/html": [
              "<div>\n",
              "<style scoped>\n",
              "    .dataframe tbody tr th:only-of-type {\n",
              "        vertical-align: middle;\n",
              "    }\n",
              "\n",
              "    .dataframe tbody tr th {\n",
              "        vertical-align: top;\n",
              "    }\n",
              "\n",
              "    .dataframe thead th {\n",
              "        text-align: right;\n",
              "    }\n",
              "</style>\n",
              "<table border=\"1\" class=\"dataframe\">\n",
              "  <thead>\n",
              "    <tr style=\"text-align: right;\">\n",
              "      <th></th>\n",
              "      <th>Facility Type</th>\n",
              "      <th>Counts_x</th>\n",
              "      <th>Counts_y</th>\n",
              "      <th>Oob Ratio</th>\n",
              "    </tr>\n",
              "  </thead>\n",
              "  <tbody>\n",
              "    <tr>\n",
              "      <th>30</th>\n",
              "      <td>PANTRY</td>\n",
              "      <td>5</td>\n",
              "      <td>9</td>\n",
              "      <td>0.555556</td>\n",
              "    </tr>\n",
              "    <tr>\n",
              "      <th>14</th>\n",
              "      <td>DISTRIBUTION</td>\n",
              "      <td>3</td>\n",
              "      <td>10</td>\n",
              "      <td>0.300000</td>\n",
              "    </tr>\n",
              "    <tr>\n",
              "      <th>41</th>\n",
              "      <td>WAREHOUSE</td>\n",
              "      <td>2</td>\n",
              "      <td>13</td>\n",
              "      <td>0.153846</td>\n",
              "    </tr>\n",
              "    <tr>\n",
              "      <th>4</th>\n",
              "      <td>BUTCHER</td>\n",
              "      <td>5</td>\n",
              "      <td>34</td>\n",
              "      <td>0.147059</td>\n",
              "    </tr>\n",
              "    <tr>\n",
              "      <th>18</th>\n",
              "      <td>HERBAL</td>\n",
              "      <td>6</td>\n",
              "      <td>47</td>\n",
              "      <td>0.127660</td>\n",
              "    </tr>\n",
              "  </tbody>\n",
              "</table>\n",
              "</div>"
            ],
            "text/plain": [
              "   Facility Type  Counts_x  Counts_y  Oob Ratio\n",
              "30        PANTRY         5         9   0.555556\n",
              "14  DISTRIBUTION         3        10   0.300000\n",
              "41     WAREHOUSE         2        13   0.153846\n",
              "4        BUTCHER         5        34   0.147059\n",
              "18        HERBAL         6        47   0.127660"
            ]
          },
          "metadata": {
            "tags": []
          },
          "execution_count": 37
        }
      ]
    },
    {
      "cell_type": "code",
      "metadata": {
        "colab_type": "code",
        "id": "VRWfp0XxFLV1",
        "outputId": "13a33a89-4d9e-441a-ef4d-8b98c2a18365",
        "colab": {
          "base_uri": "https://localhost:8080/",
          "height": 109
        }
      },
      "source": [
        "merged_fac_oob[['Oob Ratio', 'Counts_y']].corr(method='pearson')"
      ],
      "execution_count": 38,
      "outputs": [
        {
          "output_type": "execute_result",
          "data": {
            "text/html": [
              "<div>\n",
              "<style scoped>\n",
              "    .dataframe tbody tr th:only-of-type {\n",
              "        vertical-align: middle;\n",
              "    }\n",
              "\n",
              "    .dataframe tbody tr th {\n",
              "        vertical-align: top;\n",
              "    }\n",
              "\n",
              "    .dataframe thead th {\n",
              "        text-align: right;\n",
              "    }\n",
              "</style>\n",
              "<table border=\"1\" class=\"dataframe\">\n",
              "  <thead>\n",
              "    <tr style=\"text-align: right;\">\n",
              "      <th></th>\n",
              "      <th>Oob Ratio</th>\n",
              "      <th>Counts_y</th>\n",
              "    </tr>\n",
              "  </thead>\n",
              "  <tbody>\n",
              "    <tr>\n",
              "      <th>Oob Ratio</th>\n",
              "      <td>1.000000</td>\n",
              "      <td>-0.042375</td>\n",
              "    </tr>\n",
              "    <tr>\n",
              "      <th>Counts_y</th>\n",
              "      <td>-0.042375</td>\n",
              "      <td>1.000000</td>\n",
              "    </tr>\n",
              "  </tbody>\n",
              "</table>\n",
              "</div>"
            ],
            "text/plain": [
              "           Oob Ratio  Counts_y\n",
              "Oob Ratio   1.000000 -0.042375\n",
              "Counts_y   -0.042375  1.000000"
            ]
          },
          "metadata": {
            "tags": []
          },
          "execution_count": 38
        }
      ]
    },
    {
      "cell_type": "markdown",
      "metadata": {
        "colab_type": "text",
        "id": "DTiyvgeeHIX5"
      },
      "source": [
        "We wanted to identify a possible correlation between the type of facility and the percentage of going out of business. However, when we calculated the pearson's correlation factor, we observed no correlation."
      ]
    },
    {
      "cell_type": "markdown",
      "metadata": {
        "colab_type": "text",
        "id": "PZh_kj61J8BC"
      },
      "source": [
        "### **Percentage of Going Out of Business vs. Average Risk Score**"
      ]
    },
    {
      "cell_type": "code",
      "metadata": {
        "colab_type": "code",
        "id": "3QgEx1ESKmkZ",
        "colab": {}
      },
      "source": [
        "# Merge the out of business facility types with their average risk scores\n",
        "fac_oob_risk = pd.merge(left=merged_fac_oob.reset_index(), right=grouped_fac_risk_mean.reset_index(),left_on=['Facility Type'],right_on=['Facility Type'])"
      ],
      "execution_count": 0,
      "outputs": []
    },
    {
      "cell_type": "code",
      "metadata": {
        "colab_type": "code",
        "id": "wfajDTtELI6m",
        "outputId": "6a4cfc01-9b07-4b75-83e9-074670deb975",
        "colab": {
          "base_uri": "https://localhost:8080/",
          "height": 200
        }
      },
      "source": [
        "fac_oob_risk.drop(columns=['index_x', 'index_y']).rename(columns={'Counts_x':'Oob Count', 'Counts_y':'Total Count'}).head()"
      ],
      "execution_count": 40,
      "outputs": [
        {
          "output_type": "execute_result",
          "data": {
            "text/html": [
              "<div>\n",
              "<style scoped>\n",
              "    .dataframe tbody tr th:only-of-type {\n",
              "        vertical-align: middle;\n",
              "    }\n",
              "\n",
              "    .dataframe tbody tr th {\n",
              "        vertical-align: top;\n",
              "    }\n",
              "\n",
              "    .dataframe thead th {\n",
              "        text-align: right;\n",
              "    }\n",
              "</style>\n",
              "<table border=\"1\" class=\"dataframe\">\n",
              "  <thead>\n",
              "    <tr style=\"text-align: right;\">\n",
              "      <th></th>\n",
              "      <th>level_0</th>\n",
              "      <th>Facility Type</th>\n",
              "      <th>Oob Count</th>\n",
              "      <th>Total Count</th>\n",
              "      <th>Oob Ratio</th>\n",
              "      <th>Risk</th>\n",
              "    </tr>\n",
              "  </thead>\n",
              "  <tbody>\n",
              "    <tr>\n",
              "      <th>0</th>\n",
              "      <td>0</td>\n",
              "      <td>ASSISTED LIVING/NURSING HOME</td>\n",
              "      <td>4</td>\n",
              "      <td>95</td>\n",
              "      <td>0.042105</td>\n",
              "      <td>1.000000</td>\n",
              "    </tr>\n",
              "    <tr>\n",
              "      <th>1</th>\n",
              "      <td>1</td>\n",
              "      <td>BAKERY</td>\n",
              "      <td>249</td>\n",
              "      <td>2923</td>\n",
              "      <td>0.085186</td>\n",
              "      <td>1.629490</td>\n",
              "    </tr>\n",
              "    <tr>\n",
              "      <th>2</th>\n",
              "      <td>2</td>\n",
              "      <td>BANQUET</td>\n",
              "      <td>19</td>\n",
              "      <td>338</td>\n",
              "      <td>0.056213</td>\n",
              "      <td>1.118343</td>\n",
              "    </tr>\n",
              "    <tr>\n",
              "      <th>3</th>\n",
              "      <td>3</td>\n",
              "      <td>BAR</td>\n",
              "      <td>6</td>\n",
              "      <td>81</td>\n",
              "      <td>0.074074</td>\n",
              "      <td>2.135802</td>\n",
              "    </tr>\n",
              "    <tr>\n",
              "      <th>4</th>\n",
              "      <td>4</td>\n",
              "      <td>BUTCHER</td>\n",
              "      <td>5</td>\n",
              "      <td>34</td>\n",
              "      <td>0.147059</td>\n",
              "      <td>2.029412</td>\n",
              "    </tr>\n",
              "  </tbody>\n",
              "</table>\n",
              "</div>"
            ],
            "text/plain": [
              "   level_0                 Facility Type  ...  Oob Ratio      Risk\n",
              "0        0  ASSISTED LIVING/NURSING HOME  ...   0.042105  1.000000\n",
              "1        1                        BAKERY  ...   0.085186  1.629490\n",
              "2        2                       BANQUET  ...   0.056213  1.118343\n",
              "3        3                           BAR  ...   0.074074  2.135802\n",
              "4        4                       BUTCHER  ...   0.147059  2.029412\n",
              "\n",
              "[5 rows x 6 columns]"
            ]
          },
          "metadata": {
            "tags": []
          },
          "execution_count": 40
        }
      ]
    },
    {
      "cell_type": "code",
      "metadata": {
        "colab_type": "code",
        "id": "d1Bbc2-iLKKi",
        "outputId": "2edaa38e-3936-4566-d54b-aaaec1528c4e",
        "colab": {
          "base_uri": "https://localhost:8080/",
          "height": 109
        }
      },
      "source": [
        "fac_oob_risk[['Oob Ratio', 'Risk']].corr(method='pearson')"
      ],
      "execution_count": 41,
      "outputs": [
        {
          "output_type": "execute_result",
          "data": {
            "text/html": [
              "<div>\n",
              "<style scoped>\n",
              "    .dataframe tbody tr th:only-of-type {\n",
              "        vertical-align: middle;\n",
              "    }\n",
              "\n",
              "    .dataframe tbody tr th {\n",
              "        vertical-align: top;\n",
              "    }\n",
              "\n",
              "    .dataframe thead th {\n",
              "        text-align: right;\n",
              "    }\n",
              "</style>\n",
              "<table border=\"1\" class=\"dataframe\">\n",
              "  <thead>\n",
              "    <tr style=\"text-align: right;\">\n",
              "      <th></th>\n",
              "      <th>Oob Ratio</th>\n",
              "      <th>Risk</th>\n",
              "    </tr>\n",
              "  </thead>\n",
              "  <tbody>\n",
              "    <tr>\n",
              "      <th>Oob Ratio</th>\n",
              "      <td>1.000000</td>\n",
              "      <td>0.202511</td>\n",
              "    </tr>\n",
              "    <tr>\n",
              "      <th>Risk</th>\n",
              "      <td>0.202511</td>\n",
              "      <td>1.000000</td>\n",
              "    </tr>\n",
              "  </tbody>\n",
              "</table>\n",
              "</div>"
            ],
            "text/plain": [
              "           Oob Ratio      Risk\n",
              "Oob Ratio   1.000000  0.202511\n",
              "Risk        0.202511  1.000000"
            ]
          },
          "metadata": {
            "tags": []
          },
          "execution_count": 41
        }
      ]
    },
    {
      "cell_type": "markdown",
      "metadata": {
        "colab_type": "text",
        "id": "c74wraFTNRcp"
      },
      "source": [
        "We wanted to identify a possible correlation between the out of business ratio and the risk of the type of facility. However, when we calculated the pearson's correlation factor, we observed no correlation.\n",
        "\n"
      ]
    },
    {
      "cell_type": "markdown",
      "metadata": {
        "colab_type": "text",
        "id": "PixL067182Vq"
      },
      "source": [
        "## **Violation Type Analysis**"
      ]
    },
    {
      "cell_type": "markdown",
      "metadata": {
        "colab_type": "text",
        "id": "WRjDeP-k4NAn"
      },
      "source": [
        "### **Violations analysis - facilities that have gone out of business**"
      ]
    },
    {
      "cell_type": "code",
      "metadata": {
        "colab_type": "code",
        "id": "8WiNcwRD9xyd",
        "outputId": "74be3d3e-0c4b-4964-e91f-c72e4c609e52",
        "colab": {
          "base_uri": "https://localhost:8080/",
          "height": 1000
        }
      },
      "source": [
        "df_oob_unique.reset_index(inplace=True)\n",
        "merged_oob = pd.merge(left=df_oob_unique[['Latitude', 'Longitude', 'DBA Name']], right=df, on=['Latitude', 'Longitude', 'DBA Name'])\n",
        "merged_oob.head(10)"
      ],
      "execution_count": 42,
      "outputs": [
        {
          "output_type": "execute_result",
          "data": {
            "text/html": [
              "<div>\n",
              "<style scoped>\n",
              "    .dataframe tbody tr th:only-of-type {\n",
              "        vertical-align: middle;\n",
              "    }\n",
              "\n",
              "    .dataframe tbody tr th {\n",
              "        vertical-align: top;\n",
              "    }\n",
              "\n",
              "    .dataframe thead th {\n",
              "        text-align: right;\n",
              "    }\n",
              "</style>\n",
              "<table border=\"1\" class=\"dataframe\">\n",
              "  <thead>\n",
              "    <tr style=\"text-align: right;\">\n",
              "      <th></th>\n",
              "      <th>Latitude</th>\n",
              "      <th>Longitude</th>\n",
              "      <th>DBA Name</th>\n",
              "      <th>Inspection ID</th>\n",
              "      <th>AKA Name</th>\n",
              "      <th>License #</th>\n",
              "      <th>Facility Type</th>\n",
              "      <th>Risk</th>\n",
              "      <th>Address</th>\n",
              "      <th>Zip</th>\n",
              "      <th>Inspection Date</th>\n",
              "      <th>Inspection Type</th>\n",
              "      <th>Results</th>\n",
              "      <th>Violations</th>\n",
              "      <th>Location</th>\n",
              "      <th>Regions</th>\n",
              "    </tr>\n",
              "  </thead>\n",
              "  <tbody>\n",
              "    <tr>\n",
              "      <th>0</th>\n",
              "      <td>41.64467</td>\n",
              "      <td>-87.540095</td>\n",
              "      <td>BURGER KING</td>\n",
              "      <td>2240219</td>\n",
              "      <td>BURGER KING</td>\n",
              "      <td>2368796.0</td>\n",
              "      <td>RESTAURANT</td>\n",
              "      <td>2</td>\n",
              "      <td>13770 S AVENUE O</td>\n",
              "      <td>60633.0</td>\n",
              "      <td>2018-11-15T00:00:00.000</td>\n",
              "      <td>COMPLAINT</td>\n",
              "      <td>Pass w/ Conditions</td>\n",
              "      <td>2. CITY OF CHICAGO FOOD SERVICE SANITATION CER...</td>\n",
              "      <td>{'latitude': '-87.5400946053766', 'longitude':...</td>\n",
              "      <td>HEGEWISCH</td>\n",
              "    </tr>\n",
              "    <tr>\n",
              "      <th>1</th>\n",
              "      <td>41.64467</td>\n",
              "      <td>-87.540095</td>\n",
              "      <td>BURGER KING</td>\n",
              "      <td>2200946</td>\n",
              "      <td>BURGER KING</td>\n",
              "      <td>2368796.0</td>\n",
              "      <td>RESTAURANT</td>\n",
              "      <td>2</td>\n",
              "      <td>13770 S AVENUE O</td>\n",
              "      <td>60633.0</td>\n",
              "      <td>2018-08-14T00:00:00.000</td>\n",
              "      <td>COMPLAINT</td>\n",
              "      <td>Pass w/ Conditions</td>\n",
              "      <td>2. CITY OF CHICAGO FOOD SERVICE SANITATION CER...</td>\n",
              "      <td>{'latitude': '-87.5400946053766', 'longitude':...</td>\n",
              "      <td>HEGEWISCH</td>\n",
              "    </tr>\n",
              "    <tr>\n",
              "      <th>2</th>\n",
              "      <td>41.64467</td>\n",
              "      <td>-87.540095</td>\n",
              "      <td>BURGER KING</td>\n",
              "      <td>1950282</td>\n",
              "      <td>BURGER KING</td>\n",
              "      <td>2368796.0</td>\n",
              "      <td>RESTAURANT</td>\n",
              "      <td>2</td>\n",
              "      <td>13770 S AVENUE O</td>\n",
              "      <td>60633.0</td>\n",
              "      <td>2016-08-12T00:00:00.000</td>\n",
              "      <td>CANVASS</td>\n",
              "      <td>Pass</td>\n",
              "      <td>34. FLOORS: CONSTRUCTED PER CODE, CLEANED, GOO...</td>\n",
              "      <td>{'latitude': '-87.5400946053766', 'longitude':...</td>\n",
              "      <td>HEGEWISCH</td>\n",
              "    </tr>\n",
              "    <tr>\n",
              "      <th>3</th>\n",
              "      <td>41.64467</td>\n",
              "      <td>-87.540095</td>\n",
              "      <td>BURGER KING</td>\n",
              "      <td>1523175</td>\n",
              "      <td>BURGER KING</td>\n",
              "      <td>2368796.0</td>\n",
              "      <td>RESTAURANT</td>\n",
              "      <td>2</td>\n",
              "      <td>13770 S AVENUE O</td>\n",
              "      <td>60633.0</td>\n",
              "      <td>2015-02-23T00:00:00.000</td>\n",
              "      <td>LICENSE</td>\n",
              "      <td>Pass</td>\n",
              "      <td>33. FOOD AND NON-FOOD CONTACT EQUIPMENT UTENSI...</td>\n",
              "      <td>{'latitude': '-87.5400946053766', 'longitude':...</td>\n",
              "      <td>HEGEWISCH</td>\n",
              "    </tr>\n",
              "    <tr>\n",
              "      <th>4</th>\n",
              "      <td>41.64467</td>\n",
              "      <td>-87.540095</td>\n",
              "      <td>BURGER KING</td>\n",
              "      <td>1527281</td>\n",
              "      <td>BURGER KING #7268</td>\n",
              "      <td>1473518.0</td>\n",
              "      <td>RESTAURANT</td>\n",
              "      <td>2</td>\n",
              "      <td>13770 S AVENUE O</td>\n",
              "      <td>60633.0</td>\n",
              "      <td>2015-02-23T00:00:00.000</td>\n",
              "      <td>CANVASS</td>\n",
              "      <td>Out of Business</td>\n",
              "      <td>NaN</td>\n",
              "      <td>{'latitude': '-87.5400946053766', 'longitude':...</td>\n",
              "      <td>HEGEWISCH</td>\n",
              "    </tr>\n",
              "    <tr>\n",
              "      <th>5</th>\n",
              "      <td>41.64467</td>\n",
              "      <td>-87.540095</td>\n",
              "      <td>BURGER KING</td>\n",
              "      <td>1494060</td>\n",
              "      <td>BURGER KING #7268</td>\n",
              "      <td>1473518.0</td>\n",
              "      <td>RESTAURANT</td>\n",
              "      <td>2</td>\n",
              "      <td>13770 S AVENUE O</td>\n",
              "      <td>60633.0</td>\n",
              "      <td>2014-08-26T00:00:00.000</td>\n",
              "      <td>CANVASS</td>\n",
              "      <td>Pass</td>\n",
              "      <td>NaN</td>\n",
              "      <td>{'latitude': '-87.5400946053766', 'longitude':...</td>\n",
              "      <td>HEGEWISCH</td>\n",
              "    </tr>\n",
              "    <tr>\n",
              "      <th>6</th>\n",
              "      <td>41.64467</td>\n",
              "      <td>-87.540095</td>\n",
              "      <td>BURGER KING</td>\n",
              "      <td>1493718</td>\n",
              "      <td>BURGER KING #7268</td>\n",
              "      <td>1473518.0</td>\n",
              "      <td>RESTAURANT</td>\n",
              "      <td>2</td>\n",
              "      <td>13770 S AVENUE O</td>\n",
              "      <td>60633.0</td>\n",
              "      <td>2014-08-18T00:00:00.000</td>\n",
              "      <td>CANVASS</td>\n",
              "      <td>Fail</td>\n",
              "      <td>12. HAND WASHING FACILITIES: WITH SOAP AND SAN...</td>\n",
              "      <td>{'latitude': '-87.5400946053766', 'longitude':...</td>\n",
              "      <td>HEGEWISCH</td>\n",
              "    </tr>\n",
              "    <tr>\n",
              "      <th>7</th>\n",
              "      <td>41.64467</td>\n",
              "      <td>-87.540095</td>\n",
              "      <td>BURGER KING</td>\n",
              "      <td>1300984</td>\n",
              "      <td>BURGER KING #7268</td>\n",
              "      <td>1473518.0</td>\n",
              "      <td>RESTAURANT</td>\n",
              "      <td>2</td>\n",
              "      <td>13770 S AVENUE O</td>\n",
              "      <td>60633.0</td>\n",
              "      <td>2012-12-19T00:00:00.000</td>\n",
              "      <td>CANVASS</td>\n",
              "      <td>Pass w/ Conditions</td>\n",
              "      <td>21. * CERTIFIED FOOD MANAGER ON SITE WHEN POTE...</td>\n",
              "      <td>{'latitude': '-87.5400946053766', 'longitude':...</td>\n",
              "      <td>HEGEWISCH</td>\n",
              "    </tr>\n",
              "    <tr>\n",
              "      <th>8</th>\n",
              "      <td>41.64467</td>\n",
              "      <td>-87.540095</td>\n",
              "      <td>BURGER KING</td>\n",
              "      <td>537818</td>\n",
              "      <td>BURGER KING #7268</td>\n",
              "      <td>1473518.0</td>\n",
              "      <td>RESTAURANT</td>\n",
              "      <td>2</td>\n",
              "      <td>13770 S AVENUE O</td>\n",
              "      <td>60633.0</td>\n",
              "      <td>2012-01-10T00:00:00.000</td>\n",
              "      <td>COMPLAINT</td>\n",
              "      <td>Pass w/ Conditions</td>\n",
              "      <td>8. SANITIZING RINSE FOR EQUIPMENT AND UTENSILS...</td>\n",
              "      <td>{'latitude': '-87.5400946053766', 'longitude':...</td>\n",
              "      <td>HEGEWISCH</td>\n",
              "    </tr>\n",
              "    <tr>\n",
              "      <th>9</th>\n",
              "      <td>41.64467</td>\n",
              "      <td>-87.540095</td>\n",
              "      <td>BURGER KING</td>\n",
              "      <td>537384</td>\n",
              "      <td>BURGER KING #7268</td>\n",
              "      <td>1473518.0</td>\n",
              "      <td>RESTAURANT</td>\n",
              "      <td>2</td>\n",
              "      <td>13770 S AVENUE O</td>\n",
              "      <td>60633.0</td>\n",
              "      <td>2011-05-26T00:00:00.000</td>\n",
              "      <td>COMPLAINT</td>\n",
              "      <td>Pass</td>\n",
              "      <td>33. FOOD AND NON-FOOD CONTACT EQUIPMENT UTENSI...</td>\n",
              "      <td>{'latitude': '-87.5400946053766', 'longitude':...</td>\n",
              "      <td>HEGEWISCH</td>\n",
              "    </tr>\n",
              "  </tbody>\n",
              "</table>\n",
              "</div>"
            ],
            "text/plain": [
              "   Latitude  ...    Regions\n",
              "0  41.64467  ...  HEGEWISCH\n",
              "1  41.64467  ...  HEGEWISCH\n",
              "2  41.64467  ...  HEGEWISCH\n",
              "3  41.64467  ...  HEGEWISCH\n",
              "4  41.64467  ...  HEGEWISCH\n",
              "5  41.64467  ...  HEGEWISCH\n",
              "6  41.64467  ...  HEGEWISCH\n",
              "7  41.64467  ...  HEGEWISCH\n",
              "8  41.64467  ...  HEGEWISCH\n",
              "9  41.64467  ...  HEGEWISCH\n",
              "\n",
              "[10 rows x 16 columns]"
            ]
          },
          "metadata": {
            "tags": []
          },
          "execution_count": 42
        }
      ]
    },
    {
      "cell_type": "code",
      "metadata": {
        "colab_type": "code",
        "id": "dw11IqbDDp23",
        "outputId": "7ae013b7-5016-45ca-e13e-f7fd06dc6208",
        "colab": {
          "base_uri": "https://localhost:8080/",
          "height": 1000
        }
      },
      "source": [
        "# Out of business facilities that have more than 1 inspection\n",
        "dup_oob = merged_oob.groupby(['Latitude', 'Longitude', 'DBA Name']).filter(lambda x : len(x) > 1)\n",
        "dup_oob.head(10)"
      ],
      "execution_count": 43,
      "outputs": [
        {
          "output_type": "execute_result",
          "data": {
            "text/html": [
              "<div>\n",
              "<style scoped>\n",
              "    .dataframe tbody tr th:only-of-type {\n",
              "        vertical-align: middle;\n",
              "    }\n",
              "\n",
              "    .dataframe tbody tr th {\n",
              "        vertical-align: top;\n",
              "    }\n",
              "\n",
              "    .dataframe thead th {\n",
              "        text-align: right;\n",
              "    }\n",
              "</style>\n",
              "<table border=\"1\" class=\"dataframe\">\n",
              "  <thead>\n",
              "    <tr style=\"text-align: right;\">\n",
              "      <th></th>\n",
              "      <th>Latitude</th>\n",
              "      <th>Longitude</th>\n",
              "      <th>DBA Name</th>\n",
              "      <th>Inspection ID</th>\n",
              "      <th>AKA Name</th>\n",
              "      <th>License #</th>\n",
              "      <th>Facility Type</th>\n",
              "      <th>Risk</th>\n",
              "      <th>Address</th>\n",
              "      <th>Zip</th>\n",
              "      <th>Inspection Date</th>\n",
              "      <th>Inspection Type</th>\n",
              "      <th>Results</th>\n",
              "      <th>Violations</th>\n",
              "      <th>Location</th>\n",
              "      <th>Regions</th>\n",
              "    </tr>\n",
              "  </thead>\n",
              "  <tbody>\n",
              "    <tr>\n",
              "      <th>0</th>\n",
              "      <td>41.64467</td>\n",
              "      <td>-87.540095</td>\n",
              "      <td>BURGER KING</td>\n",
              "      <td>2240219</td>\n",
              "      <td>BURGER KING</td>\n",
              "      <td>2368796.0</td>\n",
              "      <td>RESTAURANT</td>\n",
              "      <td>2</td>\n",
              "      <td>13770 S AVENUE O</td>\n",
              "      <td>60633.0</td>\n",
              "      <td>2018-11-15T00:00:00.000</td>\n",
              "      <td>COMPLAINT</td>\n",
              "      <td>Pass w/ Conditions</td>\n",
              "      <td>2. CITY OF CHICAGO FOOD SERVICE SANITATION CER...</td>\n",
              "      <td>{'latitude': '-87.5400946053766', 'longitude':...</td>\n",
              "      <td>HEGEWISCH</td>\n",
              "    </tr>\n",
              "    <tr>\n",
              "      <th>1</th>\n",
              "      <td>41.64467</td>\n",
              "      <td>-87.540095</td>\n",
              "      <td>BURGER KING</td>\n",
              "      <td>2200946</td>\n",
              "      <td>BURGER KING</td>\n",
              "      <td>2368796.0</td>\n",
              "      <td>RESTAURANT</td>\n",
              "      <td>2</td>\n",
              "      <td>13770 S AVENUE O</td>\n",
              "      <td>60633.0</td>\n",
              "      <td>2018-08-14T00:00:00.000</td>\n",
              "      <td>COMPLAINT</td>\n",
              "      <td>Pass w/ Conditions</td>\n",
              "      <td>2. CITY OF CHICAGO FOOD SERVICE SANITATION CER...</td>\n",
              "      <td>{'latitude': '-87.5400946053766', 'longitude':...</td>\n",
              "      <td>HEGEWISCH</td>\n",
              "    </tr>\n",
              "    <tr>\n",
              "      <th>2</th>\n",
              "      <td>41.64467</td>\n",
              "      <td>-87.540095</td>\n",
              "      <td>BURGER KING</td>\n",
              "      <td>1950282</td>\n",
              "      <td>BURGER KING</td>\n",
              "      <td>2368796.0</td>\n",
              "      <td>RESTAURANT</td>\n",
              "      <td>2</td>\n",
              "      <td>13770 S AVENUE O</td>\n",
              "      <td>60633.0</td>\n",
              "      <td>2016-08-12T00:00:00.000</td>\n",
              "      <td>CANVASS</td>\n",
              "      <td>Pass</td>\n",
              "      <td>34. FLOORS: CONSTRUCTED PER CODE, CLEANED, GOO...</td>\n",
              "      <td>{'latitude': '-87.5400946053766', 'longitude':...</td>\n",
              "      <td>HEGEWISCH</td>\n",
              "    </tr>\n",
              "    <tr>\n",
              "      <th>3</th>\n",
              "      <td>41.64467</td>\n",
              "      <td>-87.540095</td>\n",
              "      <td>BURGER KING</td>\n",
              "      <td>1523175</td>\n",
              "      <td>BURGER KING</td>\n",
              "      <td>2368796.0</td>\n",
              "      <td>RESTAURANT</td>\n",
              "      <td>2</td>\n",
              "      <td>13770 S AVENUE O</td>\n",
              "      <td>60633.0</td>\n",
              "      <td>2015-02-23T00:00:00.000</td>\n",
              "      <td>LICENSE</td>\n",
              "      <td>Pass</td>\n",
              "      <td>33. FOOD AND NON-FOOD CONTACT EQUIPMENT UTENSI...</td>\n",
              "      <td>{'latitude': '-87.5400946053766', 'longitude':...</td>\n",
              "      <td>HEGEWISCH</td>\n",
              "    </tr>\n",
              "    <tr>\n",
              "      <th>4</th>\n",
              "      <td>41.64467</td>\n",
              "      <td>-87.540095</td>\n",
              "      <td>BURGER KING</td>\n",
              "      <td>1527281</td>\n",
              "      <td>BURGER KING #7268</td>\n",
              "      <td>1473518.0</td>\n",
              "      <td>RESTAURANT</td>\n",
              "      <td>2</td>\n",
              "      <td>13770 S AVENUE O</td>\n",
              "      <td>60633.0</td>\n",
              "      <td>2015-02-23T00:00:00.000</td>\n",
              "      <td>CANVASS</td>\n",
              "      <td>Out of Business</td>\n",
              "      <td>NaN</td>\n",
              "      <td>{'latitude': '-87.5400946053766', 'longitude':...</td>\n",
              "      <td>HEGEWISCH</td>\n",
              "    </tr>\n",
              "    <tr>\n",
              "      <th>5</th>\n",
              "      <td>41.64467</td>\n",
              "      <td>-87.540095</td>\n",
              "      <td>BURGER KING</td>\n",
              "      <td>1494060</td>\n",
              "      <td>BURGER KING #7268</td>\n",
              "      <td>1473518.0</td>\n",
              "      <td>RESTAURANT</td>\n",
              "      <td>2</td>\n",
              "      <td>13770 S AVENUE O</td>\n",
              "      <td>60633.0</td>\n",
              "      <td>2014-08-26T00:00:00.000</td>\n",
              "      <td>CANVASS</td>\n",
              "      <td>Pass</td>\n",
              "      <td>NaN</td>\n",
              "      <td>{'latitude': '-87.5400946053766', 'longitude':...</td>\n",
              "      <td>HEGEWISCH</td>\n",
              "    </tr>\n",
              "    <tr>\n",
              "      <th>6</th>\n",
              "      <td>41.64467</td>\n",
              "      <td>-87.540095</td>\n",
              "      <td>BURGER KING</td>\n",
              "      <td>1493718</td>\n",
              "      <td>BURGER KING #7268</td>\n",
              "      <td>1473518.0</td>\n",
              "      <td>RESTAURANT</td>\n",
              "      <td>2</td>\n",
              "      <td>13770 S AVENUE O</td>\n",
              "      <td>60633.0</td>\n",
              "      <td>2014-08-18T00:00:00.000</td>\n",
              "      <td>CANVASS</td>\n",
              "      <td>Fail</td>\n",
              "      <td>12. HAND WASHING FACILITIES: WITH SOAP AND SAN...</td>\n",
              "      <td>{'latitude': '-87.5400946053766', 'longitude':...</td>\n",
              "      <td>HEGEWISCH</td>\n",
              "    </tr>\n",
              "    <tr>\n",
              "      <th>7</th>\n",
              "      <td>41.64467</td>\n",
              "      <td>-87.540095</td>\n",
              "      <td>BURGER KING</td>\n",
              "      <td>1300984</td>\n",
              "      <td>BURGER KING #7268</td>\n",
              "      <td>1473518.0</td>\n",
              "      <td>RESTAURANT</td>\n",
              "      <td>2</td>\n",
              "      <td>13770 S AVENUE O</td>\n",
              "      <td>60633.0</td>\n",
              "      <td>2012-12-19T00:00:00.000</td>\n",
              "      <td>CANVASS</td>\n",
              "      <td>Pass w/ Conditions</td>\n",
              "      <td>21. * CERTIFIED FOOD MANAGER ON SITE WHEN POTE...</td>\n",
              "      <td>{'latitude': '-87.5400946053766', 'longitude':...</td>\n",
              "      <td>HEGEWISCH</td>\n",
              "    </tr>\n",
              "    <tr>\n",
              "      <th>8</th>\n",
              "      <td>41.64467</td>\n",
              "      <td>-87.540095</td>\n",
              "      <td>BURGER KING</td>\n",
              "      <td>537818</td>\n",
              "      <td>BURGER KING #7268</td>\n",
              "      <td>1473518.0</td>\n",
              "      <td>RESTAURANT</td>\n",
              "      <td>2</td>\n",
              "      <td>13770 S AVENUE O</td>\n",
              "      <td>60633.0</td>\n",
              "      <td>2012-01-10T00:00:00.000</td>\n",
              "      <td>COMPLAINT</td>\n",
              "      <td>Pass w/ Conditions</td>\n",
              "      <td>8. SANITIZING RINSE FOR EQUIPMENT AND UTENSILS...</td>\n",
              "      <td>{'latitude': '-87.5400946053766', 'longitude':...</td>\n",
              "      <td>HEGEWISCH</td>\n",
              "    </tr>\n",
              "    <tr>\n",
              "      <th>9</th>\n",
              "      <td>41.64467</td>\n",
              "      <td>-87.540095</td>\n",
              "      <td>BURGER KING</td>\n",
              "      <td>537384</td>\n",
              "      <td>BURGER KING #7268</td>\n",
              "      <td>1473518.0</td>\n",
              "      <td>RESTAURANT</td>\n",
              "      <td>2</td>\n",
              "      <td>13770 S AVENUE O</td>\n",
              "      <td>60633.0</td>\n",
              "      <td>2011-05-26T00:00:00.000</td>\n",
              "      <td>COMPLAINT</td>\n",
              "      <td>Pass</td>\n",
              "      <td>33. FOOD AND NON-FOOD CONTACT EQUIPMENT UTENSI...</td>\n",
              "      <td>{'latitude': '-87.5400946053766', 'longitude':...</td>\n",
              "      <td>HEGEWISCH</td>\n",
              "    </tr>\n",
              "  </tbody>\n",
              "</table>\n",
              "</div>"
            ],
            "text/plain": [
              "   Latitude  ...    Regions\n",
              "0  41.64467  ...  HEGEWISCH\n",
              "1  41.64467  ...  HEGEWISCH\n",
              "2  41.64467  ...  HEGEWISCH\n",
              "3  41.64467  ...  HEGEWISCH\n",
              "4  41.64467  ...  HEGEWISCH\n",
              "5  41.64467  ...  HEGEWISCH\n",
              "6  41.64467  ...  HEGEWISCH\n",
              "7  41.64467  ...  HEGEWISCH\n",
              "8  41.64467  ...  HEGEWISCH\n",
              "9  41.64467  ...  HEGEWISCH\n",
              "\n",
              "[10 rows x 16 columns]"
            ]
          },
          "metadata": {
            "tags": []
          },
          "execution_count": 43
        }
      ]
    },
    {
      "cell_type": "code",
      "metadata": {
        "colab_type": "code",
        "id": "6yhaSo6bGAaI",
        "outputId": "71f8f47c-c677-4fa6-d464-58cb84115e48",
        "colab": {
          "base_uri": "https://localhost:8080/",
          "height": 1000
        }
      },
      "source": [
        "dup_oob.dropna(subset=['Violations'], inplace=True) # the inspections that have violations (out of business facilities)\n",
        "dup_oob.head(10)"
      ],
      "execution_count": 44,
      "outputs": [
        {
          "output_type": "stream",
          "text": [
            "/usr/local/lib/python3.6/dist-packages/ipykernel_launcher.py:1: SettingWithCopyWarning: \n",
            "A value is trying to be set on a copy of a slice from a DataFrame\n",
            "\n",
            "See the caveats in the documentation: http://pandas.pydata.org/pandas-docs/stable/user_guide/indexing.html#returning-a-view-versus-a-copy\n",
            "  \"\"\"Entry point for launching an IPython kernel.\n"
          ],
          "name": "stderr"
        },
        {
          "output_type": "execute_result",
          "data": {
            "text/html": [
              "<div>\n",
              "<style scoped>\n",
              "    .dataframe tbody tr th:only-of-type {\n",
              "        vertical-align: middle;\n",
              "    }\n",
              "\n",
              "    .dataframe tbody tr th {\n",
              "        vertical-align: top;\n",
              "    }\n",
              "\n",
              "    .dataframe thead th {\n",
              "        text-align: right;\n",
              "    }\n",
              "</style>\n",
              "<table border=\"1\" class=\"dataframe\">\n",
              "  <thead>\n",
              "    <tr style=\"text-align: right;\">\n",
              "      <th></th>\n",
              "      <th>Latitude</th>\n",
              "      <th>Longitude</th>\n",
              "      <th>DBA Name</th>\n",
              "      <th>Inspection ID</th>\n",
              "      <th>AKA Name</th>\n",
              "      <th>License #</th>\n",
              "      <th>Facility Type</th>\n",
              "      <th>Risk</th>\n",
              "      <th>Address</th>\n",
              "      <th>Zip</th>\n",
              "      <th>Inspection Date</th>\n",
              "      <th>Inspection Type</th>\n",
              "      <th>Results</th>\n",
              "      <th>Violations</th>\n",
              "      <th>Location</th>\n",
              "      <th>Regions</th>\n",
              "    </tr>\n",
              "  </thead>\n",
              "  <tbody>\n",
              "    <tr>\n",
              "      <th>0</th>\n",
              "      <td>41.644670</td>\n",
              "      <td>-87.540095</td>\n",
              "      <td>BURGER KING</td>\n",
              "      <td>2240219</td>\n",
              "      <td>BURGER KING</td>\n",
              "      <td>2368796.0</td>\n",
              "      <td>RESTAURANT</td>\n",
              "      <td>2</td>\n",
              "      <td>13770 S AVENUE O</td>\n",
              "      <td>60633.0</td>\n",
              "      <td>2018-11-15T00:00:00.000</td>\n",
              "      <td>COMPLAINT</td>\n",
              "      <td>Pass w/ Conditions</td>\n",
              "      <td>2. CITY OF CHICAGO FOOD SERVICE SANITATION CER...</td>\n",
              "      <td>{'latitude': '-87.5400946053766', 'longitude':...</td>\n",
              "      <td>HEGEWISCH</td>\n",
              "    </tr>\n",
              "    <tr>\n",
              "      <th>1</th>\n",
              "      <td>41.644670</td>\n",
              "      <td>-87.540095</td>\n",
              "      <td>BURGER KING</td>\n",
              "      <td>2200946</td>\n",
              "      <td>BURGER KING</td>\n",
              "      <td>2368796.0</td>\n",
              "      <td>RESTAURANT</td>\n",
              "      <td>2</td>\n",
              "      <td>13770 S AVENUE O</td>\n",
              "      <td>60633.0</td>\n",
              "      <td>2018-08-14T00:00:00.000</td>\n",
              "      <td>COMPLAINT</td>\n",
              "      <td>Pass w/ Conditions</td>\n",
              "      <td>2. CITY OF CHICAGO FOOD SERVICE SANITATION CER...</td>\n",
              "      <td>{'latitude': '-87.5400946053766', 'longitude':...</td>\n",
              "      <td>HEGEWISCH</td>\n",
              "    </tr>\n",
              "    <tr>\n",
              "      <th>2</th>\n",
              "      <td>41.644670</td>\n",
              "      <td>-87.540095</td>\n",
              "      <td>BURGER KING</td>\n",
              "      <td>1950282</td>\n",
              "      <td>BURGER KING</td>\n",
              "      <td>2368796.0</td>\n",
              "      <td>RESTAURANT</td>\n",
              "      <td>2</td>\n",
              "      <td>13770 S AVENUE O</td>\n",
              "      <td>60633.0</td>\n",
              "      <td>2016-08-12T00:00:00.000</td>\n",
              "      <td>CANVASS</td>\n",
              "      <td>Pass</td>\n",
              "      <td>34. FLOORS: CONSTRUCTED PER CODE, CLEANED, GOO...</td>\n",
              "      <td>{'latitude': '-87.5400946053766', 'longitude':...</td>\n",
              "      <td>HEGEWISCH</td>\n",
              "    </tr>\n",
              "    <tr>\n",
              "      <th>3</th>\n",
              "      <td>41.644670</td>\n",
              "      <td>-87.540095</td>\n",
              "      <td>BURGER KING</td>\n",
              "      <td>1523175</td>\n",
              "      <td>BURGER KING</td>\n",
              "      <td>2368796.0</td>\n",
              "      <td>RESTAURANT</td>\n",
              "      <td>2</td>\n",
              "      <td>13770 S AVENUE O</td>\n",
              "      <td>60633.0</td>\n",
              "      <td>2015-02-23T00:00:00.000</td>\n",
              "      <td>LICENSE</td>\n",
              "      <td>Pass</td>\n",
              "      <td>33. FOOD AND NON-FOOD CONTACT EQUIPMENT UTENSI...</td>\n",
              "      <td>{'latitude': '-87.5400946053766', 'longitude':...</td>\n",
              "      <td>HEGEWISCH</td>\n",
              "    </tr>\n",
              "    <tr>\n",
              "      <th>6</th>\n",
              "      <td>41.644670</td>\n",
              "      <td>-87.540095</td>\n",
              "      <td>BURGER KING</td>\n",
              "      <td>1493718</td>\n",
              "      <td>BURGER KING #7268</td>\n",
              "      <td>1473518.0</td>\n",
              "      <td>RESTAURANT</td>\n",
              "      <td>2</td>\n",
              "      <td>13770 S AVENUE O</td>\n",
              "      <td>60633.0</td>\n",
              "      <td>2014-08-18T00:00:00.000</td>\n",
              "      <td>CANVASS</td>\n",
              "      <td>Fail</td>\n",
              "      <td>12. HAND WASHING FACILITIES: WITH SOAP AND SAN...</td>\n",
              "      <td>{'latitude': '-87.5400946053766', 'longitude':...</td>\n",
              "      <td>HEGEWISCH</td>\n",
              "    </tr>\n",
              "    <tr>\n",
              "      <th>7</th>\n",
              "      <td>41.644670</td>\n",
              "      <td>-87.540095</td>\n",
              "      <td>BURGER KING</td>\n",
              "      <td>1300984</td>\n",
              "      <td>BURGER KING #7268</td>\n",
              "      <td>1473518.0</td>\n",
              "      <td>RESTAURANT</td>\n",
              "      <td>2</td>\n",
              "      <td>13770 S AVENUE O</td>\n",
              "      <td>60633.0</td>\n",
              "      <td>2012-12-19T00:00:00.000</td>\n",
              "      <td>CANVASS</td>\n",
              "      <td>Pass w/ Conditions</td>\n",
              "      <td>21. * CERTIFIED FOOD MANAGER ON SITE WHEN POTE...</td>\n",
              "      <td>{'latitude': '-87.5400946053766', 'longitude':...</td>\n",
              "      <td>HEGEWISCH</td>\n",
              "    </tr>\n",
              "    <tr>\n",
              "      <th>8</th>\n",
              "      <td>41.644670</td>\n",
              "      <td>-87.540095</td>\n",
              "      <td>BURGER KING</td>\n",
              "      <td>537818</td>\n",
              "      <td>BURGER KING #7268</td>\n",
              "      <td>1473518.0</td>\n",
              "      <td>RESTAURANT</td>\n",
              "      <td>2</td>\n",
              "      <td>13770 S AVENUE O</td>\n",
              "      <td>60633.0</td>\n",
              "      <td>2012-01-10T00:00:00.000</td>\n",
              "      <td>COMPLAINT</td>\n",
              "      <td>Pass w/ Conditions</td>\n",
              "      <td>8. SANITIZING RINSE FOR EQUIPMENT AND UTENSILS...</td>\n",
              "      <td>{'latitude': '-87.5400946053766', 'longitude':...</td>\n",
              "      <td>HEGEWISCH</td>\n",
              "    </tr>\n",
              "    <tr>\n",
              "      <th>9</th>\n",
              "      <td>41.644670</td>\n",
              "      <td>-87.540095</td>\n",
              "      <td>BURGER KING</td>\n",
              "      <td>537384</td>\n",
              "      <td>BURGER KING #7268</td>\n",
              "      <td>1473518.0</td>\n",
              "      <td>RESTAURANT</td>\n",
              "      <td>2</td>\n",
              "      <td>13770 S AVENUE O</td>\n",
              "      <td>60633.0</td>\n",
              "      <td>2011-05-26T00:00:00.000</td>\n",
              "      <td>COMPLAINT</td>\n",
              "      <td>Pass</td>\n",
              "      <td>33. FOOD AND NON-FOOD CONTACT EQUIPMENT UTENSI...</td>\n",
              "      <td>{'latitude': '-87.5400946053766', 'longitude':...</td>\n",
              "      <td>HEGEWISCH</td>\n",
              "    </tr>\n",
              "    <tr>\n",
              "      <th>10</th>\n",
              "      <td>41.644670</td>\n",
              "      <td>-87.540095</td>\n",
              "      <td>BURGER KING</td>\n",
              "      <td>419402</td>\n",
              "      <td>BURGER KING #7268</td>\n",
              "      <td>1473518.0</td>\n",
              "      <td>RESTAURANT</td>\n",
              "      <td>2</td>\n",
              "      <td>13770 S AVENUE O</td>\n",
              "      <td>60633.0</td>\n",
              "      <td>2010-10-12T00:00:00.000</td>\n",
              "      <td>COMPLAINT</td>\n",
              "      <td>Pass w/ Conditions</td>\n",
              "      <td>3. POTENTIALLY HAZARDOUS FOOD MEETS TEMPERATUR...</td>\n",
              "      <td>{'latitude': '-87.5400946053766', 'longitude':...</td>\n",
              "      <td>HEGEWISCH</td>\n",
              "    </tr>\n",
              "    <tr>\n",
              "      <th>14</th>\n",
              "      <td>41.646371</td>\n",
              "      <td>-87.560342</td>\n",
              "      <td>WINJAMMER MARINA</td>\n",
              "      <td>1395212</td>\n",
              "      <td>WINJAMMER MARINA</td>\n",
              "      <td>79113.0</td>\n",
              "      <td>RESTAURANT</td>\n",
              "      <td>2</td>\n",
              "      <td>13701 S HOXIE AVE</td>\n",
              "      <td>60633.0</td>\n",
              "      <td>2013-12-30T00:00:00.000</td>\n",
              "      <td>CANVASS</td>\n",
              "      <td>Pass</td>\n",
              "      <td>33. FOOD AND NON-FOOD CONTACT EQUIPMENT UTENSI...</td>\n",
              "      <td>{'latitude': '-87.56034196262158', 'longitude'...</td>\n",
              "      <td>HEGEWISCH</td>\n",
              "    </tr>\n",
              "  </tbody>\n",
              "</table>\n",
              "</div>"
            ],
            "text/plain": [
              "     Latitude  ...    Regions\n",
              "0   41.644670  ...  HEGEWISCH\n",
              "1   41.644670  ...  HEGEWISCH\n",
              "2   41.644670  ...  HEGEWISCH\n",
              "3   41.644670  ...  HEGEWISCH\n",
              "6   41.644670  ...  HEGEWISCH\n",
              "7   41.644670  ...  HEGEWISCH\n",
              "8   41.644670  ...  HEGEWISCH\n",
              "9   41.644670  ...  HEGEWISCH\n",
              "10  41.644670  ...  HEGEWISCH\n",
              "14  41.646371  ...  HEGEWISCH\n",
              "\n",
              "[10 rows x 16 columns]"
            ]
          },
          "metadata": {
            "tags": []
          },
          "execution_count": 44
        }
      ]
    },
    {
      "cell_type": "code",
      "metadata": {
        "colab_type": "code",
        "id": "YlUwb7Z2MIZx",
        "outputId": "01b36343-4ebd-486d-f4dd-4697ae4ce764",
        "colab": {
          "base_uri": "https://localhost:8080/",
          "height": 230
        }
      },
      "source": [
        "violations_oob = dup_oob['Violations'].apply(lambda x: re.findall(r'^[0-9]+[.] | [|] [0-9]+[.] ', x))\n",
        "violations_oob = pd.DataFrame(violations_oob)\n",
        "violation_nums_oob = violations_oob['Violations'].apply(lambda x: [int(sub.replace('|','').split('.')[0]) for sub in x])\n",
        "violation_nums_oob"
      ],
      "execution_count": 45,
      "outputs": [
        {
          "output_type": "execute_result",
          "data": {
            "text/plain": [
              "0                        [2, 3, 5]\n",
              "1                [2, 3, 5, 49, 55]\n",
              "2                     [34, 35, 38]\n",
              "3                     [33, 34, 45]\n",
              "6         [12, 21, 28, 29, 33, 38]\n",
              "                    ...           \n",
              "100332                [32, 33, 34]\n",
              "100333                        [41]\n",
              "100334                [18, 28, 41]\n",
              "100335                    [21, 33]\n",
              "100336                [18, 21, 33]\n",
              "Name: Violations, Length: 65918, dtype: object"
            ]
          },
          "metadata": {
            "tags": []
          },
          "execution_count": 45
        }
      ]
    },
    {
      "cell_type": "code",
      "metadata": {
        "colab_type": "code",
        "id": "BX8lLCYvYf6h",
        "outputId": "061efff6-7bad-4a5f-cdfb-e80d2580f197",
        "colab": {
          "base_uri": "https://localhost:8080/",
          "height": 352
        }
      },
      "source": [
        "violation_nums_oob = pd.DataFrame(violation_nums_oob)\n",
        "violation_nums_oob.reset_index(inplace=True)\n",
        "violation_nums_oob.drop(columns='index', inplace=True)\n",
        "violation_nums_oob.head(10)"
      ],
      "execution_count": 46,
      "outputs": [
        {
          "output_type": "execute_result",
          "data": {
            "text/html": [
              "<div>\n",
              "<style scoped>\n",
              "    .dataframe tbody tr th:only-of-type {\n",
              "        vertical-align: middle;\n",
              "    }\n",
              "\n",
              "    .dataframe tbody tr th {\n",
              "        vertical-align: top;\n",
              "    }\n",
              "\n",
              "    .dataframe thead th {\n",
              "        text-align: right;\n",
              "    }\n",
              "</style>\n",
              "<table border=\"1\" class=\"dataframe\">\n",
              "  <thead>\n",
              "    <tr style=\"text-align: right;\">\n",
              "      <th></th>\n",
              "      <th>Violations</th>\n",
              "    </tr>\n",
              "  </thead>\n",
              "  <tbody>\n",
              "    <tr>\n",
              "      <th>0</th>\n",
              "      <td>[2, 3, 5]</td>\n",
              "    </tr>\n",
              "    <tr>\n",
              "      <th>1</th>\n",
              "      <td>[2, 3, 5, 49, 55]</td>\n",
              "    </tr>\n",
              "    <tr>\n",
              "      <th>2</th>\n",
              "      <td>[34, 35, 38]</td>\n",
              "    </tr>\n",
              "    <tr>\n",
              "      <th>3</th>\n",
              "      <td>[33, 34, 45]</td>\n",
              "    </tr>\n",
              "    <tr>\n",
              "      <th>4</th>\n",
              "      <td>[12, 21, 28, 29, 33, 38]</td>\n",
              "    </tr>\n",
              "    <tr>\n",
              "      <th>5</th>\n",
              "      <td>[21, 33, 34, 35, 38, 40, 41, 42]</td>\n",
              "    </tr>\n",
              "    <tr>\n",
              "      <th>6</th>\n",
              "      <td>[8, 21, 33, 34, 35, 36, 38]</td>\n",
              "    </tr>\n",
              "    <tr>\n",
              "      <th>7</th>\n",
              "      <td>[33, 34, 35, 36, 38]</td>\n",
              "    </tr>\n",
              "    <tr>\n",
              "      <th>8</th>\n",
              "      <td>[3, 12, 21, 33, 34]</td>\n",
              "    </tr>\n",
              "    <tr>\n",
              "      <th>9</th>\n",
              "      <td>[33, 34, 35]</td>\n",
              "    </tr>\n",
              "  </tbody>\n",
              "</table>\n",
              "</div>"
            ],
            "text/plain": [
              "                         Violations\n",
              "0                         [2, 3, 5]\n",
              "1                 [2, 3, 5, 49, 55]\n",
              "2                      [34, 35, 38]\n",
              "3                      [33, 34, 45]\n",
              "4          [12, 21, 28, 29, 33, 38]\n",
              "5  [21, 33, 34, 35, 38, 40, 41, 42]\n",
              "6       [8, 21, 33, 34, 35, 36, 38]\n",
              "7              [33, 34, 35, 36, 38]\n",
              "8               [3, 12, 21, 33, 34]\n",
              "9                      [33, 34, 35]"
            ]
          },
          "metadata": {
            "tags": []
          },
          "execution_count": 46
        }
      ]
    },
    {
      "cell_type": "code",
      "metadata": {
        "colab_type": "code",
        "id": "mLcVYIYMZuK1",
        "colab": {}
      },
      "source": [
        "vio_freq_oob = {}\n",
        "for i in violation_nums_oob['Violations']:\n",
        "  for j in i:\n",
        "    vio_freq_oob[str(j)] = 1 if str(j) not in vio_freq_oob else vio_freq_oob[str(j)]+1"
      ],
      "execution_count": 0,
      "outputs": []
    },
    {
      "cell_type": "code",
      "metadata": {
        "colab_type": "code",
        "id": "JISkCx_ubeAB",
        "outputId": "14edfbcf-fd60-4fdc-c1c5-9632d2f60911",
        "colab": {
          "base_uri": "https://localhost:8080/",
          "height": 295
        }
      },
      "source": [
        "plt.figure(figsize=(17,4))\n",
        "plt.bar(list(vio_freq_oob.keys()), vio_freq_oob.values())\n",
        "plt.title('Violation Types vs. Their Frequencies in Out of Business Facilities')\n",
        "plt.xlabel('Violation Types')\n",
        "plt.ylabel('Frequency')\n",
        "plt.show()"
      ],
      "execution_count": 48,
      "outputs": [
        {
          "output_type": "display_data",
          "data": {
            "image/png": "[encoded data removed]",
            "text/plain": [
              "<Figure size 1224x288 with 1 Axes>"
            ]
          },
          "metadata": {
            "tags": []
          }
        }
      ]
    },
    {
      "cell_type": "markdown",
      "metadata": {
        "colab_type": "text",
        "id": "f5NepMPsc2Sx"
      },
      "source": [
        "From the figure above, we can see that certain violation types outnumber the others. So, we decided to sort the violation types in terms of their frequencies and display them in the graph below."
      ]
    },
    {
      "cell_type": "code",
      "metadata": {
        "colab_type": "code",
        "id": "iG5RGczLkTgP",
        "colab": {}
      },
      "source": [
        "sorted_vio_freq_oob = {}\n",
        "\n",
        "for key in sorted(vio_freq_oob, key=vio_freq_oob.__getitem__, reverse=True):\n",
        "  sorted_vio_freq_oob[key] = vio_freq_oob[key]"
      ],
      "execution_count": 0,
      "outputs": []
    },
    {
      "cell_type": "code",
      "metadata": {
        "colab_type": "code",
        "id": "eCE3Zu7lkQ8w",
        "outputId": "c24176b9-cb0a-41b7-d3de-43d776aa88c0",
        "colab": {
          "base_uri": "https://localhost:8080/",
          "height": 295
        }
      },
      "source": [
        "plt.figure(figsize=(17,4))\n",
        "plt.bar(list(sorted_vio_freq_oob.keys()), sorted_vio_freq_oob.values())\n",
        "plt.title('Violation Types vs. Their Frequencies in Out of Business Facilities')\n",
        "plt.xlabel('Violation Types')\n",
        "plt.ylabel('Frequency')\n",
        "plt.show()"
      ],
      "execution_count": 105,
      "outputs": [
        {
          "output_type": "display_data",
          "data": {
            "image/png": "[encoded data removed]",
            "text/plain": [
              "<Figure size 1224x288 with 1 Axes>"
            ]
          },
          "metadata": {
            "tags": []
          }
        }
      ]
    },
    {
      "cell_type": "code",
      "metadata": {
        "colab_type": "code",
        "id": "_hvSFyDEkmc8",
        "outputId": "5efcd393-8c0b-466d-edfe-f7a84e3a7212",
        "colab": {
          "base_uri": "https://localhost:8080/",
          "height": 284
        }
      },
      "source": [
        "most_freq_vio_oob = [key for key, value in list(sorted_vio_freq_oob.items())[0:15]]\n",
        "most_freq_vio_oob # top 10 most frequent violation types among facilities that went out of business"
      ],
      "execution_count": 51,
      "outputs": [
        {
          "output_type": "execute_result",
          "data": {
            "text/plain": [
              "['34',\n",
              " '33',\n",
              " '35',\n",
              " '38',\n",
              " '32',\n",
              " '41',\n",
              " '36',\n",
              " '18',\n",
              " '40',\n",
              " '30',\n",
              " '3',\n",
              " '21',\n",
              " '31',\n",
              " '37',\n",
              " '43']"
            ]
          },
          "metadata": {
            "tags": []
          },
          "execution_count": 51
        }
      ]
    },
    {
      "cell_type": "code",
      "metadata": {
        "colab_type": "code",
        "id": "MbsGSDm7czg-",
        "colab": {}
      },
      "source": [
        "# Inspections of facilities that didn't go out of business\n",
        "# https://stackoverflow.com/questions/18180763/set-difference-for-pandas\n",
        " set_diff_oob = pd.concat([df, merged_oob, merged_oob], sort=True).drop_duplicates(keep=False, subset=['Latitude', 'Longitude', 'DBA Name', 'Inspection Date'])"
      ],
      "execution_count": 0,
      "outputs": []
    },
    {
      "cell_type": "code",
      "metadata": {
        "colab_type": "code",
        "id": "oEPL3X9Fpzb_",
        "outputId": "7b99d058-8b31-4a13-b23b-4218090489db",
        "colab": {
          "base_uri": "https://localhost:8080/",
          "height": 1000
        }
      },
      "source": [
        "set_diff_oob.dropna(subset=['Violations'], inplace=True) # the inspections that have violations (not out of business facilities)\n",
        "set_diff_oob.head(10)"
      ],
      "execution_count": 53,
      "outputs": [
        {
          "output_type": "execute_result",
          "data": {
            "text/html": [
              "<div>\n",
              "<style scoped>\n",
              "    .dataframe tbody tr th:only-of-type {\n",
              "        vertical-align: middle;\n",
              "    }\n",
              "\n",
              "    .dataframe tbody tr th {\n",
              "        vertical-align: top;\n",
              "    }\n",
              "\n",
              "    .dataframe thead th {\n",
              "        text-align: right;\n",
              "    }\n",
              "</style>\n",
              "<table border=\"1\" class=\"dataframe\">\n",
              "  <thead>\n",
              "    <tr style=\"text-align: right;\">\n",
              "      <th></th>\n",
              "      <th>AKA Name</th>\n",
              "      <th>Address</th>\n",
              "      <th>DBA Name</th>\n",
              "      <th>Facility Type</th>\n",
              "      <th>Inspection Date</th>\n",
              "      <th>Inspection ID</th>\n",
              "      <th>Inspection Type</th>\n",
              "      <th>Latitude</th>\n",
              "      <th>License #</th>\n",
              "      <th>Location</th>\n",
              "      <th>Longitude</th>\n",
              "      <th>Regions</th>\n",
              "      <th>Results</th>\n",
              "      <th>Risk</th>\n",
              "      <th>Violations</th>\n",
              "      <th>Zip</th>\n",
              "    </tr>\n",
              "  </thead>\n",
              "  <tbody>\n",
              "    <tr>\n",
              "      <th>1</th>\n",
              "      <td>CHILI'S (T1-B14)</td>\n",
              "      <td>11601 W TOUHY AVE</td>\n",
              "      <td>CHILIS T-I</td>\n",
              "      <td>RESTAURANT</td>\n",
              "      <td>2019-12-04T00:00:00.000</td>\n",
              "      <td>2352734</td>\n",
              "      <td>CANVASS</td>\n",
              "      <td>42.008536</td>\n",
              "      <td>34169.0</td>\n",
              "      <td>{'latitude': '-87.91442843927047', 'longitude'...</td>\n",
              "      <td>-87.914428</td>\n",
              "      <td>OHARE</td>\n",
              "      <td>Pass</td>\n",
              "      <td>1</td>\n",
              "      <td>10. ADEQUATE HANDWASHING SINKS PROPERLY SUPPLI...</td>\n",
              "      <td>60666.0</td>\n",
              "    </tr>\n",
              "    <tr>\n",
              "      <th>2</th>\n",
              "      <td>NaN</td>\n",
              "      <td>3401 W BELMONT AVE</td>\n",
              "      <td>TAQUERIA BLUE LINE</td>\n",
              "      <td>RESTAURANT</td>\n",
              "      <td>2019-12-04T00:00:00.000</td>\n",
              "      <td>2352701</td>\n",
              "      <td>LICENSE</td>\n",
              "      <td>41.939168</td>\n",
              "      <td>2703436.0</td>\n",
              "      <td>{'latitude': '-87.71254599117191', 'longitude'...</td>\n",
              "      <td>-87.712546</td>\n",
              "      <td>AVONDALE</td>\n",
              "      <td>Pass w/ Conditions</td>\n",
              "      <td>1</td>\n",
              "      <td>3. MANAGEMENT, FOOD EMPLOYEE AND CONDITIONAL E...</td>\n",
              "      <td>60618.0</td>\n",
              "    </tr>\n",
              "    <tr>\n",
              "      <th>6</th>\n",
              "      <td>NAIBOA LATIN STORE</td>\n",
              "      <td>3349 N CLARK ST</td>\n",
              "      <td>NAIBOA LATIN STORE</td>\n",
              "      <td>RETAIL STORE</td>\n",
              "      <td>2019-12-04T00:00:00.000</td>\n",
              "      <td>2352702</td>\n",
              "      <td>LICENSE</td>\n",
              "      <td>41.943032</td>\n",
              "      <td>2698776.0</td>\n",
              "      <td>{'latitude': '-87.65299525711882', 'longitude'...</td>\n",
              "      <td>-87.652995</td>\n",
              "      <td>LAKE VIEW</td>\n",
              "      <td>Pass w/ Conditions</td>\n",
              "      <td>3</td>\n",
              "      <td>5. PROCEDURES FOR RESPONDING TO VOMITING AND D...</td>\n",
              "      <td>60657.0</td>\n",
              "    </tr>\n",
              "    <tr>\n",
              "      <th>7</th>\n",
              "      <td>JAMIESON PUBLIC SCHOOL</td>\n",
              "      <td>5650 N MOZART</td>\n",
              "      <td>JAMIESON</td>\n",
              "      <td>SCHOOL</td>\n",
              "      <td>2019-12-04T00:00:00.000</td>\n",
              "      <td>2352718</td>\n",
              "      <td>CANVASS</td>\n",
              "      <td>41.984614</td>\n",
              "      <td>23931.0</td>\n",
              "      <td>{'latitude': '-87.70056525028134', 'longitude'...</td>\n",
              "      <td>-87.700565</td>\n",
              "      <td>WEST RIDGE</td>\n",
              "      <td>Pass</td>\n",
              "      <td>1</td>\n",
              "      <td>49. NON-FOOD/FOOD CONTACT SURFACES CLEAN - Com...</td>\n",
              "      <td>60659.0</td>\n",
              "    </tr>\n",
              "    <tr>\n",
              "      <th>9</th>\n",
              "      <td>BLUE LINE</td>\n",
              "      <td>1548 N DAMEN AVE</td>\n",
              "      <td>BLUE LINE</td>\n",
              "      <td>RESTAURANT</td>\n",
              "      <td>2019-12-03T00:00:00.000</td>\n",
              "      <td>2352629</td>\n",
              "      <td>CANVASS</td>\n",
              "      <td>41.909616</td>\n",
              "      <td>1170410.0</td>\n",
              "      <td>{'latitude': '-87.6775884711046', 'longitude':...</td>\n",
              "      <td>-87.677588</td>\n",
              "      <td>WEST TOWN</td>\n",
              "      <td>Pass w/ Conditions</td>\n",
              "      <td>1</td>\n",
              "      <td>25. CONSUMER ADVISORY PROVIDED FOR RAW/UNDERCO...</td>\n",
              "      <td>60622.0</td>\n",
              "    </tr>\n",
              "    <tr>\n",
              "      <th>13</th>\n",
              "      <td>BRIGADOON</td>\n",
              "      <td>5748 W LAWRENCE AVE</td>\n",
              "      <td>BRIGADOON</td>\n",
              "      <td>TAVERN</td>\n",
              "      <td>2019-12-03T00:00:00.000</td>\n",
              "      <td>2352677</td>\n",
              "      <td>COMPLAINT</td>\n",
              "      <td>41.967838</td>\n",
              "      <td>12144.0</td>\n",
              "      <td>{'latitude': '-87.7716235051089', 'longitude':...</td>\n",
              "      <td>-87.771624</td>\n",
              "      <td>PORTAGE PARK</td>\n",
              "      <td>Pass w/ Conditions</td>\n",
              "      <td>3</td>\n",
              "      <td>3. MANAGEMENT, FOOD EMPLOYEE AND CONDITIONAL E...</td>\n",
              "      <td>60630.0</td>\n",
              "    </tr>\n",
              "    <tr>\n",
              "      <th>14</th>\n",
              "      <td>HARRY CARAY'S SHORTSTOP</td>\n",
              "      <td>5700 S CICERO AVE</td>\n",
              "      <td>HARRY CARAYS SHORTSTOP</td>\n",
              "      <td>RESTAURANT</td>\n",
              "      <td>2019-12-03T00:00:00.000</td>\n",
              "      <td>2352653</td>\n",
              "      <td>CANVASS</td>\n",
              "      <td>41.789329</td>\n",
              "      <td>2689813.0</td>\n",
              "      <td>{'latitude': '-87.74164564419637', 'longitude'...</td>\n",
              "      <td>-87.741646</td>\n",
              "      <td>GARFIELD RIDGE</td>\n",
              "      <td>Pass</td>\n",
              "      <td>1</td>\n",
              "      <td>45. SINGLE-USE/SINGLE-SERVICE ARTICLES: PROPER...</td>\n",
              "      <td>60638.0</td>\n",
              "    </tr>\n",
              "    <tr>\n",
              "      <th>17</th>\n",
              "      <td>SUBWAY</td>\n",
              "      <td>615 W LAKE ST</td>\n",
              "      <td>SUBWAY</td>\n",
              "      <td>RESTAURANT</td>\n",
              "      <td>2019-12-03T00:00:00.000</td>\n",
              "      <td>2352617</td>\n",
              "      <td>LICENSE</td>\n",
              "      <td>41.885594</td>\n",
              "      <td>2703766.0</td>\n",
              "      <td>{'latitude': '-87.64346245829006', 'longitude'...</td>\n",
              "      <td>-87.643462</td>\n",
              "      <td>NEAR WEST SIDE</td>\n",
              "      <td>Pass w/ Conditions</td>\n",
              "      <td>1</td>\n",
              "      <td>3. MANAGEMENT, FOOD EMPLOYEE AND CONDITIONAL E...</td>\n",
              "      <td>60661.0</td>\n",
              "    </tr>\n",
              "    <tr>\n",
              "      <th>19</th>\n",
              "      <td>AMARIT RESTAURANT</td>\n",
              "      <td>600 S DEARBORN ST</td>\n",
              "      <td>AMARIT RESTAURANT</td>\n",
              "      <td>RESTAURANT</td>\n",
              "      <td>2019-12-03T00:00:00.000</td>\n",
              "      <td>2352649</td>\n",
              "      <td>CANVASS</td>\n",
              "      <td>41.874481</td>\n",
              "      <td>1801618.0</td>\n",
              "      <td>{'latitude': '-87.62935653990546', 'longitude'...</td>\n",
              "      <td>-87.629357</td>\n",
              "      <td>LOOP</td>\n",
              "      <td>Fail</td>\n",
              "      <td>1</td>\n",
              "      <td>10. ADEQUATE HANDWASHING SINKS PROPERLY SUPPLI...</td>\n",
              "      <td>60605.0</td>\n",
              "    </tr>\n",
              "    <tr>\n",
              "      <th>21</th>\n",
              "      <td>SWEET SHOT COOKIES</td>\n",
              "      <td>3211 W ARMITAGE AVE</td>\n",
              "      <td>SWEET SHOT COOKIES</td>\n",
              "      <td>RESTAURANT</td>\n",
              "      <td>2019-12-03T00:00:00.000</td>\n",
              "      <td>2352595</td>\n",
              "      <td>LICENSE</td>\n",
              "      <td>41.917287</td>\n",
              "      <td>2688916.0</td>\n",
              "      <td>{'latitude': '-87.70745338783728', 'longitude'...</td>\n",
              "      <td>-87.707453</td>\n",
              "      <td>LOGAN SQUARE</td>\n",
              "      <td>Pass</td>\n",
              "      <td>2</td>\n",
              "      <td>49. NON-FOOD/FOOD CONTACT SURFACES CLEAN - Com...</td>\n",
              "      <td>60647.0</td>\n",
              "    </tr>\n",
              "  </tbody>\n",
              "</table>\n",
              "</div>"
            ],
            "text/plain": [
              "                   AKA Name  ...      Zip\n",
              "1          CHILI'S (T1-B14)  ...  60666.0\n",
              "2                       NaN  ...  60618.0\n",
              "6        NAIBOA LATIN STORE  ...  60657.0\n",
              "7    JAMIESON PUBLIC SCHOOL  ...  60659.0\n",
              "9                 BLUE LINE  ...  60622.0\n",
              "13                BRIGADOON  ...  60630.0\n",
              "14  HARRY CARAY'S SHORTSTOP  ...  60638.0\n",
              "17                   SUBWAY  ...  60661.0\n",
              "19        AMARIT RESTAURANT  ...  60605.0\n",
              "21       SWEET SHOT COOKIES  ...  60647.0\n",
              "\n",
              "[10 rows x 16 columns]"
            ]
          },
          "metadata": {
            "tags": []
          },
          "execution_count": 53
        }
      ]
    },
    {
      "cell_type": "markdown",
      "metadata": {
        "colab_type": "text",
        "id": "fCjsqIlWdSY7"
      },
      "source": [
        "### **Violations analysis - facilities that have not gone out of business**"
      ]
    },
    {
      "cell_type": "code",
      "metadata": {
        "colab_type": "code",
        "id": "c17Vg__XqE5U",
        "outputId": "9c0208a8-9843-4e23-8c60-49656104ae72",
        "colab": {
          "base_uri": "https://localhost:8080/",
          "height": 230
        }
      },
      "source": [
        "violations_not_oob = set_diff_oob['Violations'].apply(lambda x: re.findall(r'^[0-9]+[.] | [|] [0-9]+[.] ', x))\n",
        "violations_not_oob = pd.DataFrame(violations_not_oob)\n",
        "violation_nums_not_oob = violations_not_oob['Violations'].apply(lambda x: [int(sub.replace('|','').split('.')[0]) for sub in x])\n",
        "violation_nums_not_oob"
      ],
      "execution_count": 54,
      "outputs": [
        {
          "output_type": "execute_result",
          "data": {
            "text/plain": [
              "1                                 [10, 47, 49, 55, 55]\n",
              "2                               [3, 5, 16, 51, 53, 58]\n",
              "6                                      [5, 36, 51, 53]\n",
              "7                                         [49, 55, 56]\n",
              "9                                                 [25]\n",
              "                              ...                     \n",
              "192162                                            [38]\n",
              "192171                    [12, 21, 33, 34, 35, 38, 41]\n",
              "192173                            [32, 33, 35, 38, 40]\n",
              "192174                            [33, 34, 35, 38, 41]\n",
              "192180    [18, 19, 32, 33, 34, 35, 36, 37, 38, 39, 41]\n",
              "Name: Violations, Length: 85369, dtype: object"
            ]
          },
          "metadata": {
            "tags": []
          },
          "execution_count": 54
        }
      ]
    },
    {
      "cell_type": "code",
      "metadata": {
        "colab_type": "code",
        "id": "8pJUR7fdxOjZ",
        "outputId": "2847e112-e91c-4d86-96dc-7f600b428a61",
        "colab": {
          "base_uri": "https://localhost:8080/",
          "height": 352
        }
      },
      "source": [
        "violation_nums_not_oob = pd.DataFrame(violation_nums_not_oob)\n",
        "violation_nums_not_oob.reset_index(inplace=True)\n",
        "violation_nums_not_oob.drop(columns='index', inplace=True)\n",
        "violation_nums_not_oob.head(10)"
      ],
      "execution_count": 55,
      "outputs": [
        {
          "output_type": "execute_result",
          "data": {
            "text/html": [
              "<div>\n",
              "<style scoped>\n",
              "    .dataframe tbody tr th:only-of-type {\n",
              "        vertical-align: middle;\n",
              "    }\n",
              "\n",
              "    .dataframe tbody tr th {\n",
              "        vertical-align: top;\n",
              "    }\n",
              "\n",
              "    .dataframe thead th {\n",
              "        text-align: right;\n",
              "    }\n",
              "</style>\n",
              "<table border=\"1\" class=\"dataframe\">\n",
              "  <thead>\n",
              "    <tr style=\"text-align: right;\">\n",
              "      <th></th>\n",
              "      <th>Violations</th>\n",
              "    </tr>\n",
              "  </thead>\n",
              "  <tbody>\n",
              "    <tr>\n",
              "      <th>0</th>\n",
              "      <td>[10, 47, 49, 55, 55]</td>\n",
              "    </tr>\n",
              "    <tr>\n",
              "      <th>1</th>\n",
              "      <td>[3, 5, 16, 51, 53, 58]</td>\n",
              "    </tr>\n",
              "    <tr>\n",
              "      <th>2</th>\n",
              "      <td>[5, 36, 51, 53]</td>\n",
              "    </tr>\n",
              "    <tr>\n",
              "      <th>3</th>\n",
              "      <td>[49, 55, 56]</td>\n",
              "    </tr>\n",
              "    <tr>\n",
              "      <th>4</th>\n",
              "      <td>[25]</td>\n",
              "    </tr>\n",
              "    <tr>\n",
              "      <th>5</th>\n",
              "      <td>[3, 5, 10, 49, 51, 53, 55, 55]</td>\n",
              "    </tr>\n",
              "    <tr>\n",
              "      <th>6</th>\n",
              "      <td>[45, 55]</td>\n",
              "    </tr>\n",
              "    <tr>\n",
              "      <th>7</th>\n",
              "      <td>[3, 5, 57]</td>\n",
              "    </tr>\n",
              "    <tr>\n",
              "      <th>8</th>\n",
              "      <td>[10, 10, 10, 23, 25, 39, 50, 52, 55, 55, 56]</td>\n",
              "    </tr>\n",
              "    <tr>\n",
              "      <th>9</th>\n",
              "      <td>[49, 55, 55, 56, 57]</td>\n",
              "    </tr>\n",
              "  </tbody>\n",
              "</table>\n",
              "</div>"
            ],
            "text/plain": [
              "                                     Violations\n",
              "0                          [10, 47, 49, 55, 55]\n",
              "1                        [3, 5, 16, 51, 53, 58]\n",
              "2                               [5, 36, 51, 53]\n",
              "3                                  [49, 55, 56]\n",
              "4                                          [25]\n",
              "5                [3, 5, 10, 49, 51, 53, 55, 55]\n",
              "6                                      [45, 55]\n",
              "7                                    [3, 5, 57]\n",
              "8  [10, 10, 10, 23, 25, 39, 50, 52, 55, 55, 56]\n",
              "9                          [49, 55, 55, 56, 57]"
            ]
          },
          "metadata": {
            "tags": []
          },
          "execution_count": 55
        }
      ]
    },
    {
      "cell_type": "code",
      "metadata": {
        "colab_type": "code",
        "id": "skm89c9LxbHD",
        "colab": {}
      },
      "source": [
        "vio_freq_not_oob = {}\n",
        "for i in violation_nums_not_oob['Violations']:\n",
        "  for j in i:\n",
        "    vio_freq_not_oob[str(j)] = 1 if str(j) not in vio_freq_not_oob else vio_freq_not_oob[str(j)]+1"
      ],
      "execution_count": 0,
      "outputs": []
    },
    {
      "cell_type": "code",
      "metadata": {
        "colab_type": "code",
        "id": "kfQyr41NzuMJ",
        "outputId": "f93dfc5c-286d-43e6-cb6d-9b4611790494",
        "colab": {
          "base_uri": "https://localhost:8080/",
          "height": 295
        }
      },
      "source": [
        "plt.figure(figsize=(17,4))\n",
        "plt.bar(list(vio_freq_not_oob.keys()), vio_freq_not_oob.values())\n",
        "plt.title('Violation Types vs. Their Frequencies in Out of Business Facilities')\n",
        "plt.xlabel('Violation Types')\n",
        "plt.ylabel('Frequency')\n",
        "plt.show()"
      ],
      "execution_count": 57,
      "outputs": [
        {
          "output_type": "display_data",
          "data": {
            "image/png": "[encoded data removed]",
            "text/plain": [
              "<Figure size 1224x288 with 1 Axes>"
            ]
          },
          "metadata": {
            "tags": []
          }
        }
      ]
    },
    {
      "cell_type": "code",
      "metadata": {
        "colab_type": "code",
        "id": "UeJ6lWmlzuuM",
        "colab": {}
      },
      "source": [
        "sorted_vio_freq_not_oob = {}\n",
        "\n",
        "for key in sorted(vio_freq_not_oob, key=vio_freq_not_oob.__getitem__, reverse=True):\n",
        "  sorted_vio_freq_not_oob[key] = vio_freq_not_oob[key]"
      ],
      "execution_count": 0,
      "outputs": []
    },
    {
      "cell_type": "code",
      "metadata": {
        "colab_type": "code",
        "id": "VQo1P1buxm2r",
        "outputId": "ba4d2ff1-8445-402a-b9bf-a825c6f6ba5a",
        "colab": {
          "base_uri": "https://localhost:8080/",
          "height": 295
        }
      },
      "source": [
        "plt.figure(figsize=(17,4))\n",
        "plt.bar(list(sorted_vio_freq_not_oob.keys()), sorted_vio_freq_not_oob.values())\n",
        "plt.title('Violation Types vs. Their Frequencies in Facilities that have not Gone Out of Business')\n",
        "plt.xlabel('Violation Types')\n",
        "plt.ylabel('Frequency')\n",
        "plt.show()"
      ],
      "execution_count": 59,
      "outputs": [
        {
          "output_type": "display_data",
          "data": {
            "image/png": "[encoded data removed]",
            "text/plain": [
              "<Figure size 1224x288 with 1 Axes>"
            ]
          },
          "metadata": {
            "tags": []
          }
        }
      ]
    },
    {
      "cell_type": "code",
      "metadata": {
        "colab_type": "code",
        "id": "DGwn_xr2yHRD",
        "outputId": "df0c2311-148c-4525-bda6-0199247df8de",
        "colab": {
          "base_uri": "https://localhost:8080/",
          "height": 284
        }
      },
      "source": [
        "most_freq_vio_not_oob = [key for key, value in list(sorted_vio_freq_not_oob.items())[0:15]]\n",
        "most_freq_vio_not_oob # top 10 most frequent violation types among facilities that went out of business"
      ],
      "execution_count": 60,
      "outputs": [
        {
          "output_type": "execute_result",
          "data": {
            "text/plain": [
              "['34',\n",
              " '35',\n",
              " '33',\n",
              " '38',\n",
              " '32',\n",
              " '41',\n",
              " '36',\n",
              " '55',\n",
              " '3',\n",
              " '5',\n",
              " '30',\n",
              " '18',\n",
              " '40',\n",
              " '37',\n",
              " '47']"
            ]
          },
          "metadata": {
            "tags": []
          },
          "execution_count": 60
        }
      ]
    },
    {
      "cell_type": "code",
      "metadata": {
        "colab_type": "code",
        "id": "sUTUHZBUyZLe",
        "outputId": "59f0a6de-7b8a-4a31-9ff4-2ba0aa549c21",
        "colab": {
          "base_uri": "https://localhost:8080/",
          "height": 578
        }
      },
      "source": [
        "merged_oob.dropna(subset=['Violations'], inplace=True) # the inspections that have violations (out of business facilities)\n",
        "merged_oob.sort_values(by='AKA Name').head()"
      ],
      "execution_count": 61,
      "outputs": [
        {
          "output_type": "execute_result",
          "data": {
            "text/html": [
              "<div>\n",
              "<style scoped>\n",
              "    .dataframe tbody tr th:only-of-type {\n",
              "        vertical-align: middle;\n",
              "    }\n",
              "\n",
              "    .dataframe tbody tr th {\n",
              "        vertical-align: top;\n",
              "    }\n",
              "\n",
              "    .dataframe thead th {\n",
              "        text-align: right;\n",
              "    }\n",
              "</style>\n",
              "<table border=\"1\" class=\"dataframe\">\n",
              "  <thead>\n",
              "    <tr style=\"text-align: right;\">\n",
              "      <th></th>\n",
              "      <th>Latitude</th>\n",
              "      <th>Longitude</th>\n",
              "      <th>DBA Name</th>\n",
              "      <th>Inspection ID</th>\n",
              "      <th>AKA Name</th>\n",
              "      <th>License #</th>\n",
              "      <th>Facility Type</th>\n",
              "      <th>Risk</th>\n",
              "      <th>Address</th>\n",
              "      <th>Zip</th>\n",
              "      <th>Inspection Date</th>\n",
              "      <th>Inspection Type</th>\n",
              "      <th>Results</th>\n",
              "      <th>Violations</th>\n",
              "      <th>Location</th>\n",
              "      <th>Regions</th>\n",
              "    </tr>\n",
              "  </thead>\n",
              "  <tbody>\n",
              "    <tr>\n",
              "      <th>23119</th>\n",
              "      <td>41.816834</td>\n",
              "      <td>-87.631346</td>\n",
              "      <td>#1 CHINA EXPRESS</td>\n",
              "      <td>467259</td>\n",
              "      <td>#1 CHINA EXPRESS , LTD</td>\n",
              "      <td>1869616.0</td>\n",
              "      <td>RESTAURANT</td>\n",
              "      <td>1</td>\n",
              "      <td>4248 S WENTWORTH AVE</td>\n",
              "      <td>60609.0</td>\n",
              "      <td>2010-11-29T00:00:00.000</td>\n",
              "      <td>CANVASS</td>\n",
              "      <td>Pass</td>\n",
              "      <td>30. FOOD IN ORIGINAL CONTAINER, PROPERLY LABEL...</td>\n",
              "      <td>{'latitude': '-87.6313462733625', 'longitude':...</td>\n",
              "      <td>FULLER PARK</td>\n",
              "    </tr>\n",
              "    <tr>\n",
              "      <th>5308</th>\n",
              "      <td>41.735578</td>\n",
              "      <td>-87.670781</td>\n",
              "      <td>#1 CHOP SUEY</td>\n",
              "      <td>277047</td>\n",
              "      <td>#1 CHOP SUEY</td>\n",
              "      <td>2042372.0</td>\n",
              "      <td>RESTAURANT</td>\n",
              "      <td>1</td>\n",
              "      <td>1907 W 87TH ST</td>\n",
              "      <td>60620.0</td>\n",
              "      <td>2010-07-01T00:00:00.000</td>\n",
              "      <td>LICENSE</td>\n",
              "      <td>Fail</td>\n",
              "      <td>2. FACILITIES TO MAINTAIN PROPER TEMPERATURE -...</td>\n",
              "      <td>{'latitude': '-87.67078075079954', 'longitude'...</td>\n",
              "      <td>AUBURN GRESHAM</td>\n",
              "    </tr>\n",
              "    <tr>\n",
              "      <th>5307</th>\n",
              "      <td>41.735578</td>\n",
              "      <td>-87.670781</td>\n",
              "      <td>#1 CHOP SUEY</td>\n",
              "      <td>277104</td>\n",
              "      <td>#1 CHOP SUEY</td>\n",
              "      <td>2042372.0</td>\n",
              "      <td>RESTAURANT</td>\n",
              "      <td>1</td>\n",
              "      <td>1907 W 87TH ST</td>\n",
              "      <td>60620.0</td>\n",
              "      <td>2010-07-06T00:00:00.000</td>\n",
              "      <td>LICENSE</td>\n",
              "      <td>Fail</td>\n",
              "      <td>35. WALLS, CEILINGS, ATTACHED EQUIPMENT CONSTR...</td>\n",
              "      <td>{'latitude': '-87.67078075079954', 'longitude'...</td>\n",
              "      <td>AUBURN GRESHAM</td>\n",
              "    </tr>\n",
              "    <tr>\n",
              "      <th>5305</th>\n",
              "      <td>41.735578</td>\n",
              "      <td>-87.670781</td>\n",
              "      <td>#1 CHOP SUEY</td>\n",
              "      <td>490946</td>\n",
              "      <td>#1 CHOP SUEY</td>\n",
              "      <td>2042372.0</td>\n",
              "      <td>RESTAURANT</td>\n",
              "      <td>1</td>\n",
              "      <td>1907 W 87TH ST</td>\n",
              "      <td>60620.0</td>\n",
              "      <td>2011-01-05T00:00:00.000</td>\n",
              "      <td>COMPLAINT</td>\n",
              "      <td>Pass</td>\n",
              "      <td>30. FOOD IN ORIGINAL CONTAINER, PROPERLY LABEL...</td>\n",
              "      <td>{'latitude': '-87.67078075079954', 'longitude'...</td>\n",
              "      <td>AUBURN GRESHAM</td>\n",
              "    </tr>\n",
              "    <tr>\n",
              "      <th>5304</th>\n",
              "      <td>41.735578</td>\n",
              "      <td>-87.670781</td>\n",
              "      <td>#1 CHOP SUEY</td>\n",
              "      <td>1072233</td>\n",
              "      <td>#1 CHOP SUEY</td>\n",
              "      <td>2042372.0</td>\n",
              "      <td>RESTAURANT</td>\n",
              "      <td>1</td>\n",
              "      <td>1907 W 87TH ST</td>\n",
              "      <td>60620.0</td>\n",
              "      <td>2013-01-08T00:00:00.000</td>\n",
              "      <td>CANVASS</td>\n",
              "      <td>Fail</td>\n",
              "      <td>18. NO EVIDENCE OF RODENT OR INSECT OUTER OPEN...</td>\n",
              "      <td>{'latitude': '-87.67078075079954', 'longitude'...</td>\n",
              "      <td>AUBURN GRESHAM</td>\n",
              "    </tr>\n",
              "  </tbody>\n",
              "</table>\n",
              "</div>"
            ],
            "text/plain": [
              "        Latitude  ...         Regions\n",
              "23119  41.816834  ...     FULLER PARK\n",
              "5308   41.735578  ...  AUBURN GRESHAM\n",
              "5307   41.735578  ...  AUBURN GRESHAM\n",
              "5305   41.735578  ...  AUBURN GRESHAM\n",
              "5304   41.735578  ...  AUBURN GRESHAM\n",
              "\n",
              "[5 rows x 16 columns]"
            ]
          },
          "metadata": {
            "tags": []
          },
          "execution_count": 61
        }
      ]
    },
    {
      "cell_type": "markdown",
      "metadata": {
        "colab_type": "text",
        "id": "A85HB-qx1Lg4"
      },
      "source": [
        "Our aim was to detect any violation type that could result into the facilities going out of business. From our data analysis, we found that most violation types are common between those that went out of business and those that have not. Only Violation Types 21, 31, and 43 are more prevalent in facilities that have gone out of business, but are not so prevalent in those that have not gone out of business."
      ]
    },
    {
      "cell_type": "markdown",
      "metadata": {
        "colab_type": "text",
        "id": "VUSui_GqgDLt"
      },
      "source": [
        "### **Distribution of number of violations committed in each inspection (in facilities that went out of business)**"
      ]
    },
    {
      "cell_type": "code",
      "metadata": {
        "colab_type": "code",
        "id": "acuT4Yk6eHFi",
        "colab": {}
      },
      "source": [
        "num_vio_oob = []\n",
        "for i in violation_nums_oob['Violations']:\n",
        "  num_vio_oob.append(len(i))"
      ],
      "execution_count": 0,
      "outputs": []
    },
    {
      "cell_type": "code",
      "metadata": {
        "colab_type": "code",
        "id": "cbqgYw6meZ8d",
        "outputId": "91403027-662f-403c-c89d-faca2d458f50",
        "colab": {
          "base_uri": "https://localhost:8080/",
          "height": 295
        }
      },
      "source": [
        "plt.hist(num_vio_oob, bins=15)\n",
        "plt.title('Distribution of number of violations committed in each inspection (in oob facilities)')\n",
        "plt.xlabel('Number of violations committed in an inspection')\n",
        "plt.ylabel('Inspection counts')\n",
        "plt.show()"
      ],
      "execution_count": 63,
      "outputs": [
        {
          "output_type": "display_data",
          "data": {
            "image/png": "[encoded data removed]",
            "text/plain": [
              "<Figure size 432x288 with 1 Axes>"
            ]
          },
          "metadata": {
            "tags": []
          }
        }
      ]
    },
    {
      "cell_type": "code",
      "metadata": {
        "colab_type": "code",
        "id": "cWO95lsMgrDG",
        "outputId": "0acc7913-4529-45c2-f2fe-cab154ef907d",
        "colab": {
          "base_uri": "https://localhost:8080/",
          "height": 52
        }
      },
      "source": [
        "print('Average number of violations committed in each inspection (OOB): ' + str(np.mean(num_vio_oob)))\n",
        "print('Median number of violations committed in each inspection (OOB): ' + str(np.median(num_vio_oob)))"
      ],
      "execution_count": 64,
      "outputs": [
        {
          "output_type": "stream",
          "text": [
            "Average number of violations committed in each inspection (OOB): 4.428259352528899\n",
            "Median number of violations committed in each inspection (OOB): 4.0\n"
          ],
          "name": "stdout"
        }
      ]
    },
    {
      "cell_type": "markdown",
      "metadata": {
        "colab_type": "text",
        "id": "J5TRf7RQgIF_"
      },
      "source": [
        "### **Distribution of number of violations committed in each inspection (in facilities that did NOT go out of business)**"
      ]
    },
    {
      "cell_type": "code",
      "metadata": {
        "colab_type": "code",
        "id": "0ZW2Yw_ygLH0",
        "colab": {}
      },
      "source": [
        "num_vio_not_oob = []\n",
        "for i in violation_nums_not_oob['Violations']:\n",
        "  num_vio_not_oob.append(len(i))"
      ],
      "execution_count": 0,
      "outputs": []
    },
    {
      "cell_type": "code",
      "metadata": {
        "colab_type": "code",
        "id": "th11K_GdgbEz",
        "outputId": "8886c456-d3d5-4990-cf82-a98c6d75fdfd",
        "colab": {
          "base_uri": "https://localhost:8080/",
          "height": 295
        }
      },
      "source": [
        "plt.hist(num_vio_not_oob, bins=15)\n",
        "plt.title('Distribution of number of violations committed in each inspection (in NOT oob facilities)')\n",
        "plt.xlabel('Number of violations in committed in an inspection')\n",
        "plt.ylabel('Inspection counts')\n",
        "plt.show()"
      ],
      "execution_count": 66,
      "outputs": [
        {
          "output_type": "display_data",
          "data": {
            "image/png": "[encoded data removed]",
            "text/plain": [
              "<Figure size 432x288 with 1 Axes>"
            ]
          },
          "metadata": {
            "tags": []
          }
        }
      ]
    },
    {
      "cell_type": "code",
      "metadata": {
        "colab_type": "code",
        "id": "hn4hEM26hJEy",
        "outputId": "26b2b1d0-becf-4a82-b432-cfac7883aa2c",
        "colab": {
          "base_uri": "https://localhost:8080/",
          "height": 52
        }
      },
      "source": [
        "print('Average number of violations committed in each inspection (not OOB): ' + str(np.mean(num_vio_not_oob)))\n",
        "print('Median number of violations committed in each inspection (not OOB): ' + str(np.median(num_vio_not_oob)))"
      ],
      "execution_count": 67,
      "outputs": [
        {
          "output_type": "stream",
          "text": [
            "Average number of violations committed in each inspection (not OOB): 4.416111234757348\n",
            "Median number of violations committed in each inspection (not OOB): 4.0\n"
          ],
          "name": "stdout"
        }
      ]
    },
    {
      "cell_type": "markdown",
      "metadata": {
        "colab_type": "text",
        "id": "niCNNQTlRFP6"
      },
      "source": [
        "We observe that the average number of violations committed in each inspection in facilities that went out of business is slightly higher than those that have not gone out of business. "
      ]
    },
    {
      "cell_type": "markdown",
      "metadata": {
        "colab_type": "text",
        "id": "kmhCqOVkZ8sm"
      },
      "source": [
        "### **Distribution of total number of violations facilities commit before going out of business**"
      ]
    },
    {
      "cell_type": "code",
      "metadata": {
        "colab_type": "code",
        "id": "9ydm8x90uYAN",
        "outputId": "89b07b93-5979-4966-acb3-a42458e29b0b",
        "colab": {
          "base_uri": "https://localhost:8080/",
          "height": 925
        }
      },
      "source": [
        "dup_oob['Violations'].update(violation_nums_oob['Violations'])\n",
        "dup_oob['Number of Violations'] = dup_oob.Violations.apply(lambda x: len(x)) # create num of violations column\n",
        "dup_oob.head(10)"
      ],
      "execution_count": 68,
      "outputs": [
        {
          "output_type": "stream",
          "text": [
            "/usr/local/lib/python3.6/dist-packages/IPython/core/interactiveshell.py:2882: SettingWithCopyWarning: \n",
            "A value is trying to be set on a copy of a slice from a DataFrame\n",
            "\n",
            "See the caveats in the documentation: http://pandas.pydata.org/pandas-docs/stable/user_guide/indexing.html#returning-a-view-versus-a-copy\n",
            "  exec(code_obj, self.user_global_ns, self.user_ns)\n",
            "/usr/local/lib/python3.6/dist-packages/ipykernel_launcher.py:2: SettingWithCopyWarning: \n",
            "A value is trying to be set on a copy of a slice from a DataFrame.\n",
            "Try using .loc[row_indexer,col_indexer] = value instead\n",
            "\n",
            "See the caveats in the documentation: http://pandas.pydata.org/pandas-docs/stable/user_guide/indexing.html#returning-a-view-versus-a-copy\n",
            "  \n"
          ],
          "name": "stderr"
        },
        {
          "output_type": "execute_result",
          "data": {
            "text/html": [
              "<div>\n",
              "<style scoped>\n",
              "    .dataframe tbody tr th:only-of-type {\n",
              "        vertical-align: middle;\n",
              "    }\n",
              "\n",
              "    .dataframe tbody tr th {\n",
              "        vertical-align: top;\n",
              "    }\n",
              "\n",
              "    .dataframe thead th {\n",
              "        text-align: right;\n",
              "    }\n",
              "</style>\n",
              "<table border=\"1\" class=\"dataframe\">\n",
              "  <thead>\n",
              "    <tr style=\"text-align: right;\">\n",
              "      <th></th>\n",
              "      <th>Latitude</th>\n",
              "      <th>Longitude</th>\n",
              "      <th>DBA Name</th>\n",
              "      <th>Inspection ID</th>\n",
              "      <th>AKA Name</th>\n",
              "      <th>License #</th>\n",
              "      <th>Facility Type</th>\n",
              "      <th>Risk</th>\n",
              "      <th>Address</th>\n",
              "      <th>Zip</th>\n",
              "      <th>Inspection Date</th>\n",
              "      <th>Inspection Type</th>\n",
              "      <th>Results</th>\n",
              "      <th>Violations</th>\n",
              "      <th>Location</th>\n",
              "      <th>Regions</th>\n",
              "      <th>Number of Violations</th>\n",
              "    </tr>\n",
              "  </thead>\n",
              "  <tbody>\n",
              "    <tr>\n",
              "      <th>0</th>\n",
              "      <td>41.644670</td>\n",
              "      <td>-87.540095</td>\n",
              "      <td>BURGER KING</td>\n",
              "      <td>2240219</td>\n",
              "      <td>BURGER KING</td>\n",
              "      <td>2368796.0</td>\n",
              "      <td>RESTAURANT</td>\n",
              "      <td>2</td>\n",
              "      <td>13770 S AVENUE O</td>\n",
              "      <td>60633.0</td>\n",
              "      <td>2018-11-15T00:00:00.000</td>\n",
              "      <td>COMPLAINT</td>\n",
              "      <td>Pass w/ Conditions</td>\n",
              "      <td>[2, 3, 5]</td>\n",
              "      <td>{'latitude': '-87.5400946053766', 'longitude':...</td>\n",
              "      <td>HEGEWISCH</td>\n",
              "      <td>3</td>\n",
              "    </tr>\n",
              "    <tr>\n",
              "      <th>1</th>\n",
              "      <td>41.644670</td>\n",
              "      <td>-87.540095</td>\n",
              "      <td>BURGER KING</td>\n",
              "      <td>2200946</td>\n",
              "      <td>BURGER KING</td>\n",
              "      <td>2368796.0</td>\n",
              "      <td>RESTAURANT</td>\n",
              "      <td>2</td>\n",
              "      <td>13770 S AVENUE O</td>\n",
              "      <td>60633.0</td>\n",
              "      <td>2018-08-14T00:00:00.000</td>\n",
              "      <td>COMPLAINT</td>\n",
              "      <td>Pass w/ Conditions</td>\n",
              "      <td>[2, 3, 5, 49, 55]</td>\n",
              "      <td>{'latitude': '-87.5400946053766', 'longitude':...</td>\n",
              "      <td>HEGEWISCH</td>\n",
              "      <td>5</td>\n",
              "    </tr>\n",
              "    <tr>\n",
              "      <th>2</th>\n",
              "      <td>41.644670</td>\n",
              "      <td>-87.540095</td>\n",
              "      <td>BURGER KING</td>\n",
              "      <td>1950282</td>\n",
              "      <td>BURGER KING</td>\n",
              "      <td>2368796.0</td>\n",
              "      <td>RESTAURANT</td>\n",
              "      <td>2</td>\n",
              "      <td>13770 S AVENUE O</td>\n",
              "      <td>60633.0</td>\n",
              "      <td>2016-08-12T00:00:00.000</td>\n",
              "      <td>CANVASS</td>\n",
              "      <td>Pass</td>\n",
              "      <td>[34, 35, 38]</td>\n",
              "      <td>{'latitude': '-87.5400946053766', 'longitude':...</td>\n",
              "      <td>HEGEWISCH</td>\n",
              "      <td>3</td>\n",
              "    </tr>\n",
              "    <tr>\n",
              "      <th>3</th>\n",
              "      <td>41.644670</td>\n",
              "      <td>-87.540095</td>\n",
              "      <td>BURGER KING</td>\n",
              "      <td>1523175</td>\n",
              "      <td>BURGER KING</td>\n",
              "      <td>2368796.0</td>\n",
              "      <td>RESTAURANT</td>\n",
              "      <td>2</td>\n",
              "      <td>13770 S AVENUE O</td>\n",
              "      <td>60633.0</td>\n",
              "      <td>2015-02-23T00:00:00.000</td>\n",
              "      <td>LICENSE</td>\n",
              "      <td>Pass</td>\n",
              "      <td>[33, 34, 45]</td>\n",
              "      <td>{'latitude': '-87.5400946053766', 'longitude':...</td>\n",
              "      <td>HEGEWISCH</td>\n",
              "      <td>3</td>\n",
              "    </tr>\n",
              "    <tr>\n",
              "      <th>6</th>\n",
              "      <td>41.644670</td>\n",
              "      <td>-87.540095</td>\n",
              "      <td>BURGER KING</td>\n",
              "      <td>1493718</td>\n",
              "      <td>BURGER KING #7268</td>\n",
              "      <td>1473518.0</td>\n",
              "      <td>RESTAURANT</td>\n",
              "      <td>2</td>\n",
              "      <td>13770 S AVENUE O</td>\n",
              "      <td>60633.0</td>\n",
              "      <td>2014-08-18T00:00:00.000</td>\n",
              "      <td>CANVASS</td>\n",
              "      <td>Fail</td>\n",
              "      <td>[8, 21, 33, 34, 35, 36, 38]</td>\n",
              "      <td>{'latitude': '-87.5400946053766', 'longitude':...</td>\n",
              "      <td>HEGEWISCH</td>\n",
              "      <td>7</td>\n",
              "    </tr>\n",
              "    <tr>\n",
              "      <th>7</th>\n",
              "      <td>41.644670</td>\n",
              "      <td>-87.540095</td>\n",
              "      <td>BURGER KING</td>\n",
              "      <td>1300984</td>\n",
              "      <td>BURGER KING #7268</td>\n",
              "      <td>1473518.0</td>\n",
              "      <td>RESTAURANT</td>\n",
              "      <td>2</td>\n",
              "      <td>13770 S AVENUE O</td>\n",
              "      <td>60633.0</td>\n",
              "      <td>2012-12-19T00:00:00.000</td>\n",
              "      <td>CANVASS</td>\n",
              "      <td>Pass w/ Conditions</td>\n",
              "      <td>[33, 34, 35, 36, 38]</td>\n",
              "      <td>{'latitude': '-87.5400946053766', 'longitude':...</td>\n",
              "      <td>HEGEWISCH</td>\n",
              "      <td>5</td>\n",
              "    </tr>\n",
              "    <tr>\n",
              "      <th>8</th>\n",
              "      <td>41.644670</td>\n",
              "      <td>-87.540095</td>\n",
              "      <td>BURGER KING</td>\n",
              "      <td>537818</td>\n",
              "      <td>BURGER KING #7268</td>\n",
              "      <td>1473518.0</td>\n",
              "      <td>RESTAURANT</td>\n",
              "      <td>2</td>\n",
              "      <td>13770 S AVENUE O</td>\n",
              "      <td>60633.0</td>\n",
              "      <td>2012-01-10T00:00:00.000</td>\n",
              "      <td>COMPLAINT</td>\n",
              "      <td>Pass w/ Conditions</td>\n",
              "      <td>[3, 12, 21, 33, 34]</td>\n",
              "      <td>{'latitude': '-87.5400946053766', 'longitude':...</td>\n",
              "      <td>HEGEWISCH</td>\n",
              "      <td>5</td>\n",
              "    </tr>\n",
              "    <tr>\n",
              "      <th>9</th>\n",
              "      <td>41.644670</td>\n",
              "      <td>-87.540095</td>\n",
              "      <td>BURGER KING</td>\n",
              "      <td>537384</td>\n",
              "      <td>BURGER KING #7268</td>\n",
              "      <td>1473518.0</td>\n",
              "      <td>RESTAURANT</td>\n",
              "      <td>2</td>\n",
              "      <td>13770 S AVENUE O</td>\n",
              "      <td>60633.0</td>\n",
              "      <td>2011-05-26T00:00:00.000</td>\n",
              "      <td>COMPLAINT</td>\n",
              "      <td>Pass</td>\n",
              "      <td>[33, 34, 35]</td>\n",
              "      <td>{'latitude': '-87.5400946053766', 'longitude':...</td>\n",
              "      <td>HEGEWISCH</td>\n",
              "      <td>3</td>\n",
              "    </tr>\n",
              "    <tr>\n",
              "      <th>10</th>\n",
              "      <td>41.644670</td>\n",
              "      <td>-87.540095</td>\n",
              "      <td>BURGER KING</td>\n",
              "      <td>419402</td>\n",
              "      <td>BURGER KING #7268</td>\n",
              "      <td>1473518.0</td>\n",
              "      <td>RESTAURANT</td>\n",
              "      <td>2</td>\n",
              "      <td>13770 S AVENUE O</td>\n",
              "      <td>60633.0</td>\n",
              "      <td>2010-10-12T00:00:00.000</td>\n",
              "      <td>COMPLAINT</td>\n",
              "      <td>Pass w/ Conditions</td>\n",
              "      <td>[18, 33, 34, 35, 38, 70]</td>\n",
              "      <td>{'latitude': '-87.5400946053766', 'longitude':...</td>\n",
              "      <td>HEGEWISCH</td>\n",
              "      <td>6</td>\n",
              "    </tr>\n",
              "    <tr>\n",
              "      <th>14</th>\n",
              "      <td>41.646371</td>\n",
              "      <td>-87.560342</td>\n",
              "      <td>WINJAMMER MARINA</td>\n",
              "      <td>1395212</td>\n",
              "      <td>WINJAMMER MARINA</td>\n",
              "      <td>79113.0</td>\n",
              "      <td>RESTAURANT</td>\n",
              "      <td>2</td>\n",
              "      <td>13701 S HOXIE AVE</td>\n",
              "      <td>60633.0</td>\n",
              "      <td>2013-12-30T00:00:00.000</td>\n",
              "      <td>CANVASS</td>\n",
              "      <td>Pass</td>\n",
              "      <td>[14, 18, 34, 35, 36]</td>\n",
              "      <td>{'latitude': '-87.56034196262158', 'longitude'...</td>\n",
              "      <td>HEGEWISCH</td>\n",
              "      <td>5</td>\n",
              "    </tr>\n",
              "  </tbody>\n",
              "</table>\n",
              "</div>"
            ],
            "text/plain": [
              "     Latitude  Longitude  ...    Regions  Number of Violations\n",
              "0   41.644670 -87.540095  ...  HEGEWISCH                     3\n",
              "1   41.644670 -87.540095  ...  HEGEWISCH                     5\n",
              "2   41.644670 -87.540095  ...  HEGEWISCH                     3\n",
              "3   41.644670 -87.540095  ...  HEGEWISCH                     3\n",
              "6   41.644670 -87.540095  ...  HEGEWISCH                     7\n",
              "7   41.644670 -87.540095  ...  HEGEWISCH                     5\n",
              "8   41.644670 -87.540095  ...  HEGEWISCH                     5\n",
              "9   41.644670 -87.540095  ...  HEGEWISCH                     3\n",
              "10  41.644670 -87.540095  ...  HEGEWISCH                     6\n",
              "14  41.646371 -87.560342  ...  HEGEWISCH                     5\n",
              "\n",
              "[10 rows x 17 columns]"
            ]
          },
          "metadata": {
            "tags": []
          },
          "execution_count": 68
        }
      ]
    },
    {
      "cell_type": "code",
      "metadata": {
        "colab_type": "code",
        "id": "kOaU_o1mw9Md",
        "outputId": "de3d738d-41fe-48cd-95f5-001bd2bc0cdd",
        "colab": {
          "base_uri": "https://localhost:8080/",
          "height": 295
        }
      },
      "source": [
        "sum_vios = dup_oob.groupby(['DBA Name', 'Latitude', 'Longitude'])['Number of Violations'].sum()\n",
        "sum_vios.hist(bins=20)\n",
        "plt.title('Distribution of total number of violations committed before going out of business')\n",
        "plt.xlabel('Total number of committed violations')\n",
        "plt.ylabel('Facility counts')\n",
        "plt.show()"
      ],
      "execution_count": 69,
      "outputs": [
        {
          "output_type": "display_data",
          "data": {
            "image/png": "[encoded data removed]",
            "text/plain": [
              "<Figure size 432x288 with 1 Axes>"
            ]
          },
          "metadata": {
            "tags": []
          }
        }
      ]
    },
    {
      "cell_type": "markdown",
      "metadata": {
        "colab_type": "text",
        "id": "yUp4yFCridfP"
      },
      "source": [
        "### **Average risk of oob facilities vs. Average risk of NOT oob facilities**"
      ]
    },
    {
      "cell_type": "code",
      "metadata": {
        "colab_type": "code",
        "id": "7DQyhN35OTq4",
        "outputId": "e5b7c7a3-d54e-4559-89a0-08b7b253bf03",
        "colab": {
          "base_uri": "https://localhost:8080/",
          "height": 35
        }
      },
      "source": [
        "# Average risk of out of business facilities\n",
        "merged_oob['Risk'].mean()"
      ],
      "execution_count": 70,
      "outputs": [
        {
          "output_type": "execute_result",
          "data": {
            "text/plain": [
              "1.307275706180406"
            ]
          },
          "metadata": {
            "tags": []
          },
          "execution_count": 70
        }
      ]
    },
    {
      "cell_type": "code",
      "metadata": {
        "colab_type": "code",
        "id": "rLHrymqvPiOL",
        "outputId": "fe9058ef-60f7-4e64-a01a-977911881c7a",
        "colab": {
          "base_uri": "https://localhost:8080/",
          "height": 35
        }
      },
      "source": [
        "# Average risk of NOT out of business facilities\n",
        "set_diff_oob['Risk'].mean()  "
      ],
      "execution_count": 71,
      "outputs": [
        {
          "output_type": "execute_result",
          "data": {
            "text/plain": [
              "1.2918272440815752"
            ]
          },
          "metadata": {
            "tags": []
          },
          "execution_count": 71
        }
      ]
    },
    {
      "cell_type": "markdown",
      "metadata": {
        "colab_type": "text",
        "id": "VJTbQvLBzwrb"
      },
      "source": [
        "### **Region vs. Risk Score**"
      ]
    },
    {
      "cell_type": "code",
      "metadata": {
        "colab_type": "code",
        "id": "SiY10BMDzsMU",
        "outputId": "53f3f3fd-f797-4fe4-a9f1-9574730b2532",
        "colab": {
          "base_uri": "https://localhost:8080/",
          "height": 382
        }
      },
      "source": [
        "df_region = df.groupby('Regions')['Risk'].mean()\n",
        "df_region.to_frame().nsmallest(10, 'Risk')"
      ],
      "execution_count": 72,
      "outputs": [
        {
          "output_type": "execute_result",
          "data": {
            "text/html": [
              "<div>\n",
              "<style scoped>\n",
              "    .dataframe tbody tr th:only-of-type {\n",
              "        vertical-align: middle;\n",
              "    }\n",
              "\n",
              "    .dataframe tbody tr th {\n",
              "        vertical-align: top;\n",
              "    }\n",
              "\n",
              "    .dataframe thead th {\n",
              "        text-align: right;\n",
              "    }\n",
              "</style>\n",
              "<table border=\"1\" class=\"dataframe\">\n",
              "  <thead>\n",
              "    <tr style=\"text-align: right;\">\n",
              "      <th></th>\n",
              "      <th>Risk</th>\n",
              "    </tr>\n",
              "    <tr>\n",
              "      <th>Regions</th>\n",
              "      <th></th>\n",
              "    </tr>\n",
              "  </thead>\n",
              "  <tbody>\n",
              "    <tr>\n",
              "      <th>BURNSIDE</th>\n",
              "      <td>1.000000</td>\n",
              "    </tr>\n",
              "    <tr>\n",
              "      <th>OAKLAND</th>\n",
              "      <td>1.166667</td>\n",
              "    </tr>\n",
              "    <tr>\n",
              "      <th>NORWOOD PARK</th>\n",
              "      <td>1.203680</td>\n",
              "    </tr>\n",
              "    <tr>\n",
              "      <th>EDISON PARK</th>\n",
              "      <td>1.206951</td>\n",
              "    </tr>\n",
              "    <tr>\n",
              "      <th>ARMOUR SQUARE</th>\n",
              "      <td>1.216065</td>\n",
              "    </tr>\n",
              "    <tr>\n",
              "      <th>NEAR NORTH SIDE</th>\n",
              "      <td>1.229239</td>\n",
              "    </tr>\n",
              "    <tr>\n",
              "      <th>LINCOLN PARK</th>\n",
              "      <td>1.233531</td>\n",
              "    </tr>\n",
              "    <tr>\n",
              "      <th>PORTAGE PARK</th>\n",
              "      <td>1.245959</td>\n",
              "    </tr>\n",
              "    <tr>\n",
              "      <th>NORTH CENTER</th>\n",
              "      <td>1.249224</td>\n",
              "    </tr>\n",
              "    <tr>\n",
              "      <th>FOREST GLEN</th>\n",
              "      <td>1.250000</td>\n",
              "    </tr>\n",
              "  </tbody>\n",
              "</table>\n",
              "</div>"
            ],
            "text/plain": [
              "                     Risk\n",
              "Regions                  \n",
              "BURNSIDE         1.000000\n",
              "OAKLAND          1.166667\n",
              "NORWOOD PARK     1.203680\n",
              "EDISON PARK      1.206951\n",
              "ARMOUR SQUARE    1.216065\n",
              "NEAR NORTH SIDE  1.229239\n",
              "LINCOLN PARK     1.233531\n",
              "PORTAGE PARK     1.245959\n",
              "NORTH CENTER     1.249224\n",
              "FOREST GLEN      1.250000"
            ]
          },
          "metadata": {
            "tags": []
          },
          "execution_count": 72
        }
      ]
    },
    {
      "cell_type": "code",
      "metadata": {
        "colab_type": "code",
        "id": "NjkKpcol7KBJ",
        "outputId": "fb690f6c-40bc-4c7c-eb1d-fc53f639843a",
        "colab": {
          "base_uri": "https://localhost:8080/",
          "height": 382
        }
      },
      "source": [
        "df_region.to_frame().nlargest(10, 'Risk')"
      ],
      "execution_count": 73,
      "outputs": [
        {
          "output_type": "execute_result",
          "data": {
            "text/html": [
              "<div>\n",
              "<style scoped>\n",
              "    .dataframe tbody tr th:only-of-type {\n",
              "        vertical-align: middle;\n",
              "    }\n",
              "\n",
              "    .dataframe tbody tr th {\n",
              "        vertical-align: top;\n",
              "    }\n",
              "\n",
              "    .dataframe thead th {\n",
              "        text-align: right;\n",
              "    }\n",
              "</style>\n",
              "<table border=\"1\" class=\"dataframe\">\n",
              "  <thead>\n",
              "    <tr style=\"text-align: right;\">\n",
              "      <th></th>\n",
              "      <th>Risk</th>\n",
              "    </tr>\n",
              "    <tr>\n",
              "      <th>Regions</th>\n",
              "      <th></th>\n",
              "    </tr>\n",
              "  </thead>\n",
              "  <tbody>\n",
              "    <tr>\n",
              "      <th>WEST GARFIELD PARK</th>\n",
              "      <td>1.785241</td>\n",
              "    </tr>\n",
              "    <tr>\n",
              "      <th>WEST ENGLEWOOD</th>\n",
              "      <td>1.636305</td>\n",
              "    </tr>\n",
              "    <tr>\n",
              "      <th>ENGLEWOOD</th>\n",
              "      <td>1.633903</td>\n",
              "    </tr>\n",
              "    <tr>\n",
              "      <th>GREATER GRAND CROSSING</th>\n",
              "      <td>1.602637</td>\n",
              "    </tr>\n",
              "    <tr>\n",
              "      <th>WOODLAWN</th>\n",
              "      <td>1.594313</td>\n",
              "    </tr>\n",
              "    <tr>\n",
              "      <th>NORTH LAWNDALE</th>\n",
              "      <td>1.581455</td>\n",
              "    </tr>\n",
              "    <tr>\n",
              "      <th>AUBURN GRESHAM</th>\n",
              "      <td>1.573504</td>\n",
              "    </tr>\n",
              "    <tr>\n",
              "      <th>EAST GARFIELD PARK</th>\n",
              "      <td>1.566380</td>\n",
              "    </tr>\n",
              "    <tr>\n",
              "      <th>WEST PULLMAN</th>\n",
              "      <td>1.566185</td>\n",
              "    </tr>\n",
              "    <tr>\n",
              "      <th>CHATHAM</th>\n",
              "      <td>1.564516</td>\n",
              "    </tr>\n",
              "  </tbody>\n",
              "</table>\n",
              "</div>"
            ],
            "text/plain": [
              "                            Risk\n",
              "Regions                         \n",
              "WEST GARFIELD PARK      1.785241\n",
              "WEST ENGLEWOOD          1.636305\n",
              "ENGLEWOOD               1.633903\n",
              "GREATER GRAND CROSSING  1.602637\n",
              "WOODLAWN                1.594313\n",
              "NORTH LAWNDALE          1.581455\n",
              "AUBURN GRESHAM          1.573504\n",
              "EAST GARFIELD PARK      1.566380\n",
              "WEST PULLMAN            1.566185\n",
              "CHATHAM                 1.564516"
            ]
          },
          "metadata": {
            "tags": []
          },
          "execution_count": 73
        }
      ]
    },
    {
      "cell_type": "code",
      "metadata": {
        "colab_type": "code",
        "id": "D6xCi0qq5Rpp",
        "colab": {}
      },
      "source": [
        "# TODO: combine this with the percentage(?) of OOB, average # violations, and then rank\n",
        "# TODO: run knn (or any unsupervised classification) algorithm to cluster neighborhoods, see if it clustered into meaningful clusters"
      ],
      "execution_count": 0,
      "outputs": []
    },
    {
      "cell_type": "code",
      "metadata": {
        "colab_type": "code",
        "id": "2lslGz5g64W9",
        "colab": {}
      },
      "source": [
        "df_region_fac = df.groupby(['Regions', 'Facility Type'])['Risk'].mean()"
      ],
      "execution_count": 0,
      "outputs": []
    },
    {
      "cell_type": "markdown",
      "metadata": {
        "colab_type": "text",
        "id": "vaZDHSVonzLc"
      },
      "source": [
        "### **Violation Type Numbers and Their Description**"
      ]
    },
    {
      "cell_type": "markdown",
      "metadata": {
        "colab_type": "text",
        "id": "KthKdSltpPKt"
      },
      "source": [
        "Violations numbered 1-44 and 70.\n",
        "\n",
        "Violation #1-14: critical\n",
        "\n",
        "Violation #15-29: serious "
      ]
    },
    {
      "cell_type": "code",
      "metadata": {
        "colab_type": "code",
        "id": "xmklb8hryjwQ",
        "outputId": "36caea76-d566-4fe2-967c-afa9092dc8d4",
        "colab": {
          "base_uri": "https://localhost:8080/",
          "height": 1000
        }
      },
      "source": [
        "df_nan_removed_vio = df.dropna(subset=['Violations'])\n",
        "dict_vio = {}\n",
        "\n",
        "for j in df_nan_removed_vio['Violations']:\n",
        "  vio_list = j.split(\" | \")\n",
        "  for i in vio_list:\n",
        "    result = i[i.find(\"[0-9]+[. ]\")+1 : i.find(\" - Comments\")]\n",
        "    vio_pair = result.split(\".\")\n",
        "    if(vio_pair[0] not in dict_vio):\n",
        "      dict_vio[vio_pair[0]] = vio_pair[1]\n",
        "\n",
        "print(len(dict_vio)) \n",
        "\n",
        "dict_vio_sorted = {int(k):v for k,v in dict_vio.items()}\n",
        "print(sorted(dict_vio_sorted))\n",
        "\n",
        "pd.set_option('display.max_colwidth', -1) #to display the whole descriptions\n",
        "vio_descr = pd.DataFrame(list(dict_vio_sorted.items())).rename(columns={0:'Violation Number', 1:'Description'}).sort_values(by=['Violation Number']).set_index('Violation Number')\n",
        "vio_descr.head(50)"
      ],
      "execution_count": 76,
      "outputs": [
        {
          "output_type": "stream",
          "text": [
            "64\n",
            "[1, 2, 3, 4, 5, 6, 7, 8, 9, 10, 11, 12, 13, 14, 15, 16, 17, 18, 19, 20, 21, 22, 23, 24, 25, 26, 27, 28, 29, 30, 31, 32, 33, 34, 35, 36, 37, 38, 39, 40, 41, 42, 43, 44, 45, 46, 47, 48, 49, 50, 51, 52, 53, 54, 55, 56, 57, 58, 59, 60, 61, 62, 63, 70]\n"
          ],
          "name": "stdout"
        },
        {
          "output_type": "execute_result",
          "data": {
            "text/html": [
              "<div>\n",
              "<style scoped>\n",
              "    .dataframe tbody tr th:only-of-type {\n",
              "        vertical-align: middle;\n",
              "    }\n",
              "\n",
              "    .dataframe tbody tr th {\n",
              "        vertical-align: top;\n",
              "    }\n",
              "\n",
              "    .dataframe thead th {\n",
              "        text-align: right;\n",
              "    }\n",
              "</style>\n",
              "<table border=\"1\" class=\"dataframe\">\n",
              "  <thead>\n",
              "    <tr style=\"text-align: right;\">\n",
              "      <th></th>\n",
              "      <th>Description</th>\n",
              "    </tr>\n",
              "    <tr>\n",
              "      <th>Violation Number</th>\n",
              "      <th></th>\n",
              "    </tr>\n",
              "  </thead>\n",
              "  <tbody>\n",
              "    <tr>\n",
              "      <th>1</th>\n",
              "      <td>PERSON IN CHARGE PRESENT, DEMONSTRATES KNOWLEDGE, AND PERFORMS DUTIES</td>\n",
              "    </tr>\n",
              "    <tr>\n",
              "      <th>2</th>\n",
              "      <td>CITY OF CHICAGO FOOD SERVICE SANITATION CERTIFICATE</td>\n",
              "    </tr>\n",
              "    <tr>\n",
              "      <th>3</th>\n",
              "      <td>MANAGEMENT, FOOD EMPLOYEE AND CONDITIONAL EMPLOYEE; KNOWLEDGE, RESPONSIBILITIES AND REPORTING</td>\n",
              "    </tr>\n",
              "    <tr>\n",
              "      <th>4</th>\n",
              "      <td>PROPER USE OF RESTRICTION AND EXCLUSIO</td>\n",
              "    </tr>\n",
              "    <tr>\n",
              "      <th>5</th>\n",
              "      <td>PROCEDURES FOR RESPONDING TO VOMITING AND DIARRHEAL EVENTS</td>\n",
              "    </tr>\n",
              "    <tr>\n",
              "      <th>6</th>\n",
              "      <td>PROPER EATING, TASTING, DRINKING, OR TOBACCO USE</td>\n",
              "    </tr>\n",
              "    <tr>\n",
              "      <th>7</th>\n",
              "      <td>NO DISCHARGE FROM EYES, NOSE, AND MOUT</td>\n",
              "    </tr>\n",
              "    <tr>\n",
              "      <th>8</th>\n",
              "      <td>HANDS CLEAN &amp; PROPERLY WASHED</td>\n",
              "    </tr>\n",
              "    <tr>\n",
              "      <th>9</th>\n",
              "      <td>NO BARE HAND CONTACT WITH RTE FOOD OR A PRE-APPROVED ALTERNATIVE PROCEDURE PROPERLY ALLOWED</td>\n",
              "    </tr>\n",
              "    <tr>\n",
              "      <th>10</th>\n",
              "      <td>ADEQUATE HANDWASHING SINKS PROPERLY SUPPLIED AND ACCESSIBLE</td>\n",
              "    </tr>\n",
              "    <tr>\n",
              "      <th>11</th>\n",
              "      <td>FOOD OBTAINED FROM APPROVED SOURCE</td>\n",
              "    </tr>\n",
              "    <tr>\n",
              "      <th>12</th>\n",
              "      <td>FOOD RECEIVED AT PROPER TEMPERATURE</td>\n",
              "    </tr>\n",
              "    <tr>\n",
              "      <th>13</th>\n",
              "      <td>FOOD IN GOOD CONDITION, SAFE, &amp; UNADULTERATED</td>\n",
              "    </tr>\n",
              "    <tr>\n",
              "      <th>14</th>\n",
              "      <td>REQUIRED RECORDS AVAILABLE: SHELLSTOCK TAGS, PARASITE DESTRUCTION</td>\n",
              "    </tr>\n",
              "    <tr>\n",
              "      <th>15</th>\n",
              "      <td>FOOD SEPARATED AND PROTECTED</td>\n",
              "    </tr>\n",
              "    <tr>\n",
              "      <th>16</th>\n",
              "      <td>FOOD-CONTACT SURFACES: CLEANED &amp; SANITIZED</td>\n",
              "    </tr>\n",
              "    <tr>\n",
              "      <th>17</th>\n",
              "      <td>PROPER DISPOSITION OF RETURNED, PREVIOUSLY SERVED, RECONDITIONED &amp; UNSAFE FOO</td>\n",
              "    </tr>\n",
              "    <tr>\n",
              "      <th>18</th>\n",
              "      <td>PROPER COOKING TIME &amp; TEMPERATURES</td>\n",
              "    </tr>\n",
              "    <tr>\n",
              "      <th>19</th>\n",
              "      <td>PROPER REHEATING PROCEDURES FOR HOT HOLDING</td>\n",
              "    </tr>\n",
              "    <tr>\n",
              "      <th>20</th>\n",
              "      <td>PROPER COOLING TIME AND TEMPERATURE</td>\n",
              "    </tr>\n",
              "    <tr>\n",
              "      <th>21</th>\n",
              "      <td>PROPER HOT HOLDING TEMPERATURES</td>\n",
              "    </tr>\n",
              "    <tr>\n",
              "      <th>22</th>\n",
              "      <td>PROPER COLD HOLDING TEMPERATURES</td>\n",
              "    </tr>\n",
              "    <tr>\n",
              "      <th>23</th>\n",
              "      <td>PROPER DATE MARKING AND DISPOSITION</td>\n",
              "    </tr>\n",
              "    <tr>\n",
              "      <th>24</th>\n",
              "      <td>TIME AS A PUBLIC HEALTH CONTROL; PROCEDURES &amp; RECORDS</td>\n",
              "    </tr>\n",
              "    <tr>\n",
              "      <th>25</th>\n",
              "      <td>CONSUMER ADVISORY PROVIDED FOR RAW/UNDERCOOKED FOOD</td>\n",
              "    </tr>\n",
              "    <tr>\n",
              "      <th>26</th>\n",
              "      <td>PASTEURIZED FOODS USED; PROHIBITED FOODS NOT OFFERED</td>\n",
              "    </tr>\n",
              "    <tr>\n",
              "      <th>27</th>\n",
              "      <td>FOOD ADDITIVES: APPROVED AND PROPERLY USE</td>\n",
              "    </tr>\n",
              "    <tr>\n",
              "      <th>28</th>\n",
              "      <td>TOXIC SUBSTANCES PROPERLY IDENTIFIED, STORED, &amp; USED</td>\n",
              "    </tr>\n",
              "    <tr>\n",
              "      <th>29</th>\n",
              "      <td>COMPLIANCE WITH VARIANCE/SPECIALIZED PROCESS/HACCP</td>\n",
              "    </tr>\n",
              "    <tr>\n",
              "      <th>30</th>\n",
              "      <td>PASTEURIZED EGGS USED WHERE REQUIRED</td>\n",
              "    </tr>\n",
              "    <tr>\n",
              "      <th>31</th>\n",
              "      <td>WATER &amp; ICE FROM APPROVED SOURC</td>\n",
              "    </tr>\n",
              "    <tr>\n",
              "      <th>32</th>\n",
              "      <td>VARIANCE OBTAINED FOR SPECIALIZED PROCESSING METHODS</td>\n",
              "    </tr>\n",
              "    <tr>\n",
              "      <th>33</th>\n",
              "      <td>PROPER COOLING METHODS USED; ADEQUATE EQUIPMENT FOR TEMPERATURE CONTROL</td>\n",
              "    </tr>\n",
              "    <tr>\n",
              "      <th>34</th>\n",
              "      <td>PLANT FOOD PROPERLY COOKED FOR HOT HOLDIN</td>\n",
              "    </tr>\n",
              "    <tr>\n",
              "      <th>35</th>\n",
              "      <td>APPROVED THAWING METHODS USED</td>\n",
              "    </tr>\n",
              "    <tr>\n",
              "      <th>36</th>\n",
              "      <td>THERMOMETERS PROVIDED &amp; ACCURATE</td>\n",
              "    </tr>\n",
              "    <tr>\n",
              "      <th>37</th>\n",
              "      <td>FOOD PROPERLY LABELED; ORIGINAL CONTAINER</td>\n",
              "    </tr>\n",
              "    <tr>\n",
              "      <th>38</th>\n",
              "      <td>INSECTS, RODENTS, &amp; ANIMALS NOT PRESENT</td>\n",
              "    </tr>\n",
              "    <tr>\n",
              "      <th>39</th>\n",
              "      <td>CONTAMINATION PREVENTED DURING FOOD PREPARATION, STORAGE &amp; DISPLAY</td>\n",
              "    </tr>\n",
              "    <tr>\n",
              "      <th>40</th>\n",
              "      <td>PERSONAL CLEANLINESS</td>\n",
              "    </tr>\n",
              "    <tr>\n",
              "      <th>41</th>\n",
              "      <td>WIPING CLOTHS: PROPERLY USED &amp; STORED</td>\n",
              "    </tr>\n",
              "    <tr>\n",
              "      <th>42</th>\n",
              "      <td>WASHING FRUITS &amp; VEGETABLE</td>\n",
              "    </tr>\n",
              "    <tr>\n",
              "      <th>43</th>\n",
              "      <td>IN-USE UTENSILS: PROPERLY STORED</td>\n",
              "    </tr>\n",
              "    <tr>\n",
              "      <th>44</th>\n",
              "      <td>UTENSILS, EQUIPMENT &amp; LINENS: PROPERLY STORED, DRIED, &amp; HANDLED</td>\n",
              "    </tr>\n",
              "    <tr>\n",
              "      <th>45</th>\n",
              "      <td>SINGLE-USE/SINGLE-SERVICE ARTICLES: PROPERLY STORED &amp; USED</td>\n",
              "    </tr>\n",
              "    <tr>\n",
              "      <th>46</th>\n",
              "      <td>GLOVES USED PROPERLY</td>\n",
              "    </tr>\n",
              "    <tr>\n",
              "      <th>47</th>\n",
              "      <td>FOOD &amp; NON-FOOD CONTACT SURFACES CLEANABLE, PROPERLY DESIGNED, CONSTRUCTED &amp; USED</td>\n",
              "    </tr>\n",
              "    <tr>\n",
              "      <th>48</th>\n",
              "      <td>WAREWASHING FACILITIES: INSTALLED, MAINTAINED &amp; USED; TEST STRIPS</td>\n",
              "    </tr>\n",
              "    <tr>\n",
              "      <th>49</th>\n",
              "      <td>NON-FOOD/FOOD CONTACT SURFACES CLEAN</td>\n",
              "    </tr>\n",
              "    <tr>\n",
              "      <th>50</th>\n",
              "      <td>HOT &amp; COLD WATER AVAILABLE; ADEQUATE PRESSURE</td>\n",
              "    </tr>\n",
              "  </tbody>\n",
              "</table>\n",
              "</div>"
            ],
            "text/plain": [
              "                                                                                                     Description\n",
              "Violation Number                                                                                                \n",
              "1                  PERSON IN CHARGE PRESENT, DEMONSTRATES KNOWLEDGE, AND PERFORMS DUTIES                        \n",
              "2                  CITY OF CHICAGO FOOD SERVICE SANITATION CERTIFICATE                                          \n",
              "3                  MANAGEMENT, FOOD EMPLOYEE AND CONDITIONAL EMPLOYEE; KNOWLEDGE, RESPONSIBILITIES AND REPORTING\n",
              "4                  PROPER USE OF RESTRICTION AND EXCLUSIO                                                       \n",
              "5                  PROCEDURES FOR RESPONDING TO VOMITING AND DIARRHEAL EVENTS                                   \n",
              "6                  PROPER EATING, TASTING, DRINKING, OR TOBACCO USE                                             \n",
              "7                  NO DISCHARGE FROM EYES, NOSE, AND MOUT                                                       \n",
              "8                  HANDS CLEAN & PROPERLY WASHED                                                                \n",
              "9                  NO BARE HAND CONTACT WITH RTE FOOD OR A PRE-APPROVED ALTERNATIVE PROCEDURE PROPERLY ALLOWED  \n",
              "10                 ADEQUATE HANDWASHING SINKS PROPERLY SUPPLIED AND ACCESSIBLE                                  \n",
              "11                 FOOD OBTAINED FROM APPROVED SOURCE                                                           \n",
              "12                 FOOD RECEIVED AT PROPER TEMPERATURE                                                          \n",
              "13                 FOOD IN GOOD CONDITION, SAFE, & UNADULTERATED                                                \n",
              "14                 REQUIRED RECORDS AVAILABLE: SHELLSTOCK TAGS, PARASITE DESTRUCTION                            \n",
              "15                 FOOD SEPARATED AND PROTECTED                                                                 \n",
              "16                 FOOD-CONTACT SURFACES: CLEANED & SANITIZED                                                   \n",
              "17                 PROPER DISPOSITION OF RETURNED, PREVIOUSLY SERVED, RECONDITIONED & UNSAFE FOO                \n",
              "18                 PROPER COOKING TIME & TEMPERATURES                                                           \n",
              "19                 PROPER REHEATING PROCEDURES FOR HOT HOLDING                                                  \n",
              "20                 PROPER COOLING TIME AND TEMPERATURE                                                          \n",
              "21                 PROPER HOT HOLDING TEMPERATURES                                                              \n",
              "22                 PROPER COLD HOLDING TEMPERATURES                                                             \n",
              "23                 PROPER DATE MARKING AND DISPOSITION                                                          \n",
              "24                 TIME AS A PUBLIC HEALTH CONTROL; PROCEDURES & RECORDS                                        \n",
              "25                 CONSUMER ADVISORY PROVIDED FOR RAW/UNDERCOOKED FOOD                                          \n",
              "26                 PASTEURIZED FOODS USED; PROHIBITED FOODS NOT OFFERED                                         \n",
              "27                 FOOD ADDITIVES: APPROVED AND PROPERLY USE                                                    \n",
              "28                 TOXIC SUBSTANCES PROPERLY IDENTIFIED, STORED, & USED                                         \n",
              "29                 COMPLIANCE WITH VARIANCE/SPECIALIZED PROCESS/HACCP                                           \n",
              "30                 PASTEURIZED EGGS USED WHERE REQUIRED                                                         \n",
              "31                 WATER & ICE FROM APPROVED SOURC                                                              \n",
              "32                 VARIANCE OBTAINED FOR SPECIALIZED PROCESSING METHODS                                         \n",
              "33                 PROPER COOLING METHODS USED; ADEQUATE EQUIPMENT FOR TEMPERATURE CONTROL                      \n",
              "34                 PLANT FOOD PROPERLY COOKED FOR HOT HOLDIN                                                    \n",
              "35                 APPROVED THAWING METHODS USED                                                                \n",
              "36                 THERMOMETERS PROVIDED & ACCURATE                                                             \n",
              "37                 FOOD PROPERLY LABELED; ORIGINAL CONTAINER                                                    \n",
              "38                 INSECTS, RODENTS, & ANIMALS NOT PRESENT                                                      \n",
              "39                 CONTAMINATION PREVENTED DURING FOOD PREPARATION, STORAGE & DISPLAY                           \n",
              "40                 PERSONAL CLEANLINESS                                                                         \n",
              "41                 WIPING CLOTHS: PROPERLY USED & STORED                                                        \n",
              "42                 WASHING FRUITS & VEGETABLE                                                                   \n",
              "43                 IN-USE UTENSILS: PROPERLY STORED                                                             \n",
              "44                 UTENSILS, EQUIPMENT & LINENS: PROPERLY STORED, DRIED, & HANDLED                              \n",
              "45                 SINGLE-USE/SINGLE-SERVICE ARTICLES: PROPERLY STORED & USED                                   \n",
              "46                 GLOVES USED PROPERLY                                                                         \n",
              "47                 FOOD & NON-FOOD CONTACT SURFACES CLEANABLE, PROPERLY DESIGNED, CONSTRUCTED & USED            \n",
              "48                 WAREWASHING FACILITIES: INSTALLED, MAINTAINED & USED; TEST STRIPS                            \n",
              "49                 NON-FOOD/FOOD CONTACT SURFACES CLEAN                                                         \n",
              "50                 HOT & COLD WATER AVAILABLE; ADEQUATE PRESSURE                                                "
            ]
          },
          "metadata": {
            "tags": []
          },
          "execution_count": 76
        }
      ]
    },
    {
      "cell_type": "code",
      "metadata": {
        "id": "JsAw7jFI5APG",
        "colab_type": "code",
        "colab": {
          "base_uri": "https://localhost:8080/",
          "height": 35
        },
        "outputId": "b62d1039-9815-474e-9f0d-9afe247b6b8e"
      },
      "source": [
        "print(len(vio_descr))"
      ],
      "execution_count": 77,
      "outputs": [
        {
          "output_type": "stream",
          "text": [
            "64\n"
          ],
          "name": "stdout"
        }
      ]
    },
    {
      "cell_type": "code",
      "metadata": {
        "colab_type": "code",
        "id": "kpmlfr4yEMPs",
        "outputId": "0411ccee-8e11-44b0-d2fc-36e78f4079b2",
        "colab": {
          "base_uri": "https://localhost:8080/",
          "height": 1000
        }
      },
      "source": [
        "merged_oob # facilities that have gone oob\n",
        "set_diff_oob # facilities that haven't gone oob\n",
        "critical_vios = list(range(15))\n",
        "serious_vios = list(range(15, 30))\n",
        "merged_oob.head()"
      ],
      "execution_count": 78,
      "outputs": [
        {
          "output_type": "execute_result",
          "data": {
            "text/html": [
              "<div>\n",
              "<style scoped>\n",
              "    .dataframe tbody tr th:only-of-type {\n",
              "        vertical-align: middle;\n",
              "    }\n",
              "\n",
              "    .dataframe tbody tr th {\n",
              "        vertical-align: top;\n",
              "    }\n",
              "\n",
              "    .dataframe thead th {\n",
              "        text-align: right;\n",
              "    }\n",
              "</style>\n",
              "<table border=\"1\" class=\"dataframe\">\n",
              "  <thead>\n",
              "    <tr style=\"text-align: right;\">\n",
              "      <th></th>\n",
              "      <th>Latitude</th>\n",
              "      <th>Longitude</th>\n",
              "      <th>DBA Name</th>\n",
              "      <th>Inspection ID</th>\n",
              "      <th>AKA Name</th>\n",
              "      <th>License #</th>\n",
              "      <th>Facility Type</th>\n",
              "      <th>Risk</th>\n",
              "      <th>Address</th>\n",
              "      <th>Zip</th>\n",
              "      <th>Inspection Date</th>\n",
              "      <th>Inspection Type</th>\n",
              "      <th>Results</th>\n",
              "      <th>Violations</th>\n",
              "      <th>Location</th>\n",
              "      <th>Regions</th>\n",
              "    </tr>\n",
              "  </thead>\n",
              "  <tbody>\n",
              "    <tr>\n",
              "      <th>0</th>\n",
              "      <td>41.64467</td>\n",
              "      <td>-87.540095</td>\n",
              "      <td>BURGER KING</td>\n",
              "      <td>2240219</td>\n",
              "      <td>BURGER KING</td>\n",
              "      <td>2368796.0</td>\n",
              "      <td>RESTAURANT</td>\n",
              "      <td>2</td>\n",
              "      <td>13770 S AVENUE O</td>\n",
              "      <td>60633.0</td>\n",
              "      <td>2018-11-15T00:00:00.000</td>\n",
              "      <td>COMPLAINT</td>\n",
              "      <td>Pass w/ Conditions</td>\n",
              "      <td>2. CITY OF CHICAGO FOOD SERVICE SANITATION CERTIFICATE - Comments: NO CITY OF CHICAGO FOOD SERVICE MANAGERS CERTIFICATE ON PREMISES AS REQUIRED; MUST PROVIDE.  INSTRUCTED THE PIC THAT MANAGERS MUST HAVE A VALID CITY OF CHICAGO FOOD SERVICE MANAGERS CERTIFICATE WHILE ON DUTY AT ALL TIMES.  PRIORITY FOUNDATION VIOLATION 7-38-012 ISSUED. | 3. MANAGEMENT, FOOD EMPLOYEE AND CONDITIONAL EMPLOYEE; KNOWLEDGE, RESPONSIBILITIES AND REPORTING - Comments: : 2-102.14(A) NO EMPLOYEE HEALTH POLICY ON PREMISES AS REQUIRED; MUST PROVIDE. INSTRUCTED THE PIC TO PROVIDE DOCUMENTATION OF EMPLOYEES RESPONSIBILITY TO REPORT ANY ILLNESS TRANSMISSIBLE THROUGH FOOD. PRIORITY FOUNDATION 7-38-012(A) CITATION ISSUED.  VIOLATION PREVIOUSLY ISSUED ON AUGUST 14, 2018. | 5. PROCEDURES FOR RESPONDING TO VOMITING AND DIARRHEAL EVENTS - Comments: 2-501.11 NO VOMIT AND DIARRHEAL CLEAN UP PROCEDURE ON PREMISES AS REQUIRED; MUST PROVIDE. INSTRUCTED THE PIC THAT A VOMIT AND DIARRHEAL CLEAN UP PROCEDURE MUST BE DOCUMENTED AND THE NECESSARY SUPPLIES ON HAND IN THE EVENT OF A VOMIT OR DIARRHEAL INCIDENT ON PREMISES. PRIORITY FOUNDATION VIOLATION 7-38-005 CITATION ISSUED.    VIOLATION WAS PREVIOUSLY ISSUED ON AUGUST 14, 2018.</td>\n",
              "      <td>{'latitude': '-87.5400946053766', 'longitude': '41.64467013219805'}</td>\n",
              "      <td>HEGEWISCH</td>\n",
              "    </tr>\n",
              "    <tr>\n",
              "      <th>1</th>\n",
              "      <td>41.64467</td>\n",
              "      <td>-87.540095</td>\n",
              "      <td>BURGER KING</td>\n",
              "      <td>2200946</td>\n",
              "      <td>BURGER KING</td>\n",
              "      <td>2368796.0</td>\n",
              "      <td>RESTAURANT</td>\n",
              "      <td>2</td>\n",
              "      <td>13770 S AVENUE O</td>\n",
              "      <td>60633.0</td>\n",
              "      <td>2018-08-14T00:00:00.000</td>\n",
              "      <td>COMPLAINT</td>\n",
              "      <td>Pass w/ Conditions</td>\n",
              "      <td>2. CITY OF CHICAGO FOOD SERVICE SANITATION CERTIFICATE - Comments: 2-102.12 NO VALID CITY OF CHICAGO FOOD SERVICE SANITATION CERTIFICATES ON PREMISES.  THE PIC ON DUTY WAS UNABLE TO PRODUCE A VALID CITY OF CHICAGO FOOD SERVICE SANITATION CERTIFICATE.  NO OTHER PERSONS WERE ON DUTY THAT HAD A VALID CITY OF CHICAGO FOOD SERVICE SANITATION CERTIFICATE.  INSTRUCTED THAT A VALID CERTIFICATE MUST BE ON PREMISES AT ALL TIMES.  PRIORITY FOUNDATION VIOLATION ISSUED 7-38-012. | 3. MANAGEMENT, FOOD EMPLOYEE AND CONDITIONAL EMPLOYEE; KNOWLEDGE, RESPONSIBILITIES AND REPORTING - Comments: 2-102.14(A) NO EMPLOYEE HEALTH POLICY ON PREMISES AS RE1QUIRED; MUST PROVIDE.  INSTRUCTED THE PIC TO PROVIDE DOCUMENTATION OF EMPLOYEES RESPONSIBILITY TO REPORT ANY ILLNESS TRANSMISSIBLE THROUGH FOOD.  PRIORITY FOUNDATION 7-38-012(A) | 5. PROCEDURES FOR RESPONDING TO VOMITING AND DIARRHEAL EVENTS - Comments: 2-501.11 NO VOMIT AND DIARRHEAL CLEAN UP PROCEDURE ON PREMISES AS REQUIRED; MUST PROVIDE.  INSTRUCTED THE PIC THAT A VOMIT AND DIARRHEAL CLEAN UP PROCEDURE MUST BE DOCUMENTED AND THE NECESSARY SUPPLIES ON HAND IN THE EVENT OF A VOMIT OR DIARRHEAL INCIDENT ON PREMISES. PRIORITY FOUNDATION VIOLATION 7-38-005. | 49. NON-FOOD/FOOD CONTACT SURFACES CLEAN - Comments: 4-602.13  OBSERVED THE EXTERIOR SURFACES AND INTERIOR BOTTOM OF THE DEEP FRYERS IN NEED OF CLEANING TO REMOVE GREASE; CLEAN AND MAINTAIN. | 55. PHYSICAL FACILITIES INSTALLED, MAINTAINED &amp; CLEAN - Comments: 6-501.12  THE FLOORS UNDER AROUND AND BEHIND VARIOUS KITCHEN EQUIPMENT NEED CLEANING; ALSO FLOOR DRAINS THROUGHOUT THE KITCHEN NEED CLEANING; CLEAN AND MAINTAIN FLOORS AND FLOOR DRAINS.</td>\n",
              "      <td>{'latitude': '-87.5400946053766', 'longitude': '41.64467013219805'}</td>\n",
              "      <td>HEGEWISCH</td>\n",
              "    </tr>\n",
              "    <tr>\n",
              "      <th>2</th>\n",
              "      <td>41.64467</td>\n",
              "      <td>-87.540095</td>\n",
              "      <td>BURGER KING</td>\n",
              "      <td>1950282</td>\n",
              "      <td>BURGER KING</td>\n",
              "      <td>2368796.0</td>\n",
              "      <td>RESTAURANT</td>\n",
              "      <td>2</td>\n",
              "      <td>13770 S AVENUE O</td>\n",
              "      <td>60633.0</td>\n",
              "      <td>2016-08-12T00:00:00.000</td>\n",
              "      <td>CANVASS</td>\n",
              "      <td>Pass</td>\n",
              "      <td>34. FLOORS: CONSTRUCTED PER CODE, CLEANED, GOOD REPAIR, COVING INSTALLED, DUST-LESS CLEANING METHODS USED - Comments: FLOORS NEED CLEANING IN THE REAR STORAGE AREA ALONG THE WALL BASE UNDER STORAGE SHELVING AND IN THE PREP AREA AROUND THE COOKING EQUIPMENT TO REMOVE SPILLS,GREASE AND DEBRIS. ALSO CLEAN THE MATS IN THE WALK IN COOLER AND FREEZER TO REMOVE SPILLS. | 35. WALLS, CEILINGS, ATTACHED EQUIPMENT CONSTRUCTED PER CODE: GOOD REPAIR, SURFACES CLEAN AND DUST-LESS CLEANING METHODS - Comments: PIPING ALONG THE WALL BEHIND THE FRYER ARE ENCRUSTED WITH GREASE. MUST CLEAN AND MAINTAIN. | 38. VENTILATION: ROOMS AND EQUIPMENT VENTED AS REQUIRED: PLUMBING: INSTALLED AND MAINTAINED - Comments: NOTED A LEAK AT THE 3 COMPARTMENT SINK HOT WATER KNOB. MUST REPAIR AND MAINTAIN.</td>\n",
              "      <td>{'latitude': '-87.5400946053766', 'longitude': '41.64467013219805'}</td>\n",
              "      <td>HEGEWISCH</td>\n",
              "    </tr>\n",
              "    <tr>\n",
              "      <th>3</th>\n",
              "      <td>41.64467</td>\n",
              "      <td>-87.540095</td>\n",
              "      <td>BURGER KING</td>\n",
              "      <td>1523175</td>\n",
              "      <td>BURGER KING</td>\n",
              "      <td>2368796.0</td>\n",
              "      <td>RESTAURANT</td>\n",
              "      <td>2</td>\n",
              "      <td>13770 S AVENUE O</td>\n",
              "      <td>60633.0</td>\n",
              "      <td>2015-02-23T00:00:00.000</td>\n",
              "      <td>LICENSE</td>\n",
              "      <td>Pass</td>\n",
              "      <td>33. FOOD AND NON-FOOD CONTACT EQUIPMENT UTENSILS CLEAN, FREE OF ABRASIVE DETERGENTS - Comments: CLEAN THEBOTTOM COMPARTMENT OF DEEP FRYERS OF GREASE BUILD-UP AND CLEAN INTERIOR OF THE CHEST FREEZER AT PREP AREA,INSTRUCTED TO CLEAN AND MAINTAIN EQUIPMENT | 34. FLOORS: CONSTRUCTED PER CODE, CLEANED, GOOD REPAIR, COVING INSTALLED, DUST-LESS CLEANING METHODS USED - Comments: CLEAN THE FLOORS IN PREP AREA ,ALONG WALL BASE AND CORNERS IN PREP AREA AND REAR OF PREMISES | 45. FOOD HANDLER REQUIREMENTS MET - Comments: MUST PROVIDE THE FOOD HANDLERS CERTIFICATES OR PROOF OF ENROLLEMENT</td>\n",
              "      <td>{'latitude': '-87.5400946053766', 'longitude': '41.64467013219805'}</td>\n",
              "      <td>HEGEWISCH</td>\n",
              "    </tr>\n",
              "    <tr>\n",
              "      <th>6</th>\n",
              "      <td>41.64467</td>\n",
              "      <td>-87.540095</td>\n",
              "      <td>BURGER KING</td>\n",
              "      <td>1493718</td>\n",
              "      <td>BURGER KING #7268</td>\n",
              "      <td>1473518.0</td>\n",
              "      <td>RESTAURANT</td>\n",
              "      <td>2</td>\n",
              "      <td>13770 S AVENUE O</td>\n",
              "      <td>60633.0</td>\n",
              "      <td>2014-08-18T00:00:00.000</td>\n",
              "      <td>CANVASS</td>\n",
              "      <td>Fail</td>\n",
              "      <td>12. HAND WASHING FACILITIES: WITH SOAP AND SANITARY HAND DRYING DEVICES, CONVENIENT AND ACCESSIBLE TO FOOD PREP AREA - Comments: FOUND NO SOAP AT THE FRONT EXPOSED HANDWASHING SINK. INSTRUCTED TO PROVIDE AND MAINTAIN AT ALL TIMES. CRITICAL VIOLATION 7-38-030 | 21. * CERTIFIED FOOD MANAGER ON SITE WHEN POTENTIALLY HAZARDOUS FOODS ARE  PREPARED AND SERVED - Comments: NO CHICAGO FOOD SANITATION MANAGER ON DUTY OR CERTIFICATE POSTED WHEN POTENTIALLY HAZARDOUS FOOD (COOKED HAMBURGER 161.51F, SAUSAGE 170.8F) PREPARED AND SERVED. SERIOUS VIOLATION 7-38-012 CITATION   | 28. * INSPECTION REPORT SUMMARY DISPLAYED AND VISIBLE TO ALL CUSTOMERS - Comments: FOUND THE PREVIOUS NON COMPLIANCE INSPECTION REPORT SUMMARY, DATED DECEMBER 19, 2012 NOT POSTED IN PLAIN VIEW OF CUSTOMERS. INSTRUCTED TO KEEP SUMMARY POSTED AT ALL TIMES. SERIOUS VIOLATIOIN 7-42-010 (B) | 29. PREVIOUS MINOR VIOLATION(S) CORRECTED 7-42-090 - Comments: FOUND PREVIOUS MINOR VIOLATIONS FROM REPORT #1300984, DATED 12/19/2012 NOT CORRECTED AND/OR MAINTAINED. INSTRUCTED TO CORRECT AND MAINTAIN:    33-CLEAN INTERIOR AND EXTERIOR OF FRYERS, PREP TABLES, COOLERS, CABINETS.  34-GROUT FLOOR TILES IN ALL AREAS. FLOORS NEED CLEANING UNDER FRYERS (FOOD DEBRIS, GREASE BUILD UP), PREP TABLES, ETC. ALONG WALLS AND IN ALL CORNERS IN PREP STORAGE AND DRIVE THRU AREAS.   35-REPLACE MISSING AND DAMAGED TILES ALONG BASEBOARDS IN PREP AND STORAGE AREAS.  38-REPAIR LEAKING FAUCET ON 3-COMP. SINK.  42-ALL FOOD HANDLERS MUST WEAR HAIR RESTRAINTS.  SERIOUS VIOLATION 7-42-090 | 33. FOOD AND NON-FOOD CONTACT EQUIPMENT UTENSILS CLEAN, FREE OF ABRASIVE DETERGENTS - Comments: FOUND STORAGE RACKS IN PREP AREA IN NEED OF CLEANING. INSTRUCTED TO CLEAN AND MAINTAIN. | 38. VENTILATION: ROOMS AND EQUIPMENT VENTED AS REQUIRED: PLUMBING: INSTALLED AND MAINTAINED - Comments: FOUND A LEAK AT THE BASE OF THE HOT WATER KNOB ON THE 2-COMPARTMENT SINK IN THE PREP AREA. INSTRUCTED TO FIX AND MAINTAIN.</td>\n",
              "      <td>{'latitude': '-87.5400946053766', 'longitude': '41.64467013219805'}</td>\n",
              "      <td>HEGEWISCH</td>\n",
              "    </tr>\n",
              "  </tbody>\n",
              "</table>\n",
              "</div>"
            ],
            "text/plain": [
              "   Latitude  ...    Regions\n",
              "0  41.64467  ...  HEGEWISCH\n",
              "1  41.64467  ...  HEGEWISCH\n",
              "2  41.64467  ...  HEGEWISCH\n",
              "3  41.64467  ...  HEGEWISCH\n",
              "6  41.64467  ...  HEGEWISCH\n",
              "\n",
              "[5 rows x 16 columns]"
            ]
          },
          "metadata": {
            "tags": []
          },
          "execution_count": 78
        }
      ]
    },
    {
      "cell_type": "code",
      "metadata": {
        "colab_type": "code",
        "id": "8J6NvSj9HCIM",
        "colab": {}
      },
      "source": [
        "merged_oob.dropna(subset=['Violations'], inplace=True)\n",
        "merged_oob['Violations'] = merged_oob['Violations'].apply(lambda x: re.findall(r'^[0-9]+[.] | [|] [0-9]+[.] ', x))\n",
        "merged_oob['Violations'] = merged_oob['Violations'].apply(lambda x: [int(sub.replace('|','').split('.')[0]) for sub in x])\n",
        "merged_oob['Violations'] = merged_oob['Violations'].apply(lambda x: [x for x in x if x in critical_vios + serious_vios])"
      ],
      "execution_count": 0,
      "outputs": []
    },
    {
      "cell_type": "code",
      "metadata": {
        "id": "O3paoB3LaJHl",
        "colab_type": "code",
        "colab": {
          "base_uri": "https://localhost:8080/",
          "height": 35
        },
        "outputId": "336030f8-7c8d-4935-e5a6-6a43e84a24a6"
      },
      "source": [
        "vio_crit_serious_oob = pd.DataFrame(merged_oob)\n",
        "vio_crit_serious_oob.reset_index(inplace=True)\n",
        "vio_crit_serious_oob.drop(columns='index', inplace=True)\n",
        "\n",
        "vio_freq_crit_serious_oob = {}\n",
        "for i in vio_crit_serious_oob['Violations']:\n",
        "  for j in i:\n",
        "    vio_freq_crit_serious_oob[str(j)] = 1 if str(j) not in vio_freq_crit_serious_oob else vio_freq_crit_serious_oob[str(j)]+1\n",
        "\n",
        "sorted_vio_freq_crit_serious_oob = {}\n",
        "\n",
        "for key in sorted(vio_freq_crit_serious_oob, key=vio_freq_crit_serious_oob.__getitem__, reverse=True):\n",
        "  sorted_vio_freq_crit_serious_oob[key] = vio_freq_crit_serious_oob[key]\n",
        "\n",
        "num_oob_inspections = len(merged_oob)\n",
        "num_oob_inspections"
      ],
      "execution_count": 82,
      "outputs": [
        {
          "output_type": "execute_result",
          "data": {
            "text/plain": [
              "65918"
            ]
          },
          "metadata": {
            "tags": []
          },
          "execution_count": 82
        }
      ]
    },
    {
      "cell_type": "code",
      "metadata": {
        "colab_type": "code",
        "id": "cXkvlp_sH6Mk",
        "colab": {}
      },
      "source": [
        "set_diff_oob.dropna(subset=['Violations'], inplace=True)\n",
        "set_diff_oob['Violations'] = set_diff_oob['Violations'].apply(lambda x: re.findall(r'^[0-9]+[.] | [|] [0-9]+[.] ', x))\n",
        "set_diff_oob['Violations'] = set_diff_oob['Violations'].apply(lambda x: [int(sub.replace('|','').split('.')[0]) for sub in x])\n",
        "set_diff_oob['Violations'] = set_diff_oob['Violations'].apply(lambda x: list(set([x for x in x if x in critical_vios + serious_vios])))"
      ],
      "execution_count": 0,
      "outputs": []
    },
    {
      "cell_type": "code",
      "metadata": {
        "id": "18IUqMNPbtzC",
        "colab_type": "code",
        "colab": {}
      },
      "source": [
        "vio_crit_serious_not_oob = pd.DataFrame(set_diff_oob)\n",
        "vio_crit_serious_not_oob.reset_index(inplace=True)\n",
        "vio_crit_serious_not_oob.drop(columns='index', inplace=True)\n",
        "\n",
        "vio_freq_crit_serious_not_oob = {}\n",
        "for i in vio_crit_serious_not_oob['Violations']:\n",
        "  for j in i:\n",
        "    vio_freq_crit_serious_not_oob[str(j)] = 1 if str(j) not in vio_freq_crit_serious_not_oob else vio_freq_crit_serious_not_oob[str(j)]+1\n",
        "\n",
        "sorted_vio_freq_crit_serious_not_oob = {}\n",
        "\n",
        "for key in sorted(vio_freq_crit_serious_not_oob, key=vio_freq_crit_serious_not_oob.__getitem__, reverse=True):\n",
        "  sorted_vio_freq_crit_serious_not_oob[key] = vio_freq_crit_serious_not_oob[key]\n",
        "\n",
        "num_not_oob_inspections = len(set_diff_oob)\n",
        "num_not_oob_inspections"
      ],
      "execution_count": 0,
      "outputs": []
    },
    {
      "cell_type": "code",
      "metadata": {
        "id": "_xf6UDCLPpKq",
        "colab_type": "code",
        "colab": {}
      },
      "source": [
        "ratio_crit_serious_oob = {k: v / num_oob_inspections for k, v in sorted_vio_freq_crit_serious_oob.items()}\n",
        "ratio_crit_serious_not_oob = {k: v / num_not_oob_inspections for k, v in sorted_vio_freq_crit_serious_not_oob.items()}"
      ],
      "execution_count": 0,
      "outputs": []
    },
    {
      "cell_type": "code",
      "metadata": {
        "id": "23Ncl4ctcT8r",
        "colab_type": "code",
        "colab": {
          "base_uri": "https://localhost:8080/",
          "height": 295
        },
        "outputId": "77f32abb-f087-4dc9-c0c0-bac2f1db5fba"
      },
      "source": [
        "plt.figure(figsize=(10,4))\n",
        "Facilities=['OOB','Not OOB']\n",
        "plt.bar(list(ratio_crit_serious_oob.keys()), ratio_crit_serious_oob.values(),color='lightseagreen',edgecolor='black')\n",
        "plt.bar(list(ratio_crit_serious_not_oob.keys()), ratio_crit_serious_not_oob.values(),color='mediumorchid',edgecolor='black')\n",
        "plt.title('Ratios of committed critical and serious violations')\n",
        "plt.xlabel('Violation Types')\n",
        "plt.ylabel('Ratio (out of all inspections)')\n",
        "plt.legend(Facilities,loc=1)\n",
        "plt.show()"
      ],
      "execution_count": 102,
      "outputs": [
        {
          "output_type": "display_data",
          "data": {
            "image/png": "[encoded data removed]",
            "text/plain": [
              "<Figure size 720x288 with 1 Axes>"
            ]
          },
          "metadata": {
            "tags": []
          }
        }
      ]
    },
    {
      "cell_type": "code",
      "metadata": {
        "id": "ZkVdbwNV5rFt",
        "colab_type": "code",
        "colab": {}
      },
      "source": [
        "most_freq_crit_serious_oob_15 = [key for key, value in list(sorted_vio_freq_crit_serious_oob.items())[0:15]]\n",
        "most_freq_crit_serious_oob_10 = [key for key, value in list(sorted_vio_freq_crit_serious_oob.items())[0:10]]\n",
        "most_freq_crit_serious_oob_5 = [key for key, value in list(sorted_vio_freq_crit_serious_oob.items())[0:5]]\n",
        "# top 10 and 5 most frequent violation types among facilities that went out of business"
      ],
      "execution_count": 0,
      "outputs": []
    },
    {
      "cell_type": "code",
      "metadata": {
        "id": "eqQZdBLpC3jV",
        "colab_type": "code",
        "colab": {}
      },
      "source": [
        "most_freq_crit_serious_not_oob_15 = [key for key, value in list(sorted_vio_freq_crit_serious_not_oob.items())[0:15]]\n",
        "most_freq_crit_serious_not_oob_10 = [key for key, value in list(sorted_vio_freq_crit_serious_not_oob.items())[0:10]]\n",
        "most_freq_crit_serious_not_oob_5 = [key for key, value in list(sorted_vio_freq_crit_serious_not_oob.items())[0:5]]\n",
        "# top 15, 10 and 5 most frequent violation types among facilities that didn't go out of business"
      ],
      "execution_count": 0,
      "outputs": []
    },
    {
      "cell_type": "code",
      "metadata": {
        "id": "QUDgbft-DPFt",
        "colab_type": "code",
        "colab": {}
      },
      "source": [
        "# The difference of top 5 most frequent critical and serious violation types between oob and not oob facilities\n",
        "crit_serious_diff_5 = list(set(most_freq_crit_serious_oob_5) - set(most_freq_crit_serious_not_oob_5))\n",
        "crit_serious_diff_5"
      ],
      "execution_count": 0,
      "outputs": []
    },
    {
      "cell_type": "markdown",
      "metadata": {
        "id": "R6R0KLg5E0tW",
        "colab_type": "text"
      },
      "source": [
        "Violation number 29 might be an important factor in making facilities go out of business. So we check its description: \n",
        "\n",
        "29 - COMPLIANCE WITH VARIANCE/SPECIALIZED PROCESS/HACCP."
      ]
    },
    {
      "cell_type": "code",
      "metadata": {
        "id": "NyY07ejzDAjx",
        "colab_type": "code",
        "colab": {}
      },
      "source": [
        "# The difference of top 10 most frequent critical and serious violation types between oob and not oob facilities\n",
        "crit_serious_diff_10 = list(set(most_freq_crit_serious_oob_10) - set(most_freq_crit_serious_not_oob_10))\n",
        "crit_serious_diff_10"
      ],
      "execution_count": 0,
      "outputs": []
    },
    {
      "cell_type": "markdown",
      "metadata": {
        "id": "c37saoJdGNNg",
        "colab_type": "text"
      },
      "source": [
        "Violation number 24, 11, and 19 might be important factors in making facilities go out of business. So we check their descriptions: \n",
        "\n",
        "24 - TIME AS A PUBLIC HEALTH CONTROL; PROCEDURES & RECORDS\n",
        "\n",
        "11 - FOOD OBTAINED FROM APPROVED SOURCE\n",
        "\n",
        "19 - PROPER REHEATING PROCEDURES FOR HOT HOLDING"
      ]
    },
    {
      "cell_type": "code",
      "metadata": {
        "id": "bKsBg2ekD4V9",
        "colab_type": "code",
        "colab": {}
      },
      "source": [
        "# The difference of top 15 most frequent critical and serious violation types between oob and not oob facilities\n",
        "crit_serious_diff_15 = list(set(most_freq_crit_serious_oob_15) - set(most_freq_crit_serious_not_oob_15))\n",
        "crit_serious_diff_15"
      ],
      "execution_count": 0,
      "outputs": []
    },
    {
      "cell_type": "code",
      "metadata": {
        "colab_type": "code",
        "id": "P0jg4KAJOgvp",
        "colab": {}
      },
      "source": [
        "vio_freq_all = {}\n",
        "for i in violation_nums_oob['Violations']:\n",
        "  for j in i:\n",
        "    vio_freq_oob[str(j)] = 1 if str(j) not in vio_freq_oob else vio_freq_oob[str(j)]+1"
      ],
      "execution_count": 0,
      "outputs": []
    },
    {
      "cell_type": "markdown",
      "metadata": {
        "colab_type": "text",
        "id": "dMo9xkUHs6OK"
      },
      "source": [
        "### **Region vs. Number/Percentage of OOB**"
      ]
    },
    {
      "cell_type": "markdown",
      "metadata": {
        "colab_type": "text",
        "id": "Mszu9K9MHDk1"
      },
      "source": [
        "### **Average number of violations of each facility type (OOB)**\n"
      ]
    },
    {
      "cell_type": "markdown",
      "metadata": {
        "colab_type": "text",
        "id": "VvKCu5nhejb0"
      },
      "source": [
        "### **Average number of violations of each facility type (not OOB)**\n"
      ]
    },
    {
      "cell_type": "markdown",
      "metadata": {
        "colab_type": "text",
        "id": "8x9xjsqAX1i3"
      },
      "source": [
        "### **Average number of each violation type facilities commit before going out of business**"
      ]
    },
    {
      "cell_type": "markdown",
      "metadata": {
        "colab_type": "text",
        "id": "kCcCYtxFXmlu"
      },
      "source": [
        "### **Average number of total violations facilities commit before going out of business**  "
      ]
    },
    {
      "cell_type": "markdown",
      "metadata": {
        "colab_type": "text",
        "id": "nQr5lMSLoZSK"
      },
      "source": [
        "## **Our plan for the future:**\n",
        "\n"
      ]
    },
    {
      "cell_type": "markdown",
      "metadata": {
        "colab_type": "text",
        "id": "YYzLurHcsoX8"
      },
      "source": [
        "- Analyze neighborhoods, taking a deep look into the locations of the facilities, and plotting the neighborhoods on the map (adding the region names on the map)\n",
        "- Look for hidden reasons why facilities go out of business, taking NLP approaches to process and find out the most frequent violation types\n",
        "- The trends (risk, violation types, pass/fail results, etc.) facilities follow until they go out of business\n",
        "- Look for the #1 violation type of the neighborhood\n",
        "- Prepare poster presentation"
      ]
    }
  ]
}