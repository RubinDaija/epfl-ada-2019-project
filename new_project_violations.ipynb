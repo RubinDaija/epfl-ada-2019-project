{
 "cells": [
  {
   "cell_type": "markdown",
   "metadata": {
    "colab_type": "text",
    "id": "view-in-github"
   },
   "source": [
    "<a href=\"https://colab.research.google.com/github/RubinDaija/epfl-ada-2019-project/blob/master/new_project_violations.ipynb\" target=\"_parent\"><img src=\"https://colab.research.google.com/assets/colab-badge.svg\" alt=\"Open In Colab\"/></a>"
   ]
  },
  {
   "cell_type": "markdown",
   "metadata": {
    "colab_type": "text",
    "id": "-Tvl9ABtLcXB"
   },
   "source": [
    "# **Necessary Imports**"
   ]
  },
  {
   "cell_type": "code",
   "execution_count": 87,
   "metadata": {
    "colab": {},
    "colab_type": "code",
    "id": "y8CsC8G1r9hy"
   },
   "outputs": [],
   "source": [
    "%matplotlib inline\n",
    "import pandas as pd\n",
    "import numpy as np\n",
    "import re\n",
    "from matplotlib.ticker import MaxNLocator\n",
    "import matplotlib.pyplot as plt\n",
    "from scipy import stats\n",
    "from folium.plugins import MarkerCluster\n",
    "import warnings\n",
    "import folium\n",
    "import zipfile"
   ]
  },
  {
   "cell_type": "code",
   "execution_count": 88,
   "metadata": {
    "colab": {
     "base_uri": "https://localhost:8080/",
     "height": 55
    },
    "colab_type": "code",
    "id": "cG_XvNn-r9h3",
    "outputId": "9e1f0b0f-2ef8-476b-ba07-26d977f719ad"
   },
   "outputs": [
    {
     "data": {
      "text/plain": [
       "\"\\nzf = zipfile.ZipFile('chicago-food-inspections.zip')\\ndblp = pd.read_csv(zf.open('chicago-food-inspections/food-inspections.csv'))\\ndblp = dblp.drop(['AKA Name', 'Address','City','State','Location','Historical Wards 2003-2015','Zip Codes','Community Areas','Census Tracts','Wards'], axis=1)\\ndblp.to_csv(r'food_inspections.csv')\\n\""
      ]
     },
     "execution_count": 88,
     "metadata": {},
     "output_type": "execute_result"
    }
   ],
   "source": [
    "# ---------- Only to be run the first time the data set is uploaded ---------- #\n",
    "# Reads from compressed folder, drops the irrelevant columns, and outputs the new data to a new file called food_inspections.csv\n",
    "'''\n",
    "zf = zipfile.ZipFile('chicago-food-inspections.zip')\n",
    "dblp = pd.read_csv(zf.open('chicago-food-inspections/food-inspections.csv'))\n",
    "dblp = dblp.drop(['AKA Name', 'Address','City','State','Location','Historical Wards 2003-2015','Zip Codes','Community Areas','Census Tracts','Wards'], axis=1)\n",
    "dblp.to_csv(r'food_inspections.csv')\n",
    "'''"
   ]
  },
  {
   "cell_type": "code",
   "execution_count": 89,
   "metadata": {
    "colab": {
     "base_uri": "https://localhost:8080/",
     "height": 35
    },
    "colab_type": "code",
    "id": "W-StO1Nyr9h5",
    "outputId": "bae2e385-af4e-4519-d0cb-86b873035ca5"
   },
   "outputs": [
    {
     "data": {
      "text/plain": [
       "\"\\nzf = zipfile.ZipFile('chicago_dropped.zip')\\ndf = pd.read_csv(zf.open('chicago_dropped/food_inspections.csv'))\\n\""
      ]
     },
     "execution_count": 89,
     "metadata": {},
     "output_type": "execute_result"
    }
   ],
   "source": [
    "#-- Uncomment this if using Jupyter Lab / Comment this if using Google Colab --#\n",
    "'''\n",
    "zf = zipfile.ZipFile('chicago_dropped.zip')\n",
    "df = pd.read_csv(zf.open('chicago_dropped/food_inspections.csv'))\n",
    "'''"
   ]
  },
  {
   "cell_type": "code",
   "execution_count": 90,
   "metadata": {
    "colab": {},
    "colab_type": "code",
    "id": "8yt1F6q7r-9A"
   },
   "outputs": [
    {
     "data": {
      "text/plain": [
       "'\\n!pip install -U -q PyDrive\\nfrom pydrive.auth import GoogleAuth\\nfrom pydrive.drive import GoogleDrive\\nfrom google.colab import auth\\nfrom oauth2client.client import GoogleCredentials\\n# Authenticate and create the PyDrive client.\\nauth.authenticate_user()\\ngauth = GoogleAuth()\\ngauth.credentials = GoogleCredentials.get_application_default()\\ndrive = GoogleDrive(gauth)\\n'"
      ]
     },
     "execution_count": 90,
     "metadata": {},
     "output_type": "execute_result"
    }
   ],
   "source": [
    "#-- Uncomment this if using Google Colab / Comment this if using Jupyter Lab --# \n",
    "# Code to read csv file into Colaboratory:\n",
    "\"\"\"\n",
    "!pip install -U -q PyDrive\n",
    "from pydrive.auth import GoogleAuth\n",
    "from pydrive.drive import GoogleDrive\n",
    "from google.colab import auth\n",
    "from oauth2client.client import GoogleCredentials\n",
    "# Authenticate and create the PyDrive client.\n",
    "auth.authenticate_user()\n",
    "gauth = GoogleAuth()\n",
    "gauth.credentials = GoogleCredentials.get_application_default()\n",
    "drive = GoogleDrive(gauth)\n",
    "\"\"\""
   ]
  },
  {
   "cell_type": "code",
   "execution_count": 91,
   "metadata": {
    "colab": {
     "base_uri": "https://localhost:8080/",
     "height": 35
    },
    "colab_type": "code",
    "id": "jHy9hpAStUMi",
    "outputId": "292a67da-e024-4f5d-c582-a31e47399c5e"
   },
   "outputs": [],
   "source": [
    "#-- Uncomment this if using Google Colab / Comment this if using Jupyter Lab --# \n",
    "\"\"\"\n",
    "link = 'https://drive.google.com/open?id=1AEy2nwCOptncoR_zCEvlx4x5v7EVIw0n' # The shareable link\n",
    "fluff, id = link.split('=')\n",
    "print (id) # Verify that you have everything after '='\n",
    "\n",
    "downloaded = drive.CreateFile({'id':id}) \n",
    "downloaded.GetContentFile('food-inspections.csv')  \n",
    "\"\"\"\n",
    "df = pd.read_csv('food-inspections.csv')\n",
    "\n",
    "# Dataset is now stored in a Pandas Dataframe\n"
   ]
  },
  {
   "cell_type": "markdown",
   "metadata": {
    "colab_type": "text",
    "id": "N_D_0xcgOQgx"
   },
   "source": [
    "# **Data Analysis**"
   ]
  },
  {
   "cell_type": "code",
   "execution_count": 92,
   "metadata": {
    "colab": {},
    "colab_type": "code",
    "id": "Lclasy7Cx3Lg"
   },
   "outputs": [],
   "source": [
    "# Plots a histogram with given parameters, i.e. dataframe, number of bins, title, xlabel, and ylabel\n",
    "def plot_hist(df, bins, title, xlabel, ylabel):\n",
    "  hist = df.hist(bins=bins)\n",
    "  hist.set_title(title)\n",
    "  hist.set_xlabel(xlabel)\n",
    "  hist.set_ylabel(ylabel)  \n",
    "  hist.figure"
   ]
  },
  {
   "cell_type": "markdown",
   "metadata": {
    "colab_type": "text",
    "id": "p8evugJae-ZT"
   },
   "source": [
    "### **Number of Unique Facilities**"
   ]
  },
  {
   "cell_type": "code",
   "execution_count": 93,
   "metadata": {
    "colab": {
     "base_uri": "https://localhost:8080/",
     "height": 35
    },
    "colab_type": "code",
    "id": "beW4DumFfDkS",
    "outputId": "abab369e-86e2-41a2-f654-99445772573b"
   },
   "outputs": [
    {
     "name": "stdout",
     "output_type": "stream",
     "text": [
      "Number of unique facilities: 27068\n"
     ]
    }
   ],
   "source": [
    "df_unique = df.groupby(['Latitude','Longitude','DBA Name']).count()\n",
    "print(\"Number of unique facilities: \" + str(df_unique.shape[0]))"
   ]
  },
  {
   "cell_type": "markdown",
   "metadata": {
    "colab_type": "text",
    "id": "Z8_DWQ9xr9iW"
   },
   "source": [
    "### **Facility Type vs. Average Risk**\n"
   ]
  },
  {
   "cell_type": "markdown",
   "metadata": {
    "colab_type": "text",
    "id": "2NYPWCi6PEV0"
   },
   "source": [
    "We analyzed the relationship between the type of facility and the average risk of that facility over all inspections:"
   ]
  },
  {
   "cell_type": "code",
   "execution_count": 94,
   "metadata": {
    "colab": {},
    "colab_type": "code",
    "id": "rj-CxjLpr9iR"
   },
   "outputs": [],
   "source": [
    "# Aggregate data over Facility Type\n",
    "grouped_fac = df.groupby('Facility Type')"
   ]
  },
  {
   "cell_type": "code",
   "execution_count": 95,
   "metadata": {
    "colab": {
     "base_uri": "https://localhost:8080/",
     "height": 200
    },
    "colab_type": "code",
    "id": "9EsVpnqxr9iT",
    "outputId": "cbf244d9-a598-4d44-b5fb-44f9fd87e03e"
   },
   "outputs": [
    {
     "data": {
      "text/html": [
       "<div>\n",
       "<style scoped>\n",
       "    .dataframe tbody tr th:only-of-type {\n",
       "        vertical-align: middle;\n",
       "    }\n",
       "\n",
       "    .dataframe tbody tr th {\n",
       "        vertical-align: top;\n",
       "    }\n",
       "\n",
       "    .dataframe thead th {\n",
       "        text-align: right;\n",
       "    }\n",
       "</style>\n",
       "<table border=\"1\" class=\"dataframe\">\n",
       "  <thead>\n",
       "    <tr style=\"text-align: right;\">\n",
       "      <th></th>\n",
       "      <th>Facility Type</th>\n",
       "      <th>Risk</th>\n",
       "    </tr>\n",
       "  </thead>\n",
       "  <tbody>\n",
       "    <tr>\n",
       "      <td>0</td>\n",
       "      <td>ADULT FAMILY CARE CENTER</td>\n",
       "      <td>1.00000</td>\n",
       "    </tr>\n",
       "    <tr>\n",
       "      <td>1</td>\n",
       "      <td>AIRPORT LOUNGE</td>\n",
       "      <td>1.50000</td>\n",
       "    </tr>\n",
       "    <tr>\n",
       "      <td>2</td>\n",
       "      <td>ART GALLERY</td>\n",
       "      <td>3.00000</td>\n",
       "    </tr>\n",
       "    <tr>\n",
       "      <td>3</td>\n",
       "      <td>ASSISTED LIVING/NURSING HOME</td>\n",
       "      <td>1.00000</td>\n",
       "    </tr>\n",
       "    <tr>\n",
       "      <td>4</td>\n",
       "      <td>BAKERY</td>\n",
       "      <td>1.62949</td>\n",
       "    </tr>\n",
       "  </tbody>\n",
       "</table>\n",
       "</div>"
      ],
      "text/plain": [
       "                  Facility Type     Risk\n",
       "0      ADULT FAMILY CARE CENTER  1.00000\n",
       "1                AIRPORT LOUNGE  1.50000\n",
       "2                   ART GALLERY  3.00000\n",
       "3  ASSISTED LIVING/NURSING HOME  1.00000\n",
       "4                        BAKERY  1.62949"
      ]
     },
     "execution_count": 95,
     "metadata": {},
     "output_type": "execute_result"
    }
   ],
   "source": [
    "# Compute average risk of each type of facility\n",
    "grouped_fac_risk_mean = pd.DataFrame(grouped_fac['Risk'].mean()).reset_index()\n",
    "grouped_fac_risk_mean.head()"
   ]
  },
  {
   "cell_type": "code",
   "execution_count": 96,
   "metadata": {
    "colab": {},
    "colab_type": "code",
    "id": "dCJRNes4PwB1"
   },
   "outputs": [],
   "source": [
    "# TODO: unify the entries with 1023 as one type of facility"
   ]
  },
  {
   "cell_type": "code",
   "execution_count": 97,
   "metadata": {
    "colab": {
     "base_uri": "https://localhost:8080/",
     "height": 429
    },
    "colab_type": "code",
    "id": "UTR_QVrtr9iX",
    "outputId": "b71e7ebd-9cc6-4d42-c881-ac9c5b8b9938",
    "scrolled": true
   },
   "outputs": [
    {
     "name": "stdout",
     "output_type": "stream",
     "text": [
      "Number of different types of facilities :236\n"
     ]
    },
    {
     "data": {
      "text/html": [
       "<div>\n",
       "<style scoped>\n",
       "    .dataframe tbody tr th:only-of-type {\n",
       "        vertical-align: middle;\n",
       "    }\n",
       "\n",
       "    .dataframe tbody tr th {\n",
       "        vertical-align: top;\n",
       "    }\n",
       "\n",
       "    .dataframe thead th {\n",
       "        text-align: right;\n",
       "    }\n",
       "</style>\n",
       "<table border=\"1\" class=\"dataframe\">\n",
       "  <thead>\n",
       "    <tr style=\"text-align: right;\">\n",
       "      <th></th>\n",
       "      <th>Facility Type</th>\n",
       "      <th>Counts</th>\n",
       "    </tr>\n",
       "  </thead>\n",
       "  <tbody>\n",
       "    <tr>\n",
       "      <td>0</td>\n",
       "      <td>RESTAURANT</td>\n",
       "      <td>131852</td>\n",
       "    </tr>\n",
       "    <tr>\n",
       "      <td>1</td>\n",
       "      <td>RETAIL STORE</td>\n",
       "      <td>25635</td>\n",
       "    </tr>\n",
       "    <tr>\n",
       "      <td>2</td>\n",
       "      <td>SCHOOL</td>\n",
       "      <td>12054</td>\n",
       "    </tr>\n",
       "    <tr>\n",
       "      <td>3</td>\n",
       "      <td>DAYCARE</td>\n",
       "      <td>9537</td>\n",
       "    </tr>\n",
       "    <tr>\n",
       "      <td>4</td>\n",
       "      <td>BAKERY</td>\n",
       "      <td>2923</td>\n",
       "    </tr>\n",
       "    <tr>\n",
       "      <td>...</td>\n",
       "      <td>...</td>\n",
       "      <td>...</td>\n",
       "    </tr>\n",
       "    <tr>\n",
       "      <td>95</td>\n",
       "      <td>FOOD BOOTH</td>\n",
       "      <td>2</td>\n",
       "    </tr>\n",
       "    <tr>\n",
       "      <td>96</td>\n",
       "      <td>VENDING MACHINE</td>\n",
       "      <td>2</td>\n",
       "    </tr>\n",
       "    <tr>\n",
       "      <td>97</td>\n",
       "      <td>VFW HALL</td>\n",
       "      <td>2</td>\n",
       "    </tr>\n",
       "    <tr>\n",
       "      <td>98</td>\n",
       "      <td>BOYS AND GIRLS CLUB</td>\n",
       "      <td>2</td>\n",
       "    </tr>\n",
       "    <tr>\n",
       "      <td>99</td>\n",
       "      <td>BLOCKBUSTER VIDEO</td>\n",
       "      <td>2</td>\n",
       "    </tr>\n",
       "  </tbody>\n",
       "</table>\n",
       "<p>100 rows × 2 columns</p>\n",
       "</div>"
      ],
      "text/plain": [
       "          Facility Type  Counts\n",
       "0            RESTAURANT  131852\n",
       "1          RETAIL STORE   25635\n",
       "2                SCHOOL   12054\n",
       "3               DAYCARE    9537\n",
       "4                BAKERY    2923\n",
       "..                  ...     ...\n",
       "95           FOOD BOOTH       2\n",
       "96      VENDING MACHINE       2\n",
       "97             VFW HALL       2\n",
       "98  BOYS AND GIRLS CLUB       2\n",
       "99    BLOCKBUSTER VIDEO       2\n",
       "\n",
       "[100 rows x 2 columns]"
      ]
     },
     "execution_count": 97,
     "metadata": {},
     "output_type": "execute_result"
    }
   ],
   "source": [
    "# Compute number of facilities in each type of facility\n",
    "fac_dist = pd.DataFrame(grouped_fac.count()['Risk']).rename(columns={'Risk':'Counts'}).sort_values(by='Counts',ascending=False).reset_index()\n",
    "print(\"Number of different types of facilities :\" + str(fac_dist.size))\n",
    "fac_dist.head(100)"
   ]
  },
  {
   "cell_type": "markdown",
   "metadata": {
    "colab_type": "text",
    "id": "ZBPvbW_CYMPj"
   },
   "source": [
    "When we plotted the number of facilities in each type of facility vs. their average risk score, we observed no correlation between the two. We observed that the facility type with the highest number of facilities (i.e. restaurant) has a very high average risk score:"
   ]
  },
  {
   "cell_type": "markdown",
   "metadata": {
    "colab_type": "text",
    "id": "eVZEtg_iXrnc"
   },
   "source": [
    "### **Facility Type Distribution**"
   ]
  },
  {
   "cell_type": "markdown",
   "metadata": {
    "colab_type": "text",
    "id": "7-3nrh5PXIbv"
   },
   "source": [
    "From the bar plot below, we can clearly observe the skewed distribution in Facility Type. Most of our data consists of restaurant, grocery store, and school types of facilities:"
   ]
  },
  {
   "cell_type": "code",
   "execution_count": 98,
   "metadata": {
    "colab": {
     "base_uri": "https://localhost:8080/",
     "height": 0
    },
    "colab_type": "code",
    "id": "TDqfH9CZS9Ws",
    "outputId": "cab534b1-1e50-492b-ad29-867285fc5d24"
   },
   "outputs": [
    {
     "data": {
      "text/plain": [
       "<BarContainer object of 15 artists>"
      ]
     },
     "execution_count": 98,
     "metadata": {},
     "output_type": "execute_result"
    },
    {
     "data": {
      "image/png": "[encoded data removed]",
      "text/plain": [
       "<Figure size 432x288 with 1 Axes>"
      ]
     },
     "metadata": {
      "needs_background": "light"
     },
     "output_type": "display_data"
    }
   ],
   "source": [
    "plt.barh(fac_dist.head(15)['Facility Type'],fac_dist.head(15)['Counts'])"
   ]
  },
  {
   "cell_type": "markdown",
   "metadata": {
    "colab_type": "text",
    "id": "CKLyGPdMYipy"
   },
   "source": [
    "### **Number of Facilities in a Type vs. Average Risk Score**"
   ]
  },
  {
   "cell_type": "code",
   "execution_count": 99,
   "metadata": {
    "colab": {
     "base_uri": "https://localhost:8080/",
     "height": 0
    },
    "colab_type": "code",
    "id": "byAJr65ir9iZ",
    "outputId": "62b0cd12-de03-4290-fa06-e7c24061e445"
   },
   "outputs": [
    {
     "data": {
      "text/plain": [
       "<matplotlib.axes._subplots.AxesSubplot at 0x1a1b8b92e8>"
      ]
     },
     "execution_count": 99,
     "metadata": {},
     "output_type": "execute_result"
    },
    {
     "data": {
      "image/png": "[encoded data removed]",
      "text/plain": [
       "<Figure size 432x288 with 1 Axes>"
      ]
     },
     "metadata": {
      "needs_background": "light"
     },
     "output_type": "display_data"
    }
   ],
   "source": [
    "# Perform inner merge on number of facilities and their risk scores \n",
    "merged_inner = pd.merge(left=fac_dist,right=grouped_fac_risk_mean,left_on='Facility Type',right_on='Facility Type')\n",
    "# Scatter plot: number of facilities in each type (i.e. facility type) vs. average risk score\n",
    "merged_inner.plot.scatter(x='Counts', y='Risk')"
   ]
  },
  {
   "cell_type": "markdown",
   "metadata": {
    "colab_type": "text",
    "id": "8-RqdwUPr9id"
   },
   "source": [
    "We realized that the dataset is unbalanced in terms of number of Facility Types, where there are some Facility Types with very few instances. The types of facilities with very few instances would provide us with little to no information. Hence, we decided to analyze the 50 most frequent type of facilities and drop the others:"
   ]
  },
  {
   "cell_type": "code",
   "execution_count": 100,
   "metadata": {
    "colab": {
     "base_uri": "https://localhost:8080/",
     "height": 0
    },
    "colab_type": "code",
    "id": "8OU47lhMr9ie",
    "outputId": "aad99ef5-7a75-4d92-8f9c-c6ab275aa5ca"
   },
   "outputs": [
    {
     "name": "stdout",
     "output_type": "stream",
     "text": [
      "Number of entries before removing facility types with few instances: 3074928\n",
      "Number of entries after removing facility types with few instances: 3071184\n"
     ]
    }
   ],
   "source": [
    "print(\"Number of entries before removing facility types with few instances: \" + str(df.size))\n",
    "df = df[df['Facility Type'].isin(list(fac_dist['Facility Type'])[:50])]\n",
    "print(\"Number of entries after removing facility types with few instances: \" + str(df.size))"
   ]
  },
  {
   "cell_type": "code",
   "execution_count": 101,
   "metadata": {},
   "outputs": [
    {
     "data": {
      "text/html": [
       "<div>\n",
       "<style scoped>\n",
       "    .dataframe tbody tr th:only-of-type {\n",
       "        vertical-align: middle;\n",
       "    }\n",
       "\n",
       "    .dataframe tbody tr th {\n",
       "        vertical-align: top;\n",
       "    }\n",
       "\n",
       "    .dataframe thead th {\n",
       "        text-align: right;\n",
       "    }\n",
       "</style>\n",
       "<table border=\"1\" class=\"dataframe\">\n",
       "  <thead>\n",
       "    <tr style=\"text-align: right;\">\n",
       "      <th></th>\n",
       "      <th>Inspection ID</th>\n",
       "      <th>DBA Name</th>\n",
       "      <th>AKA Name</th>\n",
       "      <th>License #</th>\n",
       "      <th>Facility Type</th>\n",
       "      <th>Risk</th>\n",
       "      <th>Address</th>\n",
       "      <th>Zip</th>\n",
       "      <th>Inspection Date</th>\n",
       "      <th>Inspection Type</th>\n",
       "      <th>Results</th>\n",
       "      <th>Violations</th>\n",
       "      <th>Latitude</th>\n",
       "      <th>Longitude</th>\n",
       "      <th>Location</th>\n",
       "      <th>Regions</th>\n",
       "    </tr>\n",
       "  </thead>\n",
       "  <tbody>\n",
       "    <tr>\n",
       "      <td>32</td>\n",
       "      <td>2352681</td>\n",
       "      <td>BAR-B-Q TONITE</td>\n",
       "      <td>BAR-B-Q TONITE</td>\n",
       "      <td>2563933.0</td>\n",
       "      <td>RESTAURANT</td>\n",
       "      <td>1</td>\n",
       "      <td>6348 N ARTESIAN AVE</td>\n",
       "      <td>60659.0</td>\n",
       "      <td>2019-12-03T00:00:00.000</td>\n",
       "      <td>CANVASS</td>\n",
       "      <td>Out of Business</td>\n",
       "      <td>NaN</td>\n",
       "      <td>41.997335</td>\n",
       "      <td>-87.691240</td>\n",
       "      <td>{'latitude': '-87.69123961702296', 'longitude'...</td>\n",
       "      <td>West Ridge</td>\n",
       "    </tr>\n",
       "    <tr>\n",
       "      <td>39</td>\n",
       "      <td>2352679</td>\n",
       "      <td>ZAIQA RESTAURANT</td>\n",
       "      <td>ZAIQA RESTAURANT</td>\n",
       "      <td>2632018.0</td>\n",
       "      <td>RESTAURANT</td>\n",
       "      <td>1</td>\n",
       "      <td>2245 W DEVON AVE</td>\n",
       "      <td>60659.0</td>\n",
       "      <td>2019-12-03T00:00:00.000</td>\n",
       "      <td>CANVASS</td>\n",
       "      <td>Out of Business</td>\n",
       "      <td>NaN</td>\n",
       "      <td>41.997674</td>\n",
       "      <td>-87.686756</td>\n",
       "      <td>{'latitude': '-87.6867563084304', 'longitude':...</td>\n",
       "      <td>West Ridge</td>\n",
       "    </tr>\n",
       "    <tr>\n",
       "      <td>49</td>\n",
       "      <td>2352524</td>\n",
       "      <td>TC HOTDOGS</td>\n",
       "      <td>TC HOTDOGS</td>\n",
       "      <td>1954116.0</td>\n",
       "      <td>RESTAURANT</td>\n",
       "      <td>2</td>\n",
       "      <td>1740 N KOSTNER AVE</td>\n",
       "      <td>60639.0</td>\n",
       "      <td>2019-12-02T00:00:00.000</td>\n",
       "      <td>CANVASS</td>\n",
       "      <td>Out of Business</td>\n",
       "      <td>NaN</td>\n",
       "      <td>41.912770</td>\n",
       "      <td>-87.736348</td>\n",
       "      <td>{'latitude': '-87.7363483567106', 'longitude':...</td>\n",
       "      <td>Humboldt Park</td>\n",
       "    </tr>\n",
       "    <tr>\n",
       "      <td>73</td>\n",
       "      <td>2352554</td>\n",
       "      <td>EAT &amp; DRINK</td>\n",
       "      <td>EAT &amp; DRINK</td>\n",
       "      <td>2069092.0</td>\n",
       "      <td>RESTAURANT</td>\n",
       "      <td>1</td>\n",
       "      <td>4649 N DAMEN AVE</td>\n",
       "      <td>60625.0</td>\n",
       "      <td>2019-12-02T00:00:00.000</td>\n",
       "      <td>CANVASS</td>\n",
       "      <td>Out of Business</td>\n",
       "      <td>NaN</td>\n",
       "      <td>41.966583</td>\n",
       "      <td>-87.678975</td>\n",
       "      <td>{'latitude': '-87.67897535059605', 'longitude'...</td>\n",
       "      <td>Lincoln Square</td>\n",
       "    </tr>\n",
       "    <tr>\n",
       "      <td>101</td>\n",
       "      <td>2352437</td>\n",
       "      <td>LABRIOL BAKERY AND CAFE</td>\n",
       "      <td>LABRIOLA BAKERY AND CAFE</td>\n",
       "      <td>2374837.0</td>\n",
       "      <td>BAKERY</td>\n",
       "      <td>2</td>\n",
       "      <td>1237 W FULTON MARKET</td>\n",
       "      <td>60607.0</td>\n",
       "      <td>2019-11-27T00:00:00.000</td>\n",
       "      <td>CANVASS</td>\n",
       "      <td>Out of Business</td>\n",
       "      <td>NaN</td>\n",
       "      <td>41.886547</td>\n",
       "      <td>-87.658324</td>\n",
       "      <td>{'latitude': '-87.6583238753014', 'longitude':...</td>\n",
       "      <td>West Loop</td>\n",
       "    </tr>\n",
       "    <tr>\n",
       "      <td>...</td>\n",
       "      <td>...</td>\n",
       "      <td>...</td>\n",
       "      <td>...</td>\n",
       "      <td>...</td>\n",
       "      <td>...</td>\n",
       "      <td>...</td>\n",
       "      <td>...</td>\n",
       "      <td>...</td>\n",
       "      <td>...</td>\n",
       "      <td>...</td>\n",
       "      <td>...</td>\n",
       "      <td>...</td>\n",
       "      <td>...</td>\n",
       "      <td>...</td>\n",
       "      <td>...</td>\n",
       "      <td>...</td>\n",
       "    </tr>\n",
       "    <tr>\n",
       "      <td>183766</td>\n",
       "      <td>124467</td>\n",
       "      <td>LAFERIR INTERNET CAFE &amp; GIFT SHOP</td>\n",
       "      <td>LAFERIR INTERNET CAFE &amp; GIFT SHOP, INC</td>\n",
       "      <td>2021669.0</td>\n",
       "      <td>RESTAURANT</td>\n",
       "      <td>2</td>\n",
       "      <td>4942 N PULASKI RD</td>\n",
       "      <td>60630.0</td>\n",
       "      <td>2010-06-29T00:00:00.000</td>\n",
       "      <td>CANVASS</td>\n",
       "      <td>Out of Business</td>\n",
       "      <td>NaN</td>\n",
       "      <td>41.971339</td>\n",
       "      <td>-87.728265</td>\n",
       "      <td>{'latitude': '-87.72826479944104', 'longitude'...</td>\n",
       "      <td>Albany Park</td>\n",
       "    </tr>\n",
       "    <tr>\n",
       "      <td>184116</td>\n",
       "      <td>251140</td>\n",
       "      <td>SANCHEZ TACOS</td>\n",
       "      <td>SANCHEZ TACOS</td>\n",
       "      <td>1442295.0</td>\n",
       "      <td>RESTAURANT</td>\n",
       "      <td>1</td>\n",
       "      <td>4001 W OGDEN</td>\n",
       "      <td>60623.0</td>\n",
       "      <td>2010-06-22T00:00:00.000</td>\n",
       "      <td>CANVASS</td>\n",
       "      <td>Out of Business</td>\n",
       "      <td>NaN</td>\n",
       "      <td>41.850958</td>\n",
       "      <td>-87.724775</td>\n",
       "      <td>{'latitude': '-87.72477522322536', 'longitude'...</td>\n",
       "      <td>North Lawndale</td>\n",
       "    </tr>\n",
       "    <tr>\n",
       "      <td>184358</td>\n",
       "      <td>251054</td>\n",
       "      <td>NEIGHBORHOOD FOOD MART</td>\n",
       "      <td>NEIGHBORHOOD FOOD MART INC</td>\n",
       "      <td>1479700.0</td>\n",
       "      <td>RETAIL STORE</td>\n",
       "      <td>3</td>\n",
       "      <td>2748 W MADISON ST</td>\n",
       "      <td>60612.0</td>\n",
       "      <td>2010-06-17T00:00:00.000</td>\n",
       "      <td>CANVASS</td>\n",
       "      <td>Out of Business</td>\n",
       "      <td>NaN</td>\n",
       "      <td>41.881191</td>\n",
       "      <td>-87.695806</td>\n",
       "      <td>{'latitude': '-87.69580604798641', 'longitude'...</td>\n",
       "      <td>Garfield Park</td>\n",
       "    </tr>\n",
       "    <tr>\n",
       "      <td>184728</td>\n",
       "      <td>112437</td>\n",
       "      <td>SALAD CREATIONS</td>\n",
       "      <td>SALAD CREATIONS</td>\n",
       "      <td>1848010.0</td>\n",
       "      <td>RESTAURANT</td>\n",
       "      <td>2</td>\n",
       "      <td>56 E JACKSON BLVD</td>\n",
       "      <td>60604.0</td>\n",
       "      <td>2010-06-10T00:00:00.000</td>\n",
       "      <td>OUT OF BUSINESS</td>\n",
       "      <td>Out of Business</td>\n",
       "      <td>NaN</td>\n",
       "      <td>41.878367</td>\n",
       "      <td>-87.625582</td>\n",
       "      <td>{'latitude': '-87.62558159573472', 'longitude'...</td>\n",
       "      <td>Loop</td>\n",
       "    </tr>\n",
       "    <tr>\n",
       "      <td>187681</td>\n",
       "      <td>231327</td>\n",
       "      <td>MOUNTAIN VIEW CHEF</td>\n",
       "      <td>MOUNTAIN VIEW CHEF INC</td>\n",
       "      <td>1145427.0</td>\n",
       "      <td>RESTAURANT</td>\n",
       "      <td>1</td>\n",
       "      <td>2168-2170 S ARCHER AVE</td>\n",
       "      <td>60616.0</td>\n",
       "      <td>2010-04-13T00:00:00.000</td>\n",
       "      <td>OUT OF BUSINESS</td>\n",
       "      <td>Out of Business</td>\n",
       "      <td>NaN</td>\n",
       "      <td>41.853167</td>\n",
       "      <td>-87.634461</td>\n",
       "      <td>{'latitude': '-87.63446102872312', 'longitude'...</td>\n",
       "      <td>Chinatown</td>\n",
       "    </tr>\n",
       "  </tbody>\n",
       "</table>\n",
       "<p>13707 rows × 16 columns</p>\n",
       "</div>"
      ],
      "text/plain": [
       "        Inspection ID                           DBA Name  \\\n",
       "32            2352681                     BAR-B-Q TONITE   \n",
       "39            2352679                   ZAIQA RESTAURANT   \n",
       "49            2352524                         TC HOTDOGS   \n",
       "73            2352554                        EAT & DRINK   \n",
       "101           2352437            LABRIOL BAKERY AND CAFE   \n",
       "...               ...                                ...   \n",
       "183766         124467  LAFERIR INTERNET CAFE & GIFT SHOP   \n",
       "184116         251140                      SANCHEZ TACOS   \n",
       "184358         251054             NEIGHBORHOOD FOOD MART   \n",
       "184728         112437                    SALAD CREATIONS   \n",
       "187681         231327                 MOUNTAIN VIEW CHEF   \n",
       "\n",
       "                                      AKA Name  License # Facility Type  Risk  \\\n",
       "32                              BAR-B-Q TONITE  2563933.0    RESTAURANT     1   \n",
       "39                            ZAIQA RESTAURANT  2632018.0    RESTAURANT     1   \n",
       "49                                  TC HOTDOGS  1954116.0    RESTAURANT     2   \n",
       "73                                 EAT & DRINK  2069092.0    RESTAURANT     1   \n",
       "101                   LABRIOLA BAKERY AND CAFE  2374837.0        BAKERY     2   \n",
       "...                                        ...        ...           ...   ...   \n",
       "183766  LAFERIR INTERNET CAFE & GIFT SHOP, INC  2021669.0    RESTAURANT     2   \n",
       "184116                           SANCHEZ TACOS  1442295.0    RESTAURANT     1   \n",
       "184358              NEIGHBORHOOD FOOD MART INC  1479700.0  RETAIL STORE     3   \n",
       "184728                         SALAD CREATIONS  1848010.0    RESTAURANT     2   \n",
       "187681                  MOUNTAIN VIEW CHEF INC  1145427.0    RESTAURANT     1   \n",
       "\n",
       "                        Address      Zip          Inspection Date  \\\n",
       "32         6348 N ARTESIAN AVE   60659.0  2019-12-03T00:00:00.000   \n",
       "39            2245 W DEVON AVE   60659.0  2019-12-03T00:00:00.000   \n",
       "49          1740 N KOSTNER AVE   60639.0  2019-12-02T00:00:00.000   \n",
       "73            4649 N DAMEN AVE   60625.0  2019-12-02T00:00:00.000   \n",
       "101       1237 W FULTON MARKET   60607.0  2019-11-27T00:00:00.000   \n",
       "...                         ...      ...                      ...   \n",
       "183766       4942 N PULASKI RD   60630.0  2010-06-29T00:00:00.000   \n",
       "184116            4001 W OGDEN   60623.0  2010-06-22T00:00:00.000   \n",
       "184358       2748 W MADISON ST   60612.0  2010-06-17T00:00:00.000   \n",
       "184728       56 E JACKSON BLVD   60604.0  2010-06-10T00:00:00.000   \n",
       "187681  2168-2170 S ARCHER AVE   60616.0  2010-04-13T00:00:00.000   \n",
       "\n",
       "        Inspection Type          Results Violations   Latitude  Longitude  \\\n",
       "32              CANVASS  Out of Business        NaN  41.997335 -87.691240   \n",
       "39              CANVASS  Out of Business        NaN  41.997674 -87.686756   \n",
       "49              CANVASS  Out of Business        NaN  41.912770 -87.736348   \n",
       "73              CANVASS  Out of Business        NaN  41.966583 -87.678975   \n",
       "101             CANVASS  Out of Business        NaN  41.886547 -87.658324   \n",
       "...                 ...              ...        ...        ...        ...   \n",
       "183766          CANVASS  Out of Business        NaN  41.971339 -87.728265   \n",
       "184116          CANVASS  Out of Business        NaN  41.850958 -87.724775   \n",
       "184358          CANVASS  Out of Business        NaN  41.881191 -87.695806   \n",
       "184728  OUT OF BUSINESS  Out of Business        NaN  41.878367 -87.625582   \n",
       "187681  OUT OF BUSINESS  Out of Business        NaN  41.853167 -87.634461   \n",
       "\n",
       "                                                 Location         Regions  \n",
       "32      {'latitude': '-87.69123961702296', 'longitude'...      West Ridge  \n",
       "39      {'latitude': '-87.6867563084304', 'longitude':...      West Ridge  \n",
       "49      {'latitude': '-87.7363483567106', 'longitude':...   Humboldt Park  \n",
       "73      {'latitude': '-87.67897535059605', 'longitude'...  Lincoln Square  \n",
       "101     {'latitude': '-87.6583238753014', 'longitude':...       West Loop  \n",
       "...                                                   ...             ...  \n",
       "183766  {'latitude': '-87.72826479944104', 'longitude'...     Albany Park  \n",
       "184116  {'latitude': '-87.72477522322536', 'longitude'...  North Lawndale  \n",
       "184358  {'latitude': '-87.69580604798641', 'longitude'...   Garfield Park  \n",
       "184728  {'latitude': '-87.62558159573472', 'longitude'...            Loop  \n",
       "187681  {'latitude': '-87.63446102872312', 'longitude'...       Chinatown  \n",
       "\n",
       "[13707 rows x 16 columns]"
      ]
     },
     "execution_count": 101,
     "metadata": {},
     "output_type": "execute_result"
    }
   ],
   "source": [
    "df_oob = df[df.Results.str.contains(\"Out of Business\",na=False)]\n",
    "df_oob"
   ]
  },
  {
   "cell_type": "code",
   "execution_count": 102,
   "metadata": {},
   "outputs": [
    {
     "name": "stderr",
     "output_type": "stream",
     "text": [
      "/Users/wifinaynay/anaconda2/envs/py36/lib/python3.6/site-packages/ipykernel_launcher.py:1: SettingWithCopyWarning: \n",
      "A value is trying to be set on a copy of a slice from a DataFrame.\n",
      "Try using .loc[row_indexer,col_indexer] = value instead\n",
      "\n",
      "See the caveats in the documentation: http://pandas.pydata.org/pandas-docs/stable/user_guide/indexing.html#returning-a-view-versus-a-copy\n",
      "  \"\"\"Entry point for launching an IPython kernel.\n",
      "/Users/wifinaynay/anaconda2/envs/py36/lib/python3.6/site-packages/ipykernel_launcher.py:2: SettingWithCopyWarning: \n",
      "A value is trying to be set on a copy of a slice from a DataFrame.\n",
      "Try using .loc[row_indexer,col_indexer] = value instead\n",
      "\n",
      "See the caveats in the documentation: http://pandas.pydata.org/pandas-docs/stable/user_guide/indexing.html#returning-a-view-versus-a-copy\n",
      "  \n"
     ]
    },
    {
     "data": {
      "text/html": [
       "<div>\n",
       "<style scoped>\n",
       "    .dataframe tbody tr th:only-of-type {\n",
       "        vertical-align: middle;\n",
       "    }\n",
       "\n",
       "    .dataframe tbody tr th {\n",
       "        vertical-align: top;\n",
       "    }\n",
       "\n",
       "    .dataframe thead th {\n",
       "        text-align: right;\n",
       "    }\n",
       "</style>\n",
       "<table border=\"1\" class=\"dataframe\">\n",
       "  <thead>\n",
       "    <tr style=\"text-align: right;\">\n",
       "      <th></th>\n",
       "      <th>Inspection ID</th>\n",
       "      <th>DBA Name</th>\n",
       "      <th>AKA Name</th>\n",
       "      <th>License #</th>\n",
       "      <th>Facility Type</th>\n",
       "      <th>Risk</th>\n",
       "      <th>Address</th>\n",
       "      <th>Zip</th>\n",
       "      <th>Inspection Date</th>\n",
       "      <th>Inspection Type</th>\n",
       "      <th>Results</th>\n",
       "      <th>Violations</th>\n",
       "      <th>Latitude</th>\n",
       "      <th>Longitude</th>\n",
       "      <th>Location</th>\n",
       "      <th>Regions</th>\n",
       "      <th>year</th>\n",
       "      <th>month</th>\n",
       "    </tr>\n",
       "  </thead>\n",
       "  <tbody>\n",
       "    <tr>\n",
       "      <td>32</td>\n",
       "      <td>2352681</td>\n",
       "      <td>BAR-B-Q TONITE</td>\n",
       "      <td>BAR-B-Q TONITE</td>\n",
       "      <td>2563933.0</td>\n",
       "      <td>RESTAURANT</td>\n",
       "      <td>1</td>\n",
       "      <td>6348 N ARTESIAN AVE</td>\n",
       "      <td>60659.0</td>\n",
       "      <td>2019-12-03T00:00:00.000</td>\n",
       "      <td>CANVASS</td>\n",
       "      <td>Out of Business</td>\n",
       "      <td>NaN</td>\n",
       "      <td>41.997335</td>\n",
       "      <td>-87.691240</td>\n",
       "      <td>{'latitude': '-87.69123961702296', 'longitude'...</td>\n",
       "      <td>West Ridge</td>\n",
       "      <td>2019</td>\n",
       "      <td>12</td>\n",
       "    </tr>\n",
       "    <tr>\n",
       "      <td>39</td>\n",
       "      <td>2352679</td>\n",
       "      <td>ZAIQA RESTAURANT</td>\n",
       "      <td>ZAIQA RESTAURANT</td>\n",
       "      <td>2632018.0</td>\n",
       "      <td>RESTAURANT</td>\n",
       "      <td>1</td>\n",
       "      <td>2245 W DEVON AVE</td>\n",
       "      <td>60659.0</td>\n",
       "      <td>2019-12-03T00:00:00.000</td>\n",
       "      <td>CANVASS</td>\n",
       "      <td>Out of Business</td>\n",
       "      <td>NaN</td>\n",
       "      <td>41.997674</td>\n",
       "      <td>-87.686756</td>\n",
       "      <td>{'latitude': '-87.6867563084304', 'longitude':...</td>\n",
       "      <td>West Ridge</td>\n",
       "      <td>2019</td>\n",
       "      <td>12</td>\n",
       "    </tr>\n",
       "    <tr>\n",
       "      <td>49</td>\n",
       "      <td>2352524</td>\n",
       "      <td>TC HOTDOGS</td>\n",
       "      <td>TC HOTDOGS</td>\n",
       "      <td>1954116.0</td>\n",
       "      <td>RESTAURANT</td>\n",
       "      <td>2</td>\n",
       "      <td>1740 N KOSTNER AVE</td>\n",
       "      <td>60639.0</td>\n",
       "      <td>2019-12-02T00:00:00.000</td>\n",
       "      <td>CANVASS</td>\n",
       "      <td>Out of Business</td>\n",
       "      <td>NaN</td>\n",
       "      <td>41.912770</td>\n",
       "      <td>-87.736348</td>\n",
       "      <td>{'latitude': '-87.7363483567106', 'longitude':...</td>\n",
       "      <td>Humboldt Park</td>\n",
       "      <td>2019</td>\n",
       "      <td>12</td>\n",
       "    </tr>\n",
       "    <tr>\n",
       "      <td>73</td>\n",
       "      <td>2352554</td>\n",
       "      <td>EAT &amp; DRINK</td>\n",
       "      <td>EAT &amp; DRINK</td>\n",
       "      <td>2069092.0</td>\n",
       "      <td>RESTAURANT</td>\n",
       "      <td>1</td>\n",
       "      <td>4649 N DAMEN AVE</td>\n",
       "      <td>60625.0</td>\n",
       "      <td>2019-12-02T00:00:00.000</td>\n",
       "      <td>CANVASS</td>\n",
       "      <td>Out of Business</td>\n",
       "      <td>NaN</td>\n",
       "      <td>41.966583</td>\n",
       "      <td>-87.678975</td>\n",
       "      <td>{'latitude': '-87.67897535059605', 'longitude'...</td>\n",
       "      <td>Lincoln Square</td>\n",
       "      <td>2019</td>\n",
       "      <td>12</td>\n",
       "    </tr>\n",
       "    <tr>\n",
       "      <td>101</td>\n",
       "      <td>2352437</td>\n",
       "      <td>LABRIOL BAKERY AND CAFE</td>\n",
       "      <td>LABRIOLA BAKERY AND CAFE</td>\n",
       "      <td>2374837.0</td>\n",
       "      <td>BAKERY</td>\n",
       "      <td>2</td>\n",
       "      <td>1237 W FULTON MARKET</td>\n",
       "      <td>60607.0</td>\n",
       "      <td>2019-11-27T00:00:00.000</td>\n",
       "      <td>CANVASS</td>\n",
       "      <td>Out of Business</td>\n",
       "      <td>NaN</td>\n",
       "      <td>41.886547</td>\n",
       "      <td>-87.658324</td>\n",
       "      <td>{'latitude': '-87.6583238753014', 'longitude':...</td>\n",
       "      <td>West Loop</td>\n",
       "      <td>2019</td>\n",
       "      <td>11</td>\n",
       "    </tr>\n",
       "    <tr>\n",
       "      <td>...</td>\n",
       "      <td>...</td>\n",
       "      <td>...</td>\n",
       "      <td>...</td>\n",
       "      <td>...</td>\n",
       "      <td>...</td>\n",
       "      <td>...</td>\n",
       "      <td>...</td>\n",
       "      <td>...</td>\n",
       "      <td>...</td>\n",
       "      <td>...</td>\n",
       "      <td>...</td>\n",
       "      <td>...</td>\n",
       "      <td>...</td>\n",
       "      <td>...</td>\n",
       "      <td>...</td>\n",
       "      <td>...</td>\n",
       "      <td>...</td>\n",
       "      <td>...</td>\n",
       "    </tr>\n",
       "    <tr>\n",
       "      <td>183766</td>\n",
       "      <td>124467</td>\n",
       "      <td>LAFERIR INTERNET CAFE &amp; GIFT SHOP</td>\n",
       "      <td>LAFERIR INTERNET CAFE &amp; GIFT SHOP, INC</td>\n",
       "      <td>2021669.0</td>\n",
       "      <td>RESTAURANT</td>\n",
       "      <td>2</td>\n",
       "      <td>4942 N PULASKI RD</td>\n",
       "      <td>60630.0</td>\n",
       "      <td>2010-06-29T00:00:00.000</td>\n",
       "      <td>CANVASS</td>\n",
       "      <td>Out of Business</td>\n",
       "      <td>NaN</td>\n",
       "      <td>41.971339</td>\n",
       "      <td>-87.728265</td>\n",
       "      <td>{'latitude': '-87.72826479944104', 'longitude'...</td>\n",
       "      <td>Albany Park</td>\n",
       "      <td>2010</td>\n",
       "      <td>06</td>\n",
       "    </tr>\n",
       "    <tr>\n",
       "      <td>184116</td>\n",
       "      <td>251140</td>\n",
       "      <td>SANCHEZ TACOS</td>\n",
       "      <td>SANCHEZ TACOS</td>\n",
       "      <td>1442295.0</td>\n",
       "      <td>RESTAURANT</td>\n",
       "      <td>1</td>\n",
       "      <td>4001 W OGDEN</td>\n",
       "      <td>60623.0</td>\n",
       "      <td>2010-06-22T00:00:00.000</td>\n",
       "      <td>CANVASS</td>\n",
       "      <td>Out of Business</td>\n",
       "      <td>NaN</td>\n",
       "      <td>41.850958</td>\n",
       "      <td>-87.724775</td>\n",
       "      <td>{'latitude': '-87.72477522322536', 'longitude'...</td>\n",
       "      <td>North Lawndale</td>\n",
       "      <td>2010</td>\n",
       "      <td>06</td>\n",
       "    </tr>\n",
       "    <tr>\n",
       "      <td>184358</td>\n",
       "      <td>251054</td>\n",
       "      <td>NEIGHBORHOOD FOOD MART</td>\n",
       "      <td>NEIGHBORHOOD FOOD MART INC</td>\n",
       "      <td>1479700.0</td>\n",
       "      <td>RETAIL STORE</td>\n",
       "      <td>3</td>\n",
       "      <td>2748 W MADISON ST</td>\n",
       "      <td>60612.0</td>\n",
       "      <td>2010-06-17T00:00:00.000</td>\n",
       "      <td>CANVASS</td>\n",
       "      <td>Out of Business</td>\n",
       "      <td>NaN</td>\n",
       "      <td>41.881191</td>\n",
       "      <td>-87.695806</td>\n",
       "      <td>{'latitude': '-87.69580604798641', 'longitude'...</td>\n",
       "      <td>Garfield Park</td>\n",
       "      <td>2010</td>\n",
       "      <td>06</td>\n",
       "    </tr>\n",
       "    <tr>\n",
       "      <td>184728</td>\n",
       "      <td>112437</td>\n",
       "      <td>SALAD CREATIONS</td>\n",
       "      <td>SALAD CREATIONS</td>\n",
       "      <td>1848010.0</td>\n",
       "      <td>RESTAURANT</td>\n",
       "      <td>2</td>\n",
       "      <td>56 E JACKSON BLVD</td>\n",
       "      <td>60604.0</td>\n",
       "      <td>2010-06-10T00:00:00.000</td>\n",
       "      <td>OUT OF BUSINESS</td>\n",
       "      <td>Out of Business</td>\n",
       "      <td>NaN</td>\n",
       "      <td>41.878367</td>\n",
       "      <td>-87.625582</td>\n",
       "      <td>{'latitude': '-87.62558159573472', 'longitude'...</td>\n",
       "      <td>Loop</td>\n",
       "      <td>2010</td>\n",
       "      <td>06</td>\n",
       "    </tr>\n",
       "    <tr>\n",
       "      <td>187681</td>\n",
       "      <td>231327</td>\n",
       "      <td>MOUNTAIN VIEW CHEF</td>\n",
       "      <td>MOUNTAIN VIEW CHEF INC</td>\n",
       "      <td>1145427.0</td>\n",
       "      <td>RESTAURANT</td>\n",
       "      <td>1</td>\n",
       "      <td>2168-2170 S ARCHER AVE</td>\n",
       "      <td>60616.0</td>\n",
       "      <td>2010-04-13T00:00:00.000</td>\n",
       "      <td>OUT OF BUSINESS</td>\n",
       "      <td>Out of Business</td>\n",
       "      <td>NaN</td>\n",
       "      <td>41.853167</td>\n",
       "      <td>-87.634461</td>\n",
       "      <td>{'latitude': '-87.63446102872312', 'longitude'...</td>\n",
       "      <td>Chinatown</td>\n",
       "      <td>2010</td>\n",
       "      <td>04</td>\n",
       "    </tr>\n",
       "  </tbody>\n",
       "</table>\n",
       "<p>13707 rows × 18 columns</p>\n",
       "</div>"
      ],
      "text/plain": [
       "        Inspection ID                           DBA Name  \\\n",
       "32            2352681                     BAR-B-Q TONITE   \n",
       "39            2352679                   ZAIQA RESTAURANT   \n",
       "49            2352524                         TC HOTDOGS   \n",
       "73            2352554                        EAT & DRINK   \n",
       "101           2352437            LABRIOL BAKERY AND CAFE   \n",
       "...               ...                                ...   \n",
       "183766         124467  LAFERIR INTERNET CAFE & GIFT SHOP   \n",
       "184116         251140                      SANCHEZ TACOS   \n",
       "184358         251054             NEIGHBORHOOD FOOD MART   \n",
       "184728         112437                    SALAD CREATIONS   \n",
       "187681         231327                 MOUNTAIN VIEW CHEF   \n",
       "\n",
       "                                      AKA Name  License # Facility Type  Risk  \\\n",
       "32                              BAR-B-Q TONITE  2563933.0    RESTAURANT     1   \n",
       "39                            ZAIQA RESTAURANT  2632018.0    RESTAURANT     1   \n",
       "49                                  TC HOTDOGS  1954116.0    RESTAURANT     2   \n",
       "73                                 EAT & DRINK  2069092.0    RESTAURANT     1   \n",
       "101                   LABRIOLA BAKERY AND CAFE  2374837.0        BAKERY     2   \n",
       "...                                        ...        ...           ...   ...   \n",
       "183766  LAFERIR INTERNET CAFE & GIFT SHOP, INC  2021669.0    RESTAURANT     2   \n",
       "184116                           SANCHEZ TACOS  1442295.0    RESTAURANT     1   \n",
       "184358              NEIGHBORHOOD FOOD MART INC  1479700.0  RETAIL STORE     3   \n",
       "184728                         SALAD CREATIONS  1848010.0    RESTAURANT     2   \n",
       "187681                  MOUNTAIN VIEW CHEF INC  1145427.0    RESTAURANT     1   \n",
       "\n",
       "                        Address      Zip          Inspection Date  \\\n",
       "32         6348 N ARTESIAN AVE   60659.0  2019-12-03T00:00:00.000   \n",
       "39            2245 W DEVON AVE   60659.0  2019-12-03T00:00:00.000   \n",
       "49          1740 N KOSTNER AVE   60639.0  2019-12-02T00:00:00.000   \n",
       "73            4649 N DAMEN AVE   60625.0  2019-12-02T00:00:00.000   \n",
       "101       1237 W FULTON MARKET   60607.0  2019-11-27T00:00:00.000   \n",
       "...                         ...      ...                      ...   \n",
       "183766       4942 N PULASKI RD   60630.0  2010-06-29T00:00:00.000   \n",
       "184116            4001 W OGDEN   60623.0  2010-06-22T00:00:00.000   \n",
       "184358       2748 W MADISON ST   60612.0  2010-06-17T00:00:00.000   \n",
       "184728       56 E JACKSON BLVD   60604.0  2010-06-10T00:00:00.000   \n",
       "187681  2168-2170 S ARCHER AVE   60616.0  2010-04-13T00:00:00.000   \n",
       "\n",
       "        Inspection Type          Results Violations   Latitude  Longitude  \\\n",
       "32              CANVASS  Out of Business        NaN  41.997335 -87.691240   \n",
       "39              CANVASS  Out of Business        NaN  41.997674 -87.686756   \n",
       "49              CANVASS  Out of Business        NaN  41.912770 -87.736348   \n",
       "73              CANVASS  Out of Business        NaN  41.966583 -87.678975   \n",
       "101             CANVASS  Out of Business        NaN  41.886547 -87.658324   \n",
       "...                 ...              ...        ...        ...        ...   \n",
       "183766          CANVASS  Out of Business        NaN  41.971339 -87.728265   \n",
       "184116          CANVASS  Out of Business        NaN  41.850958 -87.724775   \n",
       "184358          CANVASS  Out of Business        NaN  41.881191 -87.695806   \n",
       "184728  OUT OF BUSINESS  Out of Business        NaN  41.878367 -87.625582   \n",
       "187681  OUT OF BUSINESS  Out of Business        NaN  41.853167 -87.634461   \n",
       "\n",
       "                                                 Location         Regions  \\\n",
       "32      {'latitude': '-87.69123961702296', 'longitude'...      West Ridge   \n",
       "39      {'latitude': '-87.6867563084304', 'longitude':...      West Ridge   \n",
       "49      {'latitude': '-87.7363483567106', 'longitude':...   Humboldt Park   \n",
       "73      {'latitude': '-87.67897535059605', 'longitude'...  Lincoln Square   \n",
       "101     {'latitude': '-87.6583238753014', 'longitude':...       West Loop   \n",
       "...                                                   ...             ...   \n",
       "183766  {'latitude': '-87.72826479944104', 'longitude'...     Albany Park   \n",
       "184116  {'latitude': '-87.72477522322536', 'longitude'...  North Lawndale   \n",
       "184358  {'latitude': '-87.69580604798641', 'longitude'...   Garfield Park   \n",
       "184728  {'latitude': '-87.62558159573472', 'longitude'...            Loop   \n",
       "187681  {'latitude': '-87.63446102872312', 'longitude'...       Chinatown   \n",
       "\n",
       "        year month  \n",
       "32      2019    12  \n",
       "39      2019    12  \n",
       "49      2019    12  \n",
       "73      2019    12  \n",
       "101     2019    11  \n",
       "...      ...   ...  \n",
       "183766  2010    06  \n",
       "184116  2010    06  \n",
       "184358  2010    06  \n",
       "184728  2010    06  \n",
       "187681  2010    04  \n",
       "\n",
       "[13707 rows x 18 columns]"
      ]
     },
     "execution_count": 102,
     "metadata": {},
     "output_type": "execute_result"
    }
   ],
   "source": [
    "df_oob['year'] = df_oob['Inspection Date'].apply(lambda x: x.split('-')[0])\n",
    "df_oob['month'] = df_oob['Inspection Date'].apply(lambda x: x.split('-')[1])\n",
    "df_oob"
   ]
  },
  {
   "cell_type": "code",
   "execution_count": 103,
   "metadata": {},
   "outputs": [],
   "source": [
    "df_year = df_oob.groupby(\"year\").count()['Results'].reset_index().rename(columns={'Results':'Count'})"
   ]
  },
  {
   "cell_type": "code",
   "execution_count": 104,
   "metadata": {},
   "outputs": [
    {
     "data": {
      "text/plain": [
       "<BarContainer object of 10 artists>"
      ]
     },
     "execution_count": 104,
     "metadata": {},
     "output_type": "execute_result"
    },
    {
     "data": {
      "image/png": "[encoded data removed]",
      "text/plain": [
       "<Figure size 432x288 with 1 Axes>"
      ]
     },
     "metadata": {
      "needs_background": "light"
     },
     "output_type": "display_data"
    }
   ],
   "source": [
    "fig, axs = plt.subplots(1, 1, constrained_layout=True)\n",
    "axs.set_title('The number of facilities that went out of business vs. year')\n",
    "axs.set_xlabel('count')\n",
    "axs.set_ylabel('years')\n",
    "axs.barh(df_year['year'],df_year['Count'])"
   ]
  },
  {
   "cell_type": "markdown",
   "metadata": {},
   "source": [
    "In the plot above, we can see that year 2013 is the year where the number of closed down facilities peaks. Therefore, we wil analyse the year 2013."
   ]
  },
  {
   "cell_type": "code",
   "execution_count": 105,
   "metadata": {},
   "outputs": [],
   "source": [
    "df_oob2013 = df_oob[df_oob.year.str.contains(\"2013\",na=False)]\n",
    "df_oob_not2013 = df_oob[~df_oob.year.str.contains(\"2013\",na=False)]"
   ]
  },
  {
   "cell_type": "code",
   "execution_count": 106,
   "metadata": {},
   "outputs": [
    {
     "data": {
      "text/html": [
       "<div>\n",
       "<style scoped>\n",
       "    .dataframe tbody tr th:only-of-type {\n",
       "        vertical-align: middle;\n",
       "    }\n",
       "\n",
       "    .dataframe tbody tr th {\n",
       "        vertical-align: top;\n",
       "    }\n",
       "\n",
       "    .dataframe thead th {\n",
       "        text-align: right;\n",
       "    }\n",
       "</style>\n",
       "<table border=\"1\" class=\"dataframe\">\n",
       "  <thead>\n",
       "    <tr style=\"text-align: right;\">\n",
       "      <th></th>\n",
       "      <th>Regions</th>\n",
       "      <th>Counts</th>\n",
       "    </tr>\n",
       "  </thead>\n",
       "  <tbody>\n",
       "    <tr>\n",
       "      <td>0</td>\n",
       "      <td>Loop</td>\n",
       "      <td>153</td>\n",
       "    </tr>\n",
       "    <tr>\n",
       "      <td>1</td>\n",
       "      <td>Lake View</td>\n",
       "      <td>150</td>\n",
       "    </tr>\n",
       "    <tr>\n",
       "      <td>2</td>\n",
       "      <td>Lincoln Park</td>\n",
       "      <td>93</td>\n",
       "    </tr>\n",
       "    <tr>\n",
       "      <td>3</td>\n",
       "      <td>River North</td>\n",
       "      <td>91</td>\n",
       "    </tr>\n",
       "    <tr>\n",
       "      <td>4</td>\n",
       "      <td>Museum Campus</td>\n",
       "      <td>76</td>\n",
       "    </tr>\n",
       "    <tr>\n",
       "      <td>5</td>\n",
       "      <td>Austin</td>\n",
       "      <td>70</td>\n",
       "    </tr>\n",
       "    <tr>\n",
       "      <td>6</td>\n",
       "      <td>Logan Square</td>\n",
       "      <td>61</td>\n",
       "    </tr>\n",
       "    <tr>\n",
       "      <td>7</td>\n",
       "      <td>West Ridge</td>\n",
       "      <td>59</td>\n",
       "    </tr>\n",
       "    <tr>\n",
       "      <td>8</td>\n",
       "      <td>Rogers Park</td>\n",
       "      <td>57</td>\n",
       "    </tr>\n",
       "    <tr>\n",
       "      <td>9</td>\n",
       "      <td>Humboldt Park</td>\n",
       "      <td>57</td>\n",
       "    </tr>\n",
       "    <tr>\n",
       "      <td>10</td>\n",
       "      <td>Belmont Cragin</td>\n",
       "      <td>52</td>\n",
       "    </tr>\n",
       "    <tr>\n",
       "      <td>11</td>\n",
       "      <td>Little Village</td>\n",
       "      <td>45</td>\n",
       "    </tr>\n",
       "    <tr>\n",
       "      <td>12</td>\n",
       "      <td>Lower West Side</td>\n",
       "      <td>44</td>\n",
       "    </tr>\n",
       "    <tr>\n",
       "      <td>13</td>\n",
       "      <td>Roseland</td>\n",
       "      <td>44</td>\n",
       "    </tr>\n",
       "    <tr>\n",
       "      <td>14</td>\n",
       "      <td>West Loop</td>\n",
       "      <td>41</td>\n",
       "    </tr>\n",
       "  </tbody>\n",
       "</table>\n",
       "</div>"
      ],
      "text/plain": [
       "            Regions  Counts\n",
       "0              Loop     153\n",
       "1         Lake View     150\n",
       "2      Lincoln Park      93\n",
       "3       River North      91\n",
       "4     Museum Campus      76\n",
       "5            Austin      70\n",
       "6      Logan Square      61\n",
       "7        West Ridge      59\n",
       "8       Rogers Park      57\n",
       "9     Humboldt Park      57\n",
       "10   Belmont Cragin      52\n",
       "11   Little Village      45\n",
       "12  Lower West Side      44\n",
       "13         Roseland      44\n",
       "14        West Loop      41"
      ]
     },
     "execution_count": 106,
     "metadata": {},
     "output_type": "execute_result"
    }
   ],
   "source": [
    "df_oob2013.groupby(\"Regions\").count().rename(columns={'Results':'Counts'}).sort_values(by='Counts',ascending=False)['Counts'].reset_index().head(15)"
   ]
  },
  {
   "cell_type": "markdown",
   "metadata": {
    "colab_type": "text",
    "id": "DZzu7EOQr9ig"
   },
   "source": [
    "As we can see from the code above, there are around 20 thousand facilities that dont have as much inspections as the others. As a result, data set is more balanced now"
   ]
  },
  {
   "cell_type": "code",
   "execution_count": 107,
   "metadata": {},
   "outputs": [
    {
     "data": {
      "text/html": [
       "<div>\n",
       "<style scoped>\n",
       "    .dataframe tbody tr th:only-of-type {\n",
       "        vertical-align: middle;\n",
       "    }\n",
       "\n",
       "    .dataframe tbody tr th {\n",
       "        vertical-align: top;\n",
       "    }\n",
       "\n",
       "    .dataframe thead th {\n",
       "        text-align: right;\n",
       "    }\n",
       "</style>\n",
       "<table border=\"1\" class=\"dataframe\">\n",
       "  <thead>\n",
       "    <tr style=\"text-align: right;\">\n",
       "      <th></th>\n",
       "      <th>Regions</th>\n",
       "      <th>Counts</th>\n",
       "    </tr>\n",
       "  </thead>\n",
       "  <tbody>\n",
       "    <tr>\n",
       "      <td>0</td>\n",
       "      <td>Loop</td>\n",
       "      <td>627</td>\n",
       "    </tr>\n",
       "    <tr>\n",
       "      <td>1</td>\n",
       "      <td>Lake View</td>\n",
       "      <td>528</td>\n",
       "    </tr>\n",
       "    <tr>\n",
       "      <td>2</td>\n",
       "      <td>Austin</td>\n",
       "      <td>358</td>\n",
       "    </tr>\n",
       "    <tr>\n",
       "      <td>3</td>\n",
       "      <td>West Loop</td>\n",
       "      <td>316</td>\n",
       "    </tr>\n",
       "    <tr>\n",
       "      <td>4</td>\n",
       "      <td>River North</td>\n",
       "      <td>315</td>\n",
       "    </tr>\n",
       "    <tr>\n",
       "      <td>5</td>\n",
       "      <td>West Ridge</td>\n",
       "      <td>292</td>\n",
       "    </tr>\n",
       "    <tr>\n",
       "      <td>6</td>\n",
       "      <td>Lincoln Park</td>\n",
       "      <td>282</td>\n",
       "    </tr>\n",
       "    <tr>\n",
       "      <td>7</td>\n",
       "      <td>Albany Park</td>\n",
       "      <td>281</td>\n",
       "    </tr>\n",
       "    <tr>\n",
       "      <td>8</td>\n",
       "      <td>Belmont Cragin</td>\n",
       "      <td>279</td>\n",
       "    </tr>\n",
       "    <tr>\n",
       "      <td>9</td>\n",
       "      <td>Logan Square</td>\n",
       "      <td>261</td>\n",
       "    </tr>\n",
       "    <tr>\n",
       "      <td>10</td>\n",
       "      <td>Little Village</td>\n",
       "      <td>256</td>\n",
       "    </tr>\n",
       "    <tr>\n",
       "      <td>11</td>\n",
       "      <td>Humboldt Park</td>\n",
       "      <td>253</td>\n",
       "    </tr>\n",
       "    <tr>\n",
       "      <td>12</td>\n",
       "      <td>Englewood</td>\n",
       "      <td>224</td>\n",
       "    </tr>\n",
       "    <tr>\n",
       "      <td>13</td>\n",
       "      <td>Uptown</td>\n",
       "      <td>223</td>\n",
       "    </tr>\n",
       "    <tr>\n",
       "      <td>14</td>\n",
       "      <td>Lincoln Square</td>\n",
       "      <td>211</td>\n",
       "    </tr>\n",
       "  </tbody>\n",
       "</table>\n",
       "</div>"
      ],
      "text/plain": [
       "           Regions  Counts\n",
       "0             Loop     627\n",
       "1        Lake View     528\n",
       "2           Austin     358\n",
       "3        West Loop     316\n",
       "4      River North     315\n",
       "5       West Ridge     292\n",
       "6     Lincoln Park     282\n",
       "7      Albany Park     281\n",
       "8   Belmont Cragin     279\n",
       "9     Logan Square     261\n",
       "10  Little Village     256\n",
       "11   Humboldt Park     253\n",
       "12       Englewood     224\n",
       "13          Uptown     223\n",
       "14  Lincoln Square     211"
      ]
     },
     "execution_count": 107,
     "metadata": {},
     "output_type": "execute_result"
    }
   ],
   "source": [
    "df_oob_not2013.groupby(\"Regions\").count().rename(columns={'Results':'Counts'}).sort_values(by='Counts',ascending=False)['Counts'].reset_index().head(15)"
   ]
  },
  {
   "cell_type": "code",
   "execution_count": 108,
   "metadata": {},
   "outputs": [
    {
     "data": {
      "text/html": [
       "<div>\n",
       "<style scoped>\n",
       "    .dataframe tbody tr th:only-of-type {\n",
       "        vertical-align: middle;\n",
       "    }\n",
       "\n",
       "    .dataframe tbody tr th {\n",
       "        vertical-align: top;\n",
       "    }\n",
       "\n",
       "    .dataframe thead th {\n",
       "        text-align: right;\n",
       "    }\n",
       "</style>\n",
       "<table border=\"1\" class=\"dataframe\">\n",
       "  <thead>\n",
       "    <tr style=\"text-align: right;\">\n",
       "      <th></th>\n",
       "      <th>year</th>\n",
       "      <th>month</th>\n",
       "      <th>Count</th>\n",
       "    </tr>\n",
       "  </thead>\n",
       "  <tbody>\n",
       "    <tr>\n",
       "      <td>40</td>\n",
       "      <td>2013</td>\n",
       "      <td>09</td>\n",
       "      <td>369</td>\n",
       "    </tr>\n",
       "    <tr>\n",
       "      <td>41</td>\n",
       "      <td>2013</td>\n",
       "      <td>10</td>\n",
       "      <td>354</td>\n",
       "    </tr>\n",
       "    <tr>\n",
       "      <td>42</td>\n",
       "      <td>2013</td>\n",
       "      <td>11</td>\n",
       "      <td>301</td>\n",
       "    </tr>\n",
       "    <tr>\n",
       "      <td>39</td>\n",
       "      <td>2013</td>\n",
       "      <td>08</td>\n",
       "      <td>235</td>\n",
       "    </tr>\n",
       "    <tr>\n",
       "      <td>64</td>\n",
       "      <td>2015</td>\n",
       "      <td>09</td>\n",
       "      <td>232</td>\n",
       "    </tr>\n",
       "    <tr>\n",
       "      <td>67</td>\n",
       "      <td>2015</td>\n",
       "      <td>12</td>\n",
       "      <td>229</td>\n",
       "    </tr>\n",
       "    <tr>\n",
       "      <td>52</td>\n",
       "      <td>2014</td>\n",
       "      <td>09</td>\n",
       "      <td>222</td>\n",
       "    </tr>\n",
       "    <tr>\n",
       "      <td>55</td>\n",
       "      <td>2014</td>\n",
       "      <td>12</td>\n",
       "      <td>213</td>\n",
       "    </tr>\n",
       "    <tr>\n",
       "      <td>76</td>\n",
       "      <td>2016</td>\n",
       "      <td>09</td>\n",
       "      <td>212</td>\n",
       "    </tr>\n",
       "    <tr>\n",
       "      <td>66</td>\n",
       "      <td>2015</td>\n",
       "      <td>11</td>\n",
       "      <td>201</td>\n",
       "    </tr>\n",
       "  </tbody>\n",
       "</table>\n",
       "</div>"
      ],
      "text/plain": [
       "    year month  Count\n",
       "40  2013    09    369\n",
       "41  2013    10    354\n",
       "42  2013    11    301\n",
       "39  2013    08    235\n",
       "64  2015    09    232\n",
       "67  2015    12    229\n",
       "52  2014    09    222\n",
       "55  2014    12    213\n",
       "76  2016    09    212\n",
       "66  2015    11    201"
      ]
     },
     "execution_count": 108,
     "metadata": {},
     "output_type": "execute_result"
    }
   ],
   "source": [
    "df_month_year = df_oob.groupby([\"year\",\"month\"]).count()['Results'].reset_index().rename(columns={'Results':'Count'})\n",
    "df_month_year.sort_values(by='Count', ascending = False).head(10)"
   ]
  },
  {
   "cell_type": "code",
   "execution_count": 109,
   "metadata": {},
   "outputs": [
    {
     "data": {
      "text/html": [
       "<div>\n",
       "<style scoped>\n",
       "    .dataframe tbody tr th:only-of-type {\n",
       "        vertical-align: middle;\n",
       "    }\n",
       "\n",
       "    .dataframe tbody tr th {\n",
       "        vertical-align: top;\n",
       "    }\n",
       "\n",
       "    .dataframe thead th {\n",
       "        text-align: right;\n",
       "    }\n",
       "</style>\n",
       "<table border=\"1\" class=\"dataframe\">\n",
       "  <thead>\n",
       "    <tr style=\"text-align: right;\">\n",
       "      <th></th>\n",
       "      <th>month</th>\n",
       "      <th>Count</th>\n",
       "    </tr>\n",
       "  </thead>\n",
       "  <tbody>\n",
       "    <tr>\n",
       "      <td>0</td>\n",
       "      <td>01</td>\n",
       "      <td>894</td>\n",
       "    </tr>\n",
       "    <tr>\n",
       "      <td>1</td>\n",
       "      <td>02</td>\n",
       "      <td>801</td>\n",
       "    </tr>\n",
       "    <tr>\n",
       "      <td>2</td>\n",
       "      <td>03</td>\n",
       "      <td>857</td>\n",
       "    </tr>\n",
       "    <tr>\n",
       "      <td>3</td>\n",
       "      <td>04</td>\n",
       "      <td>921</td>\n",
       "    </tr>\n",
       "    <tr>\n",
       "      <td>4</td>\n",
       "      <td>05</td>\n",
       "      <td>1189</td>\n",
       "    </tr>\n",
       "    <tr>\n",
       "      <td>5</td>\n",
       "      <td>06</td>\n",
       "      <td>1051</td>\n",
       "    </tr>\n",
       "    <tr>\n",
       "      <td>6</td>\n",
       "      <td>07</td>\n",
       "      <td>1007</td>\n",
       "    </tr>\n",
       "    <tr>\n",
       "      <td>7</td>\n",
       "      <td>08</td>\n",
       "      <td>1273</td>\n",
       "    </tr>\n",
       "    <tr>\n",
       "      <td>8</td>\n",
       "      <td>09</td>\n",
       "      <td>1625</td>\n",
       "    </tr>\n",
       "    <tr>\n",
       "      <td>9</td>\n",
       "      <td>10</td>\n",
       "      <td>1485</td>\n",
       "    </tr>\n",
       "    <tr>\n",
       "      <td>10</td>\n",
       "      <td>11</td>\n",
       "      <td>1343</td>\n",
       "    </tr>\n",
       "    <tr>\n",
       "      <td>11</td>\n",
       "      <td>12</td>\n",
       "      <td>1261</td>\n",
       "    </tr>\n",
       "  </tbody>\n",
       "</table>\n",
       "</div>"
      ],
      "text/plain": [
       "   month  Count\n",
       "0     01    894\n",
       "1     02    801\n",
       "2     03    857\n",
       "3     04    921\n",
       "4     05   1189\n",
       "5     06   1051\n",
       "6     07   1007\n",
       "7     08   1273\n",
       "8     09   1625\n",
       "9     10   1485\n",
       "10    11   1343\n",
       "11    12   1261"
      ]
     },
     "execution_count": 109,
     "metadata": {},
     "output_type": "execute_result"
    }
   ],
   "source": [
    "df_month = df_oob.groupby([\"month\"]).count()['Results'].reset_index().rename(columns={'Results':'Count'})\n",
    "df_month.head(12)"
   ]
  },
  {
   "cell_type": "code",
   "execution_count": 83,
   "metadata": {},
   "outputs": [
    {
     "data": {
      "text/plain": [
       "<BarContainer object of 12 artists>"
      ]
     },
     "execution_count": 83,
     "metadata": {},
     "output_type": "execute_result"
    },
    {
     "data": {
      "image/png": "[encoded data removed]",
      "text/plain": [
       "<Figure size 432x288 with 1 Axes>"
      ]
     },
     "metadata": {
      "needs_background": "light"
     },
     "output_type": "display_data"
    }
   ],
   "source": [
    "fig, axs = plt.subplots(1, 1, constrained_layout=True)\n",
    "axs.set_title('The number of facilities that went out of business vs. month')\n",
    "axs.set_xlabel('count')\n",
    "axs.set_ylabel('month')\n",
    "axs.barh(df_month['month'],df_month['Count'])"
   ]
  },
  {
   "cell_type": "markdown",
   "metadata": {
    "colab_type": "text",
    "id": "rvahQqzeYxPm"
   },
   "source": [
    "### **Out of Business Facilities on Map**"
   ]
  },
  {
   "cell_type": "code",
   "execution_count": 59,
   "metadata": {
    "colab": {
     "base_uri": "https://localhost:8080/",
     "height": 0
    },
    "colab_type": "code",
    "id": "E80y45xOr9ih",
    "outputId": "f948db2f-a0d5-437a-ac03-236f31eb82e7"
   },
   "outputs": [
    {
     "data": {
      "text/plain": [
       "(13312, 12)"
      ]
     },
     "execution_count": 59,
     "metadata": {},
     "output_type": "execute_result"
    }
   ],
   "source": [
    "# Out of business facilities\n",
    "df_oob = df[df.Results.str.contains(\"Out of Business\",na=False)]\n",
    "df_oob\n",
    "# Grouped by the facilities\n",
    "df_oob_unique = df_oob.groupby(['Latitude','Longitude','DBA Name', 'License #']).count()\n",
    "df_oob_unique.shape"
   ]
  },
  {
   "cell_type": "markdown",
   "metadata": {
    "colab_type": "text",
    "id": "-nJM5570tGrV"
   },
   "source": [
    "We mapped the facilities that have gone out of business to identify any possible pattern:"
   ]
  },
  {
   "cell_type": "code",
   "execution_count": 60,
   "metadata": {
    "colab": {
     "base_uri": "https://localhost:8080/",
     "height": 0
    },
    "colab_type": "code",
    "id": "48p6tnK6r9ik",
    "outputId": "96d40a5a-e629-4b0e-e75a-2f84b0f5369b"
   },
   "outputs": [
    {
     "data": {
      "text/plain": [
       "'\\n# Map the facilities that have gone out of business \\nmap_oob = folium.Map(\\n    location=[41.8781, -87.6298],\\n    zoom_start=9\\n)\\n\\n# We take 5000 samples to view on the map\\n# TODO: take randomized samples / visualize the whole data\\nmarker_cluster = MarkerCluster().add_to(map_oob)\\nranges = 0\\nfor i in df_oob_unique.index:\\n    if ranges == 5000:\\n        break\\n    folium.Marker([(i[0]), (i[1])]).add_to(marker_cluster)        \\n    ranges = ranges + 1\\n\\nmap_oob\\n'"
      ]
     },
     "execution_count": 60,
     "metadata": {},
     "output_type": "execute_result"
    }
   ],
   "source": [
    "'''\n",
    "# Map the facilities that have gone out of business \n",
    "map_oob = folium.Map(\n",
    "    location=[41.8781, -87.6298],\n",
    "    zoom_start=9\n",
    ")\n",
    "\n",
    "# We take 5000 samples to view on the map\n",
    "# TODO: take randomized samples / visualize the whole data\n",
    "marker_cluster = MarkerCluster().add_to(map_oob)\n",
    "ranges = 0\n",
    "for i in df_oob_unique.index:\n",
    "    if ranges == 5000:\n",
    "        break\n",
    "    folium.Marker([(i[0]), (i[1])]).add_to(marker_cluster)        \n",
    "    ranges = ranges + 1\n",
    "\n",
    "map_oob\n",
    "'''"
   ]
  },
  {
   "cell_type": "markdown",
   "metadata": {
    "colab_type": "text",
    "id": "70YWgfyOY98g"
   },
   "source": [
    "### **Average Risk of Facilities on Map**"
   ]
  },
  {
   "cell_type": "code",
   "execution_count": 61,
   "metadata": {
    "colab": {},
    "colab_type": "code",
    "id": "5oPntwPCr9ir"
   },
   "outputs": [],
   "source": [
    "# Calculate risk mean of each facility\n",
    "df_avg_risk_score = df.groupby(['Latitude','Longitude','DBA Name'])['Risk'].mean()"
   ]
  },
  {
   "cell_type": "markdown",
   "metadata": {
    "colab_type": "text",
    "id": "_J6Ty7thtdFo"
   },
   "source": [
    "We mapped the average risk score of facilities to identify any possible pattern:"
   ]
  },
  {
   "cell_type": "code",
   "execution_count": 62,
   "metadata": {
    "colab": {
     "base_uri": "https://localhost:8080/",
     "height": 0
    },
    "colab_type": "code",
    "id": "xm69-CXir9iw",
    "outputId": "4201f2ed-47e2-4bf5-ca3b-ef47b37b32aa"
   },
   "outputs": [
    {
     "data": {
      "text/plain": [
       "\"\\nmap_risk = folium.Map(\\n    location=[41.8781, -87.6298],\\n    zoom_start=9\\n)\\n\\n# We take 2000 samples to view on the map\\n# TODO: take randomized samples / visualize the whole data\\nranges = 0\\nfor i in df_avg_risk_score.index:\\n    if ranges == 2000:\\n        break\\n    if(round(df_avg_risk_score[i]) == 1):\\n        folium.Marker([(i[0]), (i[1])],icon=folium.Icon(color='red')).add_to(map_risk)\\n    elif(round(df_avg_risk_score[i]) == 2):\\n        folium.Marker([(i[0]), (i[1])],icon=folium.Icon(color='orange')).add_to(map_risk)\\n    elif(round(df_avg_risk_score[i]) == 3):\\n        folium.Marker([(i[0]), (i[1])],icon=folium.Icon(color='green')).add_to(map_risk)       \\n    ranges = ranges + 1\\n\\nmap_risk\\n\""
      ]
     },
     "execution_count": 62,
     "metadata": {},
     "output_type": "execute_result"
    }
   ],
   "source": [
    "# Map the average risk score of facilities, where red indicates high risk, orange indicates medium risk, and green indicates low risk\n",
    "'''\n",
    "map_risk = folium.Map(\n",
    "    location=[41.8781, -87.6298],\n",
    "    zoom_start=9\n",
    ")\n",
    "\n",
    "# We take 2000 samples to view on the map\n",
    "# TODO: take randomized samples / visualize the whole data\n",
    "ranges = 0\n",
    "for i in df_avg_risk_score.index:\n",
    "    if ranges == 2000:\n",
    "        break\n",
    "    if(round(df_avg_risk_score[i]) == 1):\n",
    "        folium.Marker([(i[0]), (i[1])],icon=folium.Icon(color='red')).add_to(map_risk)\n",
    "    elif(round(df_avg_risk_score[i]) == 2):\n",
    "        folium.Marker([(i[0]), (i[1])],icon=folium.Icon(color='orange')).add_to(map_risk)\n",
    "    elif(round(df_avg_risk_score[i]) == 3):\n",
    "        folium.Marker([(i[0]), (i[1])],icon=folium.Icon(color='green')).add_to(map_risk)       \n",
    "    ranges = ranges + 1\n",
    "\n",
    "map_risk\n",
    "'''"
   ]
  },
  {
   "cell_type": "markdown",
   "metadata": {
    "colab_type": "text",
    "id": "gedBg9DbwYnV"
   },
   "source": [
    "We plotted the number of inspections vs. the average risk score of each facility to identify any possible correlation between the two. We observed the there is a negative correlation between the number of inspections and the average risk of the facility:"
   ]
  },
  {
   "cell_type": "code",
   "execution_count": 63,
   "metadata": {
    "colab": {
     "base_uri": "https://localhost:8080/",
     "height": 0
    },
    "colab_type": "code",
    "id": "SliEvDVHr9iz",
    "outputId": "7809f847-70e0-4e61-b7d7-be040f15460a"
   },
   "outputs": [
    {
     "data": {
      "text/plain": [
       "<matplotlib.axes._subplots.AxesSubplot at 0x1a1b046710>"
      ]
     },
     "execution_count": 63,
     "metadata": {},
     "output_type": "execute_result"
    },
    {
     "data": {
      "image/png": "[encoded data removed]",
      "text/plain": [
       "<Figure size 432x288 with 1 Axes>"
      ]
     },
     "metadata": {
      "needs_background": "light"
     },
     "output_type": "display_data"
    }
   ],
   "source": [
    "# Scatter plot on the number of inspections vs. the average risk score\n",
    "df_unique = pd.DataFrame(df.groupby(['Latitude','Longitude','DBA Name']).count()['Risk']).rename(columns={'Risk':'Counts'})\n",
    "merged = pd.merge(left=df_avg_risk_score.reset_index(),right=df_unique.reset_index(),left_on=['Latitude','Longitude','DBA Name'],right_on=['Latitude','Longitude','DBA Name'])\n",
    "merged.plot.scatter(x='Risk', y='Counts')"
   ]
  },
  {
   "cell_type": "markdown",
   "metadata": {
    "colab_type": "text",
    "id": "WYaFos2Ir9i4"
   },
   "source": [
    "We observed that the number of risk 3 facilities are lower than the others. Hence, we decided to plot average risk scores vs number of facilities."
   ]
  },
  {
   "cell_type": "markdown",
   "metadata": {
    "colab_type": "text",
    "id": "jRnO5vZlnNtd"
   },
   "source": [
    "### **Correlation between Number of Inspections and Average Level of Risk**"
   ]
  },
  {
   "cell_type": "markdown",
   "metadata": {
    "colab_type": "text",
    "id": "VT4v4wC_yRha"
   },
   "source": [
    "We observed a moderate positive correlation between the number of inspections and average level of risk of the facility (since Risk 1 means high risk and Risk 3 means low risk):"
   ]
  },
  {
   "cell_type": "code",
   "execution_count": 64,
   "metadata": {
    "colab": {
     "base_uri": "https://localhost:8080/",
     "height": 0
    },
    "colab_type": "code",
    "id": "DTX2ONt9w7V8",
    "outputId": "b5de1724-d985-49b7-a4b7-127438108505"
   },
   "outputs": [
    {
     "data": {
      "text/html": [
       "<div>\n",
       "<style scoped>\n",
       "    .dataframe tbody tr th:only-of-type {\n",
       "        vertical-align: middle;\n",
       "    }\n",
       "\n",
       "    .dataframe tbody tr th {\n",
       "        vertical-align: top;\n",
       "    }\n",
       "\n",
       "    .dataframe thead th {\n",
       "        text-align: right;\n",
       "    }\n",
       "</style>\n",
       "<table border=\"1\" class=\"dataframe\">\n",
       "  <thead>\n",
       "    <tr style=\"text-align: right;\">\n",
       "      <th></th>\n",
       "      <th>Risk</th>\n",
       "      <th>Counts</th>\n",
       "    </tr>\n",
       "  </thead>\n",
       "  <tbody>\n",
       "    <tr>\n",
       "      <td>Risk</td>\n",
       "      <td>1.000000</td>\n",
       "      <td>-0.366333</td>\n",
       "    </tr>\n",
       "    <tr>\n",
       "      <td>Counts</td>\n",
       "      <td>-0.366333</td>\n",
       "      <td>1.000000</td>\n",
       "    </tr>\n",
       "  </tbody>\n",
       "</table>\n",
       "</div>"
      ],
      "text/plain": [
       "            Risk    Counts\n",
       "Risk    1.000000 -0.366333\n",
       "Counts -0.366333  1.000000"
      ]
     },
     "execution_count": 64,
     "metadata": {},
     "output_type": "execute_result"
    }
   ],
   "source": [
    "merged[['Risk', 'Counts']].corr(method='pearson')"
   ]
  },
  {
   "cell_type": "markdown",
   "metadata": {
    "colab_type": "text",
    "id": "TcYiy6JonijB"
   },
   "source": [
    "### **Distribution of Risk Scores of Facilities**"
   ]
  },
  {
   "cell_type": "markdown",
   "metadata": {
    "colab_type": "text",
    "id": "QHzvzFwLn1ot"
   },
   "source": [
    "We visualized the distribution of average level of risk scores of each facility using the bar plot below:"
   ]
  },
  {
   "cell_type": "code",
   "execution_count": 65,
   "metadata": {
    "colab": {
     "base_uri": "https://localhost:8080/",
     "height": 0
    },
    "colab_type": "code",
    "id": "1aMedXkjr9i4",
    "outputId": "46198fb0-d19b-40e4-a875-f849171bea7d"
   },
   "outputs": [
    {
     "data": {
      "text/html": [
       "<div>\n",
       "<style scoped>\n",
       "    .dataframe tbody tr th:only-of-type {\n",
       "        vertical-align: middle;\n",
       "    }\n",
       "\n",
       "    .dataframe tbody tr th {\n",
       "        vertical-align: top;\n",
       "    }\n",
       "\n",
       "    .dataframe thead th {\n",
       "        text-align: right;\n",
       "    }\n",
       "</style>\n",
       "<table border=\"1\" class=\"dataframe\">\n",
       "  <thead>\n",
       "    <tr style=\"text-align: right;\">\n",
       "      <th></th>\n",
       "      <th>Counts</th>\n",
       "    </tr>\n",
       "    <tr>\n",
       "      <th>Risk</th>\n",
       "      <th></th>\n",
       "    </tr>\n",
       "  </thead>\n",
       "  <tbody>\n",
       "    <tr>\n",
       "      <td>1.0</td>\n",
       "      <td>15594</td>\n",
       "    </tr>\n",
       "    <tr>\n",
       "      <td>2.0</td>\n",
       "      <td>6742</td>\n",
       "    </tr>\n",
       "    <tr>\n",
       "      <td>3.0</td>\n",
       "      <td>4732</td>\n",
       "    </tr>\n",
       "  </tbody>\n",
       "</table>\n",
       "</div>"
      ],
      "text/plain": [
       "      Counts\n",
       "Risk        \n",
       "1.0    15594\n",
       "2.0     6742\n",
       "3.0     4732"
      ]
     },
     "execution_count": 65,
     "metadata": {},
     "output_type": "execute_result"
    }
   ],
   "source": [
    "# Grouped by risk scores and number of facilities\n",
    "df_avg_risk_score1 = pd.DataFrame(df_avg_risk_score).apply(lambda x: round(x)).reset_index()\n",
    "df_avg_risk_score1 = pd.DataFrame(df_avg_risk_score1.groupby('Risk').count()['Latitude']).rename(columns={'Latitude':'Counts'})\n",
    "df_avg_risk_score1"
   ]
  },
  {
   "cell_type": "code",
   "execution_count": 66,
   "metadata": {
    "colab": {
     "base_uri": "https://localhost:8080/",
     "height": 0
    },
    "colab_type": "code",
    "id": "H-8wb6jkr9i6",
    "outputId": "65fe21ff-ff32-4d6e-b57c-f9eb105632d4"
   },
   "outputs": [
    {
     "data": {
      "text/plain": [
       "<BarContainer object of 3 artists>"
      ]
     },
     "execution_count": 66,
     "metadata": {},
     "output_type": "execute_result"
    },
    {
     "data": {
      "image/png": "[encoded data removed]",
      "text/plain": [
       "<Figure size 432x288 with 1 Axes>"
      ]
     },
     "metadata": {
      "needs_background": "light"
     },
     "output_type": "display_data"
    }
   ],
   "source": [
    "plt.bar(df_avg_risk_score1.index,df_avg_risk_score1['Counts'])"
   ]
  },
  {
   "cell_type": "markdown",
   "metadata": {
    "colab_type": "text",
    "id": "Fi_AiSyn5Qkm"
   },
   "source": [
    "### **Different Branches vs. Risk Score**"
   ]
  },
  {
   "cell_type": "markdown",
   "metadata": {
    "colab_type": "text",
    "id": "I2FKMuipNzKH"
   },
   "source": [
    "For the next milestone, we want to analyze the average risk score of a facility between its different branches."
   ]
  },
  {
   "cell_type": "code",
   "execution_count": 67,
   "metadata": {
    "colab": {},
    "colab_type": "code",
    "id": "s4zsIpOw5jtD"
   },
   "outputs": [],
   "source": [
    "# Identify the facility with the highest number of branches\n",
    "#grouped_name = df.groupby('DBA Name').count()\n",
    "grouped_unique_name = pd.DataFrame(df.groupby('DBA Name').count().rename(columns={'Risk':'Counts'})['Counts']).sort_values(by='Counts',ascending=False).reset_index()\n",
    "grouped_unique_facility = pd.DataFrame(df.groupby(['Latitude','Longitude','DBA Name']).count().rename(columns={'Risk':'Counts'})['Counts']).sort_values(by='Counts',ascending=False).reset_index()"
   ]
  },
  {
   "cell_type": "markdown",
   "metadata": {
    "colab_type": "text",
    "id": "NGrrO4kM9WXs"
   },
   "source": [
    "We will be investigating the facility (chain) with the highest number of branches to see if there is any difference in the risk scores of its branches. "
   ]
  },
  {
   "cell_type": "code",
   "execution_count": 68,
   "metadata": {
    "colab": {
     "base_uri": "https://localhost:8080/",
     "height": 0
    },
    "colab_type": "code",
    "id": "FQg4wd2s5YDQ",
    "outputId": "bb79045f-d0f0-43e3-d105-22aac6a1ff10"
   },
   "outputs": [
    {
     "data": {
      "text/html": [
       "<div>\n",
       "<style scoped>\n",
       "    .dataframe tbody tr th:only-of-type {\n",
       "        vertical-align: middle;\n",
       "    }\n",
       "\n",
       "    .dataframe tbody tr th {\n",
       "        vertical-align: top;\n",
       "    }\n",
       "\n",
       "    .dataframe thead th {\n",
       "        text-align: right;\n",
       "    }\n",
       "</style>\n",
       "<table border=\"1\" class=\"dataframe\">\n",
       "  <thead>\n",
       "    <tr style=\"text-align: right;\">\n",
       "      <th></th>\n",
       "      <th>DBA Name</th>\n",
       "      <th>Counts</th>\n",
       "    </tr>\n",
       "  </thead>\n",
       "  <tbody>\n",
       "    <tr>\n",
       "      <td>0</td>\n",
       "      <td>SUBWAY</td>\n",
       "      <td>4069</td>\n",
       "    </tr>\n",
       "    <tr>\n",
       "      <td>1</td>\n",
       "      <td>DUNKIN DONUTS</td>\n",
       "      <td>2259</td>\n",
       "    </tr>\n",
       "    <tr>\n",
       "      <td>2</td>\n",
       "      <td>MCDONALDS</td>\n",
       "      <td>2216</td>\n",
       "    </tr>\n",
       "    <tr>\n",
       "      <td>3</td>\n",
       "      <td>7-ELEVEN</td>\n",
       "      <td>1410</td>\n",
       "    </tr>\n",
       "    <tr>\n",
       "      <td>4</td>\n",
       "      <td>STARBUCKS</td>\n",
       "      <td>1398</td>\n",
       "    </tr>\n",
       "  </tbody>\n",
       "</table>\n",
       "</div>"
      ],
      "text/plain": [
       "        DBA Name  Counts\n",
       "0         SUBWAY    4069\n",
       "1  DUNKIN DONUTS    2259\n",
       "2      MCDONALDS    2216\n",
       "3       7-ELEVEN    1410\n",
       "4      STARBUCKS    1398"
      ]
     },
     "execution_count": 68,
     "metadata": {},
     "output_type": "execute_result"
    }
   ],
   "source": [
    "# The facilities with the highest number of inspections (chain)\n",
    "grouped_unique_name.head()"
   ]
  },
  {
   "cell_type": "code",
   "execution_count": 69,
   "metadata": {
    "colab": {
     "base_uri": "https://localhost:8080/",
     "height": 0
    },
    "colab_type": "code",
    "id": "ahCqevsq6G-T",
    "outputId": "88120662-480b-4b4e-9e58-66e6568c28f8"
   },
   "outputs": [
    {
     "data": {
      "text/html": [
       "<div>\n",
       "<style scoped>\n",
       "    .dataframe tbody tr th:only-of-type {\n",
       "        vertical-align: middle;\n",
       "    }\n",
       "\n",
       "    .dataframe tbody tr th {\n",
       "        vertical-align: top;\n",
       "    }\n",
       "\n",
       "    .dataframe thead th {\n",
       "        text-align: right;\n",
       "    }\n",
       "</style>\n",
       "<table border=\"1\" class=\"dataframe\">\n",
       "  <thead>\n",
       "    <tr style=\"text-align: right;\">\n",
       "      <th></th>\n",
       "      <th>Latitude</th>\n",
       "      <th>Longitude</th>\n",
       "      <th>DBA Name</th>\n",
       "      <th>Counts</th>\n",
       "    </tr>\n",
       "  </thead>\n",
       "  <tbody>\n",
       "    <tr>\n",
       "      <td>0</td>\n",
       "      <td>41.862628</td>\n",
       "      <td>-87.615031</td>\n",
       "      <td>SPORT SERVICE SOLDIER FIELD</td>\n",
       "      <td>197</td>\n",
       "    </tr>\n",
       "    <tr>\n",
       "      <td>1</td>\n",
       "      <td>41.830784</td>\n",
       "      <td>-87.635296</td>\n",
       "      <td>ILLINOIS SPORTSERVICE</td>\n",
       "      <td>173</td>\n",
       "    </tr>\n",
       "    <tr>\n",
       "      <td>2</td>\n",
       "      <td>42.008536</td>\n",
       "      <td>-87.914428</td>\n",
       "      <td>STARBUCKS</td>\n",
       "      <td>159</td>\n",
       "    </tr>\n",
       "    <tr>\n",
       "      <td>3</td>\n",
       "      <td>41.947317</td>\n",
       "      <td>-87.656418</td>\n",
       "      <td>LEVY RESTAURANTS</td>\n",
       "      <td>148</td>\n",
       "    </tr>\n",
       "    <tr>\n",
       "      <td>4</td>\n",
       "      <td>42.008536</td>\n",
       "      <td>-87.914428</td>\n",
       "      <td>MCDONALDS</td>\n",
       "      <td>148</td>\n",
       "    </tr>\n",
       "  </tbody>\n",
       "</table>\n",
       "</div>"
      ],
      "text/plain": [
       "    Latitude  Longitude                     DBA Name  Counts\n",
       "0  41.862628 -87.615031  SPORT SERVICE SOLDIER FIELD     197\n",
       "1  41.830784 -87.635296        ILLINOIS SPORTSERVICE     173\n",
       "2  42.008536 -87.914428                    STARBUCKS     159\n",
       "3  41.947317 -87.656418             LEVY RESTAURANTS     148\n",
       "4  42.008536 -87.914428                    MCDONALDS     148"
      ]
     },
     "execution_count": 69,
     "metadata": {},
     "output_type": "execute_result"
    }
   ],
   "source": [
    "# The facilities with the highest number of inspections (unique)\n",
    "grouped_unique_facility.head()"
   ]
  },
  {
   "cell_type": "markdown",
   "metadata": {
    "colab_type": "text",
    "id": "_n637CHg_9jG"
   },
   "source": [
    "### **Type of Facility vs. Percentage of Going Out of Business**"
   ]
  },
  {
   "cell_type": "code",
   "execution_count": 70,
   "metadata": {
    "colab": {
     "base_uri": "https://localhost:8080/",
     "height": 0
    },
    "colab_type": "code",
    "id": "hU9hCSduAtKO",
    "outputId": "888be129-ba4b-4142-db50-cafa20f905e9"
   },
   "outputs": [
    {
     "data": {
      "text/html": [
       "<div>\n",
       "<style scoped>\n",
       "    .dataframe tbody tr th:only-of-type {\n",
       "        vertical-align: middle;\n",
       "    }\n",
       "\n",
       "    .dataframe tbody tr th {\n",
       "        vertical-align: top;\n",
       "    }\n",
       "\n",
       "    .dataframe thead th {\n",
       "        text-align: right;\n",
       "    }\n",
       "</style>\n",
       "<table border=\"1\" class=\"dataframe\">\n",
       "  <thead>\n",
       "    <tr style=\"text-align: right;\">\n",
       "      <th></th>\n",
       "      <th>Facility Type</th>\n",
       "      <th>Counts</th>\n",
       "    </tr>\n",
       "  </thead>\n",
       "  <tbody>\n",
       "    <tr>\n",
       "      <td>0</td>\n",
       "      <td>RESTAURANT</td>\n",
       "      <td>131852</td>\n",
       "    </tr>\n",
       "    <tr>\n",
       "      <td>1</td>\n",
       "      <td>RETAIL STORE</td>\n",
       "      <td>25635</td>\n",
       "    </tr>\n",
       "    <tr>\n",
       "      <td>2</td>\n",
       "      <td>SCHOOL</td>\n",
       "      <td>12054</td>\n",
       "    </tr>\n",
       "    <tr>\n",
       "      <td>3</td>\n",
       "      <td>DAYCARE</td>\n",
       "      <td>9537</td>\n",
       "    </tr>\n",
       "    <tr>\n",
       "      <td>4</td>\n",
       "      <td>BAKERY</td>\n",
       "      <td>2923</td>\n",
       "    </tr>\n",
       "  </tbody>\n",
       "</table>\n",
       "</div>"
      ],
      "text/plain": [
       "  Facility Type  Counts\n",
       "0    RESTAURANT  131852\n",
       "1  RETAIL STORE   25635\n",
       "2        SCHOOL   12054\n",
       "3       DAYCARE    9537\n",
       "4        BAKERY    2923"
      ]
     },
     "execution_count": 70,
     "metadata": {},
     "output_type": "execute_result"
    }
   ],
   "source": [
    "# Data grouped by the facility type\n",
    "fac_dist.head()"
   ]
  },
  {
   "cell_type": "code",
   "execution_count": 72,
   "metadata": {
    "colab": {},
    "colab_type": "code",
    "id": "-sqDIFO0A4IU"
   },
   "outputs": [],
   "source": [
    "# Group out of business facilities on facility type\n",
    "df_oob_fac = pd.DataFrame(df_oob.groupby('Facility Type').count().rename(columns={'Risk':'Counts'})['Counts'])\n",
    "merged_fac_oob = pd.merge(left=df_oob_fac.reset_index(), right=fac_dist.reset_index(),left_on=['Facility Type'],right_on=['Facility Type'])"
   ]
  },
  {
   "cell_type": "code",
   "execution_count": 73,
   "metadata": {
    "colab": {
     "base_uri": "https://localhost:8080/",
     "height": 0
    },
    "colab_type": "code",
    "id": "A87w-TYQAvyu",
    "outputId": "0ab54d7a-de34-47d1-c594-f8b96ce49201"
   },
   "outputs": [
    {
     "data": {
      "text/html": [
       "<div>\n",
       "<style scoped>\n",
       "    .dataframe tbody tr th:only-of-type {\n",
       "        vertical-align: middle;\n",
       "    }\n",
       "\n",
       "    .dataframe tbody tr th {\n",
       "        vertical-align: top;\n",
       "    }\n",
       "\n",
       "    .dataframe thead th {\n",
       "        text-align: right;\n",
       "    }\n",
       "</style>\n",
       "<table border=\"1\" class=\"dataframe\">\n",
       "  <thead>\n",
       "    <tr style=\"text-align: right;\">\n",
       "      <th></th>\n",
       "      <th>Facility Type</th>\n",
       "      <th>Counts_x</th>\n",
       "      <th>index</th>\n",
       "      <th>Counts_y</th>\n",
       "    </tr>\n",
       "  </thead>\n",
       "  <tbody>\n",
       "    <tr>\n",
       "      <td>0</td>\n",
       "      <td>ADULT FAMILY CARE CENTER</td>\n",
       "      <td>1</td>\n",
       "      <td>80</td>\n",
       "      <td>3</td>\n",
       "    </tr>\n",
       "    <tr>\n",
       "      <td>1</td>\n",
       "      <td>ASSISTED LIVING/NURSING HOME</td>\n",
       "      <td>4</td>\n",
       "      <td>21</td>\n",
       "      <td>95</td>\n",
       "    </tr>\n",
       "    <tr>\n",
       "      <td>2</td>\n",
       "      <td>BAKERY</td>\n",
       "      <td>249</td>\n",
       "      <td>4</td>\n",
       "      <td>2923</td>\n",
       "    </tr>\n",
       "    <tr>\n",
       "      <td>3</td>\n",
       "      <td>BANQUET</td>\n",
       "      <td>19</td>\n",
       "      <td>13</td>\n",
       "      <td>338</td>\n",
       "    </tr>\n",
       "    <tr>\n",
       "      <td>4</td>\n",
       "      <td>BAR</td>\n",
       "      <td>6</td>\n",
       "      <td>24</td>\n",
       "      <td>81</td>\n",
       "    </tr>\n",
       "  </tbody>\n",
       "</table>\n",
       "</div>"
      ],
      "text/plain": [
       "                  Facility Type  Counts_x  index  Counts_y\n",
       "0      ADULT FAMILY CARE CENTER         1     80         3\n",
       "1  ASSISTED LIVING/NURSING HOME         4     21        95\n",
       "2                        BAKERY       249      4      2923\n",
       "3                       BANQUET        19     13       338\n",
       "4                           BAR         6     24        81"
      ]
     },
     "execution_count": 73,
     "metadata": {},
     "output_type": "execute_result"
    }
   ],
   "source": [
    "merged_fac_oob.head()"
   ]
  },
  {
   "cell_type": "code",
   "execution_count": 74,
   "metadata": {
    "colab": {},
    "colab_type": "code",
    "id": "le_INawoDHVL"
   },
   "outputs": [],
   "source": [
    "merged_fac_oob['Oob Ratio'] = merged_fac_oob['Counts_x'].divide(merged_fac_oob['Counts_y'], fill_value=1)"
   ]
  },
  {
   "cell_type": "code",
   "execution_count": 75,
   "metadata": {
    "colab": {
     "base_uri": "https://localhost:8080/",
     "height": 0
    },
    "colab_type": "code",
    "id": "qlwbJvSnDrT1",
    "outputId": "beb05559-8d8b-4b3e-924b-1e48f176655c"
   },
   "outputs": [
    {
     "data": {
      "text/html": [
       "<div>\n",
       "<style scoped>\n",
       "    .dataframe tbody tr th:only-of-type {\n",
       "        vertical-align: middle;\n",
       "    }\n",
       "\n",
       "    .dataframe tbody tr th {\n",
       "        vertical-align: top;\n",
       "    }\n",
       "\n",
       "    .dataframe thead th {\n",
       "        text-align: right;\n",
       "    }\n",
       "</style>\n",
       "<table border=\"1\" class=\"dataframe\">\n",
       "  <thead>\n",
       "    <tr style=\"text-align: right;\">\n",
       "      <th></th>\n",
       "      <th>Facility Type</th>\n",
       "      <th>Counts_x</th>\n",
       "      <th>Counts_y</th>\n",
       "      <th>Oob Ratio</th>\n",
       "    </tr>\n",
       "  </thead>\n",
       "  <tbody>\n",
       "    <tr>\n",
       "      <td>26</td>\n",
       "      <td>HEALTH CENTER/NUTRITION CLASSES</td>\n",
       "      <td>1</td>\n",
       "      <td>1</td>\n",
       "      <td>1.000000</td>\n",
       "    </tr>\n",
       "    <tr>\n",
       "      <td>37</td>\n",
       "      <td>MEAT MARKET</td>\n",
       "      <td>1</td>\n",
       "      <td>1</td>\n",
       "      <td>1.000000</td>\n",
       "    </tr>\n",
       "    <tr>\n",
       "      <td>44</td>\n",
       "      <td>PANTRY</td>\n",
       "      <td>5</td>\n",
       "      <td>9</td>\n",
       "      <td>0.555556</td>\n",
       "    </tr>\n",
       "    <tr>\n",
       "      <td>46</td>\n",
       "      <td>POOL</td>\n",
       "      <td>3</td>\n",
       "      <td>6</td>\n",
       "      <td>0.500000</td>\n",
       "    </tr>\n",
       "    <tr>\n",
       "      <td>11</td>\n",
       "      <td>CHILDERN ACTIVITY FACILITY</td>\n",
       "      <td>1</td>\n",
       "      <td>2</td>\n",
       "      <td>0.500000</td>\n",
       "    </tr>\n",
       "  </tbody>\n",
       "</table>\n",
       "</div>"
      ],
      "text/plain": [
       "                      Facility Type  Counts_x  Counts_y  Oob Ratio\n",
       "26  HEALTH CENTER/NUTRITION CLASSES         1         1   1.000000\n",
       "37                      MEAT MARKET         1         1   1.000000\n",
       "44                           PANTRY         5         9   0.555556\n",
       "46                             POOL         3         6   0.500000\n",
       "11       CHILDERN ACTIVITY FACILITY         1         2   0.500000"
      ]
     },
     "execution_count": 75,
     "metadata": {},
     "output_type": "execute_result"
    }
   ],
   "source": [
    "merged_fac_oob.sort_values(by='Oob Ratio', ascending=False).drop(columns='index').head()"
   ]
  },
  {
   "cell_type": "code",
   "execution_count": 76,
   "metadata": {
    "colab": {
     "base_uri": "https://localhost:8080/",
     "height": 0
    },
    "colab_type": "code",
    "id": "VRWfp0XxFLV1",
    "outputId": "cdc0659a-1595-4f8b-cf72-d38417467b37"
   },
   "outputs": [
    {
     "data": {
      "text/html": [
       "<div>\n",
       "<style scoped>\n",
       "    .dataframe tbody tr th:only-of-type {\n",
       "        vertical-align: middle;\n",
       "    }\n",
       "\n",
       "    .dataframe tbody tr th {\n",
       "        vertical-align: top;\n",
       "    }\n",
       "\n",
       "    .dataframe thead th {\n",
       "        text-align: right;\n",
       "    }\n",
       "</style>\n",
       "<table border=\"1\" class=\"dataframe\">\n",
       "  <thead>\n",
       "    <tr style=\"text-align: right;\">\n",
       "      <th></th>\n",
       "      <th>Oob Ratio</th>\n",
       "      <th>Counts_y</th>\n",
       "    </tr>\n",
       "  </thead>\n",
       "  <tbody>\n",
       "    <tr>\n",
       "      <td>Oob Ratio</td>\n",
       "      <td>1.000000</td>\n",
       "      <td>-0.097432</td>\n",
       "    </tr>\n",
       "    <tr>\n",
       "      <td>Counts_y</td>\n",
       "      <td>-0.097432</td>\n",
       "      <td>1.000000</td>\n",
       "    </tr>\n",
       "  </tbody>\n",
       "</table>\n",
       "</div>"
      ],
      "text/plain": [
       "           Oob Ratio  Counts_y\n",
       "Oob Ratio   1.000000 -0.097432\n",
       "Counts_y   -0.097432  1.000000"
      ]
     },
     "execution_count": 76,
     "metadata": {},
     "output_type": "execute_result"
    }
   ],
   "source": [
    "merged_fac_oob[['Oob Ratio', 'Counts_y']].corr(method='pearson')"
   ]
  },
  {
   "cell_type": "markdown",
   "metadata": {
    "colab_type": "text",
    "id": "DTiyvgeeHIX5"
   },
   "source": [
    "We wanted to identify a possible correlation between the type of facility and the percentage of going out of business. However, when we calculated the pearson's correlation factor, we observed no correlation."
   ]
  },
  {
   "cell_type": "markdown",
   "metadata": {
    "colab_type": "text",
    "id": "PZh_kj61J8BC"
   },
   "source": [
    "### **Percentage of Going Out of Business vs. Average Risk Score**"
   ]
  },
  {
   "cell_type": "code",
   "execution_count": 77,
   "metadata": {
    "colab": {},
    "colab_type": "code",
    "id": "3QgEx1ESKmkZ"
   },
   "outputs": [],
   "source": [
    "# Merge the out of business facility types with their average risk scores\n",
    "fac_oob_risk = pd.merge(left=merged_fac_oob.reset_index(), right=grouped_fac_risk_mean.reset_index(),left_on=['Facility Type'],right_on=['Facility Type'])"
   ]
  },
  {
   "cell_type": "code",
   "execution_count": 78,
   "metadata": {
    "colab": {
     "base_uri": "https://localhost:8080/",
     "height": 0
    },
    "colab_type": "code",
    "id": "wfajDTtELI6m",
    "outputId": "240ae879-385f-4472-a722-a648e9e3fb29"
   },
   "outputs": [
    {
     "data": {
      "text/html": [
       "<div>\n",
       "<style scoped>\n",
       "    .dataframe tbody tr th:only-of-type {\n",
       "        vertical-align: middle;\n",
       "    }\n",
       "\n",
       "    .dataframe tbody tr th {\n",
       "        vertical-align: top;\n",
       "    }\n",
       "\n",
       "    .dataframe thead th {\n",
       "        text-align: right;\n",
       "    }\n",
       "</style>\n",
       "<table border=\"1\" class=\"dataframe\">\n",
       "  <thead>\n",
       "    <tr style=\"text-align: right;\">\n",
       "      <th></th>\n",
       "      <th>level_0</th>\n",
       "      <th>Facility Type</th>\n",
       "      <th>Oob Count</th>\n",
       "      <th>Total Count</th>\n",
       "      <th>Oob Ratio</th>\n",
       "      <th>Risk</th>\n",
       "    </tr>\n",
       "  </thead>\n",
       "  <tbody>\n",
       "    <tr>\n",
       "      <td>0</td>\n",
       "      <td>0</td>\n",
       "      <td>ADULT FAMILY CARE CENTER</td>\n",
       "      <td>1</td>\n",
       "      <td>3</td>\n",
       "      <td>0.333333</td>\n",
       "      <td>1.000000</td>\n",
       "    </tr>\n",
       "    <tr>\n",
       "      <td>1</td>\n",
       "      <td>1</td>\n",
       "      <td>ASSISTED LIVING/NURSING HOME</td>\n",
       "      <td>4</td>\n",
       "      <td>95</td>\n",
       "      <td>0.042105</td>\n",
       "      <td>1.000000</td>\n",
       "    </tr>\n",
       "    <tr>\n",
       "      <td>2</td>\n",
       "      <td>2</td>\n",
       "      <td>BAKERY</td>\n",
       "      <td>249</td>\n",
       "      <td>2923</td>\n",
       "      <td>0.085186</td>\n",
       "      <td>1.629490</td>\n",
       "    </tr>\n",
       "    <tr>\n",
       "      <td>3</td>\n",
       "      <td>3</td>\n",
       "      <td>BANQUET</td>\n",
       "      <td>19</td>\n",
       "      <td>338</td>\n",
       "      <td>0.056213</td>\n",
       "      <td>1.118343</td>\n",
       "    </tr>\n",
       "    <tr>\n",
       "      <td>4</td>\n",
       "      <td>4</td>\n",
       "      <td>BAR</td>\n",
       "      <td>6</td>\n",
       "      <td>81</td>\n",
       "      <td>0.074074</td>\n",
       "      <td>2.135802</td>\n",
       "    </tr>\n",
       "  </tbody>\n",
       "</table>\n",
       "</div>"
      ],
      "text/plain": [
       "   level_0                 Facility Type  Oob Count  Total Count  Oob Ratio  \\\n",
       "0        0      ADULT FAMILY CARE CENTER          1            3   0.333333   \n",
       "1        1  ASSISTED LIVING/NURSING HOME          4           95   0.042105   \n",
       "2        2                        BAKERY        249         2923   0.085186   \n",
       "3        3                       BANQUET         19          338   0.056213   \n",
       "4        4                           BAR          6           81   0.074074   \n",
       "\n",
       "       Risk  \n",
       "0  1.000000  \n",
       "1  1.000000  \n",
       "2  1.629490  \n",
       "3  1.118343  \n",
       "4  2.135802  "
      ]
     },
     "execution_count": 78,
     "metadata": {},
     "output_type": "execute_result"
    }
   ],
   "source": [
    "fac_oob_risk.drop(columns=['index_x', 'index_y']).rename(columns={'Counts_x':'Oob Count', 'Counts_y':'Total Count'}).head()"
   ]
  },
  {
   "cell_type": "code",
   "execution_count": 80,
   "metadata": {
    "colab": {
     "base_uri": "https://localhost:8080/",
     "height": 0
    },
    "colab_type": "code",
    "id": "d1Bbc2-iLKKi",
    "outputId": "0add0a0d-18d5-4d71-f61b-8e1f029e02f7"
   },
   "outputs": [
    {
     "data": {
      "text/html": [
       "<div>\n",
       "<style scoped>\n",
       "    .dataframe tbody tr th:only-of-type {\n",
       "        vertical-align: middle;\n",
       "    }\n",
       "\n",
       "    .dataframe tbody tr th {\n",
       "        vertical-align: top;\n",
       "    }\n",
       "\n",
       "    .dataframe thead th {\n",
       "        text-align: right;\n",
       "    }\n",
       "</style>\n",
       "<table border=\"1\" class=\"dataframe\">\n",
       "  <thead>\n",
       "    <tr style=\"text-align: right;\">\n",
       "      <th></th>\n",
       "      <th>Oob Ratio</th>\n",
       "      <th>Risk</th>\n",
       "    </tr>\n",
       "  </thead>\n",
       "  <tbody>\n",
       "    <tr>\n",
       "      <td>Oob Ratio</td>\n",
       "      <td>1.000000</td>\n",
       "      <td>0.130418</td>\n",
       "    </tr>\n",
       "    <tr>\n",
       "      <td>Risk</td>\n",
       "      <td>0.130418</td>\n",
       "      <td>1.000000</td>\n",
       "    </tr>\n",
       "  </tbody>\n",
       "</table>\n",
       "</div>"
      ],
      "text/plain": [
       "           Oob Ratio      Risk\n",
       "Oob Ratio   1.000000  0.130418\n",
       "Risk        0.130418  1.000000"
      ]
     },
     "execution_count": 80,
     "metadata": {},
     "output_type": "execute_result"
    }
   ],
   "source": [
    "fac_oob_risk[['Oob Ratio', 'Risk']].corr(method='pearson')"
   ]
  },
  {
   "cell_type": "markdown",
   "metadata": {
    "colab_type": "text",
    "id": "c74wraFTNRcp"
   },
   "source": [
    "We wanted to identify a possible correlation between the out of business ratio and the risk of the type of facility. However, when we calculated the pearson's correlation factor, we observed no correlation.\n",
    "\n"
   ]
  },
  {
   "cell_type": "markdown",
   "metadata": {
    "colab_type": "text",
    "id": "PixL067182Vq"
   },
   "source": [
    "## **Violation Type Analysis**"
   ]
  },
  {
   "cell_type": "markdown",
   "metadata": {
    "colab_type": "text",
    "id": "WRjDeP-k4NAn"
   },
   "source": [
    "### **Violations analysis - facilities that have gone out of business**"
   ]
  },
  {
   "cell_type": "code",
   "execution_count": 81,
   "metadata": {
    "colab": {
     "base_uri": "https://localhost:8080/",
     "height": 1000
    },
    "colab_type": "code",
    "id": "8WiNcwRD9xyd",
    "outputId": "7472cce8-20df-4027-8493-b66117c4011e"
   },
   "outputs": [
    {
     "data": {
      "text/html": [
       "<div>\n",
       "<style scoped>\n",
       "    .dataframe tbody tr th:only-of-type {\n",
       "        vertical-align: middle;\n",
       "    }\n",
       "\n",
       "    .dataframe tbody tr th {\n",
       "        vertical-align: top;\n",
       "    }\n",
       "\n",
       "    .dataframe thead th {\n",
       "        text-align: right;\n",
       "    }\n",
       "</style>\n",
       "<table border=\"1\" class=\"dataframe\">\n",
       "  <thead>\n",
       "    <tr style=\"text-align: right;\">\n",
       "      <th></th>\n",
       "      <th>Latitude</th>\n",
       "      <th>Longitude</th>\n",
       "      <th>DBA Name</th>\n",
       "      <th>Inspection ID</th>\n",
       "      <th>AKA Name</th>\n",
       "      <th>License #</th>\n",
       "      <th>Facility Type</th>\n",
       "      <th>Risk</th>\n",
       "      <th>Address</th>\n",
       "      <th>Zip</th>\n",
       "      <th>Inspection Date</th>\n",
       "      <th>Inspection Type</th>\n",
       "      <th>Results</th>\n",
       "      <th>Violations</th>\n",
       "      <th>Location</th>\n",
       "      <th>Regions</th>\n",
       "    </tr>\n",
       "  </thead>\n",
       "  <tbody>\n",
       "    <tr>\n",
       "      <td>0</td>\n",
       "      <td>41.64467</td>\n",
       "      <td>-87.540095</td>\n",
       "      <td>BURGER KING</td>\n",
       "      <td>2240219</td>\n",
       "      <td>BURGER KING</td>\n",
       "      <td>2368796.0</td>\n",
       "      <td>RESTAURANT</td>\n",
       "      <td>2</td>\n",
       "      <td>13770 S AVENUE O</td>\n",
       "      <td>60633.0</td>\n",
       "      <td>2018-11-15T00:00:00.000</td>\n",
       "      <td>COMPLAINT</td>\n",
       "      <td>Pass w/ Conditions</td>\n",
       "      <td>2. CITY OF CHICAGO FOOD SERVICE SANITATION CER...</td>\n",
       "      <td>{'latitude': '-87.5400946053766', 'longitude':...</td>\n",
       "      <td>Hegewisch</td>\n",
       "    </tr>\n",
       "    <tr>\n",
       "      <td>1</td>\n",
       "      <td>41.64467</td>\n",
       "      <td>-87.540095</td>\n",
       "      <td>BURGER KING</td>\n",
       "      <td>2200946</td>\n",
       "      <td>BURGER KING</td>\n",
       "      <td>2368796.0</td>\n",
       "      <td>RESTAURANT</td>\n",
       "      <td>2</td>\n",
       "      <td>13770 S AVENUE O</td>\n",
       "      <td>60633.0</td>\n",
       "      <td>2018-08-14T00:00:00.000</td>\n",
       "      <td>COMPLAINT</td>\n",
       "      <td>Pass w/ Conditions</td>\n",
       "      <td>2. CITY OF CHICAGO FOOD SERVICE SANITATION CER...</td>\n",
       "      <td>{'latitude': '-87.5400946053766', 'longitude':...</td>\n",
       "      <td>Hegewisch</td>\n",
       "    </tr>\n",
       "    <tr>\n",
       "      <td>2</td>\n",
       "      <td>41.64467</td>\n",
       "      <td>-87.540095</td>\n",
       "      <td>BURGER KING</td>\n",
       "      <td>1950282</td>\n",
       "      <td>BURGER KING</td>\n",
       "      <td>2368796.0</td>\n",
       "      <td>RESTAURANT</td>\n",
       "      <td>2</td>\n",
       "      <td>13770 S AVENUE O</td>\n",
       "      <td>60633.0</td>\n",
       "      <td>2016-08-12T00:00:00.000</td>\n",
       "      <td>CANVASS</td>\n",
       "      <td>Pass</td>\n",
       "      <td>34. FLOORS: CONSTRUCTED PER CODE, CLEANED, GOO...</td>\n",
       "      <td>{'latitude': '-87.5400946053766', 'longitude':...</td>\n",
       "      <td>Hegewisch</td>\n",
       "    </tr>\n",
       "    <tr>\n",
       "      <td>3</td>\n",
       "      <td>41.64467</td>\n",
       "      <td>-87.540095</td>\n",
       "      <td>BURGER KING</td>\n",
       "      <td>1523175</td>\n",
       "      <td>BURGER KING</td>\n",
       "      <td>2368796.0</td>\n",
       "      <td>RESTAURANT</td>\n",
       "      <td>2</td>\n",
       "      <td>13770 S AVENUE O</td>\n",
       "      <td>60633.0</td>\n",
       "      <td>2015-02-23T00:00:00.000</td>\n",
       "      <td>LICENSE</td>\n",
       "      <td>Pass</td>\n",
       "      <td>33. FOOD AND NON-FOOD CONTACT EQUIPMENT UTENSI...</td>\n",
       "      <td>{'latitude': '-87.5400946053766', 'longitude':...</td>\n",
       "      <td>Hegewisch</td>\n",
       "    </tr>\n",
       "    <tr>\n",
       "      <td>4</td>\n",
       "      <td>41.64467</td>\n",
       "      <td>-87.540095</td>\n",
       "      <td>BURGER KING</td>\n",
       "      <td>1527281</td>\n",
       "      <td>BURGER KING #7268</td>\n",
       "      <td>1473518.0</td>\n",
       "      <td>RESTAURANT</td>\n",
       "      <td>2</td>\n",
       "      <td>13770 S AVENUE O</td>\n",
       "      <td>60633.0</td>\n",
       "      <td>2015-02-23T00:00:00.000</td>\n",
       "      <td>CANVASS</td>\n",
       "      <td>Out of Business</td>\n",
       "      <td>NaN</td>\n",
       "      <td>{'latitude': '-87.5400946053766', 'longitude':...</td>\n",
       "      <td>Hegewisch</td>\n",
       "    </tr>\n",
       "    <tr>\n",
       "      <td>5</td>\n",
       "      <td>41.64467</td>\n",
       "      <td>-87.540095</td>\n",
       "      <td>BURGER KING</td>\n",
       "      <td>1494060</td>\n",
       "      <td>BURGER KING #7268</td>\n",
       "      <td>1473518.0</td>\n",
       "      <td>RESTAURANT</td>\n",
       "      <td>2</td>\n",
       "      <td>13770 S AVENUE O</td>\n",
       "      <td>60633.0</td>\n",
       "      <td>2014-08-26T00:00:00.000</td>\n",
       "      <td>CANVASS</td>\n",
       "      <td>Pass</td>\n",
       "      <td>NaN</td>\n",
       "      <td>{'latitude': '-87.5400946053766', 'longitude':...</td>\n",
       "      <td>Hegewisch</td>\n",
       "    </tr>\n",
       "    <tr>\n",
       "      <td>6</td>\n",
       "      <td>41.64467</td>\n",
       "      <td>-87.540095</td>\n",
       "      <td>BURGER KING</td>\n",
       "      <td>1493718</td>\n",
       "      <td>BURGER KING #7268</td>\n",
       "      <td>1473518.0</td>\n",
       "      <td>RESTAURANT</td>\n",
       "      <td>2</td>\n",
       "      <td>13770 S AVENUE O</td>\n",
       "      <td>60633.0</td>\n",
       "      <td>2014-08-18T00:00:00.000</td>\n",
       "      <td>CANVASS</td>\n",
       "      <td>Fail</td>\n",
       "      <td>12. HAND WASHING FACILITIES: WITH SOAP AND SAN...</td>\n",
       "      <td>{'latitude': '-87.5400946053766', 'longitude':...</td>\n",
       "      <td>Hegewisch</td>\n",
       "    </tr>\n",
       "    <tr>\n",
       "      <td>7</td>\n",
       "      <td>41.64467</td>\n",
       "      <td>-87.540095</td>\n",
       "      <td>BURGER KING</td>\n",
       "      <td>1300984</td>\n",
       "      <td>BURGER KING #7268</td>\n",
       "      <td>1473518.0</td>\n",
       "      <td>RESTAURANT</td>\n",
       "      <td>2</td>\n",
       "      <td>13770 S AVENUE O</td>\n",
       "      <td>60633.0</td>\n",
       "      <td>2012-12-19T00:00:00.000</td>\n",
       "      <td>CANVASS</td>\n",
       "      <td>Pass w/ Conditions</td>\n",
       "      <td>21. * CERTIFIED FOOD MANAGER ON SITE WHEN POTE...</td>\n",
       "      <td>{'latitude': '-87.5400946053766', 'longitude':...</td>\n",
       "      <td>Hegewisch</td>\n",
       "    </tr>\n",
       "    <tr>\n",
       "      <td>8</td>\n",
       "      <td>41.64467</td>\n",
       "      <td>-87.540095</td>\n",
       "      <td>BURGER KING</td>\n",
       "      <td>537818</td>\n",
       "      <td>BURGER KING #7268</td>\n",
       "      <td>1473518.0</td>\n",
       "      <td>RESTAURANT</td>\n",
       "      <td>2</td>\n",
       "      <td>13770 S AVENUE O</td>\n",
       "      <td>60633.0</td>\n",
       "      <td>2012-01-10T00:00:00.000</td>\n",
       "      <td>COMPLAINT</td>\n",
       "      <td>Pass w/ Conditions</td>\n",
       "      <td>8. SANITIZING RINSE FOR EQUIPMENT AND UTENSILS...</td>\n",
       "      <td>{'latitude': '-87.5400946053766', 'longitude':...</td>\n",
       "      <td>Hegewisch</td>\n",
       "    </tr>\n",
       "    <tr>\n",
       "      <td>9</td>\n",
       "      <td>41.64467</td>\n",
       "      <td>-87.540095</td>\n",
       "      <td>BURGER KING</td>\n",
       "      <td>537384</td>\n",
       "      <td>BURGER KING #7268</td>\n",
       "      <td>1473518.0</td>\n",
       "      <td>RESTAURANT</td>\n",
       "      <td>2</td>\n",
       "      <td>13770 S AVENUE O</td>\n",
       "      <td>60633.0</td>\n",
       "      <td>2011-05-26T00:00:00.000</td>\n",
       "      <td>COMPLAINT</td>\n",
       "      <td>Pass</td>\n",
       "      <td>33. FOOD AND NON-FOOD CONTACT EQUIPMENT UTENSI...</td>\n",
       "      <td>{'latitude': '-87.5400946053766', 'longitude':...</td>\n",
       "      <td>Hegewisch</td>\n",
       "    </tr>\n",
       "  </tbody>\n",
       "</table>\n",
       "</div>"
      ],
      "text/plain": [
       "   Latitude  Longitude     DBA Name  Inspection ID           AKA Name  \\\n",
       "0  41.64467 -87.540095  BURGER KING        2240219        BURGER KING   \n",
       "1  41.64467 -87.540095  BURGER KING        2200946        BURGER KING   \n",
       "2  41.64467 -87.540095  BURGER KING        1950282        BURGER KING   \n",
       "3  41.64467 -87.540095  BURGER KING        1523175        BURGER KING   \n",
       "4  41.64467 -87.540095  BURGER KING        1527281  BURGER KING #7268   \n",
       "5  41.64467 -87.540095  BURGER KING        1494060  BURGER KING #7268   \n",
       "6  41.64467 -87.540095  BURGER KING        1493718  BURGER KING #7268   \n",
       "7  41.64467 -87.540095  BURGER KING        1300984  BURGER KING #7268   \n",
       "8  41.64467 -87.540095  BURGER KING         537818  BURGER KING #7268   \n",
       "9  41.64467 -87.540095  BURGER KING         537384  BURGER KING #7268   \n",
       "\n",
       "   License # Facility Type  Risk            Address      Zip  \\\n",
       "0  2368796.0    RESTAURANT     2  13770 S AVENUE O   60633.0   \n",
       "1  2368796.0    RESTAURANT     2  13770 S AVENUE O   60633.0   \n",
       "2  2368796.0    RESTAURANT     2  13770 S AVENUE O   60633.0   \n",
       "3  2368796.0    RESTAURANT     2  13770 S AVENUE O   60633.0   \n",
       "4  1473518.0    RESTAURANT     2  13770 S AVENUE O   60633.0   \n",
       "5  1473518.0    RESTAURANT     2  13770 S AVENUE O   60633.0   \n",
       "6  1473518.0    RESTAURANT     2  13770 S AVENUE O   60633.0   \n",
       "7  1473518.0    RESTAURANT     2  13770 S AVENUE O   60633.0   \n",
       "8  1473518.0    RESTAURANT     2  13770 S AVENUE O   60633.0   \n",
       "9  1473518.0    RESTAURANT     2  13770 S AVENUE O   60633.0   \n",
       "\n",
       "           Inspection Date Inspection Type             Results  \\\n",
       "0  2018-11-15T00:00:00.000       COMPLAINT  Pass w/ Conditions   \n",
       "1  2018-08-14T00:00:00.000       COMPLAINT  Pass w/ Conditions   \n",
       "2  2016-08-12T00:00:00.000         CANVASS                Pass   \n",
       "3  2015-02-23T00:00:00.000         LICENSE                Pass   \n",
       "4  2015-02-23T00:00:00.000         CANVASS     Out of Business   \n",
       "5  2014-08-26T00:00:00.000         CANVASS                Pass   \n",
       "6  2014-08-18T00:00:00.000         CANVASS                Fail   \n",
       "7  2012-12-19T00:00:00.000         CANVASS  Pass w/ Conditions   \n",
       "8  2012-01-10T00:00:00.000       COMPLAINT  Pass w/ Conditions   \n",
       "9  2011-05-26T00:00:00.000       COMPLAINT                Pass   \n",
       "\n",
       "                                          Violations  \\\n",
       "0  2. CITY OF CHICAGO FOOD SERVICE SANITATION CER...   \n",
       "1  2. CITY OF CHICAGO FOOD SERVICE SANITATION CER...   \n",
       "2  34. FLOORS: CONSTRUCTED PER CODE, CLEANED, GOO...   \n",
       "3  33. FOOD AND NON-FOOD CONTACT EQUIPMENT UTENSI...   \n",
       "4                                                NaN   \n",
       "5                                                NaN   \n",
       "6  12. HAND WASHING FACILITIES: WITH SOAP AND SAN...   \n",
       "7  21. * CERTIFIED FOOD MANAGER ON SITE WHEN POTE...   \n",
       "8  8. SANITIZING RINSE FOR EQUIPMENT AND UTENSILS...   \n",
       "9  33. FOOD AND NON-FOOD CONTACT EQUIPMENT UTENSI...   \n",
       "\n",
       "                                            Location    Regions  \n",
       "0  {'latitude': '-87.5400946053766', 'longitude':...  Hegewisch  \n",
       "1  {'latitude': '-87.5400946053766', 'longitude':...  Hegewisch  \n",
       "2  {'latitude': '-87.5400946053766', 'longitude':...  Hegewisch  \n",
       "3  {'latitude': '-87.5400946053766', 'longitude':...  Hegewisch  \n",
       "4  {'latitude': '-87.5400946053766', 'longitude':...  Hegewisch  \n",
       "5  {'latitude': '-87.5400946053766', 'longitude':...  Hegewisch  \n",
       "6  {'latitude': '-87.5400946053766', 'longitude':...  Hegewisch  \n",
       "7  {'latitude': '-87.5400946053766', 'longitude':...  Hegewisch  \n",
       "8  {'latitude': '-87.5400946053766', 'longitude':...  Hegewisch  \n",
       "9  {'latitude': '-87.5400946053766', 'longitude':...  Hegewisch  "
      ]
     },
     "execution_count": 81,
     "metadata": {},
     "output_type": "execute_result"
    }
   ],
   "source": [
    "df_oob_unique.reset_index(inplace=True)\n",
    "merged_oob = pd.merge(left=df_oob_unique[['Latitude', 'Longitude', 'DBA Name']], right=df, on=['Latitude', 'Longitude', 'DBA Name'])\n",
    "merged_oob.head(10)"
   ]
  },
  {
   "cell_type": "code",
   "execution_count": 450,
   "metadata": {
    "colab": {
     "base_uri": "https://localhost:8080/",
     "height": 1000
    },
    "colab_type": "code",
    "id": "dw11IqbDDp23",
    "outputId": "ccce1b71-6f34-47d4-f742-bd4b3bdce42a"
   },
   "outputs": [
    {
     "data": {
      "text/html": [
       "<div>\n",
       "<style scoped>\n",
       "    .dataframe tbody tr th:only-of-type {\n",
       "        vertical-align: middle;\n",
       "    }\n",
       "\n",
       "    .dataframe tbody tr th {\n",
       "        vertical-align: top;\n",
       "    }\n",
       "\n",
       "    .dataframe thead th {\n",
       "        text-align: right;\n",
       "    }\n",
       "</style>\n",
       "<table border=\"1\" class=\"dataframe\">\n",
       "  <thead>\n",
       "    <tr style=\"text-align: right;\">\n",
       "      <th></th>\n",
       "      <th>Latitude</th>\n",
       "      <th>Longitude</th>\n",
       "      <th>DBA Name</th>\n",
       "      <th>Inspection ID</th>\n",
       "      <th>AKA Name</th>\n",
       "      <th>License #</th>\n",
       "      <th>Facility Type</th>\n",
       "      <th>Risk</th>\n",
       "      <th>Address</th>\n",
       "      <th>Zip</th>\n",
       "      <th>Inspection Date</th>\n",
       "      <th>Inspection Type</th>\n",
       "      <th>Results</th>\n",
       "      <th>Violations</th>\n",
       "      <th>Location</th>\n",
       "      <th>Regions</th>\n",
       "    </tr>\n",
       "  </thead>\n",
       "  <tbody>\n",
       "    <tr>\n",
       "      <th>0</th>\n",
       "      <td>41.64467</td>\n",
       "      <td>-87.540095</td>\n",
       "      <td>BURGER KING</td>\n",
       "      <td>2240219</td>\n",
       "      <td>BURGER KING</td>\n",
       "      <td>2368796.0</td>\n",
       "      <td>RESTAURANT</td>\n",
       "      <td>2</td>\n",
       "      <td>13770 S AVENUE O</td>\n",
       "      <td>60633.0</td>\n",
       "      <td>2018-11-15T00:00:00.000</td>\n",
       "      <td>COMPLAINT</td>\n",
       "      <td>Pass w/ Conditions</td>\n",
       "      <td>2. CITY OF CHICAGO FOOD SERVICE SANITATION CERTIFICATE - Comments: NO CITY OF CHICAGO FOOD SERVICE MANAGERS CERTIFICATE ON PREMISES AS REQUIRED; MUST PROVIDE.  INSTRUCTED THE PIC THAT MANAGERS MUST HAVE A VALID CITY OF CHICAGO FOOD SERVICE MANAGERS CERTIFICATE WHILE ON DUTY AT ALL TIMES.  PRIORITY FOUNDATION VIOLATION 7-38-012 ISSUED. | 3. MANAGEMENT, FOOD EMPLOYEE AND CONDITIONAL EMPLOYEE; KNOWLEDGE, RESPONSIBILITIES AND REPORTING - Comments: : 2-102.14(A) NO EMPLOYEE HEALTH POLICY ON PREMISES AS REQUIRED; MUST PROVIDE. INSTRUCTED THE PIC TO PROVIDE DOCUMENTATION OF EMPLOYEES RESPONSIBILITY TO REPORT ANY ILLNESS TRANSMISSIBLE THROUGH FOOD. PRIORITY FOUNDATION 7-38-012(A) CITATION ISSUED.  VIOLATION PREVIOUSLY ISSUED ON AUGUST 14, 2018. | 5. PROCEDURES FOR RESPONDING TO VOMITING AND DIARRHEAL EVENTS - Comments: 2-501.11 NO VOMIT AND DIARRHEAL CLEAN UP PROCEDURE ON PREMISES AS REQUIRED; MUST PROVIDE. INSTRUCTED THE PIC THAT A VOMIT AND DIARRHEAL CLEAN UP PROCEDURE MUST BE DOCUMENTED AND THE NECESSARY SUPPLIES ON HAND IN THE EVENT OF A VOMIT OR DIARRHEAL INCIDENT ON PREMISES. PRIORITY FOUNDATION VIOLATION 7-38-005 CITATION ISSUED.    VIOLATION WAS PREVIOUSLY ISSUED ON AUGUST 14, 2018.</td>\n",
       "      <td>{'latitude': '-87.5400946053766', 'longitude': '41.64467013219805'}</td>\n",
       "      <td>Hegewisch</td>\n",
       "    </tr>\n",
       "    <tr>\n",
       "      <th>1</th>\n",
       "      <td>41.64467</td>\n",
       "      <td>-87.540095</td>\n",
       "      <td>BURGER KING</td>\n",
       "      <td>2200946</td>\n",
       "      <td>BURGER KING</td>\n",
       "      <td>2368796.0</td>\n",
       "      <td>RESTAURANT</td>\n",
       "      <td>2</td>\n",
       "      <td>13770 S AVENUE O</td>\n",
       "      <td>60633.0</td>\n",
       "      <td>2018-08-14T00:00:00.000</td>\n",
       "      <td>COMPLAINT</td>\n",
       "      <td>Pass w/ Conditions</td>\n",
       "      <td>2. CITY OF CHICAGO FOOD SERVICE SANITATION CERTIFICATE - Comments: 2-102.12 NO VALID CITY OF CHICAGO FOOD SERVICE SANITATION CERTIFICATES ON PREMISES.  THE PIC ON DUTY WAS UNABLE TO PRODUCE A VALID CITY OF CHICAGO FOOD SERVICE SANITATION CERTIFICATE.  NO OTHER PERSONS WERE ON DUTY THAT HAD A VALID CITY OF CHICAGO FOOD SERVICE SANITATION CERTIFICATE.  INSTRUCTED THAT A VALID CERTIFICATE MUST BE ON PREMISES AT ALL TIMES.  PRIORITY FOUNDATION VIOLATION ISSUED 7-38-012. | 3. MANAGEMENT, FOOD EMPLOYEE AND CONDITIONAL EMPLOYEE; KNOWLEDGE, RESPONSIBILITIES AND REPORTING - Comments: 2-102.14(A) NO EMPLOYEE HEALTH POLICY ON PREMISES AS RE1QUIRED; MUST PROVIDE.  INSTRUCTED THE PIC TO PROVIDE DOCUMENTATION OF EMPLOYEES RESPONSIBILITY TO REPORT ANY ILLNESS TRANSMISSIBLE THROUGH FOOD.  PRIORITY FOUNDATION 7-38-012(A) | 5. PROCEDURES FOR RESPONDING TO VOMITING AND DIARRHEAL EVENTS - Comments: 2-501.11 NO VOMIT AND DIARRHEAL CLEAN UP PROCEDURE ON PREMISES AS REQUIRED; MUST PROVIDE.  INSTRUCTED THE PIC THAT A VOMIT AND DIARRHEAL CLEAN UP PROCEDURE MUST BE DOCUMENTED AND THE NECESSARY SUPPLIES ON HAND IN THE EVENT OF A VOMIT OR DIARRHEAL INCIDENT ON PREMISES. PRIORITY FOUNDATION VIOLATION 7-38-005. | 49. NON-FOOD/FOOD CONTACT SURFACES CLEAN - Comments: 4-602.13  OBSERVED THE EXTERIOR SURFACES AND INTERIOR BOTTOM OF THE DEEP FRYERS IN NEED OF CLEANING TO REMOVE GREASE; CLEAN AND MAINTAIN. | 55. PHYSICAL FACILITIES INSTALLED, MAINTAINED &amp; CLEAN - Comments: 6-501.12  THE FLOORS UNDER AROUND AND BEHIND VARIOUS KITCHEN EQUIPMENT NEED CLEANING; ALSO FLOOR DRAINS THROUGHOUT THE KITCHEN NEED CLEANING; CLEAN AND MAINTAIN FLOORS AND FLOOR DRAINS.</td>\n",
       "      <td>{'latitude': '-87.5400946053766', 'longitude': '41.64467013219805'}</td>\n",
       "      <td>Hegewisch</td>\n",
       "    </tr>\n",
       "    <tr>\n",
       "      <th>2</th>\n",
       "      <td>41.64467</td>\n",
       "      <td>-87.540095</td>\n",
       "      <td>BURGER KING</td>\n",
       "      <td>1950282</td>\n",
       "      <td>BURGER KING</td>\n",
       "      <td>2368796.0</td>\n",
       "      <td>RESTAURANT</td>\n",
       "      <td>2</td>\n",
       "      <td>13770 S AVENUE O</td>\n",
       "      <td>60633.0</td>\n",
       "      <td>2016-08-12T00:00:00.000</td>\n",
       "      <td>CANVASS</td>\n",
       "      <td>Pass</td>\n",
       "      <td>34. FLOORS: CONSTRUCTED PER CODE, CLEANED, GOOD REPAIR, COVING INSTALLED, DUST-LESS CLEANING METHODS USED - Comments: FLOORS NEED CLEANING IN THE REAR STORAGE AREA ALONG THE WALL BASE UNDER STORAGE SHELVING AND IN THE PREP AREA AROUND THE COOKING EQUIPMENT TO REMOVE SPILLS,GREASE AND DEBRIS. ALSO CLEAN THE MATS IN THE WALK IN COOLER AND FREEZER TO REMOVE SPILLS. | 35. WALLS, CEILINGS, ATTACHED EQUIPMENT CONSTRUCTED PER CODE: GOOD REPAIR, SURFACES CLEAN AND DUST-LESS CLEANING METHODS - Comments: PIPING ALONG THE WALL BEHIND THE FRYER ARE ENCRUSTED WITH GREASE. MUST CLEAN AND MAINTAIN. | 38. VENTILATION: ROOMS AND EQUIPMENT VENTED AS REQUIRED: PLUMBING: INSTALLED AND MAINTAINED - Comments: NOTED A LEAK AT THE 3 COMPARTMENT SINK HOT WATER KNOB. MUST REPAIR AND MAINTAIN.</td>\n",
       "      <td>{'latitude': '-87.5400946053766', 'longitude': '41.64467013219805'}</td>\n",
       "      <td>Hegewisch</td>\n",
       "    </tr>\n",
       "    <tr>\n",
       "      <th>3</th>\n",
       "      <td>41.64467</td>\n",
       "      <td>-87.540095</td>\n",
       "      <td>BURGER KING</td>\n",
       "      <td>1523175</td>\n",
       "      <td>BURGER KING</td>\n",
       "      <td>2368796.0</td>\n",
       "      <td>RESTAURANT</td>\n",
       "      <td>2</td>\n",
       "      <td>13770 S AVENUE O</td>\n",
       "      <td>60633.0</td>\n",
       "      <td>2015-02-23T00:00:00.000</td>\n",
       "      <td>LICENSE</td>\n",
       "      <td>Pass</td>\n",
       "      <td>33. FOOD AND NON-FOOD CONTACT EQUIPMENT UTENSILS CLEAN, FREE OF ABRASIVE DETERGENTS - Comments: CLEAN THEBOTTOM COMPARTMENT OF DEEP FRYERS OF GREASE BUILD-UP AND CLEAN INTERIOR OF THE CHEST FREEZER AT PREP AREA,INSTRUCTED TO CLEAN AND MAINTAIN EQUIPMENT | 34. FLOORS: CONSTRUCTED PER CODE, CLEANED, GOOD REPAIR, COVING INSTALLED, DUST-LESS CLEANING METHODS USED - Comments: CLEAN THE FLOORS IN PREP AREA ,ALONG WALL BASE AND CORNERS IN PREP AREA AND REAR OF PREMISES | 45. FOOD HANDLER REQUIREMENTS MET - Comments: MUST PROVIDE THE FOOD HANDLERS CERTIFICATES OR PROOF OF ENROLLEMENT</td>\n",
       "      <td>{'latitude': '-87.5400946053766', 'longitude': '41.64467013219805'}</td>\n",
       "      <td>Hegewisch</td>\n",
       "    </tr>\n",
       "    <tr>\n",
       "      <th>4</th>\n",
       "      <td>41.64467</td>\n",
       "      <td>-87.540095</td>\n",
       "      <td>BURGER KING</td>\n",
       "      <td>1527281</td>\n",
       "      <td>BURGER KING #7268</td>\n",
       "      <td>1473518.0</td>\n",
       "      <td>RESTAURANT</td>\n",
       "      <td>2</td>\n",
       "      <td>13770 S AVENUE O</td>\n",
       "      <td>60633.0</td>\n",
       "      <td>2015-02-23T00:00:00.000</td>\n",
       "      <td>CANVASS</td>\n",
       "      <td>Out of Business</td>\n",
       "      <td>NaN</td>\n",
       "      <td>{'latitude': '-87.5400946053766', 'longitude': '41.64467013219805'}</td>\n",
       "      <td>Hegewisch</td>\n",
       "    </tr>\n",
       "    <tr>\n",
       "      <th>5</th>\n",
       "      <td>41.64467</td>\n",
       "      <td>-87.540095</td>\n",
       "      <td>BURGER KING</td>\n",
       "      <td>1494060</td>\n",
       "      <td>BURGER KING #7268</td>\n",
       "      <td>1473518.0</td>\n",
       "      <td>RESTAURANT</td>\n",
       "      <td>2</td>\n",
       "      <td>13770 S AVENUE O</td>\n",
       "      <td>60633.0</td>\n",
       "      <td>2014-08-26T00:00:00.000</td>\n",
       "      <td>CANVASS</td>\n",
       "      <td>Pass</td>\n",
       "      <td>NaN</td>\n",
       "      <td>{'latitude': '-87.5400946053766', 'longitude': '41.64467013219805'}</td>\n",
       "      <td>Hegewisch</td>\n",
       "    </tr>\n",
       "    <tr>\n",
       "      <th>6</th>\n",
       "      <td>41.64467</td>\n",
       "      <td>-87.540095</td>\n",
       "      <td>BURGER KING</td>\n",
       "      <td>1493718</td>\n",
       "      <td>BURGER KING #7268</td>\n",
       "      <td>1473518.0</td>\n",
       "      <td>RESTAURANT</td>\n",
       "      <td>2</td>\n",
       "      <td>13770 S AVENUE O</td>\n",
       "      <td>60633.0</td>\n",
       "      <td>2014-08-18T00:00:00.000</td>\n",
       "      <td>CANVASS</td>\n",
       "      <td>Fail</td>\n",
       "      <td>12. HAND WASHING FACILITIES: WITH SOAP AND SANITARY HAND DRYING DEVICES, CONVENIENT AND ACCESSIBLE TO FOOD PREP AREA - Comments: FOUND NO SOAP AT THE FRONT EXPOSED HANDWASHING SINK. INSTRUCTED TO PROVIDE AND MAINTAIN AT ALL TIMES. CRITICAL VIOLATION 7-38-030 | 21. * CERTIFIED FOOD MANAGER ON SITE WHEN POTENTIALLY HAZARDOUS FOODS ARE  PREPARED AND SERVED - Comments: NO CHICAGO FOOD SANITATION MANAGER ON DUTY OR CERTIFICATE POSTED WHEN POTENTIALLY HAZARDOUS FOOD (COOKED HAMBURGER 161.51F, SAUSAGE 170.8F) PREPARED AND SERVED. SERIOUS VIOLATION 7-38-012 CITATION   | 28. * INSPECTION REPORT SUMMARY DISPLAYED AND VISIBLE TO ALL CUSTOMERS - Comments: FOUND THE PREVIOUS NON COMPLIANCE INSPECTION REPORT SUMMARY, DATED DECEMBER 19, 2012 NOT POSTED IN PLAIN VIEW OF CUSTOMERS. INSTRUCTED TO KEEP SUMMARY POSTED AT ALL TIMES. SERIOUS VIOLATIOIN 7-42-010 (B) | 29. PREVIOUS MINOR VIOLATION(S) CORRECTED 7-42-090 - Comments: FOUND PREVIOUS MINOR VIOLATIONS FROM REPORT #1300984, DATED 12/19/2012 NOT CORRECTED AND/OR MAINTAINED. INSTRUCTED TO CORRECT AND MAINTAIN:    33-CLEAN INTERIOR AND EXTERIOR OF FRYERS, PREP TABLES, COOLERS, CABINETS.  34-GROUT FLOOR TILES IN ALL AREAS. FLOORS NEED CLEANING UNDER FRYERS (FOOD DEBRIS, GREASE BUILD UP), PREP TABLES, ETC. ALONG WALLS AND IN ALL CORNERS IN PREP STORAGE AND DRIVE THRU AREAS.   35-REPLACE MISSING AND DAMAGED TILES ALONG BASEBOARDS IN PREP AND STORAGE AREAS.  38-REPAIR LEAKING FAUCET ON 3-COMP. SINK.  42-ALL FOOD HANDLERS MUST WEAR HAIR RESTRAINTS.  SERIOUS VIOLATION 7-42-090 | 33. FOOD AND NON-FOOD CONTACT EQUIPMENT UTENSILS CLEAN, FREE OF ABRASIVE DETERGENTS - Comments: FOUND STORAGE RACKS IN PREP AREA IN NEED OF CLEANING. INSTRUCTED TO CLEAN AND MAINTAIN. | 38. VENTILATION: ROOMS AND EQUIPMENT VENTED AS REQUIRED: PLUMBING: INSTALLED AND MAINTAINED - Comments: FOUND A LEAK AT THE BASE OF THE HOT WATER KNOB ON THE 2-COMPARTMENT SINK IN THE PREP AREA. INSTRUCTED TO FIX AND MAINTAIN.</td>\n",
       "      <td>{'latitude': '-87.5400946053766', 'longitude': '41.64467013219805'}</td>\n",
       "      <td>Hegewisch</td>\n",
       "    </tr>\n",
       "    <tr>\n",
       "      <th>7</th>\n",
       "      <td>41.64467</td>\n",
       "      <td>-87.540095</td>\n",
       "      <td>BURGER KING</td>\n",
       "      <td>1300984</td>\n",
       "      <td>BURGER KING #7268</td>\n",
       "      <td>1473518.0</td>\n",
       "      <td>RESTAURANT</td>\n",
       "      <td>2</td>\n",
       "      <td>13770 S AVENUE O</td>\n",
       "      <td>60633.0</td>\n",
       "      <td>2012-12-19T00:00:00.000</td>\n",
       "      <td>CANVASS</td>\n",
       "      <td>Pass w/ Conditions</td>\n",
       "      <td>21. * CERTIFIED FOOD MANAGER ON SITE WHEN POTENTIALLY HAZARDOUS FOODS ARE  PREPARED AND SERVED - Comments: NO CHICAGO FOOD SANITATION MANAGER ON DUTY OR CERTIFICATE POSTED WHEN POTENTIALLY HAZARDOUS FOOD (COOKED HAMBURGER 167F, SAUSAGE 159.8F, EGGS 147.8F) PREPARED AND SERVED. SERIOUS VIOLATION 7-38-012 CITATION ISSUED. | 33. FOOD AND NON-FOOD CONTACT EQUIPMENT UTENSILS CLEAN, FREE OF ABRASIVE DETERGENTS - Comments: CLEAN INTERIOR AND EXTERIOR OF FRYERS, PREP TABLES, COOLERS, CABINETS. | 34. FLOORS: CONSTRUCTED PER CODE, CLEANED, GOOD REPAIR, COVING INSTALLED, DUST-LESS CLEANING METHODS USED - Comments: GROUT FLOOR TILES IN ALL AREAS. FLOORS NEED CLEANING UNDER FRYERS (FOOD DEBRIS, GREASE BUILDUP), PREP TABLES, ETC ALONG WALLS AND IN ALL CORNERS IN PREP, STORAGE AND DRIVE THRU AREAS. REMOVE EXCESS WATER ON FLOOR IN DRIVE THRU AREA. ELEVATE ALL STOCK OFF FLOOR INSIDE WALK-IN FREEZER AND REAR STORAGE AREA. | 35. WALLS, CEILINGS, ATTACHED EQUIPMENT CONSTRUCTED PER CODE: GOOD REPAIR, SURFACES CLEAN AND DUST-LESS CLEANING METHODS - Comments: REPLACE MISSING AND DAMAGED TILES ALONG BASEBOARDS IN PREP AND STORAGE AREAS. | 38. VENTILATION: ROOMS AND EQUIPMENT VENTED AS REQUIRED: PLUMBING: INSTALLED AND MAINTAINED - Comments: REPAIR LEAKING FAUCET ON 3-COMP SINK AND FRONT EXPOSED SINK (SLOW DRAINING). | 40. REFRIGERATION AND METAL STEM THERMOMETERS PROVIDED AND CONSPICUOUS - Comments: PROVIDE THERMOMETERS IN ALL COOLERS. | 41. PREMISES MAINTAINED FREE OF LITTER, UNNECESSARY ARTICLES, CLEANING  EQUIPMENT PROPERLY STORED - Comments: STORE MOP HEAD UPRIGHT TO PREVENT INSECT BREEDING. | 42. APPROPRIATE METHOD OF HANDLING OF FOOD (ICE) HAIR RESTRAINTS AND CLEAN APPAREL WORN - Comments: ALL FOOD HANDLERS MUST WEAR HAIR RESTRAINTS.</td>\n",
       "      <td>{'latitude': '-87.5400946053766', 'longitude': '41.64467013219805'}</td>\n",
       "      <td>Hegewisch</td>\n",
       "    </tr>\n",
       "    <tr>\n",
       "      <th>8</th>\n",
       "      <td>41.64467</td>\n",
       "      <td>-87.540095</td>\n",
       "      <td>BURGER KING</td>\n",
       "      <td>537818</td>\n",
       "      <td>BURGER KING #7268</td>\n",
       "      <td>1473518.0</td>\n",
       "      <td>RESTAURANT</td>\n",
       "      <td>2</td>\n",
       "      <td>13770 S AVENUE O</td>\n",
       "      <td>60633.0</td>\n",
       "      <td>2012-01-10T00:00:00.000</td>\n",
       "      <td>COMPLAINT</td>\n",
       "      <td>Pass w/ Conditions</td>\n",
       "      <td>8. SANITIZING RINSE FOR EQUIPMENT AND UTENSILS:  CLEAN, PROPER TEMPERATURE, CONCENTRATION, EXPOSURE TIME - Comments: Equipment and utensils should get proper exposure to the sanitizing solution during the rinse cycle.  Bactericidal treatment shall consist of exposure of all dish and utensil surfaces to a rinse of clean water at a temperature of not less than 180F. PREMISES HAS INSTALLED A SOFT SERVE ICE CREAM MACHINE IMPROPER SANITIZING NO HOT AND COLD RUNNING WATER ABOVE THE MACHINE AT THE FREEZER UNIT FOR THE PURPOSE OF WASHING AND SANITIZING OF ALL NON-REMOVAL FOOD CONTACT SURFACES OF THE FREEZER UNIT AND THE SANITIZING OF RE-ASSEMBLED FREEZER PARTS. MACHINE TAGGED INSTRUCTED NOT TO USE TIL CDPH RETURNS TO CHECK THE INSTULATION OF THE HOT AND COLD RUNNING WATER TO THE TOP OF THE FREEZER UNIT. STARTED TO SELL SOFT SERVE ICE CREAM IN JULY OF 2011. | 21. * CERTIFIED FOOD MANAGER ON SITE WHEN POTENTIALLY HAZARDOUS FOODS ARE  PREPARED AND SERVED - Comments: A certified food service manager must be present in all establishments at which potentially hazardous food is prepared or served.NO CITY OF CHICAGO SANITATION CERTIFICATE POSTED ON PREMISES AND NO CITY OF CHICAGO MANAGER ON PREMISES WHEN POTENTIALLY HAZADROUS FOODS ARE BEING SERVED AND PREPARED.NEED TO PROVIDE. | 33. FOOD AND NON-FOOD CONTACT EQUIPMENT UTENSILS CLEAN, FREE OF ABRASIVE DETERGENTS - Comments: All utensils shall be thoroughly cleaned and sanitized after each usage.NEED TO CLEAN AND SANITIZE BOTH FOOD CHOPPERS IN REAR PREP AREA, AND NEED TO CLEAN INTERIOR OF FRYER DOORS. | 34. FLOORS: CONSTRUCTED PER CODE, CLEANED, GOOD REPAIR, COVING INSTALLED, DUST-LESS CLEANING METHODS USED - Comments: The floors shall be constructed per code, be smooth and easily cleaned, and be kept clean and in good repair.NEED TO CLEAN FLOOR REAR UNDER BAG IN BOX SODA HOLDER. | 35. WALLS, CEILINGS, ATTACHED EQUIPMENT CONSTRUCTED PER CODE: GOOD REPAIR, SURFACES CLEAN AND DUST-LESS CLEANING METHODS - Comments: The walls and ceilings shall be in good repair and easily cleaned.CLEAN WALLS AROUND REAR MOP AREA. | 36. LIGHTING: REQUIRED MINIMUM FOOT-CANDLES OF LIGHT PROVIDED, FIXTURES SHIELDED - Comments: Shielding to protect against broken glass falling into food shall be provided for all artificial lighting sources in preparation, service, and display facilities.CLEAN LIGHT SHIELDS THRU-OUT REAR PREP AREA. | 38. VENTILATION: ROOMS AND EQUIPMENT VENTED AS REQUIRED: PLUMBING: INSTALLED AND MAINTAINED - Comments: Ventilation: All plumbing fixtures, such as toilets, sinks, washbasins, etc., must be adequately trapped, vented, and re-vented and properly connected to the sewer in accordance with the plumbing chapter of the Municipal Code of Chicago and the Rules and Regulations of the Board of Health. LADIES 2ND SINK DRAIN RUNNING SLOW NEED TO REPAIR.</td>\n",
       "      <td>{'latitude': '-87.5400946053766', 'longitude': '41.64467013219805'}</td>\n",
       "      <td>Hegewisch</td>\n",
       "    </tr>\n",
       "    <tr>\n",
       "      <th>9</th>\n",
       "      <td>41.64467</td>\n",
       "      <td>-87.540095</td>\n",
       "      <td>BURGER KING</td>\n",
       "      <td>537384</td>\n",
       "      <td>BURGER KING #7268</td>\n",
       "      <td>1473518.0</td>\n",
       "      <td>RESTAURANT</td>\n",
       "      <td>2</td>\n",
       "      <td>13770 S AVENUE O</td>\n",
       "      <td>60633.0</td>\n",
       "      <td>2011-05-26T00:00:00.000</td>\n",
       "      <td>COMPLAINT</td>\n",
       "      <td>Pass</td>\n",
       "      <td>33. FOOD AND NON-FOOD CONTACT EQUIPMENT UTENSILS CLEAN, FREE OF ABRASIVE DETERGENTS - Comments: All utensils shall be thoroughly cleaned and sanitized after each usage.OBSERVED THE INTERIOR LID OF THE ICE MACHINE INSTRUCTED TO CLEAN | 34. FLOORS: CONSTRUCTED PER CODE, CLEANED, GOOD REPAIR, COVING INSTALLED, DUST-LESS CLEANING METHODS USED - Comments: The floors shall be constructed per code, be smooth and easily cleaned, and be kept clean and in good repair.CLEAN FLOOR DRAINS, FLOOR FRONT UNDER ICE CREAM MACHINE,REAR BAG n BOX HOLDER. | 35. WALLS, CEILINGS, ATTACHED EQUIPMENT CONSTRUCTED PER CODE: GOOD REPAIR, SURFACES CLEAN AND DUST-LESS CLEANING METHODS - Comments: The walls and ceilings shall be in good repair and easily cleaned.CLEAN WALL SIDE AND AROUND 3 COMP SINK ALSO AROUND REAR MOP AREA  | 36. LIGHTING: REQUIRED MINIMUM FOOT-CANDLES OF LIGHT PROVIDED, FIXTURES SHIELDED - Comments: Shielding to protect against broken glass falling into food shall be provided for all artificial lighting sources in preparation, service, and display facilities.CLEAN LIGHT SHIELDS IN THE EMPLOYEE ROOM AND RESTROOM HALLWAY | 38. VENTILATION: ROOMS AND EQUIPMENT VENTED AS REQUIRED: PLUMBING: INSTALLED AND MAINTAINED - Comments: Ventilation: All plumbing fixtures, such as toilets, sinks, washbasins, etc., must be adequately trapped, vented, and re-vented and properly connected to the sewer in accordance with the plumbing chapter of the Municipal Code of Chicago and the Rules and Regulations of the Board of Health.LADIES 2ND SINK DRAIN RUNNING SLOW INSTRUCTED TO REPAIR</td>\n",
       "      <td>{'latitude': '-87.5400946053766', 'longitude': '41.64467013219805'}</td>\n",
       "      <td>Hegewisch</td>\n",
       "    </tr>\n",
       "  </tbody>\n",
       "</table>\n",
       "</div>"
      ],
      "text/plain": [
       "   Latitude  Longitude     DBA Name  Inspection ID           AKA Name  License # Facility Type  Risk            Address      Zip          Inspection Date Inspection Type             Results                                                                                                                                                                                                                                                                                                                                                                                                                                                                                                                                                                                                                                                                                                                                                                                                                                                                                                                                                                                                                                                                                                                                                                                                                                                                                                                                                                                                                                                                                                                                                                                                                                                                                                                                                                                                                                                                                                                                                                                                                                                                                                                                                                                                                                                                                                                                                                                                                                                                                                                                                                                                                                                                                                                                                                                                                                                                                                                                     Violations                                                             Location    Regions\n",
       "0  41.64467 -87.540095  BURGER KING  2240219        BURGER KING        2368796.0  RESTAURANT    2     13770 S AVENUE O   60633.0  2018-11-15T00:00:00.000  COMPLAINT       Pass w/ Conditions  2. CITY OF CHICAGO FOOD SERVICE SANITATION CERTIFICATE - Comments: NO CITY OF CHICAGO FOOD SERVICE MANAGERS CERTIFICATE ON PREMISES AS REQUIRED; MUST PROVIDE.  INSTRUCTED THE PIC THAT MANAGERS MUST HAVE A VALID CITY OF CHICAGO FOOD SERVICE MANAGERS CERTIFICATE WHILE ON DUTY AT ALL TIMES.  PRIORITY FOUNDATION VIOLATION 7-38-012 ISSUED. | 3. MANAGEMENT, FOOD EMPLOYEE AND CONDITIONAL EMPLOYEE; KNOWLEDGE, RESPONSIBILITIES AND REPORTING - Comments: : 2-102.14(A) NO EMPLOYEE HEALTH POLICY ON PREMISES AS REQUIRED; MUST PROVIDE. INSTRUCTED THE PIC TO PROVIDE DOCUMENTATION OF EMPLOYEES RESPONSIBILITY TO REPORT ANY ILLNESS TRANSMISSIBLE THROUGH FOOD. PRIORITY FOUNDATION 7-38-012(A) CITATION ISSUED.  VIOLATION PREVIOUSLY ISSUED ON AUGUST 14, 2018. | 5. PROCEDURES FOR RESPONDING TO VOMITING AND DIARRHEAL EVENTS - Comments: 2-501.11 NO VOMIT AND DIARRHEAL CLEAN UP PROCEDURE ON PREMISES AS REQUIRED; MUST PROVIDE. INSTRUCTED THE PIC THAT A VOMIT AND DIARRHEAL CLEAN UP PROCEDURE MUST BE DOCUMENTED AND THE NECESSARY SUPPLIES ON HAND IN THE EVENT OF A VOMIT OR DIARRHEAL INCIDENT ON PREMISES. PRIORITY FOUNDATION VIOLATION 7-38-005 CITATION ISSUED.    VIOLATION WAS PREVIOUSLY ISSUED ON AUGUST 14, 2018.                                                                                                                                                                                                                                                                                                                                                                                                                                                                                                                                                                                                                                                                                                                                                                                                                                                                                                                                                                                                                                                                                                                                                                                                                                                                                                                                                                                                                                                                                                                                                                                                                                                                                              {'latitude': '-87.5400946053766', 'longitude': '41.64467013219805'}  Hegewisch\n",
       "1  41.64467 -87.540095  BURGER KING  2200946        BURGER KING        2368796.0  RESTAURANT    2     13770 S AVENUE O   60633.0  2018-08-14T00:00:00.000  COMPLAINT       Pass w/ Conditions  2. CITY OF CHICAGO FOOD SERVICE SANITATION CERTIFICATE - Comments: 2-102.12 NO VALID CITY OF CHICAGO FOOD SERVICE SANITATION CERTIFICATES ON PREMISES.  THE PIC ON DUTY WAS UNABLE TO PRODUCE A VALID CITY OF CHICAGO FOOD SERVICE SANITATION CERTIFICATE.  NO OTHER PERSONS WERE ON DUTY THAT HAD A VALID CITY OF CHICAGO FOOD SERVICE SANITATION CERTIFICATE.  INSTRUCTED THAT A VALID CERTIFICATE MUST BE ON PREMISES AT ALL TIMES.  PRIORITY FOUNDATION VIOLATION ISSUED 7-38-012. | 3. MANAGEMENT, FOOD EMPLOYEE AND CONDITIONAL EMPLOYEE; KNOWLEDGE, RESPONSIBILITIES AND REPORTING - Comments: 2-102.14(A) NO EMPLOYEE HEALTH POLICY ON PREMISES AS RE1QUIRED; MUST PROVIDE.  INSTRUCTED THE PIC TO PROVIDE DOCUMENTATION OF EMPLOYEES RESPONSIBILITY TO REPORT ANY ILLNESS TRANSMISSIBLE THROUGH FOOD.  PRIORITY FOUNDATION 7-38-012(A) | 5. PROCEDURES FOR RESPONDING TO VOMITING AND DIARRHEAL EVENTS - Comments: 2-501.11 NO VOMIT AND DIARRHEAL CLEAN UP PROCEDURE ON PREMISES AS REQUIRED; MUST PROVIDE.  INSTRUCTED THE PIC THAT A VOMIT AND DIARRHEAL CLEAN UP PROCEDURE MUST BE DOCUMENTED AND THE NECESSARY SUPPLIES ON HAND IN THE EVENT OF A VOMIT OR DIARRHEAL INCIDENT ON PREMISES. PRIORITY FOUNDATION VIOLATION 7-38-005. | 49. NON-FOOD/FOOD CONTACT SURFACES CLEAN - Comments: 4-602.13  OBSERVED THE EXTERIOR SURFACES AND INTERIOR BOTTOM OF THE DEEP FRYERS IN NEED OF CLEANING TO REMOVE GREASE; CLEAN AND MAINTAIN. | 55. PHYSICAL FACILITIES INSTALLED, MAINTAINED & CLEAN - Comments: 6-501.12  THE FLOORS UNDER AROUND AND BEHIND VARIOUS KITCHEN EQUIPMENT NEED CLEANING; ALSO FLOOR DRAINS THROUGHOUT THE KITCHEN NEED CLEANING; CLEAN AND MAINTAIN FLOORS AND FLOOR DRAINS.                                                                                                                                                                                                                                                                                                                                                                                                                                                                                                                                                                                                                                                                                                                                                                                                                                                                                                                                                                                                                                                                                                                                                                                                                                {'latitude': '-87.5400946053766', 'longitude': '41.64467013219805'}  Hegewisch\n",
       "2  41.64467 -87.540095  BURGER KING  1950282        BURGER KING        2368796.0  RESTAURANT    2     13770 S AVENUE O   60633.0  2016-08-12T00:00:00.000  CANVASS         Pass                34. FLOORS: CONSTRUCTED PER CODE, CLEANED, GOOD REPAIR, COVING INSTALLED, DUST-LESS CLEANING METHODS USED - Comments: FLOORS NEED CLEANING IN THE REAR STORAGE AREA ALONG THE WALL BASE UNDER STORAGE SHELVING AND IN THE PREP AREA AROUND THE COOKING EQUIPMENT TO REMOVE SPILLS,GREASE AND DEBRIS. ALSO CLEAN THE MATS IN THE WALK IN COOLER AND FREEZER TO REMOVE SPILLS. | 35. WALLS, CEILINGS, ATTACHED EQUIPMENT CONSTRUCTED PER CODE: GOOD REPAIR, SURFACES CLEAN AND DUST-LESS CLEANING METHODS - Comments: PIPING ALONG THE WALL BEHIND THE FRYER ARE ENCRUSTED WITH GREASE. MUST CLEAN AND MAINTAIN. | 38. VENTILATION: ROOMS AND EQUIPMENT VENTED AS REQUIRED: PLUMBING: INSTALLED AND MAINTAINED - Comments: NOTED A LEAK AT THE 3 COMPARTMENT SINK HOT WATER KNOB. MUST REPAIR AND MAINTAIN.                                                                                                                                                                                                                                                                                                                                                                                                                                                                                                                                                                                                                                                                                                                                                                                                                                                                                                                                                                                                                                                                                                                                                                                                                                                                                                                                                                                                                                                                                                                                                                                                                                                                                                                                                                                                                                                                                                                                                                                                                                                                                                                                      {'latitude': '-87.5400946053766', 'longitude': '41.64467013219805'}  Hegewisch\n",
       "3  41.64467 -87.540095  BURGER KING  1523175        BURGER KING        2368796.0  RESTAURANT    2     13770 S AVENUE O   60633.0  2015-02-23T00:00:00.000  LICENSE         Pass                33. FOOD AND NON-FOOD CONTACT EQUIPMENT UTENSILS CLEAN, FREE OF ABRASIVE DETERGENTS - Comments: CLEAN THEBOTTOM COMPARTMENT OF DEEP FRYERS OF GREASE BUILD-UP AND CLEAN INTERIOR OF THE CHEST FREEZER AT PREP AREA,INSTRUCTED TO CLEAN AND MAINTAIN EQUIPMENT | 34. FLOORS: CONSTRUCTED PER CODE, CLEANED, GOOD REPAIR, COVING INSTALLED, DUST-LESS CLEANING METHODS USED - Comments: CLEAN THE FLOORS IN PREP AREA ,ALONG WALL BASE AND CORNERS IN PREP AREA AND REAR OF PREMISES | 45. FOOD HANDLER REQUIREMENTS MET - Comments: MUST PROVIDE THE FOOD HANDLERS CERTIFICATES OR PROOF OF ENROLLEMENT                                                                                                                                                                                                                                                                                                                                                                                                                                                                                                                                                                                                                                                                                                                                                                                                                                                                                                                                                                                                                                                                                                                                                                                                                                                                                                                                                                                                                                                                                                                                                                                                                                                                                                                                                                                                                                                                                                                                                                                                                                                                                                                                                                                                                                                                                                                                         {'latitude': '-87.5400946053766', 'longitude': '41.64467013219805'}  Hegewisch\n",
       "4  41.64467 -87.540095  BURGER KING  1527281        BURGER KING #7268  1473518.0  RESTAURANT    2     13770 S AVENUE O   60633.0  2015-02-23T00:00:00.000  CANVASS         Out of Business     NaN                                                                                                                                                                                                                                                                                                                                                                                                                                                                                                                                                                                                                                                                                                                                                                                                                                                                                                                                                                                                                                                                                                                                                                                                                                                                                                                                                                                                                                                                                                                                                                                                                                                                                                                                                                                                                                                                                                                                                                                                                                                                                                                                                                                                                                                                                                                                                                                                                                                                                                                                                                                                                                                                                                                                                                                                                                                                                                                                            {'latitude': '-87.5400946053766', 'longitude': '41.64467013219805'}  Hegewisch\n",
       "5  41.64467 -87.540095  BURGER KING  1494060        BURGER KING #7268  1473518.0  RESTAURANT    2     13770 S AVENUE O   60633.0  2014-08-26T00:00:00.000  CANVASS         Pass                NaN                                                                                                                                                                                                                                                                                                                                                                                                                                                                                                                                                                                                                                                                                                                                                                                                                                                                                                                                                                                                                                                                                                                                                                                                                                                                                                                                                                                                                                                                                                                                                                                                                                                                                                                                                                                                                                                                                                                                                                                                                                                                                                                                                                                                                                                                                                                                                                                                                                                                                                                                                                                                                                                                                                                                                                                                                                                                                                                                            {'latitude': '-87.5400946053766', 'longitude': '41.64467013219805'}  Hegewisch\n",
       "6  41.64467 -87.540095  BURGER KING  1493718        BURGER KING #7268  1473518.0  RESTAURANT    2     13770 S AVENUE O   60633.0  2014-08-18T00:00:00.000  CANVASS         Fail                12. HAND WASHING FACILITIES: WITH SOAP AND SANITARY HAND DRYING DEVICES, CONVENIENT AND ACCESSIBLE TO FOOD PREP AREA - Comments: FOUND NO SOAP AT THE FRONT EXPOSED HANDWASHING SINK. INSTRUCTED TO PROVIDE AND MAINTAIN AT ALL TIMES. CRITICAL VIOLATION 7-38-030 | 21. * CERTIFIED FOOD MANAGER ON SITE WHEN POTENTIALLY HAZARDOUS FOODS ARE  PREPARED AND SERVED - Comments: NO CHICAGO FOOD SANITATION MANAGER ON DUTY OR CERTIFICATE POSTED WHEN POTENTIALLY HAZARDOUS FOOD (COOKED HAMBURGER 161.51F, SAUSAGE 170.8F) PREPARED AND SERVED. SERIOUS VIOLATION 7-38-012 CITATION   | 28. * INSPECTION REPORT SUMMARY DISPLAYED AND VISIBLE TO ALL CUSTOMERS - Comments: FOUND THE PREVIOUS NON COMPLIANCE INSPECTION REPORT SUMMARY, DATED DECEMBER 19, 2012 NOT POSTED IN PLAIN VIEW OF CUSTOMERS. INSTRUCTED TO KEEP SUMMARY POSTED AT ALL TIMES. SERIOUS VIOLATIOIN 7-42-010 (B) | 29. PREVIOUS MINOR VIOLATION(S) CORRECTED 7-42-090 - Comments: FOUND PREVIOUS MINOR VIOLATIONS FROM REPORT #1300984, DATED 12/19/2012 NOT CORRECTED AND/OR MAINTAINED. INSTRUCTED TO CORRECT AND MAINTAIN:    33-CLEAN INTERIOR AND EXTERIOR OF FRYERS, PREP TABLES, COOLERS, CABINETS.  34-GROUT FLOOR TILES IN ALL AREAS. FLOORS NEED CLEANING UNDER FRYERS (FOOD DEBRIS, GREASE BUILD UP), PREP TABLES, ETC. ALONG WALLS AND IN ALL CORNERS IN PREP STORAGE AND DRIVE THRU AREAS.   35-REPLACE MISSING AND DAMAGED TILES ALONG BASEBOARDS IN PREP AND STORAGE AREAS.  38-REPAIR LEAKING FAUCET ON 3-COMP. SINK.  42-ALL FOOD HANDLERS MUST WEAR HAIR RESTRAINTS.  SERIOUS VIOLATION 7-42-090 | 33. FOOD AND NON-FOOD CONTACT EQUIPMENT UTENSILS CLEAN, FREE OF ABRASIVE DETERGENTS - Comments: FOUND STORAGE RACKS IN PREP AREA IN NEED OF CLEANING. INSTRUCTED TO CLEAN AND MAINTAIN. | 38. VENTILATION: ROOMS AND EQUIPMENT VENTED AS REQUIRED: PLUMBING: INSTALLED AND MAINTAINED - Comments: FOUND A LEAK AT THE BASE OF THE HOT WATER KNOB ON THE 2-COMPARTMENT SINK IN THE PREP AREA. INSTRUCTED TO FIX AND MAINTAIN.                                                                                                                                                                                                                                                                                                                                                                                                                                                                                                                                                                                                                                                                                                                                                                                                                                                                                                                       {'latitude': '-87.5400946053766', 'longitude': '41.64467013219805'}  Hegewisch\n",
       "7  41.64467 -87.540095  BURGER KING  1300984        BURGER KING #7268  1473518.0  RESTAURANT    2     13770 S AVENUE O   60633.0  2012-12-19T00:00:00.000  CANVASS         Pass w/ Conditions  21. * CERTIFIED FOOD MANAGER ON SITE WHEN POTENTIALLY HAZARDOUS FOODS ARE  PREPARED AND SERVED - Comments: NO CHICAGO FOOD SANITATION MANAGER ON DUTY OR CERTIFICATE POSTED WHEN POTENTIALLY HAZARDOUS FOOD (COOKED HAMBURGER 167F, SAUSAGE 159.8F, EGGS 147.8F) PREPARED AND SERVED. SERIOUS VIOLATION 7-38-012 CITATION ISSUED. | 33. FOOD AND NON-FOOD CONTACT EQUIPMENT UTENSILS CLEAN, FREE OF ABRASIVE DETERGENTS - Comments: CLEAN INTERIOR AND EXTERIOR OF FRYERS, PREP TABLES, COOLERS, CABINETS. | 34. FLOORS: CONSTRUCTED PER CODE, CLEANED, GOOD REPAIR, COVING INSTALLED, DUST-LESS CLEANING METHODS USED - Comments: GROUT FLOOR TILES IN ALL AREAS. FLOORS NEED CLEANING UNDER FRYERS (FOOD DEBRIS, GREASE BUILDUP), PREP TABLES, ETC ALONG WALLS AND IN ALL CORNERS IN PREP, STORAGE AND DRIVE THRU AREAS. REMOVE EXCESS WATER ON FLOOR IN DRIVE THRU AREA. ELEVATE ALL STOCK OFF FLOOR INSIDE WALK-IN FREEZER AND REAR STORAGE AREA. | 35. WALLS, CEILINGS, ATTACHED EQUIPMENT CONSTRUCTED PER CODE: GOOD REPAIR, SURFACES CLEAN AND DUST-LESS CLEANING METHODS - Comments: REPLACE MISSING AND DAMAGED TILES ALONG BASEBOARDS IN PREP AND STORAGE AREAS. | 38. VENTILATION: ROOMS AND EQUIPMENT VENTED AS REQUIRED: PLUMBING: INSTALLED AND MAINTAINED - Comments: REPAIR LEAKING FAUCET ON 3-COMP SINK AND FRONT EXPOSED SINK (SLOW DRAINING). | 40. REFRIGERATION AND METAL STEM THERMOMETERS PROVIDED AND CONSPICUOUS - Comments: PROVIDE THERMOMETERS IN ALL COOLERS. | 41. PREMISES MAINTAINED FREE OF LITTER, UNNECESSARY ARTICLES, CLEANING  EQUIPMENT PROPERLY STORED - Comments: STORE MOP HEAD UPRIGHT TO PREVENT INSECT BREEDING. | 42. APPROPRIATE METHOD OF HANDLING OF FOOD (ICE) HAIR RESTRAINTS AND CLEAN APPAREL WORN - Comments: ALL FOOD HANDLERS MUST WEAR HAIR RESTRAINTS.                                                                                                                                                                                                                                                                                                                                                                                                                                                                                                                                                                                                                                                                                                                                                                                                                                                                                                                                                                                                                                                                                                                              {'latitude': '-87.5400946053766', 'longitude': '41.64467013219805'}  Hegewisch\n",
       "8  41.64467 -87.540095  BURGER KING  537818         BURGER KING #7268  1473518.0  RESTAURANT    2     13770 S AVENUE O   60633.0  2012-01-10T00:00:00.000  COMPLAINT       Pass w/ Conditions  8. SANITIZING RINSE FOR EQUIPMENT AND UTENSILS:  CLEAN, PROPER TEMPERATURE, CONCENTRATION, EXPOSURE TIME - Comments: Equipment and utensils should get proper exposure to the sanitizing solution during the rinse cycle.  Bactericidal treatment shall consist of exposure of all dish and utensil surfaces to a rinse of clean water at a temperature of not less than 180F. PREMISES HAS INSTALLED A SOFT SERVE ICE CREAM MACHINE IMPROPER SANITIZING NO HOT AND COLD RUNNING WATER ABOVE THE MACHINE AT THE FREEZER UNIT FOR THE PURPOSE OF WASHING AND SANITIZING OF ALL NON-REMOVAL FOOD CONTACT SURFACES OF THE FREEZER UNIT AND THE SANITIZING OF RE-ASSEMBLED FREEZER PARTS. MACHINE TAGGED INSTRUCTED NOT TO USE TIL CDPH RETURNS TO CHECK THE INSTULATION OF THE HOT AND COLD RUNNING WATER TO THE TOP OF THE FREEZER UNIT. STARTED TO SELL SOFT SERVE ICE CREAM IN JULY OF 2011. | 21. * CERTIFIED FOOD MANAGER ON SITE WHEN POTENTIALLY HAZARDOUS FOODS ARE  PREPARED AND SERVED - Comments: A certified food service manager must be present in all establishments at which potentially hazardous food is prepared or served.NO CITY OF CHICAGO SANITATION CERTIFICATE POSTED ON PREMISES AND NO CITY OF CHICAGO MANAGER ON PREMISES WHEN POTENTIALLY HAZADROUS FOODS ARE BEING SERVED AND PREPARED.NEED TO PROVIDE. | 33. FOOD AND NON-FOOD CONTACT EQUIPMENT UTENSILS CLEAN, FREE OF ABRASIVE DETERGENTS - Comments: All utensils shall be thoroughly cleaned and sanitized after each usage.NEED TO CLEAN AND SANITIZE BOTH FOOD CHOPPERS IN REAR PREP AREA, AND NEED TO CLEAN INTERIOR OF FRYER DOORS. | 34. FLOORS: CONSTRUCTED PER CODE, CLEANED, GOOD REPAIR, COVING INSTALLED, DUST-LESS CLEANING METHODS USED - Comments: The floors shall be constructed per code, be smooth and easily cleaned, and be kept clean and in good repair.NEED TO CLEAN FLOOR REAR UNDER BAG IN BOX SODA HOLDER. | 35. WALLS, CEILINGS, ATTACHED EQUIPMENT CONSTRUCTED PER CODE: GOOD REPAIR, SURFACES CLEAN AND DUST-LESS CLEANING METHODS - Comments: The walls and ceilings shall be in good repair and easily cleaned.CLEAN WALLS AROUND REAR MOP AREA. | 36. LIGHTING: REQUIRED MINIMUM FOOT-CANDLES OF LIGHT PROVIDED, FIXTURES SHIELDED - Comments: Shielding to protect against broken glass falling into food shall be provided for all artificial lighting sources in preparation, service, and display facilities.CLEAN LIGHT SHIELDS THRU-OUT REAR PREP AREA. | 38. VENTILATION: ROOMS AND EQUIPMENT VENTED AS REQUIRED: PLUMBING: INSTALLED AND MAINTAINED - Comments: Ventilation: All plumbing fixtures, such as toilets, sinks, washbasins, etc., must be adequately trapped, vented, and re-vented and properly connected to the sewer in accordance with the plumbing chapter of the Municipal Code of Chicago and the Rules and Regulations of the Board of Health. LADIES 2ND SINK DRAIN RUNNING SLOW NEED TO REPAIR.  {'latitude': '-87.5400946053766', 'longitude': '41.64467013219805'}  Hegewisch\n",
       "9  41.64467 -87.540095  BURGER KING  537384         BURGER KING #7268  1473518.0  RESTAURANT    2     13770 S AVENUE O   60633.0  2011-05-26T00:00:00.000  COMPLAINT       Pass                33. FOOD AND NON-FOOD CONTACT EQUIPMENT UTENSILS CLEAN, FREE OF ABRASIVE DETERGENTS - Comments: All utensils shall be thoroughly cleaned and sanitized after each usage.OBSERVED THE INTERIOR LID OF THE ICE MACHINE INSTRUCTED TO CLEAN | 34. FLOORS: CONSTRUCTED PER CODE, CLEANED, GOOD REPAIR, COVING INSTALLED, DUST-LESS CLEANING METHODS USED - Comments: The floors shall be constructed per code, be smooth and easily cleaned, and be kept clean and in good repair.CLEAN FLOOR DRAINS, FLOOR FRONT UNDER ICE CREAM MACHINE,REAR BAG n BOX HOLDER. | 35. WALLS, CEILINGS, ATTACHED EQUIPMENT CONSTRUCTED PER CODE: GOOD REPAIR, SURFACES CLEAN AND DUST-LESS CLEANING METHODS - Comments: The walls and ceilings shall be in good repair and easily cleaned.CLEAN WALL SIDE AND AROUND 3 COMP SINK ALSO AROUND REAR MOP AREA  | 36. LIGHTING: REQUIRED MINIMUM FOOT-CANDLES OF LIGHT PROVIDED, FIXTURES SHIELDED - Comments: Shielding to protect against broken glass falling into food shall be provided for all artificial lighting sources in preparation, service, and display facilities.CLEAN LIGHT SHIELDS IN THE EMPLOYEE ROOM AND RESTROOM HALLWAY | 38. VENTILATION: ROOMS AND EQUIPMENT VENTED AS REQUIRED: PLUMBING: INSTALLED AND MAINTAINED - Comments: Ventilation: All plumbing fixtures, such as toilets, sinks, washbasins, etc., must be adequately trapped, vented, and re-vented and properly connected to the sewer in accordance with the plumbing chapter of the Municipal Code of Chicago and the Rules and Regulations of the Board of Health.LADIES 2ND SINK DRAIN RUNNING SLOW INSTRUCTED TO REPAIR                                                                                                                                                                                                                                                                                                                                                                                                                                                                                                                                                                                                                                                                                                                                                                                                                                                                                                                                                                                                                                                                                                                                                                                                                                                                                                     {'latitude': '-87.5400946053766', 'longitude': '41.64467013219805'}  Hegewisch"
      ]
     },
     "execution_count": 450,
     "metadata": {
      "tags": []
     },
     "output_type": "execute_result"
    }
   ],
   "source": [
    "# Out of business facilities that have more than 1 inspection\n",
    "dup_oob = merged_oob.groupby(['Latitude', 'Longitude', 'DBA Name']).filter(lambda x : len(x) > 1)\n",
    "dup_oob.head(10)"
   ]
  },
  {
   "cell_type": "code",
   "execution_count": 451,
   "metadata": {
    "colab": {
     "base_uri": "https://localhost:8080/",
     "height": 1000
    },
    "colab_type": "code",
    "id": "6yhaSo6bGAaI",
    "outputId": "5a1de718-1b91-426e-b32c-ce6bd6e63445"
   },
   "outputs": [
    {
     "name": "stderr",
     "output_type": "stream",
     "text": [
      "/usr/local/lib/python3.6/dist-packages/ipykernel_launcher.py:1: SettingWithCopyWarning: \n",
      "A value is trying to be set on a copy of a slice from a DataFrame\n",
      "\n",
      "See the caveats in the documentation: http://pandas.pydata.org/pandas-docs/stable/user_guide/indexing.html#returning-a-view-versus-a-copy\n",
      "  \"\"\"Entry point for launching an IPython kernel.\n"
     ]
    },
    {
     "data": {
      "text/html": [
       "<div>\n",
       "<style scoped>\n",
       "    .dataframe tbody tr th:only-of-type {\n",
       "        vertical-align: middle;\n",
       "    }\n",
       "\n",
       "    .dataframe tbody tr th {\n",
       "        vertical-align: top;\n",
       "    }\n",
       "\n",
       "    .dataframe thead th {\n",
       "        text-align: right;\n",
       "    }\n",
       "</style>\n",
       "<table border=\"1\" class=\"dataframe\">\n",
       "  <thead>\n",
       "    <tr style=\"text-align: right;\">\n",
       "      <th></th>\n",
       "      <th>Latitude</th>\n",
       "      <th>Longitude</th>\n",
       "      <th>DBA Name</th>\n",
       "      <th>Inspection ID</th>\n",
       "      <th>AKA Name</th>\n",
       "      <th>License #</th>\n",
       "      <th>Facility Type</th>\n",
       "      <th>Risk</th>\n",
       "      <th>Address</th>\n",
       "      <th>Zip</th>\n",
       "      <th>Inspection Date</th>\n",
       "      <th>Inspection Type</th>\n",
       "      <th>Results</th>\n",
       "      <th>Violations</th>\n",
       "      <th>Location</th>\n",
       "      <th>Regions</th>\n",
       "    </tr>\n",
       "  </thead>\n",
       "  <tbody>\n",
       "    <tr>\n",
       "      <th>0</th>\n",
       "      <td>41.644670</td>\n",
       "      <td>-87.540095</td>\n",
       "      <td>BURGER KING</td>\n",
       "      <td>2240219</td>\n",
       "      <td>BURGER KING</td>\n",
       "      <td>2368796.0</td>\n",
       "      <td>RESTAURANT</td>\n",
       "      <td>2</td>\n",
       "      <td>13770 S AVENUE O</td>\n",
       "      <td>60633.0</td>\n",
       "      <td>2018-11-15T00:00:00.000</td>\n",
       "      <td>COMPLAINT</td>\n",
       "      <td>Pass w/ Conditions</td>\n",
       "      <td>2. CITY OF CHICAGO FOOD SERVICE SANITATION CERTIFICATE - Comments: NO CITY OF CHICAGO FOOD SERVICE MANAGERS CERTIFICATE ON PREMISES AS REQUIRED; MUST PROVIDE.  INSTRUCTED THE PIC THAT MANAGERS MUST HAVE A VALID CITY OF CHICAGO FOOD SERVICE MANAGERS CERTIFICATE WHILE ON DUTY AT ALL TIMES.  PRIORITY FOUNDATION VIOLATION 7-38-012 ISSUED. | 3. MANAGEMENT, FOOD EMPLOYEE AND CONDITIONAL EMPLOYEE; KNOWLEDGE, RESPONSIBILITIES AND REPORTING - Comments: : 2-102.14(A) NO EMPLOYEE HEALTH POLICY ON PREMISES AS REQUIRED; MUST PROVIDE. INSTRUCTED THE PIC TO PROVIDE DOCUMENTATION OF EMPLOYEES RESPONSIBILITY TO REPORT ANY ILLNESS TRANSMISSIBLE THROUGH FOOD. PRIORITY FOUNDATION 7-38-012(A) CITATION ISSUED.  VIOLATION PREVIOUSLY ISSUED ON AUGUST 14, 2018. | 5. PROCEDURES FOR RESPONDING TO VOMITING AND DIARRHEAL EVENTS - Comments: 2-501.11 NO VOMIT AND DIARRHEAL CLEAN UP PROCEDURE ON PREMISES AS REQUIRED; MUST PROVIDE. INSTRUCTED THE PIC THAT A VOMIT AND DIARRHEAL CLEAN UP PROCEDURE MUST BE DOCUMENTED AND THE NECESSARY SUPPLIES ON HAND IN THE EVENT OF A VOMIT OR DIARRHEAL INCIDENT ON PREMISES. PRIORITY FOUNDATION VIOLATION 7-38-005 CITATION ISSUED.    VIOLATION WAS PREVIOUSLY ISSUED ON AUGUST 14, 2018.</td>\n",
       "      <td>{'latitude': '-87.5400946053766', 'longitude': '41.64467013219805'}</td>\n",
       "      <td>Hegewisch</td>\n",
       "    </tr>\n",
       "    <tr>\n",
       "      <th>1</th>\n",
       "      <td>41.644670</td>\n",
       "      <td>-87.540095</td>\n",
       "      <td>BURGER KING</td>\n",
       "      <td>2200946</td>\n",
       "      <td>BURGER KING</td>\n",
       "      <td>2368796.0</td>\n",
       "      <td>RESTAURANT</td>\n",
       "      <td>2</td>\n",
       "      <td>13770 S AVENUE O</td>\n",
       "      <td>60633.0</td>\n",
       "      <td>2018-08-14T00:00:00.000</td>\n",
       "      <td>COMPLAINT</td>\n",
       "      <td>Pass w/ Conditions</td>\n",
       "      <td>2. CITY OF CHICAGO FOOD SERVICE SANITATION CERTIFICATE - Comments: 2-102.12 NO VALID CITY OF CHICAGO FOOD SERVICE SANITATION CERTIFICATES ON PREMISES.  THE PIC ON DUTY WAS UNABLE TO PRODUCE A VALID CITY OF CHICAGO FOOD SERVICE SANITATION CERTIFICATE.  NO OTHER PERSONS WERE ON DUTY THAT HAD A VALID CITY OF CHICAGO FOOD SERVICE SANITATION CERTIFICATE.  INSTRUCTED THAT A VALID CERTIFICATE MUST BE ON PREMISES AT ALL TIMES.  PRIORITY FOUNDATION VIOLATION ISSUED 7-38-012. | 3. MANAGEMENT, FOOD EMPLOYEE AND CONDITIONAL EMPLOYEE; KNOWLEDGE, RESPONSIBILITIES AND REPORTING - Comments: 2-102.14(A) NO EMPLOYEE HEALTH POLICY ON PREMISES AS RE1QUIRED; MUST PROVIDE.  INSTRUCTED THE PIC TO PROVIDE DOCUMENTATION OF EMPLOYEES RESPONSIBILITY TO REPORT ANY ILLNESS TRANSMISSIBLE THROUGH FOOD.  PRIORITY FOUNDATION 7-38-012(A) | 5. PROCEDURES FOR RESPONDING TO VOMITING AND DIARRHEAL EVENTS - Comments: 2-501.11 NO VOMIT AND DIARRHEAL CLEAN UP PROCEDURE ON PREMISES AS REQUIRED; MUST PROVIDE.  INSTRUCTED THE PIC THAT A VOMIT AND DIARRHEAL CLEAN UP PROCEDURE MUST BE DOCUMENTED AND THE NECESSARY SUPPLIES ON HAND IN THE EVENT OF A VOMIT OR DIARRHEAL INCIDENT ON PREMISES. PRIORITY FOUNDATION VIOLATION 7-38-005. | 49. NON-FOOD/FOOD CONTACT SURFACES CLEAN - Comments: 4-602.13  OBSERVED THE EXTERIOR SURFACES AND INTERIOR BOTTOM OF THE DEEP FRYERS IN NEED OF CLEANING TO REMOVE GREASE; CLEAN AND MAINTAIN. | 55. PHYSICAL FACILITIES INSTALLED, MAINTAINED &amp; CLEAN - Comments: 6-501.12  THE FLOORS UNDER AROUND AND BEHIND VARIOUS KITCHEN EQUIPMENT NEED CLEANING; ALSO FLOOR DRAINS THROUGHOUT THE KITCHEN NEED CLEANING; CLEAN AND MAINTAIN FLOORS AND FLOOR DRAINS.</td>\n",
       "      <td>{'latitude': '-87.5400946053766', 'longitude': '41.64467013219805'}</td>\n",
       "      <td>Hegewisch</td>\n",
       "    </tr>\n",
       "    <tr>\n",
       "      <th>2</th>\n",
       "      <td>41.644670</td>\n",
       "      <td>-87.540095</td>\n",
       "      <td>BURGER KING</td>\n",
       "      <td>1950282</td>\n",
       "      <td>BURGER KING</td>\n",
       "      <td>2368796.0</td>\n",
       "      <td>RESTAURANT</td>\n",
       "      <td>2</td>\n",
       "      <td>13770 S AVENUE O</td>\n",
       "      <td>60633.0</td>\n",
       "      <td>2016-08-12T00:00:00.000</td>\n",
       "      <td>CANVASS</td>\n",
       "      <td>Pass</td>\n",
       "      <td>34. FLOORS: CONSTRUCTED PER CODE, CLEANED, GOOD REPAIR, COVING INSTALLED, DUST-LESS CLEANING METHODS USED - Comments: FLOORS NEED CLEANING IN THE REAR STORAGE AREA ALONG THE WALL BASE UNDER STORAGE SHELVING AND IN THE PREP AREA AROUND THE COOKING EQUIPMENT TO REMOVE SPILLS,GREASE AND DEBRIS. ALSO CLEAN THE MATS IN THE WALK IN COOLER AND FREEZER TO REMOVE SPILLS. | 35. WALLS, CEILINGS, ATTACHED EQUIPMENT CONSTRUCTED PER CODE: GOOD REPAIR, SURFACES CLEAN AND DUST-LESS CLEANING METHODS - Comments: PIPING ALONG THE WALL BEHIND THE FRYER ARE ENCRUSTED WITH GREASE. MUST CLEAN AND MAINTAIN. | 38. VENTILATION: ROOMS AND EQUIPMENT VENTED AS REQUIRED: PLUMBING: INSTALLED AND MAINTAINED - Comments: NOTED A LEAK AT THE 3 COMPARTMENT SINK HOT WATER KNOB. MUST REPAIR AND MAINTAIN.</td>\n",
       "      <td>{'latitude': '-87.5400946053766', 'longitude': '41.64467013219805'}</td>\n",
       "      <td>Hegewisch</td>\n",
       "    </tr>\n",
       "    <tr>\n",
       "      <th>3</th>\n",
       "      <td>41.644670</td>\n",
       "      <td>-87.540095</td>\n",
       "      <td>BURGER KING</td>\n",
       "      <td>1523175</td>\n",
       "      <td>BURGER KING</td>\n",
       "      <td>2368796.0</td>\n",
       "      <td>RESTAURANT</td>\n",
       "      <td>2</td>\n",
       "      <td>13770 S AVENUE O</td>\n",
       "      <td>60633.0</td>\n",
       "      <td>2015-02-23T00:00:00.000</td>\n",
       "      <td>LICENSE</td>\n",
       "      <td>Pass</td>\n",
       "      <td>33. FOOD AND NON-FOOD CONTACT EQUIPMENT UTENSILS CLEAN, FREE OF ABRASIVE DETERGENTS - Comments: CLEAN THEBOTTOM COMPARTMENT OF DEEP FRYERS OF GREASE BUILD-UP AND CLEAN INTERIOR OF THE CHEST FREEZER AT PREP AREA,INSTRUCTED TO CLEAN AND MAINTAIN EQUIPMENT | 34. FLOORS: CONSTRUCTED PER CODE, CLEANED, GOOD REPAIR, COVING INSTALLED, DUST-LESS CLEANING METHODS USED - Comments: CLEAN THE FLOORS IN PREP AREA ,ALONG WALL BASE AND CORNERS IN PREP AREA AND REAR OF PREMISES | 45. FOOD HANDLER REQUIREMENTS MET - Comments: MUST PROVIDE THE FOOD HANDLERS CERTIFICATES OR PROOF OF ENROLLEMENT</td>\n",
       "      <td>{'latitude': '-87.5400946053766', 'longitude': '41.64467013219805'}</td>\n",
       "      <td>Hegewisch</td>\n",
       "    </tr>\n",
       "    <tr>\n",
       "      <th>6</th>\n",
       "      <td>41.644670</td>\n",
       "      <td>-87.540095</td>\n",
       "      <td>BURGER KING</td>\n",
       "      <td>1493718</td>\n",
       "      <td>BURGER KING #7268</td>\n",
       "      <td>1473518.0</td>\n",
       "      <td>RESTAURANT</td>\n",
       "      <td>2</td>\n",
       "      <td>13770 S AVENUE O</td>\n",
       "      <td>60633.0</td>\n",
       "      <td>2014-08-18T00:00:00.000</td>\n",
       "      <td>CANVASS</td>\n",
       "      <td>Fail</td>\n",
       "      <td>12. HAND WASHING FACILITIES: WITH SOAP AND SANITARY HAND DRYING DEVICES, CONVENIENT AND ACCESSIBLE TO FOOD PREP AREA - Comments: FOUND NO SOAP AT THE FRONT EXPOSED HANDWASHING SINK. INSTRUCTED TO PROVIDE AND MAINTAIN AT ALL TIMES. CRITICAL VIOLATION 7-38-030 | 21. * CERTIFIED FOOD MANAGER ON SITE WHEN POTENTIALLY HAZARDOUS FOODS ARE  PREPARED AND SERVED - Comments: NO CHICAGO FOOD SANITATION MANAGER ON DUTY OR CERTIFICATE POSTED WHEN POTENTIALLY HAZARDOUS FOOD (COOKED HAMBURGER 161.51F, SAUSAGE 170.8F) PREPARED AND SERVED. SERIOUS VIOLATION 7-38-012 CITATION   | 28. * INSPECTION REPORT SUMMARY DISPLAYED AND VISIBLE TO ALL CUSTOMERS - Comments: FOUND THE PREVIOUS NON COMPLIANCE INSPECTION REPORT SUMMARY, DATED DECEMBER 19, 2012 NOT POSTED IN PLAIN VIEW OF CUSTOMERS. INSTRUCTED TO KEEP SUMMARY POSTED AT ALL TIMES. SERIOUS VIOLATIOIN 7-42-010 (B) | 29. PREVIOUS MINOR VIOLATION(S) CORRECTED 7-42-090 - Comments: FOUND PREVIOUS MINOR VIOLATIONS FROM REPORT #1300984, DATED 12/19/2012 NOT CORRECTED AND/OR MAINTAINED. INSTRUCTED TO CORRECT AND MAINTAIN:    33-CLEAN INTERIOR AND EXTERIOR OF FRYERS, PREP TABLES, COOLERS, CABINETS.  34-GROUT FLOOR TILES IN ALL AREAS. FLOORS NEED CLEANING UNDER FRYERS (FOOD DEBRIS, GREASE BUILD UP), PREP TABLES, ETC. ALONG WALLS AND IN ALL CORNERS IN PREP STORAGE AND DRIVE THRU AREAS.   35-REPLACE MISSING AND DAMAGED TILES ALONG BASEBOARDS IN PREP AND STORAGE AREAS.  38-REPAIR LEAKING FAUCET ON 3-COMP. SINK.  42-ALL FOOD HANDLERS MUST WEAR HAIR RESTRAINTS.  SERIOUS VIOLATION 7-42-090 | 33. FOOD AND NON-FOOD CONTACT EQUIPMENT UTENSILS CLEAN, FREE OF ABRASIVE DETERGENTS - Comments: FOUND STORAGE RACKS IN PREP AREA IN NEED OF CLEANING. INSTRUCTED TO CLEAN AND MAINTAIN. | 38. VENTILATION: ROOMS AND EQUIPMENT VENTED AS REQUIRED: PLUMBING: INSTALLED AND MAINTAINED - Comments: FOUND A LEAK AT THE BASE OF THE HOT WATER KNOB ON THE 2-COMPARTMENT SINK IN THE PREP AREA. INSTRUCTED TO FIX AND MAINTAIN.</td>\n",
       "      <td>{'latitude': '-87.5400946053766', 'longitude': '41.64467013219805'}</td>\n",
       "      <td>Hegewisch</td>\n",
       "    </tr>\n",
       "    <tr>\n",
       "      <th>7</th>\n",
       "      <td>41.644670</td>\n",
       "      <td>-87.540095</td>\n",
       "      <td>BURGER KING</td>\n",
       "      <td>1300984</td>\n",
       "      <td>BURGER KING #7268</td>\n",
       "      <td>1473518.0</td>\n",
       "      <td>RESTAURANT</td>\n",
       "      <td>2</td>\n",
       "      <td>13770 S AVENUE O</td>\n",
       "      <td>60633.0</td>\n",
       "      <td>2012-12-19T00:00:00.000</td>\n",
       "      <td>CANVASS</td>\n",
       "      <td>Pass w/ Conditions</td>\n",
       "      <td>21. * CERTIFIED FOOD MANAGER ON SITE WHEN POTENTIALLY HAZARDOUS FOODS ARE  PREPARED AND SERVED - Comments: NO CHICAGO FOOD SANITATION MANAGER ON DUTY OR CERTIFICATE POSTED WHEN POTENTIALLY HAZARDOUS FOOD (COOKED HAMBURGER 167F, SAUSAGE 159.8F, EGGS 147.8F) PREPARED AND SERVED. SERIOUS VIOLATION 7-38-012 CITATION ISSUED. | 33. FOOD AND NON-FOOD CONTACT EQUIPMENT UTENSILS CLEAN, FREE OF ABRASIVE DETERGENTS - Comments: CLEAN INTERIOR AND EXTERIOR OF FRYERS, PREP TABLES, COOLERS, CABINETS. | 34. FLOORS: CONSTRUCTED PER CODE, CLEANED, GOOD REPAIR, COVING INSTALLED, DUST-LESS CLEANING METHODS USED - Comments: GROUT FLOOR TILES IN ALL AREAS. FLOORS NEED CLEANING UNDER FRYERS (FOOD DEBRIS, GREASE BUILDUP), PREP TABLES, ETC ALONG WALLS AND IN ALL CORNERS IN PREP, STORAGE AND DRIVE THRU AREAS. REMOVE EXCESS WATER ON FLOOR IN DRIVE THRU AREA. ELEVATE ALL STOCK OFF FLOOR INSIDE WALK-IN FREEZER AND REAR STORAGE AREA. | 35. WALLS, CEILINGS, ATTACHED EQUIPMENT CONSTRUCTED PER CODE: GOOD REPAIR, SURFACES CLEAN AND DUST-LESS CLEANING METHODS - Comments: REPLACE MISSING AND DAMAGED TILES ALONG BASEBOARDS IN PREP AND STORAGE AREAS. | 38. VENTILATION: ROOMS AND EQUIPMENT VENTED AS REQUIRED: PLUMBING: INSTALLED AND MAINTAINED - Comments: REPAIR LEAKING FAUCET ON 3-COMP SINK AND FRONT EXPOSED SINK (SLOW DRAINING). | 40. REFRIGERATION AND METAL STEM THERMOMETERS PROVIDED AND CONSPICUOUS - Comments: PROVIDE THERMOMETERS IN ALL COOLERS. | 41. PREMISES MAINTAINED FREE OF LITTER, UNNECESSARY ARTICLES, CLEANING  EQUIPMENT PROPERLY STORED - Comments: STORE MOP HEAD UPRIGHT TO PREVENT INSECT BREEDING. | 42. APPROPRIATE METHOD OF HANDLING OF FOOD (ICE) HAIR RESTRAINTS AND CLEAN APPAREL WORN - Comments: ALL FOOD HANDLERS MUST WEAR HAIR RESTRAINTS.</td>\n",
       "      <td>{'latitude': '-87.5400946053766', 'longitude': '41.64467013219805'}</td>\n",
       "      <td>Hegewisch</td>\n",
       "    </tr>\n",
       "    <tr>\n",
       "      <th>8</th>\n",
       "      <td>41.644670</td>\n",
       "      <td>-87.540095</td>\n",
       "      <td>BURGER KING</td>\n",
       "      <td>537818</td>\n",
       "      <td>BURGER KING #7268</td>\n",
       "      <td>1473518.0</td>\n",
       "      <td>RESTAURANT</td>\n",
       "      <td>2</td>\n",
       "      <td>13770 S AVENUE O</td>\n",
       "      <td>60633.0</td>\n",
       "      <td>2012-01-10T00:00:00.000</td>\n",
       "      <td>COMPLAINT</td>\n",
       "      <td>Pass w/ Conditions</td>\n",
       "      <td>8. SANITIZING RINSE FOR EQUIPMENT AND UTENSILS:  CLEAN, PROPER TEMPERATURE, CONCENTRATION, EXPOSURE TIME - Comments: Equipment and utensils should get proper exposure to the sanitizing solution during the rinse cycle.  Bactericidal treatment shall consist of exposure of all dish and utensil surfaces to a rinse of clean water at a temperature of not less than 180F. PREMISES HAS INSTALLED A SOFT SERVE ICE CREAM MACHINE IMPROPER SANITIZING NO HOT AND COLD RUNNING WATER ABOVE THE MACHINE AT THE FREEZER UNIT FOR THE PURPOSE OF WASHING AND SANITIZING OF ALL NON-REMOVAL FOOD CONTACT SURFACES OF THE FREEZER UNIT AND THE SANITIZING OF RE-ASSEMBLED FREEZER PARTS. MACHINE TAGGED INSTRUCTED NOT TO USE TIL CDPH RETURNS TO CHECK THE INSTULATION OF THE HOT AND COLD RUNNING WATER TO THE TOP OF THE FREEZER UNIT. STARTED TO SELL SOFT SERVE ICE CREAM IN JULY OF 2011. | 21. * CERTIFIED FOOD MANAGER ON SITE WHEN POTENTIALLY HAZARDOUS FOODS ARE  PREPARED AND SERVED - Comments: A certified food service manager must be present in all establishments at which potentially hazardous food is prepared or served.NO CITY OF CHICAGO SANITATION CERTIFICATE POSTED ON PREMISES AND NO CITY OF CHICAGO MANAGER ON PREMISES WHEN POTENTIALLY HAZADROUS FOODS ARE BEING SERVED AND PREPARED.NEED TO PROVIDE. | 33. FOOD AND NON-FOOD CONTACT EQUIPMENT UTENSILS CLEAN, FREE OF ABRASIVE DETERGENTS - Comments: All utensils shall be thoroughly cleaned and sanitized after each usage.NEED TO CLEAN AND SANITIZE BOTH FOOD CHOPPERS IN REAR PREP AREA, AND NEED TO CLEAN INTERIOR OF FRYER DOORS. | 34. FLOORS: CONSTRUCTED PER CODE, CLEANED, GOOD REPAIR, COVING INSTALLED, DUST-LESS CLEANING METHODS USED - Comments: The floors shall be constructed per code, be smooth and easily cleaned, and be kept clean and in good repair.NEED TO CLEAN FLOOR REAR UNDER BAG IN BOX SODA HOLDER. | 35. WALLS, CEILINGS, ATTACHED EQUIPMENT CONSTRUCTED PER CODE: GOOD REPAIR, SURFACES CLEAN AND DUST-LESS CLEANING METHODS - Comments: The walls and ceilings shall be in good repair and easily cleaned.CLEAN WALLS AROUND REAR MOP AREA. | 36. LIGHTING: REQUIRED MINIMUM FOOT-CANDLES OF LIGHT PROVIDED, FIXTURES SHIELDED - Comments: Shielding to protect against broken glass falling into food shall be provided for all artificial lighting sources in preparation, service, and display facilities.CLEAN LIGHT SHIELDS THRU-OUT REAR PREP AREA. | 38. VENTILATION: ROOMS AND EQUIPMENT VENTED AS REQUIRED: PLUMBING: INSTALLED AND MAINTAINED - Comments: Ventilation: All plumbing fixtures, such as toilets, sinks, washbasins, etc., must be adequately trapped, vented, and re-vented and properly connected to the sewer in accordance with the plumbing chapter of the Municipal Code of Chicago and the Rules and Regulations of the Board of Health. LADIES 2ND SINK DRAIN RUNNING SLOW NEED TO REPAIR.</td>\n",
       "      <td>{'latitude': '-87.5400946053766', 'longitude': '41.64467013219805'}</td>\n",
       "      <td>Hegewisch</td>\n",
       "    </tr>\n",
       "    <tr>\n",
       "      <th>9</th>\n",
       "      <td>41.644670</td>\n",
       "      <td>-87.540095</td>\n",
       "      <td>BURGER KING</td>\n",
       "      <td>537384</td>\n",
       "      <td>BURGER KING #7268</td>\n",
       "      <td>1473518.0</td>\n",
       "      <td>RESTAURANT</td>\n",
       "      <td>2</td>\n",
       "      <td>13770 S AVENUE O</td>\n",
       "      <td>60633.0</td>\n",
       "      <td>2011-05-26T00:00:00.000</td>\n",
       "      <td>COMPLAINT</td>\n",
       "      <td>Pass</td>\n",
       "      <td>33. FOOD AND NON-FOOD CONTACT EQUIPMENT UTENSILS CLEAN, FREE OF ABRASIVE DETERGENTS - Comments: All utensils shall be thoroughly cleaned and sanitized after each usage.OBSERVED THE INTERIOR LID OF THE ICE MACHINE INSTRUCTED TO CLEAN | 34. FLOORS: CONSTRUCTED PER CODE, CLEANED, GOOD REPAIR, COVING INSTALLED, DUST-LESS CLEANING METHODS USED - Comments: The floors shall be constructed per code, be smooth and easily cleaned, and be kept clean and in good repair.CLEAN FLOOR DRAINS, FLOOR FRONT UNDER ICE CREAM MACHINE,REAR BAG n BOX HOLDER. | 35. WALLS, CEILINGS, ATTACHED EQUIPMENT CONSTRUCTED PER CODE: GOOD REPAIR, SURFACES CLEAN AND DUST-LESS CLEANING METHODS - Comments: The walls and ceilings shall be in good repair and easily cleaned.CLEAN WALL SIDE AND AROUND 3 COMP SINK ALSO AROUND REAR MOP AREA  | 36. LIGHTING: REQUIRED MINIMUM FOOT-CANDLES OF LIGHT PROVIDED, FIXTURES SHIELDED - Comments: Shielding to protect against broken glass falling into food shall be provided for all artificial lighting sources in preparation, service, and display facilities.CLEAN LIGHT SHIELDS IN THE EMPLOYEE ROOM AND RESTROOM HALLWAY | 38. VENTILATION: ROOMS AND EQUIPMENT VENTED AS REQUIRED: PLUMBING: INSTALLED AND MAINTAINED - Comments: Ventilation: All plumbing fixtures, such as toilets, sinks, washbasins, etc., must be adequately trapped, vented, and re-vented and properly connected to the sewer in accordance with the plumbing chapter of the Municipal Code of Chicago and the Rules and Regulations of the Board of Health.LADIES 2ND SINK DRAIN RUNNING SLOW INSTRUCTED TO REPAIR</td>\n",
       "      <td>{'latitude': '-87.5400946053766', 'longitude': '41.64467013219805'}</td>\n",
       "      <td>Hegewisch</td>\n",
       "    </tr>\n",
       "    <tr>\n",
       "      <th>10</th>\n",
       "      <td>41.644670</td>\n",
       "      <td>-87.540095</td>\n",
       "      <td>BURGER KING</td>\n",
       "      <td>419402</td>\n",
       "      <td>BURGER KING #7268</td>\n",
       "      <td>1473518.0</td>\n",
       "      <td>RESTAURANT</td>\n",
       "      <td>2</td>\n",
       "      <td>13770 S AVENUE O</td>\n",
       "      <td>60633.0</td>\n",
       "      <td>2010-10-12T00:00:00.000</td>\n",
       "      <td>COMPLAINT</td>\n",
       "      <td>Pass w/ Conditions</td>\n",
       "      <td>3. POTENTIALLY HAZARDOUS FOOD MEETS TEMPERATURE REQUIREMENT DURING STORAGE, PREPARATION DISPLAY AND SERVICE - Comments: All hot food shall be stored at a temperature of 140F or higher. All cold food shall be stored at a temperature of 40F or less.  FOUND FOOD SETTING OUT ON THE COUNTER NOT ICED DOWN OR IN COLD HOLDING UNIT - ONE POUND OF HAM AT 76F, RED BICANTE SAUCE 78.4F, ONE POUND AMERICAN CHEESE DRIED OUT AND CRACKED AT 78.2. CRITICAL CITATION GIVEN 7-38-005(A). H000062416 12 COURT DATE 11/18/2010  10:00AM ROOM112 AT 400 W SUPERIOR CHICAGO OR YOU MAY PAY THE FINE THROUGH THE MAIL SEE THE BACK OF THE CITATION.   MANAGER DISPOSED OF THE FOOD AND PUT FRESH FOOD ON ICE.  | 12. HAND WASHING FACILITIES: WITH SOAP AND SANITARY HAND DRYING DEVICES, CONVENIENT AND ACCESSIBLE TO FOOD PREP AREA - Comments: Adequate and convenient hand washing facilities shall be provided for all employees.  NO SOAP AT THE TWO EXPOSED HAND SINKS IN THE PREP AREAS. ALSO NONE IN THE TOILET ROOMS. EMPLOYEE WAS SENT OUT TO BUY MORE HAND SOAP. CRITICAL CITATION GIVEN 7-38-030  H000062416 12. | 21. * CERTIFIED FOOD MANAGER ON SITE WHEN POTENTIALLY HAZARDOUS FOODS ARE  PREPARED AND SERVED - Comments: A certified food service manager must be present in all establishments at which potentially hazardous food is prepared or served.  NO ONE HERE IS CERTIFIED OR HAS A CITY OF CHICAGO CERTIFIED FOOD MANAGERS CERTIFICATE ON SITE WHEN POTENTIALLY HAZARDOUS FOODS ARE PREP AND SERVED. SERIOUS CITATION GIVEN 7-38-012  H00062417 13 COURT DATE SEE ABOVE.   INSTRUCTED TO PROVIDE CITY OF CHICAGO CERTIFIED MANAGERS. | 33. FOOD AND NON-FOOD CONTACT EQUIPMENT UTENSILS CLEAN, FREE OF ABRASIVE DETERGENTS - Comments: All utensils shall be thoroughly cleaned and sanitized after each usage.  ALL COOKING EQUIPMENT NOT CLEAN IS THICK WITH GREASE BUILDUP.  INSTRUCTED TO CLEAN SAME. | 34. FLOORS: CONSTRUCTED PER CODE, CLEANED, GOOD REPAIR, COVING INSTALLED, DUST-LESS CLEANING METHODS USED - Comments: The floors shall be constructed per code, be smooth and easily cleaned, and be kept clean and in good repair.  FLOOR UNDER THE COOKING EQUIPMENT NOT CLEAN THICK WITH GREASE BUILDUP.  INSTD. TO CLEAN SAME.</td>\n",
       "      <td>{'latitude': '-87.5400946053766', 'longitude': '41.64467013219805'}</td>\n",
       "      <td>Hegewisch</td>\n",
       "    </tr>\n",
       "    <tr>\n",
       "      <th>14</th>\n",
       "      <td>41.646371</td>\n",
       "      <td>-87.560342</td>\n",
       "      <td>WINJAMMER MARINA</td>\n",
       "      <td>1395212</td>\n",
       "      <td>WINJAMMER MARINA</td>\n",
       "      <td>79113.0</td>\n",
       "      <td>RESTAURANT</td>\n",
       "      <td>2</td>\n",
       "      <td>13701 S HOXIE AVE</td>\n",
       "      <td>60633.0</td>\n",
       "      <td>2013-12-30T00:00:00.000</td>\n",
       "      <td>CANVASS</td>\n",
       "      <td>Pass</td>\n",
       "      <td>33. FOOD AND NON-FOOD CONTACT EQUIPMENT UTENSILS CLEAN, FREE OF ABRASIVE DETERGENTS - Comments: CLEAN INTERIOR AND EXTERIOR OF PIZZA OVEN, TOASTER OVEN, PREP TABLES, SHELVES, STEAM TABLES, COOKING EQUIPMENT, ICE MACHINE.   | 34. FLOORS: CONSTRUCTED PER CODE, CLEANED, GOOD REPAIR, COVING INSTALLED, DUST-LESS CLEANING METHODS USED - Comments: CLEAN FLOORS UNDER ALL EQUIPMENT, ALONG WALLS AND IN ALL CORNERS IN KITCHEN, BAR, AND STORAGE AREAS.   | 35. WALLS, CEILINGS, ATTACHED EQUIPMENT CONSTRUCTED PER CODE: GOOD REPAIR, SURFACES CLEAN AND DUST-LESS CLEANING METHODS - Comments: REPLACE MISSING BASEBOARDS ALONG WALLS IN LIQUOR STORAGE AREA. SEAL OPENINGS IN WALLS IN ELECTRICAL AND FURNACE ROOMS.</td>\n",
       "      <td>{'latitude': '-87.56034196262158', 'longitude': '41.64637082018021'}</td>\n",
       "      <td>Hegewisch</td>\n",
       "    </tr>\n",
       "  </tbody>\n",
       "</table>\n",
       "</div>"
      ],
      "text/plain": [
       "     Latitude  Longitude          DBA Name  Inspection ID           AKA Name  License # Facility Type  Risk             Address      Zip          Inspection Date Inspection Type             Results                                                                                                                                                                                                                                                                                                                                                                                                                                                                                                                                                                                                                                                                                                                                                                                                                                                                                                                                                                                                                                                                                                                                                                                                                                                                                                                                                                                                                                                                                                                                                                                                                                                                                                                                                                                                                                                                                                                                                                                                                                                                                                                                                                                                                                                                                                                                                                                                                                                                                                                                                                                                                                                                                                                                                                                                                                                                                                                                     Violations                                                              Location    Regions\n",
       "0   41.644670 -87.540095  BURGER KING       2240219        BURGER KING        2368796.0  RESTAURANT    2     13770 S AVENUE O    60633.0  2018-11-15T00:00:00.000  COMPLAINT       Pass w/ Conditions  2. CITY OF CHICAGO FOOD SERVICE SANITATION CERTIFICATE - Comments: NO CITY OF CHICAGO FOOD SERVICE MANAGERS CERTIFICATE ON PREMISES AS REQUIRED; MUST PROVIDE.  INSTRUCTED THE PIC THAT MANAGERS MUST HAVE A VALID CITY OF CHICAGO FOOD SERVICE MANAGERS CERTIFICATE WHILE ON DUTY AT ALL TIMES.  PRIORITY FOUNDATION VIOLATION 7-38-012 ISSUED. | 3. MANAGEMENT, FOOD EMPLOYEE AND CONDITIONAL EMPLOYEE; KNOWLEDGE, RESPONSIBILITIES AND REPORTING - Comments: : 2-102.14(A) NO EMPLOYEE HEALTH POLICY ON PREMISES AS REQUIRED; MUST PROVIDE. INSTRUCTED THE PIC TO PROVIDE DOCUMENTATION OF EMPLOYEES RESPONSIBILITY TO REPORT ANY ILLNESS TRANSMISSIBLE THROUGH FOOD. PRIORITY FOUNDATION 7-38-012(A) CITATION ISSUED.  VIOLATION PREVIOUSLY ISSUED ON AUGUST 14, 2018. | 5. PROCEDURES FOR RESPONDING TO VOMITING AND DIARRHEAL EVENTS - Comments: 2-501.11 NO VOMIT AND DIARRHEAL CLEAN UP PROCEDURE ON PREMISES AS REQUIRED; MUST PROVIDE. INSTRUCTED THE PIC THAT A VOMIT AND DIARRHEAL CLEAN UP PROCEDURE MUST BE DOCUMENTED AND THE NECESSARY SUPPLIES ON HAND IN THE EVENT OF A VOMIT OR DIARRHEAL INCIDENT ON PREMISES. PRIORITY FOUNDATION VIOLATION 7-38-005 CITATION ISSUED.    VIOLATION WAS PREVIOUSLY ISSUED ON AUGUST 14, 2018.                                                                                                                                                                                                                                                                                                                                                                                                                                                                                                                                                                                                                                                                                                                                                                                                                                                                                                                                                                                                                                                                                                                                                                                                                                                                                                                                                                                                                                                                                                                                                                                                                                                                                              {'latitude': '-87.5400946053766', 'longitude': '41.64467013219805'}   Hegewisch\n",
       "1   41.644670 -87.540095  BURGER KING       2200946        BURGER KING        2368796.0  RESTAURANT    2     13770 S AVENUE O    60633.0  2018-08-14T00:00:00.000  COMPLAINT       Pass w/ Conditions  2. CITY OF CHICAGO FOOD SERVICE SANITATION CERTIFICATE - Comments: 2-102.12 NO VALID CITY OF CHICAGO FOOD SERVICE SANITATION CERTIFICATES ON PREMISES.  THE PIC ON DUTY WAS UNABLE TO PRODUCE A VALID CITY OF CHICAGO FOOD SERVICE SANITATION CERTIFICATE.  NO OTHER PERSONS WERE ON DUTY THAT HAD A VALID CITY OF CHICAGO FOOD SERVICE SANITATION CERTIFICATE.  INSTRUCTED THAT A VALID CERTIFICATE MUST BE ON PREMISES AT ALL TIMES.  PRIORITY FOUNDATION VIOLATION ISSUED 7-38-012. | 3. MANAGEMENT, FOOD EMPLOYEE AND CONDITIONAL EMPLOYEE; KNOWLEDGE, RESPONSIBILITIES AND REPORTING - Comments: 2-102.14(A) NO EMPLOYEE HEALTH POLICY ON PREMISES AS RE1QUIRED; MUST PROVIDE.  INSTRUCTED THE PIC TO PROVIDE DOCUMENTATION OF EMPLOYEES RESPONSIBILITY TO REPORT ANY ILLNESS TRANSMISSIBLE THROUGH FOOD.  PRIORITY FOUNDATION 7-38-012(A) | 5. PROCEDURES FOR RESPONDING TO VOMITING AND DIARRHEAL EVENTS - Comments: 2-501.11 NO VOMIT AND DIARRHEAL CLEAN UP PROCEDURE ON PREMISES AS REQUIRED; MUST PROVIDE.  INSTRUCTED THE PIC THAT A VOMIT AND DIARRHEAL CLEAN UP PROCEDURE MUST BE DOCUMENTED AND THE NECESSARY SUPPLIES ON HAND IN THE EVENT OF A VOMIT OR DIARRHEAL INCIDENT ON PREMISES. PRIORITY FOUNDATION VIOLATION 7-38-005. | 49. NON-FOOD/FOOD CONTACT SURFACES CLEAN - Comments: 4-602.13  OBSERVED THE EXTERIOR SURFACES AND INTERIOR BOTTOM OF THE DEEP FRYERS IN NEED OF CLEANING TO REMOVE GREASE; CLEAN AND MAINTAIN. | 55. PHYSICAL FACILITIES INSTALLED, MAINTAINED & CLEAN - Comments: 6-501.12  THE FLOORS UNDER AROUND AND BEHIND VARIOUS KITCHEN EQUIPMENT NEED CLEANING; ALSO FLOOR DRAINS THROUGHOUT THE KITCHEN NEED CLEANING; CLEAN AND MAINTAIN FLOORS AND FLOOR DRAINS.                                                                                                                                                                                                                                                                                                                                                                                                                                                                                                                                                                                                                                                                                                                                                                                                                                                                                                                                                                                                                                                                                                                                                                                                                                {'latitude': '-87.5400946053766', 'longitude': '41.64467013219805'}   Hegewisch\n",
       "2   41.644670 -87.540095  BURGER KING       1950282        BURGER KING        2368796.0  RESTAURANT    2     13770 S AVENUE O    60633.0  2016-08-12T00:00:00.000  CANVASS         Pass                34. FLOORS: CONSTRUCTED PER CODE, CLEANED, GOOD REPAIR, COVING INSTALLED, DUST-LESS CLEANING METHODS USED - Comments: FLOORS NEED CLEANING IN THE REAR STORAGE AREA ALONG THE WALL BASE UNDER STORAGE SHELVING AND IN THE PREP AREA AROUND THE COOKING EQUIPMENT TO REMOVE SPILLS,GREASE AND DEBRIS. ALSO CLEAN THE MATS IN THE WALK IN COOLER AND FREEZER TO REMOVE SPILLS. | 35. WALLS, CEILINGS, ATTACHED EQUIPMENT CONSTRUCTED PER CODE: GOOD REPAIR, SURFACES CLEAN AND DUST-LESS CLEANING METHODS - Comments: PIPING ALONG THE WALL BEHIND THE FRYER ARE ENCRUSTED WITH GREASE. MUST CLEAN AND MAINTAIN. | 38. VENTILATION: ROOMS AND EQUIPMENT VENTED AS REQUIRED: PLUMBING: INSTALLED AND MAINTAINED - Comments: NOTED A LEAK AT THE 3 COMPARTMENT SINK HOT WATER KNOB. MUST REPAIR AND MAINTAIN.                                                                                                                                                                                                                                                                                                                                                                                                                                                                                                                                                                                                                                                                                                                                                                                                                                                                                                                                                                                                                                                                                                                                                                                                                                                                                                                                                                                                                                                                                                                                                                                                                                                                                                                                                                                                                                                                                                                                                                                                                                                                                                                                      {'latitude': '-87.5400946053766', 'longitude': '41.64467013219805'}   Hegewisch\n",
       "3   41.644670 -87.540095  BURGER KING       1523175        BURGER KING        2368796.0  RESTAURANT    2     13770 S AVENUE O    60633.0  2015-02-23T00:00:00.000  LICENSE         Pass                33. FOOD AND NON-FOOD CONTACT EQUIPMENT UTENSILS CLEAN, FREE OF ABRASIVE DETERGENTS - Comments: CLEAN THEBOTTOM COMPARTMENT OF DEEP FRYERS OF GREASE BUILD-UP AND CLEAN INTERIOR OF THE CHEST FREEZER AT PREP AREA,INSTRUCTED TO CLEAN AND MAINTAIN EQUIPMENT | 34. FLOORS: CONSTRUCTED PER CODE, CLEANED, GOOD REPAIR, COVING INSTALLED, DUST-LESS CLEANING METHODS USED - Comments: CLEAN THE FLOORS IN PREP AREA ,ALONG WALL BASE AND CORNERS IN PREP AREA AND REAR OF PREMISES | 45. FOOD HANDLER REQUIREMENTS MET - Comments: MUST PROVIDE THE FOOD HANDLERS CERTIFICATES OR PROOF OF ENROLLEMENT                                                                                                                                                                                                                                                                                                                                                                                                                                                                                                                                                                                                                                                                                                                                                                                                                                                                                                                                                                                                                                                                                                                                                                                                                                                                                                                                                                                                                                                                                                                                                                                                                                                                                                                                                                                                                                                                                                                                                                                                                                                                                                                                                                                                                                                                                                                                         {'latitude': '-87.5400946053766', 'longitude': '41.64467013219805'}   Hegewisch\n",
       "6   41.644670 -87.540095  BURGER KING       1493718        BURGER KING #7268  1473518.0  RESTAURANT    2     13770 S AVENUE O    60633.0  2014-08-18T00:00:00.000  CANVASS         Fail                12. HAND WASHING FACILITIES: WITH SOAP AND SANITARY HAND DRYING DEVICES, CONVENIENT AND ACCESSIBLE TO FOOD PREP AREA - Comments: FOUND NO SOAP AT THE FRONT EXPOSED HANDWASHING SINK. INSTRUCTED TO PROVIDE AND MAINTAIN AT ALL TIMES. CRITICAL VIOLATION 7-38-030 | 21. * CERTIFIED FOOD MANAGER ON SITE WHEN POTENTIALLY HAZARDOUS FOODS ARE  PREPARED AND SERVED - Comments: NO CHICAGO FOOD SANITATION MANAGER ON DUTY OR CERTIFICATE POSTED WHEN POTENTIALLY HAZARDOUS FOOD (COOKED HAMBURGER 161.51F, SAUSAGE 170.8F) PREPARED AND SERVED. SERIOUS VIOLATION 7-38-012 CITATION   | 28. * INSPECTION REPORT SUMMARY DISPLAYED AND VISIBLE TO ALL CUSTOMERS - Comments: FOUND THE PREVIOUS NON COMPLIANCE INSPECTION REPORT SUMMARY, DATED DECEMBER 19, 2012 NOT POSTED IN PLAIN VIEW OF CUSTOMERS. INSTRUCTED TO KEEP SUMMARY POSTED AT ALL TIMES. SERIOUS VIOLATIOIN 7-42-010 (B) | 29. PREVIOUS MINOR VIOLATION(S) CORRECTED 7-42-090 - Comments: FOUND PREVIOUS MINOR VIOLATIONS FROM REPORT #1300984, DATED 12/19/2012 NOT CORRECTED AND/OR MAINTAINED. INSTRUCTED TO CORRECT AND MAINTAIN:    33-CLEAN INTERIOR AND EXTERIOR OF FRYERS, PREP TABLES, COOLERS, CABINETS.  34-GROUT FLOOR TILES IN ALL AREAS. FLOORS NEED CLEANING UNDER FRYERS (FOOD DEBRIS, GREASE BUILD UP), PREP TABLES, ETC. ALONG WALLS AND IN ALL CORNERS IN PREP STORAGE AND DRIVE THRU AREAS.   35-REPLACE MISSING AND DAMAGED TILES ALONG BASEBOARDS IN PREP AND STORAGE AREAS.  38-REPAIR LEAKING FAUCET ON 3-COMP. SINK.  42-ALL FOOD HANDLERS MUST WEAR HAIR RESTRAINTS.  SERIOUS VIOLATION 7-42-090 | 33. FOOD AND NON-FOOD CONTACT EQUIPMENT UTENSILS CLEAN, FREE OF ABRASIVE DETERGENTS - Comments: FOUND STORAGE RACKS IN PREP AREA IN NEED OF CLEANING. INSTRUCTED TO CLEAN AND MAINTAIN. | 38. VENTILATION: ROOMS AND EQUIPMENT VENTED AS REQUIRED: PLUMBING: INSTALLED AND MAINTAINED - Comments: FOUND A LEAK AT THE BASE OF THE HOT WATER KNOB ON THE 2-COMPARTMENT SINK IN THE PREP AREA. INSTRUCTED TO FIX AND MAINTAIN.                                                                                                                                                                                                                                                                                                                                                                                                                                                                                                                                                                                                                                                                                                                                                                                                                                                                                                                       {'latitude': '-87.5400946053766', 'longitude': '41.64467013219805'}   Hegewisch\n",
       "7   41.644670 -87.540095  BURGER KING       1300984        BURGER KING #7268  1473518.0  RESTAURANT    2     13770 S AVENUE O    60633.0  2012-12-19T00:00:00.000  CANVASS         Pass w/ Conditions  21. * CERTIFIED FOOD MANAGER ON SITE WHEN POTENTIALLY HAZARDOUS FOODS ARE  PREPARED AND SERVED - Comments: NO CHICAGO FOOD SANITATION MANAGER ON DUTY OR CERTIFICATE POSTED WHEN POTENTIALLY HAZARDOUS FOOD (COOKED HAMBURGER 167F, SAUSAGE 159.8F, EGGS 147.8F) PREPARED AND SERVED. SERIOUS VIOLATION 7-38-012 CITATION ISSUED. | 33. FOOD AND NON-FOOD CONTACT EQUIPMENT UTENSILS CLEAN, FREE OF ABRASIVE DETERGENTS - Comments: CLEAN INTERIOR AND EXTERIOR OF FRYERS, PREP TABLES, COOLERS, CABINETS. | 34. FLOORS: CONSTRUCTED PER CODE, CLEANED, GOOD REPAIR, COVING INSTALLED, DUST-LESS CLEANING METHODS USED - Comments: GROUT FLOOR TILES IN ALL AREAS. FLOORS NEED CLEANING UNDER FRYERS (FOOD DEBRIS, GREASE BUILDUP), PREP TABLES, ETC ALONG WALLS AND IN ALL CORNERS IN PREP, STORAGE AND DRIVE THRU AREAS. REMOVE EXCESS WATER ON FLOOR IN DRIVE THRU AREA. ELEVATE ALL STOCK OFF FLOOR INSIDE WALK-IN FREEZER AND REAR STORAGE AREA. | 35. WALLS, CEILINGS, ATTACHED EQUIPMENT CONSTRUCTED PER CODE: GOOD REPAIR, SURFACES CLEAN AND DUST-LESS CLEANING METHODS - Comments: REPLACE MISSING AND DAMAGED TILES ALONG BASEBOARDS IN PREP AND STORAGE AREAS. | 38. VENTILATION: ROOMS AND EQUIPMENT VENTED AS REQUIRED: PLUMBING: INSTALLED AND MAINTAINED - Comments: REPAIR LEAKING FAUCET ON 3-COMP SINK AND FRONT EXPOSED SINK (SLOW DRAINING). | 40. REFRIGERATION AND METAL STEM THERMOMETERS PROVIDED AND CONSPICUOUS - Comments: PROVIDE THERMOMETERS IN ALL COOLERS. | 41. PREMISES MAINTAINED FREE OF LITTER, UNNECESSARY ARTICLES, CLEANING  EQUIPMENT PROPERLY STORED - Comments: STORE MOP HEAD UPRIGHT TO PREVENT INSECT BREEDING. | 42. APPROPRIATE METHOD OF HANDLING OF FOOD (ICE) HAIR RESTRAINTS AND CLEAN APPAREL WORN - Comments: ALL FOOD HANDLERS MUST WEAR HAIR RESTRAINTS.                                                                                                                                                                                                                                                                                                                                                                                                                                                                                                                                                                                                                                                                                                                                                                                                                                                                                                                                                                                                                                                                                                                              {'latitude': '-87.5400946053766', 'longitude': '41.64467013219805'}   Hegewisch\n",
       "8   41.644670 -87.540095  BURGER KING       537818         BURGER KING #7268  1473518.0  RESTAURANT    2     13770 S AVENUE O    60633.0  2012-01-10T00:00:00.000  COMPLAINT       Pass w/ Conditions  8. SANITIZING RINSE FOR EQUIPMENT AND UTENSILS:  CLEAN, PROPER TEMPERATURE, CONCENTRATION, EXPOSURE TIME - Comments: Equipment and utensils should get proper exposure to the sanitizing solution during the rinse cycle.  Bactericidal treatment shall consist of exposure of all dish and utensil surfaces to a rinse of clean water at a temperature of not less than 180F. PREMISES HAS INSTALLED A SOFT SERVE ICE CREAM MACHINE IMPROPER SANITIZING NO HOT AND COLD RUNNING WATER ABOVE THE MACHINE AT THE FREEZER UNIT FOR THE PURPOSE OF WASHING AND SANITIZING OF ALL NON-REMOVAL FOOD CONTACT SURFACES OF THE FREEZER UNIT AND THE SANITIZING OF RE-ASSEMBLED FREEZER PARTS. MACHINE TAGGED INSTRUCTED NOT TO USE TIL CDPH RETURNS TO CHECK THE INSTULATION OF THE HOT AND COLD RUNNING WATER TO THE TOP OF THE FREEZER UNIT. STARTED TO SELL SOFT SERVE ICE CREAM IN JULY OF 2011. | 21. * CERTIFIED FOOD MANAGER ON SITE WHEN POTENTIALLY HAZARDOUS FOODS ARE  PREPARED AND SERVED - Comments: A certified food service manager must be present in all establishments at which potentially hazardous food is prepared or served.NO CITY OF CHICAGO SANITATION CERTIFICATE POSTED ON PREMISES AND NO CITY OF CHICAGO MANAGER ON PREMISES WHEN POTENTIALLY HAZADROUS FOODS ARE BEING SERVED AND PREPARED.NEED TO PROVIDE. | 33. FOOD AND NON-FOOD CONTACT EQUIPMENT UTENSILS CLEAN, FREE OF ABRASIVE DETERGENTS - Comments: All utensils shall be thoroughly cleaned and sanitized after each usage.NEED TO CLEAN AND SANITIZE BOTH FOOD CHOPPERS IN REAR PREP AREA, AND NEED TO CLEAN INTERIOR OF FRYER DOORS. | 34. FLOORS: CONSTRUCTED PER CODE, CLEANED, GOOD REPAIR, COVING INSTALLED, DUST-LESS CLEANING METHODS USED - Comments: The floors shall be constructed per code, be smooth and easily cleaned, and be kept clean and in good repair.NEED TO CLEAN FLOOR REAR UNDER BAG IN BOX SODA HOLDER. | 35. WALLS, CEILINGS, ATTACHED EQUIPMENT CONSTRUCTED PER CODE: GOOD REPAIR, SURFACES CLEAN AND DUST-LESS CLEANING METHODS - Comments: The walls and ceilings shall be in good repair and easily cleaned.CLEAN WALLS AROUND REAR MOP AREA. | 36. LIGHTING: REQUIRED MINIMUM FOOT-CANDLES OF LIGHT PROVIDED, FIXTURES SHIELDED - Comments: Shielding to protect against broken glass falling into food shall be provided for all artificial lighting sources in preparation, service, and display facilities.CLEAN LIGHT SHIELDS THRU-OUT REAR PREP AREA. | 38. VENTILATION: ROOMS AND EQUIPMENT VENTED AS REQUIRED: PLUMBING: INSTALLED AND MAINTAINED - Comments: Ventilation: All plumbing fixtures, such as toilets, sinks, washbasins, etc., must be adequately trapped, vented, and re-vented and properly connected to the sewer in accordance with the plumbing chapter of the Municipal Code of Chicago and the Rules and Regulations of the Board of Health. LADIES 2ND SINK DRAIN RUNNING SLOW NEED TO REPAIR.  {'latitude': '-87.5400946053766', 'longitude': '41.64467013219805'}   Hegewisch\n",
       "9   41.644670 -87.540095  BURGER KING       537384         BURGER KING #7268  1473518.0  RESTAURANT    2     13770 S AVENUE O    60633.0  2011-05-26T00:00:00.000  COMPLAINT       Pass                33. FOOD AND NON-FOOD CONTACT EQUIPMENT UTENSILS CLEAN, FREE OF ABRASIVE DETERGENTS - Comments: All utensils shall be thoroughly cleaned and sanitized after each usage.OBSERVED THE INTERIOR LID OF THE ICE MACHINE INSTRUCTED TO CLEAN | 34. FLOORS: CONSTRUCTED PER CODE, CLEANED, GOOD REPAIR, COVING INSTALLED, DUST-LESS CLEANING METHODS USED - Comments: The floors shall be constructed per code, be smooth and easily cleaned, and be kept clean and in good repair.CLEAN FLOOR DRAINS, FLOOR FRONT UNDER ICE CREAM MACHINE,REAR BAG n BOX HOLDER. | 35. WALLS, CEILINGS, ATTACHED EQUIPMENT CONSTRUCTED PER CODE: GOOD REPAIR, SURFACES CLEAN AND DUST-LESS CLEANING METHODS - Comments: The walls and ceilings shall be in good repair and easily cleaned.CLEAN WALL SIDE AND AROUND 3 COMP SINK ALSO AROUND REAR MOP AREA  | 36. LIGHTING: REQUIRED MINIMUM FOOT-CANDLES OF LIGHT PROVIDED, FIXTURES SHIELDED - Comments: Shielding to protect against broken glass falling into food shall be provided for all artificial lighting sources in preparation, service, and display facilities.CLEAN LIGHT SHIELDS IN THE EMPLOYEE ROOM AND RESTROOM HALLWAY | 38. VENTILATION: ROOMS AND EQUIPMENT VENTED AS REQUIRED: PLUMBING: INSTALLED AND MAINTAINED - Comments: Ventilation: All plumbing fixtures, such as toilets, sinks, washbasins, etc., must be adequately trapped, vented, and re-vented and properly connected to the sewer in accordance with the plumbing chapter of the Municipal Code of Chicago and the Rules and Regulations of the Board of Health.LADIES 2ND SINK DRAIN RUNNING SLOW INSTRUCTED TO REPAIR                                                                                                                                                                                                                                                                                                                                                                                                                                                                                                                                                                                                                                                                                                                                                                                                                                                                                                                                                                                                                                                                                                                                                                                                                                                                                                     {'latitude': '-87.5400946053766', 'longitude': '41.64467013219805'}   Hegewisch\n",
       "10  41.644670 -87.540095  BURGER KING       419402         BURGER KING #7268  1473518.0  RESTAURANT    2     13770 S AVENUE O    60633.0  2010-10-12T00:00:00.000  COMPLAINT       Pass w/ Conditions  3. POTENTIALLY HAZARDOUS FOOD MEETS TEMPERATURE REQUIREMENT DURING STORAGE, PREPARATION DISPLAY AND SERVICE - Comments: All hot food shall be stored at a temperature of 140F or higher. All cold food shall be stored at a temperature of 40F or less.  FOUND FOOD SETTING OUT ON THE COUNTER NOT ICED DOWN OR IN COLD HOLDING UNIT - ONE POUND OF HAM AT 76F, RED BICANTE SAUCE 78.4F, ONE POUND AMERICAN CHEESE DRIED OUT AND CRACKED AT 78.2. CRITICAL CITATION GIVEN 7-38-005(A). H000062416 12 COURT DATE 11/18/2010  10:00AM ROOM112 AT 400 W SUPERIOR CHICAGO OR YOU MAY PAY THE FINE THROUGH THE MAIL SEE THE BACK OF THE CITATION.   MANAGER DISPOSED OF THE FOOD AND PUT FRESH FOOD ON ICE.  | 12. HAND WASHING FACILITIES: WITH SOAP AND SANITARY HAND DRYING DEVICES, CONVENIENT AND ACCESSIBLE TO FOOD PREP AREA - Comments: Adequate and convenient hand washing facilities shall be provided for all employees.  NO SOAP AT THE TWO EXPOSED HAND SINKS IN THE PREP AREAS. ALSO NONE IN THE TOILET ROOMS. EMPLOYEE WAS SENT OUT TO BUY MORE HAND SOAP. CRITICAL CITATION GIVEN 7-38-030  H000062416 12. | 21. * CERTIFIED FOOD MANAGER ON SITE WHEN POTENTIALLY HAZARDOUS FOODS ARE  PREPARED AND SERVED - Comments: A certified food service manager must be present in all establishments at which potentially hazardous food is prepared or served.  NO ONE HERE IS CERTIFIED OR HAS A CITY OF CHICAGO CERTIFIED FOOD MANAGERS CERTIFICATE ON SITE WHEN POTENTIALLY HAZARDOUS FOODS ARE PREP AND SERVED. SERIOUS CITATION GIVEN 7-38-012  H00062417 13 COURT DATE SEE ABOVE.   INSTRUCTED TO PROVIDE CITY OF CHICAGO CERTIFIED MANAGERS. | 33. FOOD AND NON-FOOD CONTACT EQUIPMENT UTENSILS CLEAN, FREE OF ABRASIVE DETERGENTS - Comments: All utensils shall be thoroughly cleaned and sanitized after each usage.  ALL COOKING EQUIPMENT NOT CLEAN IS THICK WITH GREASE BUILDUP.  INSTRUCTED TO CLEAN SAME. | 34. FLOORS: CONSTRUCTED PER CODE, CLEANED, GOOD REPAIR, COVING INSTALLED, DUST-LESS CLEANING METHODS USED - Comments: The floors shall be constructed per code, be smooth and easily cleaned, and be kept clean and in good repair.  FLOOR UNDER THE COOKING EQUIPMENT NOT CLEAN THICK WITH GREASE BUILDUP.  INSTD. TO CLEAN SAME.                                                                                                                                                                                                                                                                                                                                                                                                                                                                                                                                                                                                                                                                           {'latitude': '-87.5400946053766', 'longitude': '41.64467013219805'}   Hegewisch\n",
       "14  41.646371 -87.560342  WINJAMMER MARINA  1395212        WINJAMMER MARINA   79113.0    RESTAURANT    2     13701 S HOXIE AVE   60633.0  2013-12-30T00:00:00.000  CANVASS         Pass                33. FOOD AND NON-FOOD CONTACT EQUIPMENT UTENSILS CLEAN, FREE OF ABRASIVE DETERGENTS - Comments: CLEAN INTERIOR AND EXTERIOR OF PIZZA OVEN, TOASTER OVEN, PREP TABLES, SHELVES, STEAM TABLES, COOKING EQUIPMENT, ICE MACHINE.   | 34. FLOORS: CONSTRUCTED PER CODE, CLEANED, GOOD REPAIR, COVING INSTALLED, DUST-LESS CLEANING METHODS USED - Comments: CLEAN FLOORS UNDER ALL EQUIPMENT, ALONG WALLS AND IN ALL CORNERS IN KITCHEN, BAR, AND STORAGE AREAS.   | 35. WALLS, CEILINGS, ATTACHED EQUIPMENT CONSTRUCTED PER CODE: GOOD REPAIR, SURFACES CLEAN AND DUST-LESS CLEANING METHODS - Comments: REPLACE MISSING BASEBOARDS ALONG WALLS IN LIQUOR STORAGE AREA. SEAL OPENINGS IN WALLS IN ELECTRICAL AND FURNACE ROOMS.                                                                                                                                                                                                                                                                                                                                                                                                                                                                                                                                                                                                                                                                                                                                                                                                                                                                                                                                                                                                                                                                                                                                                                                                                                                                                                                                                                                                                                                                                                                                                                                                                                                                                                                                                                                                                                                                                                                                                                                                                                                                                                                                                                                                                    {'latitude': '-87.56034196262158', 'longitude': '41.64637082018021'}  Hegewisch"
      ]
     },
     "execution_count": 451,
     "metadata": {
      "tags": []
     },
     "output_type": "execute_result"
    }
   ],
   "source": [
    "dup_oob.dropna(subset=['Violations'], inplace=True) # the inspections that have violations (out of business facilities)\n",
    "dup_oob.head(10)"
   ]
  },
  {
   "cell_type": "code",
   "execution_count": 452,
   "metadata": {
    "colab": {
     "base_uri": "https://localhost:8080/",
     "height": 230
    },
    "colab_type": "code",
    "id": "YlUwb7Z2MIZx",
    "outputId": "527bfb34-e685-49be-bef4-87de9a3a6f0f"
   },
   "outputs": [
    {
     "data": {
      "text/plain": [
       "0         [2, 3, 5]               \n",
       "1         [2, 3, 5, 49, 55]       \n",
       "2         [34, 35, 38]            \n",
       "3         [33, 34, 45]            \n",
       "6         [12, 21, 28, 29, 33, 38]\n",
       "                    ...           \n",
       "100332    [32, 33, 34]            \n",
       "100333    [41]                    \n",
       "100334    [18, 28, 41]            \n",
       "100335    [21, 33]                \n",
       "100336    [18, 21, 33]            \n",
       "Name: Violations, Length: 65918, dtype: object"
      ]
     },
     "execution_count": 452,
     "metadata": {
      "tags": []
     },
     "output_type": "execute_result"
    }
   ],
   "source": [
    "violations_oob = dup_oob['Violations'].apply(lambda x: re.findall(r'^[0-9]+[.] | [|] [0-9]+[.] ', x))\n",
    "violations_oob = pd.DataFrame(violations_oob)\n",
    "violation_nums_oob = violations_oob['Violations'].apply(lambda x: [int(sub.replace('|','').split('.')[0]) for sub in x])\n",
    "violation_nums_oob"
   ]
  },
  {
   "cell_type": "code",
   "execution_count": 453,
   "metadata": {
    "colab": {
     "base_uri": "https://localhost:8080/",
     "height": 352
    },
    "colab_type": "code",
    "id": "BX8lLCYvYf6h",
    "outputId": "cf676209-0007-4931-ed1b-be54beb4c5fa"
   },
   "outputs": [
    {
     "data": {
      "text/html": [
       "<div>\n",
       "<style scoped>\n",
       "    .dataframe tbody tr th:only-of-type {\n",
       "        vertical-align: middle;\n",
       "    }\n",
       "\n",
       "    .dataframe tbody tr th {\n",
       "        vertical-align: top;\n",
       "    }\n",
       "\n",
       "    .dataframe thead th {\n",
       "        text-align: right;\n",
       "    }\n",
       "</style>\n",
       "<table border=\"1\" class=\"dataframe\">\n",
       "  <thead>\n",
       "    <tr style=\"text-align: right;\">\n",
       "      <th></th>\n",
       "      <th>Violations</th>\n",
       "    </tr>\n",
       "  </thead>\n",
       "  <tbody>\n",
       "    <tr>\n",
       "      <th>0</th>\n",
       "      <td>[2, 3, 5]</td>\n",
       "    </tr>\n",
       "    <tr>\n",
       "      <th>1</th>\n",
       "      <td>[2, 3, 5, 49, 55]</td>\n",
       "    </tr>\n",
       "    <tr>\n",
       "      <th>2</th>\n",
       "      <td>[34, 35, 38]</td>\n",
       "    </tr>\n",
       "    <tr>\n",
       "      <th>3</th>\n",
       "      <td>[33, 34, 45]</td>\n",
       "    </tr>\n",
       "    <tr>\n",
       "      <th>4</th>\n",
       "      <td>[12, 21, 28, 29, 33, 38]</td>\n",
       "    </tr>\n",
       "    <tr>\n",
       "      <th>5</th>\n",
       "      <td>[21, 33, 34, 35, 38, 40, 41, 42]</td>\n",
       "    </tr>\n",
       "    <tr>\n",
       "      <th>6</th>\n",
       "      <td>[8, 21, 33, 34, 35, 36, 38]</td>\n",
       "    </tr>\n",
       "    <tr>\n",
       "      <th>7</th>\n",
       "      <td>[33, 34, 35, 36, 38]</td>\n",
       "    </tr>\n",
       "    <tr>\n",
       "      <th>8</th>\n",
       "      <td>[3, 12, 21, 33, 34]</td>\n",
       "    </tr>\n",
       "    <tr>\n",
       "      <th>9</th>\n",
       "      <td>[33, 34, 35]</td>\n",
       "    </tr>\n",
       "  </tbody>\n",
       "</table>\n",
       "</div>"
      ],
      "text/plain": [
       "                         Violations\n",
       "0  [2, 3, 5]                       \n",
       "1  [2, 3, 5, 49, 55]               \n",
       "2  [34, 35, 38]                    \n",
       "3  [33, 34, 45]                    \n",
       "4  [12, 21, 28, 29, 33, 38]        \n",
       "5  [21, 33, 34, 35, 38, 40, 41, 42]\n",
       "6  [8, 21, 33, 34, 35, 36, 38]     \n",
       "7  [33, 34, 35, 36, 38]            \n",
       "8  [3, 12, 21, 33, 34]             \n",
       "9  [33, 34, 35]                    "
      ]
     },
     "execution_count": 453,
     "metadata": {
      "tags": []
     },
     "output_type": "execute_result"
    }
   ],
   "source": [
    "violation_nums_oob = pd.DataFrame(violation_nums_oob)\n",
    "violation_nums_oob.reset_index(inplace=True)\n",
    "violation_nums_oob.drop(columns='index', inplace=True)\n",
    "violation_nums_oob.head(10)"
   ]
  },
  {
   "cell_type": "code",
   "execution_count": 0,
   "metadata": {
    "colab": {},
    "colab_type": "code",
    "id": "mLcVYIYMZuK1"
   },
   "outputs": [],
   "source": [
    "vio_freq_oob = {}\n",
    "for i in violation_nums_oob['Violations']:\n",
    "  for j in i:\n",
    "    vio_freq_oob[str(j)] = 1 if str(j) not in vio_freq_oob else vio_freq_oob[str(j)]+1"
   ]
  },
  {
   "cell_type": "code",
   "execution_count": 455,
   "metadata": {
    "colab": {
     "base_uri": "https://localhost:8080/",
     "height": 295
    },
    "colab_type": "code",
    "id": "JISkCx_ubeAB",
    "outputId": "474adb74-b06e-438f-e09d-b45e93b71455"
   },
   "outputs": [
    {
     "data": {
      "image/png": "[encoded data removed]",
      "text/plain": [
       "<Figure size 1224x288 with 1 Axes>"
      ]
     },
     "metadata": {
      "tags": []
     },
     "output_type": "display_data"
    }
   ],
   "source": [
    "plt.figure(figsize=(17,4))\n",
    "plt.bar(list(vio_freq_oob.keys()), vio_freq_oob.values())\n",
    "plt.title('Violation Types vs. Their Frequencies in Out of Business Facilities')\n",
    "plt.xlabel('Violation Types')\n",
    "plt.ylabel('Frequency')\n",
    "plt.show()"
   ]
  },
  {
   "cell_type": "markdown",
   "metadata": {
    "colab_type": "text",
    "id": "f5NepMPsc2Sx"
   },
   "source": [
    "From the figure above, we can see that certain violation types outnumber the others. So, we decided to sort the violation types in terms of their frequencies and display them in the graph below."
   ]
  },
  {
   "cell_type": "code",
   "execution_count": 0,
   "metadata": {
    "colab": {},
    "colab_type": "code",
    "id": "iG5RGczLkTgP"
   },
   "outputs": [],
   "source": [
    "sorted_vio_freq_oob = {}\n",
    "\n",
    "for key in sorted(vio_freq_oob, key=vio_freq_oob.__getitem__, reverse=True):\n",
    "  sorted_vio_freq_oob[key] = vio_freq_oob[key]"
   ]
  },
  {
   "cell_type": "code",
   "execution_count": 457,
   "metadata": {
    "colab": {
     "base_uri": "https://localhost:8080/",
     "height": 295
    },
    "colab_type": "code",
    "id": "eCE3Zu7lkQ8w",
    "outputId": "e4d2b269-1882-4188-9244-b57c406ed7bb"
   },
   "outputs": [
    {
     "data": {
      "image/png": "[encoded data removed]",
      "text/plain": [
       "<Figure size 1224x288 with 1 Axes>"
      ]
     },
     "metadata": {
      "tags": []
     },
     "output_type": "display_data"
    }
   ],
   "source": [
    "plt.figure(figsize=(17,4))\n",
    "plt.bar(list(sorted_vio_freq_oob.keys()), sorted_vio_freq_oob.values())\n",
    "plt.title('Violation Types vs. Their Frequencies in Out of Business Facilities')\n",
    "plt.xlabel('Violation Types')\n",
    "plt.ylabel('Frequency')\n",
    "plt.show()"
   ]
  },
  {
   "cell_type": "code",
   "execution_count": 458,
   "metadata": {
    "colab": {
     "base_uri": "https://localhost:8080/",
     "height": 284
    },
    "colab_type": "code",
    "id": "_hvSFyDEkmc8",
    "outputId": "492666dc-a35b-4699-8aae-51bdfd1b10d7"
   },
   "outputs": [
    {
     "data": {
      "text/plain": [
       "['34',\n",
       " '33',\n",
       " '35',\n",
       " '38',\n",
       " '32',\n",
       " '41',\n",
       " '36',\n",
       " '18',\n",
       " '40',\n",
       " '30',\n",
       " '3',\n",
       " '21',\n",
       " '31',\n",
       " '37',\n",
       " '43']"
      ]
     },
     "execution_count": 458,
     "metadata": {
      "tags": []
     },
     "output_type": "execute_result"
    }
   ],
   "source": [
    "most_freq_vio_oob = [key for key, value in list(sorted_vio_freq_oob.items())[0:15]]\n",
    "most_freq_vio_oob # top 10 most frequent violation types among facilities that went out of business"
   ]
  },
  {
   "cell_type": "code",
   "execution_count": 0,
   "metadata": {
    "colab": {},
    "colab_type": "code",
    "id": "MbsGSDm7czg-"
   },
   "outputs": [],
   "source": [
    "# Inspections of facilities that didn't go out of business\n",
    "# https://stackoverflow.com/questions/18180763/set-difference-for-pandas\n",
    " set_diff_oob = pd.concat([df, merged_oob, merged_oob], sort=True).drop_duplicates(keep=False, subset=['Latitude', 'Longitude', 'DBA Name', 'Inspection Date'])"
   ]
  },
  {
   "cell_type": "code",
   "execution_count": 460,
   "metadata": {
    "colab": {
     "base_uri": "https://localhost:8080/",
     "height": 1000
    },
    "colab_type": "code",
    "id": "oEPL3X9Fpzb_",
    "outputId": "d5818e8e-6928-4db9-e26e-c66b96202ca6"
   },
   "outputs": [
    {
     "data": {
      "text/html": [
       "<div>\n",
       "<style scoped>\n",
       "    .dataframe tbody tr th:only-of-type {\n",
       "        vertical-align: middle;\n",
       "    }\n",
       "\n",
       "    .dataframe tbody tr th {\n",
       "        vertical-align: top;\n",
       "    }\n",
       "\n",
       "    .dataframe thead th {\n",
       "        text-align: right;\n",
       "    }\n",
       "</style>\n",
       "<table border=\"1\" class=\"dataframe\">\n",
       "  <thead>\n",
       "    <tr style=\"text-align: right;\">\n",
       "      <th></th>\n",
       "      <th>AKA Name</th>\n",
       "      <th>Address</th>\n",
       "      <th>DBA Name</th>\n",
       "      <th>Facility Type</th>\n",
       "      <th>Inspection Date</th>\n",
       "      <th>Inspection ID</th>\n",
       "      <th>Inspection Type</th>\n",
       "      <th>Latitude</th>\n",
       "      <th>License #</th>\n",
       "      <th>Location</th>\n",
       "      <th>Longitude</th>\n",
       "      <th>Regions</th>\n",
       "      <th>Results</th>\n",
       "      <th>Risk</th>\n",
       "      <th>Violations</th>\n",
       "      <th>Zip</th>\n",
       "    </tr>\n",
       "  </thead>\n",
       "  <tbody>\n",
       "    <tr>\n",
       "      <th>1</th>\n",
       "      <td>CHILI'S (T1-B14)</td>\n",
       "      <td>11601 W TOUHY AVE</td>\n",
       "      <td>CHILIS T-I</td>\n",
       "      <td>RESTAURANT</td>\n",
       "      <td>2019-12-04T00:00:00.000</td>\n",
       "      <td>2352734</td>\n",
       "      <td>CANVASS</td>\n",
       "      <td>42.008536</td>\n",
       "      <td>34169.0</td>\n",
       "      <td>{'latitude': '-87.91442843927047', 'longitude': '42.008536400868735'}</td>\n",
       "      <td>-87.914428</td>\n",
       "      <td>O'Hare</td>\n",
       "      <td>Pass</td>\n",
       "      <td>1</td>\n",
       "      <td>10. ADEQUATE HANDWASHING SINKS PROPERLY SUPPLIED AND ACCESSIBLE - Comments: OBSERVED NO HAND WASHING SIGNAGE FOR HAND SINK AT REAR DISH WASHING AREA.MUST PROVIDE AND MAINTAIN. | 47. FOOD &amp; NON-FOOD CONTACT SURFACES CLEANABLE, PROPERLY DESIGNED, CONSTRUCTED &amp; USED - Comments: OBSERVED A TORN DOOR GASKET INSIDE OF THE 2 DOOR PREP COOLER SHOWED MANAGER. MUST REPLACE THE TORN DOOR GASKET AND TO MAINTAIN. | 49. NON-FOOD/FOOD CONTACT SURFACES CLEAN - Comments: INSTRUCTED TO DETAIL CLEAN AND MAINTAIN THE INTERIORS OF PREP COOLERS IN THE FOOD PREP AREA AND THE SIDES OF HOT COOKING EQUIPMENTS. | 55. PHYSICAL FACILITIES INSTALLED, MAINTAINED &amp; CLEAN - Comments: INSTRUCTED TO REMOVE DUSTS AND FOOD SPLASHED DEBRIS ON WALLS AND CEILINGS AND ATTACHED CEILING VENTILATION COVERS IN FOOD PREP AREA AND REAR DISH WASHING AREA SHOWED MANAGER AND TO MAINTAIN. | 55. PHYSICAL FACILITIES INSTALLED, MAINTAINED &amp; CLEAN - Comments: OBSERVED DIRTY FLOORS UNDER AND AROUND THE ICE MACHINE SHOWED MANAGER,CLEAN FLOORS IN DETAIL AND TO MAINTAIN.</td>\n",
       "      <td>60666.0</td>\n",
       "    </tr>\n",
       "    <tr>\n",
       "      <th>2</th>\n",
       "      <td>NaN</td>\n",
       "      <td>3401 W BELMONT AVE</td>\n",
       "      <td>TAQUERIA BLUE LINE</td>\n",
       "      <td>RESTAURANT</td>\n",
       "      <td>2019-12-04T00:00:00.000</td>\n",
       "      <td>2352701</td>\n",
       "      <td>LICENSE</td>\n",
       "      <td>41.939168</td>\n",
       "      <td>2703436.0</td>\n",
       "      <td>{'latitude': '-87.71254599117191', 'longitude': '41.93916783376966'}</td>\n",
       "      <td>-87.712546</td>\n",
       "      <td>Avondale</td>\n",
       "      <td>Pass w/ Conditions</td>\n",
       "      <td>1</td>\n",
       "      <td>3. MANAGEMENT, FOOD EMPLOYEE AND CONDITIONAL EMPLOYEE; KNOWLEDGE, RESPONSIBILITIES AND REPORTING - Comments: NO EMPLOYEE HEALTH POLICY ON PREMISES. INSTRUCTED MANAGER MUST PROVIDE AN EMPLOYEE HEALTH POLICY ON PREMISES. PRIORITY FOUNDATION 7-38-010. NO CITATION ISSUED. | 5. PROCEDURES FOR RESPONDING TO VOMITING AND DIARRHEAL EVENTS - Comments: NO VOMIT AND DIARRHEA CLEANING PROCEDURE ON PREMISES. INSTRUCTED MANAGER MUST PROVIDE A VOMIT AND DIARRHEA CLEANING PROCEDURE WITH ALL NECESSARY ITEMS AS OUTLINED IN POLICY ON PREMISES. PRIORITY FOUNDATION 7-38-005. NO CITATION ISSUED. | 16. FOOD-CONTACT SURFACES: CLEANED &amp; SANITIZED - Comments: OBSERVED SLIGHT CALCIUM BUILD UP INSIDE ICE MACHINE. MUST CLEAN INTERIOR OF ICE MACHINE AND MAINTAIN. | 51. PLUMBING INSTALLED; PROPER BACKFLOW DEVICES - Comments: OBSERVED 3-COMPARTMENT SINK STOPPERS (X2) NOT WORKING. MUST PROVIDE ADDITIONAL WORKING STOPPERS (X2) FOR 3-COMPARTMENT SINK. | 53. TOILET FACILITIES: PROPERLY CONSTRUCTED, SUPPLIED, &amp; CLEANED - Comments: NO COVERED TRASH RECEPTACLE IN WASHROOM. MUST PROVIDE. | 58. ALLERGEN TRAINING AS REQUIRED - Comments: NO FOOD ALLERGEN TRAINING CERTIFICATE ON PREMISES. INSTRUCTED ALL CITY OF CHICAGO CERTIFIED FOOD MANAGERS MUST HAVE FOOD ALLERGEN TRAINING  CERTIFICATES ON PREMISES.</td>\n",
       "      <td>60618.0</td>\n",
       "    </tr>\n",
       "    <tr>\n",
       "      <th>6</th>\n",
       "      <td>NAIBOA LATIN STORE</td>\n",
       "      <td>3349 N CLARK ST</td>\n",
       "      <td>NAIBOA LATIN STORE</td>\n",
       "      <td>RETAIL STORE</td>\n",
       "      <td>2019-12-04T00:00:00.000</td>\n",
       "      <td>2352702</td>\n",
       "      <td>LICENSE</td>\n",
       "      <td>41.943032</td>\n",
       "      <td>2698776.0</td>\n",
       "      <td>{'latitude': '-87.65299525711882', 'longitude': '41.943031768727145'}</td>\n",
       "      <td>-87.652995</td>\n",
       "      <td>Lake View</td>\n",
       "      <td>Pass w/ Conditions</td>\n",
       "      <td>3</td>\n",
       "      <td>5. PROCEDURES FOR RESPONDING TO VOMITING AND DIARRHEAL EVENTS - Comments: MANAGEMENT UNABLE TO PROVIDE A PROCEDURE FOR CLEANING UP VOMITING AND DIARRHEA.INSTRUCTED TO HAVE ONE INCLUDING THE CHEMICALS AND SUPPLIES NEEDED. PRIORITY FOUNDATION #7-38-005. NO CITATION ISSUED  | 36. THERMOMETERS PROVIDED &amp; ACCURATE - Comments: NOTED NO THERMOMETERS INSIDE REFRIGERATION UNIT CONSPICUOUSLY POSTED TO MONITOR THE AMBIENT TEMPERATURE OF EQUIPMENT. INSTRUCTED TO EQUIP ALL REFRIGERATION UNITS WITH ACCURATE AND WORKING THERMOMETERS. | 51. PLUMBING INSTALLED; PROPER BACKFLOW DEVICES - Comments: NOTED NO MOP SINK ON PREMISE. INSTRUCTED TO INSTALL A MOP SINK WITH A BACK FLOW PREVENTION DEVICE. | 53. TOILET FACILITIES: PROPERLY CONSTRUCTED, SUPPLIED, &amp; CLEANED - Comments: NOTED WASH ROOMS ON PREMISE WITH GARBAGE RECEPTACLES AND NO LIDS. INSTRUCTED TO PROVIDE TRASH CANS WITH LIDS AT ALL WOMEN WASH ROOMS AND UNISEX WASH ROOMS</td>\n",
       "      <td>60657.0</td>\n",
       "    </tr>\n",
       "    <tr>\n",
       "      <th>7</th>\n",
       "      <td>JAMIESON PUBLIC SCHOOL</td>\n",
       "      <td>5650 N MOZART</td>\n",
       "      <td>JAMIESON</td>\n",
       "      <td>SCHOOL</td>\n",
       "      <td>2019-12-04T00:00:00.000</td>\n",
       "      <td>2352718</td>\n",
       "      <td>CANVASS</td>\n",
       "      <td>41.984614</td>\n",
       "      <td>23931.0</td>\n",
       "      <td>{'latitude': '-87.70056525028134', 'longitude': '41.984613716529374'}</td>\n",
       "      <td>-87.700565</td>\n",
       "      <td>West Ridge</td>\n",
       "      <td>Pass</td>\n",
       "      <td>1</td>\n",
       "      <td>49. NON-FOOD/FOOD CONTACT SURFACES CLEAN - Comments: Caulk worn out in all washbowl sinks in the washrooms in the old building. Must re caulk and maintain. | 55. PHYSICAL FACILITIES INSTALLED, MAINTAINED &amp; CLEAN - Comments: Ceiling vent cover in all washrooms in the new building with dust build-up. Instructed to clean and maintain. | 56. ADEQUATE VENTILATION &amp; LIGHTING; DESIGNATED AREAS USED - Comments: Filters on the ventilation hood in the cook line with dust build-up. Must clean and maintain.</td>\n",
       "      <td>60659.0</td>\n",
       "    </tr>\n",
       "    <tr>\n",
       "      <th>9</th>\n",
       "      <td>BLUE LINE</td>\n",
       "      <td>1548 N DAMEN AVE</td>\n",
       "      <td>BLUE LINE</td>\n",
       "      <td>RESTAURANT</td>\n",
       "      <td>2019-12-03T00:00:00.000</td>\n",
       "      <td>2352629</td>\n",
       "      <td>CANVASS</td>\n",
       "      <td>41.909616</td>\n",
       "      <td>1170410.0</td>\n",
       "      <td>{'latitude': '-87.6775884711046', 'longitude': '41.90961625043591'}</td>\n",
       "      <td>-87.677588</td>\n",
       "      <td>Wicker Park</td>\n",
       "      <td>Pass w/ Conditions</td>\n",
       "      <td>1</td>\n",
       "      <td>25. CONSUMER ADVISORY PROVIDED FOR RAW/UNDERCOOKED FOOD - Comments: OBSERVED ESTABLISHMENT SERVING UNDER COOKED FOOD ITEMS HAMBURGERS WITH NO CONSUMER ADVISOR DISCLOSURE OR REMINDER STATEMENT ON THE MENU. INSTRUCTED TO HAVE CONSUMER ADVISORY ON THE MENU WITH DISCLOSURE NOTICE AND REMINDER STATEMENT. PRIORITY FOUNDATION VIOLATION 7-38-005. NO CITATION ISSUED.</td>\n",
       "      <td>60622.0</td>\n",
       "    </tr>\n",
       "    <tr>\n",
       "      <th>13</th>\n",
       "      <td>BRIGADOON</td>\n",
       "      <td>5748 W LAWRENCE AVE</td>\n",
       "      <td>BRIGADOON</td>\n",
       "      <td>TAVERN</td>\n",
       "      <td>2019-12-03T00:00:00.000</td>\n",
       "      <td>2352677</td>\n",
       "      <td>COMPLAINT</td>\n",
       "      <td>41.967838</td>\n",
       "      <td>12144.0</td>\n",
       "      <td>{'latitude': '-87.7716235051089', 'longitude': '41.9678382570795'}</td>\n",
       "      <td>-87.771624</td>\n",
       "      <td>Portage Park</td>\n",
       "      <td>Pass w/ Conditions</td>\n",
       "      <td>3</td>\n",
       "      <td>3. MANAGEMENT, FOOD EMPLOYEE AND CONDITIONAL EMPLOYEE; KNOWLEDGE, RESPONSIBILITIES AND REPORTING - Comments: FOUND NO EMPLOYEE HEALTH POLICY/TRAINING ON SITE. INSTRUCTED TO PROVIDE. PRIORITY FOUNDATION VIOLATION 7-38-010 NO CITATION ISSUED | 5. PROCEDURES FOR RESPONDING TO VOMITING AND DIARRHEAL EVENTS - Comments: FOUND NO PROCEDURE/PLAN FOR RESPONDING TO VOMITING AND DIARRHEAL EVENTS. INSTRUCTED TO PROVIDE AND MAINTAIN REQUIRED PROCEDURE/PLAN AND APPROPRIATE SUPPLIES OR KIT. (NECESSARY ITEMS AT A MINIMUM: GLOVES, FACE MASKS, DISPOSABLE MOPS AND APPROPRIATE SANITIZER/SPRAY THAT KILLS NOROVIRUS) PRIORITY FOUNDATION VIOLATION 7-38-005 NO CITATION ISSUED | 10. ADEQUATE HANDWASHING SINKS PROPERLY SUPPLIED AND ACCESSIBLE - Comments: INSTRUCTED TO PROVIDE HANDWASHING SIGNAGE AT ALL HANDSINK (BEHIND BAR AND MEN/WOMEN WASHROOMS). | 49. NON-FOOD/FOOD CONTACT SURFACES CLEAN - Comments: INSTRUCTED TO DETAIL CLEAN AND MAINTAIN WALL AND CEILING WITH MOLD LIKE BUILD-UP INSIDE LIQUOR WALK-IN COOLER IN THE BASEMENT | 51. PLUMBING INSTALLED; PROPER BACKFLOW DEVICES - Comments: BACKFLOW PREVENTER DEVICE NOT LOCATED BEHIND ICE MACHINE. INSTRUCTED TO INSTALL SO THAT IT CAN BE LOCATED TO BE SERVICED AND MAINTAINED.  | 53. TOILET FACILITIES: PROPERLY CONSTRUCTED, SUPPLIED, &amp; CLEANED - Comments: INSTRUCTED TO PROVIDE TOILET RECEPTACLE WITH LID/COVER INSIDE WASHROOMS. | 55. PHYSICAL FACILITIES INSTALLED, MAINTAINED &amp; CLEAN - Comments: INSTRUCTED TO CLEAN AND REMOVE UNNECESSARY ARTICLES STORED IN BASEMENT TO PREVENT PEST HARBORAGE. | 55. PHYSICAL FACILITIES INSTALLED, MAINTAINED &amp; CLEAN - Comments:  INSTRUCTED TO DETAIL CLEAN AND MAINTAIN WALL AND CEILING WITH MOLD LIKE BUILD-UP INSIDE LIQUOR WALK-IN COOLER IN THE BASEMENT</td>\n",
       "      <td>60630.0</td>\n",
       "    </tr>\n",
       "    <tr>\n",
       "      <th>14</th>\n",
       "      <td>HARRY CARAY'S SHORTSTOP</td>\n",
       "      <td>5700 S CICERO AVE</td>\n",
       "      <td>HARRY CARAYS SHORTSTOP</td>\n",
       "      <td>RESTAURANT</td>\n",
       "      <td>2019-12-03T00:00:00.000</td>\n",
       "      <td>2352653</td>\n",
       "      <td>CANVASS</td>\n",
       "      <td>41.789329</td>\n",
       "      <td>2689813.0</td>\n",
       "      <td>{'latitude': '-87.74164564419637', 'longitude': '41.789329323265385'}</td>\n",
       "      <td>-87.741646</td>\n",
       "      <td>Garfield Ridge</td>\n",
       "      <td>Pass</td>\n",
       "      <td>1</td>\n",
       "      <td>45. SINGLE-USE/SINGLE-SERVICE ARTICLES: PROPERLY STORED &amp; USED - Comments: OBSERVED SINGLE SERVICE BOWLS AND PLATES NOT INVERTED IN WAIT STATION AREA. INSTRUCTED MANAGER TO INVERT ALL SINGLE SERVICE ARTICLES TO PROTECT FROM CONTAMINTION. | 55. PHYSICAL FACILITIES INSTALLED, MAINTAINED &amp; CLEAN - Comments: OBSERVED DISPOSABLE UTENSILS AND SPILLS ON FLOOR ALONG WALLS IN BAR AREA. INSTRUCTED MANAGER TO CLEAN FLOORS AND MAINTAIN.</td>\n",
       "      <td>60638.0</td>\n",
       "    </tr>\n",
       "    <tr>\n",
       "      <th>17</th>\n",
       "      <td>SUBWAY</td>\n",
       "      <td>615 W LAKE ST</td>\n",
       "      <td>SUBWAY</td>\n",
       "      <td>RESTAURANT</td>\n",
       "      <td>2019-12-03T00:00:00.000</td>\n",
       "      <td>2352617</td>\n",
       "      <td>LICENSE</td>\n",
       "      <td>41.885594</td>\n",
       "      <td>2703766.0</td>\n",
       "      <td>{'latitude': '-87.64346245829006', 'longitude': '41.88559449266443'}</td>\n",
       "      <td>-87.643462</td>\n",
       "      <td>West Loop</td>\n",
       "      <td>Pass w/ Conditions</td>\n",
       "      <td>1</td>\n",
       "      <td>3. MANAGEMENT, FOOD EMPLOYEE AND CONDITIONAL EMPLOYEE; KNOWLEDGE, RESPONSIBILITIES AND REPORTING - Comments: OBSERVED NO EMPLOYEE HEALTH POLICY DURING INSPECTION. INSTRUCTED TO COMPLY PRIORITY FOUNDATION VIOLATION 7-38-010 NO CITATION ISSUED. | 5. PROCEDURES FOR RESPONDING TO VOMITING AND DIARRHEAL EVENTS - Comments: OBSERVED NO PROCEDURE AND CLEAN UP KIT FOR VOMITING AND DIARRHEA EVENTS. INSTRUCTED TO COMPLY. PRIORITY FOUNDATION VIOLATION 7-38-005 NO CITATION ISSUED. | 57. ALL FOOD EMPLOYEES HAVE FOOD HANDLER TRAINING - Comments: FOOD HANDLER'S REQUIREMENT'S NOT MET AT THIS TIME. MUST COMPLY.</td>\n",
       "      <td>60661.0</td>\n",
       "    </tr>\n",
       "    <tr>\n",
       "      <th>19</th>\n",
       "      <td>AMARIT RESTAURANT</td>\n",
       "      <td>600 S DEARBORN ST</td>\n",
       "      <td>AMARIT RESTAURANT</td>\n",
       "      <td>RESTAURANT</td>\n",
       "      <td>2019-12-03T00:00:00.000</td>\n",
       "      <td>2352649</td>\n",
       "      <td>CANVASS</td>\n",
       "      <td>41.874481</td>\n",
       "      <td>1801618.0</td>\n",
       "      <td>{'latitude': '-87.62935653990546', 'longitude': '41.87448116568133'}</td>\n",
       "      <td>-87.629357</td>\n",
       "      <td>Printers Row</td>\n",
       "      <td>Fail</td>\n",
       "      <td>1</td>\n",
       "      <td>10. ADEQUATE HANDWASHING SINKS PROPERLY SUPPLIED AND ACCESSIBLE - Comments: FOUND NO HANDWASHING SIGNAGE IN EMPLOYEE MEN AND WOMEN WASHROOM. MUST PROVIDE. | 10. ADEQUATE HANDWASHING SINKS PROPERLY SUPPLIED AND ACCESSIBLE - Comments: OBSERVED NO HANDWASHING CLEANSER AT HANDWASHING SINK LOCATED IN FRONT BAR AREA NEXT TO 3 COMPARTMENT SINK.  ALL HANDWASHING SINKS MUST BE EQUIPPED WITH HAND CLEANING LIQUID AT ALL TIMES. INSTRUCTED MANAGER TO PROVIDE. PRIORITY FOUNDATION VIOLATION. 7-38-030-(C). CITATION ISSUED. | 10. ADEQUATE HANDWASHING SINKS PROPERLY SUPPLIED AND ACCESSIBLE - Comments: OBSERVED NO HAND DRYING PROVISION AT HANDWASHING SINK LOCATED IN FRONT BAR AREA NEXT TO 3 COMPARTMENT SINK. ALL HANDWASHING SINKS MUST BE EQUIPPED WITH A HAND DRYING PROVISION AT ALL TIMES. INSTRUCTED MANAGER TO PROVIDE.CORRECTED ON SITE. PRIORITY FOUNDATION. 7-38-030(C). CITATION CONSOLIDATED WITH ABOVE VIOLATION. | 23. PROPER DATE MARKING AND DISPOSITION - Comments: OBSERVED READY-TO-EAT TIME/ TEMPERATURE CONTROL FOR SAFETY FOODS (TCS): COOKED NOODLES AND COOKED CHICKEN HELD FOR OVER 24 HOURS WITHOUT DISCARD DATE. INSTRUCTED FACILITY TO PROVIDE DISCARD DATE FOR ANY  READY-TO-EAT TCS FOODS HELD FOR OVER 24 HOURS. PRIORITY FOUNDATION. 7-38-005. NO CITATION ISSUED.  | 25. CONSUMER ADVISORY PROVIDED FOR RAW/UNDERCOOKED FOOD - Comments: OBSERVED RAW TUNA ON MENU. SAID ITEM IS SERVED RAW. INSTRUCTED FACILITY TO PROVIDE FOOTNOTE, DISCLOSURE AND REMINDER FOR MENU ITEMS THAT CAN BE ORDERED UNDER COOKED. PRIORITY FOUNDATION.7-38-005. NO CITATION ISSUED. | 39. CONTAMINATION PREVENTED DURING FOOD PREPARATION, STORAGE &amp; DISPLAY - Comments: OBSERVED, SHOWER CURTAIN HANGING BETWEEN DIRTY DISHES STAGING ARE AND FOOD PREPARATION AREA. MUST PROVIDE BARRIER BETWEEN FOOD PREPARATION AREA AND DIRTY DISHES STAGING AREA.  | 50. HOT &amp; COLD WATER AVAILABLE; ADEQUATE PRESSURE - Comments: FOUND NO HOT WATER ON SITE. HOT WATER GENERATION AND DISTRIBUTION SYSTEMS SHALL BE SUFFICIENT TO MEET THE PEAK HOT WATER DEMANDS THROUGHOUT THE RETAIL FOOD ESTABLISHMENT. PRIORITY VIOLATION. 7-38-030(C). CITATION ISSUED | 52. SEWAGE &amp; WASTE WATER PROPERLY DISPOSED - Comments: OBSERVED 2 INCHES OF WASTE WATER ON FLOOR OF DISHWASHING AREA. OBSERVED WASTE WATER BACKING UP FROM FLOOR DRAIN LOCATED IN THE MIDDLE OF DISH AREA. ALSO NOTICED WASTE WATER BACK UP FROM FLOOR DRAIN CONNECTED TO LOW TEMPERATURE DISH MACHINE.SEWAGE SHALL BE CONVEYED TO THE POINT OF DISPOSAL THROUGH AN APPROVED SANITARY SEWAGE SYSTEM OR OTHER SYSTEM, INCLUDING USE OF SEWAGE TRANSPORT VEHICLES, WASTE RETENTION TANKS, PUMPS, PIPES, HOSES, AND CONNECTIONS THAT ARE CONSTRUCTED, MAINTAINED, AND OPERATED ACCORDING TO LAW. PRIORITY VIOLATION. 7-38-030(C). CITATION ISSUED. | 55. PHYSICAL FACILITIES INSTALLED, MAINTAINED &amp; CLEAN - Comments: OBSERVED MISSING CEILING TILES IN THE FOLLOWING AREAS: LIQUOR STORAGE AND DRY STORAGE. MUST REPLACE.  OBSERVED STAINED CEILING TILES ABOVE DRY STORAGE AREA, MUST REPLACE.  | 55. PHYSICAL FACILITIES INSTALLED, MAINTAINED &amp; CLEAN - Comments: OBSERVED CAULKING ON TOP OF 3 COMPARTMENT SINK FILLED WITH BLACK MOLD LIKE SUBSTANCE. MUST CLEAN SANITIZE AND MAINTAIN.  | 56. ADEQUATE VENTILATION &amp; LIGHTING; DESIGNATED AREAS USED - Comments: OBSERVED MISSING LIGHT IN THE FOLLOWING AREAS: LIQUOR STORE CLOSET AND DRY STORAGE AREA. MUST REPLACE.</td>\n",
       "      <td>60605.0</td>\n",
       "    </tr>\n",
       "    <tr>\n",
       "      <th>21</th>\n",
       "      <td>SWEET SHOT COOKIES</td>\n",
       "      <td>3211 W ARMITAGE AVE</td>\n",
       "      <td>SWEET SHOT COOKIES</td>\n",
       "      <td>RESTAURANT</td>\n",
       "      <td>2019-12-03T00:00:00.000</td>\n",
       "      <td>2352595</td>\n",
       "      <td>LICENSE</td>\n",
       "      <td>41.917287</td>\n",
       "      <td>2688916.0</td>\n",
       "      <td>{'latitude': '-87.70745338783728', 'longitude': '41.917286920981006'}</td>\n",
       "      <td>-87.707453</td>\n",
       "      <td>Logan Square</td>\n",
       "      <td>Pass</td>\n",
       "      <td>2</td>\n",
       "      <td>49. NON-FOOD/FOOD CONTACT SURFACES CLEAN - Comments: Violation Codes: 4-601.11(C) Inspector Comments: MUST CLEAN DEBRIS BUILD UP INSIDE OF REACH IN FREEZER. | 55. PHYSICAL FACILITIES INSTALLED, MAINTAINED &amp; CLEAN - Comments: Violation Codes: 6-201.13 Inspector Comments: MUST REPAIR OR REPLACE LOOSE AND MISSING WALL BASES NEAR FRONT DOOR AND REAR PREP/DISH WASHING AREA. | 55. PHYSICAL FACILITIES INSTALLED, MAINTAINED &amp; CLEAN - Comments: Violation Codes: 6-501.16 Inspector Comments: MUST PROVIDE A RACK TO HANG UP MOPS TO DRY. | 56. ADEQUATE VENTILATION &amp; LIGHTING; DESIGNATED AREAS USED - Comments: Violation Codes: 6-202.11 Inspector Comments: MUST REPLACE BURNT OUT LIGHTS IN PREP AREAS. | 57. ALL FOOD EMPLOYEES HAVE FOOD HANDLER TRAINING - Comments: Violation Codes: 2-102.13 Inspector Comments: OBSERVED NO FOOD HANDLERS TRAINING FOR EMPLOYEES.MUST PROVIDE AND MAINTAIN.</td>\n",
       "      <td>60647.0</td>\n",
       "    </tr>\n",
       "  </tbody>\n",
       "</table>\n",
       "</div>"
      ],
      "text/plain": [
       "                   AKA Name               Address                DBA Name Facility Type          Inspection Date  Inspection ID Inspection Type   Latitude  License #                                                               Location  Longitude         Regions             Results  Risk                                                                                                                                                                                                                                                                                                                                                                                                                                                                                                                                                                                                                                                                                                                                                                                                                                                                                                                                                                                                                                                                                                                                                                                                                                                                                                                                                                                                                                                                                                                                                                                                                                                                                                                                                                                                                                                                                                                                                                                                                                                                                                                                                                                                                                                                                                                                                                                                                                                                                                                                                                                                                                                                                                                                                                                                                                                                                                                                                                                                                                                                                                                                                                                                                                                                                                                                                                                                                                                       Violations      Zip\n",
       "1   CHILI'S (T1-B14)         11601 W TOUHY AVE     CHILIS T-I              RESTAURANT    2019-12-04T00:00:00.000  2352734        CANVASS         42.008536  34169.0    {'latitude': '-87.91442843927047', 'longitude': '42.008536400868735'} -87.914428  O'Hare          Pass                1     10. ADEQUATE HANDWASHING SINKS PROPERLY SUPPLIED AND ACCESSIBLE - Comments: OBSERVED NO HAND WASHING SIGNAGE FOR HAND SINK AT REAR DISH WASHING AREA.MUST PROVIDE AND MAINTAIN. | 47. FOOD & NON-FOOD CONTACT SURFACES CLEANABLE, PROPERLY DESIGNED, CONSTRUCTED & USED - Comments: OBSERVED A TORN DOOR GASKET INSIDE OF THE 2 DOOR PREP COOLER SHOWED MANAGER. MUST REPLACE THE TORN DOOR GASKET AND TO MAINTAIN. | 49. NON-FOOD/FOOD CONTACT SURFACES CLEAN - Comments: INSTRUCTED TO DETAIL CLEAN AND MAINTAIN THE INTERIORS OF PREP COOLERS IN THE FOOD PREP AREA AND THE SIDES OF HOT COOKING EQUIPMENTS. | 55. PHYSICAL FACILITIES INSTALLED, MAINTAINED & CLEAN - Comments: INSTRUCTED TO REMOVE DUSTS AND FOOD SPLASHED DEBRIS ON WALLS AND CEILINGS AND ATTACHED CEILING VENTILATION COVERS IN FOOD PREP AREA AND REAR DISH WASHING AREA SHOWED MANAGER AND TO MAINTAIN. | 55. PHYSICAL FACILITIES INSTALLED, MAINTAINED & CLEAN - Comments: OBSERVED DIRTY FLOORS UNDER AND AROUND THE ICE MACHINE SHOWED MANAGER,CLEAN FLOORS IN DETAIL AND TO MAINTAIN.                                                                                                                                                                                                                                                                                                                                                                                                                                                                                                                                                                                                                                                                                                                                                                                                                                                                                                                                                                                                                                                                                                                                                                                                                                                                                                                                                                                                                                                                                                                                                                                                                                                                                                                                                                                                                                                                                                                                                                                                                                                                                                                                                                                                                                                                                                                                                                                             60666.0\n",
       "2   NaN                      3401 W BELMONT AVE    TAQUERIA BLUE LINE      RESTAURANT    2019-12-04T00:00:00.000  2352701        LICENSE         41.939168  2703436.0  {'latitude': '-87.71254599117191', 'longitude': '41.93916783376966'}  -87.712546  Avondale        Pass w/ Conditions  1     3. MANAGEMENT, FOOD EMPLOYEE AND CONDITIONAL EMPLOYEE; KNOWLEDGE, RESPONSIBILITIES AND REPORTING - Comments: NO EMPLOYEE HEALTH POLICY ON PREMISES. INSTRUCTED MANAGER MUST PROVIDE AN EMPLOYEE HEALTH POLICY ON PREMISES. PRIORITY FOUNDATION 7-38-010. NO CITATION ISSUED. | 5. PROCEDURES FOR RESPONDING TO VOMITING AND DIARRHEAL EVENTS - Comments: NO VOMIT AND DIARRHEA CLEANING PROCEDURE ON PREMISES. INSTRUCTED MANAGER MUST PROVIDE A VOMIT AND DIARRHEA CLEANING PROCEDURE WITH ALL NECESSARY ITEMS AS OUTLINED IN POLICY ON PREMISES. PRIORITY FOUNDATION 7-38-005. NO CITATION ISSUED. | 16. FOOD-CONTACT SURFACES: CLEANED & SANITIZED - Comments: OBSERVED SLIGHT CALCIUM BUILD UP INSIDE ICE MACHINE. MUST CLEAN INTERIOR OF ICE MACHINE AND MAINTAIN. | 51. PLUMBING INSTALLED; PROPER BACKFLOW DEVICES - Comments: OBSERVED 3-COMPARTMENT SINK STOPPERS (X2) NOT WORKING. MUST PROVIDE ADDITIONAL WORKING STOPPERS (X2) FOR 3-COMPARTMENT SINK. | 53. TOILET FACILITIES: PROPERLY CONSTRUCTED, SUPPLIED, & CLEANED - Comments: NO COVERED TRASH RECEPTACLE IN WASHROOM. MUST PROVIDE. | 58. ALLERGEN TRAINING AS REQUIRED - Comments: NO FOOD ALLERGEN TRAINING CERTIFICATE ON PREMISES. INSTRUCTED ALL CITY OF CHICAGO CERTIFIED FOOD MANAGERS MUST HAVE FOOD ALLERGEN TRAINING  CERTIFICATES ON PREMISES.                                                                                                                                                                                                                                                                                                                                                                                                                                                                                                                                                                                                                                                                                                                                                                                                                                                                                                                                                                                                                                                                                                                                                                                                                                                                                                                                                                                                                                                                                                                                                                                                                                                                                                                                                                                                                                                                                                                                                                                                                                                                                                                                   60618.0\n",
       "6   NAIBOA LATIN STORE       3349 N CLARK ST       NAIBOA LATIN STORE      RETAIL STORE  2019-12-04T00:00:00.000  2352702        LICENSE         41.943032  2698776.0  {'latitude': '-87.65299525711882', 'longitude': '41.943031768727145'} -87.652995  Lake View       Pass w/ Conditions  3     5. PROCEDURES FOR RESPONDING TO VOMITING AND DIARRHEAL EVENTS - Comments: MANAGEMENT UNABLE TO PROVIDE A PROCEDURE FOR CLEANING UP VOMITING AND DIARRHEA.INSTRUCTED TO HAVE ONE INCLUDING THE CHEMICALS AND SUPPLIES NEEDED. PRIORITY FOUNDATION #7-38-005. NO CITATION ISSUED  | 36. THERMOMETERS PROVIDED & ACCURATE - Comments: NOTED NO THERMOMETERS INSIDE REFRIGERATION UNIT CONSPICUOUSLY POSTED TO MONITOR THE AMBIENT TEMPERATURE OF EQUIPMENT. INSTRUCTED TO EQUIP ALL REFRIGERATION UNITS WITH ACCURATE AND WORKING THERMOMETERS. | 51. PLUMBING INSTALLED; PROPER BACKFLOW DEVICES - Comments: NOTED NO MOP SINK ON PREMISE. INSTRUCTED TO INSTALL A MOP SINK WITH A BACK FLOW PREVENTION DEVICE. | 53. TOILET FACILITIES: PROPERLY CONSTRUCTED, SUPPLIED, & CLEANED - Comments: NOTED WASH ROOMS ON PREMISE WITH GARBAGE RECEPTACLES AND NO LIDS. INSTRUCTED TO PROVIDE TRASH CANS WITH LIDS AT ALL WOMEN WASH ROOMS AND UNISEX WASH ROOMS                                                                                                                                                                                                                                                                                                                                                                                                                                                                                                                                                                                                                                                                                                                                                                                                                                                                                                                                                                                                                                                                                                                                                                                                                                                                                                                                                                                                                                                                                                                                                                                                                                                                                                                                                                                                                                                                                                                                                                                                                                                                                                                                                                                                                                                                                                                                                                                                                                                                                                          60657.0\n",
       "7   JAMIESON PUBLIC SCHOOL   5650 N MOZART         JAMIESON                SCHOOL        2019-12-04T00:00:00.000  2352718        CANVASS         41.984614  23931.0    {'latitude': '-87.70056525028134', 'longitude': '41.984613716529374'} -87.700565  West Ridge      Pass                1     49. NON-FOOD/FOOD CONTACT SURFACES CLEAN - Comments: Caulk worn out in all washbowl sinks in the washrooms in the old building. Must re caulk and maintain. | 55. PHYSICAL FACILITIES INSTALLED, MAINTAINED & CLEAN - Comments: Ceiling vent cover in all washrooms in the new building with dust build-up. Instructed to clean and maintain. | 56. ADEQUATE VENTILATION & LIGHTING; DESIGNATED AREAS USED - Comments: Filters on the ventilation hood in the cook line with dust build-up. Must clean and maintain.                                                                                                                                                                                                                                                                                                                                                                                                                                                                                                                                                                                                                                                                                                                                                                                                                                                                                                                                                                                                                                                                                                                                                                                                                                                                                                                                                                                                                                                                                                                                                                                                                                                                                                                                                                                                                                                                                                                                                                                                                                                                                                                                                                                                                                                                                                                                                                                                                                                                                                                                                                                                                                                                                                                                                                                                                                                                                                                                             60659.0\n",
       "9   BLUE LINE                1548 N DAMEN AVE      BLUE LINE               RESTAURANT    2019-12-03T00:00:00.000  2352629        CANVASS         41.909616  1170410.0  {'latitude': '-87.6775884711046', 'longitude': '41.90961625043591'}   -87.677588  Wicker Park     Pass w/ Conditions  1     25. CONSUMER ADVISORY PROVIDED FOR RAW/UNDERCOOKED FOOD - Comments: OBSERVED ESTABLISHMENT SERVING UNDER COOKED FOOD ITEMS HAMBURGERS WITH NO CONSUMER ADVISOR DISCLOSURE OR REMINDER STATEMENT ON THE MENU. INSTRUCTED TO HAVE CONSUMER ADVISORY ON THE MENU WITH DISCLOSURE NOTICE AND REMINDER STATEMENT. PRIORITY FOUNDATION VIOLATION 7-38-005. NO CITATION ISSUED.                                                                                                                                                                                                                                                                                                                                                                                                                                                                                                                                                                                                                                                                                                                                                                                                                                                                                                                                                                                                                                                                                                                                                                                                                                                                                                                                                                                                                                                                                                                                                                                                                                                                                                                                                                                                                                                                                                                                                                                                                                                                                                                                                                                                                                                                                                                                                                                                                                                                                                                                                                                                                                                                                                                                                                                                                                                                                                                                                                                                                                                                                         60622.0\n",
       "13  BRIGADOON                5748 W LAWRENCE AVE   BRIGADOON               TAVERN        2019-12-03T00:00:00.000  2352677        COMPLAINT       41.967838  12144.0    {'latitude': '-87.7716235051089', 'longitude': '41.9678382570795'}    -87.771624  Portage Park    Pass w/ Conditions  3     3. MANAGEMENT, FOOD EMPLOYEE AND CONDITIONAL EMPLOYEE; KNOWLEDGE, RESPONSIBILITIES AND REPORTING - Comments: FOUND NO EMPLOYEE HEALTH POLICY/TRAINING ON SITE. INSTRUCTED TO PROVIDE. PRIORITY FOUNDATION VIOLATION 7-38-010 NO CITATION ISSUED | 5. PROCEDURES FOR RESPONDING TO VOMITING AND DIARRHEAL EVENTS - Comments: FOUND NO PROCEDURE/PLAN FOR RESPONDING TO VOMITING AND DIARRHEAL EVENTS. INSTRUCTED TO PROVIDE AND MAINTAIN REQUIRED PROCEDURE/PLAN AND APPROPRIATE SUPPLIES OR KIT. (NECESSARY ITEMS AT A MINIMUM: GLOVES, FACE MASKS, DISPOSABLE MOPS AND APPROPRIATE SANITIZER/SPRAY THAT KILLS NOROVIRUS) PRIORITY FOUNDATION VIOLATION 7-38-005 NO CITATION ISSUED | 10. ADEQUATE HANDWASHING SINKS PROPERLY SUPPLIED AND ACCESSIBLE - Comments: INSTRUCTED TO PROVIDE HANDWASHING SIGNAGE AT ALL HANDSINK (BEHIND BAR AND MEN/WOMEN WASHROOMS). | 49. NON-FOOD/FOOD CONTACT SURFACES CLEAN - Comments: INSTRUCTED TO DETAIL CLEAN AND MAINTAIN WALL AND CEILING WITH MOLD LIKE BUILD-UP INSIDE LIQUOR WALK-IN COOLER IN THE BASEMENT | 51. PLUMBING INSTALLED; PROPER BACKFLOW DEVICES - Comments: BACKFLOW PREVENTER DEVICE NOT LOCATED BEHIND ICE MACHINE. INSTRUCTED TO INSTALL SO THAT IT CAN BE LOCATED TO BE SERVICED AND MAINTAINED.  | 53. TOILET FACILITIES: PROPERLY CONSTRUCTED, SUPPLIED, & CLEANED - Comments: INSTRUCTED TO PROVIDE TOILET RECEPTACLE WITH LID/COVER INSIDE WASHROOMS. | 55. PHYSICAL FACILITIES INSTALLED, MAINTAINED & CLEAN - Comments: INSTRUCTED TO CLEAN AND REMOVE UNNECESSARY ARTICLES STORED IN BASEMENT TO PREVENT PEST HARBORAGE. | 55. PHYSICAL FACILITIES INSTALLED, MAINTAINED & CLEAN - Comments:  INSTRUCTED TO DETAIL CLEAN AND MAINTAIN WALL AND CEILING WITH MOLD LIKE BUILD-UP INSIDE LIQUOR WALK-IN COOLER IN THE BASEMENT                                                                                                                                                                                                                                                                                                                                                                                                                                                                                                                                                                                                                                                                                                                                                                                                                                                                                                                                                                                                                                                                                                                                                                                                                                                                                                                                                                                                                                                                                                                                                                                                                                                                  60630.0\n",
       "14  HARRY CARAY'S SHORTSTOP  5700 S CICERO AVE     HARRY CARAYS SHORTSTOP  RESTAURANT    2019-12-03T00:00:00.000  2352653        CANVASS         41.789329  2689813.0  {'latitude': '-87.74164564419637', 'longitude': '41.789329323265385'} -87.741646  Garfield Ridge  Pass                1     45. SINGLE-USE/SINGLE-SERVICE ARTICLES: PROPERLY STORED & USED - Comments: OBSERVED SINGLE SERVICE BOWLS AND PLATES NOT INVERTED IN WAIT STATION AREA. INSTRUCTED MANAGER TO INVERT ALL SINGLE SERVICE ARTICLES TO PROTECT FROM CONTAMINTION. | 55. PHYSICAL FACILITIES INSTALLED, MAINTAINED & CLEAN - Comments: OBSERVED DISPOSABLE UTENSILS AND SPILLS ON FLOOR ALONG WALLS IN BAR AREA. INSTRUCTED MANAGER TO CLEAN FLOORS AND MAINTAIN.                                                                                                                                                                                                                                                                                                                                                                                                                                                                                                                                                                                                                                                                                                                                                                                                                                                                                                                                                                                                                                                                                                                                                                                                                                                                                                                                                                                                                                                                                                                                                                                                                                                                                                                                                                                                                                                                                                                                                                                                                                                                                                                                                                                                                                                                                                                                                                                                                                                                                                                                                                                                                                                                                                                                                                                                                                                                                                                                                                                                                     60638.0\n",
       "17  SUBWAY                   615 W LAKE ST         SUBWAY                  RESTAURANT    2019-12-03T00:00:00.000  2352617        LICENSE         41.885594  2703766.0  {'latitude': '-87.64346245829006', 'longitude': '41.88559449266443'}  -87.643462  West Loop       Pass w/ Conditions  1     3. MANAGEMENT, FOOD EMPLOYEE AND CONDITIONAL EMPLOYEE; KNOWLEDGE, RESPONSIBILITIES AND REPORTING - Comments: OBSERVED NO EMPLOYEE HEALTH POLICY DURING INSPECTION. INSTRUCTED TO COMPLY PRIORITY FOUNDATION VIOLATION 7-38-010 NO CITATION ISSUED. | 5. PROCEDURES FOR RESPONDING TO VOMITING AND DIARRHEAL EVENTS - Comments: OBSERVED NO PROCEDURE AND CLEAN UP KIT FOR VOMITING AND DIARRHEA EVENTS. INSTRUCTED TO COMPLY. PRIORITY FOUNDATION VIOLATION 7-38-005 NO CITATION ISSUED. | 57. ALL FOOD EMPLOYEES HAVE FOOD HANDLER TRAINING - Comments: FOOD HANDLER'S REQUIREMENT'S NOT MET AT THIS TIME. MUST COMPLY.                                                                                                                                                                                                                                                                                                                                                                                                                                                                                                                                                                                                                                                                                                                                                                                                                                                                                                                                                                                                                                                                                                                                                                                                                                                                                                                                                                                                                                                                                                                                                                                                                                                                                                                                                                                                                                                                                                                                                                                                                                                                                                                                                                                                                                                                                                                                                                                                                                                                                                                                                                                                                                                                                                                                                                                                                                         60661.0\n",
       "19  AMARIT RESTAURANT        600 S DEARBORN ST     AMARIT RESTAURANT       RESTAURANT    2019-12-03T00:00:00.000  2352649        CANVASS         41.874481  1801618.0  {'latitude': '-87.62935653990546', 'longitude': '41.87448116568133'}  -87.629357  Printers Row    Fail                1     10. ADEQUATE HANDWASHING SINKS PROPERLY SUPPLIED AND ACCESSIBLE - Comments: FOUND NO HANDWASHING SIGNAGE IN EMPLOYEE MEN AND WOMEN WASHROOM. MUST PROVIDE. | 10. ADEQUATE HANDWASHING SINKS PROPERLY SUPPLIED AND ACCESSIBLE - Comments: OBSERVED NO HANDWASHING CLEANSER AT HANDWASHING SINK LOCATED IN FRONT BAR AREA NEXT TO 3 COMPARTMENT SINK.  ALL HANDWASHING SINKS MUST BE EQUIPPED WITH HAND CLEANING LIQUID AT ALL TIMES. INSTRUCTED MANAGER TO PROVIDE. PRIORITY FOUNDATION VIOLATION. 7-38-030-(C). CITATION ISSUED. | 10. ADEQUATE HANDWASHING SINKS PROPERLY SUPPLIED AND ACCESSIBLE - Comments: OBSERVED NO HAND DRYING PROVISION AT HANDWASHING SINK LOCATED IN FRONT BAR AREA NEXT TO 3 COMPARTMENT SINK. ALL HANDWASHING SINKS MUST BE EQUIPPED WITH A HAND DRYING PROVISION AT ALL TIMES. INSTRUCTED MANAGER TO PROVIDE.CORRECTED ON SITE. PRIORITY FOUNDATION. 7-38-030(C). CITATION CONSOLIDATED WITH ABOVE VIOLATION. | 23. PROPER DATE MARKING AND DISPOSITION - Comments: OBSERVED READY-TO-EAT TIME/ TEMPERATURE CONTROL FOR SAFETY FOODS (TCS): COOKED NOODLES AND COOKED CHICKEN HELD FOR OVER 24 HOURS WITHOUT DISCARD DATE. INSTRUCTED FACILITY TO PROVIDE DISCARD DATE FOR ANY  READY-TO-EAT TCS FOODS HELD FOR OVER 24 HOURS. PRIORITY FOUNDATION. 7-38-005. NO CITATION ISSUED.  | 25. CONSUMER ADVISORY PROVIDED FOR RAW/UNDERCOOKED FOOD - Comments: OBSERVED RAW TUNA ON MENU. SAID ITEM IS SERVED RAW. INSTRUCTED FACILITY TO PROVIDE FOOTNOTE, DISCLOSURE AND REMINDER FOR MENU ITEMS THAT CAN BE ORDERED UNDER COOKED. PRIORITY FOUNDATION.7-38-005. NO CITATION ISSUED. | 39. CONTAMINATION PREVENTED DURING FOOD PREPARATION, STORAGE & DISPLAY - Comments: OBSERVED, SHOWER CURTAIN HANGING BETWEEN DIRTY DISHES STAGING ARE AND FOOD PREPARATION AREA. MUST PROVIDE BARRIER BETWEEN FOOD PREPARATION AREA AND DIRTY DISHES STAGING AREA.  | 50. HOT & COLD WATER AVAILABLE; ADEQUATE PRESSURE - Comments: FOUND NO HOT WATER ON SITE. HOT WATER GENERATION AND DISTRIBUTION SYSTEMS SHALL BE SUFFICIENT TO MEET THE PEAK HOT WATER DEMANDS THROUGHOUT THE RETAIL FOOD ESTABLISHMENT. PRIORITY VIOLATION. 7-38-030(C). CITATION ISSUED | 52. SEWAGE & WASTE WATER PROPERLY DISPOSED - Comments: OBSERVED 2 INCHES OF WASTE WATER ON FLOOR OF DISHWASHING AREA. OBSERVED WASTE WATER BACKING UP FROM FLOOR DRAIN LOCATED IN THE MIDDLE OF DISH AREA. ALSO NOTICED WASTE WATER BACK UP FROM FLOOR DRAIN CONNECTED TO LOW TEMPERATURE DISH MACHINE.SEWAGE SHALL BE CONVEYED TO THE POINT OF DISPOSAL THROUGH AN APPROVED SANITARY SEWAGE SYSTEM OR OTHER SYSTEM, INCLUDING USE OF SEWAGE TRANSPORT VEHICLES, WASTE RETENTION TANKS, PUMPS, PIPES, HOSES, AND CONNECTIONS THAT ARE CONSTRUCTED, MAINTAINED, AND OPERATED ACCORDING TO LAW. PRIORITY VIOLATION. 7-38-030(C). CITATION ISSUED. | 55. PHYSICAL FACILITIES INSTALLED, MAINTAINED & CLEAN - Comments: OBSERVED MISSING CEILING TILES IN THE FOLLOWING AREAS: LIQUOR STORAGE AND DRY STORAGE. MUST REPLACE.  OBSERVED STAINED CEILING TILES ABOVE DRY STORAGE AREA, MUST REPLACE.  | 55. PHYSICAL FACILITIES INSTALLED, MAINTAINED & CLEAN - Comments: OBSERVED CAULKING ON TOP OF 3 COMPARTMENT SINK FILLED WITH BLACK MOLD LIKE SUBSTANCE. MUST CLEAN SANITIZE AND MAINTAIN.  | 56. ADEQUATE VENTILATION & LIGHTING; DESIGNATED AREAS USED - Comments: OBSERVED MISSING LIGHT IN THE FOLLOWING AREAS: LIQUOR STORE CLOSET AND DRY STORAGE AREA. MUST REPLACE.   60605.0\n",
       "21  SWEET SHOT COOKIES       3211 W ARMITAGE AVE   SWEET SHOT COOKIES      RESTAURANT    2019-12-03T00:00:00.000  2352595        LICENSE         41.917287  2688916.0  {'latitude': '-87.70745338783728', 'longitude': '41.917286920981006'} -87.707453  Logan Square    Pass                2     49. NON-FOOD/FOOD CONTACT SURFACES CLEAN - Comments: Violation Codes: 4-601.11(C) Inspector Comments: MUST CLEAN DEBRIS BUILD UP INSIDE OF REACH IN FREEZER. | 55. PHYSICAL FACILITIES INSTALLED, MAINTAINED & CLEAN - Comments: Violation Codes: 6-201.13 Inspector Comments: MUST REPAIR OR REPLACE LOOSE AND MISSING WALL BASES NEAR FRONT DOOR AND REAR PREP/DISH WASHING AREA. | 55. PHYSICAL FACILITIES INSTALLED, MAINTAINED & CLEAN - Comments: Violation Codes: 6-501.16 Inspector Comments: MUST PROVIDE A RACK TO HANG UP MOPS TO DRY. | 56. ADEQUATE VENTILATION & LIGHTING; DESIGNATED AREAS USED - Comments: Violation Codes: 6-202.11 Inspector Comments: MUST REPLACE BURNT OUT LIGHTS IN PREP AREAS. | 57. ALL FOOD EMPLOYEES HAVE FOOD HANDLER TRAINING - Comments: Violation Codes: 2-102.13 Inspector Comments: OBSERVED NO FOOD HANDLERS TRAINING FOR EMPLOYEES.MUST PROVIDE AND MAINTAIN.                                                                                                                                                                                                                                                                                                                                                                                                                                                                                                                                                                                                                                                                                                                                                                                                                                                                                                                                                                                                                                                                                                                                                                                                                                                                                                                                                                                                                                                                                                                                                                                                                                                                                                                                                                                                                                                                                                                                                                                                                                                                                                                                                                                                                                                                                                                                                                                                                                                                                                                                                  60647.0"
      ]
     },
     "execution_count": 460,
     "metadata": {
      "tags": []
     },
     "output_type": "execute_result"
    }
   ],
   "source": [
    "set_diff_oob.dropna(subset=['Violations'], inplace=True) # the inspections that have violations (not out of business facilities)\n",
    "set_diff_oob.head(10)"
   ]
  },
  {
   "cell_type": "markdown",
   "metadata": {
    "colab_type": "text",
    "id": "fCjsqIlWdSY7"
   },
   "source": [
    "### **Violations analysis - facilities that have not gone out of business**"
   ]
  },
  {
   "cell_type": "code",
   "execution_count": 461,
   "metadata": {
    "colab": {
     "base_uri": "https://localhost:8080/",
     "height": 230
    },
    "colab_type": "code",
    "id": "c17Vg__XqE5U",
    "outputId": "abddc9f2-15b3-4480-c8e5-cf644823727c"
   },
   "outputs": [
    {
     "data": {
      "text/plain": [
       "1         [10, 47, 49, 55, 55]                        \n",
       "2         [3, 5, 16, 51, 53, 58]                      \n",
       "6         [5, 36, 51, 53]                             \n",
       "7         [49, 55, 56]                                \n",
       "9         [25]                                        \n",
       "          ...                                         \n",
       "192162    [38]                                        \n",
       "192171    [12, 21, 33, 34, 35, 38, 41]                \n",
       "192173    [32, 33, 35, 38, 40]                        \n",
       "192174    [33, 34, 35, 38, 41]                        \n",
       "192180    [18, 19, 32, 33, 34, 35, 36, 37, 38, 39, 41]\n",
       "Name: Violations, Length: 85369, dtype: object"
      ]
     },
     "execution_count": 461,
     "metadata": {
      "tags": []
     },
     "output_type": "execute_result"
    }
   ],
   "source": [
    "violations_not_oob = set_diff_oob['Violations'].apply(lambda x: re.findall(r'^[0-9]+[.] | [|] [0-9]+[.] ', x))\n",
    "violations_not_oob = pd.DataFrame(violations_not_oob)\n",
    "violation_nums_not_oob = violations_not_oob['Violations'].apply(lambda x: [int(sub.replace('|','').split('.')[0]) for sub in x])\n",
    "violation_nums_not_oob"
   ]
  },
  {
   "cell_type": "code",
   "execution_count": 462,
   "metadata": {
    "colab": {
     "base_uri": "https://localhost:8080/",
     "height": 352
    },
    "colab_type": "code",
    "id": "8pJUR7fdxOjZ",
    "outputId": "d7e1c97f-5afb-4c83-cdf5-39dfae1509e4"
   },
   "outputs": [
    {
     "data": {
      "text/html": [
       "<div>\n",
       "<style scoped>\n",
       "    .dataframe tbody tr th:only-of-type {\n",
       "        vertical-align: middle;\n",
       "    }\n",
       "\n",
       "    .dataframe tbody tr th {\n",
       "        vertical-align: top;\n",
       "    }\n",
       "\n",
       "    .dataframe thead th {\n",
       "        text-align: right;\n",
       "    }\n",
       "</style>\n",
       "<table border=\"1\" class=\"dataframe\">\n",
       "  <thead>\n",
       "    <tr style=\"text-align: right;\">\n",
       "      <th></th>\n",
       "      <th>Violations</th>\n",
       "    </tr>\n",
       "  </thead>\n",
       "  <tbody>\n",
       "    <tr>\n",
       "      <th>0</th>\n",
       "      <td>[10, 47, 49, 55, 55]</td>\n",
       "    </tr>\n",
       "    <tr>\n",
       "      <th>1</th>\n",
       "      <td>[3, 5, 16, 51, 53, 58]</td>\n",
       "    </tr>\n",
       "    <tr>\n",
       "      <th>2</th>\n",
       "      <td>[5, 36, 51, 53]</td>\n",
       "    </tr>\n",
       "    <tr>\n",
       "      <th>3</th>\n",
       "      <td>[49, 55, 56]</td>\n",
       "    </tr>\n",
       "    <tr>\n",
       "      <th>4</th>\n",
       "      <td>[25]</td>\n",
       "    </tr>\n",
       "    <tr>\n",
       "      <th>5</th>\n",
       "      <td>[3, 5, 10, 49, 51, 53, 55, 55]</td>\n",
       "    </tr>\n",
       "    <tr>\n",
       "      <th>6</th>\n",
       "      <td>[45, 55]</td>\n",
       "    </tr>\n",
       "    <tr>\n",
       "      <th>7</th>\n",
       "      <td>[3, 5, 57]</td>\n",
       "    </tr>\n",
       "    <tr>\n",
       "      <th>8</th>\n",
       "      <td>[10, 10, 10, 23, 25, 39, 50, 52, 55, 55, 56]</td>\n",
       "    </tr>\n",
       "    <tr>\n",
       "      <th>9</th>\n",
       "      <td>[49, 55, 55, 56, 57]</td>\n",
       "    </tr>\n",
       "  </tbody>\n",
       "</table>\n",
       "</div>"
      ],
      "text/plain": [
       "                                     Violations\n",
       "0  [10, 47, 49, 55, 55]                        \n",
       "1  [3, 5, 16, 51, 53, 58]                      \n",
       "2  [5, 36, 51, 53]                             \n",
       "3  [49, 55, 56]                                \n",
       "4  [25]                                        \n",
       "5  [3, 5, 10, 49, 51, 53, 55, 55]              \n",
       "6  [45, 55]                                    \n",
       "7  [3, 5, 57]                                  \n",
       "8  [10, 10, 10, 23, 25, 39, 50, 52, 55, 55, 56]\n",
       "9  [49, 55, 55, 56, 57]                        "
      ]
     },
     "execution_count": 462,
     "metadata": {
      "tags": []
     },
     "output_type": "execute_result"
    }
   ],
   "source": [
    "violation_nums_not_oob = pd.DataFrame(violation_nums_not_oob)\n",
    "violation_nums_not_oob.reset_index(inplace=True)\n",
    "violation_nums_not_oob.drop(columns='index', inplace=True)\n",
    "violation_nums_not_oob.head(10)"
   ]
  },
  {
   "cell_type": "code",
   "execution_count": 0,
   "metadata": {
    "colab": {},
    "colab_type": "code",
    "id": "skm89c9LxbHD"
   },
   "outputs": [],
   "source": [
    "vio_freq_not_oob = {}\n",
    "for i in violation_nums_not_oob['Violations']:\n",
    "  for j in i:\n",
    "    vio_freq_not_oob[str(j)] = 1 if str(j) not in vio_freq_not_oob else vio_freq_not_oob[str(j)]+1"
   ]
  },
  {
   "cell_type": "code",
   "execution_count": 464,
   "metadata": {
    "colab": {
     "base_uri": "https://localhost:8080/",
     "height": 295
    },
    "colab_type": "code",
    "id": "kfQyr41NzuMJ",
    "outputId": "0ae74a99-9c16-43bf-f981-1124b92ad5a8"
   },
   "outputs": [
    {
     "data": {
      "image/png": "[encoded data removed]",
      "text/plain": [
       "<Figure size 1224x288 with 1 Axes>"
      ]
     },
     "metadata": {
      "tags": []
     },
     "output_type": "display_data"
    }
   ],
   "source": [
    "plt.figure(figsize=(17,4))\n",
    "plt.bar(list(vio_freq_not_oob.keys()), vio_freq_not_oob.values())\n",
    "plt.title('Violation Types vs. Their Frequencies in Out of Business Facilities')\n",
    "plt.xlabel('Violation Types')\n",
    "plt.ylabel('Frequency')\n",
    "plt.show()"
   ]
  },
  {
   "cell_type": "code",
   "execution_count": 0,
   "metadata": {
    "colab": {},
    "colab_type": "code",
    "id": "UeJ6lWmlzuuM"
   },
   "outputs": [],
   "source": [
    "sorted_vio_freq_not_oob = {}\n",
    "\n",
    "for key in sorted(vio_freq_not_oob, key=vio_freq_not_oob.__getitem__, reverse=True):\n",
    "  sorted_vio_freq_not_oob[key] = vio_freq_not_oob[key]"
   ]
  },
  {
   "cell_type": "code",
   "execution_count": 466,
   "metadata": {
    "colab": {
     "base_uri": "https://localhost:8080/",
     "height": 295
    },
    "colab_type": "code",
    "id": "VQo1P1buxm2r",
    "outputId": "ae0224d9-e193-42a7-c4d3-bcfd41bbfb98"
   },
   "outputs": [
    {
     "data": {
      "image/png": "[encoded data removed]",
      "text/plain": [
       "<Figure size 1224x288 with 1 Axes>"
      ]
     },
     "metadata": {
      "tags": []
     },
     "output_type": "display_data"
    }
   ],
   "source": [
    "plt.figure(figsize=(17,4))\n",
    "plt.bar(list(sorted_vio_freq_not_oob.keys()), sorted_vio_freq_not_oob.values())\n",
    "plt.title('Violation Types vs. Their Frequencies in Facilities that have not Gone Out of Business')\n",
    "plt.xlabel('Violation Types')\n",
    "plt.ylabel('Frequency')\n",
    "plt.show()"
   ]
  },
  {
   "cell_type": "code",
   "execution_count": 467,
   "metadata": {
    "colab": {
     "base_uri": "https://localhost:8080/",
     "height": 284
    },
    "colab_type": "code",
    "id": "DGwn_xr2yHRD",
    "outputId": "397e29e7-f5e5-4165-8d4f-bcf285db3d17"
   },
   "outputs": [
    {
     "data": {
      "text/plain": [
       "['34',\n",
       " '35',\n",
       " '33',\n",
       " '38',\n",
       " '32',\n",
       " '41',\n",
       " '36',\n",
       " '55',\n",
       " '3',\n",
       " '5',\n",
       " '30',\n",
       " '18',\n",
       " '40',\n",
       " '37',\n",
       " '47']"
      ]
     },
     "execution_count": 467,
     "metadata": {
      "tags": []
     },
     "output_type": "execute_result"
    }
   ],
   "source": [
    "most_freq_vio_not_oob = [key for key, value in list(sorted_vio_freq_not_oob.items())[0:15]]\n",
    "most_freq_vio_not_oob # top 10 most frequent violation types among facilities that went out of business"
   ]
  },
  {
   "cell_type": "code",
   "execution_count": 0,
   "metadata": {
    "colab": {},
    "colab_type": "code",
    "id": "RWCSBy3hyNj9"
   },
   "outputs": [],
   "source": [
    "# TODO: remove set_diff_not_oob and replace by merged_oob in other fragments of the code\n",
    "# Inspections of facilities that didn't go out of business\n",
    " set_diff_not_oob = merged_oob\n",
    " #pd.concat([df, set_diff_oob, set_diff_oob], sort=True).drop_duplicates(keep=False, subset=['Latitude', 'Longitude', 'DBA Name', 'License #', 'Inspection Date'])"
   ]
  },
  {
   "cell_type": "code",
   "execution_count": 500,
   "metadata": {
    "colab": {
     "base_uri": "https://localhost:8080/",
     "height": 1000
    },
    "colab_type": "code",
    "id": "sUTUHZBUyZLe",
    "outputId": "742a5b74-9d07-4ea5-b3bc-2fc447c7bf4a"
   },
   "outputs": [
    {
     "data": {
      "text/html": [
       "<div>\n",
       "<style scoped>\n",
       "    .dataframe tbody tr th:only-of-type {\n",
       "        vertical-align: middle;\n",
       "    }\n",
       "\n",
       "    .dataframe tbody tr th {\n",
       "        vertical-align: top;\n",
       "    }\n",
       "\n",
       "    .dataframe thead th {\n",
       "        text-align: right;\n",
       "    }\n",
       "</style>\n",
       "<table border=\"1\" class=\"dataframe\">\n",
       "  <thead>\n",
       "    <tr style=\"text-align: right;\">\n",
       "      <th></th>\n",
       "      <th>AKA Name</th>\n",
       "      <th>Address</th>\n",
       "      <th>DBA Name</th>\n",
       "      <th>Facility Type</th>\n",
       "      <th>Inspection Date</th>\n",
       "      <th>Inspection ID</th>\n",
       "      <th>Inspection Type</th>\n",
       "      <th>Latitude</th>\n",
       "      <th>License #</th>\n",
       "      <th>Location</th>\n",
       "      <th>Longitude</th>\n",
       "      <th>Regions</th>\n",
       "      <th>Results</th>\n",
       "      <th>Risk</th>\n",
       "      <th>Violations</th>\n",
       "      <th>Zip</th>\n",
       "    </tr>\n",
       "  </thead>\n",
       "  <tbody>\n",
       "    <tr>\n",
       "      <th>176207</th>\n",
       "      <td>#1 CHINA EXPRESS , LTD</td>\n",
       "      <td>4248 S WENTWORTH AVE</td>\n",
       "      <td>#1 CHINA EXPRESS</td>\n",
       "      <td>RESTAURANT</td>\n",
       "      <td>2010-11-29T00:00:00.000</td>\n",
       "      <td>467259</td>\n",
       "      <td>CANVASS</td>\n",
       "      <td>41.816834</td>\n",
       "      <td>1869616.0</td>\n",
       "      <td>{'latitude': '-87.6313462733625', 'longitude': '41.816833769262814'}</td>\n",
       "      <td>-87.631346</td>\n",
       "      <td>Fuller Park</td>\n",
       "      <td>Pass</td>\n",
       "      <td>1</td>\n",
       "      <td>30. FOOD IN ORIGINAL CONTAINER, PROPERLY LABELED: CUSTOMER ADVISORY POSTED AS NEEDED - Comments: ALL BULK FOOD STORAGE CONTAINERS MUST BE PROPERLY LABELED. PLASTIC GROCERY BAGS SHOULD NOT BE USED TO STORE UNCOVERED FOODS. | 33. FOOD AND NON-FOOD CONTACT EQUIPMENT UTENSILS CLEAN, FREE OF ABRASIVE DETERGENTS - Comments: CLEAN THE FOLLOWING: INTERIOR CABINETS OF BOTH DEEP FRYERS, SIDES &amp; EXTERIORS OF ALL COOKING EQUIPMENT, INTERIORS OF BOTH WALK-IN COOLER &amp; FREEZER, ALL STORAGE SHELVES &amp; RACKS, EXTERIORS OF ALL LARGE BULK FOOD STORAGE CONTAINERS, INTERIOR &amp; EXTERIOR OF BAR B Q COOKER AND ALL OTHER UNCLEAN SURFACES THROUGHOUT. | 34. FLOORS: CONSTRUCTED PER CODE, CLEANED, GOOD REPAIR, COVING INSTALLED, DUST-LESS CLEANING METHODS USED - Comments: DETAIL CLEAN ALL FLOORS ALONG ALL WALL BASES, IN CORNERS, UNDERNEATH &amp; BEHIND ALL HEAVY EQUIPMENT. | 35. WALLS, CEILINGS, ATTACHED EQUIPMENT CONSTRUCTED PER CODE: GOOD REPAIR, SURFACES CLEAN AND DUST-LESS CLEANING METHODS - Comments: CLEAN ALL WALLS THROUGHOUT ALL AREAS OF BUSINESS (INCLUDING REAR DOORWAY FRAME). CLEAN LIGHT SHIELDS, CEILING TILES AND VENTS WHERE NEEDED. | 41. PREMISES MAINTAINED FREE OF LITTER, UNNECESSARY ARTICLES, CLEANING  EQUIPMENT PROPERLY STORED - Comments: MOP SINK MUST BE CLEARLY ACCESSIBLE FOR USE. | 42. APPROPRIATE METHOD OF HANDLING OF FOOD (ICE) HAIR RESTRAINTS AND CLEAN APPAREL WORN - Comments: ALL FOOD HANDLERS MUST WEAR HAIR RESTRAINTS</td>\n",
       "      <td>60609.0</td>\n",
       "    </tr>\n",
       "    <tr>\n",
       "      <th>96043</th>\n",
       "      <td>#1 CHOP SUEY</td>\n",
       "      <td>1907 W 87TH ST</td>\n",
       "      <td>#1 CHOP SUEY</td>\n",
       "      <td>RESTAURANT</td>\n",
       "      <td>2015-02-04T00:00:00.000</td>\n",
       "      <td>1480501</td>\n",
       "      <td>COMPLAINT</td>\n",
       "      <td>41.735578</td>\n",
       "      <td>2042372.0</td>\n",
       "      <td>{'latitude': '-87.67078075079954', 'longitude': '41.735578274725285'}</td>\n",
       "      <td>-87.670781</td>\n",
       "      <td>Auburn Gresham</td>\n",
       "      <td>Pass w/ Conditions</td>\n",
       "      <td>1</td>\n",
       "      <td>11. ADEQUATE NUMBER, CONVENIENT, ACCESSIBLE, DESIGNED, AND MAINTAINED - Comments: EXPOSED HANDSINK NOT ACCESSIBLE, LARGE LADDER IN FRONT OF SINK, EMPLOYEES UNABLE TO ACCESS SINK. INSTD TO HAVE CLEAR AND ACCESSIBLE AT ALL TIMES. CITATION ISSUED 7-38-030 CRITICAL. | 32. FOOD AND NON-FOOD CONTACT SURFACES PROPERLY DESIGNED, CONSTRUCTED AND MAINTAINED - Comments: ALL CUTTING BOARDS ON PREMISES STAINED WITH DEEP, DARK GROOVES. INSTD TO REPLACE ALL CUTTING BOARDS AND MAINTAIN. INTERIOR LIDS OF RICE COOKER WITH RUST ACCUMULATION. REPLACE SAME AND MAINTAIN FREE OF RUST. | 33. FOOD AND NON-FOOD CONTACT EQUIPMENT UTENSILS CLEAN, FREE OF ABRASIVE DETERGENTS - Comments: THE FOLLOWING FOOD AND NON-FOOD EQUIPMENT THRU-OUT NOT CLEAN, EXCESSIVE FOOD DEBRIS ACCUMULATION, DUST, AND GREASE NOTED: INTERIOR/EXTERIOR OF WOK STATION, INTERIOR/EXTERIOR OF STOVE, EXTERIOR SIDES, AND INTERIOR BOTTOM OF FRYERS, INTERIOR/EXTERIOR OF ALL COOLERS, INCLUDING DOORS , DOOR HANDLES, AND RUBBER GASKETS OF DOORS, EXTERIOR OF TRASH CONTAINERS, STORAGE SHELVES, STEAM TABLE, MICROWAVE, AND ALL SINKS. INSTD TO CLEAN SAME, FREE OF ALL BUILD-UP AND MAINTAIN. | 34. FLOORS: CONSTRUCTED PER CODE, CLEANED, GOOD REPAIR, COVING INSTALLED, DUST-LESS CLEANING METHODS USED - Comments: FLOOR THRU-OUT UNDER, BEHIND HEAVY EQUIPMENT AND ALONG WALLBASE NOT CLEAN, EXCESSIVE ACCUMULATION. INSTD TO CLEAN AND MAINTAIN SAME. | 35. WALLS, CEILINGS, ATTACHED EQUIPMENT CONSTRUCTED PER CODE: GOOD REPAIR, SURFACES CLEAN AND DUST-LESS CLEANING METHODS - Comments: CEILING THRU-OUT WITH DUST ACCUMULATION. INSDT TO CLEAN AND MAINTAIN SAME FREE OF DUST/DEBRIS. ALL WALLS, DOORS, LIGHTSWITCH COVERS THRU-OUT NOT CLEAN AND WITH WORN SURFACES. INSTD TO CLEAN AND MAINTAIN. INSTD TO PAINT IF NECESSARY AFTER CLEANING. | 42. APPROPRIATE METHOD OF HANDLING OF FOOD (ICE) HAIR RESTRAINTS AND CLEAN APPAREL WORN - Comments: FOOH HANDLER WEARING UNCLEAN APRON. INSTD TO WEAR CLEAN APPAREL/APRON AND CHANGE WHEN NECESSARY | 45. FOOD HANDLER REQUIREMENTS MET - Comments: FOOD HANDLER REQUIREMENTS NOT MET. NO LOGS, RECORDS ON FILE. INSTD TO PROVIDE PROPER REQUIREMENTS.</td>\n",
       "      <td>60620.0</td>\n",
       "    </tr>\n",
       "    <tr>\n",
       "      <th>75863</th>\n",
       "      <td>#1 CHOP SUEY</td>\n",
       "      <td>1907 W 87TH ST</td>\n",
       "      <td>#1 CHOP SUEY</td>\n",
       "      <td>RESTAURANT</td>\n",
       "      <td>2016-01-26T00:00:00.000</td>\n",
       "      <td>1621210</td>\n",
       "      <td>CANVASS</td>\n",
       "      <td>41.735578</td>\n",
       "      <td>2042372.0</td>\n",
       "      <td>{'latitude': '-87.67078075079954', 'longitude': '41.735578274725285'}</td>\n",
       "      <td>-87.670781</td>\n",
       "      <td>Auburn Gresham</td>\n",
       "      <td>Pass</td>\n",
       "      <td>1</td>\n",
       "      <td>33. FOOD AND NON-FOOD CONTACT EQUIPMENT UTENSILS CLEAN, FREE OF ABRASIVE DETERGENTS - Comments: OBSERVED THE EXTERIOR OF EQUIPMENT WITH ACCUMULATED FOOD DEBRIS. INSTRUCTED TO CLEAN AND MAINTAIN THE EXTERIOR OF EQUIPMENT. | 34. FLOORS: CONSTRUCTED PER CODE, CLEANED, GOOD REPAIR, COVING INSTALLED, DUST-LESS CLEANING METHODS USED - Comments: OBSERVED THE FLOOR WITH ACCUMULATED FOOD DEBRIS AND GREASE UNDER THE WOK STATION AND FRYERS. INSTRUCTED TO CLEAN AND MAINTAIN ALL FLOORS. | 38. VENTILATION: ROOMS AND EQUIPMENT VENTED AS REQUIRED: PLUMBING: INSTALLED AND MAINTAINED - Comments: OBSERVED NO HOT OR COLD WATER AT THE 1 COMPARTMENT SINK. INSTRUCTED TO PROVIDE AND MAINTAIN HOT AND COLD WATER.  | 38. VENTILATION: ROOMS AND EQUIPMENT VENTED AS REQUIRED: PLUMBING: INSTALLED AND MAINTAINED - Comments: OBSERVED THE 3 COMPARTMENT SINK FAUCET BASE AND BOTH KNOBS LEAKING. INSTRUCTED TO REPAIR AND MAINTAIN ALL PLUMBING.</td>\n",
       "      <td>60620.0</td>\n",
       "    </tr>\n",
       "    <tr>\n",
       "      <th>183533</th>\n",
       "      <td>#1 CHOP SUEY</td>\n",
       "      <td>1907 W 87TH ST</td>\n",
       "      <td>#1 CHOP SUEY</td>\n",
       "      <td>RESTAURANT</td>\n",
       "      <td>2010-07-06T00:00:00.000</td>\n",
       "      <td>277104</td>\n",
       "      <td>LICENSE</td>\n",
       "      <td>41.735578</td>\n",
       "      <td>2042372.0</td>\n",
       "      <td>{'latitude': '-87.67078075079954', 'longitude': '41.735578274725285'}</td>\n",
       "      <td>-87.670781</td>\n",
       "      <td>Auburn Gresham</td>\n",
       "      <td>Fail</td>\n",
       "      <td>1</td>\n",
       "      <td>35. WALLS, CEILINGS, ATTACHED EQUIPMENT CONSTRUCTED PER CODE: GOOD REPAIR, SURFACES CLEAN AND DUST-LESS CLEANING METHODS - Comments: The walls and ceilings shall be in good repair and easily cleaned.  THE INTERIOR OF THE HOOD AND FILTERS NOT CLEAN. THE LIGHT SHIELDS THROUGH NOT CLEAN. INSTRUCTED TO CLEAN THEM.</td>\n",
       "      <td>60620.0</td>\n",
       "    </tr>\n",
       "    <tr>\n",
       "      <th>174783</th>\n",
       "      <td>#1 CHOP SUEY</td>\n",
       "      <td>1907 W 87TH ST</td>\n",
       "      <td>#1 CHOP SUEY</td>\n",
       "      <td>RESTAURANT</td>\n",
       "      <td>2011-01-05T00:00:00.000</td>\n",
       "      <td>490946</td>\n",
       "      <td>COMPLAINT</td>\n",
       "      <td>41.735578</td>\n",
       "      <td>2042372.0</td>\n",
       "      <td>{'latitude': '-87.67078075079954', 'longitude': '41.735578274725285'}</td>\n",
       "      <td>-87.670781</td>\n",
       "      <td>Auburn Gresham</td>\n",
       "      <td>Pass</td>\n",
       "      <td>1</td>\n",
       "      <td>30. FOOD IN ORIGINAL CONTAINER, PROPERLY LABELED: CUSTOMER ADVISORY POSTED AS NEEDED - Comments: MUST LABEL AND DATE ALL COOKED AND PREPARED FOODS STORED IN COOLERS AND LABEL ALL BULK STORAGE CONTAINERS. | 33. FOOD AND NON-FOOD CONTACT EQUIPMENT UTENSILS CLEAN, FREE OF ABRASIVE DETERGENTS - Comments: CLEAN THE FOLLOWING:INTERIOR CABINETS AND EXTERIORS OF DEEP FRYERS, CAN OPENER HOLSTER CONNECTED TO PREP TABLE, PREP TABLES, STORAGE RACKS AND SHELVES, EXTERIORS OF FOOD STORAGE CONTAINERS, AND INTERIORS OF COOLERS. | 34. FLOORS: CONSTRUCTED PER CODE, CLEANED, GOOD REPAIR, COVING INSTALLED, DUST-LESS CLEANING METHODS USED - Comments: DETAIL CLEAN FLOORS ALONG ALL WALL BASES, UNDERNEATH AND BEHIND ALL HEAVY EQUIPMENT THROUGHOUT ALL AREAS OF PREMISES. | 35. WALLS, CEILINGS, ATTACHED EQUIPMENT CONSTRUCTED PER CODE: GOOD REPAIR, SURFACES CLEAN AND DUST-LESS CLEANING METHODS - Comments: CLEAN AND/OR PAINT WALLS IN KITCHEN AREA (INCLUDING BEHIND WOK COOKING STATION).  CLEAN AND/OR PAINT CEILING TILES THROUGHOUT KITCHEN AREA.  REPAIR OPENING IN WALL BEHIND TOILET IN WASHROOM.  REPAIR LEFT BOTTOM SECTION OF REAR EXIT DOOR MAKING IT TIGHT-FITTING TO PREVENT RODENT ENTRY.  CLEAN LIGHT SHIELDS AND CEILING VENTS THROUGHOUT WHERE NEEDED. | 40. REFRIGERATION AND METAL STEM THERMOMETERS PROVIDED AND CONSPICUOUS - Comments: PROVIDE NEW THERMOMETERS FOR COOLERS WHERE NEEDED. | 41. PREMISES MAINTAINED FREE OF LITTER, UNNECESSARY ARTICLES, CLEANING  EQUIPMENT PROPERLY STORED - Comments: ELIMINATE CLUTTER IN WASHROOM.</td>\n",
       "      <td>60620.0</td>\n",
       "    </tr>\n",
       "    <tr>\n",
       "      <th>138646</th>\n",
       "      <td>#1 CHOP SUEY</td>\n",
       "      <td>1907 W 87TH ST</td>\n",
       "      <td>#1 CHOP SUEY</td>\n",
       "      <td>RESTAURANT</td>\n",
       "      <td>2013-01-08T00:00:00.000</td>\n",
       "      <td>1072233</td>\n",
       "      <td>CANVASS</td>\n",
       "      <td>41.735578</td>\n",
       "      <td>2042372.0</td>\n",
       "      <td>{'latitude': '-87.67078075079954', 'longitude': '41.735578274725285'}</td>\n",
       "      <td>-87.670781</td>\n",
       "      <td>Auburn Gresham</td>\n",
       "      <td>Fail</td>\n",
       "      <td>1</td>\n",
       "      <td>18. NO EVIDENCE OF RODENT OR INSECT OUTER OPENINGS PROTECTED/RODENT PROOFED, A WRITTEN LOG SHALL BE MAINTAINED AVAILABLE TO THE INSPECTORS - Comments: NOTED OVER 65 MICE DROPPINGS IN CORNER ALONG WALL AND UNDERNEATH STACKED CRATES AT REAR BY HAND WASH SINK. ALSO NOTED 13 MICE DROPPINGS ON BOTTOM SHELF OF UTILITY TABLE AT REAR OF SAME AREA. MUST REMOVE DROPPINGS CLEAN AND SANITIZE AFFECTED AREAS. CONSULT WITH PEST CONTROL OPERATOR. SERIOUS VIOLATION, 7-38-020. | 30. FOOD IN ORIGINAL CONTAINER, PROPERLY LABELED: CUSTOMER ADVISORY POSTED AS NEEDED - Comments: PROPERLY STORE OPENED FOOD FROM CANS IN A FOOD GRADE CONTAINER. | 33. FOOD AND NON-FOOD CONTACT EQUIPMENT UTENSILS CLEAN, FREE OF ABRASIVE DETERGENTS - Comments: REMOVE DROPPINGS, CLUTTER FROM REAR UTILITY TABLE AT BOTTOM, CLEAN AND SANITIZE. MAINTAIN AT ALL TIMES. | 43. FOOD (ICE) DISPENSING UTENSILS, WASH CLOTHS PROPERLY STORED - Comments: NOTED SEVERAL WASH  CLOTHS ON PREP TABLES AND COUNTERS. MUST PROPERLY  STORE IN SANITIZING SOLUTION WHEN NOT IN USE.</td>\n",
       "      <td>60620.0</td>\n",
       "    </tr>\n",
       "    <tr>\n",
       "      <th>117651</th>\n",
       "      <td>#1 CHOP SUEY</td>\n",
       "      <td>1907 W 87TH ST</td>\n",
       "      <td>#1 CHOP SUEY</td>\n",
       "      <td>RESTAURANT</td>\n",
       "      <td>2014-01-28T00:00:00.000</td>\n",
       "      <td>1395782</td>\n",
       "      <td>CANVASS</td>\n",
       "      <td>41.735578</td>\n",
       "      <td>2042372.0</td>\n",
       "      <td>{'latitude': '-87.67078075079954', 'longitude': '41.735578274725285'}</td>\n",
       "      <td>-87.670781</td>\n",
       "      <td>Auburn Gresham</td>\n",
       "      <td>Pass</td>\n",
       "      <td>1</td>\n",
       "      <td>33. FOOD AND NON-FOOD CONTACT EQUIPMENT UTENSILS CLEAN, FREE OF ABRASIVE DETERGENTS - Comments: OBSERVED  EXTERIOR OF POP REACH IN COOLER BEHIND FRONT COUNTER,BOTTOM SHELVES OF PREP TABLES,SHEET PAN HOLDING (SPICES, VINEGAR,ETC )AND INTERIOR OF WALK IN COOLER NOT CLEAN.MUST CLEAN/MAINTAIN. | 38. VENTILATION: ROOMS AND EQUIPMENT VENTED AS REQUIRED: PLUMBING: INSTALLED AND MAINTAINED - Comments: FAUCET LEAKY AT 3-COMP SINK.MUST REPAIR.</td>\n",
       "      <td>60620.0</td>\n",
       "    </tr>\n",
       "    <tr>\n",
       "      <th>183647</th>\n",
       "      <td>#1 CHOP SUEY</td>\n",
       "      <td>1907 W 87TH ST</td>\n",
       "      <td>#1 CHOP SUEY</td>\n",
       "      <td>RESTAURANT</td>\n",
       "      <td>2010-07-01T00:00:00.000</td>\n",
       "      <td>277047</td>\n",
       "      <td>LICENSE</td>\n",
       "      <td>41.735578</td>\n",
       "      <td>2042372.0</td>\n",
       "      <td>{'latitude': '-87.67078075079954', 'longitude': '41.735578274725285'}</td>\n",
       "      <td>-87.670781</td>\n",
       "      <td>Auburn Gresham</td>\n",
       "      <td>Fail</td>\n",
       "      <td>1</td>\n",
       "      <td>2. FACILITIES TO MAINTAIN PROPER TEMPERATURE - Comments: REACH IN PREP COOLER IN POOR REPAIR, INTERNAL TEMPERATURE OF 57.9F. UNIT TAGGED AT THIS TIME. INSTD NOT TO USE UNTIL REINSPECTED BY CDPH. FAX LETTER TO (312) 746-4240 TO REQUEST REINSPECTION. UNIT MUST BE 40F OR BELOW. CITATION ISSUED 7-38-005A CRITICAL. INSTD TO USE OTHER COOLERS ON SITE. | 3. POTENTIALLY HAZARDOUS FOOD MEETS TEMPERATURE REQUIREMENT DURING STORAGE, PREPARATION DISPLAY AND SERVICE - Comments: THE FOLLOWING POTENTIALLY HAZARDOUS FOODS AT IMPROPER TEMPERATURES IN REACH IN PREP COOLER: CHICKEN 57F, SHRIMP 54.9F, BEEF 56.1F. ALL PRODUCT DISPOSED OF AND DENATURED. APPROX 20LBS. $100 VALUE. CITATION ISSUED 7-38-005A CRITICAL | 31. CLEAN MULTI-USE UTENSILS AND SINGLE SERVICE ARTICLES PROPERLY STORED: NO REUSE OF SINGLE SERVICE ARTICLES - Comments: INSTD TO STORE CLEAN KNIVES PROPERLY. | 35. WALLS, CEILINGS, ATTACHED EQUIPMENT CONSTRUCTED PER CODE: GOOD REPAIR, SURFACES CLEAN AND DUST-LESS CLEANING METHODS - Comments: INTERIOR OF HOOD AND LIGHTSHIELDS THRU-OUT NOT CLEAN. | 38. VENTILATION: ROOMS AND EQUIPMENT VENTED AS REQUIRED: PLUMBING: INSTALLED AND MAINTAINED - Comments: PIPE LEAKING UNDER PREP SINK. REPAIR SAME.</td>\n",
       "      <td>60620.0</td>\n",
       "    </tr>\n",
       "    <tr>\n",
       "      <th>111098</th>\n",
       "      <td>#1 CHOP SUEY</td>\n",
       "      <td>1907 W 87TH ST</td>\n",
       "      <td>#1 CHOP SUEY</td>\n",
       "      <td>RESTAURANT</td>\n",
       "      <td>2014-05-22T00:00:00.000</td>\n",
       "      <td>1296904</td>\n",
       "      <td>COMPLAINT</td>\n",
       "      <td>41.735578</td>\n",
       "      <td>2042372.0</td>\n",
       "      <td>{'latitude': '-87.67078075079954', 'longitude': '41.735578274725285'}</td>\n",
       "      <td>-87.670781</td>\n",
       "      <td>Auburn Gresham</td>\n",
       "      <td>Pass</td>\n",
       "      <td>1</td>\n",
       "      <td>38. VENTILATION: ROOMS AND EQUIPMENT VENTED AS REQUIRED: PLUMBING: INSTALLED AND MAINTAINED - Comments: FAUCET AT 3-COMP SINK LEAKY.MUST REPAIR.</td>\n",
       "      <td>60620.0</td>\n",
       "    </tr>\n",
       "    <tr>\n",
       "      <th>2915</th>\n",
       "      <td>#1 DELI</td>\n",
       "      <td>6901 S NORMAL BLVD</td>\n",
       "      <td>#1 DELI</td>\n",
       "      <td>RETAIL STORE</td>\n",
       "      <td>2019-09-16T00:00:00.000</td>\n",
       "      <td>2312319</td>\n",
       "      <td>LICENSE</td>\n",
       "      <td>41.768866</td>\n",
       "      <td>2657753.0</td>\n",
       "      <td>{'latitude': '-87.63709545616062', 'longitude': '41.76886618832226'}</td>\n",
       "      <td>-87.637095</td>\n",
       "      <td>Englewood</td>\n",
       "      <td>Pass w/ Conditions</td>\n",
       "      <td>1</td>\n",
       "      <td>3. MANAGEMENT, FOOD EMPLOYEE AND CONDITIONAL EMPLOYEE; KNOWLEDGE, RESPONSIBILITIES AND REPORTING - Comments: NO EMPLOYEE HEALTH POLICY ON SITE AT THE TIME OF INSPECTION. INSTRUCTED TO OBTAIN AND MAINTAIN. PRIORITY FOUNDATION #7-38-010 | 5. PROCEDURES FOR RESPONDING TO VOMITING AND DIARRHEAL EVENTS - Comments: NO VOMIT OR  DIARRHEA CLEAN UP PROCEDURE ON SITE AT TIME OF INSPECTION. INSTRUCTED TO OBTAIN AND NO CITATION ISSUED MAINTAIN. PRIORITY FOUNDATION #7-38-005. | 38. INSECTS, RODENTS, &amp; ANIMALS NOT PRESENT - Comments: OBSERVED THE FRONT DOORS WITH AN APPROXIMATE 1 1/2 INCH GAP IN THE MIDDLE. INSTRUCTED TO PROVIDE A TIGHT SEAL TO PREVENT RODENT OR PESTS AND MAINTAIN</td>\n",
       "      <td>60621.0</td>\n",
       "    </tr>\n",
       "  </tbody>\n",
       "</table>\n",
       "</div>"
      ],
      "text/plain": [
       "                      AKA Name                Address          DBA Name Facility Type          Inspection Date  Inspection ID Inspection Type   Latitude  License #                                                               Location  Longitude         Regions             Results  Risk                                                                                                                                                                                                                                                                                                                                                                                                                                                                                                                                                                                                                                                                                                                                                                                                                                                                                                                                                                                                                                                                                                                                                                                                                                                                                                                                                                                                                                                                                                                                                                                                                                                                                                                                                                                                                                                                                                                                                                                                                                                                                                                                                                                           Violations      Zip\n",
       "176207  #1 CHINA EXPRESS , LTD  4248 S WENTWORTH AVE   #1 CHINA EXPRESS  RESTAURANT    2010-11-29T00:00:00.000  467259         CANVASS         41.816834  1869616.0  {'latitude': '-87.6313462733625', 'longitude': '41.816833769262814'}  -87.631346  Fuller Park     Pass                1     30. FOOD IN ORIGINAL CONTAINER, PROPERLY LABELED: CUSTOMER ADVISORY POSTED AS NEEDED - Comments: ALL BULK FOOD STORAGE CONTAINERS MUST BE PROPERLY LABELED. PLASTIC GROCERY BAGS SHOULD NOT BE USED TO STORE UNCOVERED FOODS. | 33. FOOD AND NON-FOOD CONTACT EQUIPMENT UTENSILS CLEAN, FREE OF ABRASIVE DETERGENTS - Comments: CLEAN THE FOLLOWING: INTERIOR CABINETS OF BOTH DEEP FRYERS, SIDES & EXTERIORS OF ALL COOKING EQUIPMENT, INTERIORS OF BOTH WALK-IN COOLER & FREEZER, ALL STORAGE SHELVES & RACKS, EXTERIORS OF ALL LARGE BULK FOOD STORAGE CONTAINERS, INTERIOR & EXTERIOR OF BAR B Q COOKER AND ALL OTHER UNCLEAN SURFACES THROUGHOUT. | 34. FLOORS: CONSTRUCTED PER CODE, CLEANED, GOOD REPAIR, COVING INSTALLED, DUST-LESS CLEANING METHODS USED - Comments: DETAIL CLEAN ALL FLOORS ALONG ALL WALL BASES, IN CORNERS, UNDERNEATH & BEHIND ALL HEAVY EQUIPMENT. | 35. WALLS, CEILINGS, ATTACHED EQUIPMENT CONSTRUCTED PER CODE: GOOD REPAIR, SURFACES CLEAN AND DUST-LESS CLEANING METHODS - Comments: CLEAN ALL WALLS THROUGHOUT ALL AREAS OF BUSINESS (INCLUDING REAR DOORWAY FRAME). CLEAN LIGHT SHIELDS, CEILING TILES AND VENTS WHERE NEEDED. | 41. PREMISES MAINTAINED FREE OF LITTER, UNNECESSARY ARTICLES, CLEANING  EQUIPMENT PROPERLY STORED - Comments: MOP SINK MUST BE CLEARLY ACCESSIBLE FOR USE. | 42. APPROPRIATE METHOD OF HANDLING OF FOOD (ICE) HAIR RESTRAINTS AND CLEAN APPAREL WORN - Comments: ALL FOOD HANDLERS MUST WEAR HAIR RESTRAINTS                                                                                                                                                                                                                                                                                                                                                                                                                                                                                                                                                                                                                                                                                                                  60609.0\n",
       "96043   #1 CHOP SUEY            1907 W 87TH ST         #1 CHOP SUEY      RESTAURANT    2015-02-04T00:00:00.000  1480501        COMPLAINT       41.735578  2042372.0  {'latitude': '-87.67078075079954', 'longitude': '41.735578274725285'} -87.670781  Auburn Gresham  Pass w/ Conditions  1     11. ADEQUATE NUMBER, CONVENIENT, ACCESSIBLE, DESIGNED, AND MAINTAINED - Comments: EXPOSED HANDSINK NOT ACCESSIBLE, LARGE LADDER IN FRONT OF SINK, EMPLOYEES UNABLE TO ACCESS SINK. INSTD TO HAVE CLEAR AND ACCESSIBLE AT ALL TIMES. CITATION ISSUED 7-38-030 CRITICAL. | 32. FOOD AND NON-FOOD CONTACT SURFACES PROPERLY DESIGNED, CONSTRUCTED AND MAINTAINED - Comments: ALL CUTTING BOARDS ON PREMISES STAINED WITH DEEP, DARK GROOVES. INSTD TO REPLACE ALL CUTTING BOARDS AND MAINTAIN. INTERIOR LIDS OF RICE COOKER WITH RUST ACCUMULATION. REPLACE SAME AND MAINTAIN FREE OF RUST. | 33. FOOD AND NON-FOOD CONTACT EQUIPMENT UTENSILS CLEAN, FREE OF ABRASIVE DETERGENTS - Comments: THE FOLLOWING FOOD AND NON-FOOD EQUIPMENT THRU-OUT NOT CLEAN, EXCESSIVE FOOD DEBRIS ACCUMULATION, DUST, AND GREASE NOTED: INTERIOR/EXTERIOR OF WOK STATION, INTERIOR/EXTERIOR OF STOVE, EXTERIOR SIDES, AND INTERIOR BOTTOM OF FRYERS, INTERIOR/EXTERIOR OF ALL COOLERS, INCLUDING DOORS , DOOR HANDLES, AND RUBBER GASKETS OF DOORS, EXTERIOR OF TRASH CONTAINERS, STORAGE SHELVES, STEAM TABLE, MICROWAVE, AND ALL SINKS. INSTD TO CLEAN SAME, FREE OF ALL BUILD-UP AND MAINTAIN. | 34. FLOORS: CONSTRUCTED PER CODE, CLEANED, GOOD REPAIR, COVING INSTALLED, DUST-LESS CLEANING METHODS USED - Comments: FLOOR THRU-OUT UNDER, BEHIND HEAVY EQUIPMENT AND ALONG WALLBASE NOT CLEAN, EXCESSIVE ACCUMULATION. INSTD TO CLEAN AND MAINTAIN SAME. | 35. WALLS, CEILINGS, ATTACHED EQUIPMENT CONSTRUCTED PER CODE: GOOD REPAIR, SURFACES CLEAN AND DUST-LESS CLEANING METHODS - Comments: CEILING THRU-OUT WITH DUST ACCUMULATION. INSDT TO CLEAN AND MAINTAIN SAME FREE OF DUST/DEBRIS. ALL WALLS, DOORS, LIGHTSWITCH COVERS THRU-OUT NOT CLEAN AND WITH WORN SURFACES. INSTD TO CLEAN AND MAINTAIN. INSTD TO PAINT IF NECESSARY AFTER CLEANING. | 42. APPROPRIATE METHOD OF HANDLING OF FOOD (ICE) HAIR RESTRAINTS AND CLEAN APPAREL WORN - Comments: FOOH HANDLER WEARING UNCLEAN APRON. INSTD TO WEAR CLEAN APPAREL/APRON AND CHANGE WHEN NECESSARY | 45. FOOD HANDLER REQUIREMENTS MET - Comments: FOOD HANDLER REQUIREMENTS NOT MET. NO LOGS, RECORDS ON FILE. INSTD TO PROVIDE PROPER REQUIREMENTS.  60620.0\n",
       "75863   #1 CHOP SUEY            1907 W 87TH ST         #1 CHOP SUEY      RESTAURANT    2016-01-26T00:00:00.000  1621210        CANVASS         41.735578  2042372.0  {'latitude': '-87.67078075079954', 'longitude': '41.735578274725285'} -87.670781  Auburn Gresham  Pass                1     33. FOOD AND NON-FOOD CONTACT EQUIPMENT UTENSILS CLEAN, FREE OF ABRASIVE DETERGENTS - Comments: OBSERVED THE EXTERIOR OF EQUIPMENT WITH ACCUMULATED FOOD DEBRIS. INSTRUCTED TO CLEAN AND MAINTAIN THE EXTERIOR OF EQUIPMENT. | 34. FLOORS: CONSTRUCTED PER CODE, CLEANED, GOOD REPAIR, COVING INSTALLED, DUST-LESS CLEANING METHODS USED - Comments: OBSERVED THE FLOOR WITH ACCUMULATED FOOD DEBRIS AND GREASE UNDER THE WOK STATION AND FRYERS. INSTRUCTED TO CLEAN AND MAINTAIN ALL FLOORS. | 38. VENTILATION: ROOMS AND EQUIPMENT VENTED AS REQUIRED: PLUMBING: INSTALLED AND MAINTAINED - Comments: OBSERVED NO HOT OR COLD WATER AT THE 1 COMPARTMENT SINK. INSTRUCTED TO PROVIDE AND MAINTAIN HOT AND COLD WATER.  | 38. VENTILATION: ROOMS AND EQUIPMENT VENTED AS REQUIRED: PLUMBING: INSTALLED AND MAINTAINED - Comments: OBSERVED THE 3 COMPARTMENT SINK FAUCET BASE AND BOTH KNOBS LEAKING. INSTRUCTED TO REPAIR AND MAINTAIN ALL PLUMBING.                                                                                                                                                                                                                                                                                                                                                                                                                                                                                                                                                                                                                                                                                                                                                                                                                                                                                                                                                                                                                                                                                                                                                                                                                                              60620.0\n",
       "183533  #1 CHOP SUEY            1907 W 87TH ST         #1 CHOP SUEY      RESTAURANT    2010-07-06T00:00:00.000  277104         LICENSE         41.735578  2042372.0  {'latitude': '-87.67078075079954', 'longitude': '41.735578274725285'} -87.670781  Auburn Gresham  Fail                1     35. WALLS, CEILINGS, ATTACHED EQUIPMENT CONSTRUCTED PER CODE: GOOD REPAIR, SURFACES CLEAN AND DUST-LESS CLEANING METHODS - Comments: The walls and ceilings shall be in good repair and easily cleaned.  THE INTERIOR OF THE HOOD AND FILTERS NOT CLEAN. THE LIGHT SHIELDS THROUGH NOT CLEAN. INSTRUCTED TO CLEAN THEM.                                                                                                                                                                                                                                                                                                                                                                                                                                                                                                                                                                                                                                                                                                                                                                                                                                                                                                                                                                                                                                                                                                                                                                                                                                                                                                                                                                                                                                                                                                                                                                                                                                                                                                                                                                                                                                                                              60620.0\n",
       "174783  #1 CHOP SUEY            1907 W 87TH ST         #1 CHOP SUEY      RESTAURANT    2011-01-05T00:00:00.000  490946         COMPLAINT       41.735578  2042372.0  {'latitude': '-87.67078075079954', 'longitude': '41.735578274725285'} -87.670781  Auburn Gresham  Pass                1     30. FOOD IN ORIGINAL CONTAINER, PROPERLY LABELED: CUSTOMER ADVISORY POSTED AS NEEDED - Comments: MUST LABEL AND DATE ALL COOKED AND PREPARED FOODS STORED IN COOLERS AND LABEL ALL BULK STORAGE CONTAINERS. | 33. FOOD AND NON-FOOD CONTACT EQUIPMENT UTENSILS CLEAN, FREE OF ABRASIVE DETERGENTS - Comments: CLEAN THE FOLLOWING:INTERIOR CABINETS AND EXTERIORS OF DEEP FRYERS, CAN OPENER HOLSTER CONNECTED TO PREP TABLE, PREP TABLES, STORAGE RACKS AND SHELVES, EXTERIORS OF FOOD STORAGE CONTAINERS, AND INTERIORS OF COOLERS. | 34. FLOORS: CONSTRUCTED PER CODE, CLEANED, GOOD REPAIR, COVING INSTALLED, DUST-LESS CLEANING METHODS USED - Comments: DETAIL CLEAN FLOORS ALONG ALL WALL BASES, UNDERNEATH AND BEHIND ALL HEAVY EQUIPMENT THROUGHOUT ALL AREAS OF PREMISES. | 35. WALLS, CEILINGS, ATTACHED EQUIPMENT CONSTRUCTED PER CODE: GOOD REPAIR, SURFACES CLEAN AND DUST-LESS CLEANING METHODS - Comments: CLEAN AND/OR PAINT WALLS IN KITCHEN AREA (INCLUDING BEHIND WOK COOKING STATION).  CLEAN AND/OR PAINT CEILING TILES THROUGHOUT KITCHEN AREA.  REPAIR OPENING IN WALL BEHIND TOILET IN WASHROOM.  REPAIR LEFT BOTTOM SECTION OF REAR EXIT DOOR MAKING IT TIGHT-FITTING TO PREVENT RODENT ENTRY.  CLEAN LIGHT SHIELDS AND CEILING VENTS THROUGHOUT WHERE NEEDED. | 40. REFRIGERATION AND METAL STEM THERMOMETERS PROVIDED AND CONSPICUOUS - Comments: PROVIDE NEW THERMOMETERS FOR COOLERS WHERE NEEDED. | 41. PREMISES MAINTAINED FREE OF LITTER, UNNECESSARY ARTICLES, CLEANING  EQUIPMENT PROPERLY STORED - Comments: ELIMINATE CLUTTER IN WASHROOM.                                                                                                                                                                                                                                                                                                                                                                                                                                                                                                                                                                                                                      60620.0\n",
       "138646  #1 CHOP SUEY            1907 W 87TH ST         #1 CHOP SUEY      RESTAURANT    2013-01-08T00:00:00.000  1072233        CANVASS         41.735578  2042372.0  {'latitude': '-87.67078075079954', 'longitude': '41.735578274725285'} -87.670781  Auburn Gresham  Fail                1     18. NO EVIDENCE OF RODENT OR INSECT OUTER OPENINGS PROTECTED/RODENT PROOFED, A WRITTEN LOG SHALL BE MAINTAINED AVAILABLE TO THE INSPECTORS - Comments: NOTED OVER 65 MICE DROPPINGS IN CORNER ALONG WALL AND UNDERNEATH STACKED CRATES AT REAR BY HAND WASH SINK. ALSO NOTED 13 MICE DROPPINGS ON BOTTOM SHELF OF UTILITY TABLE AT REAR OF SAME AREA. MUST REMOVE DROPPINGS CLEAN AND SANITIZE AFFECTED AREAS. CONSULT WITH PEST CONTROL OPERATOR. SERIOUS VIOLATION, 7-38-020. | 30. FOOD IN ORIGINAL CONTAINER, PROPERLY LABELED: CUSTOMER ADVISORY POSTED AS NEEDED - Comments: PROPERLY STORE OPENED FOOD FROM CANS IN A FOOD GRADE CONTAINER. | 33. FOOD AND NON-FOOD CONTACT EQUIPMENT UTENSILS CLEAN, FREE OF ABRASIVE DETERGENTS - Comments: REMOVE DROPPINGS, CLUTTER FROM REAR UTILITY TABLE AT BOTTOM, CLEAN AND SANITIZE. MAINTAIN AT ALL TIMES. | 43. FOOD (ICE) DISPENSING UTENSILS, WASH CLOTHS PROPERLY STORED - Comments: NOTED SEVERAL WASH  CLOTHS ON PREP TABLES AND COUNTERS. MUST PROPERLY  STORE IN SANITIZING SOLUTION WHEN NOT IN USE.                                                                                                                                                                                                                                                                                                                                                                                                                                                                                                                                                                                                                                                                                                                                                                                                                                                                                                                                                                                                                                                                                                                                      60620.0\n",
       "117651  #1 CHOP SUEY            1907 W 87TH ST         #1 CHOP SUEY      RESTAURANT    2014-01-28T00:00:00.000  1395782        CANVASS         41.735578  2042372.0  {'latitude': '-87.67078075079954', 'longitude': '41.735578274725285'} -87.670781  Auburn Gresham  Pass                1     33. FOOD AND NON-FOOD CONTACT EQUIPMENT UTENSILS CLEAN, FREE OF ABRASIVE DETERGENTS - Comments: OBSERVED  EXTERIOR OF POP REACH IN COOLER BEHIND FRONT COUNTER,BOTTOM SHELVES OF PREP TABLES,SHEET PAN HOLDING (SPICES, VINEGAR,ETC )AND INTERIOR OF WALK IN COOLER NOT CLEAN.MUST CLEAN/MAINTAIN. | 38. VENTILATION: ROOMS AND EQUIPMENT VENTED AS REQUIRED: PLUMBING: INSTALLED AND MAINTAINED - Comments: FAUCET LEAKY AT 3-COMP SINK.MUST REPAIR.                                                                                                                                                                                                                                                                                                                                                                                                                                                                                                                                                                                                                                                                                                                                                                                                                                                                                                                                                                                                                                                                                                                                                                                                                                                                                                                                                                                                                                                                                                                                                                                                                                                                                                                                                60620.0\n",
       "183647  #1 CHOP SUEY            1907 W 87TH ST         #1 CHOP SUEY      RESTAURANT    2010-07-01T00:00:00.000  277047         LICENSE         41.735578  2042372.0  {'latitude': '-87.67078075079954', 'longitude': '41.735578274725285'} -87.670781  Auburn Gresham  Fail                1     2. FACILITIES TO MAINTAIN PROPER TEMPERATURE - Comments: REACH IN PREP COOLER IN POOR REPAIR, INTERNAL TEMPERATURE OF 57.9F. UNIT TAGGED AT THIS TIME. INSTD NOT TO USE UNTIL REINSPECTED BY CDPH. FAX LETTER TO (312) 746-4240 TO REQUEST REINSPECTION. UNIT MUST BE 40F OR BELOW. CITATION ISSUED 7-38-005A CRITICAL. INSTD TO USE OTHER COOLERS ON SITE. | 3. POTENTIALLY HAZARDOUS FOOD MEETS TEMPERATURE REQUIREMENT DURING STORAGE, PREPARATION DISPLAY AND SERVICE - Comments: THE FOLLOWING POTENTIALLY HAZARDOUS FOODS AT IMPROPER TEMPERATURES IN REACH IN PREP COOLER: CHICKEN 57F, SHRIMP 54.9F, BEEF 56.1F. ALL PRODUCT DISPOSED OF AND DENATURED. APPROX 20LBS. $100 VALUE. CITATION ISSUED 7-38-005A CRITICAL | 31. CLEAN MULTI-USE UTENSILS AND SINGLE SERVICE ARTICLES PROPERLY STORED: NO REUSE OF SINGLE SERVICE ARTICLES - Comments: INSTD TO STORE CLEAN KNIVES PROPERLY. | 35. WALLS, CEILINGS, ATTACHED EQUIPMENT CONSTRUCTED PER CODE: GOOD REPAIR, SURFACES CLEAN AND DUST-LESS CLEANING METHODS - Comments: INTERIOR OF HOOD AND LIGHTSHIELDS THRU-OUT NOT CLEAN. | 38. VENTILATION: ROOMS AND EQUIPMENT VENTED AS REQUIRED: PLUMBING: INSTALLED AND MAINTAINED - Comments: PIPE LEAKING UNDER PREP SINK. REPAIR SAME.                                                                                                                                                                                                                                                                                                                                                                                                                                                                                                                                                                                                                                                                                                                                                                                                                                                                                                                                                     60620.0\n",
       "111098  #1 CHOP SUEY            1907 W 87TH ST         #1 CHOP SUEY      RESTAURANT    2014-05-22T00:00:00.000  1296904        COMPLAINT       41.735578  2042372.0  {'latitude': '-87.67078075079954', 'longitude': '41.735578274725285'} -87.670781  Auburn Gresham  Pass                1     38. VENTILATION: ROOMS AND EQUIPMENT VENTED AS REQUIRED: PLUMBING: INSTALLED AND MAINTAINED - Comments: FAUCET AT 3-COMP SINK LEAKY.MUST REPAIR.                                                                                                                                                                                                                                                                                                                                                                                                                                                                                                                                                                                                                                                                                                                                                                                                                                                                                                                                                                                                                                                                                                                                                                                                                                                                                                                                                                                                                                                                                                                                                                                                                                                                                                                                                                                                                                                                                                                                                                                                                                                     60620.0\n",
       "2915    #1 DELI                 6901 S NORMAL BLVD     #1 DELI           RETAIL STORE  2019-09-16T00:00:00.000  2312319        LICENSE         41.768866  2657753.0  {'latitude': '-87.63709545616062', 'longitude': '41.76886618832226'}  -87.637095  Englewood       Pass w/ Conditions  1     3. MANAGEMENT, FOOD EMPLOYEE AND CONDITIONAL EMPLOYEE; KNOWLEDGE, RESPONSIBILITIES AND REPORTING - Comments: NO EMPLOYEE HEALTH POLICY ON SITE AT THE TIME OF INSPECTION. INSTRUCTED TO OBTAIN AND MAINTAIN. PRIORITY FOUNDATION #7-38-010 | 5. PROCEDURES FOR RESPONDING TO VOMITING AND DIARRHEAL EVENTS - Comments: NO VOMIT OR  DIARRHEA CLEAN UP PROCEDURE ON SITE AT TIME OF INSPECTION. INSTRUCTED TO OBTAIN AND NO CITATION ISSUED MAINTAIN. PRIORITY FOUNDATION #7-38-005. | 38. INSECTS, RODENTS, & ANIMALS NOT PRESENT - Comments: OBSERVED THE FRONT DOORS WITH AN APPROXIMATE 1 1/2 INCH GAP IN THE MIDDLE. INSTRUCTED TO PROVIDE A TIGHT SEAL TO PREVENT RODENT OR PESTS AND MAINTAIN                                                                                                                                                                                                                                                                                                                                                                                                                                                                                                                                                                                                                                                                                                                                                                                                                                                                                                                                                                                                                                                                                                                                                                                                                                                                                                                                                                                                                                                                                                  60621.0"
      ]
     },
     "execution_count": 500,
     "metadata": {
      "tags": []
     },
     "output_type": "execute_result"
    }
   ],
   "source": [
    "set_diff_not_oob.dropna(subset=['Violations'], inplace=True) # the inspections that have violations (out of business facilities)\n",
    "set_diff_not_oob.sort_values(by='AKA Name').head(10)"
   ]
  },
  {
   "cell_type": "markdown",
   "metadata": {
    "colab_type": "text",
    "id": "A85HB-qx1Lg4"
   },
   "source": [
    "Our aim was to detect any violation type that could result into the facilities going out of business. From our data analysis, we found that most violation types are common between those that went out of business and those that have not. Only Violation Types 21, 31, and 43 are more prevalent in facilities that have gone out of business, but are not so prevalent in those that have not gone out of business."
   ]
  },
  {
   "cell_type": "markdown",
   "metadata": {
    "colab_type": "text",
    "id": "VUSui_GqgDLt"
   },
   "source": [
    "### **Distribution of number of violations committed in each inspection (in facilities that went out of business)**"
   ]
  },
  {
   "cell_type": "code",
   "execution_count": 0,
   "metadata": {
    "colab": {},
    "colab_type": "code",
    "id": "acuT4Yk6eHFi"
   },
   "outputs": [],
   "source": [
    "num_vio_oob = []\n",
    "for i in violation_nums_oob['Violations']:\n",
    "  num_vio_oob.append(len(i))"
   ]
  },
  {
   "cell_type": "code",
   "execution_count": 471,
   "metadata": {
    "colab": {
     "base_uri": "https://localhost:8080/",
     "height": 295
    },
    "colab_type": "code",
    "id": "cbqgYw6meZ8d",
    "outputId": "30050789-6fd7-4dbb-e700-a82af569526c"
   },
   "outputs": [
    {
     "data": {
      "image/png": "[encoded data removed]",
      "text/plain": [
       "<Figure size 432x288 with 1 Axes>"
      ]
     },
     "metadata": {
      "tags": []
     },
     "output_type": "display_data"
    }
   ],
   "source": [
    "plt.hist(num_vio_oob, bins=15)\n",
    "plt.title('Distribution of number of violations committed in each inspection (in oob facilities)')\n",
    "plt.xlabel('Number of violations committed in an inspection')\n",
    "plt.ylabel('Inspection counts')\n",
    "plt.show()"
   ]
  },
  {
   "cell_type": "code",
   "execution_count": 472,
   "metadata": {
    "colab": {
     "base_uri": "https://localhost:8080/",
     "height": 52
    },
    "colab_type": "code",
    "id": "cWO95lsMgrDG",
    "outputId": "880f4ea2-9ffb-4015-dad8-457a829d8105"
   },
   "outputs": [
    {
     "name": "stdout",
     "output_type": "stream",
     "text": [
      "Average number of violations committed in each inspection (OOB): 4.428259352528899\n",
      "Median number of violations committed in each inspection (OOB): 4.0\n"
     ]
    }
   ],
   "source": [
    "print('Average number of violations committed in each inspection (OOB): ' + str(np.mean(num_vio_oob)))\n",
    "print('Median number of violations committed in each inspection (OOB): ' + str(np.median(num_vio_oob)))"
   ]
  },
  {
   "cell_type": "markdown",
   "metadata": {
    "colab_type": "text",
    "id": "J5TRf7RQgIF_"
   },
   "source": [
    "### **Distribution of number of violations committed in each inspection (in facilities that did NOT go out of business)**"
   ]
  },
  {
   "cell_type": "code",
   "execution_count": 0,
   "metadata": {
    "colab": {},
    "colab_type": "code",
    "id": "0ZW2Yw_ygLH0"
   },
   "outputs": [],
   "source": [
    "num_vio_not_oob = []\n",
    "for i in violation_nums_not_oob['Violations']:\n",
    "  num_vio_not_oob.append(len(i))"
   ]
  },
  {
   "cell_type": "code",
   "execution_count": 474,
   "metadata": {
    "colab": {
     "base_uri": "https://localhost:8080/",
     "height": 295
    },
    "colab_type": "code",
    "id": "th11K_GdgbEz",
    "outputId": "2fcc77bc-c989-4b12-90e3-6e9a10ff286b"
   },
   "outputs": [
    {
     "data": {
      "image/png": "[encoded data removed]",
      "text/plain": [
       "<Figure size 432x288 with 1 Axes>"
      ]
     },
     "metadata": {
      "tags": []
     },
     "output_type": "display_data"
    }
   ],
   "source": [
    "plt.hist(num_vio_not_oob, bins=15)\n",
    "plt.title('Distribution of number of violations committed in each inspection (in NOT oob facilities)')\n",
    "plt.xlabel('Number of violations in committed in an inspection')\n",
    "plt.ylabel('Inspection counts')\n",
    "plt.show()"
   ]
  },
  {
   "cell_type": "code",
   "execution_count": 475,
   "metadata": {
    "colab": {
     "base_uri": "https://localhost:8080/",
     "height": 52
    },
    "colab_type": "code",
    "id": "hn4hEM26hJEy",
    "outputId": "34c5b605-7c9a-4492-8967-1871021b34da"
   },
   "outputs": [
    {
     "name": "stdout",
     "output_type": "stream",
     "text": [
      "Average number of violations committed in each inspection (not OOB): 4.416111234757348\n",
      "Median number of violations committed in each inspection (not OOB): 4.0\n"
     ]
    }
   ],
   "source": [
    "print('Average number of violations committed in each inspection (not OOB): ' + str(np.mean(num_vio_not_oob)))\n",
    "print('Median number of violations committed in each inspection (not OOB): ' + str(np.median(num_vio_not_oob)))"
   ]
  },
  {
   "cell_type": "markdown",
   "metadata": {
    "colab_type": "text",
    "id": "niCNNQTlRFP6"
   },
   "source": [
    "We observe that the average number of violations committed in each inspection in facilities that went out of business is slightly higher than those that have not gone out of business. "
   ]
  },
  {
   "cell_type": "markdown",
   "metadata": {
    "colab_type": "text",
    "id": "kmhCqOVkZ8sm"
   },
   "source": [
    "### **Distribution of total number of violations facilities commit before going out of business**"
   ]
  },
  {
   "cell_type": "code",
   "execution_count": 476,
   "metadata": {
    "colab": {
     "base_uri": "https://localhost:8080/",
     "height": 1000
    },
    "colab_type": "code",
    "id": "9ydm8x90uYAN",
    "outputId": "d14276ea-d453-45e7-d22a-cecd011b2da8"
   },
   "outputs": [
    {
     "name": "stderr",
     "output_type": "stream",
     "text": [
      "/usr/local/lib/python3.6/dist-packages/IPython/core/interactiveshell.py:2882: SettingWithCopyWarning: \n",
      "A value is trying to be set on a copy of a slice from a DataFrame\n",
      "\n",
      "See the caveats in the documentation: http://pandas.pydata.org/pandas-docs/stable/user_guide/indexing.html#returning-a-view-versus-a-copy\n",
      "  exec(code_obj, self.user_global_ns, self.user_ns)\n",
      "/usr/local/lib/python3.6/dist-packages/ipykernel_launcher.py:2: SettingWithCopyWarning: \n",
      "A value is trying to be set on a copy of a slice from a DataFrame.\n",
      "Try using .loc[row_indexer,col_indexer] = value instead\n",
      "\n",
      "See the caveats in the documentation: http://pandas.pydata.org/pandas-docs/stable/user_guide/indexing.html#returning-a-view-versus-a-copy\n",
      "  \n"
     ]
    },
    {
     "data": {
      "text/html": [
       "<div>\n",
       "<style scoped>\n",
       "    .dataframe tbody tr th:only-of-type {\n",
       "        vertical-align: middle;\n",
       "    }\n",
       "\n",
       "    .dataframe tbody tr th {\n",
       "        vertical-align: top;\n",
       "    }\n",
       "\n",
       "    .dataframe thead th {\n",
       "        text-align: right;\n",
       "    }\n",
       "</style>\n",
       "<table border=\"1\" class=\"dataframe\">\n",
       "  <thead>\n",
       "    <tr style=\"text-align: right;\">\n",
       "      <th></th>\n",
       "      <th>Latitude</th>\n",
       "      <th>Longitude</th>\n",
       "      <th>DBA Name</th>\n",
       "      <th>Inspection ID</th>\n",
       "      <th>AKA Name</th>\n",
       "      <th>License #</th>\n",
       "      <th>Facility Type</th>\n",
       "      <th>Risk</th>\n",
       "      <th>Address</th>\n",
       "      <th>Zip</th>\n",
       "      <th>Inspection Date</th>\n",
       "      <th>Inspection Type</th>\n",
       "      <th>Results</th>\n",
       "      <th>Violations</th>\n",
       "      <th>Location</th>\n",
       "      <th>Regions</th>\n",
       "      <th>Number of Violations</th>\n",
       "    </tr>\n",
       "  </thead>\n",
       "  <tbody>\n",
       "    <tr>\n",
       "      <th>0</th>\n",
       "      <td>41.644670</td>\n",
       "      <td>-87.540095</td>\n",
       "      <td>BURGER KING</td>\n",
       "      <td>2240219</td>\n",
       "      <td>BURGER KING</td>\n",
       "      <td>2368796.0</td>\n",
       "      <td>RESTAURANT</td>\n",
       "      <td>2</td>\n",
       "      <td>13770 S AVENUE O</td>\n",
       "      <td>60633.0</td>\n",
       "      <td>2018-11-15T00:00:00.000</td>\n",
       "      <td>COMPLAINT</td>\n",
       "      <td>Pass w/ Conditions</td>\n",
       "      <td>[2, 3, 5]</td>\n",
       "      <td>{'latitude': '-87.5400946053766', 'longitude': '41.64467013219805'}</td>\n",
       "      <td>Hegewisch</td>\n",
       "      <td>3</td>\n",
       "    </tr>\n",
       "    <tr>\n",
       "      <th>1</th>\n",
       "      <td>41.644670</td>\n",
       "      <td>-87.540095</td>\n",
       "      <td>BURGER KING</td>\n",
       "      <td>2200946</td>\n",
       "      <td>BURGER KING</td>\n",
       "      <td>2368796.0</td>\n",
       "      <td>RESTAURANT</td>\n",
       "      <td>2</td>\n",
       "      <td>13770 S AVENUE O</td>\n",
       "      <td>60633.0</td>\n",
       "      <td>2018-08-14T00:00:00.000</td>\n",
       "      <td>COMPLAINT</td>\n",
       "      <td>Pass w/ Conditions</td>\n",
       "      <td>[2, 3, 5, 49, 55]</td>\n",
       "      <td>{'latitude': '-87.5400946053766', 'longitude': '41.64467013219805'}</td>\n",
       "      <td>Hegewisch</td>\n",
       "      <td>5</td>\n",
       "    </tr>\n",
       "    <tr>\n",
       "      <th>2</th>\n",
       "      <td>41.644670</td>\n",
       "      <td>-87.540095</td>\n",
       "      <td>BURGER KING</td>\n",
       "      <td>1950282</td>\n",
       "      <td>BURGER KING</td>\n",
       "      <td>2368796.0</td>\n",
       "      <td>RESTAURANT</td>\n",
       "      <td>2</td>\n",
       "      <td>13770 S AVENUE O</td>\n",
       "      <td>60633.0</td>\n",
       "      <td>2016-08-12T00:00:00.000</td>\n",
       "      <td>CANVASS</td>\n",
       "      <td>Pass</td>\n",
       "      <td>[34, 35, 38]</td>\n",
       "      <td>{'latitude': '-87.5400946053766', 'longitude': '41.64467013219805'}</td>\n",
       "      <td>Hegewisch</td>\n",
       "      <td>3</td>\n",
       "    </tr>\n",
       "    <tr>\n",
       "      <th>3</th>\n",
       "      <td>41.644670</td>\n",
       "      <td>-87.540095</td>\n",
       "      <td>BURGER KING</td>\n",
       "      <td>1523175</td>\n",
       "      <td>BURGER KING</td>\n",
       "      <td>2368796.0</td>\n",
       "      <td>RESTAURANT</td>\n",
       "      <td>2</td>\n",
       "      <td>13770 S AVENUE O</td>\n",
       "      <td>60633.0</td>\n",
       "      <td>2015-02-23T00:00:00.000</td>\n",
       "      <td>LICENSE</td>\n",
       "      <td>Pass</td>\n",
       "      <td>[33, 34, 45]</td>\n",
       "      <td>{'latitude': '-87.5400946053766', 'longitude': '41.64467013219805'}</td>\n",
       "      <td>Hegewisch</td>\n",
       "      <td>3</td>\n",
       "    </tr>\n",
       "    <tr>\n",
       "      <th>6</th>\n",
       "      <td>41.644670</td>\n",
       "      <td>-87.540095</td>\n",
       "      <td>BURGER KING</td>\n",
       "      <td>1493718</td>\n",
       "      <td>BURGER KING #7268</td>\n",
       "      <td>1473518.0</td>\n",
       "      <td>RESTAURANT</td>\n",
       "      <td>2</td>\n",
       "      <td>13770 S AVENUE O</td>\n",
       "      <td>60633.0</td>\n",
       "      <td>2014-08-18T00:00:00.000</td>\n",
       "      <td>CANVASS</td>\n",
       "      <td>Fail</td>\n",
       "      <td>[8, 21, 33, 34, 35, 36, 38]</td>\n",
       "      <td>{'latitude': '-87.5400946053766', 'longitude': '41.64467013219805'}</td>\n",
       "      <td>Hegewisch</td>\n",
       "      <td>7</td>\n",
       "    </tr>\n",
       "    <tr>\n",
       "      <th>7</th>\n",
       "      <td>41.644670</td>\n",
       "      <td>-87.540095</td>\n",
       "      <td>BURGER KING</td>\n",
       "      <td>1300984</td>\n",
       "      <td>BURGER KING #7268</td>\n",
       "      <td>1473518.0</td>\n",
       "      <td>RESTAURANT</td>\n",
       "      <td>2</td>\n",
       "      <td>13770 S AVENUE O</td>\n",
       "      <td>60633.0</td>\n",
       "      <td>2012-12-19T00:00:00.000</td>\n",
       "      <td>CANVASS</td>\n",
       "      <td>Pass w/ Conditions</td>\n",
       "      <td>[33, 34, 35, 36, 38]</td>\n",
       "      <td>{'latitude': '-87.5400946053766', 'longitude': '41.64467013219805'}</td>\n",
       "      <td>Hegewisch</td>\n",
       "      <td>5</td>\n",
       "    </tr>\n",
       "    <tr>\n",
       "      <th>8</th>\n",
       "      <td>41.644670</td>\n",
       "      <td>-87.540095</td>\n",
       "      <td>BURGER KING</td>\n",
       "      <td>537818</td>\n",
       "      <td>BURGER KING #7268</td>\n",
       "      <td>1473518.0</td>\n",
       "      <td>RESTAURANT</td>\n",
       "      <td>2</td>\n",
       "      <td>13770 S AVENUE O</td>\n",
       "      <td>60633.0</td>\n",
       "      <td>2012-01-10T00:00:00.000</td>\n",
       "      <td>COMPLAINT</td>\n",
       "      <td>Pass w/ Conditions</td>\n",
       "      <td>[3, 12, 21, 33, 34]</td>\n",
       "      <td>{'latitude': '-87.5400946053766', 'longitude': '41.64467013219805'}</td>\n",
       "      <td>Hegewisch</td>\n",
       "      <td>5</td>\n",
       "    </tr>\n",
       "    <tr>\n",
       "      <th>9</th>\n",
       "      <td>41.644670</td>\n",
       "      <td>-87.540095</td>\n",
       "      <td>BURGER KING</td>\n",
       "      <td>537384</td>\n",
       "      <td>BURGER KING #7268</td>\n",
       "      <td>1473518.0</td>\n",
       "      <td>RESTAURANT</td>\n",
       "      <td>2</td>\n",
       "      <td>13770 S AVENUE O</td>\n",
       "      <td>60633.0</td>\n",
       "      <td>2011-05-26T00:00:00.000</td>\n",
       "      <td>COMPLAINT</td>\n",
       "      <td>Pass</td>\n",
       "      <td>[33, 34, 35]</td>\n",
       "      <td>{'latitude': '-87.5400946053766', 'longitude': '41.64467013219805'}</td>\n",
       "      <td>Hegewisch</td>\n",
       "      <td>3</td>\n",
       "    </tr>\n",
       "    <tr>\n",
       "      <th>10</th>\n",
       "      <td>41.644670</td>\n",
       "      <td>-87.540095</td>\n",
       "      <td>BURGER KING</td>\n",
       "      <td>419402</td>\n",
       "      <td>BURGER KING #7268</td>\n",
       "      <td>1473518.0</td>\n",
       "      <td>RESTAURANT</td>\n",
       "      <td>2</td>\n",
       "      <td>13770 S AVENUE O</td>\n",
       "      <td>60633.0</td>\n",
       "      <td>2010-10-12T00:00:00.000</td>\n",
       "      <td>COMPLAINT</td>\n",
       "      <td>Pass w/ Conditions</td>\n",
       "      <td>[18, 33, 34, 35, 38, 70]</td>\n",
       "      <td>{'latitude': '-87.5400946053766', 'longitude': '41.64467013219805'}</td>\n",
       "      <td>Hegewisch</td>\n",
       "      <td>6</td>\n",
       "    </tr>\n",
       "    <tr>\n",
       "      <th>14</th>\n",
       "      <td>41.646371</td>\n",
       "      <td>-87.560342</td>\n",
       "      <td>WINJAMMER MARINA</td>\n",
       "      <td>1395212</td>\n",
       "      <td>WINJAMMER MARINA</td>\n",
       "      <td>79113.0</td>\n",
       "      <td>RESTAURANT</td>\n",
       "      <td>2</td>\n",
       "      <td>13701 S HOXIE AVE</td>\n",
       "      <td>60633.0</td>\n",
       "      <td>2013-12-30T00:00:00.000</td>\n",
       "      <td>CANVASS</td>\n",
       "      <td>Pass</td>\n",
       "      <td>[14, 18, 34, 35, 36]</td>\n",
       "      <td>{'latitude': '-87.56034196262158', 'longitude': '41.64637082018021'}</td>\n",
       "      <td>Hegewisch</td>\n",
       "      <td>5</td>\n",
       "    </tr>\n",
       "  </tbody>\n",
       "</table>\n",
       "</div>"
      ],
      "text/plain": [
       "     Latitude  Longitude          DBA Name  Inspection ID           AKA Name  License # Facility Type  Risk             Address      Zip          Inspection Date Inspection Type             Results                   Violations                                                              Location    Regions  Number of Violations\n",
       "0   41.644670 -87.540095  BURGER KING       2240219        BURGER KING        2368796.0  RESTAURANT    2     13770 S AVENUE O    60633.0  2018-11-15T00:00:00.000  COMPLAINT       Pass w/ Conditions  [2, 3, 5]                    {'latitude': '-87.5400946053766', 'longitude': '41.64467013219805'}   Hegewisch  3                   \n",
       "1   41.644670 -87.540095  BURGER KING       2200946        BURGER KING        2368796.0  RESTAURANT    2     13770 S AVENUE O    60633.0  2018-08-14T00:00:00.000  COMPLAINT       Pass w/ Conditions  [2, 3, 5, 49, 55]            {'latitude': '-87.5400946053766', 'longitude': '41.64467013219805'}   Hegewisch  5                   \n",
       "2   41.644670 -87.540095  BURGER KING       1950282        BURGER KING        2368796.0  RESTAURANT    2     13770 S AVENUE O    60633.0  2016-08-12T00:00:00.000  CANVASS         Pass                [34, 35, 38]                 {'latitude': '-87.5400946053766', 'longitude': '41.64467013219805'}   Hegewisch  3                   \n",
       "3   41.644670 -87.540095  BURGER KING       1523175        BURGER KING        2368796.0  RESTAURANT    2     13770 S AVENUE O    60633.0  2015-02-23T00:00:00.000  LICENSE         Pass                [33, 34, 45]                 {'latitude': '-87.5400946053766', 'longitude': '41.64467013219805'}   Hegewisch  3                   \n",
       "6   41.644670 -87.540095  BURGER KING       1493718        BURGER KING #7268  1473518.0  RESTAURANT    2     13770 S AVENUE O    60633.0  2014-08-18T00:00:00.000  CANVASS         Fail                [8, 21, 33, 34, 35, 36, 38]  {'latitude': '-87.5400946053766', 'longitude': '41.64467013219805'}   Hegewisch  7                   \n",
       "7   41.644670 -87.540095  BURGER KING       1300984        BURGER KING #7268  1473518.0  RESTAURANT    2     13770 S AVENUE O    60633.0  2012-12-19T00:00:00.000  CANVASS         Pass w/ Conditions  [33, 34, 35, 36, 38]         {'latitude': '-87.5400946053766', 'longitude': '41.64467013219805'}   Hegewisch  5                   \n",
       "8   41.644670 -87.540095  BURGER KING       537818         BURGER KING #7268  1473518.0  RESTAURANT    2     13770 S AVENUE O    60633.0  2012-01-10T00:00:00.000  COMPLAINT       Pass w/ Conditions  [3, 12, 21, 33, 34]          {'latitude': '-87.5400946053766', 'longitude': '41.64467013219805'}   Hegewisch  5                   \n",
       "9   41.644670 -87.540095  BURGER KING       537384         BURGER KING #7268  1473518.0  RESTAURANT    2     13770 S AVENUE O    60633.0  2011-05-26T00:00:00.000  COMPLAINT       Pass                [33, 34, 35]                 {'latitude': '-87.5400946053766', 'longitude': '41.64467013219805'}   Hegewisch  3                   \n",
       "10  41.644670 -87.540095  BURGER KING       419402         BURGER KING #7268  1473518.0  RESTAURANT    2     13770 S AVENUE O    60633.0  2010-10-12T00:00:00.000  COMPLAINT       Pass w/ Conditions  [18, 33, 34, 35, 38, 70]     {'latitude': '-87.5400946053766', 'longitude': '41.64467013219805'}   Hegewisch  6                   \n",
       "14  41.646371 -87.560342  WINJAMMER MARINA  1395212        WINJAMMER MARINA   79113.0    RESTAURANT    2     13701 S HOXIE AVE   60633.0  2013-12-30T00:00:00.000  CANVASS         Pass                [14, 18, 34, 35, 36]         {'latitude': '-87.56034196262158', 'longitude': '41.64637082018021'}  Hegewisch  5                   "
      ]
     },
     "execution_count": 476,
     "metadata": {
      "tags": []
     },
     "output_type": "execute_result"
    }
   ],
   "source": [
    "dup_oob['Violations'].update(violation_nums_oob['Violations'])\n",
    "dup_oob['Number of Violations'] = dup_oob.Violations.apply(lambda x: len(x)) # create num of violations column\n",
    "dup_oob.head(10)"
   ]
  },
  {
   "cell_type": "code",
   "execution_count": 477,
   "metadata": {
    "colab": {
     "base_uri": "https://localhost:8080/",
     "height": 295
    },
    "colab_type": "code",
    "id": "kOaU_o1mw9Md",
    "outputId": "d71c0d99-ce91-42c4-cbb5-53ab8769e490"
   },
   "outputs": [
    {
     "data": {
      "image/png": "[encoded data removed]",
      "text/plain": [
       "<Figure size 432x288 with 1 Axes>"
      ]
     },
     "metadata": {
      "tags": []
     },
     "output_type": "display_data"
    }
   ],
   "source": [
    "sum_vios = dup_oob.groupby(['DBA Name', 'Latitude', 'Longitude'])['Number of Violations'].sum()\n",
    "sum_vios.hist(bins=20)\n",
    "plt.title('Distribution of total number of violations committed before going out of business')\n",
    "plt.xlabel('Total number of committed violations')\n",
    "plt.ylabel('Facility counts')\n",
    "plt.show()"
   ]
  },
  {
   "cell_type": "markdown",
   "metadata": {
    "colab_type": "text",
    "id": "yUp4yFCridfP"
   },
   "source": [
    "### **Average risk of oob facilities vs. Average risk of NOT oob facilities**"
   ]
  },
  {
   "cell_type": "code",
   "execution_count": 478,
   "metadata": {
    "colab": {
     "base_uri": "https://localhost:8080/",
     "height": 35
    },
    "colab_type": "code",
    "id": "7DQyhN35OTq4",
    "outputId": "0693d107-9b57-4ea9-ce06-b96abfb1a3ca"
   },
   "outputs": [
    {
     "data": {
      "text/plain": [
       "1.3819627854131578"
      ]
     },
     "execution_count": 478,
     "metadata": {
      "tags": []
     },
     "output_type": "execute_result"
    }
   ],
   "source": [
    "merged_oob['Risk'].mean()"
   ]
  },
  {
   "cell_type": "code",
   "execution_count": 479,
   "metadata": {
    "colab": {
     "base_uri": "https://localhost:8080/",
     "height": 35
    },
    "colab_type": "code",
    "id": "VJbtVESdO2ta",
    "outputId": "0935c2fc-1e09-48a3-808c-5e47f8f7a4cd"
   },
   "outputs": [
    {
     "data": {
      "text/plain": [
       "1.3027243617784465"
      ]
     },
     "execution_count": 479,
     "metadata": {
      "tags": []
     },
     "output_type": "execute_result"
    }
   ],
   "source": [
    "set_diff_not_oob['Risk'].mean() "
   ]
  },
  {
   "cell_type": "code",
   "execution_count": 480,
   "metadata": {
    "colab": {
     "base_uri": "https://localhost:8080/",
     "height": 35
    },
    "colab_type": "code",
    "id": "rLHrymqvPiOL",
    "outputId": "8e29c8f3-4cb1-4133-fe22-dbd49f68efc2"
   },
   "outputs": [
    {
     "data": {
      "text/plain": [
       "1.2918272440815752"
      ]
     },
     "execution_count": 480,
     "metadata": {
      "tags": []
     },
     "output_type": "execute_result"
    }
   ],
   "source": [
    "set_diff_oob['Risk'].mean()  "
   ]
  },
  {
   "cell_type": "markdown",
   "metadata": {
    "colab_type": "text",
    "id": "VJTbQvLBzwrb"
   },
   "source": [
    "### **Region vs. Risk Score**"
   ]
  },
  {
   "cell_type": "code",
   "execution_count": 481,
   "metadata": {
    "colab": {
     "base_uri": "https://localhost:8080/",
     "height": 382
    },
    "colab_type": "code",
    "id": "SiY10BMDzsMU",
    "outputId": "116e7019-d33b-4055-ad63-5e31a95dfea1"
   },
   "outputs": [
    {
     "data": {
      "text/html": [
       "<div>\n",
       "<style scoped>\n",
       "    .dataframe tbody tr th:only-of-type {\n",
       "        vertical-align: middle;\n",
       "    }\n",
       "\n",
       "    .dataframe tbody tr th {\n",
       "        vertical-align: top;\n",
       "    }\n",
       "\n",
       "    .dataframe thead th {\n",
       "        text-align: right;\n",
       "    }\n",
       "</style>\n",
       "<table border=\"1\" class=\"dataframe\">\n",
       "  <thead>\n",
       "    <tr style=\"text-align: right;\">\n",
       "      <th></th>\n",
       "      <th>Risk</th>\n",
       "    </tr>\n",
       "    <tr>\n",
       "      <th>Regions</th>\n",
       "      <th></th>\n",
       "    </tr>\n",
       "  </thead>\n",
       "  <tbody>\n",
       "    <tr>\n",
       "      <th>Burnside</th>\n",
       "      <td>1.000000</td>\n",
       "    </tr>\n",
       "    <tr>\n",
       "      <th>Greektown</th>\n",
       "      <td>1.118868</td>\n",
       "    </tr>\n",
       "    <tr>\n",
       "      <th>Chinatown</th>\n",
       "      <td>1.140767</td>\n",
       "    </tr>\n",
       "    <tr>\n",
       "      <th>Oakland</th>\n",
       "      <td>1.166667</td>\n",
       "    </tr>\n",
       "    <tr>\n",
       "      <th>Grant Park</th>\n",
       "      <td>1.176471</td>\n",
       "    </tr>\n",
       "    <tr>\n",
       "      <th>Gold Coast</th>\n",
       "      <td>1.203150</td>\n",
       "    </tr>\n",
       "    <tr>\n",
       "      <th>Norwood Park</th>\n",
       "      <td>1.203680</td>\n",
       "    </tr>\n",
       "    <tr>\n",
       "      <th>Edison Park</th>\n",
       "      <td>1.206951</td>\n",
       "    </tr>\n",
       "    <tr>\n",
       "      <th>River North</th>\n",
       "      <td>1.209792</td>\n",
       "    </tr>\n",
       "    <tr>\n",
       "      <th>Andersonville</th>\n",
       "      <td>1.216097</td>\n",
       "    </tr>\n",
       "  </tbody>\n",
       "</table>\n",
       "</div>"
      ],
      "text/plain": [
       "                   Risk\n",
       "Regions                \n",
       "Burnside       1.000000\n",
       "Greektown      1.118868\n",
       "Chinatown      1.140767\n",
       "Oakland        1.166667\n",
       "Grant Park     1.176471\n",
       "Gold Coast     1.203150\n",
       "Norwood Park   1.203680\n",
       "Edison Park    1.206951\n",
       "River North    1.209792\n",
       "Andersonville  1.216097"
      ]
     },
     "execution_count": 481,
     "metadata": {
      "tags": []
     },
     "output_type": "execute_result"
    }
   ],
   "source": [
    "df_region = df.groupby('Regions')['Risk'].mean()\n",
    "df_region.to_frame().nsmallest(10, 'Risk')"
   ]
  },
  {
   "cell_type": "code",
   "execution_count": 482,
   "metadata": {
    "colab": {
     "base_uri": "https://localhost:8080/",
     "height": 382
    },
    "colab_type": "code",
    "id": "NjkKpcol7KBJ",
    "outputId": "a2af299d-5d28-4014-8cb1-da3a64de120b"
   },
   "outputs": [
    {
     "data": {
      "text/html": [
       "<div>\n",
       "<style scoped>\n",
       "    .dataframe tbody tr th:only-of-type {\n",
       "        vertical-align: middle;\n",
       "    }\n",
       "\n",
       "    .dataframe tbody tr th {\n",
       "        vertical-align: top;\n",
       "    }\n",
       "\n",
       "    .dataframe thead th {\n",
       "        text-align: right;\n",
       "    }\n",
       "</style>\n",
       "<table border=\"1\" class=\"dataframe\">\n",
       "  <thead>\n",
       "    <tr style=\"text-align: right;\">\n",
       "      <th></th>\n",
       "      <th>Risk</th>\n",
       "    </tr>\n",
       "    <tr>\n",
       "      <th>Regions</th>\n",
       "      <th></th>\n",
       "    </tr>\n",
       "  </thead>\n",
       "  <tbody>\n",
       "    <tr>\n",
       "      <th>Garfield Park</th>\n",
       "      <td>1.676331</td>\n",
       "    </tr>\n",
       "    <tr>\n",
       "      <th>Englewood</th>\n",
       "      <td>1.635163</td>\n",
       "    </tr>\n",
       "    <tr>\n",
       "      <th>Grand Crossing</th>\n",
       "      <td>1.602637</td>\n",
       "    </tr>\n",
       "    <tr>\n",
       "      <th>Woodlawn</th>\n",
       "      <td>1.601351</td>\n",
       "    </tr>\n",
       "    <tr>\n",
       "      <th>Austin</th>\n",
       "      <td>1.589451</td>\n",
       "    </tr>\n",
       "    <tr>\n",
       "      <th>Museum Campus</th>\n",
       "      <td>1.586124</td>\n",
       "    </tr>\n",
       "    <tr>\n",
       "      <th>North Lawndale</th>\n",
       "      <td>1.581455</td>\n",
       "    </tr>\n",
       "    <tr>\n",
       "      <th>Auburn Gresham</th>\n",
       "      <td>1.573504</td>\n",
       "    </tr>\n",
       "    <tr>\n",
       "      <th>United Center</th>\n",
       "      <td>1.567227</td>\n",
       "    </tr>\n",
       "    <tr>\n",
       "      <th>West Pullman</th>\n",
       "      <td>1.566185</td>\n",
       "    </tr>\n",
       "  </tbody>\n",
       "</table>\n",
       "</div>"
      ],
      "text/plain": [
       "                    Risk\n",
       "Regions                 \n",
       "Garfield Park   1.676331\n",
       "Englewood       1.635163\n",
       "Grand Crossing  1.602637\n",
       "Woodlawn        1.601351\n",
       "Austin          1.589451\n",
       "Museum Campus   1.586124\n",
       "North Lawndale  1.581455\n",
       "Auburn Gresham  1.573504\n",
       "United Center   1.567227\n",
       "West Pullman    1.566185"
      ]
     },
     "execution_count": 482,
     "metadata": {
      "tags": []
     },
     "output_type": "execute_result"
    }
   ],
   "source": [
    "df_region.to_frame().nlargest(10, 'Risk')"
   ]
  },
  {
   "cell_type": "code",
   "execution_count": 0,
   "metadata": {
    "colab": {},
    "colab_type": "code",
    "id": "D6xCi0qq5Rpp"
   },
   "outputs": [],
   "source": [
    "# TODO: combine this with the percentage(?) of OOB, average # violations, and then rank\n",
    "# TODO: run knn (or any unsupervised classification) algorithm to cluster neighborhoods, see if it clustered into meaningful clusters"
   ]
  },
  {
   "cell_type": "code",
   "execution_count": 0,
   "metadata": {
    "colab": {},
    "colab_type": "code",
    "id": "2lslGz5g64W9"
   },
   "outputs": [],
   "source": [
    "df_region_fac = df.groupby(['Regions', 'Facility Type'])['Risk'].mean()"
   ]
  },
  {
   "cell_type": "markdown",
   "metadata": {
    "colab_type": "text",
    "id": "vaZDHSVonzLc"
   },
   "source": [
    "### **Violation Type Numbers and Their Description**"
   ]
  },
  {
   "cell_type": "markdown",
   "metadata": {
    "colab_type": "text",
    "id": "KthKdSltpPKt"
   },
   "source": [
    "Violations numbered 1-44 and 70.\n",
    "\n",
    "Violation #1-14: critical\n",
    "\n",
    "Violation #15-29: serious "
   ]
  },
  {
   "cell_type": "code",
   "execution_count": 485,
   "metadata": {
    "colab": {
     "base_uri": "https://localhost:8080/",
     "height": 1000
    },
    "colab_type": "code",
    "id": "xmklb8hryjwQ",
    "outputId": "134eddfa-fe55-49d9-b59e-5adf106c1d28"
   },
   "outputs": [
    {
     "name": "stdout",
     "output_type": "stream",
     "text": [
      "64\n",
      "[1, 2, 3, 4, 5, 6, 7, 8, 9, 10, 11, 12, 13, 14, 15, 16, 17, 18, 19, 20, 21, 22, 23, 24, 25, 26, 27, 28, 29, 30, 31, 32, 33, 34, 35, 36, 37, 38, 39, 40, 41, 42, 43, 44, 45, 46, 47, 48, 49, 50, 51, 52, 53, 54, 55, 56, 57, 58, 59, 60, 61, 62, 63, 70]\n"
     ]
    },
    {
     "data": {
      "text/html": [
       "<div>\n",
       "<style scoped>\n",
       "    .dataframe tbody tr th:only-of-type {\n",
       "        vertical-align: middle;\n",
       "    }\n",
       "\n",
       "    .dataframe tbody tr th {\n",
       "        vertical-align: top;\n",
       "    }\n",
       "\n",
       "    .dataframe thead th {\n",
       "        text-align: right;\n",
       "    }\n",
       "</style>\n",
       "<table border=\"1\" class=\"dataframe\">\n",
       "  <thead>\n",
       "    <tr style=\"text-align: right;\">\n",
       "      <th></th>\n",
       "      <th>Description</th>\n",
       "    </tr>\n",
       "    <tr>\n",
       "      <th>Violation Number</th>\n",
       "      <th></th>\n",
       "    </tr>\n",
       "  </thead>\n",
       "  <tbody>\n",
       "    <tr>\n",
       "      <th>1</th>\n",
       "      <td>PERSON IN CHARGE PRESENT, DEMONSTRATES KNOWLEDGE, AND PERFORMS DUTIES</td>\n",
       "    </tr>\n",
       "    <tr>\n",
       "      <th>2</th>\n",
       "      <td>CITY OF CHICAGO FOOD SERVICE SANITATION CERTIFICATE</td>\n",
       "    </tr>\n",
       "    <tr>\n",
       "      <th>3</th>\n",
       "      <td>MANAGEMENT, FOOD EMPLOYEE AND CONDITIONAL EMPLOYEE; KNOWLEDGE, RESPONSIBILITIES AND REPORTING</td>\n",
       "    </tr>\n",
       "    <tr>\n",
       "      <th>4</th>\n",
       "      <td>PROPER USE OF RESTRICTION AND EXCLUSIO</td>\n",
       "    </tr>\n",
       "    <tr>\n",
       "      <th>5</th>\n",
       "      <td>PROCEDURES FOR RESPONDING TO VOMITING AND DIARRHEAL EVENTS</td>\n",
       "    </tr>\n",
       "    <tr>\n",
       "      <th>6</th>\n",
       "      <td>PROPER EATING, TASTING, DRINKING, OR TOBACCO USE</td>\n",
       "    </tr>\n",
       "    <tr>\n",
       "      <th>7</th>\n",
       "      <td>NO DISCHARGE FROM EYES, NOSE, AND MOUT</td>\n",
       "    </tr>\n",
       "    <tr>\n",
       "      <th>8</th>\n",
       "      <td>HANDS CLEAN &amp; PROPERLY WASHED</td>\n",
       "    </tr>\n",
       "    <tr>\n",
       "      <th>9</th>\n",
       "      <td>NO BARE HAND CONTACT WITH RTE FOOD OR A PRE-APPROVED ALTERNATIVE PROCEDURE PROPERLY ALLOWED</td>\n",
       "    </tr>\n",
       "    <tr>\n",
       "      <th>10</th>\n",
       "      <td>ADEQUATE HANDWASHING SINKS PROPERLY SUPPLIED AND ACCESSIBLE</td>\n",
       "    </tr>\n",
       "    <tr>\n",
       "      <th>11</th>\n",
       "      <td>FOOD OBTAINED FROM APPROVED SOURCE</td>\n",
       "    </tr>\n",
       "    <tr>\n",
       "      <th>12</th>\n",
       "      <td>FOOD RECEIVED AT PROPER TEMPERATURE</td>\n",
       "    </tr>\n",
       "    <tr>\n",
       "      <th>13</th>\n",
       "      <td>FOOD IN GOOD CONDITION, SAFE, &amp; UNADULTERATED</td>\n",
       "    </tr>\n",
       "    <tr>\n",
       "      <th>14</th>\n",
       "      <td>REQUIRED RECORDS AVAILABLE: SHELLSTOCK TAGS, PARASITE DESTRUCTION</td>\n",
       "    </tr>\n",
       "    <tr>\n",
       "      <th>15</th>\n",
       "      <td>FOOD SEPARATED AND PROTECTED</td>\n",
       "    </tr>\n",
       "    <tr>\n",
       "      <th>16</th>\n",
       "      <td>FOOD-CONTACT SURFACES: CLEANED &amp; SANITIZED</td>\n",
       "    </tr>\n",
       "    <tr>\n",
       "      <th>17</th>\n",
       "      <td>PROPER DISPOSITION OF RETURNED, PREVIOUSLY SERVED, RECONDITIONED &amp; UNSAFE FOO</td>\n",
       "    </tr>\n",
       "    <tr>\n",
       "      <th>18</th>\n",
       "      <td>PROPER COOKING TIME &amp; TEMPERATURES</td>\n",
       "    </tr>\n",
       "    <tr>\n",
       "      <th>19</th>\n",
       "      <td>PROPER REHEATING PROCEDURES FOR HOT HOLDING</td>\n",
       "    </tr>\n",
       "    <tr>\n",
       "      <th>20</th>\n",
       "      <td>PROPER COOLING TIME AND TEMPERATURE</td>\n",
       "    </tr>\n",
       "    <tr>\n",
       "      <th>21</th>\n",
       "      <td>PROPER HOT HOLDING TEMPERATURES</td>\n",
       "    </tr>\n",
       "    <tr>\n",
       "      <th>22</th>\n",
       "      <td>PROPER COLD HOLDING TEMPERATURES</td>\n",
       "    </tr>\n",
       "    <tr>\n",
       "      <th>23</th>\n",
       "      <td>PROPER DATE MARKING AND DISPOSITION</td>\n",
       "    </tr>\n",
       "    <tr>\n",
       "      <th>24</th>\n",
       "      <td>TIME AS A PUBLIC HEALTH CONTROL; PROCEDURES &amp; RECORDS</td>\n",
       "    </tr>\n",
       "    <tr>\n",
       "      <th>25</th>\n",
       "      <td>CONSUMER ADVISORY PROVIDED FOR RAW/UNDERCOOKED FOOD</td>\n",
       "    </tr>\n",
       "    <tr>\n",
       "      <th>26</th>\n",
       "      <td>PASTEURIZED FOODS USED; PROHIBITED FOODS NOT OFFERED</td>\n",
       "    </tr>\n",
       "    <tr>\n",
       "      <th>27</th>\n",
       "      <td>FOOD ADDITIVES: APPROVED AND PROPERLY USE</td>\n",
       "    </tr>\n",
       "    <tr>\n",
       "      <th>28</th>\n",
       "      <td>TOXIC SUBSTANCES PROPERLY IDENTIFIED, STORED, &amp; USED</td>\n",
       "    </tr>\n",
       "    <tr>\n",
       "      <th>29</th>\n",
       "      <td>COMPLIANCE WITH VARIANCE/SPECIALIZED PROCESS/HACCP</td>\n",
       "    </tr>\n",
       "    <tr>\n",
       "      <th>30</th>\n",
       "      <td>PASTEURIZED EGGS USED WHERE REQUIRED</td>\n",
       "    </tr>\n",
       "    <tr>\n",
       "      <th>31</th>\n",
       "      <td>WATER &amp; ICE FROM APPROVED SOURC</td>\n",
       "    </tr>\n",
       "    <tr>\n",
       "      <th>32</th>\n",
       "      <td>VARIANCE OBTAINED FOR SPECIALIZED PROCESSING METHODS</td>\n",
       "    </tr>\n",
       "    <tr>\n",
       "      <th>33</th>\n",
       "      <td>PROPER COOLING METHODS USED; ADEQUATE EQUIPMENT FOR TEMPERATURE CONTROL</td>\n",
       "    </tr>\n",
       "    <tr>\n",
       "      <th>34</th>\n",
       "      <td>PLANT FOOD PROPERLY COOKED FOR HOT HOLDIN</td>\n",
       "    </tr>\n",
       "    <tr>\n",
       "      <th>35</th>\n",
       "      <td>APPROVED THAWING METHODS USED</td>\n",
       "    </tr>\n",
       "    <tr>\n",
       "      <th>36</th>\n",
       "      <td>THERMOMETERS PROVIDED &amp; ACCURATE</td>\n",
       "    </tr>\n",
       "    <tr>\n",
       "      <th>37</th>\n",
       "      <td>FOOD PROPERLY LABELED; ORIGINAL CONTAINER</td>\n",
       "    </tr>\n",
       "    <tr>\n",
       "      <th>38</th>\n",
       "      <td>INSECTS, RODENTS, &amp; ANIMALS NOT PRESENT</td>\n",
       "    </tr>\n",
       "    <tr>\n",
       "      <th>39</th>\n",
       "      <td>CONTAMINATION PREVENTED DURING FOOD PREPARATION, STORAGE &amp; DISPLAY</td>\n",
       "    </tr>\n",
       "    <tr>\n",
       "      <th>40</th>\n",
       "      <td>PERSONAL CLEANLINESS</td>\n",
       "    </tr>\n",
       "    <tr>\n",
       "      <th>41</th>\n",
       "      <td>WIPING CLOTHS: PROPERLY USED &amp; STORED</td>\n",
       "    </tr>\n",
       "    <tr>\n",
       "      <th>42</th>\n",
       "      <td>WASHING FRUITS &amp; VEGETABLE</td>\n",
       "    </tr>\n",
       "    <tr>\n",
       "      <th>43</th>\n",
       "      <td>IN-USE UTENSILS: PROPERLY STORED</td>\n",
       "    </tr>\n",
       "    <tr>\n",
       "      <th>44</th>\n",
       "      <td>UTENSILS, EQUIPMENT &amp; LINENS: PROPERLY STORED, DRIED, &amp; HANDLED</td>\n",
       "    </tr>\n",
       "    <tr>\n",
       "      <th>45</th>\n",
       "      <td>SINGLE-USE/SINGLE-SERVICE ARTICLES: PROPERLY STORED &amp; USED</td>\n",
       "    </tr>\n",
       "    <tr>\n",
       "      <th>46</th>\n",
       "      <td>GLOVES USED PROPERLY</td>\n",
       "    </tr>\n",
       "    <tr>\n",
       "      <th>47</th>\n",
       "      <td>FOOD &amp; NON-FOOD CONTACT SURFACES CLEANABLE, PROPERLY DESIGNED, CONSTRUCTED &amp; USED</td>\n",
       "    </tr>\n",
       "    <tr>\n",
       "      <th>48</th>\n",
       "      <td>WAREWASHING FACILITIES: INSTALLED, MAINTAINED &amp; USED; TEST STRIPS</td>\n",
       "    </tr>\n",
       "    <tr>\n",
       "      <th>49</th>\n",
       "      <td>NON-FOOD/FOOD CONTACT SURFACES CLEAN</td>\n",
       "    </tr>\n",
       "    <tr>\n",
       "      <th>50</th>\n",
       "      <td>HOT &amp; COLD WATER AVAILABLE; ADEQUATE PRESSURE</td>\n",
       "    </tr>\n",
       "  </tbody>\n",
       "</table>\n",
       "</div>"
      ],
      "text/plain": [
       "                                                                                                     Description\n",
       "Violation Number                                                                                                \n",
       "1                  PERSON IN CHARGE PRESENT, DEMONSTRATES KNOWLEDGE, AND PERFORMS DUTIES                        \n",
       "2                  CITY OF CHICAGO FOOD SERVICE SANITATION CERTIFICATE                                          \n",
       "3                  MANAGEMENT, FOOD EMPLOYEE AND CONDITIONAL EMPLOYEE; KNOWLEDGE, RESPONSIBILITIES AND REPORTING\n",
       "4                  PROPER USE OF RESTRICTION AND EXCLUSIO                                                       \n",
       "5                  PROCEDURES FOR RESPONDING TO VOMITING AND DIARRHEAL EVENTS                                   \n",
       "6                  PROPER EATING, TASTING, DRINKING, OR TOBACCO USE                                             \n",
       "7                  NO DISCHARGE FROM EYES, NOSE, AND MOUT                                                       \n",
       "8                  HANDS CLEAN & PROPERLY WASHED                                                                \n",
       "9                  NO BARE HAND CONTACT WITH RTE FOOD OR A PRE-APPROVED ALTERNATIVE PROCEDURE PROPERLY ALLOWED  \n",
       "10                 ADEQUATE HANDWASHING SINKS PROPERLY SUPPLIED AND ACCESSIBLE                                  \n",
       "11                 FOOD OBTAINED FROM APPROVED SOURCE                                                           \n",
       "12                 FOOD RECEIVED AT PROPER TEMPERATURE                                                          \n",
       "13                 FOOD IN GOOD CONDITION, SAFE, & UNADULTERATED                                                \n",
       "14                 REQUIRED RECORDS AVAILABLE: SHELLSTOCK TAGS, PARASITE DESTRUCTION                            \n",
       "15                 FOOD SEPARATED AND PROTECTED                                                                 \n",
       "16                 FOOD-CONTACT SURFACES: CLEANED & SANITIZED                                                   \n",
       "17                 PROPER DISPOSITION OF RETURNED, PREVIOUSLY SERVED, RECONDITIONED & UNSAFE FOO                \n",
       "18                 PROPER COOKING TIME & TEMPERATURES                                                           \n",
       "19                 PROPER REHEATING PROCEDURES FOR HOT HOLDING                                                  \n",
       "20                 PROPER COOLING TIME AND TEMPERATURE                                                          \n",
       "21                 PROPER HOT HOLDING TEMPERATURES                                                              \n",
       "22                 PROPER COLD HOLDING TEMPERATURES                                                             \n",
       "23                 PROPER DATE MARKING AND DISPOSITION                                                          \n",
       "24                 TIME AS A PUBLIC HEALTH CONTROL; PROCEDURES & RECORDS                                        \n",
       "25                 CONSUMER ADVISORY PROVIDED FOR RAW/UNDERCOOKED FOOD                                          \n",
       "26                 PASTEURIZED FOODS USED; PROHIBITED FOODS NOT OFFERED                                         \n",
       "27                 FOOD ADDITIVES: APPROVED AND PROPERLY USE                                                    \n",
       "28                 TOXIC SUBSTANCES PROPERLY IDENTIFIED, STORED, & USED                                         \n",
       "29                 COMPLIANCE WITH VARIANCE/SPECIALIZED PROCESS/HACCP                                           \n",
       "30                 PASTEURIZED EGGS USED WHERE REQUIRED                                                         \n",
       "31                 WATER & ICE FROM APPROVED SOURC                                                              \n",
       "32                 VARIANCE OBTAINED FOR SPECIALIZED PROCESSING METHODS                                         \n",
       "33                 PROPER COOLING METHODS USED; ADEQUATE EQUIPMENT FOR TEMPERATURE CONTROL                      \n",
       "34                 PLANT FOOD PROPERLY COOKED FOR HOT HOLDIN                                                    \n",
       "35                 APPROVED THAWING METHODS USED                                                                \n",
       "36                 THERMOMETERS PROVIDED & ACCURATE                                                             \n",
       "37                 FOOD PROPERLY LABELED; ORIGINAL CONTAINER                                                    \n",
       "38                 INSECTS, RODENTS, & ANIMALS NOT PRESENT                                                      \n",
       "39                 CONTAMINATION PREVENTED DURING FOOD PREPARATION, STORAGE & DISPLAY                           \n",
       "40                 PERSONAL CLEANLINESS                                                                         \n",
       "41                 WIPING CLOTHS: PROPERLY USED & STORED                                                        \n",
       "42                 WASHING FRUITS & VEGETABLE                                                                   \n",
       "43                 IN-USE UTENSILS: PROPERLY STORED                                                             \n",
       "44                 UTENSILS, EQUIPMENT & LINENS: PROPERLY STORED, DRIED, & HANDLED                              \n",
       "45                 SINGLE-USE/SINGLE-SERVICE ARTICLES: PROPERLY STORED & USED                                   \n",
       "46                 GLOVES USED PROPERLY                                                                         \n",
       "47                 FOOD & NON-FOOD CONTACT SURFACES CLEANABLE, PROPERLY DESIGNED, CONSTRUCTED & USED            \n",
       "48                 WAREWASHING FACILITIES: INSTALLED, MAINTAINED & USED; TEST STRIPS                            \n",
       "49                 NON-FOOD/FOOD CONTACT SURFACES CLEAN                                                         \n",
       "50                 HOT & COLD WATER AVAILABLE; ADEQUATE PRESSURE                                                "
      ]
     },
     "execution_count": 485,
     "metadata": {
      "tags": []
     },
     "output_type": "execute_result"
    }
   ],
   "source": [
    "df_nan_removed_vio = df.dropna(subset=['Violations'])\n",
    "dict_vio = {}\n",
    "\n",
    "for j in df_nan_removed_vio['Violations']:\n",
    "  vio_list = j.split(\" | \")\n",
    "  for i in vio_list:\n",
    "    result = i[i.find(\"[0-9]+[. ]\")+1 : i.find(\" - Comments\")]\n",
    "    vio_pair = result.split(\".\")\n",
    "    if(vio_pair[0] not in dict_vio):\n",
    "      dict_vio[vio_pair[0]] = vio_pair[1]\n",
    "\n",
    "print(len(dict_vio)) \n",
    "\n",
    "dict_vio_sorted = {int(k):v for k,v in dict_vio.items()}\n",
    "print(sorted(dict_vio_sorted))\n",
    "\n",
    "#pd.set_option('display.max_colwidth', -1)\n",
    "\n",
    "vio_descr = pd.DataFrame(list(dict_vio_sorted.items())).rename(columns={0:'Violation Number', 1:'Description'}).sort_values(by=['Violation Number']).set_index('Violation Number')\n",
    "vio_descr.head(50)"
   ]
  },
  {
   "cell_type": "code",
   "execution_count": 486,
   "metadata": {
    "colab": {
     "base_uri": "https://localhost:8080/",
     "height": 1000
    },
    "colab_type": "code",
    "id": "kpmlfr4yEMPs",
    "outputId": "43075bd3-223b-408d-9621-015d2d9250ea"
   },
   "outputs": [
    {
     "data": {
      "text/html": [
       "<div>\n",
       "<style scoped>\n",
       "    .dataframe tbody tr th:only-of-type {\n",
       "        vertical-align: middle;\n",
       "    }\n",
       "\n",
       "    .dataframe tbody tr th {\n",
       "        vertical-align: top;\n",
       "    }\n",
       "\n",
       "    .dataframe thead th {\n",
       "        text-align: right;\n",
       "    }\n",
       "</style>\n",
       "<table border=\"1\" class=\"dataframe\">\n",
       "  <thead>\n",
       "    <tr style=\"text-align: right;\">\n",
       "      <th></th>\n",
       "      <th>Latitude</th>\n",
       "      <th>Longitude</th>\n",
       "      <th>DBA Name</th>\n",
       "      <th>Inspection ID</th>\n",
       "      <th>AKA Name</th>\n",
       "      <th>License #</th>\n",
       "      <th>Facility Type</th>\n",
       "      <th>Risk</th>\n",
       "      <th>Address</th>\n",
       "      <th>Zip</th>\n",
       "      <th>Inspection Date</th>\n",
       "      <th>Inspection Type</th>\n",
       "      <th>Results</th>\n",
       "      <th>Violations</th>\n",
       "      <th>Location</th>\n",
       "      <th>Regions</th>\n",
       "    </tr>\n",
       "  </thead>\n",
       "  <tbody>\n",
       "    <tr>\n",
       "      <th>0</th>\n",
       "      <td>41.64467</td>\n",
       "      <td>-87.540095</td>\n",
       "      <td>BURGER KING</td>\n",
       "      <td>2240219</td>\n",
       "      <td>BURGER KING</td>\n",
       "      <td>2368796.0</td>\n",
       "      <td>RESTAURANT</td>\n",
       "      <td>2</td>\n",
       "      <td>13770 S AVENUE O</td>\n",
       "      <td>60633.0</td>\n",
       "      <td>2018-11-15T00:00:00.000</td>\n",
       "      <td>COMPLAINT</td>\n",
       "      <td>Pass w/ Conditions</td>\n",
       "      <td>2. CITY OF CHICAGO FOOD SERVICE SANITATION CERTIFICATE - Comments: NO CITY OF CHICAGO FOOD SERVICE MANAGERS CERTIFICATE ON PREMISES AS REQUIRED; MUST PROVIDE.  INSTRUCTED THE PIC THAT MANAGERS MUST HAVE A VALID CITY OF CHICAGO FOOD SERVICE MANAGERS CERTIFICATE WHILE ON DUTY AT ALL TIMES.  PRIORITY FOUNDATION VIOLATION 7-38-012 ISSUED. | 3. MANAGEMENT, FOOD EMPLOYEE AND CONDITIONAL EMPLOYEE; KNOWLEDGE, RESPONSIBILITIES AND REPORTING - Comments: : 2-102.14(A) NO EMPLOYEE HEALTH POLICY ON PREMISES AS REQUIRED; MUST PROVIDE. INSTRUCTED THE PIC TO PROVIDE DOCUMENTATION OF EMPLOYEES RESPONSIBILITY TO REPORT ANY ILLNESS TRANSMISSIBLE THROUGH FOOD. PRIORITY FOUNDATION 7-38-012(A) CITATION ISSUED.  VIOLATION PREVIOUSLY ISSUED ON AUGUST 14, 2018. | 5. PROCEDURES FOR RESPONDING TO VOMITING AND DIARRHEAL EVENTS - Comments: 2-501.11 NO VOMIT AND DIARRHEAL CLEAN UP PROCEDURE ON PREMISES AS REQUIRED; MUST PROVIDE. INSTRUCTED THE PIC THAT A VOMIT AND DIARRHEAL CLEAN UP PROCEDURE MUST BE DOCUMENTED AND THE NECESSARY SUPPLIES ON HAND IN THE EVENT OF A VOMIT OR DIARRHEAL INCIDENT ON PREMISES. PRIORITY FOUNDATION VIOLATION 7-38-005 CITATION ISSUED.    VIOLATION WAS PREVIOUSLY ISSUED ON AUGUST 14, 2018.</td>\n",
       "      <td>{'latitude': '-87.5400946053766', 'longitude': '41.64467013219805'}</td>\n",
       "      <td>Hegewisch</td>\n",
       "    </tr>\n",
       "    <tr>\n",
       "      <th>1</th>\n",
       "      <td>41.64467</td>\n",
       "      <td>-87.540095</td>\n",
       "      <td>BURGER KING</td>\n",
       "      <td>2200946</td>\n",
       "      <td>BURGER KING</td>\n",
       "      <td>2368796.0</td>\n",
       "      <td>RESTAURANT</td>\n",
       "      <td>2</td>\n",
       "      <td>13770 S AVENUE O</td>\n",
       "      <td>60633.0</td>\n",
       "      <td>2018-08-14T00:00:00.000</td>\n",
       "      <td>COMPLAINT</td>\n",
       "      <td>Pass w/ Conditions</td>\n",
       "      <td>2. CITY OF CHICAGO FOOD SERVICE SANITATION CERTIFICATE - Comments: 2-102.12 NO VALID CITY OF CHICAGO FOOD SERVICE SANITATION CERTIFICATES ON PREMISES.  THE PIC ON DUTY WAS UNABLE TO PRODUCE A VALID CITY OF CHICAGO FOOD SERVICE SANITATION CERTIFICATE.  NO OTHER PERSONS WERE ON DUTY THAT HAD A VALID CITY OF CHICAGO FOOD SERVICE SANITATION CERTIFICATE.  INSTRUCTED THAT A VALID CERTIFICATE MUST BE ON PREMISES AT ALL TIMES.  PRIORITY FOUNDATION VIOLATION ISSUED 7-38-012. | 3. MANAGEMENT, FOOD EMPLOYEE AND CONDITIONAL EMPLOYEE; KNOWLEDGE, RESPONSIBILITIES AND REPORTING - Comments: 2-102.14(A) NO EMPLOYEE HEALTH POLICY ON PREMISES AS RE1QUIRED; MUST PROVIDE.  INSTRUCTED THE PIC TO PROVIDE DOCUMENTATION OF EMPLOYEES RESPONSIBILITY TO REPORT ANY ILLNESS TRANSMISSIBLE THROUGH FOOD.  PRIORITY FOUNDATION 7-38-012(A) | 5. PROCEDURES FOR RESPONDING TO VOMITING AND DIARRHEAL EVENTS - Comments: 2-501.11 NO VOMIT AND DIARRHEAL CLEAN UP PROCEDURE ON PREMISES AS REQUIRED; MUST PROVIDE.  INSTRUCTED THE PIC THAT A VOMIT AND DIARRHEAL CLEAN UP PROCEDURE MUST BE DOCUMENTED AND THE NECESSARY SUPPLIES ON HAND IN THE EVENT OF A VOMIT OR DIARRHEAL INCIDENT ON PREMISES. PRIORITY FOUNDATION VIOLATION 7-38-005. | 49. NON-FOOD/FOOD CONTACT SURFACES CLEAN - Comments: 4-602.13  OBSERVED THE EXTERIOR SURFACES AND INTERIOR BOTTOM OF THE DEEP FRYERS IN NEED OF CLEANING TO REMOVE GREASE; CLEAN AND MAINTAIN. | 55. PHYSICAL FACILITIES INSTALLED, MAINTAINED &amp; CLEAN - Comments: 6-501.12  THE FLOORS UNDER AROUND AND BEHIND VARIOUS KITCHEN EQUIPMENT NEED CLEANING; ALSO FLOOR DRAINS THROUGHOUT THE KITCHEN NEED CLEANING; CLEAN AND MAINTAIN FLOORS AND FLOOR DRAINS.</td>\n",
       "      <td>{'latitude': '-87.5400946053766', 'longitude': '41.64467013219805'}</td>\n",
       "      <td>Hegewisch</td>\n",
       "    </tr>\n",
       "    <tr>\n",
       "      <th>2</th>\n",
       "      <td>41.64467</td>\n",
       "      <td>-87.540095</td>\n",
       "      <td>BURGER KING</td>\n",
       "      <td>1950282</td>\n",
       "      <td>BURGER KING</td>\n",
       "      <td>2368796.0</td>\n",
       "      <td>RESTAURANT</td>\n",
       "      <td>2</td>\n",
       "      <td>13770 S AVENUE O</td>\n",
       "      <td>60633.0</td>\n",
       "      <td>2016-08-12T00:00:00.000</td>\n",
       "      <td>CANVASS</td>\n",
       "      <td>Pass</td>\n",
       "      <td>34. FLOORS: CONSTRUCTED PER CODE, CLEANED, GOOD REPAIR, COVING INSTALLED, DUST-LESS CLEANING METHODS USED - Comments: FLOORS NEED CLEANING IN THE REAR STORAGE AREA ALONG THE WALL BASE UNDER STORAGE SHELVING AND IN THE PREP AREA AROUND THE COOKING EQUIPMENT TO REMOVE SPILLS,GREASE AND DEBRIS. ALSO CLEAN THE MATS IN THE WALK IN COOLER AND FREEZER TO REMOVE SPILLS. | 35. WALLS, CEILINGS, ATTACHED EQUIPMENT CONSTRUCTED PER CODE: GOOD REPAIR, SURFACES CLEAN AND DUST-LESS CLEANING METHODS - Comments: PIPING ALONG THE WALL BEHIND THE FRYER ARE ENCRUSTED WITH GREASE. MUST CLEAN AND MAINTAIN. | 38. VENTILATION: ROOMS AND EQUIPMENT VENTED AS REQUIRED: PLUMBING: INSTALLED AND MAINTAINED - Comments: NOTED A LEAK AT THE 3 COMPARTMENT SINK HOT WATER KNOB. MUST REPAIR AND MAINTAIN.</td>\n",
       "      <td>{'latitude': '-87.5400946053766', 'longitude': '41.64467013219805'}</td>\n",
       "      <td>Hegewisch</td>\n",
       "    </tr>\n",
       "    <tr>\n",
       "      <th>3</th>\n",
       "      <td>41.64467</td>\n",
       "      <td>-87.540095</td>\n",
       "      <td>BURGER KING</td>\n",
       "      <td>1523175</td>\n",
       "      <td>BURGER KING</td>\n",
       "      <td>2368796.0</td>\n",
       "      <td>RESTAURANT</td>\n",
       "      <td>2</td>\n",
       "      <td>13770 S AVENUE O</td>\n",
       "      <td>60633.0</td>\n",
       "      <td>2015-02-23T00:00:00.000</td>\n",
       "      <td>LICENSE</td>\n",
       "      <td>Pass</td>\n",
       "      <td>33. FOOD AND NON-FOOD CONTACT EQUIPMENT UTENSILS CLEAN, FREE OF ABRASIVE DETERGENTS - Comments: CLEAN THEBOTTOM COMPARTMENT OF DEEP FRYERS OF GREASE BUILD-UP AND CLEAN INTERIOR OF THE CHEST FREEZER AT PREP AREA,INSTRUCTED TO CLEAN AND MAINTAIN EQUIPMENT | 34. FLOORS: CONSTRUCTED PER CODE, CLEANED, GOOD REPAIR, COVING INSTALLED, DUST-LESS CLEANING METHODS USED - Comments: CLEAN THE FLOORS IN PREP AREA ,ALONG WALL BASE AND CORNERS IN PREP AREA AND REAR OF PREMISES | 45. FOOD HANDLER REQUIREMENTS MET - Comments: MUST PROVIDE THE FOOD HANDLERS CERTIFICATES OR PROOF OF ENROLLEMENT</td>\n",
       "      <td>{'latitude': '-87.5400946053766', 'longitude': '41.64467013219805'}</td>\n",
       "      <td>Hegewisch</td>\n",
       "    </tr>\n",
       "    <tr>\n",
       "      <th>4</th>\n",
       "      <td>41.64467</td>\n",
       "      <td>-87.540095</td>\n",
       "      <td>BURGER KING</td>\n",
       "      <td>1527281</td>\n",
       "      <td>BURGER KING #7268</td>\n",
       "      <td>1473518.0</td>\n",
       "      <td>RESTAURANT</td>\n",
       "      <td>2</td>\n",
       "      <td>13770 S AVENUE O</td>\n",
       "      <td>60633.0</td>\n",
       "      <td>2015-02-23T00:00:00.000</td>\n",
       "      <td>CANVASS</td>\n",
       "      <td>Out of Business</td>\n",
       "      <td>NaN</td>\n",
       "      <td>{'latitude': '-87.5400946053766', 'longitude': '41.64467013219805'}</td>\n",
       "      <td>Hegewisch</td>\n",
       "    </tr>\n",
       "  </tbody>\n",
       "</table>\n",
       "</div>"
      ],
      "text/plain": [
       "   Latitude  Longitude     DBA Name  Inspection ID           AKA Name  License # Facility Type  Risk            Address      Zip          Inspection Date Inspection Type             Results                                                                                                                                                                                                                                                                                                                                                                                                                                                                                                                                                                                                                                                                                                                                                                                                                                                                                                                                                                                                                                                                                                                                                                                                                                                                                                                                                                                                                                                                                                                                                                                                                                                                                                       Violations                                                             Location    Regions\n",
       "0  41.64467 -87.540095  BURGER KING  2240219        BURGER KING        2368796.0  RESTAURANT    2     13770 S AVENUE O   60633.0  2018-11-15T00:00:00.000  COMPLAINT       Pass w/ Conditions  2. CITY OF CHICAGO FOOD SERVICE SANITATION CERTIFICATE - Comments: NO CITY OF CHICAGO FOOD SERVICE MANAGERS CERTIFICATE ON PREMISES AS REQUIRED; MUST PROVIDE.  INSTRUCTED THE PIC THAT MANAGERS MUST HAVE A VALID CITY OF CHICAGO FOOD SERVICE MANAGERS CERTIFICATE WHILE ON DUTY AT ALL TIMES.  PRIORITY FOUNDATION VIOLATION 7-38-012 ISSUED. | 3. MANAGEMENT, FOOD EMPLOYEE AND CONDITIONAL EMPLOYEE; KNOWLEDGE, RESPONSIBILITIES AND REPORTING - Comments: : 2-102.14(A) NO EMPLOYEE HEALTH POLICY ON PREMISES AS REQUIRED; MUST PROVIDE. INSTRUCTED THE PIC TO PROVIDE DOCUMENTATION OF EMPLOYEES RESPONSIBILITY TO REPORT ANY ILLNESS TRANSMISSIBLE THROUGH FOOD. PRIORITY FOUNDATION 7-38-012(A) CITATION ISSUED.  VIOLATION PREVIOUSLY ISSUED ON AUGUST 14, 2018. | 5. PROCEDURES FOR RESPONDING TO VOMITING AND DIARRHEAL EVENTS - Comments: 2-501.11 NO VOMIT AND DIARRHEAL CLEAN UP PROCEDURE ON PREMISES AS REQUIRED; MUST PROVIDE. INSTRUCTED THE PIC THAT A VOMIT AND DIARRHEAL CLEAN UP PROCEDURE MUST BE DOCUMENTED AND THE NECESSARY SUPPLIES ON HAND IN THE EVENT OF A VOMIT OR DIARRHEAL INCIDENT ON PREMISES. PRIORITY FOUNDATION VIOLATION 7-38-005 CITATION ISSUED.    VIOLATION WAS PREVIOUSLY ISSUED ON AUGUST 14, 2018.                                                                                                                                                                                                                                                                                                                                                                                                                                                                {'latitude': '-87.5400946053766', 'longitude': '41.64467013219805'}  Hegewisch\n",
       "1  41.64467 -87.540095  BURGER KING  2200946        BURGER KING        2368796.0  RESTAURANT    2     13770 S AVENUE O   60633.0  2018-08-14T00:00:00.000  COMPLAINT       Pass w/ Conditions  2. CITY OF CHICAGO FOOD SERVICE SANITATION CERTIFICATE - Comments: 2-102.12 NO VALID CITY OF CHICAGO FOOD SERVICE SANITATION CERTIFICATES ON PREMISES.  THE PIC ON DUTY WAS UNABLE TO PRODUCE A VALID CITY OF CHICAGO FOOD SERVICE SANITATION CERTIFICATE.  NO OTHER PERSONS WERE ON DUTY THAT HAD A VALID CITY OF CHICAGO FOOD SERVICE SANITATION CERTIFICATE.  INSTRUCTED THAT A VALID CERTIFICATE MUST BE ON PREMISES AT ALL TIMES.  PRIORITY FOUNDATION VIOLATION ISSUED 7-38-012. | 3. MANAGEMENT, FOOD EMPLOYEE AND CONDITIONAL EMPLOYEE; KNOWLEDGE, RESPONSIBILITIES AND REPORTING - Comments: 2-102.14(A) NO EMPLOYEE HEALTH POLICY ON PREMISES AS RE1QUIRED; MUST PROVIDE.  INSTRUCTED THE PIC TO PROVIDE DOCUMENTATION OF EMPLOYEES RESPONSIBILITY TO REPORT ANY ILLNESS TRANSMISSIBLE THROUGH FOOD.  PRIORITY FOUNDATION 7-38-012(A) | 5. PROCEDURES FOR RESPONDING TO VOMITING AND DIARRHEAL EVENTS - Comments: 2-501.11 NO VOMIT AND DIARRHEAL CLEAN UP PROCEDURE ON PREMISES AS REQUIRED; MUST PROVIDE.  INSTRUCTED THE PIC THAT A VOMIT AND DIARRHEAL CLEAN UP PROCEDURE MUST BE DOCUMENTED AND THE NECESSARY SUPPLIES ON HAND IN THE EVENT OF A VOMIT OR DIARRHEAL INCIDENT ON PREMISES. PRIORITY FOUNDATION VIOLATION 7-38-005. | 49. NON-FOOD/FOOD CONTACT SURFACES CLEAN - Comments: 4-602.13  OBSERVED THE EXTERIOR SURFACES AND INTERIOR BOTTOM OF THE DEEP FRYERS IN NEED OF CLEANING TO REMOVE GREASE; CLEAN AND MAINTAIN. | 55. PHYSICAL FACILITIES INSTALLED, MAINTAINED & CLEAN - Comments: 6-501.12  THE FLOORS UNDER AROUND AND BEHIND VARIOUS KITCHEN EQUIPMENT NEED CLEANING; ALSO FLOOR DRAINS THROUGHOUT THE KITCHEN NEED CLEANING; CLEAN AND MAINTAIN FLOORS AND FLOOR DRAINS.  {'latitude': '-87.5400946053766', 'longitude': '41.64467013219805'}  Hegewisch\n",
       "2  41.64467 -87.540095  BURGER KING  1950282        BURGER KING        2368796.0  RESTAURANT    2     13770 S AVENUE O   60633.0  2016-08-12T00:00:00.000  CANVASS         Pass                34. FLOORS: CONSTRUCTED PER CODE, CLEANED, GOOD REPAIR, COVING INSTALLED, DUST-LESS CLEANING METHODS USED - Comments: FLOORS NEED CLEANING IN THE REAR STORAGE AREA ALONG THE WALL BASE UNDER STORAGE SHELVING AND IN THE PREP AREA AROUND THE COOKING EQUIPMENT TO REMOVE SPILLS,GREASE AND DEBRIS. ALSO CLEAN THE MATS IN THE WALK IN COOLER AND FREEZER TO REMOVE SPILLS. | 35. WALLS, CEILINGS, ATTACHED EQUIPMENT CONSTRUCTED PER CODE: GOOD REPAIR, SURFACES CLEAN AND DUST-LESS CLEANING METHODS - Comments: PIPING ALONG THE WALL BEHIND THE FRYER ARE ENCRUSTED WITH GREASE. MUST CLEAN AND MAINTAIN. | 38. VENTILATION: ROOMS AND EQUIPMENT VENTED AS REQUIRED: PLUMBING: INSTALLED AND MAINTAINED - Comments: NOTED A LEAK AT THE 3 COMPARTMENT SINK HOT WATER KNOB. MUST REPAIR AND MAINTAIN.                                                                                                                                                                                                                                                                                                                                                                                                                                                                                                                                                                                                                                                                                                                                                                                                                                                                                                        {'latitude': '-87.5400946053766', 'longitude': '41.64467013219805'}  Hegewisch\n",
       "3  41.64467 -87.540095  BURGER KING  1523175        BURGER KING        2368796.0  RESTAURANT    2     13770 S AVENUE O   60633.0  2015-02-23T00:00:00.000  LICENSE         Pass                33. FOOD AND NON-FOOD CONTACT EQUIPMENT UTENSILS CLEAN, FREE OF ABRASIVE DETERGENTS - Comments: CLEAN THEBOTTOM COMPARTMENT OF DEEP FRYERS OF GREASE BUILD-UP AND CLEAN INTERIOR OF THE CHEST FREEZER AT PREP AREA,INSTRUCTED TO CLEAN AND MAINTAIN EQUIPMENT | 34. FLOORS: CONSTRUCTED PER CODE, CLEANED, GOOD REPAIR, COVING INSTALLED, DUST-LESS CLEANING METHODS USED - Comments: CLEAN THE FLOORS IN PREP AREA ,ALONG WALL BASE AND CORNERS IN PREP AREA AND REAR OF PREMISES | 45. FOOD HANDLER REQUIREMENTS MET - Comments: MUST PROVIDE THE FOOD HANDLERS CERTIFICATES OR PROOF OF ENROLLEMENT                                                                                                                                                                                                                                                                                                                                                                                                                                                                                                                                                                                                                                                                                                                                                                                                                                                                                                                                                                                                                                                                                                           {'latitude': '-87.5400946053766', 'longitude': '41.64467013219805'}  Hegewisch\n",
       "4  41.64467 -87.540095  BURGER KING  1527281        BURGER KING #7268  1473518.0  RESTAURANT    2     13770 S AVENUE O   60633.0  2015-02-23T00:00:00.000  CANVASS         Out of Business     NaN                                                                                                                                                                                                                                                                                                                                                                                                                                                                                                                                                                                                                                                                                                                                                                                                                                                                                                                                                                                                                                                                                                                                                                                                                                                                                                                                                                                                                                                                                                                                                                                                                                                                                                              {'latitude': '-87.5400946053766', 'longitude': '41.64467013219805'}  Hegewisch"
      ]
     },
     "execution_count": 486,
     "metadata": {
      "tags": []
     },
     "output_type": "execute_result"
    }
   ],
   "source": [
    "merged_oob # facilities that have gone oob\n",
    "set_diff_oob # facilities that haven't gone oob\n",
    "critical_vios = list(range(15))\n",
    "serious_vios = list(range(15, 30))\n",
    "merged_oob.head()"
   ]
  },
  {
   "cell_type": "code",
   "execution_count": 487,
   "metadata": {
    "colab": {
     "base_uri": "https://localhost:8080/",
     "height": 1000
    },
    "colab_type": "code",
    "id": "8J6NvSj9HCIM",
    "outputId": "09c3e76c-532d-4271-e459-67559ec2386b"
   },
   "outputs": [
    {
     "data": {
      "text/html": [
       "<div>\n",
       "<style scoped>\n",
       "    .dataframe tbody tr th:only-of-type {\n",
       "        vertical-align: middle;\n",
       "    }\n",
       "\n",
       "    .dataframe tbody tr th {\n",
       "        vertical-align: top;\n",
       "    }\n",
       "\n",
       "    .dataframe thead th {\n",
       "        text-align: right;\n",
       "    }\n",
       "</style>\n",
       "<table border=\"1\" class=\"dataframe\">\n",
       "  <thead>\n",
       "    <tr style=\"text-align: right;\">\n",
       "      <th></th>\n",
       "      <th>Latitude</th>\n",
       "      <th>Longitude</th>\n",
       "      <th>DBA Name</th>\n",
       "      <th>Inspection ID</th>\n",
       "      <th>AKA Name</th>\n",
       "      <th>License #</th>\n",
       "      <th>Facility Type</th>\n",
       "      <th>Risk</th>\n",
       "      <th>Address</th>\n",
       "      <th>Zip</th>\n",
       "      <th>Inspection Date</th>\n",
       "      <th>Inspection Type</th>\n",
       "      <th>Results</th>\n",
       "      <th>Violations</th>\n",
       "      <th>Location</th>\n",
       "      <th>Regions</th>\n",
       "    </tr>\n",
       "  </thead>\n",
       "  <tbody>\n",
       "    <tr>\n",
       "      <th>0</th>\n",
       "      <td>41.644670</td>\n",
       "      <td>-87.540095</td>\n",
       "      <td>BURGER KING</td>\n",
       "      <td>2240219</td>\n",
       "      <td>BURGER KING</td>\n",
       "      <td>2368796.0</td>\n",
       "      <td>RESTAURANT</td>\n",
       "      <td>2</td>\n",
       "      <td>13770 S AVENUE O</td>\n",
       "      <td>60633.0</td>\n",
       "      <td>2018-11-15T00:00:00.000</td>\n",
       "      <td>COMPLAINT</td>\n",
       "      <td>Pass w/ Conditions</td>\n",
       "      <td>[2, 3, 5]</td>\n",
       "      <td>{'latitude': '-87.5400946053766', 'longitude': '41.64467013219805'}</td>\n",
       "      <td>Hegewisch</td>\n",
       "    </tr>\n",
       "    <tr>\n",
       "      <th>1</th>\n",
       "      <td>41.644670</td>\n",
       "      <td>-87.540095</td>\n",
       "      <td>BURGER KING</td>\n",
       "      <td>2200946</td>\n",
       "      <td>BURGER KING</td>\n",
       "      <td>2368796.0</td>\n",
       "      <td>RESTAURANT</td>\n",
       "      <td>2</td>\n",
       "      <td>13770 S AVENUE O</td>\n",
       "      <td>60633.0</td>\n",
       "      <td>2018-08-14T00:00:00.000</td>\n",
       "      <td>COMPLAINT</td>\n",
       "      <td>Pass w/ Conditions</td>\n",
       "      <td>[2, 3, 5, 49, 55]</td>\n",
       "      <td>{'latitude': '-87.5400946053766', 'longitude': '41.64467013219805'}</td>\n",
       "      <td>Hegewisch</td>\n",
       "    </tr>\n",
       "    <tr>\n",
       "      <th>2</th>\n",
       "      <td>41.644670</td>\n",
       "      <td>-87.540095</td>\n",
       "      <td>BURGER KING</td>\n",
       "      <td>1950282</td>\n",
       "      <td>BURGER KING</td>\n",
       "      <td>2368796.0</td>\n",
       "      <td>RESTAURANT</td>\n",
       "      <td>2</td>\n",
       "      <td>13770 S AVENUE O</td>\n",
       "      <td>60633.0</td>\n",
       "      <td>2016-08-12T00:00:00.000</td>\n",
       "      <td>CANVASS</td>\n",
       "      <td>Pass</td>\n",
       "      <td>[34, 35, 38]</td>\n",
       "      <td>{'latitude': '-87.5400946053766', 'longitude': '41.64467013219805'}</td>\n",
       "      <td>Hegewisch</td>\n",
       "    </tr>\n",
       "    <tr>\n",
       "      <th>3</th>\n",
       "      <td>41.644670</td>\n",
       "      <td>-87.540095</td>\n",
       "      <td>BURGER KING</td>\n",
       "      <td>1523175</td>\n",
       "      <td>BURGER KING</td>\n",
       "      <td>2368796.0</td>\n",
       "      <td>RESTAURANT</td>\n",
       "      <td>2</td>\n",
       "      <td>13770 S AVENUE O</td>\n",
       "      <td>60633.0</td>\n",
       "      <td>2015-02-23T00:00:00.000</td>\n",
       "      <td>LICENSE</td>\n",
       "      <td>Pass</td>\n",
       "      <td>[33, 34, 45]</td>\n",
       "      <td>{'latitude': '-87.5400946053766', 'longitude': '41.64467013219805'}</td>\n",
       "      <td>Hegewisch</td>\n",
       "    </tr>\n",
       "    <tr>\n",
       "      <th>6</th>\n",
       "      <td>41.644670</td>\n",
       "      <td>-87.540095</td>\n",
       "      <td>BURGER KING</td>\n",
       "      <td>1493718</td>\n",
       "      <td>BURGER KING #7268</td>\n",
       "      <td>1473518.0</td>\n",
       "      <td>RESTAURANT</td>\n",
       "      <td>2</td>\n",
       "      <td>13770 S AVENUE O</td>\n",
       "      <td>60633.0</td>\n",
       "      <td>2014-08-18T00:00:00.000</td>\n",
       "      <td>CANVASS</td>\n",
       "      <td>Fail</td>\n",
       "      <td>[12, 21, 28, 29, 33, 38]</td>\n",
       "      <td>{'latitude': '-87.5400946053766', 'longitude': '41.64467013219805'}</td>\n",
       "      <td>Hegewisch</td>\n",
       "    </tr>\n",
       "    <tr>\n",
       "      <th>...</th>\n",
       "      <td>...</td>\n",
       "      <td>...</td>\n",
       "      <td>...</td>\n",
       "      <td>...</td>\n",
       "      <td>...</td>\n",
       "      <td>...</td>\n",
       "      <td>...</td>\n",
       "      <td>...</td>\n",
       "      <td>...</td>\n",
       "      <td>...</td>\n",
       "      <td>...</td>\n",
       "      <td>...</td>\n",
       "      <td>...</td>\n",
       "      <td>...</td>\n",
       "      <td>...</td>\n",
       "      <td>...</td>\n",
       "    </tr>\n",
       "    <tr>\n",
       "      <th>100332</th>\n",
       "      <td>42.020753</td>\n",
       "      <td>-87.672934</td>\n",
       "      <td>HOWARD AREA ALTERNATIVE HIGH SCHOOL</td>\n",
       "      <td>1326791</td>\n",
       "      <td>HOWARD AREA ALTERNATIVE HIGH SCHOOL</td>\n",
       "      <td>2510907.0</td>\n",
       "      <td>SCHOOL</td>\n",
       "      <td>1</td>\n",
       "      <td>7647 N PAULINA ST</td>\n",
       "      <td>60626.0</td>\n",
       "      <td>2013-04-08T00:00:00.000</td>\n",
       "      <td>CANVASS</td>\n",
       "      <td>Pass</td>\n",
       "      <td>[32, 33, 34]</td>\n",
       "      <td>{'latitude': '-87.67293385361205', 'longitude': '42.0207528932753'}</td>\n",
       "      <td>Rogers Park</td>\n",
       "    </tr>\n",
       "    <tr>\n",
       "      <th>100333</th>\n",
       "      <td>42.020753</td>\n",
       "      <td>-87.672934</td>\n",
       "      <td>HOWARD AREA ALTERNATIVE HIGH SCHOOL</td>\n",
       "      <td>1285809</td>\n",
       "      <td>HOWARD AREA ALTERNATIVE HIGH SCHOOL</td>\n",
       "      <td>2510907.0</td>\n",
       "      <td>SCHOOL</td>\n",
       "      <td>1</td>\n",
       "      <td>7647 N PAULINA ST</td>\n",
       "      <td>60626.0</td>\n",
       "      <td>2012-10-11T00:00:00.000</td>\n",
       "      <td>CANVASS</td>\n",
       "      <td>Pass</td>\n",
       "      <td>[41]</td>\n",
       "      <td>{'latitude': '-87.67293385361205', 'longitude': '42.0207528932753'}</td>\n",
       "      <td>Rogers Park</td>\n",
       "    </tr>\n",
       "    <tr>\n",
       "      <th>100334</th>\n",
       "      <td>42.020753</td>\n",
       "      <td>-87.672934</td>\n",
       "      <td>HOWARD AREA ALTERNATIVE HIGH SCHOOL</td>\n",
       "      <td>1106356</td>\n",
       "      <td>HOWARD AREA ALTERNATIVE HIGH SCHOOL</td>\n",
       "      <td>2510907.0</td>\n",
       "      <td>SCHOOL</td>\n",
       "      <td>1</td>\n",
       "      <td>7647 N PAULINA ST</td>\n",
       "      <td>60626.0</td>\n",
       "      <td>2012-10-04T00:00:00.000</td>\n",
       "      <td>CANVASS</td>\n",
       "      <td>Fail</td>\n",
       "      <td>[18, 28, 41]</td>\n",
       "      <td>{'latitude': '-87.67293385361205', 'longitude': '42.0207528932753'}</td>\n",
       "      <td>Rogers Park</td>\n",
       "    </tr>\n",
       "    <tr>\n",
       "      <th>100335</th>\n",
       "      <td>42.020753</td>\n",
       "      <td>-87.672934</td>\n",
       "      <td>HOWARD AREA ALTERNATIVE HIGH SCHOOL</td>\n",
       "      <td>1214975</td>\n",
       "      <td>HOWARD AREA ALTERNATIVE HIGH SCHOOL</td>\n",
       "      <td>2510907.0</td>\n",
       "      <td>SCHOOL</td>\n",
       "      <td>1</td>\n",
       "      <td>7647 N PAULINA ST</td>\n",
       "      <td>60626.0</td>\n",
       "      <td>2012-05-17T00:00:00.000</td>\n",
       "      <td>CANVASS</td>\n",
       "      <td>Pass w/ Conditions</td>\n",
       "      <td>[21, 33]</td>\n",
       "      <td>{'latitude': '-87.67293385361205', 'longitude': '42.0207528932753'}</td>\n",
       "      <td>Rogers Park</td>\n",
       "    </tr>\n",
       "    <tr>\n",
       "      <th>100336</th>\n",
       "      <td>42.020753</td>\n",
       "      <td>-87.672934</td>\n",
       "      <td>HOWARD AREA ALTERNATIVE HIGH SCHOOL</td>\n",
       "      <td>1214788</td>\n",
       "      <td>HOWARD AREA ALTERNATIVE HIGH SCHOOL</td>\n",
       "      <td>2510907.0</td>\n",
       "      <td>SCHOOL</td>\n",
       "      <td>1</td>\n",
       "      <td>7647 N PAULINA ST</td>\n",
       "      <td>60626.0</td>\n",
       "      <td>2012-05-10T00:00:00.000</td>\n",
       "      <td>CANVASS</td>\n",
       "      <td>Fail</td>\n",
       "      <td>[18, 21, 33]</td>\n",
       "      <td>{'latitude': '-87.67293385361205', 'longitude': '42.0207528932753'}</td>\n",
       "      <td>Rogers Park</td>\n",
       "    </tr>\n",
       "  </tbody>\n",
       "</table>\n",
       "<p>65918 rows × 16 columns</p>\n",
       "</div>"
      ],
      "text/plain": [
       "         Latitude  Longitude                             DBA Name  Inspection ID                             AKA Name  License # Facility Type  Risk             Address      Zip          Inspection Date Inspection Type             Results                Violations                                                             Location      Regions\n",
       "0       41.644670 -87.540095  BURGER KING                          2240219        BURGER KING                          2368796.0  RESTAURANT    2     13770 S AVENUE O    60633.0  2018-11-15T00:00:00.000  COMPLAINT       Pass w/ Conditions  [2, 3, 5]                 {'latitude': '-87.5400946053766', 'longitude': '41.64467013219805'}  Hegewisch  \n",
       "1       41.644670 -87.540095  BURGER KING                          2200946        BURGER KING                          2368796.0  RESTAURANT    2     13770 S AVENUE O    60633.0  2018-08-14T00:00:00.000  COMPLAINT       Pass w/ Conditions  [2, 3, 5, 49, 55]         {'latitude': '-87.5400946053766', 'longitude': '41.64467013219805'}  Hegewisch  \n",
       "2       41.644670 -87.540095  BURGER KING                          1950282        BURGER KING                          2368796.0  RESTAURANT    2     13770 S AVENUE O    60633.0  2016-08-12T00:00:00.000  CANVASS         Pass                [34, 35, 38]              {'latitude': '-87.5400946053766', 'longitude': '41.64467013219805'}  Hegewisch  \n",
       "3       41.644670 -87.540095  BURGER KING                          1523175        BURGER KING                          2368796.0  RESTAURANT    2     13770 S AVENUE O    60633.0  2015-02-23T00:00:00.000  LICENSE         Pass                [33, 34, 45]              {'latitude': '-87.5400946053766', 'longitude': '41.64467013219805'}  Hegewisch  \n",
       "6       41.644670 -87.540095  BURGER KING                          1493718        BURGER KING #7268                    1473518.0  RESTAURANT    2     13770 S AVENUE O    60633.0  2014-08-18T00:00:00.000  CANVASS         Fail                [12, 21, 28, 29, 33, 38]  {'latitude': '-87.5400946053766', 'longitude': '41.64467013219805'}  Hegewisch  \n",
       "...           ...        ...          ...                              ...                      ...                          ...         ...   ..                   ...       ...                      ...      ...          ...                                     ...                                                                  ...        ...  \n",
       "100332  42.020753 -87.672934  HOWARD AREA ALTERNATIVE HIGH SCHOOL  1326791        HOWARD AREA ALTERNATIVE HIGH SCHOOL  2510907.0  SCHOOL        1     7647 N PAULINA ST   60626.0  2013-04-08T00:00:00.000  CANVASS         Pass                [32, 33, 34]              {'latitude': '-87.67293385361205', 'longitude': '42.0207528932753'}  Rogers Park\n",
       "100333  42.020753 -87.672934  HOWARD AREA ALTERNATIVE HIGH SCHOOL  1285809        HOWARD AREA ALTERNATIVE HIGH SCHOOL  2510907.0  SCHOOL        1     7647 N PAULINA ST   60626.0  2012-10-11T00:00:00.000  CANVASS         Pass                [41]                      {'latitude': '-87.67293385361205', 'longitude': '42.0207528932753'}  Rogers Park\n",
       "100334  42.020753 -87.672934  HOWARD AREA ALTERNATIVE HIGH SCHOOL  1106356        HOWARD AREA ALTERNATIVE HIGH SCHOOL  2510907.0  SCHOOL        1     7647 N PAULINA ST   60626.0  2012-10-04T00:00:00.000  CANVASS         Fail                [18, 28, 41]              {'latitude': '-87.67293385361205', 'longitude': '42.0207528932753'}  Rogers Park\n",
       "100335  42.020753 -87.672934  HOWARD AREA ALTERNATIVE HIGH SCHOOL  1214975        HOWARD AREA ALTERNATIVE HIGH SCHOOL  2510907.0  SCHOOL        1     7647 N PAULINA ST   60626.0  2012-05-17T00:00:00.000  CANVASS         Pass w/ Conditions  [21, 33]                  {'latitude': '-87.67293385361205', 'longitude': '42.0207528932753'}  Rogers Park\n",
       "100336  42.020753 -87.672934  HOWARD AREA ALTERNATIVE HIGH SCHOOL  1214788        HOWARD AREA ALTERNATIVE HIGH SCHOOL  2510907.0  SCHOOL        1     7647 N PAULINA ST   60626.0  2012-05-10T00:00:00.000  CANVASS         Fail                [18, 21, 33]              {'latitude': '-87.67293385361205', 'longitude': '42.0207528932753'}  Rogers Park\n",
       "\n",
       "[65918 rows x 16 columns]"
      ]
     },
     "execution_count": 487,
     "metadata": {
      "tags": []
     },
     "output_type": "execute_result"
    }
   ],
   "source": [
    "merged_oob.dropna(subset=['Violations'], inplace=True)\n",
    "merged_oob['Violations'] = merged_oob['Violations'].apply(lambda x: re.findall(r'^[0-9]+[.] | [|] [0-9]+[.] ', x))\n",
    "merged_oob['Violations'] = merged_oob['Violations'].apply(lambda x: [int(sub.replace('|','').split('.')[0]) for sub in x])\n",
    "\n",
    "merged_oob"
   ]
  },
  {
   "cell_type": "code",
   "execution_count": 0,
   "metadata": {
    "colab": {},
    "colab_type": "code",
    "id": "UQnjvuDFJQRO"
   },
   "outputs": [],
   "source": [
    "merged_oob['Violations'] = merged_oob['Violations'].apply(lambda x: [x for x in x if x not in critical_vios + serious_vios])"
   ]
  },
  {
   "cell_type": "code",
   "execution_count": 489,
   "metadata": {
    "colab": {
     "base_uri": "https://localhost:8080/",
     "height": 492
    },
    "colab_type": "code",
    "id": "5QwJxzx8JTpm",
    "outputId": "291c434d-7ae8-4f34-b48b-ff0acdc99081"
   },
   "outputs": [
    {
     "data": {
      "text/html": [
       "<div>\n",
       "<style scoped>\n",
       "    .dataframe tbody tr th:only-of-type {\n",
       "        vertical-align: middle;\n",
       "    }\n",
       "\n",
       "    .dataframe tbody tr th {\n",
       "        vertical-align: top;\n",
       "    }\n",
       "\n",
       "    .dataframe thead th {\n",
       "        text-align: right;\n",
       "    }\n",
       "</style>\n",
       "<table border=\"1\" class=\"dataframe\">\n",
       "  <thead>\n",
       "    <tr style=\"text-align: right;\">\n",
       "      <th></th>\n",
       "      <th>Latitude</th>\n",
       "      <th>Longitude</th>\n",
       "      <th>DBA Name</th>\n",
       "      <th>Inspection ID</th>\n",
       "      <th>AKA Name</th>\n",
       "      <th>License #</th>\n",
       "      <th>Facility Type</th>\n",
       "      <th>Risk</th>\n",
       "      <th>Address</th>\n",
       "      <th>Zip</th>\n",
       "      <th>Inspection Date</th>\n",
       "      <th>Inspection Type</th>\n",
       "      <th>Results</th>\n",
       "      <th>Violations</th>\n",
       "      <th>Location</th>\n",
       "      <th>Regions</th>\n",
       "    </tr>\n",
       "  </thead>\n",
       "  <tbody>\n",
       "    <tr>\n",
       "      <th>0</th>\n",
       "      <td>41.64467</td>\n",
       "      <td>-87.540095</td>\n",
       "      <td>BURGER KING</td>\n",
       "      <td>2240219</td>\n",
       "      <td>BURGER KING</td>\n",
       "      <td>2368796.0</td>\n",
       "      <td>RESTAURANT</td>\n",
       "      <td>2</td>\n",
       "      <td>13770 S AVENUE O</td>\n",
       "      <td>60633.0</td>\n",
       "      <td>2018-11-15T00:00:00.000</td>\n",
       "      <td>COMPLAINT</td>\n",
       "      <td>Pass w/ Conditions</td>\n",
       "      <td>[]</td>\n",
       "      <td>{'latitude': '-87.5400946053766', 'longitude': '41.64467013219805'}</td>\n",
       "      <td>Hegewisch</td>\n",
       "    </tr>\n",
       "    <tr>\n",
       "      <th>1</th>\n",
       "      <td>41.64467</td>\n",
       "      <td>-87.540095</td>\n",
       "      <td>BURGER KING</td>\n",
       "      <td>2200946</td>\n",
       "      <td>BURGER KING</td>\n",
       "      <td>2368796.0</td>\n",
       "      <td>RESTAURANT</td>\n",
       "      <td>2</td>\n",
       "      <td>13770 S AVENUE O</td>\n",
       "      <td>60633.0</td>\n",
       "      <td>2018-08-14T00:00:00.000</td>\n",
       "      <td>COMPLAINT</td>\n",
       "      <td>Pass w/ Conditions</td>\n",
       "      <td>[49, 55]</td>\n",
       "      <td>{'latitude': '-87.5400946053766', 'longitude': '41.64467013219805'}</td>\n",
       "      <td>Hegewisch</td>\n",
       "    </tr>\n",
       "    <tr>\n",
       "      <th>2</th>\n",
       "      <td>41.64467</td>\n",
       "      <td>-87.540095</td>\n",
       "      <td>BURGER KING</td>\n",
       "      <td>1950282</td>\n",
       "      <td>BURGER KING</td>\n",
       "      <td>2368796.0</td>\n",
       "      <td>RESTAURANT</td>\n",
       "      <td>2</td>\n",
       "      <td>13770 S AVENUE O</td>\n",
       "      <td>60633.0</td>\n",
       "      <td>2016-08-12T00:00:00.000</td>\n",
       "      <td>CANVASS</td>\n",
       "      <td>Pass</td>\n",
       "      <td>[34, 35, 38]</td>\n",
       "      <td>{'latitude': '-87.5400946053766', 'longitude': '41.64467013219805'}</td>\n",
       "      <td>Hegewisch</td>\n",
       "    </tr>\n",
       "    <tr>\n",
       "      <th>3</th>\n",
       "      <td>41.64467</td>\n",
       "      <td>-87.540095</td>\n",
       "      <td>BURGER KING</td>\n",
       "      <td>1523175</td>\n",
       "      <td>BURGER KING</td>\n",
       "      <td>2368796.0</td>\n",
       "      <td>RESTAURANT</td>\n",
       "      <td>2</td>\n",
       "      <td>13770 S AVENUE O</td>\n",
       "      <td>60633.0</td>\n",
       "      <td>2015-02-23T00:00:00.000</td>\n",
       "      <td>LICENSE</td>\n",
       "      <td>Pass</td>\n",
       "      <td>[33, 34, 45]</td>\n",
       "      <td>{'latitude': '-87.5400946053766', 'longitude': '41.64467013219805'}</td>\n",
       "      <td>Hegewisch</td>\n",
       "    </tr>\n",
       "    <tr>\n",
       "      <th>6</th>\n",
       "      <td>41.64467</td>\n",
       "      <td>-87.540095</td>\n",
       "      <td>BURGER KING</td>\n",
       "      <td>1493718</td>\n",
       "      <td>BURGER KING #7268</td>\n",
       "      <td>1473518.0</td>\n",
       "      <td>RESTAURANT</td>\n",
       "      <td>2</td>\n",
       "      <td>13770 S AVENUE O</td>\n",
       "      <td>60633.0</td>\n",
       "      <td>2014-08-18T00:00:00.000</td>\n",
       "      <td>CANVASS</td>\n",
       "      <td>Fail</td>\n",
       "      <td>[33, 38]</td>\n",
       "      <td>{'latitude': '-87.5400946053766', 'longitude': '41.64467013219805'}</td>\n",
       "      <td>Hegewisch</td>\n",
       "    </tr>\n",
       "  </tbody>\n",
       "</table>\n",
       "</div>"
      ],
      "text/plain": [
       "   Latitude  Longitude     DBA Name  Inspection ID           AKA Name  License # Facility Type  Risk            Address      Zip          Inspection Date Inspection Type             Results    Violations                                                             Location    Regions\n",
       "0  41.64467 -87.540095  BURGER KING  2240219        BURGER KING        2368796.0  RESTAURANT    2     13770 S AVENUE O   60633.0  2018-11-15T00:00:00.000  COMPLAINT       Pass w/ Conditions  []            {'latitude': '-87.5400946053766', 'longitude': '41.64467013219805'}  Hegewisch\n",
       "1  41.64467 -87.540095  BURGER KING  2200946        BURGER KING        2368796.0  RESTAURANT    2     13770 S AVENUE O   60633.0  2018-08-14T00:00:00.000  COMPLAINT       Pass w/ Conditions  [49, 55]      {'latitude': '-87.5400946053766', 'longitude': '41.64467013219805'}  Hegewisch\n",
       "2  41.64467 -87.540095  BURGER KING  1950282        BURGER KING        2368796.0  RESTAURANT    2     13770 S AVENUE O   60633.0  2016-08-12T00:00:00.000  CANVASS         Pass                [34, 35, 38]  {'latitude': '-87.5400946053766', 'longitude': '41.64467013219805'}  Hegewisch\n",
       "3  41.64467 -87.540095  BURGER KING  1523175        BURGER KING        2368796.0  RESTAURANT    2     13770 S AVENUE O   60633.0  2015-02-23T00:00:00.000  LICENSE         Pass                [33, 34, 45]  {'latitude': '-87.5400946053766', 'longitude': '41.64467013219805'}  Hegewisch\n",
       "6  41.64467 -87.540095  BURGER KING  1493718        BURGER KING #7268  1473518.0  RESTAURANT    2     13770 S AVENUE O   60633.0  2014-08-18T00:00:00.000  CANVASS         Fail                [33, 38]      {'latitude': '-87.5400946053766', 'longitude': '41.64467013219805'}  Hegewisch"
      ]
     },
     "execution_count": 489,
     "metadata": {
      "tags": []
     },
     "output_type": "execute_result"
    }
   ],
   "source": [
    "merged_oob.head()"
   ]
  },
  {
   "cell_type": "code",
   "execution_count": 490,
   "metadata": {
    "colab": {
     "base_uri": "https://localhost:8080/",
     "height": 959
    },
    "colab_type": "code",
    "id": "cXkvlp_sH6Mk",
    "outputId": "23ae5e40-c56b-4ab7-cae9-67f061c963d4"
   },
   "outputs": [
    {
     "data": {
      "text/html": [
       "<div>\n",
       "<style scoped>\n",
       "    .dataframe tbody tr th:only-of-type {\n",
       "        vertical-align: middle;\n",
       "    }\n",
       "\n",
       "    .dataframe tbody tr th {\n",
       "        vertical-align: top;\n",
       "    }\n",
       "\n",
       "    .dataframe thead th {\n",
       "        text-align: right;\n",
       "    }\n",
       "</style>\n",
       "<table border=\"1\" class=\"dataframe\">\n",
       "  <thead>\n",
       "    <tr style=\"text-align: right;\">\n",
       "      <th></th>\n",
       "      <th>AKA Name</th>\n",
       "      <th>Address</th>\n",
       "      <th>DBA Name</th>\n",
       "      <th>Facility Type</th>\n",
       "      <th>Inspection Date</th>\n",
       "      <th>Inspection ID</th>\n",
       "      <th>Inspection Type</th>\n",
       "      <th>Latitude</th>\n",
       "      <th>License #</th>\n",
       "      <th>Location</th>\n",
       "      <th>Longitude</th>\n",
       "      <th>Regions</th>\n",
       "      <th>Results</th>\n",
       "      <th>Risk</th>\n",
       "      <th>Violations</th>\n",
       "      <th>Zip</th>\n",
       "    </tr>\n",
       "  </thead>\n",
       "  <tbody>\n",
       "    <tr>\n",
       "      <th>1</th>\n",
       "      <td>CHILI'S (T1-B14)</td>\n",
       "      <td>11601 W TOUHY AVE</td>\n",
       "      <td>CHILIS T-I</td>\n",
       "      <td>RESTAURANT</td>\n",
       "      <td>2019-12-04T00:00:00.000</td>\n",
       "      <td>2352734</td>\n",
       "      <td>CANVASS</td>\n",
       "      <td>42.008536</td>\n",
       "      <td>34169.0</td>\n",
       "      <td>{'latitude': '-87.91442843927047', 'longitude': '42.008536400868735'}</td>\n",
       "      <td>-87.914428</td>\n",
       "      <td>O'Hare</td>\n",
       "      <td>Pass</td>\n",
       "      <td>1</td>\n",
       "      <td>[10, 47, 49, 55, 55]</td>\n",
       "      <td>60666.0</td>\n",
       "    </tr>\n",
       "    <tr>\n",
       "      <th>2</th>\n",
       "      <td>NaN</td>\n",
       "      <td>3401 W BELMONT AVE</td>\n",
       "      <td>TAQUERIA BLUE LINE</td>\n",
       "      <td>RESTAURANT</td>\n",
       "      <td>2019-12-04T00:00:00.000</td>\n",
       "      <td>2352701</td>\n",
       "      <td>LICENSE</td>\n",
       "      <td>41.939168</td>\n",
       "      <td>2703436.0</td>\n",
       "      <td>{'latitude': '-87.71254599117191', 'longitude': '41.93916783376966'}</td>\n",
       "      <td>-87.712546</td>\n",
       "      <td>Avondale</td>\n",
       "      <td>Pass w/ Conditions</td>\n",
       "      <td>1</td>\n",
       "      <td>[3, 5, 16, 51, 53, 58]</td>\n",
       "      <td>60618.0</td>\n",
       "    </tr>\n",
       "    <tr>\n",
       "      <th>6</th>\n",
       "      <td>NAIBOA LATIN STORE</td>\n",
       "      <td>3349 N CLARK ST</td>\n",
       "      <td>NAIBOA LATIN STORE</td>\n",
       "      <td>RETAIL STORE</td>\n",
       "      <td>2019-12-04T00:00:00.000</td>\n",
       "      <td>2352702</td>\n",
       "      <td>LICENSE</td>\n",
       "      <td>41.943032</td>\n",
       "      <td>2698776.0</td>\n",
       "      <td>{'latitude': '-87.65299525711882', 'longitude': '41.943031768727145'}</td>\n",
       "      <td>-87.652995</td>\n",
       "      <td>Lake View</td>\n",
       "      <td>Pass w/ Conditions</td>\n",
       "      <td>3</td>\n",
       "      <td>[5, 36, 51, 53]</td>\n",
       "      <td>60657.0</td>\n",
       "    </tr>\n",
       "    <tr>\n",
       "      <th>7</th>\n",
       "      <td>JAMIESON PUBLIC SCHOOL</td>\n",
       "      <td>5650 N MOZART</td>\n",
       "      <td>JAMIESON</td>\n",
       "      <td>SCHOOL</td>\n",
       "      <td>2019-12-04T00:00:00.000</td>\n",
       "      <td>2352718</td>\n",
       "      <td>CANVASS</td>\n",
       "      <td>41.984614</td>\n",
       "      <td>23931.0</td>\n",
       "      <td>{'latitude': '-87.70056525028134', 'longitude': '41.984613716529374'}</td>\n",
       "      <td>-87.700565</td>\n",
       "      <td>West Ridge</td>\n",
       "      <td>Pass</td>\n",
       "      <td>1</td>\n",
       "      <td>[49, 55, 56]</td>\n",
       "      <td>60659.0</td>\n",
       "    </tr>\n",
       "    <tr>\n",
       "      <th>9</th>\n",
       "      <td>BLUE LINE</td>\n",
       "      <td>1548 N DAMEN AVE</td>\n",
       "      <td>BLUE LINE</td>\n",
       "      <td>RESTAURANT</td>\n",
       "      <td>2019-12-03T00:00:00.000</td>\n",
       "      <td>2352629</td>\n",
       "      <td>CANVASS</td>\n",
       "      <td>41.909616</td>\n",
       "      <td>1170410.0</td>\n",
       "      <td>{'latitude': '-87.6775884711046', 'longitude': '41.90961625043591'}</td>\n",
       "      <td>-87.677588</td>\n",
       "      <td>Wicker Park</td>\n",
       "      <td>Pass w/ Conditions</td>\n",
       "      <td>1</td>\n",
       "      <td>[25]</td>\n",
       "      <td>60622.0</td>\n",
       "    </tr>\n",
       "    <tr>\n",
       "      <th>...</th>\n",
       "      <td>...</td>\n",
       "      <td>...</td>\n",
       "      <td>...</td>\n",
       "      <td>...</td>\n",
       "      <td>...</td>\n",
       "      <td>...</td>\n",
       "      <td>...</td>\n",
       "      <td>...</td>\n",
       "      <td>...</td>\n",
       "      <td>...</td>\n",
       "      <td>...</td>\n",
       "      <td>...</td>\n",
       "      <td>...</td>\n",
       "      <td>...</td>\n",
       "      <td>...</td>\n",
       "      <td>...</td>\n",
       "    </tr>\n",
       "    <tr>\n",
       "      <th>192162</th>\n",
       "      <td>LIDO BANQUETS</td>\n",
       "      <td>5504 N MILWAUKEE AVE</td>\n",
       "      <td>LIDO</td>\n",
       "      <td>RESTAURANT</td>\n",
       "      <td>2010-01-05T00:00:00.000</td>\n",
       "      <td>124257</td>\n",
       "      <td>CANVASS</td>\n",
       "      <td>41.981745</td>\n",
       "      <td>17145.0</td>\n",
       "      <td>{'latitude': '-87.7734651611067', 'longitude': '41.98174513647886'}</td>\n",
       "      <td>-87.773465</td>\n",
       "      <td>Jefferson Park</td>\n",
       "      <td>Pass</td>\n",
       "      <td>1</td>\n",
       "      <td>[38]</td>\n",
       "      <td>60630.0</td>\n",
       "    </tr>\n",
       "    <tr>\n",
       "      <th>192171</th>\n",
       "      <td>SOUTH SIDE FUEL CTR/DUNKIN DOUGHNUTS</td>\n",
       "      <td>970 W PERSHING RD</td>\n",
       "      <td>SOUTH SIDE FUEL CTR/DUNKIN DOUGHNUTS</td>\n",
       "      <td>GAS STATION/w. other services</td>\n",
       "      <td>2010-01-05T00:00:00.000</td>\n",
       "      <td>158242</td>\n",
       "      <td>CANVASS</td>\n",
       "      <td>41.823504</td>\n",
       "      <td>66827.0</td>\n",
       "      <td>{'latitude': '-87.65066637652201', 'longitude': '41.82350359266238'}</td>\n",
       "      <td>-87.650666</td>\n",
       "      <td>Bridgeport</td>\n",
       "      <td>Pass w/ Conditions</td>\n",
       "      <td>2</td>\n",
       "      <td>[12, 21, 33, 34, 35, 38, 41]</td>\n",
       "      <td>60609.0</td>\n",
       "    </tr>\n",
       "    <tr>\n",
       "      <th>192173</th>\n",
       "      <td>FUNSTON (ANNEX)  ELEM. SCHOOL</td>\n",
       "      <td>3616 W ARMITAGE AVE</td>\n",
       "      <td>FUNSTON ANNEX ELEM SCHOOL</td>\n",
       "      <td>SCHOOL</td>\n",
       "      <td>2010-01-05T00:00:00.000</td>\n",
       "      <td>134238</td>\n",
       "      <td>CANVASS</td>\n",
       "      <td>41.917384</td>\n",
       "      <td>1964634.0</td>\n",
       "      <td>{'latitude': '-87.71746411595915', 'longitude': '41.91738381273884'}</td>\n",
       "      <td>-87.717464</td>\n",
       "      <td>Logan Square</td>\n",
       "      <td>Pass</td>\n",
       "      <td>1</td>\n",
       "      <td>[32, 33, 35, 38, 40]</td>\n",
       "      <td>60647.0</td>\n",
       "    </tr>\n",
       "    <tr>\n",
       "      <th>192174</th>\n",
       "      <td>POPEYES CHICKEN</td>\n",
       "      <td>7250 S WESTERN AVE</td>\n",
       "      <td>POPEYES</td>\n",
       "      <td>RESTAURANT</td>\n",
       "      <td>2010-01-05T00:00:00.000</td>\n",
       "      <td>164254</td>\n",
       "      <td>COMPLAINT</td>\n",
       "      <td>41.761369</td>\n",
       "      <td>1798522.0</td>\n",
       "      <td>{'latitude': '-87.68329737623583', 'longitude': '41.761368557146056'}</td>\n",
       "      <td>-87.683297</td>\n",
       "      <td>Chicago Lawn</td>\n",
       "      <td>Pass</td>\n",
       "      <td>1</td>\n",
       "      <td>[33, 34, 35, 38, 41]</td>\n",
       "      <td>60636.0</td>\n",
       "    </tr>\n",
       "    <tr>\n",
       "      <th>192180</th>\n",
       "      <td>TEMPO CAFE</td>\n",
       "      <td>6 E CHESTNUT ST</td>\n",
       "      <td>TEMPO CAFE</td>\n",
       "      <td>RESTAURANT</td>\n",
       "      <td>2010-01-04T00:00:00.000</td>\n",
       "      <td>104236</td>\n",
       "      <td>CANVASS</td>\n",
       "      <td>41.898431</td>\n",
       "      <td>80916.0</td>\n",
       "      <td>{'latitude': '-87.6280091630558', 'longitude': '41.89843137207629'}</td>\n",
       "      <td>-87.628009</td>\n",
       "      <td>Rush &amp; Division</td>\n",
       "      <td>Fail</td>\n",
       "      <td>1</td>\n",
       "      <td>[18, 19, 32, 33, 34, 35, 36, 37, 38, 39, 41]</td>\n",
       "      <td>60611.0</td>\n",
       "    </tr>\n",
       "  </tbody>\n",
       "</table>\n",
       "<p>85369 rows × 16 columns</p>\n",
       "</div>"
      ],
      "text/plain": [
       "                                    AKA Name                Address                              DBA Name                  Facility Type          Inspection Date  Inspection ID Inspection Type   Latitude  License #                                                               Location  Longitude          Regions             Results  Risk                                    Violations      Zip\n",
       "1       CHILI'S (T1-B14)                      11601 W TOUHY AVE      CHILIS T-I                            RESTAURANT                     2019-12-04T00:00:00.000  2352734        CANVASS         42.008536  34169.0    {'latitude': '-87.91442843927047', 'longitude': '42.008536400868735'} -87.914428  O'Hare           Pass                1     [10, 47, 49, 55, 55]                          60666.0\n",
       "2       NaN                                   3401 W BELMONT AVE     TAQUERIA BLUE LINE                    RESTAURANT                     2019-12-04T00:00:00.000  2352701        LICENSE         41.939168  2703436.0  {'latitude': '-87.71254599117191', 'longitude': '41.93916783376966'}  -87.712546  Avondale         Pass w/ Conditions  1     [3, 5, 16, 51, 53, 58]                        60618.0\n",
       "6       NAIBOA LATIN STORE                    3349 N CLARK ST        NAIBOA LATIN STORE                    RETAIL STORE                   2019-12-04T00:00:00.000  2352702        LICENSE         41.943032  2698776.0  {'latitude': '-87.65299525711882', 'longitude': '41.943031768727145'} -87.652995  Lake View        Pass w/ Conditions  3     [5, 36, 51, 53]                               60657.0\n",
       "7       JAMIESON PUBLIC SCHOOL                5650 N MOZART          JAMIESON                              SCHOOL                         2019-12-04T00:00:00.000  2352718        CANVASS         41.984614  23931.0    {'latitude': '-87.70056525028134', 'longitude': '41.984613716529374'} -87.700565  West Ridge       Pass                1     [49, 55, 56]                                  60659.0\n",
       "9       BLUE LINE                             1548 N DAMEN AVE       BLUE LINE                             RESTAURANT                     2019-12-03T00:00:00.000  2352629        CANVASS         41.909616  1170410.0  {'latitude': '-87.6775884711046', 'longitude': '41.90961625043591'}   -87.677588  Wicker Park      Pass w/ Conditions  1     [25]                                          60622.0\n",
       "...           ...                                           ...            ...                                    ...                                         ...      ...            ...               ...        ...                                                                  ...          ...          ...                     ... ..      ...                                              ...\n",
       "192162  LIDO BANQUETS                         5504 N MILWAUKEE AVE   LIDO                                  RESTAURANT                     2010-01-05T00:00:00.000  124257         CANVASS         41.981745  17145.0    {'latitude': '-87.7734651611067', 'longitude': '41.98174513647886'}   -87.773465  Jefferson Park   Pass                1     [38]                                          60630.0\n",
       "192171  SOUTH SIDE FUEL CTR/DUNKIN DOUGHNUTS  970 W PERSHING RD      SOUTH SIDE FUEL CTR/DUNKIN DOUGHNUTS  GAS STATION/w. other services  2010-01-05T00:00:00.000  158242         CANVASS         41.823504  66827.0    {'latitude': '-87.65066637652201', 'longitude': '41.82350359266238'}  -87.650666  Bridgeport       Pass w/ Conditions  2     [12, 21, 33, 34, 35, 38, 41]                  60609.0\n",
       "192173  FUNSTON (ANNEX)  ELEM. SCHOOL         3616 W ARMITAGE AVE    FUNSTON ANNEX ELEM SCHOOL             SCHOOL                         2010-01-05T00:00:00.000  134238         CANVASS         41.917384  1964634.0  {'latitude': '-87.71746411595915', 'longitude': '41.91738381273884'}  -87.717464  Logan Square     Pass                1     [32, 33, 35, 38, 40]                          60647.0\n",
       "192174  POPEYES CHICKEN                       7250 S WESTERN AVE     POPEYES                               RESTAURANT                     2010-01-05T00:00:00.000  164254         COMPLAINT       41.761369  1798522.0  {'latitude': '-87.68329737623583', 'longitude': '41.761368557146056'} -87.683297  Chicago Lawn     Pass                1     [33, 34, 35, 38, 41]                          60636.0\n",
       "192180  TEMPO CAFE                            6 E CHESTNUT ST        TEMPO CAFE                            RESTAURANT                     2010-01-04T00:00:00.000  104236         CANVASS         41.898431  80916.0    {'latitude': '-87.6280091630558', 'longitude': '41.89843137207629'}   -87.628009  Rush & Division  Fail                1     [18, 19, 32, 33, 34, 35, 36, 37, 38, 39, 41]  60611.0\n",
       "\n",
       "[85369 rows x 16 columns]"
      ]
     },
     "execution_count": 490,
     "metadata": {
      "tags": []
     },
     "output_type": "execute_result"
    }
   ],
   "source": [
    "set_diff_oob.dropna(subset=['Violations'], inplace=True)\n",
    "set_diff_oob['Violations'] = set_diff_oob['Violations'].apply(lambda x: re.findall(r'^[0-9]+[.] | [|] [0-9]+[.] ', x))\n",
    "set_diff_oob['Violations'] = set_diff_oob['Violations'].apply(lambda x: [int(sub.replace('|','').split('.')[0]) for sub in x])\n",
    "set_diff_oob"
   ]
  },
  {
   "cell_type": "code",
   "execution_count": 491,
   "metadata": {
    "colab": {
     "base_uri": "https://localhost:8080/",
     "height": 492
    },
    "colab_type": "code",
    "id": "nUObYguzJXze",
    "outputId": "527f3e86-af99-44a8-bdd0-e8c31a63e300"
   },
   "outputs": [
    {
     "data": {
      "text/html": [
       "<div>\n",
       "<style scoped>\n",
       "    .dataframe tbody tr th:only-of-type {\n",
       "        vertical-align: middle;\n",
       "    }\n",
       "\n",
       "    .dataframe tbody tr th {\n",
       "        vertical-align: top;\n",
       "    }\n",
       "\n",
       "    .dataframe thead th {\n",
       "        text-align: right;\n",
       "    }\n",
       "</style>\n",
       "<table border=\"1\" class=\"dataframe\">\n",
       "  <thead>\n",
       "    <tr style=\"text-align: right;\">\n",
       "      <th></th>\n",
       "      <th>AKA Name</th>\n",
       "      <th>Address</th>\n",
       "      <th>DBA Name</th>\n",
       "      <th>Facility Type</th>\n",
       "      <th>Inspection Date</th>\n",
       "      <th>Inspection ID</th>\n",
       "      <th>Inspection Type</th>\n",
       "      <th>Latitude</th>\n",
       "      <th>License #</th>\n",
       "      <th>Location</th>\n",
       "      <th>Longitude</th>\n",
       "      <th>Regions</th>\n",
       "      <th>Results</th>\n",
       "      <th>Risk</th>\n",
       "      <th>Violations</th>\n",
       "      <th>Zip</th>\n",
       "    </tr>\n",
       "  </thead>\n",
       "  <tbody>\n",
       "    <tr>\n",
       "      <th>1</th>\n",
       "      <td>CHILI'S (T1-B14)</td>\n",
       "      <td>11601 W TOUHY AVE</td>\n",
       "      <td>CHILIS T-I</td>\n",
       "      <td>RESTAURANT</td>\n",
       "      <td>2019-12-04T00:00:00.000</td>\n",
       "      <td>2352734</td>\n",
       "      <td>CANVASS</td>\n",
       "      <td>42.008536</td>\n",
       "      <td>34169.0</td>\n",
       "      <td>{'latitude': '-87.91442843927047', 'longitude': '42.008536400868735'}</td>\n",
       "      <td>-87.914428</td>\n",
       "      <td>O'Hare</td>\n",
       "      <td>Pass</td>\n",
       "      <td>1</td>\n",
       "      <td>[49, 55, 47]</td>\n",
       "      <td>60666.0</td>\n",
       "    </tr>\n",
       "    <tr>\n",
       "      <th>2</th>\n",
       "      <td>NaN</td>\n",
       "      <td>3401 W BELMONT AVE</td>\n",
       "      <td>TAQUERIA BLUE LINE</td>\n",
       "      <td>RESTAURANT</td>\n",
       "      <td>2019-12-04T00:00:00.000</td>\n",
       "      <td>2352701</td>\n",
       "      <td>LICENSE</td>\n",
       "      <td>41.939168</td>\n",
       "      <td>2703436.0</td>\n",
       "      <td>{'latitude': '-87.71254599117191', 'longitude': '41.93916783376966'}</td>\n",
       "      <td>-87.712546</td>\n",
       "      <td>Avondale</td>\n",
       "      <td>Pass w/ Conditions</td>\n",
       "      <td>1</td>\n",
       "      <td>[58, 51, 53]</td>\n",
       "      <td>60618.0</td>\n",
       "    </tr>\n",
       "    <tr>\n",
       "      <th>6</th>\n",
       "      <td>NAIBOA LATIN STORE</td>\n",
       "      <td>3349 N CLARK ST</td>\n",
       "      <td>NAIBOA LATIN STORE</td>\n",
       "      <td>RETAIL STORE</td>\n",
       "      <td>2019-12-04T00:00:00.000</td>\n",
       "      <td>2352702</td>\n",
       "      <td>LICENSE</td>\n",
       "      <td>41.943032</td>\n",
       "      <td>2698776.0</td>\n",
       "      <td>{'latitude': '-87.65299525711882', 'longitude': '41.943031768727145'}</td>\n",
       "      <td>-87.652995</td>\n",
       "      <td>Lake View</td>\n",
       "      <td>Pass w/ Conditions</td>\n",
       "      <td>3</td>\n",
       "      <td>[51, 36, 53]</td>\n",
       "      <td>60657.0</td>\n",
       "    </tr>\n",
       "    <tr>\n",
       "      <th>7</th>\n",
       "      <td>JAMIESON PUBLIC SCHOOL</td>\n",
       "      <td>5650 N MOZART</td>\n",
       "      <td>JAMIESON</td>\n",
       "      <td>SCHOOL</td>\n",
       "      <td>2019-12-04T00:00:00.000</td>\n",
       "      <td>2352718</td>\n",
       "      <td>CANVASS</td>\n",
       "      <td>41.984614</td>\n",
       "      <td>23931.0</td>\n",
       "      <td>{'latitude': '-87.70056525028134', 'longitude': '41.984613716529374'}</td>\n",
       "      <td>-87.700565</td>\n",
       "      <td>West Ridge</td>\n",
       "      <td>Pass</td>\n",
       "      <td>1</td>\n",
       "      <td>[56, 49, 55]</td>\n",
       "      <td>60659.0</td>\n",
       "    </tr>\n",
       "    <tr>\n",
       "      <th>9</th>\n",
       "      <td>BLUE LINE</td>\n",
       "      <td>1548 N DAMEN AVE</td>\n",
       "      <td>BLUE LINE</td>\n",
       "      <td>RESTAURANT</td>\n",
       "      <td>2019-12-03T00:00:00.000</td>\n",
       "      <td>2352629</td>\n",
       "      <td>CANVASS</td>\n",
       "      <td>41.909616</td>\n",
       "      <td>1170410.0</td>\n",
       "      <td>{'latitude': '-87.6775884711046', 'longitude': '41.90961625043591'}</td>\n",
       "      <td>-87.677588</td>\n",
       "      <td>Wicker Park</td>\n",
       "      <td>Pass w/ Conditions</td>\n",
       "      <td>1</td>\n",
       "      <td>[]</td>\n",
       "      <td>60622.0</td>\n",
       "    </tr>\n",
       "  </tbody>\n",
       "</table>\n",
       "</div>"
      ],
      "text/plain": [
       "                 AKA Name              Address            DBA Name Facility Type          Inspection Date  Inspection ID Inspection Type   Latitude  License #                                                               Location  Longitude      Regions             Results  Risk    Violations      Zip\n",
       "1  CHILI'S (T1-B14)        11601 W TOUHY AVE    CHILIS T-I          RESTAURANT    2019-12-04T00:00:00.000  2352734        CANVASS         42.008536  34169.0    {'latitude': '-87.91442843927047', 'longitude': '42.008536400868735'} -87.914428  O'Hare       Pass                1     [49, 55, 47]  60666.0\n",
       "2  NaN                     3401 W BELMONT AVE   TAQUERIA BLUE LINE  RESTAURANT    2019-12-04T00:00:00.000  2352701        LICENSE         41.939168  2703436.0  {'latitude': '-87.71254599117191', 'longitude': '41.93916783376966'}  -87.712546  Avondale     Pass w/ Conditions  1     [58, 51, 53]  60618.0\n",
       "6  NAIBOA LATIN STORE      3349 N CLARK ST      NAIBOA LATIN STORE  RETAIL STORE  2019-12-04T00:00:00.000  2352702        LICENSE         41.943032  2698776.0  {'latitude': '-87.65299525711882', 'longitude': '41.943031768727145'} -87.652995  Lake View    Pass w/ Conditions  3     [51, 36, 53]  60657.0\n",
       "7  JAMIESON PUBLIC SCHOOL  5650 N MOZART        JAMIESON            SCHOOL        2019-12-04T00:00:00.000  2352718        CANVASS         41.984614  23931.0    {'latitude': '-87.70056525028134', 'longitude': '41.984613716529374'} -87.700565  West Ridge   Pass                1     [56, 49, 55]  60659.0\n",
       "9  BLUE LINE               1548 N DAMEN AVE     BLUE LINE           RESTAURANT    2019-12-03T00:00:00.000  2352629        CANVASS         41.909616  1170410.0  {'latitude': '-87.6775884711046', 'longitude': '41.90961625043591'}   -87.677588  Wicker Park  Pass w/ Conditions  1     []            60622.0"
      ]
     },
     "execution_count": 491,
     "metadata": {
      "tags": []
     },
     "output_type": "execute_result"
    }
   ],
   "source": [
    "set_diff_oob['Violations'] = set_diff_oob['Violations'].apply(lambda x: list(set([x for x in x if x not in critical_vios + serious_vios])))\n",
    "set_diff_oob.head()"
   ]
  },
  {
   "cell_type": "code",
   "execution_count": 0,
   "metadata": {
    "colab": {},
    "colab_type": "code",
    "id": "P0jg4KAJOgvp"
   },
   "outputs": [],
   "source": [
    "vio_freq_all = {}\n",
    "for i in violation_nums_oob['Violations']:\n",
    "  for j in i:\n",
    "    vio_freq_oob[str(j)] = 1 if str(j) not in vio_freq_oob else vio_freq_oob[str(j)]+1"
   ]
  },
  {
   "cell_type": "markdown",
   "metadata": {
    "colab_type": "text",
    "id": "dMo9xkUHs6OK"
   },
   "source": [
    "### **Region vs. Number/Percentage of OOB**"
   ]
  },
  {
   "cell_type": "markdown",
   "metadata": {
    "colab_type": "text",
    "id": "Mszu9K9MHDk1"
   },
   "source": [
    "### **Average number of violations of each facility type (OOB)**\n"
   ]
  },
  {
   "cell_type": "markdown",
   "metadata": {
    "colab_type": "text",
    "id": "VvKCu5nhejb0"
   },
   "source": [
    "### **Average number of violations of each facility type (not OOB)**\n"
   ]
  },
  {
   "cell_type": "markdown",
   "metadata": {
    "colab_type": "text",
    "id": "8x9xjsqAX1i3"
   },
   "source": [
    "### **Average number of each violation type facilities commit before going out of business**"
   ]
  },
  {
   "cell_type": "markdown",
   "metadata": {
    "colab_type": "text",
    "id": "kCcCYtxFXmlu"
   },
   "source": [
    "### **Average number of total violations facilities commit before going out of business**  "
   ]
  },
  {
   "cell_type": "markdown",
   "metadata": {
    "colab_type": "text",
    "id": "nQr5lMSLoZSK"
   },
   "source": [
    "## **Our plan for the future:**\n",
    "\n"
   ]
  },
  {
   "cell_type": "markdown",
   "metadata": {
    "colab_type": "text",
    "id": "YYzLurHcsoX8"
   },
   "source": [
    "- Analyze neighborhoods, taking a deep look into the locations of the facilities, and plotting the neighborhoods on the map (adding the region names on the map)\n",
    "- Look for hidden reasons why facilities go out of business, taking NLP approaches to process and find out the most frequent violation types\n",
    "- The trends (risk, violation types, pass/fail results, etc.) facilities follow until they go out of business\n",
    "- Look for the #1 violation type of the neighborhood\n",
    "- Prepare poster presentation"
   ]
  }
 ],
 "metadata": {
  "accelerator": "GPU",
  "colab": {
   "collapsed_sections": [
    "eVZEtg_iXrnc",
    "CKLyGPdMYipy",
    "rvahQqzeYxPm",
    "70YWgfyOY98g",
    "jRnO5vZlnNtd",
    "TcYiy6JonijB",
    "Fi_AiSyn5Qkm",
    "_n637CHg_9jG",
    "PZh_kj61J8BC",
    "kCcCYtxFXmlu"
   ],
   "include_colab_link": true,
   "name": "Copy of project.ipynb",
   "provenance": []
  },
  "kernelspec": {
   "display_name": "Python [conda env:py36] *",
   "language": "python",
   "name": "conda-env-py36-py"
  },
  "language_info": {
   "codemirror_mode": {
    "name": "ipython",
    "version": 3
   },
   "file_extension": ".py",
   "mimetype": "text/x-python",
   "name": "python",
   "nbconvert_exporter": "python",
   "pygments_lexer": "ipython3",
   "version": "3.6.9"
  }
 },
 "nbformat": 4,
 "nbformat_minor": 1
}
