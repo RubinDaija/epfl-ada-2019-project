{
  "nbformat": 4,
  "nbformat_minor": 0,
  "metadata": {
    "kernelspec": {
      "name": "python3",
      "display_name": "Python 3"
    },
    "colab": {
      "name": "project.ipynb",
      "provenance": []
    },
    "accelerator": "GPU"
  },
  "cells": [
    {
      "cell_type": "markdown",
      "metadata": {
        "id": "-Tvl9ABtLcXB",
        "colab_type": "text"
      },
      "source": [
        "# **Necessary Imports**"
      ]
    },
    {
      "cell_type": "code",
      "metadata": {
        "id": "y8CsC8G1r9hy",
        "colab_type": "code",
        "colab": {}
      },
      "source": [
        "%matplotlib inline\n",
        "import pandas as pd\n",
        "import numpy as np\n",
        "import re\n",
        "from matplotlib.ticker import MaxNLocator\n",
        "import matplotlib.pyplot as plt\n",
        "from scipy import stats\n",
        "from folium.plugins import MarkerCluster\n",
        "import warnings\n",
        "import folium\n",
        "import zipfile"
      ],
      "execution_count": 0,
      "outputs": []
    },
    {
      "cell_type": "code",
      "metadata": {
        "id": "cG_XvNn-r9h3",
        "colab_type": "code",
        "colab": {
          "base_uri": "https://localhost:8080/",
          "height": 55
        },
        "outputId": "17d4f352-a5c2-42a1-ff8a-7573bbd5f065"
      },
      "source": [
        "# ---------- Only to be run the first time the data set is uploaded ---------- #\n",
        "# Reads from compressed folder, drops the irrelevant columns, and outputs the new data to a new file called food_inspections.csv\n",
        "\n",
        "'''\n",
        "zf = zipfile.ZipFile('chicago-food-inspections.zip')\n",
        "dblp = pd.read_csv(zf.open('chicago-food-inspections/food-inspections.csv'))\n",
        "dblp = dblp.drop(['AKA Name', 'Address','City','State','Location','Historical Wards 2003-2015','Zip Codes','Community Areas','Census Tracts','Wards'], axis=1)\n",
        "dblp.to_csv(r'food_inspections.csv')\n",
        "'''"
      ],
      "execution_count": 103,
      "outputs": [
        {
          "output_type": "execute_result",
          "data": {
            "text/plain": [
              "\"\\nzf = zipfile.ZipFile('chicago-food-inspections.zip')\\ndblp = pd.read_csv(zf.open('chicago-food-inspections/food-inspections.csv'))\\ndblp = dblp.drop(['AKA Name', 'Address','City','State','Location','Historical Wards 2003-2015','Zip Codes','Community Areas','Census Tracts','Wards'], axis=1)\\ndblp.to_csv(r'food_inspections.csv')\\n\""
            ]
          },
          "metadata": {
            "tags": []
          },
          "execution_count": 103
        }
      ]
    },
    {
      "cell_type": "code",
      "metadata": {
        "id": "W-StO1Nyr9h5",
        "colab_type": "code",
        "colab": {
          "base_uri": "https://localhost:8080/",
          "height": 35
        },
        "outputId": "f69787f6-795f-4b8b-dec1-4729c9678e1b"
      },
      "source": [
        "#-- Uncomment this if using Jupyter Lab / Comment this if using Google Colab --#\n",
        "'''\n",
        "zf = zipfile.ZipFile('chicago_dropped.zip')\n",
        "df = pd.read_csv(zf.open('chicago_dropped/food_inspections.csv'))\n",
        "'''"
      ],
      "execution_count": 104,
      "outputs": [
        {
          "output_type": "execute_result",
          "data": {
            "text/plain": [
              "\"\\nzf = zipfile.ZipFile('chicago_dropped.zip')\\ndf = pd.read_csv(zf.open('chicago_dropped/food_inspections.csv'))\\n\""
            ]
          },
          "metadata": {
            "tags": []
          },
          "execution_count": 104
        }
      ]
    },
    {
      "cell_type": "code",
      "metadata": {
        "id": "8yt1F6q7r-9A",
        "colab_type": "code",
        "colab": {}
      },
      "source": [
        "#-- Uncomment this if using Google Colab / Comment this if using Jupyter Lab --# \n",
        "# Code to read csv file into Colaboratory:\n",
        "!pip install -U -q PyDrive\n",
        "from pydrive.auth import GoogleAuth\n",
        "from pydrive.drive import GoogleDrive\n",
        "from google.colab import auth\n",
        "from oauth2client.client import GoogleCredentials\n",
        "# Authenticate and create the PyDrive client.\n",
        "auth.authenticate_user()\n",
        "gauth = GoogleAuth()\n",
        "gauth.credentials = GoogleCredentials.get_application_default()\n",
        "drive = GoogleDrive(gauth)"
      ],
      "execution_count": 0,
      "outputs": []
    },
    {
      "cell_type": "code",
      "metadata": {
        "id": "jHy9hpAStUMi",
        "colab_type": "code",
        "outputId": "08e78319-1560-4f81-e69d-730555d53dd4",
        "colab": {
          "base_uri": "https://localhost:8080/",
          "height": 35
        }
      },
      "source": [
        "#-- Uncomment this if using Google Colab / Comment this if using Jupyter Lab --# \n",
        "link = 'https://drive.google.com/open?id=1TtnQzq_WhnRj7KweW4upOzrC7C3gFpRE' # The shareable link\n",
        "fluff, id = link.split('=')\n",
        "print (id) # Verify that you have everything after '='\n",
        "\n",
        "downloaded = drive.CreateFile({'id':id}) \n",
        "downloaded.GetContentFile('food_inspections.csv')  \n",
        "df = pd.read_csv('food_inspections.csv')\n",
        "\n",
        "# Dataset is now stored in a Pandas Dataframe"
      ],
      "execution_count": 106,
      "outputs": [
        {
          "output_type": "stream",
          "text": [
            "1TtnQzq_WhnRj7KweW4upOzrC7C3gFpRE\n"
          ],
          "name": "stdout"
        }
      ]
    },
    {
      "cell_type": "markdown",
      "metadata": {
        "id": "gqj0Hrh3Loi1",
        "colab_type": "text"
      },
      "source": [
        "# **Preprocessing**"
      ]
    },
    {
      "cell_type": "markdown",
      "metadata": {
        "id": "SEdfP33jr9iD",
        "colab_type": "text"
      },
      "source": [
        "We realized that we will use Facility Type in most of our analysis, so we decided to drop the rows that are missing Facility Type, i.e. NaN valued rows:\n"
      ]
    },
    {
      "cell_type": "code",
      "metadata": {
        "id": "wPYufzBer9iA",
        "colab_type": "code",
        "outputId": "4d87af1d-7b78-4620-91a7-b74c3bd45d6a",
        "colab": {
          "base_uri": "https://localhost:8080/",
          "height": 52
        }
      },
      "source": [
        "# Cleaning the data set: removing NaN valued rows in Facility Type\n",
        "print(\"Number of rows before removing NaNs: \" + str(df['Facility Type'].size))\n",
        "print(\"Number of rows after removing NaNs: \" + str(df['Facility Type'].dropna().size))\n",
        "df.reset_index(drop=True, inplace=True)"
      ],
      "execution_count": 107,
      "outputs": [
        {
          "output_type": "stream",
          "text": [
            "Number of rows before removing NaNs: 196030\n",
            "Number of rows after removing NaNs: 191258\n"
          ],
          "name": "stdout"
        }
      ]
    },
    {
      "cell_type": "markdown",
      "metadata": {
        "id": "drw-tZwuLzE4",
        "colab_type": "text"
      },
      "source": [
        "We decided to remove the rows that have \"Not Ready\" as their Results value, since this value cannot be categorized as fail/pass:"
      ]
    },
    {
      "cell_type": "code",
      "metadata": {
        "id": "5gij1L5pr9iE",
        "colab_type": "code",
        "outputId": "48021d69-3e65-4d01-e6fa-4978e7143c3a",
        "colab": {
          "base_uri": "https://localhost:8080/",
          "height": 52
        }
      },
      "source": [
        "# Cleaning the data set: removing the rows with \"Not Ready\" as their Results value\n",
        "print(\"Number of rows before removing Not Ready values: \" + str(df.size))\n",
        "df = df[~df.Results.str.contains(\"Not Ready\")]\n",
        "print(\"Number of rows after removing Not Ready values: \" + str(df.size))"
      ],
      "execution_count": 108,
      "outputs": [
        {
          "output_type": "stream",
          "text": [
            "Number of rows before removing Not Ready values: 2548390\n",
            "Number of rows after removing Not Ready values: 2523898\n"
          ],
          "name": "stdout"
        }
      ]
    },
    {
      "cell_type": "code",
      "metadata": {
        "id": "lmtxzbbTr9iH",
        "colab_type": "code",
        "outputId": "6f0d1ed2-c8a2-40d1-ee45-596e6f76b716",
        "colab": {
          "base_uri": "https://localhost:8080/",
          "height": 621
        }
      },
      "source": [
        "# Data set after the preprocessing operations above\n",
        "df.reset_index().head()"
      ],
      "execution_count": 109,
      "outputs": [
        {
          "output_type": "execute_result",
          "data": {
            "text/html": [
              "<div>\n",
              "<style scoped>\n",
              "    .dataframe tbody tr th:only-of-type {\n",
              "        vertical-align: middle;\n",
              "    }\n",
              "\n",
              "    .dataframe tbody tr th {\n",
              "        vertical-align: top;\n",
              "    }\n",
              "\n",
              "    .dataframe thead th {\n",
              "        text-align: right;\n",
              "    }\n",
              "</style>\n",
              "<table border=\"1\" class=\"dataframe\">\n",
              "  <thead>\n",
              "    <tr style=\"text-align: right;\">\n",
              "      <th></th>\n",
              "      <th>index</th>\n",
              "      <th>Unnamed: 0</th>\n",
              "      <th>Inspection ID</th>\n",
              "      <th>DBA Name</th>\n",
              "      <th>License #</th>\n",
              "      <th>Facility Type</th>\n",
              "      <th>Risk</th>\n",
              "      <th>Zip</th>\n",
              "      <th>Inspection Date</th>\n",
              "      <th>Inspection Type</th>\n",
              "      <th>Results</th>\n",
              "      <th>Violations</th>\n",
              "      <th>Latitude</th>\n",
              "      <th>Longitude</th>\n",
              "    </tr>\n",
              "  </thead>\n",
              "  <tbody>\n",
              "    <tr>\n",
              "      <th>0</th>\n",
              "      <td>0</td>\n",
              "      <td>0</td>\n",
              "      <td>2345787</td>\n",
              "      <td>CARNICERIA LEON GUANAJUATO, INC.</td>\n",
              "      <td>1821637.0</td>\n",
              "      <td>Grocery Store</td>\n",
              "      <td>Risk 1 (High)</td>\n",
              "      <td>60639.0</td>\n",
              "      <td>2019-11-18T00:00:00.000</td>\n",
              "      <td>Canvass</td>\n",
              "      <td>Fail</td>\n",
              "      <td>3. MANAGEMENT, FOOD EMPLOYEE AND CONDITIONAL E...</td>\n",
              "      <td>41.916960</td>\n",
              "      <td>-87.733945</td>\n",
              "    </tr>\n",
              "    <tr>\n",
              "      <th>1</th>\n",
              "      <td>1</td>\n",
              "      <td>1</td>\n",
              "      <td>2345790</td>\n",
              "      <td>AMSTAR FUEL &amp; MINI MART</td>\n",
              "      <td>1426374.0</td>\n",
              "      <td>Grocery Store</td>\n",
              "      <td>Risk 2 (Medium)</td>\n",
              "      <td>60651.0</td>\n",
              "      <td>2019-11-18T00:00:00.000</td>\n",
              "      <td>Canvass</td>\n",
              "      <td>Pass</td>\n",
              "      <td>55. PHYSICAL FACILITIES INSTALLED, MAINTAINED ...</td>\n",
              "      <td>41.895304</td>\n",
              "      <td>-87.721129</td>\n",
              "    </tr>\n",
              "    <tr>\n",
              "      <th>2</th>\n",
              "      <td>2</td>\n",
              "      <td>2</td>\n",
              "      <td>2345766</td>\n",
              "      <td>ROJO GUSANO</td>\n",
              "      <td>1305286.0</td>\n",
              "      <td>Restaurant</td>\n",
              "      <td>Risk 1 (High)</td>\n",
              "      <td>60625.0</td>\n",
              "      <td>2019-11-18T00:00:00.000</td>\n",
              "      <td>Canvass</td>\n",
              "      <td>Fail</td>\n",
              "      <td>3. MANAGEMENT, FOOD EMPLOYEE AND CONDITIONAL E...</td>\n",
              "      <td>41.968390</td>\n",
              "      <td>-87.724448</td>\n",
              "    </tr>\n",
              "    <tr>\n",
              "      <th>3</th>\n",
              "      <td>3</td>\n",
              "      <td>3</td>\n",
              "      <td>2345702</td>\n",
              "      <td>LAKESIDE FOOD WINE SPIRITS LLC</td>\n",
              "      <td>2694148.0</td>\n",
              "      <td>Grocery Store</td>\n",
              "      <td>Risk 3 (Low)</td>\n",
              "      <td>60614.0</td>\n",
              "      <td>2019-11-15T00:00:00.000</td>\n",
              "      <td>License Re-Inspection</td>\n",
              "      <td>Pass w/ Conditions</td>\n",
              "      <td>5. PROCEDURES FOR RESPONDING TO VOMITING AND D...</td>\n",
              "      <td>41.929210</td>\n",
              "      <td>-87.648746</td>\n",
              "    </tr>\n",
              "    <tr>\n",
              "      <th>4</th>\n",
              "      <td>4</td>\n",
              "      <td>4</td>\n",
              "      <td>2345678</td>\n",
              "      <td>NEW KNOWLEDGE LEARNING CENTER, INC.</td>\n",
              "      <td>2215898.0</td>\n",
              "      <td>Children's Services Facility</td>\n",
              "      <td>Risk 1 (High)</td>\n",
              "      <td>60652.0</td>\n",
              "      <td>2019-11-15T00:00:00.000</td>\n",
              "      <td>License</td>\n",
              "      <td>Pass</td>\n",
              "      <td>53. TOILET FACILITIES: PROPERLY CONSTRUCTED, S...</td>\n",
              "      <td>41.739458</td>\n",
              "      <td>-87.702257</td>\n",
              "    </tr>\n",
              "  </tbody>\n",
              "</table>\n",
              "</div>"
            ],
            "text/plain": [
              "   index  Unnamed: 0  ...   Latitude  Longitude\n",
              "0      0           0  ...  41.916960 -87.733945\n",
              "1      1           1  ...  41.895304 -87.721129\n",
              "2      2           2  ...  41.968390 -87.724448\n",
              "3      3           3  ...  41.929210 -87.648746\n",
              "4      4           4  ...  41.739458 -87.702257\n",
              "\n",
              "[5 rows x 14 columns]"
            ]
          },
          "metadata": {
            "tags": []
          },
          "execution_count": 109
        }
      ]
    },
    {
      "cell_type": "markdown",
      "metadata": {
        "id": "9kXYokaeMLcJ",
        "colab_type": "text"
      },
      "source": [
        "We removed the rows that have any value of Risk other than 1-3 and converted Risk values to only a numeric value:"
      ]
    },
    {
      "cell_type": "code",
      "metadata": {
        "id": "HqZ9JipUr9iL",
        "colab_type": "code",
        "outputId": "500bcc50-714d-41e4-ad96-ef0a3aef1ea4",
        "colab": {
          "base_uri": "https://localhost:8080/",
          "height": 621
        }
      },
      "source": [
        "# Cleaning the data set: removing rows with Risk value other than 1-3\n",
        "df = df[df.Risk.str.contains(\"[1-3]\",na=False)]\n",
        "# Converting Risk value to numeric\n",
        "df['Risk'] = df.Risk.apply(lambda x: int(x.strip('Risk')[1]))\n",
        "df.head()"
      ],
      "execution_count": 110,
      "outputs": [
        {
          "output_type": "execute_result",
          "data": {
            "text/html": [
              "<div>\n",
              "<style scoped>\n",
              "    .dataframe tbody tr th:only-of-type {\n",
              "        vertical-align: middle;\n",
              "    }\n",
              "\n",
              "    .dataframe tbody tr th {\n",
              "        vertical-align: top;\n",
              "    }\n",
              "\n",
              "    .dataframe thead th {\n",
              "        text-align: right;\n",
              "    }\n",
              "</style>\n",
              "<table border=\"1\" class=\"dataframe\">\n",
              "  <thead>\n",
              "    <tr style=\"text-align: right;\">\n",
              "      <th></th>\n",
              "      <th>Unnamed: 0</th>\n",
              "      <th>Inspection ID</th>\n",
              "      <th>DBA Name</th>\n",
              "      <th>License #</th>\n",
              "      <th>Facility Type</th>\n",
              "      <th>Risk</th>\n",
              "      <th>Zip</th>\n",
              "      <th>Inspection Date</th>\n",
              "      <th>Inspection Type</th>\n",
              "      <th>Results</th>\n",
              "      <th>Violations</th>\n",
              "      <th>Latitude</th>\n",
              "      <th>Longitude</th>\n",
              "    </tr>\n",
              "  </thead>\n",
              "  <tbody>\n",
              "    <tr>\n",
              "      <th>0</th>\n",
              "      <td>0</td>\n",
              "      <td>2345787</td>\n",
              "      <td>CARNICERIA LEON GUANAJUATO, INC.</td>\n",
              "      <td>1821637.0</td>\n",
              "      <td>Grocery Store</td>\n",
              "      <td>1</td>\n",
              "      <td>60639.0</td>\n",
              "      <td>2019-11-18T00:00:00.000</td>\n",
              "      <td>Canvass</td>\n",
              "      <td>Fail</td>\n",
              "      <td>3. MANAGEMENT, FOOD EMPLOYEE AND CONDITIONAL E...</td>\n",
              "      <td>41.916960</td>\n",
              "      <td>-87.733945</td>\n",
              "    </tr>\n",
              "    <tr>\n",
              "      <th>1</th>\n",
              "      <td>1</td>\n",
              "      <td>2345790</td>\n",
              "      <td>AMSTAR FUEL &amp; MINI MART</td>\n",
              "      <td>1426374.0</td>\n",
              "      <td>Grocery Store</td>\n",
              "      <td>2</td>\n",
              "      <td>60651.0</td>\n",
              "      <td>2019-11-18T00:00:00.000</td>\n",
              "      <td>Canvass</td>\n",
              "      <td>Pass</td>\n",
              "      <td>55. PHYSICAL FACILITIES INSTALLED, MAINTAINED ...</td>\n",
              "      <td>41.895304</td>\n",
              "      <td>-87.721129</td>\n",
              "    </tr>\n",
              "    <tr>\n",
              "      <th>2</th>\n",
              "      <td>2</td>\n",
              "      <td>2345766</td>\n",
              "      <td>ROJO GUSANO</td>\n",
              "      <td>1305286.0</td>\n",
              "      <td>Restaurant</td>\n",
              "      <td>1</td>\n",
              "      <td>60625.0</td>\n",
              "      <td>2019-11-18T00:00:00.000</td>\n",
              "      <td>Canvass</td>\n",
              "      <td>Fail</td>\n",
              "      <td>3. MANAGEMENT, FOOD EMPLOYEE AND CONDITIONAL E...</td>\n",
              "      <td>41.968390</td>\n",
              "      <td>-87.724448</td>\n",
              "    </tr>\n",
              "    <tr>\n",
              "      <th>3</th>\n",
              "      <td>3</td>\n",
              "      <td>2345702</td>\n",
              "      <td>LAKESIDE FOOD WINE SPIRITS LLC</td>\n",
              "      <td>2694148.0</td>\n",
              "      <td>Grocery Store</td>\n",
              "      <td>3</td>\n",
              "      <td>60614.0</td>\n",
              "      <td>2019-11-15T00:00:00.000</td>\n",
              "      <td>License Re-Inspection</td>\n",
              "      <td>Pass w/ Conditions</td>\n",
              "      <td>5. PROCEDURES FOR RESPONDING TO VOMITING AND D...</td>\n",
              "      <td>41.929210</td>\n",
              "      <td>-87.648746</td>\n",
              "    </tr>\n",
              "    <tr>\n",
              "      <th>4</th>\n",
              "      <td>4</td>\n",
              "      <td>2345678</td>\n",
              "      <td>NEW KNOWLEDGE LEARNING CENTER, INC.</td>\n",
              "      <td>2215898.0</td>\n",
              "      <td>Children's Services Facility</td>\n",
              "      <td>1</td>\n",
              "      <td>60652.0</td>\n",
              "      <td>2019-11-15T00:00:00.000</td>\n",
              "      <td>License</td>\n",
              "      <td>Pass</td>\n",
              "      <td>53. TOILET FACILITIES: PROPERLY CONSTRUCTED, S...</td>\n",
              "      <td>41.739458</td>\n",
              "      <td>-87.702257</td>\n",
              "    </tr>\n",
              "  </tbody>\n",
              "</table>\n",
              "</div>"
            ],
            "text/plain": [
              "   Unnamed: 0  Inspection ID  ...   Latitude  Longitude\n",
              "0           0        2345787  ...  41.916960 -87.733945\n",
              "1           1        2345790  ...  41.895304 -87.721129\n",
              "2           2        2345766  ...  41.968390 -87.724448\n",
              "3           3        2345702  ...  41.929210 -87.648746\n",
              "4           4        2345678  ...  41.739458 -87.702257\n",
              "\n",
              "[5 rows x 13 columns]"
            ]
          },
          "metadata": {
            "tags": []
          },
          "execution_count": 110
        }
      ]
    },
    {
      "cell_type": "markdown",
      "metadata": {
        "id": "rwciHwtmNDoj",
        "colab_type": "text"
      },
      "source": [
        "We removed the parantheses in Facility Type entries, as some entries can be unified into the same category this way, such as (restaurant) and restaurant:"
      ]
    },
    {
      "cell_type": "code",
      "metadata": {
        "id": "jJ9IpYFqr9iN",
        "colab_type": "code",
        "colab": {}
      },
      "source": [
        "# More preprocessing: removing the parantheses in Facility Type entries\n",
        "df['Facility Type'] = df['Facility Type'].str.lower()\n",
        "df['Facility Type'] = df['Facility Type'].str.replace('[()]', '')"
      ],
      "execution_count": 0,
      "outputs": []
    },
    {
      "cell_type": "code",
      "metadata": {
        "id": "RhfP-SNZr9iP",
        "colab_type": "code",
        "outputId": "d7fadada-b9a2-44a9-d484-12f5de08c3b4",
        "colab": {
          "base_uri": "https://localhost:8080/",
          "height": 55
        }
      },
      "source": [
        "#TODO : Grocery Store and Restaurant are going to be unified\n",
        "'''\n",
        "dp = df[df['Facility Type'].str.contains(\"grocery\") & df['Facility Type'].str.contains(\"restaurant\")]\n",
        "dp.loc[:,'Facility Type'] = 'grocery and restaurant'\n",
        "df = df[~df['Facility Type'].str.contains(\"grocery\") & df['Facility Type'].str.contains(\"restaurant\")]\n",
        "'''\n",
        "#df = df.append(dp,ignore_index=False)\n"
      ],
      "execution_count": 112,
      "outputs": [
        {
          "output_type": "execute_result",
          "data": {
            "text/plain": [
              "'\\ndp = df[df[\\'Facility Type\\'].str.contains(\"grocery\") & df[\\'Facility Type\\'].str.contains(\"restaurant\")]\\ndp.loc[:,\\'Facility Type\\'] = \\'grocery and restaurant\\'\\ndf = df[~df[\\'Facility Type\\'].str.contains(\"grocery\") & df[\\'Facility Type\\'].str.contains(\"restaurant\")]\\n'"
            ]
          },
          "metadata": {
            "tags": []
          },
          "execution_count": 112
        }
      ]
    },
    {
      "cell_type": "markdown",
      "metadata": {
        "id": "N_D_0xcgOQgx",
        "colab_type": "text"
      },
      "source": [
        "# **Data Analysis**"
      ]
    },
    {
      "cell_type": "markdown",
      "metadata": {
        "id": "Z8_DWQ9xr9iW",
        "colab_type": "text"
      },
      "source": [
        "### **Facility Type vs. Average Risk**\n"
      ]
    },
    {
      "cell_type": "markdown",
      "metadata": {
        "id": "2NYPWCi6PEV0",
        "colab_type": "text"
      },
      "source": [
        "We analyzed the relationship between the type of facility and the average risk of that facility over all inspections:"
      ]
    },
    {
      "cell_type": "code",
      "metadata": {
        "id": "rj-CxjLpr9iR",
        "colab_type": "code",
        "colab": {}
      },
      "source": [
        "# Aggregate data over Facility Type\n",
        "grouped_fac = df.groupby('Facility Type')"
      ],
      "execution_count": 0,
      "outputs": []
    },
    {
      "cell_type": "code",
      "metadata": {
        "id": "9EsVpnqxr9iT",
        "colab_type": "code",
        "outputId": "24613ad7-c06e-41e7-caaa-7925bb3cd6ea",
        "colab": {
          "base_uri": "https://localhost:8080/",
          "height": 202
        }
      },
      "source": [
        "# Compute average risk of each type of facility\n",
        "grouped_fac_risk_mean = pd.DataFrame(grouped_fac['Risk'].mean()).reset_index()\n",
        "grouped_fac_risk_mean.head()"
      ],
      "execution_count": 114,
      "outputs": [
        {
          "output_type": "execute_result",
          "data": {
            "text/html": [
              "<div>\n",
              "<style scoped>\n",
              "    .dataframe tbody tr th:only-of-type {\n",
              "        vertical-align: middle;\n",
              "    }\n",
              "\n",
              "    .dataframe tbody tr th {\n",
              "        vertical-align: top;\n",
              "    }\n",
              "\n",
              "    .dataframe thead th {\n",
              "        text-align: right;\n",
              "    }\n",
              "</style>\n",
              "<table border=\"1\" class=\"dataframe\">\n",
              "  <thead>\n",
              "    <tr style=\"text-align: right;\">\n",
              "      <th></th>\n",
              "      <th>Facility Type</th>\n",
              "      <th>Risk</th>\n",
              "    </tr>\n",
              "  </thead>\n",
              "  <tbody>\n",
              "    <tr>\n",
              "      <th>0</th>\n",
              "      <td>1005 nursing home</td>\n",
              "      <td>1.0</td>\n",
              "    </tr>\n",
              "    <tr>\n",
              "      <th>1</th>\n",
              "      <td>1023</td>\n",
              "      <td>1.0</td>\n",
              "    </tr>\n",
              "    <tr>\n",
              "      <th>2</th>\n",
              "      <td>1023 childern's service facility</td>\n",
              "      <td>1.0</td>\n",
              "    </tr>\n",
              "    <tr>\n",
              "      <th>3</th>\n",
              "      <td>1023 childern's service s facility</td>\n",
              "      <td>1.0</td>\n",
              "    </tr>\n",
              "    <tr>\n",
              "      <th>4</th>\n",
              "      <td>1023 childern's services facility</td>\n",
              "      <td>1.0</td>\n",
              "    </tr>\n",
              "  </tbody>\n",
              "</table>\n",
              "</div>"
            ],
            "text/plain": [
              "                        Facility Type  Risk\n",
              "0                   1005 nursing home   1.0\n",
              "1                                1023   1.0\n",
              "2    1023 childern's service facility   1.0\n",
              "3  1023 childern's service s facility   1.0\n",
              "4   1023 childern's services facility   1.0"
            ]
          },
          "metadata": {
            "tags": []
          },
          "execution_count": 114
        }
      ]
    },
    {
      "cell_type": "code",
      "metadata": {
        "id": "dCJRNes4PwB1",
        "colab_type": "code",
        "colab": {}
      },
      "source": [
        "# TODO: unify the entries with 1023 as one type of facility"
      ],
      "execution_count": 0,
      "outputs": []
    },
    {
      "cell_type": "code",
      "metadata": {
        "scrolled": true,
        "id": "UTR_QVrtr9iX",
        "colab_type": "code",
        "outputId": "2622ba1d-af0a-4e3c-9b14-fddd203c949b",
        "colab": {
          "base_uri": "https://localhost:8080/",
          "height": 433
        }
      },
      "source": [
        "# Compute number of facilities in each type of facility\n",
        "fac_dist = pd.DataFrame(grouped_fac.count()['Risk']).rename(columns={'Risk':'Counts'}).sort_values(by='Counts',ascending=False).reset_index()\n",
        "print(\"Number of different types of facilities :\" + str(fac_dist.size))\n",
        "fac_dist.head(100)"
      ],
      "execution_count": 116,
      "outputs": [
        {
          "output_type": "stream",
          "text": [
            "Number of different types of facilities :868\n"
          ],
          "name": "stdout"
        },
        {
          "output_type": "execute_result",
          "data": {
            "text/html": [
              "<div>\n",
              "<style scoped>\n",
              "    .dataframe tbody tr th:only-of-type {\n",
              "        vertical-align: middle;\n",
              "    }\n",
              "\n",
              "    .dataframe tbody tr th {\n",
              "        vertical-align: top;\n",
              "    }\n",
              "\n",
              "    .dataframe thead th {\n",
              "        text-align: right;\n",
              "    }\n",
              "</style>\n",
              "<table border=\"1\" class=\"dataframe\">\n",
              "  <thead>\n",
              "    <tr style=\"text-align: right;\">\n",
              "      <th></th>\n",
              "      <th>Facility Type</th>\n",
              "      <th>Counts</th>\n",
              "    </tr>\n",
              "  </thead>\n",
              "  <tbody>\n",
              "    <tr>\n",
              "      <th>0</th>\n",
              "      <td>restaurant</td>\n",
              "      <td>129462</td>\n",
              "    </tr>\n",
              "    <tr>\n",
              "      <th>1</th>\n",
              "      <td>grocery store</td>\n",
              "      <td>24677</td>\n",
              "    </tr>\n",
              "    <tr>\n",
              "      <th>2</th>\n",
              "      <td>school</td>\n",
              "      <td>12131</td>\n",
              "    </tr>\n",
              "    <tr>\n",
              "      <th>3</th>\n",
              "      <td>children's services facility</td>\n",
              "      <td>3064</td>\n",
              "    </tr>\n",
              "    <tr>\n",
              "      <th>4</th>\n",
              "      <td>bakery</td>\n",
              "      <td>2836</td>\n",
              "    </tr>\n",
              "    <tr>\n",
              "      <th>...</th>\n",
              "      <td>...</td>\n",
              "      <td>...</td>\n",
              "    </tr>\n",
              "    <tr>\n",
              "      <th>95</th>\n",
              "      <td>custom poultry slaughter</td>\n",
              "      <td>12</td>\n",
              "    </tr>\n",
              "    <tr>\n",
              "      <th>96</th>\n",
              "      <td>gas station/store</td>\n",
              "      <td>12</td>\n",
              "    </tr>\n",
              "    <tr>\n",
              "      <th>97</th>\n",
              "      <td>riverwalk</td>\n",
              "      <td>12</td>\n",
              "    </tr>\n",
              "    <tr>\n",
              "      <th>98</th>\n",
              "      <td>employee kitchen</td>\n",
              "      <td>12</td>\n",
              "    </tr>\n",
              "    <tr>\n",
              "      <th>99</th>\n",
              "      <td>grocery and butcher</td>\n",
              "      <td>12</td>\n",
              "    </tr>\n",
              "  </tbody>\n",
              "</table>\n",
              "<p>100 rows × 2 columns</p>\n",
              "</div>"
            ],
            "text/plain": [
              "                   Facility Type  Counts\n",
              "0                     restaurant  129462\n",
              "1                  grocery store   24677\n",
              "2                         school   12131\n",
              "3   children's services facility    3064\n",
              "4                         bakery    2836\n",
              "..                           ...     ...\n",
              "95      custom poultry slaughter      12\n",
              "96             gas station/store      12\n",
              "97                     riverwalk      12\n",
              "98              employee kitchen      12\n",
              "99           grocery and butcher      12\n",
              "\n",
              "[100 rows x 2 columns]"
            ]
          },
          "metadata": {
            "tags": []
          },
          "execution_count": 116
        }
      ]
    },
    {
      "cell_type": "markdown",
      "metadata": {
        "id": "ZBPvbW_CYMPj",
        "colab_type": "text"
      },
      "source": [
        "When we plotted the number of facilities in each type of facility vs. their average risk score, we observed no correlation between the two. We observed that the facility type with the highest number of facilities (i.e. restaurant) has a very high average risk score:"
      ]
    },
    {
      "cell_type": "code",
      "metadata": {
        "id": "byAJr65ir9iZ",
        "colab_type": "code",
        "outputId": "a758f72e-aef8-4a0d-feb5-ada3df0ec9ff",
        "colab": {
          "base_uri": "https://localhost:8080/",
          "height": 297
        }
      },
      "source": [
        "# Perform inner merge on number of facilities and their risk scores \n",
        "merged_inner = pd.merge(left=fac_dist,right=grouped_fac_risk_mean,left_on='Facility Type',right_on='Facility Type')\n",
        "# Scatter plot: number of facilities in each type (i.e. facility type) vs. average risk score\n",
        "merged_inner.plot.scatter(x='Counts',y='Risk')"
      ],
      "execution_count": 117,
      "outputs": [
        {
          "output_type": "execute_result",
          "data": {
            "text/plain": [
              "<matplotlib.axes._subplots.AxesSubplot at 0x7f694ec91f60>"
            ]
          },
          "metadata": {
            "tags": []
          },
          "execution_count": 117
        },
        {
          "output_type": "display_data",
          "data": {
            "image/png": "[encoded data removed]",
            "text/plain": [
              "<Figure size 432x288 with 1 Axes>"
            ]
          },
          "metadata": {
            "tags": []
          }
        }
      ]
    },
    {
      "cell_type": "markdown",
      "metadata": {
        "id": "8-RqdwUPr9id",
        "colab_type": "text"
      },
      "source": [
        "We realized that the dataset is unbalanced in terms of number of Facility Types, where there are some Facility Types with very few instances. The types of facilities with very few instances would provide us with little to no information. Hence, we decided to analyze the 50 most frequent type of facilities and drop the others:"
      ]
    },
    {
      "cell_type": "code",
      "metadata": {
        "id": "8OU47lhMr9ie",
        "colab_type": "code",
        "outputId": "3f1b94e2-a173-4821-fe48-98a096f82776",
        "colab": {
          "base_uri": "https://localhost:8080/",
          "height": 52
        }
      },
      "source": [
        "print(\"Number of entries before removing facility types with few instances: \" + str(df.size))\n",
        "df = df[df['Facility Type'].isin(list(fac_dist['Facility Type'])[:50])]\n",
        "print(\"Number of entries after removing facility types with few instances: \" + str(df.size))"
      ],
      "execution_count": 118,
      "outputs": [
        {
          "output_type": "stream",
          "text": [
            "Number of entries before removing facility types with few instances: 2523014\n",
            "Number of entries after removing facility types with few instances: 2434458\n"
          ],
          "name": "stdout"
        }
      ]
    },
    {
      "cell_type": "markdown",
      "metadata": {
        "id": "DZzu7EOQr9ig",
        "colab_type": "text"
      },
      "source": [
        "As we can see from the code above, there are around 20 thousand facilities that dont have as much inspections as the others. As a result, data set is more balanced now"
      ]
    },
    {
      "cell_type": "code",
      "metadata": {
        "id": "E80y45xOr9ih",
        "colab_type": "code",
        "colab": {
          "base_uri": "https://localhost:8080/",
          "height": 35
        },
        "outputId": "870e4c4c-3327-4a02-ce65-847fd799caf6"
      },
      "source": [
        "# Out of business facilities\n",
        "df_oob = df[df.Results.str.contains(\"Out of Business\",na=False)]\n",
        "df_oob\n",
        "# Grouped by the facilities\n",
        "df_oob_unique = df_oob.groupby(['Latitude','Longitude','DBA Name']).count()\n",
        "df_oob_unique.shape"
      ],
      "execution_count": 119,
      "outputs": [
        {
          "output_type": "execute_result",
          "data": {
            "text/plain": [
              "(11689, 10)"
            ]
          },
          "metadata": {
            "tags": []
          },
          "execution_count": 119
        }
      ]
    },
    {
      "cell_type": "markdown",
      "metadata": {
        "id": "-nJM5570tGrV",
        "colab_type": "text"
      },
      "source": [
        "We mapped the facilities that have gone out of business to identify any possible pattern:"
      ]
    },
    {
      "cell_type": "code",
      "metadata": {
        "id": "48p6tnK6r9ik",
        "colab_type": "code",
        "colab": {}
      },
      "source": [
        "# Map the facilities that have gone out of business \n",
        "map_oob = folium.Map(\n",
        "    location=[41.8781, -87.6298],\n",
        "    zoom_start=9\n",
        ")\n",
        "\n",
        "marker_cluster = MarkerCluster().add_to(map_oob)\n",
        "ranges = 0\n",
        "for i in df_oob_unique.index:\n",
        "    if ranges == 3000:\n",
        "        break\n",
        "    folium.Marker([(i[0]), (i[1])]).add_to(marker_cluster)        \n",
        "    ranges = ranges + 1\n",
        "\n",
        "map_oob"
      ],
      "execution_count": 0,
      "outputs": []
    },
    {
      "cell_type": "code",
      "metadata": {
        "id": "5oPntwPCr9ir",
        "colab_type": "code",
        "colab": {}
      },
      "source": [
        "# Calculate risk mean of each facility\n",
        "df_avg_risk_score = df.groupby(['Latitude','Longitude','DBA Name'])['Risk'].mean()"
      ],
      "execution_count": 0,
      "outputs": []
    },
    {
      "cell_type": "markdown",
      "metadata": {
        "id": "_J6Ty7thtdFo",
        "colab_type": "text"
      },
      "source": [
        "We mapped the average risk score of facilities to identify any possible pattern:"
      ]
    },
    {
      "cell_type": "code",
      "metadata": {
        "id": "xm69-CXir9iw",
        "colab_type": "code",
        "colab": {}
      },
      "source": [
        "# Map the average risk score of facilities, where red indicates high risk, orange indicates medium risk, and green indicates low risk\n",
        "map_risk = folium.Map(\n",
        "    location=[41.8781, -87.6298],\n",
        "    zoom_start=9\n",
        ")\n",
        "\n",
        "ranges = 0\n",
        "for i in df_avg_risk_score.index:\n",
        "    if ranges == 1000:\n",
        "        break\n",
        "    if(round(df_avg_risk_score[i]) == 1):\n",
        "        folium.Marker([(i[0]), (i[1])],icon=folium.Icon(color='red')).add_to(map_risk)\n",
        "    elif(round(df_avg_risk_score[i]) == 2):\n",
        "        folium.Marker([(i[0]), (i[1])],icon=folium.Icon(color='orange')).add_to(map_risk)\n",
        "    elif(round(df_avg_risk_score[i]) == 3):\n",
        "        folium.Marker([(i[0]), (i[1])],icon=folium.Icon(color='green')).add_to(map_risk)       \n",
        "    ranges = ranges + 1\n",
        "\n",
        "map_risk"
      ],
      "execution_count": 0,
      "outputs": []
    },
    {
      "cell_type": "markdown",
      "metadata": {
        "id": "gedBg9DbwYnV",
        "colab_type": "text"
      },
      "source": [
        "We plotted the number of inspections vs. the average risk score of each facility to identify any possible correlation between the two. We observed the there is a negative correlation between the number of inspections and the average risk of the facility:"
      ]
    },
    {
      "cell_type": "code",
      "metadata": {
        "id": "SliEvDVHr9iz",
        "colab_type": "code",
        "outputId": "90dc13cf-f515-47ac-e199-2d369ae9a5a9",
        "colab": {
          "base_uri": "https://localhost:8080/",
          "height": 297
        }
      },
      "source": [
        "# Scatter plot on the number of inspections vs. the average risk score\n",
        "df_unique = pd.DataFrame(df.groupby(['Latitude','Longitude','DBA Name']).count()['Risk']).rename(columns={'Risk':'Number of Inspections'})\n",
        "merged = pd.merge(left=df_avg_risk_score.reset_index(),right=df_unique.reset_index(),left_on=['Latitude','Longitude','DBA Name'],right_on=['Latitude','Longitude','DBA Name'])\n",
        "merged.plot.scatter(x='Risk', y='Number of Inspections')"
      ],
      "execution_count": 131,
      "outputs": [
        {
          "output_type": "execute_result",
          "data": {
            "text/plain": [
              "<matplotlib.axes._subplots.AxesSubplot at 0x7f6948f3d668>"
            ]
          },
          "metadata": {
            "tags": []
          },
          "execution_count": 131
        },
        {
          "output_type": "display_data",
          "data": {
            "image/png": "[encoded data removed]",
            "text/plain": [
              "<Figure size 432x288 with 1 Axes>"
            ]
          },
          "metadata": {
            "tags": []
          }
        }
      ]
    },
    {
      "cell_type": "code",
      "metadata": {
        "id": "4SBlvLrKr9i0",
        "colab_type": "code",
        "outputId": "2d58f814-9767-4bab-a822-ad4e7ee4d60a",
        "colab": {
          "base_uri": "https://localhost:8080/",
          "height": 55
        }
      },
      "source": [
        "#counts >= 5 olacak şekilde yapılcak\n",
        "#BUNDA CORRELATİIN GÖRMEDİK\n",
        "#INSPECTION COUNTU FAZLA OLANLARI ALDIK\n",
        "'''\n",
        "df_u_sorted = df_unique.sort_values(by='Counts',ascending=False).reset_index().head(1100)\n",
        "df_u_sorted[df_u_sorted['Counts'].isin(list(df_u_sorted['Counts'])[:1100])]\n",
        "merged = pd.merge(left=df_avg_risk_score.reset_index(),right=df_u_sorted,left_on=['Latitude','Longitude','DBA Name'],right_on=['Latitude','Longitude','DBA Name'])\n",
        "merged\n",
        "merged.plot.scatter(x='Risk',y='Counts')\n",
        "'''"
      ],
      "execution_count": 124,
      "outputs": [
        {
          "output_type": "execute_result",
          "data": {
            "text/plain": [
              "\"\\ndf_u_sorted = df_unique.sort_values(by='Counts',ascending=False).reset_index().head(1100)\\ndf_u_sorted[df_u_sorted['Counts'].isin(list(df_u_sorted['Counts'])[:1100])]\\nmerged = pd.merge(left=df_avg_risk_score.reset_index(),right=df_u_sorted,left_on=['Latitude','Longitude','DBA Name'],right_on=['Latitude','Longitude','DBA Name'])\\nmerged\\nmerged.plot.scatter(x='Risk',y='Counts')\\n\""
            ]
          },
          "metadata": {
            "tags": []
          },
          "execution_count": 124
        }
      ]
    },
    {
      "cell_type": "markdown",
      "metadata": {
        "id": "WYaFos2Ir9i4",
        "colab_type": "text"
      },
      "source": [
        "We observed that the number of risk 3 facilities are lower than the others. Hence, we decided to plot average risk scores vs number of facilities."
      ]
    },
    {
      "cell_type": "markdown",
      "metadata": {
        "id": "VT4v4wC_yRha",
        "colab_type": "text"
      },
      "source": [
        "We observed a moderate positive correlation between the number of inspections and average level of risk of the facility (since Risk 1 means high risk and Risk 3 means low risk):"
      ]
    },
    {
      "cell_type": "code",
      "metadata": {
        "id": "DTX2ONt9w7V8",
        "colab_type": "code",
        "outputId": "a551ff71-47e6-4da2-811e-ce0982ab3108",
        "colab": {
          "base_uri": "https://localhost:8080/",
          "height": 110
        }
      },
      "source": [
        "merged[['Risk', 'Counts']].corr(method='pearson')"
      ],
      "execution_count": 125,
      "outputs": [
        {
          "output_type": "execute_result",
          "data": {
            "text/html": [
              "<div>\n",
              "<style scoped>\n",
              "    .dataframe tbody tr th:only-of-type {\n",
              "        vertical-align: middle;\n",
              "    }\n",
              "\n",
              "    .dataframe tbody tr th {\n",
              "        vertical-align: top;\n",
              "    }\n",
              "\n",
              "    .dataframe thead th {\n",
              "        text-align: right;\n",
              "    }\n",
              "</style>\n",
              "<table border=\"1\" class=\"dataframe\">\n",
              "  <thead>\n",
              "    <tr style=\"text-align: right;\">\n",
              "      <th></th>\n",
              "      <th>Risk</th>\n",
              "      <th>Counts</th>\n",
              "    </tr>\n",
              "  </thead>\n",
              "  <tbody>\n",
              "    <tr>\n",
              "      <th>Risk</th>\n",
              "      <td>1.000000</td>\n",
              "      <td>-0.376107</td>\n",
              "    </tr>\n",
              "    <tr>\n",
              "      <th>Counts</th>\n",
              "      <td>-0.376107</td>\n",
              "      <td>1.000000</td>\n",
              "    </tr>\n",
              "  </tbody>\n",
              "</table>\n",
              "</div>"
            ],
            "text/plain": [
              "            Risk    Counts\n",
              "Risk    1.000000 -0.376107\n",
              "Counts -0.376107  1.000000"
            ]
          },
          "metadata": {
            "tags": []
          },
          "execution_count": 125
        }
      ]
    },
    {
      "cell_type": "code",
      "metadata": {
        "id": "1aMedXkjr9i4",
        "colab_type": "code",
        "colab": {
          "base_uri": "https://localhost:8080/",
          "height": 171
        },
        "outputId": "21b6507e-52df-4aae-e442-01260e3d0aeb"
      },
      "source": [
        "# Grouped by risk scores and number of facilities\n",
        "df_avg_risk_score1 = pd.DataFrame(df_avg_risk_score).apply(lambda x: round(x)).reset_index()\n",
        "df_avg_risk_score1 = pd.DataFrame(df_avg_risk_score1.groupby('Risk').count()['Latitude']).rename(columns={'Latitude':'Counts'})\n",
        "df_avg_risk_score1"
      ],
      "execution_count": 126,
      "outputs": [
        {
          "output_type": "execute_result",
          "data": {
            "text/html": [
              "<div>\n",
              "<style scoped>\n",
              "    .dataframe tbody tr th:only-of-type {\n",
              "        vertical-align: middle;\n",
              "    }\n",
              "\n",
              "    .dataframe tbody tr th {\n",
              "        vertical-align: top;\n",
              "    }\n",
              "\n",
              "    .dataframe thead th {\n",
              "        text-align: right;\n",
              "    }\n",
              "</style>\n",
              "<table border=\"1\" class=\"dataframe\">\n",
              "  <thead>\n",
              "    <tr style=\"text-align: right;\">\n",
              "      <th></th>\n",
              "      <th>Counts</th>\n",
              "    </tr>\n",
              "    <tr>\n",
              "      <th>Risk</th>\n",
              "      <th></th>\n",
              "    </tr>\n",
              "  </thead>\n",
              "  <tbody>\n",
              "    <tr>\n",
              "      <th>1.0</th>\n",
              "      <td>15735</td>\n",
              "    </tr>\n",
              "    <tr>\n",
              "      <th>2.0</th>\n",
              "      <td>6840</td>\n",
              "    </tr>\n",
              "    <tr>\n",
              "      <th>3.0</th>\n",
              "      <td>4303</td>\n",
              "    </tr>\n",
              "  </tbody>\n",
              "</table>\n",
              "</div>"
            ],
            "text/plain": [
              "      Counts\n",
              "Risk        \n",
              "1.0    15735\n",
              "2.0     6840\n",
              "3.0     4303"
            ]
          },
          "metadata": {
            "tags": []
          },
          "execution_count": 126
        }
      ]
    },
    {
      "cell_type": "code",
      "metadata": {
        "id": "H-8wb6jkr9i6",
        "colab_type": "code",
        "colab": {
          "base_uri": "https://localhost:8080/",
          "height": 283
        },
        "outputId": "e15db619-d273-430d-ec2f-66639500d0e2"
      },
      "source": [
        "plt.bar(df_avg_risk_score1.index,df_avg_risk_score1['Counts'])"
      ],
      "execution_count": 127,
      "outputs": [
        {
          "output_type": "execute_result",
          "data": {
            "text/plain": [
              "<BarContainer object of 3 artists>"
            ]
          },
          "metadata": {
            "tags": []
          },
          "execution_count": 127
        },
        {
          "output_type": "display_data",
          "data": {
            "image/png": "[encoded data removed]",
            "text/plain": [
              "<Figure size 432x288 with 1 Axes>"
            ]
          },
          "metadata": {
            "tags": []
          }
        }
      ]
    }
  ]
}