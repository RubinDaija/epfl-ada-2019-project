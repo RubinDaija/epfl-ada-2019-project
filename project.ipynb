{
  "nbformat": 4,
  "nbformat_minor": 0,
  "metadata": {
    "kernelspec": {
      "display_name": "Python [conda env:py36] *",
      "language": "python",
      "name": "conda-env-py36-py"
    },
    "language_info": {
      "codemirror_mode": {
        "name": "ipython",
        "version": 3
      },
      "file_extension": ".py",
      "mimetype": "text/x-python",
      "name": "python",
      "nbconvert_exporter": "python",
      "pygments_lexer": "ipython3",
      "version": "3.6.9"
    },
    "colab": {
      "name": "project.ipynb",
      "provenance": []
    }
  },
  "cells": [
    {
      "cell_type": "markdown",
      "metadata": {
        "id": "-Tvl9ABtLcXB",
        "colab_type": "text"
      },
      "source": [
        "# **Necessary Imports**"
      ]
    },
    {
      "cell_type": "code",
      "metadata": {
        "id": "y8CsC8G1r9hy",
        "colab_type": "code",
        "colab": {}
      },
      "source": [
        "%matplotlib inline\n",
        "import pandas as pd\n",
        "import numpy as np\n",
        "import re\n",
        "from matplotlib.ticker import MaxNLocator\n",
        "import matplotlib.pyplot as plt\n",
        "from scipy import stats\n",
        "from folium.plugins import MarkerCluster\n",
        "import warnings\n",
        "import folium\n",
        "import zipfile"
      ],
      "execution_count": 0,
      "outputs": []
    },
    {
      "cell_type": "code",
      "metadata": {
        "id": "cG_XvNn-r9h3",
        "colab_type": "code",
        "colab": {
          "base_uri": "https://localhost:8080/",
          "height": 55
        },
        "outputId": "e742d188-c4cc-4eac-e94b-250998df2733"
      },
      "source": [
        "# ---------- Only to be run the first time the data set is uploaded ---------- #\n",
        "# Reads from compressed folder, drops the irrelevant columns, and outputs the new data to a new file called food_inspections.csv\n",
        "\n",
        "'''\n",
        "zf = zipfile.ZipFile('chicago-food-inspections.zip')\n",
        "dblp = pd.read_csv(zf.open('chicago-food-inspections/food-inspections.csv'))\n",
        "dblp = dblp.drop(['AKA Name', 'Address','City','State','Location','Historical Wards 2003-2015','Zip Codes','Community Areas','Census Tracts','Wards'], axis=1)\n",
        "dblp.to_csv(r'food_inspections.csv')\n",
        "'''"
      ],
      "execution_count": 2,
      "outputs": [
        {
          "output_type": "execute_result",
          "data": {
            "text/plain": [
              "\"\\nzf = zipfile.ZipFile('chicago-food-inspections.zip')\\ndblp = pd.read_csv(zf.open('chicago-food-inspections/food-inspections.csv'))\\ndblp = dblp.drop(['AKA Name', 'Address','City','State','Location','Historical Wards 2003-2015','Zip Codes','Community Areas','Census Tracts','Wards'], axis=1)\\ndblp.to_csv(r'food_inspections.csv')\\n\""
            ]
          },
          "metadata": {
            "tags": []
          },
          "execution_count": 2
        }
      ]
    },
    {
      "cell_type": "code",
      "metadata": {
        "id": "W-StO1Nyr9h5",
        "colab_type": "code",
        "colab": {
          "base_uri": "https://localhost:8080/",
          "height": 35
        },
        "outputId": "5b5e84f2-3e82-4b3a-9226-d1e50a4a6c4b"
      },
      "source": [
        "#-- Uncomment this if using Jupyter Lab / Comment this if using Google Colab --#\n",
        "'''\n",
        "zf = zipfile.ZipFile('chicago_dropped.zip')\n",
        "df = pd.read_csv(zf.open('chicago_dropped/food_inspections.csv'))\n",
        "'''"
      ],
      "execution_count": 3,
      "outputs": [
        {
          "output_type": "execute_result",
          "data": {
            "text/plain": [
              "\"\\nzf = zipfile.ZipFile('chicago_dropped.zip')\\ndf = pd.read_csv(zf.open('chicago_dropped/food_inspections.csv'))\\n\""
            ]
          },
          "metadata": {
            "tags": []
          },
          "execution_count": 3
        }
      ]
    },
    {
      "cell_type": "code",
      "metadata": {
        "id": "8yt1F6q7r-9A",
        "colab_type": "code",
        "colab": {}
      },
      "source": [
        "#-- Uncomment this if using Google Colab / Comment this if using Jupyter Lab --# \n",
        "# Code to read csv file into Colaboratory:\n",
        "!pip install -U -q PyDrive\n",
        "from pydrive.auth import GoogleAuth\n",
        "from pydrive.drive import GoogleDrive\n",
        "from google.colab import auth\n",
        "from oauth2client.client import GoogleCredentials\n",
        "# Authenticate and create the PyDrive client.\n",
        "auth.authenticate_user()\n",
        "gauth = GoogleAuth()\n",
        "gauth.credentials = GoogleCredentials.get_application_default()\n",
        "drive = GoogleDrive(gauth)"
      ],
      "execution_count": 0,
      "outputs": []
    },
    {
      "cell_type": "code",
      "metadata": {
        "id": "jHy9hpAStUMi",
        "colab_type": "code",
        "outputId": "9a928b3e-b9c0-4004-b9fc-7ec40e91d065",
        "colab": {
          "base_uri": "https://localhost:8080/",
          "height": 35
        }
      },
      "source": [
        "#-- Uncomment this if using Google Colab / Comment this if using Jupyter Lab --# \n",
        "link = 'https://drive.google.com/open?id=1TtnQzq_WhnRj7KweW4upOzrC7C3gFpRE' # The shareable link\n",
        "fluff, id = link.split('=')\n",
        "print (id) # Verify that you have everything after '='\n",
        "\n",
        "downloaded = drive.CreateFile({'id':id}) \n",
        "downloaded.GetContentFile('food_inspections.csv')  \n",
        "df = pd.read_csv('food_inspections.csv')\n",
        "\n",
        "# Dataset is now stored in a Pandas Dataframe"
      ],
      "execution_count": 5,
      "outputs": [
        {
          "output_type": "stream",
          "text": [
            "1TtnQzq_WhnRj7KweW4upOzrC7C3gFpRE\n"
          ],
          "name": "stdout"
        }
      ]
    },
    {
      "cell_type": "markdown",
      "metadata": {
        "id": "gqj0Hrh3Loi1",
        "colab_type": "text"
      },
      "source": [
        "# **Preprocessing**"
      ]
    },
    {
      "cell_type": "markdown",
      "metadata": {
        "id": "SEdfP33jr9iD",
        "colab_type": "text"
      },
      "source": [
        "We realized that we will use Facility Type in most of our analysis, so we decided to drop the rows that are missing Facility Type, i.e. NaN valued rows:\n"
      ]
    },
    {
      "cell_type": "code",
      "metadata": {
        "id": "wPYufzBer9iA",
        "colab_type": "code",
        "outputId": "22ba6565-f33b-4072-efb3-85f5d2977b0b",
        "colab": {
          "base_uri": "https://localhost:8080/",
          "height": 52
        }
      },
      "source": [
        "# Cleaning the data set: removing NaN valued rows in Facility Type\n",
        "print(\"Number of rows before removing NaNs: \" + str(df['Facility Type'].size))\n",
        "print(\"Number of rows after removing NaNs: \" + str(df['Facility Type'].dropna().size))\n",
        "df.dropna(inplace=True)\n",
        "df.reset_index(drop=True, inplace=True)"
      ],
      "execution_count": 7,
      "outputs": [
        {
          "output_type": "stream",
          "text": [
            "Number of rows before removing NaNs: 196030\n",
            "Number of rows after removing NaNs: 191258\n"
          ],
          "name": "stdout"
        }
      ]
    },
    {
      "cell_type": "markdown",
      "metadata": {
        "id": "drw-tZwuLzE4",
        "colab_type": "text"
      },
      "source": [
        "We decided to remove the rows that have \"Not Ready\" as their Results value, since this value cannot be categorized as fail/pass:"
      ]
    },
    {
      "cell_type": "code",
      "metadata": {
        "id": "5gij1L5pr9iE",
        "colab_type": "code",
        "outputId": "4660cf44-bb63-4fb6-ac78-1d2c72e1276a",
        "colab": {
          "base_uri": "https://localhost:8080/",
          "height": 52
        }
      },
      "source": [
        "# Cleaning the data set: removing the rows with \"Not Ready\" as their Results value\n",
        "print(\"Number of rows before removing Not Ready values: \" + str(df.size))\n",
        "df = df[~df.Results.str.contains(\"Not Ready\")]\n",
        "print(\"Number of rows after removing Not Ready values: \" + str(df.size))"
      ],
      "execution_count": 11,
      "outputs": [
        {
          "output_type": "stream",
          "text": [
            "Number of rows before removing Not Ready values: 1863719\n",
            "Number of rows after removing Not Ready values: 1863056\n"
          ],
          "name": "stdout"
        }
      ]
    },
    {
      "cell_type": "code",
      "metadata": {
        "id": "lmtxzbbTr9iH",
        "colab_type": "code",
        "outputId": "a74f5727-0208-4d8f-b143-40ef3b79a12b",
        "colab": {
          "base_uri": "https://localhost:8080/",
          "height": 621
        }
      },
      "source": [
        "# Data set after the preprocessing operations above\n",
        "df.reset_index().head()"
      ],
      "execution_count": 12,
      "outputs": [
        {
          "output_type": "execute_result",
          "data": {
            "text/html": [
              "<div>\n",
              "<style scoped>\n",
              "    .dataframe tbody tr th:only-of-type {\n",
              "        vertical-align: middle;\n",
              "    }\n",
              "\n",
              "    .dataframe tbody tr th {\n",
              "        vertical-align: top;\n",
              "    }\n",
              "\n",
              "    .dataframe thead th {\n",
              "        text-align: right;\n",
              "    }\n",
              "</style>\n",
              "<table border=\"1\" class=\"dataframe\">\n",
              "  <thead>\n",
              "    <tr style=\"text-align: right;\">\n",
              "      <th></th>\n",
              "      <th>index</th>\n",
              "      <th>Unnamed: 0</th>\n",
              "      <th>Inspection ID</th>\n",
              "      <th>DBA Name</th>\n",
              "      <th>License #</th>\n",
              "      <th>Facility Type</th>\n",
              "      <th>Risk</th>\n",
              "      <th>Zip</th>\n",
              "      <th>Inspection Date</th>\n",
              "      <th>Inspection Type</th>\n",
              "      <th>Results</th>\n",
              "      <th>Violations</th>\n",
              "      <th>Latitude</th>\n",
              "      <th>Longitude</th>\n",
              "    </tr>\n",
              "  </thead>\n",
              "  <tbody>\n",
              "    <tr>\n",
              "      <th>0</th>\n",
              "      <td>0</td>\n",
              "      <td>0</td>\n",
              "      <td>2345787</td>\n",
              "      <td>CARNICERIA LEON GUANAJUATO, INC.</td>\n",
              "      <td>1821637.0</td>\n",
              "      <td>Grocery Store</td>\n",
              "      <td>Risk 1 (High)</td>\n",
              "      <td>60639.0</td>\n",
              "      <td>2019-11-18T00:00:00.000</td>\n",
              "      <td>Canvass</td>\n",
              "      <td>Fail</td>\n",
              "      <td>3. MANAGEMENT, FOOD EMPLOYEE AND CONDITIONAL E...</td>\n",
              "      <td>41.916960</td>\n",
              "      <td>-87.733945</td>\n",
              "    </tr>\n",
              "    <tr>\n",
              "      <th>1</th>\n",
              "      <td>1</td>\n",
              "      <td>1</td>\n",
              "      <td>2345790</td>\n",
              "      <td>AMSTAR FUEL &amp; MINI MART</td>\n",
              "      <td>1426374.0</td>\n",
              "      <td>Grocery Store</td>\n",
              "      <td>Risk 2 (Medium)</td>\n",
              "      <td>60651.0</td>\n",
              "      <td>2019-11-18T00:00:00.000</td>\n",
              "      <td>Canvass</td>\n",
              "      <td>Pass</td>\n",
              "      <td>55. PHYSICAL FACILITIES INSTALLED, MAINTAINED ...</td>\n",
              "      <td>41.895304</td>\n",
              "      <td>-87.721129</td>\n",
              "    </tr>\n",
              "    <tr>\n",
              "      <th>2</th>\n",
              "      <td>2</td>\n",
              "      <td>2</td>\n",
              "      <td>2345766</td>\n",
              "      <td>ROJO GUSANO</td>\n",
              "      <td>1305286.0</td>\n",
              "      <td>Restaurant</td>\n",
              "      <td>Risk 1 (High)</td>\n",
              "      <td>60625.0</td>\n",
              "      <td>2019-11-18T00:00:00.000</td>\n",
              "      <td>Canvass</td>\n",
              "      <td>Fail</td>\n",
              "      <td>3. MANAGEMENT, FOOD EMPLOYEE AND CONDITIONAL E...</td>\n",
              "      <td>41.968390</td>\n",
              "      <td>-87.724448</td>\n",
              "    </tr>\n",
              "    <tr>\n",
              "      <th>3</th>\n",
              "      <td>3</td>\n",
              "      <td>3</td>\n",
              "      <td>2345702</td>\n",
              "      <td>LAKESIDE FOOD WINE SPIRITS LLC</td>\n",
              "      <td>2694148.0</td>\n",
              "      <td>Grocery Store</td>\n",
              "      <td>Risk 3 (Low)</td>\n",
              "      <td>60614.0</td>\n",
              "      <td>2019-11-15T00:00:00.000</td>\n",
              "      <td>License Re-Inspection</td>\n",
              "      <td>Pass w/ Conditions</td>\n",
              "      <td>5. PROCEDURES FOR RESPONDING TO VOMITING AND D...</td>\n",
              "      <td>41.929210</td>\n",
              "      <td>-87.648746</td>\n",
              "    </tr>\n",
              "    <tr>\n",
              "      <th>4</th>\n",
              "      <td>4</td>\n",
              "      <td>4</td>\n",
              "      <td>2345678</td>\n",
              "      <td>NEW KNOWLEDGE LEARNING CENTER, INC.</td>\n",
              "      <td>2215898.0</td>\n",
              "      <td>Children's Services Facility</td>\n",
              "      <td>Risk 1 (High)</td>\n",
              "      <td>60652.0</td>\n",
              "      <td>2019-11-15T00:00:00.000</td>\n",
              "      <td>License</td>\n",
              "      <td>Pass</td>\n",
              "      <td>53. TOILET FACILITIES: PROPERLY CONSTRUCTED, S...</td>\n",
              "      <td>41.739458</td>\n",
              "      <td>-87.702257</td>\n",
              "    </tr>\n",
              "  </tbody>\n",
              "</table>\n",
              "</div>"
            ],
            "text/plain": [
              "   index  Unnamed: 0  ...   Latitude  Longitude\n",
              "0      0           0  ...  41.916960 -87.733945\n",
              "1      1           1  ...  41.895304 -87.721129\n",
              "2      2           2  ...  41.968390 -87.724448\n",
              "3      3           3  ...  41.929210 -87.648746\n",
              "4      4           4  ...  41.739458 -87.702257\n",
              "\n",
              "[5 rows x 14 columns]"
            ]
          },
          "metadata": {
            "tags": []
          },
          "execution_count": 12
        }
      ]
    },
    {
      "cell_type": "markdown",
      "metadata": {
        "id": "9kXYokaeMLcJ",
        "colab_type": "text"
      },
      "source": [
        "We removed the rows that have any value of Risk other than 1-3 and converted Risk values to only a numeric value:"
      ]
    },
    {
      "cell_type": "code",
      "metadata": {
        "id": "HqZ9JipUr9iL",
        "colab_type": "code",
        "outputId": "2d360d5b-e3a5-4540-f1c3-6694c72331a7",
        "colab": {
          "base_uri": "https://localhost:8080/",
          "height": 621
        }
      },
      "source": [
        "# Cleaning the data set: removing rows with Risk value other than 1-3\n",
        "df = df[df.Risk.str.contains(\"[1-3]\",na=False)]\n",
        "# Converting Risk value to numeric\n",
        "df['Risk'] = df.Risk.apply(lambda x: int(x.strip('Risk')[1]))\n",
        "df.head()"
      ],
      "execution_count": 13,
      "outputs": [
        {
          "output_type": "execute_result",
          "data": {
            "text/html": [
              "<div>\n",
              "<style scoped>\n",
              "    .dataframe tbody tr th:only-of-type {\n",
              "        vertical-align: middle;\n",
              "    }\n",
              "\n",
              "    .dataframe tbody tr th {\n",
              "        vertical-align: top;\n",
              "    }\n",
              "\n",
              "    .dataframe thead th {\n",
              "        text-align: right;\n",
              "    }\n",
              "</style>\n",
              "<table border=\"1\" class=\"dataframe\">\n",
              "  <thead>\n",
              "    <tr style=\"text-align: right;\">\n",
              "      <th></th>\n",
              "      <th>Unnamed: 0</th>\n",
              "      <th>Inspection ID</th>\n",
              "      <th>DBA Name</th>\n",
              "      <th>License #</th>\n",
              "      <th>Facility Type</th>\n",
              "      <th>Risk</th>\n",
              "      <th>Zip</th>\n",
              "      <th>Inspection Date</th>\n",
              "      <th>Inspection Type</th>\n",
              "      <th>Results</th>\n",
              "      <th>Violations</th>\n",
              "      <th>Latitude</th>\n",
              "      <th>Longitude</th>\n",
              "    </tr>\n",
              "  </thead>\n",
              "  <tbody>\n",
              "    <tr>\n",
              "      <th>0</th>\n",
              "      <td>0</td>\n",
              "      <td>2345787</td>\n",
              "      <td>CARNICERIA LEON GUANAJUATO, INC.</td>\n",
              "      <td>1821637.0</td>\n",
              "      <td>Grocery Store</td>\n",
              "      <td>1</td>\n",
              "      <td>60639.0</td>\n",
              "      <td>2019-11-18T00:00:00.000</td>\n",
              "      <td>Canvass</td>\n",
              "      <td>Fail</td>\n",
              "      <td>3. MANAGEMENT, FOOD EMPLOYEE AND CONDITIONAL E...</td>\n",
              "      <td>41.916960</td>\n",
              "      <td>-87.733945</td>\n",
              "    </tr>\n",
              "    <tr>\n",
              "      <th>1</th>\n",
              "      <td>1</td>\n",
              "      <td>2345790</td>\n",
              "      <td>AMSTAR FUEL &amp; MINI MART</td>\n",
              "      <td>1426374.0</td>\n",
              "      <td>Grocery Store</td>\n",
              "      <td>2</td>\n",
              "      <td>60651.0</td>\n",
              "      <td>2019-11-18T00:00:00.000</td>\n",
              "      <td>Canvass</td>\n",
              "      <td>Pass</td>\n",
              "      <td>55. PHYSICAL FACILITIES INSTALLED, MAINTAINED ...</td>\n",
              "      <td>41.895304</td>\n",
              "      <td>-87.721129</td>\n",
              "    </tr>\n",
              "    <tr>\n",
              "      <th>2</th>\n",
              "      <td>2</td>\n",
              "      <td>2345766</td>\n",
              "      <td>ROJO GUSANO</td>\n",
              "      <td>1305286.0</td>\n",
              "      <td>Restaurant</td>\n",
              "      <td>1</td>\n",
              "      <td>60625.0</td>\n",
              "      <td>2019-11-18T00:00:00.000</td>\n",
              "      <td>Canvass</td>\n",
              "      <td>Fail</td>\n",
              "      <td>3. MANAGEMENT, FOOD EMPLOYEE AND CONDITIONAL E...</td>\n",
              "      <td>41.968390</td>\n",
              "      <td>-87.724448</td>\n",
              "    </tr>\n",
              "    <tr>\n",
              "      <th>3</th>\n",
              "      <td>3</td>\n",
              "      <td>2345702</td>\n",
              "      <td>LAKESIDE FOOD WINE SPIRITS LLC</td>\n",
              "      <td>2694148.0</td>\n",
              "      <td>Grocery Store</td>\n",
              "      <td>3</td>\n",
              "      <td>60614.0</td>\n",
              "      <td>2019-11-15T00:00:00.000</td>\n",
              "      <td>License Re-Inspection</td>\n",
              "      <td>Pass w/ Conditions</td>\n",
              "      <td>5. PROCEDURES FOR RESPONDING TO VOMITING AND D...</td>\n",
              "      <td>41.929210</td>\n",
              "      <td>-87.648746</td>\n",
              "    </tr>\n",
              "    <tr>\n",
              "      <th>4</th>\n",
              "      <td>4</td>\n",
              "      <td>2345678</td>\n",
              "      <td>NEW KNOWLEDGE LEARNING CENTER, INC.</td>\n",
              "      <td>2215898.0</td>\n",
              "      <td>Children's Services Facility</td>\n",
              "      <td>1</td>\n",
              "      <td>60652.0</td>\n",
              "      <td>2019-11-15T00:00:00.000</td>\n",
              "      <td>License</td>\n",
              "      <td>Pass</td>\n",
              "      <td>53. TOILET FACILITIES: PROPERLY CONSTRUCTED, S...</td>\n",
              "      <td>41.739458</td>\n",
              "      <td>-87.702257</td>\n",
              "    </tr>\n",
              "  </tbody>\n",
              "</table>\n",
              "</div>"
            ],
            "text/plain": [
              "   Unnamed: 0  Inspection ID  ...   Latitude  Longitude\n",
              "0           0        2345787  ...  41.916960 -87.733945\n",
              "1           1        2345790  ...  41.895304 -87.721129\n",
              "2           2        2345766  ...  41.968390 -87.724448\n",
              "3           3        2345702  ...  41.929210 -87.648746\n",
              "4           4        2345678  ...  41.739458 -87.702257\n",
              "\n",
              "[5 rows x 13 columns]"
            ]
          },
          "metadata": {
            "tags": []
          },
          "execution_count": 13
        }
      ]
    },
    {
      "cell_type": "markdown",
      "metadata": {
        "id": "rwciHwtmNDoj",
        "colab_type": "text"
      },
      "source": [
        "We removed the parantheses in Facility Type entries, as some entries can be unified into the same category this way, such as (restaurant) and restaurant:"
      ]
    },
    {
      "cell_type": "code",
      "metadata": {
        "id": "jJ9IpYFqr9iN",
        "colab_type": "code",
        "colab": {}
      },
      "source": [
        "# More preprocessing: removing the parantheses in Facility Type entries\n",
        "df['Facility Type'] = df['Facility Type'].str.lower()\n",
        "df['Facility Type'] = df['Facility Type'].str.replace('[()]', '')"
      ],
      "execution_count": 0,
      "outputs": []
    },
    {
      "cell_type": "code",
      "metadata": {
        "id": "RhfP-SNZr9iP",
        "colab_type": "code",
        "outputId": "f5dc73d1-2ffd-4add-8583-b2665e47b4c9",
        "colab": {
          "base_uri": "https://localhost:8080/",
          "height": 55
        }
      },
      "source": [
        "#TODO : Grocery Store and Restaurant are going to be unified\n",
        "'''\n",
        "dp = df[df['Facility Type'].str.contains(\"grocery\") & df['Facility Type'].str.contains(\"restaurant\")]\n",
        "dp.loc[:,'Facility Type'] = 'grocery and restaurant'\n",
        "df = df[~df['Facility Type'].str.contains(\"grocery\") & df['Facility Type'].str.contains(\"restaurant\")]\n",
        "'''\n",
        "#df = df.append(dp,ignore_index=False)\n"
      ],
      "execution_count": 0,
      "outputs": [
        {
          "output_type": "execute_result",
          "data": {
            "text/plain": [
              "'\\ndp = df[df[\\'Facility Type\\'].str.contains(\"grocery\") & df[\\'Facility Type\\'].str.contains(\"restaurant\")]\\ndp.loc[:,\\'Facility Type\\'] = \\'grocery and restaurant\\'\\ndf = df[~df[\\'Facility Type\\'].str.contains(\"grocery\") & df[\\'Facility Type\\'].str.contains(\"restaurant\")]\\n'"
            ]
          },
          "metadata": {
            "tags": []
          },
          "execution_count": 31
        }
      ]
    },
    {
      "cell_type": "markdown",
      "metadata": {
        "id": "N_D_0xcgOQgx",
        "colab_type": "text"
      },
      "source": [
        "# **Data Analysis**"
      ]
    },
    {
      "cell_type": "markdown",
      "metadata": {
        "id": "Z8_DWQ9xr9iW",
        "colab_type": "text"
      },
      "source": [
        "### **Facility Type vs. Average Risk**\n"
      ]
    },
    {
      "cell_type": "markdown",
      "metadata": {
        "id": "2NYPWCi6PEV0",
        "colab_type": "text"
      },
      "source": [
        "We analyzed the relationship between the type of facility and the average risk of that facility over all inspections:"
      ]
    },
    {
      "cell_type": "code",
      "metadata": {
        "id": "rj-CxjLpr9iR",
        "colab_type": "code",
        "colab": {}
      },
      "source": [
        "# Aggregate data over Facility Type\n",
        "grouped_fac = df.groupby('Facility Type')"
      ],
      "execution_count": 0,
      "outputs": []
    },
    {
      "cell_type": "code",
      "metadata": {
        "id": "9EsVpnqxr9iT",
        "colab_type": "code",
        "outputId": "d5891635-9926-44c0-c91e-2d8ecf5f452f",
        "colab": {
          "base_uri": "https://localhost:8080/",
          "height": 202
        }
      },
      "source": [
        "# Compute average risk of each type of facility\n",
        "grouped_fac_risk_mean = pd.DataFrame(grouped_fac['Risk'].mean()).reset_index()\n",
        "grouped_fac_risk_mean.head()"
      ],
      "execution_count": 16,
      "outputs": [
        {
          "output_type": "execute_result",
          "data": {
            "text/html": [
              "<div>\n",
              "<style scoped>\n",
              "    .dataframe tbody tr th:only-of-type {\n",
              "        vertical-align: middle;\n",
              "    }\n",
              "\n",
              "    .dataframe tbody tr th {\n",
              "        vertical-align: top;\n",
              "    }\n",
              "\n",
              "    .dataframe thead th {\n",
              "        text-align: right;\n",
              "    }\n",
              "</style>\n",
              "<table border=\"1\" class=\"dataframe\">\n",
              "  <thead>\n",
              "    <tr style=\"text-align: right;\">\n",
              "      <th></th>\n",
              "      <th>Facility Type</th>\n",
              "      <th>Risk</th>\n",
              "    </tr>\n",
              "  </thead>\n",
              "  <tbody>\n",
              "    <tr>\n",
              "      <th>0</th>\n",
              "      <td>1005 nursing home</td>\n",
              "      <td>1.0</td>\n",
              "    </tr>\n",
              "    <tr>\n",
              "      <th>1</th>\n",
              "      <td>1023</td>\n",
              "      <td>1.0</td>\n",
              "    </tr>\n",
              "    <tr>\n",
              "      <th>2</th>\n",
              "      <td>1023 childern's service facility</td>\n",
              "      <td>1.0</td>\n",
              "    </tr>\n",
              "    <tr>\n",
              "      <th>3</th>\n",
              "      <td>1023 childern's service s facility</td>\n",
              "      <td>1.0</td>\n",
              "    </tr>\n",
              "    <tr>\n",
              "      <th>4</th>\n",
              "      <td>1023 childern's services facility</td>\n",
              "      <td>1.0</td>\n",
              "    </tr>\n",
              "  </tbody>\n",
              "</table>\n",
              "</div>"
            ],
            "text/plain": [
              "                        Facility Type  Risk\n",
              "0                   1005 nursing home   1.0\n",
              "1                                1023   1.0\n",
              "2    1023 childern's service facility   1.0\n",
              "3  1023 childern's service s facility   1.0\n",
              "4   1023 childern's services facility   1.0"
            ]
          },
          "metadata": {
            "tags": []
          },
          "execution_count": 16
        }
      ]
    },
    {
      "cell_type": "code",
      "metadata": {
        "id": "dCJRNes4PwB1",
        "colab_type": "code",
        "colab": {}
      },
      "source": [
        "# TODO: unify the entries with 1023 as one type of facility"
      ],
      "execution_count": 0,
      "outputs": []
    },
    {
      "cell_type": "code",
      "metadata": {
        "scrolled": true,
        "id": "UTR_QVrtr9iX",
        "colab_type": "code",
        "outputId": "6e16f197-f46d-4e37-b216-ca8e020a5cae",
        "colab": {
          "base_uri": "https://localhost:8080/",
          "height": 433
        }
      },
      "source": [
        "# Compute number of facilities in each type of facility\n",
        "fac_dist = pd.DataFrame(grouped_fac.count()['Risk']).rename(columns={'Risk':'Counts'}).sort_values(by='Counts',ascending=False).reset_index()\n",
        "print(\"Number of different types of facilities :\" + str(fac_dist.size))\n",
        "fac_dist.head(100)"
      ],
      "execution_count": 18,
      "outputs": [
        {
          "output_type": "stream",
          "text": [
            "Number of different types of facilities :750\n"
          ],
          "name": "stdout"
        },
        {
          "output_type": "execute_result",
          "data": {
            "text/html": [
              "<div>\n",
              "<style scoped>\n",
              "    .dataframe tbody tr th:only-of-type {\n",
              "        vertical-align: middle;\n",
              "    }\n",
              "\n",
              "    .dataframe tbody tr th {\n",
              "        vertical-align: top;\n",
              "    }\n",
              "\n",
              "    .dataframe thead th {\n",
              "        text-align: right;\n",
              "    }\n",
              "</style>\n",
              "<table border=\"1\" class=\"dataframe\">\n",
              "  <thead>\n",
              "    <tr style=\"text-align: right;\">\n",
              "      <th></th>\n",
              "      <th>Facility Type</th>\n",
              "      <th>Counts</th>\n",
              "    </tr>\n",
              "  </thead>\n",
              "  <tbody>\n",
              "    <tr>\n",
              "      <th>0</th>\n",
              "      <td>restaurant</td>\n",
              "      <td>98720</td>\n",
              "    </tr>\n",
              "    <tr>\n",
              "      <th>1</th>\n",
              "      <td>grocery store</td>\n",
              "      <td>18023</td>\n",
              "    </tr>\n",
              "    <tr>\n",
              "      <th>2</th>\n",
              "      <td>school</td>\n",
              "      <td>10402</td>\n",
              "    </tr>\n",
              "    <tr>\n",
              "      <th>3</th>\n",
              "      <td>children's services facility</td>\n",
              "      <td>2370</td>\n",
              "    </tr>\n",
              "    <tr>\n",
              "      <th>4</th>\n",
              "      <td>bakery</td>\n",
              "      <td>2177</td>\n",
              "    </tr>\n",
              "    <tr>\n",
              "      <th>...</th>\n",
              "      <td>...</td>\n",
              "      <td>...</td>\n",
              "    </tr>\n",
              "    <tr>\n",
              "      <th>95</th>\n",
              "      <td>grocery&amp; restaurant</td>\n",
              "      <td>9</td>\n",
              "    </tr>\n",
              "    <tr>\n",
              "      <th>96</th>\n",
              "      <td>grocery/gas station</td>\n",
              "      <td>9</td>\n",
              "    </tr>\n",
              "    <tr>\n",
              "      <th>97</th>\n",
              "      <td>wrigley roof top</td>\n",
              "      <td>9</td>\n",
              "    </tr>\n",
              "    <tr>\n",
              "      <th>98</th>\n",
              "      <td>banquet dining</td>\n",
              "      <td>9</td>\n",
              "    </tr>\n",
              "    <tr>\n",
              "      <th>99</th>\n",
              "      <td>bakery/deli</td>\n",
              "      <td>9</td>\n",
              "    </tr>\n",
              "  </tbody>\n",
              "</table>\n",
              "<p>100 rows × 2 columns</p>\n",
              "</div>"
            ],
            "text/plain": [
              "                   Facility Type  Counts\n",
              "0                     restaurant   98720\n",
              "1                  grocery store   18023\n",
              "2                         school   10402\n",
              "3   children's services facility    2370\n",
              "4                         bakery    2177\n",
              "..                           ...     ...\n",
              "95           grocery& restaurant       9\n",
              "96           grocery/gas station       9\n",
              "97              wrigley roof top       9\n",
              "98                banquet dining       9\n",
              "99                   bakery/deli       9\n",
              "\n",
              "[100 rows x 2 columns]"
            ]
          },
          "metadata": {
            "tags": []
          },
          "execution_count": 18
        }
      ]
    },
    {
      "cell_type": "markdown",
      "metadata": {
        "id": "ZBPvbW_CYMPj",
        "colab_type": "text"
      },
      "source": [
        "When we plotted the number of facilities in each type of facility vs. their average risk score, we observed no correlation between the two. We observed that the facility type with the highest number of facilities (i.e. restaurant) has a very high average risk score:"
      ]
    },
    {
      "cell_type": "code",
      "metadata": {
        "id": "byAJr65ir9iZ",
        "colab_type": "code",
        "outputId": "fa55c182-d818-4a42-cb11-85a458e1d8e4",
        "colab": {
          "base_uri": "https://localhost:8080/",
          "height": 297
        }
      },
      "source": [
        "# Perform inner merge on number of facilities and their risk scores \n",
        "merged_inner = pd.merge(left=fac_dist,right=grouped_fac_risk_mean,left_on='Facility Type',right_on='Facility Type')\n",
        "# Scatter plot: number of facilities in each type (i.e. facility type) vs. average risk score\n",
        "merged_inner.plot.scatter(x='Counts',y='Risk')"
      ],
      "execution_count": 19,
      "outputs": [
        {
          "output_type": "execute_result",
          "data": {
            "text/plain": [
              "<matplotlib.axes._subplots.AxesSubplot at 0x7f4ccb22da90>"
            ]
          },
          "metadata": {
            "tags": []
          },
          "execution_count": 19
        },
        {
          "output_type": "display_data",
          "data": {
            "image/png": "[encoded data removed]",
            "text/plain": [
              "<Figure size 432x288 with 1 Axes>"
            ]
          },
          "metadata": {
            "tags": []
          }
        }
      ]
    },
    {
      "cell_type": "markdown",
      "metadata": {
        "id": "8-RqdwUPr9id",
        "colab_type": "text"
      },
      "source": [
        "We realized that the dataset is unbalanced in terms of number of Facility Types, where there are some Facility Types with very few instances. The types of facilities with very few instances would provide us with little to no information. Hence, we decided to analyze the 50 most frequent type of facilities and drop the others:"
      ]
    },
    {
      "cell_type": "code",
      "metadata": {
        "id": "8OU47lhMr9ie",
        "colab_type": "code",
        "outputId": "3c1c0b0e-0e44-470f-acf9-53e0667c880f",
        "colab": {
          "base_uri": "https://localhost:8080/",
          "height": 52
        }
      },
      "source": [
        "print(\"Number of entries before removing facility types with few instances: \" + str(df.size))\n",
        "df = df[df['Facility Type'].isin(list(fac_dist['Facility Type'])[:50])]\n",
        "print(\"Number of entries after removing facility types with few instances: \" + str(df.size))"
      ],
      "execution_count": 21,
      "outputs": [
        {
          "output_type": "stream",
          "text": [
            "Number of entries before removing facility types with few instances: 1863056\n",
            "Number of entries after removing facility types with few instances: 1844440\n"
          ],
          "name": "stdout"
        }
      ]
    },
    {
      "cell_type": "markdown",
      "metadata": {
        "id": "DZzu7EOQr9ig",
        "colab_type": "text"
      },
      "source": [
        "As we can see from the code above, there are around 20 thousand facilities that dont have as much inspections as the others. As a result, data set is more balanced now"
      ]
    },
    {
      "cell_type": "code",
      "metadata": {
        "id": "E80y45xOr9ih",
        "colab_type": "code",
        "colab": {}
      },
      "source": [
        "#out of business facilities\n",
        "df_oob = df[df.Results.str.contains(\"Out of Business\",na=False)]\n",
        "df_oob\n",
        "#grouped by the facilities\n",
        "df_oob_unique = df_oob.groupby(['Latitude','Longitude','DBA Name']).count()"
      ],
      "execution_count": 0,
      "outputs": []
    },
    {
      "cell_type": "code",
      "metadata": {
        "id": "48p6tnK6r9ik",
        "colab_type": "code",
        "colab": {}
      },
      "source": [
        "# Map the facilities that have gone out of business \n",
        "map_oob = folium.Map(\n",
        "    location=[41.8781, -87.6298],\n",
        "    zoom_start=5\n",
        ")\n",
        "\n",
        "marker_cluster = MarkerCluster().add_to(map_oob)\n",
        "#ranges = 0\n",
        "for i in df_oob_unique.index:\n",
        "#    if ranges == 6000:\n",
        "#        break\n",
        "    folium.Marker([(i[0]), (i[1])]).add_to(marker_cluster)\n",
        "        \n",
        "#    ranges = ranges + 1\n",
        "\n",
        "map_oob"
      ],
      "execution_count": 0,
      "outputs": []
    },
    {
      "cell_type": "code",
      "metadata": {
        "id": "5oPntwPCr9ir",
        "colab_type": "code",
        "colab": {}
      },
      "source": [
        "df_avg_risk_score = df.groupby(['Latitude','Longitude','DBA Name'])['Risk'].mean()"
      ],
      "execution_count": 0,
      "outputs": []
    },
    {
      "cell_type": "code",
      "metadata": {
        "id": "xm69-CXir9iw",
        "colab_type": "code",
        "colab": {}
      },
      "source": [
        "# Map the risk score of facilities, where red indicates high risk, orange indicates medium risk, and green indicates low risk\n",
        "map_risk = folium.Map(\n",
        "    location=[41.8781, -87.6298],\n",
        "    zoom_start=9\n",
        ")\n",
        "\n",
        "#ranges = 0\n",
        "for i in df_avg_risk_score.index:\n",
        "#    if ranges == 1000:\n",
        "#        break\n",
        "    if(round(df_avg_risk_score[i]) == 1):\n",
        "        folium.Marker([(i[0]), (i[1])],icon=folium.Icon(color='red', )).add_to(map_risk)\n",
        "    elif(round(df_avg_risk_score[i]) == 2):\n",
        "        folium.Marker([(i[0]), (i[1])],icon=folium.Icon(color='orange', )).add_to(map_risk)\n",
        "    elif(round(df_avg_risk_score[i]) == 3):\n",
        "        folium.Marker([(i[0]), (i[1])],icon=folium.Icon(color='green', )).add_to(map_risk)\n",
        "       \n",
        "#    ranges = ranges + 1\n",
        "\n",
        "map_risk"
      ],
      "execution_count": 0,
      "outputs": []
    },
    {
      "cell_type": "code",
      "metadata": {
        "id": "SliEvDVHr9iz",
        "colab_type": "code",
        "outputId": "f1ce4c66-39dd-43a1-dc98-80770f5a45be",
        "colab": {
          "base_uri": "https://localhost:8080/",
          "height": 297
        }
      },
      "source": [
        "#df_oob_unique\n",
        "df_unique = pd.DataFrame(df.groupby(['Latitude','Longitude','DBA Name']).count()['Risk']).rename(columns={'Risk':'Counts'})\n",
        "\n",
        "merged = pd.merge(left=df_avg_risk_score.reset_index(),right=df_unique.reset_index(),left_on=['Latitude','Longitude','DBA Name'],right_on=['Latitude','Longitude','DBA Name'])\n",
        "merged.plot.scatter(x='Risk',y='Counts'"
      ],
      "execution_count": 0,
      "outputs": [
        {
          "output_type": "execute_result",
          "data": {
            "text/plain": [
              "<matplotlib.axes._subplots.AxesSubplot at 0x7f255d5267f0>"
            ]
          },
          "metadata": {
            "tags": []
          },
          "execution_count": 47
        },
        {
          "output_type": "display_data",
          "data": {
            "image/png": "[encoded data removed]",
            "text/plain": [
              "<Figure size 432x288 with 1 Axes>"
            ]
          },
          "metadata": {
            "tags": []
          }
        }
      ]
    },
    {
      "cell_type": "code",
      "metadata": {
        "id": "4SBlvLrKr9i0",
        "colab_type": "code",
        "outputId": "7f64ea9b-9be5-461c-85e7-6507b6b6a582",
        "colab": {
          "base_uri": "https://localhost:8080/",
          "height": 297
        }
      },
      "source": [
        "#counts >= 5 olacak şekilde yapılcak\n",
        "#BUNDA CORRELATİIN GÖRMEDİK\n",
        "#INSPECTION COUNTU FAZLA OLANLARI ALDIK\n",
        "'''\n",
        "df_u_sorted = df_unique.sort_values(by='Counts',ascending=False).reset_index().head(1100)\n",
        "df_u_sorted[df_u_sorted['Counts'].isin(list(df_u_sorted['Counts'])[:1100])]\n",
        "merged = pd.merge(left=df_avg_risk_score.reset_index(),right=df_u_sorted,left_on=['Latitude','Longitude','DBA Name'],right_on=['Latitude','Longitude','DBA Name'])\n",
        "merged\n",
        "merged.plot.scatter(x='Risk',y='Counts')\n",
        "'''"
      ],
      "execution_count": 0,
      "outputs": [
        {
          "output_type": "execute_result",
          "data": {
            "text/plain": [
              "<matplotlib.axes._subplots.AxesSubplot at 0x7f255c5254e0>"
            ]
          },
          "metadata": {
            "tags": []
          },
          "execution_count": 42
        },
        {
          "output_type": "display_data",
          "data": {
            "image/png": "[encoded data removed]",
            "text/plain": [
              "<Figure size 432x288 with 1 Axes>"
            ]
          },
          "metadata": {
            "tags": []
          }
        }
      ]
    },
    {
      "cell_type": "markdown",
      "metadata": {
        "id": "WYaFos2Ir9i4",
        "colab_type": "text"
      },
      "source": [
        "We observed that the number of risk 3 facilities are lower than the others. Hence, we decided to plot average risk scores vs number of facilities."
      ]
    },
    {
      "cell_type": "code",
      "metadata": {
        "id": "DTX2ONt9w7V8",
        "colab_type": "code",
        "outputId": "8d7a062a-3386-43e9-e947-a0df776fb135",
        "colab": {
          "base_uri": "https://localhost:8080/",
          "height": 109
        }
      },
      "source": [
        "merged[['Risk', 'Counts']].corr(method='pearson')"
      ],
      "execution_count": 0,
      "outputs": [
        {
          "output_type": "execute_result",
          "data": {
            "text/html": [
              "<div>\n",
              "<style scoped>\n",
              "    .dataframe tbody tr th:only-of-type {\n",
              "        vertical-align: middle;\n",
              "    }\n",
              "\n",
              "    .dataframe tbody tr th {\n",
              "        vertical-align: top;\n",
              "    }\n",
              "\n",
              "    .dataframe thead th {\n",
              "        text-align: right;\n",
              "    }\n",
              "</style>\n",
              "<table border=\"1\" class=\"dataframe\">\n",
              "  <thead>\n",
              "    <tr style=\"text-align: right;\">\n",
              "      <th></th>\n",
              "      <th>Risk</th>\n",
              "      <th>Counts</th>\n",
              "    </tr>\n",
              "  </thead>\n",
              "  <tbody>\n",
              "    <tr>\n",
              "      <th>Risk</th>\n",
              "      <td>1.000000</td>\n",
              "      <td>-0.369869</td>\n",
              "    </tr>\n",
              "    <tr>\n",
              "      <th>Counts</th>\n",
              "      <td>-0.369869</td>\n",
              "      <td>1.000000</td>\n",
              "    </tr>\n",
              "  </tbody>\n",
              "</table>\n",
              "</div>"
            ],
            "text/plain": [
              "            Risk    Counts\n",
              "Risk    1.000000 -0.369869\n",
              "Counts -0.369869  1.000000"
            ]
          },
          "metadata": {
            "tags": []
          },
          "execution_count": 48
        }
      ]
    },
    {
      "cell_type": "markdown",
      "metadata": {
        "id": "VT4v4wC_yRha",
        "colab_type": "text"
      },
      "source": [
        "We observed a moderate positive correlation between the number of inspections and average level of risk of the facility (since Risk 1 means high risk and Risk 3 means low risk)."
      ]
    },
    {
      "cell_type": "code",
      "metadata": {
        "id": "1aMedXkjr9i4",
        "colab_type": "code",
        "colab": {}
      },
      "source": [
        "#Grouped by risk scores and number of facilities\n",
        "df_avg_risk_score1 = pd.DataFrame(df_avg_risk_score).apply(lambda x: round(x)).reset_index()\n",
        "df_avg_risk_score1 = pd.DataFrame(df_avg_risk_score1.groupby('Risk').count()['Latitude']).rename(columns={'Latitude':'Counts'})\n",
        "df_avg_risk_score1"
      ],
      "execution_count": 0,
      "outputs": []
    },
    {
      "cell_type": "code",
      "metadata": {
        "id": "H-8wb6jkr9i6",
        "colab_type": "code",
        "colab": {}
      },
      "source": [
        "plt.bar(df_avg_risk_score1.index,df_avg_risk_score1['Counts'])"
      ],
      "execution_count": 0,
      "outputs": []
    }
  ]
}