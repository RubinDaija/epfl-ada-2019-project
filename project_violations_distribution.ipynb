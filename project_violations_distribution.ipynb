{
  "nbformat": 4,
  "nbformat_minor": 0,
  "metadata": {
    "kernelspec": {
      "name": "python3",
      "display_name": "Python 3"
    },
    "colab": {
      "name": "Copy of project.ipynb",
      "provenance": [],
      "collapsed_sections": [
        "eVZEtg_iXrnc",
        "CKLyGPdMYipy",
        "rvahQqzeYxPm",
        "70YWgfyOY98g",
        "jRnO5vZlnNtd",
        "TcYiy6JonijB",
        "Fi_AiSyn5Qkm",
        "_n637CHg_9jG",
        "PZh_kj61J8BC",
        "kCcCYtxFXmlu",
        "q7w5eXyBYCVA",
        "Vy1TK-w_GHKm"
      ],
      "include_colab_link": true
    }
  },
  "cells": [
    {
      "cell_type": "markdown",
      "metadata": {
        "id": "view-in-github",
        "colab_type": "text"
      },
      "source": [
        "<a href=\"https://colab.research.google.com/github/RubinDaija/epfl-ada-2019-project/blob/master/project_violations_distribution.ipynb\" target=\"_parent\"><img src=\"https://colab.research.google.com/assets/colab-badge.svg\" alt=\"Open In Colab\"/></a>"
      ]
    },
    {
      "cell_type": "markdown",
      "metadata": {
        "id": "-Tvl9ABtLcXB",
        "colab_type": "text"
      },
      "source": [
        "# **Necessary Imports**"
      ]
    },
    {
      "cell_type": "code",
      "metadata": {
        "id": "y8CsC8G1r9hy",
        "colab_type": "code",
        "colab": {}
      },
      "source": [
        "%matplotlib inline\n",
        "import pandas as pd\n",
        "import numpy as np\n",
        "import re\n",
        "from matplotlib.ticker import MaxNLocator\n",
        "import matplotlib.pyplot as plt\n",
        "from scipy import stats\n",
        "from folium.plugins import MarkerCluster\n",
        "import warnings\n",
        "import folium\n",
        "import zipfile"
      ],
      "execution_count": 0,
      "outputs": []
    },
    {
      "cell_type": "code",
      "metadata": {
        "id": "cG_XvNn-r9h3",
        "colab_type": "code",
        "colab": {
          "base_uri": "https://localhost:8080/",
          "height": 55
        },
        "outputId": "50d07a9e-3649-48c6-bc8f-7f96c5b3aea4"
      },
      "source": [
        "# ---------- Only to be run the first time the data set is uploaded ---------- #\n",
        "# Reads from compressed folder, drops the irrelevant columns, and outputs the new data to a new file called food_inspections.csv\n",
        "'''\n",
        "zf = zipfile.ZipFile('chicago-food-inspections.zip')\n",
        "dblp = pd.read_csv(zf.open('chicago-food-inspections/food-inspections.csv'))\n",
        "dblp = dblp.drop(['AKA Name', 'Address','City','State','Location','Historical Wards 2003-2015','Zip Codes','Community Areas','Census Tracts','Wards'], axis=1)\n",
        "dblp.to_csv(r'food_inspections.csv')\n",
        "'''"
      ],
      "execution_count": 189,
      "outputs": [
        {
          "output_type": "execute_result",
          "data": {
            "text/plain": [
              "\"\\nzf = zipfile.ZipFile('chicago-food-inspections.zip')\\ndblp = pd.read_csv(zf.open('chicago-food-inspections/food-inspections.csv'))\\ndblp = dblp.drop(['AKA Name', 'Address','City','State','Location','Historical Wards 2003-2015','Zip Codes','Community Areas','Census Tracts','Wards'], axis=1)\\ndblp.to_csv(r'food_inspections.csv')\\n\""
            ]
          },
          "metadata": {
            "tags": []
          },
          "execution_count": 189
        }
      ]
    },
    {
      "cell_type": "code",
      "metadata": {
        "id": "W-StO1Nyr9h5",
        "colab_type": "code",
        "colab": {
          "base_uri": "https://localhost:8080/",
          "height": 35
        },
        "outputId": "1123bd3a-15d8-4114-9ffd-aa358e19694c"
      },
      "source": [
        "#-- Uncomment this if using Jupyter Lab / Comment this if using Google Colab --#\n",
        "'''\n",
        "zf = zipfile.ZipFile('chicago_dropped.zip')\n",
        "df = pd.read_csv(zf.open('chicago_dropped/food_inspections.csv'))\n",
        "'''"
      ],
      "execution_count": 190,
      "outputs": [
        {
          "output_type": "execute_result",
          "data": {
            "text/plain": [
              "\"\\nzf = zipfile.ZipFile('chicago_dropped.zip')\\ndf = pd.read_csv(zf.open('chicago_dropped/food_inspections.csv'))\\n\""
            ]
          },
          "metadata": {
            "tags": []
          },
          "execution_count": 190
        }
      ]
    },
    {
      "cell_type": "code",
      "metadata": {
        "id": "8yt1F6q7r-9A",
        "colab_type": "code",
        "colab": {}
      },
      "source": [
        "#-- Uncomment this if using Google Colab / Comment this if using Jupyter Lab --# \n",
        "# Code to read csv file into Colaboratory:\n",
        "!pip install -U -q PyDrive\n",
        "from pydrive.auth import GoogleAuth\n",
        "from pydrive.drive import GoogleDrive\n",
        "from google.colab import auth\n",
        "from oauth2client.client import GoogleCredentials\n",
        "# Authenticate and create the PyDrive client.\n",
        "auth.authenticate_user()\n",
        "gauth = GoogleAuth()\n",
        "gauth.credentials = GoogleCredentials.get_application_default()\n",
        "drive = GoogleDrive(gauth)"
      ],
      "execution_count": 0,
      "outputs": []
    },
    {
      "cell_type": "code",
      "metadata": {
        "id": "jHy9hpAStUMi",
        "colab_type": "code",
        "colab": {
          "base_uri": "https://localhost:8080/",
          "height": 35
        },
        "outputId": "d2e6cd34-7be2-4069-d617-e5a8539e3e3f"
      },
      "source": [
        "#-- Uncomment this if using Google Colab / Comment this if using Jupyter Lab --# \n",
        "link = 'https://drive.google.com/open?id=1imDh9KH0Ne7RU6z_5CbO0b91fus8FGaY' # The shareable link\n",
        "fluff, id = link.split('=')\n",
        "print (id) # Verify that you have everything after '='\n",
        "\n",
        "downloaded = drive.CreateFile({'id':id}) \n",
        "downloaded.GetContentFile('food-inspections.csv')  \n",
        "df = pd.read_csv('food-inspections.csv')\n",
        "\n",
        "# Dataset is now stored in a Pandas Dataframe"
      ],
      "execution_count": 192,
      "outputs": [
        {
          "output_type": "stream",
          "text": [
            "1imDh9KH0Ne7RU6z_5CbO0b91fus8FGaY\n"
          ],
          "name": "stdout"
        }
      ]
    },
    {
      "cell_type": "markdown",
      "metadata": {
        "id": "N_D_0xcgOQgx",
        "colab_type": "text"
      },
      "source": [
        "# **Data Analysis**"
      ]
    },
    {
      "cell_type": "markdown",
      "metadata": {
        "id": "p8evugJae-ZT",
        "colab_type": "text"
      },
      "source": [
        "### **Number of Unique Facilities**"
      ]
    },
    {
      "cell_type": "code",
      "metadata": {
        "id": "beW4DumFfDkS",
        "colab_type": "code",
        "colab": {
          "base_uri": "https://localhost:8080/",
          "height": 35
        },
        "outputId": "ba17494e-af78-418c-e824-7a411985db21"
      },
      "source": [
        "df_unique = df.groupby(['Latitude','Longitude','DBA Name']).count()\n",
        "print(\"Number of unique facilities: \" + str(df_unique.shape[0]))"
      ],
      "execution_count": 193,
      "outputs": [
        {
          "output_type": "stream",
          "text": [
            "Number of unique facilities: 27068\n"
          ],
          "name": "stdout"
        }
      ]
    },
    {
      "cell_type": "markdown",
      "metadata": {
        "id": "Z8_DWQ9xr9iW",
        "colab_type": "text"
      },
      "source": [
        "### **Facility Type vs. Average Risk**\n"
      ]
    },
    {
      "cell_type": "markdown",
      "metadata": {
        "id": "2NYPWCi6PEV0",
        "colab_type": "text"
      },
      "source": [
        "We analyzed the relationship between the type of facility and the average risk of that facility over all inspections:"
      ]
    },
    {
      "cell_type": "code",
      "metadata": {
        "id": "rj-CxjLpr9iR",
        "colab_type": "code",
        "colab": {}
      },
      "source": [
        "# Aggregate data over Facility Type\n",
        "grouped_fac = df.groupby('Facility Type')"
      ],
      "execution_count": 0,
      "outputs": []
    },
    {
      "cell_type": "code",
      "metadata": {
        "id": "9EsVpnqxr9iT",
        "colab_type": "code",
        "colab": {
          "base_uri": "https://localhost:8080/",
          "height": 200
        },
        "outputId": "f246f6a6-ec0e-4d6c-baba-7e2021621ddf"
      },
      "source": [
        "# Compute average risk of each type of facility\n",
        "grouped_fac_risk_mean = pd.DataFrame(grouped_fac['Risk'].mean()).reset_index()\n",
        "grouped_fac_risk_mean.head()"
      ],
      "execution_count": 195,
      "outputs": [
        {
          "output_type": "execute_result",
          "data": {
            "text/html": [
              "<div>\n",
              "<style scoped>\n",
              "    .dataframe tbody tr th:only-of-type {\n",
              "        vertical-align: middle;\n",
              "    }\n",
              "\n",
              "    .dataframe tbody tr th {\n",
              "        vertical-align: top;\n",
              "    }\n",
              "\n",
              "    .dataframe thead th {\n",
              "        text-align: right;\n",
              "    }\n",
              "</style>\n",
              "<table border=\"1\" class=\"dataframe\">\n",
              "  <thead>\n",
              "    <tr style=\"text-align: right;\">\n",
              "      <th></th>\n",
              "      <th>Facility Type</th>\n",
              "      <th>Risk</th>\n",
              "    </tr>\n",
              "  </thead>\n",
              "  <tbody>\n",
              "    <tr>\n",
              "      <th>0</th>\n",
              "      <td>ADULT FAMILY CARE CENTER</td>\n",
              "      <td>1.00000</td>\n",
              "    </tr>\n",
              "    <tr>\n",
              "      <th>1</th>\n",
              "      <td>AIRPORT LOUNGE</td>\n",
              "      <td>1.50000</td>\n",
              "    </tr>\n",
              "    <tr>\n",
              "      <th>2</th>\n",
              "      <td>ART GALLERY</td>\n",
              "      <td>3.00000</td>\n",
              "    </tr>\n",
              "    <tr>\n",
              "      <th>3</th>\n",
              "      <td>ASSISTED LIVING/NURSING HOME</td>\n",
              "      <td>1.00000</td>\n",
              "    </tr>\n",
              "    <tr>\n",
              "      <th>4</th>\n",
              "      <td>BAKERY</td>\n",
              "      <td>1.62949</td>\n",
              "    </tr>\n",
              "  </tbody>\n",
              "</table>\n",
              "</div>"
            ],
            "text/plain": [
              "                  Facility Type     Risk\n",
              "0      ADULT FAMILY CARE CENTER  1.00000\n",
              "1                AIRPORT LOUNGE  1.50000\n",
              "2                   ART GALLERY  3.00000\n",
              "3  ASSISTED LIVING/NURSING HOME  1.00000\n",
              "4                        BAKERY  1.62949"
            ]
          },
          "metadata": {
            "tags": []
          },
          "execution_count": 195
        }
      ]
    },
    {
      "cell_type": "code",
      "metadata": {
        "id": "dCJRNes4PwB1",
        "colab_type": "code",
        "colab": {}
      },
      "source": [
        "# TODO: unify the entries with 1023 as one type of facility"
      ],
      "execution_count": 0,
      "outputs": []
    },
    {
      "cell_type": "code",
      "metadata": {
        "scrolled": true,
        "id": "UTR_QVrtr9iX",
        "colab_type": "code",
        "colab": {
          "base_uri": "https://localhost:8080/",
          "height": 429
        },
        "outputId": "83652269-6975-4bf0-d84c-3f9009f284fa"
      },
      "source": [
        "# Compute number of facilities in each type of facility\n",
        "fac_dist = pd.DataFrame(grouped_fac.count()['Risk']).rename(columns={'Risk':'Counts'}).sort_values(by='Counts',ascending=False).reset_index()\n",
        "print(\"Number of different types of facilities :\" + str(fac_dist.size))\n",
        "fac_dist.head(100)"
      ],
      "execution_count": 197,
      "outputs": [
        {
          "output_type": "stream",
          "text": [
            "Number of different types of facilities :236\n"
          ],
          "name": "stdout"
        },
        {
          "output_type": "execute_result",
          "data": {
            "text/html": [
              "<div>\n",
              "<style scoped>\n",
              "    .dataframe tbody tr th:only-of-type {\n",
              "        vertical-align: middle;\n",
              "    }\n",
              "\n",
              "    .dataframe tbody tr th {\n",
              "        vertical-align: top;\n",
              "    }\n",
              "\n",
              "    .dataframe thead th {\n",
              "        text-align: right;\n",
              "    }\n",
              "</style>\n",
              "<table border=\"1\" class=\"dataframe\">\n",
              "  <thead>\n",
              "    <tr style=\"text-align: right;\">\n",
              "      <th></th>\n",
              "      <th>Facility Type</th>\n",
              "      <th>Counts</th>\n",
              "    </tr>\n",
              "  </thead>\n",
              "  <tbody>\n",
              "    <tr>\n",
              "      <th>0</th>\n",
              "      <td>RESTAURANT</td>\n",
              "      <td>131852</td>\n",
              "    </tr>\n",
              "    <tr>\n",
              "      <th>1</th>\n",
              "      <td>RETAIL STORE</td>\n",
              "      <td>25635</td>\n",
              "    </tr>\n",
              "    <tr>\n",
              "      <th>2</th>\n",
              "      <td>SCHOOL</td>\n",
              "      <td>12054</td>\n",
              "    </tr>\n",
              "    <tr>\n",
              "      <th>3</th>\n",
              "      <td>DAYCARE</td>\n",
              "      <td>9537</td>\n",
              "    </tr>\n",
              "    <tr>\n",
              "      <th>4</th>\n",
              "      <td>BAKERY</td>\n",
              "      <td>2923</td>\n",
              "    </tr>\n",
              "    <tr>\n",
              "      <th>...</th>\n",
              "      <td>...</td>\n",
              "      <td>...</td>\n",
              "    </tr>\n",
              "    <tr>\n",
              "      <th>95</th>\n",
              "      <td>FOOD BOOTH</td>\n",
              "      <td>2</td>\n",
              "    </tr>\n",
              "    <tr>\n",
              "      <th>96</th>\n",
              "      <td>VENDING MACHINE</td>\n",
              "      <td>2</td>\n",
              "    </tr>\n",
              "    <tr>\n",
              "      <th>97</th>\n",
              "      <td>VFW HALL</td>\n",
              "      <td>2</td>\n",
              "    </tr>\n",
              "    <tr>\n",
              "      <th>98</th>\n",
              "      <td>BOYS AND GIRLS CLUB</td>\n",
              "      <td>2</td>\n",
              "    </tr>\n",
              "    <tr>\n",
              "      <th>99</th>\n",
              "      <td>BLOCKBUSTER VIDEO</td>\n",
              "      <td>2</td>\n",
              "    </tr>\n",
              "  </tbody>\n",
              "</table>\n",
              "<p>100 rows × 2 columns</p>\n",
              "</div>"
            ],
            "text/plain": [
              "          Facility Type  Counts\n",
              "0            RESTAURANT  131852\n",
              "1          RETAIL STORE   25635\n",
              "2                SCHOOL   12054\n",
              "3               DAYCARE    9537\n",
              "4                BAKERY    2923\n",
              "..                  ...     ...\n",
              "95           FOOD BOOTH       2\n",
              "96      VENDING MACHINE       2\n",
              "97             VFW HALL       2\n",
              "98  BOYS AND GIRLS CLUB       2\n",
              "99    BLOCKBUSTER VIDEO       2\n",
              "\n",
              "[100 rows x 2 columns]"
            ]
          },
          "metadata": {
            "tags": []
          },
          "execution_count": 197
        }
      ]
    },
    {
      "cell_type": "markdown",
      "metadata": {
        "id": "ZBPvbW_CYMPj",
        "colab_type": "text"
      },
      "source": [
        "When we plotted the number of facilities in each type of facility vs. their average risk score, we observed no correlation between the two. We observed that the facility type with the highest number of facilities (i.e. restaurant) has a very high average risk score:"
      ]
    },
    {
      "cell_type": "markdown",
      "metadata": {
        "id": "eVZEtg_iXrnc",
        "colab_type": "text"
      },
      "source": [
        "### **Facility Type Distribution**"
      ]
    },
    {
      "cell_type": "markdown",
      "metadata": {
        "id": "7-3nrh5PXIbv",
        "colab_type": "text"
      },
      "source": [
        "From the bar plot below, we can clearly observe the skewed distribution in Facility Type. Most of our data consists of restaurant, grocery store, and school types of facilities:"
      ]
    },
    {
      "cell_type": "code",
      "metadata": {
        "id": "TDqfH9CZS9Ws",
        "colab_type": "code",
        "colab": {
          "base_uri": "https://localhost:8080/",
          "height": 0
        },
        "outputId": "6128cdda-d10a-463a-bf1e-ac6dbd1e99d8"
      },
      "source": [
        "plt.barh(fac_dist.head(15)['Facility Type'],fac_dist.head(15)['Counts'])"
      ],
      "execution_count": 198,
      "outputs": [
        {
          "output_type": "execute_result",
          "data": {
            "text/plain": [
              "<BarContainer object of 15 artists>"
            ]
          },
          "metadata": {
            "tags": []
          },
          "execution_count": 198
        },
        {
          "output_type": "display_data",
          "data": {
            "image/png": "[encoded data removed]",
            "text/plain": [
              "<Figure size 432x288 with 1 Axes>"
            ]
          },
          "metadata": {
            "tags": []
          }
        }
      ]
    },
    {
      "cell_type": "markdown",
      "metadata": {
        "id": "CKLyGPdMYipy",
        "colab_type": "text"
      },
      "source": [
        "### **Number of Facilities in a Type vs. Average Risk Score**"
      ]
    },
    {
      "cell_type": "code",
      "metadata": {
        "id": "byAJr65ir9iZ",
        "colab_type": "code",
        "colab": {
          "base_uri": "https://localhost:8080/",
          "height": 0
        },
        "outputId": "6d4440e3-90a6-4d4b-e56d-746f3a96a5f7"
      },
      "source": [
        "# Perform inner merge on number of facilities and their risk scores \n",
        "merged_inner = pd.merge(left=fac_dist,right=grouped_fac_risk_mean,left_on='Facility Type',right_on='Facility Type')\n",
        "# Scatter plot: number of facilities in each type (i.e. facility type) vs. average risk score\n",
        "merged_inner.plot.scatter(x='Counts', y='Risk')"
      ],
      "execution_count": 199,
      "outputs": [
        {
          "output_type": "execute_result",
          "data": {
            "text/plain": [
              "<matplotlib.axes._subplots.AxesSubplot at 0x7f7103c08f98>"
            ]
          },
          "metadata": {
            "tags": []
          },
          "execution_count": 199
        },
        {
          "output_type": "display_data",
          "data": {
            "image/png": "[encoded data removed]",
            "text/plain": [
              "<Figure size 432x288 with 1 Axes>"
            ]
          },
          "metadata": {
            "tags": []
          }
        }
      ]
    },
    {
      "cell_type": "markdown",
      "metadata": {
        "id": "8-RqdwUPr9id",
        "colab_type": "text"
      },
      "source": [
        "We realized that the dataset is unbalanced in terms of number of Facility Types, where there are some Facility Types with very few instances. The types of facilities with very few instances would provide us with little to no information. Hence, we decided to analyze the 50 most frequent type of facilities and drop the others:"
      ]
    },
    {
      "cell_type": "code",
      "metadata": {
        "id": "8OU47lhMr9ie",
        "colab_type": "code",
        "colab": {
          "base_uri": "https://localhost:8080/",
          "height": 0
        },
        "outputId": "99359433-dae8-4960-fbd5-b4c58f2ac9f9"
      },
      "source": [
        "print(\"Number of entries before removing facility types with few instances: \" + str(df.size))\n",
        "df = df[df['Facility Type'].isin(list(fac_dist['Facility Type'])[:50])]\n",
        "print(\"Number of entries after removing facility types with few instances: \" + str(df.size))"
      ],
      "execution_count": 200,
      "outputs": [
        {
          "output_type": "stream",
          "text": [
            "Number of entries before removing facility types with few instances: 3074928\n",
            "Number of entries after removing facility types with few instances: 3071184\n"
          ],
          "name": "stdout"
        }
      ]
    },
    {
      "cell_type": "markdown",
      "metadata": {
        "id": "DZzu7EOQr9ig",
        "colab_type": "text"
      },
      "source": [
        "As we can see from the code above, there are around 20 thousand facilities that dont have as much inspections as the others. As a result, data set is more balanced now"
      ]
    },
    {
      "cell_type": "markdown",
      "metadata": {
        "id": "rvahQqzeYxPm",
        "colab_type": "text"
      },
      "source": [
        "### **Out of Business Facilities on Map**"
      ]
    },
    {
      "cell_type": "code",
      "metadata": {
        "id": "E80y45xOr9ih",
        "colab_type": "code",
        "colab": {
          "base_uri": "https://localhost:8080/",
          "height": 0
        },
        "outputId": "aa481f99-c3c4-4a9f-f9a6-23bc9d26b36c"
      },
      "source": [
        "# Out of business facilities\n",
        "df_oob = df[df.Results.str.contains(\"Out of Business\",na=False)]\n",
        "df_oob\n",
        "# Grouped by the facilities\n",
        "df_oob_unique = df_oob.groupby(['Latitude','Longitude','DBA Name', 'License #']).count()\n",
        "df_oob_unique.shape"
      ],
      "execution_count": 201,
      "outputs": [
        {
          "output_type": "execute_result",
          "data": {
            "text/plain": [
              "(13287, 12)"
            ]
          },
          "metadata": {
            "tags": []
          },
          "execution_count": 201
        }
      ]
    },
    {
      "cell_type": "markdown",
      "metadata": {
        "id": "-nJM5570tGrV",
        "colab_type": "text"
      },
      "source": [
        "We mapped the facilities that have gone out of business to identify any possible pattern:"
      ]
    },
    {
      "cell_type": "code",
      "metadata": {
        "id": "48p6tnK6r9ik",
        "colab_type": "code",
        "colab": {
          "base_uri": "https://localhost:8080/",
          "height": 0
        },
        "outputId": "1f026e40-1376-4816-855b-19ecfb90b766"
      },
      "source": [
        "'''\n",
        "# Map the facilities that have gone out of business \n",
        "map_oob = folium.Map(\n",
        "    location=[41.8781, -87.6298],\n",
        "    zoom_start=9\n",
        ")\n",
        "\n",
        "# We take 5000 samples to view on the map\n",
        "# TODO: take randomized samples / visualize the whole data\n",
        "marker_cluster = MarkerCluster().add_to(map_oob)\n",
        "ranges = 0\n",
        "for i in df_oob_unique.index:\n",
        "    if ranges == 5000:\n",
        "        break\n",
        "    folium.Marker([(i[0]), (i[1])]).add_to(marker_cluster)        \n",
        "    ranges = ranges + 1\n",
        "\n",
        "map_oob\n",
        "'''"
      ],
      "execution_count": 202,
      "outputs": [
        {
          "output_type": "execute_result",
          "data": {
            "text/plain": [
              "'\\n# Map the facilities that have gone out of business \\nmap_oob = folium.Map(\\n    location=[41.8781, -87.6298],\\n    zoom_start=9\\n)\\n\\n# We take 5000 samples to view on the map\\n# TODO: take randomized samples / visualize the whole data\\nmarker_cluster = MarkerCluster().add_to(map_oob)\\nranges = 0\\nfor i in df_oob_unique.index:\\n    if ranges == 5000:\\n        break\\n    folium.Marker([(i[0]), (i[1])]).add_to(marker_cluster)        \\n    ranges = ranges + 1\\n\\nmap_oob\\n'"
            ]
          },
          "metadata": {
            "tags": []
          },
          "execution_count": 202
        }
      ]
    },
    {
      "cell_type": "markdown",
      "metadata": {
        "id": "70YWgfyOY98g",
        "colab_type": "text"
      },
      "source": [
        "### **Average Risk of Facilities on Map**"
      ]
    },
    {
      "cell_type": "code",
      "metadata": {
        "id": "5oPntwPCr9ir",
        "colab_type": "code",
        "colab": {}
      },
      "source": [
        "# Calculate risk mean of each facility\n",
        "df_avg_risk_score = df.groupby(['Latitude','Longitude','DBA Name'])['Risk'].mean()"
      ],
      "execution_count": 0,
      "outputs": []
    },
    {
      "cell_type": "markdown",
      "metadata": {
        "id": "_J6Ty7thtdFo",
        "colab_type": "text"
      },
      "source": [
        "We mapped the average risk score of facilities to identify any possible pattern:"
      ]
    },
    {
      "cell_type": "code",
      "metadata": {
        "id": "xm69-CXir9iw",
        "colab_type": "code",
        "colab": {
          "base_uri": "https://localhost:8080/",
          "height": 0
        },
        "outputId": "556d6670-eb28-4091-a9c8-210a995a6e66"
      },
      "source": [
        "# Map the average risk score of facilities, where red indicates high risk, orange indicates medium risk, and green indicates low risk\n",
        "'''\n",
        "map_risk = folium.Map(\n",
        "    location=[41.8781, -87.6298],\n",
        "    zoom_start=9\n",
        ")\n",
        "\n",
        "# We take 2000 samples to view on the map\n",
        "# TODO: take randomized samples / visualize the whole data\n",
        "ranges = 0\n",
        "for i in df_avg_risk_score.index:\n",
        "    if ranges == 2000:\n",
        "        break\n",
        "    if(round(df_avg_risk_score[i]) == 1):\n",
        "        folium.Marker([(i[0]), (i[1])],icon=folium.Icon(color='red')).add_to(map_risk)\n",
        "    elif(round(df_avg_risk_score[i]) == 2):\n",
        "        folium.Marker([(i[0]), (i[1])],icon=folium.Icon(color='orange')).add_to(map_risk)\n",
        "    elif(round(df_avg_risk_score[i]) == 3):\n",
        "        folium.Marker([(i[0]), (i[1])],icon=folium.Icon(color='green')).add_to(map_risk)       \n",
        "    ranges = ranges + 1\n",
        "\n",
        "map_risk\n",
        "'''"
      ],
      "execution_count": 204,
      "outputs": [
        {
          "output_type": "execute_result",
          "data": {
            "text/plain": [
              "\"\\nmap_risk = folium.Map(\\n    location=[41.8781, -87.6298],\\n    zoom_start=9\\n)\\n\\n# We take 2000 samples to view on the map\\n# TODO: take randomized samples / visualize the whole data\\nranges = 0\\nfor i in df_avg_risk_score.index:\\n    if ranges == 2000:\\n        break\\n    if(round(df_avg_risk_score[i]) == 1):\\n        folium.Marker([(i[0]), (i[1])],icon=folium.Icon(color='red')).add_to(map_risk)\\n    elif(round(df_avg_risk_score[i]) == 2):\\n        folium.Marker([(i[0]), (i[1])],icon=folium.Icon(color='orange')).add_to(map_risk)\\n    elif(round(df_avg_risk_score[i]) == 3):\\n        folium.Marker([(i[0]), (i[1])],icon=folium.Icon(color='green')).add_to(map_risk)       \\n    ranges = ranges + 1\\n\\nmap_risk\\n\""
            ]
          },
          "metadata": {
            "tags": []
          },
          "execution_count": 204
        }
      ]
    },
    {
      "cell_type": "markdown",
      "metadata": {
        "id": "gedBg9DbwYnV",
        "colab_type": "text"
      },
      "source": [
        "We plotted the number of inspections vs. the average risk score of each facility to identify any possible correlation between the two. We observed the there is a negative correlation between the number of inspections and the average risk of the facility:"
      ]
    },
    {
      "cell_type": "code",
      "metadata": {
        "id": "SliEvDVHr9iz",
        "colab_type": "code",
        "colab": {
          "base_uri": "https://localhost:8080/",
          "height": 0
        },
        "outputId": "d86b8fe4-70dd-4e19-e88f-4d6a81da10ec"
      },
      "source": [
        "# Scatter plot on the number of inspections vs. the average risk score\n",
        "df_unique = pd.DataFrame(df.groupby(['Latitude','Longitude','DBA Name']).count()['Risk']).rename(columns={'Risk':'Counts'})\n",
        "merged = pd.merge(left=df_avg_risk_score.reset_index(),right=df_unique.reset_index(),left_on=['Latitude','Longitude','DBA Name'],right_on=['Latitude','Longitude','DBA Name'])\n",
        "merged.plot.scatter(x='Risk', y='Counts')"
      ],
      "execution_count": 205,
      "outputs": [
        {
          "output_type": "execute_result",
          "data": {
            "text/plain": [
              "<matplotlib.axes._subplots.AxesSubplot at 0x7f7103bf49e8>"
            ]
          },
          "metadata": {
            "tags": []
          },
          "execution_count": 205
        },
        {
          "output_type": "display_data",
          "data": {
            "image/png": "[encoded data removed]",
            "text/plain": [
              "<Figure size 432x288 with 1 Axes>"
            ]
          },
          "metadata": {
            "tags": []
          }
        }
      ]
    },
    {
      "cell_type": "markdown",
      "metadata": {
        "id": "WYaFos2Ir9i4",
        "colab_type": "text"
      },
      "source": [
        "We observed that the number of risk 3 facilities are lower than the others. Hence, we decided to plot average risk scores vs number of facilities."
      ]
    },
    {
      "cell_type": "markdown",
      "metadata": {
        "id": "jRnO5vZlnNtd",
        "colab_type": "text"
      },
      "source": [
        "### **Correlation between Number of Inspections and Average Level of Risk**"
      ]
    },
    {
      "cell_type": "markdown",
      "metadata": {
        "id": "VT4v4wC_yRha",
        "colab_type": "text"
      },
      "source": [
        "We observed a moderate positive correlation between the number of inspections and average level of risk of the facility (since Risk 1 means high risk and Risk 3 means low risk):"
      ]
    },
    {
      "cell_type": "code",
      "metadata": {
        "id": "DTX2ONt9w7V8",
        "colab_type": "code",
        "colab": {
          "base_uri": "https://localhost:8080/",
          "height": 0
        },
        "outputId": "95afdf6b-3183-4c6b-84eb-e471d5849346"
      },
      "source": [
        "merged[['Risk', 'Counts']].corr(method='pearson')"
      ],
      "execution_count": 206,
      "outputs": [
        {
          "output_type": "execute_result",
          "data": {
            "text/html": [
              "<div>\n",
              "<style scoped>\n",
              "    .dataframe tbody tr th:only-of-type {\n",
              "        vertical-align: middle;\n",
              "    }\n",
              "\n",
              "    .dataframe tbody tr th {\n",
              "        vertical-align: top;\n",
              "    }\n",
              "\n",
              "    .dataframe thead th {\n",
              "        text-align: right;\n",
              "    }\n",
              "</style>\n",
              "<table border=\"1\" class=\"dataframe\">\n",
              "  <thead>\n",
              "    <tr style=\"text-align: right;\">\n",
              "      <th></th>\n",
              "      <th>Risk</th>\n",
              "      <th>Counts</th>\n",
              "    </tr>\n",
              "  </thead>\n",
              "  <tbody>\n",
              "    <tr>\n",
              "      <th>Risk</th>\n",
              "      <td>1.000000</td>\n",
              "      <td>-0.365569</td>\n",
              "    </tr>\n",
              "    <tr>\n",
              "      <th>Counts</th>\n",
              "      <td>-0.365569</td>\n",
              "      <td>1.000000</td>\n",
              "    </tr>\n",
              "  </tbody>\n",
              "</table>\n",
              "</div>"
            ],
            "text/plain": [
              "            Risk    Counts\n",
              "Risk    1.000000 -0.365569\n",
              "Counts -0.365569  1.000000"
            ]
          },
          "metadata": {
            "tags": []
          },
          "execution_count": 206
        }
      ]
    },
    {
      "cell_type": "markdown",
      "metadata": {
        "id": "TcYiy6JonijB",
        "colab_type": "text"
      },
      "source": [
        "### **Distribution of Risk Scores of Facilities**"
      ]
    },
    {
      "cell_type": "markdown",
      "metadata": {
        "id": "QHzvzFwLn1ot",
        "colab_type": "text"
      },
      "source": [
        "We visualized the distribution of average level of risk scores of each facility using the bar plot below:"
      ]
    },
    {
      "cell_type": "code",
      "metadata": {
        "id": "1aMedXkjr9i4",
        "colab_type": "code",
        "colab": {
          "base_uri": "https://localhost:8080/",
          "height": 0
        },
        "outputId": "349a71d3-bbe1-483a-97e8-6888646daf35"
      },
      "source": [
        "# Grouped by risk scores and number of facilities\n",
        "df_avg_risk_score1 = pd.DataFrame(df_avg_risk_score).apply(lambda x: round(x)).reset_index()\n",
        "df_avg_risk_score1 = pd.DataFrame(df_avg_risk_score1.groupby('Risk').count()['Latitude']).rename(columns={'Latitude':'Counts'})\n",
        "df_avg_risk_score1"
      ],
      "execution_count": 207,
      "outputs": [
        {
          "output_type": "execute_result",
          "data": {
            "text/html": [
              "<div>\n",
              "<style scoped>\n",
              "    .dataframe tbody tr th:only-of-type {\n",
              "        vertical-align: middle;\n",
              "    }\n",
              "\n",
              "    .dataframe tbody tr th {\n",
              "        vertical-align: top;\n",
              "    }\n",
              "\n",
              "    .dataframe thead th {\n",
              "        text-align: right;\n",
              "    }\n",
              "</style>\n",
              "<table border=\"1\" class=\"dataframe\">\n",
              "  <thead>\n",
              "    <tr style=\"text-align: right;\">\n",
              "      <th></th>\n",
              "      <th>Counts</th>\n",
              "    </tr>\n",
              "    <tr>\n",
              "      <th>Risk</th>\n",
              "      <th></th>\n",
              "    </tr>\n",
              "  </thead>\n",
              "  <tbody>\n",
              "    <tr>\n",
              "      <th>1.0</th>\n",
              "      <td>15581</td>\n",
              "    </tr>\n",
              "    <tr>\n",
              "      <th>2.0</th>\n",
              "      <td>6720</td>\n",
              "    </tr>\n",
              "    <tr>\n",
              "      <th>3.0</th>\n",
              "      <td>4688</td>\n",
              "    </tr>\n",
              "  </tbody>\n",
              "</table>\n",
              "</div>"
            ],
            "text/plain": [
              "      Counts\n",
              "Risk        \n",
              "1.0    15581\n",
              "2.0     6720\n",
              "3.0     4688"
            ]
          },
          "metadata": {
            "tags": []
          },
          "execution_count": 207
        }
      ]
    },
    {
      "cell_type": "code",
      "metadata": {
        "id": "H-8wb6jkr9i6",
        "colab_type": "code",
        "colab": {
          "base_uri": "https://localhost:8080/",
          "height": 0
        },
        "outputId": "4b209076-54c3-4fa9-8d61-e91d0af9c286"
      },
      "source": [
        "plt.bar(df_avg_risk_score1.index,df_avg_risk_score1['Counts'])"
      ],
      "execution_count": 208,
      "outputs": [
        {
          "output_type": "execute_result",
          "data": {
            "text/plain": [
              "<BarContainer object of 3 artists>"
            ]
          },
          "metadata": {
            "tags": []
          },
          "execution_count": 208
        },
        {
          "output_type": "display_data",
          "data": {
            "image/png": "[encoded data removed]",
            "text/plain": [
              "<Figure size 432x288 with 1 Axes>"
            ]
          },
          "metadata": {
            "tags": []
          }
        }
      ]
    },
    {
      "cell_type": "markdown",
      "metadata": {
        "id": "Fi_AiSyn5Qkm",
        "colab_type": "text"
      },
      "source": [
        "### **Different Branches vs. Risk Score**"
      ]
    },
    {
      "cell_type": "markdown",
      "metadata": {
        "id": "I2FKMuipNzKH",
        "colab_type": "text"
      },
      "source": [
        "For the next milestone, we want to analyze the average risk score of a facility between its different branches."
      ]
    },
    {
      "cell_type": "code",
      "metadata": {
        "id": "s4zsIpOw5jtD",
        "colab_type": "code",
        "colab": {}
      },
      "source": [
        "# Identify the facility with the highest number of branches\n",
        "#grouped_name = df.groupby('DBA Name').count()\n",
        "grouped_unique_name = pd.DataFrame(df.groupby('DBA Name').count().rename(columns={'Risk':'Counts'})['Counts']).sort_values(by='Counts',ascending=False).reset_index()\n",
        "grouped_unique_facility = pd.DataFrame(df.groupby(['Latitude','Longitude','DBA Name']).count().rename(columns={'Risk':'Counts'})['Counts']).sort_values(by='Counts',ascending=False).reset_index()"
      ],
      "execution_count": 0,
      "outputs": []
    },
    {
      "cell_type": "markdown",
      "metadata": {
        "id": "NGrrO4kM9WXs",
        "colab_type": "text"
      },
      "source": [
        "We will be investigating the facility (chain) with the highest number of branches to see if there is any difference in the risk scores of its branches. "
      ]
    },
    {
      "cell_type": "code",
      "metadata": {
        "id": "FQg4wd2s5YDQ",
        "colab_type": "code",
        "colab": {
          "base_uri": "https://localhost:8080/",
          "height": 0
        },
        "outputId": "7c5d32a5-f809-4420-d702-9d9c5e584c45"
      },
      "source": [
        "# The facilities with the highest number of inspections (chain)\n",
        "grouped_unique_name.head()"
      ],
      "execution_count": 210,
      "outputs": [
        {
          "output_type": "execute_result",
          "data": {
            "text/html": [
              "<div>\n",
              "<style scoped>\n",
              "    .dataframe tbody tr th:only-of-type {\n",
              "        vertical-align: middle;\n",
              "    }\n",
              "\n",
              "    .dataframe tbody tr th {\n",
              "        vertical-align: top;\n",
              "    }\n",
              "\n",
              "    .dataframe thead th {\n",
              "        text-align: right;\n",
              "    }\n",
              "</style>\n",
              "<table border=\"1\" class=\"dataframe\">\n",
              "  <thead>\n",
              "    <tr style=\"text-align: right;\">\n",
              "      <th></th>\n",
              "      <th>DBA Name</th>\n",
              "      <th>Counts</th>\n",
              "    </tr>\n",
              "  </thead>\n",
              "  <tbody>\n",
              "    <tr>\n",
              "      <th>0</th>\n",
              "      <td>SUBWAY</td>\n",
              "      <td>4069</td>\n",
              "    </tr>\n",
              "    <tr>\n",
              "      <th>1</th>\n",
              "      <td>DUNKIN DONUTS</td>\n",
              "      <td>2259</td>\n",
              "    </tr>\n",
              "    <tr>\n",
              "      <th>2</th>\n",
              "      <td>MCDONALDS</td>\n",
              "      <td>2216</td>\n",
              "    </tr>\n",
              "    <tr>\n",
              "      <th>3</th>\n",
              "      <td>7-ELEVEN</td>\n",
              "      <td>1410</td>\n",
              "    </tr>\n",
              "    <tr>\n",
              "      <th>4</th>\n",
              "      <td>STARBUCKS</td>\n",
              "      <td>1398</td>\n",
              "    </tr>\n",
              "  </tbody>\n",
              "</table>\n",
              "</div>"
            ],
            "text/plain": [
              "        DBA Name  Counts\n",
              "0         SUBWAY    4069\n",
              "1  DUNKIN DONUTS    2259\n",
              "2      MCDONALDS    2216\n",
              "3       7-ELEVEN    1410\n",
              "4      STARBUCKS    1398"
            ]
          },
          "metadata": {
            "tags": []
          },
          "execution_count": 210
        }
      ]
    },
    {
      "cell_type": "code",
      "metadata": {
        "id": "ahCqevsq6G-T",
        "colab_type": "code",
        "colab": {
          "base_uri": "https://localhost:8080/",
          "height": 0
        },
        "outputId": "ca1f101c-c71c-440a-9d5f-341dd87677eb"
      },
      "source": [
        "# The facilities with the highest number of inspections (unique)\n",
        "grouped_unique_facility.head()"
      ],
      "execution_count": 211,
      "outputs": [
        {
          "output_type": "execute_result",
          "data": {
            "text/html": [
              "<div>\n",
              "<style scoped>\n",
              "    .dataframe tbody tr th:only-of-type {\n",
              "        vertical-align: middle;\n",
              "    }\n",
              "\n",
              "    .dataframe tbody tr th {\n",
              "        vertical-align: top;\n",
              "    }\n",
              "\n",
              "    .dataframe thead th {\n",
              "        text-align: right;\n",
              "    }\n",
              "</style>\n",
              "<table border=\"1\" class=\"dataframe\">\n",
              "  <thead>\n",
              "    <tr style=\"text-align: right;\">\n",
              "      <th></th>\n",
              "      <th>Latitude</th>\n",
              "      <th>Longitude</th>\n",
              "      <th>DBA Name</th>\n",
              "      <th>Counts</th>\n",
              "    </tr>\n",
              "  </thead>\n",
              "  <tbody>\n",
              "    <tr>\n",
              "      <th>0</th>\n",
              "      <td>41.862628</td>\n",
              "      <td>-87.615031</td>\n",
              "      <td>SPORT SERVICE SOLDIER FIELD</td>\n",
              "      <td>197</td>\n",
              "    </tr>\n",
              "    <tr>\n",
              "      <th>1</th>\n",
              "      <td>41.830784</td>\n",
              "      <td>-87.635296</td>\n",
              "      <td>ILLINOIS SPORTSERVICE</td>\n",
              "      <td>173</td>\n",
              "    </tr>\n",
              "    <tr>\n",
              "      <th>2</th>\n",
              "      <td>42.008536</td>\n",
              "      <td>-87.914428</td>\n",
              "      <td>STARBUCKS</td>\n",
              "      <td>159</td>\n",
              "    </tr>\n",
              "    <tr>\n",
              "      <th>3</th>\n",
              "      <td>42.008536</td>\n",
              "      <td>-87.914428</td>\n",
              "      <td>MCDONALDS</td>\n",
              "      <td>148</td>\n",
              "    </tr>\n",
              "    <tr>\n",
              "      <th>4</th>\n",
              "      <td>41.947317</td>\n",
              "      <td>-87.656418</td>\n",
              "      <td>LEVY RESTAURANTS</td>\n",
              "      <td>148</td>\n",
              "    </tr>\n",
              "  </tbody>\n",
              "</table>\n",
              "</div>"
            ],
            "text/plain": [
              "    Latitude  Longitude                     DBA Name  Counts\n",
              "0  41.862628 -87.615031  SPORT SERVICE SOLDIER FIELD     197\n",
              "1  41.830784 -87.635296        ILLINOIS SPORTSERVICE     173\n",
              "2  42.008536 -87.914428                    STARBUCKS     159\n",
              "3  42.008536 -87.914428                    MCDONALDS     148\n",
              "4  41.947317 -87.656418             LEVY RESTAURANTS     148"
            ]
          },
          "metadata": {
            "tags": []
          },
          "execution_count": 211
        }
      ]
    },
    {
      "cell_type": "markdown",
      "metadata": {
        "id": "_n637CHg_9jG",
        "colab_type": "text"
      },
      "source": [
        "### **Type of Facility vs. Percentage of Going Out of Business**"
      ]
    },
    {
      "cell_type": "code",
      "metadata": {
        "id": "hU9hCSduAtKO",
        "colab_type": "code",
        "colab": {
          "base_uri": "https://localhost:8080/",
          "height": 0
        },
        "outputId": "ad02ec98-4687-4add-fb6a-f9bbc64c7c0f"
      },
      "source": [
        "# Data grouped by the facility type\n",
        "fac_dist.head()"
      ],
      "execution_count": 212,
      "outputs": [
        {
          "output_type": "execute_result",
          "data": {
            "text/html": [
              "<div>\n",
              "<style scoped>\n",
              "    .dataframe tbody tr th:only-of-type {\n",
              "        vertical-align: middle;\n",
              "    }\n",
              "\n",
              "    .dataframe tbody tr th {\n",
              "        vertical-align: top;\n",
              "    }\n",
              "\n",
              "    .dataframe thead th {\n",
              "        text-align: right;\n",
              "    }\n",
              "</style>\n",
              "<table border=\"1\" class=\"dataframe\">\n",
              "  <thead>\n",
              "    <tr style=\"text-align: right;\">\n",
              "      <th></th>\n",
              "      <th>Facility Type</th>\n",
              "      <th>Counts</th>\n",
              "    </tr>\n",
              "  </thead>\n",
              "  <tbody>\n",
              "    <tr>\n",
              "      <th>0</th>\n",
              "      <td>RESTAURANT</td>\n",
              "      <td>131852</td>\n",
              "    </tr>\n",
              "    <tr>\n",
              "      <th>1</th>\n",
              "      <td>RETAIL STORE</td>\n",
              "      <td>25635</td>\n",
              "    </tr>\n",
              "    <tr>\n",
              "      <th>2</th>\n",
              "      <td>SCHOOL</td>\n",
              "      <td>12054</td>\n",
              "    </tr>\n",
              "    <tr>\n",
              "      <th>3</th>\n",
              "      <td>DAYCARE</td>\n",
              "      <td>9537</td>\n",
              "    </tr>\n",
              "    <tr>\n",
              "      <th>4</th>\n",
              "      <td>BAKERY</td>\n",
              "      <td>2923</td>\n",
              "    </tr>\n",
              "  </tbody>\n",
              "</table>\n",
              "</div>"
            ],
            "text/plain": [
              "  Facility Type  Counts\n",
              "0    RESTAURANT  131852\n",
              "1  RETAIL STORE   25635\n",
              "2        SCHOOL   12054\n",
              "3       DAYCARE    9537\n",
              "4        BAKERY    2923"
            ]
          },
          "metadata": {
            "tags": []
          },
          "execution_count": 212
        }
      ]
    },
    {
      "cell_type": "code",
      "metadata": {
        "id": "-sqDIFO0A4IU",
        "colab_type": "code",
        "colab": {}
      },
      "source": [
        "# Group out of business facilities on facility type\n",
        "df_oob_fac = pd.DataFrame(df_oob.groupby('Facility Type').count().rename(columns={'Risk':'Counts'})['Counts'])\n",
        "merged_fac_oob = pd.merge(left=df_oob_fac.reset_index(), right=fac_dist.reset_index(),left_on=['Facility Type'],right_on=['Facility Type'])"
      ],
      "execution_count": 0,
      "outputs": []
    },
    {
      "cell_type": "code",
      "metadata": {
        "id": "A87w-TYQAvyu",
        "colab_type": "code",
        "colab": {
          "base_uri": "https://localhost:8080/",
          "height": 0
        },
        "outputId": "110ecc26-c130-4da3-be22-05a358815895"
      },
      "source": [
        "merged_fac_oob.head()"
      ],
      "execution_count": 214,
      "outputs": [
        {
          "output_type": "execute_result",
          "data": {
            "text/html": [
              "<div>\n",
              "<style scoped>\n",
              "    .dataframe tbody tr th:only-of-type {\n",
              "        vertical-align: middle;\n",
              "    }\n",
              "\n",
              "    .dataframe tbody tr th {\n",
              "        vertical-align: top;\n",
              "    }\n",
              "\n",
              "    .dataframe thead th {\n",
              "        text-align: right;\n",
              "    }\n",
              "</style>\n",
              "<table border=\"1\" class=\"dataframe\">\n",
              "  <thead>\n",
              "    <tr style=\"text-align: right;\">\n",
              "      <th></th>\n",
              "      <th>Facility Type</th>\n",
              "      <th>Counts_x</th>\n",
              "      <th>index</th>\n",
              "      <th>Counts_y</th>\n",
              "    </tr>\n",
              "  </thead>\n",
              "  <tbody>\n",
              "    <tr>\n",
              "      <th>0</th>\n",
              "      <td>ASSISTED LIVING/NURSING HOME</td>\n",
              "      <td>4</td>\n",
              "      <td>21</td>\n",
              "      <td>95</td>\n",
              "    </tr>\n",
              "    <tr>\n",
              "      <th>1</th>\n",
              "      <td>BAKERY</td>\n",
              "      <td>249</td>\n",
              "      <td>4</td>\n",
              "      <td>2923</td>\n",
              "    </tr>\n",
              "    <tr>\n",
              "      <th>2</th>\n",
              "      <td>BANQUET</td>\n",
              "      <td>19</td>\n",
              "      <td>13</td>\n",
              "      <td>338</td>\n",
              "    </tr>\n",
              "    <tr>\n",
              "      <th>3</th>\n",
              "      <td>BAR</td>\n",
              "      <td>6</td>\n",
              "      <td>24</td>\n",
              "      <td>81</td>\n",
              "    </tr>\n",
              "    <tr>\n",
              "      <th>4</th>\n",
              "      <td>BUTCHER</td>\n",
              "      <td>5</td>\n",
              "      <td>34</td>\n",
              "      <td>34</td>\n",
              "    </tr>\n",
              "  </tbody>\n",
              "</table>\n",
              "</div>"
            ],
            "text/plain": [
              "                  Facility Type  Counts_x  index  Counts_y\n",
              "0  ASSISTED LIVING/NURSING HOME         4     21        95\n",
              "1                        BAKERY       249      4      2923\n",
              "2                       BANQUET        19     13       338\n",
              "3                           BAR         6     24        81\n",
              "4                       BUTCHER         5     34        34"
            ]
          },
          "metadata": {
            "tags": []
          },
          "execution_count": 214
        }
      ]
    },
    {
      "cell_type": "code",
      "metadata": {
        "id": "le_INawoDHVL",
        "colab_type": "code",
        "colab": {}
      },
      "source": [
        "merged_fac_oob['Oob Ratio'] = merged_fac_oob['Counts_x'].divide(merged_fac_oob['Counts_y'], fill_value=1)"
      ],
      "execution_count": 0,
      "outputs": []
    },
    {
      "cell_type": "code",
      "metadata": {
        "id": "qlwbJvSnDrT1",
        "colab_type": "code",
        "colab": {
          "base_uri": "https://localhost:8080/",
          "height": 0
        },
        "outputId": "ed78d9aa-598c-43d2-db9e-4b1910ae631c"
      },
      "source": [
        "merged_fac_oob.sort_values(by='Oob Ratio', ascending=False).drop(columns='index').head()"
      ],
      "execution_count": 216,
      "outputs": [
        {
          "output_type": "execute_result",
          "data": {
            "text/html": [
              "<div>\n",
              "<style scoped>\n",
              "    .dataframe tbody tr th:only-of-type {\n",
              "        vertical-align: middle;\n",
              "    }\n",
              "\n",
              "    .dataframe tbody tr th {\n",
              "        vertical-align: top;\n",
              "    }\n",
              "\n",
              "    .dataframe thead th {\n",
              "        text-align: right;\n",
              "    }\n",
              "</style>\n",
              "<table border=\"1\" class=\"dataframe\">\n",
              "  <thead>\n",
              "    <tr style=\"text-align: right;\">\n",
              "      <th></th>\n",
              "      <th>Facility Type</th>\n",
              "      <th>Counts_x</th>\n",
              "      <th>Counts_y</th>\n",
              "      <th>Oob Ratio</th>\n",
              "    </tr>\n",
              "  </thead>\n",
              "  <tbody>\n",
              "    <tr>\n",
              "      <th>30</th>\n",
              "      <td>PANTRY</td>\n",
              "      <td>5</td>\n",
              "      <td>9</td>\n",
              "      <td>0.555556</td>\n",
              "    </tr>\n",
              "    <tr>\n",
              "      <th>14</th>\n",
              "      <td>DISTRIBUTION</td>\n",
              "      <td>3</td>\n",
              "      <td>10</td>\n",
              "      <td>0.300000</td>\n",
              "    </tr>\n",
              "    <tr>\n",
              "      <th>41</th>\n",
              "      <td>WAREHOUSE</td>\n",
              "      <td>2</td>\n",
              "      <td>13</td>\n",
              "      <td>0.153846</td>\n",
              "    </tr>\n",
              "    <tr>\n",
              "      <th>4</th>\n",
              "      <td>BUTCHER</td>\n",
              "      <td>5</td>\n",
              "      <td>34</td>\n",
              "      <td>0.147059</td>\n",
              "    </tr>\n",
              "    <tr>\n",
              "      <th>18</th>\n",
              "      <td>HERBAL</td>\n",
              "      <td>6</td>\n",
              "      <td>47</td>\n",
              "      <td>0.127660</td>\n",
              "    </tr>\n",
              "  </tbody>\n",
              "</table>\n",
              "</div>"
            ],
            "text/plain": [
              "   Facility Type  Counts_x  Counts_y  Oob Ratio\n",
              "30        PANTRY         5         9   0.555556\n",
              "14  DISTRIBUTION         3        10   0.300000\n",
              "41     WAREHOUSE         2        13   0.153846\n",
              "4        BUTCHER         5        34   0.147059\n",
              "18        HERBAL         6        47   0.127660"
            ]
          },
          "metadata": {
            "tags": []
          },
          "execution_count": 216
        }
      ]
    },
    {
      "cell_type": "code",
      "metadata": {
        "id": "VRWfp0XxFLV1",
        "colab_type": "code",
        "colab": {
          "base_uri": "https://localhost:8080/",
          "height": 0
        },
        "outputId": "a3e533ba-ef50-4838-ae95-847f7ab2185c"
      },
      "source": [
        "merged_fac_oob[['Oob Ratio', 'Counts_y']].corr(method='pearson')"
      ],
      "execution_count": 217,
      "outputs": [
        {
          "output_type": "execute_result",
          "data": {
            "text/html": [
              "<div>\n",
              "<style scoped>\n",
              "    .dataframe tbody tr th:only-of-type {\n",
              "        vertical-align: middle;\n",
              "    }\n",
              "\n",
              "    .dataframe tbody tr th {\n",
              "        vertical-align: top;\n",
              "    }\n",
              "\n",
              "    .dataframe thead th {\n",
              "        text-align: right;\n",
              "    }\n",
              "</style>\n",
              "<table border=\"1\" class=\"dataframe\">\n",
              "  <thead>\n",
              "    <tr style=\"text-align: right;\">\n",
              "      <th></th>\n",
              "      <th>Oob Ratio</th>\n",
              "      <th>Counts_y</th>\n",
              "    </tr>\n",
              "  </thead>\n",
              "  <tbody>\n",
              "    <tr>\n",
              "      <th>Oob Ratio</th>\n",
              "      <td>1.000000</td>\n",
              "      <td>-0.042375</td>\n",
              "    </tr>\n",
              "    <tr>\n",
              "      <th>Counts_y</th>\n",
              "      <td>-0.042375</td>\n",
              "      <td>1.000000</td>\n",
              "    </tr>\n",
              "  </tbody>\n",
              "</table>\n",
              "</div>"
            ],
            "text/plain": [
              "           Oob Ratio  Counts_y\n",
              "Oob Ratio   1.000000 -0.042375\n",
              "Counts_y   -0.042375  1.000000"
            ]
          },
          "metadata": {
            "tags": []
          },
          "execution_count": 217
        }
      ]
    },
    {
      "cell_type": "markdown",
      "metadata": {
        "id": "DTiyvgeeHIX5",
        "colab_type": "text"
      },
      "source": [
        "We wanted to identify a possible correlation between the type of facility and the percentage of going out of business. However, when we calculated the pearson's correlation factor, we observed no correlation."
      ]
    },
    {
      "cell_type": "markdown",
      "metadata": {
        "id": "PZh_kj61J8BC",
        "colab_type": "text"
      },
      "source": [
        "### **Percentage of Going Out of Business vs. Average Risk Score**"
      ]
    },
    {
      "cell_type": "code",
      "metadata": {
        "id": "3QgEx1ESKmkZ",
        "colab_type": "code",
        "colab": {}
      },
      "source": [
        "# Merge the out of business facility types with their average risk scores\n",
        "fac_oob_risk = pd.merge(left=merged_fac_oob.reset_index(), right=grouped_fac_risk_mean.reset_index(),left_on=['Facility Type'],right_on=['Facility Type'])"
      ],
      "execution_count": 0,
      "outputs": []
    },
    {
      "cell_type": "code",
      "metadata": {
        "id": "wfajDTtELI6m",
        "colab_type": "code",
        "colab": {
          "base_uri": "https://localhost:8080/",
          "height": 0
        },
        "outputId": "ee7389d3-aa03-42c4-9553-4d9743a39daf"
      },
      "source": [
        "fac_oob_risk.drop(columns=['index_x', 'index_y']).rename(columns={'Counts_x':'Oob Count', 'Counts_y':'Total Count'}).head()"
      ],
      "execution_count": 219,
      "outputs": [
        {
          "output_type": "execute_result",
          "data": {
            "text/html": [
              "<div>\n",
              "<style scoped>\n",
              "    .dataframe tbody tr th:only-of-type {\n",
              "        vertical-align: middle;\n",
              "    }\n",
              "\n",
              "    .dataframe tbody tr th {\n",
              "        vertical-align: top;\n",
              "    }\n",
              "\n",
              "    .dataframe thead th {\n",
              "        text-align: right;\n",
              "    }\n",
              "</style>\n",
              "<table border=\"1\" class=\"dataframe\">\n",
              "  <thead>\n",
              "    <tr style=\"text-align: right;\">\n",
              "      <th></th>\n",
              "      <th>level_0</th>\n",
              "      <th>Facility Type</th>\n",
              "      <th>Oob Count</th>\n",
              "      <th>Total Count</th>\n",
              "      <th>Oob Ratio</th>\n",
              "      <th>Risk</th>\n",
              "    </tr>\n",
              "  </thead>\n",
              "  <tbody>\n",
              "    <tr>\n",
              "      <th>0</th>\n",
              "      <td>0</td>\n",
              "      <td>ASSISTED LIVING/NURSING HOME</td>\n",
              "      <td>4</td>\n",
              "      <td>95</td>\n",
              "      <td>0.042105</td>\n",
              "      <td>1.000000</td>\n",
              "    </tr>\n",
              "    <tr>\n",
              "      <th>1</th>\n",
              "      <td>1</td>\n",
              "      <td>BAKERY</td>\n",
              "      <td>249</td>\n",
              "      <td>2923</td>\n",
              "      <td>0.085186</td>\n",
              "      <td>1.629490</td>\n",
              "    </tr>\n",
              "    <tr>\n",
              "      <th>2</th>\n",
              "      <td>2</td>\n",
              "      <td>BANQUET</td>\n",
              "      <td>19</td>\n",
              "      <td>338</td>\n",
              "      <td>0.056213</td>\n",
              "      <td>1.118343</td>\n",
              "    </tr>\n",
              "    <tr>\n",
              "      <th>3</th>\n",
              "      <td>3</td>\n",
              "      <td>BAR</td>\n",
              "      <td>6</td>\n",
              "      <td>81</td>\n",
              "      <td>0.074074</td>\n",
              "      <td>2.135802</td>\n",
              "    </tr>\n",
              "    <tr>\n",
              "      <th>4</th>\n",
              "      <td>4</td>\n",
              "      <td>BUTCHER</td>\n",
              "      <td>5</td>\n",
              "      <td>34</td>\n",
              "      <td>0.147059</td>\n",
              "      <td>2.029412</td>\n",
              "    </tr>\n",
              "  </tbody>\n",
              "</table>\n",
              "</div>"
            ],
            "text/plain": [
              "   level_0                 Facility Type  ...  Oob Ratio      Risk\n",
              "0        0  ASSISTED LIVING/NURSING HOME  ...   0.042105  1.000000\n",
              "1        1                        BAKERY  ...   0.085186  1.629490\n",
              "2        2                       BANQUET  ...   0.056213  1.118343\n",
              "3        3                           BAR  ...   0.074074  2.135802\n",
              "4        4                       BUTCHER  ...   0.147059  2.029412\n",
              "\n",
              "[5 rows x 6 columns]"
            ]
          },
          "metadata": {
            "tags": []
          },
          "execution_count": 219
        }
      ]
    },
    {
      "cell_type": "code",
      "metadata": {
        "id": "d1Bbc2-iLKKi",
        "colab_type": "code",
        "colab": {
          "base_uri": "https://localhost:8080/",
          "height": 0
        },
        "outputId": "f1a7130d-1f01-4888-cb63-ac9b4ba158e1"
      },
      "source": [
        "fac_oob_risk[['Oob Ratio', 'Risk']].corr(method='pearson')"
      ],
      "execution_count": 220,
      "outputs": [
        {
          "output_type": "execute_result",
          "data": {
            "text/html": [
              "<div>\n",
              "<style scoped>\n",
              "    .dataframe tbody tr th:only-of-type {\n",
              "        vertical-align: middle;\n",
              "    }\n",
              "\n",
              "    .dataframe tbody tr th {\n",
              "        vertical-align: top;\n",
              "    }\n",
              "\n",
              "    .dataframe thead th {\n",
              "        text-align: right;\n",
              "    }\n",
              "</style>\n",
              "<table border=\"1\" class=\"dataframe\">\n",
              "  <thead>\n",
              "    <tr style=\"text-align: right;\">\n",
              "      <th></th>\n",
              "      <th>Oob Ratio</th>\n",
              "      <th>Risk</th>\n",
              "    </tr>\n",
              "  </thead>\n",
              "  <tbody>\n",
              "    <tr>\n",
              "      <th>Oob Ratio</th>\n",
              "      <td>1.000000</td>\n",
              "      <td>0.202511</td>\n",
              "    </tr>\n",
              "    <tr>\n",
              "      <th>Risk</th>\n",
              "      <td>0.202511</td>\n",
              "      <td>1.000000</td>\n",
              "    </tr>\n",
              "  </tbody>\n",
              "</table>\n",
              "</div>"
            ],
            "text/plain": [
              "           Oob Ratio      Risk\n",
              "Oob Ratio   1.000000  0.202511\n",
              "Risk        0.202511  1.000000"
            ]
          },
          "metadata": {
            "tags": []
          },
          "execution_count": 220
        }
      ]
    },
    {
      "cell_type": "markdown",
      "metadata": {
        "id": "c74wraFTNRcp",
        "colab_type": "text"
      },
      "source": [
        "We wanted to identify a possible correlation between the out of business ratio and the risk of the type of facility. However, when we calculated the pearson's correlation factor, we observed no correlation.\n",
        "\n"
      ]
    },
    {
      "cell_type": "markdown",
      "metadata": {
        "id": "PixL067182Vq",
        "colab_type": "text"
      },
      "source": [
        "## **Violation Type Analysis**"
      ]
    },
    {
      "cell_type": "markdown",
      "metadata": {
        "id": "WRjDeP-k4NAn",
        "colab_type": "text"
      },
      "source": [
        "### **Violations analysis - facilities that have gone out of business**"
      ]
    },
    {
      "cell_type": "code",
      "metadata": {
        "id": "8WiNcwRD9xyd",
        "colab_type": "code",
        "colab": {
          "base_uri": "https://localhost:8080/",
          "height": 900
        },
        "outputId": "da6edefa-b7c1-40af-a821-cd1379028d96"
      },
      "source": [
        "df_oob_unique.reset_index(inplace=True)\n",
        "merged_oob = pd.merge(left=df_oob_unique[['Latitude', 'Longitude', 'DBA Name', 'License #']], right=df, on=['Latitude', 'Longitude', 'DBA Name', 'License #'])\n",
        "merged_oob.head(10)"
      ],
      "execution_count": 221,
      "outputs": [
        {
          "output_type": "execute_result",
          "data": {
            "text/html": [
              "<div>\n",
              "<style scoped>\n",
              "    .dataframe tbody tr th:only-of-type {\n",
              "        vertical-align: middle;\n",
              "    }\n",
              "\n",
              "    .dataframe tbody tr th {\n",
              "        vertical-align: top;\n",
              "    }\n",
              "\n",
              "    .dataframe thead th {\n",
              "        text-align: right;\n",
              "    }\n",
              "</style>\n",
              "<table border=\"1\" class=\"dataframe\">\n",
              "  <thead>\n",
              "    <tr style=\"text-align: right;\">\n",
              "      <th></th>\n",
              "      <th>Latitude</th>\n",
              "      <th>Longitude</th>\n",
              "      <th>DBA Name</th>\n",
              "      <th>License #</th>\n",
              "      <th>Inspection ID</th>\n",
              "      <th>AKA Name</th>\n",
              "      <th>Facility Type</th>\n",
              "      <th>Risk</th>\n",
              "      <th>Address</th>\n",
              "      <th>Zip</th>\n",
              "      <th>Inspection Date</th>\n",
              "      <th>Inspection Type</th>\n",
              "      <th>Results</th>\n",
              "      <th>Violations</th>\n",
              "      <th>Location</th>\n",
              "      <th>Regions</th>\n",
              "    </tr>\n",
              "  </thead>\n",
              "  <tbody>\n",
              "    <tr>\n",
              "      <th>0</th>\n",
              "      <td>41.644670</td>\n",
              "      <td>-87.540095</td>\n",
              "      <td>BURGER KING</td>\n",
              "      <td>1473518.0</td>\n",
              "      <td>1527281</td>\n",
              "      <td>BURGER KING #7268</td>\n",
              "      <td>RESTAURANT</td>\n",
              "      <td>2</td>\n",
              "      <td>13770 S AVENUE O</td>\n",
              "      <td>60633.0</td>\n",
              "      <td>2015-02-23T00:00:00.000</td>\n",
              "      <td>CANVASS</td>\n",
              "      <td>Out of Business</td>\n",
              "      <td>NaN</td>\n",
              "      <td>{'latitude': '-87.5400946053766', 'longitude':...</td>\n",
              "      <td>Hegewisch</td>\n",
              "    </tr>\n",
              "    <tr>\n",
              "      <th>1</th>\n",
              "      <td>41.644670</td>\n",
              "      <td>-87.540095</td>\n",
              "      <td>BURGER KING</td>\n",
              "      <td>1473518.0</td>\n",
              "      <td>1494060</td>\n",
              "      <td>BURGER KING #7268</td>\n",
              "      <td>RESTAURANT</td>\n",
              "      <td>2</td>\n",
              "      <td>13770 S AVENUE O</td>\n",
              "      <td>60633.0</td>\n",
              "      <td>2014-08-26T00:00:00.000</td>\n",
              "      <td>CANVASS</td>\n",
              "      <td>Pass</td>\n",
              "      <td>NaN</td>\n",
              "      <td>{'latitude': '-87.5400946053766', 'longitude':...</td>\n",
              "      <td>Hegewisch</td>\n",
              "    </tr>\n",
              "    <tr>\n",
              "      <th>2</th>\n",
              "      <td>41.644670</td>\n",
              "      <td>-87.540095</td>\n",
              "      <td>BURGER KING</td>\n",
              "      <td>1473518.0</td>\n",
              "      <td>1493718</td>\n",
              "      <td>BURGER KING #7268</td>\n",
              "      <td>RESTAURANT</td>\n",
              "      <td>2</td>\n",
              "      <td>13770 S AVENUE O</td>\n",
              "      <td>60633.0</td>\n",
              "      <td>2014-08-18T00:00:00.000</td>\n",
              "      <td>CANVASS</td>\n",
              "      <td>Fail</td>\n",
              "      <td>12. HAND WASHING FACILITIES: WITH SOAP AND SAN...</td>\n",
              "      <td>{'latitude': '-87.5400946053766', 'longitude':...</td>\n",
              "      <td>Hegewisch</td>\n",
              "    </tr>\n",
              "    <tr>\n",
              "      <th>3</th>\n",
              "      <td>41.644670</td>\n",
              "      <td>-87.540095</td>\n",
              "      <td>BURGER KING</td>\n",
              "      <td>1473518.0</td>\n",
              "      <td>1300984</td>\n",
              "      <td>BURGER KING #7268</td>\n",
              "      <td>RESTAURANT</td>\n",
              "      <td>2</td>\n",
              "      <td>13770 S AVENUE O</td>\n",
              "      <td>60633.0</td>\n",
              "      <td>2012-12-19T00:00:00.000</td>\n",
              "      <td>CANVASS</td>\n",
              "      <td>Pass w/ Conditions</td>\n",
              "      <td>21. * CERTIFIED FOOD MANAGER ON SITE WHEN POTE...</td>\n",
              "      <td>{'latitude': '-87.5400946053766', 'longitude':...</td>\n",
              "      <td>Hegewisch</td>\n",
              "    </tr>\n",
              "    <tr>\n",
              "      <th>4</th>\n",
              "      <td>41.644670</td>\n",
              "      <td>-87.540095</td>\n",
              "      <td>BURGER KING</td>\n",
              "      <td>1473518.0</td>\n",
              "      <td>537818</td>\n",
              "      <td>BURGER KING #7268</td>\n",
              "      <td>RESTAURANT</td>\n",
              "      <td>2</td>\n",
              "      <td>13770 S AVENUE O</td>\n",
              "      <td>60633.0</td>\n",
              "      <td>2012-01-10T00:00:00.000</td>\n",
              "      <td>COMPLAINT</td>\n",
              "      <td>Pass w/ Conditions</td>\n",
              "      <td>8. SANITIZING RINSE FOR EQUIPMENT AND UTENSILS...</td>\n",
              "      <td>{'latitude': '-87.5400946053766', 'longitude':...</td>\n",
              "      <td>Hegewisch</td>\n",
              "    </tr>\n",
              "    <tr>\n",
              "      <th>5</th>\n",
              "      <td>41.644670</td>\n",
              "      <td>-87.540095</td>\n",
              "      <td>BURGER KING</td>\n",
              "      <td>1473518.0</td>\n",
              "      <td>537384</td>\n",
              "      <td>BURGER KING #7268</td>\n",
              "      <td>RESTAURANT</td>\n",
              "      <td>2</td>\n",
              "      <td>13770 S AVENUE O</td>\n",
              "      <td>60633.0</td>\n",
              "      <td>2011-05-26T00:00:00.000</td>\n",
              "      <td>COMPLAINT</td>\n",
              "      <td>Pass</td>\n",
              "      <td>33. FOOD AND NON-FOOD CONTACT EQUIPMENT UTENSI...</td>\n",
              "      <td>{'latitude': '-87.5400946053766', 'longitude':...</td>\n",
              "      <td>Hegewisch</td>\n",
              "    </tr>\n",
              "    <tr>\n",
              "      <th>6</th>\n",
              "      <td>41.644670</td>\n",
              "      <td>-87.540095</td>\n",
              "      <td>BURGER KING</td>\n",
              "      <td>1473518.0</td>\n",
              "      <td>419402</td>\n",
              "      <td>BURGER KING #7268</td>\n",
              "      <td>RESTAURANT</td>\n",
              "      <td>2</td>\n",
              "      <td>13770 S AVENUE O</td>\n",
              "      <td>60633.0</td>\n",
              "      <td>2010-10-12T00:00:00.000</td>\n",
              "      <td>COMPLAINT</td>\n",
              "      <td>Pass w/ Conditions</td>\n",
              "      <td>3. POTENTIALLY HAZARDOUS FOOD MEETS TEMPERATUR...</td>\n",
              "      <td>{'latitude': '-87.5400946053766', 'longitude':...</td>\n",
              "      <td>Hegewisch</td>\n",
              "    </tr>\n",
              "    <tr>\n",
              "      <th>7</th>\n",
              "      <td>41.645667</td>\n",
              "      <td>-87.542510</td>\n",
              "      <td>SOUTH SHORE CONCESSIONS</td>\n",
              "      <td>39413.0</td>\n",
              "      <td>1154790</td>\n",
              "      <td>SOUTH SHORE CONCESSIONS</td>\n",
              "      <td>RESTAURANT</td>\n",
              "      <td>2</td>\n",
              "      <td>13730 S BRAINARD AVE</td>\n",
              "      <td>60633.0</td>\n",
              "      <td>2013-01-08T00:00:00.000</td>\n",
              "      <td>CANVASS</td>\n",
              "      <td>Out of Business</td>\n",
              "      <td>NaN</td>\n",
              "      <td>{'latitude': '-87.54250981313147', 'longitude'...</td>\n",
              "      <td>Hegewisch</td>\n",
              "    </tr>\n",
              "    <tr>\n",
              "      <th>8</th>\n",
              "      <td>41.645667</td>\n",
              "      <td>-87.542510</td>\n",
              "      <td>SOUTH SHORE CONCESSIONS</td>\n",
              "      <td>39413.0</td>\n",
              "      <td>1154699</td>\n",
              "      <td>SOUTH SHORE CONCESSIONS</td>\n",
              "      <td>RESTAURANT</td>\n",
              "      <td>2</td>\n",
              "      <td>13730 S BRAINARD AVE</td>\n",
              "      <td>60633.0</td>\n",
              "      <td>2012-11-16T00:00:00.000</td>\n",
              "      <td>CANVASS</td>\n",
              "      <td>No Entry</td>\n",
              "      <td>NaN</td>\n",
              "      <td>{'latitude': '-87.54250981313147', 'longitude'...</td>\n",
              "      <td>Hegewisch</td>\n",
              "    </tr>\n",
              "    <tr>\n",
              "      <th>9</th>\n",
              "      <td>41.646371</td>\n",
              "      <td>-87.560342</td>\n",
              "      <td>WINJAMMER MARINA</td>\n",
              "      <td>79113.0</td>\n",
              "      <td>1953633</td>\n",
              "      <td>WINJAMMER MARINA</td>\n",
              "      <td>RESTAURANT</td>\n",
              "      <td>2</td>\n",
              "      <td>13701 S HOXIE AVE</td>\n",
              "      <td>60633.0</td>\n",
              "      <td>2016-09-01T00:00:00.000</td>\n",
              "      <td>CANVASS</td>\n",
              "      <td>Out of Business</td>\n",
              "      <td>NaN</td>\n",
              "      <td>{'latitude': '-87.56034196262158', 'longitude'...</td>\n",
              "      <td>Hegewisch</td>\n",
              "    </tr>\n",
              "  </tbody>\n",
              "</table>\n",
              "</div>"
            ],
            "text/plain": [
              "    Latitude  ...    Regions\n",
              "0  41.644670  ...  Hegewisch\n",
              "1  41.644670  ...  Hegewisch\n",
              "2  41.644670  ...  Hegewisch\n",
              "3  41.644670  ...  Hegewisch\n",
              "4  41.644670  ...  Hegewisch\n",
              "5  41.644670  ...  Hegewisch\n",
              "6  41.644670  ...  Hegewisch\n",
              "7  41.645667  ...  Hegewisch\n",
              "8  41.645667  ...  Hegewisch\n",
              "9  41.646371  ...  Hegewisch\n",
              "\n",
              "[10 rows x 16 columns]"
            ]
          },
          "metadata": {
            "tags": []
          },
          "execution_count": 221
        }
      ]
    },
    {
      "cell_type": "code",
      "metadata": {
        "id": "dw11IqbDDp23",
        "colab_type": "code",
        "colab": {
          "base_uri": "https://localhost:8080/",
          "height": 900
        },
        "outputId": "d03cbbbe-82d1-43e9-fbf9-c941431c7ea7"
      },
      "source": [
        "# Out of business facilities that have more than 1 inspection\n",
        "dup_oob = merged_oob.groupby(['Latitude', 'Longitude', 'DBA Name']).filter(lambda x : len(x) > 1)\n",
        "dup_oob.head(10)"
      ],
      "execution_count": 222,
      "outputs": [
        {
          "output_type": "execute_result",
          "data": {
            "text/html": [
              "<div>\n",
              "<style scoped>\n",
              "    .dataframe tbody tr th:only-of-type {\n",
              "        vertical-align: middle;\n",
              "    }\n",
              "\n",
              "    .dataframe tbody tr th {\n",
              "        vertical-align: top;\n",
              "    }\n",
              "\n",
              "    .dataframe thead th {\n",
              "        text-align: right;\n",
              "    }\n",
              "</style>\n",
              "<table border=\"1\" class=\"dataframe\">\n",
              "  <thead>\n",
              "    <tr style=\"text-align: right;\">\n",
              "      <th></th>\n",
              "      <th>Latitude</th>\n",
              "      <th>Longitude</th>\n",
              "      <th>DBA Name</th>\n",
              "      <th>License #</th>\n",
              "      <th>Inspection ID</th>\n",
              "      <th>AKA Name</th>\n",
              "      <th>Facility Type</th>\n",
              "      <th>Risk</th>\n",
              "      <th>Address</th>\n",
              "      <th>Zip</th>\n",
              "      <th>Inspection Date</th>\n",
              "      <th>Inspection Type</th>\n",
              "      <th>Results</th>\n",
              "      <th>Violations</th>\n",
              "      <th>Location</th>\n",
              "      <th>Regions</th>\n",
              "    </tr>\n",
              "  </thead>\n",
              "  <tbody>\n",
              "    <tr>\n",
              "      <th>0</th>\n",
              "      <td>41.644670</td>\n",
              "      <td>-87.540095</td>\n",
              "      <td>BURGER KING</td>\n",
              "      <td>1473518.0</td>\n",
              "      <td>1527281</td>\n",
              "      <td>BURGER KING #7268</td>\n",
              "      <td>RESTAURANT</td>\n",
              "      <td>2</td>\n",
              "      <td>13770 S AVENUE O</td>\n",
              "      <td>60633.0</td>\n",
              "      <td>2015-02-23T00:00:00.000</td>\n",
              "      <td>CANVASS</td>\n",
              "      <td>Out of Business</td>\n",
              "      <td>NaN</td>\n",
              "      <td>{'latitude': '-87.5400946053766', 'longitude':...</td>\n",
              "      <td>Hegewisch</td>\n",
              "    </tr>\n",
              "    <tr>\n",
              "      <th>1</th>\n",
              "      <td>41.644670</td>\n",
              "      <td>-87.540095</td>\n",
              "      <td>BURGER KING</td>\n",
              "      <td>1473518.0</td>\n",
              "      <td>1494060</td>\n",
              "      <td>BURGER KING #7268</td>\n",
              "      <td>RESTAURANT</td>\n",
              "      <td>2</td>\n",
              "      <td>13770 S AVENUE O</td>\n",
              "      <td>60633.0</td>\n",
              "      <td>2014-08-26T00:00:00.000</td>\n",
              "      <td>CANVASS</td>\n",
              "      <td>Pass</td>\n",
              "      <td>NaN</td>\n",
              "      <td>{'latitude': '-87.5400946053766', 'longitude':...</td>\n",
              "      <td>Hegewisch</td>\n",
              "    </tr>\n",
              "    <tr>\n",
              "      <th>2</th>\n",
              "      <td>41.644670</td>\n",
              "      <td>-87.540095</td>\n",
              "      <td>BURGER KING</td>\n",
              "      <td>1473518.0</td>\n",
              "      <td>1493718</td>\n",
              "      <td>BURGER KING #7268</td>\n",
              "      <td>RESTAURANT</td>\n",
              "      <td>2</td>\n",
              "      <td>13770 S AVENUE O</td>\n",
              "      <td>60633.0</td>\n",
              "      <td>2014-08-18T00:00:00.000</td>\n",
              "      <td>CANVASS</td>\n",
              "      <td>Fail</td>\n",
              "      <td>12. HAND WASHING FACILITIES: WITH SOAP AND SAN...</td>\n",
              "      <td>{'latitude': '-87.5400946053766', 'longitude':...</td>\n",
              "      <td>Hegewisch</td>\n",
              "    </tr>\n",
              "    <tr>\n",
              "      <th>3</th>\n",
              "      <td>41.644670</td>\n",
              "      <td>-87.540095</td>\n",
              "      <td>BURGER KING</td>\n",
              "      <td>1473518.0</td>\n",
              "      <td>1300984</td>\n",
              "      <td>BURGER KING #7268</td>\n",
              "      <td>RESTAURANT</td>\n",
              "      <td>2</td>\n",
              "      <td>13770 S AVENUE O</td>\n",
              "      <td>60633.0</td>\n",
              "      <td>2012-12-19T00:00:00.000</td>\n",
              "      <td>CANVASS</td>\n",
              "      <td>Pass w/ Conditions</td>\n",
              "      <td>21. * CERTIFIED FOOD MANAGER ON SITE WHEN POTE...</td>\n",
              "      <td>{'latitude': '-87.5400946053766', 'longitude':...</td>\n",
              "      <td>Hegewisch</td>\n",
              "    </tr>\n",
              "    <tr>\n",
              "      <th>4</th>\n",
              "      <td>41.644670</td>\n",
              "      <td>-87.540095</td>\n",
              "      <td>BURGER KING</td>\n",
              "      <td>1473518.0</td>\n",
              "      <td>537818</td>\n",
              "      <td>BURGER KING #7268</td>\n",
              "      <td>RESTAURANT</td>\n",
              "      <td>2</td>\n",
              "      <td>13770 S AVENUE O</td>\n",
              "      <td>60633.0</td>\n",
              "      <td>2012-01-10T00:00:00.000</td>\n",
              "      <td>COMPLAINT</td>\n",
              "      <td>Pass w/ Conditions</td>\n",
              "      <td>8. SANITIZING RINSE FOR EQUIPMENT AND UTENSILS...</td>\n",
              "      <td>{'latitude': '-87.5400946053766', 'longitude':...</td>\n",
              "      <td>Hegewisch</td>\n",
              "    </tr>\n",
              "    <tr>\n",
              "      <th>5</th>\n",
              "      <td>41.644670</td>\n",
              "      <td>-87.540095</td>\n",
              "      <td>BURGER KING</td>\n",
              "      <td>1473518.0</td>\n",
              "      <td>537384</td>\n",
              "      <td>BURGER KING #7268</td>\n",
              "      <td>RESTAURANT</td>\n",
              "      <td>2</td>\n",
              "      <td>13770 S AVENUE O</td>\n",
              "      <td>60633.0</td>\n",
              "      <td>2011-05-26T00:00:00.000</td>\n",
              "      <td>COMPLAINT</td>\n",
              "      <td>Pass</td>\n",
              "      <td>33. FOOD AND NON-FOOD CONTACT EQUIPMENT UTENSI...</td>\n",
              "      <td>{'latitude': '-87.5400946053766', 'longitude':...</td>\n",
              "      <td>Hegewisch</td>\n",
              "    </tr>\n",
              "    <tr>\n",
              "      <th>6</th>\n",
              "      <td>41.644670</td>\n",
              "      <td>-87.540095</td>\n",
              "      <td>BURGER KING</td>\n",
              "      <td>1473518.0</td>\n",
              "      <td>419402</td>\n",
              "      <td>BURGER KING #7268</td>\n",
              "      <td>RESTAURANT</td>\n",
              "      <td>2</td>\n",
              "      <td>13770 S AVENUE O</td>\n",
              "      <td>60633.0</td>\n",
              "      <td>2010-10-12T00:00:00.000</td>\n",
              "      <td>COMPLAINT</td>\n",
              "      <td>Pass w/ Conditions</td>\n",
              "      <td>3. POTENTIALLY HAZARDOUS FOOD MEETS TEMPERATUR...</td>\n",
              "      <td>{'latitude': '-87.5400946053766', 'longitude':...</td>\n",
              "      <td>Hegewisch</td>\n",
              "    </tr>\n",
              "    <tr>\n",
              "      <th>7</th>\n",
              "      <td>41.645667</td>\n",
              "      <td>-87.542510</td>\n",
              "      <td>SOUTH SHORE CONCESSIONS</td>\n",
              "      <td>39413.0</td>\n",
              "      <td>1154790</td>\n",
              "      <td>SOUTH SHORE CONCESSIONS</td>\n",
              "      <td>RESTAURANT</td>\n",
              "      <td>2</td>\n",
              "      <td>13730 S BRAINARD AVE</td>\n",
              "      <td>60633.0</td>\n",
              "      <td>2013-01-08T00:00:00.000</td>\n",
              "      <td>CANVASS</td>\n",
              "      <td>Out of Business</td>\n",
              "      <td>NaN</td>\n",
              "      <td>{'latitude': '-87.54250981313147', 'longitude'...</td>\n",
              "      <td>Hegewisch</td>\n",
              "    </tr>\n",
              "    <tr>\n",
              "      <th>8</th>\n",
              "      <td>41.645667</td>\n",
              "      <td>-87.542510</td>\n",
              "      <td>SOUTH SHORE CONCESSIONS</td>\n",
              "      <td>39413.0</td>\n",
              "      <td>1154699</td>\n",
              "      <td>SOUTH SHORE CONCESSIONS</td>\n",
              "      <td>RESTAURANT</td>\n",
              "      <td>2</td>\n",
              "      <td>13730 S BRAINARD AVE</td>\n",
              "      <td>60633.0</td>\n",
              "      <td>2012-11-16T00:00:00.000</td>\n",
              "      <td>CANVASS</td>\n",
              "      <td>No Entry</td>\n",
              "      <td>NaN</td>\n",
              "      <td>{'latitude': '-87.54250981313147', 'longitude'...</td>\n",
              "      <td>Hegewisch</td>\n",
              "    </tr>\n",
              "    <tr>\n",
              "      <th>9</th>\n",
              "      <td>41.646371</td>\n",
              "      <td>-87.560342</td>\n",
              "      <td>WINJAMMER MARINA</td>\n",
              "      <td>79113.0</td>\n",
              "      <td>1953633</td>\n",
              "      <td>WINJAMMER MARINA</td>\n",
              "      <td>RESTAURANT</td>\n",
              "      <td>2</td>\n",
              "      <td>13701 S HOXIE AVE</td>\n",
              "      <td>60633.0</td>\n",
              "      <td>2016-09-01T00:00:00.000</td>\n",
              "      <td>CANVASS</td>\n",
              "      <td>Out of Business</td>\n",
              "      <td>NaN</td>\n",
              "      <td>{'latitude': '-87.56034196262158', 'longitude'...</td>\n",
              "      <td>Hegewisch</td>\n",
              "    </tr>\n",
              "  </tbody>\n",
              "</table>\n",
              "</div>"
            ],
            "text/plain": [
              "    Latitude  ...    Regions\n",
              "0  41.644670  ...  Hegewisch\n",
              "1  41.644670  ...  Hegewisch\n",
              "2  41.644670  ...  Hegewisch\n",
              "3  41.644670  ...  Hegewisch\n",
              "4  41.644670  ...  Hegewisch\n",
              "5  41.644670  ...  Hegewisch\n",
              "6  41.644670  ...  Hegewisch\n",
              "7  41.645667  ...  Hegewisch\n",
              "8  41.645667  ...  Hegewisch\n",
              "9  41.646371  ...  Hegewisch\n",
              "\n",
              "[10 rows x 16 columns]"
            ]
          },
          "metadata": {
            "tags": []
          },
          "execution_count": 222
        }
      ]
    },
    {
      "cell_type": "code",
      "metadata": {
        "id": "6yhaSo6bGAaI",
        "colab_type": "code",
        "colab": {
          "base_uri": "https://localhost:8080/",
          "height": 1000
        },
        "outputId": "43d6613b-f01c-4fd7-86bd-801b8d72ee27"
      },
      "source": [
        "dup_oob.dropna(subset=['Violations'], inplace=True) # the inspections that have violations (out of business facilities)\n",
        "dup_oob.head(10)"
      ],
      "execution_count": 223,
      "outputs": [
        {
          "output_type": "stream",
          "text": [
            "/usr/local/lib/python3.6/dist-packages/ipykernel_launcher.py:1: SettingWithCopyWarning: \n",
            "A value is trying to be set on a copy of a slice from a DataFrame\n",
            "\n",
            "See the caveats in the documentation: http://pandas.pydata.org/pandas-docs/stable/user_guide/indexing.html#returning-a-view-versus-a-copy\n",
            "  \"\"\"Entry point for launching an IPython kernel.\n"
          ],
          "name": "stderr"
        },
        {
          "output_type": "execute_result",
          "data": {
            "text/html": [
              "<div>\n",
              "<style scoped>\n",
              "    .dataframe tbody tr th:only-of-type {\n",
              "        vertical-align: middle;\n",
              "    }\n",
              "\n",
              "    .dataframe tbody tr th {\n",
              "        vertical-align: top;\n",
              "    }\n",
              "\n",
              "    .dataframe thead th {\n",
              "        text-align: right;\n",
              "    }\n",
              "</style>\n",
              "<table border=\"1\" class=\"dataframe\">\n",
              "  <thead>\n",
              "    <tr style=\"text-align: right;\">\n",
              "      <th></th>\n",
              "      <th>Latitude</th>\n",
              "      <th>Longitude</th>\n",
              "      <th>DBA Name</th>\n",
              "      <th>License #</th>\n",
              "      <th>Inspection ID</th>\n",
              "      <th>AKA Name</th>\n",
              "      <th>Facility Type</th>\n",
              "      <th>Risk</th>\n",
              "      <th>Address</th>\n",
              "      <th>Zip</th>\n",
              "      <th>Inspection Date</th>\n",
              "      <th>Inspection Type</th>\n",
              "      <th>Results</th>\n",
              "      <th>Violations</th>\n",
              "      <th>Location</th>\n",
              "      <th>Regions</th>\n",
              "    </tr>\n",
              "  </thead>\n",
              "  <tbody>\n",
              "    <tr>\n",
              "      <th>2</th>\n",
              "      <td>41.644670</td>\n",
              "      <td>-87.540095</td>\n",
              "      <td>BURGER KING</td>\n",
              "      <td>1473518.0</td>\n",
              "      <td>1493718</td>\n",
              "      <td>BURGER KING #7268</td>\n",
              "      <td>RESTAURANT</td>\n",
              "      <td>2</td>\n",
              "      <td>13770 S AVENUE O</td>\n",
              "      <td>60633.0</td>\n",
              "      <td>2014-08-18T00:00:00.000</td>\n",
              "      <td>CANVASS</td>\n",
              "      <td>Fail</td>\n",
              "      <td>12. HAND WASHING FACILITIES: WITH SOAP AND SAN...</td>\n",
              "      <td>{'latitude': '-87.5400946053766', 'longitude':...</td>\n",
              "      <td>Hegewisch</td>\n",
              "    </tr>\n",
              "    <tr>\n",
              "      <th>3</th>\n",
              "      <td>41.644670</td>\n",
              "      <td>-87.540095</td>\n",
              "      <td>BURGER KING</td>\n",
              "      <td>1473518.0</td>\n",
              "      <td>1300984</td>\n",
              "      <td>BURGER KING #7268</td>\n",
              "      <td>RESTAURANT</td>\n",
              "      <td>2</td>\n",
              "      <td>13770 S AVENUE O</td>\n",
              "      <td>60633.0</td>\n",
              "      <td>2012-12-19T00:00:00.000</td>\n",
              "      <td>CANVASS</td>\n",
              "      <td>Pass w/ Conditions</td>\n",
              "      <td>21. * CERTIFIED FOOD MANAGER ON SITE WHEN POTE...</td>\n",
              "      <td>{'latitude': '-87.5400946053766', 'longitude':...</td>\n",
              "      <td>Hegewisch</td>\n",
              "    </tr>\n",
              "    <tr>\n",
              "      <th>4</th>\n",
              "      <td>41.644670</td>\n",
              "      <td>-87.540095</td>\n",
              "      <td>BURGER KING</td>\n",
              "      <td>1473518.0</td>\n",
              "      <td>537818</td>\n",
              "      <td>BURGER KING #7268</td>\n",
              "      <td>RESTAURANT</td>\n",
              "      <td>2</td>\n",
              "      <td>13770 S AVENUE O</td>\n",
              "      <td>60633.0</td>\n",
              "      <td>2012-01-10T00:00:00.000</td>\n",
              "      <td>COMPLAINT</td>\n",
              "      <td>Pass w/ Conditions</td>\n",
              "      <td>8. SANITIZING RINSE FOR EQUIPMENT AND UTENSILS...</td>\n",
              "      <td>{'latitude': '-87.5400946053766', 'longitude':...</td>\n",
              "      <td>Hegewisch</td>\n",
              "    </tr>\n",
              "    <tr>\n",
              "      <th>5</th>\n",
              "      <td>41.644670</td>\n",
              "      <td>-87.540095</td>\n",
              "      <td>BURGER KING</td>\n",
              "      <td>1473518.0</td>\n",
              "      <td>537384</td>\n",
              "      <td>BURGER KING #7268</td>\n",
              "      <td>RESTAURANT</td>\n",
              "      <td>2</td>\n",
              "      <td>13770 S AVENUE O</td>\n",
              "      <td>60633.0</td>\n",
              "      <td>2011-05-26T00:00:00.000</td>\n",
              "      <td>COMPLAINT</td>\n",
              "      <td>Pass</td>\n",
              "      <td>33. FOOD AND NON-FOOD CONTACT EQUIPMENT UTENSI...</td>\n",
              "      <td>{'latitude': '-87.5400946053766', 'longitude':...</td>\n",
              "      <td>Hegewisch</td>\n",
              "    </tr>\n",
              "    <tr>\n",
              "      <th>6</th>\n",
              "      <td>41.644670</td>\n",
              "      <td>-87.540095</td>\n",
              "      <td>BURGER KING</td>\n",
              "      <td>1473518.0</td>\n",
              "      <td>419402</td>\n",
              "      <td>BURGER KING #7268</td>\n",
              "      <td>RESTAURANT</td>\n",
              "      <td>2</td>\n",
              "      <td>13770 S AVENUE O</td>\n",
              "      <td>60633.0</td>\n",
              "      <td>2010-10-12T00:00:00.000</td>\n",
              "      <td>COMPLAINT</td>\n",
              "      <td>Pass w/ Conditions</td>\n",
              "      <td>3. POTENTIALLY HAZARDOUS FOOD MEETS TEMPERATUR...</td>\n",
              "      <td>{'latitude': '-87.5400946053766', 'longitude':...</td>\n",
              "      <td>Hegewisch</td>\n",
              "    </tr>\n",
              "    <tr>\n",
              "      <th>10</th>\n",
              "      <td>41.646371</td>\n",
              "      <td>-87.560342</td>\n",
              "      <td>WINJAMMER MARINA</td>\n",
              "      <td>79113.0</td>\n",
              "      <td>1395212</td>\n",
              "      <td>WINJAMMER MARINA</td>\n",
              "      <td>RESTAURANT</td>\n",
              "      <td>2</td>\n",
              "      <td>13701 S HOXIE AVE</td>\n",
              "      <td>60633.0</td>\n",
              "      <td>2013-12-30T00:00:00.000</td>\n",
              "      <td>CANVASS</td>\n",
              "      <td>Pass</td>\n",
              "      <td>33. FOOD AND NON-FOOD CONTACT EQUIPMENT UTENSI...</td>\n",
              "      <td>{'latitude': '-87.56034196262158', 'longitude'...</td>\n",
              "      <td>Hegewisch</td>\n",
              "    </tr>\n",
              "    <tr>\n",
              "      <th>11</th>\n",
              "      <td>41.646371</td>\n",
              "      <td>-87.560342</td>\n",
              "      <td>WINJAMMER MARINA</td>\n",
              "      <td>79113.0</td>\n",
              "      <td>1376043</td>\n",
              "      <td>WINJAMMER MARINA</td>\n",
              "      <td>RESTAURANT</td>\n",
              "      <td>2</td>\n",
              "      <td>13701 S HOXIE AVE</td>\n",
              "      <td>60633.0</td>\n",
              "      <td>2013-12-13T00:00:00.000</td>\n",
              "      <td>CANVASS</td>\n",
              "      <td>Fail</td>\n",
              "      <td>18. NO EVIDENCE OF RODENT OR INSECT OUTER OPEN...</td>\n",
              "      <td>{'latitude': '-87.56034196262158', 'longitude'...</td>\n",
              "      <td>Hegewisch</td>\n",
              "    </tr>\n",
              "    <tr>\n",
              "      <th>12</th>\n",
              "      <td>41.646371</td>\n",
              "      <td>-87.560342</td>\n",
              "      <td>WINJAMMER MARINA</td>\n",
              "      <td>79113.0</td>\n",
              "      <td>1154722</td>\n",
              "      <td>WINJAMMER MARINA</td>\n",
              "      <td>RESTAURANT</td>\n",
              "      <td>2</td>\n",
              "      <td>13701 S HOXIE AVE</td>\n",
              "      <td>60633.0</td>\n",
              "      <td>2012-11-29T00:00:00.000</td>\n",
              "      <td>CANVASS</td>\n",
              "      <td>Pass</td>\n",
              "      <td>36. LIGHTING: REQUIRED MINIMUM FOOT-CANDLES OF...</td>\n",
              "      <td>{'latitude': '-87.56034196262158', 'longitude'...</td>\n",
              "      <td>Hegewisch</td>\n",
              "    </tr>\n",
              "    <tr>\n",
              "      <th>13</th>\n",
              "      <td>41.646371</td>\n",
              "      <td>-87.560342</td>\n",
              "      <td>WINJAMMER MARINA</td>\n",
              "      <td>79113.0</td>\n",
              "      <td>1154702</td>\n",
              "      <td>WINJAMMER MARINA</td>\n",
              "      <td>RESTAURANT</td>\n",
              "      <td>2</td>\n",
              "      <td>13701 S HOXIE AVE</td>\n",
              "      <td>60633.0</td>\n",
              "      <td>2012-11-16T00:00:00.000</td>\n",
              "      <td>CANVASS</td>\n",
              "      <td>Fail</td>\n",
              "      <td>18. NO EVIDENCE OF RODENT OR INSECT OUTER OPEN...</td>\n",
              "      <td>{'latitude': '-87.56034196262158', 'longitude'...</td>\n",
              "      <td>Hegewisch</td>\n",
              "    </tr>\n",
              "    <tr>\n",
              "      <th>15</th>\n",
              "      <td>41.646371</td>\n",
              "      <td>-87.560342</td>\n",
              "      <td>WINJAMMER MARINA</td>\n",
              "      <td>79113.0</td>\n",
              "      <td>284241</td>\n",
              "      <td>WINJAMMER MARINA</td>\n",
              "      <td>RESTAURANT</td>\n",
              "      <td>2</td>\n",
              "      <td>13701 S HOXIE AVE</td>\n",
              "      <td>60633.0</td>\n",
              "      <td>2010-08-11T00:00:00.000</td>\n",
              "      <td>COMPLAINT</td>\n",
              "      <td>Pass</td>\n",
              "      <td>32. FOOD AND NON-FOOD CONTACT SURFACES PROPERL...</td>\n",
              "      <td>{'latitude': '-87.56034196262158', 'longitude'...</td>\n",
              "      <td>Hegewisch</td>\n",
              "    </tr>\n",
              "  </tbody>\n",
              "</table>\n",
              "</div>"
            ],
            "text/plain": [
              "     Latitude  ...    Regions\n",
              "2   41.644670  ...  Hegewisch\n",
              "3   41.644670  ...  Hegewisch\n",
              "4   41.644670  ...  Hegewisch\n",
              "5   41.644670  ...  Hegewisch\n",
              "6   41.644670  ...  Hegewisch\n",
              "10  41.646371  ...  Hegewisch\n",
              "11  41.646371  ...  Hegewisch\n",
              "12  41.646371  ...  Hegewisch\n",
              "13  41.646371  ...  Hegewisch\n",
              "15  41.646371  ...  Hegewisch\n",
              "\n",
              "[10 rows x 16 columns]"
            ]
          },
          "metadata": {
            "tags": []
          },
          "execution_count": 223
        }
      ]
    },
    {
      "cell_type": "code",
      "metadata": {
        "id": "YlUwb7Z2MIZx",
        "colab_type": "code",
        "colab": {
          "base_uri": "https://localhost:8080/",
          "height": 230
        },
        "outputId": "a54d006c-5a58-4db7-fb67-46417e037196"
      },
      "source": [
        "violations_oob = dup_oob['Violations'].apply(lambda x: re.findall(r'^[0-9]+[.] | [|] [0-9]+[.] ', x))\n",
        "violations_oob = pd.DataFrame(violations_oob)\n",
        "violation_nums_oob = violations_oob['Violations'].apply(lambda x: [int(sub.replace('|','').split('.')[0]) for sub in x])\n",
        "violation_nums_oob"
      ],
      "execution_count": 224,
      "outputs": [
        {
          "output_type": "execute_result",
          "data": {
            "text/plain": [
              "2                [12, 21, 28, 29, 33, 38]\n",
              "3        [21, 33, 34, 35, 38, 40, 41, 42]\n",
              "4             [8, 21, 33, 34, 35, 36, 38]\n",
              "5                    [33, 34, 35, 36, 38]\n",
              "6                     [3, 12, 21, 33, 34]\n",
              "                       ...               \n",
              "69609                        [32, 33, 34]\n",
              "69610                                [41]\n",
              "69611                        [18, 28, 41]\n",
              "69612                            [21, 33]\n",
              "69613                        [18, 21, 33]\n",
              "Name: Violations, Length: 44979, dtype: object"
            ]
          },
          "metadata": {
            "tags": []
          },
          "execution_count": 224
        }
      ]
    },
    {
      "cell_type": "code",
      "metadata": {
        "id": "BX8lLCYvYf6h",
        "colab_type": "code",
        "colab": {
          "base_uri": "https://localhost:8080/",
          "height": 352
        },
        "outputId": "d28b9d9e-805f-4750-c935-975b5c7e4932"
      },
      "source": [
        "violation_nums_oob = pd.DataFrame(violation_nums_oob)\n",
        "violation_nums_oob.reset_index(inplace=True)\n",
        "violation_nums_oob.drop(columns='index', inplace=True)\n",
        "violation_nums_oob.head(10)"
      ],
      "execution_count": 225,
      "outputs": [
        {
          "output_type": "execute_result",
          "data": {
            "text/html": [
              "<div>\n",
              "<style scoped>\n",
              "    .dataframe tbody tr th:only-of-type {\n",
              "        vertical-align: middle;\n",
              "    }\n",
              "\n",
              "    .dataframe tbody tr th {\n",
              "        vertical-align: top;\n",
              "    }\n",
              "\n",
              "    .dataframe thead th {\n",
              "        text-align: right;\n",
              "    }\n",
              "</style>\n",
              "<table border=\"1\" class=\"dataframe\">\n",
              "  <thead>\n",
              "    <tr style=\"text-align: right;\">\n",
              "      <th></th>\n",
              "      <th>Violations</th>\n",
              "    </tr>\n",
              "  </thead>\n",
              "  <tbody>\n",
              "    <tr>\n",
              "      <th>0</th>\n",
              "      <td>[12, 21, 28, 29, 33, 38]</td>\n",
              "    </tr>\n",
              "    <tr>\n",
              "      <th>1</th>\n",
              "      <td>[21, 33, 34, 35, 38, 40, 41, 42]</td>\n",
              "    </tr>\n",
              "    <tr>\n",
              "      <th>2</th>\n",
              "      <td>[8, 21, 33, 34, 35, 36, 38]</td>\n",
              "    </tr>\n",
              "    <tr>\n",
              "      <th>3</th>\n",
              "      <td>[33, 34, 35, 36, 38]</td>\n",
              "    </tr>\n",
              "    <tr>\n",
              "      <th>4</th>\n",
              "      <td>[3, 12, 21, 33, 34]</td>\n",
              "    </tr>\n",
              "    <tr>\n",
              "      <th>5</th>\n",
              "      <td>[33, 34, 35]</td>\n",
              "    </tr>\n",
              "    <tr>\n",
              "      <th>6</th>\n",
              "      <td>[18, 33, 34, 35, 38, 70]</td>\n",
              "    </tr>\n",
              "    <tr>\n",
              "      <th>7</th>\n",
              "      <td>[36, 38, 42]</td>\n",
              "    </tr>\n",
              "    <tr>\n",
              "      <th>8</th>\n",
              "      <td>[18, 21, 33, 34, 36, 38, 40, 41, 42]</td>\n",
              "    </tr>\n",
              "    <tr>\n",
              "      <th>9</th>\n",
              "      <td>[32, 34]</td>\n",
              "    </tr>\n",
              "  </tbody>\n",
              "</table>\n",
              "</div>"
            ],
            "text/plain": [
              "                             Violations\n",
              "0              [12, 21, 28, 29, 33, 38]\n",
              "1      [21, 33, 34, 35, 38, 40, 41, 42]\n",
              "2           [8, 21, 33, 34, 35, 36, 38]\n",
              "3                  [33, 34, 35, 36, 38]\n",
              "4                   [3, 12, 21, 33, 34]\n",
              "5                          [33, 34, 35]\n",
              "6              [18, 33, 34, 35, 38, 70]\n",
              "7                          [36, 38, 42]\n",
              "8  [18, 21, 33, 34, 36, 38, 40, 41, 42]\n",
              "9                              [32, 34]"
            ]
          },
          "metadata": {
            "tags": []
          },
          "execution_count": 225
        }
      ]
    },
    {
      "cell_type": "code",
      "metadata": {
        "id": "mLcVYIYMZuK1",
        "colab_type": "code",
        "colab": {}
      },
      "source": [
        "vio_freq_oob = {}\n",
        "for i in violation_nums_oob['Violations']:\n",
        "  for j in i:\n",
        "    vio_freq_oob[str(j)] = 1 if str(j) not in vio_freq_oob else vio_freq_oob[str(j)]+1"
      ],
      "execution_count": 0,
      "outputs": []
    },
    {
      "cell_type": "code",
      "metadata": {
        "id": "JISkCx_ubeAB",
        "colab_type": "code",
        "colab": {
          "base_uri": "https://localhost:8080/",
          "height": 295
        },
        "outputId": "cd7194e5-42d4-4455-b60f-65be62c4b930"
      },
      "source": [
        "plt.figure(figsize=(17,4))\n",
        "plt.bar(list(vio_freq_oob.keys()), vio_freq_oob.values())\n",
        "plt.title('Violation Types vs. Their Frequencies in Out of Business Facilities')\n",
        "plt.xlabel('Violation Types')\n",
        "plt.ylabel('Frequency')\n",
        "plt.show()"
      ],
      "execution_count": 227,
      "outputs": [
        {
          "output_type": "display_data",
          "data": {
            "image/png": "[encoded data removed]",
            "text/plain": [
              "<Figure size 1224x288 with 1 Axes>"
            ]
          },
          "metadata": {
            "tags": []
          }
        }
      ]
    },
    {
      "cell_type": "markdown",
      "metadata": {
        "id": "f5NepMPsc2Sx",
        "colab_type": "text"
      },
      "source": [
        "From the figure above, we can see that certain violation types outnumber the others. So, we decided to sort the violation types in terms of their frequencies and display them in the graph below."
      ]
    },
    {
      "cell_type": "code",
      "metadata": {
        "id": "iG5RGczLkTgP",
        "colab_type": "code",
        "colab": {}
      },
      "source": [
        "sorted_vio_freq_oob = {}\n",
        "\n",
        "for key in sorted(vio_freq_oob, key=vio_freq_oob.__getitem__, reverse=True):\n",
        "  sorted_vio_freq_oob[key] = vio_freq_oob[key]"
      ],
      "execution_count": 0,
      "outputs": []
    },
    {
      "cell_type": "code",
      "metadata": {
        "id": "eCE3Zu7lkQ8w",
        "colab_type": "code",
        "colab": {
          "base_uri": "https://localhost:8080/",
          "height": 295
        },
        "outputId": "0c3936c1-2e35-4433-922d-34e64110123c"
      },
      "source": [
        "plt.figure(figsize=(17,4))\n",
        "plt.bar(list(sorted_vio_freq_oob.keys()), sorted_vio_freq_oob.values())\n",
        "plt.title('Violation Types vs. Their Frequencies in Out of Business Facilities')\n",
        "plt.xlabel('Violation Types')\n",
        "plt.ylabel('Frequency')\n",
        "plt.show()"
      ],
      "execution_count": 229,
      "outputs": [
        {
          "output_type": "display_data",
          "data": {
            "image/png": "[encoded data removed]",
            "text/plain": [
              "<Figure size 1224x288 with 1 Axes>"
            ]
          },
          "metadata": {
            "tags": []
          }
        }
      ]
    },
    {
      "cell_type": "code",
      "metadata": {
        "id": "_hvSFyDEkmc8",
        "colab_type": "code",
        "colab": {
          "base_uri": "https://localhost:8080/",
          "height": 284
        },
        "outputId": "eae31a10-6056-44a5-e59b-3710a15e1efc"
      },
      "source": [
        "most_freq_vio_oob = [key for key, value in list(sorted_vio_freq_oob.items())[0:15]]\n",
        "most_freq_vio_oob # top 10 most frequent violation types among facilities that went out of business"
      ],
      "execution_count": 230,
      "outputs": [
        {
          "output_type": "execute_result",
          "data": {
            "text/plain": [
              "['34',\n",
              " '33',\n",
              " '35',\n",
              " '32',\n",
              " '38',\n",
              " '41',\n",
              " '36',\n",
              " '18',\n",
              " '30',\n",
              " '40',\n",
              " '21',\n",
              " '3',\n",
              " '31',\n",
              " '37',\n",
              " '43']"
            ]
          },
          "metadata": {
            "tags": []
          },
          "execution_count": 230
        }
      ]
    },
    {
      "cell_type": "code",
      "metadata": {
        "id": "MbsGSDm7czg-",
        "colab_type": "code",
        "colab": {}
      },
      "source": [
        "# Inspections of facilities that didn't go out of business\n",
        " set_diff_oob = pd.concat([df, merged_oob, merged_oob], sort=True).drop_duplicates(keep=False, subset=['Latitude', 'Longitude', 'DBA Name', 'License #', 'Inspection Date'])"
      ],
      "execution_count": 0,
      "outputs": []
    },
    {
      "cell_type": "code",
      "metadata": {
        "id": "oEPL3X9Fpzb_",
        "colab_type": "code",
        "colab": {
          "base_uri": "https://localhost:8080/",
          "height": 1000
        },
        "outputId": "17520a5a-8d50-47f1-c5f5-0227ee9b342d"
      },
      "source": [
        "set_diff_oob.dropna(subset=['Violations'], inplace=True) # the inspections that have violations (not out of business facilities)\n",
        "set_diff_oob.head(10)"
      ],
      "execution_count": 232,
      "outputs": [
        {
          "output_type": "execute_result",
          "data": {
            "text/html": [
              "<div>\n",
              "<style scoped>\n",
              "    .dataframe tbody tr th:only-of-type {\n",
              "        vertical-align: middle;\n",
              "    }\n",
              "\n",
              "    .dataframe tbody tr th {\n",
              "        vertical-align: top;\n",
              "    }\n",
              "\n",
              "    .dataframe thead th {\n",
              "        text-align: right;\n",
              "    }\n",
              "</style>\n",
              "<table border=\"1\" class=\"dataframe\">\n",
              "  <thead>\n",
              "    <tr style=\"text-align: right;\">\n",
              "      <th></th>\n",
              "      <th>AKA Name</th>\n",
              "      <th>Address</th>\n",
              "      <th>DBA Name</th>\n",
              "      <th>Facility Type</th>\n",
              "      <th>Inspection Date</th>\n",
              "      <th>Inspection ID</th>\n",
              "      <th>Inspection Type</th>\n",
              "      <th>Latitude</th>\n",
              "      <th>License #</th>\n",
              "      <th>Location</th>\n",
              "      <th>Longitude</th>\n",
              "      <th>Regions</th>\n",
              "      <th>Results</th>\n",
              "      <th>Risk</th>\n",
              "      <th>Violations</th>\n",
              "      <th>Zip</th>\n",
              "    </tr>\n",
              "  </thead>\n",
              "  <tbody>\n",
              "    <tr>\n",
              "      <th>0</th>\n",
              "      <td>CHIPOTLE MEXICAN GRILL</td>\n",
              "      <td>1025 W ADDISON ST</td>\n",
              "      <td>CHIPOTLE MEXICAN GRILL</td>\n",
              "      <td>RESTAURANT</td>\n",
              "      <td>2019-12-04T00:00:00.000</td>\n",
              "      <td>2352683</td>\n",
              "      <td>LICENSE</td>\n",
              "      <td>41.947118</td>\n",
              "      <td>2670642.0</td>\n",
              "      <td>{'latitude': '-87.6553811622124', 'longitude':...</td>\n",
              "      <td>-87.655381</td>\n",
              "      <td>Wrigleyville</td>\n",
              "      <td>Pass w/ Conditions</td>\n",
              "      <td>1</td>\n",
              "      <td>3. MANAGEMENT, FOOD EMPLOYEE AND CONDITIONAL E...</td>\n",
              "      <td>60613.0</td>\n",
              "    </tr>\n",
              "    <tr>\n",
              "      <th>1</th>\n",
              "      <td>CHILI'S (T1-B14)</td>\n",
              "      <td>11601 W TOUHY AVE</td>\n",
              "      <td>CHILIS T-I</td>\n",
              "      <td>RESTAURANT</td>\n",
              "      <td>2019-12-04T00:00:00.000</td>\n",
              "      <td>2352734</td>\n",
              "      <td>CANVASS</td>\n",
              "      <td>42.008536</td>\n",
              "      <td>34169.0</td>\n",
              "      <td>{'latitude': '-87.91442843927047', 'longitude'...</td>\n",
              "      <td>-87.914428</td>\n",
              "      <td>O'Hare</td>\n",
              "      <td>Pass</td>\n",
              "      <td>1</td>\n",
              "      <td>10. ADEQUATE HANDWASHING SINKS PROPERLY SUPPLI...</td>\n",
              "      <td>60666.0</td>\n",
              "    </tr>\n",
              "    <tr>\n",
              "      <th>2</th>\n",
              "      <td>NaN</td>\n",
              "      <td>3401 W BELMONT AVE</td>\n",
              "      <td>TAQUERIA BLUE LINE</td>\n",
              "      <td>RESTAURANT</td>\n",
              "      <td>2019-12-04T00:00:00.000</td>\n",
              "      <td>2352701</td>\n",
              "      <td>LICENSE</td>\n",
              "      <td>41.939168</td>\n",
              "      <td>2703436.0</td>\n",
              "      <td>{'latitude': '-87.71254599117191', 'longitude'...</td>\n",
              "      <td>-87.712546</td>\n",
              "      <td>Avondale</td>\n",
              "      <td>Pass w/ Conditions</td>\n",
              "      <td>1</td>\n",
              "      <td>3. MANAGEMENT, FOOD EMPLOYEE AND CONDITIONAL E...</td>\n",
              "      <td>60618.0</td>\n",
              "    </tr>\n",
              "    <tr>\n",
              "      <th>6</th>\n",
              "      <td>NAIBOA LATIN STORE</td>\n",
              "      <td>3349 N CLARK ST</td>\n",
              "      <td>NAIBOA LATIN STORE</td>\n",
              "      <td>RETAIL STORE</td>\n",
              "      <td>2019-12-04T00:00:00.000</td>\n",
              "      <td>2352702</td>\n",
              "      <td>LICENSE</td>\n",
              "      <td>41.943032</td>\n",
              "      <td>2698776.0</td>\n",
              "      <td>{'latitude': '-87.65299525711882', 'longitude'...</td>\n",
              "      <td>-87.652995</td>\n",
              "      <td>Lake View</td>\n",
              "      <td>Pass w/ Conditions</td>\n",
              "      <td>3</td>\n",
              "      <td>5. PROCEDURES FOR RESPONDING TO VOMITING AND D...</td>\n",
              "      <td>60657.0</td>\n",
              "    </tr>\n",
              "    <tr>\n",
              "      <th>7</th>\n",
              "      <td>JAMIESON PUBLIC SCHOOL</td>\n",
              "      <td>5650 N MOZART</td>\n",
              "      <td>JAMIESON</td>\n",
              "      <td>SCHOOL</td>\n",
              "      <td>2019-12-04T00:00:00.000</td>\n",
              "      <td>2352718</td>\n",
              "      <td>CANVASS</td>\n",
              "      <td>41.984614</td>\n",
              "      <td>23931.0</td>\n",
              "      <td>{'latitude': '-87.70056525028134', 'longitude'...</td>\n",
              "      <td>-87.700565</td>\n",
              "      <td>West Ridge</td>\n",
              "      <td>Pass</td>\n",
              "      <td>1</td>\n",
              "      <td>49. NON-FOOD/FOOD CONTACT SURFACES CLEAN - Com...</td>\n",
              "      <td>60659.0</td>\n",
              "    </tr>\n",
              "    <tr>\n",
              "      <th>9</th>\n",
              "      <td>BLUE LINE</td>\n",
              "      <td>1548 N DAMEN AVE</td>\n",
              "      <td>BLUE LINE</td>\n",
              "      <td>RESTAURANT</td>\n",
              "      <td>2019-12-03T00:00:00.000</td>\n",
              "      <td>2352629</td>\n",
              "      <td>CANVASS</td>\n",
              "      <td>41.909616</td>\n",
              "      <td>1170410.0</td>\n",
              "      <td>{'latitude': '-87.6775884711046', 'longitude':...</td>\n",
              "      <td>-87.677588</td>\n",
              "      <td>Wicker Park</td>\n",
              "      <td>Pass w/ Conditions</td>\n",
              "      <td>1</td>\n",
              "      <td>25. CONSUMER ADVISORY PROVIDED FOR RAW/UNDERCO...</td>\n",
              "      <td>60622.0</td>\n",
              "    </tr>\n",
              "    <tr>\n",
              "      <th>13</th>\n",
              "      <td>BRIGADOON</td>\n",
              "      <td>5748 W LAWRENCE AVE</td>\n",
              "      <td>BRIGADOON</td>\n",
              "      <td>TAVERN</td>\n",
              "      <td>2019-12-03T00:00:00.000</td>\n",
              "      <td>2352677</td>\n",
              "      <td>COMPLAINT</td>\n",
              "      <td>41.967838</td>\n",
              "      <td>12144.0</td>\n",
              "      <td>{'latitude': '-87.7716235051089', 'longitude':...</td>\n",
              "      <td>-87.771624</td>\n",
              "      <td>Portage Park</td>\n",
              "      <td>Pass w/ Conditions</td>\n",
              "      <td>3</td>\n",
              "      <td>3. MANAGEMENT, FOOD EMPLOYEE AND CONDITIONAL E...</td>\n",
              "      <td>60630.0</td>\n",
              "    </tr>\n",
              "    <tr>\n",
              "      <th>14</th>\n",
              "      <td>HARRY CARAY'S SHORTSTOP</td>\n",
              "      <td>5700 S CICERO AVE</td>\n",
              "      <td>HARRY CARAYS SHORTSTOP</td>\n",
              "      <td>RESTAURANT</td>\n",
              "      <td>2019-12-03T00:00:00.000</td>\n",
              "      <td>2352653</td>\n",
              "      <td>CANVASS</td>\n",
              "      <td>41.789329</td>\n",
              "      <td>2689813.0</td>\n",
              "      <td>{'latitude': '-87.74164564419637', 'longitude'...</td>\n",
              "      <td>-87.741646</td>\n",
              "      <td>Garfield Ridge</td>\n",
              "      <td>Pass</td>\n",
              "      <td>1</td>\n",
              "      <td>45. SINGLE-USE/SINGLE-SERVICE ARTICLES: PROPER...</td>\n",
              "      <td>60638.0</td>\n",
              "    </tr>\n",
              "    <tr>\n",
              "      <th>17</th>\n",
              "      <td>SUBWAY</td>\n",
              "      <td>615 W LAKE ST</td>\n",
              "      <td>SUBWAY</td>\n",
              "      <td>RESTAURANT</td>\n",
              "      <td>2019-12-03T00:00:00.000</td>\n",
              "      <td>2352617</td>\n",
              "      <td>LICENSE</td>\n",
              "      <td>41.885594</td>\n",
              "      <td>2703766.0</td>\n",
              "      <td>{'latitude': '-87.64346245829006', 'longitude'...</td>\n",
              "      <td>-87.643462</td>\n",
              "      <td>West Loop</td>\n",
              "      <td>Pass w/ Conditions</td>\n",
              "      <td>1</td>\n",
              "      <td>3. MANAGEMENT, FOOD EMPLOYEE AND CONDITIONAL E...</td>\n",
              "      <td>60661.0</td>\n",
              "    </tr>\n",
              "    <tr>\n",
              "      <th>19</th>\n",
              "      <td>AMARIT RESTAURANT</td>\n",
              "      <td>600 S DEARBORN ST</td>\n",
              "      <td>AMARIT RESTAURANT</td>\n",
              "      <td>RESTAURANT</td>\n",
              "      <td>2019-12-03T00:00:00.000</td>\n",
              "      <td>2352649</td>\n",
              "      <td>CANVASS</td>\n",
              "      <td>41.874481</td>\n",
              "      <td>1801618.0</td>\n",
              "      <td>{'latitude': '-87.62935653990546', 'longitude'...</td>\n",
              "      <td>-87.629357</td>\n",
              "      <td>Printers Row</td>\n",
              "      <td>Fail</td>\n",
              "      <td>1</td>\n",
              "      <td>10. ADEQUATE HANDWASHING SINKS PROPERLY SUPPLI...</td>\n",
              "      <td>60605.0</td>\n",
              "    </tr>\n",
              "  </tbody>\n",
              "</table>\n",
              "</div>"
            ],
            "text/plain": [
              "                   AKA Name  ...      Zip\n",
              "0    CHIPOTLE MEXICAN GRILL  ...  60613.0\n",
              "1          CHILI'S (T1-B14)  ...  60666.0\n",
              "2                       NaN  ...  60618.0\n",
              "6        NAIBOA LATIN STORE  ...  60657.0\n",
              "7    JAMIESON PUBLIC SCHOOL  ...  60659.0\n",
              "9                 BLUE LINE  ...  60622.0\n",
              "13                BRIGADOON  ...  60630.0\n",
              "14  HARRY CARAY'S SHORTSTOP  ...  60638.0\n",
              "17                   SUBWAY  ...  60661.0\n",
              "19        AMARIT RESTAURANT  ...  60605.0\n",
              "\n",
              "[10 rows x 16 columns]"
            ]
          },
          "metadata": {
            "tags": []
          },
          "execution_count": 232
        }
      ]
    },
    {
      "cell_type": "markdown",
      "metadata": {
        "id": "fCjsqIlWdSY7",
        "colab_type": "text"
      },
      "source": [
        "### **Violations analysis - facilities that have not gone out of business**"
      ]
    },
    {
      "cell_type": "code",
      "metadata": {
        "id": "c17Vg__XqE5U",
        "colab_type": "code",
        "colab": {
          "base_uri": "https://localhost:8080/",
          "height": 230
        },
        "outputId": "e4a68b1f-2e7e-4382-d4b9-df89d66d7f33"
      },
      "source": [
        "violations_not_oob = set_diff_oob['Violations'].apply(lambda x: re.findall(r'^[0-9]+[.] | [|] [0-9]+[.] ', x))\n",
        "violations_not_oob = pd.DataFrame(violations_not_oob)\n",
        "violation_nums_not_oob = violations_not_oob['Violations'].apply(lambda x: [int(sub.replace('|','').split('.')[0]) for sub in x])\n",
        "violation_nums_not_oob"
      ],
      "execution_count": 233,
      "outputs": [
        {
          "output_type": "execute_result",
          "data": {
            "text/plain": [
              "0                                                  [3]\n",
              "1                                 [10, 47, 49, 55, 55]\n",
              "2                               [3, 5, 16, 51, 53, 58]\n",
              "6                                      [5, 36, 51, 53]\n",
              "7                                         [49, 55, 56]\n",
              "                              ...                     \n",
              "192171                    [12, 21, 33, 34, 35, 38, 41]\n",
              "192173                            [32, 33, 35, 38, 40]\n",
              "192174                            [33, 34, 35, 38, 41]\n",
              "192175                             [9, 32, 33, 35, 36]\n",
              "192180    [18, 19, 32, 33, 34, 35, 36, 37, 38, 39, 41]\n",
              "Name: Violations, Length: 98109, dtype: object"
            ]
          },
          "metadata": {
            "tags": []
          },
          "execution_count": 233
        }
      ]
    },
    {
      "cell_type": "code",
      "metadata": {
        "id": "8pJUR7fdxOjZ",
        "colab_type": "code",
        "colab": {
          "base_uri": "https://localhost:8080/",
          "height": 352
        },
        "outputId": "68bc8d82-7495-4c78-a0c6-14a00689d994"
      },
      "source": [
        "violation_nums_not_oob = pd.DataFrame(violation_nums_not_oob)\n",
        "violation_nums_not_oob.reset_index(inplace=True)\n",
        "violation_nums_not_oob.drop(columns='index', inplace=True)\n",
        "violation_nums_not_oob.head(10)"
      ],
      "execution_count": 234,
      "outputs": [
        {
          "output_type": "execute_result",
          "data": {
            "text/html": [
              "<div>\n",
              "<style scoped>\n",
              "    .dataframe tbody tr th:only-of-type {\n",
              "        vertical-align: middle;\n",
              "    }\n",
              "\n",
              "    .dataframe tbody tr th {\n",
              "        vertical-align: top;\n",
              "    }\n",
              "\n",
              "    .dataframe thead th {\n",
              "        text-align: right;\n",
              "    }\n",
              "</style>\n",
              "<table border=\"1\" class=\"dataframe\">\n",
              "  <thead>\n",
              "    <tr style=\"text-align: right;\">\n",
              "      <th></th>\n",
              "      <th>Violations</th>\n",
              "    </tr>\n",
              "  </thead>\n",
              "  <tbody>\n",
              "    <tr>\n",
              "      <th>0</th>\n",
              "      <td>[3]</td>\n",
              "    </tr>\n",
              "    <tr>\n",
              "      <th>1</th>\n",
              "      <td>[10, 47, 49, 55, 55]</td>\n",
              "    </tr>\n",
              "    <tr>\n",
              "      <th>2</th>\n",
              "      <td>[3, 5, 16, 51, 53, 58]</td>\n",
              "    </tr>\n",
              "    <tr>\n",
              "      <th>3</th>\n",
              "      <td>[5, 36, 51, 53]</td>\n",
              "    </tr>\n",
              "    <tr>\n",
              "      <th>4</th>\n",
              "      <td>[49, 55, 56]</td>\n",
              "    </tr>\n",
              "    <tr>\n",
              "      <th>5</th>\n",
              "      <td>[25]</td>\n",
              "    </tr>\n",
              "    <tr>\n",
              "      <th>6</th>\n",
              "      <td>[3, 5, 10, 49, 51, 53, 55, 55]</td>\n",
              "    </tr>\n",
              "    <tr>\n",
              "      <th>7</th>\n",
              "      <td>[45, 55]</td>\n",
              "    </tr>\n",
              "    <tr>\n",
              "      <th>8</th>\n",
              "      <td>[3, 5, 57]</td>\n",
              "    </tr>\n",
              "    <tr>\n",
              "      <th>9</th>\n",
              "      <td>[10, 10, 10, 23, 25, 39, 50, 52, 55, 55, 56]</td>\n",
              "    </tr>\n",
              "  </tbody>\n",
              "</table>\n",
              "</div>"
            ],
            "text/plain": [
              "                                     Violations\n",
              "0                                           [3]\n",
              "1                          [10, 47, 49, 55, 55]\n",
              "2                        [3, 5, 16, 51, 53, 58]\n",
              "3                               [5, 36, 51, 53]\n",
              "4                                  [49, 55, 56]\n",
              "5                                          [25]\n",
              "6                [3, 5, 10, 49, 51, 53, 55, 55]\n",
              "7                                      [45, 55]\n",
              "8                                    [3, 5, 57]\n",
              "9  [10, 10, 10, 23, 25, 39, 50, 52, 55, 55, 56]"
            ]
          },
          "metadata": {
            "tags": []
          },
          "execution_count": 234
        }
      ]
    },
    {
      "cell_type": "code",
      "metadata": {
        "id": "skm89c9LxbHD",
        "colab_type": "code",
        "colab": {}
      },
      "source": [
        "vio_freq_not_oob = {}\n",
        "for i in violation_nums_not_oob['Violations']:\n",
        "  for j in i:\n",
        "    vio_freq_not_oob[str(j)] = 1 if str(j) not in vio_freq_not_oob else vio_freq_not_oob[str(j)]+1"
      ],
      "execution_count": 0,
      "outputs": []
    },
    {
      "cell_type": "code",
      "metadata": {
        "id": "kfQyr41NzuMJ",
        "colab_type": "code",
        "colab": {
          "base_uri": "https://localhost:8080/",
          "height": 295
        },
        "outputId": "9bfb9e82-2dde-4a1a-b3fa-9af540973384"
      },
      "source": [
        "plt.figure(figsize=(17,4))\n",
        "plt.bar(list(vio_freq_not_oob.keys()), vio_freq_not_oob.values())\n",
        "plt.title('Violation Types vs. Their Frequencies in Out of Business Facilities')\n",
        "plt.xlabel('Violation Types')\n",
        "plt.ylabel('Frequency')\n",
        "plt.show()"
      ],
      "execution_count": 236,
      "outputs": [
        {
          "output_type": "display_data",
          "data": {
            "image/png": "[encoded data removed]",
            "text/plain": [
              "<Figure size 1224x288 with 1 Axes>"
            ]
          },
          "metadata": {
            "tags": []
          }
        }
      ]
    },
    {
      "cell_type": "code",
      "metadata": {
        "id": "UeJ6lWmlzuuM",
        "colab_type": "code",
        "colab": {}
      },
      "source": [
        "sorted_vio_freq_not_oob = {}\n",
        "\n",
        "for key in sorted(vio_freq_not_oob, key=vio_freq_not_oob.__getitem__, reverse=True):\n",
        "  sorted_vio_freq_not_oob[key] = vio_freq_not_oob[key]"
      ],
      "execution_count": 0,
      "outputs": []
    },
    {
      "cell_type": "code",
      "metadata": {
        "id": "VQo1P1buxm2r",
        "colab_type": "code",
        "colab": {
          "base_uri": "https://localhost:8080/",
          "height": 295
        },
        "outputId": "70bc906b-6883-4435-ca94-bdeb3a870657"
      },
      "source": [
        "plt.figure(figsize=(17,4))\n",
        "plt.bar(list(sorted_vio_freq_not_oob.keys()), sorted_vio_freq_not_oob.values())\n",
        "plt.title('Violation Types vs. Their Frequencies in Facilities that have not Gone Out of Business')\n",
        "plt.xlabel('Violation Types')\n",
        "plt.ylabel('Frequency')\n",
        "plt.show()"
      ],
      "execution_count": 238,
      "outputs": [
        {
          "output_type": "display_data",
          "data": {
            "image/png": "[encoded data removed]",
            "text/plain": [
              "<Figure size 1224x288 with 1 Axes>"
            ]
          },
          "metadata": {
            "tags": []
          }
        }
      ]
    },
    {
      "cell_type": "code",
      "metadata": {
        "id": "DGwn_xr2yHRD",
        "colab_type": "code",
        "colab": {
          "base_uri": "https://localhost:8080/",
          "height": 284
        },
        "outputId": "24e210c6-cfdd-4de8-f9c1-92c6ee9895b1"
      },
      "source": [
        "most_freq_vio_not_oob = [key for key, value in list(sorted_vio_freq_not_oob.items())[0:15]]\n",
        "most_freq_vio_not_oob # top 10 most frequent violation types among facilities that went out of business"
      ],
      "execution_count": 239,
      "outputs": [
        {
          "output_type": "execute_result",
          "data": {
            "text/plain": [
              "['34',\n",
              " '35',\n",
              " '33',\n",
              " '38',\n",
              " '32',\n",
              " '41',\n",
              " '36',\n",
              " '55',\n",
              " '3',\n",
              " '5',\n",
              " '18',\n",
              " '30',\n",
              " '40',\n",
              " '37',\n",
              " '47']"
            ]
          },
          "metadata": {
            "tags": []
          },
          "execution_count": 239
        }
      ]
    },
    {
      "cell_type": "code",
      "metadata": {
        "id": "RWCSBy3hyNj9",
        "colab_type": "code",
        "colab": {}
      },
      "source": [
        "# Inspections of facilities that didn't go out of business\n",
        " set_diff_not_oob = pd.concat([df, merged_oob, merged_oob], sort=True).drop_duplicates(keep=False, subset=['Latitude', 'Longitude', 'DBA Name', 'License #', 'Inspection Date'])"
      ],
      "execution_count": 0,
      "outputs": []
    },
    {
      "cell_type": "code",
      "metadata": {
        "id": "sUTUHZBUyZLe",
        "colab_type": "code",
        "colab": {
          "base_uri": "https://localhost:8080/",
          "height": 1000
        },
        "outputId": "e2732579-d3f9-45ad-b421-a1a40df57f25"
      },
      "source": [
        "set_diff_not_oob.dropna(subset=['Violations'], inplace=True) # the inspections that have violations (not out of business facilities)\n",
        "set_diff_not_oob.head(10)"
      ],
      "execution_count": 241,
      "outputs": [
        {
          "output_type": "execute_result",
          "data": {
            "text/html": [
              "<div>\n",
              "<style scoped>\n",
              "    .dataframe tbody tr th:only-of-type {\n",
              "        vertical-align: middle;\n",
              "    }\n",
              "\n",
              "    .dataframe tbody tr th {\n",
              "        vertical-align: top;\n",
              "    }\n",
              "\n",
              "    .dataframe thead th {\n",
              "        text-align: right;\n",
              "    }\n",
              "</style>\n",
              "<table border=\"1\" class=\"dataframe\">\n",
              "  <thead>\n",
              "    <tr style=\"text-align: right;\">\n",
              "      <th></th>\n",
              "      <th>AKA Name</th>\n",
              "      <th>Address</th>\n",
              "      <th>DBA Name</th>\n",
              "      <th>Facility Type</th>\n",
              "      <th>Inspection Date</th>\n",
              "      <th>Inspection ID</th>\n",
              "      <th>Inspection Type</th>\n",
              "      <th>Latitude</th>\n",
              "      <th>License #</th>\n",
              "      <th>Location</th>\n",
              "      <th>Longitude</th>\n",
              "      <th>Regions</th>\n",
              "      <th>Results</th>\n",
              "      <th>Risk</th>\n",
              "      <th>Violations</th>\n",
              "      <th>Zip</th>\n",
              "    </tr>\n",
              "  </thead>\n",
              "  <tbody>\n",
              "    <tr>\n",
              "      <th>0</th>\n",
              "      <td>CHIPOTLE MEXICAN GRILL</td>\n",
              "      <td>1025 W ADDISON ST</td>\n",
              "      <td>CHIPOTLE MEXICAN GRILL</td>\n",
              "      <td>RESTAURANT</td>\n",
              "      <td>2019-12-04T00:00:00.000</td>\n",
              "      <td>2352683</td>\n",
              "      <td>LICENSE</td>\n",
              "      <td>41.947118</td>\n",
              "      <td>2670642.0</td>\n",
              "      <td>{'latitude': '-87.6553811622124', 'longitude':...</td>\n",
              "      <td>-87.655381</td>\n",
              "      <td>Wrigleyville</td>\n",
              "      <td>Pass w/ Conditions</td>\n",
              "      <td>1</td>\n",
              "      <td>3. MANAGEMENT, FOOD EMPLOYEE AND CONDITIONAL E...</td>\n",
              "      <td>60613.0</td>\n",
              "    </tr>\n",
              "    <tr>\n",
              "      <th>1</th>\n",
              "      <td>CHILI'S (T1-B14)</td>\n",
              "      <td>11601 W TOUHY AVE</td>\n",
              "      <td>CHILIS T-I</td>\n",
              "      <td>RESTAURANT</td>\n",
              "      <td>2019-12-04T00:00:00.000</td>\n",
              "      <td>2352734</td>\n",
              "      <td>CANVASS</td>\n",
              "      <td>42.008536</td>\n",
              "      <td>34169.0</td>\n",
              "      <td>{'latitude': '-87.91442843927047', 'longitude'...</td>\n",
              "      <td>-87.914428</td>\n",
              "      <td>O'Hare</td>\n",
              "      <td>Pass</td>\n",
              "      <td>1</td>\n",
              "      <td>10. ADEQUATE HANDWASHING SINKS PROPERLY SUPPLI...</td>\n",
              "      <td>60666.0</td>\n",
              "    </tr>\n",
              "    <tr>\n",
              "      <th>2</th>\n",
              "      <td>NaN</td>\n",
              "      <td>3401 W BELMONT AVE</td>\n",
              "      <td>TAQUERIA BLUE LINE</td>\n",
              "      <td>RESTAURANT</td>\n",
              "      <td>2019-12-04T00:00:00.000</td>\n",
              "      <td>2352701</td>\n",
              "      <td>LICENSE</td>\n",
              "      <td>41.939168</td>\n",
              "      <td>2703436.0</td>\n",
              "      <td>{'latitude': '-87.71254599117191', 'longitude'...</td>\n",
              "      <td>-87.712546</td>\n",
              "      <td>Avondale</td>\n",
              "      <td>Pass w/ Conditions</td>\n",
              "      <td>1</td>\n",
              "      <td>3. MANAGEMENT, FOOD EMPLOYEE AND CONDITIONAL E...</td>\n",
              "      <td>60618.0</td>\n",
              "    </tr>\n",
              "    <tr>\n",
              "      <th>6</th>\n",
              "      <td>NAIBOA LATIN STORE</td>\n",
              "      <td>3349 N CLARK ST</td>\n",
              "      <td>NAIBOA LATIN STORE</td>\n",
              "      <td>RETAIL STORE</td>\n",
              "      <td>2019-12-04T00:00:00.000</td>\n",
              "      <td>2352702</td>\n",
              "      <td>LICENSE</td>\n",
              "      <td>41.943032</td>\n",
              "      <td>2698776.0</td>\n",
              "      <td>{'latitude': '-87.65299525711882', 'longitude'...</td>\n",
              "      <td>-87.652995</td>\n",
              "      <td>Lake View</td>\n",
              "      <td>Pass w/ Conditions</td>\n",
              "      <td>3</td>\n",
              "      <td>5. PROCEDURES FOR RESPONDING TO VOMITING AND D...</td>\n",
              "      <td>60657.0</td>\n",
              "    </tr>\n",
              "    <tr>\n",
              "      <th>7</th>\n",
              "      <td>JAMIESON PUBLIC SCHOOL</td>\n",
              "      <td>5650 N MOZART</td>\n",
              "      <td>JAMIESON</td>\n",
              "      <td>SCHOOL</td>\n",
              "      <td>2019-12-04T00:00:00.000</td>\n",
              "      <td>2352718</td>\n",
              "      <td>CANVASS</td>\n",
              "      <td>41.984614</td>\n",
              "      <td>23931.0</td>\n",
              "      <td>{'latitude': '-87.70056525028134', 'longitude'...</td>\n",
              "      <td>-87.700565</td>\n",
              "      <td>West Ridge</td>\n",
              "      <td>Pass</td>\n",
              "      <td>1</td>\n",
              "      <td>49. NON-FOOD/FOOD CONTACT SURFACES CLEAN - Com...</td>\n",
              "      <td>60659.0</td>\n",
              "    </tr>\n",
              "    <tr>\n",
              "      <th>9</th>\n",
              "      <td>BLUE LINE</td>\n",
              "      <td>1548 N DAMEN AVE</td>\n",
              "      <td>BLUE LINE</td>\n",
              "      <td>RESTAURANT</td>\n",
              "      <td>2019-12-03T00:00:00.000</td>\n",
              "      <td>2352629</td>\n",
              "      <td>CANVASS</td>\n",
              "      <td>41.909616</td>\n",
              "      <td>1170410.0</td>\n",
              "      <td>{'latitude': '-87.6775884711046', 'longitude':...</td>\n",
              "      <td>-87.677588</td>\n",
              "      <td>Wicker Park</td>\n",
              "      <td>Pass w/ Conditions</td>\n",
              "      <td>1</td>\n",
              "      <td>25. CONSUMER ADVISORY PROVIDED FOR RAW/UNDERCO...</td>\n",
              "      <td>60622.0</td>\n",
              "    </tr>\n",
              "    <tr>\n",
              "      <th>13</th>\n",
              "      <td>BRIGADOON</td>\n",
              "      <td>5748 W LAWRENCE AVE</td>\n",
              "      <td>BRIGADOON</td>\n",
              "      <td>TAVERN</td>\n",
              "      <td>2019-12-03T00:00:00.000</td>\n",
              "      <td>2352677</td>\n",
              "      <td>COMPLAINT</td>\n",
              "      <td>41.967838</td>\n",
              "      <td>12144.0</td>\n",
              "      <td>{'latitude': '-87.7716235051089', 'longitude':...</td>\n",
              "      <td>-87.771624</td>\n",
              "      <td>Portage Park</td>\n",
              "      <td>Pass w/ Conditions</td>\n",
              "      <td>3</td>\n",
              "      <td>3. MANAGEMENT, FOOD EMPLOYEE AND CONDITIONAL E...</td>\n",
              "      <td>60630.0</td>\n",
              "    </tr>\n",
              "    <tr>\n",
              "      <th>14</th>\n",
              "      <td>HARRY CARAY'S SHORTSTOP</td>\n",
              "      <td>5700 S CICERO AVE</td>\n",
              "      <td>HARRY CARAYS SHORTSTOP</td>\n",
              "      <td>RESTAURANT</td>\n",
              "      <td>2019-12-03T00:00:00.000</td>\n",
              "      <td>2352653</td>\n",
              "      <td>CANVASS</td>\n",
              "      <td>41.789329</td>\n",
              "      <td>2689813.0</td>\n",
              "      <td>{'latitude': '-87.74164564419637', 'longitude'...</td>\n",
              "      <td>-87.741646</td>\n",
              "      <td>Garfield Ridge</td>\n",
              "      <td>Pass</td>\n",
              "      <td>1</td>\n",
              "      <td>45. SINGLE-USE/SINGLE-SERVICE ARTICLES: PROPER...</td>\n",
              "      <td>60638.0</td>\n",
              "    </tr>\n",
              "    <tr>\n",
              "      <th>17</th>\n",
              "      <td>SUBWAY</td>\n",
              "      <td>615 W LAKE ST</td>\n",
              "      <td>SUBWAY</td>\n",
              "      <td>RESTAURANT</td>\n",
              "      <td>2019-12-03T00:00:00.000</td>\n",
              "      <td>2352617</td>\n",
              "      <td>LICENSE</td>\n",
              "      <td>41.885594</td>\n",
              "      <td>2703766.0</td>\n",
              "      <td>{'latitude': '-87.64346245829006', 'longitude'...</td>\n",
              "      <td>-87.643462</td>\n",
              "      <td>West Loop</td>\n",
              "      <td>Pass w/ Conditions</td>\n",
              "      <td>1</td>\n",
              "      <td>3. MANAGEMENT, FOOD EMPLOYEE AND CONDITIONAL E...</td>\n",
              "      <td>60661.0</td>\n",
              "    </tr>\n",
              "    <tr>\n",
              "      <th>19</th>\n",
              "      <td>AMARIT RESTAURANT</td>\n",
              "      <td>600 S DEARBORN ST</td>\n",
              "      <td>AMARIT RESTAURANT</td>\n",
              "      <td>RESTAURANT</td>\n",
              "      <td>2019-12-03T00:00:00.000</td>\n",
              "      <td>2352649</td>\n",
              "      <td>CANVASS</td>\n",
              "      <td>41.874481</td>\n",
              "      <td>1801618.0</td>\n",
              "      <td>{'latitude': '-87.62935653990546', 'longitude'...</td>\n",
              "      <td>-87.629357</td>\n",
              "      <td>Printers Row</td>\n",
              "      <td>Fail</td>\n",
              "      <td>1</td>\n",
              "      <td>10. ADEQUATE HANDWASHING SINKS PROPERLY SUPPLI...</td>\n",
              "      <td>60605.0</td>\n",
              "    </tr>\n",
              "  </tbody>\n",
              "</table>\n",
              "</div>"
            ],
            "text/plain": [
              "                   AKA Name  ...      Zip\n",
              "0    CHIPOTLE MEXICAN GRILL  ...  60613.0\n",
              "1          CHILI'S (T1-B14)  ...  60666.0\n",
              "2                       NaN  ...  60618.0\n",
              "6        NAIBOA LATIN STORE  ...  60657.0\n",
              "7    JAMIESON PUBLIC SCHOOL  ...  60659.0\n",
              "9                 BLUE LINE  ...  60622.0\n",
              "13                BRIGADOON  ...  60630.0\n",
              "14  HARRY CARAY'S SHORTSTOP  ...  60638.0\n",
              "17                   SUBWAY  ...  60661.0\n",
              "19        AMARIT RESTAURANT  ...  60605.0\n",
              "\n",
              "[10 rows x 16 columns]"
            ]
          },
          "metadata": {
            "tags": []
          },
          "execution_count": 241
        }
      ]
    },
    {
      "cell_type": "markdown",
      "metadata": {
        "id": "A85HB-qx1Lg4",
        "colab_type": "text"
      },
      "source": [
        "Our aim was to detect any violation type that could result into the facilities going out of business. From our data analysis, we found that most violation types are common between those that went out of business and those that have not. Only Violation Types 21, 31, and 43 are more prevalent in facilities that have gone out of business, but are not so prevalent in those that have not gone out of business."
      ]
    },
    {
      "cell_type": "markdown",
      "metadata": {
        "id": "VUSui_GqgDLt",
        "colab_type": "text"
      },
      "source": [
        "### **Distribution of number of violations committed in each inspection (in facilities that went out of business)**"
      ]
    },
    {
      "cell_type": "code",
      "metadata": {
        "id": "acuT4Yk6eHFi",
        "colab_type": "code",
        "colab": {}
      },
      "source": [
        "num_vio_oob = []\n",
        "for i in violation_nums_oob['Violations']:\n",
        "  num_vio_oob.append(len(i))"
      ],
      "execution_count": 0,
      "outputs": []
    },
    {
      "cell_type": "code",
      "metadata": {
        "id": "cbqgYw6meZ8d",
        "colab_type": "code",
        "colab": {
          "base_uri": "https://localhost:8080/",
          "height": 295
        },
        "outputId": "d5857768-81a2-48bc-9493-1d668d4eaf15"
      },
      "source": [
        "plt.hist(num_vio_oob, bins=15)\n",
        "plt.title('Distribution of number of violations committed in each inspection (in oob facilities)')\n",
        "plt.xlabel('Number of violations committed in an inspection')\n",
        "plt.ylabel('Inspection counts')\n",
        "plt.show()"
      ],
      "execution_count": 287,
      "outputs": [
        {
          "output_type": "display_data",
          "data": {
            "image/png": "[encoded data removed]",
            "text/plain": [
              "<Figure size 432x288 with 1 Axes>"
            ]
          },
          "metadata": {
            "tags": []
          }
        }
      ]
    },
    {
      "cell_type": "code",
      "metadata": {
        "id": "cWO95lsMgrDG",
        "colab_type": "code",
        "colab": {
          "base_uri": "https://localhost:8080/",
          "height": 52
        },
        "outputId": "540e10b3-e441-44d3-943b-c1cd92488ab2"
      },
      "source": [
        "print('Average number of violations committed in each inspection (OOB): ' + str(np.mean(num_vio_oob)))\n",
        "print('Median number of violations committed in each inspection (OOB): ' + str(np.median(num_vio_oob)))"
      ],
      "execution_count": 288,
      "outputs": [
        {
          "output_type": "stream",
          "text": [
            "Average number of violations committed in each inspection (OOB): 4.502968051757487\n",
            "Median number of violations committed in each inspection (OOB): 4.0\n"
          ],
          "name": "stdout"
        }
      ]
    },
    {
      "cell_type": "markdown",
      "metadata": {
        "id": "J5TRf7RQgIF_",
        "colab_type": "text"
      },
      "source": [
        "### **Distribution of number of violations committed in each inspection (in facilities that did NOT go out of business)**"
      ]
    },
    {
      "cell_type": "code",
      "metadata": {
        "id": "0ZW2Yw_ygLH0",
        "colab_type": "code",
        "colab": {}
      },
      "source": [
        "num_vio_not_oob = []\n",
        "for i in violation_nums_not_oob['Violations']:\n",
        "  num_vio_not_oob.append(len(i))"
      ],
      "execution_count": 0,
      "outputs": []
    },
    {
      "cell_type": "code",
      "metadata": {
        "id": "th11K_GdgbEz",
        "colab_type": "code",
        "colab": {
          "base_uri": "https://localhost:8080/",
          "height": 295
        },
        "outputId": "87a8de66-d074-48f9-fc87-45855bd0ca22"
      },
      "source": [
        "plt.hist(num_vio_not_oob, bins=15)\n",
        "plt.title('Distribution of number of violations committed in each inspection (in NOT oob facilities)')\n",
        "plt.xlabel('Number of violations in committed in an inspection')\n",
        "plt.ylabel('Inspection counts')\n",
        "plt.show()"
      ],
      "execution_count": 286,
      "outputs": [
        {
          "output_type": "display_data",
          "data": {
            "image/png": "[encoded data removed]",
            "text/plain": [
              "<Figure size 432x288 with 1 Axes>"
            ]
          },
          "metadata": {
            "tags": []
          }
        }
      ]
    },
    {
      "cell_type": "code",
      "metadata": {
        "id": "hn4hEM26hJEy",
        "colab_type": "code",
        "colab": {
          "base_uri": "https://localhost:8080/",
          "height": 52
        },
        "outputId": "c55728c2-8fd4-46ed-9bd7-46193e6b1f30"
      },
      "source": [
        "print('Average number of violations committed in each inspection (not OOB): ' + str(np.mean(num_vio_not_oob)))\n",
        "print('Median number of violations committed in each inspection (not OOB): ' + str(np.median(num_vio_not_oob)))"
      ],
      "execution_count": 289,
      "outputs": [
        {
          "output_type": "stream",
          "text": [
            "Average number of violations committed in each inspection (not OOB): 4.3773456053980775\n",
            "Median number of violations committed in each inspection (not OOB): 4.0\n"
          ],
          "name": "stdout"
        }
      ]
    },
    {
      "cell_type": "markdown",
      "metadata": {
        "id": "niCNNQTlRFP6",
        "colab_type": "text"
      },
      "source": [
        "We observe that the average number of violations committed in each inspection in facilities that went out of business is higher than those that have not went out of business. "
      ]
    },
    {
      "cell_type": "markdown",
      "metadata": {
        "id": "kmhCqOVkZ8sm",
        "colab_type": "text"
      },
      "source": [
        "### **Distribution of total number of violations facilities commit before going out of business**"
      ]
    },
    {
      "cell_type": "code",
      "metadata": {
        "id": "pxPRncZyhe9-",
        "colab_type": "code",
        "colab": {
          "base_uri": "https://localhost:8080/",
          "height": 1000
        },
        "outputId": "8707d283-f187-468d-9451-7cc247ec9f33"
      },
      "source": [
        "oob_grouped_by_fac = merged_oob.groupby('Facility Type')\n",
        "oob_grouped_by_fac.head()\n",
        "# TODO"
      ],
      "execution_count": 293,
      "outputs": [
        {
          "output_type": "execute_result",
          "data": {
            "text/html": [
              "<div>\n",
              "<style scoped>\n",
              "    .dataframe tbody tr th:only-of-type {\n",
              "        vertical-align: middle;\n",
              "    }\n",
              "\n",
              "    .dataframe tbody tr th {\n",
              "        vertical-align: top;\n",
              "    }\n",
              "\n",
              "    .dataframe thead th {\n",
              "        text-align: right;\n",
              "    }\n",
              "</style>\n",
              "<table border=\"1\" class=\"dataframe\">\n",
              "  <thead>\n",
              "    <tr style=\"text-align: right;\">\n",
              "      <th></th>\n",
              "      <th>Latitude</th>\n",
              "      <th>Longitude</th>\n",
              "      <th>DBA Name</th>\n",
              "      <th>License #</th>\n",
              "      <th>Inspection ID</th>\n",
              "      <th>AKA Name</th>\n",
              "      <th>Facility Type</th>\n",
              "      <th>Risk</th>\n",
              "      <th>Address</th>\n",
              "      <th>Zip</th>\n",
              "      <th>Inspection Date</th>\n",
              "      <th>Inspection Type</th>\n",
              "      <th>Results</th>\n",
              "      <th>Violations</th>\n",
              "      <th>Location</th>\n",
              "      <th>Regions</th>\n",
              "    </tr>\n",
              "  </thead>\n",
              "  <tbody>\n",
              "    <tr>\n",
              "      <th>0</th>\n",
              "      <td>41.644670</td>\n",
              "      <td>-87.540095</td>\n",
              "      <td>BURGER KING</td>\n",
              "      <td>1473518.0</td>\n",
              "      <td>1527281</td>\n",
              "      <td>BURGER KING #7268</td>\n",
              "      <td>RESTAURANT</td>\n",
              "      <td>2</td>\n",
              "      <td>13770 S AVENUE O</td>\n",
              "      <td>60633.0</td>\n",
              "      <td>2015-02-23T00:00:00.000</td>\n",
              "      <td>CANVASS</td>\n",
              "      <td>Out of Business</td>\n",
              "      <td>NaN</td>\n",
              "      <td>{'latitude': '-87.5400946053766', 'longitude':...</td>\n",
              "      <td>Hegewisch</td>\n",
              "    </tr>\n",
              "    <tr>\n",
              "      <th>1</th>\n",
              "      <td>41.644670</td>\n",
              "      <td>-87.540095</td>\n",
              "      <td>BURGER KING</td>\n",
              "      <td>1473518.0</td>\n",
              "      <td>1494060</td>\n",
              "      <td>BURGER KING #7268</td>\n",
              "      <td>RESTAURANT</td>\n",
              "      <td>2</td>\n",
              "      <td>13770 S AVENUE O</td>\n",
              "      <td>60633.0</td>\n",
              "      <td>2014-08-26T00:00:00.000</td>\n",
              "      <td>CANVASS</td>\n",
              "      <td>Pass</td>\n",
              "      <td>NaN</td>\n",
              "      <td>{'latitude': '-87.5400946053766', 'longitude':...</td>\n",
              "      <td>Hegewisch</td>\n",
              "    </tr>\n",
              "    <tr>\n",
              "      <th>2</th>\n",
              "      <td>41.644670</td>\n",
              "      <td>-87.540095</td>\n",
              "      <td>BURGER KING</td>\n",
              "      <td>1473518.0</td>\n",
              "      <td>1493718</td>\n",
              "      <td>BURGER KING #7268</td>\n",
              "      <td>RESTAURANT</td>\n",
              "      <td>2</td>\n",
              "      <td>13770 S AVENUE O</td>\n",
              "      <td>60633.0</td>\n",
              "      <td>2014-08-18T00:00:00.000</td>\n",
              "      <td>CANVASS</td>\n",
              "      <td>Fail</td>\n",
              "      <td>12. HAND WASHING FACILITIES: WITH SOAP AND SAN...</td>\n",
              "      <td>{'latitude': '-87.5400946053766', 'longitude':...</td>\n",
              "      <td>Hegewisch</td>\n",
              "    </tr>\n",
              "    <tr>\n",
              "      <th>3</th>\n",
              "      <td>41.644670</td>\n",
              "      <td>-87.540095</td>\n",
              "      <td>BURGER KING</td>\n",
              "      <td>1473518.0</td>\n",
              "      <td>1300984</td>\n",
              "      <td>BURGER KING #7268</td>\n",
              "      <td>RESTAURANT</td>\n",
              "      <td>2</td>\n",
              "      <td>13770 S AVENUE O</td>\n",
              "      <td>60633.0</td>\n",
              "      <td>2012-12-19T00:00:00.000</td>\n",
              "      <td>CANVASS</td>\n",
              "      <td>Pass w/ Conditions</td>\n",
              "      <td>21. * CERTIFIED FOOD MANAGER ON SITE WHEN POTE...</td>\n",
              "      <td>{'latitude': '-87.5400946053766', 'longitude':...</td>\n",
              "      <td>Hegewisch</td>\n",
              "    </tr>\n",
              "    <tr>\n",
              "      <th>4</th>\n",
              "      <td>41.644670</td>\n",
              "      <td>-87.540095</td>\n",
              "      <td>BURGER KING</td>\n",
              "      <td>1473518.0</td>\n",
              "      <td>537818</td>\n",
              "      <td>BURGER KING #7268</td>\n",
              "      <td>RESTAURANT</td>\n",
              "      <td>2</td>\n",
              "      <td>13770 S AVENUE O</td>\n",
              "      <td>60633.0</td>\n",
              "      <td>2012-01-10T00:00:00.000</td>\n",
              "      <td>COMPLAINT</td>\n",
              "      <td>Pass w/ Conditions</td>\n",
              "      <td>8. SANITIZING RINSE FOR EQUIPMENT AND UTENSILS...</td>\n",
              "      <td>{'latitude': '-87.5400946053766', 'longitude':...</td>\n",
              "      <td>Hegewisch</td>\n",
              "    </tr>\n",
              "    <tr>\n",
              "      <th>...</th>\n",
              "      <td>...</td>\n",
              "      <td>...</td>\n",
              "      <td>...</td>\n",
              "      <td>...</td>\n",
              "      <td>...</td>\n",
              "      <td>...</td>\n",
              "      <td>...</td>\n",
              "      <td>...</td>\n",
              "      <td>...</td>\n",
              "      <td>...</td>\n",
              "      <td>...</td>\n",
              "      <td>...</td>\n",
              "      <td>...</td>\n",
              "      <td>...</td>\n",
              "      <td>...</td>\n",
              "      <td>...</td>\n",
              "    </tr>\n",
              "    <tr>\n",
              "      <th>55146</th>\n",
              "      <td>41.947783</td>\n",
              "      <td>-87.654199</td>\n",
              "      <td>WRIGLEY FIELD ROOFTOP CLUB</td>\n",
              "      <td>1897994.0</td>\n",
              "      <td>1360377</td>\n",
              "      <td>WRIGLEY FIELD ROOFTOP CLUB</td>\n",
              "      <td>ROOFTOP</td>\n",
              "      <td>1</td>\n",
              "      <td>3617 N SHEFFIELD AVE</td>\n",
              "      <td>60613.0</td>\n",
              "      <td>2013-08-20T00:00:00.000</td>\n",
              "      <td>CANVASS</td>\n",
              "      <td>Out of Business</td>\n",
              "      <td>NaN</td>\n",
              "      <td>{'latitude': '-87.65419933912196', 'longitude'...</td>\n",
              "      <td>Lake View</td>\n",
              "    </tr>\n",
              "    <tr>\n",
              "      <th>55147</th>\n",
              "      <td>41.947783</td>\n",
              "      <td>-87.654199</td>\n",
              "      <td>WRIGLEY FIELD ROOFTOP CLUB</td>\n",
              "      <td>1897994.0</td>\n",
              "      <td>114851</td>\n",
              "      <td>WRIGLEY FIELD ROOFTOP CLUB</td>\n",
              "      <td>ROOFTOP</td>\n",
              "      <td>1</td>\n",
              "      <td>3617 N SHEFFIELD AVE</td>\n",
              "      <td>60613.0</td>\n",
              "      <td>2011-03-30T00:00:00.000</td>\n",
              "      <td>CANVASS</td>\n",
              "      <td>Pass</td>\n",
              "      <td>NaN</td>\n",
              "      <td>{'latitude': '-87.65419933912196', 'longitude'...</td>\n",
              "      <td>Lake View</td>\n",
              "    </tr>\n",
              "    <tr>\n",
              "      <th>55148</th>\n",
              "      <td>41.947783</td>\n",
              "      <td>-87.654199</td>\n",
              "      <td>WRIGLEY FIELD ROOFTOP CLUB</td>\n",
              "      <td>1897994.0</td>\n",
              "      <td>251296</td>\n",
              "      <td>WRIGLEY FIELD ROOFTOP CLUB</td>\n",
              "      <td>ROOFTOP</td>\n",
              "      <td>1</td>\n",
              "      <td>3617 N SHEFFIELD AVE</td>\n",
              "      <td>60613.0</td>\n",
              "      <td>2010-06-25T00:00:00.000</td>\n",
              "      <td>CANVASS</td>\n",
              "      <td>Pass</td>\n",
              "      <td>NaN</td>\n",
              "      <td>{'latitude': '-87.65419933912196', 'longitude'...</td>\n",
              "      <td>Lake View</td>\n",
              "    </tr>\n",
              "    <tr>\n",
              "      <th>55154</th>\n",
              "      <td>41.947839</td>\n",
              "      <td>-87.654201</td>\n",
              "      <td>SHEFFIELD BASEBALL CLUB</td>\n",
              "      <td>1771479.0</td>\n",
              "      <td>1567023</td>\n",
              "      <td>SHEFFIELD BASEBALL CLUB</td>\n",
              "      <td>ROOFTOP</td>\n",
              "      <td>1</td>\n",
              "      <td>3619 N SHEFFIELD AVE</td>\n",
              "      <td>60613.0</td>\n",
              "      <td>2015-09-01T00:00:00.000</td>\n",
              "      <td>CANVASS</td>\n",
              "      <td>Out of Business</td>\n",
              "      <td>NaN</td>\n",
              "      <td>{'latitude': '-87.654200864501', 'longitude': ...</td>\n",
              "      <td>Lake View</td>\n",
              "    </tr>\n",
              "    <tr>\n",
              "      <th>55155</th>\n",
              "      <td>41.947839</td>\n",
              "      <td>-87.654201</td>\n",
              "      <td>SHEFFIELD BASEBALL CLUB</td>\n",
              "      <td>1771479.0</td>\n",
              "      <td>1559597</td>\n",
              "      <td>SHEFFIELD BASEBALL CLUB</td>\n",
              "      <td>ROOFTOP</td>\n",
              "      <td>1</td>\n",
              "      <td>3619 N SHEFFIELD AVE</td>\n",
              "      <td>60613.0</td>\n",
              "      <td>2015-06-25T00:00:00.000</td>\n",
              "      <td>CANVASS</td>\n",
              "      <td>Pass</td>\n",
              "      <td>33. FOOD AND NON-FOOD CONTACT EQUIPMENT UTENSI...</td>\n",
              "      <td>{'latitude': '-87.654200864501', 'longitude': ...</td>\n",
              "      <td>Lake View</td>\n",
              "    </tr>\n",
              "  </tbody>\n",
              "</table>\n",
              "<p>207 rows × 16 columns</p>\n",
              "</div>"
            ],
            "text/plain": [
              "        Latitude  ...    Regions\n",
              "0      41.644670  ...  Hegewisch\n",
              "1      41.644670  ...  Hegewisch\n",
              "2      41.644670  ...  Hegewisch\n",
              "3      41.644670  ...  Hegewisch\n",
              "4      41.644670  ...  Hegewisch\n",
              "...          ...  ...        ...\n",
              "55146  41.947783  ...  Lake View\n",
              "55147  41.947783  ...  Lake View\n",
              "55148  41.947783  ...  Lake View\n",
              "55154  41.947839  ...  Lake View\n",
              "55155  41.947839  ...  Lake View\n",
              "\n",
              "[207 rows x 16 columns]"
            ]
          },
          "metadata": {
            "tags": []
          },
          "execution_count": 293
        }
      ]
    },
    {
      "cell_type": "markdown",
      "metadata": {
        "id": "yUp4yFCridfP",
        "colab_type": "text"
      },
      "source": [
        "### **Average risk of oob facilities vs. Average risk of NOT oob facilities**"
      ]
    },
    {
      "cell_type": "code",
      "metadata": {
        "id": "7DQyhN35OTq4",
        "colab_type": "code",
        "colab": {
          "base_uri": "https://localhost:8080/",
          "height": 35
        },
        "outputId": "1162bfe6-1adc-4ce7-d7b2-d28adc735d6a"
      },
      "source": [
        "merged_oob['Risk'].mean()"
      ],
      "execution_count": 253,
      "outputs": [
        {
          "output_type": "execute_result",
          "data": {
            "text/plain": [
              "1.360430373200793"
            ]
          },
          "metadata": {
            "tags": []
          },
          "execution_count": 253
        }
      ]
    },
    {
      "cell_type": "code",
      "metadata": {
        "id": "VJbtVESdO2ta",
        "colab_type": "code",
        "colab": {
          "base_uri": "https://localhost:8080/",
          "height": 35
        },
        "outputId": "26163eba-3701-48c7-bd1f-7240a46f2521"
      },
      "source": [
        "set_diff_oob['Risk'].mean()"
      ],
      "execution_count": 254,
      "outputs": [
        {
          "output_type": "execute_result",
          "data": {
            "text/plain": [
              "1.2982600984619148"
            ]
          },
          "metadata": {
            "tags": []
          },
          "execution_count": 254
        }
      ]
    },
    {
      "cell_type": "code",
      "metadata": {
        "id": "rLHrymqvPiOL",
        "colab_type": "code",
        "colab": {
          "base_uri": "https://localhost:8080/",
          "height": 35
        },
        "outputId": "3f81e0e8-8801-430e-e1d3-be8e60c638a4"
      },
      "source": [
        "set_diff_not_oob['Risk'].mean() #TODO: why are these two the same??"
      ],
      "execution_count": 255,
      "outputs": [
        {
          "output_type": "execute_result",
          "data": {
            "text/plain": [
              "1.2982600984619148"
            ]
          },
          "metadata": {
            "tags": []
          },
          "execution_count": 255
        }
      ]
    },
    {
      "cell_type": "markdown",
      "metadata": {
        "colab_type": "text",
        "id": "Mszu9K9MHDk1"
      },
      "source": [
        "### **Average number of violations of each facility type (OOB)**\n"
      ]
    },
    {
      "cell_type": "markdown",
      "metadata": {
        "colab_type": "text",
        "id": "VvKCu5nhejb0"
      },
      "source": [
        "### **Average number of violations of each facility type (not OOB)**\n"
      ]
    },
    {
      "cell_type": "markdown",
      "metadata": {
        "id": "8x9xjsqAX1i3",
        "colab_type": "text"
      },
      "source": [
        "### **Average number of each violation type facilities commit before going out of business**"
      ]
    },
    {
      "cell_type": "markdown",
      "metadata": {
        "id": "Vy1TK-w_GHKm",
        "colab_type": "text"
      },
      "source": [
        "### **Does the frequency of inspections increase once you fail?**\n",
        "\n",
        "\n"
      ]
    },
    {
      "cell_type": "markdown",
      "metadata": {
        "id": "kCcCYtxFXmlu",
        "colab_type": "text"
      },
      "source": [
        "### **Average number of total violations facilities commit before going out of business**  "
      ]
    },
    {
      "cell_type": "markdown",
      "metadata": {
        "id": "nQr5lMSLoZSK",
        "colab_type": "text"
      },
      "source": [
        "## **Our plan for the future:**\n",
        "\n"
      ]
    },
    {
      "cell_type": "markdown",
      "metadata": {
        "id": "YYzLurHcsoX8",
        "colab_type": "text"
      },
      "source": [
        "- Analyze neighborhoods, taking a deep look into the locations of the facilities, and plotting the neighborhoods on the map (adding the region names on the map)\n",
        "- Look for hidden reasons why facilities go out of business, taking NLP approaches to process and find out the most frequent violation types\n",
        "- The trends (risk, violation types, pass/fail results, etc.) facilities follow until they go out of business\n",
        "- Look for the #1 violation type of the neighborhood\n",
        "- Prepare poster presentation"
      ]
    }
  ]
}